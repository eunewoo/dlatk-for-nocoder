{
  "cells": [
    {
      "cell_type": "markdown",
      "metadata": {
        "id": "view-in-github",
        "colab_type": "text"
      },
      "source": [
        "<a href=\"https://colab.research.google.com/github/eunewoo/dlatk-for-nocoder/blob/main/Copy_of_Practice_of_DLATK2_2_Colab_Tutorial_for_Differential_Language_Analysis_(Getting_Started).ipynb\" target=\"_parent\"><img src=\"https://colab.research.google.com/assets/colab-badge.svg\" alt=\"Open In Colab\"/></a>"
      ]
    },
    {
      "cell_type": "markdown",
      "metadata": {
        "id": "0Jf8iKr5C_nO"
      },
      "source": [
        "<h1> DLATK - Colab Tutorial for Differential Language Analysis </h1>\n",
        "\n",
        "This tutorial covers:\n",
        "\n",
        "<img src=\"https://drive.google.com/uc?export=view&id=16SgSLj9KkmxUX8LEeFNsq0GRE4gqvQux\" height=\"170\"/>"
      ]
    },
    {
      "cell_type": "markdown",
      "metadata": {
        "id": "-TnZ_cBOTGBZ"
      },
      "source": [
        "# STEP1: Setup Colab\n"
      ]
    },
    {
      "cell_type": "code",
      "source": [
        "#@markdown Click the __Play button__ to the left to start the setup. Proceed to the next stage once you see:\n",
        "\n",
        "#@markdown \"DLATK setup completed successfully. Enjoy your analysis!\"\n",
        "\n",
        "from IPython.utils import io\n",
        "import subprocess\n",
        "\n",
        "def setup_dlatk():\n",
        "    # Install DLATK with additional features\n",
        "    subprocess.run(\"pip install dlatk[wordcloud,langid]\", shell=True)\n",
        "\n",
        "    # Initialize DLATK for Colab environment\n",
        "    result = subprocess.run(\"dlatkInterface.py --colabify\", shell=True, capture_output=True, text=True)\n",
        "\n",
        "    # Optional: Adjust Colab output for a better experience\n",
        "    try:\n",
        "        from dlatk.tools.colab_methods import colab_shorten_and_bg\n",
        "        colab_shorten_and_bg()  # This shortens output blocks and changes the output background color.\n",
        "    except ImportError as e:\n",
        "        print(\"Some optional setup steps failed:\", e)\n",
        "\n",
        "    return result.stdout + '\\n' + result.stderr\n",
        "\n",
        "# Suppressing the output of the main installation and setup commands\n",
        "with io.capture_output() as captured:\n",
        "    setup_output = setup_dlatk()\n",
        "\n",
        "# Check the captured output for a specific success message\n",
        "if 'DLATK exits with success! A good day indeed' in setup_output:\n",
        "    print(\"DLATK setup completed successfully. Enjoy your analysis!\")\n",
        "else:\n",
        "    print(\"DLATK setup may have encountered issues. Please check the logs for more details.\")\n"
      ],
      "metadata": {
        "id": "a2iGmGWKdcO5",
        "outputId": "f75692bd-245c-4eca-e493-21f4735a70e4",
        "colab": {
          "base_uri": "https://localhost:8080/"
        }
      },
      "execution_count": 1,
      "outputs": [
        {
          "output_type": "stream",
          "name": "stdout",
          "text": [
            "DLATK setup completed successfully. Enjoy your analysis!\n"
          ]
        }
      ]
    },
    {
      "cell_type": "markdown",
      "source": [
        "<a name=\"data\"></a>\n",
        "# STEP2: Upload text data & Select text column"
      ],
      "metadata": {
        "id": "36sjhFU1RGZF"
      }
    },
    {
      "cell_type": "markdown",
      "source": [
        "DLATK uses data in CSV (comma-seprated value) format. Your csv needs at least two columns:\n",
        "* **`message`**: contains the text to be analyzed.\n",
        "* **`user_id`**: contains a user id for each message.\n",
        "\n",
        "<br />\n",
        "\n",
        "The CSV may also have other columns, including other ids you may wish to analyze your data by (e.g. `message_id`). For example,\n",
        "\n",
        "|message_id|message|user_id|created_date|\n",
        "|----------|-------|-------|------------|\n",
        "|17557|urlLink Ananova - New rules on pizza to be introduced|1405024|2004-05-27|\n",
        "|15996|I just read John Kerry's nomination acceptance speech. Christ, he can talk.  God bless America.|3523319|2004-07-29|\n",
        "|27462| Talk about 'better late than never'...   urlLink  Couple Living Together 77 Years Marries   .   Thanks to  urlLink  Zorak  for the link.|942828|2003-04-04|\n",
        "\n",
        "<br />\n",
        "<br />\n",
        "\n",
        "\n",
        "\n",
        "* `Upload from desktop` - your csv data that you want to analyze.\n",
        "* `msgs404u.csv` - sample language data from 404 blog authors.\n",
        "<!-- * `msgs100u.csv` - sample language data from 100 blog authors. -->\n",
        "\n",
        "<br />"
      ],
      "metadata": {
        "id": "K0ya5V1JTZxO"
      }
    },
    {
      "cell_type": "code",
      "source": [
        "import re\n",
        "from google.colab import files\n",
        "import os\n",
        "import csv\n",
        "\n",
        "#@title Upload text data\n",
        "#@markdown ### Select text Dataset or Upload from Desktop\n",
        "#@markdown Choose a text dataset from the dropdown, or select \"Upload from desktop\" to upload your own file.\n",
        "\n",
        "#@markdown After making your selection, click the __play button__ at the top left to proceed.\n",
        "\n",
        "text_filename = \"msgs404u.csv\" #@param [\"Upload from desktop\", \"msgs404u.csv\"]\n",
        "\n",
        "#@markdown If \"Upload from desktop\" is selected, then click the __\"Choose Files\"__ button at the bottom to upload your file.\n",
        "\n",
        "def sanitize_file_name(file_name):\n",
        "    base_file_name = re.sub(r\" \\(\\d+\\)\", \"\", file_name)\n",
        "    if not base_file_name.endswith('.csv'):\n",
        "        base_file_name += '.csv'\n",
        "    return base_file_name\n",
        "\n",
        "def add_message_id_if_missing(file_path):\n",
        "    headers_changed = False\n",
        "    with open(file_path, mode='r', encoding='utf-8') as file:\n",
        "        reader = csv.reader(file)\n",
        "        headers = next(reader, None)\n",
        "\n",
        "        if headers and 'message_id' not in headers:\n",
        "            headers_changed = True\n",
        "            new_rows = [['message_id'] + headers]\n",
        "            new_rows += [[str(i+1)] + row for i, row in enumerate(reader)]\n",
        "\n",
        "    if headers_changed:\n",
        "        with open(file_path, mode='w', encoding='utf-8', newline='') as file:\n",
        "            writer = csv.writer(file)\n",
        "            writer.writerows(new_rows)\n",
        "        print(\"Added 'message_id' column and saved changes.\")\n",
        "    else:\n",
        "        print(\"'message_id' column already exists.\")\n",
        "\n",
        "    #return new_rows\n",
        "\n",
        "if text_filename != \"Upload from desktop\":\n",
        "    file_name = sanitize_file_name(text_filename)\n",
        "    file_path = os.path.join(\"/content\", file_name)\n",
        "    print(f'Text file selected: {file_name}')\n",
        "else:\n",
        "    print(\"Please upload a file from the desktop.\")\n",
        "    uploaded_files = files.upload()\n",
        "    if uploaded_files:\n",
        "        file_name = next(iter(uploaded_files))\n",
        "        file_name = sanitize_file_name(file_name)\n",
        "        file_path = os.path.join(\"/content\", file_name)\n",
        "        headers = add_message_id_if_missing(file_path)\n",
        "        add_message_id_if_missing(file_path)\n",
        "        print(f'Uploaded file name: {file_name}')\n",
        "    else:\n",
        "        print(\"No file uploaded. Please upload a file to proceed.\")\n",
        "\n",
        "if os.path.exists(file_path):\n",
        "    print(f'File ready for use: {file_path}')\n",
        "else:\n",
        "    print(\"File not found. Please ensure the file exists and try again.\")\n"
      ],
      "metadata": {
        "id": "jVMIUBu_9D0H",
        "colab": {
          "base_uri": "https://localhost:8080/",
          "height": 52
        },
        "outputId": "7a6b78ee-ad37-4ded-9b36-2ca0468d820c",
        "cellView": "form"
      },
      "execution_count": 2,
      "outputs": [
        {
          "output_type": "display_data",
          "data": {
            "text/plain": [
              "<IPython.core.display.Javascript object>"
            ],
            "application/javascript": [
              "google.colab.output.setIframeHeight(0, true, {maxHeight: 250})"
            ]
          },
          "metadata": {}
        },
        {
          "output_type": "display_data",
          "data": {
            "text/plain": [
              "<IPython.core.display.HTML object>"
            ],
            "text/html": [
              "<style> body {background-color: rgb(255, 250, 232);}</style>"
            ]
          },
          "metadata": {}
        },
        {
          "output_type": "stream",
          "name": "stdout",
          "text": [
            "Text file selected: msgs404u.csv\n",
            "File ready for use: /content/msgs404u.csv\n"
          ]
        }
      ]
    },
    {
      "cell_type": "code",
      "source": [
        "#@title Select Text Column (unit of analysis)\n",
        "\n",
        "#@markdown Click the __play button__ at the top left to view the dropdown menu.\n",
        "\n",
        "#@markdown __Select__ the Text Column you wish to analyze, then click the \"Run Command\" button.\n",
        "\n",
        "import csv\n",
        "import ipywidgets as widgets\n",
        "from IPython.display import display, clear_output\n",
        "\n",
        "def get_available_columns(file_path):\n",
        "    \"\"\"Read the first row of the CSV file to get the column names.\"\"\"\n",
        "    with open(file_path, mode='r', encoding='utf-8') as file:\n",
        "        reader = csv.reader(file)\n",
        "        headers = next(reader, None)\n",
        "    return headers\n",
        "\n",
        "available_columns = get_available_columns(file_path)\n",
        "\n",
        "text_column_options = [col for col in available_columns if col != \"user\" and not col.endswith(\"_id\")]\n",
        "text_column_dropdown = widgets.Dropdown(options=text_column_options, description='Text Column:')\n",
        "text_confirm_button = widgets.Button(description=\"Confirm Text Column\")\n",
        "output = widgets.Output()\n",
        "\n",
        "def on_text_confirm_button_clicked(b):\n",
        "    global text_column_name\n",
        "    text_column_name = text_column_dropdown.value\n",
        "    with output:\n",
        "        clear_output()\n",
        "        print(f'Text Column confirmed: {text_column_name}')\n",
        "        # Now you should run the next code block to select the ID column\n",
        "\n",
        "text_confirm_button.on_click(on_text_confirm_button_clicked)\n",
        "display(text_column_dropdown, text_confirm_button, output)\n"
      ],
      "metadata": {
        "colab": {
          "base_uri": "https://localhost:8080/",
          "height": 98,
          "referenced_widgets": [
            "3a7ba747edbf4fc9ba862d6463f9700d",
            "99bf68e853ee4c80a796f8926caa44c1",
            "24f657ea4ec3430f8a36109aeb1aaad9",
            "c3bdb03eee704d72a0c2de4be2f5d032",
            "0385b1aa4b8f4e6bbddf1f10979eda22",
            "3bb62cfa58ff4aff8dc8760ff7167428",
            "43c274077c1b4f01bcf1dd93f901f09a",
            "7bc7a701ca934aa1b174d83d718634d1"
          ]
        },
        "id": "1JDrQ2WK2pTV",
        "outputId": "b4b16ba7-efa5-4dcd-cf6c-f716b475d311"
      },
      "execution_count": 3,
      "outputs": [
        {
          "output_type": "display_data",
          "data": {
            "text/plain": [
              "<IPython.core.display.Javascript object>"
            ],
            "application/javascript": [
              "google.colab.output.setIframeHeight(0, true, {maxHeight: 250})"
            ]
          },
          "metadata": {}
        },
        {
          "output_type": "display_data",
          "data": {
            "text/plain": [
              "<IPython.core.display.HTML object>"
            ],
            "text/html": [
              "<style> body {background-color: rgb(255, 250, 232);}</style>"
            ]
          },
          "metadata": {}
        },
        {
          "output_type": "display_data",
          "data": {
            "text/plain": [
              "Dropdown(description='Text Column:', options=('created_date', 'message'), value='created_date')"
            ],
            "application/vnd.jupyter.widget-view+json": {
              "version_major": 2,
              "version_minor": 0,
              "model_id": "3a7ba747edbf4fc9ba862d6463f9700d"
            }
          },
          "metadata": {}
        },
        {
          "output_type": "display_data",
          "data": {
            "text/plain": [
              "Button(description='Confirm Text Column', style=ButtonStyle())"
            ],
            "application/vnd.jupyter.widget-view+json": {
              "version_major": 2,
              "version_minor": 0,
              "model_id": "c3bdb03eee704d72a0c2de4be2f5d032"
            }
          },
          "metadata": {}
        },
        {
          "output_type": "display_data",
          "data": {
            "text/plain": [
              "Output()"
            ],
            "application/vnd.jupyter.widget-view+json": {
              "version_major": 2,
              "version_minor": 0,
              "model_id": "43c274077c1b4f01bcf1dd93f901f09a"
            }
          },
          "metadata": {}
        }
      ]
    },
    {
      "cell_type": "code",
      "source": [
        "#@title Select ID Column (unit of analysis)\n",
        "\n",
        "#@markdown Click the __play button__ at the top left to view the dropdown menu.\n",
        "\n",
        "#@markdown __Select__ the ID Column you wish to analyze, then click the \"Confirm ID Column\" button.\n",
        "\n",
        "import csv\n",
        "import ipywidgets as widgets\n",
        "from IPython.display import display, clear_output\n",
        "\n",
        "# Assuming 'file_path' is defined and accessible\n",
        "# Assuming 'text_column_name' is defined and accessible (selected from Code A)\n",
        "\n",
        "def get_available_columns(file_path):\n",
        "    \"\"\"Read the first row of the CSV file to get the column names.\"\"\"\n",
        "    with open(file_path, mode='r', encoding='utf-8') as file:\n",
        "        reader = csv.reader(file)\n",
        "        headers = next(reader, None)\n",
        "    return headers\n",
        "\n",
        "def add_id_column_if_missing(file_path, column_name):\n",
        "    \"\"\"Adds an ID column if it's missing, appending numbers from 1 upwards to the end of each row.\"\"\"\n",
        "    with open(file_path, mode='r', encoding='utf-8') as file:\n",
        "        reader = list(csv.reader(file))\n",
        "        headers = reader[0]\n",
        "        column_id_name = column_name + '_id'\n",
        "        if column_id_name not in headers:\n",
        "            headers.append(column_id_name)  # Append the new ID column name to the headers\n",
        "            for i, row in enumerate(reader[1:], start=1):  # Start from 1 to skip header row\n",
        "                row.append(str(i))  # Append the new ID value at the end of each row\n",
        "            with open(file_path, mode='w', encoding='utf-8', newline='') as wfile:\n",
        "                writer = csv.writer(wfile)\n",
        "                writer.writerow(headers)  # Write the updated headers\n",
        "                writer.writerows(reader[1:])  # Write the updated data rows, excluding the original headers\n",
        "            print(f\"Added '{column_id_name}' column and saved changes.\")\n",
        "            return True\n",
        "    return False\n",
        "\n",
        "# Attempt to add an ID column if missing\n",
        "add_id_column_if_missing(file_path, text_column_name)\n",
        "\n",
        "# Refresh available columns to include potential new ID column\n",
        "available_columns = get_available_columns(file_path)\n",
        "\n",
        "# Include all columns ending with \"_id\" and the new ID column related to the selected text column\n",
        "id_column_options = [col for col in available_columns if col.endswith(\"_id\")]\n",
        "\n",
        "id_column_dropdown = widgets.Dropdown(options=id_column_options, description='ID Column:', value=None)\n",
        "id_confirm_button = widgets.Button(description=\"Confirm ID Column\")\n",
        "output = widgets.Output()\n",
        "\n",
        "def on_id_confirm_button_clicked(b):\n",
        "    global id_column_name\n",
        "    id_column_name = id_column_dropdown.value\n",
        "    with output:\n",
        "        clear_output()\n",
        "        print(f'ID Column confirmed: {id_column_name}')\n",
        "\n",
        "id_confirm_button.on_click(on_id_confirm_button_clicked)\n",
        "display(id_column_dropdown, id_confirm_button, output)\n"
      ],
      "metadata": {
        "colab": {
          "base_uri": "https://localhost:8080/",
          "height": 98,
          "referenced_widgets": [
            "0eda97ddac244821b67ae18ff5b16955",
            "4355af7b2b8a4b3887cc983a3db190ed",
            "ed305470ff844df8a845153759a80b9c",
            "b9163371a9a8456f89121dac4a2d3ecb",
            "4934916f60764dc794fa2e83f2f53978",
            "6995e7cd565f415bbf0fb28f0fe48eaf",
            "1729a297c2654297ba4cdec8b6ec469e",
            "df270bd94bea482ca4b1bf3a37983029"
          ]
        },
        "id": "T9OmVmaC4nR7",
        "outputId": "b0bf34cb-75d6-4703-83d8-dd277988c4db"
      },
      "execution_count": 4,
      "outputs": [
        {
          "output_type": "display_data",
          "data": {
            "text/plain": [
              "<IPython.core.display.Javascript object>"
            ],
            "application/javascript": [
              "google.colab.output.setIframeHeight(0, true, {maxHeight: 250})"
            ]
          },
          "metadata": {}
        },
        {
          "output_type": "display_data",
          "data": {
            "text/plain": [
              "<IPython.core.display.HTML object>"
            ],
            "text/html": [
              "<style> body {background-color: rgb(255, 250, 232);}</style>"
            ]
          },
          "metadata": {}
        },
        {
          "output_type": "display_data",
          "data": {
            "text/plain": [
              "Dropdown(description='ID Column:', options=('message_id', 'user_id'), value=None)"
            ],
            "application/vnd.jupyter.widget-view+json": {
              "version_major": 2,
              "version_minor": 0,
              "model_id": "0eda97ddac244821b67ae18ff5b16955"
            }
          },
          "metadata": {}
        },
        {
          "output_type": "display_data",
          "data": {
            "text/plain": [
              "Button(description='Confirm ID Column', style=ButtonStyle())"
            ],
            "application/vnd.jupyter.widget-view+json": {
              "version_major": 2,
              "version_minor": 0,
              "model_id": "b9163371a9a8456f89121dac4a2d3ecb"
            }
          },
          "metadata": {}
        },
        {
          "output_type": "display_data",
          "data": {
            "text/plain": [
              "Output()"
            ],
            "application/vnd.jupyter.widget-view+json": {
              "version_major": 2,
              "version_minor": 0,
              "model_id": "1729a297c2654297ba4cdec8b6ec469e"
            }
          },
          "metadata": {}
        }
      ]
    },
    {
      "cell_type": "markdown",
      "source": [
        "👉 For detailed information about the columns in the `msgs404u.csv` file, as well as their corresponding outcome files `users404.csv`, you can refer to [this link](https://github.com/dlatk/dlatk/blob/public/dlatk/data/colab_dataset.md). This link contains detailed descriptions of what each column in these datasets represents."
      ],
      "metadata": {
        "id": "c41ypjC0I85n"
      }
    },
    {
      "cell_type": "markdown",
      "source": [
        "<a name=\"data\"></a>\n",
        "# STEP3: Select features to extract & Check tables"
      ],
      "metadata": {
        "id": "RC-tXSgWTnB6"
      }
    },
    {
      "cell_type": "code",
      "source": [
        "import subprocess\n",
        "import ipywidgets as widgets\n",
        "from IPython.display import display, clear_output\n",
        "\n",
        "#@title Select features to extract\n",
        "#@markdown Click the __play button__ at the top left to view the dropdown menu.\n",
        "\n",
        "#@markdown __Select__ the features you wish to analyze, then click the \"Run Command\" button.\n",
        "\n",
        "database_name = \"colab_csv\"\n",
        "file_name_without_extension = file_name.rsplit('.', 1)[0]  # Assuming file_name is defined globally\n",
        "\n",
        "# Dropdown for feature generation options\n",
        "feature_options = widgets.Dropdown(\n",
        "    options=['Select option', '1to2grams-filtered', '1to2grams-unfiltered',  'topics'],\n",
        "    value='Select option',\n",
        "    description='Options:',\n",
        ")\n",
        "\n",
        "# Text area for displaying output\n",
        "output = widgets.Output()\n",
        "run_button = widgets.Button(description=\"Run Command\")\n",
        "generated_feature_table_name = None  # This will hold the name of the last generated feature table for reuse\n",
        "\n",
        "def generate_unfiltered_feature_table():\n",
        "    global generated_feature_table_name\n",
        "    combined_feature_table_name = \"1to2gram\"\n",
        "    command = f\"dlatkInterface.py -d {database_name} -t {file_name} -g {id_column_name} \" \\\n",
        "              f\"--message_field {text_column_name} --messageid_field {text_column_name}_id \" \\\n",
        "              f\"--add_ngrams -n 1 2 --combine_feat_tables {combined_feature_table_name}\"\n",
        "\n",
        "    print(f\"Generating unfiltered 1to2grams feature table: {command}\")\n",
        "    print(\"It will take upto 3 minutes to execute it, please wait!\")\n",
        "    subprocess.run(command, shell=True)\n",
        "    generated_feature_table_name = f\"feat${combined_feature_table_name}${file_name_without_extension}${id_column_name}\"\n",
        "    print(f\"Generated feature table: {generated_feature_table_name}\")\n",
        "\n",
        "def execute_feature_command(b):\n",
        "    global generated_feature_table_name\n",
        "\n",
        "    with output:\n",
        "        clear_output()\n",
        "        if feature_options.value == '1to2grams-unfiltered':\n",
        "            generate_unfiltered_feature_table()\n",
        "\n",
        "        elif feature_options.value == '1to2grams-filtered':\n",
        "            # if not generated_feature_table_name:\n",
        "            #     print(\"Unfiltered table not found, generating now...\")\n",
        "            #     generate_unfiltered_feature_table()\n",
        "            combined_feature_table_name = \"1to2gram\"\n",
        "            command = f\"dlatkInterface.py -d {database_name} -t {file_name} -g {id_column_name} \" \\\n",
        "                      f\"--message_field {text_column_name} --messageid_field {text_column_name}_id \" \\\n",
        "                      f\"--add_ngrams -n 1 2 --combine_feat_tables {combined_feature_table_name} \" \\\n",
        "                      f\"--feat_occ_filter --set_p_occ 0.10 --feat_colloc_filter\"\n",
        "\n",
        "            print(f\"Executing: {command}\")\n",
        "            print(\"It will take upto 3 minutes to execute it, please wait!\")\n",
        "            subprocess.run(command, shell=True)\n",
        "            generated_feature_table_name = f\"feat${combined_feature_table_name}${file_name_without_extension}${id_column_name}$0_1$pmi3_0\"\n",
        "            print(f\"Generated feature table: {generated_feature_table_name}\")\n",
        "\n",
        "        elif feature_options.value == 'topics':\n",
        "            n_topics = 20\n",
        "            lex_table_name = f\"feat$cat_fb2000_cp_w${file_name_without_extension}${id_column_name}$1gra\"\n",
        "            # command = f\"dlatkInterface.py -d {database_name} -t {file_name} -g {group_id} \" \\\n",
        "            #           f\"--group_freq_thresh 100 --add_lex_table -l nrc_sent --weighted_lexicon\"\n",
        "            command = f\"dlatkInterface.py -d {database_name} -t {file_name} -g {id_column_name} \" \\\n",
        "                      f\"--message_field {text_column_name} --messageid_field {text_column_name}_id \" \\\n",
        "                      f\"--group_freq_thresh 100 --add_lex_table -l fb2000_cp --weighted_lexicon\"\n",
        "            print(f\"Executing: {command}\")\n",
        "            print(\"It will take upto 3 minutes to execute it, please wait!\")\n",
        "            subprocess.run(command, shell=True)\n",
        "            print(f\"Generated LDA feature table: {lex_table_name}\")\n",
        "\n",
        "run_button.on_click(execute_feature_command)\n",
        "display(feature_options, run_button, output)\n"
      ],
      "metadata": {
        "colab": {
          "base_uri": "https://localhost:8080/",
          "height": 150,
          "referenced_widgets": [
            "08fc836a1fcd41ed853b6090ad98ee44",
            "77c99581c3814d4f90c88d25f122da80",
            "8c6e2ff31bee46aca3e82ad6b1cd5b39",
            "6a7e33bac41f45e1936303d0a2011ee7",
            "06c882e42be0496b920a13d750824ee9",
            "cb9aa4b26d764f1cb57296552ea95a5c",
            "eb92763626e548ccbb40a0f4350137c1",
            "d3fe0352d1df44a9b9234538145e6b33"
          ]
        },
        "id": "w6fpxvehTZSS",
        "outputId": "004bed87-38ef-4cfd-a333-165095c7dfb4"
      },
      "execution_count": 6,
      "outputs": [
        {
          "output_type": "display_data",
          "data": {
            "text/plain": [
              "<IPython.core.display.Javascript object>"
            ],
            "application/javascript": [
              "google.colab.output.setIframeHeight(0, true, {maxHeight: 250})"
            ]
          },
          "metadata": {}
        },
        {
          "output_type": "display_data",
          "data": {
            "text/plain": [
              "<IPython.core.display.HTML object>"
            ],
            "text/html": [
              "<style> body {background-color: rgb(255, 250, 232);}</style>"
            ]
          },
          "metadata": {}
        },
        {
          "output_type": "display_data",
          "data": {
            "text/plain": [
              "Dropdown(description='Options:', options=('Select option', '1to2grams-filtered', '1to2grams-unfiltered', 'topi…"
            ],
            "application/vnd.jupyter.widget-view+json": {
              "version_major": 2,
              "version_minor": 0,
              "model_id": "08fc836a1fcd41ed853b6090ad98ee44"
            }
          },
          "metadata": {}
        },
        {
          "output_type": "display_data",
          "data": {
            "text/plain": [
              "Button(description='Run Command', style=ButtonStyle())"
            ],
            "application/vnd.jupyter.widget-view+json": {
              "version_major": 2,
              "version_minor": 0,
              "model_id": "6a7e33bac41f45e1936303d0a2011ee7"
            }
          },
          "metadata": {}
        },
        {
          "output_type": "display_data",
          "data": {
            "text/plain": [
              "Output()"
            ],
            "application/vnd.jupyter.widget-view+json": {
              "version_major": 2,
              "version_minor": 0,
              "model_id": "eb92763626e548ccbb40a0f4350137c1"
            }
          },
          "metadata": {}
        }
      ]
    },
    {
      "cell_type": "code",
      "source": [
        "!dlatkInterface.py -d colab_csv -t msgs404testchat2.csv -g user_id --message_field chat --add_ngrams -n 1 2 --combine_feat_tables 1to2gram"
      ],
      "metadata": {
        "id": "bIA-BysCm9h_"
      },
      "execution_count": null,
      "outputs": []
    },
    {
      "cell_type": "code",
      "source": [
        "#@markdown Test code: Check which tables are formed so far\n",
        "\n",
        "!dlatkInterface.py \\\n",
        "  -d colab_csv -t msgs404u.csv -g message_id \\\n",
        "  --show_feat_tables"
      ],
      "metadata": {
        "colab": {
          "base_uri": "https://localhost:8080/",
          "height": 250
        },
        "id": "fD9-3UViEuli",
        "outputId": "cbd35af8-568b-4b47-86e1-ac3408ce0e15"
      },
      "execution_count": 7,
      "outputs": [
        {
          "output_type": "display_data",
          "data": {
            "text/plain": [
              "<IPython.core.display.Javascript object>"
            ],
            "application/javascript": [
              "google.colab.output.setIframeHeight(0, true, {maxHeight: 250})"
            ]
          },
          "metadata": {}
        },
        {
          "output_type": "display_data",
          "data": {
            "text/plain": [
              "<IPython.core.display.HTML object>"
            ],
            "text/html": [
              "<style> body {background-color: rgb(255, 250, 232);}</style>"
            ]
          },
          "metadata": {}
        },
        {
          "output_type": "stream",
          "name": "stdout",
          "text": [
            "\n",
            "\n",
            "TopicExtractor: gensim Mallet wrapper unavailable, using Mallet directly.\n",
            "\n",
            "-----\n",
            "DLATK Interface Initiated: 2024-04-18 20:53:19\n",
            "-----\n",
            "Connecting to SQLite database: /content/sqlite_data/colab_csv.db\n",
            "\n",
            "Found 0 available tables\n",
            "----\n",
            "-------\n",
            "Settings:\n",
            "\n",
            "Database - colab_csv\n",
            "Corpus - msgs404u.csv\n",
            "Group ID - message_id\n",
            "-------\n",
            "Interface Runtime: 0.01 seconds\n",
            "DLATK exits with success! A good day indeed  ¯\\_(ツ)_/¯.\n"
          ]
        }
      ]
    },
    {
      "cell_type": "code",
      "source": [
        "import subprocess\n",
        "import ipywidgets as widgets\n",
        "from IPython.display import display, clear_output\n",
        "\n",
        "#@title Feature Tables Management { display-mode: \"form\" }\n",
        "#@markdown **Click the play button** to display feature tables from your previously uploaded file, save your selections, and view a specific table.\n",
        "\n",
        "#@markdown After making a selection, the first 10 rows of the chosen feature table will be displayed within 3 seconds.\n",
        "\n",
        "\n",
        "\n",
        "# Mapping of user-friendly option names to their corresponding command strings\n",
        "feature_table_mapping = {\n",
        "    \"1to2grams-filtered-table\": f\"feat$1to2gram${file_name_without_extension}${id_column_name}$0_1$pmi3_0\",\n",
        "    \"1to2grams-unfiltered-table\": f\"feat$1to2gram${file_name_without_extension}${id_column_name}\",\n",
        "    \"topics-table\": f\"feat$cat_fb2000_cp_w${file_name_without_extension}${id_column_name}$1gra\"  # Adding topics-related feature table option\n",
        "}\n",
        "\n",
        "# Create a dropdown for selecting the feature table using the friendly names\n",
        "dropdown = widgets.Dropdown(\n",
        "    options=[(key, value) for key, value in feature_table_mapping.items()],\n",
        "    description='Select Table:',\n",
        "    style={'description_width': 'initial'}\n",
        ")\n",
        "\n",
        "# Text area for displaying output\n",
        "output_text_area = widgets.Output()\n",
        "\n",
        "# Button to execute the command for the selected feature table\n",
        "run_command_button = widgets.Button(description=\"Run Command\")\n",
        "\n",
        "def run_command(b):\n",
        "    selected_table = dropdown.value  # This gets the actual command string from the mapping\n",
        "    # Surround the selected_table with single quotes for the command\n",
        "    command = f\"dlatkInterface.py -d {database_name} -t {file_name} -g {id_column_name} -f '{selected_table}' --view_tables\"\n",
        "    process = subprocess.run(command, shell=True, capture_output=True, text=True)\n",
        "    with output_text_area:\n",
        "        clear_output(wait=True)  # Optionally clear previous output\n",
        "        if process.stdout:\n",
        "            print(\"Command Output:\\n\", process.stdout)\n",
        "        if process.stderr:\n",
        "            print(\"Command Error:\\n\", process.stderr)\n",
        "\n",
        "# Attach the button click event to the run_command function\n",
        "run_command_button.on_click(run_command)\n",
        "\n",
        "# Display UI components\n",
        "display(dropdown, run_command_button, output_text_area)\n"
      ],
      "metadata": {
        "colab": {
          "base_uri": "https://localhost:8080/",
          "height": 81,
          "referenced_widgets": [
            "aaf35df4c2d8404398a13ef45cd87ec7",
            "04b4997c520e477ca53ca11d5a7cc32b",
            "96d0b21e547d41a0a296e0b7b7ed180c",
            "5eef9ab1bf6c4324a36a8d76b52dce9c",
            "e11ec801406c4c43b2123add3987a3d9",
            "39e098e9b0b5484b945c7ad6925b9006",
            "d3ea875a1cce4fa189bfc853b7f25d9a",
            "b1f28e6770a64975bdf03e1df1874c86"
          ]
        },
        "id": "59hm80PcY4pi",
        "outputId": "5917e5bd-d702-493f-e6ec-7a9d992d9f53"
      },
      "execution_count": 12,
      "outputs": [
        {
          "output_type": "display_data",
          "data": {
            "text/plain": [
              "<IPython.core.display.Javascript object>"
            ],
            "application/javascript": [
              "google.colab.output.setIframeHeight(0, true, {maxHeight: 250})"
            ]
          },
          "metadata": {}
        },
        {
          "output_type": "display_data",
          "data": {
            "text/plain": [
              "<IPython.core.display.HTML object>"
            ],
            "text/html": [
              "<style> body {background-color: rgb(255, 250, 232);}</style>"
            ]
          },
          "metadata": {}
        },
        {
          "output_type": "display_data",
          "data": {
            "text/plain": [
              "Dropdown(description='Select Table:', options=(('1to2grams-filtered-table', 'feat$1to2gram$msgs404u$user_id$0_…"
            ],
            "application/vnd.jupyter.widget-view+json": {
              "version_major": 2,
              "version_minor": 0,
              "model_id": "aaf35df4c2d8404398a13ef45cd87ec7"
            }
          },
          "metadata": {}
        },
        {
          "output_type": "display_data",
          "data": {
            "text/plain": [
              "Button(description='Run Command', style=ButtonStyle())"
            ],
            "application/vnd.jupyter.widget-view+json": {
              "version_major": 2,
              "version_minor": 0,
              "model_id": "5eef9ab1bf6c4324a36a8d76b52dce9c"
            }
          },
          "metadata": {}
        },
        {
          "output_type": "display_data",
          "data": {
            "text/plain": [
              "Output()"
            ],
            "application/vnd.jupyter.widget-view+json": {
              "version_major": 2,
              "version_minor": 0,
              "model_id": "d3ea875a1cce4fa189bfc853b7f25d9a"
            }
          },
          "metadata": {}
        }
      ]
    },
    {
      "cell_type": "markdown",
      "source": [
        "<a name=\"data\"></a>\n",
        "# STEP4: Correlate outcome"
      ],
      "metadata": {
        "id": "Qwd6akU6YP7O"
      }
    },
    {
      "cell_type": "markdown",
      "metadata": {
        "id": "n0G8ppKjJCkF"
      },
      "source": [
        "Now that you have the language features, you can correlate them against outcomes like `age` while controlling for another variable like `gender`.\n",
        "\n",
        "\n",
        "<img src=\"https://drive.google.com/uc?export=view&id=11ODkDFwsfQFc-5R5o757k3Ij9XbW9_Yb\" height=\"250\" width=\"500\"/>\n",
        "\n",
        "<br/>\n",
        "\n",
        "To do this, you need to tell DLATK the feature table to use and the outcomes:\n",
        "\n",
        "* **`-f 'TABLE_NAME'`** - names of the feature table (`feat$1to2gram$msgs404u$user_id$0_2$pmi3_0` in this case)\n",
        "* **`--outcome_table NAME`** - the name of the table with outcomes (`users404.csv`, can be the message table if it contains the outcomes)\n",
        "* **`--outcomes OC1 [OC2...]`** - list of outcomes to be associated with (`age` in this case)\n",
        "* **`--controls C1 [C2...]`** - list of statistical controls for the ascociation (we will control for `gender` in this example).\n",
        "\n",
        "<br/>\n",
        "\n",
        "Then, you specify what that you want a correlation matrix output with **`--rmatrix`** flag, and because the `gender` variable is categorical, we\n",
        " **`--cat_to_bin gender`** which converts the variable into [one-hot representation](https://wandb.ai/ayush-thakur/dl-question-bank/reports/How-One-Hot-Encoding-Improves-Machine-Learning-Performance--VmlldzoxOTkzMDk).\n"
      ]
    },
    {
      "cell_type": "code",
      "execution_count": 10,
      "metadata": {
        "outputId": "f42d2ecc-7ce2-46eb-cede-7ca74d4b1714",
        "colab": {
          "base_uri": "https://localhost:8080/",
          "height": 52
        },
        "cellView": "form",
        "id": "7odAdDHac0ME"
      },
      "outputs": [
        {
          "output_type": "display_data",
          "data": {
            "text/plain": [
              "<IPython.core.display.Javascript object>"
            ],
            "application/javascript": [
              "google.colab.output.setIframeHeight(0, true, {maxHeight: 250})"
            ]
          },
          "metadata": {}
        },
        {
          "output_type": "display_data",
          "data": {
            "text/plain": [
              "<IPython.core.display.HTML object>"
            ],
            "text/html": [
              "<style> body {background-color: rgb(255, 250, 232);}</style>"
            ]
          },
          "metadata": {}
        },
        {
          "output_type": "stream",
          "name": "stdout",
          "text": [
            "Default dataset selected: users404.csv\n",
            "Dataset ready for use: /content/users404.csv\n"
          ]
        }
      ],
      "source": [
        "import re\n",
        "from google.colab import files\n",
        "import os\n",
        "\n",
        "#@title upload correlate data\n",
        "\n",
        "#@markdown Select a predefined dataset from the dropdown menu, or choose \"Upload from desktop\" to upload your own dataset.\n",
        "\n",
        "# This is a dropdown for choosing between default datasets or uploading your own\n",
        "default_dataset = \"users404.csv\" #@param [\"Upload from desktop\", \"users404.csv\"]\n",
        "\n",
        "#@markdown If you opt for desktop upload, click the \"Choose Files\" button that appears upon executing this cell.\n",
        "\n",
        "# Function to check if the file exists (for local files)\n",
        "def file_exists(file_path):\n",
        "    return os.path.exists(file_path)\n",
        "\n",
        "# Sanitizes file names to ensure they end with '.csv'\n",
        "def sanitize_file_name(file_name):\n",
        "    base_file_name = re.sub(r\" \\(\\d+\\)\", \"\", file_name)\n",
        "    if not base_file_name.endswith('.csv'):\n",
        "        base_file_name += '.csv'\n",
        "    return base_file_name\n",
        "\n",
        "file_path = None  # Initialize file_path variable\n",
        "\n",
        "if default_dataset != \"Upload from desktop\":\n",
        "    # If a default dataset is selected, set the file_path accordingly\n",
        "    outcome_table_name = sanitize_file_name(default_dataset)\n",
        "    file_path = os.path.join(\"/content\", outcome_table_name)\n",
        "    print(f'Default dataset selected: {outcome_table_name}')\n",
        "else:\n",
        "    print(\"Please upload a dataset from the desktop.\")\n",
        "    uploaded_files = files.upload()\n",
        "    if uploaded_files:\n",
        "        # Assuming only one file is uploaded, use its name\n",
        "        filename = next(iter(uploaded_files))\n",
        "        outcome_table_name = sanitize_file_name(filename)  # Sanitize the uploaded file's name\n",
        "        file_path = os.path.join(\"/content\", outcome_table_name)\n",
        "        print(f'Uploaded dataset name: {outcome_table_name}')\n",
        "    else:\n",
        "        print(\"No dataset uploaded. Please upload a dataset to proceed.\")\n",
        "\n",
        "# Verify the file's existence and readiness for use\n",
        "if file_path and file_exists(file_path):\n",
        "    print(f'Dataset ready for use: {file_path}')\n",
        "else:\n",
        "    print(\"Dataset not found. Please ensure the dataset exists and try again.\")\n"
      ]
    },
    {
      "cell_type": "code",
      "source": [
        "import ipywidgets as widgets\n",
        "from IPython.display import display, clear_output\n",
        "import csv\n",
        "\n",
        "#@title Configure Parameters\n",
        "\n",
        "#@markdown Before executing the command, please adjust the parameters below according to your dataset and analysis needs.\n",
        "\n",
        "if 'outcome_table_name' in globals():\n",
        "    # Open and read the CSV file to extract column names\n",
        "    with open(outcome_table_name, newline='') as csvfile:\n",
        "        reader = csv.reader(csvfile)\n",
        "        column_headers = next(reader, None)\n",
        "\n",
        "    if column_headers:\n",
        "        # Exclude columns containing '_id' from being displayed as checkboxes\n",
        "        filtered_column_headers = [option for option in column_headers if \"_id\" not in option]\n",
        "\n",
        "        feature_table_dropdown = widgets.Dropdown(options=feature_table_mapping, description='Feature Table:')\n",
        "\n",
        "        outcomes_title = widgets.Label('Outcomes:')\n",
        "        controls_title = widgets.Label('Controls:')\n",
        "        outcomes_widgets = {}\n",
        "        controls_widgets = {}\n",
        "        cat_to_bin_widgets = {}\n",
        "\n",
        "        # Creating the checkboxes for each column header\n",
        "        for option in filtered_column_headers:\n",
        "            outcomes_widgets[option] = widgets.Checkbox(description=option, value=False)\n",
        "            controls_widgets[option] = widgets.Checkbox(description=option, value=False)\n",
        "            # Initially invisible and will be displayed dynamically based on selection\n",
        "            cat_to_bin_widgets[option] = widgets.Checkbox(description=f'Is {option} categorical?', value=False, indent=False)\n",
        "            cat_to_bin_widgets[option].layout.display = 'none'  # Start with hidden layout\n",
        "\n",
        "        def handle_checkbox_change(change):\n",
        "            option = change.owner.description\n",
        "            if change.owner in outcomes_widgets.values() or change.owner in controls_widgets.values():\n",
        "                # Enable or disable the opposite checkbox\n",
        "                opposing_widget = controls_widgets if change.owner in outcomes_widgets.values() else outcomes_widgets\n",
        "                opposing_widget[option].disabled = change.new\n",
        "                # Dynamically display or hide the categorical checkbox\n",
        "                cat_to_bin_widgets[option].layout.display = 'flex' if change.new else 'none'\n",
        "                if not change.new:\n",
        "                    cat_to_bin_widgets[option].value = False  # Reset categorical selection when main option is deselected\n",
        "\n",
        "        for checkbox in outcomes_widgets.values():\n",
        "            checkbox.observe(handle_checkbox_change, names='value')\n",
        "        for checkbox in controls_widgets.values():\n",
        "            checkbox.observe(handle_checkbox_change, names='value')\n",
        "\n",
        "        def on_submit(change):\n",
        "            clear_output(wait=True)\n",
        "            outcomes = [k for k, v in outcomes_widgets.items() if v.value]\n",
        "            controls = [k for k, v in controls_widgets.items() if v.value]\n",
        "            cat_to_bin = [k for k, v in cat_to_bin_widgets.items() if v.value and v.layout.display != 'none']\n",
        "            feature_table_name = feature_table_dropdown.value\n",
        "            make_wordclouds = make_wordclouds_checkbox.value\n",
        "\n",
        "            command = (\n",
        "                f\"dlatkInterface.py -d {database_name} -t {file_name} -g {id_column_name} \"\n",
        "                f\"--group_freq_thresh 100 \"\n",
        "                f\"--feat_table '{feature_table_name}' \"\n",
        "                f\"--outcome_table {outcome_table_name} --outcomes {','.join(outcomes)} \"\n",
        "                f\"--controls {','.join(controls)} --cat_to_bin {','.join(cat_to_bin)} --rmatrix\"\n",
        "            )\n",
        "            if make_wordclouds:\n",
        "                command += \" --make_wordclouds\"\n",
        "            print(\"Command to execute:\", command)\n",
        "            process = subprocess.run(command, shell=True, text=True, capture_output=True)\n",
        "            print(process.stdout)\n",
        "            if process.stderr:\n",
        "                print(\"Error:\", process.stderr)\n",
        "\n",
        "        submit_button = widgets.Button(description=\"Submit\")\n",
        "        submit_button.on_click(on_submit)\n",
        "\n",
        "        make_wordclouds_title = widgets.Label('Make Wordclouds:')\n",
        "        make_wordclouds_checkbox = widgets.Checkbox(value=False, description='Enable Wordclouds')\n",
        "\n",
        "        # Display the widgets\n",
        "        display(feature_table_dropdown)\n",
        "        display(outcomes_title)\n",
        "        for option, checkbox in outcomes_widgets.items():\n",
        "            display(widgets.HBox([checkbox, cat_to_bin_widgets[option]]))  # Display them side-by-side only if selected\n",
        "        display(controls_title)\n",
        "        for option, checkbox in controls_widgets.items():\n",
        "            display(widgets.HBox([checkbox, cat_to_bin_widgets[option]]))  # Same for controls\n",
        "        display(make_wordclouds_title, make_wordclouds_checkbox, submit_button)\n",
        "\n",
        "    else:\n",
        "        print(\"Failed to read column names from the outcome table.\")\n",
        "else:\n",
        "    print(\"Outcome table name not set. Please ensure a file is uploaded in Part 1.\")\n"
      ],
      "metadata": {
        "id": "hSpaUzqJA5_w",
        "outputId": "7a91f2fe-3fbe-4245-8000-46ed9e23aa17",
        "colab": {
          "base_uri": "https://localhost:8080/",
          "height": 250,
          "referenced_widgets": [
            "9841c38687d5468bb3bf1cdb1cf21811",
            "f4adc749699244e19615e5b753e6f5bb",
            "8f3d96f438f2412badf7cc563679215e",
            "760990b7aed944af98abf6c8f9cfec02",
            "a220cb650a4f4f659938fb5a99639524",
            "034144dfab44405f9204357ca4ee2eae",
            "89ac48094fbd4a36acc205983bf4e13f",
            "e6d61181081f44588b2a33640f5f9709",
            "84fe2ab21af94239848bf00421e9134a",
            "8a4b9f8b7cdd4788b5dbe10afbb83e6c",
            "faf5e24b07b34fd2832240e06e3746f8",
            "9c3ee1a4c78b46509c2b2ad4fbb61c24",
            "68833df862724d0589a03457c1f26fb0",
            "02cbe04c1b26478c89a54831e9b6dbd2",
            "dbf2508eebd546ce88a5b4a32f32dfa1",
            "9b54aabc6e8148b997b32f8d21ceab08",
            "fb79e3660154405795f73ce8e5ef7d5b",
            "e5b28ba1b70b4485954ff8a54c618723",
            "b7618399d4c14c47ac75e7f3d83dabd3",
            "388a771aa6784833975f4138d359158c",
            "4b724ea3b9974941b043c55ccecfc299",
            "7d2dd04c8ca943d7bf07416553723e8a",
            "da58dfb6477d48199126f9bc1359c899",
            "85b153e7f3414fa69a884e613613154d",
            "c33e0e74fb6f45828bb1e8aac4def196",
            "3850dd2337bb4353950e1ea6b1f888d2",
            "94122b194dc94741ba60eea351e0adda",
            "6c20b1fc69824f01bf92df83592a0409",
            "dba9ac0c76514c1ab54377dc9caf3a8a",
            "2db51154e87f4aff9d3884bf518cf8ee",
            "87ef6673a30244a09dc74d592fd9e332",
            "c878b258f0fd464593c393df3778544d",
            "b17b17adc3ac49f5b1bef04cfde90c18",
            "fcb8a4443337486782a54c5705df6af8",
            "5577fc4b8db44b97beaa18c406f393a8",
            "d3dc8cce78dd4f2680b5c63f52b8401b",
            "9f7426adb4b243a8b32932d42c8f343a",
            "0598e2cc704543d1b855446319dc5915",
            "ad2f5ad24b424da3b4385d373c8eade3",
            "b4c6fb1b902d4ea096f341a66008ec79",
            "517cbc466ae547c496582f03b208ab51",
            "166514e580b6450e95f62504a480d3af",
            "e5ad3e6fa74b480e9c1324f160de41b3",
            "33b4209e91d64c2a81a2625bca196436",
            "a75de5aa32e44d14ba69e25b7b0734d7",
            "4befc6a325a14c34b4d817b4320583a7",
            "a18eda424b8e4efca0b119e0f47059b8",
            "0866508f491b4651be1772d8f02c444b",
            "1657223d6d4f4a10bed1a99d17da4dc9",
            "21ed7e77d91046ddb64ae7c69c04f2cc",
            "a7731de71f134d5faa5045f4d39d6203",
            "11c0475ad2ee4362abfd344f181e5f07",
            "36b64f5a65bc4b69a3fb22f5c5c3acd3",
            "0dc3450e19f74a4b81ef41b31925d5f2",
            "bc88c559b7074f03b4ea6a510ded727f",
            "17a0ee883857480c91865441727f65c0",
            "afcb2370556f43dcb9fbd8014100c075",
            "4c8f31cadf884564b90e12402e47e8b2",
            "089e7054281047b6ab8bdf6f7904ddc4",
            "9885aa67231249768e0685b2e688f4b3",
            "f2f2e9ec980e4a04b3aa953116324e6a",
            "0e06f3d0d03a45b09e45b5311e78c556",
            "6b135e82abdc4166b50cf47851d7691d",
            "f608d91b354043bfb2b6a3dfab301349",
            "3b5ed29d53f246978ef43169abf5eb12",
            "b36eb410d2594599b2d2d5aa30665316",
            "cb249ccf670647bba64a1b09737653b9",
            "847d6c8fbd9b44bba86ecf3a765bf2cb",
            "8ac4a6ceaf8f4f0489cdf3e5f50a8fa8",
            "0f126f9747884b69a820b0e36ca7c981"
          ]
        }
      },
      "execution_count": 14,
      "outputs": [
        {
          "output_type": "display_data",
          "data": {
            "text/plain": [
              "<IPython.core.display.Javascript object>"
            ],
            "application/javascript": [
              "google.colab.output.setIframeHeight(0, true, {maxHeight: 250})"
            ]
          },
          "metadata": {}
        },
        {
          "output_type": "display_data",
          "data": {
            "text/plain": [
              "<IPython.core.display.HTML object>"
            ],
            "text/html": [
              "<style> body {background-color: rgb(255, 250, 232);}</style>"
            ]
          },
          "metadata": {}
        },
        {
          "output_type": "display_data",
          "data": {
            "text/plain": [
              "Dropdown(description='Feature Table:', options={'1to2grams-filtered-table': 'feat$1to2gram$msgs404u$user_id$0_…"
            ],
            "application/vnd.jupyter.widget-view+json": {
              "version_major": 2,
              "version_minor": 0,
              "model_id": "9841c38687d5468bb3bf1cdb1cf21811"
            }
          },
          "metadata": {}
        },
        {
          "output_type": "display_data",
          "data": {
            "text/plain": [
              "Label(value='Outcomes:')"
            ],
            "application/vnd.jupyter.widget-view+json": {
              "version_major": 2,
              "version_minor": 0,
              "model_id": "760990b7aed944af98abf6c8f9cfec02"
            }
          },
          "metadata": {}
        },
        {
          "output_type": "display_data",
          "data": {
            "text/plain": [
              "HBox(children=(Checkbox(value=False, description='gender'), Checkbox(value=False, description='Is gender categ…"
            ],
            "application/vnd.jupyter.widget-view+json": {
              "version_major": 2,
              "version_minor": 0,
              "model_id": "89ac48094fbd4a36acc205983bf4e13f"
            }
          },
          "metadata": {}
        },
        {
          "output_type": "display_data",
          "data": {
            "text/plain": [
              "HBox(children=(Checkbox(value=False, description='age'), Checkbox(value=False, description='Is age categorical…"
            ],
            "application/vnd.jupyter.widget-view+json": {
              "version_major": 2,
              "version_minor": 0,
              "model_id": "dbf2508eebd546ce88a5b4a32f32dfa1"
            }
          },
          "metadata": {}
        },
        {
          "output_type": "display_data",
          "data": {
            "text/plain": [
              "HBox(children=(Checkbox(value=False, description='occu'), Checkbox(value=False, description='Is occu categoric…"
            ],
            "application/vnd.jupyter.widget-view+json": {
              "version_major": 2,
              "version_minor": 0,
              "model_id": "da58dfb6477d48199126f9bc1359c899"
            }
          },
          "metadata": {}
        },
        {
          "output_type": "display_data",
          "data": {
            "text/plain": [
              "HBox(children=(Checkbox(value=False, description='is_student'), Checkbox(value=False, description='Is is_stude…"
            ],
            "application/vnd.jupyter.widget-view+json": {
              "version_major": 2,
              "version_minor": 0,
              "model_id": "87ef6673a30244a09dc74d592fd9e332"
            }
          },
          "metadata": {}
        },
        {
          "output_type": "display_data",
          "data": {
            "text/plain": [
              "Label(value='Controls:')"
            ],
            "application/vnd.jupyter.widget-view+json": {
              "version_major": 2,
              "version_minor": 0,
              "model_id": "ad2f5ad24b424da3b4385d373c8eade3"
            }
          },
          "metadata": {}
        },
        {
          "output_type": "display_data",
          "data": {
            "text/plain": [
              "HBox(children=(Checkbox(value=False, description='gender'), Checkbox(value=False, description='Is gender categ…"
            ],
            "application/vnd.jupyter.widget-view+json": {
              "version_major": 2,
              "version_minor": 0,
              "model_id": "166514e580b6450e95f62504a480d3af"
            }
          },
          "metadata": {}
        },
        {
          "output_type": "display_data",
          "data": {
            "text/plain": [
              "HBox(children=(Checkbox(value=False, description='age'), Checkbox(value=False, description='Is age categorical…"
            ],
            "application/vnd.jupyter.widget-view+json": {
              "version_major": 2,
              "version_minor": 0,
              "model_id": "a18eda424b8e4efca0b119e0f47059b8"
            }
          },
          "metadata": {}
        },
        {
          "output_type": "display_data",
          "data": {
            "text/plain": [
              "HBox(children=(Checkbox(value=False, description='occu'), Checkbox(value=False, description='Is occu categoric…"
            ],
            "application/vnd.jupyter.widget-view+json": {
              "version_major": 2,
              "version_minor": 0,
              "model_id": "11c0475ad2ee4362abfd344f181e5f07"
            }
          },
          "metadata": {}
        },
        {
          "output_type": "display_data",
          "data": {
            "text/plain": [
              "HBox(children=(Checkbox(value=False, description='is_student'), Checkbox(value=False, description='Is is_stude…"
            ],
            "application/vnd.jupyter.widget-view+json": {
              "version_major": 2,
              "version_minor": 0,
              "model_id": "afcb2370556f43dcb9fbd8014100c075"
            }
          },
          "metadata": {}
        },
        {
          "output_type": "display_data",
          "data": {
            "text/plain": [
              "Label(value='Make Wordclouds:')"
            ],
            "application/vnd.jupyter.widget-view+json": {
              "version_major": 2,
              "version_minor": 0,
              "model_id": "0e06f3d0d03a45b09e45b5311e78c556"
            }
          },
          "metadata": {}
        },
        {
          "output_type": "display_data",
          "data": {
            "text/plain": [
              "Checkbox(value=False, description='Enable Wordclouds')"
            ],
            "application/vnd.jupyter.widget-view+json": {
              "version_major": 2,
              "version_minor": 0,
              "model_id": "3b5ed29d53f246978ef43169abf5eb12"
            }
          },
          "metadata": {}
        },
        {
          "output_type": "display_data",
          "data": {
            "text/plain": [
              "Button(description='Submit', style=ButtonStyle())"
            ],
            "application/vnd.jupyter.widget-view+json": {
              "version_major": 2,
              "version_minor": 0,
              "model_id": "847d6c8fbd9b44bba86ecf3a765bf2cb"
            }
          },
          "metadata": {}
        }
      ]
    },
    {
      "cell_type": "code",
      "source": [
        "import ipywidgets as widgets\n",
        "from IPython.display import display, clear_output\n",
        "import csv\n",
        "\n",
        "#@title Configure Parameters\n",
        "\n",
        "#@markdown Before executing the command, please adjust the parameters below according to your dataset and analysis needs.\n",
        "\n",
        "if 'outcome_table_name' in globals():\n",
        "    # Open and read the CSV file to extract column names\n",
        "    with open(outcome_table_name, newline='') as csvfile:\n",
        "        reader = csv.reader(csvfile)\n",
        "        column_headers = next(reader, None)\n",
        "\n",
        "    if column_headers:\n",
        "        # Exclude columns containing '_id' from being displayed as checkboxes\n",
        "        filtered_column_headers = [option for option in column_headers if \"_id\" not in option]\n",
        "\n",
        "        feature_table_dropdown = widgets.Dropdown(options=feature_table_mapping, description='Feature Table:')\n",
        "\n",
        "        outcomes_title = widgets.Label('Outcomes:')\n",
        "        controls_title = widgets.Label('Controls:')\n",
        "        outcomes_widgets = {}\n",
        "        controls_widgets = {}\n",
        "        cat_to_bin_widgets = {}\n",
        "\n",
        "        # Create checkboxes for each column header\n",
        "        for option in filtered_column_headers:\n",
        "            outcomes_widgets[option] = widgets.Checkbox(description=option, value=False)\n",
        "            controls_widgets[option] = widgets.Checkbox(description=option, value=False)\n",
        "            cat_to_bin_widgets[option] = widgets.Checkbox(description=f'Is {option} categorical?', value=False, indent=False)\n",
        "\n",
        "        def handle_checkbox_change(change):\n",
        "            option = change.owner.description\n",
        "            if change.owner in outcomes_widgets.values():\n",
        "                controls_widgets[option].disabled = change.new\n",
        "                cat_to_bin_widgets[option].layout.visibility = 'visible' if change.new else 'hidden'\n",
        "            elif change.owner in controls_widgets.values():\n",
        "                outcomes_widgets[option].disabled = change.new\n",
        "                cat_to_bin_widgets[option].layout.visibility = 'visible' if change.new else 'hidden'\n",
        "\n",
        "            if not change.new:\n",
        "                cat_to_bin_widgets[option].value = False\n",
        "                cat_to_bin_widgets[option].layout.visibility = 'hidden'\n",
        "\n",
        "        for checkbox in outcomes_widgets.values():\n",
        "            checkbox.observe(handle_checkbox_change, names='value')\n",
        "        for checkbox in controls_widgets.values():\n",
        "            checkbox.observe(handle_checkbox_change, names='value')\n",
        "\n",
        "        def on_submit(change):\n",
        "            clear_output(wait=True)\n",
        "            outcomes = [k for k, v in outcomes_widgets.items() if v.value]\n",
        "            controls = [k for k, v in controls_widgets.items() if v.value]\n",
        "            cat_to_bin = [k for k, v in cat_to_bin_widgets.items() if v.value]\n",
        "            feature_table_name = feature_table_dropdown.value\n",
        "            make_wordclouds = make_wordclouds_checkbox.value\n",
        "\n",
        "            command = (\n",
        "                f\"dlatkInterface.py -d {database_name} -t {file_name} -g {id_column_name} \"\n",
        "                f\"--group_freq_thresh 100 \"\n",
        "                f\"--feat_table '{feature_table_name}' \"\n",
        "                f\"--outcome_table {outcome_table_name} --outcomes {','.join(outcomes)} \"\n",
        "                f\"--controls {','.join(controls)} --cat_to_bin {','.join(cat_to_bin)} --rmatrix\"\n",
        "            )\n",
        "            if make_wordclouds:\n",
        "                command += \" --make_wordclouds\"\n",
        "            print(\"Command to execute:\", command)\n",
        "            process = subprocess.run(command, shell=True, text=True, capture_output=True)\n",
        "            print(process.stdout)\n",
        "            if process.stderr:\n",
        "                print(\"Error:\", process.stderr)\n",
        "\n",
        "        submit_button = widgets.Button(description=\"Submit\")\n",
        "        submit_button.on_click(on_submit)\n",
        "\n",
        "        make_wordclouds_title = widgets.Label('Make Wordclouds:')\n",
        "        make_wordclouds_checkbox = widgets.Checkbox(value=False, description='Enable Wordclouds')\n",
        "\n",
        "        # Display the widgets\n",
        "        display(feature_table_dropdown)\n",
        "        display(outcomes_title)\n",
        "        for option, checkbox in outcomes_widgets.items():\n",
        "            display(widgets.HBox([checkbox, cat_to_bin_widgets[option]]))\n",
        "        display(controls_title)\n",
        "        for option, checkbox in controls_widgets.items():\n",
        "            display(widgets.HBox([checkbox, cat_to_bin_widgets[option]]))\n",
        "        display(make_wordclouds_title, make_wordclouds_checkbox, submit_button)\n",
        "\n",
        "    else:\n",
        "        print(\"Failed to read column names from the outcome table.\")\n",
        "else:\n",
        "    print(\"Outcome table name not set. Please ensure a file is uploaded in Part 1.\")\n"
      ],
      "metadata": {
        "colab": {
          "base_uri": "https://localhost:8080/",
          "height": 250,
          "referenced_widgets": [
            "65357805abe54f92b3cdde7608236e7f",
            "377acf55ca3641dca1faf188d3f0fdb5",
            "0927ad5e30d345a088b897291bf3ef54",
            "a8b01d03e13a4f4690eecb4abf1b73bc",
            "86fa7921a3b04d42a16d2cb5618429e1",
            "b238824f52b7429798e3c818a5c44fa2",
            "7441beaca02740f083160588561635d5",
            "a58faf41515747289eb58d673a021634",
            "8e5b1ac5cad643a499fe0763b3258c4e",
            "316c885deb29444db6dceb1d5df1f1ae",
            "d0641f3ebeca4daf8f04d37c6158b346",
            "82514a727c67442b88248bab4ba0d7fb",
            "f65516d7b81c4f4981adbfcca94d3d95",
            "9b7c81e445a44be0a571ec8e3083ffbd",
            "095d7e5548e84e71a1f887ec705074b2",
            "08b9fe771cf04f1f880f926c5585ba43",
            "0eb8ba19fbab44b1aef059a1d93effdb",
            "71a28de839724508a037203cfe8afb8d",
            "32877fa690f045bb9b4d55b17c4aba51",
            "2e968e894822414493790283be389696",
            "c69f00a6615f414489cb2832a4327b61",
            "cef22c9892a84a92a1499f46a0132a8c",
            "9795cc3d86ff4dd99601a424e0c2a602",
            "934df84731f9494b99ccbf7c41872bee",
            "8033bbf0614a47809090a5df4374a804",
            "2150d6c119ed4380a861ca5da1e1b06c",
            "2b691075cdc74210a769624f967ac42a",
            "19ac4348f47f46d1819ba51edde6278a",
            "ce3742f6af054545b77d24a765b50045",
            "6a5aba4f7d6b464db5258b842b99885e",
            "7768218044d447708e5f1bb839655bf1",
            "484a6af77b5149709c17b46246f12753",
            "43ef290518d2460db7453efffac40e63",
            "11617113d3c44a8eb4d894985ea17729",
            "ebc2711d35c545d8b0e51a98d7b15a52",
            "902774e2acd944c99d9d78228eaec737",
            "93fa7b5838f1418ebfd06e7f6a646961",
            "565c045a528d4099b42802d8e09a64cb",
            "950bead9ec35441280737f2d836f510b",
            "c93be65e205340bc86db211ab683a296",
            "5ea8e187907a46b9828020b608df899b",
            "e0dc9a8b973f483eab3dd33dedf0348d",
            "87818de01a1746acb2475491b12adc1c",
            "8f547533b0b145e9a5e6882ce719de4e",
            "a4c8666b5215414d8aae08fefb2624fe",
            "05a9e2e0d16d4a1fa5e7c9f94782e9b7",
            "b54a4a5f47314b2caf359d7a1ceccfad",
            "68935f16dfcc4cce9c2059229e931c04",
            "d828e5047704466a864d791f1d346e7b",
            "e2ce71d65f7d44379a8bcc8d3d0abbf3",
            "d23842dac6804a358fbef14ee0d3642c",
            "c63962d0da204ee19c6115f0cd48fcbd",
            "952a7fbf03d445fbb572cba40e18095e",
            "ff253acf82d04a708514e3e3a42468f1",
            "889441a25d1440708f5914fc200eb916",
            "ac3038475dd84c129a7a52397de0a59d",
            "d459a04db39e4ce9960b9b35329952fc",
            "47daadd2509d4061b7133341d454dd2c",
            "0e9ace6ec2f64d608765798fc896c531",
            "c3aad9938d4c4e74963f0be4c84b4b57",
            "a31f3923a59b4b89af2b1d3c9dbf9627",
            "9703094014ef4848b3259fd8f0c9b9ea",
            "cf30fef25d9243d493c3b6340708e5ff",
            "a95af64bbf9f45548a98e8da77679d6e",
            "f2093d2f6fc9411c9fe469ef1f8f8a9a",
            "7fd6e9d3ca244a72938ec5e787382760",
            "1b159e9c411142b9ad72fdc6a0466419",
            "748ff6116a56487ba6e0a4cd79b492d5",
            "5364c73dc23a4b1d98f57a7c5e4e8431",
            "849f5c16a35c4990a369b07c8debbfc1"
          ]
        },
        "id": "SyQAfAyj4dZV",
        "outputId": "902013e4-e2d1-4816-cbf8-79e0ed8b7d4c"
      },
      "execution_count": 13,
      "outputs": [
        {
          "output_type": "display_data",
          "data": {
            "text/plain": [
              "<IPython.core.display.Javascript object>"
            ],
            "application/javascript": [
              "google.colab.output.setIframeHeight(0, true, {maxHeight: 250})"
            ]
          },
          "metadata": {}
        },
        {
          "output_type": "display_data",
          "data": {
            "text/plain": [
              "<IPython.core.display.HTML object>"
            ],
            "text/html": [
              "<style> body {background-color: rgb(255, 250, 232);}</style>"
            ]
          },
          "metadata": {}
        },
        {
          "output_type": "display_data",
          "data": {
            "text/plain": [
              "Dropdown(description='Feature Table:', options={'1to2grams-filtered-table': 'feat$1to2gram$msgs404u$user_id$0_…"
            ],
            "application/vnd.jupyter.widget-view+json": {
              "version_major": 2,
              "version_minor": 0,
              "model_id": "65357805abe54f92b3cdde7608236e7f"
            }
          },
          "metadata": {}
        },
        {
          "output_type": "display_data",
          "data": {
            "text/plain": [
              "Label(value='Outcomes:')"
            ],
            "application/vnd.jupyter.widget-view+json": {
              "version_major": 2,
              "version_minor": 0,
              "model_id": "a8b01d03e13a4f4690eecb4abf1b73bc"
            }
          },
          "metadata": {}
        },
        {
          "output_type": "display_data",
          "data": {
            "text/plain": [
              "HBox(children=(Checkbox(value=False, description='gender'), Checkbox(value=False, description='Is gender categ…"
            ],
            "application/vnd.jupyter.widget-view+json": {
              "version_major": 2,
              "version_minor": 0,
              "model_id": "7441beaca02740f083160588561635d5"
            }
          },
          "metadata": {}
        },
        {
          "output_type": "display_data",
          "data": {
            "text/plain": [
              "HBox(children=(Checkbox(value=False, description='age'), Checkbox(value=False, description='Is age categorical…"
            ],
            "application/vnd.jupyter.widget-view+json": {
              "version_major": 2,
              "version_minor": 0,
              "model_id": "095d7e5548e84e71a1f887ec705074b2"
            }
          },
          "metadata": {}
        },
        {
          "output_type": "display_data",
          "data": {
            "text/plain": [
              "HBox(children=(Checkbox(value=False, description='occu'), Checkbox(value=False, description='Is occu categoric…"
            ],
            "application/vnd.jupyter.widget-view+json": {
              "version_major": 2,
              "version_minor": 0,
              "model_id": "9795cc3d86ff4dd99601a424e0c2a602"
            }
          },
          "metadata": {}
        },
        {
          "output_type": "display_data",
          "data": {
            "text/plain": [
              "HBox(children=(Checkbox(value=False, description='is_student'), Checkbox(value=False, description='Is is_stude…"
            ],
            "application/vnd.jupyter.widget-view+json": {
              "version_major": 2,
              "version_minor": 0,
              "model_id": "7768218044d447708e5f1bb839655bf1"
            }
          },
          "metadata": {}
        },
        {
          "output_type": "display_data",
          "data": {
            "text/plain": [
              "Label(value='Controls:')"
            ],
            "application/vnd.jupyter.widget-view+json": {
              "version_major": 2,
              "version_minor": 0,
              "model_id": "950bead9ec35441280737f2d836f510b"
            }
          },
          "metadata": {}
        },
        {
          "output_type": "display_data",
          "data": {
            "text/plain": [
              "HBox(children=(Checkbox(value=False, description='gender'), Checkbox(value=False, description='Is gender categ…"
            ],
            "application/vnd.jupyter.widget-view+json": {
              "version_major": 2,
              "version_minor": 0,
              "model_id": "e0dc9a8b973f483eab3dd33dedf0348d"
            }
          },
          "metadata": {}
        },
        {
          "output_type": "display_data",
          "data": {
            "text/plain": [
              "HBox(children=(Checkbox(value=False, description='age'), Checkbox(value=False, description='Is age categorical…"
            ],
            "application/vnd.jupyter.widget-view+json": {
              "version_major": 2,
              "version_minor": 0,
              "model_id": "b54a4a5f47314b2caf359d7a1ceccfad"
            }
          },
          "metadata": {}
        },
        {
          "output_type": "display_data",
          "data": {
            "text/plain": [
              "HBox(children=(Checkbox(value=False, description='occu'), Checkbox(value=False, description='Is occu categoric…"
            ],
            "application/vnd.jupyter.widget-view+json": {
              "version_major": 2,
              "version_minor": 0,
              "model_id": "c63962d0da204ee19c6115f0cd48fcbd"
            }
          },
          "metadata": {}
        },
        {
          "output_type": "display_data",
          "data": {
            "text/plain": [
              "HBox(children=(Checkbox(value=False, description='is_student'), Checkbox(value=False, description='Is is_stude…"
            ],
            "application/vnd.jupyter.widget-view+json": {
              "version_major": 2,
              "version_minor": 0,
              "model_id": "d459a04db39e4ce9960b9b35329952fc"
            }
          },
          "metadata": {}
        },
        {
          "output_type": "display_data",
          "data": {
            "text/plain": [
              "Label(value='Make Wordclouds:')"
            ],
            "application/vnd.jupyter.widget-view+json": {
              "version_major": 2,
              "version_minor": 0,
              "model_id": "9703094014ef4848b3259fd8f0c9b9ea"
            }
          },
          "metadata": {}
        },
        {
          "output_type": "display_data",
          "data": {
            "text/plain": [
              "Checkbox(value=False, description='Enable Wordclouds')"
            ],
            "application/vnd.jupyter.widget-view+json": {
              "version_major": 2,
              "version_minor": 0,
              "model_id": "f2093d2f6fc9411c9fe469ef1f8f8a9a"
            }
          },
          "metadata": {}
        },
        {
          "output_type": "display_data",
          "data": {
            "text/plain": [
              "Button(description='Submit', style=ButtonStyle())"
            ],
            "application/vnd.jupyter.widget-view+json": {
              "version_major": 2,
              "version_minor": 0,
              "model_id": "748ff6116a56487ba6e0a4cd79b492d5"
            }
          },
          "metadata": {}
        }
      ]
    },
    {
      "cell_type": "code",
      "source": [
        "import ipywidgets as widgets\n",
        "from IPython.display import display, clear_output\n",
        "import csv\n",
        "\n",
        "#@title Configure Parameters\n",
        "\n",
        "#@markdown Before executing the command, please adjust the parameters below according to your dataset and analysis needs.\n",
        "\n",
        "if 'outcome_table_name' in globals():\n",
        "    # Open and read the CSV file to extract column names\n",
        "    with open(outcome_table_name, newline='') as csvfile:\n",
        "        reader = csv.reader(csvfile)\n",
        "        column_headers = next(reader, None)\n",
        "\n",
        "    if column_headers:\n",
        "        # Exclude columns containing '_id' from being displayed as checkboxes\n",
        "        filtered_column_headers = [option for option in column_headers if \"_id\" not in option]\n",
        "\n",
        "        feature_table_dropdown = widgets.Dropdown(options=feature_table_mapping, description='Feature Table:')\n",
        "\n",
        "        outcomes_title = widgets.Label('Outcomes:')\n",
        "        outcomes_widgets = {option: widgets.Checkbox(description=option, value=False) for option in filtered_column_headers}\n",
        "        controls_title = widgets.Label('Controls:')\n",
        "        controls_widgets = {option: widgets.Checkbox(description=option, value=False) for option in filtered_column_headers}\n",
        "        cat_to_bin_title = widgets.Label('Categoricals Variable:')\n",
        "        cat_to_bin_widgets = {option: widgets.Checkbox(description=option, value=False) for option in filtered_column_headers}\n",
        "\n",
        "        make_wordclouds_title = widgets.Label('Make Wordclouds:')\n",
        "        make_wordclouds_checkbox = widgets.Checkbox(value=False, description='Enable Wordclouds')\n",
        "\n",
        "        # Link widgets to enforce mutually exclusive selection and dynamic \"Cat to Bin\" options\n",
        "        def update_cat_to_bin():\n",
        "            selected = {**outcomes_widgets, **controls_widgets}\n",
        "            for option, checkbox in cat_to_bin_widgets.items():\n",
        "                checkbox.value = False  # Reset selections\n",
        "                checkbox.disabled = not (outcomes_widgets[option].value or controls_widgets[option].value)\n",
        "\n",
        "        def update_controls_and_outcomes(*args):\n",
        "            for item in outcomes_widgets:\n",
        "                if outcomes_widgets[item].value:\n",
        "                    controls_widgets[item].disabled = True\n",
        "                else:\n",
        "                    controls_widgets[item].disabled = False\n",
        "\n",
        "            for item in controls_widgets:\n",
        "                if controls_widgets[item].value:\n",
        "                    outcomes_widgets[item].disabled = True\n",
        "                else:\n",
        "                    outcomes_widgets[item].disabled = False\n",
        "\n",
        "            update_cat_to_bin()\n",
        "\n",
        "        for checkbox in outcomes_widgets.values():\n",
        "            checkbox.observe(update_controls_and_outcomes, 'value')\n",
        "\n",
        "        for checkbox in controls_widgets.values():\n",
        "            checkbox.observe(update_controls_and_outcomes, 'value')\n",
        "\n",
        "        def on_submit(change):\n",
        "            clear_output(wait=True)\n",
        "            outcomes = [k for k, v in outcomes_widgets.items() if v.value]\n",
        "            controls = [k for k, v in controls_widgets.items() if v.value]\n",
        "            cat_to_bin = [k for k, v in cat_to_bin_widgets.items() if v.value]\n",
        "            feature_table_name = feature_table_dropdown.value  # Get the selected feature table\n",
        "            make_wordclouds = make_wordclouds_checkbox.value\n",
        "\n",
        "            command = (\n",
        "                f\"dlatkInterface.py -d {database_name} -t {file_name} -g {id_column_name} \"\n",
        "                f\"--group_freq_thresh 100 \"\n",
        "                f\"--feat_table '{feature_table_name}' \"\n",
        "                f\"--outcome_table {outcome_table_name} --outcomes {','.join(outcomes)} \"\n",
        "                f\"--controls {','.join(controls)} --cat_to_bin {','.join(cat_to_bin)} --rmatrix\"\n",
        "\n",
        "            )\n",
        "            if make_wordclouds:\n",
        "                command += \" --make_wordclouds\"\n",
        "            print(\"Command to execute:\", command)\n",
        "            process = subprocess.run(command, shell=True, text=True, capture_output=True)\n",
        "            print(process.stdout)\n",
        "            if process.stderr:\n",
        "                print(\"Error:\", process.stderr)\n",
        "\n",
        "        submit_button = widgets.Button(description=\"Submit\")\n",
        "        submit_button.on_click(on_submit)\n",
        "\n",
        "        # Display the widgets\n",
        "        widgets_to_display = [\n",
        "            feature_table_dropdown, outcomes_title] + list(outcomes_widgets.values()) + [\n",
        "            controls_title] + list(controls_widgets.values()) + [cat_to_bin_title] + list(cat_to_bin_widgets.values()) + [\n",
        "            make_wordclouds_title, make_wordclouds_checkbox, submit_button\n",
        "        ]\n",
        "        display(*widgets_to_display)\n",
        "    else:\n",
        "        print(\"Failed to read column names from the outcome table.\")\n",
        "else:\n",
        "    print(\"Outcome table name not set. Please ensure a file is uploaded in Part 1.\")\n"
      ],
      "metadata": {
        "colab": {
          "base_uri": "https://localhost:8080/",
          "height": 250,
          "referenced_widgets": [
            "078a0e7ffb544ddb950c8267b41b7ad6",
            "3a6fb053c2d5497db07ffd4ef3d49720",
            "b9d78a687d5d4d5c8e8cf3bf86d25f98",
            "91c880cb9fcf4c38b02904b8857e1966",
            "32cff94cc8f04b8e8af8b73656104bfa",
            "5b7ca9684a984411890799c3cc8fe1d6",
            "d56f0ea28684466083f2f68334f6f43a",
            "dcb2b6242ba3447ab41b0b1e0cfa1ea2",
            "11a9f5a3665d426ba08aee81af9bd0b4",
            "7218c039d4cb426cabf429609b3b3c0e",
            "62d870c726ed4f46b25bac8e7c971087",
            "e058fb92b74d441e835901ccc5ec9fad",
            "470ce79d1a8e4dac9e78977275804d9e",
            "82451890e499418d8dc79aef6257e0ff",
            "f43560c88a604dabaea4b7f571572311",
            "dc5f80d7d68d4a7a8c63b4dd9f133489",
            "50bf7679889d450fab7ebbd4719aad36",
            "57656c89cb7c456e9346606cd76bdae1",
            "0f95d7415bfc420db694089797ae8189",
            "90266326db0f42acbce6ca179b7dcb58",
            "2f79be38bf3c4f14a311c07fd8ab1719",
            "a2600872507d458394b81f9ecaf818f0",
            "6d8239a283094cb8a0a846f7f0c6137d",
            "7b8328a88dba4e329a8c066d8a7b1d8b",
            "9ee7dbf87ba34b25986915e1218207f6",
            "12f139ad2a7143388fbfbc67cf03ab71",
            "135a83aa2fc34b90b16ab6c183499e16",
            "47e27ce03d2e471ab32186ffdbebf45d",
            "e0d51d0e4b7f44b0a4186f8d547706bc",
            "094794cc0c2d415390359df452f00211",
            "2603f4e94a054287a7a0181813b92239",
            "2757410b283444daadb9b4f203754330",
            "ef8f08b936af473c88ec28f17d90e699",
            "7df030de7cf44e1480fb5755d17ed9a4",
            "43d580322b1b443f8ca16c7afc1b055c",
            "b794bb03fc8f4743be737ef22d6c1bae",
            "bcd52189d18442faa1bfaa42f00e86c3",
            "e4f83440be26420885b4b1d1248ee3c9",
            "099cbd64c8b94229979ea6be265e1d05",
            "9ad3a1541a39486cbad35832b2d4b908",
            "045ca6d7f2a44de0982de4bba45d4ac2",
            "9df5d7f304334d33b3307fc513dc44c8",
            "cd9cb245d3454349aa79d2a1a38af088",
            "c19bdb1ff2bd45399429ec68d4e57787",
            "5d75783698bf4c70817c44b7d1d1c57e",
            "91e4cee2fb4f4709bce1c1816c9321ea",
            "1efacfd0281b40d78c8b367064834042",
            "f2df5958da4e445e836ec718ab899fcb",
            "65360b3c5c2b4bf0bad9392483a40c5a",
            "47e41078d8e94325a06938a4ae5fb901",
            "611dfa8afc5f4130ac5b26c9fa0e80fc",
            "901e4e3d7b584cb88f9d2dc062d858eb",
            "5114d8e9fe994da3a48fb944b19235b8",
            "27873206359d4d31b6f2848522d9ca20",
            "f16262106676416aa1ca9ac33dab74c6",
            "8ceb2f2a8e0540a4b50c012a6b802a12",
            "56ce4697d4604deebab94c59a4a9e568"
          ]
        },
        "id": "gE12MkTy7jeW",
        "outputId": "59d1f90c-35f4-481d-ae57-13d3c15e38b2"
      },
      "execution_count": null,
      "outputs": [
        {
          "output_type": "display_data",
          "data": {
            "text/plain": [
              "<IPython.core.display.Javascript object>"
            ],
            "application/javascript": [
              "google.colab.output.setIframeHeight(0, true, {maxHeight: 250})"
            ]
          },
          "metadata": {}
        },
        {
          "output_type": "display_data",
          "data": {
            "text/plain": [
              "<IPython.core.display.HTML object>"
            ],
            "text/html": [
              "<style> body {background-color: rgb(255, 250, 232);}</style>"
            ]
          },
          "metadata": {}
        },
        {
          "output_type": "display_data",
          "data": {
            "text/plain": [
              "Dropdown(description='Feature Table:', options={'1to2grams-filtered-table': 'feat$1to2gram$msgs404u$user_id$0_…"
            ],
            "application/vnd.jupyter.widget-view+json": {
              "version_major": 2,
              "version_minor": 0,
              "model_id": "078a0e7ffb544ddb950c8267b41b7ad6"
            }
          },
          "metadata": {}
        },
        {
          "output_type": "display_data",
          "data": {
            "text/plain": [
              "Label(value='Outcomes:')"
            ],
            "application/vnd.jupyter.widget-view+json": {
              "version_major": 2,
              "version_minor": 0,
              "model_id": "91c880cb9fcf4c38b02904b8857e1966"
            }
          },
          "metadata": {}
        },
        {
          "output_type": "display_data",
          "data": {
            "text/plain": [
              "Checkbox(value=False, description='gender')"
            ],
            "application/vnd.jupyter.widget-view+json": {
              "version_major": 2,
              "version_minor": 0,
              "model_id": "d56f0ea28684466083f2f68334f6f43a"
            }
          },
          "metadata": {}
        },
        {
          "output_type": "display_data",
          "data": {
            "text/plain": [
              "Checkbox(value=False, description='age')"
            ],
            "application/vnd.jupyter.widget-view+json": {
              "version_major": 2,
              "version_minor": 0,
              "model_id": "7218c039d4cb426cabf429609b3b3c0e"
            }
          },
          "metadata": {}
        },
        {
          "output_type": "display_data",
          "data": {
            "text/plain": [
              "Checkbox(value=False, description='occu')"
            ],
            "application/vnd.jupyter.widget-view+json": {
              "version_major": 2,
              "version_minor": 0,
              "model_id": "470ce79d1a8e4dac9e78977275804d9e"
            }
          },
          "metadata": {}
        },
        {
          "output_type": "display_data",
          "data": {
            "text/plain": [
              "Checkbox(value=False, description='is_student')"
            ],
            "application/vnd.jupyter.widget-view+json": {
              "version_major": 2,
              "version_minor": 0,
              "model_id": "dc5f80d7d68d4a7a8c63b4dd9f133489"
            }
          },
          "metadata": {}
        },
        {
          "output_type": "display_data",
          "data": {
            "text/plain": [
              "Label(value='Controls:')"
            ],
            "application/vnd.jupyter.widget-view+json": {
              "version_major": 2,
              "version_minor": 0,
              "model_id": "0f95d7415bfc420db694089797ae8189"
            }
          },
          "metadata": {}
        },
        {
          "output_type": "display_data",
          "data": {
            "text/plain": [
              "Checkbox(value=False, description='gender')"
            ],
            "application/vnd.jupyter.widget-view+json": {
              "version_major": 2,
              "version_minor": 0,
              "model_id": "a2600872507d458394b81f9ecaf818f0"
            }
          },
          "metadata": {}
        },
        {
          "output_type": "display_data",
          "data": {
            "text/plain": [
              "Checkbox(value=False, description='age')"
            ],
            "application/vnd.jupyter.widget-view+json": {
              "version_major": 2,
              "version_minor": 0,
              "model_id": "9ee7dbf87ba34b25986915e1218207f6"
            }
          },
          "metadata": {}
        },
        {
          "output_type": "display_data",
          "data": {
            "text/plain": [
              "Checkbox(value=False, description='occu')"
            ],
            "application/vnd.jupyter.widget-view+json": {
              "version_major": 2,
              "version_minor": 0,
              "model_id": "47e27ce03d2e471ab32186ffdbebf45d"
            }
          },
          "metadata": {}
        },
        {
          "output_type": "display_data",
          "data": {
            "text/plain": [
              "Checkbox(value=False, description='is_student')"
            ],
            "application/vnd.jupyter.widget-view+json": {
              "version_major": 2,
              "version_minor": 0,
              "model_id": "2603f4e94a054287a7a0181813b92239"
            }
          },
          "metadata": {}
        },
        {
          "output_type": "display_data",
          "data": {
            "text/plain": [
              "Label(value='Categoricals Variable:')"
            ],
            "application/vnd.jupyter.widget-view+json": {
              "version_major": 2,
              "version_minor": 0,
              "model_id": "7df030de7cf44e1480fb5755d17ed9a4"
            }
          },
          "metadata": {}
        },
        {
          "output_type": "display_data",
          "data": {
            "text/plain": [
              "Checkbox(value=False, description='gender')"
            ],
            "application/vnd.jupyter.widget-view+json": {
              "version_major": 2,
              "version_minor": 0,
              "model_id": "bcd52189d18442faa1bfaa42f00e86c3"
            }
          },
          "metadata": {}
        },
        {
          "output_type": "display_data",
          "data": {
            "text/plain": [
              "Checkbox(value=False, description='age')"
            ],
            "application/vnd.jupyter.widget-view+json": {
              "version_major": 2,
              "version_minor": 0,
              "model_id": "9ad3a1541a39486cbad35832b2d4b908"
            }
          },
          "metadata": {}
        },
        {
          "output_type": "display_data",
          "data": {
            "text/plain": [
              "Checkbox(value=False, description='occu')"
            ],
            "application/vnd.jupyter.widget-view+json": {
              "version_major": 2,
              "version_minor": 0,
              "model_id": "cd9cb245d3454349aa79d2a1a38af088"
            }
          },
          "metadata": {}
        },
        {
          "output_type": "display_data",
          "data": {
            "text/plain": [
              "Checkbox(value=False, description='is_student')"
            ],
            "application/vnd.jupyter.widget-view+json": {
              "version_major": 2,
              "version_minor": 0,
              "model_id": "91e4cee2fb4f4709bce1c1816c9321ea"
            }
          },
          "metadata": {}
        },
        {
          "output_type": "display_data",
          "data": {
            "text/plain": [
              "Label(value='Make Wordclouds:')"
            ],
            "application/vnd.jupyter.widget-view+json": {
              "version_major": 2,
              "version_minor": 0,
              "model_id": "65360b3c5c2b4bf0bad9392483a40c5a"
            }
          },
          "metadata": {}
        },
        {
          "output_type": "display_data",
          "data": {
            "text/plain": [
              "Checkbox(value=False, description='Enable Wordclouds')"
            ],
            "application/vnd.jupyter.widget-view+json": {
              "version_major": 2,
              "version_minor": 0,
              "model_id": "901e4e3d7b584cb88f9d2dc062d858eb"
            }
          },
          "metadata": {}
        },
        {
          "output_type": "display_data",
          "data": {
            "text/plain": [
              "Button(description='Submit', style=ButtonStyle())"
            ],
            "application/vnd.jupyter.widget-view+json": {
              "version_major": 2,
              "version_minor": 0,
              "model_id": "f16262106676416aa1ca9ac33dab74c6"
            }
          },
          "metadata": {}
        }
      ]
    },
    {
      "cell_type": "code",
      "execution_count": null,
      "metadata": {
        "colab": {
          "base_uri": "https://localhost:8080/",
          "height": 201,
          "referenced_widgets": [
            "bc767ad089b44ebb80a3e32691f94160",
            "653655fbc7d347fd9f64d0b28f0ef48e",
            "1964c6e8d7bf4e70b82147c112b50e2a",
            "77f983a97e044e2082531c878b9ea164",
            "6397b1b662174c0b88aa6c47eacaea21",
            "1cb53b8f6b0d4b98a2b3c1c4f74ef095",
            "bd98575fb11843479ffc631ad76274d7",
            "2317594823574caa89c6dcfc81878f33",
            "67f371efd56e417a82751d6b076fab2b",
            "80900f87ee194d449a32e4838506ca0b",
            "2de80f0d632749ffb1b300479a808a30",
            "1944b75199ed4a97ad40106c878dc666",
            "9f1f605ec93d4c47a182978c3d569c8c",
            "a5a5755db49943e299af45e387182107",
            "70d64d468bd24b51800b455ea0f0a364",
            "03a84bbdd5304bf2b97e46764e883fe5",
            "f5c75866f6c3481fb858314c1cf71a88",
            "4bce788be043445ea98d79258e5b5137"
          ]
        },
        "outputId": "61002556-2fbf-4bad-b0b9-341ebef1b91b",
        "id": "BXz2cdkWdAq3",
        "cellView": "form"
      },
      "outputs": [
        {
          "output_type": "display_data",
          "data": {
            "text/plain": [
              "<IPython.core.display.Javascript object>"
            ],
            "application/javascript": [
              "google.colab.output.setIframeHeight(0, true, {maxHeight: 250})"
            ]
          },
          "metadata": {}
        },
        {
          "output_type": "display_data",
          "data": {
            "text/plain": [
              "<IPython.core.display.HTML object>"
            ],
            "text/html": [
              "<style> body {background-color: rgb(255, 250, 232);}</style>"
            ]
          },
          "metadata": {}
        },
        {
          "output_type": "display_data",
          "data": {
            "text/plain": [
              "Dropdown(description='Feature Table:', options={'1to2grams-filtered-table': 'feat$1to2gram$msgs404u$message_id…"
            ],
            "application/vnd.jupyter.widget-view+json": {
              "version_major": 2,
              "version_minor": 0,
              "model_id": "bc767ad089b44ebb80a3e32691f94160"
            }
          },
          "metadata": {}
        },
        {
          "output_type": "display_data",
          "data": {
            "text/plain": [
              "Dropdown(description='Outcomes:', options=('user_id', 'gender', 'age', 'occu', 'is_student', 'message_id'), va…"
            ],
            "application/vnd.jupyter.widget-view+json": {
              "version_major": 2,
              "version_minor": 0,
              "model_id": "77f983a97e044e2082531c878b9ea164"
            }
          },
          "metadata": {}
        },
        {
          "output_type": "display_data",
          "data": {
            "text/plain": [
              "Dropdown(description='Controls:', options=('user_id', 'gender', 'age', 'occu', 'is_student', 'message_id'), va…"
            ],
            "application/vnd.jupyter.widget-view+json": {
              "version_major": 2,
              "version_minor": 0,
              "model_id": "bd98575fb11843479ffc631ad76274d7"
            }
          },
          "metadata": {}
        },
        {
          "output_type": "display_data",
          "data": {
            "text/plain": [
              "Dropdown(description='Cat to Bin:', options=('user_id', 'gender', 'age', 'occu', 'is_student', 'message_id'), …"
            ],
            "application/vnd.jupyter.widget-view+json": {
              "version_major": 2,
              "version_minor": 0,
              "model_id": "80900f87ee194d449a32e4838506ca0b"
            }
          },
          "metadata": {}
        },
        {
          "output_type": "display_data",
          "data": {
            "text/plain": [
              "Checkbox(value=False, description='Make Wordclouds')"
            ],
            "application/vnd.jupyter.widget-view+json": {
              "version_major": 2,
              "version_minor": 0,
              "model_id": "9f1f605ec93d4c47a182978c3d569c8c"
            }
          },
          "metadata": {}
        },
        {
          "output_type": "display_data",
          "data": {
            "text/plain": [
              "Button(description='Submit', style=ButtonStyle())"
            ],
            "application/vnd.jupyter.widget-view+json": {
              "version_major": 2,
              "version_minor": 0,
              "model_id": "03a84bbdd5304bf2b97e46764e883fe5"
            }
          },
          "metadata": {}
        }
      ],
      "source": [
        "import ipywidgets as widgets\n",
        "from IPython.display import display, clear_output\n",
        "import csv\n",
        "\n",
        "#@title Configure Parameters\n",
        "\n",
        "#@markdown Before executing the command, please adjust the parameters below according to your dataset and analysis needs.\n",
        "\n",
        "# Ensure 'outcome_table_name' and other variables are defined and accessible in this scope\n",
        "if 'outcome_table_name' in globals():\n",
        "    # Open and read the CSV file to extract column names\n",
        "    with open(outcome_table_name, newline='') as csvfile:\n",
        "        reader = csv.reader(csvfile)\n",
        "        column_headers = next(reader, None)\n",
        "\n",
        "    if column_headers:\n",
        "        # feature_table_options = get_feature_table_options()\n",
        "        feature_table_dropdown = widgets.Dropdown(options=feature_table_mapping, description='Feature Table:')\n",
        "\n",
        "        outcomes_widget = widgets.Dropdown(options=column_headers, description='Outcomes:')\n",
        "        controls_widget = widgets.Dropdown(options=column_headers, description='Controls:')\n",
        "        cat_to_bin_widget = widgets.Dropdown(options=column_headers, description='Cat to Bin:')\n",
        "\n",
        "        # Checkbox for making wordclouds\n",
        "        make_wordclouds_checkbox = widgets.Checkbox(value=False, description='Make Wordclouds')\n",
        "\n",
        "        def on_submit(change):\n",
        "            clear_output(wait=True)\n",
        "            outcomes = outcomes_widget.value\n",
        "            controls = controls_widget.value\n",
        "            cat_to_bin = cat_to_bin_widget.value\n",
        "            feature_table_name = feature_table_dropdown.value  # Get the selected feature table\n",
        "            # group_freq_threshold = group_freq_threshold_widget.value  # Assume this is defined and accessible\n",
        "            make_wordclouds = make_wordclouds_checkbox.value  # Check if wordclouds should be made\n",
        "\n",
        "\n",
        "            # Construct the command with the selected feature table and other parameters\n",
        "            command = (\n",
        "                f\"dlatkInterface.py -d {database_name} -t {file_name} -g {group_id} \"\n",
        "                f\"--group_freq_thresh 100 \"\n",
        "                f\"--feat_table '{feature_table_name}' \"\n",
        "                f\"--outcome_table {outcome_table_name} --outcomes {outcomes} \"\n",
        "                f\"--controls {controls} --cat_to_bin {cat_to_bin} --rmatrix\"\n",
        "            )\n",
        "            if make_wordclouds:\n",
        "                command += \" --make_wordclouds\"\n",
        "            print(\"Command to execute:\", command)\n",
        "            process = subprocess.run(command, shell=True, text=True, capture_output=True)\n",
        "            print(process.stdout)\n",
        "            if process.stderr:\n",
        "                print(\"Error:\", process.stderr)\n",
        "\n",
        "        submit_button = widgets.Button(description=\"Submit\")\n",
        "        submit_button.on_click(on_submit)\n",
        "\n",
        "        # Display the widgets including the feature table dropdown\n",
        "        display(feature_table_dropdown, outcomes_widget, controls_widget, cat_to_bin_widget,make_wordclouds_checkbox, submit_button)\n",
        "    else:\n",
        "        print(\"Failed to read column names from the outcome table.\")\n",
        "else:\n",
        "    print(\"Outcome table name not set. Please ensure a file is uploaded in Part 1.\")"
      ]
    },
    {
      "cell_type": "code",
      "source": [
        "#@markdown Click the Play button to view the **word cloud image** of the analyzed file.\n",
        "\n",
        "from dlatk.tools.colab_methods import print_wordclouds\n",
        "\n",
        "feature_table_name = feature_table_dropdown.value.replace('$', '.')\n",
        "outcomes = outcomes_widget.value\n",
        "controls = controls_widget.value\n",
        "# group_freq_threshold = group_freq_threshold_widget.value\n",
        "\n",
        "wordcloud_file_name = f\"{feature_table_name}.{outcomes}.{controls}__0.freq100._tagcloud_wordclouds\"\n",
        "print(wordcloud_file_name)\n",
        "print_wordclouds(wordcloud_file_name)\n",
        "\n"
      ],
      "metadata": {
        "colab": {
          "base_uri": "https://localhost:8080/",
          "height": 250
        },
        "outputId": "82134d3e-fdee-479b-f589-6ff45dd02697",
        "id": "1gwINnKHdGKE"
      },
      "execution_count": null,
      "outputs": [
        {
          "output_type": "display_data",
          "data": {
            "text/plain": [
              "<IPython.core.display.Javascript object>"
            ],
            "application/javascript": [
              "google.colab.output.setIframeHeight(0, true, {maxHeight: 250})"
            ]
          },
          "metadata": {}
        },
        {
          "output_type": "display_data",
          "data": {
            "text/plain": [
              "<IPython.core.display.HTML object>"
            ],
            "text/html": [
              "<style> body {background-color: rgb(255, 250, 232);}</style>"
            ]
          },
          "metadata": {}
        },
        {
          "output_type": "display_data",
          "data": {
            "text/plain": [
              "<IPython.core.display.Javascript object>"
            ],
            "application/javascript": [
              "google.colab.output.setIframeHeight(0, true, {maxHeight: 250})"
            ]
          },
          "metadata": {}
        },
        {
          "output_type": "display_data",
          "data": {
            "text/plain": [
              "<IPython.core.display.HTML object>"
            ],
            "text/html": [
              "<style> body {background-color: rgb(255, 250, 232);}</style>"
            ]
          },
          "metadata": {}
        },
        {
          "output_type": "stream",
          "name": "stdout",
          "text": [
            "feat.1to2gram.msgs404u.user_id.0_1.pmi3_0.age.gender__0.freq100._tagcloud_wordclouds\n"
          ]
        },
        {
          "output_type": "display_data",
          "data": {
            "text/plain": [
              "<Figure size 700x300 with 2 Axes>"
            ],
            "image/png": "[encoded data removed]"
          },
          "metadata": {}
        }
      ]
    },
    {
      "cell_type": "markdown",
      "metadata": {
        "id": "lTXigvWwWWc9"
      },
      "source": [
        "<a name=\"data\"></a>\n",
        "# Recommended upload data format"
      ]
    },
    {
      "cell_type": "markdown",
      "metadata": {
        "id": "qjiym3ZWIl-_"
      },
      "source": [
        "**Note: This setup data section is optional.** Read below if you wish to understand how to format data.\n",
        "\n",
        "<br />\n",
        "\n",
        "DLATK uses data in CSV (comma-seprated value) format. Your csv needs at least two columns:\n",
        "* **`message`**: contains the text to be analyzed.\n",
        "* **`message_id`**: contains a unique id for each message.\n",
        "\n",
        "The CSV may also have other columns, including other ids you may wish to analyze your data by (e.g. `user_id`). For example,\n",
        "\n",
        "|message_id|message|user_id|created_date|\n",
        "|----------|-------|-------|------------|\n",
        "|17557|urlLink Ananova - New rules on pizza to be introduced|1405024|2004-05-27|\n",
        "|15996|I just read John Kerry's nomination acceptance speech. Christ, he can talk.  God bless America.|3523319|2004-07-29|\n",
        "|27462| Talk about 'better late than never'...   urlLink  Couple Living Together 77 Years Marries   .   Thanks to  urlLink  Zorak  for the link.|942828|2003-04-04|\n",
        "\n",
        "<br />\n",
        "<br />\n",
        "\n",
        "👉 If you wish to use the [default tutorial dataset](https://github.com/dlatk/dlatk/blob/colab_csv/dlatk/data/colab_dataset.md), then you can skip directly to the [Run Differential Language Analysis](#dla) section. The default dataset contains the files mentioned below -\n",
        "* `msgs404u.csv` - language data from 404 blog authors.\n",
        "* `users404.csv` - age, gender, and occupation for the 404 authors.\n",
        "\n",
        "<br />\n",
        "\n",
        "👉 Read below if you wish to use your own data.\n",
        "\n",
        "<br/>"
      ]
    },
    {
      "cell_type": "markdown",
      "metadata": {
        "id": "VqePY9RFEL5b"
      },
      "source": [
        "<a name=\"dla\"></a>\n",
        "# Run Differential Language Analysis (DLA)\n",
        "\n",
        "<img src=\"https://drive.google.com/uc?export=view&id=1TArhnhbdHThRL8_sebYBgkWkxZdQ9b_P\" height=\"350\" width=\"700\"/>\n",
        "\n",
        "<br/>\n",
        "\n"
      ]
    },
    {
      "cell_type": "code",
      "source": [
        "#@title Select Text and ID column (unit of analysis)\n",
        "\n",
        "#@markdown Click the __play button__ at the top left, and a dropdown option will appear.\n",
        "\n",
        "#@markdown __Choose__ the text and ID columns you wish to use as the unit of analysis and click \"Confirm Selection.\"\n",
        "\n",
        "import csv\n",
        "import ipywidgets as widgets\n",
        "from IPython.display import display, clear_output\n",
        "\n",
        "def get_available_columns(file_path):\n",
        "    \"\"\"Read the first row of the CSV file to get the column names.\"\"\"\n",
        "    with open(file_path, mode='r', encoding='utf-8') as file:\n",
        "        reader = csv.reader(file)\n",
        "        headers = next(reader, None)\n",
        "    return headers\n",
        "\n",
        "available_columns = get_available_columns(file_path)\n",
        "\n",
        "# Text column options: Exclude columns that are \"user\" or end with \"_id\"\n",
        "text_column_options = [col for col in available_columns if col != \"user\" and not col.endswith(\"_id\")]\n",
        "\n",
        "# ID column options: Only include columns that end with \"_id\"\n",
        "id_column_options = [col for col in available_columns if col.endswith(\"_id\")]\n",
        "\n",
        "text_column_dropdown = widgets.Dropdown(\n",
        "    options=text_column_options,\n",
        "    description='Text Column:',\n",
        ")\n",
        "\n",
        "id_column_dropdown = widgets.Dropdown(\n",
        "    options=id_column_options,\n",
        "    description='ID Column:',\n",
        ")\n",
        "\n",
        "output = widgets.Output()\n",
        "\n",
        "confirm_button = widgets.Button(description=\"Confirm Selection\")\n",
        "\n",
        "def on_confirm_button_clicked(b):\n",
        "    global text_column_name, id_column_name\n",
        "    text_column_name = text_column_dropdown.value\n",
        "    id_column_name = id_column_dropdown.value\n",
        "    with output:\n",
        "        clear_output()\n",
        "        print(f'Text Column confirmed: {text_column_name}')\n",
        "        print(f'ID Column confirmed: {id_column_name}')\n",
        "\n",
        "confirm_button.on_click(on_confirm_button_clicked)\n",
        "\n",
        "display(text_column_dropdown, id_column_dropdown, confirm_button, output)\n"
      ],
      "metadata": {
        "colab": {
          "base_uri": "https://localhost:8080/",
          "height": 111,
          "referenced_widgets": [
            "17d4a8a9146241dea185a7636cfb1f1b",
            "25256bbb12814cafab9bc604c1002454",
            "b6cd72c21d454f41aae17a632d4c3a05",
            "76c486529fb942b4bc6f068946ff6bc3",
            "b57697c124894ad6ba96f699f6d7aa24",
            "58cf561c15c249d9a4421dcb6eab9a0d",
            "ce6417985f794ad796ee1a54a97c078a",
            "f6d12c66d58b491890cba83c9455d895",
            "56bffefb3a794c009d2c3e7389a17a4c",
            "5992594a16ea416ab60789935ccd5dbb",
            "ab6d1c3563f8433bb7e3dd1ed548d327"
          ]
        },
        "id": "33AdG-LmyNgW",
        "outputId": "0262bdd5-aa87-4140-aacf-7bf9b61e5ea9"
      },
      "execution_count": null,
      "outputs": [
        {
          "output_type": "display_data",
          "data": {
            "text/plain": [
              "<IPython.core.display.Javascript object>"
            ],
            "application/javascript": [
              "google.colab.output.setIframeHeight(0, true, {maxHeight: 250})"
            ]
          },
          "metadata": {}
        },
        {
          "output_type": "display_data",
          "data": {
            "text/plain": [
              "<IPython.core.display.HTML object>"
            ],
            "text/html": [
              "<style> body {background-color: rgb(255, 250, 232);}</style>"
            ]
          },
          "metadata": {}
        },
        {
          "output_type": "display_data",
          "data": {
            "text/plain": [
              "Dropdown(description='Text Column:', options=('created_date', 'chat'), value='created_date')"
            ],
            "application/vnd.jupyter.widget-view+json": {
              "version_major": 2,
              "version_minor": 0,
              "model_id": "17d4a8a9146241dea185a7636cfb1f1b"
            }
          },
          "metadata": {}
        },
        {
          "output_type": "display_data",
          "data": {
            "text/plain": [
              "Dropdown(description='ID Column:', options=('message_id', 'chat_id', 'user_id'), value='message_id')"
            ],
            "application/vnd.jupyter.widget-view+json": {
              "version_major": 2,
              "version_minor": 0,
              "model_id": "76c486529fb942b4bc6f068946ff6bc3"
            }
          },
          "metadata": {}
        },
        {
          "output_type": "display_data",
          "data": {
            "text/plain": [
              "Button(description='Confirm Selection', style=ButtonStyle())"
            ],
            "application/vnd.jupyter.widget-view+json": {
              "version_major": 2,
              "version_minor": 0,
              "model_id": "ce6417985f794ad796ee1a54a97c078a"
            }
          },
          "metadata": {}
        },
        {
          "output_type": "display_data",
          "data": {
            "text/plain": [
              "Output()"
            ],
            "application/vnd.jupyter.widget-view+json": {
              "version_major": 2,
              "version_minor": 0,
              "model_id": "5992594a16ea416ab60789935ccd5dbb"
            }
          },
          "metadata": {}
        }
      ]
    },
    {
      "cell_type": "code",
      "execution_count": null,
      "metadata": {
        "colab": {
          "base_uri": "https://localhost:8080/",
          "height": 81,
          "referenced_widgets": [
            "28a0c7489b294467879f9fa07b5bd7d9",
            "eeb6296c45fd413fbc2add00b446c530",
            "57548213ce984e5eb21983c3a8836a19",
            "95f91ad7ffe14a99b061458625759982",
            "21efc89ab0934051bc691ee3bf6d6c4a",
            "b72268e340d748898f48f4f7ae48eb20",
            "81a590989a864c79808886073e039cc2",
            "69425d654b034bfab70baea9962a7f8c"
          ]
        },
        "outputId": "9603dadb-a421-4e2e-b77c-ef84c89f53f6",
        "id": "bO6SjaGt3iWf"
      },
      "outputs": [
        {
          "output_type": "display_data",
          "data": {
            "text/plain": [
              "<IPython.core.display.Javascript object>"
            ],
            "application/javascript": [
              "google.colab.output.setIframeHeight(0, true, {maxHeight: 250})"
            ]
          },
          "metadata": {}
        },
        {
          "output_type": "display_data",
          "data": {
            "text/plain": [
              "<IPython.core.display.HTML object>"
            ],
            "text/html": [
              "<style> body {background-color: rgb(255, 250, 232);}</style>"
            ]
          },
          "metadata": {}
        },
        {
          "output_type": "display_data",
          "data": {
            "text/plain": [
              "Dropdown(description='ID Column:', options=('message_id', 'user_id'), value='message_id')"
            ],
            "application/vnd.jupyter.widget-view+json": {
              "version_major": 2,
              "version_minor": 0,
              "model_id": "28a0c7489b294467879f9fa07b5bd7d9"
            }
          },
          "metadata": {}
        },
        {
          "output_type": "display_data",
          "data": {
            "text/plain": [
              "Button(description='Confirm Selection', style=ButtonStyle())"
            ],
            "application/vnd.jupyter.widget-view+json": {
              "version_major": 2,
              "version_minor": 0,
              "model_id": "95f91ad7ffe14a99b061458625759982"
            }
          },
          "metadata": {}
        },
        {
          "output_type": "display_data",
          "data": {
            "text/plain": [
              "Output()"
            ],
            "application/vnd.jupyter.widget-view+json": {
              "version_major": 2,
              "version_minor": 0,
              "model_id": "81a590989a864c79808886073e039cc2"
            }
          },
          "metadata": {}
        }
      ],
      "source": [
        "#@title Select Text and ID column (unit of analysis)\n",
        "\n",
        "#@markdown Click the __play button__ at the top left, and a dropdown option will appear.\n",
        "\n",
        "#@markdown __Choose__ the text column you wish to use as the unit of analysis and click \"Confirm Selection.\"\n",
        "\n",
        "import csv\n",
        "import ipywidgets as widgets\n",
        "from IPython.display import display, clear_output\n",
        "\n",
        "def get_available_columns(file_path):\n",
        "    \"\"\"Read the first row of the CSV file to get the column names.\"\"\"\n",
        "    with open(file_path, mode='r', encoding='utf-8') as file:\n",
        "        reader = csv.reader(file)\n",
        "        headers = next(reader, None)\n",
        "    return headers\n",
        "\n",
        "# Get available columns from the uploaded file\n",
        "#available_columns = headers\n",
        "available_columns = get_available_columns(file_path)\n",
        "\n",
        "# Filter available columns for \"message_id\" and \"user_id\"\n",
        "group_id_options = [col for col in available_columns if col in [\"message_id\", \"user_id\"]]\n",
        "\n",
        "# Create a dropdown for selecting the group_id based on available columns\n",
        "group_id_dropdown = widgets.Dropdown(\n",
        "    options=group_id_options,\n",
        "    value=group_id_options[0] if group_id_options else None,  # Default to first option or None\n",
        "    description='ID Column:',\n",
        ")\n",
        "\n",
        "# Output widget for displaying selected group_id\n",
        "output = widgets.Output()\n",
        "\n",
        "# Button for confirming the group_id selection\n",
        "confirm_button = widgets.Button(description=\"Confirm Selection\")\n",
        "\n",
        "# Function to update the group_id and display confirmation\n",
        "def on_confirm_button_clicked(b):\n",
        "    global group_id\n",
        "    group_id = group_id_dropdown.value\n",
        "    with output:\n",
        "        clear_output()\n",
        "        print(f'Group ID confirmed: {group_id}')\n",
        "\n",
        "confirm_button.on_click(on_confirm_button_clicked)\n",
        "\n",
        "# Display the dropdown, button, and output widget\n",
        "display(group_id_dropdown, confirm_button, output)\n"
      ]
    },
    {
      "cell_type": "markdown",
      "metadata": {
        "id": "kT_RYrYXlkye"
      },
      "source": [
        "**dlatkInferface.py.** <br />\n",
        "<hr />\n",
        "\n",
        "The most popular way people use dlatk is through it's command interface: `dlatkInterface.py`.\n",
        "\n",
        "For all the commands, DLATK takes in the following **mandatory settings** -\n",
        "\n",
        ">  **`-d`** - **d**atabase that will contain all data dlatk work with. This is often just your project name. <br />\n",
        " **`-t`** - message **t**able here our text lives. If it's not loaded yet (as in this case), we can provide the name of the CSV file to be loaded into the database. <br />\n",
        " **`-g`** - **g**roup_id, the table column we will aggregate (unit of analysis).\n",
        "\n",
        "`\n",
        "<hr />\n",
        "<br />\n"
      ]
    },
    {
      "cell_type": "markdown",
      "metadata": {
        "id": "YM8YgGtzAGb1"
      },
      "source": [
        "## DLA: Step 1 - Extract word and phrase (ngrams) features"
      ]
    },
    {
      "cell_type": "markdown",
      "metadata": {
        "id": "DCkYVrHnyVfy"
      },
      "source": [
        "The first step of DLA is to extract features from the language. Here, we do this by extracting words and word phrases known as ngrams or \"tokens\" -- this process of splitting sequences of letters into words is called \"tokenization\".\n",
        "\n",
        "<br/>\n",
        "\n",
        "To do this, we use the following **ngram extraction flags** in addition to the mandatory settings.\n",
        "> **`--add_ngrams`** - the flag which starts the ngram extraction process<br />\n",
        " **`-n 1 [2] [3]`** -  the value or values for n in ngrams<br />\n",
        " **`--combine_feat_tables [NAME]`** - there will be 1 feature table for each `n`, this command concatenates them into one table with the provided `NAME`.\n",
        " <br />"
      ]
    },
    {
      "cell_type": "code",
      "execution_count": null,
      "metadata": {
        "colab": {
          "base_uri": "https://localhost:8080/",
          "height": 17
        },
        "id": "drWAnYPgz51y",
        "outputId": "26c7c0b2-5289-4759-f00d-5198fc3ea42f"
      },
      "outputs": [
        {
          "output_type": "display_data",
          "data": {
            "text/plain": [
              "<IPython.core.display.Javascript object>"
            ],
            "application/javascript": [
              "google.colab.output.setIframeHeight(0, true, {maxHeight: 250})"
            ]
          },
          "metadata": {}
        },
        {
          "output_type": "display_data",
          "data": {
            "text/plain": [
              "<IPython.core.display.HTML object>"
            ],
            "text/html": [
              "<style> body {background-color: rgb(255, 250, 232);}</style>"
            ]
          },
          "metadata": {}
        },
        {
          "output_type": "display_data",
          "data": {
            "text/plain": [
              "<IPython.core.display.Javascript object>"
            ],
            "application/javascript": [
              "google.colab.output.setIframeHeight(0, true, {maxHeight: 250})"
            ]
          },
          "metadata": {}
        },
        {
          "output_type": "display_data",
          "data": {
            "text/plain": [
              "<IPython.core.display.HTML object>"
            ],
            "text/html": [
              "<style> body {background-color: rgb(255, 250, 232);}</style>"
            ]
          },
          "metadata": {}
        },
        {
          "output_type": "display_data",
          "data": {
            "text/plain": [
              "<IPython.core.display.Javascript object>"
            ],
            "application/javascript": [
              "google.colab.output.setIframeHeight(0, true, {maxHeight: 250})"
            ]
          },
          "metadata": {}
        },
        {
          "output_type": "display_data",
          "data": {
            "text/plain": [
              "<IPython.core.display.HTML object>"
            ],
            "text/html": [
              "<style> body {background-color: rgb(255, 250, 232);}</style>"
            ]
          },
          "metadata": {}
        },
        {
          "output_type": "display_data",
          "data": {
            "text/plain": [
              "<IPython.core.display.Javascript object>"
            ],
            "application/javascript": [
              "google.colab.output.setIframeHeight(0, true, {maxHeight: 250})"
            ]
          },
          "metadata": {}
        },
        {
          "output_type": "display_data",
          "data": {
            "text/plain": [
              "<IPython.core.display.HTML object>"
            ],
            "text/html": [
              "<style> body {background-color: rgb(255, 250, 232);}</style>"
            ]
          },
          "metadata": {}
        },
        {
          "output_type": "display_data",
          "data": {
            "text/plain": [
              "<IPython.core.display.Javascript object>"
            ],
            "application/javascript": [
              "google.colab.output.setIframeHeight(0, true, {maxHeight: 250})"
            ]
          },
          "metadata": {}
        },
        {
          "output_type": "display_data",
          "data": {
            "text/plain": [
              "<IPython.core.display.HTML object>"
            ],
            "text/html": [
              "<style> body {background-color: rgb(255, 250, 232);}</style>"
            ]
          },
          "metadata": {}
        },
        {
          "output_type": "display_data",
          "data": {
            "text/plain": [
              "<IPython.core.display.Javascript object>"
            ],
            "application/javascript": [
              "google.colab.output.setIframeHeight(0, true, {maxHeight: 250})"
            ]
          },
          "metadata": {}
        },
        {
          "output_type": "display_data",
          "data": {
            "text/plain": [
              "<IPython.core.display.HTML object>"
            ],
            "text/html": [
              "<style> body {background-color: rgb(255, 250, 232);}</style>"
            ]
          },
          "metadata": {}
        },
        {
          "output_type": "display_data",
          "data": {
            "text/plain": [
              "<IPython.core.display.Javascript object>"
            ],
            "application/javascript": [
              "google.colab.output.setIframeHeight(0, true, {maxHeight: 250})"
            ]
          },
          "metadata": {}
        },
        {
          "output_type": "display_data",
          "data": {
            "text/plain": [
              "<IPython.core.display.HTML object>"
            ],
            "text/html": [
              "<style> body {background-color: rgb(255, 250, 232);}</style>"
            ]
          },
          "metadata": {}
        },
        {
          "output_type": "display_data",
          "data": {
            "text/plain": [
              "<IPython.core.display.Javascript object>"
            ],
            "application/javascript": [
              "google.colab.output.setIframeHeight(0, true, {maxHeight: 250})"
            ]
          },
          "metadata": {}
        },
        {
          "output_type": "display_data",
          "data": {
            "text/plain": [
              "<IPython.core.display.HTML object>"
            ],
            "text/html": [
              "<style> body {background-color: rgb(255, 250, 232);}</style>"
            ]
          },
          "metadata": {}
        }
      ],
      "source": [
        "#@markdown After uploading, specify the group_id, ngram values (e.g., 1 for unigrams, 2 for bigrams), and an optional name for the combined feature table.\n",
        "#@markdown If it is empty, check the last line of yellow result box to see which table is formed.\n",
        "\n",
        "select_text_column = \"user_id\" #@param [\"message_id\", \"user_id\"] {type:\"string\"}\n",
        "group_id = select_text_column\n"
      ]
    },
    {
      "cell_type": "code",
      "source": [
        "import re\n",
        "\n",
        "# Assume file_name is set to the name of the uploaded file\n",
        "table_name = file_name  # Use the file_name from Part 1\n",
        "\n",
        "database_name = \"colab_csv\"\n",
        "ngram_values = \"1 2\" #@param [\"1 2\", \"1 3\"] {type:\"string\"}\n",
        "combined_feature_table_name = \"\" #@param {type:\"string\"}\n",
        "\n",
        "# Automatically assign combined_feature_table_name based on ngram_values if not specified\n",
        "if not combined_feature_table_name:\n",
        "    ngram_parts = ngram_values.split()\n",
        "    if len(ngram_parts) == 1:\n",
        "        combined_feature_table_name = f\"{ngram_parts[0]}gram\"\n",
        "    else:\n",
        "        combined_feature_table_name = 'to'.join([f\"{part}gram\" for part in ngram_parts])\n",
        "\n",
        "# Form the DLATK command\n",
        "!dlatkInterface.py -d {database_name} -t {table_name} -g {group_id} \\\n",
        "--add_ngrams -n {ngram_values} \\\n",
        "--combine_feat_tables {combined_feature_table_name}\n",
        "\n",
        "print(\"Table called \" + combined_feature_table_name + \" is formed\")"
      ],
      "metadata": {
        "colab": {
          "base_uri": "https://localhost:8080/",
          "height": 250
        },
        "id": "HnVDaBxLyhUM",
        "outputId": "4b73abd5-6b9f-44ec-ba61-43a86b6f7f35"
      },
      "execution_count": null,
      "outputs": [
        {
          "output_type": "display_data",
          "data": {
            "text/plain": [
              "<IPython.core.display.Javascript object>"
            ],
            "application/javascript": [
              "google.colab.output.setIframeHeight(0, true, {maxHeight: 250})"
            ]
          },
          "metadata": {}
        },
        {
          "output_type": "display_data",
          "data": {
            "text/plain": [
              "<IPython.core.display.HTML object>"
            ],
            "text/html": [
              "<style> body {background-color: rgb(255, 250, 232);}</style>"
            ]
          },
          "metadata": {}
        },
        {
          "output_type": "display_data",
          "data": {
            "text/plain": [
              "<IPython.core.display.Javascript object>"
            ],
            "application/javascript": [
              "google.colab.output.setIframeHeight(0, true, {maxHeight: 250})"
            ]
          },
          "metadata": {}
        },
        {
          "output_type": "display_data",
          "data": {
            "text/plain": [
              "<IPython.core.display.HTML object>"
            ],
            "text/html": [
              "<style> body {background-color: rgb(255, 250, 232);}</style>"
            ]
          },
          "metadata": {}
        },
        {
          "output_type": "display_data",
          "data": {
            "text/plain": [
              "<IPython.core.display.Javascript object>"
            ],
            "application/javascript": [
              "google.colab.output.setIframeHeight(0, true, {maxHeight: 250})"
            ]
          },
          "metadata": {}
        },
        {
          "output_type": "display_data",
          "data": {
            "text/plain": [
              "<IPython.core.display.HTML object>"
            ],
            "text/html": [
              "<style> body {background-color: rgb(255, 250, 232);}</style>"
            ]
          },
          "metadata": {}
        },
        {
          "output_type": "stream",
          "name": "stdout",
          "text": [
            "\n",
            "\n",
            "TopicExtractor: gensim Mallet wrapper unavailable, using Mallet directly.\n",
            "\n",
            "-----\n",
            "DLATK Interface Initiated: 2024-03-15 04:41:59\n",
            "-----\n",
            "Connecting to SQLite database: /content/sqlite_data/colab_csv.db\n",
            "query: PRAGMA table_info(msgs100utest)\n",
            "SQL Query: DROP TABLE IF EXISTS feat$1gram$msgs100utest$user_id\n",
            "SQL Query: CREATE TABLE feat$1gram$msgs100utest$user_id ( id INTEGER PRIMARY KEY, group_id INTEGER, feat VARCHAR(36), value INTEGER, group_norm DOUBLE)\n",
            "\n",
            "\n",
            "Creating index correl_field on table:feat$1gram$msgs100utest$user_id, column:group_id \n",
            "\n",
            "\n",
            "SQL Query: CREATE INDEX correl_field$1gram$msgs100utest$user_id ON feat$1gram$msgs100utest$user_id (group_id)\n",
            "\n",
            "\n",
            "Creating index feature on table:feat$1gram$msgs100utest$user_id, column:feat \n",
            "\n",
            "\n",
            "SQL Query: CREATE INDEX feature$1gram$msgs100utest$user_id ON feat$1gram$msgs100utest$user_id (feat)\n",
            "query: PRAGMA table_info(msgs100utest)\n",
            "SQL Query: DROP TABLE IF EXISTS feat$meta_1gram$msgs100utest$user_id\n",
            "SQL Query: CREATE TABLE feat$meta_1gram$msgs100utest$user_id ( id INTEGER PRIMARY KEY, group_id INTEGER, feat VARCHAR(16), value INTEGER, group_norm DOUBLE)\n",
            "\n",
            "\n",
            "Creating index correl_field on table:feat$meta_1gram$msgs100utest$user_id, column:group_id \n",
            "\n",
            "\n",
            "\n",
            "\n",
            "Creating index feature on table:feat$meta_1gram$msgs100utest$user_id, column:feat \n",
            "\n",
            "\n",
            "finding messages for 100 'user_id's\n",
            "WARNING: The table msgs100utest does not have: a PRIMARY key on message_id. Consider adding.\n",
            "         Please check that all messages have a unique message_id, this can significantly impact all downstream analysis\n",
            "WARNING: The table msgs100utest does not have: an index on user_id. Consider adding.\n",
            " [5%] Inserted 4080 total ngram rows covering 5 user_ids\n",
            " [10%] Inserted 9553 total ngram rows covering 10 user_ids\n",
            " [15%] Inserted 12013 total ngram rows covering 15 user_ids\n",
            " [20%] Inserted 13766 total ngram rows covering 20 user_ids\n",
            " [25%] Inserted 16779 total ngram rows covering 25 user_ids\n",
            " [30%] Inserted 18797 total ngram rows covering 30 user_ids\n",
            " [35%] Inserted 20922 total ngram rows covering 35 user_ids\n",
            " [40%] Inserted 24771 total ngram rows covering 40 user_ids\n",
            " [45%] Inserted 27175 total ngram rows covering 45 user_ids\n",
            " [50%] Inserted 30071 total ngram rows covering 50 user_ids\n",
            " [55%] Inserted 35301 total ngram rows covering 55 user_ids\n",
            " [60%] Inserted 38556 total ngram rows covering 60 user_ids\n",
            " [65%] Inserted 41152 total ngram rows covering 65 user_ids\n",
            " [70%] Inserted 45669 total ngram rows covering 70 user_ids\n",
            " [75%] Inserted 48773 total ngram rows covering 75 user_ids\n",
            " [80%] Inserted 53034 total ngram rows covering 80 user_ids\n",
            " [85%] Inserted 57516 total ngram rows covering 85 user_ids\n",
            " [90%] Inserted 60210 total ngram rows covering 90 user_ids\n",
            " [95%] Inserted 62528 total ngram rows covering 95 user_ids\n",
            " [100%] Inserted 64516 total ngram rows covering 100 user_ids\n",
            "Done Reading / Inserting.\n",
            "Adding Keys (if goes to keycache, then decrease MAX_TO_DISABLE_KEYS or run myisamchk -n).\n",
            "Done\n",
            "\n",
            "query: PRAGMA table_info(msgs100utest)\n",
            "SQL Query: DROP TABLE IF EXISTS feat$2gram$msgs100utest$user_id\n",
            "SQL Query: CREATE TABLE feat$2gram$msgs100utest$user_id ( id INTEGER PRIMARY KEY, group_id INTEGER, feat VARCHAR(70), value INTEGER, group_norm DOUBLE)\n",
            "\n",
            "\n",
            "Creating index correl_field on table:feat$2gram$msgs100utest$user_id, column:group_id \n",
            "\n",
            "\n",
            "SQL Query: CREATE INDEX correl_field$2gram$msgs100utest$user_id ON feat$2gram$msgs100utest$user_id (group_id)\n",
            "\n",
            "\n",
            "Creating index feature on table:feat$2gram$msgs100utest$user_id, column:feat \n",
            "\n",
            "\n",
            "SQL Query: CREATE INDEX feature$2gram$msgs100utest$user_id ON feat$2gram$msgs100utest$user_id (feat)\n",
            "query: PRAGMA table_info(msgs100utest)\n",
            "SQL Query: DROP TABLE IF EXISTS feat$meta_2gram$msgs100utest$user_id\n",
            "SQL Query: CREATE TABLE feat$meta_2gram$msgs100utest$user_id ( id INTEGER PRIMARY KEY, group_id INTEGER, feat VARCHAR(16), value INTEGER, group_norm DOUBLE)\n",
            "\n",
            "\n",
            "Creating index correl_field on table:feat$meta_2gram$msgs100utest$user_id, column:group_id \n",
            "\n",
            "\n",
            "\n",
            "\n",
            "Creating index feature on table:feat$meta_2gram$msgs100utest$user_id, column:feat \n",
            "\n",
            "\n",
            "finding messages for 100 'user_id's\n",
            " [5%] Inserted 10738 total ngram rows covering 5 user_ids\n",
            " [10%] Inserted 26507 total ngram rows covering 10 user_ids\n",
            " [15%] Inserted 32549 total ngram rows covering 15 user_ids\n",
            " [20%] Inserted 36411 total ngram rows covering 20 user_ids\n",
            " [25%] Inserted 44868 total ngram rows covering 25 user_ids\n",
            " [30%] Inserted 49988 total ngram rows covering 30 user_ids\n",
            " [35%] Inserted 54670 total ngram rows covering 35 user_ids\n",
            " [40%] Inserted 65850 total ngram rows covering 40 user_ids\n",
            " [45%] Inserted 71560 total ngram rows covering 45 user_ids\n",
            " [50%] Inserted 78646 total ngram rows covering 50 user_ids\n",
            " [55%] Inserted 93019 total ngram rows covering 55 user_ids\n",
            " [60%] Inserted 101833 total ngram rows covering 60 user_ids\n",
            " [65%] Inserted 107573 total ngram rows covering 65 user_ids\n",
            " [70%] Inserted 120748 total ngram rows covering 70 user_ids\n",
            " [75%] Inserted 128508 total ngram rows covering 75 user_ids\n",
            " [80%] Inserted 141249 total ngram rows covering 80 user_ids\n",
            " [85%] Inserted 153856 total ngram rows covering 85 user_ids\n",
            " [90%] Inserted 160559 total ngram rows covering 90 user_ids\n",
            " [95%] Inserted 165936 total ngram rows covering 95 user_ids\n",
            " [100%] Inserted 170489 total ngram rows covering 100 user_ids\n",
            "Done Reading / Inserting.\n",
            "Adding Keys (if goes to keycache, then decrease MAX_TO_DISABLE_KEYS or run myisamchk -n).\n",
            "Done\n",
            "\n",
            "Connecting to SQLite database: /content/sqlite_data/colab_csv.db\n",
            "SQL Query: DROP TABLE IF EXISTS feat$1gramto2gram$msgs100utest$user_id\n",
            "SQL Query: CREATE TABLE feat$1gramto2gram$msgs100utest$user_id ( id INTEGER PRIMARY KEY, group_id INTEGER, feat VARCHAR(70), value INTEGER, group_norm DOUBLE)\n",
            "\n",
            "\n",
            "Creating index correl_field on table:feat$1gramto2gram$msgs100utest$user_id, column:group_id \n",
            "\n",
            "\n",
            "SQL Query: CREATE INDEX correl_field$1gramto2gram$msgs100utest$user_id ON feat$1gramto2gram$msgs100utest$user_id (group_id)\n",
            "\n",
            "\n",
            "Creating index feature on table:feat$1gramto2gram$msgs100utest$user_id, column:feat \n",
            "\n",
            "\n",
            "SQL Query: CREATE INDEX feature$1gramto2gram$msgs100utest$user_id ON feat$1gramto2gram$msgs100utest$user_id (feat)\n",
            "-------\n",
            "Settings:\n",
            "\n",
            "Database - colab_csv\n",
            "Corpus - msgs100utest.csv\n",
            "Group ID - user_id\n",
            "Feature table(s) - feat$1gramto2gram$msgs100utest$user_id\n",
            "-------\n",
            "Interface Runtime: 12.66 seconds\n",
            "DLATK exits with success! A good day indeed  ¯\\_(ツ)_/¯.\n",
            "Table called 1gramto2gram is formed\n"
          ]
        }
      ]
    },
    {
      "cell_type": "markdown",
      "metadata": {
        "id": "OPtE75OJ4Bnf"
      },
      "source": [
        "👆 If you see `DLATK exits with success!` then the command ran successfully and\n",
        "\n",
        "---\n",
        "\n",
        "the features are ready!\n",
        "<hr />\n",
        "<br />\n",
        "<br />\n",
        "\n",
        "\n",
        "To check the created feature tables, you can use the **`--show_feat_tables`** flag as shown below."
      ]
    },
    {
      "cell_type": "code",
      "source": [
        "#@title Feature Tables Management { display-mode: \"form\" }\n",
        "#@markdown **Click play button** to list feature tables based on your previously uploaded file, save them, and select a table to view\n",
        "\n",
        "#@markdown After choose it, within 3 seconds you will see the first 10 rows of the message table and the first 10 of the feature table\n",
        "\n",
        "import re\n",
        "import subprocess\n",
        "import ipywidgets as widgets\n",
        "from IPython.display import display, clear_output\n",
        "\n",
        "# Assume `file_name` is already defined in your environment\n",
        "database_name = \"colab_csv\"\n",
        "\n",
        "def sanitize_file_name(file_name):\n",
        "    base_file_name = re.sub(r\" \\(\\d+\\)\", \"\", file_name)\n",
        "    if not base_file_name.endswith('.csv'):\n",
        "        base_file_name += '.csv'\n",
        "    return base_file_name\n",
        "\n",
        "def list_feature_tables(database_name, table_name):\n",
        "    command = f\"dlatkInterface.py -d {database_name} -t {table_name} --show_feat_tables\"\n",
        "    process = subprocess.run(command, shell=True, text=True, capture_output=True)\n",
        "    output_lines = process.stdout.split('\\n')\n",
        "    table_names = [line.strip() for line in output_lines if line.startswith(\"feat$\")]\n",
        "    return table_names\n",
        "\n",
        "def save_feature_tables(table_names):\n",
        "    with open(\"available_feature_tables.txt\", \"w\") as file:\n",
        "        for table_name in table_names:\n",
        "            file.write(f\"{table_name}\\n\")\n",
        "\n",
        "def get_feature_table_options():\n",
        "    with open(\"available_feature_tables.txt\", \"r\") as file:\n",
        "        return [line.strip() for line in file.readlines() if line.strip()]\n",
        "\n",
        "def on_dropdown_change(change):\n",
        "    if change['type'] == 'change' and change['name'] == 'value':\n",
        "        clear_output(wait=True)\n",
        "        selected_table = change['new']\n",
        "        command = f\"dlatkInterface.py -d {database_name} -t '{sanitize_file_name(file_name)}' -g user_id -f '{selected_table}' --view_tables\"\n",
        "        process = subprocess.run(command, shell=True, text=True, capture_output=True)\n",
        "        print(process.stdout)\n",
        "\n",
        "# List feature tables\n",
        "base_file_name = sanitize_file_name(file_name)\n",
        "table_names = list_feature_tables(database_name, base_file_name)\n",
        "\n",
        "# Save feature tables to a file for dropdown\n",
        "save_feature_tables(table_names)\n",
        "\n",
        "# Create and display dropdown for selecting feature tables\n",
        "feature_table_options = get_feature_table_options()\n",
        "dropdown = widgets.Dropdown(options=feature_table_options, description='Select Table:')\n",
        "dropdown.observe(on_dropdown_change, names='value')\n",
        "display(dropdown)\n"
      ],
      "metadata": {
        "colab": {
          "base_uri": "https://localhost:8080/",
          "height": 250,
          "referenced_widgets": [
            "01762109f12e49c3b23dc9efad3e4768",
            "ba311d878230440484a9700405fb85f6",
            "29f5f14a7e7c4951a45ff009f1924676"
          ]
        },
        "id": "9OvZL5m0fdwY",
        "outputId": "2e9a4dbf-09a3-4ec4-d4f2-a0a3b2233e39"
      },
      "execution_count": null,
      "outputs": [
        {
          "output_type": "stream",
          "name": "stdout",
          "text": [
            "\n",
            "\n",
            "Connecting to SQLite database: /content/sqlite_data/colab_csv.db\n",
            "     message_id        user_id   created_date        message\n",
            "              1         743739     2004-07-21 urlLink ESPN.c\n",
            "              2         743739     2004-07-20 Well, this wil\n",
            "              3         743739     2004-07-20 urlLink Cartoo\n",
            "              4         743739     2004-07-20 Just like the \n",
            "              5         743739     2004-08-05 It has come to\n",
            "              6         743739     2004-08-03 urlLink ESPN.c\n",
            "              7         743739     2004-08-02 So let me see \n",
            "              8         743739     2004-08-01 Ok, quick trip\n",
            "              9         743739     2004-08-09 urlLink ebay i\n",
            "             10         743739     2004-08-09 urlLink Help o\n",
            "             id       group_id           feat          value     group_norm\n",
            "              1         743739        urllink              6 0.002970297029\n",
            "              2         743739       espn.com              2 0.000990099009\n",
            "              3         743739              :             10 0.004950495049\n",
            "              4         743739           page              1 0.000495049504\n",
            "              5         743739              2              5 0.002475247524\n",
            "              6         743739              -             74 0.036633663366\n",
            "              7         743739          sorry              1 0.000495049504\n",
            "              8         743739              ,             96 0.047524752475\n",
            "              9         743739           cubs              2 0.000990099009\n",
            "             10         743739           fans              3 0.001485148514\n",
            "\n"
          ]
        }
      ]
    },
    {
      "cell_type": "markdown",
      "metadata": {
        "id": "dvkUxEHwAkse"
      },
      "source": [
        "👆 Scroll and you should see the first 10 rows of the message table and the first 10 of the feature table.\n",
        "\n",
        "<br />\n"
      ]
    },
    {
      "cell_type": "markdown",
      "metadata": {
        "id": "qR6DmMeoEzsb"
      },
      "source": [
        "👆 Example of feature tables when you input **group_id as user_id, ngram_values as 1 2, combined_feature_table_name as empty**\n",
        "```\n",
        "feat$1gram$msgs404u$user_id\n",
        "feat$meta_1gram$msgs404u$user_id\n",
        "feat$2gram$msgs404u$user_id\n",
        "feat$meta_2gram$msgs404u$user_id\n",
        "feat$1to2gram$msgs404u$user_id\n",
        "```\n",
        "\n",
        "1.   `feat$1gram$msgs404u$user_id` contains the 1grams (single words).\n",
        "2.   `feat$meta_1gram$msgs404u$user_id` contains count data about 1grams.\n",
        "\n",
        "Similarly `feat$2gram$msgs404u$user_id` and `feat$meta_2gram$msgs404u$user_id` contain 2grams and their count data respectively, while `feat$1to2gram$msgs404u$user_id` is the concatenated table from `feat$1gram$msgs404u$user_id` and `feat$2gram$msgs404u$user_id`.\n",
        "\n",
        "<hr />\n",
        "\n",
        "<br />"
      ]
    },
    {
      "cell_type": "markdown",
      "metadata": {
        "id": "NbAUL3ZMH66f"
      },
      "source": [
        "<hr />\n",
        "\n",
        "So, what is a **Feature Table**? - A feature table is a data type to store extracted representations of the language. All feature tables contain at least the below columns -\n",
        "\n",
        "* `group_id` - individual units of analysis (group) of data\n",
        "* `feat` - extracted features, which can be tokens or lexicon features (to be discussed), embeddings, etc.\n",
        "* `value` - frequency value of the feature in the group.\n",
        "* `group_norm` - the normalized frequency of the feature (i.e. the relative frequency of the word) within the group.\n",
        "\n",
        "<hr />\n",
        "<br />"
      ]
    },
    {
      "cell_type": "markdown",
      "metadata": {
        "id": "QKiWpcWRWIs1"
      },
      "source": [
        "# Colab Frontend: Data visualize on table\n"
      ]
    },
    {
      "cell_type": "markdown",
      "metadata": {
        "id": "tp0zRKd851Fh"
      },
      "source": [
        "## DLA: Step 2 - Feature Filtering"
      ]
    },
    {
      "cell_type": "markdown",
      "metadata": {
        "id": "nc0KgyzXIKhv"
      },
      "source": [
        "The number of distinct tokens can be large in comparison to the sample size. However, a lot of these tokens are particular to just 1 or 2 examples (see [Zipf's Law](https://en.wikipedia.org/wiki/Zipf%27s_law) ), and not representative of the sample, and hence can be eliminated. Flags required to **filter such outlying words/phrases** are:\n",
        "\n",
        "> **`--feat_occ_filter`** - create a new feature table with infrequent features removed.<br />\n",
        " **`--set_p_occ`** - features used by less than this percentage of groups are dropped. <br />\n",
        " **`--feat_colloc_filter`** - create a new feature table without rare sequences of words (limiting to [collocations](https://nlp.stanford.edu/fsnlp/promo/colloc.pdf)).\n",
        "\n",
        "<br/>\n",
        "\n",
        "Similarly, when running filters, it is also good to specify a minimum word count per group (user in this case) required for the group to be considered:\n",
        "\n",
        "> **`--group_freq_thresh`** -  ignore groups which do not contain a certain number of words when running analyses (e.g. when calculating p_occ)"
      ]
    },
    {
      "cell_type": "code",
      "source": [
        "#@markdown Please adjust the parameters below as per your dataset and analysis requirements before executing the command.\n",
        "\n",
        "#@markdown **Group Freq Threshold:** Minimum number of words per group for the group to be considered:\n",
        "#@markdown **(limit 0 to 500)**\n",
        "\n",
        "#@markdown **Percentage Occurrence:** Percentage threshold for feature occurrence (features used by less than this percentage of groups are dropped):\n",
        "#@markdown **(limit 0 to 1)**\n",
        "\n",
        "import re\n",
        "import subprocess\n",
        "import ipywidgets as widgets\n",
        "from IPython.display import display, clear_output\n",
        "\n",
        "# Assume file_name is set to the name of the uploaded file\n",
        "database_name = \"colab_csv\"\n",
        "\n",
        "def sanitize_file_name(file_name):\n",
        "    \"\"\"Sanitizes the file name to ensure it ends with '.csv'.\"\"\"\n",
        "    base_file_name = re.sub(r\" \\(\\d+\\)\", \"\", file_name)\n",
        "    if not base_file_name.endswith('.csv'):\n",
        "        base_file_name += '.csv'\n",
        "    return base_file_name\n",
        "\n",
        "def update_feature_table_options():\n",
        "    \"\"\"Updates the available feature table options by re-reading the saved file.\"\"\"\n",
        "    with open(\"available_feature_tables.txt\", \"r\") as file:\n",
        "        options = [line.strip() for line in file.readlines() if line.strip()]\n",
        "    dropdown.options = options\n",
        "\n",
        "# Function to execute the DLATK command and update feature table list\n",
        "def on_submit_clicked(b):\n",
        "    clear_output(wait=True)\n",
        "    selected_table = dropdown.value\n",
        "    group_freq_threshold = group_freq_threshold_widget.value\n",
        "    percentage_occurrence = percentage_occurrence_widget.value\n",
        "    command = f\"dlatkInterface.py -d {database_name} -t {sanitize_file_name(file_name)} --group_freq_thresh {group_freq_threshold} -f '{selected_table}' --feat_occ_filter --set_p_occ {percentage_occurrence} --feat_colloc_filter\"\n",
        "\n",
        "    print(\"Executing command:\", command)\n",
        "    process = subprocess.run(command, shell=True, text=True, capture_output=True)\n",
        "    if process.stdout:\n",
        "        print(process.stdout)\n",
        "    if process.stderr:\n",
        "        print(\"Error:\", process.stderr)\n",
        "\n",
        "    # After executing the command, update the list of feature tables\n",
        "    command_list_tables = f\"dlatkInterface.py -d {database_name} -t {sanitize_file_name(file_name)} --show_feat_tables\"\n",
        "    process_list = subprocess.run(command_list_tables, shell=True, text=True, capture_output=True)\n",
        "    output_lines = process_list.stdout.split('\\n')\n",
        "    table_names = [line for line in output_lines if line.startswith(\"feat$\")]\n",
        "    with open(\"available_feature_tables.txt\", \"w\") as file:\n",
        "        for table_name in table_names:\n",
        "            file.write(f\"{table_name}\\n\")\n",
        "\n",
        "    update_feature_table_options()\n",
        "\n",
        "base_file_name = sanitize_file_name(file_name)\n",
        "\n",
        "# Input widgets for group frequency threshold and percentage occurrence\n",
        "group_freq_threshold_widget = widgets.IntText(value=100, description='Group Freq Threshold:', style={'description_width': 'initial'})\n",
        "percentage_occurrence_widget = widgets.FloatText(value=0.10, description='Percentage Occurrence:', style={'description_width': 'initial'})\n",
        "\n",
        "# Initialize dropdown with available feature tables\n",
        "feature_table_options = []\n",
        "dropdown = widgets.Dropdown(options=feature_table_options, description='Feature Table:')\n",
        "\n",
        "# Button to submit and execute the command with the selected and inputted parameters\n",
        "submit_button = widgets.Button(description=\"Run Command\")\n",
        "submit_button.on_click(on_submit_clicked)\n",
        "\n",
        "# Display the widgets\n",
        "display(dropdown, group_freq_threshold_widget, percentage_occurrence_widget, submit_button)\n",
        "\n",
        "# Initially populate the dropdown with existing feature tables\n",
        "update_feature_table_options()\n"
      ],
      "metadata": {
        "id": "G9tg4JKIzw2J"
      },
      "execution_count": null,
      "outputs": []
    },
    {
      "cell_type": "markdown",
      "source": [
        "👆 If you see `DLATK exits with success!`, then you have successfully filtered the features. The name of the filtered feature table - `{Feature Table}$0_1$pmi3_0`.\n",
        "<hr />\n",
        "<br />\n",
        "\n",
        "To validate the structure and content of the created table, you can use `--view_tables` like above."
      ],
      "metadata": {
        "id": "0xcgOo6nTkuh"
      }
    },
    {
      "cell_type": "markdown",
      "metadata": {
        "id": "ib3Ps3VhAYdW"
      },
      "source": [
        "## DLA: Step 3 - Correlate (or associate) features with outcomes\n",
        "\n"
      ]
    },
    {
      "cell_type": "markdown",
      "source": [],
      "metadata": {
        "id": "goYKvoJ00sOo"
      }
    },
    {
      "cell_type": "markdown",
      "metadata": {
        "id": "tABQYJNl9w6b"
      },
      "source": [
        "👇 For example, the command below associates the ngram features (`feat$1to2gram$msgs404u$user_id$0_1$pmi3_0`) with the `age` of the user, controlling for `gender`, and store the results into an HTML file, by default using [standardized multiple regression](link)."
      ]
    },
    {
      "cell_type": "code",
      "execution_count": null,
      "metadata": {
        "id": "wCh-dgfb-MF0",
        "outputId": "37fef083-b16e-43fe-bd1a-742a92150263",
        "colab": {
          "base_uri": "https://localhost:8080/",
          "height": 52
        }
      },
      "outputs": [
        {
          "output_type": "display_data",
          "data": {
            "text/plain": [
              "<IPython.core.display.Javascript object>"
            ],
            "application/javascript": [
              "google.colab.output.setIframeHeight(0, true, {maxHeight: 250})"
            ]
          },
          "metadata": {}
        },
        {
          "output_type": "display_data",
          "data": {
            "text/plain": [
              "<IPython.core.display.HTML object>"
            ],
            "text/html": [
              "<style> body {background-color: rgb(255, 250, 232);}</style>"
            ]
          },
          "metadata": {}
        },
        {
          "output_type": "display_data",
          "data": {
            "text/plain": [
              "<IPython.core.display.Javascript object>"
            ],
            "application/javascript": [
              "google.colab.output.setIframeHeight(0, true, {maxHeight: 250})"
            ]
          },
          "metadata": {}
        },
        {
          "output_type": "display_data",
          "data": {
            "text/plain": [
              "<IPython.core.display.HTML object>"
            ],
            "text/html": [
              "<style> body {background-color: rgb(255, 250, 232);}</style>"
            ]
          },
          "metadata": {}
        },
        {
          "output_type": "display_data",
          "data": {
            "text/plain": [
              "<IPython.core.display.Javascript object>"
            ],
            "application/javascript": [
              "google.colab.output.setIframeHeight(0, true, {maxHeight: 250})"
            ]
          },
          "metadata": {}
        },
        {
          "output_type": "display_data",
          "data": {
            "text/plain": [
              "<IPython.core.display.HTML object>"
            ],
            "text/html": [
              "<style> body {background-color: rgb(255, 250, 232);}</style>"
            ]
          },
          "metadata": {}
        },
        {
          "output_type": "display_data",
          "data": {
            "text/plain": [
              "<IPython.core.display.Javascript object>"
            ],
            "application/javascript": [
              "google.colab.output.setIframeHeight(0, true, {maxHeight: 250})"
            ]
          },
          "metadata": {}
        },
        {
          "output_type": "display_data",
          "data": {
            "text/plain": [
              "<IPython.core.display.HTML object>"
            ],
            "text/html": [
              "<style> body {background-color: rgb(255, 250, 232);}</style>"
            ]
          },
          "metadata": {}
        },
        {
          "output_type": "display_data",
          "data": {
            "text/plain": [
              "<IPython.core.display.Javascript object>"
            ],
            "application/javascript": [
              "google.colab.output.setIframeHeight(0, true, {maxHeight: 250})"
            ]
          },
          "metadata": {}
        },
        {
          "output_type": "display_data",
          "data": {
            "text/plain": [
              "<IPython.core.display.HTML object>"
            ],
            "text/html": [
              "<style> body {background-color: rgb(255, 250, 232);}</style>"
            ]
          },
          "metadata": {}
        },
        {
          "output_type": "display_data",
          "data": {
            "text/plain": [
              "<IPython.core.display.Javascript object>"
            ],
            "application/javascript": [
              "google.colab.output.setIframeHeight(0, true, {maxHeight: 250})"
            ]
          },
          "metadata": {}
        },
        {
          "output_type": "display_data",
          "data": {
            "text/plain": [
              "<IPython.core.display.HTML object>"
            ],
            "text/html": [
              "<style> body {background-color: rgb(255, 250, 232);}</style>"
            ]
          },
          "metadata": {}
        },
        {
          "output_type": "display_data",
          "data": {
            "text/plain": [
              "<IPython.core.display.Javascript object>"
            ],
            "application/javascript": [
              "google.colab.output.setIframeHeight(0, true, {maxHeight: 250})"
            ]
          },
          "metadata": {}
        },
        {
          "output_type": "display_data",
          "data": {
            "text/plain": [
              "<IPython.core.display.HTML object>"
            ],
            "text/html": [
              "<style> body {background-color: rgb(255, 250, 232);}</style>"
            ]
          },
          "metadata": {}
        },
        {
          "output_type": "display_data",
          "data": {
            "text/plain": [
              "<IPython.core.display.Javascript object>"
            ],
            "application/javascript": [
              "google.colab.output.setIframeHeight(0, true, {maxHeight: 250})"
            ]
          },
          "metadata": {}
        },
        {
          "output_type": "display_data",
          "data": {
            "text/plain": [
              "<IPython.core.display.HTML object>"
            ],
            "text/html": [
              "<style> body {background-color: rgb(255, 250, 232);}</style>"
            ]
          },
          "metadata": {}
        },
        {
          "output_type": "stream",
          "name": "stdout",
          "text": [
            "Default dataset selected: users404.csv\n",
            "Dataset ready for use: /content/users404.csv\n"
          ]
        }
      ],
      "source": [
        "import re\n",
        "from google.colab import files\n",
        "import os\n",
        "\n",
        "#@markdown ### Step 1: Select Default Dataset or Upload from Desktop\n",
        "#@markdown Choose a default dataset from the dropdown or leave it as \"Upload from desktop\" to upload your dataset.\n",
        "\n",
        "# This is a dropdown for choosing between default datasets or uploading your own\n",
        "default_dataset = \"users404.csv\" #@param [\"Upload from desktop\", \"users100.csv\", \"users404.csv\"]\n",
        "\n",
        "# Function to check if the file exists (for local files)\n",
        "def file_exists(file_path):\n",
        "    return os.path.exists(file_path)\n",
        "\n",
        "# Sanitizes file names to ensure they end with '.csv'\n",
        "def sanitize_file_name(file_name):\n",
        "    base_file_name = re.sub(r\" \\(\\d+\\)\", \"\", file_name)\n",
        "    if not base_file_name.endswith('.csv'):\n",
        "        base_file_name += '.csv'\n",
        "    return base_file_name\n",
        "\n",
        "file_path = None  # Initialize file_path variable\n",
        "\n",
        "if default_dataset != \"Upload from desktop\":\n",
        "    # If a default dataset is selected, set the file_path accordingly\n",
        "    outcome_table_name = sanitize_file_name(default_dataset)\n",
        "    file_path = os.path.join(\"/content\", outcome_table_name)\n",
        "    print(f'Default dataset selected: {outcome_table_name}')\n",
        "else:\n",
        "    #@markdown If you choose to upload from the desktop, use the \"Choose Files\" button that will appear when running this cell.\n",
        "    print(\"Please upload a dataset from the desktop.\")\n",
        "    uploaded_files = files.upload()\n",
        "    if uploaded_files:\n",
        "        # Assuming only one file is uploaded, use its name\n",
        "        filename = next(iter(uploaded_files))\n",
        "        outcome_table_name = sanitize_file_name(filename)  # Sanitize the uploaded file's name\n",
        "        file_path = os.path.join(\"/content\", outcome_table_name)\n",
        "        print(f'Uploaded dataset name: {outcome_table_name}')\n",
        "    else:\n",
        "        print(\"No dataset uploaded. Please upload a dataset to proceed.\")\n",
        "\n",
        "# Verify the file's existence and readiness for use\n",
        "if file_path and file_exists(file_path):\n",
        "    print(f'Dataset ready for use: {file_path}')\n",
        "else:\n",
        "    print(\"Dataset not found. Please ensure the dataset exists and try again.\")\n"
      ]
    },
    {
      "cell_type": "code",
      "execution_count": null,
      "metadata": {
        "id": "ylpsmhgc-JFu",
        "colab": {
          "base_uri": "https://localhost:8080/"
        },
        "outputId": "de6e8834-61f6-4e6e-acae-88f240f5ef41"
      },
      "outputs": [
        {
          "output_type": "stream",
          "name": "stdout",
          "text": [
            "Outcome table name not set. Please ensure a file is uploaded in Part 1.\n"
          ]
        }
      ],
      "source": [
        "import ipywidgets as widgets\n",
        "from IPython.display import display, clear_output\n",
        "import csv\n",
        "\n",
        "#@markdown Please **adjust the parameters** below as per your dataset and analysis requirements before executing the command.\n",
        "\n",
        "# Ensure 'outcome_table_name' and other variables are defined and accessible in this scope\n",
        "if 'outcome_table_name' in globals():\n",
        "    # Open and read the CSV file to extract column names\n",
        "    with open(outcome_table_name, newline='') as csvfile:\n",
        "        reader = csv.reader(csvfile)\n",
        "        column_headers = next(reader, None)\n",
        "\n",
        "    if column_headers:\n",
        "        feature_table_options = get_feature_table_options()\n",
        "        feature_table_dropdown = widgets.Dropdown(options=feature_table_options, description='Feature Table:')\n",
        "\n",
        "        outcomes_widget = widgets.Dropdown(options=column_headers, description='Outcomes:')\n",
        "        controls_widget = widgets.Dropdown(options=column_headers, description='Controls:')\n",
        "        cat_to_bin_widget = widgets.Dropdown(options=column_headers, description='Cat to Bin:')\n",
        "\n",
        "        # Checkbox for making wordclouds\n",
        "        make_wordclouds_checkbox = widgets.Checkbox(value=False, description='Make Wordclouds')\n",
        "\n",
        "        def on_submit(change):\n",
        "            clear_output(wait=True)\n",
        "            outcomes = outcomes_widget.value\n",
        "            controls = controls_widget.value\n",
        "            cat_to_bin = cat_to_bin_widget.value\n",
        "            feature_table_name = feature_table_dropdown.value  # Get the selected feature table\n",
        "            group_freq_threshold = group_freq_threshold_widget.value  # Assume this is defined and accessible\n",
        "            make_wordclouds = make_wordclouds_checkbox.value  # Check if wordclouds should be made\n",
        "\n",
        "\n",
        "            # Construct the command with the selected feature table and other parameters\n",
        "            command = (\n",
        "                f\"dlatkInterface.py -d {database_name} -t {table_name} -g {group_id} \"\n",
        "                f\"--group_freq_thresh {group_freq_threshold} \"\n",
        "                f\"--feat_table '{feature_table_name}' \"\n",
        "                f\"--outcome_table {outcome_table_name} --outcomes {outcomes} \"\n",
        "                f\"--controls {controls} --cat_to_bin {cat_to_bin} --rmatrix\"\n",
        "            )\n",
        "            if make_wordclouds:\n",
        "                command += \" --make_wordclouds\"\n",
        "            print(\"Command to execute:\", command)\n",
        "            process = subprocess.run(command, shell=True, text=True, capture_output=True)\n",
        "            print(process.stdout)\n",
        "            if process.stderr:\n",
        "                print(\"Error:\", process.stderr)\n",
        "\n",
        "        submit_button = widgets.Button(description=\"Submit\")\n",
        "        submit_button.on_click(on_submit)\n",
        "\n",
        "        # Display the widgets including the feature table dropdown\n",
        "        display(feature_table_dropdown, outcomes_widget, controls_widget, cat_to_bin_widget,make_wordclouds_checkbox, submit_button)\n",
        "    else:\n",
        "        print(\"Failed to read column names from the outcome table.\")\n",
        "else:\n",
        "    print(\"Outcome table name not set. Please ensure a file is uploaded in Part 1.\")"
      ]
    },
    {
      "cell_type": "markdown",
      "metadata": {
        "id": "RSb9Pg1vHwrl"
      },
      "source": [
        "👆 If you see `DLATK exits with success!` then the command executed successfully. The command should have stored an HTML (`feat.1to2gram.msgs404u.user_id.0_1.pmi3_0.age.gender__0.freq100.rMatrix.html`) with the results in the `Files` tab.\n",
        "\n",
        "<br/>\n",
        "\n",
        "<img src=\"https://drive.google.com/uc?export=view&id=1R_sk7opK6FoZk1y2U8dCTsJA_PvytQhh\" height=\"250\" width=\"500\"/>\n",
        "\n",
        "<hr />\n",
        "<br />\n",
        "\n",
        "In addition to the tabular format, you can also observe the correlated features in the form of a word clouds. Flags required are **`--make_wordclouds`** (as shown below).\n",
        "\n"
      ]
    },
    {
      "cell_type": "markdown",
      "metadata": {
        "id": "6zrNcNVr5eAD"
      },
      "source": [
        "👆 The above command produces the HTML (as above) and wordclouds stored in the `feat.1to2gram.msgs404u.user_id.0_1.pmi3_0.age.gender__0.freq100._tagcloud_wordclouds` folder under the `Files` tab.\n",
        "\n",
        "<br/>\n",
        "\n",
        "<img src=\"https://drive.google.com/uc?export=view&id=14r8SEs4k-2otKqsxjKHySyQF-0KV3NI0\" height=\"250\" width=\"500\"/>\n",
        "\n",
        "<hr />\n",
        "<br />\n",
        "<br />\n",
        "\n",
        "You can view the word clouds using the `print_wordclouds()` function below which takes in the path to the folder containing the word clouds. For example, to view the word clouds extracted earlier, the command would be - `print_wordclouds(\"feat.1to2gram.msgs404u.user_id.0_1.pmi3_0.age.gender__0.freq100._tagcloud_wordclouds\")`."
      ]
    },
    {
      "cell_type": "code",
      "source": [
        "#@markdown Click run button see **word cloud image**\n",
        "\n",
        "from dlatk.tools.colab_methods import print_wordclouds\n",
        "\n",
        "feature_table_name = feature_table_dropdown.value.replace('$', '.')\n",
        "outcomes = outcomes_widget.value\n",
        "controls = controls_widget.value\n",
        "group_freq_threshold = group_freq_threshold_widget.value\n",
        "\n",
        "wordcloud_file_name = f\"{feature_table_name}.{outcomes}.{controls}__0.freq{group_freq_threshold}._tagcloud_wordclouds\"\n",
        "print(wordcloud_file_name)\n",
        "print_wordclouds(wordcloud_file_name)\n",
        "\n"
      ],
      "metadata": {
        "colab": {
          "base_uri": "https://localhost:8080/",
          "height": 210
        },
        "id": "vc5DBO-F84Iw",
        "outputId": "3077619f-8b26-4366-cc58-8307ee0249ee"
      },
      "execution_count": null,
      "outputs": [
        {
          "output_type": "display_data",
          "data": {
            "text/plain": [
              "<IPython.core.display.Javascript object>"
            ],
            "application/javascript": [
              "google.colab.output.setIframeHeight(0, true, {maxHeight: 250})"
            ]
          },
          "metadata": {}
        },
        {
          "output_type": "display_data",
          "data": {
            "text/plain": [
              "<IPython.core.display.HTML object>"
            ],
            "text/html": [
              "<style> body {background-color: rgb(255, 250, 232);}</style>"
            ]
          },
          "metadata": {}
        },
        {
          "output_type": "error",
          "ename": "NameError",
          "evalue": "name 'feature_table_dropdown' is not defined",
          "traceback": [
            "\u001b[0;31m---------------------------------------------------------------------------\u001b[0m",
            "\u001b[0;31mNameError\u001b[0m                                 Traceback (most recent call last)",
            "\u001b[0;32m<ipython-input-10-b69d42ff7e48>\u001b[0m in \u001b[0;36m<cell line: 5>\u001b[0;34m()\u001b[0m\n\u001b[1;32m      3\u001b[0m \u001b[0;32mfrom\u001b[0m \u001b[0mdlatk\u001b[0m\u001b[0;34m.\u001b[0m\u001b[0mtools\u001b[0m\u001b[0;34m.\u001b[0m\u001b[0mcolab_methods\u001b[0m \u001b[0;32mimport\u001b[0m \u001b[0mprint_wordclouds\u001b[0m\u001b[0;34m\u001b[0m\u001b[0;34m\u001b[0m\u001b[0m\n\u001b[1;32m      4\u001b[0m \u001b[0;34m\u001b[0m\u001b[0m\n\u001b[0;32m----> 5\u001b[0;31m \u001b[0mfeature_table_name\u001b[0m \u001b[0;34m=\u001b[0m \u001b[0mfeature_table_dropdown\u001b[0m\u001b[0;34m.\u001b[0m\u001b[0mvalue\u001b[0m\u001b[0;34m.\u001b[0m\u001b[0mreplace\u001b[0m\u001b[0;34m(\u001b[0m\u001b[0;34m'$'\u001b[0m\u001b[0;34m,\u001b[0m \u001b[0;34m'.'\u001b[0m\u001b[0;34m)\u001b[0m\u001b[0;34m\u001b[0m\u001b[0;34m\u001b[0m\u001b[0m\n\u001b[0m\u001b[1;32m      6\u001b[0m \u001b[0moutcomes\u001b[0m \u001b[0;34m=\u001b[0m \u001b[0moutcomes_widget\u001b[0m\u001b[0;34m.\u001b[0m\u001b[0mvalue\u001b[0m\u001b[0;34m\u001b[0m\u001b[0;34m\u001b[0m\u001b[0m\n\u001b[1;32m      7\u001b[0m \u001b[0mcontrols\u001b[0m \u001b[0;34m=\u001b[0m \u001b[0mcontrols_widget\u001b[0m\u001b[0;34m.\u001b[0m\u001b[0mvalue\u001b[0m\u001b[0;34m\u001b[0m\u001b[0;34m\u001b[0m\u001b[0m\n",
            "\u001b[0;31mNameError\u001b[0m: name 'feature_table_dropdown' is not defined"
          ]
        }
      ]
    },
    {
      "cell_type": "markdown",
      "metadata": {
        "id": "Gzy63dLCAT8N"
      },
      "source": [
        "## DLA: Using Other Features - Lexicon Features (Optional)"
      ]
    },
    {
      "cell_type": "markdown",
      "metadata": {
        "id": "P9X7BifLKPoV"
      },
      "source": [
        "You can also generate language features from a lexicon (calculate the proportion of the lexicon present in the text) of your choice.\n",
        "\n",
        "Sometimes this is as simple as aggregating counts (in case of unweighted lexicon like LIWC) while sometimes there is a weighting factor involved (in case of weighted lexicon like NRC).\n",
        "\n",
        "<br/>\n",
        "\n",
        "You need to provide the below flags in addition to mandatory settings -\n",
        "\n",
        "* **`--add_lex_table -l LEX_TABLE_NAME`** - commands DLATK to add the lexicon from `LEX_TABLE_NAME`\n",
        "* **`--weighted_lexicon` [Optional]** - flag to mention that the lexicon type is weighted."
      ]
    },
    {
      "cell_type": "markdown",
      "metadata": {
        "id": "u9chxWx6VLnJ"
      },
      "source": [
        "👇 For example, you can extract features from *NRC sentiment* dictionary as shown below."
      ]
    },
    {
      "cell_type": "code",
      "execution_count": null,
      "metadata": {
        "colab": {
          "base_uri": "https://localhost:8080/",
          "height": 250
        },
        "id": "A_DJ8uFmSCcV",
        "outputId": "ad5da518-1d7d-4423-e2c6-fedef27bfcd5"
      },
      "outputs": [
        {
          "data": {
            "application/javascript": [
              "google.colab.output.setIframeHeight(0, true, {maxHeight: 250})"
            ],
            "text/plain": [
              "<IPython.core.display.Javascript object>"
            ]
          },
          "metadata": {},
          "output_type": "display_data"
        },
        {
          "data": {
            "text/html": [
              "<style> body {background-color: rgb(255, 250, 232);}</style>"
            ],
            "text/plain": [
              "<IPython.core.display.HTML object>"
            ]
          },
          "metadata": {},
          "output_type": "display_data"
        },
        {
          "name": "stdout",
          "output_type": "stream",
          "text": [
            "\n",
            "\n",
            "Connecting to SQLite database: /content/sqlite_data/colab_csv.db\n",
            "query: PRAGMA table_info(msgs404u)\n",
            "\n",
            "\n",
            "Creating index correl_field on table:feat$cat_nrc_sent_w$msgs404u$user_id$1gra, column:group_id \n",
            "\n",
            "\n",
            "\n",
            "\n",
            "Creating index feature on table:feat$cat_nrc_sent_w$msgs404u$user_id$1gra, column:feat \n",
            "\n",
            "\n",
            "\n",
            "Error: TopicExtractor: gensim Mallet wrapper unavailable, using Mallet directly.\n",
            "\n",
            "-----\n",
            "DLATK Interface Initiated: 2024-02-01 23:37:04\n",
            "-----\n",
            "SQL Query: DROP TABLE IF EXISTS feat$cat_nrc_sent_w$msgs404u$user_id$1gra\n",
            "SQL Query: CREATE TABLE feat$cat_nrc_sent_w$msgs404u$user_id$1gra ( id INTEGER PRIMARY KEY, group_id INTEGER, feat VARCHAR(10), value INTEGER, group_norm DOUBLE)\n",
            "SQL Query: CREATE INDEX correl_field$cat_nrc_sent_w$msgs404u$user_id$1gra ON feat$cat_nrc_sent_w$msgs404u$user_id$1gra (group_id)\n",
            "SQL Query: CREATE INDEX feature$cat_nrc_sent_w$msgs404u$user_id$1gra ON feat$cat_nrc_sent_w$msgs404u$user_id$1gra (feat)\n",
            "WORD TABLE feat$1gram$msgs404u$user_id\n",
            "4 out of 404 group Id's processed; 0.01 complete\n",
            "8 out of 404 group Id's processed; 0.02 complete\n",
            "12 out of 404 group Id's processed; 0.03 complete\n",
            "16 out of 404 group Id's processed; 0.04 complete\n",
            "20 out of 404 group Id's processed; 0.05 complete\n",
            "24 out of 404 group Id's processed; 0.06 complete\n",
            "28 out of 404 group Id's processed; 0.07 complete\n",
            "32 out of 404 group Id's processed; 0.08 complete\n",
            "36 out of 404 group Id's processed; 0.09 complete\n",
            "40 out of 404 group Id's processed; 0.10 complete\n",
            "44 out of 404 group Id's processed; 0.11 complete\n",
            "48 out of 404 group Id's processed; 0.12 complete\n",
            "52 out of 404 group Id's processed; 0.13 complete\n",
            "56 out of 404 group Id's processed; 0.14 complete\n",
            "60 out of 404 group Id's processed; 0.15 complete\n",
            "64 out of 404 group Id's processed; 0.16 complete\n",
            "68 out of 404 group Id's processed; 0.17 complete\n",
            "72 out of 404 group Id's processed; 0.18 complete\n",
            "76 out of 404 group Id's processed; 0.19 complete\n",
            "80 out of 404 group Id's processed; 0.20 complete\n",
            "84 out of 404 group Id's processed; 0.21 complete\n",
            "88 out of 404 group Id's processed; 0.22 complete\n",
            "92 out of 404 group Id's processed; 0.23 complete\n",
            "96 out of 404 group Id's processed; 0.24 complete\n",
            "100 out of 404 group Id's processed; 0.25 complete\n",
            "104 out of 404 group Id's processed; 0.26 complete\n",
            "108 out of 404 group Id's processed; 0.27 complete\n",
            "112 out of 404 group Id's processed; 0.28 complete\n",
            "116 out of 404 group Id's processed; 0.29 complete\n",
            "120 out of 404 group Id's processed; 0.30 complete\n",
            "124 out of 404 group Id's processed; 0.31 complete\n",
            "128 out of 404 group Id's processed; 0.32 complete\n",
            "132 out of 404 group Id's processed; 0.33 complete\n",
            "136 out of 404 group Id's processed; 0.34 complete\n",
            "140 out of 404 group Id's processed; 0.35 complete\n",
            "144 out of 404 group Id's processed; 0.36 complete\n",
            "148 out of 404 group Id's processed; 0.37 complete\n",
            "152 out of 404 group Id's processed; 0.38 complete\n",
            "156 out of 404 group Id's processed; 0.39 complete\n",
            "160 out of 404 group Id's processed; 0.40 complete\n",
            "164 out of 404 group Id's processed; 0.41 complete\n",
            "168 out of 404 group Id's processed; 0.42 complete\n",
            "172 out of 404 group Id's processed; 0.43 complete\n",
            "176 out of 404 group Id's processed; 0.44 complete\n",
            "180 out of 404 group Id's processed; 0.45 complete\n",
            "184 out of 404 group Id's processed; 0.46 complete\n",
            "188 out of 404 group Id's processed; 0.47 complete\n",
            "192 out of 404 group Id's processed; 0.48 complete\n",
            "196 out of 404 group Id's processed; 0.49 complete\n",
            "200 out of 404 group Id's processed; 0.50 complete\n",
            "204 out of 404 group Id's processed; 0.50 complete\n",
            "208 out of 404 group Id's processed; 0.51 complete\n",
            "212 out of 404 group Id's processed; 0.52 complete\n",
            "216 out of 404 group Id's processed; 0.53 complete\n",
            "220 out of 404 group Id's processed; 0.54 complete\n",
            "224 out of 404 group Id's processed; 0.55 complete\n",
            "228 out of 404 group Id's processed; 0.56 complete\n",
            "232 out of 404 group Id's processed; 0.57 complete\n",
            "236 out of 404 group Id's processed; 0.58 complete\n",
            "240 out of 404 group Id's processed; 0.59 complete\n",
            "244 out of 404 group Id's processed; 0.60 complete\n",
            "248 out of 404 group Id's processed; 0.61 complete\n",
            "252 out of 404 group Id's processed; 0.62 complete\n",
            "256 out of 404 group Id's processed; 0.63 complete\n",
            "260 out of 404 group Id's processed; 0.64 complete\n",
            "264 out of 404 group Id's processed; 0.65 complete\n",
            "268 out of 404 group Id's processed; 0.66 complete\n",
            "272 out of 404 group Id's processed; 0.67 complete\n",
            "276 out of 404 group Id's processed; 0.68 complete\n",
            "280 out of 404 group Id's processed; 0.69 complete\n",
            "284 out of 404 group Id's processed; 0.70 complete\n",
            "288 out of 404 group Id's processed; 0.71 complete\n",
            "292 out of 404 group Id's processed; 0.72 complete\n",
            "296 out of 404 group Id's processed; 0.73 complete\n",
            "300 out of 404 group Id's processed; 0.74 complete\n",
            "304 out of 404 group Id's processed; 0.75 complete\n",
            "308 out of 404 group Id's processed; 0.76 complete\n",
            "312 out of 404 group Id's processed; 0.77 complete\n",
            "316 out of 404 group Id's processed; 0.78 complete\n",
            "320 out of 404 group Id's processed; 0.79 complete\n",
            "324 out of 404 group Id's processed; 0.80 complete\n",
            "328 out of 404 group Id's processed; 0.81 complete\n",
            "332 out of 404 group Id's processed; 0.82 complete\n",
            "336 out of 404 group Id's processed; 0.83 complete\n",
            "340 out of 404 group Id's processed; 0.84 complete\n",
            "344 out of 404 group Id's processed; 0.85 complete\n",
            "348 out of 404 group Id's processed; 0.86 complete\n",
            "352 out of 404 group Id's processed; 0.87 complete\n",
            "356 out of 404 group Id's processed; 0.88 complete\n",
            "360 out of 404 group Id's processed; 0.89 complete\n",
            "364 out of 404 group Id's processed; 0.90 complete\n",
            "368 out of 404 group Id's processed; 0.91 complete\n",
            "372 out of 404 group Id's processed; 0.92 complete\n",
            "376 out of 404 group Id's processed; 0.93 complete\n",
            "380 out of 404 group Id's processed; 0.94 complete\n",
            "384 out of 404 group Id's processed; 0.95 complete\n",
            "388 out of 404 group Id's processed; 0.96 complete\n",
            "392 out of 404 group Id's processed; 0.97 complete\n",
            "396 out of 404 group Id's processed; 0.98 complete\n",
            "400 out of 404 group Id's processed; 0.99 complete\n",
            "404 out of 404 group Id's processed; 1.00 complete\n",
            "404 out of 404 group Id's processed; 1.00 complete\n",
            "-------\n",
            "Settings:\n",
            "\n",
            "Database - colab_csv\n",
            "Corpus - msgs404u.csv\n",
            "Group ID - user_id\n",
            "Feature table(s) - feat$cat_nrc_sent_w$msgs404u$user_id$1gra\n",
            "-------\n",
            "Interface Runtime: 2.46 seconds\n",
            "DLATK exits with success! A good day indeed  ¯\\_(ツ)_/¯.\n",
            "\n"
          ]
        }
      ],
      "source": [
        "import subprocess\n",
        "\n",
        "#@title DLATK Lexicon Feature Configuration\n",
        "\n",
        "#@markdown Enter the database name:\n",
        "database_name = \"colab_csv\" #@param {type:\"string\"}\n",
        "\n",
        "#@markdown Enter the name of your message table or CSV file:\n",
        "table_name = \"msgs404u.csv\" #@param {type:\"string\"}\n",
        "\n",
        "#@markdown Enter the column name to be used as group_id:\n",
        "group_id = \"user_id\" #@param {type:\"string\"}\n",
        "\n",
        "#@markdown Minimum number of words per group for the group to be considered:\n",
        "group_freq_threshold = 100 #@param {type:\"integer\"}\n",
        "\n",
        "#@markdown Enter the name of the lexicon table to be used:\n",
        "lexicon_table_name = \"nrc_sent\" #@param {type:\"string\"}\n",
        "\n",
        "#@markdown Indicate if the lexicon is weighted (leave unchecked for unweighted lexicon):\n",
        "is_weighted_lexicon = True #@param {type:\"boolean\"}\n",
        "\n",
        "# Building the command string\n",
        "command = f\"dlatkInterface.py -d {database_name} -t {table_name} -g {group_id} --group_freq_thresh {group_freq_threshold} \"\n",
        "command += f\"--add_lex_table -l {lexicon_table_name} \"\n",
        "if is_weighted_lexicon:\n",
        "    command += \"--weighted_lexicon\"\n",
        "\n",
        "# Executing the command and capturing the output\n",
        "process = subprocess.run(command, shell=True, text=True, capture_output=True)\n",
        "\n",
        "# Print the output\n",
        "print(process.stdout)\n",
        "\n",
        "# Check for errors\n",
        "if process.stderr:\n",
        "    print(\"Error:\", process.stderr)\n"
      ]
    },
    {
      "cell_type": "code",
      "execution_count": null,
      "metadata": {
        "colab": {
          "base_uri": "https://localhost:8080/",
          "height": 250
        },
        "id": "1iH5xg5oB_j5",
        "outputId": "811d9a2c-9762-4bfe-d505-09ea9c105b86"
      },
      "outputs": [
        {
          "data": {
            "application/javascript": [
              "google.colab.output.setIframeHeight(0, true, {maxHeight: 250})"
            ],
            "text/plain": [
              "<IPython.core.display.Javascript object>"
            ]
          },
          "metadata": {},
          "output_type": "display_data"
        },
        {
          "data": {
            "text/html": [
              "<style> body {background-color: rgb(255, 250, 232);}</style>"
            ],
            "text/plain": [
              "<IPython.core.display.HTML object>"
            ]
          },
          "metadata": {},
          "output_type": "display_data"
        },
        {
          "name": "stdout",
          "output_type": "stream",
          "text": [
            "\n",
            "\n",
            "TopicExtractor: gensim Mallet wrapper unavailable, using Mallet directly.\n",
            "\n",
            "-----\n",
            "DLATK Interface Initiated: 2024-02-01 23:37:33\n",
            "-----\n",
            "Connecting to SQLite database: /content/sqlite_data/colab_csv.db\n",
            "query: PRAGMA table_info(msgs404u)\n",
            "SQL Query: DROP TABLE IF EXISTS feat$cat_nrc_sent_w$msgs404u$user_id$1gra\n",
            "SQL Query: CREATE TABLE feat$cat_nrc_sent_w$msgs404u$user_id$1gra ( id INTEGER PRIMARY KEY, group_id INTEGER, feat VARCHAR(10), value INTEGER, group_norm DOUBLE)\n",
            "\n",
            "\n",
            "Creating index correl_field on table:feat$cat_nrc_sent_w$msgs404u$user_id$1gra, column:group_id \n",
            "\n",
            "\n",
            "SQL Query: CREATE INDEX correl_field$cat_nrc_sent_w$msgs404u$user_id$1gra ON feat$cat_nrc_sent_w$msgs404u$user_id$1gra (group_id)\n",
            "\n",
            "\n",
            "Creating index feature on table:feat$cat_nrc_sent_w$msgs404u$user_id$1gra, column:feat \n",
            "\n",
            "\n",
            "SQL Query: CREATE INDEX feature$cat_nrc_sent_w$msgs404u$user_id$1gra ON feat$cat_nrc_sent_w$msgs404u$user_id$1gra (feat)\n",
            "WORD TABLE feat$1gram$msgs404u$user_id\n",
            "4 out of 404 group Id's processed; 0.01 complete\n",
            "8 out of 404 group Id's processed; 0.02 complete\n",
            "12 out of 404 group Id's processed; 0.03 complete\n",
            "16 out of 404 group Id's processed; 0.04 complete\n",
            "20 out of 404 group Id's processed; 0.05 complete\n",
            "24 out of 404 group Id's processed; 0.06 complete\n",
            "28 out of 404 group Id's processed; 0.07 complete\n",
            "32 out of 404 group Id's processed; 0.08 complete\n",
            "36 out of 404 group Id's processed; 0.09 complete\n",
            "40 out of 404 group Id's processed; 0.10 complete\n",
            "44 out of 404 group Id's processed; 0.11 complete\n",
            "48 out of 404 group Id's processed; 0.12 complete\n",
            "52 out of 404 group Id's processed; 0.13 complete\n",
            "56 out of 404 group Id's processed; 0.14 complete\n",
            "60 out of 404 group Id's processed; 0.15 complete\n",
            "64 out of 404 group Id's processed; 0.16 complete\n",
            "68 out of 404 group Id's processed; 0.17 complete\n",
            "72 out of 404 group Id's processed; 0.18 complete\n",
            "76 out of 404 group Id's processed; 0.19 complete\n",
            "80 out of 404 group Id's processed; 0.20 complete\n",
            "84 out of 404 group Id's processed; 0.21 complete\n",
            "88 out of 404 group Id's processed; 0.22 complete\n",
            "92 out of 404 group Id's processed; 0.23 complete\n",
            "96 out of 404 group Id's processed; 0.24 complete\n",
            "100 out of 404 group Id's processed; 0.25 complete\n",
            "104 out of 404 group Id's processed; 0.26 complete\n",
            "108 out of 404 group Id's processed; 0.27 complete\n",
            "112 out of 404 group Id's processed; 0.28 complete\n",
            "116 out of 404 group Id's processed; 0.29 complete\n",
            "120 out of 404 group Id's processed; 0.30 complete\n",
            "124 out of 404 group Id's processed; 0.31 complete\n",
            "128 out of 404 group Id's processed; 0.32 complete\n",
            "132 out of 404 group Id's processed; 0.33 complete\n",
            "136 out of 404 group Id's processed; 0.34 complete\n",
            "140 out of 404 group Id's processed; 0.35 complete\n",
            "144 out of 404 group Id's processed; 0.36 complete\n",
            "148 out of 404 group Id's processed; 0.37 complete\n",
            "152 out of 404 group Id's processed; 0.38 complete\n",
            "156 out of 404 group Id's processed; 0.39 complete\n",
            "160 out of 404 group Id's processed; 0.40 complete\n",
            "164 out of 404 group Id's processed; 0.41 complete\n",
            "168 out of 404 group Id's processed; 0.42 complete\n",
            "172 out of 404 group Id's processed; 0.43 complete\n",
            "176 out of 404 group Id's processed; 0.44 complete\n",
            "180 out of 404 group Id's processed; 0.45 complete\n",
            "184 out of 404 group Id's processed; 0.46 complete\n",
            "188 out of 404 group Id's processed; 0.47 complete\n",
            "192 out of 404 group Id's processed; 0.48 complete\n",
            "196 out of 404 group Id's processed; 0.49 complete\n",
            "200 out of 404 group Id's processed; 0.50 complete\n",
            "204 out of 404 group Id's processed; 0.50 complete\n",
            "208 out of 404 group Id's processed; 0.51 complete\n",
            "212 out of 404 group Id's processed; 0.52 complete\n",
            "216 out of 404 group Id's processed; 0.53 complete\n",
            "220 out of 404 group Id's processed; 0.54 complete\n",
            "224 out of 404 group Id's processed; 0.55 complete\n",
            "228 out of 404 group Id's processed; 0.56 complete\n",
            "232 out of 404 group Id's processed; 0.57 complete\n",
            "236 out of 404 group Id's processed; 0.58 complete\n",
            "240 out of 404 group Id's processed; 0.59 complete\n",
            "244 out of 404 group Id's processed; 0.60 complete\n",
            "248 out of 404 group Id's processed; 0.61 complete\n",
            "252 out of 404 group Id's processed; 0.62 complete\n",
            "256 out of 404 group Id's processed; 0.63 complete\n",
            "260 out of 404 group Id's processed; 0.64 complete\n",
            "264 out of 404 group Id's processed; 0.65 complete\n",
            "268 out of 404 group Id's processed; 0.66 complete\n",
            "272 out of 404 group Id's processed; 0.67 complete\n",
            "276 out of 404 group Id's processed; 0.68 complete\n",
            "280 out of 404 group Id's processed; 0.69 complete\n",
            "284 out of 404 group Id's processed; 0.70 complete\n",
            "288 out of 404 group Id's processed; 0.71 complete\n",
            "292 out of 404 group Id's processed; 0.72 complete\n",
            "296 out of 404 group Id's processed; 0.73 complete\n",
            "300 out of 404 group Id's processed; 0.74 complete\n",
            "304 out of 404 group Id's processed; 0.75 complete\n",
            "308 out of 404 group Id's processed; 0.76 complete\n",
            "312 out of 404 group Id's processed; 0.77 complete\n",
            "316 out of 404 group Id's processed; 0.78 complete\n",
            "320 out of 404 group Id's processed; 0.79 complete\n",
            "324 out of 404 group Id's processed; 0.80 complete\n",
            "328 out of 404 group Id's processed; 0.81 complete\n",
            "332 out of 404 group Id's processed; 0.82 complete\n",
            "336 out of 404 group Id's processed; 0.83 complete\n",
            "340 out of 404 group Id's processed; 0.84 complete\n",
            "344 out of 404 group Id's processed; 0.85 complete\n",
            "348 out of 404 group Id's processed; 0.86 complete\n",
            "352 out of 404 group Id's processed; 0.87 complete\n",
            "356 out of 404 group Id's processed; 0.88 complete\n",
            "360 out of 404 group Id's processed; 0.89 complete\n",
            "364 out of 404 group Id's processed; 0.90 complete\n",
            "368 out of 404 group Id's processed; 0.91 complete\n",
            "372 out of 404 group Id's processed; 0.92 complete\n",
            "376 out of 404 group Id's processed; 0.93 complete\n",
            "380 out of 404 group Id's processed; 0.94 complete\n",
            "384 out of 404 group Id's processed; 0.95 complete\n",
            "388 out of 404 group Id's processed; 0.96 complete\n",
            "392 out of 404 group Id's processed; 0.97 complete\n",
            "396 out of 404 group Id's processed; 0.98 complete\n",
            "400 out of 404 group Id's processed; 0.99 complete\n",
            "404 out of 404 group Id's processed; 1.00 complete\n",
            "404 out of 404 group Id's processed; 1.00 complete\n",
            "-------\n",
            "Settings:\n",
            "\n",
            "Database - colab_csv\n",
            "Corpus - msgs404u.csv\n",
            "Group ID - user_id\n",
            "Feature table(s) - feat$cat_nrc_sent_w$msgs404u$user_id$1gra\n",
            "-------\n",
            "Interface Runtime: 2.16 seconds\n",
            "DLATK exits with success! A good day indeed  ¯\\_(ツ)_/¯.\n"
          ]
        }
      ],
      "source": [
        "!dlatkInterface.py \\\n",
        "  -d colab_csv -t msgs404u.csv -g user_id --group_freq_thresh 100 \\\n",
        "  --add_lex_table -l nrc_sent \\\n",
        "  --weighted_lexicon"
      ]
    },
    {
      "cell_type": "markdown",
      "metadata": {
        "id": "eOEEHJWk6aov"
      },
      "source": [
        "👆 The command executed successfully if `DLATK exits with success!`.\n",
        "\n",
        "<hr />\n",
        "\n",
        "<br />\n",
        "\n",
        "You should see the name of the new feature table - `feat$cat_nrc_sent_w$msgs404u$user_id$1gra`, which you can validate like earlier.\n"
      ]
    },
    {
      "cell_type": "code",
      "execution_count": null,
      "metadata": {
        "colab": {
          "base_uri": "https://localhost:8080/",
          "height": 250
        },
        "id": "v42W5FupUbMs",
        "outputId": "495c5cd1-eee2-4754-dd9e-34e4905dec2f"
      },
      "outputs": [
        {
          "data": {
            "application/javascript": [
              "google.colab.output.setIframeHeight(0, true, {maxHeight: 250})"
            ],
            "text/plain": [
              "<IPython.core.display.Javascript object>"
            ]
          },
          "metadata": {},
          "output_type": "display_data"
        },
        {
          "data": {
            "text/html": [
              "<style> body {background-color: rgb(255, 250, 232);}</style>"
            ],
            "text/plain": [
              "<IPython.core.display.HTML object>"
            ]
          },
          "metadata": {},
          "output_type": "display_data"
        },
        {
          "name": "stdout",
          "output_type": "stream",
          "text": [
            "\n",
            "\n",
            "TopicExtractor: gensim Mallet wrapper unavailable, using Mallet directly.\n",
            "\n",
            "-----\n",
            "DLATK Interface Initiated: 2024-02-01 23:37:45\n",
            "-----\n",
            "Connecting to SQLite database: /content/sqlite_data/colab_csv.db\n",
            "\n",
            "Printing: msgs404u\n",
            "----\n",
            "\n",
            "     message_id        user_id   created_date        message\n",
            "          17236         174357     2004-06-28     You Are Ri\n",
            "          17237         174357     2004-06-24     Im so tire\n",
            "          17238         174357     2004-07-28     So I start\n",
            "          25669         446275     2004-05-28     I just don\n",
            "          25670         446275     2004-05-25     [this is a\n",
            "          25671         446275     2004-05-24     Another th\n",
            "          25672         446275     2004-05-16     I come bac\n",
            "          25673         446275     2004-05-16     As any goo\n",
            "          25674         446275     2004-05-15     A previous\n",
            "          25675         446275     2004-05-15     If those h\n",
            "\n",
            "Printing: feat$cat_nrc_sent_w$msgs404u$user_id$1gra\n",
            "----\n",
            "\n",
            "             id       group_id           feat          value     group_norm\n",
            "              1         174357           SENT            589 -0.05426194144\n",
            "              2         174357       neg_sent            343 -0.17887673343\n",
            "              3         174357       pos_sent            246 0.124614791987\n",
            "              4         174357     _intercept              1            1.0\n",
            "              5         446275           SENT           1971 -0.17129064486\n",
            "              6         446275       neg_sent           1148 -0.26467120799\n",
            "              7         446275       pos_sent            823 0.093380563124\n",
            "              8         446275     _intercept              1            1.0\n",
            "              9         483266           SENT            653 0.057568022440\n",
            "             10         483266       pos_sent            377 0.171704067321\n",
            "-------\n",
            "Settings:\n",
            "\n",
            "Database - colab_csv\n",
            "Corpus - msgs404u.csv\n",
            "Group ID - user_id\n",
            "Feature table(s) - feat$cat_nrc_sent_w$msgs404u$user_id$1gra\n",
            "-------\n",
            "Interface Runtime: 0.01 seconds\n",
            "DLATK exits with success! A good day indeed  ¯\\_(ツ)_/¯.\n"
          ]
        }
      ],
      "source": [
        "!dlatkInterface.py \\\n",
        "  -d colab_csv -t msgs404u.csv -g user_id \\\n",
        "  -f 'feat$cat_nrc_sent_w$msgs404u$user_id$1gra' \\\n",
        "  --view_tables"
      ]
    },
    {
      "cell_type": "markdown",
      "metadata": {
        "id": "EP7201RDGTe9"
      },
      "source": [
        "👆 You should see the contents of `feat$cat_nrc_sent_w$msgs404u$user_id$1gra`\n",
        "<hr />\n",
        "\n",
        "<br />\n",
        "\n",
        "Once you have represented your data samples in terms of lexicon features, you can also correlate them with outcomes, by changing the feature table in `--feat_table` (in this case `--feat_table 'feat$cat_nrc_sent_w$msgs404u$user_id$1gra'`). Everything else in the command remains the same."
      ]
    },
    {
      "cell_type": "markdown",
      "metadata": {
        "id": "s1zPtayWVxpn"
      },
      "source": [
        "Now, correlate the new set of features against `age` controlling for `gender`, like you did above."
      ]
    },
    {
      "cell_type": "code",
      "execution_count": null,
      "metadata": {
        "colab": {
          "base_uri": "https://localhost:8080/",
          "height": 250
        },
        "id": "O18UHrEMoshJ",
        "outputId": "560329a3-b880-4b78-ff26-8cff968d3fb7"
      },
      "outputs": [
        {
          "data": {
            "application/javascript": [
              "google.colab.output.setIframeHeight(0, true, {maxHeight: 250})"
            ],
            "text/plain": [
              "<IPython.core.display.Javascript object>"
            ]
          },
          "metadata": {},
          "output_type": "display_data"
        },
        {
          "data": {
            "text/html": [
              "<style> body {background-color: rgb(255, 250, 232);}</style>"
            ],
            "text/plain": [
              "<IPython.core.display.HTML object>"
            ]
          },
          "metadata": {},
          "output_type": "display_data"
        },
        {
          "name": "stdout",
          "output_type": "stream",
          "text": [
            "\n",
            "\n",
            "TopicExtractor: gensim Mallet wrapper unavailable, using Mallet directly.\n",
            "\n",
            "-----\n",
            "DLATK Interface Initiated: 2024-01-17 03:12:54\n",
            "-----\n",
            "Connecting to SQLite database: /content/sqlite_data/colab_csv.db\n",
            "Connecting to SQLite database: /content/sqlite_data/colab_csv.db\n",
            "WARNING: The table users404 does not have: a PRIMARY key on user_id. Consider adding.\n",
            "Loading Outcomes and Getting Groups for: {'age', 'gender'}\n",
            "Connecting to SQLite database: /content/sqlite_data/colab_csv.db\n",
            "Yielding data over ['age'], adjusting for: ['gender__0'].\n",
            "Yielding norms with zeros (404 groups * 4 feats).\n",
            "                                 OLS Regression Results                                \n",
            "=======================================================================================\n",
            "Dep. Variable:                    age   R-squared (uncentered):                   0.007\n",
            "Model:                            OLS   Adj. R-squared (uncentered):              0.005\n",
            "Method:                 Least Squares   F-statistic:                              2.999\n",
            "Date:                Wed, 17 Jan 2024   Prob (F-statistic):                      0.0841\n",
            "Time:                        03:12:54   Log-Likelihood:                         -571.75\n",
            "No. Observations:                 404   AIC:                                      1146.\n",
            "Df Residuals:                     403   BIC:                                      1150.\n",
            "Df Model:                           1                                                  \n",
            "Covariance Type:            nonrobust                                                  \n",
            "==============================================================================\n",
            "                 coef    std err          t      P>|t|      [0.025      0.975]\n",
            "------------------------------------------------------------------------------\n",
            "gender__0     -0.0859      0.050     -1.732      0.084      -0.184       0.012\n",
            "==============================================================================\n",
            "Omnibus:                       48.655   Durbin-Watson:                   2.074\n",
            "Prob(Omnibus):                  0.000   Jarque-Bera (JB):               63.596\n",
            "Skew:                           0.964   Prob(JB):                     1.55e-14\n",
            "Kurtosis:                       3.246   Cond. No.                         1.00\n",
            "==============================================================================\n",
            "\n",
            "Notes:\n",
            "[1] R² is computed without centering (uncentered) since the model does not contain a constant.\n",
            "[2] Standard Errors assume that the covariance matrix of the errors is correctly specified.\n",
            "OLS threw ValueError: [exog contains inf or nans]\n",
            " feature '_intercept' with outcome 'age' results not included\n",
            "unable to correlate feature '_intercept' with 'age'\n",
            "Created output filename: ./feat.cat_nrc_sent_w.msgs404u.user_id.1gra.age.gender__0.freq100.rMatrix\n",
            "Generating Correlation Matrix.\n",
            " print to file: ././feat.cat_nrc_sent_w.msgs404u.user_id.1gra.age.gender__0.freq100.rMatrix.html\n",
            "-------\n",
            "\n",
            "Settings:\n",
            "\n",
            "Database - colab_csv\n",
            "Corpus - msgs404u.csv\n",
            "Group ID - user_id\n",
            "Feature table(s) - feat$cat_nrc_sent_w$msgs404u$user_id$1gra\n",
            "Outcome table - users404.csv\n",
            "Outcome(s) - age\n",
            "Control(s) - gender__0\n",
            "-------\n",
            "Interface Runtime: 0.08 seconds\n",
            "DLATK exits with success! A good day indeed  ¯\\_(ツ)_/¯.\n"
          ]
        }
      ],
      "source": [
        "!dlatkInterface.py \\\n",
        "  -d colab_csv -t msgs404u.csv -g user_id --group_freq_thresh 100 \\\n",
        "  --feat_table 'feat$cat_nrc_sent_w$msgs404u$user_id$1gra' \\\n",
        "  --outcome_table users404.csv --outcomes age \\\n",
        "  --controls gender --cat_to_bin gender \\\n",
        "  --rmatrix"
      ]
    },
    {
      "cell_type": "markdown",
      "metadata": {
        "id": "kZ38XFF0GE9e"
      },
      "source": [
        "👆 The above command produces an HTML (`feat.cat_nrc_sent_w.msgs404u.user_id.1gra.age.gender__0.freq100.rMatrix.html`) with the results, under the `Files` tab.\n",
        "\n",
        "<br/>"
      ]
    },
    {
      "cell_type": "markdown",
      "metadata": {
        "id": "NYlLK0STHE9L"
      },
      "source": [
        "# Running Prediction (Language-based Assessment)\n",
        "\n",
        "<img src=\"https://drive.google.com/uc?export=view&id=1AgMttURoLyJZ6WhL9wnVzWBt1gSmE0yE\" height=\"350\" width=\"550\"/>"
      ]
    },
    {
      "cell_type": "markdown",
      "metadata": {
        "id": "tACYr6g88H6n"
      },
      "source": [
        "## Prediction: Example 1: N-Fold Cross Validation"
      ]
    },
    {
      "cell_type": "markdown",
      "metadata": {
        "id": "PvDHsfsWQrb-"
      },
      "source": [
        "There are two types of [prediction models](https://scikit-learn.org/stable/modules/linear_model.html#) we can run:\n",
        "1. **Regression**, which is the prediction of a continous variable, and\n",
        "2. **Classification**, which is the prediction of a categorical variable.\n",
        "\n",
        "<br/>\n",
        "\n",
        "<hr/>\n",
        "\n",
        "[N-Fold cross-validation](https://scikit-learn.org/stable/modules/cross_validation.html#) - This method involves randomly dividing the dataset into *N* groups, or \"folds\", of approximately equal size. The model is later fit on the N-1 folds (*train* data) and the evaluated for accuracy over the remaining one fold (*test* data).\n",
        "\n",
        "<hr/>\n",
        "\n",
        "<br/>\n",
        "\n",
        "For running a prediction model against an outcome, you use the same data setup commands as in correlations:\n",
        "* **`-f FEAT_TABLE_NAME`** - names of the feature table.\n",
        "* **`--outcome_table NAME`** - the name of the table with outcomes.\n",
        "* **`--outcomes OC1 [OC2...]`** - list of outcomes to predict.\n"
      ]
    },
    {
      "cell_type": "markdown",
      "metadata": {
        "id": "xGa8-zHYKKtz"
      },
      "source": [
        "### N-Fold Regression:\n"
      ]
    },
    {
      "cell_type": "markdown",
      "metadata": {
        "id": "1UlH163FGfhd"
      },
      "source": [
        "Below are the flags to perform regression using cross-validation:\n",
        "* **`--nfold_test_regression`** - this activates regression using n-fold cross-validation.\n",
        "* **`--model MODEL_NAME`** - which regression model to use (some examples would be ordinary least sqaures, ridge regression, etc.)"
      ]
    },
    {
      "cell_type": "markdown",
      "metadata": {
        "id": "Y2x7ExfQA3dl"
      },
      "source": [
        "👇 For example, below command will predict `age` from 1gram and 2grams features using a ridge regression model over `5` fold cross validation."
      ]
    },
    {
      "cell_type": "code",
      "execution_count": null,
      "metadata": {
        "colab": {
          "base_uri": "https://localhost:8080/",
          "height": 250
        },
        "id": "xrvew0R33AWA",
        "outputId": "8606e08d-0a00-4009-af34-42ddb4a945c7"
      },
      "outputs": [
        {
          "data": {
            "application/javascript": [
              "google.colab.output.setIframeHeight(0, true, {maxHeight: 250})"
            ],
            "text/plain": [
              "<IPython.core.display.Javascript object>"
            ]
          },
          "metadata": {},
          "output_type": "display_data"
        },
        {
          "data": {
            "text/html": [
              "<style> body {background-color: rgb(255, 250, 232);}</style>"
            ],
            "text/plain": [
              "<IPython.core.display.HTML object>"
            ]
          },
          "metadata": {},
          "output_type": "display_data"
        },
        {
          "name": "stdout",
          "output_type": "stream",
          "text": [
            "\n",
            "\n",
            "TopicExtractor: gensim Mallet wrapper unavailable, using Mallet directly.\n",
            "\n",
            "-----\n",
            "DLATK Interface Initiated: 2024-01-31 17:48:15\n",
            "-----\n",
            "Connecting to SQLite database: /content/sqlite_data/colab_csv.db\n",
            "Connecting to SQLite database: /content/sqlite_data/colab_csv.db\n",
            "Connecting to SQLite database: /content/sqlite_data/colab_csv.db\n",
            "WARNING: The table users404 does not have: a PRIMARY key on user_id. Consider adding.\n",
            "Loading Outcomes and Getting Groups for: {'age'}\n",
            "Traceback (most recent call last):\n",
            "  File \"/usr/local/bin/dlatkInterface.py\", line 2255, in <module>\n",
            "    main()\n",
            "  File \"/usr/local/bin/dlatkInterface.py\", line 1899, in main\n",
            "    comboScores = rp.testControlCombos(sparse = args.sparse, blacklist = blacklist,\n",
            "  File \"/usr/local/lib/python3.10/dist-packages/dlatk/regressionPredictor.py\", line 803, in testControlCombos\n",
            "    (groups, allOutcomes, allControls, foldLabels) = self.outcomeGetter.getGroupsAndOutcomes(groupsWhere = groupsWhere, includeFoldLabels=True)\n",
            "  File \"/usr/local/lib/python3.10/dist-packages/dlatk/outcomeGetter.py\", line 429, in getGroupsAndOutcomes\n",
            "    groupCnts = self.getGroupWordCounts(where, lexicon_count_table = lexicon_count_table)\n",
            "  File \"/usr/local/lib/python3.10/dist-packages/dlatk/dlaWorker.py\", line 426, in getGroupWordCounts\n",
            "    wordGetter = self.getWordGetter(lexicon_count_table)\n",
            "  File \"/usr/local/lib/python3.10/dist-packages/dlatk/dlaWorker.py\", line 388, in getWordGetter\n",
            "    assert self.data_engine.tableExists(wordTable), \"Need to create word table to use current functionality: %s\" % wordTable\n",
            "AssertionError: Need to create word table to use current functionality: feat$1gram$msgs404u$user_id\n"
          ]
        }
      ],
      "source": [
        "!dlatkInterface.py \\\n",
        "  -d colab_csv -t msgs404u.csv -g user_id --group_freq_thresh 100 \\\n",
        "  --outcome_table users404.csv --outcomes age \\\n",
        "  --feat_table 'feat$1to2gram$msgs404u$user_id$0_1' \\\n",
        "  --nfold_test_regression --model ridgecv"
      ]
    },
    {
      "cell_type": "markdown",
      "metadata": {
        "id": "jz_xKX3neFC9"
      },
      "source": [
        "👆 Above the settings, you should see a dictionary containing accuracy metrics from cross validation. Key metrics are `r` and `mae`:\n",
        "```\n",
        "[TEST COMPLETE]\n",
        "\n",
        "{'age': {(): {1: {'N': 404,\n",
        "                  ...\n",
        "                  'mae': 5.392188704337425,\n",
        "                  'num_features': 2308,\n",
        "                  'r': 0.580652941321456,\n",
        "                  ...}}}}\n",
        "```\n",
        "`mae` is the mean absolute error aggregated across all examples from when they were in a test fold. In this case, the model on average is off in predicting age by 5.4 years.\n",
        "\n",
        "`r` is the Pearson correlation between the predicted age and the self-reported age. The correlation is a nice accuracy metric for regression prediction tasks  since it is bounded at 1 being a perfect prediction and 0 being what is expected by chance.  \n",
        "\n",
        "DLATK uses 5 folds by default, but you can change this by adding the\n",
        "`--folds K` parameter.\n",
        "\n",
        "<br/>\n"
      ]
    },
    {
      "cell_type": "markdown",
      "metadata": {
        "id": "XhOQOGiTaqW8"
      },
      "source": [
        "### N-Fold Classification\n"
      ]
    },
    {
      "cell_type": "markdown",
      "metadata": {
        "id": "SnsjxLReadU-"
      },
      "source": [
        "Similarly, you can also perform classification using cross-validation using the below flags:\n",
        "\n",
        "* **`--nfold_test_classifiers`** - activates classification using cross-validation.\n",
        "* **`--model MODEL_NAME`** - classification model to use (for example logistic regression, etc.).\n",
        "\n",
        "<br/>\n",
        "\n",
        "You can also store the prediction output to a CSV with the below flags:\n",
        "* **`--csv`** - Saves the results to a csv file instead of printing to the screen, like with `--correlate`.\n",
        "* **`--pred_csv`** - write the predicted scores for the sample to a separate CSV prefixed with the name in `--output_name`.\n",
        "\n",
        "<br/>\n",
        "\n",
        "👇 Try predicting if a user is a student or not (`is_student`) from their 1gram and 2gram features using Logistic Regression (`lr`) in 5 fold cross-validation."
      ]
    },
    {
      "cell_type": "code",
      "execution_count": null,
      "metadata": {
        "colab": {
          "base_uri": "https://localhost:8080/",
          "height": 250
        },
        "id": "aCuCF14Eapmm",
        "outputId": "ba069d13-5b62-4900-a5c4-5746b8179c98"
      },
      "outputs": [
        {
          "data": {
            "application/javascript": [
              "google.colab.output.setIframeHeight(0, true, {maxHeight: 250})"
            ],
            "text/plain": [
              "<IPython.core.display.Javascript object>"
            ]
          },
          "metadata": {},
          "output_type": "display_data"
        },
        {
          "data": {
            "text/html": [
              "<style> body {background-color: rgb(255, 250, 232);}</style>"
            ],
            "text/plain": [
              "<IPython.core.display.HTML object>"
            ]
          },
          "metadata": {},
          "output_type": "display_data"
        },
        {
          "name": "stdout",
          "output_type": "stream",
          "text": [
            "\n",
            "\n",
            "TopicExtractor: gensim Mallet wrapper unavailable, using Mallet directly.\n",
            "\n",
            "-----\n",
            "DLATK Interface Initiated: 2024-01-17 03:15:18\n",
            "-----\n",
            "Connecting to SQLite database: /content/sqlite_data/colab_csv.db\n",
            "Connecting to SQLite database: /content/sqlite_data/colab_csv.db\n",
            "WARNING: The table users404 does not have: a PRIMARY key on user_id. Consider adding.\n",
            "Loading Outcomes and Getting Groups for: {'is_student'}\n",
            "Connecting to SQLite database: /content/sqlite_data/colab_csv.db\n",
            "[number of groups: 255 (5 Folds)] non-stratified / using same folds for all outcomes\n",
            "\n",
            "\n",
            "|COMBO: ()|\n",
            "===========\n",
            "\n",
            "= is_student (w/ lang.)=\n",
            "------------------------\n",
            "\n",
            "Fold 0 \n",
            "   (feature group: 0): [Initial size: 255]\n",
            "[Train size: 204    Test size: 51]\n",
            "[Applying StandardScaler to X[0]: StandardScaler()]\n",
            " X[0]: (N, features): (204, 2308)\n",
            "[Training classification model: lr]\n",
            "model: LogisticRegression(C=0.01, random_state=42) \n",
            "  predict: applying standard scaler to X[0]: StandardScaler()\n",
            "  predict: combined X shape: (51, 2308)\n",
            "  predict: classifier intercept: [-0.4276829]\n",
            " *confusion matrix: \n",
            "[[23  5]\n",
            " [10 13]]\n",
            " *precision and recall: \n",
            "              precision    recall  f1-score   support\n",
            "\n",
            "           0       0.70      0.82      0.75        28\n",
            "           1       0.72      0.57      0.63        23\n",
            "\n",
            "    accuracy                           0.71        51\n",
            "   macro avg       0.71      0.69      0.69        51\n",
            "weighted avg       0.71      0.71      0.70        51\n",
            "\n",
            " *FOLD ACC: 0.7059 (mfclass_acc: 0.5490); mfclass: 0; auc: 0.7189\n",
            "\n",
            "\n",
            "Fold 1 \n",
            "   (feature group: 0): [Initial size: 255]\n",
            "[Train size: 204    Test size: 51]\n",
            "[Applying StandardScaler to X[0]: StandardScaler()]\n",
            " X[0]: (N, features): (204, 2308)\n",
            "[Training classification model: lr]\n",
            "model: LogisticRegression(C=0.01, random_state=42) \n",
            "  predict: applying standard scaler to X[0]: StandardScaler()\n",
            "  predict: combined X shape: (51, 2308)\n",
            "  predict: classifier intercept: [-0.34314631]\n",
            " *confusion matrix: \n",
            "[[26  4]\n",
            " [ 7 14]]\n",
            " *precision and recall: \n",
            "              precision    recall  f1-score   support\n",
            "\n",
            "           0       0.79      0.87      0.83        30\n",
            "           1       0.78      0.67      0.72        21\n",
            "\n",
            "    accuracy                           0.78        51\n",
            "   macro avg       0.78      0.77      0.77        51\n",
            "weighted avg       0.78      0.78      0.78        51\n",
            "\n",
            " *FOLD ACC: 0.7843 (mfclass_acc: 0.5882); mfclass: 0; auc: 0.8571\n",
            "\n",
            "\n",
            "Fold 2 \n",
            "   (feature group: 0): [Initial size: 255]\n",
            "[Train size: 204    Test size: 51]\n",
            "[Applying StandardScaler to X[0]: StandardScaler()]\n",
            " X[0]: (N, features): (204, 2308)\n",
            "[Training classification model: lr]\n",
            "model: LogisticRegression(C=0.01, random_state=42) \n",
            "  predict: applying standard scaler to X[0]: StandardScaler()\n",
            "  predict: combined X shape: (51, 2308)\n",
            "  predict: classifier intercept: [-0.50798789]\n",
            " *confusion matrix: \n",
            "[[23  3]\n",
            " [11 14]]\n",
            " *precision and recall: \n",
            "              precision    recall  f1-score   support\n",
            "\n",
            "           0       0.68      0.88      0.77        26\n",
            "           1       0.82      0.56      0.67        25\n",
            "\n",
            "    accuracy                           0.73        51\n",
            "   macro avg       0.75      0.72      0.72        51\n",
            "weighted avg       0.75      0.73      0.72        51\n",
            "\n",
            " *FOLD ACC: 0.7255 (mfclass_acc: 0.5098); mfclass: 0; auc: 0.7231\n",
            "\n",
            "\n",
            "Fold 3 \n",
            "   (feature group: 0): [Initial size: 255]\n",
            "[Train size: 204    Test size: 51]\n",
            "[Applying StandardScaler to X[0]: StandardScaler()]\n",
            " X[0]: (N, features): (204, 2308)\n",
            "[Training classification model: lr]\n",
            "model: LogisticRegression(C=0.01, random_state=42) \n",
            "  predict: applying standard scaler to X[0]: StandardScaler()\n",
            "  predict: combined X shape: (51, 2308)\n",
            "  predict: classifier intercept: [-0.3906524]\n",
            " *confusion matrix: \n",
            "[[23  6]\n",
            " [ 8 14]]\n",
            " *precision and recall: \n",
            "              precision    recall  f1-score   support\n",
            "\n",
            "           0       0.74      0.79      0.77        29\n",
            "           1       0.70      0.64      0.67        22\n",
            "\n",
            "    accuracy                           0.73        51\n",
            "   macro avg       0.72      0.71      0.72        51\n",
            "weighted avg       0.72      0.73      0.72        51\n",
            "\n",
            " *FOLD ACC: 0.7255 (mfclass_acc: 0.5686); mfclass: 0; auc: 0.8213\n",
            "\n",
            "\n",
            "Fold 4 \n",
            "   (feature group: 0): [Initial size: 255]\n",
            "[Train size: 204    Test size: 51]\n",
            "[Applying StandardScaler to X[0]: StandardScaler()]\n",
            " X[0]: (N, features): (204, 2308)\n",
            "[Training classification model: lr]\n",
            "model: LogisticRegression(C=0.01, random_state=42) \n",
            "  predict: applying standard scaler to X[0]: StandardScaler()\n",
            "  predict: combined X shape: (51, 2308)\n",
            "  predict: classifier intercept: [-0.35782905]\n",
            " *confusion matrix: \n",
            "[[24  6]\n",
            " [11 10]]\n",
            " *precision and recall: \n",
            "              precision    recall  f1-score   support\n",
            "\n",
            "           0       0.69      0.80      0.74        30\n",
            "           1       0.62      0.48      0.54        21\n",
            "\n",
            "    accuracy                           0.67        51\n",
            "   macro avg       0.66      0.64      0.64        51\n",
            "weighted avg       0.66      0.67      0.66        51\n",
            "\n",
            " *FOLD ACC: 0.6667 (mfclass_acc: 0.5882); mfclass: 0; auc: 0.6857\n",
            "\n",
            "* Overall Fold Acc: 0.7216 (+- 0.0170) vs. MFC Accuracy: 0.5608 (based on test rather than train)\n",
            "*       Overall F1: 0.7077 (+- 0.0191)\n",
            "       + precision: 0.7237 (+- 0.0190)\n",
            "       +    recall: 0.7070 (+- 0.0188)\n",
            "\n",
            "[TEST COMPLETE]\n",
            "\n",
            "{'is_student': {(): {1: {'acc': 0.7215686274509804,\n",
            "                         'auc': 0.7437562437562438,\n",
            "                         'auc_cntl_comb2': 0.0,\n",
            "                         'auc_cntl_comb2_p': 1.0,\n",
            "                         'auc_cntl_comb2_t': 0.0,\n",
            "                         'auc_p': 0.0,\n",
            "                         'auc_p_v_cntrls': 1.0,\n",
            "                         'f1': 0.7084963531855286,\n",
            "                         'f1_weighted': 0.7160008069305103,\n",
            "                         'folds_acc': 0.7215686274509804,\n",
            "                         'folds_auc': 0.7612389559466022,\n",
            "                         'folds_f1': 0.7077258991133442,\n",
            "                         'folds_mfclass_acc': 0.5607843137254902,\n",
            "                         'folds_precision': 0.7237498254433737,\n",
            "                         'folds_recall': 0.7070252241511612,\n",
            "                         'folds_rho': 0.4303887011448538,\n",
            "                         'folds_rho-p': 0.008453872188303043,\n",
            "                         'folds_se_acc': 0.01700351638327749,\n",
            "                         'folds_se_auc': 0.029499867640954212,\n",
            "                         'folds_se_f1': 0.01906700306580623,\n",
            "                         'folds_se_mfclass_acc': 0.013124078847593345,\n",
            "                         'folds_se_precision': 0.01904202376812535,\n",
            "                         'folds_se_recall': 0.018750112642087858,\n",
            "                         'folds_se_rho': 0.03768870238077484,\n",
            "                         'folds_se_rho-p': 0.006395604664118233,\n",
            "                         'matt_ccoef': 0.42951489521772107,\n",
            "                         'mfclass': '0',\n",
            "                         'mfclass_acc': 0.5607843137254902,\n",
            "                         'num_classes': '2',\n",
            "                         'num_features': 2308,\n",
            "                         'precision': 0.7236022742656018,\n",
            "                         'recall': 0.7062624875124875,\n",
            "                         'recall_micro': 0.7215686274509804,\n",
            "                         'recall_sensitivity': 0.5803571428571429,\n",
            "                         'recall_specificity': 0.8321678321678322,\n",
            "                         'test_size': 51,\n",
            "                         'train_size': 204,\n",
            "                         '{modelFS_desc}': 'None',\n",
            "                         '{model_desc}': 'LogisticRegression(C=0.01, '\n",
            "                                         'random_state=42)'}}}}\n",
            "\n",
            "[is_student]\n",
            "   NO CONTROLS\n",
            "     + LANG: acc: 0.722, f1: 0.708, auc: 0.744 (p_vs_controls = 1.0000)\n",
            "   (mfc_acc: 0.561)\n",
            "-------\n",
            "\n",
            "Settings:\n",
            "\n",
            "Database - colab_csv\n",
            "Corpus - msgs404u.csv\n",
            "Group ID - user_id\n",
            "Feature table(s) - feat$1to2gram$msgs404u$user_id$0_1\n",
            "Outcome table - users404.csv\n",
            "Outcome(s) - is_student\n",
            "-------\n",
            "Interface Runtime: 11.65 seconds\n",
            "DLATK exits with success! A good day indeed  ¯\\_(ツ)_/¯.\n"
          ]
        }
      ],
      "source": [
        "!dlatkInterface.py \\\n",
        "  -d colab_csv -t msgs404u.csv -g user_id --group_freq_thresh 100 \\\n",
        "  --outcome_table users404.csv --outcomes is_student  \\\n",
        "  --feat_table 'feat$1to2gram$msgs404u$user_id$0_1' \\\n",
        "  --nfold_test_classifiers --model lr"
      ]
    },
    {
      "cell_type": "markdown",
      "metadata": {
        "id": "zWMd-qW-Toti"
      },
      "source": [
        "👆 The above command produce the key validation metrics like `acc` (accuracy) which gives the fraction of users correctly classified as student (`72.2%` in this case), [f1 score](https://en.wikipedia.org/wiki/F-score), and [auc](https://developers.google.com/machine-learning/crash-course/classification/roc-and-auc) -\n",
        "\n",
        "```\n",
        "[is_student]\n",
        "   NO CONTROLS\n",
        "     + LANG: acc: 0.722, f1: 0.708, auc: 0.745 (p_vs_controls = 1.0000)\n",
        "   (mfc_acc: 0.561)\n",
        "```\n",
        "\n",
        "<br/>"
      ]
    },
    {
      "cell_type": "markdown",
      "metadata": {
        "id": "WHBvEKsTRLm9"
      },
      "source": [
        "## Prediction - Example 2: Training and Deploying a model."
      ]
    },
    {
      "cell_type": "markdown",
      "metadata": {
        "id": "oNpyhU6XiA1N"
      },
      "source": [
        "### Train and Deploy - Step 1: Train and save a model\n"
      ]
    },
    {
      "cell_type": "markdown",
      "metadata": {
        "id": "bEyzbB5XaodD"
      },
      "source": [
        "Another approach is to train a predictive model, store it and use it to predict the outcomes in a different dataset.\n",
        "\n",
        "<br/>\n",
        "\n",
        "In addition to the flags that point to the right tables, flags necessary for this command are -\n",
        "\n",
        "* **`--train_regression`** - trains a regression model.\n",
        "* **`--model MODEL_NAME`** - which machine learning model to use.\n",
        "* **`--save_model --picklefile FILENAME`** - saves the model into a pickle file `FILENAME`\n",
        "\n",
        "<br/>\n",
        "\n",
        "👇 In the below example, you will build and save a model (using [ridge regression](what_is_ridge) with a penalty of 1000) that predicts `age` from 1gram and 2gram features (`feat$1to2gram$msgs404u$user_id$0_1`), and save it into a file named `age.1to2grams.ridge1000.gft100.pickle`."
      ]
    },
    {
      "cell_type": "code",
      "execution_count": null,
      "metadata": {
        "colab": {
          "base_uri": "https://localhost:8080/",
          "height": 250
        },
        "id": "-8LGlOOBp8W0",
        "outputId": "3bfc2266-944e-4fb1-d275-6c9ba8f19fe6"
      },
      "outputs": [
        {
          "data": {
            "application/javascript": [
              "google.colab.output.setIframeHeight(0, true, {maxHeight: 250})"
            ],
            "text/plain": [
              "<IPython.core.display.Javascript object>"
            ]
          },
          "metadata": {},
          "output_type": "display_data"
        },
        {
          "data": {
            "text/html": [
              "<style> body {background-color: rgb(255, 250, 232);}</style>"
            ],
            "text/plain": [
              "<IPython.core.display.HTML object>"
            ]
          },
          "metadata": {},
          "output_type": "display_data"
        },
        {
          "name": "stdout",
          "output_type": "stream",
          "text": [
            "\n",
            "\n",
            "TopicExtractor: gensim Mallet wrapper unavailable, using Mallet directly.\n",
            "\n",
            "-----\n",
            "DLATK Interface Initiated: 2024-01-17 03:15:47\n",
            "-----\n",
            "Connecting to SQLite database: /content/sqlite_data/colab_csv.db\n",
            "Connecting to SQLite database: /content/sqlite_data/colab_csv.db\n",
            "WARNING: The table users404 does not have: a PRIMARY key on user_id. Consider adding.\n",
            "Loading Outcomes and Getting Groups for: {'age'}\n",
            "Connecting to SQLite database: /content/sqlite_data/colab_csv.db\n",
            "[number of groups: 404]\n",
            "\n",
            "= age =\n",
            "-------\n",
            "  (feature group: 0)\n",
            "   [Train size: 404 ]\n",
            " X[0]: (N, features): (404, 2308)\n",
            "  [Applying StandardScaler to X[0]: StandardScaler()]\n",
            "[COMBINED FEATS (from multiX)] Combined size: (404, 2308)\n",
            "[COMBINED FEATS: Training regression model: ridge1000]\n",
            "model: Ridge(alpha=1000) \n",
            "\n",
            "[TRAINING COMPLETE]\n",
            "\n",
            "[Saving age.1to2grams.ridge1000.gft100.pickle]\n",
            "-------\n",
            "\n",
            "Settings:\n",
            "\n",
            "Database - colab_csv\n",
            "Corpus - msgs404u.csv\n",
            "Group ID - user_id\n",
            "Feature table(s) - feat$1to2gram$msgs404u$user_id$0_1\n",
            "Outcome table - users404.csv\n",
            "Outcome(s) - age\n",
            "-------\n",
            "Interface Runtime: 1.16 seconds\n",
            "DLATK exits with success! A good day indeed  ¯\\_(ツ)_/¯.\n"
          ]
        }
      ],
      "source": [
        "!dlatkInterface.py \\\n",
        "  -d colab_csv -t msgs404u.csv -g user_id --group_freq_thresh 100 \\\n",
        "  --outcome_table users404.csv --outcomes age  \\\n",
        "  -f 'feat$1to2gram$msgs404u$user_id$0_1' \\\n",
        "  --train_regression --model ridge1000 \\\n",
        "  --save_model --picklefile age.1to2grams.ridge1000.gft100.pickle"
      ]
    },
    {
      "cell_type": "markdown",
      "metadata": {
        "id": "1ry-iqmWROil"
      },
      "source": [
        "### Train and Deploy - Step 2: Predict from new data\n",
        "\n"
      ]
    },
    {
      "cell_type": "markdown",
      "metadata": {
        "id": "f4HkTFvrZOh7"
      },
      "source": [
        "Once you have trained a model to predict an outcome, you can use it to predict from unseen data (or *test* data).\n",
        "\n",
        "👉 If you wish to use a default *test* dataset, skip the next command.\n",
        "\n",
        "👇 To load your dataset to test the model, you can use the `upload_dataset` function from the [Setup data](#data) section above."
      ]
    },
    {
      "cell_type": "code",
      "execution_count": null,
      "metadata": {
        "colab": {
          "base_uri": "https://localhost:8080/",
          "height": 250
        },
        "id": "VFGe4TR9RSg-",
        "outputId": "0714d3e2-f8e6-4084-8319-43d1a0d481c7"
      },
      "outputs": [
        {
          "data": {
            "application/javascript": [
              "google.colab.output.setIframeHeight(0, true, {maxHeight: 250})"
            ],
            "text/plain": [
              "<IPython.core.display.Javascript object>"
            ]
          },
          "metadata": {},
          "output_type": "display_data"
        },
        {
          "data": {
            "text/html": [
              "<style> body {background-color: rgb(255, 250, 232);}</style>"
            ],
            "text/plain": [
              "<IPython.core.display.HTML object>"
            ]
          },
          "metadata": {},
          "output_type": "display_data"
        },
        {
          "data": {
            "text/html": [
              "\n",
              "     <input type=\"file\" id=\"files-3c09ee46-7737-4994-8b80-40dc6185138c\" name=\"files[]\" multiple disabled\n",
              "        style=\"border:none\" />\n",
              "     <output id=\"result-3c09ee46-7737-4994-8b80-40dc6185138c\">\n",
              "      Upload widget is only available when the cell has been executed in the\n",
              "      current browser session. Please rerun this cell to enable.\n",
              "      </output>\n",
              "      <script>// Copyright 2017 Google LLC\n",
              "//\n",
              "// Licensed under the Apache License, Version 2.0 (the \"License\");\n",
              "// you may not use this file except in compliance with the License.\n",
              "// You may obtain a copy of the License at\n",
              "//\n",
              "//      http://www.apache.org/licenses/LICENSE-2.0\n",
              "//\n",
              "// Unless required by applicable law or agreed to in writing, software\n",
              "// distributed under the License is distributed on an \"AS IS\" BASIS,\n",
              "// WITHOUT WARRANTIES OR CONDITIONS OF ANY KIND, either express or implied.\n",
              "// See the License for the specific language governing permissions and\n",
              "// limitations under the License.\n",
              "\n",
              "/**\n",
              " * @fileoverview Helpers for google.colab Python module.\n",
              " */\n",
              "(function(scope) {\n",
              "function span(text, styleAttributes = {}) {\n",
              "  const element = document.createElement('span');\n",
              "  element.textContent = text;\n",
              "  for (const key of Object.keys(styleAttributes)) {\n",
              "    element.style[key] = styleAttributes[key];\n",
              "  }\n",
              "  return element;\n",
              "}\n",
              "\n",
              "// Max number of bytes which will be uploaded at a time.\n",
              "const MAX_PAYLOAD_SIZE = 100 * 1024;\n",
              "\n",
              "function _uploadFiles(inputId, outputId) {\n",
              "  const steps = uploadFilesStep(inputId, outputId);\n",
              "  const outputElement = document.getElementById(outputId);\n",
              "  // Cache steps on the outputElement to make it available for the next call\n",
              "  // to uploadFilesContinue from Python.\n",
              "  outputElement.steps = steps;\n",
              "\n",
              "  return _uploadFilesContinue(outputId);\n",
              "}\n",
              "\n",
              "// This is roughly an async generator (not supported in the browser yet),\n",
              "// where there are multiple asynchronous steps and the Python side is going\n",
              "// to poll for completion of each step.\n",
              "// This uses a Promise to block the python side on completion of each step,\n",
              "// then passes the result of the previous step as the input to the next step.\n",
              "function _uploadFilesContinue(outputId) {\n",
              "  const outputElement = document.getElementById(outputId);\n",
              "  const steps = outputElement.steps;\n",
              "\n",
              "  const next = steps.next(outputElement.lastPromiseValue);\n",
              "  return Promise.resolve(next.value.promise).then((value) => {\n",
              "    // Cache the last promise value to make it available to the next\n",
              "    // step of the generator.\n",
              "    outputElement.lastPromiseValue = value;\n",
              "    return next.value.response;\n",
              "  });\n",
              "}\n",
              "\n",
              "/**\n",
              " * Generator function which is called between each async step of the upload\n",
              " * process.\n",
              " * @param {string} inputId Element ID of the input file picker element.\n",
              " * @param {string} outputId Element ID of the output display.\n",
              " * @return {!Iterable<!Object>} Iterable of next steps.\n",
              " */\n",
              "function* uploadFilesStep(inputId, outputId) {\n",
              "  const inputElement = document.getElementById(inputId);\n",
              "  inputElement.disabled = false;\n",
              "\n",
              "  const outputElement = document.getElementById(outputId);\n",
              "  outputElement.innerHTML = '';\n",
              "\n",
              "  const pickedPromise = new Promise((resolve) => {\n",
              "    inputElement.addEventListener('change', (e) => {\n",
              "      resolve(e.target.files);\n",
              "    });\n",
              "  });\n",
              "\n",
              "  const cancel = document.createElement('button');\n",
              "  inputElement.parentElement.appendChild(cancel);\n",
              "  cancel.textContent = 'Cancel upload';\n",
              "  const cancelPromise = new Promise((resolve) => {\n",
              "    cancel.onclick = () => {\n",
              "      resolve(null);\n",
              "    };\n",
              "  });\n",
              "\n",
              "  // Wait for the user to pick the files.\n",
              "  const files = yield {\n",
              "    promise: Promise.race([pickedPromise, cancelPromise]),\n",
              "    response: {\n",
              "      action: 'starting',\n",
              "    }\n",
              "  };\n",
              "\n",
              "  cancel.remove();\n",
              "\n",
              "  // Disable the input element since further picks are not allowed.\n",
              "  inputElement.disabled = true;\n",
              "\n",
              "  if (!files) {\n",
              "    return {\n",
              "      response: {\n",
              "        action: 'complete',\n",
              "      }\n",
              "    };\n",
              "  }\n",
              "\n",
              "  for (const file of files) {\n",
              "    const li = document.createElement('li');\n",
              "    li.append(span(file.name, {fontWeight: 'bold'}));\n",
              "    li.append(span(\n",
              "        `(${file.type || 'n/a'}) - ${file.size} bytes, ` +\n",
              "        `last modified: ${\n",
              "            file.lastModifiedDate ? file.lastModifiedDate.toLocaleDateString() :\n",
              "                                    'n/a'} - `));\n",
              "    const percent = span('0% done');\n",
              "    li.appendChild(percent);\n",
              "\n",
              "    outputElement.appendChild(li);\n",
              "\n",
              "    const fileDataPromise = new Promise((resolve) => {\n",
              "      const reader = new FileReader();\n",
              "      reader.onload = (e) => {\n",
              "        resolve(e.target.result);\n",
              "      };\n",
              "      reader.readAsArrayBuffer(file);\n",
              "    });\n",
              "    // Wait for the data to be ready.\n",
              "    let fileData = yield {\n",
              "      promise: fileDataPromise,\n",
              "      response: {\n",
              "        action: 'continue',\n",
              "      }\n",
              "    };\n",
              "\n",
              "    // Use a chunked sending to avoid message size limits. See b/62115660.\n",
              "    let position = 0;\n",
              "    do {\n",
              "      const length = Math.min(fileData.byteLength - position, MAX_PAYLOAD_SIZE);\n",
              "      const chunk = new Uint8Array(fileData, position, length);\n",
              "      position += length;\n",
              "\n",
              "      const base64 = btoa(String.fromCharCode.apply(null, chunk));\n",
              "      yield {\n",
              "        response: {\n",
              "          action: 'append',\n",
              "          file: file.name,\n",
              "          data: base64,\n",
              "        },\n",
              "      };\n",
              "\n",
              "      let percentDone = fileData.byteLength === 0 ?\n",
              "          100 :\n",
              "          Math.round((position / fileData.byteLength) * 100);\n",
              "      percent.textContent = `${percentDone}% done`;\n",
              "\n",
              "    } while (position < fileData.byteLength);\n",
              "  }\n",
              "\n",
              "  // All done.\n",
              "  yield {\n",
              "    response: {\n",
              "      action: 'complete',\n",
              "    }\n",
              "  };\n",
              "}\n",
              "\n",
              "scope.google = scope.google || {};\n",
              "scope.google.colab = scope.google.colab || {};\n",
              "scope.google.colab._files = {\n",
              "  _uploadFiles,\n",
              "  _uploadFilesContinue,\n",
              "};\n",
              "})(self);\n",
              "</script> "
            ],
            "text/plain": [
              "<IPython.core.display.HTML object>"
            ]
          },
          "metadata": {},
          "output_type": "display_data"
        },
        {
          "ename": "IndexError",
          "evalue": "list index out of range",
          "output_type": "error",
          "traceback": [
            "\u001b[0;31m---------------------------------------------------------------------------\u001b[0m",
            "\u001b[0;31mIndexError\u001b[0m                                Traceback (most recent call last)",
            "\u001b[0;32m<ipython-input-16-a80c7e8d9230>\u001b[0m in \u001b[0;36m<cell line: 2>\u001b[0;34m()\u001b[0m\n\u001b[1;32m      1\u001b[0m \u001b[0;32mfrom\u001b[0m \u001b[0mdlatk\u001b[0m\u001b[0;34m.\u001b[0m\u001b[0mtools\u001b[0m\u001b[0;34m.\u001b[0m\u001b[0mcolab_methods\u001b[0m \u001b[0;32mimport\u001b[0m \u001b[0mupload_dataset\u001b[0m\u001b[0;34m\u001b[0m\u001b[0;34m\u001b[0m\u001b[0m\n\u001b[0;32m----> 2\u001b[0;31m \u001b[0mupload_dataset\u001b[0m\u001b[0;34m(\u001b[0m\u001b[0;34m)\u001b[0m\u001b[0;34m\u001b[0m\u001b[0;34m\u001b[0m\u001b[0m\n\u001b[0m",
            "\u001b[0;32m/usr/local/lib/python3.10/dist-packages/dlatk/tools/colab_methods.py\u001b[0m in \u001b[0;36mupload_dataset\u001b[0;34m(filename, foldername)\u001b[0m\n\u001b[1;32m     27\u001b[0m     \u001b[0;31m#Upload the dataset to Google Colab - /content/\u001b[0m\u001b[0;34m\u001b[0m\u001b[0;34m\u001b[0m\u001b[0m\n\u001b[1;32m     28\u001b[0m     \u001b[0mfile\u001b[0m \u001b[0;34m=\u001b[0m \u001b[0mfiles\u001b[0m\u001b[0;34m.\u001b[0m\u001b[0mupload\u001b[0m\u001b[0;34m(\u001b[0m\u001b[0;34m)\u001b[0m\u001b[0;34m\u001b[0m\u001b[0;34m\u001b[0m\u001b[0m\n\u001b[0;32m---> 29\u001b[0;31m     \u001b[0mfilename\u001b[0m \u001b[0;34m=\u001b[0m \u001b[0mlist\u001b[0m\u001b[0;34m(\u001b[0m\u001b[0mfile\u001b[0m\u001b[0;34m.\u001b[0m\u001b[0mkeys\u001b[0m\u001b[0;34m(\u001b[0m\u001b[0;34m)\u001b[0m\u001b[0;34m)\u001b[0m\u001b[0;34m[\u001b[0m\u001b[0;36m0\u001b[0m\u001b[0;34m]\u001b[0m\u001b[0;34m\u001b[0m\u001b[0;34m\u001b[0m\u001b[0m\n\u001b[0m\u001b[1;32m     30\u001b[0m     \u001b[0mprint\u001b[0m\u001b[0;34m(\u001b[0m\u001b[0;34m\"Uploading \"\u001b[0m\u001b[0;34m,\u001b[0m \u001b[0mfilename\u001b[0m\u001b[0;34m)\u001b[0m\u001b[0;34m\u001b[0m\u001b[0;34m\u001b[0m\u001b[0m\n\u001b[1;32m     31\u001b[0m \u001b[0;34m\u001b[0m\u001b[0m\n",
            "\u001b[0;31mIndexError\u001b[0m: list index out of range"
          ]
        }
      ],
      "source": [
        "from dlatk.tools.colab_methods import upload_dataset\n",
        "upload_dataset()"
      ]
    },
    {
      "cell_type": "markdown",
      "metadata": {
        "id": "FWjIdHgYZw9l"
      },
      "source": [
        "👇 You need to extract the same set of features as the ones used to train the predictive model. So, extract 1gram and 2gram features, used by atleast 10% of the groups, and consider only the groups with atleast 100 tokens."
      ]
    },
    {
      "cell_type": "code",
      "execution_count": null,
      "metadata": {
        "colab": {
          "base_uri": "https://localhost:8080/",
          "height": 250
        },
        "id": "hPHAMH9sMqKu",
        "outputId": "12c4ae07-bcff-4484-fb8a-db1fb23f97bd"
      },
      "outputs": [
        {
          "data": {
            "application/javascript": [
              "google.colab.output.setIframeHeight(0, true, {maxHeight: 250})"
            ],
            "text/plain": [
              "<IPython.core.display.Javascript object>"
            ]
          },
          "metadata": {},
          "output_type": "display_data"
        },
        {
          "data": {
            "text/html": [
              "<style> body {background-color: rgb(255, 250, 232);}</style>"
            ],
            "text/plain": [
              "<IPython.core.display.HTML object>"
            ]
          },
          "metadata": {},
          "output_type": "display_data"
        },
        {
          "name": "stdout",
          "output_type": "stream",
          "text": [
            "\n",
            "\n",
            "TopicExtractor: gensim Mallet wrapper unavailable, using Mallet directly.\n",
            "\n",
            "-----\n",
            "DLATK Interface Initiated: 2024-01-17 03:15:55\n",
            "-----\n",
            "Connecting to SQLite database: /content/sqlite_data/colab_csv.db\n",
            "SQL Query: CREATE TABLE msgs100u (message_id INT, user_id INT, created_date VARCHAR(10), message LONGTEXT);\n",
            "Importing data, reading msgs100u.csv file\n",
            "Reading remaining 741 rows into the table...\n",
            "query: PRAGMA table_info(msgs100u)\n",
            "SQL Query: DROP TABLE IF EXISTS feat$1gram$msgs100u$user_id\n",
            "SQL Query: CREATE TABLE feat$1gram$msgs100u$user_id ( id INTEGER PRIMARY KEY, group_id INTEGER, feat VARCHAR(36), value INTEGER, group_norm DOUBLE)\n",
            "\n",
            "\n",
            "Creating index correl_field on table:feat$1gram$msgs100u$user_id, column:group_id \n",
            "\n",
            "\n",
            "SQL Query: CREATE INDEX correl_field$1gram$msgs100u$user_id ON feat$1gram$msgs100u$user_id (group_id)\n",
            "\n",
            "\n",
            "Creating index feature on table:feat$1gram$msgs100u$user_id, column:feat \n",
            "\n",
            "\n",
            "SQL Query: CREATE INDEX feature$1gram$msgs100u$user_id ON feat$1gram$msgs100u$user_id (feat)\n",
            "query: PRAGMA table_info(msgs100u)\n",
            "SQL Query: DROP TABLE IF EXISTS feat$meta_1gram$msgs100u$user_id\n",
            "SQL Query: CREATE TABLE feat$meta_1gram$msgs100u$user_id ( id INTEGER PRIMARY KEY, group_id INTEGER, feat VARCHAR(16), value INTEGER, group_norm DOUBLE)\n",
            "\n",
            "\n",
            "Creating index correl_field on table:feat$meta_1gram$msgs100u$user_id, column:group_id \n",
            "\n",
            "\n",
            "\n",
            "\n",
            "Creating index feature on table:feat$meta_1gram$msgs100u$user_id, column:feat \n",
            "\n",
            "\n",
            "finding messages for 100 'user_id's\n",
            "WARNING: The table msgs100u does not have: a PRIMARY key on message_id. Consider adding.\n",
            "         Please check that all messages have a unique message_id, this can significantly impact all downstream analysis\n",
            "WARNING: The table msgs100u does not have: an index on user_id. Consider adding.\n",
            " [5%] Inserted 4080 total ngram rows covering 5 user_ids\n",
            " [10%] Inserted 9541 total ngram rows covering 10 user_ids\n",
            " [15%] Inserted 12001 total ngram rows covering 15 user_ids\n",
            " [20%] Inserted 13754 total ngram rows covering 20 user_ids\n",
            " [25%] Inserted 16767 total ngram rows covering 25 user_ids\n",
            " [30%] Inserted 18785 total ngram rows covering 30 user_ids\n",
            " [35%] Inserted 20910 total ngram rows covering 35 user_ids\n",
            " [40%] Inserted 24759 total ngram rows covering 40 user_ids\n",
            " [45%] Inserted 27164 total ngram rows covering 45 user_ids\n",
            " [50%] Inserted 30060 total ngram rows covering 50 user_ids\n",
            " [55%] Inserted 35290 total ngram rows covering 55 user_ids\n",
            " [60%] Inserted 38545 total ngram rows covering 60 user_ids\n",
            " [65%] Inserted 41141 total ngram rows covering 65 user_ids\n",
            " [70%] Inserted 45646 total ngram rows covering 70 user_ids\n",
            " [75%] Inserted 48750 total ngram rows covering 75 user_ids\n",
            " [80%] Inserted 53011 total ngram rows covering 80 user_ids\n",
            " [85%] Inserted 57497 total ngram rows covering 85 user_ids\n",
            " [90%] Inserted 60195 total ngram rows covering 90 user_ids\n",
            " [95%] Inserted 62513 total ngram rows covering 95 user_ids\n",
            " [100%] Inserted 64501 total ngram rows covering 100 user_ids\n",
            "Done Reading / Inserting.\n",
            "Adding Keys (if goes to keycache, then decrease MAX_TO_DISABLE_KEYS or run myisamchk -n).\n",
            "Done\n",
            "\n",
            "query: PRAGMA table_info(msgs100u)\n",
            "SQL Query: DROP TABLE IF EXISTS feat$2gram$msgs100u$user_id\n",
            "SQL Query: CREATE TABLE feat$2gram$msgs100u$user_id ( id INTEGER PRIMARY KEY, group_id INTEGER, feat VARCHAR(70), value INTEGER, group_norm DOUBLE)\n",
            "\n",
            "\n",
            "Creating index correl_field on table:feat$2gram$msgs100u$user_id, column:group_id \n",
            "\n",
            "\n",
            "SQL Query: CREATE INDEX correl_field$2gram$msgs100u$user_id ON feat$2gram$msgs100u$user_id (group_id)\n",
            "\n",
            "\n",
            "Creating index feature on table:feat$2gram$msgs100u$user_id, column:feat \n",
            "\n",
            "\n",
            "SQL Query: CREATE INDEX feature$2gram$msgs100u$user_id ON feat$2gram$msgs100u$user_id (feat)\n",
            "query: PRAGMA table_info(msgs100u)\n",
            "SQL Query: DROP TABLE IF EXISTS feat$meta_2gram$msgs100u$user_id\n",
            "SQL Query: CREATE TABLE feat$meta_2gram$msgs100u$user_id ( id INTEGER PRIMARY KEY, group_id INTEGER, feat VARCHAR(16), value INTEGER, group_norm DOUBLE)\n",
            "\n",
            "\n",
            "Creating index correl_field on table:feat$meta_2gram$msgs100u$user_id, column:group_id \n",
            "\n",
            "\n",
            "\n",
            "\n",
            "Creating index feature on table:feat$meta_2gram$msgs100u$user_id, column:feat \n",
            "\n",
            "\n",
            "finding messages for 100 'user_id's\n",
            " [5%] Inserted 10738 total ngram rows covering 5 user_ids\n",
            " [10%] Inserted 26507 total ngram rows covering 10 user_ids\n",
            " [15%] Inserted 32549 total ngram rows covering 15 user_ids\n",
            " [20%] Inserted 36411 total ngram rows covering 20 user_ids\n",
            " [25%] Inserted 44868 total ngram rows covering 25 user_ids\n",
            " [30%] Inserted 49988 total ngram rows covering 30 user_ids\n",
            " [35%] Inserted 54670 total ngram rows covering 35 user_ids\n",
            " [40%] Inserted 65850 total ngram rows covering 40 user_ids\n",
            " [45%] Inserted 71566 total ngram rows covering 45 user_ids\n",
            " [50%] Inserted 78652 total ngram rows covering 50 user_ids\n",
            " [55%] Inserted 93025 total ngram rows covering 55 user_ids\n",
            " [60%] Inserted 101839 total ngram rows covering 60 user_ids\n",
            " [65%] Inserted 107579 total ngram rows covering 65 user_ids\n",
            " [70%] Inserted 120820 total ngram rows covering 70 user_ids\n",
            " [75%] Inserted 128580 total ngram rows covering 75 user_ids\n",
            " [80%] Inserted 141321 total ngram rows covering 80 user_ids\n",
            " [85%] Inserted 153942 total ngram rows covering 85 user_ids\n",
            " [90%] Inserted 160653 total ngram rows covering 90 user_ids\n",
            " [95%] Inserted 166030 total ngram rows covering 95 user_ids\n",
            " [100%] Inserted 170583 total ngram rows covering 100 user_ids\n",
            "Done Reading / Inserting.\n",
            "Adding Keys (if goes to keycache, then decrease MAX_TO_DISABLE_KEYS or run myisamchk -n).\n",
            "Done\n",
            "\n",
            "Connecting to SQLite database: /content/sqlite_data/colab_csv.db\n",
            "SQL Query: DROP TABLE IF EXISTS feat$1to2gram$msgs100u$user_id\n",
            "SQL Query: CREATE TABLE feat$1to2gram$msgs100u$user_id ( id INTEGER PRIMARY KEY, group_id INTEGER, feat VARCHAR(70), value INTEGER, group_norm DOUBLE)\n",
            "\n",
            "\n",
            "Creating index correl_field on table:feat$1to2gram$msgs100u$user_id, column:group_id \n",
            "\n",
            "\n",
            "SQL Query: CREATE INDEX correl_field$1to2gram$msgs100u$user_id ON feat$1to2gram$msgs100u$user_id (group_id)\n",
            "\n",
            "\n",
            "Creating index feature on table:feat$1to2gram$msgs100u$user_id, column:feat \n",
            "\n",
            "\n",
            "SQL Query: CREATE INDEX feature$1to2gram$msgs100u$user_id ON feat$1to2gram$msgs100u$user_id (feat)\n",
            "Connecting to SQLite database: /content/sqlite_data/colab_csv.db\n",
            "Connecting to SQLite database: /content/sqlite_data/colab_csv.db\n",
            " feat$1to2gram$msgs100u$user_id [threshold: 10]\n",
            "Connecting to SQLite database: /content/sqlite_data/colab_csv.db\n",
            "SQL Query: DROP TABLE IF EXISTS feat$1to2gram$msgs100u$user_id$0_1\n",
            " feat$1to2gram$msgs100u$user_id <new table feat$1to2gram$msgs100u$user_id$0_1 will have 3053 distinct features.>\n",
            "SQL Query: CREATE TABLE feat$1to2gram$msgs100u$user_id$0_1 ( id INTEGER PRIMARY KEY, group_id INTEGER, feat VARCHAR(70), value INTEGER, group_norm DOUBLE)\n",
            "Done inserting.\n",
            "Enabling keys.\n",
            "done.\n",
            "-------\n",
            "\n",
            "Settings:\n",
            "\n",
            "Database - colab_csv\n",
            "Corpus - msgs100u.csv\n",
            "Group ID - user_id\n",
            "Feature table(s) - feat$1to2gram$msgs100u$user_id$0_1\n",
            "-------\n",
            "Interface Runtime: 14.06 seconds\n",
            "DLATK exits with success! A good day indeed  ¯\\_(ツ)_/¯.\n"
          ]
        }
      ],
      "source": [
        "!dlatkInterface.py \\\n",
        "  -d colab_csv -t msgs100u.csv -g user_id --group_freq_thresh 100 \\\n",
        "  --add_ngrams -n 1 2 \\\n",
        "  --combine_feat_tables 1to2gram \\\n",
        "  --feat_occ_filter --set_p_occ 0.10"
      ]
    },
    {
      "cell_type": "markdown",
      "metadata": {
        "id": "Ihi0766mfTx_"
      },
      "source": [
        "👆 You should see the name of the new feature table - `feat$1to2gram$msgs100u$user_id$0_1$pmi3_0` (you can use `--view_tables` to check the table).\n",
        "<hr /><br />\n",
        "\n"
      ]
    },
    {
      "cell_type": "markdown",
      "metadata": {
        "id": "fFiIGzTXf2Jf"
      },
      "source": [
        "Once you have all the features required by the prediction model, you can predict the outcome using the flags:\n",
        "\n",
        "* **`--predict_regression_to_outcome_table TABLE_NAME`** - predicts the outcomes into a table named `TABLE_NAME`.\n",
        "* **`--load --picklefile FILENAME`** - load the model from the file `FILENAME`."
      ]
    },
    {
      "cell_type": "code",
      "execution_count": null,
      "metadata": {
        "colab": {
          "base_uri": "https://localhost:8080/",
          "height": 250
        },
        "id": "3z0FH0p3L1L-",
        "outputId": "5bb408f7-e97b-458e-f51e-b11ae722172f"
      },
      "outputs": [
        {
          "data": {
            "application/javascript": [
              "google.colab.output.setIframeHeight(0, true, {maxHeight: 250})"
            ],
            "text/plain": [
              "<IPython.core.display.Javascript object>"
            ]
          },
          "metadata": {},
          "output_type": "display_data"
        },
        {
          "data": {
            "text/html": [
              "<style> body {background-color: rgb(255, 250, 232);}</style>"
            ],
            "text/plain": [
              "<IPython.core.display.HTML object>"
            ]
          },
          "metadata": {},
          "output_type": "display_data"
        },
        {
          "name": "stdout",
          "output_type": "stream",
          "text": [
            "\n",
            "\n",
            "TopicExtractor: gensim Mallet wrapper unavailable, using Mallet directly.\n",
            "\n",
            "-----\n",
            "DLATK Interface Initiated: 2024-01-17 03:16:15\n",
            "-----\n",
            "Connecting to SQLite database: /content/sqlite_data/colab_csv.db\n",
            "Outcome table missing\n",
            "Connecting to SQLite database: /content/sqlite_data/colab_csv.db\n",
            "[Loading age.1to2grams.ridge1000.gft100.pickle] True\n",
            "Outcomes in loaded model: ['age']\n",
            "WARNING! Predict to outcome table sometimes excludes groups if not in a feature table.\n",
            "\n",
            "\n",
            "**CHUNK 0\n",
            "\n",
            " [Aligning current X with training X: feature group: 0]\n",
            "  Features Aligned: 2308\n",
            "\n",
            "= age =\n",
            "-------\n",
            "  (feature group: 0)\n",
            "[PREDICT] applying *existing* standard scaler to X[0]: StandardScaler()\n",
            "[PREDICT] combined X shape: (100, 2308)\n",
            "[PREDICT] regressor: Ridge(alpha=1000)\n",
            "settings:  [('alpha', 1000), ('fit_intercept', True), ('copy_X', True), ('max_iter', None), ('tol', 0.001), ('positive', False), ('random_state', None), ('n_features_in_', 2308), ('_normalize', False), ('n_iter_', None), ('intercept_', 23.24009900990099)]\n",
            "[Done.]\n",
            "[Prediction Complete]\n",
            " Total Predicted: 100\n",
            "New table created: p_ridg$lbp_age\n",
            "Connecting to SQLite database: /content/sqlite_data/colab_csv.db\n",
            "\n",
            "Example predictions\n",
            "-------\n",
            "Group ID: 4088894\n",
            "\n",
            "Top 3 messages for the group:\n",
            "-------\n",
            "[\"I have been a member of the Dragonswood site for quite a while now & am pleased to say that recently, I was asked to write a regular column for their magazine (which, incidentally, is now available in some shops over in the USA & even NZ, as well as quite a few here in the UK). My first column is in the latest issue (out for Lammas & Mabon) & *puffs out chest with pride* is one of the featured articles mentioned on the front cover. I'm pleased as punch over that, I have to say, as this is my first professional writing venture (I've only ever written items for Triptych which I produce myself before now). Anyway, I thought I'd pop the article up here too & provide a link to the Dragonswood website, where you can order the magazine direct from them:  urlLink http://www.dragonswood.org.uk/index.php    THE ARTICLE:  Simple Witchery By Mabon   What is Simple Witchery?  As long as I can remember, Iâ\\x80\\x99ve always liked to keep things as simple as possible â\\x80\\x93 I never saw the point in taking a complicated route if a simpler one presented itself to me. This isnâ\\x80\\x99t laziness, just common sense, from my point of view. Itâ\\x80\\x99s something that has bothered me for a long time, this need people often seem to feel to complicate things which neednâ\\x80\\x99t be so hard, and so I set out to boil things down to their barest components, take out all things unnecessary & just get things done.  This is, essentially, what Simple Witchery is all about; leaving out all the extraneous information & implements, taking advantage of what we have ready to hand, & simply enjoying the flow of things. I hope that with this column, I can share some of this with all of you, & perhaps even get you thinking of ways to simplify things in your own, unique way!   Why Simple Witchery?  When you lift out all the superfluous items, you are left with the most important element of the Craft. Which element is that? Earth? Air? Fire or Water? Perhaps Spirit? No, none of these. The most important element is always YOU; the person living it & experiencing all it has to offer. When you learn to rely on yourself & your own abilities, you learn that nothing is impossible, you can do anything you set your mind to. Thatâ\\x80\\x99s what itâ\\x80\\x99s all about; setting your mind to something & getting it done.  For example, I donâ\\x80\\x99t use a wand in any or my work. Yes, I own one â\\x80\\x93 a very ornate & beautiful one which was given to me by a very close friend â\\x80\\x93 but I see it as purely a decoration for my home & it sits on a cherry wood stand atop my bookcase, where I can see it whenever I look up. It has never & will never be used by me or anyone else. Why? Because it doesnâ\\x80\\x99t need to be. I have no need of a wand when I have myself. Besides, what if at some point I had to cast in an emergency & found myself without my wand, what would I do? Panic? Well, thatâ\\x80\\x99s not really very sensible, is it? Iâ\\x80\\x99d do whatever needed to be done without my wand & it would work every bit as well as it would while using a wand!  Basically, all you need to get yourself started is focus of will & energy. Once you get the hang of that, thereâ\\x80\\x99ll be no holding you back & no end to the things you can accomplish. Over the coming issues, Iâ\\x80\\x99ll be exploring more of Simple Witchery &, hopefully, taking you along for the ride. I really hope youâ\\x80\\x99ll find it fun!   Tâ\\x80\\x99is the Seasonâ\\x80¦  These are some very simple rituals for the coming Sabbats â\\x80\\x93 ones I use myself. I hope youâ\\x80\\x99ll enjoy them.   Lammas (1st August)  Lammas is the first of the harvest festivals & celebrates the beginning of us reaping what we have sown earlier in the year. It is traditionally a time for feasting, having fun, & preparing ourselves for a little more hard work before the harvest is done!   On the Altar:  Large beeswax candle Lengths of green & red cord Wine, bread & honey   The Ritual:  Cleanse and cast the circle.Light the beeswax candle. Knot the piece of red cord and pass it over the candle, circling the base. Think of all that is passing and the sacrifices you have made. Give them up freely as you pass the red cord over the flame. Knot the green cord and pass it over the candle to lie on top of the red cord. This represents the achievements which will be built on your sacrifices â\\x80\\x93 your harvest. Consecrate the wine and drink in honour of the Sun's power and your own achievements. Consecrate the bread and honey, and take them to the four corners saying:  'This is my offering;   This is my sacrifice.'  (Move round the circle deosil (clockwise) starting at North) Spread the honey on the bread. Eat and drink, communing with the season, saving some to put into the Earth as an offering later. Close the circle.   Mabon (22nd September)  Mabon is the Autumnal Equinox; a time of balance between darkness & light. But after this, the days will begin to grow shorter & the nights will draw in earlier. As the second of the harvest festivals, we celebrate it with the many orchard fruits which are now in season.   On the Altar:  An ear of corn Dried leaves A deep purple candle Wine & bread   The Ritual:  Cleanse and cast the circle.Light the purple candle and think about the meaning of the season. Name the dried leaves for anything to be swept out of your life. Drop them deliberately to the floor to be swept up later (keep them to scatter into running water). Pick up the corn and say:  'The God has descended into the land.   Now he makes His journey into the Underworld.   Days grow dim, nights grow long, but we do not weep,   For behold, he has left his seed as a promise of his return!'  Take the corn and bread deosil (clockwise) round the circle, stopping at each corner and saying:  'This is the seed and this is my harvest.'  Direct healing thoughts towards any part of the world where there is famine. Eat the bread and drink to the Lord and Lady. Close the circle.   Seasonal Project:   Goddess Eye  A Goddess eye is said to watch over & protect the home, & makes a wonderful gift for a like-minded friend. Making something yourself means it is very personal & the effort put into it gives it that little bit extra power. Hang it in the window to catch the light.  Materials required:  2 sticks on roughly equal length Yarn or embroidery threads of various colours Scissors (to cut the threads of course!)  Method:  Make a slipknot on the end of the thread you will use for the centre of the cross & slide the loop over the 2 sticks. Once the thread is centred, pull the knot tight & spread the stick arms out into the form of a cross. Wrap the thread diagonally over the centre twice for each side (NW-SE, then NE-SW) Start wrapping the thread around the sticks (moving deosil around the eye). Start at one point, move the thread over the stick, come round the back crossing over the front & move onto the next arm, keeping the thread tight. When you want to change to another colour, hide the knot at the back of the stick so the ends can't be seen. When you're finished, double-loop the thread over the last arm. You can decorate the ends of the arms with leather, beads or feathers â\\x80\\x93 however you like. To hang the eye up, add a loop in the same colour as the thread nearest the outer edge, by pushing the ends through the eye (about an inch or so down the arm) from the front, then pushing the ends back through to the front again higher up, then tying a knot to form a loop. This should hold the eye upright when it's hung up.   Kitchen Witch   Herb Scented Flat Bread  This flatbread doesn't contain yeast, so it's quick and simple to make. You can substitute your favourite herbs for the ones suggested. A delicious recipe to use for ritual or any time. Makes 3.  Ingredients:  1 cup plus 3 tablespoons all-purpose flour 1/2 teaspoon baking powder 1/2 teaspoon salt 1 teaspoon finely chopped fresh sage 1 teaspoon finely chopped fresh chives 1 teaspoon finely chopped fresh flat-leaf parsley 2 1/2 tablespoons vegetable shortening 3 tablespoons milk 1/2 teaspoon coarse salt, for sprinkling 1 tablespoon extra-virgin olive oil, for brushing  1. In the bowl of a food processor, combine the flour, baking powder, salt, sage, chives, and parsley; process for 5 seconds to combine. Add vegetable shortening and process until well combined, about 15 seconds. Add milk and 2 tablespoons water, and process until the dough comes together, about 7 seconds.  2. Transfer dough to a lightly-flowered surface and knead for about 1 minute, forming it into a ball. Cover with plastic wrap and let stand for 30 minutes.  3. Heat the over to 200Â° with a baking sheet set on the rack. Heat a medium cast-iron skillet over medium-high heat until very hot. Meanwhile, cut the dough into 3 equal pieces and form each piece into a ball. On a lightly floured surface, roll one of the pieces of dough out into a very thin circle (it should be less than 1/16 inch thick and about 6 1/2 inches in diameter). Using a fork, prick the dough 7 or 8 times. Lightly brush one side of the dough with olive oil and sprinkle it lightly with salt.  4. Transfer round of dough, with the oiled side down, to the hot skillet and reduce heat to medium; cook until surface is covered with golden to dark-brown speckles, about 1 to 2 minutes on each side. If the flatbread begins to burn, lower the heat and continue to cook.  5. Remove bread from skillet and transfer to the baking sheet in the oven. Repeat the rolling and cooking process with the remaining 2 pieces of dough.  6. Cut the bread into wedges with a pizza wheel or sharp knife, and serve warm.\", 'Well, this weekend is going to me quadrupally special for me: Not only is it a full moon tomorrow night, but it is also a blue moon (the second full moon in a calendar month). Then on Sunday it is Lammas (one of the eight Sabbats in the Wheel of the Year) AND my first wedding anniversary!  Yes, one year ago, Dale & I both stood up in front of a bunch of our friends & family to say words along the lines of \"I do\". Where has the time gone? It\\'s quite literally flown by so fast that I can scarcely believe it. It certainly doesn\\'t feel like a year already. It was odd enough last month when I realised that my best friend, Sarah, had been married a whole year (there was a whole spate of weddings last summer, you see!) & now it\\'s MY turn. I can honestly say it\\'s been fantastic so far, but people keep asking how it feels to be married & all I can say is that it doesn\\'t really feel any different to us than we did before! We were already living together & both knew we wanted to spend the rest of our lives together - it was just a case of formalising it & making it legal. Perhaps I feel a little more secure now, but other than that, it\\'s exactly the same. Just as well I was happy enough before, isn\\'t it?  So, Dale & I are returning to the hotel where the deed was done, for dinner & an overnight stay, with breakfast in bed, to celebrate.  Anyway, other than our anniversary, I have the other important celebration to think about - Lammas! A little information is possibly called for here, I suppose. Lammas is the first of the three harvest festivals (the fifth of the year as a whole) & is generally held on or around 1st August. It celebrates the harvesting of the first crops as well as the first fruition of projects begun at the start of the year - we reap as we sow. It is also known as Lughnassadh (pronounced Loo-nah-sah) - the feast of the God, Lugh, who is sacrificed as he is cut down with the corn & reborn as the bread, providing food for all.  Some traditional associations are:  Traditional Foods:  Apples, Grains, Breads and Berries.  Herbs and Flowers:  All Grains, Grapes, Heather, Blackberries, Sloe, Crab Apples, Pears.  Incense:  Aloes, Rose, Sandalwood. Sacred GemstoneCarnelian.  Special Activities:  As summer passes, many Pagans celebrate this time to remember its warmth and bounty in a celebrated feast shared with family or Coven members. Save and plant the seeds from the fruits consumed during the feast or ritual. If they sprout, grow the plant or tree with love and as a symbol of your connection with the Lord and Lady. Walk through the fields and orchards or spend time along springs, creeks, rivers, ponds and lakes reflecting on the bounty and love of the Lord and Lady.  I\\'ve never been much of a one to go in for long rituals, so the one I use (when I use one at all) goes along these lines:   On the Altar:  Large beeswax candle Lengths of green & red cord Wine, bread & honey   The Ritual:  Cleanse and cast the circle. Light the beeswax candle. Knot the piece of red cord and pass it over the candle, circling the base. Think of all that is passing and the sacrifices you have made. Give them up freely as you pass the red cord over the flame. Knot the green cord and pass it over the candle to lie on top of the red cord. This represents the achievements which will be built on your sacrifices â\\x80\\x93 your harvest.  Consecrate the wine and drink in honour of the Sun\\'s power and your own achievements. Consecrate the bread and honey, and take them to the four corners saying: \\'This is my offering; This is my sacrifice.\\' (start at the North then move round the circle deosil) Spread the honey on the bread. Eat and drink, communing with the season, saving some to put into the Earth as an offering later. Close the circle.  I don\\'t think I\\'ll be performing a ritual this year, so I\\'ll probably just spend some time outside, somewhere green, & meditate a while instead - the Lord & Lady seem to be happy enough with that arrangement, so it should be more than enough.  I wish you all a special Blue Moon celebration & a fruitful harvest this Lammas! Blessings, Mab.', \"Well, I've never run a blog before, but I guess a wee introduction would probably be the best place to start, so here goes:  I'm a 27 year old married female who happens to be a practicing solitary Witch & have been for around 13 years now. I've forged my own Path along the way; a Path I call Simple Witchery. So, what does that mean, exactly? Well, I boil everything down to its barest components & take out all the extraneous bumf & hooha, so that what is left is the barest of essentials. I don't go in for big, fancy rituals & ceremonies - most of my magick takes place in the kitchen or the bathroom & is very firmly based in the mundane - it's a part of my everyday life, not something I do on the weekends or a couple of evenings a month. I am very much interested in spellcraft - the science of magick - & also the artsy-craftsy side of it (ie making things to use as part of a spell, such as poppets, amulets, talismans, or just the little things like a bag to put all the components in!). I'm also very interested in the use of herbs in healing.  Outside of my Craft interests, I am an avid reader - everything from horror to fantasy, comedy to biography - I just devour them all! I also spend a fair bit of time writing, not just calligraphy (which I love), but I edit a small local Pagan newsletter (Triptych) & also write a regular column for Dragonswood magazine. Music plays a huge part in my life - my husband plays guitar & sings, while I just sing - we spend a lot of time listening to rock & metal music (our favourite band is Dream Theater). Movies are another shared interest - just about any genre you care to name is represented in our DVD collection.  And that's a brief introduction to ME. No doubt as I write more, more will be revealed...\"]\n",
            "\n",
            "\n",
            "Prediction: 27.350689449787602\n",
            "-------\n",
            "\n",
            "Group ID: 3673762\n",
            "\n",
            "Top 3 messages for the group:\n",
            "-------\n",
            "[\"I brought them both home with me this evening. (Technically last night, since it is now well past midnight.)  Pippi was waiting for me in the children's section of my local Big Chain bookstore. I had sat at the kiddie table to flip through Ed Emberley's drawing books. Pippi caught my eye from a discarded stack of books across the table, when I paused to sip my Starbucks coffee. I loved her when I was a kid, and my hand automatically reached out for her cheery face on the book's cover.  I had forgotten she is the strongest girl in the world, has her own house, and is an orphan. Just like ME! I'm tempted to dye my (graying) hair red, but I'll compromise by wearing pig tails now and then.  Pippi had me reminiscing past joys, so I sprung for a compilation CD of Kitaro's music from the 70s and 80s. I've lusted for that album since a boyfriend played the cassette version in his truck for me, at his farm in Grand Forks, North Dakota, in 1988. We discussed romance to Kitaro's pulsing accompaniment. The music stayed with me, the boyfriend didn't, thank goodness.  Better go beddie-bye before I spill too much information here.  Love ya, Pippi.\", 'With the death of my brother last month, I have no immediate family. I had been trying to call him, to wish him Happy Easter and Birthday in April, then to see how he was in May. I kept leaving messages.  Not until that day in May that a nurse called to tell me he had died a few hours earlier, did I know he had moved twice this year. I try not to be angry...\"If only someone had called me back to let me know he had moved, I could have talked to him one last time....\" I immediately got on a plane and flew to where he was. I buried him near my parents. Thatâ\\x80\\x99s about all I have the emotional stamina to say about it tonight.  With his death all my immediate family are gone.  So for a while I holed up. I read, wrote, and wallowed. It makes no sense to me that I should be w/o family at such a young age. I\\'ve done everything right as a loyal and compassionte being, and it\\'s no joke that most people who meet me like me. I like people too, hence my profile, \"loner who likes people.\" (More on that in a future post.)  And as I\\'ve learned well, each time there is death near me, a friend or two or three, will drop from the radar. I\\'ve had enough practice not to take this personally. Meanwhile, others have stepped forward in unexpected support and generosity. The last two afternoons I was treated to coffee and chat by new acquaintances. I doubt these will become serious friendships, but I am glad to learn once again that when some fall away, either in death or because they don\\'t want to be around a person who is hurting, there are many angels willing to step in.  I almost gave up again. I decided to become a hermit, far beyond my usual loner self. Yet that pebble of courage that always grinds into my heel when I take a step kept prodding me. For a week, at least, I\\'m trying to play in the friendship game again.  A funny part of my coffee dates with these two women was that I listened to them talk about their love lives. Hearing their joys and sorrows, and offering ideas as asked, made me feel alive and hopeful; for love, even lost love, is the breath of life. We talked little of my situation. For me, that was a relief; a mental vacation. I told them so.  My life is changing. I have always been a loner. I want to be different than I\\'ve been in that regard, but I think the programming is hard wired. I prefer it.  This book perks me up when I start telling people off in my mind for what my emotional center registers as abandonment:  Anyway: The Paradoxical Commandments:  Finding Personal Meaning in a Crazy World   by Kent M. Keith  People will leave in various ways. I\\'m a true friend anyway. Others stay, and love me no matter how life turns. I am grateful.', \"Privately owned SpaceShipOne completed a manned flight 62.5 miles above earth, then landed in the Mojave Desert.  I hope that one day, I'll be able to fly into space. In the same way I take a plane to Europe, I'll take a flight far above Earth.  People have laughed at me when I've said this. Maybe after today, they'll realize my hope ain't all pie in the sky.  As of this writing, Google News is posting over 1000 articles from around the world on the success of SpaceShipOne:  urlLink  SpaceShipOne News   It's only a matter of time until we can buy tickets for a private rocket ride.\"]\n",
            "\n",
            "\n",
            "Prediction: 24.283943028810803\n",
            "-------\n",
            "\n",
            "-------\n",
            "\n",
            "Settings:\n",
            "\n",
            "Database - colab_csv\n",
            "Corpus - msgs100u.csv\n",
            "Group ID - user_id\n",
            "Feature table(s) - feat$1to2gram$msgs100u$user_id$0_1\n",
            "-------\n",
            "Interface Runtime: 0.42 seconds\n",
            "DLATK exits with success! A good day indeed  ¯\\_(ツ)_/¯.\n"
          ]
        }
      ],
      "source": [
        "!dlatkInterface.py \\\n",
        "  -d colab_csv -t msgs100u.csv -g user_id --group_freq_thresh 100 \\\n",
        "  -f 'feat$1to2gram$msgs100u$user_id$0_1' \\\n",
        "  --predict_regression_to_outcome_table lbp_age \\\n",
        "  --load --picklefile age.1to2grams.ridge1000.gft100.pickle"
      ]
    },
    {
      "cell_type": "markdown",
      "metadata": {
        "id": "i43f_1bAFIDu"
      },
      "source": [
        "## Authors and References"
      ]
    },
    {
      "cell_type": "code",
      "execution_count": null,
      "metadata": {
        "id": "ocIzx5BeQiES"
      },
      "outputs": [],
      "source": []
    }
  ],
  "metadata": {
    "colab": {
      "provenance": [],
      "include_colab_link": true
    },
    "kernelspec": {
      "display_name": "Python 3",
      "name": "python3"
    },
    "language_info": {
      "name": "python"
    },
    "widgets": {
      "application/vnd.jupyter.widget-state+json": {
        "01762109f12e49c3b23dc9efad3e4768": {
          "model_module": "@jupyter-widgets/controls",
          "model_name": "DropdownModel",
          "model_module_version": "1.5.0",
          "state": {
            "_dom_classes": [],
            "_model_module": "@jupyter-widgets/controls",
            "_model_module_version": "1.5.0",
            "_model_name": "DropdownModel",
            "_options_labels": [
              "feat$1to2gram$msgs100utest$user_id",
              "feat$1gram$msgs100utest$user_id",
              "feat$meta_1gram$msgs100utest$user_id",
              "feat$2gram$msgs100utest$user_id",
              "feat$meta_2gram$msgs100utest$user_id",
              "feat$1gramto2gram$msgs100utest$user_id"
            ],
            "_view_count": null,
            "_view_module": "@jupyter-widgets/controls",
            "_view_module_version": "1.5.0",
            "_view_name": "DropdownView",
            "description": "Select Table:",
            "description_tooltip": null,
            "disabled": false,
            "index": 5,
            "layout": "IPY_MODEL_ba311d878230440484a9700405fb85f6",
            "style": "IPY_MODEL_29f5f14a7e7c4951a45ff009f1924676"
          }
        },
        "ba311d878230440484a9700405fb85f6": {
          "model_module": "@jupyter-widgets/base",
          "model_name": "LayoutModel",
          "model_module_version": "1.2.0",
          "state": {
            "_model_module": "@jupyter-widgets/base",
            "_model_module_version": "1.2.0",
            "_model_name": "LayoutModel",
            "_view_count": null,
            "_view_module": "@jupyter-widgets/base",
            "_view_module_version": "1.2.0",
            "_view_name": "LayoutView",
            "align_content": null,
            "align_items": null,
            "align_self": null,
            "border": null,
            "bottom": null,
            "display": null,
            "flex": null,
            "flex_flow": null,
            "grid_area": null,
            "grid_auto_columns": null,
            "grid_auto_flow": null,
            "grid_auto_rows": null,
            "grid_column": null,
            "grid_gap": null,
            "grid_row": null,
            "grid_template_areas": null,
            "grid_template_columns": null,
            "grid_template_rows": null,
            "height": null,
            "justify_content": null,
            "justify_items": null,
            "left": null,
            "margin": null,
            "max_height": null,
            "max_width": null,
            "min_height": null,
            "min_width": null,
            "object_fit": null,
            "object_position": null,
            "order": null,
            "overflow": null,
            "overflow_x": null,
            "overflow_y": null,
            "padding": null,
            "right": null,
            "top": null,
            "visibility": null,
            "width": null
          }
        },
        "29f5f14a7e7c4951a45ff009f1924676": {
          "model_module": "@jupyter-widgets/controls",
          "model_name": "DescriptionStyleModel",
          "model_module_version": "1.5.0",
          "state": {
            "_model_module": "@jupyter-widgets/controls",
            "_model_module_version": "1.5.0",
            "_model_name": "DescriptionStyleModel",
            "_view_count": null,
            "_view_module": "@jupyter-widgets/base",
            "_view_module_version": "1.2.0",
            "_view_name": "StyleView",
            "description_width": ""
          }
        },
        "28a0c7489b294467879f9fa07b5bd7d9": {
          "model_module": "@jupyter-widgets/controls",
          "model_name": "DropdownModel",
          "model_module_version": "1.5.0",
          "state": {
            "_dom_classes": [],
            "_model_module": "@jupyter-widgets/controls",
            "_model_module_version": "1.5.0",
            "_model_name": "DropdownModel",
            "_options_labels": [
              "message_id",
              "user_id"
            ],
            "_view_count": null,
            "_view_module": "@jupyter-widgets/controls",
            "_view_module_version": "1.5.0",
            "_view_name": "DropdownView",
            "description": "ID Column:",
            "description_tooltip": null,
            "disabled": false,
            "index": 0,
            "layout": "IPY_MODEL_eeb6296c45fd413fbc2add00b446c530",
            "style": "IPY_MODEL_57548213ce984e5eb21983c3a8836a19"
          }
        },
        "eeb6296c45fd413fbc2add00b446c530": {
          "model_module": "@jupyter-widgets/base",
          "model_name": "LayoutModel",
          "model_module_version": "1.2.0",
          "state": {
            "_model_module": "@jupyter-widgets/base",
            "_model_module_version": "1.2.0",
            "_model_name": "LayoutModel",
            "_view_count": null,
            "_view_module": "@jupyter-widgets/base",
            "_view_module_version": "1.2.0",
            "_view_name": "LayoutView",
            "align_content": null,
            "align_items": null,
            "align_self": null,
            "border": null,
            "bottom": null,
            "display": null,
            "flex": null,
            "flex_flow": null,
            "grid_area": null,
            "grid_auto_columns": null,
            "grid_auto_flow": null,
            "grid_auto_rows": null,
            "grid_column": null,
            "grid_gap": null,
            "grid_row": null,
            "grid_template_areas": null,
            "grid_template_columns": null,
            "grid_template_rows": null,
            "height": null,
            "justify_content": null,
            "justify_items": null,
            "left": null,
            "margin": null,
            "max_height": null,
            "max_width": null,
            "min_height": null,
            "min_width": null,
            "object_fit": null,
            "object_position": null,
            "order": null,
            "overflow": null,
            "overflow_x": null,
            "overflow_y": null,
            "padding": null,
            "right": null,
            "top": null,
            "visibility": null,
            "width": null
          }
        },
        "57548213ce984e5eb21983c3a8836a19": {
          "model_module": "@jupyter-widgets/controls",
          "model_name": "DescriptionStyleModel",
          "model_module_version": "1.5.0",
          "state": {
            "_model_module": "@jupyter-widgets/controls",
            "_model_module_version": "1.5.0",
            "_model_name": "DescriptionStyleModel",
            "_view_count": null,
            "_view_module": "@jupyter-widgets/base",
            "_view_module_version": "1.2.0",
            "_view_name": "StyleView",
            "description_width": ""
          }
        },
        "95f91ad7ffe14a99b061458625759982": {
          "model_module": "@jupyter-widgets/controls",
          "model_name": "ButtonModel",
          "model_module_version": "1.5.0",
          "state": {
            "_dom_classes": [],
            "_model_module": "@jupyter-widgets/controls",
            "_model_module_version": "1.5.0",
            "_model_name": "ButtonModel",
            "_view_count": null,
            "_view_module": "@jupyter-widgets/controls",
            "_view_module_version": "1.5.0",
            "_view_name": "ButtonView",
            "button_style": "",
            "description": "Confirm Selection",
            "disabled": false,
            "icon": "",
            "layout": "IPY_MODEL_21efc89ab0934051bc691ee3bf6d6c4a",
            "style": "IPY_MODEL_b72268e340d748898f48f4f7ae48eb20",
            "tooltip": ""
          }
        },
        "21efc89ab0934051bc691ee3bf6d6c4a": {
          "model_module": "@jupyter-widgets/base",
          "model_name": "LayoutModel",
          "model_module_version": "1.2.0",
          "state": {
            "_model_module": "@jupyter-widgets/base",
            "_model_module_version": "1.2.0",
            "_model_name": "LayoutModel",
            "_view_count": null,
            "_view_module": "@jupyter-widgets/base",
            "_view_module_version": "1.2.0",
            "_view_name": "LayoutView",
            "align_content": null,
            "align_items": null,
            "align_self": null,
            "border": null,
            "bottom": null,
            "display": null,
            "flex": null,
            "flex_flow": null,
            "grid_area": null,
            "grid_auto_columns": null,
            "grid_auto_flow": null,
            "grid_auto_rows": null,
            "grid_column": null,
            "grid_gap": null,
            "grid_row": null,
            "grid_template_areas": null,
            "grid_template_columns": null,
            "grid_template_rows": null,
            "height": null,
            "justify_content": null,
            "justify_items": null,
            "left": null,
            "margin": null,
            "max_height": null,
            "max_width": null,
            "min_height": null,
            "min_width": null,
            "object_fit": null,
            "object_position": null,
            "order": null,
            "overflow": null,
            "overflow_x": null,
            "overflow_y": null,
            "padding": null,
            "right": null,
            "top": null,
            "visibility": null,
            "width": null
          }
        },
        "b72268e340d748898f48f4f7ae48eb20": {
          "model_module": "@jupyter-widgets/controls",
          "model_name": "ButtonStyleModel",
          "model_module_version": "1.5.0",
          "state": {
            "_model_module": "@jupyter-widgets/controls",
            "_model_module_version": "1.5.0",
            "_model_name": "ButtonStyleModel",
            "_view_count": null,
            "_view_module": "@jupyter-widgets/base",
            "_view_module_version": "1.2.0",
            "_view_name": "StyleView",
            "button_color": null,
            "font_weight": ""
          }
        },
        "81a590989a864c79808886073e039cc2": {
          "model_module": "@jupyter-widgets/output",
          "model_name": "OutputModel",
          "model_module_version": "1.0.0",
          "state": {
            "_dom_classes": [],
            "_model_module": "@jupyter-widgets/output",
            "_model_module_version": "1.0.0",
            "_model_name": "OutputModel",
            "_view_count": null,
            "_view_module": "@jupyter-widgets/output",
            "_view_module_version": "1.0.0",
            "_view_name": "OutputView",
            "layout": "IPY_MODEL_69425d654b034bfab70baea9962a7f8c",
            "msg_id": "",
            "outputs": []
          }
        },
        "69425d654b034bfab70baea9962a7f8c": {
          "model_module": "@jupyter-widgets/base",
          "model_name": "LayoutModel",
          "model_module_version": "1.2.0",
          "state": {
            "_model_module": "@jupyter-widgets/base",
            "_model_module_version": "1.2.0",
            "_model_name": "LayoutModel",
            "_view_count": null,
            "_view_module": "@jupyter-widgets/base",
            "_view_module_version": "1.2.0",
            "_view_name": "LayoutView",
            "align_content": null,
            "align_items": null,
            "align_self": null,
            "border": null,
            "bottom": null,
            "display": null,
            "flex": null,
            "flex_flow": null,
            "grid_area": null,
            "grid_auto_columns": null,
            "grid_auto_flow": null,
            "grid_auto_rows": null,
            "grid_column": null,
            "grid_gap": null,
            "grid_row": null,
            "grid_template_areas": null,
            "grid_template_columns": null,
            "grid_template_rows": null,
            "height": null,
            "justify_content": null,
            "justify_items": null,
            "left": null,
            "margin": null,
            "max_height": null,
            "max_width": null,
            "min_height": null,
            "min_width": null,
            "object_fit": null,
            "object_position": null,
            "order": null,
            "overflow": null,
            "overflow_x": null,
            "overflow_y": null,
            "padding": null,
            "right": null,
            "top": null,
            "visibility": null,
            "width": null
          }
        },
        "17d4a8a9146241dea185a7636cfb1f1b": {
          "model_module": "@jupyter-widgets/controls",
          "model_name": "DropdownModel",
          "model_module_version": "1.5.0",
          "state": {
            "_dom_classes": [],
            "_model_module": "@jupyter-widgets/controls",
            "_model_module_version": "1.5.0",
            "_model_name": "DropdownModel",
            "_options_labels": [
              "created_date",
              "chat"
            ],
            "_view_count": null,
            "_view_module": "@jupyter-widgets/controls",
            "_view_module_version": "1.5.0",
            "_view_name": "DropdownView",
            "description": "Text Column:",
            "description_tooltip": null,
            "disabled": false,
            "index": 0,
            "layout": "IPY_MODEL_25256bbb12814cafab9bc604c1002454",
            "style": "IPY_MODEL_b6cd72c21d454f41aae17a632d4c3a05"
          }
        },
        "25256bbb12814cafab9bc604c1002454": {
          "model_module": "@jupyter-widgets/base",
          "model_name": "LayoutModel",
          "model_module_version": "1.2.0",
          "state": {
            "_model_module": "@jupyter-widgets/base",
            "_model_module_version": "1.2.0",
            "_model_name": "LayoutModel",
            "_view_count": null,
            "_view_module": "@jupyter-widgets/base",
            "_view_module_version": "1.2.0",
            "_view_name": "LayoutView",
            "align_content": null,
            "align_items": null,
            "align_self": null,
            "border": null,
            "bottom": null,
            "display": null,
            "flex": null,
            "flex_flow": null,
            "grid_area": null,
            "grid_auto_columns": null,
            "grid_auto_flow": null,
            "grid_auto_rows": null,
            "grid_column": null,
            "grid_gap": null,
            "grid_row": null,
            "grid_template_areas": null,
            "grid_template_columns": null,
            "grid_template_rows": null,
            "height": null,
            "justify_content": null,
            "justify_items": null,
            "left": null,
            "margin": null,
            "max_height": null,
            "max_width": null,
            "min_height": null,
            "min_width": null,
            "object_fit": null,
            "object_position": null,
            "order": null,
            "overflow": null,
            "overflow_x": null,
            "overflow_y": null,
            "padding": null,
            "right": null,
            "top": null,
            "visibility": null,
            "width": null
          }
        },
        "b6cd72c21d454f41aae17a632d4c3a05": {
          "model_module": "@jupyter-widgets/controls",
          "model_name": "DescriptionStyleModel",
          "model_module_version": "1.5.0",
          "state": {
            "_model_module": "@jupyter-widgets/controls",
            "_model_module_version": "1.5.0",
            "_model_name": "DescriptionStyleModel",
            "_view_count": null,
            "_view_module": "@jupyter-widgets/base",
            "_view_module_version": "1.2.0",
            "_view_name": "StyleView",
            "description_width": ""
          }
        },
        "76c486529fb942b4bc6f068946ff6bc3": {
          "model_module": "@jupyter-widgets/controls",
          "model_name": "DropdownModel",
          "model_module_version": "1.5.0",
          "state": {
            "_dom_classes": [],
            "_model_module": "@jupyter-widgets/controls",
            "_model_module_version": "1.5.0",
            "_model_name": "DropdownModel",
            "_options_labels": [
              "message_id",
              "chat_id",
              "user_id"
            ],
            "_view_count": null,
            "_view_module": "@jupyter-widgets/controls",
            "_view_module_version": "1.5.0",
            "_view_name": "DropdownView",
            "description": "ID Column:",
            "description_tooltip": null,
            "disabled": false,
            "index": 0,
            "layout": "IPY_MODEL_b57697c124894ad6ba96f699f6d7aa24",
            "style": "IPY_MODEL_58cf561c15c249d9a4421dcb6eab9a0d"
          }
        },
        "b57697c124894ad6ba96f699f6d7aa24": {
          "model_module": "@jupyter-widgets/base",
          "model_name": "LayoutModel",
          "model_module_version": "1.2.0",
          "state": {
            "_model_module": "@jupyter-widgets/base",
            "_model_module_version": "1.2.0",
            "_model_name": "LayoutModel",
            "_view_count": null,
            "_view_module": "@jupyter-widgets/base",
            "_view_module_version": "1.2.0",
            "_view_name": "LayoutView",
            "align_content": null,
            "align_items": null,
            "align_self": null,
            "border": null,
            "bottom": null,
            "display": null,
            "flex": null,
            "flex_flow": null,
            "grid_area": null,
            "grid_auto_columns": null,
            "grid_auto_flow": null,
            "grid_auto_rows": null,
            "grid_column": null,
            "grid_gap": null,
            "grid_row": null,
            "grid_template_areas": null,
            "grid_template_columns": null,
            "grid_template_rows": null,
            "height": null,
            "justify_content": null,
            "justify_items": null,
            "left": null,
            "margin": null,
            "max_height": null,
            "max_width": null,
            "min_height": null,
            "min_width": null,
            "object_fit": null,
            "object_position": null,
            "order": null,
            "overflow": null,
            "overflow_x": null,
            "overflow_y": null,
            "padding": null,
            "right": null,
            "top": null,
            "visibility": null,
            "width": null
          }
        },
        "58cf561c15c249d9a4421dcb6eab9a0d": {
          "model_module": "@jupyter-widgets/controls",
          "model_name": "DescriptionStyleModel",
          "model_module_version": "1.5.0",
          "state": {
            "_model_module": "@jupyter-widgets/controls",
            "_model_module_version": "1.5.0",
            "_model_name": "DescriptionStyleModel",
            "_view_count": null,
            "_view_module": "@jupyter-widgets/base",
            "_view_module_version": "1.2.0",
            "_view_name": "StyleView",
            "description_width": ""
          }
        },
        "ce6417985f794ad796ee1a54a97c078a": {
          "model_module": "@jupyter-widgets/controls",
          "model_name": "ButtonModel",
          "model_module_version": "1.5.0",
          "state": {
            "_dom_classes": [],
            "_model_module": "@jupyter-widgets/controls",
            "_model_module_version": "1.5.0",
            "_model_name": "ButtonModel",
            "_view_count": null,
            "_view_module": "@jupyter-widgets/controls",
            "_view_module_version": "1.5.0",
            "_view_name": "ButtonView",
            "button_style": "",
            "description": "Confirm Selection",
            "disabled": false,
            "icon": "",
            "layout": "IPY_MODEL_f6d12c66d58b491890cba83c9455d895",
            "style": "IPY_MODEL_56bffefb3a794c009d2c3e7389a17a4c",
            "tooltip": ""
          }
        },
        "f6d12c66d58b491890cba83c9455d895": {
          "model_module": "@jupyter-widgets/base",
          "model_name": "LayoutModel",
          "model_module_version": "1.2.0",
          "state": {
            "_model_module": "@jupyter-widgets/base",
            "_model_module_version": "1.2.0",
            "_model_name": "LayoutModel",
            "_view_count": null,
            "_view_module": "@jupyter-widgets/base",
            "_view_module_version": "1.2.0",
            "_view_name": "LayoutView",
            "align_content": null,
            "align_items": null,
            "align_self": null,
            "border": null,
            "bottom": null,
            "display": null,
            "flex": null,
            "flex_flow": null,
            "grid_area": null,
            "grid_auto_columns": null,
            "grid_auto_flow": null,
            "grid_auto_rows": null,
            "grid_column": null,
            "grid_gap": null,
            "grid_row": null,
            "grid_template_areas": null,
            "grid_template_columns": null,
            "grid_template_rows": null,
            "height": null,
            "justify_content": null,
            "justify_items": null,
            "left": null,
            "margin": null,
            "max_height": null,
            "max_width": null,
            "min_height": null,
            "min_width": null,
            "object_fit": null,
            "object_position": null,
            "order": null,
            "overflow": null,
            "overflow_x": null,
            "overflow_y": null,
            "padding": null,
            "right": null,
            "top": null,
            "visibility": null,
            "width": null
          }
        },
        "56bffefb3a794c009d2c3e7389a17a4c": {
          "model_module": "@jupyter-widgets/controls",
          "model_name": "ButtonStyleModel",
          "model_module_version": "1.5.0",
          "state": {
            "_model_module": "@jupyter-widgets/controls",
            "_model_module_version": "1.5.0",
            "_model_name": "ButtonStyleModel",
            "_view_count": null,
            "_view_module": "@jupyter-widgets/base",
            "_view_module_version": "1.2.0",
            "_view_name": "StyleView",
            "button_color": null,
            "font_weight": ""
          }
        },
        "5992594a16ea416ab60789935ccd5dbb": {
          "model_module": "@jupyter-widgets/output",
          "model_name": "OutputModel",
          "model_module_version": "1.0.0",
          "state": {
            "_dom_classes": [],
            "_model_module": "@jupyter-widgets/output",
            "_model_module_version": "1.0.0",
            "_model_name": "OutputModel",
            "_view_count": null,
            "_view_module": "@jupyter-widgets/output",
            "_view_module_version": "1.0.0",
            "_view_name": "OutputView",
            "layout": "IPY_MODEL_ab6d1c3563f8433bb7e3dd1ed548d327",
            "msg_id": "",
            "outputs": []
          }
        },
        "ab6d1c3563f8433bb7e3dd1ed548d327": {
          "model_module": "@jupyter-widgets/base",
          "model_name": "LayoutModel",
          "model_module_version": "1.2.0",
          "state": {
            "_model_module": "@jupyter-widgets/base",
            "_model_module_version": "1.2.0",
            "_model_name": "LayoutModel",
            "_view_count": null,
            "_view_module": "@jupyter-widgets/base",
            "_view_module_version": "1.2.0",
            "_view_name": "LayoutView",
            "align_content": null,
            "align_items": null,
            "align_self": null,
            "border": null,
            "bottom": null,
            "display": null,
            "flex": null,
            "flex_flow": null,
            "grid_area": null,
            "grid_auto_columns": null,
            "grid_auto_flow": null,
            "grid_auto_rows": null,
            "grid_column": null,
            "grid_gap": null,
            "grid_row": null,
            "grid_template_areas": null,
            "grid_template_columns": null,
            "grid_template_rows": null,
            "height": null,
            "justify_content": null,
            "justify_items": null,
            "left": null,
            "margin": null,
            "max_height": null,
            "max_width": null,
            "min_height": null,
            "min_width": null,
            "object_fit": null,
            "object_position": null,
            "order": null,
            "overflow": null,
            "overflow_x": null,
            "overflow_y": null,
            "padding": null,
            "right": null,
            "top": null,
            "visibility": null,
            "width": null
          }
        },
        "bc767ad089b44ebb80a3e32691f94160": {
          "model_module": "@jupyter-widgets/controls",
          "model_name": "DropdownModel",
          "model_module_version": "1.5.0",
          "state": {
            "_dom_classes": [],
            "_model_module": "@jupyter-widgets/controls",
            "_model_module_version": "1.5.0",
            "_model_name": "DropdownModel",
            "_options_labels": [
              "1to2grams-filtered-table",
              "1to2grams-unfiltered-table",
              "topics-table"
            ],
            "_view_count": null,
            "_view_module": "@jupyter-widgets/controls",
            "_view_module_version": "1.5.0",
            "_view_name": "DropdownView",
            "description": "Feature Table:",
            "description_tooltip": null,
            "disabled": false,
            "index": 0,
            "layout": "IPY_MODEL_653655fbc7d347fd9f64d0b28f0ef48e",
            "style": "IPY_MODEL_1964c6e8d7bf4e70b82147c112b50e2a"
          }
        },
        "653655fbc7d347fd9f64d0b28f0ef48e": {
          "model_module": "@jupyter-widgets/base",
          "model_name": "LayoutModel",
          "model_module_version": "1.2.0",
          "state": {
            "_model_module": "@jupyter-widgets/base",
            "_model_module_version": "1.2.0",
            "_model_name": "LayoutModel",
            "_view_count": null,
            "_view_module": "@jupyter-widgets/base",
            "_view_module_version": "1.2.0",
            "_view_name": "LayoutView",
            "align_content": null,
            "align_items": null,
            "align_self": null,
            "border": null,
            "bottom": null,
            "display": null,
            "flex": null,
            "flex_flow": null,
            "grid_area": null,
            "grid_auto_columns": null,
            "grid_auto_flow": null,
            "grid_auto_rows": null,
            "grid_column": null,
            "grid_gap": null,
            "grid_row": null,
            "grid_template_areas": null,
            "grid_template_columns": null,
            "grid_template_rows": null,
            "height": null,
            "justify_content": null,
            "justify_items": null,
            "left": null,
            "margin": null,
            "max_height": null,
            "max_width": null,
            "min_height": null,
            "min_width": null,
            "object_fit": null,
            "object_position": null,
            "order": null,
            "overflow": null,
            "overflow_x": null,
            "overflow_y": null,
            "padding": null,
            "right": null,
            "top": null,
            "visibility": null,
            "width": null
          }
        },
        "1964c6e8d7bf4e70b82147c112b50e2a": {
          "model_module": "@jupyter-widgets/controls",
          "model_name": "DescriptionStyleModel",
          "model_module_version": "1.5.0",
          "state": {
            "_model_module": "@jupyter-widgets/controls",
            "_model_module_version": "1.5.0",
            "_model_name": "DescriptionStyleModel",
            "_view_count": null,
            "_view_module": "@jupyter-widgets/base",
            "_view_module_version": "1.2.0",
            "_view_name": "StyleView",
            "description_width": ""
          }
        },
        "77f983a97e044e2082531c878b9ea164": {
          "model_module": "@jupyter-widgets/controls",
          "model_name": "DropdownModel",
          "model_module_version": "1.5.0",
          "state": {
            "_dom_classes": [],
            "_model_module": "@jupyter-widgets/controls",
            "_model_module_version": "1.5.0",
            "_model_name": "DropdownModel",
            "_options_labels": [
              "user_id",
              "gender",
              "age",
              "occu",
              "is_student",
              "message_id"
            ],
            "_view_count": null,
            "_view_module": "@jupyter-widgets/controls",
            "_view_module_version": "1.5.0",
            "_view_name": "DropdownView",
            "description": "Outcomes:",
            "description_tooltip": null,
            "disabled": false,
            "index": 0,
            "layout": "IPY_MODEL_6397b1b662174c0b88aa6c47eacaea21",
            "style": "IPY_MODEL_1cb53b8f6b0d4b98a2b3c1c4f74ef095"
          }
        },
        "6397b1b662174c0b88aa6c47eacaea21": {
          "model_module": "@jupyter-widgets/base",
          "model_name": "LayoutModel",
          "model_module_version": "1.2.0",
          "state": {
            "_model_module": "@jupyter-widgets/base",
            "_model_module_version": "1.2.0",
            "_model_name": "LayoutModel",
            "_view_count": null,
            "_view_module": "@jupyter-widgets/base",
            "_view_module_version": "1.2.0",
            "_view_name": "LayoutView",
            "align_content": null,
            "align_items": null,
            "align_self": null,
            "border": null,
            "bottom": null,
            "display": null,
            "flex": null,
            "flex_flow": null,
            "grid_area": null,
            "grid_auto_columns": null,
            "grid_auto_flow": null,
            "grid_auto_rows": null,
            "grid_column": null,
            "grid_gap": null,
            "grid_row": null,
            "grid_template_areas": null,
            "grid_template_columns": null,
            "grid_template_rows": null,
            "height": null,
            "justify_content": null,
            "justify_items": null,
            "left": null,
            "margin": null,
            "max_height": null,
            "max_width": null,
            "min_height": null,
            "min_width": null,
            "object_fit": null,
            "object_position": null,
            "order": null,
            "overflow": null,
            "overflow_x": null,
            "overflow_y": null,
            "padding": null,
            "right": null,
            "top": null,
            "visibility": null,
            "width": null
          }
        },
        "1cb53b8f6b0d4b98a2b3c1c4f74ef095": {
          "model_module": "@jupyter-widgets/controls",
          "model_name": "DescriptionStyleModel",
          "model_module_version": "1.5.0",
          "state": {
            "_model_module": "@jupyter-widgets/controls",
            "_model_module_version": "1.5.0",
            "_model_name": "DescriptionStyleModel",
            "_view_count": null,
            "_view_module": "@jupyter-widgets/base",
            "_view_module_version": "1.2.0",
            "_view_name": "StyleView",
            "description_width": ""
          }
        },
        "bd98575fb11843479ffc631ad76274d7": {
          "model_module": "@jupyter-widgets/controls",
          "model_name": "DropdownModel",
          "model_module_version": "1.5.0",
          "state": {
            "_dom_classes": [],
            "_model_module": "@jupyter-widgets/controls",
            "_model_module_version": "1.5.0",
            "_model_name": "DropdownModel",
            "_options_labels": [
              "user_id",
              "gender",
              "age",
              "occu",
              "is_student",
              "message_id"
            ],
            "_view_count": null,
            "_view_module": "@jupyter-widgets/controls",
            "_view_module_version": "1.5.0",
            "_view_name": "DropdownView",
            "description": "Controls:",
            "description_tooltip": null,
            "disabled": false,
            "index": 0,
            "layout": "IPY_MODEL_2317594823574caa89c6dcfc81878f33",
            "style": "IPY_MODEL_67f371efd56e417a82751d6b076fab2b"
          }
        },
        "2317594823574caa89c6dcfc81878f33": {
          "model_module": "@jupyter-widgets/base",
          "model_name": "LayoutModel",
          "model_module_version": "1.2.0",
          "state": {
            "_model_module": "@jupyter-widgets/base",
            "_model_module_version": "1.2.0",
            "_model_name": "LayoutModel",
            "_view_count": null,
            "_view_module": "@jupyter-widgets/base",
            "_view_module_version": "1.2.0",
            "_view_name": "LayoutView",
            "align_content": null,
            "align_items": null,
            "align_self": null,
            "border": null,
            "bottom": null,
            "display": null,
            "flex": null,
            "flex_flow": null,
            "grid_area": null,
            "grid_auto_columns": null,
            "grid_auto_flow": null,
            "grid_auto_rows": null,
            "grid_column": null,
            "grid_gap": null,
            "grid_row": null,
            "grid_template_areas": null,
            "grid_template_columns": null,
            "grid_template_rows": null,
            "height": null,
            "justify_content": null,
            "justify_items": null,
            "left": null,
            "margin": null,
            "max_height": null,
            "max_width": null,
            "min_height": null,
            "min_width": null,
            "object_fit": null,
            "object_position": null,
            "order": null,
            "overflow": null,
            "overflow_x": null,
            "overflow_y": null,
            "padding": null,
            "right": null,
            "top": null,
            "visibility": null,
            "width": null
          }
        },
        "67f371efd56e417a82751d6b076fab2b": {
          "model_module": "@jupyter-widgets/controls",
          "model_name": "DescriptionStyleModel",
          "model_module_version": "1.5.0",
          "state": {
            "_model_module": "@jupyter-widgets/controls",
            "_model_module_version": "1.5.0",
            "_model_name": "DescriptionStyleModel",
            "_view_count": null,
            "_view_module": "@jupyter-widgets/base",
            "_view_module_version": "1.2.0",
            "_view_name": "StyleView",
            "description_width": ""
          }
        },
        "80900f87ee194d449a32e4838506ca0b": {
          "model_module": "@jupyter-widgets/controls",
          "model_name": "DropdownModel",
          "model_module_version": "1.5.0",
          "state": {
            "_dom_classes": [],
            "_model_module": "@jupyter-widgets/controls",
            "_model_module_version": "1.5.0",
            "_model_name": "DropdownModel",
            "_options_labels": [
              "user_id",
              "gender",
              "age",
              "occu",
              "is_student",
              "message_id"
            ],
            "_view_count": null,
            "_view_module": "@jupyter-widgets/controls",
            "_view_module_version": "1.5.0",
            "_view_name": "DropdownView",
            "description": "Cat to Bin:",
            "description_tooltip": null,
            "disabled": false,
            "index": 0,
            "layout": "IPY_MODEL_2de80f0d632749ffb1b300479a808a30",
            "style": "IPY_MODEL_1944b75199ed4a97ad40106c878dc666"
          }
        },
        "2de80f0d632749ffb1b300479a808a30": {
          "model_module": "@jupyter-widgets/base",
          "model_name": "LayoutModel",
          "model_module_version": "1.2.0",
          "state": {
            "_model_module": "@jupyter-widgets/base",
            "_model_module_version": "1.2.0",
            "_model_name": "LayoutModel",
            "_view_count": null,
            "_view_module": "@jupyter-widgets/base",
            "_view_module_version": "1.2.0",
            "_view_name": "LayoutView",
            "align_content": null,
            "align_items": null,
            "align_self": null,
            "border": null,
            "bottom": null,
            "display": null,
            "flex": null,
            "flex_flow": null,
            "grid_area": null,
            "grid_auto_columns": null,
            "grid_auto_flow": null,
            "grid_auto_rows": null,
            "grid_column": null,
            "grid_gap": null,
            "grid_row": null,
            "grid_template_areas": null,
            "grid_template_columns": null,
            "grid_template_rows": null,
            "height": null,
            "justify_content": null,
            "justify_items": null,
            "left": null,
            "margin": null,
            "max_height": null,
            "max_width": null,
            "min_height": null,
            "min_width": null,
            "object_fit": null,
            "object_position": null,
            "order": null,
            "overflow": null,
            "overflow_x": null,
            "overflow_y": null,
            "padding": null,
            "right": null,
            "top": null,
            "visibility": null,
            "width": null
          }
        },
        "1944b75199ed4a97ad40106c878dc666": {
          "model_module": "@jupyter-widgets/controls",
          "model_name": "DescriptionStyleModel",
          "model_module_version": "1.5.0",
          "state": {
            "_model_module": "@jupyter-widgets/controls",
            "_model_module_version": "1.5.0",
            "_model_name": "DescriptionStyleModel",
            "_view_count": null,
            "_view_module": "@jupyter-widgets/base",
            "_view_module_version": "1.2.0",
            "_view_name": "StyleView",
            "description_width": ""
          }
        },
        "9f1f605ec93d4c47a182978c3d569c8c": {
          "model_module": "@jupyter-widgets/controls",
          "model_name": "CheckboxModel",
          "model_module_version": "1.5.0",
          "state": {
            "_dom_classes": [],
            "_model_module": "@jupyter-widgets/controls",
            "_model_module_version": "1.5.0",
            "_model_name": "CheckboxModel",
            "_view_count": null,
            "_view_module": "@jupyter-widgets/controls",
            "_view_module_version": "1.5.0",
            "_view_name": "CheckboxView",
            "description": "Make Wordclouds",
            "description_tooltip": null,
            "disabled": false,
            "indent": true,
            "layout": "IPY_MODEL_a5a5755db49943e299af45e387182107",
            "style": "IPY_MODEL_70d64d468bd24b51800b455ea0f0a364",
            "value": false
          }
        },
        "a5a5755db49943e299af45e387182107": {
          "model_module": "@jupyter-widgets/base",
          "model_name": "LayoutModel",
          "model_module_version": "1.2.0",
          "state": {
            "_model_module": "@jupyter-widgets/base",
            "_model_module_version": "1.2.0",
            "_model_name": "LayoutModel",
            "_view_count": null,
            "_view_module": "@jupyter-widgets/base",
            "_view_module_version": "1.2.0",
            "_view_name": "LayoutView",
            "align_content": null,
            "align_items": null,
            "align_self": null,
            "border": null,
            "bottom": null,
            "display": null,
            "flex": null,
            "flex_flow": null,
            "grid_area": null,
            "grid_auto_columns": null,
            "grid_auto_flow": null,
            "grid_auto_rows": null,
            "grid_column": null,
            "grid_gap": null,
            "grid_row": null,
            "grid_template_areas": null,
            "grid_template_columns": null,
            "grid_template_rows": null,
            "height": null,
            "justify_content": null,
            "justify_items": null,
            "left": null,
            "margin": null,
            "max_height": null,
            "max_width": null,
            "min_height": null,
            "min_width": null,
            "object_fit": null,
            "object_position": null,
            "order": null,
            "overflow": null,
            "overflow_x": null,
            "overflow_y": null,
            "padding": null,
            "right": null,
            "top": null,
            "visibility": null,
            "width": null
          }
        },
        "70d64d468bd24b51800b455ea0f0a364": {
          "model_module": "@jupyter-widgets/controls",
          "model_name": "DescriptionStyleModel",
          "model_module_version": "1.5.0",
          "state": {
            "_model_module": "@jupyter-widgets/controls",
            "_model_module_version": "1.5.0",
            "_model_name": "DescriptionStyleModel",
            "_view_count": null,
            "_view_module": "@jupyter-widgets/base",
            "_view_module_version": "1.2.0",
            "_view_name": "StyleView",
            "description_width": ""
          }
        },
        "03a84bbdd5304bf2b97e46764e883fe5": {
          "model_module": "@jupyter-widgets/controls",
          "model_name": "ButtonModel",
          "model_module_version": "1.5.0",
          "state": {
            "_dom_classes": [],
            "_model_module": "@jupyter-widgets/controls",
            "_model_module_version": "1.5.0",
            "_model_name": "ButtonModel",
            "_view_count": null,
            "_view_module": "@jupyter-widgets/controls",
            "_view_module_version": "1.5.0",
            "_view_name": "ButtonView",
            "button_style": "",
            "description": "Submit",
            "disabled": false,
            "icon": "",
            "layout": "IPY_MODEL_f5c75866f6c3481fb858314c1cf71a88",
            "style": "IPY_MODEL_4bce788be043445ea98d79258e5b5137",
            "tooltip": ""
          }
        },
        "f5c75866f6c3481fb858314c1cf71a88": {
          "model_module": "@jupyter-widgets/base",
          "model_name": "LayoutModel",
          "model_module_version": "1.2.0",
          "state": {
            "_model_module": "@jupyter-widgets/base",
            "_model_module_version": "1.2.0",
            "_model_name": "LayoutModel",
            "_view_count": null,
            "_view_module": "@jupyter-widgets/base",
            "_view_module_version": "1.2.0",
            "_view_name": "LayoutView",
            "align_content": null,
            "align_items": null,
            "align_self": null,
            "border": null,
            "bottom": null,
            "display": null,
            "flex": null,
            "flex_flow": null,
            "grid_area": null,
            "grid_auto_columns": null,
            "grid_auto_flow": null,
            "grid_auto_rows": null,
            "grid_column": null,
            "grid_gap": null,
            "grid_row": null,
            "grid_template_areas": null,
            "grid_template_columns": null,
            "grid_template_rows": null,
            "height": null,
            "justify_content": null,
            "justify_items": null,
            "left": null,
            "margin": null,
            "max_height": null,
            "max_width": null,
            "min_height": null,
            "min_width": null,
            "object_fit": null,
            "object_position": null,
            "order": null,
            "overflow": null,
            "overflow_x": null,
            "overflow_y": null,
            "padding": null,
            "right": null,
            "top": null,
            "visibility": null,
            "width": null
          }
        },
        "4bce788be043445ea98d79258e5b5137": {
          "model_module": "@jupyter-widgets/controls",
          "model_name": "ButtonStyleModel",
          "model_module_version": "1.5.0",
          "state": {
            "_model_module": "@jupyter-widgets/controls",
            "_model_module_version": "1.5.0",
            "_model_name": "ButtonStyleModel",
            "_view_count": null,
            "_view_module": "@jupyter-widgets/base",
            "_view_module_version": "1.2.0",
            "_view_name": "StyleView",
            "button_color": null,
            "font_weight": ""
          }
        },
        "078a0e7ffb544ddb950c8267b41b7ad6": {
          "model_module": "@jupyter-widgets/controls",
          "model_name": "DropdownModel",
          "model_module_version": "1.5.0",
          "state": {
            "_dom_classes": [],
            "_model_module": "@jupyter-widgets/controls",
            "_model_module_version": "1.5.0",
            "_model_name": "DropdownModel",
            "_options_labels": [
              "1to2grams-filtered-table",
              "1to2grams-unfiltered-table",
              "topics-table"
            ],
            "_view_count": null,
            "_view_module": "@jupyter-widgets/controls",
            "_view_module_version": "1.5.0",
            "_view_name": "DropdownView",
            "description": "Feature Table:",
            "description_tooltip": null,
            "disabled": false,
            "index": 0,
            "layout": "IPY_MODEL_3a6fb053c2d5497db07ffd4ef3d49720",
            "style": "IPY_MODEL_b9d78a687d5d4d5c8e8cf3bf86d25f98"
          }
        },
        "3a6fb053c2d5497db07ffd4ef3d49720": {
          "model_module": "@jupyter-widgets/base",
          "model_name": "LayoutModel",
          "model_module_version": "1.2.0",
          "state": {
            "_model_module": "@jupyter-widgets/base",
            "_model_module_version": "1.2.0",
            "_model_name": "LayoutModel",
            "_view_count": null,
            "_view_module": "@jupyter-widgets/base",
            "_view_module_version": "1.2.0",
            "_view_name": "LayoutView",
            "align_content": null,
            "align_items": null,
            "align_self": null,
            "border": null,
            "bottom": null,
            "display": null,
            "flex": null,
            "flex_flow": null,
            "grid_area": null,
            "grid_auto_columns": null,
            "grid_auto_flow": null,
            "grid_auto_rows": null,
            "grid_column": null,
            "grid_gap": null,
            "grid_row": null,
            "grid_template_areas": null,
            "grid_template_columns": null,
            "grid_template_rows": null,
            "height": null,
            "justify_content": null,
            "justify_items": null,
            "left": null,
            "margin": null,
            "max_height": null,
            "max_width": null,
            "min_height": null,
            "min_width": null,
            "object_fit": null,
            "object_position": null,
            "order": null,
            "overflow": null,
            "overflow_x": null,
            "overflow_y": null,
            "padding": null,
            "right": null,
            "top": null,
            "visibility": null,
            "width": null
          }
        },
        "b9d78a687d5d4d5c8e8cf3bf86d25f98": {
          "model_module": "@jupyter-widgets/controls",
          "model_name": "DescriptionStyleModel",
          "model_module_version": "1.5.0",
          "state": {
            "_model_module": "@jupyter-widgets/controls",
            "_model_module_version": "1.5.0",
            "_model_name": "DescriptionStyleModel",
            "_view_count": null,
            "_view_module": "@jupyter-widgets/base",
            "_view_module_version": "1.2.0",
            "_view_name": "StyleView",
            "description_width": ""
          }
        },
        "91c880cb9fcf4c38b02904b8857e1966": {
          "model_module": "@jupyter-widgets/controls",
          "model_name": "LabelModel",
          "model_module_version": "1.5.0",
          "state": {
            "_dom_classes": [],
            "_model_module": "@jupyter-widgets/controls",
            "_model_module_version": "1.5.0",
            "_model_name": "LabelModel",
            "_view_count": null,
            "_view_module": "@jupyter-widgets/controls",
            "_view_module_version": "1.5.0",
            "_view_name": "LabelView",
            "description": "",
            "description_tooltip": null,
            "layout": "IPY_MODEL_32cff94cc8f04b8e8af8b73656104bfa",
            "placeholder": "​",
            "style": "IPY_MODEL_5b7ca9684a984411890799c3cc8fe1d6",
            "value": "Outcomes:"
          }
        },
        "32cff94cc8f04b8e8af8b73656104bfa": {
          "model_module": "@jupyter-widgets/base",
          "model_name": "LayoutModel",
          "model_module_version": "1.2.0",
          "state": {
            "_model_module": "@jupyter-widgets/base",
            "_model_module_version": "1.2.0",
            "_model_name": "LayoutModel",
            "_view_count": null,
            "_view_module": "@jupyter-widgets/base",
            "_view_module_version": "1.2.0",
            "_view_name": "LayoutView",
            "align_content": null,
            "align_items": null,
            "align_self": null,
            "border": null,
            "bottom": null,
            "display": null,
            "flex": null,
            "flex_flow": null,
            "grid_area": null,
            "grid_auto_columns": null,
            "grid_auto_flow": null,
            "grid_auto_rows": null,
            "grid_column": null,
            "grid_gap": null,
            "grid_row": null,
            "grid_template_areas": null,
            "grid_template_columns": null,
            "grid_template_rows": null,
            "height": null,
            "justify_content": null,
            "justify_items": null,
            "left": null,
            "margin": null,
            "max_height": null,
            "max_width": null,
            "min_height": null,
            "min_width": null,
            "object_fit": null,
            "object_position": null,
            "order": null,
            "overflow": null,
            "overflow_x": null,
            "overflow_y": null,
            "padding": null,
            "right": null,
            "top": null,
            "visibility": null,
            "width": null
          }
        },
        "5b7ca9684a984411890799c3cc8fe1d6": {
          "model_module": "@jupyter-widgets/controls",
          "model_name": "DescriptionStyleModel",
          "model_module_version": "1.5.0",
          "state": {
            "_model_module": "@jupyter-widgets/controls",
            "_model_module_version": "1.5.0",
            "_model_name": "DescriptionStyleModel",
            "_view_count": null,
            "_view_module": "@jupyter-widgets/base",
            "_view_module_version": "1.2.0",
            "_view_name": "StyleView",
            "description_width": ""
          }
        },
        "d56f0ea28684466083f2f68334f6f43a": {
          "model_module": "@jupyter-widgets/controls",
          "model_name": "CheckboxModel",
          "model_module_version": "1.5.0",
          "state": {
            "_dom_classes": [],
            "_model_module": "@jupyter-widgets/controls",
            "_model_module_version": "1.5.0",
            "_model_name": "CheckboxModel",
            "_view_count": null,
            "_view_module": "@jupyter-widgets/controls",
            "_view_module_version": "1.5.0",
            "_view_name": "CheckboxView",
            "description": "gender",
            "description_tooltip": null,
            "disabled": false,
            "indent": true,
            "layout": "IPY_MODEL_dcb2b6242ba3447ab41b0b1e0cfa1ea2",
            "style": "IPY_MODEL_11a9f5a3665d426ba08aee81af9bd0b4",
            "value": false
          }
        },
        "dcb2b6242ba3447ab41b0b1e0cfa1ea2": {
          "model_module": "@jupyter-widgets/base",
          "model_name": "LayoutModel",
          "model_module_version": "1.2.0",
          "state": {
            "_model_module": "@jupyter-widgets/base",
            "_model_module_version": "1.2.0",
            "_model_name": "LayoutModel",
            "_view_count": null,
            "_view_module": "@jupyter-widgets/base",
            "_view_module_version": "1.2.0",
            "_view_name": "LayoutView",
            "align_content": null,
            "align_items": null,
            "align_self": null,
            "border": null,
            "bottom": null,
            "display": null,
            "flex": null,
            "flex_flow": null,
            "grid_area": null,
            "grid_auto_columns": null,
            "grid_auto_flow": null,
            "grid_auto_rows": null,
            "grid_column": null,
            "grid_gap": null,
            "grid_row": null,
            "grid_template_areas": null,
            "grid_template_columns": null,
            "grid_template_rows": null,
            "height": null,
            "justify_content": null,
            "justify_items": null,
            "left": null,
            "margin": null,
            "max_height": null,
            "max_width": null,
            "min_height": null,
            "min_width": null,
            "object_fit": null,
            "object_position": null,
            "order": null,
            "overflow": null,
            "overflow_x": null,
            "overflow_y": null,
            "padding": null,
            "right": null,
            "top": null,
            "visibility": null,
            "width": null
          }
        },
        "11a9f5a3665d426ba08aee81af9bd0b4": {
          "model_module": "@jupyter-widgets/controls",
          "model_name": "DescriptionStyleModel",
          "model_module_version": "1.5.0",
          "state": {
            "_model_module": "@jupyter-widgets/controls",
            "_model_module_version": "1.5.0",
            "_model_name": "DescriptionStyleModel",
            "_view_count": null,
            "_view_module": "@jupyter-widgets/base",
            "_view_module_version": "1.2.0",
            "_view_name": "StyleView",
            "description_width": ""
          }
        },
        "7218c039d4cb426cabf429609b3b3c0e": {
          "model_module": "@jupyter-widgets/controls",
          "model_name": "CheckboxModel",
          "model_module_version": "1.5.0",
          "state": {
            "_dom_classes": [],
            "_model_module": "@jupyter-widgets/controls",
            "_model_module_version": "1.5.0",
            "_model_name": "CheckboxModel",
            "_view_count": null,
            "_view_module": "@jupyter-widgets/controls",
            "_view_module_version": "1.5.0",
            "_view_name": "CheckboxView",
            "description": "age",
            "description_tooltip": null,
            "disabled": false,
            "indent": true,
            "layout": "IPY_MODEL_62d870c726ed4f46b25bac8e7c971087",
            "style": "IPY_MODEL_e058fb92b74d441e835901ccc5ec9fad",
            "value": false
          }
        },
        "62d870c726ed4f46b25bac8e7c971087": {
          "model_module": "@jupyter-widgets/base",
          "model_name": "LayoutModel",
          "model_module_version": "1.2.0",
          "state": {
            "_model_module": "@jupyter-widgets/base",
            "_model_module_version": "1.2.0",
            "_model_name": "LayoutModel",
            "_view_count": null,
            "_view_module": "@jupyter-widgets/base",
            "_view_module_version": "1.2.0",
            "_view_name": "LayoutView",
            "align_content": null,
            "align_items": null,
            "align_self": null,
            "border": null,
            "bottom": null,
            "display": null,
            "flex": null,
            "flex_flow": null,
            "grid_area": null,
            "grid_auto_columns": null,
            "grid_auto_flow": null,
            "grid_auto_rows": null,
            "grid_column": null,
            "grid_gap": null,
            "grid_row": null,
            "grid_template_areas": null,
            "grid_template_columns": null,
            "grid_template_rows": null,
            "height": null,
            "justify_content": null,
            "justify_items": null,
            "left": null,
            "margin": null,
            "max_height": null,
            "max_width": null,
            "min_height": null,
            "min_width": null,
            "object_fit": null,
            "object_position": null,
            "order": null,
            "overflow": null,
            "overflow_x": null,
            "overflow_y": null,
            "padding": null,
            "right": null,
            "top": null,
            "visibility": null,
            "width": null
          }
        },
        "e058fb92b74d441e835901ccc5ec9fad": {
          "model_module": "@jupyter-widgets/controls",
          "model_name": "DescriptionStyleModel",
          "model_module_version": "1.5.0",
          "state": {
            "_model_module": "@jupyter-widgets/controls",
            "_model_module_version": "1.5.0",
            "_model_name": "DescriptionStyleModel",
            "_view_count": null,
            "_view_module": "@jupyter-widgets/base",
            "_view_module_version": "1.2.0",
            "_view_name": "StyleView",
            "description_width": ""
          }
        },
        "470ce79d1a8e4dac9e78977275804d9e": {
          "model_module": "@jupyter-widgets/controls",
          "model_name": "CheckboxModel",
          "model_module_version": "1.5.0",
          "state": {
            "_dom_classes": [],
            "_model_module": "@jupyter-widgets/controls",
            "_model_module_version": "1.5.0",
            "_model_name": "CheckboxModel",
            "_view_count": null,
            "_view_module": "@jupyter-widgets/controls",
            "_view_module_version": "1.5.0",
            "_view_name": "CheckboxView",
            "description": "occu",
            "description_tooltip": null,
            "disabled": false,
            "indent": true,
            "layout": "IPY_MODEL_82451890e499418d8dc79aef6257e0ff",
            "style": "IPY_MODEL_f43560c88a604dabaea4b7f571572311",
            "value": false
          }
        },
        "82451890e499418d8dc79aef6257e0ff": {
          "model_module": "@jupyter-widgets/base",
          "model_name": "LayoutModel",
          "model_module_version": "1.2.0",
          "state": {
            "_model_module": "@jupyter-widgets/base",
            "_model_module_version": "1.2.0",
            "_model_name": "LayoutModel",
            "_view_count": null,
            "_view_module": "@jupyter-widgets/base",
            "_view_module_version": "1.2.0",
            "_view_name": "LayoutView",
            "align_content": null,
            "align_items": null,
            "align_self": null,
            "border": null,
            "bottom": null,
            "display": null,
            "flex": null,
            "flex_flow": null,
            "grid_area": null,
            "grid_auto_columns": null,
            "grid_auto_flow": null,
            "grid_auto_rows": null,
            "grid_column": null,
            "grid_gap": null,
            "grid_row": null,
            "grid_template_areas": null,
            "grid_template_columns": null,
            "grid_template_rows": null,
            "height": null,
            "justify_content": null,
            "justify_items": null,
            "left": null,
            "margin": null,
            "max_height": null,
            "max_width": null,
            "min_height": null,
            "min_width": null,
            "object_fit": null,
            "object_position": null,
            "order": null,
            "overflow": null,
            "overflow_x": null,
            "overflow_y": null,
            "padding": null,
            "right": null,
            "top": null,
            "visibility": null,
            "width": null
          }
        },
        "f43560c88a604dabaea4b7f571572311": {
          "model_module": "@jupyter-widgets/controls",
          "model_name": "DescriptionStyleModel",
          "model_module_version": "1.5.0",
          "state": {
            "_model_module": "@jupyter-widgets/controls",
            "_model_module_version": "1.5.0",
            "_model_name": "DescriptionStyleModel",
            "_view_count": null,
            "_view_module": "@jupyter-widgets/base",
            "_view_module_version": "1.2.0",
            "_view_name": "StyleView",
            "description_width": ""
          }
        },
        "dc5f80d7d68d4a7a8c63b4dd9f133489": {
          "model_module": "@jupyter-widgets/controls",
          "model_name": "CheckboxModel",
          "model_module_version": "1.5.0",
          "state": {
            "_dom_classes": [],
            "_model_module": "@jupyter-widgets/controls",
            "_model_module_version": "1.5.0",
            "_model_name": "CheckboxModel",
            "_view_count": null,
            "_view_module": "@jupyter-widgets/controls",
            "_view_module_version": "1.5.0",
            "_view_name": "CheckboxView",
            "description": "is_student",
            "description_tooltip": null,
            "disabled": false,
            "indent": true,
            "layout": "IPY_MODEL_50bf7679889d450fab7ebbd4719aad36",
            "style": "IPY_MODEL_57656c89cb7c456e9346606cd76bdae1",
            "value": false
          }
        },
        "50bf7679889d450fab7ebbd4719aad36": {
          "model_module": "@jupyter-widgets/base",
          "model_name": "LayoutModel",
          "model_module_version": "1.2.0",
          "state": {
            "_model_module": "@jupyter-widgets/base",
            "_model_module_version": "1.2.0",
            "_model_name": "LayoutModel",
            "_view_count": null,
            "_view_module": "@jupyter-widgets/base",
            "_view_module_version": "1.2.0",
            "_view_name": "LayoutView",
            "align_content": null,
            "align_items": null,
            "align_self": null,
            "border": null,
            "bottom": null,
            "display": null,
            "flex": null,
            "flex_flow": null,
            "grid_area": null,
            "grid_auto_columns": null,
            "grid_auto_flow": null,
            "grid_auto_rows": null,
            "grid_column": null,
            "grid_gap": null,
            "grid_row": null,
            "grid_template_areas": null,
            "grid_template_columns": null,
            "grid_template_rows": null,
            "height": null,
            "justify_content": null,
            "justify_items": null,
            "left": null,
            "margin": null,
            "max_height": null,
            "max_width": null,
            "min_height": null,
            "min_width": null,
            "object_fit": null,
            "object_position": null,
            "order": null,
            "overflow": null,
            "overflow_x": null,
            "overflow_y": null,
            "padding": null,
            "right": null,
            "top": null,
            "visibility": null,
            "width": null
          }
        },
        "57656c89cb7c456e9346606cd76bdae1": {
          "model_module": "@jupyter-widgets/controls",
          "model_name": "DescriptionStyleModel",
          "model_module_version": "1.5.0",
          "state": {
            "_model_module": "@jupyter-widgets/controls",
            "_model_module_version": "1.5.0",
            "_model_name": "DescriptionStyleModel",
            "_view_count": null,
            "_view_module": "@jupyter-widgets/base",
            "_view_module_version": "1.2.0",
            "_view_name": "StyleView",
            "description_width": ""
          }
        },
        "0f95d7415bfc420db694089797ae8189": {
          "model_module": "@jupyter-widgets/controls",
          "model_name": "LabelModel",
          "model_module_version": "1.5.0",
          "state": {
            "_dom_classes": [],
            "_model_module": "@jupyter-widgets/controls",
            "_model_module_version": "1.5.0",
            "_model_name": "LabelModel",
            "_view_count": null,
            "_view_module": "@jupyter-widgets/controls",
            "_view_module_version": "1.5.0",
            "_view_name": "LabelView",
            "description": "",
            "description_tooltip": null,
            "layout": "IPY_MODEL_90266326db0f42acbce6ca179b7dcb58",
            "placeholder": "​",
            "style": "IPY_MODEL_2f79be38bf3c4f14a311c07fd8ab1719",
            "value": "Controls:"
          }
        },
        "90266326db0f42acbce6ca179b7dcb58": {
          "model_module": "@jupyter-widgets/base",
          "model_name": "LayoutModel",
          "model_module_version": "1.2.0",
          "state": {
            "_model_module": "@jupyter-widgets/base",
            "_model_module_version": "1.2.0",
            "_model_name": "LayoutModel",
            "_view_count": null,
            "_view_module": "@jupyter-widgets/base",
            "_view_module_version": "1.2.0",
            "_view_name": "LayoutView",
            "align_content": null,
            "align_items": null,
            "align_self": null,
            "border": null,
            "bottom": null,
            "display": null,
            "flex": null,
            "flex_flow": null,
            "grid_area": null,
            "grid_auto_columns": null,
            "grid_auto_flow": null,
            "grid_auto_rows": null,
            "grid_column": null,
            "grid_gap": null,
            "grid_row": null,
            "grid_template_areas": null,
            "grid_template_columns": null,
            "grid_template_rows": null,
            "height": null,
            "justify_content": null,
            "justify_items": null,
            "left": null,
            "margin": null,
            "max_height": null,
            "max_width": null,
            "min_height": null,
            "min_width": null,
            "object_fit": null,
            "object_position": null,
            "order": null,
            "overflow": null,
            "overflow_x": null,
            "overflow_y": null,
            "padding": null,
            "right": null,
            "top": null,
            "visibility": null,
            "width": null
          }
        },
        "2f79be38bf3c4f14a311c07fd8ab1719": {
          "model_module": "@jupyter-widgets/controls",
          "model_name": "DescriptionStyleModel",
          "model_module_version": "1.5.0",
          "state": {
            "_model_module": "@jupyter-widgets/controls",
            "_model_module_version": "1.5.0",
            "_model_name": "DescriptionStyleModel",
            "_view_count": null,
            "_view_module": "@jupyter-widgets/base",
            "_view_module_version": "1.2.0",
            "_view_name": "StyleView",
            "description_width": ""
          }
        },
        "a2600872507d458394b81f9ecaf818f0": {
          "model_module": "@jupyter-widgets/controls",
          "model_name": "CheckboxModel",
          "model_module_version": "1.5.0",
          "state": {
            "_dom_classes": [],
            "_model_module": "@jupyter-widgets/controls",
            "_model_module_version": "1.5.0",
            "_model_name": "CheckboxModel",
            "_view_count": null,
            "_view_module": "@jupyter-widgets/controls",
            "_view_module_version": "1.5.0",
            "_view_name": "CheckboxView",
            "description": "gender",
            "description_tooltip": null,
            "disabled": false,
            "indent": true,
            "layout": "IPY_MODEL_6d8239a283094cb8a0a846f7f0c6137d",
            "style": "IPY_MODEL_7b8328a88dba4e329a8c066d8a7b1d8b",
            "value": false
          }
        },
        "6d8239a283094cb8a0a846f7f0c6137d": {
          "model_module": "@jupyter-widgets/base",
          "model_name": "LayoutModel",
          "model_module_version": "1.2.0",
          "state": {
            "_model_module": "@jupyter-widgets/base",
            "_model_module_version": "1.2.0",
            "_model_name": "LayoutModel",
            "_view_count": null,
            "_view_module": "@jupyter-widgets/base",
            "_view_module_version": "1.2.0",
            "_view_name": "LayoutView",
            "align_content": null,
            "align_items": null,
            "align_self": null,
            "border": null,
            "bottom": null,
            "display": null,
            "flex": null,
            "flex_flow": null,
            "grid_area": null,
            "grid_auto_columns": null,
            "grid_auto_flow": null,
            "grid_auto_rows": null,
            "grid_column": null,
            "grid_gap": null,
            "grid_row": null,
            "grid_template_areas": null,
            "grid_template_columns": null,
            "grid_template_rows": null,
            "height": null,
            "justify_content": null,
            "justify_items": null,
            "left": null,
            "margin": null,
            "max_height": null,
            "max_width": null,
            "min_height": null,
            "min_width": null,
            "object_fit": null,
            "object_position": null,
            "order": null,
            "overflow": null,
            "overflow_x": null,
            "overflow_y": null,
            "padding": null,
            "right": null,
            "top": null,
            "visibility": null,
            "width": null
          }
        },
        "7b8328a88dba4e329a8c066d8a7b1d8b": {
          "model_module": "@jupyter-widgets/controls",
          "model_name": "DescriptionStyleModel",
          "model_module_version": "1.5.0",
          "state": {
            "_model_module": "@jupyter-widgets/controls",
            "_model_module_version": "1.5.0",
            "_model_name": "DescriptionStyleModel",
            "_view_count": null,
            "_view_module": "@jupyter-widgets/base",
            "_view_module_version": "1.2.0",
            "_view_name": "StyleView",
            "description_width": ""
          }
        },
        "9ee7dbf87ba34b25986915e1218207f6": {
          "model_module": "@jupyter-widgets/controls",
          "model_name": "CheckboxModel",
          "model_module_version": "1.5.0",
          "state": {
            "_dom_classes": [],
            "_model_module": "@jupyter-widgets/controls",
            "_model_module_version": "1.5.0",
            "_model_name": "CheckboxModel",
            "_view_count": null,
            "_view_module": "@jupyter-widgets/controls",
            "_view_module_version": "1.5.0",
            "_view_name": "CheckboxView",
            "description": "age",
            "description_tooltip": null,
            "disabled": false,
            "indent": true,
            "layout": "IPY_MODEL_12f139ad2a7143388fbfbc67cf03ab71",
            "style": "IPY_MODEL_135a83aa2fc34b90b16ab6c183499e16",
            "value": false
          }
        },
        "12f139ad2a7143388fbfbc67cf03ab71": {
          "model_module": "@jupyter-widgets/base",
          "model_name": "LayoutModel",
          "model_module_version": "1.2.0",
          "state": {
            "_model_module": "@jupyter-widgets/base",
            "_model_module_version": "1.2.0",
            "_model_name": "LayoutModel",
            "_view_count": null,
            "_view_module": "@jupyter-widgets/base",
            "_view_module_version": "1.2.0",
            "_view_name": "LayoutView",
            "align_content": null,
            "align_items": null,
            "align_self": null,
            "border": null,
            "bottom": null,
            "display": null,
            "flex": null,
            "flex_flow": null,
            "grid_area": null,
            "grid_auto_columns": null,
            "grid_auto_flow": null,
            "grid_auto_rows": null,
            "grid_column": null,
            "grid_gap": null,
            "grid_row": null,
            "grid_template_areas": null,
            "grid_template_columns": null,
            "grid_template_rows": null,
            "height": null,
            "justify_content": null,
            "justify_items": null,
            "left": null,
            "margin": null,
            "max_height": null,
            "max_width": null,
            "min_height": null,
            "min_width": null,
            "object_fit": null,
            "object_position": null,
            "order": null,
            "overflow": null,
            "overflow_x": null,
            "overflow_y": null,
            "padding": null,
            "right": null,
            "top": null,
            "visibility": null,
            "width": null
          }
        },
        "135a83aa2fc34b90b16ab6c183499e16": {
          "model_module": "@jupyter-widgets/controls",
          "model_name": "DescriptionStyleModel",
          "model_module_version": "1.5.0",
          "state": {
            "_model_module": "@jupyter-widgets/controls",
            "_model_module_version": "1.5.0",
            "_model_name": "DescriptionStyleModel",
            "_view_count": null,
            "_view_module": "@jupyter-widgets/base",
            "_view_module_version": "1.2.0",
            "_view_name": "StyleView",
            "description_width": ""
          }
        },
        "47e27ce03d2e471ab32186ffdbebf45d": {
          "model_module": "@jupyter-widgets/controls",
          "model_name": "CheckboxModel",
          "model_module_version": "1.5.0",
          "state": {
            "_dom_classes": [],
            "_model_module": "@jupyter-widgets/controls",
            "_model_module_version": "1.5.0",
            "_model_name": "CheckboxModel",
            "_view_count": null,
            "_view_module": "@jupyter-widgets/controls",
            "_view_module_version": "1.5.0",
            "_view_name": "CheckboxView",
            "description": "occu",
            "description_tooltip": null,
            "disabled": false,
            "indent": true,
            "layout": "IPY_MODEL_e0d51d0e4b7f44b0a4186f8d547706bc",
            "style": "IPY_MODEL_094794cc0c2d415390359df452f00211",
            "value": false
          }
        },
        "e0d51d0e4b7f44b0a4186f8d547706bc": {
          "model_module": "@jupyter-widgets/base",
          "model_name": "LayoutModel",
          "model_module_version": "1.2.0",
          "state": {
            "_model_module": "@jupyter-widgets/base",
            "_model_module_version": "1.2.0",
            "_model_name": "LayoutModel",
            "_view_count": null,
            "_view_module": "@jupyter-widgets/base",
            "_view_module_version": "1.2.0",
            "_view_name": "LayoutView",
            "align_content": null,
            "align_items": null,
            "align_self": null,
            "border": null,
            "bottom": null,
            "display": null,
            "flex": null,
            "flex_flow": null,
            "grid_area": null,
            "grid_auto_columns": null,
            "grid_auto_flow": null,
            "grid_auto_rows": null,
            "grid_column": null,
            "grid_gap": null,
            "grid_row": null,
            "grid_template_areas": null,
            "grid_template_columns": null,
            "grid_template_rows": null,
            "height": null,
            "justify_content": null,
            "justify_items": null,
            "left": null,
            "margin": null,
            "max_height": null,
            "max_width": null,
            "min_height": null,
            "min_width": null,
            "object_fit": null,
            "object_position": null,
            "order": null,
            "overflow": null,
            "overflow_x": null,
            "overflow_y": null,
            "padding": null,
            "right": null,
            "top": null,
            "visibility": null,
            "width": null
          }
        },
        "094794cc0c2d415390359df452f00211": {
          "model_module": "@jupyter-widgets/controls",
          "model_name": "DescriptionStyleModel",
          "model_module_version": "1.5.0",
          "state": {
            "_model_module": "@jupyter-widgets/controls",
            "_model_module_version": "1.5.0",
            "_model_name": "DescriptionStyleModel",
            "_view_count": null,
            "_view_module": "@jupyter-widgets/base",
            "_view_module_version": "1.2.0",
            "_view_name": "StyleView",
            "description_width": ""
          }
        },
        "2603f4e94a054287a7a0181813b92239": {
          "model_module": "@jupyter-widgets/controls",
          "model_name": "CheckboxModel",
          "model_module_version": "1.5.0",
          "state": {
            "_dom_classes": [],
            "_model_module": "@jupyter-widgets/controls",
            "_model_module_version": "1.5.0",
            "_model_name": "CheckboxModel",
            "_view_count": null,
            "_view_module": "@jupyter-widgets/controls",
            "_view_module_version": "1.5.0",
            "_view_name": "CheckboxView",
            "description": "is_student",
            "description_tooltip": null,
            "disabled": false,
            "indent": true,
            "layout": "IPY_MODEL_2757410b283444daadb9b4f203754330",
            "style": "IPY_MODEL_ef8f08b936af473c88ec28f17d90e699",
            "value": false
          }
        },
        "2757410b283444daadb9b4f203754330": {
          "model_module": "@jupyter-widgets/base",
          "model_name": "LayoutModel",
          "model_module_version": "1.2.0",
          "state": {
            "_model_module": "@jupyter-widgets/base",
            "_model_module_version": "1.2.0",
            "_model_name": "LayoutModel",
            "_view_count": null,
            "_view_module": "@jupyter-widgets/base",
            "_view_module_version": "1.2.0",
            "_view_name": "LayoutView",
            "align_content": null,
            "align_items": null,
            "align_self": null,
            "border": null,
            "bottom": null,
            "display": null,
            "flex": null,
            "flex_flow": null,
            "grid_area": null,
            "grid_auto_columns": null,
            "grid_auto_flow": null,
            "grid_auto_rows": null,
            "grid_column": null,
            "grid_gap": null,
            "grid_row": null,
            "grid_template_areas": null,
            "grid_template_columns": null,
            "grid_template_rows": null,
            "height": null,
            "justify_content": null,
            "justify_items": null,
            "left": null,
            "margin": null,
            "max_height": null,
            "max_width": null,
            "min_height": null,
            "min_width": null,
            "object_fit": null,
            "object_position": null,
            "order": null,
            "overflow": null,
            "overflow_x": null,
            "overflow_y": null,
            "padding": null,
            "right": null,
            "top": null,
            "visibility": null,
            "width": null
          }
        },
        "ef8f08b936af473c88ec28f17d90e699": {
          "model_module": "@jupyter-widgets/controls",
          "model_name": "DescriptionStyleModel",
          "model_module_version": "1.5.0",
          "state": {
            "_model_module": "@jupyter-widgets/controls",
            "_model_module_version": "1.5.0",
            "_model_name": "DescriptionStyleModel",
            "_view_count": null,
            "_view_module": "@jupyter-widgets/base",
            "_view_module_version": "1.2.0",
            "_view_name": "StyleView",
            "description_width": ""
          }
        },
        "7df030de7cf44e1480fb5755d17ed9a4": {
          "model_module": "@jupyter-widgets/controls",
          "model_name": "LabelModel",
          "model_module_version": "1.5.0",
          "state": {
            "_dom_classes": [],
            "_model_module": "@jupyter-widgets/controls",
            "_model_module_version": "1.5.0",
            "_model_name": "LabelModel",
            "_view_count": null,
            "_view_module": "@jupyter-widgets/controls",
            "_view_module_version": "1.5.0",
            "_view_name": "LabelView",
            "description": "",
            "description_tooltip": null,
            "layout": "IPY_MODEL_43d580322b1b443f8ca16c7afc1b055c",
            "placeholder": "​",
            "style": "IPY_MODEL_b794bb03fc8f4743be737ef22d6c1bae",
            "value": "Categoricals Variable:"
          }
        },
        "43d580322b1b443f8ca16c7afc1b055c": {
          "model_module": "@jupyter-widgets/base",
          "model_name": "LayoutModel",
          "model_module_version": "1.2.0",
          "state": {
            "_model_module": "@jupyter-widgets/base",
            "_model_module_version": "1.2.0",
            "_model_name": "LayoutModel",
            "_view_count": null,
            "_view_module": "@jupyter-widgets/base",
            "_view_module_version": "1.2.0",
            "_view_name": "LayoutView",
            "align_content": null,
            "align_items": null,
            "align_self": null,
            "border": null,
            "bottom": null,
            "display": null,
            "flex": null,
            "flex_flow": null,
            "grid_area": null,
            "grid_auto_columns": null,
            "grid_auto_flow": null,
            "grid_auto_rows": null,
            "grid_column": null,
            "grid_gap": null,
            "grid_row": null,
            "grid_template_areas": null,
            "grid_template_columns": null,
            "grid_template_rows": null,
            "height": null,
            "justify_content": null,
            "justify_items": null,
            "left": null,
            "margin": null,
            "max_height": null,
            "max_width": null,
            "min_height": null,
            "min_width": null,
            "object_fit": null,
            "object_position": null,
            "order": null,
            "overflow": null,
            "overflow_x": null,
            "overflow_y": null,
            "padding": null,
            "right": null,
            "top": null,
            "visibility": null,
            "width": null
          }
        },
        "b794bb03fc8f4743be737ef22d6c1bae": {
          "model_module": "@jupyter-widgets/controls",
          "model_name": "DescriptionStyleModel",
          "model_module_version": "1.5.0",
          "state": {
            "_model_module": "@jupyter-widgets/controls",
            "_model_module_version": "1.5.0",
            "_model_name": "DescriptionStyleModel",
            "_view_count": null,
            "_view_module": "@jupyter-widgets/base",
            "_view_module_version": "1.2.0",
            "_view_name": "StyleView",
            "description_width": ""
          }
        },
        "bcd52189d18442faa1bfaa42f00e86c3": {
          "model_module": "@jupyter-widgets/controls",
          "model_name": "CheckboxModel",
          "model_module_version": "1.5.0",
          "state": {
            "_dom_classes": [],
            "_model_module": "@jupyter-widgets/controls",
            "_model_module_version": "1.5.0",
            "_model_name": "CheckboxModel",
            "_view_count": null,
            "_view_module": "@jupyter-widgets/controls",
            "_view_module_version": "1.5.0",
            "_view_name": "CheckboxView",
            "description": "gender",
            "description_tooltip": null,
            "disabled": false,
            "indent": true,
            "layout": "IPY_MODEL_e4f83440be26420885b4b1d1248ee3c9",
            "style": "IPY_MODEL_099cbd64c8b94229979ea6be265e1d05",
            "value": false
          }
        },
        "e4f83440be26420885b4b1d1248ee3c9": {
          "model_module": "@jupyter-widgets/base",
          "model_name": "LayoutModel",
          "model_module_version": "1.2.0",
          "state": {
            "_model_module": "@jupyter-widgets/base",
            "_model_module_version": "1.2.0",
            "_model_name": "LayoutModel",
            "_view_count": null,
            "_view_module": "@jupyter-widgets/base",
            "_view_module_version": "1.2.0",
            "_view_name": "LayoutView",
            "align_content": null,
            "align_items": null,
            "align_self": null,
            "border": null,
            "bottom": null,
            "display": null,
            "flex": null,
            "flex_flow": null,
            "grid_area": null,
            "grid_auto_columns": null,
            "grid_auto_flow": null,
            "grid_auto_rows": null,
            "grid_column": null,
            "grid_gap": null,
            "grid_row": null,
            "grid_template_areas": null,
            "grid_template_columns": null,
            "grid_template_rows": null,
            "height": null,
            "justify_content": null,
            "justify_items": null,
            "left": null,
            "margin": null,
            "max_height": null,
            "max_width": null,
            "min_height": null,
            "min_width": null,
            "object_fit": null,
            "object_position": null,
            "order": null,
            "overflow": null,
            "overflow_x": null,
            "overflow_y": null,
            "padding": null,
            "right": null,
            "top": null,
            "visibility": null,
            "width": null
          }
        },
        "099cbd64c8b94229979ea6be265e1d05": {
          "model_module": "@jupyter-widgets/controls",
          "model_name": "DescriptionStyleModel",
          "model_module_version": "1.5.0",
          "state": {
            "_model_module": "@jupyter-widgets/controls",
            "_model_module_version": "1.5.0",
            "_model_name": "DescriptionStyleModel",
            "_view_count": null,
            "_view_module": "@jupyter-widgets/base",
            "_view_module_version": "1.2.0",
            "_view_name": "StyleView",
            "description_width": ""
          }
        },
        "9ad3a1541a39486cbad35832b2d4b908": {
          "model_module": "@jupyter-widgets/controls",
          "model_name": "CheckboxModel",
          "model_module_version": "1.5.0",
          "state": {
            "_dom_classes": [],
            "_model_module": "@jupyter-widgets/controls",
            "_model_module_version": "1.5.0",
            "_model_name": "CheckboxModel",
            "_view_count": null,
            "_view_module": "@jupyter-widgets/controls",
            "_view_module_version": "1.5.0",
            "_view_name": "CheckboxView",
            "description": "age",
            "description_tooltip": null,
            "disabled": false,
            "indent": true,
            "layout": "IPY_MODEL_045ca6d7f2a44de0982de4bba45d4ac2",
            "style": "IPY_MODEL_9df5d7f304334d33b3307fc513dc44c8",
            "value": false
          }
        },
        "045ca6d7f2a44de0982de4bba45d4ac2": {
          "model_module": "@jupyter-widgets/base",
          "model_name": "LayoutModel",
          "model_module_version": "1.2.0",
          "state": {
            "_model_module": "@jupyter-widgets/base",
            "_model_module_version": "1.2.0",
            "_model_name": "LayoutModel",
            "_view_count": null,
            "_view_module": "@jupyter-widgets/base",
            "_view_module_version": "1.2.0",
            "_view_name": "LayoutView",
            "align_content": null,
            "align_items": null,
            "align_self": null,
            "border": null,
            "bottom": null,
            "display": null,
            "flex": null,
            "flex_flow": null,
            "grid_area": null,
            "grid_auto_columns": null,
            "grid_auto_flow": null,
            "grid_auto_rows": null,
            "grid_column": null,
            "grid_gap": null,
            "grid_row": null,
            "grid_template_areas": null,
            "grid_template_columns": null,
            "grid_template_rows": null,
            "height": null,
            "justify_content": null,
            "justify_items": null,
            "left": null,
            "margin": null,
            "max_height": null,
            "max_width": null,
            "min_height": null,
            "min_width": null,
            "object_fit": null,
            "object_position": null,
            "order": null,
            "overflow": null,
            "overflow_x": null,
            "overflow_y": null,
            "padding": null,
            "right": null,
            "top": null,
            "visibility": null,
            "width": null
          }
        },
        "9df5d7f304334d33b3307fc513dc44c8": {
          "model_module": "@jupyter-widgets/controls",
          "model_name": "DescriptionStyleModel",
          "model_module_version": "1.5.0",
          "state": {
            "_model_module": "@jupyter-widgets/controls",
            "_model_module_version": "1.5.0",
            "_model_name": "DescriptionStyleModel",
            "_view_count": null,
            "_view_module": "@jupyter-widgets/base",
            "_view_module_version": "1.2.0",
            "_view_name": "StyleView",
            "description_width": ""
          }
        },
        "cd9cb245d3454349aa79d2a1a38af088": {
          "model_module": "@jupyter-widgets/controls",
          "model_name": "CheckboxModel",
          "model_module_version": "1.5.0",
          "state": {
            "_dom_classes": [],
            "_model_module": "@jupyter-widgets/controls",
            "_model_module_version": "1.5.0",
            "_model_name": "CheckboxModel",
            "_view_count": null,
            "_view_module": "@jupyter-widgets/controls",
            "_view_module_version": "1.5.0",
            "_view_name": "CheckboxView",
            "description": "occu",
            "description_tooltip": null,
            "disabled": false,
            "indent": true,
            "layout": "IPY_MODEL_c19bdb1ff2bd45399429ec68d4e57787",
            "style": "IPY_MODEL_5d75783698bf4c70817c44b7d1d1c57e",
            "value": false
          }
        },
        "c19bdb1ff2bd45399429ec68d4e57787": {
          "model_module": "@jupyter-widgets/base",
          "model_name": "LayoutModel",
          "model_module_version": "1.2.0",
          "state": {
            "_model_module": "@jupyter-widgets/base",
            "_model_module_version": "1.2.0",
            "_model_name": "LayoutModel",
            "_view_count": null,
            "_view_module": "@jupyter-widgets/base",
            "_view_module_version": "1.2.0",
            "_view_name": "LayoutView",
            "align_content": null,
            "align_items": null,
            "align_self": null,
            "border": null,
            "bottom": null,
            "display": null,
            "flex": null,
            "flex_flow": null,
            "grid_area": null,
            "grid_auto_columns": null,
            "grid_auto_flow": null,
            "grid_auto_rows": null,
            "grid_column": null,
            "grid_gap": null,
            "grid_row": null,
            "grid_template_areas": null,
            "grid_template_columns": null,
            "grid_template_rows": null,
            "height": null,
            "justify_content": null,
            "justify_items": null,
            "left": null,
            "margin": null,
            "max_height": null,
            "max_width": null,
            "min_height": null,
            "min_width": null,
            "object_fit": null,
            "object_position": null,
            "order": null,
            "overflow": null,
            "overflow_x": null,
            "overflow_y": null,
            "padding": null,
            "right": null,
            "top": null,
            "visibility": null,
            "width": null
          }
        },
        "5d75783698bf4c70817c44b7d1d1c57e": {
          "model_module": "@jupyter-widgets/controls",
          "model_name": "DescriptionStyleModel",
          "model_module_version": "1.5.0",
          "state": {
            "_model_module": "@jupyter-widgets/controls",
            "_model_module_version": "1.5.0",
            "_model_name": "DescriptionStyleModel",
            "_view_count": null,
            "_view_module": "@jupyter-widgets/base",
            "_view_module_version": "1.2.0",
            "_view_name": "StyleView",
            "description_width": ""
          }
        },
        "91e4cee2fb4f4709bce1c1816c9321ea": {
          "model_module": "@jupyter-widgets/controls",
          "model_name": "CheckboxModel",
          "model_module_version": "1.5.0",
          "state": {
            "_dom_classes": [],
            "_model_module": "@jupyter-widgets/controls",
            "_model_module_version": "1.5.0",
            "_model_name": "CheckboxModel",
            "_view_count": null,
            "_view_module": "@jupyter-widgets/controls",
            "_view_module_version": "1.5.0",
            "_view_name": "CheckboxView",
            "description": "is_student",
            "description_tooltip": null,
            "disabled": false,
            "indent": true,
            "layout": "IPY_MODEL_1efacfd0281b40d78c8b367064834042",
            "style": "IPY_MODEL_f2df5958da4e445e836ec718ab899fcb",
            "value": false
          }
        },
        "1efacfd0281b40d78c8b367064834042": {
          "model_module": "@jupyter-widgets/base",
          "model_name": "LayoutModel",
          "model_module_version": "1.2.0",
          "state": {
            "_model_module": "@jupyter-widgets/base",
            "_model_module_version": "1.2.0",
            "_model_name": "LayoutModel",
            "_view_count": null,
            "_view_module": "@jupyter-widgets/base",
            "_view_module_version": "1.2.0",
            "_view_name": "LayoutView",
            "align_content": null,
            "align_items": null,
            "align_self": null,
            "border": null,
            "bottom": null,
            "display": null,
            "flex": null,
            "flex_flow": null,
            "grid_area": null,
            "grid_auto_columns": null,
            "grid_auto_flow": null,
            "grid_auto_rows": null,
            "grid_column": null,
            "grid_gap": null,
            "grid_row": null,
            "grid_template_areas": null,
            "grid_template_columns": null,
            "grid_template_rows": null,
            "height": null,
            "justify_content": null,
            "justify_items": null,
            "left": null,
            "margin": null,
            "max_height": null,
            "max_width": null,
            "min_height": null,
            "min_width": null,
            "object_fit": null,
            "object_position": null,
            "order": null,
            "overflow": null,
            "overflow_x": null,
            "overflow_y": null,
            "padding": null,
            "right": null,
            "top": null,
            "visibility": null,
            "width": null
          }
        },
        "f2df5958da4e445e836ec718ab899fcb": {
          "model_module": "@jupyter-widgets/controls",
          "model_name": "DescriptionStyleModel",
          "model_module_version": "1.5.0",
          "state": {
            "_model_module": "@jupyter-widgets/controls",
            "_model_module_version": "1.5.0",
            "_model_name": "DescriptionStyleModel",
            "_view_count": null,
            "_view_module": "@jupyter-widgets/base",
            "_view_module_version": "1.2.0",
            "_view_name": "StyleView",
            "description_width": ""
          }
        },
        "65360b3c5c2b4bf0bad9392483a40c5a": {
          "model_module": "@jupyter-widgets/controls",
          "model_name": "LabelModel",
          "model_module_version": "1.5.0",
          "state": {
            "_dom_classes": [],
            "_model_module": "@jupyter-widgets/controls",
            "_model_module_version": "1.5.0",
            "_model_name": "LabelModel",
            "_view_count": null,
            "_view_module": "@jupyter-widgets/controls",
            "_view_module_version": "1.5.0",
            "_view_name": "LabelView",
            "description": "",
            "description_tooltip": null,
            "layout": "IPY_MODEL_47e41078d8e94325a06938a4ae5fb901",
            "placeholder": "​",
            "style": "IPY_MODEL_611dfa8afc5f4130ac5b26c9fa0e80fc",
            "value": "Make Wordclouds:"
          }
        },
        "47e41078d8e94325a06938a4ae5fb901": {
          "model_module": "@jupyter-widgets/base",
          "model_name": "LayoutModel",
          "model_module_version": "1.2.0",
          "state": {
            "_model_module": "@jupyter-widgets/base",
            "_model_module_version": "1.2.0",
            "_model_name": "LayoutModel",
            "_view_count": null,
            "_view_module": "@jupyter-widgets/base",
            "_view_module_version": "1.2.0",
            "_view_name": "LayoutView",
            "align_content": null,
            "align_items": null,
            "align_self": null,
            "border": null,
            "bottom": null,
            "display": null,
            "flex": null,
            "flex_flow": null,
            "grid_area": null,
            "grid_auto_columns": null,
            "grid_auto_flow": null,
            "grid_auto_rows": null,
            "grid_column": null,
            "grid_gap": null,
            "grid_row": null,
            "grid_template_areas": null,
            "grid_template_columns": null,
            "grid_template_rows": null,
            "height": null,
            "justify_content": null,
            "justify_items": null,
            "left": null,
            "margin": null,
            "max_height": null,
            "max_width": null,
            "min_height": null,
            "min_width": null,
            "object_fit": null,
            "object_position": null,
            "order": null,
            "overflow": null,
            "overflow_x": null,
            "overflow_y": null,
            "padding": null,
            "right": null,
            "top": null,
            "visibility": null,
            "width": null
          }
        },
        "611dfa8afc5f4130ac5b26c9fa0e80fc": {
          "model_module": "@jupyter-widgets/controls",
          "model_name": "DescriptionStyleModel",
          "model_module_version": "1.5.0",
          "state": {
            "_model_module": "@jupyter-widgets/controls",
            "_model_module_version": "1.5.0",
            "_model_name": "DescriptionStyleModel",
            "_view_count": null,
            "_view_module": "@jupyter-widgets/base",
            "_view_module_version": "1.2.0",
            "_view_name": "StyleView",
            "description_width": ""
          }
        },
        "901e4e3d7b584cb88f9d2dc062d858eb": {
          "model_module": "@jupyter-widgets/controls",
          "model_name": "CheckboxModel",
          "model_module_version": "1.5.0",
          "state": {
            "_dom_classes": [],
            "_model_module": "@jupyter-widgets/controls",
            "_model_module_version": "1.5.0",
            "_model_name": "CheckboxModel",
            "_view_count": null,
            "_view_module": "@jupyter-widgets/controls",
            "_view_module_version": "1.5.0",
            "_view_name": "CheckboxView",
            "description": "Enable Wordclouds",
            "description_tooltip": null,
            "disabled": false,
            "indent": true,
            "layout": "IPY_MODEL_5114d8e9fe994da3a48fb944b19235b8",
            "style": "IPY_MODEL_27873206359d4d31b6f2848522d9ca20",
            "value": false
          }
        },
        "5114d8e9fe994da3a48fb944b19235b8": {
          "model_module": "@jupyter-widgets/base",
          "model_name": "LayoutModel",
          "model_module_version": "1.2.0",
          "state": {
            "_model_module": "@jupyter-widgets/base",
            "_model_module_version": "1.2.0",
            "_model_name": "LayoutModel",
            "_view_count": null,
            "_view_module": "@jupyter-widgets/base",
            "_view_module_version": "1.2.0",
            "_view_name": "LayoutView",
            "align_content": null,
            "align_items": null,
            "align_self": null,
            "border": null,
            "bottom": null,
            "display": null,
            "flex": null,
            "flex_flow": null,
            "grid_area": null,
            "grid_auto_columns": null,
            "grid_auto_flow": null,
            "grid_auto_rows": null,
            "grid_column": null,
            "grid_gap": null,
            "grid_row": null,
            "grid_template_areas": null,
            "grid_template_columns": null,
            "grid_template_rows": null,
            "height": null,
            "justify_content": null,
            "justify_items": null,
            "left": null,
            "margin": null,
            "max_height": null,
            "max_width": null,
            "min_height": null,
            "min_width": null,
            "object_fit": null,
            "object_position": null,
            "order": null,
            "overflow": null,
            "overflow_x": null,
            "overflow_y": null,
            "padding": null,
            "right": null,
            "top": null,
            "visibility": null,
            "width": null
          }
        },
        "27873206359d4d31b6f2848522d9ca20": {
          "model_module": "@jupyter-widgets/controls",
          "model_name": "DescriptionStyleModel",
          "model_module_version": "1.5.0",
          "state": {
            "_model_module": "@jupyter-widgets/controls",
            "_model_module_version": "1.5.0",
            "_model_name": "DescriptionStyleModel",
            "_view_count": null,
            "_view_module": "@jupyter-widgets/base",
            "_view_module_version": "1.2.0",
            "_view_name": "StyleView",
            "description_width": ""
          }
        },
        "f16262106676416aa1ca9ac33dab74c6": {
          "model_module": "@jupyter-widgets/controls",
          "model_name": "ButtonModel",
          "model_module_version": "1.5.0",
          "state": {
            "_dom_classes": [],
            "_model_module": "@jupyter-widgets/controls",
            "_model_module_version": "1.5.0",
            "_model_name": "ButtonModel",
            "_view_count": null,
            "_view_module": "@jupyter-widgets/controls",
            "_view_module_version": "1.5.0",
            "_view_name": "ButtonView",
            "button_style": "",
            "description": "Submit",
            "disabled": false,
            "icon": "",
            "layout": "IPY_MODEL_8ceb2f2a8e0540a4b50c012a6b802a12",
            "style": "IPY_MODEL_56ce4697d4604deebab94c59a4a9e568",
            "tooltip": ""
          }
        },
        "8ceb2f2a8e0540a4b50c012a6b802a12": {
          "model_module": "@jupyter-widgets/base",
          "model_name": "LayoutModel",
          "model_module_version": "1.2.0",
          "state": {
            "_model_module": "@jupyter-widgets/base",
            "_model_module_version": "1.2.0",
            "_model_name": "LayoutModel",
            "_view_count": null,
            "_view_module": "@jupyter-widgets/base",
            "_view_module_version": "1.2.0",
            "_view_name": "LayoutView",
            "align_content": null,
            "align_items": null,
            "align_self": null,
            "border": null,
            "bottom": null,
            "display": null,
            "flex": null,
            "flex_flow": null,
            "grid_area": null,
            "grid_auto_columns": null,
            "grid_auto_flow": null,
            "grid_auto_rows": null,
            "grid_column": null,
            "grid_gap": null,
            "grid_row": null,
            "grid_template_areas": null,
            "grid_template_columns": null,
            "grid_template_rows": null,
            "height": null,
            "justify_content": null,
            "justify_items": null,
            "left": null,
            "margin": null,
            "max_height": null,
            "max_width": null,
            "min_height": null,
            "min_width": null,
            "object_fit": null,
            "object_position": null,
            "order": null,
            "overflow": null,
            "overflow_x": null,
            "overflow_y": null,
            "padding": null,
            "right": null,
            "top": null,
            "visibility": null,
            "width": null
          }
        },
        "56ce4697d4604deebab94c59a4a9e568": {
          "model_module": "@jupyter-widgets/controls",
          "model_name": "ButtonStyleModel",
          "model_module_version": "1.5.0",
          "state": {
            "_model_module": "@jupyter-widgets/controls",
            "_model_module_version": "1.5.0",
            "_model_name": "ButtonStyleModel",
            "_view_count": null,
            "_view_module": "@jupyter-widgets/base",
            "_view_module_version": "1.2.0",
            "_view_name": "StyleView",
            "button_color": null,
            "font_weight": ""
          }
        },
        "3a7ba747edbf4fc9ba862d6463f9700d": {
          "model_module": "@jupyter-widgets/controls",
          "model_name": "DropdownModel",
          "model_module_version": "1.5.0",
          "state": {
            "_dom_classes": [],
            "_model_module": "@jupyter-widgets/controls",
            "_model_module_version": "1.5.0",
            "_model_name": "DropdownModel",
            "_options_labels": [
              "created_date",
              "message"
            ],
            "_view_count": null,
            "_view_module": "@jupyter-widgets/controls",
            "_view_module_version": "1.5.0",
            "_view_name": "DropdownView",
            "description": "Text Column:",
            "description_tooltip": null,
            "disabled": false,
            "index": 1,
            "layout": "IPY_MODEL_99bf68e853ee4c80a796f8926caa44c1",
            "style": "IPY_MODEL_24f657ea4ec3430f8a36109aeb1aaad9"
          }
        },
        "99bf68e853ee4c80a796f8926caa44c1": {
          "model_module": "@jupyter-widgets/base",
          "model_name": "LayoutModel",
          "model_module_version": "1.2.0",
          "state": {
            "_model_module": "@jupyter-widgets/base",
            "_model_module_version": "1.2.0",
            "_model_name": "LayoutModel",
            "_view_count": null,
            "_view_module": "@jupyter-widgets/base",
            "_view_module_version": "1.2.0",
            "_view_name": "LayoutView",
            "align_content": null,
            "align_items": null,
            "align_self": null,
            "border": null,
            "bottom": null,
            "display": null,
            "flex": null,
            "flex_flow": null,
            "grid_area": null,
            "grid_auto_columns": null,
            "grid_auto_flow": null,
            "grid_auto_rows": null,
            "grid_column": null,
            "grid_gap": null,
            "grid_row": null,
            "grid_template_areas": null,
            "grid_template_columns": null,
            "grid_template_rows": null,
            "height": null,
            "justify_content": null,
            "justify_items": null,
            "left": null,
            "margin": null,
            "max_height": null,
            "max_width": null,
            "min_height": null,
            "min_width": null,
            "object_fit": null,
            "object_position": null,
            "order": null,
            "overflow": null,
            "overflow_x": null,
            "overflow_y": null,
            "padding": null,
            "right": null,
            "top": null,
            "visibility": null,
            "width": null
          }
        },
        "24f657ea4ec3430f8a36109aeb1aaad9": {
          "model_module": "@jupyter-widgets/controls",
          "model_name": "DescriptionStyleModel",
          "model_module_version": "1.5.0",
          "state": {
            "_model_module": "@jupyter-widgets/controls",
            "_model_module_version": "1.5.0",
            "_model_name": "DescriptionStyleModel",
            "_view_count": null,
            "_view_module": "@jupyter-widgets/base",
            "_view_module_version": "1.2.0",
            "_view_name": "StyleView",
            "description_width": ""
          }
        },
        "c3bdb03eee704d72a0c2de4be2f5d032": {
          "model_module": "@jupyter-widgets/controls",
          "model_name": "ButtonModel",
          "model_module_version": "1.5.0",
          "state": {
            "_dom_classes": [],
            "_model_module": "@jupyter-widgets/controls",
            "_model_module_version": "1.5.0",
            "_model_name": "ButtonModel",
            "_view_count": null,
            "_view_module": "@jupyter-widgets/controls",
            "_view_module_version": "1.5.0",
            "_view_name": "ButtonView",
            "button_style": "",
            "description": "Confirm Text Column",
            "disabled": false,
            "icon": "",
            "layout": "IPY_MODEL_0385b1aa4b8f4e6bbddf1f10979eda22",
            "style": "IPY_MODEL_3bb62cfa58ff4aff8dc8760ff7167428",
            "tooltip": ""
          }
        },
        "0385b1aa4b8f4e6bbddf1f10979eda22": {
          "model_module": "@jupyter-widgets/base",
          "model_name": "LayoutModel",
          "model_module_version": "1.2.0",
          "state": {
            "_model_module": "@jupyter-widgets/base",
            "_model_module_version": "1.2.0",
            "_model_name": "LayoutModel",
            "_view_count": null,
            "_view_module": "@jupyter-widgets/base",
            "_view_module_version": "1.2.0",
            "_view_name": "LayoutView",
            "align_content": null,
            "align_items": null,
            "align_self": null,
            "border": null,
            "bottom": null,
            "display": null,
            "flex": null,
            "flex_flow": null,
            "grid_area": null,
            "grid_auto_columns": null,
            "grid_auto_flow": null,
            "grid_auto_rows": null,
            "grid_column": null,
            "grid_gap": null,
            "grid_row": null,
            "grid_template_areas": null,
            "grid_template_columns": null,
            "grid_template_rows": null,
            "height": null,
            "justify_content": null,
            "justify_items": null,
            "left": null,
            "margin": null,
            "max_height": null,
            "max_width": null,
            "min_height": null,
            "min_width": null,
            "object_fit": null,
            "object_position": null,
            "order": null,
            "overflow": null,
            "overflow_x": null,
            "overflow_y": null,
            "padding": null,
            "right": null,
            "top": null,
            "visibility": null,
            "width": null
          }
        },
        "3bb62cfa58ff4aff8dc8760ff7167428": {
          "model_module": "@jupyter-widgets/controls",
          "model_name": "ButtonStyleModel",
          "model_module_version": "1.5.0",
          "state": {
            "_model_module": "@jupyter-widgets/controls",
            "_model_module_version": "1.5.0",
            "_model_name": "ButtonStyleModel",
            "_view_count": null,
            "_view_module": "@jupyter-widgets/base",
            "_view_module_version": "1.2.0",
            "_view_name": "StyleView",
            "button_color": null,
            "font_weight": ""
          }
        },
        "43c274077c1b4f01bcf1dd93f901f09a": {
          "model_module": "@jupyter-widgets/output",
          "model_name": "OutputModel",
          "model_module_version": "1.0.0",
          "state": {
            "_dom_classes": [],
            "_model_module": "@jupyter-widgets/output",
            "_model_module_version": "1.0.0",
            "_model_name": "OutputModel",
            "_view_count": null,
            "_view_module": "@jupyter-widgets/output",
            "_view_module_version": "1.0.0",
            "_view_name": "OutputView",
            "layout": "IPY_MODEL_7bc7a701ca934aa1b174d83d718634d1",
            "msg_id": "",
            "outputs": [
              {
                "output_type": "stream",
                "name": "stdout",
                "text": [
                  "Text Column confirmed: message\n"
                ]
              }
            ]
          }
        },
        "7bc7a701ca934aa1b174d83d718634d1": {
          "model_module": "@jupyter-widgets/base",
          "model_name": "LayoutModel",
          "model_module_version": "1.2.0",
          "state": {
            "_model_module": "@jupyter-widgets/base",
            "_model_module_version": "1.2.0",
            "_model_name": "LayoutModel",
            "_view_count": null,
            "_view_module": "@jupyter-widgets/base",
            "_view_module_version": "1.2.0",
            "_view_name": "LayoutView",
            "align_content": null,
            "align_items": null,
            "align_self": null,
            "border": null,
            "bottom": null,
            "display": null,
            "flex": null,
            "flex_flow": null,
            "grid_area": null,
            "grid_auto_columns": null,
            "grid_auto_flow": null,
            "grid_auto_rows": null,
            "grid_column": null,
            "grid_gap": null,
            "grid_row": null,
            "grid_template_areas": null,
            "grid_template_columns": null,
            "grid_template_rows": null,
            "height": null,
            "justify_content": null,
            "justify_items": null,
            "left": null,
            "margin": null,
            "max_height": null,
            "max_width": null,
            "min_height": null,
            "min_width": null,
            "object_fit": null,
            "object_position": null,
            "order": null,
            "overflow": null,
            "overflow_x": null,
            "overflow_y": null,
            "padding": null,
            "right": null,
            "top": null,
            "visibility": null,
            "width": null
          }
        },
        "0eda97ddac244821b67ae18ff5b16955": {
          "model_module": "@jupyter-widgets/controls",
          "model_name": "DropdownModel",
          "model_module_version": "1.5.0",
          "state": {
            "_dom_classes": [],
            "_model_module": "@jupyter-widgets/controls",
            "_model_module_version": "1.5.0",
            "_model_name": "DropdownModel",
            "_options_labels": [
              "message_id",
              "user_id"
            ],
            "_view_count": null,
            "_view_module": "@jupyter-widgets/controls",
            "_view_module_version": "1.5.0",
            "_view_name": "DropdownView",
            "description": "ID Column:",
            "description_tooltip": null,
            "disabled": false,
            "index": 1,
            "layout": "IPY_MODEL_4355af7b2b8a4b3887cc983a3db190ed",
            "style": "IPY_MODEL_ed305470ff844df8a845153759a80b9c"
          }
        },
        "4355af7b2b8a4b3887cc983a3db190ed": {
          "model_module": "@jupyter-widgets/base",
          "model_name": "LayoutModel",
          "model_module_version": "1.2.0",
          "state": {
            "_model_module": "@jupyter-widgets/base",
            "_model_module_version": "1.2.0",
            "_model_name": "LayoutModel",
            "_view_count": null,
            "_view_module": "@jupyter-widgets/base",
            "_view_module_version": "1.2.0",
            "_view_name": "LayoutView",
            "align_content": null,
            "align_items": null,
            "align_self": null,
            "border": null,
            "bottom": null,
            "display": null,
            "flex": null,
            "flex_flow": null,
            "grid_area": null,
            "grid_auto_columns": null,
            "grid_auto_flow": null,
            "grid_auto_rows": null,
            "grid_column": null,
            "grid_gap": null,
            "grid_row": null,
            "grid_template_areas": null,
            "grid_template_columns": null,
            "grid_template_rows": null,
            "height": null,
            "justify_content": null,
            "justify_items": null,
            "left": null,
            "margin": null,
            "max_height": null,
            "max_width": null,
            "min_height": null,
            "min_width": null,
            "object_fit": null,
            "object_position": null,
            "order": null,
            "overflow": null,
            "overflow_x": null,
            "overflow_y": null,
            "padding": null,
            "right": null,
            "top": null,
            "visibility": null,
            "width": null
          }
        },
        "ed305470ff844df8a845153759a80b9c": {
          "model_module": "@jupyter-widgets/controls",
          "model_name": "DescriptionStyleModel",
          "model_module_version": "1.5.0",
          "state": {
            "_model_module": "@jupyter-widgets/controls",
            "_model_module_version": "1.5.0",
            "_model_name": "DescriptionStyleModel",
            "_view_count": null,
            "_view_module": "@jupyter-widgets/base",
            "_view_module_version": "1.2.0",
            "_view_name": "StyleView",
            "description_width": ""
          }
        },
        "b9163371a9a8456f89121dac4a2d3ecb": {
          "model_module": "@jupyter-widgets/controls",
          "model_name": "ButtonModel",
          "model_module_version": "1.5.0",
          "state": {
            "_dom_classes": [],
            "_model_module": "@jupyter-widgets/controls",
            "_model_module_version": "1.5.0",
            "_model_name": "ButtonModel",
            "_view_count": null,
            "_view_module": "@jupyter-widgets/controls",
            "_view_module_version": "1.5.0",
            "_view_name": "ButtonView",
            "button_style": "",
            "description": "Confirm ID Column",
            "disabled": false,
            "icon": "",
            "layout": "IPY_MODEL_4934916f60764dc794fa2e83f2f53978",
            "style": "IPY_MODEL_6995e7cd565f415bbf0fb28f0fe48eaf",
            "tooltip": ""
          }
        },
        "4934916f60764dc794fa2e83f2f53978": {
          "model_module": "@jupyter-widgets/base",
          "model_name": "LayoutModel",
          "model_module_version": "1.2.0",
          "state": {
            "_model_module": "@jupyter-widgets/base",
            "_model_module_version": "1.2.0",
            "_model_name": "LayoutModel",
            "_view_count": null,
            "_view_module": "@jupyter-widgets/base",
            "_view_module_version": "1.2.0",
            "_view_name": "LayoutView",
            "align_content": null,
            "align_items": null,
            "align_self": null,
            "border": null,
            "bottom": null,
            "display": null,
            "flex": null,
            "flex_flow": null,
            "grid_area": null,
            "grid_auto_columns": null,
            "grid_auto_flow": null,
            "grid_auto_rows": null,
            "grid_column": null,
            "grid_gap": null,
            "grid_row": null,
            "grid_template_areas": null,
            "grid_template_columns": null,
            "grid_template_rows": null,
            "height": null,
            "justify_content": null,
            "justify_items": null,
            "left": null,
            "margin": null,
            "max_height": null,
            "max_width": null,
            "min_height": null,
            "min_width": null,
            "object_fit": null,
            "object_position": null,
            "order": null,
            "overflow": null,
            "overflow_x": null,
            "overflow_y": null,
            "padding": null,
            "right": null,
            "top": null,
            "visibility": null,
            "width": null
          }
        },
        "6995e7cd565f415bbf0fb28f0fe48eaf": {
          "model_module": "@jupyter-widgets/controls",
          "model_name": "ButtonStyleModel",
          "model_module_version": "1.5.0",
          "state": {
            "_model_module": "@jupyter-widgets/controls",
            "_model_module_version": "1.5.0",
            "_model_name": "ButtonStyleModel",
            "_view_count": null,
            "_view_module": "@jupyter-widgets/base",
            "_view_module_version": "1.2.0",
            "_view_name": "StyleView",
            "button_color": null,
            "font_weight": ""
          }
        },
        "1729a297c2654297ba4cdec8b6ec469e": {
          "model_module": "@jupyter-widgets/output",
          "model_name": "OutputModel",
          "model_module_version": "1.0.0",
          "state": {
            "_dom_classes": [],
            "_model_module": "@jupyter-widgets/output",
            "_model_module_version": "1.0.0",
            "_model_name": "OutputModel",
            "_view_count": null,
            "_view_module": "@jupyter-widgets/output",
            "_view_module_version": "1.0.0",
            "_view_name": "OutputView",
            "layout": "IPY_MODEL_df270bd94bea482ca4b1bf3a37983029",
            "msg_id": "",
            "outputs": [
              {
                "output_type": "stream",
                "name": "stdout",
                "text": [
                  "ID Column confirmed: user_id\n"
                ]
              }
            ]
          }
        },
        "df270bd94bea482ca4b1bf3a37983029": {
          "model_module": "@jupyter-widgets/base",
          "model_name": "LayoutModel",
          "model_module_version": "1.2.0",
          "state": {
            "_model_module": "@jupyter-widgets/base",
            "_model_module_version": "1.2.0",
            "_model_name": "LayoutModel",
            "_view_count": null,
            "_view_module": "@jupyter-widgets/base",
            "_view_module_version": "1.2.0",
            "_view_name": "LayoutView",
            "align_content": null,
            "align_items": null,
            "align_self": null,
            "border": null,
            "bottom": null,
            "display": null,
            "flex": null,
            "flex_flow": null,
            "grid_area": null,
            "grid_auto_columns": null,
            "grid_auto_flow": null,
            "grid_auto_rows": null,
            "grid_column": null,
            "grid_gap": null,
            "grid_row": null,
            "grid_template_areas": null,
            "grid_template_columns": null,
            "grid_template_rows": null,
            "height": null,
            "justify_content": null,
            "justify_items": null,
            "left": null,
            "margin": null,
            "max_height": null,
            "max_width": null,
            "min_height": null,
            "min_width": null,
            "object_fit": null,
            "object_position": null,
            "order": null,
            "overflow": null,
            "overflow_x": null,
            "overflow_y": null,
            "padding": null,
            "right": null,
            "top": null,
            "visibility": null,
            "width": null
          }
        },
        "08fc836a1fcd41ed853b6090ad98ee44": {
          "model_module": "@jupyter-widgets/controls",
          "model_name": "DropdownModel",
          "model_module_version": "1.5.0",
          "state": {
            "_dom_classes": [],
            "_model_module": "@jupyter-widgets/controls",
            "_model_module_version": "1.5.0",
            "_model_name": "DropdownModel",
            "_options_labels": [
              "Select option",
              "1to2grams-filtered",
              "1to2grams-unfiltered",
              "topics"
            ],
            "_view_count": null,
            "_view_module": "@jupyter-widgets/controls",
            "_view_module_version": "1.5.0",
            "_view_name": "DropdownView",
            "description": "Options:",
            "description_tooltip": null,
            "disabled": false,
            "index": 3,
            "layout": "IPY_MODEL_77c99581c3814d4f90c88d25f122da80",
            "style": "IPY_MODEL_8c6e2ff31bee46aca3e82ad6b1cd5b39"
          }
        },
        "77c99581c3814d4f90c88d25f122da80": {
          "model_module": "@jupyter-widgets/base",
          "model_name": "LayoutModel",
          "model_module_version": "1.2.0",
          "state": {
            "_model_module": "@jupyter-widgets/base",
            "_model_module_version": "1.2.0",
            "_model_name": "LayoutModel",
            "_view_count": null,
            "_view_module": "@jupyter-widgets/base",
            "_view_module_version": "1.2.0",
            "_view_name": "LayoutView",
            "align_content": null,
            "align_items": null,
            "align_self": null,
            "border": null,
            "bottom": null,
            "display": null,
            "flex": null,
            "flex_flow": null,
            "grid_area": null,
            "grid_auto_columns": null,
            "grid_auto_flow": null,
            "grid_auto_rows": null,
            "grid_column": null,
            "grid_gap": null,
            "grid_row": null,
            "grid_template_areas": null,
            "grid_template_columns": null,
            "grid_template_rows": null,
            "height": null,
            "justify_content": null,
            "justify_items": null,
            "left": null,
            "margin": null,
            "max_height": null,
            "max_width": null,
            "min_height": null,
            "min_width": null,
            "object_fit": null,
            "object_position": null,
            "order": null,
            "overflow": null,
            "overflow_x": null,
            "overflow_y": null,
            "padding": null,
            "right": null,
            "top": null,
            "visibility": null,
            "width": null
          }
        },
        "8c6e2ff31bee46aca3e82ad6b1cd5b39": {
          "model_module": "@jupyter-widgets/controls",
          "model_name": "DescriptionStyleModel",
          "model_module_version": "1.5.0",
          "state": {
            "_model_module": "@jupyter-widgets/controls",
            "_model_module_version": "1.5.0",
            "_model_name": "DescriptionStyleModel",
            "_view_count": null,
            "_view_module": "@jupyter-widgets/base",
            "_view_module_version": "1.2.0",
            "_view_name": "StyleView",
            "description_width": ""
          }
        },
        "6a7e33bac41f45e1936303d0a2011ee7": {
          "model_module": "@jupyter-widgets/controls",
          "model_name": "ButtonModel",
          "model_module_version": "1.5.0",
          "state": {
            "_dom_classes": [],
            "_model_module": "@jupyter-widgets/controls",
            "_model_module_version": "1.5.0",
            "_model_name": "ButtonModel",
            "_view_count": null,
            "_view_module": "@jupyter-widgets/controls",
            "_view_module_version": "1.5.0",
            "_view_name": "ButtonView",
            "button_style": "",
            "description": "Run Command",
            "disabled": false,
            "icon": "",
            "layout": "IPY_MODEL_06c882e42be0496b920a13d750824ee9",
            "style": "IPY_MODEL_cb9aa4b26d764f1cb57296552ea95a5c",
            "tooltip": ""
          }
        },
        "06c882e42be0496b920a13d750824ee9": {
          "model_module": "@jupyter-widgets/base",
          "model_name": "LayoutModel",
          "model_module_version": "1.2.0",
          "state": {
            "_model_module": "@jupyter-widgets/base",
            "_model_module_version": "1.2.0",
            "_model_name": "LayoutModel",
            "_view_count": null,
            "_view_module": "@jupyter-widgets/base",
            "_view_module_version": "1.2.0",
            "_view_name": "LayoutView",
            "align_content": null,
            "align_items": null,
            "align_self": null,
            "border": null,
            "bottom": null,
            "display": null,
            "flex": null,
            "flex_flow": null,
            "grid_area": null,
            "grid_auto_columns": null,
            "grid_auto_flow": null,
            "grid_auto_rows": null,
            "grid_column": null,
            "grid_gap": null,
            "grid_row": null,
            "grid_template_areas": null,
            "grid_template_columns": null,
            "grid_template_rows": null,
            "height": null,
            "justify_content": null,
            "justify_items": null,
            "left": null,
            "margin": null,
            "max_height": null,
            "max_width": null,
            "min_height": null,
            "min_width": null,
            "object_fit": null,
            "object_position": null,
            "order": null,
            "overflow": null,
            "overflow_x": null,
            "overflow_y": null,
            "padding": null,
            "right": null,
            "top": null,
            "visibility": null,
            "width": null
          }
        },
        "cb9aa4b26d764f1cb57296552ea95a5c": {
          "model_module": "@jupyter-widgets/controls",
          "model_name": "ButtonStyleModel",
          "model_module_version": "1.5.0",
          "state": {
            "_model_module": "@jupyter-widgets/controls",
            "_model_module_version": "1.5.0",
            "_model_name": "ButtonStyleModel",
            "_view_count": null,
            "_view_module": "@jupyter-widgets/base",
            "_view_module_version": "1.2.0",
            "_view_name": "StyleView",
            "button_color": null,
            "font_weight": ""
          }
        },
        "eb92763626e548ccbb40a0f4350137c1": {
          "model_module": "@jupyter-widgets/output",
          "model_name": "OutputModel",
          "model_module_version": "1.0.0",
          "state": {
            "_dom_classes": [],
            "_model_module": "@jupyter-widgets/output",
            "_model_module_version": "1.0.0",
            "_model_name": "OutputModel",
            "_view_count": null,
            "_view_module": "@jupyter-widgets/output",
            "_view_module_version": "1.0.0",
            "_view_name": "OutputView",
            "layout": "IPY_MODEL_d3fe0352d1df44a9b9234538145e6b33",
            "msg_id": "",
            "outputs": [
              {
                "output_type": "stream",
                "name": "stdout",
                "text": [
                  "Executing: dlatkInterface.py -d colab_csv -t msgs404u.csv -g user_id --message_field message --messageid_field message_id --group_freq_thresh 100 --add_lex_table -l fb2000_cp --weighted_lexicon\n",
                  "It will take upto 3 minutes to execute it, please wait!\n"
                ]
              },
              {
                "output_type": "stream",
                "name": "stdout",
                "text": [
                  "Generated LDA feature table: feat$cat_fb2000_cp_w$msgs404u$user_id$1gra\n"
                ]
              }
            ]
          }
        },
        "d3fe0352d1df44a9b9234538145e6b33": {
          "model_module": "@jupyter-widgets/base",
          "model_name": "LayoutModel",
          "model_module_version": "1.2.0",
          "state": {
            "_model_module": "@jupyter-widgets/base",
            "_model_module_version": "1.2.0",
            "_model_name": "LayoutModel",
            "_view_count": null,
            "_view_module": "@jupyter-widgets/base",
            "_view_module_version": "1.2.0",
            "_view_name": "LayoutView",
            "align_content": null,
            "align_items": null,
            "align_self": null,
            "border": null,
            "bottom": null,
            "display": null,
            "flex": null,
            "flex_flow": null,
            "grid_area": null,
            "grid_auto_columns": null,
            "grid_auto_flow": null,
            "grid_auto_rows": null,
            "grid_column": null,
            "grid_gap": null,
            "grid_row": null,
            "grid_template_areas": null,
            "grid_template_columns": null,
            "grid_template_rows": null,
            "height": null,
            "justify_content": null,
            "justify_items": null,
            "left": null,
            "margin": null,
            "max_height": null,
            "max_width": null,
            "min_height": null,
            "min_width": null,
            "object_fit": null,
            "object_position": null,
            "order": null,
            "overflow": null,
            "overflow_x": null,
            "overflow_y": null,
            "padding": null,
            "right": null,
            "top": null,
            "visibility": null,
            "width": null
          }
        },
        "aaf35df4c2d8404398a13ef45cd87ec7": {
          "model_module": "@jupyter-widgets/controls",
          "model_name": "DropdownModel",
          "model_module_version": "1.5.0",
          "state": {
            "_dom_classes": [],
            "_model_module": "@jupyter-widgets/controls",
            "_model_module_version": "1.5.0",
            "_model_name": "DropdownModel",
            "_options_labels": [
              "1to2grams-filtered-table",
              "1to2grams-unfiltered-table",
              "topics-table"
            ],
            "_view_count": null,
            "_view_module": "@jupyter-widgets/controls",
            "_view_module_version": "1.5.0",
            "_view_name": "DropdownView",
            "description": "Select Table:",
            "description_tooltip": null,
            "disabled": false,
            "index": 0,
            "layout": "IPY_MODEL_04b4997c520e477ca53ca11d5a7cc32b",
            "style": "IPY_MODEL_96d0b21e547d41a0a296e0b7b7ed180c"
          }
        },
        "04b4997c520e477ca53ca11d5a7cc32b": {
          "model_module": "@jupyter-widgets/base",
          "model_name": "LayoutModel",
          "model_module_version": "1.2.0",
          "state": {
            "_model_module": "@jupyter-widgets/base",
            "_model_module_version": "1.2.0",
            "_model_name": "LayoutModel",
            "_view_count": null,
            "_view_module": "@jupyter-widgets/base",
            "_view_module_version": "1.2.0",
            "_view_name": "LayoutView",
            "align_content": null,
            "align_items": null,
            "align_self": null,
            "border": null,
            "bottom": null,
            "display": null,
            "flex": null,
            "flex_flow": null,
            "grid_area": null,
            "grid_auto_columns": null,
            "grid_auto_flow": null,
            "grid_auto_rows": null,
            "grid_column": null,
            "grid_gap": null,
            "grid_row": null,
            "grid_template_areas": null,
            "grid_template_columns": null,
            "grid_template_rows": null,
            "height": null,
            "justify_content": null,
            "justify_items": null,
            "left": null,
            "margin": null,
            "max_height": null,
            "max_width": null,
            "min_height": null,
            "min_width": null,
            "object_fit": null,
            "object_position": null,
            "order": null,
            "overflow": null,
            "overflow_x": null,
            "overflow_y": null,
            "padding": null,
            "right": null,
            "top": null,
            "visibility": null,
            "width": null
          }
        },
        "96d0b21e547d41a0a296e0b7b7ed180c": {
          "model_module": "@jupyter-widgets/controls",
          "model_name": "DescriptionStyleModel",
          "model_module_version": "1.5.0",
          "state": {
            "_model_module": "@jupyter-widgets/controls",
            "_model_module_version": "1.5.0",
            "_model_name": "DescriptionStyleModel",
            "_view_count": null,
            "_view_module": "@jupyter-widgets/base",
            "_view_module_version": "1.2.0",
            "_view_name": "StyleView",
            "description_width": "initial"
          }
        },
        "5eef9ab1bf6c4324a36a8d76b52dce9c": {
          "model_module": "@jupyter-widgets/controls",
          "model_name": "ButtonModel",
          "model_module_version": "1.5.0",
          "state": {
            "_dom_classes": [],
            "_model_module": "@jupyter-widgets/controls",
            "_model_module_version": "1.5.0",
            "_model_name": "ButtonModel",
            "_view_count": null,
            "_view_module": "@jupyter-widgets/controls",
            "_view_module_version": "1.5.0",
            "_view_name": "ButtonView",
            "button_style": "",
            "description": "Run Command",
            "disabled": false,
            "icon": "",
            "layout": "IPY_MODEL_e11ec801406c4c43b2123add3987a3d9",
            "style": "IPY_MODEL_39e098e9b0b5484b945c7ad6925b9006",
            "tooltip": ""
          }
        },
        "e11ec801406c4c43b2123add3987a3d9": {
          "model_module": "@jupyter-widgets/base",
          "model_name": "LayoutModel",
          "model_module_version": "1.2.0",
          "state": {
            "_model_module": "@jupyter-widgets/base",
            "_model_module_version": "1.2.0",
            "_model_name": "LayoutModel",
            "_view_count": null,
            "_view_module": "@jupyter-widgets/base",
            "_view_module_version": "1.2.0",
            "_view_name": "LayoutView",
            "align_content": null,
            "align_items": null,
            "align_self": null,
            "border": null,
            "bottom": null,
            "display": null,
            "flex": null,
            "flex_flow": null,
            "grid_area": null,
            "grid_auto_columns": null,
            "grid_auto_flow": null,
            "grid_auto_rows": null,
            "grid_column": null,
            "grid_gap": null,
            "grid_row": null,
            "grid_template_areas": null,
            "grid_template_columns": null,
            "grid_template_rows": null,
            "height": null,
            "justify_content": null,
            "justify_items": null,
            "left": null,
            "margin": null,
            "max_height": null,
            "max_width": null,
            "min_height": null,
            "min_width": null,
            "object_fit": null,
            "object_position": null,
            "order": null,
            "overflow": null,
            "overflow_x": null,
            "overflow_y": null,
            "padding": null,
            "right": null,
            "top": null,
            "visibility": null,
            "width": null
          }
        },
        "39e098e9b0b5484b945c7ad6925b9006": {
          "model_module": "@jupyter-widgets/controls",
          "model_name": "ButtonStyleModel",
          "model_module_version": "1.5.0",
          "state": {
            "_model_module": "@jupyter-widgets/controls",
            "_model_module_version": "1.5.0",
            "_model_name": "ButtonStyleModel",
            "_view_count": null,
            "_view_module": "@jupyter-widgets/base",
            "_view_module_version": "1.2.0",
            "_view_name": "StyleView",
            "button_color": null,
            "font_weight": ""
          }
        },
        "d3ea875a1cce4fa189bfc853b7f25d9a": {
          "model_module": "@jupyter-widgets/output",
          "model_name": "OutputModel",
          "model_module_version": "1.0.0",
          "state": {
            "_dom_classes": [],
            "_model_module": "@jupyter-widgets/output",
            "_model_module_version": "1.0.0",
            "_model_name": "OutputModel",
            "_view_count": null,
            "_view_module": "@jupyter-widgets/output",
            "_view_module_version": "1.0.0",
            "_view_name": "OutputView",
            "layout": "IPY_MODEL_b1f28e6770a64975bdf03e1df1874c86",
            "msg_id": "",
            "outputs": []
          }
        },
        "b1f28e6770a64975bdf03e1df1874c86": {
          "model_module": "@jupyter-widgets/base",
          "model_name": "LayoutModel",
          "model_module_version": "1.2.0",
          "state": {
            "_model_module": "@jupyter-widgets/base",
            "_model_module_version": "1.2.0",
            "_model_name": "LayoutModel",
            "_view_count": null,
            "_view_module": "@jupyter-widgets/base",
            "_view_module_version": "1.2.0",
            "_view_name": "LayoutView",
            "align_content": null,
            "align_items": null,
            "align_self": null,
            "border": null,
            "bottom": null,
            "display": null,
            "flex": null,
            "flex_flow": null,
            "grid_area": null,
            "grid_auto_columns": null,
            "grid_auto_flow": null,
            "grid_auto_rows": null,
            "grid_column": null,
            "grid_gap": null,
            "grid_row": null,
            "grid_template_areas": null,
            "grid_template_columns": null,
            "grid_template_rows": null,
            "height": null,
            "justify_content": null,
            "justify_items": null,
            "left": null,
            "margin": null,
            "max_height": null,
            "max_width": null,
            "min_height": null,
            "min_width": null,
            "object_fit": null,
            "object_position": null,
            "order": null,
            "overflow": null,
            "overflow_x": null,
            "overflow_y": null,
            "padding": null,
            "right": null,
            "top": null,
            "visibility": null,
            "width": null
          }
        },
        "9841c38687d5468bb3bf1cdb1cf21811": {
          "model_module": "@jupyter-widgets/controls",
          "model_name": "DropdownModel",
          "model_module_version": "1.5.0",
          "state": {
            "_dom_classes": [],
            "_model_module": "@jupyter-widgets/controls",
            "_model_module_version": "1.5.0",
            "_model_name": "DropdownModel",
            "_options_labels": [
              "1to2grams-filtered-table",
              "1to2grams-unfiltered-table",
              "topics-table"
            ],
            "_view_count": null,
            "_view_module": "@jupyter-widgets/controls",
            "_view_module_version": "1.5.0",
            "_view_name": "DropdownView",
            "description": "Feature Table:",
            "description_tooltip": null,
            "disabled": false,
            "index": 0,
            "layout": "IPY_MODEL_f4adc749699244e19615e5b753e6f5bb",
            "style": "IPY_MODEL_8f3d96f438f2412badf7cc563679215e"
          }
        },
        "f4adc749699244e19615e5b753e6f5bb": {
          "model_module": "@jupyter-widgets/base",
          "model_name": "LayoutModel",
          "model_module_version": "1.2.0",
          "state": {
            "_model_module": "@jupyter-widgets/base",
            "_model_module_version": "1.2.0",
            "_model_name": "LayoutModel",
            "_view_count": null,
            "_view_module": "@jupyter-widgets/base",
            "_view_module_version": "1.2.0",
            "_view_name": "LayoutView",
            "align_content": null,
            "align_items": null,
            "align_self": null,
            "border": null,
            "bottom": null,
            "display": null,
            "flex": null,
            "flex_flow": null,
            "grid_area": null,
            "grid_auto_columns": null,
            "grid_auto_flow": null,
            "grid_auto_rows": null,
            "grid_column": null,
            "grid_gap": null,
            "grid_row": null,
            "grid_template_areas": null,
            "grid_template_columns": null,
            "grid_template_rows": null,
            "height": null,
            "justify_content": null,
            "justify_items": null,
            "left": null,
            "margin": null,
            "max_height": null,
            "max_width": null,
            "min_height": null,
            "min_width": null,
            "object_fit": null,
            "object_position": null,
            "order": null,
            "overflow": null,
            "overflow_x": null,
            "overflow_y": null,
            "padding": null,
            "right": null,
            "top": null,
            "visibility": null,
            "width": null
          }
        },
        "8f3d96f438f2412badf7cc563679215e": {
          "model_module": "@jupyter-widgets/controls",
          "model_name": "DescriptionStyleModel",
          "model_module_version": "1.5.0",
          "state": {
            "_model_module": "@jupyter-widgets/controls",
            "_model_module_version": "1.5.0",
            "_model_name": "DescriptionStyleModel",
            "_view_count": null,
            "_view_module": "@jupyter-widgets/base",
            "_view_module_version": "1.2.0",
            "_view_name": "StyleView",
            "description_width": ""
          }
        },
        "760990b7aed944af98abf6c8f9cfec02": {
          "model_module": "@jupyter-widgets/controls",
          "model_name": "LabelModel",
          "model_module_version": "1.5.0",
          "state": {
            "_dom_classes": [],
            "_model_module": "@jupyter-widgets/controls",
            "_model_module_version": "1.5.0",
            "_model_name": "LabelModel",
            "_view_count": null,
            "_view_module": "@jupyter-widgets/controls",
            "_view_module_version": "1.5.0",
            "_view_name": "LabelView",
            "description": "",
            "description_tooltip": null,
            "layout": "IPY_MODEL_a220cb650a4f4f659938fb5a99639524",
            "placeholder": "​",
            "style": "IPY_MODEL_034144dfab44405f9204357ca4ee2eae",
            "value": "Outcomes:"
          }
        },
        "a220cb650a4f4f659938fb5a99639524": {
          "model_module": "@jupyter-widgets/base",
          "model_name": "LayoutModel",
          "model_module_version": "1.2.0",
          "state": {
            "_model_module": "@jupyter-widgets/base",
            "_model_module_version": "1.2.0",
            "_model_name": "LayoutModel",
            "_view_count": null,
            "_view_module": "@jupyter-widgets/base",
            "_view_module_version": "1.2.0",
            "_view_name": "LayoutView",
            "align_content": null,
            "align_items": null,
            "align_self": null,
            "border": null,
            "bottom": null,
            "display": null,
            "flex": null,
            "flex_flow": null,
            "grid_area": null,
            "grid_auto_columns": null,
            "grid_auto_flow": null,
            "grid_auto_rows": null,
            "grid_column": null,
            "grid_gap": null,
            "grid_row": null,
            "grid_template_areas": null,
            "grid_template_columns": null,
            "grid_template_rows": null,
            "height": null,
            "justify_content": null,
            "justify_items": null,
            "left": null,
            "margin": null,
            "max_height": null,
            "max_width": null,
            "min_height": null,
            "min_width": null,
            "object_fit": null,
            "object_position": null,
            "order": null,
            "overflow": null,
            "overflow_x": null,
            "overflow_y": null,
            "padding": null,
            "right": null,
            "top": null,
            "visibility": null,
            "width": null
          }
        },
        "034144dfab44405f9204357ca4ee2eae": {
          "model_module": "@jupyter-widgets/controls",
          "model_name": "DescriptionStyleModel",
          "model_module_version": "1.5.0",
          "state": {
            "_model_module": "@jupyter-widgets/controls",
            "_model_module_version": "1.5.0",
            "_model_name": "DescriptionStyleModel",
            "_view_count": null,
            "_view_module": "@jupyter-widgets/base",
            "_view_module_version": "1.2.0",
            "_view_name": "StyleView",
            "description_width": ""
          }
        },
        "89ac48094fbd4a36acc205983bf4e13f": {
          "model_module": "@jupyter-widgets/controls",
          "model_name": "HBoxModel",
          "model_module_version": "1.5.0",
          "state": {
            "_dom_classes": [],
            "_model_module": "@jupyter-widgets/controls",
            "_model_module_version": "1.5.0",
            "_model_name": "HBoxModel",
            "_view_count": null,
            "_view_module": "@jupyter-widgets/controls",
            "_view_module_version": "1.5.0",
            "_view_name": "HBoxView",
            "box_style": "",
            "children": [
              "IPY_MODEL_e6d61181081f44588b2a33640f5f9709",
              "IPY_MODEL_84fe2ab21af94239848bf00421e9134a"
            ],
            "layout": "IPY_MODEL_8a4b9f8b7cdd4788b5dbe10afbb83e6c"
          }
        },
        "e6d61181081f44588b2a33640f5f9709": {
          "model_module": "@jupyter-widgets/controls",
          "model_name": "CheckboxModel",
          "model_module_version": "1.5.0",
          "state": {
            "_dom_classes": [],
            "_model_module": "@jupyter-widgets/controls",
            "_model_module_version": "1.5.0",
            "_model_name": "CheckboxModel",
            "_view_count": null,
            "_view_module": "@jupyter-widgets/controls",
            "_view_module_version": "1.5.0",
            "_view_name": "CheckboxView",
            "description": "gender",
            "description_tooltip": null,
            "disabled": false,
            "indent": true,
            "layout": "IPY_MODEL_faf5e24b07b34fd2832240e06e3746f8",
            "style": "IPY_MODEL_9c3ee1a4c78b46509c2b2ad4fbb61c24",
            "value": false
          }
        },
        "84fe2ab21af94239848bf00421e9134a": {
          "model_module": "@jupyter-widgets/controls",
          "model_name": "CheckboxModel",
          "model_module_version": "1.5.0",
          "state": {
            "_dom_classes": [],
            "_model_module": "@jupyter-widgets/controls",
            "_model_module_version": "1.5.0",
            "_model_name": "CheckboxModel",
            "_view_count": null,
            "_view_module": "@jupyter-widgets/controls",
            "_view_module_version": "1.5.0",
            "_view_name": "CheckboxView",
            "description": "Is gender categorical?",
            "description_tooltip": null,
            "disabled": false,
            "indent": false,
            "layout": "IPY_MODEL_68833df862724d0589a03457c1f26fb0",
            "style": "IPY_MODEL_02cbe04c1b26478c89a54831e9b6dbd2",
            "value": false
          }
        },
        "8a4b9f8b7cdd4788b5dbe10afbb83e6c": {
          "model_module": "@jupyter-widgets/base",
          "model_name": "LayoutModel",
          "model_module_version": "1.2.0",
          "state": {
            "_model_module": "@jupyter-widgets/base",
            "_model_module_version": "1.2.0",
            "_model_name": "LayoutModel",
            "_view_count": null,
            "_view_module": "@jupyter-widgets/base",
            "_view_module_version": "1.2.0",
            "_view_name": "LayoutView",
            "align_content": null,
            "align_items": null,
            "align_self": null,
            "border": null,
            "bottom": null,
            "display": null,
            "flex": null,
            "flex_flow": null,
            "grid_area": null,
            "grid_auto_columns": null,
            "grid_auto_flow": null,
            "grid_auto_rows": null,
            "grid_column": null,
            "grid_gap": null,
            "grid_row": null,
            "grid_template_areas": null,
            "grid_template_columns": null,
            "grid_template_rows": null,
            "height": null,
            "justify_content": null,
            "justify_items": null,
            "left": null,
            "margin": null,
            "max_height": null,
            "max_width": null,
            "min_height": null,
            "min_width": null,
            "object_fit": null,
            "object_position": null,
            "order": null,
            "overflow": null,
            "overflow_x": null,
            "overflow_y": null,
            "padding": null,
            "right": null,
            "top": null,
            "visibility": null,
            "width": null
          }
        },
        "faf5e24b07b34fd2832240e06e3746f8": {
          "model_module": "@jupyter-widgets/base",
          "model_name": "LayoutModel",
          "model_module_version": "1.2.0",
          "state": {
            "_model_module": "@jupyter-widgets/base",
            "_model_module_version": "1.2.0",
            "_model_name": "LayoutModel",
            "_view_count": null,
            "_view_module": "@jupyter-widgets/base",
            "_view_module_version": "1.2.0",
            "_view_name": "LayoutView",
            "align_content": null,
            "align_items": null,
            "align_self": null,
            "border": null,
            "bottom": null,
            "display": null,
            "flex": null,
            "flex_flow": null,
            "grid_area": null,
            "grid_auto_columns": null,
            "grid_auto_flow": null,
            "grid_auto_rows": null,
            "grid_column": null,
            "grid_gap": null,
            "grid_row": null,
            "grid_template_areas": null,
            "grid_template_columns": null,
            "grid_template_rows": null,
            "height": null,
            "justify_content": null,
            "justify_items": null,
            "left": null,
            "margin": null,
            "max_height": null,
            "max_width": null,
            "min_height": null,
            "min_width": null,
            "object_fit": null,
            "object_position": null,
            "order": null,
            "overflow": null,
            "overflow_x": null,
            "overflow_y": null,
            "padding": null,
            "right": null,
            "top": null,
            "visibility": null,
            "width": null
          }
        },
        "9c3ee1a4c78b46509c2b2ad4fbb61c24": {
          "model_module": "@jupyter-widgets/controls",
          "model_name": "DescriptionStyleModel",
          "model_module_version": "1.5.0",
          "state": {
            "_model_module": "@jupyter-widgets/controls",
            "_model_module_version": "1.5.0",
            "_model_name": "DescriptionStyleModel",
            "_view_count": null,
            "_view_module": "@jupyter-widgets/base",
            "_view_module_version": "1.2.0",
            "_view_name": "StyleView",
            "description_width": ""
          }
        },
        "68833df862724d0589a03457c1f26fb0": {
          "model_module": "@jupyter-widgets/base",
          "model_name": "LayoutModel",
          "model_module_version": "1.2.0",
          "state": {
            "_model_module": "@jupyter-widgets/base",
            "_model_module_version": "1.2.0",
            "_model_name": "LayoutModel",
            "_view_count": null,
            "_view_module": "@jupyter-widgets/base",
            "_view_module_version": "1.2.0",
            "_view_name": "LayoutView",
            "align_content": null,
            "align_items": null,
            "align_self": null,
            "border": null,
            "bottom": null,
            "display": "none",
            "flex": null,
            "flex_flow": null,
            "grid_area": null,
            "grid_auto_columns": null,
            "grid_auto_flow": null,
            "grid_auto_rows": null,
            "grid_column": null,
            "grid_gap": null,
            "grid_row": null,
            "grid_template_areas": null,
            "grid_template_columns": null,
            "grid_template_rows": null,
            "height": null,
            "justify_content": null,
            "justify_items": null,
            "left": null,
            "margin": null,
            "max_height": null,
            "max_width": null,
            "min_height": null,
            "min_width": null,
            "object_fit": null,
            "object_position": null,
            "order": null,
            "overflow": null,
            "overflow_x": null,
            "overflow_y": null,
            "padding": null,
            "right": null,
            "top": null,
            "visibility": null,
            "width": null
          }
        },
        "02cbe04c1b26478c89a54831e9b6dbd2": {
          "model_module": "@jupyter-widgets/controls",
          "model_name": "DescriptionStyleModel",
          "model_module_version": "1.5.0",
          "state": {
            "_model_module": "@jupyter-widgets/controls",
            "_model_module_version": "1.5.0",
            "_model_name": "DescriptionStyleModel",
            "_view_count": null,
            "_view_module": "@jupyter-widgets/base",
            "_view_module_version": "1.2.0",
            "_view_name": "StyleView",
            "description_width": ""
          }
        },
        "dbf2508eebd546ce88a5b4a32f32dfa1": {
          "model_module": "@jupyter-widgets/controls",
          "model_name": "HBoxModel",
          "model_module_version": "1.5.0",
          "state": {
            "_dom_classes": [],
            "_model_module": "@jupyter-widgets/controls",
            "_model_module_version": "1.5.0",
            "_model_name": "HBoxModel",
            "_view_count": null,
            "_view_module": "@jupyter-widgets/controls",
            "_view_module_version": "1.5.0",
            "_view_name": "HBoxView",
            "box_style": "",
            "children": [
              "IPY_MODEL_9b54aabc6e8148b997b32f8d21ceab08",
              "IPY_MODEL_fb79e3660154405795f73ce8e5ef7d5b"
            ],
            "layout": "IPY_MODEL_e5b28ba1b70b4485954ff8a54c618723"
          }
        },
        "9b54aabc6e8148b997b32f8d21ceab08": {
          "model_module": "@jupyter-widgets/controls",
          "model_name": "CheckboxModel",
          "model_module_version": "1.5.0",
          "state": {
            "_dom_classes": [],
            "_model_module": "@jupyter-widgets/controls",
            "_model_module_version": "1.5.0",
            "_model_name": "CheckboxModel",
            "_view_count": null,
            "_view_module": "@jupyter-widgets/controls",
            "_view_module_version": "1.5.0",
            "_view_name": "CheckboxView",
            "description": "age",
            "description_tooltip": null,
            "disabled": false,
            "indent": true,
            "layout": "IPY_MODEL_b7618399d4c14c47ac75e7f3d83dabd3",
            "style": "IPY_MODEL_388a771aa6784833975f4138d359158c",
            "value": false
          }
        },
        "fb79e3660154405795f73ce8e5ef7d5b": {
          "model_module": "@jupyter-widgets/controls",
          "model_name": "CheckboxModel",
          "model_module_version": "1.5.0",
          "state": {
            "_dom_classes": [],
            "_model_module": "@jupyter-widgets/controls",
            "_model_module_version": "1.5.0",
            "_model_name": "CheckboxModel",
            "_view_count": null,
            "_view_module": "@jupyter-widgets/controls",
            "_view_module_version": "1.5.0",
            "_view_name": "CheckboxView",
            "description": "Is age categorical?",
            "description_tooltip": null,
            "disabled": false,
            "indent": false,
            "layout": "IPY_MODEL_4b724ea3b9974941b043c55ccecfc299",
            "style": "IPY_MODEL_7d2dd04c8ca943d7bf07416553723e8a",
            "value": false
          }
        },
        "e5b28ba1b70b4485954ff8a54c618723": {
          "model_module": "@jupyter-widgets/base",
          "model_name": "LayoutModel",
          "model_module_version": "1.2.0",
          "state": {
            "_model_module": "@jupyter-widgets/base",
            "_model_module_version": "1.2.0",
            "_model_name": "LayoutModel",
            "_view_count": null,
            "_view_module": "@jupyter-widgets/base",
            "_view_module_version": "1.2.0",
            "_view_name": "LayoutView",
            "align_content": null,
            "align_items": null,
            "align_self": null,
            "border": null,
            "bottom": null,
            "display": null,
            "flex": null,
            "flex_flow": null,
            "grid_area": null,
            "grid_auto_columns": null,
            "grid_auto_flow": null,
            "grid_auto_rows": null,
            "grid_column": null,
            "grid_gap": null,
            "grid_row": null,
            "grid_template_areas": null,
            "grid_template_columns": null,
            "grid_template_rows": null,
            "height": null,
            "justify_content": null,
            "justify_items": null,
            "left": null,
            "margin": null,
            "max_height": null,
            "max_width": null,
            "min_height": null,
            "min_width": null,
            "object_fit": null,
            "object_position": null,
            "order": null,
            "overflow": null,
            "overflow_x": null,
            "overflow_y": null,
            "padding": null,
            "right": null,
            "top": null,
            "visibility": null,
            "width": null
          }
        },
        "b7618399d4c14c47ac75e7f3d83dabd3": {
          "model_module": "@jupyter-widgets/base",
          "model_name": "LayoutModel",
          "model_module_version": "1.2.0",
          "state": {
            "_model_module": "@jupyter-widgets/base",
            "_model_module_version": "1.2.0",
            "_model_name": "LayoutModel",
            "_view_count": null,
            "_view_module": "@jupyter-widgets/base",
            "_view_module_version": "1.2.0",
            "_view_name": "LayoutView",
            "align_content": null,
            "align_items": null,
            "align_self": null,
            "border": null,
            "bottom": null,
            "display": null,
            "flex": null,
            "flex_flow": null,
            "grid_area": null,
            "grid_auto_columns": null,
            "grid_auto_flow": null,
            "grid_auto_rows": null,
            "grid_column": null,
            "grid_gap": null,
            "grid_row": null,
            "grid_template_areas": null,
            "grid_template_columns": null,
            "grid_template_rows": null,
            "height": null,
            "justify_content": null,
            "justify_items": null,
            "left": null,
            "margin": null,
            "max_height": null,
            "max_width": null,
            "min_height": null,
            "min_width": null,
            "object_fit": null,
            "object_position": null,
            "order": null,
            "overflow": null,
            "overflow_x": null,
            "overflow_y": null,
            "padding": null,
            "right": null,
            "top": null,
            "visibility": null,
            "width": null
          }
        },
        "388a771aa6784833975f4138d359158c": {
          "model_module": "@jupyter-widgets/controls",
          "model_name": "DescriptionStyleModel",
          "model_module_version": "1.5.0",
          "state": {
            "_model_module": "@jupyter-widgets/controls",
            "_model_module_version": "1.5.0",
            "_model_name": "DescriptionStyleModel",
            "_view_count": null,
            "_view_module": "@jupyter-widgets/base",
            "_view_module_version": "1.2.0",
            "_view_name": "StyleView",
            "description_width": ""
          }
        },
        "4b724ea3b9974941b043c55ccecfc299": {
          "model_module": "@jupyter-widgets/base",
          "model_name": "LayoutModel",
          "model_module_version": "1.2.0",
          "state": {
            "_model_module": "@jupyter-widgets/base",
            "_model_module_version": "1.2.0",
            "_model_name": "LayoutModel",
            "_view_count": null,
            "_view_module": "@jupyter-widgets/base",
            "_view_module_version": "1.2.0",
            "_view_name": "LayoutView",
            "align_content": null,
            "align_items": null,
            "align_self": null,
            "border": null,
            "bottom": null,
            "display": "none",
            "flex": null,
            "flex_flow": null,
            "grid_area": null,
            "grid_auto_columns": null,
            "grid_auto_flow": null,
            "grid_auto_rows": null,
            "grid_column": null,
            "grid_gap": null,
            "grid_row": null,
            "grid_template_areas": null,
            "grid_template_columns": null,
            "grid_template_rows": null,
            "height": null,
            "justify_content": null,
            "justify_items": null,
            "left": null,
            "margin": null,
            "max_height": null,
            "max_width": null,
            "min_height": null,
            "min_width": null,
            "object_fit": null,
            "object_position": null,
            "order": null,
            "overflow": null,
            "overflow_x": null,
            "overflow_y": null,
            "padding": null,
            "right": null,
            "top": null,
            "visibility": null,
            "width": null
          }
        },
        "7d2dd04c8ca943d7bf07416553723e8a": {
          "model_module": "@jupyter-widgets/controls",
          "model_name": "DescriptionStyleModel",
          "model_module_version": "1.5.0",
          "state": {
            "_model_module": "@jupyter-widgets/controls",
            "_model_module_version": "1.5.0",
            "_model_name": "DescriptionStyleModel",
            "_view_count": null,
            "_view_module": "@jupyter-widgets/base",
            "_view_module_version": "1.2.0",
            "_view_name": "StyleView",
            "description_width": ""
          }
        },
        "da58dfb6477d48199126f9bc1359c899": {
          "model_module": "@jupyter-widgets/controls",
          "model_name": "HBoxModel",
          "model_module_version": "1.5.0",
          "state": {
            "_dom_classes": [],
            "_model_module": "@jupyter-widgets/controls",
            "_model_module_version": "1.5.0",
            "_model_name": "HBoxModel",
            "_view_count": null,
            "_view_module": "@jupyter-widgets/controls",
            "_view_module_version": "1.5.0",
            "_view_name": "HBoxView",
            "box_style": "",
            "children": [
              "IPY_MODEL_85b153e7f3414fa69a884e613613154d",
              "IPY_MODEL_c33e0e74fb6f45828bb1e8aac4def196"
            ],
            "layout": "IPY_MODEL_3850dd2337bb4353950e1ea6b1f888d2"
          }
        },
        "85b153e7f3414fa69a884e613613154d": {
          "model_module": "@jupyter-widgets/controls",
          "model_name": "CheckboxModel",
          "model_module_version": "1.5.0",
          "state": {
            "_dom_classes": [],
            "_model_module": "@jupyter-widgets/controls",
            "_model_module_version": "1.5.0",
            "_model_name": "CheckboxModel",
            "_view_count": null,
            "_view_module": "@jupyter-widgets/controls",
            "_view_module_version": "1.5.0",
            "_view_name": "CheckboxView",
            "description": "occu",
            "description_tooltip": null,
            "disabled": false,
            "indent": true,
            "layout": "IPY_MODEL_94122b194dc94741ba60eea351e0adda",
            "style": "IPY_MODEL_6c20b1fc69824f01bf92df83592a0409",
            "value": false
          }
        },
        "c33e0e74fb6f45828bb1e8aac4def196": {
          "model_module": "@jupyter-widgets/controls",
          "model_name": "CheckboxModel",
          "model_module_version": "1.5.0",
          "state": {
            "_dom_classes": [],
            "_model_module": "@jupyter-widgets/controls",
            "_model_module_version": "1.5.0",
            "_model_name": "CheckboxModel",
            "_view_count": null,
            "_view_module": "@jupyter-widgets/controls",
            "_view_module_version": "1.5.0",
            "_view_name": "CheckboxView",
            "description": "Is occu categorical?",
            "description_tooltip": null,
            "disabled": false,
            "indent": false,
            "layout": "IPY_MODEL_dba9ac0c76514c1ab54377dc9caf3a8a",
            "style": "IPY_MODEL_2db51154e87f4aff9d3884bf518cf8ee",
            "value": false
          }
        },
        "3850dd2337bb4353950e1ea6b1f888d2": {
          "model_module": "@jupyter-widgets/base",
          "model_name": "LayoutModel",
          "model_module_version": "1.2.0",
          "state": {
            "_model_module": "@jupyter-widgets/base",
            "_model_module_version": "1.2.0",
            "_model_name": "LayoutModel",
            "_view_count": null,
            "_view_module": "@jupyter-widgets/base",
            "_view_module_version": "1.2.0",
            "_view_name": "LayoutView",
            "align_content": null,
            "align_items": null,
            "align_self": null,
            "border": null,
            "bottom": null,
            "display": null,
            "flex": null,
            "flex_flow": null,
            "grid_area": null,
            "grid_auto_columns": null,
            "grid_auto_flow": null,
            "grid_auto_rows": null,
            "grid_column": null,
            "grid_gap": null,
            "grid_row": null,
            "grid_template_areas": null,
            "grid_template_columns": null,
            "grid_template_rows": null,
            "height": null,
            "justify_content": null,
            "justify_items": null,
            "left": null,
            "margin": null,
            "max_height": null,
            "max_width": null,
            "min_height": null,
            "min_width": null,
            "object_fit": null,
            "object_position": null,
            "order": null,
            "overflow": null,
            "overflow_x": null,
            "overflow_y": null,
            "padding": null,
            "right": null,
            "top": null,
            "visibility": null,
            "width": null
          }
        },
        "94122b194dc94741ba60eea351e0adda": {
          "model_module": "@jupyter-widgets/base",
          "model_name": "LayoutModel",
          "model_module_version": "1.2.0",
          "state": {
            "_model_module": "@jupyter-widgets/base",
            "_model_module_version": "1.2.0",
            "_model_name": "LayoutModel",
            "_view_count": null,
            "_view_module": "@jupyter-widgets/base",
            "_view_module_version": "1.2.0",
            "_view_name": "LayoutView",
            "align_content": null,
            "align_items": null,
            "align_self": null,
            "border": null,
            "bottom": null,
            "display": null,
            "flex": null,
            "flex_flow": null,
            "grid_area": null,
            "grid_auto_columns": null,
            "grid_auto_flow": null,
            "grid_auto_rows": null,
            "grid_column": null,
            "grid_gap": null,
            "grid_row": null,
            "grid_template_areas": null,
            "grid_template_columns": null,
            "grid_template_rows": null,
            "height": null,
            "justify_content": null,
            "justify_items": null,
            "left": null,
            "margin": null,
            "max_height": null,
            "max_width": null,
            "min_height": null,
            "min_width": null,
            "object_fit": null,
            "object_position": null,
            "order": null,
            "overflow": null,
            "overflow_x": null,
            "overflow_y": null,
            "padding": null,
            "right": null,
            "top": null,
            "visibility": null,
            "width": null
          }
        },
        "6c20b1fc69824f01bf92df83592a0409": {
          "model_module": "@jupyter-widgets/controls",
          "model_name": "DescriptionStyleModel",
          "model_module_version": "1.5.0",
          "state": {
            "_model_module": "@jupyter-widgets/controls",
            "_model_module_version": "1.5.0",
            "_model_name": "DescriptionStyleModel",
            "_view_count": null,
            "_view_module": "@jupyter-widgets/base",
            "_view_module_version": "1.2.0",
            "_view_name": "StyleView",
            "description_width": ""
          }
        },
        "dba9ac0c76514c1ab54377dc9caf3a8a": {
          "model_module": "@jupyter-widgets/base",
          "model_name": "LayoutModel",
          "model_module_version": "1.2.0",
          "state": {
            "_model_module": "@jupyter-widgets/base",
            "_model_module_version": "1.2.0",
            "_model_name": "LayoutModel",
            "_view_count": null,
            "_view_module": "@jupyter-widgets/base",
            "_view_module_version": "1.2.0",
            "_view_name": "LayoutView",
            "align_content": null,
            "align_items": null,
            "align_self": null,
            "border": null,
            "bottom": null,
            "display": "none",
            "flex": null,
            "flex_flow": null,
            "grid_area": null,
            "grid_auto_columns": null,
            "grid_auto_flow": null,
            "grid_auto_rows": null,
            "grid_column": null,
            "grid_gap": null,
            "grid_row": null,
            "grid_template_areas": null,
            "grid_template_columns": null,
            "grid_template_rows": null,
            "height": null,
            "justify_content": null,
            "justify_items": null,
            "left": null,
            "margin": null,
            "max_height": null,
            "max_width": null,
            "min_height": null,
            "min_width": null,
            "object_fit": null,
            "object_position": null,
            "order": null,
            "overflow": null,
            "overflow_x": null,
            "overflow_y": null,
            "padding": null,
            "right": null,
            "top": null,
            "visibility": null,
            "width": null
          }
        },
        "2db51154e87f4aff9d3884bf518cf8ee": {
          "model_module": "@jupyter-widgets/controls",
          "model_name": "DescriptionStyleModel",
          "model_module_version": "1.5.0",
          "state": {
            "_model_module": "@jupyter-widgets/controls",
            "_model_module_version": "1.5.0",
            "_model_name": "DescriptionStyleModel",
            "_view_count": null,
            "_view_module": "@jupyter-widgets/base",
            "_view_module_version": "1.2.0",
            "_view_name": "StyleView",
            "description_width": ""
          }
        },
        "87ef6673a30244a09dc74d592fd9e332": {
          "model_module": "@jupyter-widgets/controls",
          "model_name": "HBoxModel",
          "model_module_version": "1.5.0",
          "state": {
            "_dom_classes": [],
            "_model_module": "@jupyter-widgets/controls",
            "_model_module_version": "1.5.0",
            "_model_name": "HBoxModel",
            "_view_count": null,
            "_view_module": "@jupyter-widgets/controls",
            "_view_module_version": "1.5.0",
            "_view_name": "HBoxView",
            "box_style": "",
            "children": [
              "IPY_MODEL_c878b258f0fd464593c393df3778544d",
              "IPY_MODEL_b17b17adc3ac49f5b1bef04cfde90c18"
            ],
            "layout": "IPY_MODEL_fcb8a4443337486782a54c5705df6af8"
          }
        },
        "c878b258f0fd464593c393df3778544d": {
          "model_module": "@jupyter-widgets/controls",
          "model_name": "CheckboxModel",
          "model_module_version": "1.5.0",
          "state": {
            "_dom_classes": [],
            "_model_module": "@jupyter-widgets/controls",
            "_model_module_version": "1.5.0",
            "_model_name": "CheckboxModel",
            "_view_count": null,
            "_view_module": "@jupyter-widgets/controls",
            "_view_module_version": "1.5.0",
            "_view_name": "CheckboxView",
            "description": "is_student",
            "description_tooltip": null,
            "disabled": false,
            "indent": true,
            "layout": "IPY_MODEL_5577fc4b8db44b97beaa18c406f393a8",
            "style": "IPY_MODEL_d3dc8cce78dd4f2680b5c63f52b8401b",
            "value": false
          }
        },
        "b17b17adc3ac49f5b1bef04cfde90c18": {
          "model_module": "@jupyter-widgets/controls",
          "model_name": "CheckboxModel",
          "model_module_version": "1.5.0",
          "state": {
            "_dom_classes": [],
            "_model_module": "@jupyter-widgets/controls",
            "_model_module_version": "1.5.0",
            "_model_name": "CheckboxModel",
            "_view_count": null,
            "_view_module": "@jupyter-widgets/controls",
            "_view_module_version": "1.5.0",
            "_view_name": "CheckboxView",
            "description": "Is is_student categorical?",
            "description_tooltip": null,
            "disabled": false,
            "indent": false,
            "layout": "IPY_MODEL_9f7426adb4b243a8b32932d42c8f343a",
            "style": "IPY_MODEL_0598e2cc704543d1b855446319dc5915",
            "value": false
          }
        },
        "fcb8a4443337486782a54c5705df6af8": {
          "model_module": "@jupyter-widgets/base",
          "model_name": "LayoutModel",
          "model_module_version": "1.2.0",
          "state": {
            "_model_module": "@jupyter-widgets/base",
            "_model_module_version": "1.2.0",
            "_model_name": "LayoutModel",
            "_view_count": null,
            "_view_module": "@jupyter-widgets/base",
            "_view_module_version": "1.2.0",
            "_view_name": "LayoutView",
            "align_content": null,
            "align_items": null,
            "align_self": null,
            "border": null,
            "bottom": null,
            "display": null,
            "flex": null,
            "flex_flow": null,
            "grid_area": null,
            "grid_auto_columns": null,
            "grid_auto_flow": null,
            "grid_auto_rows": null,
            "grid_column": null,
            "grid_gap": null,
            "grid_row": null,
            "grid_template_areas": null,
            "grid_template_columns": null,
            "grid_template_rows": null,
            "height": null,
            "justify_content": null,
            "justify_items": null,
            "left": null,
            "margin": null,
            "max_height": null,
            "max_width": null,
            "min_height": null,
            "min_width": null,
            "object_fit": null,
            "object_position": null,
            "order": null,
            "overflow": null,
            "overflow_x": null,
            "overflow_y": null,
            "padding": null,
            "right": null,
            "top": null,
            "visibility": null,
            "width": null
          }
        },
        "5577fc4b8db44b97beaa18c406f393a8": {
          "model_module": "@jupyter-widgets/base",
          "model_name": "LayoutModel",
          "model_module_version": "1.2.0",
          "state": {
            "_model_module": "@jupyter-widgets/base",
            "_model_module_version": "1.2.0",
            "_model_name": "LayoutModel",
            "_view_count": null,
            "_view_module": "@jupyter-widgets/base",
            "_view_module_version": "1.2.0",
            "_view_name": "LayoutView",
            "align_content": null,
            "align_items": null,
            "align_self": null,
            "border": null,
            "bottom": null,
            "display": null,
            "flex": null,
            "flex_flow": null,
            "grid_area": null,
            "grid_auto_columns": null,
            "grid_auto_flow": null,
            "grid_auto_rows": null,
            "grid_column": null,
            "grid_gap": null,
            "grid_row": null,
            "grid_template_areas": null,
            "grid_template_columns": null,
            "grid_template_rows": null,
            "height": null,
            "justify_content": null,
            "justify_items": null,
            "left": null,
            "margin": null,
            "max_height": null,
            "max_width": null,
            "min_height": null,
            "min_width": null,
            "object_fit": null,
            "object_position": null,
            "order": null,
            "overflow": null,
            "overflow_x": null,
            "overflow_y": null,
            "padding": null,
            "right": null,
            "top": null,
            "visibility": null,
            "width": null
          }
        },
        "d3dc8cce78dd4f2680b5c63f52b8401b": {
          "model_module": "@jupyter-widgets/controls",
          "model_name": "DescriptionStyleModel",
          "model_module_version": "1.5.0",
          "state": {
            "_model_module": "@jupyter-widgets/controls",
            "_model_module_version": "1.5.0",
            "_model_name": "DescriptionStyleModel",
            "_view_count": null,
            "_view_module": "@jupyter-widgets/base",
            "_view_module_version": "1.2.0",
            "_view_name": "StyleView",
            "description_width": ""
          }
        },
        "9f7426adb4b243a8b32932d42c8f343a": {
          "model_module": "@jupyter-widgets/base",
          "model_name": "LayoutModel",
          "model_module_version": "1.2.0",
          "state": {
            "_model_module": "@jupyter-widgets/base",
            "_model_module_version": "1.2.0",
            "_model_name": "LayoutModel",
            "_view_count": null,
            "_view_module": "@jupyter-widgets/base",
            "_view_module_version": "1.2.0",
            "_view_name": "LayoutView",
            "align_content": null,
            "align_items": null,
            "align_self": null,
            "border": null,
            "bottom": null,
            "display": "none",
            "flex": null,
            "flex_flow": null,
            "grid_area": null,
            "grid_auto_columns": null,
            "grid_auto_flow": null,
            "grid_auto_rows": null,
            "grid_column": null,
            "grid_gap": null,
            "grid_row": null,
            "grid_template_areas": null,
            "grid_template_columns": null,
            "grid_template_rows": null,
            "height": null,
            "justify_content": null,
            "justify_items": null,
            "left": null,
            "margin": null,
            "max_height": null,
            "max_width": null,
            "min_height": null,
            "min_width": null,
            "object_fit": null,
            "object_position": null,
            "order": null,
            "overflow": null,
            "overflow_x": null,
            "overflow_y": null,
            "padding": null,
            "right": null,
            "top": null,
            "visibility": null,
            "width": null
          }
        },
        "0598e2cc704543d1b855446319dc5915": {
          "model_module": "@jupyter-widgets/controls",
          "model_name": "DescriptionStyleModel",
          "model_module_version": "1.5.0",
          "state": {
            "_model_module": "@jupyter-widgets/controls",
            "_model_module_version": "1.5.0",
            "_model_name": "DescriptionStyleModel",
            "_view_count": null,
            "_view_module": "@jupyter-widgets/base",
            "_view_module_version": "1.2.0",
            "_view_name": "StyleView",
            "description_width": ""
          }
        },
        "ad2f5ad24b424da3b4385d373c8eade3": {
          "model_module": "@jupyter-widgets/controls",
          "model_name": "LabelModel",
          "model_module_version": "1.5.0",
          "state": {
            "_dom_classes": [],
            "_model_module": "@jupyter-widgets/controls",
            "_model_module_version": "1.5.0",
            "_model_name": "LabelModel",
            "_view_count": null,
            "_view_module": "@jupyter-widgets/controls",
            "_view_module_version": "1.5.0",
            "_view_name": "LabelView",
            "description": "",
            "description_tooltip": null,
            "layout": "IPY_MODEL_b4c6fb1b902d4ea096f341a66008ec79",
            "placeholder": "​",
            "style": "IPY_MODEL_517cbc466ae547c496582f03b208ab51",
            "value": "Controls:"
          }
        },
        "b4c6fb1b902d4ea096f341a66008ec79": {
          "model_module": "@jupyter-widgets/base",
          "model_name": "LayoutModel",
          "model_module_version": "1.2.0",
          "state": {
            "_model_module": "@jupyter-widgets/base",
            "_model_module_version": "1.2.0",
            "_model_name": "LayoutModel",
            "_view_count": null,
            "_view_module": "@jupyter-widgets/base",
            "_view_module_version": "1.2.0",
            "_view_name": "LayoutView",
            "align_content": null,
            "align_items": null,
            "align_self": null,
            "border": null,
            "bottom": null,
            "display": null,
            "flex": null,
            "flex_flow": null,
            "grid_area": null,
            "grid_auto_columns": null,
            "grid_auto_flow": null,
            "grid_auto_rows": null,
            "grid_column": null,
            "grid_gap": null,
            "grid_row": null,
            "grid_template_areas": null,
            "grid_template_columns": null,
            "grid_template_rows": null,
            "height": null,
            "justify_content": null,
            "justify_items": null,
            "left": null,
            "margin": null,
            "max_height": null,
            "max_width": null,
            "min_height": null,
            "min_width": null,
            "object_fit": null,
            "object_position": null,
            "order": null,
            "overflow": null,
            "overflow_x": null,
            "overflow_y": null,
            "padding": null,
            "right": null,
            "top": null,
            "visibility": null,
            "width": null
          }
        },
        "517cbc466ae547c496582f03b208ab51": {
          "model_module": "@jupyter-widgets/controls",
          "model_name": "DescriptionStyleModel",
          "model_module_version": "1.5.0",
          "state": {
            "_model_module": "@jupyter-widgets/controls",
            "_model_module_version": "1.5.0",
            "_model_name": "DescriptionStyleModel",
            "_view_count": null,
            "_view_module": "@jupyter-widgets/base",
            "_view_module_version": "1.2.0",
            "_view_name": "StyleView",
            "description_width": ""
          }
        },
        "166514e580b6450e95f62504a480d3af": {
          "model_module": "@jupyter-widgets/controls",
          "model_name": "HBoxModel",
          "model_module_version": "1.5.0",
          "state": {
            "_dom_classes": [],
            "_model_module": "@jupyter-widgets/controls",
            "_model_module_version": "1.5.0",
            "_model_name": "HBoxModel",
            "_view_count": null,
            "_view_module": "@jupyter-widgets/controls",
            "_view_module_version": "1.5.0",
            "_view_name": "HBoxView",
            "box_style": "",
            "children": [
              "IPY_MODEL_e5ad3e6fa74b480e9c1324f160de41b3",
              "IPY_MODEL_84fe2ab21af94239848bf00421e9134a"
            ],
            "layout": "IPY_MODEL_33b4209e91d64c2a81a2625bca196436"
          }
        },
        "e5ad3e6fa74b480e9c1324f160de41b3": {
          "model_module": "@jupyter-widgets/controls",
          "model_name": "CheckboxModel",
          "model_module_version": "1.5.0",
          "state": {
            "_dom_classes": [],
            "_model_module": "@jupyter-widgets/controls",
            "_model_module_version": "1.5.0",
            "_model_name": "CheckboxModel",
            "_view_count": null,
            "_view_module": "@jupyter-widgets/controls",
            "_view_module_version": "1.5.0",
            "_view_name": "CheckboxView",
            "description": "gender",
            "description_tooltip": null,
            "disabled": false,
            "indent": true,
            "layout": "IPY_MODEL_a75de5aa32e44d14ba69e25b7b0734d7",
            "style": "IPY_MODEL_4befc6a325a14c34b4d817b4320583a7",
            "value": false
          }
        },
        "33b4209e91d64c2a81a2625bca196436": {
          "model_module": "@jupyter-widgets/base",
          "model_name": "LayoutModel",
          "model_module_version": "1.2.0",
          "state": {
            "_model_module": "@jupyter-widgets/base",
            "_model_module_version": "1.2.0",
            "_model_name": "LayoutModel",
            "_view_count": null,
            "_view_module": "@jupyter-widgets/base",
            "_view_module_version": "1.2.0",
            "_view_name": "LayoutView",
            "align_content": null,
            "align_items": null,
            "align_self": null,
            "border": null,
            "bottom": null,
            "display": null,
            "flex": null,
            "flex_flow": null,
            "grid_area": null,
            "grid_auto_columns": null,
            "grid_auto_flow": null,
            "grid_auto_rows": null,
            "grid_column": null,
            "grid_gap": null,
            "grid_row": null,
            "grid_template_areas": null,
            "grid_template_columns": null,
            "grid_template_rows": null,
            "height": null,
            "justify_content": null,
            "justify_items": null,
            "left": null,
            "margin": null,
            "max_height": null,
            "max_width": null,
            "min_height": null,
            "min_width": null,
            "object_fit": null,
            "object_position": null,
            "order": null,
            "overflow": null,
            "overflow_x": null,
            "overflow_y": null,
            "padding": null,
            "right": null,
            "top": null,
            "visibility": null,
            "width": null
          }
        },
        "a75de5aa32e44d14ba69e25b7b0734d7": {
          "model_module": "@jupyter-widgets/base",
          "model_name": "LayoutModel",
          "model_module_version": "1.2.0",
          "state": {
            "_model_module": "@jupyter-widgets/base",
            "_model_module_version": "1.2.0",
            "_model_name": "LayoutModel",
            "_view_count": null,
            "_view_module": "@jupyter-widgets/base",
            "_view_module_version": "1.2.0",
            "_view_name": "LayoutView",
            "align_content": null,
            "align_items": null,
            "align_self": null,
            "border": null,
            "bottom": null,
            "display": null,
            "flex": null,
            "flex_flow": null,
            "grid_area": null,
            "grid_auto_columns": null,
            "grid_auto_flow": null,
            "grid_auto_rows": null,
            "grid_column": null,
            "grid_gap": null,
            "grid_row": null,
            "grid_template_areas": null,
            "grid_template_columns": null,
            "grid_template_rows": null,
            "height": null,
            "justify_content": null,
            "justify_items": null,
            "left": null,
            "margin": null,
            "max_height": null,
            "max_width": null,
            "min_height": null,
            "min_width": null,
            "object_fit": null,
            "object_position": null,
            "order": null,
            "overflow": null,
            "overflow_x": null,
            "overflow_y": null,
            "padding": null,
            "right": null,
            "top": null,
            "visibility": null,
            "width": null
          }
        },
        "4befc6a325a14c34b4d817b4320583a7": {
          "model_module": "@jupyter-widgets/controls",
          "model_name": "DescriptionStyleModel",
          "model_module_version": "1.5.0",
          "state": {
            "_model_module": "@jupyter-widgets/controls",
            "_model_module_version": "1.5.0",
            "_model_name": "DescriptionStyleModel",
            "_view_count": null,
            "_view_module": "@jupyter-widgets/base",
            "_view_module_version": "1.2.0",
            "_view_name": "StyleView",
            "description_width": ""
          }
        },
        "a18eda424b8e4efca0b119e0f47059b8": {
          "model_module": "@jupyter-widgets/controls",
          "model_name": "HBoxModel",
          "model_module_version": "1.5.0",
          "state": {
            "_dom_classes": [],
            "_model_module": "@jupyter-widgets/controls",
            "_model_module_version": "1.5.0",
            "_model_name": "HBoxModel",
            "_view_count": null,
            "_view_module": "@jupyter-widgets/controls",
            "_view_module_version": "1.5.0",
            "_view_name": "HBoxView",
            "box_style": "",
            "children": [
              "IPY_MODEL_0866508f491b4651be1772d8f02c444b",
              "IPY_MODEL_fb79e3660154405795f73ce8e5ef7d5b"
            ],
            "layout": "IPY_MODEL_1657223d6d4f4a10bed1a99d17da4dc9"
          }
        },
        "0866508f491b4651be1772d8f02c444b": {
          "model_module": "@jupyter-widgets/controls",
          "model_name": "CheckboxModel",
          "model_module_version": "1.5.0",
          "state": {
            "_dom_classes": [],
            "_model_module": "@jupyter-widgets/controls",
            "_model_module_version": "1.5.0",
            "_model_name": "CheckboxModel",
            "_view_count": null,
            "_view_module": "@jupyter-widgets/controls",
            "_view_module_version": "1.5.0",
            "_view_name": "CheckboxView",
            "description": "age",
            "description_tooltip": null,
            "disabled": false,
            "indent": true,
            "layout": "IPY_MODEL_21ed7e77d91046ddb64ae7c69c04f2cc",
            "style": "IPY_MODEL_a7731de71f134d5faa5045f4d39d6203",
            "value": false
          }
        },
        "1657223d6d4f4a10bed1a99d17da4dc9": {
          "model_module": "@jupyter-widgets/base",
          "model_name": "LayoutModel",
          "model_module_version": "1.2.0",
          "state": {
            "_model_module": "@jupyter-widgets/base",
            "_model_module_version": "1.2.0",
            "_model_name": "LayoutModel",
            "_view_count": null,
            "_view_module": "@jupyter-widgets/base",
            "_view_module_version": "1.2.0",
            "_view_name": "LayoutView",
            "align_content": null,
            "align_items": null,
            "align_self": null,
            "border": null,
            "bottom": null,
            "display": null,
            "flex": null,
            "flex_flow": null,
            "grid_area": null,
            "grid_auto_columns": null,
            "grid_auto_flow": null,
            "grid_auto_rows": null,
            "grid_column": null,
            "grid_gap": null,
            "grid_row": null,
            "grid_template_areas": null,
            "grid_template_columns": null,
            "grid_template_rows": null,
            "height": null,
            "justify_content": null,
            "justify_items": null,
            "left": null,
            "margin": null,
            "max_height": null,
            "max_width": null,
            "min_height": null,
            "min_width": null,
            "object_fit": null,
            "object_position": null,
            "order": null,
            "overflow": null,
            "overflow_x": null,
            "overflow_y": null,
            "padding": null,
            "right": null,
            "top": null,
            "visibility": null,
            "width": null
          }
        },
        "21ed7e77d91046ddb64ae7c69c04f2cc": {
          "model_module": "@jupyter-widgets/base",
          "model_name": "LayoutModel",
          "model_module_version": "1.2.0",
          "state": {
            "_model_module": "@jupyter-widgets/base",
            "_model_module_version": "1.2.0",
            "_model_name": "LayoutModel",
            "_view_count": null,
            "_view_module": "@jupyter-widgets/base",
            "_view_module_version": "1.2.0",
            "_view_name": "LayoutView",
            "align_content": null,
            "align_items": null,
            "align_self": null,
            "border": null,
            "bottom": null,
            "display": null,
            "flex": null,
            "flex_flow": null,
            "grid_area": null,
            "grid_auto_columns": null,
            "grid_auto_flow": null,
            "grid_auto_rows": null,
            "grid_column": null,
            "grid_gap": null,
            "grid_row": null,
            "grid_template_areas": null,
            "grid_template_columns": null,
            "grid_template_rows": null,
            "height": null,
            "justify_content": null,
            "justify_items": null,
            "left": null,
            "margin": null,
            "max_height": null,
            "max_width": null,
            "min_height": null,
            "min_width": null,
            "object_fit": null,
            "object_position": null,
            "order": null,
            "overflow": null,
            "overflow_x": null,
            "overflow_y": null,
            "padding": null,
            "right": null,
            "top": null,
            "visibility": null,
            "width": null
          }
        },
        "a7731de71f134d5faa5045f4d39d6203": {
          "model_module": "@jupyter-widgets/controls",
          "model_name": "DescriptionStyleModel",
          "model_module_version": "1.5.0",
          "state": {
            "_model_module": "@jupyter-widgets/controls",
            "_model_module_version": "1.5.0",
            "_model_name": "DescriptionStyleModel",
            "_view_count": null,
            "_view_module": "@jupyter-widgets/base",
            "_view_module_version": "1.2.0",
            "_view_name": "StyleView",
            "description_width": ""
          }
        },
        "11c0475ad2ee4362abfd344f181e5f07": {
          "model_module": "@jupyter-widgets/controls",
          "model_name": "HBoxModel",
          "model_module_version": "1.5.0",
          "state": {
            "_dom_classes": [],
            "_model_module": "@jupyter-widgets/controls",
            "_model_module_version": "1.5.0",
            "_model_name": "HBoxModel",
            "_view_count": null,
            "_view_module": "@jupyter-widgets/controls",
            "_view_module_version": "1.5.0",
            "_view_name": "HBoxView",
            "box_style": "",
            "children": [
              "IPY_MODEL_36b64f5a65bc4b69a3fb22f5c5c3acd3",
              "IPY_MODEL_c33e0e74fb6f45828bb1e8aac4def196"
            ],
            "layout": "IPY_MODEL_0dc3450e19f74a4b81ef41b31925d5f2"
          }
        },
        "36b64f5a65bc4b69a3fb22f5c5c3acd3": {
          "model_module": "@jupyter-widgets/controls",
          "model_name": "CheckboxModel",
          "model_module_version": "1.5.0",
          "state": {
            "_dom_classes": [],
            "_model_module": "@jupyter-widgets/controls",
            "_model_module_version": "1.5.0",
            "_model_name": "CheckboxModel",
            "_view_count": null,
            "_view_module": "@jupyter-widgets/controls",
            "_view_module_version": "1.5.0",
            "_view_name": "CheckboxView",
            "description": "occu",
            "description_tooltip": null,
            "disabled": false,
            "indent": true,
            "layout": "IPY_MODEL_bc88c559b7074f03b4ea6a510ded727f",
            "style": "IPY_MODEL_17a0ee883857480c91865441727f65c0",
            "value": false
          }
        },
        "0dc3450e19f74a4b81ef41b31925d5f2": {
          "model_module": "@jupyter-widgets/base",
          "model_name": "LayoutModel",
          "model_module_version": "1.2.0",
          "state": {
            "_model_module": "@jupyter-widgets/base",
            "_model_module_version": "1.2.0",
            "_model_name": "LayoutModel",
            "_view_count": null,
            "_view_module": "@jupyter-widgets/base",
            "_view_module_version": "1.2.0",
            "_view_name": "LayoutView",
            "align_content": null,
            "align_items": null,
            "align_self": null,
            "border": null,
            "bottom": null,
            "display": null,
            "flex": null,
            "flex_flow": null,
            "grid_area": null,
            "grid_auto_columns": null,
            "grid_auto_flow": null,
            "grid_auto_rows": null,
            "grid_column": null,
            "grid_gap": null,
            "grid_row": null,
            "grid_template_areas": null,
            "grid_template_columns": null,
            "grid_template_rows": null,
            "height": null,
            "justify_content": null,
            "justify_items": null,
            "left": null,
            "margin": null,
            "max_height": null,
            "max_width": null,
            "min_height": null,
            "min_width": null,
            "object_fit": null,
            "object_position": null,
            "order": null,
            "overflow": null,
            "overflow_x": null,
            "overflow_y": null,
            "padding": null,
            "right": null,
            "top": null,
            "visibility": null,
            "width": null
          }
        },
        "bc88c559b7074f03b4ea6a510ded727f": {
          "model_module": "@jupyter-widgets/base",
          "model_name": "LayoutModel",
          "model_module_version": "1.2.0",
          "state": {
            "_model_module": "@jupyter-widgets/base",
            "_model_module_version": "1.2.0",
            "_model_name": "LayoutModel",
            "_view_count": null,
            "_view_module": "@jupyter-widgets/base",
            "_view_module_version": "1.2.0",
            "_view_name": "LayoutView",
            "align_content": null,
            "align_items": null,
            "align_self": null,
            "border": null,
            "bottom": null,
            "display": null,
            "flex": null,
            "flex_flow": null,
            "grid_area": null,
            "grid_auto_columns": null,
            "grid_auto_flow": null,
            "grid_auto_rows": null,
            "grid_column": null,
            "grid_gap": null,
            "grid_row": null,
            "grid_template_areas": null,
            "grid_template_columns": null,
            "grid_template_rows": null,
            "height": null,
            "justify_content": null,
            "justify_items": null,
            "left": null,
            "margin": null,
            "max_height": null,
            "max_width": null,
            "min_height": null,
            "min_width": null,
            "object_fit": null,
            "object_position": null,
            "order": null,
            "overflow": null,
            "overflow_x": null,
            "overflow_y": null,
            "padding": null,
            "right": null,
            "top": null,
            "visibility": null,
            "width": null
          }
        },
        "17a0ee883857480c91865441727f65c0": {
          "model_module": "@jupyter-widgets/controls",
          "model_name": "DescriptionStyleModel",
          "model_module_version": "1.5.0",
          "state": {
            "_model_module": "@jupyter-widgets/controls",
            "_model_module_version": "1.5.0",
            "_model_name": "DescriptionStyleModel",
            "_view_count": null,
            "_view_module": "@jupyter-widgets/base",
            "_view_module_version": "1.2.0",
            "_view_name": "StyleView",
            "description_width": ""
          }
        },
        "afcb2370556f43dcb9fbd8014100c075": {
          "model_module": "@jupyter-widgets/controls",
          "model_name": "HBoxModel",
          "model_module_version": "1.5.0",
          "state": {
            "_dom_classes": [],
            "_model_module": "@jupyter-widgets/controls",
            "_model_module_version": "1.5.0",
            "_model_name": "HBoxModel",
            "_view_count": null,
            "_view_module": "@jupyter-widgets/controls",
            "_view_module_version": "1.5.0",
            "_view_name": "HBoxView",
            "box_style": "",
            "children": [
              "IPY_MODEL_4c8f31cadf884564b90e12402e47e8b2",
              "IPY_MODEL_b17b17adc3ac49f5b1bef04cfde90c18"
            ],
            "layout": "IPY_MODEL_089e7054281047b6ab8bdf6f7904ddc4"
          }
        },
        "4c8f31cadf884564b90e12402e47e8b2": {
          "model_module": "@jupyter-widgets/controls",
          "model_name": "CheckboxModel",
          "model_module_version": "1.5.0",
          "state": {
            "_dom_classes": [],
            "_model_module": "@jupyter-widgets/controls",
            "_model_module_version": "1.5.0",
            "_model_name": "CheckboxModel",
            "_view_count": null,
            "_view_module": "@jupyter-widgets/controls",
            "_view_module_version": "1.5.0",
            "_view_name": "CheckboxView",
            "description": "is_student",
            "description_tooltip": null,
            "disabled": false,
            "indent": true,
            "layout": "IPY_MODEL_9885aa67231249768e0685b2e688f4b3",
            "style": "IPY_MODEL_f2f2e9ec980e4a04b3aa953116324e6a",
            "value": false
          }
        },
        "089e7054281047b6ab8bdf6f7904ddc4": {
          "model_module": "@jupyter-widgets/base",
          "model_name": "LayoutModel",
          "model_module_version": "1.2.0",
          "state": {
            "_model_module": "@jupyter-widgets/base",
            "_model_module_version": "1.2.0",
            "_model_name": "LayoutModel",
            "_view_count": null,
            "_view_module": "@jupyter-widgets/base",
            "_view_module_version": "1.2.0",
            "_view_name": "LayoutView",
            "align_content": null,
            "align_items": null,
            "align_self": null,
            "border": null,
            "bottom": null,
            "display": null,
            "flex": null,
            "flex_flow": null,
            "grid_area": null,
            "grid_auto_columns": null,
            "grid_auto_flow": null,
            "grid_auto_rows": null,
            "grid_column": null,
            "grid_gap": null,
            "grid_row": null,
            "grid_template_areas": null,
            "grid_template_columns": null,
            "grid_template_rows": null,
            "height": null,
            "justify_content": null,
            "justify_items": null,
            "left": null,
            "margin": null,
            "max_height": null,
            "max_width": null,
            "min_height": null,
            "min_width": null,
            "object_fit": null,
            "object_position": null,
            "order": null,
            "overflow": null,
            "overflow_x": null,
            "overflow_y": null,
            "padding": null,
            "right": null,
            "top": null,
            "visibility": null,
            "width": null
          }
        },
        "9885aa67231249768e0685b2e688f4b3": {
          "model_module": "@jupyter-widgets/base",
          "model_name": "LayoutModel",
          "model_module_version": "1.2.0",
          "state": {
            "_model_module": "@jupyter-widgets/base",
            "_model_module_version": "1.2.0",
            "_model_name": "LayoutModel",
            "_view_count": null,
            "_view_module": "@jupyter-widgets/base",
            "_view_module_version": "1.2.0",
            "_view_name": "LayoutView",
            "align_content": null,
            "align_items": null,
            "align_self": null,
            "border": null,
            "bottom": null,
            "display": null,
            "flex": null,
            "flex_flow": null,
            "grid_area": null,
            "grid_auto_columns": null,
            "grid_auto_flow": null,
            "grid_auto_rows": null,
            "grid_column": null,
            "grid_gap": null,
            "grid_row": null,
            "grid_template_areas": null,
            "grid_template_columns": null,
            "grid_template_rows": null,
            "height": null,
            "justify_content": null,
            "justify_items": null,
            "left": null,
            "margin": null,
            "max_height": null,
            "max_width": null,
            "min_height": null,
            "min_width": null,
            "object_fit": null,
            "object_position": null,
            "order": null,
            "overflow": null,
            "overflow_x": null,
            "overflow_y": null,
            "padding": null,
            "right": null,
            "top": null,
            "visibility": null,
            "width": null
          }
        },
        "f2f2e9ec980e4a04b3aa953116324e6a": {
          "model_module": "@jupyter-widgets/controls",
          "model_name": "DescriptionStyleModel",
          "model_module_version": "1.5.0",
          "state": {
            "_model_module": "@jupyter-widgets/controls",
            "_model_module_version": "1.5.0",
            "_model_name": "DescriptionStyleModel",
            "_view_count": null,
            "_view_module": "@jupyter-widgets/base",
            "_view_module_version": "1.2.0",
            "_view_name": "StyleView",
            "description_width": ""
          }
        },
        "0e06f3d0d03a45b09e45b5311e78c556": {
          "model_module": "@jupyter-widgets/controls",
          "model_name": "LabelModel",
          "model_module_version": "1.5.0",
          "state": {
            "_dom_classes": [],
            "_model_module": "@jupyter-widgets/controls",
            "_model_module_version": "1.5.0",
            "_model_name": "LabelModel",
            "_view_count": null,
            "_view_module": "@jupyter-widgets/controls",
            "_view_module_version": "1.5.0",
            "_view_name": "LabelView",
            "description": "",
            "description_tooltip": null,
            "layout": "IPY_MODEL_6b135e82abdc4166b50cf47851d7691d",
            "placeholder": "​",
            "style": "IPY_MODEL_f608d91b354043bfb2b6a3dfab301349",
            "value": "Make Wordclouds:"
          }
        },
        "6b135e82abdc4166b50cf47851d7691d": {
          "model_module": "@jupyter-widgets/base",
          "model_name": "LayoutModel",
          "model_module_version": "1.2.0",
          "state": {
            "_model_module": "@jupyter-widgets/base",
            "_model_module_version": "1.2.0",
            "_model_name": "LayoutModel",
            "_view_count": null,
            "_view_module": "@jupyter-widgets/base",
            "_view_module_version": "1.2.0",
            "_view_name": "LayoutView",
            "align_content": null,
            "align_items": null,
            "align_self": null,
            "border": null,
            "bottom": null,
            "display": null,
            "flex": null,
            "flex_flow": null,
            "grid_area": null,
            "grid_auto_columns": null,
            "grid_auto_flow": null,
            "grid_auto_rows": null,
            "grid_column": null,
            "grid_gap": null,
            "grid_row": null,
            "grid_template_areas": null,
            "grid_template_columns": null,
            "grid_template_rows": null,
            "height": null,
            "justify_content": null,
            "justify_items": null,
            "left": null,
            "margin": null,
            "max_height": null,
            "max_width": null,
            "min_height": null,
            "min_width": null,
            "object_fit": null,
            "object_position": null,
            "order": null,
            "overflow": null,
            "overflow_x": null,
            "overflow_y": null,
            "padding": null,
            "right": null,
            "top": null,
            "visibility": null,
            "width": null
          }
        },
        "f608d91b354043bfb2b6a3dfab301349": {
          "model_module": "@jupyter-widgets/controls",
          "model_name": "DescriptionStyleModel",
          "model_module_version": "1.5.0",
          "state": {
            "_model_module": "@jupyter-widgets/controls",
            "_model_module_version": "1.5.0",
            "_model_name": "DescriptionStyleModel",
            "_view_count": null,
            "_view_module": "@jupyter-widgets/base",
            "_view_module_version": "1.2.0",
            "_view_name": "StyleView",
            "description_width": ""
          }
        },
        "3b5ed29d53f246978ef43169abf5eb12": {
          "model_module": "@jupyter-widgets/controls",
          "model_name": "CheckboxModel",
          "model_module_version": "1.5.0",
          "state": {
            "_dom_classes": [],
            "_model_module": "@jupyter-widgets/controls",
            "_model_module_version": "1.5.0",
            "_model_name": "CheckboxModel",
            "_view_count": null,
            "_view_module": "@jupyter-widgets/controls",
            "_view_module_version": "1.5.0",
            "_view_name": "CheckboxView",
            "description": "Enable Wordclouds",
            "description_tooltip": null,
            "disabled": false,
            "indent": true,
            "layout": "IPY_MODEL_b36eb410d2594599b2d2d5aa30665316",
            "style": "IPY_MODEL_cb249ccf670647bba64a1b09737653b9",
            "value": false
          }
        },
        "b36eb410d2594599b2d2d5aa30665316": {
          "model_module": "@jupyter-widgets/base",
          "model_name": "LayoutModel",
          "model_module_version": "1.2.0",
          "state": {
            "_model_module": "@jupyter-widgets/base",
            "_model_module_version": "1.2.0",
            "_model_name": "LayoutModel",
            "_view_count": null,
            "_view_module": "@jupyter-widgets/base",
            "_view_module_version": "1.2.0",
            "_view_name": "LayoutView",
            "align_content": null,
            "align_items": null,
            "align_self": null,
            "border": null,
            "bottom": null,
            "display": null,
            "flex": null,
            "flex_flow": null,
            "grid_area": null,
            "grid_auto_columns": null,
            "grid_auto_flow": null,
            "grid_auto_rows": null,
            "grid_column": null,
            "grid_gap": null,
            "grid_row": null,
            "grid_template_areas": null,
            "grid_template_columns": null,
            "grid_template_rows": null,
            "height": null,
            "justify_content": null,
            "justify_items": null,
            "left": null,
            "margin": null,
            "max_height": null,
            "max_width": null,
            "min_height": null,
            "min_width": null,
            "object_fit": null,
            "object_position": null,
            "order": null,
            "overflow": null,
            "overflow_x": null,
            "overflow_y": null,
            "padding": null,
            "right": null,
            "top": null,
            "visibility": null,
            "width": null
          }
        },
        "cb249ccf670647bba64a1b09737653b9": {
          "model_module": "@jupyter-widgets/controls",
          "model_name": "DescriptionStyleModel",
          "model_module_version": "1.5.0",
          "state": {
            "_model_module": "@jupyter-widgets/controls",
            "_model_module_version": "1.5.0",
            "_model_name": "DescriptionStyleModel",
            "_view_count": null,
            "_view_module": "@jupyter-widgets/base",
            "_view_module_version": "1.2.0",
            "_view_name": "StyleView",
            "description_width": ""
          }
        },
        "847d6c8fbd9b44bba86ecf3a765bf2cb": {
          "model_module": "@jupyter-widgets/controls",
          "model_name": "ButtonModel",
          "model_module_version": "1.5.0",
          "state": {
            "_dom_classes": [],
            "_model_module": "@jupyter-widgets/controls",
            "_model_module_version": "1.5.0",
            "_model_name": "ButtonModel",
            "_view_count": null,
            "_view_module": "@jupyter-widgets/controls",
            "_view_module_version": "1.5.0",
            "_view_name": "ButtonView",
            "button_style": "",
            "description": "Submit",
            "disabled": false,
            "icon": "",
            "layout": "IPY_MODEL_8ac4a6ceaf8f4f0489cdf3e5f50a8fa8",
            "style": "IPY_MODEL_0f126f9747884b69a820b0e36ca7c981",
            "tooltip": ""
          }
        },
        "8ac4a6ceaf8f4f0489cdf3e5f50a8fa8": {
          "model_module": "@jupyter-widgets/base",
          "model_name": "LayoutModel",
          "model_module_version": "1.2.0",
          "state": {
            "_model_module": "@jupyter-widgets/base",
            "_model_module_version": "1.2.0",
            "_model_name": "LayoutModel",
            "_view_count": null,
            "_view_module": "@jupyter-widgets/base",
            "_view_module_version": "1.2.0",
            "_view_name": "LayoutView",
            "align_content": null,
            "align_items": null,
            "align_self": null,
            "border": null,
            "bottom": null,
            "display": null,
            "flex": null,
            "flex_flow": null,
            "grid_area": null,
            "grid_auto_columns": null,
            "grid_auto_flow": null,
            "grid_auto_rows": null,
            "grid_column": null,
            "grid_gap": null,
            "grid_row": null,
            "grid_template_areas": null,
            "grid_template_columns": null,
            "grid_template_rows": null,
            "height": null,
            "justify_content": null,
            "justify_items": null,
            "left": null,
            "margin": null,
            "max_height": null,
            "max_width": null,
            "min_height": null,
            "min_width": null,
            "object_fit": null,
            "object_position": null,
            "order": null,
            "overflow": null,
            "overflow_x": null,
            "overflow_y": null,
            "padding": null,
            "right": null,
            "top": null,
            "visibility": null,
            "width": null
          }
        },
        "0f126f9747884b69a820b0e36ca7c981": {
          "model_module": "@jupyter-widgets/controls",
          "model_name": "ButtonStyleModel",
          "model_module_version": "1.5.0",
          "state": {
            "_model_module": "@jupyter-widgets/controls",
            "_model_module_version": "1.5.0",
            "_model_name": "ButtonStyleModel",
            "_view_count": null,
            "_view_module": "@jupyter-widgets/base",
            "_view_module_version": "1.2.0",
            "_view_name": "StyleView",
            "button_color": null,
            "font_weight": ""
          }
        },
        "65357805abe54f92b3cdde7608236e7f": {
          "model_module": "@jupyter-widgets/controls",
          "model_name": "DropdownModel",
          "model_module_version": "1.5.0",
          "state": {
            "_dom_classes": [],
            "_model_module": "@jupyter-widgets/controls",
            "_model_module_version": "1.5.0",
            "_model_name": "DropdownModel",
            "_options_labels": [
              "1to2grams-filtered-table",
              "1to2grams-unfiltered-table",
              "topics-table"
            ],
            "_view_count": null,
            "_view_module": "@jupyter-widgets/controls",
            "_view_module_version": "1.5.0",
            "_view_name": "DropdownView",
            "description": "Feature Table:",
            "description_tooltip": null,
            "disabled": false,
            "index": 0,
            "layout": "IPY_MODEL_377acf55ca3641dca1faf188d3f0fdb5",
            "style": "IPY_MODEL_0927ad5e30d345a088b897291bf3ef54"
          }
        },
        "377acf55ca3641dca1faf188d3f0fdb5": {
          "model_module": "@jupyter-widgets/base",
          "model_name": "LayoutModel",
          "model_module_version": "1.2.0",
          "state": {
            "_model_module": "@jupyter-widgets/base",
            "_model_module_version": "1.2.0",
            "_model_name": "LayoutModel",
            "_view_count": null,
            "_view_module": "@jupyter-widgets/base",
            "_view_module_version": "1.2.0",
            "_view_name": "LayoutView",
            "align_content": null,
            "align_items": null,
            "align_self": null,
            "border": null,
            "bottom": null,
            "display": null,
            "flex": null,
            "flex_flow": null,
            "grid_area": null,
            "grid_auto_columns": null,
            "grid_auto_flow": null,
            "grid_auto_rows": null,
            "grid_column": null,
            "grid_gap": null,
            "grid_row": null,
            "grid_template_areas": null,
            "grid_template_columns": null,
            "grid_template_rows": null,
            "height": null,
            "justify_content": null,
            "justify_items": null,
            "left": null,
            "margin": null,
            "max_height": null,
            "max_width": null,
            "min_height": null,
            "min_width": null,
            "object_fit": null,
            "object_position": null,
            "order": null,
            "overflow": null,
            "overflow_x": null,
            "overflow_y": null,
            "padding": null,
            "right": null,
            "top": null,
            "visibility": null,
            "width": null
          }
        },
        "0927ad5e30d345a088b897291bf3ef54": {
          "model_module": "@jupyter-widgets/controls",
          "model_name": "DescriptionStyleModel",
          "model_module_version": "1.5.0",
          "state": {
            "_model_module": "@jupyter-widgets/controls",
            "_model_module_version": "1.5.0",
            "_model_name": "DescriptionStyleModel",
            "_view_count": null,
            "_view_module": "@jupyter-widgets/base",
            "_view_module_version": "1.2.0",
            "_view_name": "StyleView",
            "description_width": ""
          }
        },
        "a8b01d03e13a4f4690eecb4abf1b73bc": {
          "model_module": "@jupyter-widgets/controls",
          "model_name": "LabelModel",
          "model_module_version": "1.5.0",
          "state": {
            "_dom_classes": [],
            "_model_module": "@jupyter-widgets/controls",
            "_model_module_version": "1.5.0",
            "_model_name": "LabelModel",
            "_view_count": null,
            "_view_module": "@jupyter-widgets/controls",
            "_view_module_version": "1.5.0",
            "_view_name": "LabelView",
            "description": "",
            "description_tooltip": null,
            "layout": "IPY_MODEL_86fa7921a3b04d42a16d2cb5618429e1",
            "placeholder": "​",
            "style": "IPY_MODEL_b238824f52b7429798e3c818a5c44fa2",
            "value": "Outcomes:"
          }
        },
        "86fa7921a3b04d42a16d2cb5618429e1": {
          "model_module": "@jupyter-widgets/base",
          "model_name": "LayoutModel",
          "model_module_version": "1.2.0",
          "state": {
            "_model_module": "@jupyter-widgets/base",
            "_model_module_version": "1.2.0",
            "_model_name": "LayoutModel",
            "_view_count": null,
            "_view_module": "@jupyter-widgets/base",
            "_view_module_version": "1.2.0",
            "_view_name": "LayoutView",
            "align_content": null,
            "align_items": null,
            "align_self": null,
            "border": null,
            "bottom": null,
            "display": null,
            "flex": null,
            "flex_flow": null,
            "grid_area": null,
            "grid_auto_columns": null,
            "grid_auto_flow": null,
            "grid_auto_rows": null,
            "grid_column": null,
            "grid_gap": null,
            "grid_row": null,
            "grid_template_areas": null,
            "grid_template_columns": null,
            "grid_template_rows": null,
            "height": null,
            "justify_content": null,
            "justify_items": null,
            "left": null,
            "margin": null,
            "max_height": null,
            "max_width": null,
            "min_height": null,
            "min_width": null,
            "object_fit": null,
            "object_position": null,
            "order": null,
            "overflow": null,
            "overflow_x": null,
            "overflow_y": null,
            "padding": null,
            "right": null,
            "top": null,
            "visibility": null,
            "width": null
          }
        },
        "b238824f52b7429798e3c818a5c44fa2": {
          "model_module": "@jupyter-widgets/controls",
          "model_name": "DescriptionStyleModel",
          "model_module_version": "1.5.0",
          "state": {
            "_model_module": "@jupyter-widgets/controls",
            "_model_module_version": "1.5.0",
            "_model_name": "DescriptionStyleModel",
            "_view_count": null,
            "_view_module": "@jupyter-widgets/base",
            "_view_module_version": "1.2.0",
            "_view_name": "StyleView",
            "description_width": ""
          }
        },
        "7441beaca02740f083160588561635d5": {
          "model_module": "@jupyter-widgets/controls",
          "model_name": "HBoxModel",
          "model_module_version": "1.5.0",
          "state": {
            "_dom_classes": [],
            "_model_module": "@jupyter-widgets/controls",
            "_model_module_version": "1.5.0",
            "_model_name": "HBoxModel",
            "_view_count": null,
            "_view_module": "@jupyter-widgets/controls",
            "_view_module_version": "1.5.0",
            "_view_name": "HBoxView",
            "box_style": "",
            "children": [
              "IPY_MODEL_a58faf41515747289eb58d673a021634",
              "IPY_MODEL_8e5b1ac5cad643a499fe0763b3258c4e"
            ],
            "layout": "IPY_MODEL_316c885deb29444db6dceb1d5df1f1ae"
          }
        },
        "a58faf41515747289eb58d673a021634": {
          "model_module": "@jupyter-widgets/controls",
          "model_name": "CheckboxModel",
          "model_module_version": "1.5.0",
          "state": {
            "_dom_classes": [],
            "_model_module": "@jupyter-widgets/controls",
            "_model_module_version": "1.5.0",
            "_model_name": "CheckboxModel",
            "_view_count": null,
            "_view_module": "@jupyter-widgets/controls",
            "_view_module_version": "1.5.0",
            "_view_name": "CheckboxView",
            "description": "gender",
            "description_tooltip": null,
            "disabled": false,
            "indent": true,
            "layout": "IPY_MODEL_d0641f3ebeca4daf8f04d37c6158b346",
            "style": "IPY_MODEL_82514a727c67442b88248bab4ba0d7fb",
            "value": false
          }
        },
        "8e5b1ac5cad643a499fe0763b3258c4e": {
          "model_module": "@jupyter-widgets/controls",
          "model_name": "CheckboxModel",
          "model_module_version": "1.5.0",
          "state": {
            "_dom_classes": [],
            "_model_module": "@jupyter-widgets/controls",
            "_model_module_version": "1.5.0",
            "_model_name": "CheckboxModel",
            "_view_count": null,
            "_view_module": "@jupyter-widgets/controls",
            "_view_module_version": "1.5.0",
            "_view_name": "CheckboxView",
            "description": "Is gender categorical?",
            "description_tooltip": null,
            "disabled": false,
            "indent": false,
            "layout": "IPY_MODEL_f65516d7b81c4f4981adbfcca94d3d95",
            "style": "IPY_MODEL_9b7c81e445a44be0a571ec8e3083ffbd",
            "value": false
          }
        },
        "316c885deb29444db6dceb1d5df1f1ae": {
          "model_module": "@jupyter-widgets/base",
          "model_name": "LayoutModel",
          "model_module_version": "1.2.0",
          "state": {
            "_model_module": "@jupyter-widgets/base",
            "_model_module_version": "1.2.0",
            "_model_name": "LayoutModel",
            "_view_count": null,
            "_view_module": "@jupyter-widgets/base",
            "_view_module_version": "1.2.0",
            "_view_name": "LayoutView",
            "align_content": null,
            "align_items": null,
            "align_self": null,
            "border": null,
            "bottom": null,
            "display": null,
            "flex": null,
            "flex_flow": null,
            "grid_area": null,
            "grid_auto_columns": null,
            "grid_auto_flow": null,
            "grid_auto_rows": null,
            "grid_column": null,
            "grid_gap": null,
            "grid_row": null,
            "grid_template_areas": null,
            "grid_template_columns": null,
            "grid_template_rows": null,
            "height": null,
            "justify_content": null,
            "justify_items": null,
            "left": null,
            "margin": null,
            "max_height": null,
            "max_width": null,
            "min_height": null,
            "min_width": null,
            "object_fit": null,
            "object_position": null,
            "order": null,
            "overflow": null,
            "overflow_x": null,
            "overflow_y": null,
            "padding": null,
            "right": null,
            "top": null,
            "visibility": null,
            "width": null
          }
        },
        "d0641f3ebeca4daf8f04d37c6158b346": {
          "model_module": "@jupyter-widgets/base",
          "model_name": "LayoutModel",
          "model_module_version": "1.2.0",
          "state": {
            "_model_module": "@jupyter-widgets/base",
            "_model_module_version": "1.2.0",
            "_model_name": "LayoutModel",
            "_view_count": null,
            "_view_module": "@jupyter-widgets/base",
            "_view_module_version": "1.2.0",
            "_view_name": "LayoutView",
            "align_content": null,
            "align_items": null,
            "align_self": null,
            "border": null,
            "bottom": null,
            "display": null,
            "flex": null,
            "flex_flow": null,
            "grid_area": null,
            "grid_auto_columns": null,
            "grid_auto_flow": null,
            "grid_auto_rows": null,
            "grid_column": null,
            "grid_gap": null,
            "grid_row": null,
            "grid_template_areas": null,
            "grid_template_columns": null,
            "grid_template_rows": null,
            "height": null,
            "justify_content": null,
            "justify_items": null,
            "left": null,
            "margin": null,
            "max_height": null,
            "max_width": null,
            "min_height": null,
            "min_width": null,
            "object_fit": null,
            "object_position": null,
            "order": null,
            "overflow": null,
            "overflow_x": null,
            "overflow_y": null,
            "padding": null,
            "right": null,
            "top": null,
            "visibility": null,
            "width": null
          }
        },
        "82514a727c67442b88248bab4ba0d7fb": {
          "model_module": "@jupyter-widgets/controls",
          "model_name": "DescriptionStyleModel",
          "model_module_version": "1.5.0",
          "state": {
            "_model_module": "@jupyter-widgets/controls",
            "_model_module_version": "1.5.0",
            "_model_name": "DescriptionStyleModel",
            "_view_count": null,
            "_view_module": "@jupyter-widgets/base",
            "_view_module_version": "1.2.0",
            "_view_name": "StyleView",
            "description_width": ""
          }
        },
        "f65516d7b81c4f4981adbfcca94d3d95": {
          "model_module": "@jupyter-widgets/base",
          "model_name": "LayoutModel",
          "model_module_version": "1.2.0",
          "state": {
            "_model_module": "@jupyter-widgets/base",
            "_model_module_version": "1.2.0",
            "_model_name": "LayoutModel",
            "_view_count": null,
            "_view_module": "@jupyter-widgets/base",
            "_view_module_version": "1.2.0",
            "_view_name": "LayoutView",
            "align_content": null,
            "align_items": null,
            "align_self": null,
            "border": null,
            "bottom": null,
            "display": null,
            "flex": null,
            "flex_flow": null,
            "grid_area": null,
            "grid_auto_columns": null,
            "grid_auto_flow": null,
            "grid_auto_rows": null,
            "grid_column": null,
            "grid_gap": null,
            "grid_row": null,
            "grid_template_areas": null,
            "grid_template_columns": null,
            "grid_template_rows": null,
            "height": null,
            "justify_content": null,
            "justify_items": null,
            "left": null,
            "margin": null,
            "max_height": null,
            "max_width": null,
            "min_height": null,
            "min_width": null,
            "object_fit": null,
            "object_position": null,
            "order": null,
            "overflow": null,
            "overflow_x": null,
            "overflow_y": null,
            "padding": null,
            "right": null,
            "top": null,
            "visibility": null,
            "width": null
          }
        },
        "9b7c81e445a44be0a571ec8e3083ffbd": {
          "model_module": "@jupyter-widgets/controls",
          "model_name": "DescriptionStyleModel",
          "model_module_version": "1.5.0",
          "state": {
            "_model_module": "@jupyter-widgets/controls",
            "_model_module_version": "1.5.0",
            "_model_name": "DescriptionStyleModel",
            "_view_count": null,
            "_view_module": "@jupyter-widgets/base",
            "_view_module_version": "1.2.0",
            "_view_name": "StyleView",
            "description_width": ""
          }
        },
        "095d7e5548e84e71a1f887ec705074b2": {
          "model_module": "@jupyter-widgets/controls",
          "model_name": "HBoxModel",
          "model_module_version": "1.5.0",
          "state": {
            "_dom_classes": [],
            "_model_module": "@jupyter-widgets/controls",
            "_model_module_version": "1.5.0",
            "_model_name": "HBoxModel",
            "_view_count": null,
            "_view_module": "@jupyter-widgets/controls",
            "_view_module_version": "1.5.0",
            "_view_name": "HBoxView",
            "box_style": "",
            "children": [
              "IPY_MODEL_08b9fe771cf04f1f880f926c5585ba43",
              "IPY_MODEL_0eb8ba19fbab44b1aef059a1d93effdb"
            ],
            "layout": "IPY_MODEL_71a28de839724508a037203cfe8afb8d"
          }
        },
        "08b9fe771cf04f1f880f926c5585ba43": {
          "model_module": "@jupyter-widgets/controls",
          "model_name": "CheckboxModel",
          "model_module_version": "1.5.0",
          "state": {
            "_dom_classes": [],
            "_model_module": "@jupyter-widgets/controls",
            "_model_module_version": "1.5.0",
            "_model_name": "CheckboxModel",
            "_view_count": null,
            "_view_module": "@jupyter-widgets/controls",
            "_view_module_version": "1.5.0",
            "_view_name": "CheckboxView",
            "description": "age",
            "description_tooltip": null,
            "disabled": false,
            "indent": true,
            "layout": "IPY_MODEL_32877fa690f045bb9b4d55b17c4aba51",
            "style": "IPY_MODEL_2e968e894822414493790283be389696",
            "value": false
          }
        },
        "0eb8ba19fbab44b1aef059a1d93effdb": {
          "model_module": "@jupyter-widgets/controls",
          "model_name": "CheckboxModel",
          "model_module_version": "1.5.0",
          "state": {
            "_dom_classes": [],
            "_model_module": "@jupyter-widgets/controls",
            "_model_module_version": "1.5.0",
            "_model_name": "CheckboxModel",
            "_view_count": null,
            "_view_module": "@jupyter-widgets/controls",
            "_view_module_version": "1.5.0",
            "_view_name": "CheckboxView",
            "description": "Is age categorical?",
            "description_tooltip": null,
            "disabled": false,
            "indent": false,
            "layout": "IPY_MODEL_c69f00a6615f414489cb2832a4327b61",
            "style": "IPY_MODEL_cef22c9892a84a92a1499f46a0132a8c",
            "value": false
          }
        },
        "71a28de839724508a037203cfe8afb8d": {
          "model_module": "@jupyter-widgets/base",
          "model_name": "LayoutModel",
          "model_module_version": "1.2.0",
          "state": {
            "_model_module": "@jupyter-widgets/base",
            "_model_module_version": "1.2.0",
            "_model_name": "LayoutModel",
            "_view_count": null,
            "_view_module": "@jupyter-widgets/base",
            "_view_module_version": "1.2.0",
            "_view_name": "LayoutView",
            "align_content": null,
            "align_items": null,
            "align_self": null,
            "border": null,
            "bottom": null,
            "display": null,
            "flex": null,
            "flex_flow": null,
            "grid_area": null,
            "grid_auto_columns": null,
            "grid_auto_flow": null,
            "grid_auto_rows": null,
            "grid_column": null,
            "grid_gap": null,
            "grid_row": null,
            "grid_template_areas": null,
            "grid_template_columns": null,
            "grid_template_rows": null,
            "height": null,
            "justify_content": null,
            "justify_items": null,
            "left": null,
            "margin": null,
            "max_height": null,
            "max_width": null,
            "min_height": null,
            "min_width": null,
            "object_fit": null,
            "object_position": null,
            "order": null,
            "overflow": null,
            "overflow_x": null,
            "overflow_y": null,
            "padding": null,
            "right": null,
            "top": null,
            "visibility": null,
            "width": null
          }
        },
        "32877fa690f045bb9b4d55b17c4aba51": {
          "model_module": "@jupyter-widgets/base",
          "model_name": "LayoutModel",
          "model_module_version": "1.2.0",
          "state": {
            "_model_module": "@jupyter-widgets/base",
            "_model_module_version": "1.2.0",
            "_model_name": "LayoutModel",
            "_view_count": null,
            "_view_module": "@jupyter-widgets/base",
            "_view_module_version": "1.2.0",
            "_view_name": "LayoutView",
            "align_content": null,
            "align_items": null,
            "align_self": null,
            "border": null,
            "bottom": null,
            "display": null,
            "flex": null,
            "flex_flow": null,
            "grid_area": null,
            "grid_auto_columns": null,
            "grid_auto_flow": null,
            "grid_auto_rows": null,
            "grid_column": null,
            "grid_gap": null,
            "grid_row": null,
            "grid_template_areas": null,
            "grid_template_columns": null,
            "grid_template_rows": null,
            "height": null,
            "justify_content": null,
            "justify_items": null,
            "left": null,
            "margin": null,
            "max_height": null,
            "max_width": null,
            "min_height": null,
            "min_width": null,
            "object_fit": null,
            "object_position": null,
            "order": null,
            "overflow": null,
            "overflow_x": null,
            "overflow_y": null,
            "padding": null,
            "right": null,
            "top": null,
            "visibility": null,
            "width": null
          }
        },
        "2e968e894822414493790283be389696": {
          "model_module": "@jupyter-widgets/controls",
          "model_name": "DescriptionStyleModel",
          "model_module_version": "1.5.0",
          "state": {
            "_model_module": "@jupyter-widgets/controls",
            "_model_module_version": "1.5.0",
            "_model_name": "DescriptionStyleModel",
            "_view_count": null,
            "_view_module": "@jupyter-widgets/base",
            "_view_module_version": "1.2.0",
            "_view_name": "StyleView",
            "description_width": ""
          }
        },
        "c69f00a6615f414489cb2832a4327b61": {
          "model_module": "@jupyter-widgets/base",
          "model_name": "LayoutModel",
          "model_module_version": "1.2.0",
          "state": {
            "_model_module": "@jupyter-widgets/base",
            "_model_module_version": "1.2.0",
            "_model_name": "LayoutModel",
            "_view_count": null,
            "_view_module": "@jupyter-widgets/base",
            "_view_module_version": "1.2.0",
            "_view_name": "LayoutView",
            "align_content": null,
            "align_items": null,
            "align_self": null,
            "border": null,
            "bottom": null,
            "display": null,
            "flex": null,
            "flex_flow": null,
            "grid_area": null,
            "grid_auto_columns": null,
            "grid_auto_flow": null,
            "grid_auto_rows": null,
            "grid_column": null,
            "grid_gap": null,
            "grid_row": null,
            "grid_template_areas": null,
            "grid_template_columns": null,
            "grid_template_rows": null,
            "height": null,
            "justify_content": null,
            "justify_items": null,
            "left": null,
            "margin": null,
            "max_height": null,
            "max_width": null,
            "min_height": null,
            "min_width": null,
            "object_fit": null,
            "object_position": null,
            "order": null,
            "overflow": null,
            "overflow_x": null,
            "overflow_y": null,
            "padding": null,
            "right": null,
            "top": null,
            "visibility": null,
            "width": null
          }
        },
        "cef22c9892a84a92a1499f46a0132a8c": {
          "model_module": "@jupyter-widgets/controls",
          "model_name": "DescriptionStyleModel",
          "model_module_version": "1.5.0",
          "state": {
            "_model_module": "@jupyter-widgets/controls",
            "_model_module_version": "1.5.0",
            "_model_name": "DescriptionStyleModel",
            "_view_count": null,
            "_view_module": "@jupyter-widgets/base",
            "_view_module_version": "1.2.0",
            "_view_name": "StyleView",
            "description_width": ""
          }
        },
        "9795cc3d86ff4dd99601a424e0c2a602": {
          "model_module": "@jupyter-widgets/controls",
          "model_name": "HBoxModel",
          "model_module_version": "1.5.0",
          "state": {
            "_dom_classes": [],
            "_model_module": "@jupyter-widgets/controls",
            "_model_module_version": "1.5.0",
            "_model_name": "HBoxModel",
            "_view_count": null,
            "_view_module": "@jupyter-widgets/controls",
            "_view_module_version": "1.5.0",
            "_view_name": "HBoxView",
            "box_style": "",
            "children": [
              "IPY_MODEL_934df84731f9494b99ccbf7c41872bee",
              "IPY_MODEL_8033bbf0614a47809090a5df4374a804"
            ],
            "layout": "IPY_MODEL_2150d6c119ed4380a861ca5da1e1b06c"
          }
        },
        "934df84731f9494b99ccbf7c41872bee": {
          "model_module": "@jupyter-widgets/controls",
          "model_name": "CheckboxModel",
          "model_module_version": "1.5.0",
          "state": {
            "_dom_classes": [],
            "_model_module": "@jupyter-widgets/controls",
            "_model_module_version": "1.5.0",
            "_model_name": "CheckboxModel",
            "_view_count": null,
            "_view_module": "@jupyter-widgets/controls",
            "_view_module_version": "1.5.0",
            "_view_name": "CheckboxView",
            "description": "occu",
            "description_tooltip": null,
            "disabled": false,
            "indent": true,
            "layout": "IPY_MODEL_2b691075cdc74210a769624f967ac42a",
            "style": "IPY_MODEL_19ac4348f47f46d1819ba51edde6278a",
            "value": false
          }
        },
        "8033bbf0614a47809090a5df4374a804": {
          "model_module": "@jupyter-widgets/controls",
          "model_name": "CheckboxModel",
          "model_module_version": "1.5.0",
          "state": {
            "_dom_classes": [],
            "_model_module": "@jupyter-widgets/controls",
            "_model_module_version": "1.5.0",
            "_model_name": "CheckboxModel",
            "_view_count": null,
            "_view_module": "@jupyter-widgets/controls",
            "_view_module_version": "1.5.0",
            "_view_name": "CheckboxView",
            "description": "Is occu categorical?",
            "description_tooltip": null,
            "disabled": false,
            "indent": false,
            "layout": "IPY_MODEL_ce3742f6af054545b77d24a765b50045",
            "style": "IPY_MODEL_6a5aba4f7d6b464db5258b842b99885e",
            "value": false
          }
        },
        "2150d6c119ed4380a861ca5da1e1b06c": {
          "model_module": "@jupyter-widgets/base",
          "model_name": "LayoutModel",
          "model_module_version": "1.2.0",
          "state": {
            "_model_module": "@jupyter-widgets/base",
            "_model_module_version": "1.2.0",
            "_model_name": "LayoutModel",
            "_view_count": null,
            "_view_module": "@jupyter-widgets/base",
            "_view_module_version": "1.2.0",
            "_view_name": "LayoutView",
            "align_content": null,
            "align_items": null,
            "align_self": null,
            "border": null,
            "bottom": null,
            "display": null,
            "flex": null,
            "flex_flow": null,
            "grid_area": null,
            "grid_auto_columns": null,
            "grid_auto_flow": null,
            "grid_auto_rows": null,
            "grid_column": null,
            "grid_gap": null,
            "grid_row": null,
            "grid_template_areas": null,
            "grid_template_columns": null,
            "grid_template_rows": null,
            "height": null,
            "justify_content": null,
            "justify_items": null,
            "left": null,
            "margin": null,
            "max_height": null,
            "max_width": null,
            "min_height": null,
            "min_width": null,
            "object_fit": null,
            "object_position": null,
            "order": null,
            "overflow": null,
            "overflow_x": null,
            "overflow_y": null,
            "padding": null,
            "right": null,
            "top": null,
            "visibility": null,
            "width": null
          }
        },
        "2b691075cdc74210a769624f967ac42a": {
          "model_module": "@jupyter-widgets/base",
          "model_name": "LayoutModel",
          "model_module_version": "1.2.0",
          "state": {
            "_model_module": "@jupyter-widgets/base",
            "_model_module_version": "1.2.0",
            "_model_name": "LayoutModel",
            "_view_count": null,
            "_view_module": "@jupyter-widgets/base",
            "_view_module_version": "1.2.0",
            "_view_name": "LayoutView",
            "align_content": null,
            "align_items": null,
            "align_self": null,
            "border": null,
            "bottom": null,
            "display": null,
            "flex": null,
            "flex_flow": null,
            "grid_area": null,
            "grid_auto_columns": null,
            "grid_auto_flow": null,
            "grid_auto_rows": null,
            "grid_column": null,
            "grid_gap": null,
            "grid_row": null,
            "grid_template_areas": null,
            "grid_template_columns": null,
            "grid_template_rows": null,
            "height": null,
            "justify_content": null,
            "justify_items": null,
            "left": null,
            "margin": null,
            "max_height": null,
            "max_width": null,
            "min_height": null,
            "min_width": null,
            "object_fit": null,
            "object_position": null,
            "order": null,
            "overflow": null,
            "overflow_x": null,
            "overflow_y": null,
            "padding": null,
            "right": null,
            "top": null,
            "visibility": null,
            "width": null
          }
        },
        "19ac4348f47f46d1819ba51edde6278a": {
          "model_module": "@jupyter-widgets/controls",
          "model_name": "DescriptionStyleModel",
          "model_module_version": "1.5.0",
          "state": {
            "_model_module": "@jupyter-widgets/controls",
            "_model_module_version": "1.5.0",
            "_model_name": "DescriptionStyleModel",
            "_view_count": null,
            "_view_module": "@jupyter-widgets/base",
            "_view_module_version": "1.2.0",
            "_view_name": "StyleView",
            "description_width": ""
          }
        },
        "ce3742f6af054545b77d24a765b50045": {
          "model_module": "@jupyter-widgets/base",
          "model_name": "LayoutModel",
          "model_module_version": "1.2.0",
          "state": {
            "_model_module": "@jupyter-widgets/base",
            "_model_module_version": "1.2.0",
            "_model_name": "LayoutModel",
            "_view_count": null,
            "_view_module": "@jupyter-widgets/base",
            "_view_module_version": "1.2.0",
            "_view_name": "LayoutView",
            "align_content": null,
            "align_items": null,
            "align_self": null,
            "border": null,
            "bottom": null,
            "display": null,
            "flex": null,
            "flex_flow": null,
            "grid_area": null,
            "grid_auto_columns": null,
            "grid_auto_flow": null,
            "grid_auto_rows": null,
            "grid_column": null,
            "grid_gap": null,
            "grid_row": null,
            "grid_template_areas": null,
            "grid_template_columns": null,
            "grid_template_rows": null,
            "height": null,
            "justify_content": null,
            "justify_items": null,
            "left": null,
            "margin": null,
            "max_height": null,
            "max_width": null,
            "min_height": null,
            "min_width": null,
            "object_fit": null,
            "object_position": null,
            "order": null,
            "overflow": null,
            "overflow_x": null,
            "overflow_y": null,
            "padding": null,
            "right": null,
            "top": null,
            "visibility": null,
            "width": null
          }
        },
        "6a5aba4f7d6b464db5258b842b99885e": {
          "model_module": "@jupyter-widgets/controls",
          "model_name": "DescriptionStyleModel",
          "model_module_version": "1.5.0",
          "state": {
            "_model_module": "@jupyter-widgets/controls",
            "_model_module_version": "1.5.0",
            "_model_name": "DescriptionStyleModel",
            "_view_count": null,
            "_view_module": "@jupyter-widgets/base",
            "_view_module_version": "1.2.0",
            "_view_name": "StyleView",
            "description_width": ""
          }
        },
        "7768218044d447708e5f1bb839655bf1": {
          "model_module": "@jupyter-widgets/controls",
          "model_name": "HBoxModel",
          "model_module_version": "1.5.0",
          "state": {
            "_dom_classes": [],
            "_model_module": "@jupyter-widgets/controls",
            "_model_module_version": "1.5.0",
            "_model_name": "HBoxModel",
            "_view_count": null,
            "_view_module": "@jupyter-widgets/controls",
            "_view_module_version": "1.5.0",
            "_view_name": "HBoxView",
            "box_style": "",
            "children": [
              "IPY_MODEL_484a6af77b5149709c17b46246f12753",
              "IPY_MODEL_43ef290518d2460db7453efffac40e63"
            ],
            "layout": "IPY_MODEL_11617113d3c44a8eb4d894985ea17729"
          }
        },
        "484a6af77b5149709c17b46246f12753": {
          "model_module": "@jupyter-widgets/controls",
          "model_name": "CheckboxModel",
          "model_module_version": "1.5.0",
          "state": {
            "_dom_classes": [],
            "_model_module": "@jupyter-widgets/controls",
            "_model_module_version": "1.5.0",
            "_model_name": "CheckboxModel",
            "_view_count": null,
            "_view_module": "@jupyter-widgets/controls",
            "_view_module_version": "1.5.0",
            "_view_name": "CheckboxView",
            "description": "is_student",
            "description_tooltip": null,
            "disabled": false,
            "indent": true,
            "layout": "IPY_MODEL_ebc2711d35c545d8b0e51a98d7b15a52",
            "style": "IPY_MODEL_902774e2acd944c99d9d78228eaec737",
            "value": false
          }
        },
        "43ef290518d2460db7453efffac40e63": {
          "model_module": "@jupyter-widgets/controls",
          "model_name": "CheckboxModel",
          "model_module_version": "1.5.0",
          "state": {
            "_dom_classes": [],
            "_model_module": "@jupyter-widgets/controls",
            "_model_module_version": "1.5.0",
            "_model_name": "CheckboxModel",
            "_view_count": null,
            "_view_module": "@jupyter-widgets/controls",
            "_view_module_version": "1.5.0",
            "_view_name": "CheckboxView",
            "description": "Is is_student categorical?",
            "description_tooltip": null,
            "disabled": false,
            "indent": false,
            "layout": "IPY_MODEL_93fa7b5838f1418ebfd06e7f6a646961",
            "style": "IPY_MODEL_565c045a528d4099b42802d8e09a64cb",
            "value": false
          }
        },
        "11617113d3c44a8eb4d894985ea17729": {
          "model_module": "@jupyter-widgets/base",
          "model_name": "LayoutModel",
          "model_module_version": "1.2.0",
          "state": {
            "_model_module": "@jupyter-widgets/base",
            "_model_module_version": "1.2.0",
            "_model_name": "LayoutModel",
            "_view_count": null,
            "_view_module": "@jupyter-widgets/base",
            "_view_module_version": "1.2.0",
            "_view_name": "LayoutView",
            "align_content": null,
            "align_items": null,
            "align_self": null,
            "border": null,
            "bottom": null,
            "display": null,
            "flex": null,
            "flex_flow": null,
            "grid_area": null,
            "grid_auto_columns": null,
            "grid_auto_flow": null,
            "grid_auto_rows": null,
            "grid_column": null,
            "grid_gap": null,
            "grid_row": null,
            "grid_template_areas": null,
            "grid_template_columns": null,
            "grid_template_rows": null,
            "height": null,
            "justify_content": null,
            "justify_items": null,
            "left": null,
            "margin": null,
            "max_height": null,
            "max_width": null,
            "min_height": null,
            "min_width": null,
            "object_fit": null,
            "object_position": null,
            "order": null,
            "overflow": null,
            "overflow_x": null,
            "overflow_y": null,
            "padding": null,
            "right": null,
            "top": null,
            "visibility": null,
            "width": null
          }
        },
        "ebc2711d35c545d8b0e51a98d7b15a52": {
          "model_module": "@jupyter-widgets/base",
          "model_name": "LayoutModel",
          "model_module_version": "1.2.0",
          "state": {
            "_model_module": "@jupyter-widgets/base",
            "_model_module_version": "1.2.0",
            "_model_name": "LayoutModel",
            "_view_count": null,
            "_view_module": "@jupyter-widgets/base",
            "_view_module_version": "1.2.0",
            "_view_name": "LayoutView",
            "align_content": null,
            "align_items": null,
            "align_self": null,
            "border": null,
            "bottom": null,
            "display": null,
            "flex": null,
            "flex_flow": null,
            "grid_area": null,
            "grid_auto_columns": null,
            "grid_auto_flow": null,
            "grid_auto_rows": null,
            "grid_column": null,
            "grid_gap": null,
            "grid_row": null,
            "grid_template_areas": null,
            "grid_template_columns": null,
            "grid_template_rows": null,
            "height": null,
            "justify_content": null,
            "justify_items": null,
            "left": null,
            "margin": null,
            "max_height": null,
            "max_width": null,
            "min_height": null,
            "min_width": null,
            "object_fit": null,
            "object_position": null,
            "order": null,
            "overflow": null,
            "overflow_x": null,
            "overflow_y": null,
            "padding": null,
            "right": null,
            "top": null,
            "visibility": null,
            "width": null
          }
        },
        "902774e2acd944c99d9d78228eaec737": {
          "model_module": "@jupyter-widgets/controls",
          "model_name": "DescriptionStyleModel",
          "model_module_version": "1.5.0",
          "state": {
            "_model_module": "@jupyter-widgets/controls",
            "_model_module_version": "1.5.0",
            "_model_name": "DescriptionStyleModel",
            "_view_count": null,
            "_view_module": "@jupyter-widgets/base",
            "_view_module_version": "1.2.0",
            "_view_name": "StyleView",
            "description_width": ""
          }
        },
        "93fa7b5838f1418ebfd06e7f6a646961": {
          "model_module": "@jupyter-widgets/base",
          "model_name": "LayoutModel",
          "model_module_version": "1.2.0",
          "state": {
            "_model_module": "@jupyter-widgets/base",
            "_model_module_version": "1.2.0",
            "_model_name": "LayoutModel",
            "_view_count": null,
            "_view_module": "@jupyter-widgets/base",
            "_view_module_version": "1.2.0",
            "_view_name": "LayoutView",
            "align_content": null,
            "align_items": null,
            "align_self": null,
            "border": null,
            "bottom": null,
            "display": null,
            "flex": null,
            "flex_flow": null,
            "grid_area": null,
            "grid_auto_columns": null,
            "grid_auto_flow": null,
            "grid_auto_rows": null,
            "grid_column": null,
            "grid_gap": null,
            "grid_row": null,
            "grid_template_areas": null,
            "grid_template_columns": null,
            "grid_template_rows": null,
            "height": null,
            "justify_content": null,
            "justify_items": null,
            "left": null,
            "margin": null,
            "max_height": null,
            "max_width": null,
            "min_height": null,
            "min_width": null,
            "object_fit": null,
            "object_position": null,
            "order": null,
            "overflow": null,
            "overflow_x": null,
            "overflow_y": null,
            "padding": null,
            "right": null,
            "top": null,
            "visibility": null,
            "width": null
          }
        },
        "565c045a528d4099b42802d8e09a64cb": {
          "model_module": "@jupyter-widgets/controls",
          "model_name": "DescriptionStyleModel",
          "model_module_version": "1.5.0",
          "state": {
            "_model_module": "@jupyter-widgets/controls",
            "_model_module_version": "1.5.0",
            "_model_name": "DescriptionStyleModel",
            "_view_count": null,
            "_view_module": "@jupyter-widgets/base",
            "_view_module_version": "1.2.0",
            "_view_name": "StyleView",
            "description_width": ""
          }
        },
        "950bead9ec35441280737f2d836f510b": {
          "model_module": "@jupyter-widgets/controls",
          "model_name": "LabelModel",
          "model_module_version": "1.5.0",
          "state": {
            "_dom_classes": [],
            "_model_module": "@jupyter-widgets/controls",
            "_model_module_version": "1.5.0",
            "_model_name": "LabelModel",
            "_view_count": null,
            "_view_module": "@jupyter-widgets/controls",
            "_view_module_version": "1.5.0",
            "_view_name": "LabelView",
            "description": "",
            "description_tooltip": null,
            "layout": "IPY_MODEL_c93be65e205340bc86db211ab683a296",
            "placeholder": "​",
            "style": "IPY_MODEL_5ea8e187907a46b9828020b608df899b",
            "value": "Controls:"
          }
        },
        "c93be65e205340bc86db211ab683a296": {
          "model_module": "@jupyter-widgets/base",
          "model_name": "LayoutModel",
          "model_module_version": "1.2.0",
          "state": {
            "_model_module": "@jupyter-widgets/base",
            "_model_module_version": "1.2.0",
            "_model_name": "LayoutModel",
            "_view_count": null,
            "_view_module": "@jupyter-widgets/base",
            "_view_module_version": "1.2.0",
            "_view_name": "LayoutView",
            "align_content": null,
            "align_items": null,
            "align_self": null,
            "border": null,
            "bottom": null,
            "display": null,
            "flex": null,
            "flex_flow": null,
            "grid_area": null,
            "grid_auto_columns": null,
            "grid_auto_flow": null,
            "grid_auto_rows": null,
            "grid_column": null,
            "grid_gap": null,
            "grid_row": null,
            "grid_template_areas": null,
            "grid_template_columns": null,
            "grid_template_rows": null,
            "height": null,
            "justify_content": null,
            "justify_items": null,
            "left": null,
            "margin": null,
            "max_height": null,
            "max_width": null,
            "min_height": null,
            "min_width": null,
            "object_fit": null,
            "object_position": null,
            "order": null,
            "overflow": null,
            "overflow_x": null,
            "overflow_y": null,
            "padding": null,
            "right": null,
            "top": null,
            "visibility": null,
            "width": null
          }
        },
        "5ea8e187907a46b9828020b608df899b": {
          "model_module": "@jupyter-widgets/controls",
          "model_name": "DescriptionStyleModel",
          "model_module_version": "1.5.0",
          "state": {
            "_model_module": "@jupyter-widgets/controls",
            "_model_module_version": "1.5.0",
            "_model_name": "DescriptionStyleModel",
            "_view_count": null,
            "_view_module": "@jupyter-widgets/base",
            "_view_module_version": "1.2.0",
            "_view_name": "StyleView",
            "description_width": ""
          }
        },
        "e0dc9a8b973f483eab3dd33dedf0348d": {
          "model_module": "@jupyter-widgets/controls",
          "model_name": "HBoxModel",
          "model_module_version": "1.5.0",
          "state": {
            "_dom_classes": [],
            "_model_module": "@jupyter-widgets/controls",
            "_model_module_version": "1.5.0",
            "_model_name": "HBoxModel",
            "_view_count": null,
            "_view_module": "@jupyter-widgets/controls",
            "_view_module_version": "1.5.0",
            "_view_name": "HBoxView",
            "box_style": "",
            "children": [
              "IPY_MODEL_87818de01a1746acb2475491b12adc1c",
              "IPY_MODEL_8e5b1ac5cad643a499fe0763b3258c4e"
            ],
            "layout": "IPY_MODEL_8f547533b0b145e9a5e6882ce719de4e"
          }
        },
        "87818de01a1746acb2475491b12adc1c": {
          "model_module": "@jupyter-widgets/controls",
          "model_name": "CheckboxModel",
          "model_module_version": "1.5.0",
          "state": {
            "_dom_classes": [],
            "_model_module": "@jupyter-widgets/controls",
            "_model_module_version": "1.5.0",
            "_model_name": "CheckboxModel",
            "_view_count": null,
            "_view_module": "@jupyter-widgets/controls",
            "_view_module_version": "1.5.0",
            "_view_name": "CheckboxView",
            "description": "gender",
            "description_tooltip": null,
            "disabled": false,
            "indent": true,
            "layout": "IPY_MODEL_a4c8666b5215414d8aae08fefb2624fe",
            "style": "IPY_MODEL_05a9e2e0d16d4a1fa5e7c9f94782e9b7",
            "value": false
          }
        },
        "8f547533b0b145e9a5e6882ce719de4e": {
          "model_module": "@jupyter-widgets/base",
          "model_name": "LayoutModel",
          "model_module_version": "1.2.0",
          "state": {
            "_model_module": "@jupyter-widgets/base",
            "_model_module_version": "1.2.0",
            "_model_name": "LayoutModel",
            "_view_count": null,
            "_view_module": "@jupyter-widgets/base",
            "_view_module_version": "1.2.0",
            "_view_name": "LayoutView",
            "align_content": null,
            "align_items": null,
            "align_self": null,
            "border": null,
            "bottom": null,
            "display": null,
            "flex": null,
            "flex_flow": null,
            "grid_area": null,
            "grid_auto_columns": null,
            "grid_auto_flow": null,
            "grid_auto_rows": null,
            "grid_column": null,
            "grid_gap": null,
            "grid_row": null,
            "grid_template_areas": null,
            "grid_template_columns": null,
            "grid_template_rows": null,
            "height": null,
            "justify_content": null,
            "justify_items": null,
            "left": null,
            "margin": null,
            "max_height": null,
            "max_width": null,
            "min_height": null,
            "min_width": null,
            "object_fit": null,
            "object_position": null,
            "order": null,
            "overflow": null,
            "overflow_x": null,
            "overflow_y": null,
            "padding": null,
            "right": null,
            "top": null,
            "visibility": null,
            "width": null
          }
        },
        "a4c8666b5215414d8aae08fefb2624fe": {
          "model_module": "@jupyter-widgets/base",
          "model_name": "LayoutModel",
          "model_module_version": "1.2.0",
          "state": {
            "_model_module": "@jupyter-widgets/base",
            "_model_module_version": "1.2.0",
            "_model_name": "LayoutModel",
            "_view_count": null,
            "_view_module": "@jupyter-widgets/base",
            "_view_module_version": "1.2.0",
            "_view_name": "LayoutView",
            "align_content": null,
            "align_items": null,
            "align_self": null,
            "border": null,
            "bottom": null,
            "display": null,
            "flex": null,
            "flex_flow": null,
            "grid_area": null,
            "grid_auto_columns": null,
            "grid_auto_flow": null,
            "grid_auto_rows": null,
            "grid_column": null,
            "grid_gap": null,
            "grid_row": null,
            "grid_template_areas": null,
            "grid_template_columns": null,
            "grid_template_rows": null,
            "height": null,
            "justify_content": null,
            "justify_items": null,
            "left": null,
            "margin": null,
            "max_height": null,
            "max_width": null,
            "min_height": null,
            "min_width": null,
            "object_fit": null,
            "object_position": null,
            "order": null,
            "overflow": null,
            "overflow_x": null,
            "overflow_y": null,
            "padding": null,
            "right": null,
            "top": null,
            "visibility": null,
            "width": null
          }
        },
        "05a9e2e0d16d4a1fa5e7c9f94782e9b7": {
          "model_module": "@jupyter-widgets/controls",
          "model_name": "DescriptionStyleModel",
          "model_module_version": "1.5.0",
          "state": {
            "_model_module": "@jupyter-widgets/controls",
            "_model_module_version": "1.5.0",
            "_model_name": "DescriptionStyleModel",
            "_view_count": null,
            "_view_module": "@jupyter-widgets/base",
            "_view_module_version": "1.2.0",
            "_view_name": "StyleView",
            "description_width": ""
          }
        },
        "b54a4a5f47314b2caf359d7a1ceccfad": {
          "model_module": "@jupyter-widgets/controls",
          "model_name": "HBoxModel",
          "model_module_version": "1.5.0",
          "state": {
            "_dom_classes": [],
            "_model_module": "@jupyter-widgets/controls",
            "_model_module_version": "1.5.0",
            "_model_name": "HBoxModel",
            "_view_count": null,
            "_view_module": "@jupyter-widgets/controls",
            "_view_module_version": "1.5.0",
            "_view_name": "HBoxView",
            "box_style": "",
            "children": [
              "IPY_MODEL_68935f16dfcc4cce9c2059229e931c04",
              "IPY_MODEL_0eb8ba19fbab44b1aef059a1d93effdb"
            ],
            "layout": "IPY_MODEL_d828e5047704466a864d791f1d346e7b"
          }
        },
        "68935f16dfcc4cce9c2059229e931c04": {
          "model_module": "@jupyter-widgets/controls",
          "model_name": "CheckboxModel",
          "model_module_version": "1.5.0",
          "state": {
            "_dom_classes": [],
            "_model_module": "@jupyter-widgets/controls",
            "_model_module_version": "1.5.0",
            "_model_name": "CheckboxModel",
            "_view_count": null,
            "_view_module": "@jupyter-widgets/controls",
            "_view_module_version": "1.5.0",
            "_view_name": "CheckboxView",
            "description": "age",
            "description_tooltip": null,
            "disabled": false,
            "indent": true,
            "layout": "IPY_MODEL_e2ce71d65f7d44379a8bcc8d3d0abbf3",
            "style": "IPY_MODEL_d23842dac6804a358fbef14ee0d3642c",
            "value": false
          }
        },
        "d828e5047704466a864d791f1d346e7b": {
          "model_module": "@jupyter-widgets/base",
          "model_name": "LayoutModel",
          "model_module_version": "1.2.0",
          "state": {
            "_model_module": "@jupyter-widgets/base",
            "_model_module_version": "1.2.0",
            "_model_name": "LayoutModel",
            "_view_count": null,
            "_view_module": "@jupyter-widgets/base",
            "_view_module_version": "1.2.0",
            "_view_name": "LayoutView",
            "align_content": null,
            "align_items": null,
            "align_self": null,
            "border": null,
            "bottom": null,
            "display": null,
            "flex": null,
            "flex_flow": null,
            "grid_area": null,
            "grid_auto_columns": null,
            "grid_auto_flow": null,
            "grid_auto_rows": null,
            "grid_column": null,
            "grid_gap": null,
            "grid_row": null,
            "grid_template_areas": null,
            "grid_template_columns": null,
            "grid_template_rows": null,
            "height": null,
            "justify_content": null,
            "justify_items": null,
            "left": null,
            "margin": null,
            "max_height": null,
            "max_width": null,
            "min_height": null,
            "min_width": null,
            "object_fit": null,
            "object_position": null,
            "order": null,
            "overflow": null,
            "overflow_x": null,
            "overflow_y": null,
            "padding": null,
            "right": null,
            "top": null,
            "visibility": null,
            "width": null
          }
        },
        "e2ce71d65f7d44379a8bcc8d3d0abbf3": {
          "model_module": "@jupyter-widgets/base",
          "model_name": "LayoutModel",
          "model_module_version": "1.2.0",
          "state": {
            "_model_module": "@jupyter-widgets/base",
            "_model_module_version": "1.2.0",
            "_model_name": "LayoutModel",
            "_view_count": null,
            "_view_module": "@jupyter-widgets/base",
            "_view_module_version": "1.2.0",
            "_view_name": "LayoutView",
            "align_content": null,
            "align_items": null,
            "align_self": null,
            "border": null,
            "bottom": null,
            "display": null,
            "flex": null,
            "flex_flow": null,
            "grid_area": null,
            "grid_auto_columns": null,
            "grid_auto_flow": null,
            "grid_auto_rows": null,
            "grid_column": null,
            "grid_gap": null,
            "grid_row": null,
            "grid_template_areas": null,
            "grid_template_columns": null,
            "grid_template_rows": null,
            "height": null,
            "justify_content": null,
            "justify_items": null,
            "left": null,
            "margin": null,
            "max_height": null,
            "max_width": null,
            "min_height": null,
            "min_width": null,
            "object_fit": null,
            "object_position": null,
            "order": null,
            "overflow": null,
            "overflow_x": null,
            "overflow_y": null,
            "padding": null,
            "right": null,
            "top": null,
            "visibility": null,
            "width": null
          }
        },
        "d23842dac6804a358fbef14ee0d3642c": {
          "model_module": "@jupyter-widgets/controls",
          "model_name": "DescriptionStyleModel",
          "model_module_version": "1.5.0",
          "state": {
            "_model_module": "@jupyter-widgets/controls",
            "_model_module_version": "1.5.0",
            "_model_name": "DescriptionStyleModel",
            "_view_count": null,
            "_view_module": "@jupyter-widgets/base",
            "_view_module_version": "1.2.0",
            "_view_name": "StyleView",
            "description_width": ""
          }
        },
        "c63962d0da204ee19c6115f0cd48fcbd": {
          "model_module": "@jupyter-widgets/controls",
          "model_name": "HBoxModel",
          "model_module_version": "1.5.0",
          "state": {
            "_dom_classes": [],
            "_model_module": "@jupyter-widgets/controls",
            "_model_module_version": "1.5.0",
            "_model_name": "HBoxModel",
            "_view_count": null,
            "_view_module": "@jupyter-widgets/controls",
            "_view_module_version": "1.5.0",
            "_view_name": "HBoxView",
            "box_style": "",
            "children": [
              "IPY_MODEL_952a7fbf03d445fbb572cba40e18095e",
              "IPY_MODEL_8033bbf0614a47809090a5df4374a804"
            ],
            "layout": "IPY_MODEL_ff253acf82d04a708514e3e3a42468f1"
          }
        },
        "952a7fbf03d445fbb572cba40e18095e": {
          "model_module": "@jupyter-widgets/controls",
          "model_name": "CheckboxModel",
          "model_module_version": "1.5.0",
          "state": {
            "_dom_classes": [],
            "_model_module": "@jupyter-widgets/controls",
            "_model_module_version": "1.5.0",
            "_model_name": "CheckboxModel",
            "_view_count": null,
            "_view_module": "@jupyter-widgets/controls",
            "_view_module_version": "1.5.0",
            "_view_name": "CheckboxView",
            "description": "occu",
            "description_tooltip": null,
            "disabled": false,
            "indent": true,
            "layout": "IPY_MODEL_889441a25d1440708f5914fc200eb916",
            "style": "IPY_MODEL_ac3038475dd84c129a7a52397de0a59d",
            "value": false
          }
        },
        "ff253acf82d04a708514e3e3a42468f1": {
          "model_module": "@jupyter-widgets/base",
          "model_name": "LayoutModel",
          "model_module_version": "1.2.0",
          "state": {
            "_model_module": "@jupyter-widgets/base",
            "_model_module_version": "1.2.0",
            "_model_name": "LayoutModel",
            "_view_count": null,
            "_view_module": "@jupyter-widgets/base",
            "_view_module_version": "1.2.0",
            "_view_name": "LayoutView",
            "align_content": null,
            "align_items": null,
            "align_self": null,
            "border": null,
            "bottom": null,
            "display": null,
            "flex": null,
            "flex_flow": null,
            "grid_area": null,
            "grid_auto_columns": null,
            "grid_auto_flow": null,
            "grid_auto_rows": null,
            "grid_column": null,
            "grid_gap": null,
            "grid_row": null,
            "grid_template_areas": null,
            "grid_template_columns": null,
            "grid_template_rows": null,
            "height": null,
            "justify_content": null,
            "justify_items": null,
            "left": null,
            "margin": null,
            "max_height": null,
            "max_width": null,
            "min_height": null,
            "min_width": null,
            "object_fit": null,
            "object_position": null,
            "order": null,
            "overflow": null,
            "overflow_x": null,
            "overflow_y": null,
            "padding": null,
            "right": null,
            "top": null,
            "visibility": null,
            "width": null
          }
        },
        "889441a25d1440708f5914fc200eb916": {
          "model_module": "@jupyter-widgets/base",
          "model_name": "LayoutModel",
          "model_module_version": "1.2.0",
          "state": {
            "_model_module": "@jupyter-widgets/base",
            "_model_module_version": "1.2.0",
            "_model_name": "LayoutModel",
            "_view_count": null,
            "_view_module": "@jupyter-widgets/base",
            "_view_module_version": "1.2.0",
            "_view_name": "LayoutView",
            "align_content": null,
            "align_items": null,
            "align_self": null,
            "border": null,
            "bottom": null,
            "display": null,
            "flex": null,
            "flex_flow": null,
            "grid_area": null,
            "grid_auto_columns": null,
            "grid_auto_flow": null,
            "grid_auto_rows": null,
            "grid_column": null,
            "grid_gap": null,
            "grid_row": null,
            "grid_template_areas": null,
            "grid_template_columns": null,
            "grid_template_rows": null,
            "height": null,
            "justify_content": null,
            "justify_items": null,
            "left": null,
            "margin": null,
            "max_height": null,
            "max_width": null,
            "min_height": null,
            "min_width": null,
            "object_fit": null,
            "object_position": null,
            "order": null,
            "overflow": null,
            "overflow_x": null,
            "overflow_y": null,
            "padding": null,
            "right": null,
            "top": null,
            "visibility": null,
            "width": null
          }
        },
        "ac3038475dd84c129a7a52397de0a59d": {
          "model_module": "@jupyter-widgets/controls",
          "model_name": "DescriptionStyleModel",
          "model_module_version": "1.5.0",
          "state": {
            "_model_module": "@jupyter-widgets/controls",
            "_model_module_version": "1.5.0",
            "_model_name": "DescriptionStyleModel",
            "_view_count": null,
            "_view_module": "@jupyter-widgets/base",
            "_view_module_version": "1.2.0",
            "_view_name": "StyleView",
            "description_width": ""
          }
        },
        "d459a04db39e4ce9960b9b35329952fc": {
          "model_module": "@jupyter-widgets/controls",
          "model_name": "HBoxModel",
          "model_module_version": "1.5.0",
          "state": {
            "_dom_classes": [],
            "_model_module": "@jupyter-widgets/controls",
            "_model_module_version": "1.5.0",
            "_model_name": "HBoxModel",
            "_view_count": null,
            "_view_module": "@jupyter-widgets/controls",
            "_view_module_version": "1.5.0",
            "_view_name": "HBoxView",
            "box_style": "",
            "children": [
              "IPY_MODEL_47daadd2509d4061b7133341d454dd2c",
              "IPY_MODEL_43ef290518d2460db7453efffac40e63"
            ],
            "layout": "IPY_MODEL_0e9ace6ec2f64d608765798fc896c531"
          }
        },
        "47daadd2509d4061b7133341d454dd2c": {
          "model_module": "@jupyter-widgets/controls",
          "model_name": "CheckboxModel",
          "model_module_version": "1.5.0",
          "state": {
            "_dom_classes": [],
            "_model_module": "@jupyter-widgets/controls",
            "_model_module_version": "1.5.0",
            "_model_name": "CheckboxModel",
            "_view_count": null,
            "_view_module": "@jupyter-widgets/controls",
            "_view_module_version": "1.5.0",
            "_view_name": "CheckboxView",
            "description": "is_student",
            "description_tooltip": null,
            "disabled": false,
            "indent": true,
            "layout": "IPY_MODEL_c3aad9938d4c4e74963f0be4c84b4b57",
            "style": "IPY_MODEL_a31f3923a59b4b89af2b1d3c9dbf9627",
            "value": false
          }
        },
        "0e9ace6ec2f64d608765798fc896c531": {
          "model_module": "@jupyter-widgets/base",
          "model_name": "LayoutModel",
          "model_module_version": "1.2.0",
          "state": {
            "_model_module": "@jupyter-widgets/base",
            "_model_module_version": "1.2.0",
            "_model_name": "LayoutModel",
            "_view_count": null,
            "_view_module": "@jupyter-widgets/base",
            "_view_module_version": "1.2.0",
            "_view_name": "LayoutView",
            "align_content": null,
            "align_items": null,
            "align_self": null,
            "border": null,
            "bottom": null,
            "display": null,
            "flex": null,
            "flex_flow": null,
            "grid_area": null,
            "grid_auto_columns": null,
            "grid_auto_flow": null,
            "grid_auto_rows": null,
            "grid_column": null,
            "grid_gap": null,
            "grid_row": null,
            "grid_template_areas": null,
            "grid_template_columns": null,
            "grid_template_rows": null,
            "height": null,
            "justify_content": null,
            "justify_items": null,
            "left": null,
            "margin": null,
            "max_height": null,
            "max_width": null,
            "min_height": null,
            "min_width": null,
            "object_fit": null,
            "object_position": null,
            "order": null,
            "overflow": null,
            "overflow_x": null,
            "overflow_y": null,
            "padding": null,
            "right": null,
            "top": null,
            "visibility": null,
            "width": null
          }
        },
        "c3aad9938d4c4e74963f0be4c84b4b57": {
          "model_module": "@jupyter-widgets/base",
          "model_name": "LayoutModel",
          "model_module_version": "1.2.0",
          "state": {
            "_model_module": "@jupyter-widgets/base",
            "_model_module_version": "1.2.0",
            "_model_name": "LayoutModel",
            "_view_count": null,
            "_view_module": "@jupyter-widgets/base",
            "_view_module_version": "1.2.0",
            "_view_name": "LayoutView",
            "align_content": null,
            "align_items": null,
            "align_self": null,
            "border": null,
            "bottom": null,
            "display": null,
            "flex": null,
            "flex_flow": null,
            "grid_area": null,
            "grid_auto_columns": null,
            "grid_auto_flow": null,
            "grid_auto_rows": null,
            "grid_column": null,
            "grid_gap": null,
            "grid_row": null,
            "grid_template_areas": null,
            "grid_template_columns": null,
            "grid_template_rows": null,
            "height": null,
            "justify_content": null,
            "justify_items": null,
            "left": null,
            "margin": null,
            "max_height": null,
            "max_width": null,
            "min_height": null,
            "min_width": null,
            "object_fit": null,
            "object_position": null,
            "order": null,
            "overflow": null,
            "overflow_x": null,
            "overflow_y": null,
            "padding": null,
            "right": null,
            "top": null,
            "visibility": null,
            "width": null
          }
        },
        "a31f3923a59b4b89af2b1d3c9dbf9627": {
          "model_module": "@jupyter-widgets/controls",
          "model_name": "DescriptionStyleModel",
          "model_module_version": "1.5.0",
          "state": {
            "_model_module": "@jupyter-widgets/controls",
            "_model_module_version": "1.5.0",
            "_model_name": "DescriptionStyleModel",
            "_view_count": null,
            "_view_module": "@jupyter-widgets/base",
            "_view_module_version": "1.2.0",
            "_view_name": "StyleView",
            "description_width": ""
          }
        },
        "9703094014ef4848b3259fd8f0c9b9ea": {
          "model_module": "@jupyter-widgets/controls",
          "model_name": "LabelModel",
          "model_module_version": "1.5.0",
          "state": {
            "_dom_classes": [],
            "_model_module": "@jupyter-widgets/controls",
            "_model_module_version": "1.5.0",
            "_model_name": "LabelModel",
            "_view_count": null,
            "_view_module": "@jupyter-widgets/controls",
            "_view_module_version": "1.5.0",
            "_view_name": "LabelView",
            "description": "",
            "description_tooltip": null,
            "layout": "IPY_MODEL_cf30fef25d9243d493c3b6340708e5ff",
            "placeholder": "​",
            "style": "IPY_MODEL_a95af64bbf9f45548a98e8da77679d6e",
            "value": "Make Wordclouds:"
          }
        },
        "cf30fef25d9243d493c3b6340708e5ff": {
          "model_module": "@jupyter-widgets/base",
          "model_name": "LayoutModel",
          "model_module_version": "1.2.0",
          "state": {
            "_model_module": "@jupyter-widgets/base",
            "_model_module_version": "1.2.0",
            "_model_name": "LayoutModel",
            "_view_count": null,
            "_view_module": "@jupyter-widgets/base",
            "_view_module_version": "1.2.0",
            "_view_name": "LayoutView",
            "align_content": null,
            "align_items": null,
            "align_self": null,
            "border": null,
            "bottom": null,
            "display": null,
            "flex": null,
            "flex_flow": null,
            "grid_area": null,
            "grid_auto_columns": null,
            "grid_auto_flow": null,
            "grid_auto_rows": null,
            "grid_column": null,
            "grid_gap": null,
            "grid_row": null,
            "grid_template_areas": null,
            "grid_template_columns": null,
            "grid_template_rows": null,
            "height": null,
            "justify_content": null,
            "justify_items": null,
            "left": null,
            "margin": null,
            "max_height": null,
            "max_width": null,
            "min_height": null,
            "min_width": null,
            "object_fit": null,
            "object_position": null,
            "order": null,
            "overflow": null,
            "overflow_x": null,
            "overflow_y": null,
            "padding": null,
            "right": null,
            "top": null,
            "visibility": null,
            "width": null
          }
        },
        "a95af64bbf9f45548a98e8da77679d6e": {
          "model_module": "@jupyter-widgets/controls",
          "model_name": "DescriptionStyleModel",
          "model_module_version": "1.5.0",
          "state": {
            "_model_module": "@jupyter-widgets/controls",
            "_model_module_version": "1.5.0",
            "_model_name": "DescriptionStyleModel",
            "_view_count": null,
            "_view_module": "@jupyter-widgets/base",
            "_view_module_version": "1.2.0",
            "_view_name": "StyleView",
            "description_width": ""
          }
        },
        "f2093d2f6fc9411c9fe469ef1f8f8a9a": {
          "model_module": "@jupyter-widgets/controls",
          "model_name": "CheckboxModel",
          "model_module_version": "1.5.0",
          "state": {
            "_dom_classes": [],
            "_model_module": "@jupyter-widgets/controls",
            "_model_module_version": "1.5.0",
            "_model_name": "CheckboxModel",
            "_view_count": null,
            "_view_module": "@jupyter-widgets/controls",
            "_view_module_version": "1.5.0",
            "_view_name": "CheckboxView",
            "description": "Enable Wordclouds",
            "description_tooltip": null,
            "disabled": false,
            "indent": true,
            "layout": "IPY_MODEL_7fd6e9d3ca244a72938ec5e787382760",
            "style": "IPY_MODEL_1b159e9c411142b9ad72fdc6a0466419",
            "value": false
          }
        },
        "7fd6e9d3ca244a72938ec5e787382760": {
          "model_module": "@jupyter-widgets/base",
          "model_name": "LayoutModel",
          "model_module_version": "1.2.0",
          "state": {
            "_model_module": "@jupyter-widgets/base",
            "_model_module_version": "1.2.0",
            "_model_name": "LayoutModel",
            "_view_count": null,
            "_view_module": "@jupyter-widgets/base",
            "_view_module_version": "1.2.0",
            "_view_name": "LayoutView",
            "align_content": null,
            "align_items": null,
            "align_self": null,
            "border": null,
            "bottom": null,
            "display": null,
            "flex": null,
            "flex_flow": null,
            "grid_area": null,
            "grid_auto_columns": null,
            "grid_auto_flow": null,
            "grid_auto_rows": null,
            "grid_column": null,
            "grid_gap": null,
            "grid_row": null,
            "grid_template_areas": null,
            "grid_template_columns": null,
            "grid_template_rows": null,
            "height": null,
            "justify_content": null,
            "justify_items": null,
            "left": null,
            "margin": null,
            "max_height": null,
            "max_width": null,
            "min_height": null,
            "min_width": null,
            "object_fit": null,
            "object_position": null,
            "order": null,
            "overflow": null,
            "overflow_x": null,
            "overflow_y": null,
            "padding": null,
            "right": null,
            "top": null,
            "visibility": null,
            "width": null
          }
        },
        "1b159e9c411142b9ad72fdc6a0466419": {
          "model_module": "@jupyter-widgets/controls",
          "model_name": "DescriptionStyleModel",
          "model_module_version": "1.5.0",
          "state": {
            "_model_module": "@jupyter-widgets/controls",
            "_model_module_version": "1.5.0",
            "_model_name": "DescriptionStyleModel",
            "_view_count": null,
            "_view_module": "@jupyter-widgets/base",
            "_view_module_version": "1.2.0",
            "_view_name": "StyleView",
            "description_width": ""
          }
        },
        "748ff6116a56487ba6e0a4cd79b492d5": {
          "model_module": "@jupyter-widgets/controls",
          "model_name": "ButtonModel",
          "model_module_version": "1.5.0",
          "state": {
            "_dom_classes": [],
            "_model_module": "@jupyter-widgets/controls",
            "_model_module_version": "1.5.0",
            "_model_name": "ButtonModel",
            "_view_count": null,
            "_view_module": "@jupyter-widgets/controls",
            "_view_module_version": "1.5.0",
            "_view_name": "ButtonView",
            "button_style": "",
            "description": "Submit",
            "disabled": false,
            "icon": "",
            "layout": "IPY_MODEL_5364c73dc23a4b1d98f57a7c5e4e8431",
            "style": "IPY_MODEL_849f5c16a35c4990a369b07c8debbfc1",
            "tooltip": ""
          }
        },
        "5364c73dc23a4b1d98f57a7c5e4e8431": {
          "model_module": "@jupyter-widgets/base",
          "model_name": "LayoutModel",
          "model_module_version": "1.2.0",
          "state": {
            "_model_module": "@jupyter-widgets/base",
            "_model_module_version": "1.2.0",
            "_model_name": "LayoutModel",
            "_view_count": null,
            "_view_module": "@jupyter-widgets/base",
            "_view_module_version": "1.2.0",
            "_view_name": "LayoutView",
            "align_content": null,
            "align_items": null,
            "align_self": null,
            "border": null,
            "bottom": null,
            "display": null,
            "flex": null,
            "flex_flow": null,
            "grid_area": null,
            "grid_auto_columns": null,
            "grid_auto_flow": null,
            "grid_auto_rows": null,
            "grid_column": null,
            "grid_gap": null,
            "grid_row": null,
            "grid_template_areas": null,
            "grid_template_columns": null,
            "grid_template_rows": null,
            "height": null,
            "justify_content": null,
            "justify_items": null,
            "left": null,
            "margin": null,
            "max_height": null,
            "max_width": null,
            "min_height": null,
            "min_width": null,
            "object_fit": null,
            "object_position": null,
            "order": null,
            "overflow": null,
            "overflow_x": null,
            "overflow_y": null,
            "padding": null,
            "right": null,
            "top": null,
            "visibility": null,
            "width": null
          }
        },
        "849f5c16a35c4990a369b07c8debbfc1": {
          "model_module": "@jupyter-widgets/controls",
          "model_name": "ButtonStyleModel",
          "model_module_version": "1.5.0",
          "state": {
            "_model_module": "@jupyter-widgets/controls",
            "_model_module_version": "1.5.0",
            "_model_name": "ButtonStyleModel",
            "_view_count": null,
            "_view_module": "@jupyter-widgets/base",
            "_view_module_version": "1.2.0",
            "_view_name": "StyleView",
            "button_color": null,
            "font_weight": ""
          }
        }
      }
    }
  },
  "nbformat": 4,
  "nbformat_minor": 0
}