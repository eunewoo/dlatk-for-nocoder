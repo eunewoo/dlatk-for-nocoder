{
  "cells": [
    {
      "cell_type": "markdown",
      "metadata": {
        "id": "view-in-github",
        "colab_type": "text"
      },
      "source": [
        "<a href=\"https://colab.research.google.com/github/eunewoo/dlatk-for-nocoder/blob/main/Copy_of_Practice_of_DLATK2_2_Colab_Tutorial_for_Differential_Language_Analysis_(Getting_Started).ipynb\" target=\"_parent\"><img src=\"https://colab.research.google.com/assets/colab-badge.svg\" alt=\"Open In Colab\"/></a>"
      ]
    },
    {
      "cell_type": "markdown",
      "metadata": {
        "id": "0Jf8iKr5C_nO"
      },
      "source": [
        "<h1> DLATK - Colab Tutorial for Differential Language Analysis </h1>\n",
        "\n",
        "This tutorial covers:\n",
        "\n",
        "<img src=\"https://drive.google.com/uc?export=view&id=16SgSLj9KkmxUX8LEeFNsq0GRE4gqvQux\" height=\"170\"/>"
      ]
    },
    {
      "cell_type": "markdown",
      "metadata": {
        "id": "-TnZ_cBOTGBZ"
      },
      "source": [
        "# STEP1: Setup Colab\n"
      ]
    },
    {
      "cell_type": "code",
      "source": [
        "#@markdown Click the __Play button__ to the left to start the setup. Proceed to the next stage once you see:\n",
        "\n",
        "#@markdown \"DLATK setup completed successfully. Enjoy your analysis!\"\n",
        "\n",
        "from IPython.utils import io\n",
        "import subprocess\n",
        "\n",
        "def setup_dlatk():\n",
        "    # Install DLATK with additional features\n",
        "    subprocess.run(\"pip install dlatk[wordcloud,langid]\", shell=True)\n",
        "\n",
        "    # Initialize DLATK for Colab environment\n",
        "    result = subprocess.run(\"dlatkInterface.py --colabify\", shell=True, capture_output=True, text=True)\n",
        "\n",
        "    # Optional: Adjust Colab output for a better experience\n",
        "    try:\n",
        "        from dlatk.tools.colab_methods import colab_shorten_and_bg\n",
        "        colab_shorten_and_bg()  # This shortens output blocks and changes the output background color.\n",
        "    except ImportError as e:\n",
        "        print(\"Some optional setup steps failed:\", e)\n",
        "\n",
        "    return result.stdout + '\\n' + result.stderr\n",
        "\n",
        "# Suppressing the output of the main installation and setup commands\n",
        "with io.capture_output() as captured:\n",
        "    setup_output = setup_dlatk()\n",
        "\n",
        "# Check the captured output for a specific success message\n",
        "if 'DLATK exits with success! A good day indeed' in setup_output:\n",
        "    print(\"DLATK setup completed successfully. Enjoy your analysis!\")\n",
        "else:\n",
        "    print(\"DLATK setup may have encountered issues. Please check the logs for more details.\")\n"
      ],
      "metadata": {
        "id": "a2iGmGWKdcO5",
        "outputId": "dfbaf487-fab9-4cf2-865d-a08eadc9c7ea",
        "colab": {
          "base_uri": "https://localhost:8080/"
        },
        "cellView": "form"
      },
      "execution_count": 1,
      "outputs": [
        {
          "output_type": "stream",
          "name": "stdout",
          "text": [
            "DLATK setup completed successfully. Enjoy your analysis!\n"
          ]
        }
      ]
    },
    {
      "cell_type": "markdown",
      "source": [
        "<a name=\"data\"></a>\n",
        "# STEP2: Upload text data & Select text column"
      ],
      "metadata": {
        "id": "36sjhFU1RGZF"
      }
    },
    {
      "cell_type": "markdown",
      "source": [
        "DLATK uses data in CSV (comma-seprated value) format. Your csv needs at least two columns:\n",
        "* **`message`**: contains the text to be analyzed.\n",
        "* **`user_id`**: contains a user id for each message.\n",
        "\n",
        "<br />\n",
        "\n",
        "The CSV may also have other columns, including other ids you may wish to analyze your data by (e.g. `message_id`). For example,\n",
        "\n",
        "|message_id|message|user_id|created_date|\n",
        "|----------|-------|-------|------------|\n",
        "|17557|urlLink Ananova - New rules on pizza to be introduced|1405024|2004-05-27|\n",
        "|15996|I just read John Kerry's nomination acceptance speech. Christ, he can talk.  God bless America.|3523319|2004-07-29|\n",
        "|27462| Talk about 'better late than never'...   urlLink  Couple Living Together 77 Years Marries   .   Thanks to  urlLink  Zorak  for the link.|942828|2003-04-04|\n",
        "\n",
        "<br />\n",
        "<br />\n",
        "\n",
        "\n",
        "\n",
        "* `Upload from desktop` - your csv data that you want to analyze.\n",
        "* `msgs404u.csv` - sample language data from 404 blog authors.\n",
        "<!-- * `msgs100u.csv` - sample language data from 100 blog authors. -->\n",
        "\n",
        "<br />"
      ],
      "metadata": {
        "id": "K0ya5V1JTZxO"
      }
    },
    {
      "cell_type": "code",
      "source": [
        "import re\n",
        "from google.colab import files\n",
        "import os\n",
        "import csv\n",
        "\n",
        "#@title Upload text data\n",
        "#@markdown ### Select text Dataset or Upload from Desktop\n",
        "#@markdown Choose a text dataset from the dropdown, or select \"Upload from desktop\" to upload your own file.\n",
        "\n",
        "#@markdown After making your selection, click the __play button__ at the top left to proceed.\n",
        "\n",
        "text_filename = \"msgs404u.csv\" #@param [\"Upload from desktop\", \"msgs404u.csv\"]\n",
        "\n",
        "#@markdown If \"Upload from desktop\" is selected, then click the __\"Choose Files\"__ button at the bottom to upload your file.\n",
        "\n",
        "def sanitize_file_name(file_name):\n",
        "    base_file_name = re.sub(r\" \\(\\d+\\)\", \"\", file_name)\n",
        "    if not base_file_name.endswith('.csv'):\n",
        "        base_file_name += '.csv'\n",
        "    return base_file_name\n",
        "\n",
        "def add_message_id_if_missing(file_path):\n",
        "    headers_changed = False\n",
        "    with open(file_path, mode='r', encoding='utf-8') as file:\n",
        "        reader = csv.reader(file)\n",
        "        headers = next(reader, None)\n",
        "\n",
        "        if headers and 'message_id' not in headers:\n",
        "            headers_changed = True\n",
        "            new_rows = [['message_id'] + headers]\n",
        "            new_rows += [[str(i+1)] + row for i, row in enumerate(reader)]\n",
        "\n",
        "    if headers_changed:\n",
        "        with open(file_path, mode='w', encoding='utf-8', newline='') as file:\n",
        "            writer = csv.writer(file)\n",
        "            writer.writerows(new_rows)\n",
        "        print(\"Added 'message_id' column and saved changes.\")\n",
        "    else:\n",
        "        print(\"'message_id' column already exists.\")\n",
        "\n",
        "    #return new_rows\n",
        "\n",
        "if text_filename != \"Upload from desktop\":\n",
        "    file_name = sanitize_file_name(text_filename)\n",
        "    file_path = os.path.join(\"/content\", file_name)\n",
        "    print(f'Text file selected: {file_name}')\n",
        "else:\n",
        "    print(\"Please upload a file from the desktop.\")\n",
        "    uploaded_files = files.upload()\n",
        "    if uploaded_files:\n",
        "        file_name = next(iter(uploaded_files))\n",
        "        file_name = sanitize_file_name(file_name)\n",
        "        file_path = os.path.join(\"/content\", file_name)\n",
        "        headers = add_message_id_if_missing(file_path)\n",
        "        add_message_id_if_missing(file_path)\n",
        "        print(f'Uploaded file name: {file_name}')\n",
        "    else:\n",
        "        print(\"No file uploaded. Please upload a file to proceed.\")\n",
        "\n",
        "if os.path.exists(file_path):\n",
        "    print(f'File ready for use: {file_path}')\n",
        "else:\n",
        "    print(\"File not found. Please ensure the file exists and try again.\")\n"
      ],
      "metadata": {
        "id": "jVMIUBu_9D0H",
        "colab": {
          "base_uri": "https://localhost:8080/",
          "height": 53
        },
        "outputId": "d82b7659-bb2b-4141-8389-65e53747b1bb",
        "cellView": "form"
      },
      "execution_count": 2,
      "outputs": [
        {
          "output_type": "display_data",
          "data": {
            "text/plain": [
              "<IPython.core.display.Javascript object>"
            ],
            "application/javascript": [
              "google.colab.output.setIframeHeight(0, true, {maxHeight: 250})"
            ]
          },
          "metadata": {}
        },
        {
          "output_type": "display_data",
          "data": {
            "text/plain": [
              "<IPython.core.display.HTML object>"
            ],
            "text/html": [
              "<style> body {background-color: rgb(255, 250, 232);}</style>"
            ]
          },
          "metadata": {}
        },
        {
          "output_type": "stream",
          "name": "stdout",
          "text": [
            "Text file selected: msgs404u.csv\n",
            "File ready for use: /content/msgs404u.csv\n"
          ]
        }
      ]
    },
    {
      "cell_type": "code",
      "source": [
        "#@title Select Text Column (unit of analysis)\n",
        "\n",
        "#@markdown Click the __play button__ at the top left to view the dropdown menu.\n",
        "\n",
        "#@markdown __Select__ the Text Column you wish to analyze, then click the \"Run Command\" button.\n",
        "\n",
        "import csv\n",
        "import ipywidgets as widgets\n",
        "from IPython.display import display, clear_output\n",
        "\n",
        "def get_available_columns(file_path):\n",
        "    \"\"\"Read the first row of the CSV file to get the column names.\"\"\"\n",
        "    with open(file_path, mode='r', encoding='utf-8') as file:\n",
        "        reader = csv.reader(file)\n",
        "        headers = next(reader, None)\n",
        "    return headers\n",
        "\n",
        "available_columns = get_available_columns(file_path)\n",
        "\n",
        "text_column_options = [col for col in available_columns if col != \"user\" and not col.endswith(\"_id\")]\n",
        "text_column_dropdown = widgets.Dropdown(options=text_column_options, description='Text Column:')\n",
        "text_confirm_button = widgets.Button(description=\"Confirm Text Column\")\n",
        "output = widgets.Output()\n",
        "\n",
        "def on_text_confirm_button_clicked(b):\n",
        "    global text_column_name\n",
        "    text_column_name = text_column_dropdown.value\n",
        "    with output:\n",
        "        clear_output()\n",
        "        print(f'Text Column confirmed: {text_column_name}')\n",
        "        # Now you should run the next code block to select the ID column\n",
        "\n",
        "text_confirm_button.on_click(on_text_confirm_button_clicked)\n",
        "display(text_column_dropdown, text_confirm_button, output)\n"
      ],
      "metadata": {
        "colab": {
          "base_uri": "https://localhost:8080/",
          "height": 99,
          "referenced_widgets": [
            "6d6a16e56c9c462fadc1b19078d22fe9",
            "92f5cc442d8e459a988fa80294c2eaaf",
            "999ba46c963842868f39dc3d6dffcb6f",
            "94a72dadc94142e78970eae183dac7eb",
            "aca3ac9d577546e1b3cce6659cde142e",
            "1707ea33efe6443f92a6fff2606075da",
            "20fa1cb8893940bfbd5732257c0565be",
            "7d762e080ed346e78415db66baa67ccc"
          ]
        },
        "id": "1JDrQ2WK2pTV",
        "outputId": "ee45501b-4630-454e-fa86-ee7391c9cb23",
        "cellView": "form"
      },
      "execution_count": 3,
      "outputs": [
        {
          "output_type": "display_data",
          "data": {
            "text/plain": [
              "<IPython.core.display.Javascript object>"
            ],
            "application/javascript": [
              "google.colab.output.setIframeHeight(0, true, {maxHeight: 250})"
            ]
          },
          "metadata": {}
        },
        {
          "output_type": "display_data",
          "data": {
            "text/plain": [
              "<IPython.core.display.HTML object>"
            ],
            "text/html": [
              "<style> body {background-color: rgb(255, 250, 232);}</style>"
            ]
          },
          "metadata": {}
        },
        {
          "output_type": "display_data",
          "data": {
            "text/plain": [
              "Dropdown(description='Text Column:', options=('created_date', 'message'), value='created_date')"
            ],
            "application/vnd.jupyter.widget-view+json": {
              "version_major": 2,
              "version_minor": 0,
              "model_id": "6d6a16e56c9c462fadc1b19078d22fe9"
            }
          },
          "metadata": {}
        },
        {
          "output_type": "display_data",
          "data": {
            "text/plain": [
              "Button(description='Confirm Text Column', style=ButtonStyle())"
            ],
            "application/vnd.jupyter.widget-view+json": {
              "version_major": 2,
              "version_minor": 0,
              "model_id": "94a72dadc94142e78970eae183dac7eb"
            }
          },
          "metadata": {}
        },
        {
          "output_type": "display_data",
          "data": {
            "text/plain": [
              "Output()"
            ],
            "application/vnd.jupyter.widget-view+json": {
              "version_major": 2,
              "version_minor": 0,
              "model_id": "20fa1cb8893940bfbd5732257c0565be"
            }
          },
          "metadata": {}
        }
      ]
    },
    {
      "cell_type": "code",
      "source": [
        "#@title Select ID Column (unit of analysis)\n",
        "\n",
        "#@markdown Click the __play button__ at the top left to view the dropdown menu.\n",
        "\n",
        "#@markdown __Select__ the ID Column you wish to analyze, then click the \"Confirm ID Column\" button.\n",
        "\n",
        "import csv\n",
        "import ipywidgets as widgets\n",
        "from IPython.display import display, clear_output\n",
        "\n",
        "# Assuming 'file_path' is defined and accessible\n",
        "# Assuming 'text_column_name' is defined and accessible (selected from Code A)\n",
        "\n",
        "def get_available_columns(file_path):\n",
        "    \"\"\"Read the first row of the CSV file to get the column names.\"\"\"\n",
        "    with open(file_path, mode='r', encoding='utf-8') as file:\n",
        "        reader = csv.reader(file)\n",
        "        headers = next(reader, None)\n",
        "    return headers\n",
        "\n",
        "def add_id_column_if_missing(file_path, column_name):\n",
        "    \"\"\"Adds an ID column if it's missing, appending numbers from 1 upwards to the end of each row.\"\"\"\n",
        "    with open(file_path, mode='r', encoding='utf-8') as file:\n",
        "        reader = list(csv.reader(file))\n",
        "        headers = reader[0]\n",
        "        column_id_name = column_name + '_id'\n",
        "        if column_id_name not in headers:\n",
        "            headers.append(column_id_name)  # Append the new ID column name to the headers\n",
        "            for i, row in enumerate(reader[1:], start=1):  # Start from 1 to skip header row\n",
        "                row.append(str(i))  # Append the new ID value at the end of each row\n",
        "            with open(file_path, mode='w', encoding='utf-8', newline='') as wfile:\n",
        "                writer = csv.writer(wfile)\n",
        "                writer.writerow(headers)  # Write the updated headers\n",
        "                writer.writerows(reader[1:])  # Write the updated data rows, excluding the original headers\n",
        "            print(f\"Added '{column_id_name}' column and saved changes.\")\n",
        "            return True\n",
        "    return False\n",
        "\n",
        "# Attempt to add an ID column if missing\n",
        "add_id_column_if_missing(file_path, text_column_name)\n",
        "\n",
        "# Refresh available columns to include potential new ID column\n",
        "available_columns = get_available_columns(file_path)\n",
        "\n",
        "# Include all columns ending with \"_id\" and the new ID column related to the selected text column\n",
        "id_column_options = [col for col in available_columns if col.endswith(\"_id\")]\n",
        "\n",
        "id_column_dropdown = widgets.Dropdown(options=id_column_options, description='ID Column:', value=None)\n",
        "id_confirm_button = widgets.Button(description=\"Confirm ID Column\")\n",
        "output = widgets.Output()\n",
        "\n",
        "def on_id_confirm_button_clicked(b):\n",
        "    global id_column_name\n",
        "    id_column_name = id_column_dropdown.value\n",
        "    with output:\n",
        "        clear_output()\n",
        "        print(f'ID Column confirmed: {id_column_name}')\n",
        "\n",
        "id_confirm_button.on_click(on_id_confirm_button_clicked)\n",
        "display(id_column_dropdown, id_confirm_button, output)\n"
      ],
      "metadata": {
        "colab": {
          "base_uri": "https://localhost:8080/",
          "height": 99,
          "referenced_widgets": [
            "6a5bd7e9fdfd43c6b92b5b34d823185a",
            "e670ecc4e9b7407da794ce9768206ccf",
            "13916687e02942c89210c080da447149",
            "1e31aec070aa457f85cc18e4b2cfe2a5",
            "ebf87b223829474083527408cef765ab",
            "6d0b7a36e8d344eba80cd71761138281",
            "79097da99a464969afc799acc8596def",
            "743d731867e848eb9e0bb57d48bbdcc0"
          ]
        },
        "id": "T9OmVmaC4nR7",
        "outputId": "cb3eace0-4a25-4b84-a6c0-e76c261cf5c8",
        "cellView": "form"
      },
      "execution_count": 4,
      "outputs": [
        {
          "output_type": "display_data",
          "data": {
            "text/plain": [
              "<IPython.core.display.Javascript object>"
            ],
            "application/javascript": [
              "google.colab.output.setIframeHeight(0, true, {maxHeight: 250})"
            ]
          },
          "metadata": {}
        },
        {
          "output_type": "display_data",
          "data": {
            "text/plain": [
              "<IPython.core.display.HTML object>"
            ],
            "text/html": [
              "<style> body {background-color: rgb(255, 250, 232);}</style>"
            ]
          },
          "metadata": {}
        },
        {
          "output_type": "display_data",
          "data": {
            "text/plain": [
              "Dropdown(description='ID Column:', options=('message_id', 'user_id'), value=None)"
            ],
            "application/vnd.jupyter.widget-view+json": {
              "version_major": 2,
              "version_minor": 0,
              "model_id": "6a5bd7e9fdfd43c6b92b5b34d823185a"
            }
          },
          "metadata": {}
        },
        {
          "output_type": "display_data",
          "data": {
            "text/plain": [
              "Button(description='Confirm ID Column', style=ButtonStyle())"
            ],
            "application/vnd.jupyter.widget-view+json": {
              "version_major": 2,
              "version_minor": 0,
              "model_id": "1e31aec070aa457f85cc18e4b2cfe2a5"
            }
          },
          "metadata": {}
        },
        {
          "output_type": "display_data",
          "data": {
            "text/plain": [
              "Output()"
            ],
            "application/vnd.jupyter.widget-view+json": {
              "version_major": 2,
              "version_minor": 0,
              "model_id": "79097da99a464969afc799acc8596def"
            }
          },
          "metadata": {}
        }
      ]
    },
    {
      "cell_type": "markdown",
      "source": [
        "👉 For detailed information about the columns in the `msgs404u.csv` file, as well as their corresponding outcome files `users404.csv`, you can refer to [this link](https://github.com/dlatk/dlatk/blob/public/dlatk/data/colab_dataset.md). This link contains detailed descriptions of what each column in these datasets represents."
      ],
      "metadata": {
        "id": "c41ypjC0I85n"
      }
    },
    {
      "cell_type": "markdown",
      "source": [
        "<a name=\"data\"></a>\n",
        "# STEP3: Select features to extract & Check tables"
      ],
      "metadata": {
        "id": "RC-tXSgWTnB6"
      }
    },
    {
      "cell_type": "code",
      "source": [
        "import subprocess\n",
        "import ipywidgets as widgets\n",
        "from IPython.display import display, clear_output\n",
        "\n",
        "#@title Select features to extract\n",
        "#@markdown Click the __play button__ at the top left to view the dropdown menu.\n",
        "\n",
        "#@markdown __Select__ the features you wish to analyze, then click the \"Run Command\" button.\n",
        "\n",
        "database_name = \"colab_csv\"\n",
        "file_name_without_extension = file_name.rsplit('.', 1)[0]  # Assuming file_name is defined globally\n",
        "\n",
        "# Dropdown for feature generation options\n",
        "feature_options = widgets.Dropdown(\n",
        "    options=['Select option', '1to2grams-filtered', '1to2grams-unfiltered', 'topics'],\n",
        "    value='Select option',\n",
        "    description='Options:',\n",
        ")\n",
        "\n",
        "# Integer input for advanced topic modeling, hidden by default\n",
        "advanced_options = widgets.IntText(\n",
        "    value=100,\n",
        "    description='Group Freq Thresh:',\n",
        "    style={'description_width': 'initial'},\n",
        "    disabled=False,  # Enable by default but hidden\n",
        "    layout={'visibility': 'hidden'}  # Start with hidden layout\n",
        ")\n",
        "\n",
        "# Text area for displaying output\n",
        "output = widgets.Output()\n",
        "run_button = widgets.Button(description=\"Run Command\")\n",
        "\n",
        "def generate_unfiltered_feature_table():\n",
        "    global generated_feature_table_name\n",
        "    combined_feature_table_name = \"1to2gram\"\n",
        "    command = f\"dlatkInterface.py -d {database_name} -t {file_name} -g {id_column_name} \" \\\n",
        "              f\"--message_field {text_column_name} --messageid_field {text_column_name}_id \" \\\n",
        "              f\"--add_ngrams -n 1 2 --combine_feat_tables {combined_feature_table_name}\"\n",
        "    print(f\"Generating unfiltered 1to2grams feature table: {command}\")\n",
        "    subprocess.run(command, shell=True)\n",
        "    generated_feature_table_name = f\"feat${combined_feature_table_name}${file_name_without_extension}${id_column_name}\"\n",
        "    print(f\"Generated feature table: {generated_feature_table_name}\")\n",
        "\n",
        "def execute_feature_command(b):\n",
        "    global generated_feature_table_name\n",
        "    group_freq_thresh = advanced_options.value if feature_options.value == 'topics' else 100\n",
        "\n",
        "    with output:\n",
        "        clear_output()\n",
        "        if feature_options.value == '1to2grams-unfiltered':\n",
        "            generate_unfiltered_feature_table()\n",
        "\n",
        "        elif feature_options.value == '1to2grams-filtered':\n",
        "            combined_feature_table_name = \"1to2gram\"\n",
        "            command = f\"dlatkInterface.py -d {database_name} -t {file_name} -g {id_column_name} \" \\\n",
        "                      f\"--message_field {text_column_name} --messageid_field {text_column_name}_id \" \\\n",
        "                      f\"--add_ngrams -n 1 2 --combine_feat_tables {combined_feature_table_name} \" \\\n",
        "                      f\"--feat_occ_filter --set_p_occ 0.10 --feat_colloc_filter\"\n",
        "            print(f\"Executing: {command}\")\n",
        "            subprocess.run(command, shell=True)\n",
        "            generated_feature_table_name = f\"feat${combined_feature_table_name}${file_name_without_extension}${id_column_name}$0_1$pmi3_0\"\n",
        "            print(f\"Generated feature table: {generated_feature_table_name}\")\n",
        "\n",
        "        elif feature_options.value == 'topics':\n",
        "            lex_table_name = f\"feat$cat_fb2000_cp_w${file_name_without_extension}${id_column_name}$1gra\"\n",
        "            command = f\"dlatkInterface.py -d {database_name} -t {file_name} -g {id_column_name} \" \\\n",
        "                      f\"--message_field {text_column_name} --messageid_field {text_column_name}_id \" \\\n",
        "                      f\"--group_freq_thresh {group_freq_thresh} --add_lex_table -l fb2000_cp --weighted_lexicon\"\n",
        "            print(f\"Executing: {command}\")\n",
        "            subprocess.run(command, shell=True)\n",
        "            print(f\"Generated LDA feature table: {lex_table_name}\")\n",
        "\n",
        "def on_feature_change(change):\n",
        "    if change['new'] == 'topics':\n",
        "        advanced_options.layout.visibility = 'visible'  # Make visible\n",
        "    else:\n",
        "        advanced_options.layout.visibility = 'hidden'  # Hide\n",
        "        advanced_options.value = 100  # Reset to default when not on 'topics'\n",
        "\n",
        "feature_options.observe(on_feature_change, names='value')\n",
        "\n",
        "run_button.on_click(execute_feature_command)\n",
        "display(feature_options, advanced_options, run_button, output)\n"
      ],
      "metadata": {
        "colab": {
          "base_uri": "https://localhost:8080/",
          "height": 165,
          "referenced_widgets": [
            "0880732bb4ca439fa6e30272bb71887f",
            "a70fedca2f4a4fa79d87db439625d5e2",
            "93e5f38803324b7d98a20569dae27e4c",
            "a724d854b5e946519f4e6c50a0eb93a8",
            "33af4f51875e490eb44dc25ecb89777c",
            "d7363cd073ed46fa81564d11e13c122e",
            "ae6d0d53be034262987f5e28e2094c0b",
            "ecfb07ecb03d4e73bcf8aafca7020f02",
            "3ca76897f83c46a9a299eebb893f6ca0",
            "7bc4a625f8c54c4bb8dbb0ac9ac98272",
            "57c7715ab81f4b3db2f80e5ef7c02a71"
          ]
        },
        "id": "iZzIZB-xqRWZ",
        "outputId": "1bd8a5ae-2fd2-4047-9d8a-0350d49381ac"
      },
      "execution_count": 8,
      "outputs": [
        {
          "output_type": "display_data",
          "data": {
            "text/plain": [
              "<IPython.core.display.Javascript object>"
            ],
            "application/javascript": [
              "google.colab.output.setIframeHeight(0, true, {maxHeight: 250})"
            ]
          },
          "metadata": {}
        },
        {
          "output_type": "display_data",
          "data": {
            "text/plain": [
              "<IPython.core.display.HTML object>"
            ],
            "text/html": [
              "<style> body {background-color: rgb(255, 250, 232);}</style>"
            ]
          },
          "metadata": {}
        },
        {
          "output_type": "display_data",
          "data": {
            "text/plain": [
              "Dropdown(description='Options:', options=('Select option', '1to2grams-filtered', '1to2grams-unfiltered', 'topi…"
            ],
            "application/vnd.jupyter.widget-view+json": {
              "version_major": 2,
              "version_minor": 0,
              "model_id": "0880732bb4ca439fa6e30272bb71887f"
            }
          },
          "metadata": {}
        },
        {
          "output_type": "display_data",
          "data": {
            "text/plain": [
              "IntText(value=100, description='Group Freq Thresh:', layout=Layout(visibility='hidden'), style=DescriptionStyl…"
            ],
            "application/vnd.jupyter.widget-view+json": {
              "version_major": 2,
              "version_minor": 0,
              "model_id": "a724d854b5e946519f4e6c50a0eb93a8"
            }
          },
          "metadata": {}
        },
        {
          "output_type": "display_data",
          "data": {
            "text/plain": [
              "Button(description='Run Command', style=ButtonStyle())"
            ],
            "application/vnd.jupyter.widget-view+json": {
              "version_major": 2,
              "version_minor": 0,
              "model_id": "ae6d0d53be034262987f5e28e2094c0b"
            }
          },
          "metadata": {}
        },
        {
          "output_type": "display_data",
          "data": {
            "text/plain": [
              "Output()"
            ],
            "application/vnd.jupyter.widget-view+json": {
              "version_major": 2,
              "version_minor": 0,
              "model_id": "7bc4a625f8c54c4bb8dbb0ac9ac98272"
            }
          },
          "metadata": {}
        }
      ]
    },
    {
      "cell_type": "code",
      "source": [
        "#@markdown Test code: Check which tables are formed so far\n",
        "\n",
        "!dlatkInterface.py \\\n",
        "  -d colab_csv -t msgs404u.csv -g user_id \\\n",
        "  --show_feat_tables"
      ],
      "metadata": {
        "colab": {
          "base_uri": "https://localhost:8080/",
          "height": 250
        },
        "id": "fD9-3UViEuli",
        "outputId": "fc96ebdf-a2f8-4f4d-bb51-b5c6c5ff1709",
        "cellView": "form"
      },
      "execution_count": 7,
      "outputs": [
        {
          "output_type": "display_data",
          "data": {
            "text/plain": [
              "<IPython.core.display.Javascript object>"
            ],
            "application/javascript": [
              "google.colab.output.setIframeHeight(0, true, {maxHeight: 250})"
            ]
          },
          "metadata": {}
        },
        {
          "output_type": "display_data",
          "data": {
            "text/plain": [
              "<IPython.core.display.HTML object>"
            ],
            "text/html": [
              "<style> body {background-color: rgb(255, 250, 232);}</style>"
            ]
          },
          "metadata": {}
        },
        {
          "output_type": "stream",
          "name": "stdout",
          "text": [
            "\n",
            "\n",
            "TopicExtractor: gensim Mallet wrapper unavailable, using Mallet directly.\n",
            "\n",
            "-----\n",
            "DLATK Interface Initiated: 2024-04-28 16:14:31\n",
            "-----\n",
            "Connecting to SQLite database: /content/sqlite_data/colab_csv.db\n",
            "\n",
            "Found 8 available tables\n",
            "----\n",
            "feat$cat_fb2000_cp_w$msgs404u$user_id$1gra\n",
            "feat$1gram$msgs404u$user_id\n",
            "feat$meta_1gram$msgs404u$user_id\n",
            "feat$2gram$msgs404u$user_id\n",
            "feat$meta_2gram$msgs404u$user_id\n",
            "feat$1to2gram$msgs404u$user_id\n",
            "feat$1to2gram$msgs404u$user_id$0_1\n",
            "feat$1to2gram$msgs404u$user_id$0_1$pmi3_0\n",
            "-------\n",
            "Settings:\n",
            "\n",
            "Database - colab_csv\n",
            "Corpus - msgs404u.csv\n",
            "Group ID - user_id\n",
            "-------\n",
            "Interface Runtime: 0.01 seconds\n",
            "DLATK exits with success! A good day indeed  ¯\\_(ツ)_/¯.\n"
          ]
        }
      ]
    },
    {
      "cell_type": "code",
      "source": [
        "import subprocess\n",
        "import ipywidgets as widgets\n",
        "from IPython.display import display, clear_output\n",
        "\n",
        "#@title Feature Tables Management { display-mode: \"form\" }\n",
        "#@markdown **Click the play button** to display feature tables from your previously uploaded file, save your selections, and view a specific table.\n",
        "\n",
        "#@markdown After making a selection, the first 10 rows of the chosen feature table will be displayed within 3 seconds.\n",
        "\n",
        "\n",
        "\n",
        "# Mapping of user-friendly option names to their corresponding command strings\n",
        "feature_table_mapping = {\n",
        "    \"1to2grams-filtered-table\": f\"feat$1to2gram${file_name_without_extension}${id_column_name}$0_1$pmi3_0\",\n",
        "    \"1to2grams-unfiltered-table\": f\"feat$1to2gram${file_name_without_extension}${id_column_name}\",\n",
        "    \"topics-table\": f\"feat$cat_fb2000_cp_w${file_name_without_extension}${id_column_name}$1gra\"  # Adding topics-related feature table option\n",
        "}\n",
        "\n",
        "# Create a dropdown for selecting the feature table using the friendly names\n",
        "dropdown = widgets.Dropdown(\n",
        "    options=[(key, value) for key, value in feature_table_mapping.items()],\n",
        "    description='Select Table:',\n",
        "    style={'description_width': 'initial'}\n",
        ")\n",
        "\n",
        "# Text area for displaying output\n",
        "output_text_area = widgets.Output()\n",
        "\n",
        "# Button to execute the command for the selected feature table\n",
        "run_command_button = widgets.Button(description=\"Run Command\")\n",
        "\n",
        "def run_command(b):\n",
        "    selected_table = dropdown.value  # This gets the actual command string from the mapping\n",
        "    # Surround the selected_table with single quotes for the command\n",
        "    command = f\"dlatkInterface.py -d {database_name} -t {file_name} -g {id_column_name} -f '{selected_table}' --view_tables\"\n",
        "    process = subprocess.run(command, shell=True, capture_output=True, text=True)\n",
        "    with output_text_area:\n",
        "        clear_output(wait=True)  # Optionally clear previous output\n",
        "        if process.stdout:\n",
        "            print(\"Command Output:\\n\", process.stdout)\n",
        "        if process.stderr:\n",
        "            print(\"Command Error:\\n\", process.stderr)\n",
        "\n",
        "# Attach the button click event to the run_command function\n",
        "run_command_button.on_click(run_command)\n",
        "\n",
        "# Display UI components\n",
        "display(dropdown, run_command_button, output_text_area)\n"
      ],
      "metadata": {
        "colab": {
          "base_uri": "https://localhost:8080/",
          "height": 250,
          "referenced_widgets": [
            "05f330a7ea764e988368078c6bacebe0",
            "4c938fbef6fa4bd692730b9c30c8c19f",
            "2ea8840c8c6f4fc4b1d59ef445c3cd0a",
            "17e0345b712b4d2ab230d3cb4d96a877",
            "8874af77c8cd40988b176b012ca3e68e",
            "72e284dec0664b91a4e3ea21bb513d06",
            "8d7576a888d34ff7a6a0e2793994ec0f",
            "73f1d7aa92ba45419d7dc269408fccfc"
          ]
        },
        "id": "59hm80PcY4pi",
        "outputId": "548e810d-3b37-4c67-ca28-fbd9a31cac52"
      },
      "execution_count": 33,
      "outputs": [
        {
          "output_type": "display_data",
          "data": {
            "text/plain": [
              "<IPython.core.display.Javascript object>"
            ],
            "application/javascript": [
              "google.colab.output.setIframeHeight(0, true, {maxHeight: 250})"
            ]
          },
          "metadata": {}
        },
        {
          "output_type": "display_data",
          "data": {
            "text/plain": [
              "<IPython.core.display.HTML object>"
            ],
            "text/html": [
              "<style> body {background-color: rgb(255, 250, 232);}</style>"
            ]
          },
          "metadata": {}
        },
        {
          "output_type": "display_data",
          "data": {
            "text/plain": [
              "<IPython.core.display.Javascript object>"
            ],
            "application/javascript": [
              "google.colab.output.setIframeHeight(0, true, {maxHeight: 250})"
            ]
          },
          "metadata": {}
        },
        {
          "output_type": "display_data",
          "data": {
            "text/plain": [
              "<IPython.core.display.HTML object>"
            ],
            "text/html": [
              "<style> body {background-color: rgb(255, 250, 232);}</style>"
            ]
          },
          "metadata": {}
        },
        {
          "output_type": "display_data",
          "data": {
            "text/plain": [
              "Dropdown(description='Select Table:', options=(('1to2grams-filtered-table', 'feat$1to2gram$msgs404u$user_id$0_…"
            ],
            "application/vnd.jupyter.widget-view+json": {
              "version_major": 2,
              "version_minor": 0,
              "model_id": "05f330a7ea764e988368078c6bacebe0"
            }
          },
          "metadata": {}
        },
        {
          "output_type": "display_data",
          "data": {
            "text/plain": [
              "Button(description='Run Command', style=ButtonStyle())"
            ],
            "application/vnd.jupyter.widget-view+json": {
              "version_major": 2,
              "version_minor": 0,
              "model_id": "17e0345b712b4d2ab230d3cb4d96a877"
            }
          },
          "metadata": {}
        },
        {
          "output_type": "display_data",
          "data": {
            "text/plain": [
              "Output()"
            ],
            "application/vnd.jupyter.widget-view+json": {
              "version_major": 2,
              "version_minor": 0,
              "model_id": "8d7576a888d34ff7a6a0e2793994ec0f"
            }
          },
          "metadata": {}
        }
      ]
    },
    {
      "cell_type": "markdown",
      "source": [
        "<a name=\"data\"></a>\n",
        "# STEP4: Correlate outcome"
      ],
      "metadata": {
        "id": "Qwd6akU6YP7O"
      }
    },
    {
      "cell_type": "markdown",
      "metadata": {
        "id": "n0G8ppKjJCkF"
      },
      "source": [
        "Now that you have the language features, you can correlate them against outcomes like `age` while controlling for another variable like `gender`.\n",
        "\n",
        "\n",
        "<img src=\"https://drive.google.com/uc?export=view&id=11ODkDFwsfQFc-5R5o757k3Ij9XbW9_Yb\" height=\"250\" width=\"500\"/>\n",
        "\n",
        "<br/>\n",
        "\n",
        "To do this, you need to tell DLATK the feature table to use and the outcomes:\n",
        "\n",
        "* **`-f 'TABLE_NAME'`** - names of the feature table (`feat$1to2gram$msgs404u$user_id$0_2$pmi3_0` in this case)\n",
        "* **`--outcome_table NAME`** - the name of the table with outcomes (`users404.csv`, can be the message table if it contains the outcomes)\n",
        "* **`--outcomes OC1 [OC2...]`** - list of outcomes to be associated with (`age` in this case)\n",
        "* **`--controls C1 [C2...]`** - list of statistical controls for the ascociation (we will control for `gender` in this example).\n",
        "\n",
        "<br/>\n",
        "\n",
        "Then, you specify what that you want a correlation matrix output with **`--rmatrix`** flag, and because the `gender` variable is categorical, we\n",
        " **`--cat_to_bin gender`** which converts the variable into [one-hot representation](https://wandb.ai/ayush-thakur/dl-question-bank/reports/How-One-Hot-Encoding-Improves-Machine-Learning-Performance--VmlldzoxOTkzMDk).\n"
      ]
    },
    {
      "cell_type": "code",
      "execution_count": 37,
      "metadata": {
        "outputId": "3498b8c6-64de-4340-9dbd-34d49916d192",
        "colab": {
          "base_uri": "https://localhost:8080/",
          "height": 53
        },
        "cellView": "form",
        "id": "7odAdDHac0ME"
      },
      "outputs": [
        {
          "output_type": "display_data",
          "data": {
            "text/plain": [
              "<IPython.core.display.Javascript object>"
            ],
            "application/javascript": [
              "google.colab.output.setIframeHeight(0, true, {maxHeight: 250})"
            ]
          },
          "metadata": {}
        },
        {
          "output_type": "display_data",
          "data": {
            "text/plain": [
              "<IPython.core.display.HTML object>"
            ],
            "text/html": [
              "<style> body {background-color: rgb(255, 250, 232);}</style>"
            ]
          },
          "metadata": {}
        },
        {
          "output_type": "display_data",
          "data": {
            "text/plain": [
              "<IPython.core.display.Javascript object>"
            ],
            "application/javascript": [
              "google.colab.output.setIframeHeight(0, true, {maxHeight: 250})"
            ]
          },
          "metadata": {}
        },
        {
          "output_type": "display_data",
          "data": {
            "text/plain": [
              "<IPython.core.display.HTML object>"
            ],
            "text/html": [
              "<style> body {background-color: rgb(255, 250, 232);}</style>"
            ]
          },
          "metadata": {}
        },
        {
          "output_type": "stream",
          "name": "stdout",
          "text": [
            "Default dataset selected: users404.csv\n",
            "Dataset ready for use: /content/users404.csv\n"
          ]
        }
      ],
      "source": [
        "import re\n",
        "from google.colab import files\n",
        "import os\n",
        "\n",
        "#@title Upload correlate data\n",
        "\n",
        "#@markdown Select a predefined dataset from the dropdown menu, or choose \"Upload from desktop\" to upload your own dataset.\n",
        "\n",
        "# This is a dropdown for choosing between default datasets or uploading your own\n",
        "default_dataset = \"users404.csv\" #@param [\"Upload from desktop\", \"users404.csv\"]\n",
        "\n",
        "#@markdown If you opt for desktop upload, click the \"Choose Files\" button that appears upon executing this cell.\n",
        "\n",
        "# Function to check if the file exists (for local files)\n",
        "def file_exists(file_path):\n",
        "    return os.path.exists(file_path)\n",
        "\n",
        "# Sanitizes file names to ensure they end with '.csv'\n",
        "def sanitize_file_name(file_name):\n",
        "    base_file_name = re.sub(r\" \\(\\d+\\)\", \"\", file_name)\n",
        "    if not base_file_name.endswith('.csv'):\n",
        "        base_file_name += '.csv'\n",
        "    return base_file_name\n",
        "\n",
        "file_path = None  # Initialize file_path variable\n",
        "\n",
        "if default_dataset != \"Upload from desktop\":\n",
        "    # If a default dataset is selected, set the file_path accordingly\n",
        "    outcome_table_name = sanitize_file_name(default_dataset)\n",
        "    file_path = os.path.join(\"/content\", outcome_table_name)\n",
        "    print(f'Default dataset selected: {outcome_table_name}')\n",
        "else:\n",
        "    print(\"Please upload a dataset from the desktop.\")\n",
        "    uploaded_files = files.upload()\n",
        "    if uploaded_files:\n",
        "        # Assuming only one file is uploaded, use its name\n",
        "        filename = next(iter(uploaded_files))\n",
        "        outcome_table_name = sanitize_file_name(filename)  # Sanitize the uploaded file's name\n",
        "        file_path = os.path.join(\"/content\", outcome_table_name)\n",
        "        print(f'Uploaded dataset name: {outcome_table_name}')\n",
        "    else:\n",
        "        print(\"No dataset uploaded. Please upload a dataset to proceed.\")\n",
        "\n",
        "# Verify the file's existence and readiness for use\n",
        "if file_path and file_exists(file_path):\n",
        "    print(f'Dataset ready for use: {file_path}')\n",
        "else:\n",
        "    print(\"Dataset not found. Please ensure the dataset exists and try again.\")\n"
      ]
    },
    {
      "cell_type": "code",
      "source": [
        "import subprocess\n",
        "import ipywidgets as widgets\n",
        "from IPython.display import display, clear_output\n",
        "import csv\n",
        "\n",
        "#@title Configure Parameters\n",
        "\n",
        "#@markdown Before executing the command, please adjust the parameters below according to your dataset and analysis needs.\n",
        "\n",
        "if 'outcome_table_name' in globals():\n",
        "    # Open and read the CSV file to extract column names\n",
        "    with open(outcome_table_name, newline='') as csvfile:\n",
        "        reader = csv.reader(csvfile)\n",
        "        column_headers = next(reader, None)\n",
        "\n",
        "    if column_headers:\n",
        "        # Exclude columns containing '_id' from being displayed as checkboxes\n",
        "        filtered_column_headers = [option for option in column_headers if \"_id\" not in option]\n",
        "\n",
        "        feature_table_dropdown = widgets.Dropdown(options=feature_table_mapping, description='Feature Table:')\n",
        "\n",
        "        outcomes_title = widgets.Label('Outcomes:')\n",
        "        controls_title = widgets.Label('Controls:')\n",
        "        outcomes_widgets = {}\n",
        "        controls_widgets = {}\n",
        "        outcomes_cat_widgets = {}\n",
        "        controls_cat_widgets = {}\n",
        "\n",
        "        # Create checkboxes for each column header\n",
        "        for option in filtered_column_headers:\n",
        "            outcomes_widgets[option] = widgets.Checkbox(description=option, value=False)\n",
        "            controls_widgets[option] = widgets.Checkbox(description=option, value=False)\n",
        "            # Replace RadioButtons with a single Checkbox for categorical selection\n",
        "            outcomes_cat_widgets[option] = widgets.Checkbox(\n",
        "                description='Is this variable Categorical?',\n",
        "                value=False,\n",
        "                layout={'width': 'max-content'},\n",
        "                style={'description_width': 'initial'}\n",
        "            )\n",
        "            controls_cat_widgets[option] = widgets.Checkbox(\n",
        "                description='Is this variable Categorical?',\n",
        "                value=False,\n",
        "                layout={'width': 'max-content'},\n",
        "                style={'description_width': 'initial'}\n",
        "            )\n",
        "            outcomes_cat_widgets[option].layout.display = 'none'\n",
        "            controls_cat_widgets[option].layout.display = 'none'\n",
        "\n",
        "        def handle_checkbox_change(change):\n",
        "            option = change.owner.description\n",
        "            if change.owner in outcomes_widgets.values():\n",
        "                controls_widgets[option].disabled = change.new\n",
        "                outcomes_cat_widgets[option].layout.display = 'flex' if change.new else 'none'\n",
        "            elif change.owner in controls_widgets.values():\n",
        "                outcomes_widgets[option].disabled = change.new\n",
        "                controls_cat_widgets[option].layout.display = 'flex' if change.new else 'none'\n",
        "\n",
        "        for checkbox in outcomes_widgets.values():\n",
        "            checkbox.observe(handle_checkbox_change, names='value')\n",
        "        for checkbox in controls_widgets.values():\n",
        "            checkbox.observe(handle_checkbox_change, names='value')\n",
        "\n",
        "        def on_submit(change):\n",
        "            clear_output(wait=True)\n",
        "            outcomes = [k for k, v in outcomes_widgets.items() if v.value]\n",
        "            controls = [k for k, v in controls_widgets.items() if v.value]\n",
        "            cat_to_bin_outcomes = [k for k, v in outcomes_cat_widgets.items() if v.value]\n",
        "            cat_to_bin_controls = [k for k, v in controls_cat_widgets.items() if v.value]\n",
        "\n",
        "            feature_table_name = feature_table_dropdown.value\n",
        "            make_wordclouds = make_wordclouds_checkbox.value\n",
        "\n",
        "            # Construct the command dynamically based on selections\n",
        "            cat_to_bin_parts = [','.join(cat_to_bin_outcomes), ','.join(cat_to_bin_controls)]\n",
        "            cat_to_bin_parts = [part for part in cat_to_bin_parts if part]  # Remove empty strings\n",
        "            cat_to_bin_cmd = f\"--cat_to_bin {' '.join(cat_to_bin_parts)}\" if cat_to_bin_parts else \"\"\n",
        "\n",
        "            command = (\n",
        "                f\"dlatkInterface.py -d {database_name} -t {file_name} -g {id_column_name} \"\n",
        "                f\"--group_freq_thresh 100 --feat_table '{feature_table_name}' \"\n",
        "                f\"--outcome_table {outcome_table_name} --outcomes {','.join(outcomes)} \"\n",
        "                f\"--controls {','.join(controls)} {cat_to_bin_cmd} --rmatrix\"\n",
        "            )\n",
        "            if make_wordclouds:\n",
        "                if feature_table_name == feature_table_mapping['topics-table']:\n",
        "                    command += \" --make_topic_wordclouds\"\n",
        "                else:\n",
        "                    command += \" --make_wordclouds\"\n",
        "            print(\"Command to execute:\", command)\n",
        "            process = subprocess.run(command, shell=True, text=True, capture_output=True)\n",
        "            print(process.stdout)\n",
        "            if process.stderr:\n",
        "                print(\"Error:\", process.stderr)\n",
        "\n",
        "        submit_button = widgets.Button(description=\"Submit\")\n",
        "        submit_button.on_click(on_submit)\n",
        "\n",
        "        make_wordclouds_title = widgets.Label('Make Wordclouds:')\n",
        "        make_wordclouds_checkbox = widgets.Checkbox(value=False, description='Enable Wordclouds')\n",
        "\n",
        "        # Display the widgets\n",
        "        display(feature_table_dropdown)\n",
        "        display(outcomes_title)\n",
        "        for option, checkbox in outcomes_widgets.items():\n",
        "            display(widgets.HBox([checkbox, outcomes_cat_widgets[option]]))\n",
        "        display(controls_title)\n",
        "        for option, checkbox in controls_widgets.items():\n",
        "            display(widgets.HBox([checkbox, controls_cat_widgets[option]]))\n",
        "        display(make_wordclouds_title, make_wordclouds_checkbox, submit_button)\n",
        "\n",
        "    else:\n",
        "        print(\"Failed to read column names from the outcome table.\")\n",
        "else:\n",
        "    print(\"Outcome table name not set. Please ensure a file is uploaded in Part 1.\")\n"
      ],
      "metadata": {
        "id": "g4EU9JKAGFcr",
        "outputId": "520f8c58-8ce9-49f3-9fc3-5d0b9261a843",
        "colab": {
          "base_uri": "https://localhost:8080/",
          "height": 35
        }
      },
      "execution_count": 14,
      "outputs": [
        {
          "output_type": "display_data",
          "data": {
            "text/plain": [
              "<IPython.core.display.Javascript object>"
            ],
            "application/javascript": [
              "google.colab.output.setIframeHeight(0, true, {maxHeight: 250})"
            ]
          },
          "metadata": {}
        },
        {
          "output_type": "display_data",
          "data": {
            "text/plain": [
              "<IPython.core.display.HTML object>"
            ],
            "text/html": [
              "<style> body {background-color: rgb(255, 250, 232);}</style>"
            ]
          },
          "metadata": {}
        },
        {
          "output_type": "stream",
          "name": "stdout",
          "text": [
            "Outcome table name not set. Please ensure a file is uploaded in Part 1.\n"
          ]
        }
      ]
    },
    {
      "cell_type": "code",
      "source": [
        "import glob\n",
        "import os\n",
        "import math\n",
        "import matplotlib.pyplot as plt\n",
        "import matplotlib.image as mpimg\n",
        "from dlatk.tools.colab_methods import print_wordclouds\n",
        "\n",
        "def display_wordclouds(feature_table_name, outcomes, controls):\n",
        "    # This function decides which type of word clouds to display based on the feature table selected.\n",
        "    if feature_table_name == feature_table_mapping['topics-table']:\n",
        "        print_topic_wordclouds(\"/content/_alltopics/\", 8)\n",
        "    else:\n",
        "        wordcloud_file_name = f\"{feature_table_name.replace('$', '.')}.{','.join(outcomes)}.{','.join(controls)}__0.freq100._tagcloud_wordclouds\"\n",
        "        print(\"Wordcloud File Name:\", wordcloud_file_name)\n",
        "        print_wordclouds(wordcloud_file_name)\n",
        "\n",
        "def print_topic_wordclouds(wordcloud_folder, num_topics=8, images_per_row=4):\n",
        "    # This function handles the displaying of topic word clouds specifically.\n",
        "    images = glob.glob(os.path.join(wordcloud_folder, '*.png'))\n",
        "    to_display = images[:min(num_topics, len(images))]\n",
        "\n",
        "    if len(to_display) == 0:\n",
        "        print(\"No topic wordcloud images found in the specified folder.\")\n",
        "        return\n",
        "\n",
        "    fig, axes = plt.subplots(math.ceil(num_topics / images_per_row), images_per_row, figsize=(18, 8))\n",
        "    for index, image in enumerate(to_display):\n",
        "        ax = axes[int(index / images_per_row), index % images_per_row]\n",
        "        ax.set_axis_off()\n",
        "        ax.set_title(image.split('/')[-1])\n",
        "        ax.imshow(mpimg.imread(image))\n",
        "    plt.show()\n",
        "\n",
        "# Example usage:\n",
        "# Assuming 'outcomes' and 'controls' are updated in the global scope by previous code execution\n",
        "# display_wordclouds(feature_table_name, outcomes, controls)\n"
      ],
      "metadata": {
        "colab": {
          "base_uri": "https://localhost:8080/",
          "height": 17
        },
        "id": "GoGKLHh0kgJq",
        "outputId": "03fb0d9a-af89-412c-ef25-17a6dfcdfff8"
      },
      "execution_count": 45,
      "outputs": [
        {
          "output_type": "display_data",
          "data": {
            "text/plain": [
              "<IPython.core.display.Javascript object>"
            ],
            "application/javascript": [
              "google.colab.output.setIframeHeight(0, true, {maxHeight: 250})"
            ]
          },
          "metadata": {}
        },
        {
          "output_type": "display_data",
          "data": {
            "text/plain": [
              "<IPython.core.display.HTML object>"
            ],
            "text/html": [
              "<style> body {background-color: rgb(255, 250, 232);}</style>"
            ]
          },
          "metadata": {}
        },
        {
          "output_type": "display_data",
          "data": {
            "text/plain": [
              "<IPython.core.display.Javascript object>"
            ],
            "application/javascript": [
              "google.colab.output.setIframeHeight(0, true, {maxHeight: 250})"
            ]
          },
          "metadata": {}
        },
        {
          "output_type": "display_data",
          "data": {
            "text/plain": [
              "<IPython.core.display.HTML object>"
            ],
            "text/html": [
              "<style> body {background-color: rgb(255, 250, 232);}</style>"
            ]
          },
          "metadata": {}
        }
      ]
    },
    {
      "cell_type": "code",
      "source": [
        "#@markdown Click the Play button to view the **word cloud image** of the analyzed file.\n",
        "\n",
        "from dlatk.tools.colab_methods import print_wordclouds\n",
        "\n",
        "def display_wordclouds():\n",
        "    feature_table_name = feature_table_dropdown.value.replace('$', '.')\n",
        "    # Assuming 'outcomes' and 'controls' are updated in the global scope by codeA\n",
        "    global outcomes, controls\n",
        "    wordcloud_file_name = f\"{feature_table_name}.{','.join(outcomes)}.{','.join(controls)}__0.freq100._tagcloud_wordclouds\"\n",
        "    print(\"Wordcloud File Name:\", wordcloud_file_name)\n",
        "    print_wordclouds(wordcloud_file_name)\n",
        "\n",
        "display_wordclouds()\n"
      ],
      "metadata": {
        "colab": {
          "base_uri": "https://localhost:8080/",
          "height": 53
        },
        "outputId": "632f7b34-24b4-45e3-b702-55cc4437d7e7",
        "id": "1gwINnKHdGKE"
      },
      "execution_count": null,
      "outputs": [
        {
          "output_type": "display_data",
          "data": {
            "text/plain": [
              "<IPython.core.display.Javascript object>"
            ],
            "application/javascript": [
              "google.colab.output.setIframeHeight(0, true, {maxHeight: 250})"
            ]
          },
          "metadata": {}
        },
        {
          "output_type": "display_data",
          "data": {
            "text/plain": [
              "<IPython.core.display.HTML object>"
            ],
            "text/html": [
              "<style> body {background-color: rgb(255, 250, 232);}</style>"
            ]
          },
          "metadata": {}
        },
        {
          "output_type": "stream",
          "name": "stdout",
          "text": [
            "Wordcloud File Name: feat.cat_fb2000_cp_w.msgs404u.user_id.1gra.age.gender__0.freq100._tagcloud_wordclouds\n",
            "None of the features were significant, hence wordclouds not produced.\n"
          ]
        }
      ]
    },
    {
      "cell_type": "markdown",
      "metadata": {
        "id": "u9chxWx6VLnJ"
      },
      "source": [
        "👇 For example, you can extract features from *NRC sentiment* dictionary as shown below."
      ]
    },
    {
      "cell_type": "markdown",
      "metadata": {
        "id": "NYlLK0STHE9L"
      },
      "source": [
        "# Running Prediction (Language-based Assessment)\n",
        "\n",
        "<img src=\"https://drive.google.com/uc?export=view&id=1AgMttURoLyJZ6WhL9wnVzWBt1gSmE0yE\" height=\"350\" width=\"550\"/>"
      ]
    },
    {
      "cell_type": "markdown",
      "metadata": {
        "id": "tACYr6g88H6n"
      },
      "source": [
        "## Prediction: Example 1: N-Fold Cross Validation"
      ]
    },
    {
      "cell_type": "markdown",
      "metadata": {
        "id": "PvDHsfsWQrb-"
      },
      "source": [
        "There are two types of [prediction models](https://scikit-learn.org/stable/modules/linear_model.html#) we can run:\n",
        "1. **Regression**, which is the prediction of a continous variable, and\n",
        "2. **Classification**, which is the prediction of a categorical variable.\n",
        "\n",
        "<br/>\n",
        "\n",
        "<hr/>\n",
        "\n",
        "[N-Fold cross-validation](https://scikit-learn.org/stable/modules/cross_validation.html#) - This method involves randomly dividing the dataset into *N* groups, or \"folds\", of approximately equal size. The model is later fit on the N-1 folds (*train* data) and the evaluated for accuracy over the remaining one fold (*test* data).\n",
        "\n",
        "<hr/>\n",
        "\n",
        "<br/>\n",
        "\n",
        "For running a prediction model against an outcome, you use the same data setup commands as in correlations:\n",
        "* **`-f FEAT_TABLE_NAME`** - names of the feature table.\n",
        "* **`--outcome_table NAME`** - the name of the table with outcomes.\n",
        "* **`--outcomes OC1 [OC2...]`** - list of outcomes to predict.\n"
      ]
    },
    {
      "cell_type": "markdown",
      "metadata": {
        "id": "xGa8-zHYKKtz"
      },
      "source": [
        "### N-Fold Regression:\n"
      ]
    },
    {
      "cell_type": "markdown",
      "metadata": {
        "id": "1UlH163FGfhd"
      },
      "source": [
        "Below are the flags to perform regression using cross-validation:\n",
        "* **`--nfold_test_regression`** - this activates regression using n-fold cross-validation.\n",
        "* **`--model MODEL_NAME`** - which regression model to use (some examples would be ordinary least sqaures, ridge regression, etc.)"
      ]
    },
    {
      "cell_type": "markdown",
      "metadata": {
        "id": "Y2x7ExfQA3dl"
      },
      "source": [
        "👇 For example, below command will predict `age` from 1gram and 2grams features using a ridge regression model over `5` fold cross validation."
      ]
    },
    {
      "cell_type": "code",
      "source": [
        "import subprocess\n",
        "import ipywidgets as widgets\n",
        "from IPython.display import display, clear_output\n",
        "import csv\n",
        "\n",
        "#@title Configure Parameters\n",
        "\n",
        "#@markdown Before executing the command, please adjust the parameters below according to your dataset and analysis needs.\n",
        "\n",
        "if 'outcome_table_name' in globals():\n",
        "    # Open and read the CSV file to extract column names\n",
        "    with open(outcome_table_name, newline='') as csvfile:\n",
        "        reader = csv.reader(csvfile)\n",
        "        column_headers = next(reader, None)\n",
        "\n",
        "    if column_headers:\n",
        "        # Exclude columns containing '_id' from being displayed as checkboxes\n",
        "        filtered_column_headers = [option for option in column_headers if \"_id\" not in option]\n",
        "\n",
        "        feature_table_dropdown = widgets.Dropdown(options=feature_table_mapping, description='Feature Table:')\n",
        "\n",
        "        # Dropdown for model selection\n",
        "        model_dropdown = widgets.Dropdown(\n",
        "            options=[\n",
        "                'lasso', 'lassocv', 'elasticnet', 'elasticnetcv', 'lassolars', 'lassolarscv', 'lars', 'ridge',\n",
        "                'ridge.01', 'ridge.001', 'ridge250', 'ridge10000', 'ridge100000', 'ridge100k', 'ridge1000',\n",
        "                'ridge100', 'ridge10', 'ridge1', 'ridge1m', 'ridge10m', 'ridge100m', 'ridgecv', 'ridgefirstpasscv',\n",
        "                'ridgehighcv', 'ridgeveryhighcv', 'ridgelowcv', 'rpcridgecv', 'linear', 'svr', 'sgdregressor',\n",
        "                'extratrees', 'par'\n",
        "            ],\n",
        "            value='ridgehighcv',  # Default model\n",
        "            description='Model:'\n",
        "        )\n",
        "\n",
        "        outcomes_title = widgets.Label('Outcomes:')\n",
        "        outcomes_widgets = {option: widgets.Checkbox(description=option, value=False) for option in filtered_column_headers}\n",
        "\n",
        "        def handle_checkbox_change(change):\n",
        "            pass  # Placeholder in case any dynamic interaction is needed\n",
        "\n",
        "        for checkbox in outcomes_widgets.values():\n",
        "            checkbox.observe(handle_checkbox_change, names='value')\n",
        "\n",
        "        def on_submit(change):\n",
        "            clear_output(wait=True)\n",
        "            outcomes = [k for k, v in outcomes_widgets.items() if v.value]\n",
        "\n",
        "            feature_table_name = feature_table_dropdown.value\n",
        "            selected_model = model_dropdown.value\n",
        "\n",
        "            command = (\n",
        "                f\"dlatkInterface.py -d {database_name} -t {file_name} -g {id_column_name} \"\n",
        "                f\"--group_freq_thresh 100 \"\n",
        "                f\"--outcome_table {outcome_table_name} --outcomes {','.join(outcomes)} \"\n",
        "                f\"--feat_table '{feature_table_name}' \"\n",
        "                f\"--nfold_test_regression --model {selected_model}\"\n",
        "            )\n",
        "            print(\"Command to execute:\", command)\n",
        "            process = subprocess.run(command, shell=True, text=True, capture_output=True)\n",
        "            print(process.stdout)\n",
        "            if process.stderr:\n",
        "                print(\"Error:\", process.stderr)\n",
        "\n",
        "        submit_button = widgets.Button(description=\"Submit\")\n",
        "        submit_button.on_click(on_submit)\n",
        "\n",
        "        # Display the widgets\n",
        "        display(feature_table_dropdown, model_dropdown)\n",
        "        display(outcomes_title)\n",
        "        for option, checkbox in outcomes_widgets.items():\n",
        "            display(checkbox)\n",
        "        display(submit_button)\n",
        "\n",
        "    else:\n",
        "        print(\"Failed to read column names from the outcome table.\")\n",
        "else:\n",
        "    print(\"Outcome table name not set. Please ensure a file is uploaded in Part 1.\")\n"
      ],
      "metadata": {
        "cellView": "form",
        "colab": {
          "base_uri": "https://localhost:8080/",
          "height": 250,
          "referenced_widgets": [
            "ce051e076daf4ff587a2bbc09ae50e6d",
            "9f8c6aa3877a48458b53e725e90394f8",
            "c382dcfb82dd42c3b980ee38d74807ad",
            "13e010bcf7dc4a6a9bd73e8c1c0309ff",
            "ff3f790851c54d549862ed424fb0fe1b",
            "9c30b093a2814ffb91e3e16864f76818",
            "cd96f7c58b2a4ad6bc3fee0757c3c917",
            "c17b3393cc244446a316db5462dccd27",
            "1969637b4b354561b6ac203e84f3b556",
            "c945ad5beead487ea1b1e2cb939ee68f",
            "3e37940e71304f119bd9599a85c048e3",
            "afb5bce4d3434cb499efbb956d3fbc3d",
            "2bd5ddd6e8624aa9ae720e1783d92447",
            "1c814b0debfc431394bce71ec39a7979",
            "35e0c67d82bc4ee9a8efcea428fb86a3",
            "ec8074ce592043299c5339c279e3b86c",
            "19ba2ea607a449588fcc5fc50b977566",
            "0d5b3cbac0954695a838c876c2a7a73c",
            "e85bac993d2c491c8e1d04c632510fee",
            "e9a5ee6366d24d7c9677435856577892",
            "3f2168f19c8045bbaad90d5087bfe357",
            "b85658a339b5483883b2e1945bd9ea24",
            "d574b362acf140a5911b665c9212dca4",
            "9b1a118b430b4da68bea46c90db7595b"
          ]
        },
        "id": "HjbDzboxo8ZY",
        "outputId": "50be991e-ef21-44d5-c395-9d3c14351132"
      },
      "execution_count": 25,
      "outputs": [
        {
          "output_type": "display_data",
          "data": {
            "text/plain": [
              "<IPython.core.display.Javascript object>"
            ],
            "application/javascript": [
              "google.colab.output.setIframeHeight(0, true, {maxHeight: 250})"
            ]
          },
          "metadata": {}
        },
        {
          "output_type": "display_data",
          "data": {
            "text/plain": [
              "<IPython.core.display.HTML object>"
            ],
            "text/html": [
              "<style> body {background-color: rgb(255, 250, 232);}</style>"
            ]
          },
          "metadata": {}
        },
        {
          "output_type": "display_data",
          "data": {
            "text/plain": [
              "Dropdown(description='Feature Table:', options={'1to2grams-filtered-table': 'feat$1to2gram$msgs404u$user_id$0_…"
            ],
            "application/vnd.jupyter.widget-view+json": {
              "version_major": 2,
              "version_minor": 0,
              "model_id": "ce051e076daf4ff587a2bbc09ae50e6d"
            }
          },
          "metadata": {}
        },
        {
          "output_type": "display_data",
          "data": {
            "text/plain": [
              "Dropdown(description='Model:', index=23, options=('lasso', 'lassocv', 'elasticnet', 'elasticnetcv', 'lassolars…"
            ],
            "application/vnd.jupyter.widget-view+json": {
              "version_major": 2,
              "version_minor": 0,
              "model_id": "13e010bcf7dc4a6a9bd73e8c1c0309ff"
            }
          },
          "metadata": {}
        },
        {
          "output_type": "display_data",
          "data": {
            "text/plain": [
              "Label(value='Outcomes:')"
            ],
            "application/vnd.jupyter.widget-view+json": {
              "version_major": 2,
              "version_minor": 0,
              "model_id": "cd96f7c58b2a4ad6bc3fee0757c3c917"
            }
          },
          "metadata": {}
        },
        {
          "output_type": "display_data",
          "data": {
            "text/plain": [
              "Checkbox(value=False, description='gender')"
            ],
            "application/vnd.jupyter.widget-view+json": {
              "version_major": 2,
              "version_minor": 0,
              "model_id": "c945ad5beead487ea1b1e2cb939ee68f"
            }
          },
          "metadata": {}
        },
        {
          "output_type": "display_data",
          "data": {
            "text/plain": [
              "Checkbox(value=False, description='age')"
            ],
            "application/vnd.jupyter.widget-view+json": {
              "version_major": 2,
              "version_minor": 0,
              "model_id": "2bd5ddd6e8624aa9ae720e1783d92447"
            }
          },
          "metadata": {}
        },
        {
          "output_type": "display_data",
          "data": {
            "text/plain": [
              "Checkbox(value=False, description='occu')"
            ],
            "application/vnd.jupyter.widget-view+json": {
              "version_major": 2,
              "version_minor": 0,
              "model_id": "ec8074ce592043299c5339c279e3b86c"
            }
          },
          "metadata": {}
        },
        {
          "output_type": "display_data",
          "data": {
            "text/plain": [
              "Checkbox(value=False, description='is_student')"
            ],
            "application/vnd.jupyter.widget-view+json": {
              "version_major": 2,
              "version_minor": 0,
              "model_id": "e85bac993d2c491c8e1d04c632510fee"
            }
          },
          "metadata": {}
        },
        {
          "output_type": "display_data",
          "data": {
            "text/plain": [
              "Button(description='Submit', style=ButtonStyle())"
            ],
            "application/vnd.jupyter.widget-view+json": {
              "version_major": 2,
              "version_minor": 0,
              "model_id": "b85658a339b5483883b2e1945bd9ea24"
            }
          },
          "metadata": {}
        }
      ]
    },
    {
      "cell_type": "markdown",
      "metadata": {
        "id": "jz_xKX3neFC9"
      },
      "source": [
        "👆 Above the settings, you should see a dictionary containing accuracy metrics from cross validation. Key metrics are `r` and `mae`:\n",
        "```\n",
        "[TEST COMPLETE]\n",
        "\n",
        "{'age': {(): {1: {'N': 404,\n",
        "                  ...\n",
        "                  'mae': 5.392188704337425,\n",
        "                  'num_features': 2308,\n",
        "                  'r': 0.580652941321456,\n",
        "                  ...}}}}\n",
        "```\n",
        "`mae` is the mean absolute error aggregated across all examples from when they were in a test fold. In this case, the model on average is off in predicting age by 5.4 years.\n",
        "\n",
        "`r` is the Pearson correlation between the predicted age and the self-reported age. The correlation is a nice accuracy metric for regression prediction tasks  since it is bounded at 1 being a perfect prediction and 0 being what is expected by chance.  \n",
        "\n",
        "DLATK uses 5 folds by default, but you can change this by adding the\n",
        "`--folds K` parameter.\n",
        "\n",
        "<br/>\n"
      ]
    },
    {
      "cell_type": "markdown",
      "metadata": {
        "id": "XhOQOGiTaqW8"
      },
      "source": [
        "### N-Fold Classification\n"
      ]
    },
    {
      "cell_type": "markdown",
      "metadata": {
        "id": "SnsjxLReadU-"
      },
      "source": [
        "Similarly, you can also perform classification using cross-validation using the below flags:\n",
        "\n",
        "* **`--nfold_test_classifiers`** - activates classification using cross-validation.\n",
        "* **`--model MODEL_NAME`** - classification model to use (for example logistic regression, etc.).\n",
        "\n",
        "<br/>\n",
        "\n",
        "You can also store the prediction output to a CSV with the below flags:\n",
        "* **`--csv`** - Saves the results to a csv file instead of printing to the screen, like with `--correlate`.\n",
        "* **`--pred_csv`** - write the predicted scores for the sample to a separate CSV prefixed with the name in `--output_name`.\n",
        "\n",
        "<br/>\n",
        "\n",
        "👇 Try predicting if a user is a student or not (`is_student`) from their 1gram and 2gram features using Logistic Regression (`lr`) in 5 fold cross-validation."
      ]
    },
    {
      "cell_type": "code",
      "source": [
        "import subprocess\n",
        "import ipywidgets as widgets\n",
        "from IPython.display import display, clear_output\n",
        "import csv\n",
        "\n",
        "#@title Configure Parameters\n",
        "\n",
        "#@markdown Before executing the command, please adjust the parameters below according to your dataset and analysis needs.\n",
        "\n",
        "if 'outcome_table_name' in globals():\n",
        "    # Open and read the CSV file to extract column names\n",
        "    with open(outcome_table_name, newline='') as csvfile:\n",
        "        reader = csv.reader(csvfile)\n",
        "        column_headers = next(reader, None)\n",
        "\n",
        "    if column_headers:\n",
        "        # Exclude columns containing '_id' from being displayed as checkboxes\n",
        "        filtered_column_headers = [option for option in column_headers if \"_id\" not in option]\n",
        "\n",
        "        feature_table_dropdown = widgets.Dropdown(options=feature_table_mapping, description='Feature Table:')\n",
        "\n",
        "        model_options = {\n",
        "            'lr': 'LogisticRegression',\n",
        "            'lr1': 'LogisticRegression',\n",
        "            'lr_balanced': 'LogisticRegression',\n",
        "            'lrnone': 'LogisticRegression',\n",
        "            'linear-svc': 'LinearSVC',\n",
        "            'svc': 'SVC',\n",
        "            'etc': 'ExtraTreesClassifier',\n",
        "            'rfc': 'RandomForestClassifier',\n",
        "            'pac': 'PassiveAggressiveClassifier',\n",
        "            'gbc': 'GradientBoostingClassifier',\n",
        "            'mnb': 'MultinomialNB',\n",
        "            'gnb': 'GaussianNB',\n",
        "            'bnb': 'BernoulliNB',\n",
        "            'mlp': 'MLPClassifier'\n",
        "        }\n",
        "\n",
        "        # Dropdown for model selection, using the keys as dropdown options\n",
        "        model_dropdown = widgets.Dropdown(\n",
        "            options=[(key, key) for key in model_options.keys()],\n",
        "            value='lr',  # Default model\n",
        "            description='Model:'\n",
        "        )\n",
        "\n",
        "        outcomes_title = widgets.Label('Outcomes:')\n",
        "        outcomes_widgets = {option: widgets.Checkbox(description=option, value=False) for option in filtered_column_headers}\n",
        "\n",
        "        def handle_checkbox_change(change):\n",
        "            pass  # Placeholder in case any dynamic interaction is needed\n",
        "\n",
        "        for checkbox in outcomes_widgets.values():\n",
        "            checkbox.observe(handle_checkbox_change, names='value')\n",
        "\n",
        "        def on_submit(change):\n",
        "            clear_output(wait=True)\n",
        "            outcomes = [k for k, v in outcomes_widgets.items() if v.value]\n",
        "\n",
        "            feature_table_name = feature_table_dropdown.value\n",
        "            selected_model = model_dropdown.value\n",
        "\n",
        "            command = (\n",
        "                f\"dlatkInterface.py -d {database_name} -t {file_name} -g {id_column_name} \"\n",
        "                f\"--group_freq_thresh 100 \"\n",
        "                f\"--outcome_table {outcome_table_name} --outcomes {','.join(outcomes)} \"\n",
        "                f\"--feat_table '{feature_table_name}' \"\n",
        "                f\"--nfold_test_classifiers --model {selected_model}\"\n",
        "            )\n",
        "            print(\"Command to execute:\", command)\n",
        "            process = subprocess.run(command, shell=True, text=True, capture_output=True)\n",
        "            print(process.stdout)\n",
        "            if process.stderr:\n",
        "                print(\"Error:\", process.stderr)\n",
        "\n",
        "        submit_button = widgets.Button(description=\"Submit\")\n",
        "        submit_button.on_click(on_submit)\n",
        "\n",
        "        # Display the widgets\n",
        "        display(feature_table_dropdown, model_dropdown)\n",
        "        display(outcomes_title)\n",
        "        for option, checkbox in outcomes_widgets.items():\n",
        "            display(checkbox)\n",
        "        display(submit_button)\n",
        "\n",
        "    else:\n",
        "        print(\"Failed to read column names from the outcome table.\")\n",
        "else:\n",
        "    print(\"Outcome table name not set. Please ensure a file is uploaded in Part 1.\")\n"
      ],
      "metadata": {
        "cellView": "form",
        "colab": {
          "base_uri": "https://localhost:8080/",
          "height": 250,
          "referenced_widgets": [
            "57ccf30dd3684bea8c9d10dff1b8e83c",
            "ad847b69c75d4103ad81365e665c9b4f",
            "43cc87ca8ce743a1b234292ab217718b",
            "28d5c11943a8442ab8f0463789c15968",
            "68c10c12f93a4d9aba0de1afa37f8644",
            "60396f4c3d434941a6febb1cf93f3404",
            "8acde0bb5a9a482292290ac1c7ab93e2",
            "b3a6e257af35409a8105cb95565d5233",
            "b6a0d9822a0b4d7c907cae8e7802aaac",
            "a085f5f43b1040b1a557123f6bcdd9b5",
            "6e05aa9f4c7548c6aca4c0cb58e958d5",
            "a63290976e994252b752ef30a35782b9",
            "a43117da214a4d81b6e62f5ee1349650",
            "cc91ed14fa3941a5bd1e10039bf45479",
            "ef115963f5814cc2827c4cc74df29207",
            "54282d1d7c1c4bb496150efc4532751a",
            "148adf35ab49447bbe568191abb5be79",
            "29e67f34ab9442f690933fc20f552865",
            "02a2049137174731af1ccf462c6884bc",
            "b4b996674c7c4f4bbb970c1509e73d2f",
            "b04c56dc9a3a443b8f39f96bd5d957c7",
            "b8e02e55a3454e7d9d89f64c5222d85d",
            "a709cefb7779418e97544a07bb045e98",
            "dafc0fe78ddb4b458fea9f5cf0512509"
          ]
        },
        "id": "lCVCeJK0rFDd",
        "outputId": "0f97525f-3916-4b38-8d93-cfbc019e3f3c"
      },
      "execution_count": 23,
      "outputs": [
        {
          "output_type": "display_data",
          "data": {
            "text/plain": [
              "<IPython.core.display.Javascript object>"
            ],
            "application/javascript": [
              "google.colab.output.setIframeHeight(0, true, {maxHeight: 250})"
            ]
          },
          "metadata": {}
        },
        {
          "output_type": "display_data",
          "data": {
            "text/plain": [
              "<IPython.core.display.HTML object>"
            ],
            "text/html": [
              "<style> body {background-color: rgb(255, 250, 232);}</style>"
            ]
          },
          "metadata": {}
        },
        {
          "output_type": "display_data",
          "data": {
            "text/plain": [
              "<IPython.core.display.Javascript object>"
            ],
            "application/javascript": [
              "google.colab.output.setIframeHeight(0, true, {maxHeight: 250})"
            ]
          },
          "metadata": {}
        },
        {
          "output_type": "display_data",
          "data": {
            "text/plain": [
              "<IPython.core.display.HTML object>"
            ],
            "text/html": [
              "<style> body {background-color: rgb(255, 250, 232);}</style>"
            ]
          },
          "metadata": {}
        },
        {
          "output_type": "display_data",
          "data": {
            "text/plain": [
              "Dropdown(description='Feature Table:', options={'1to2grams-filtered-table': 'feat$1to2gram$msgs404u$user_id$0_…"
            ],
            "application/vnd.jupyter.widget-view+json": {
              "version_major": 2,
              "version_minor": 0,
              "model_id": "57ccf30dd3684bea8c9d10dff1b8e83c"
            }
          },
          "metadata": {}
        },
        {
          "output_type": "display_data",
          "data": {
            "text/plain": [
              "Dropdown(description='Model:', options=(('lr', 'lr'), ('lr1', 'lr1'), ('lr_balanced', 'lr_balanced'), ('lrnone…"
            ],
            "application/vnd.jupyter.widget-view+json": {
              "version_major": 2,
              "version_minor": 0,
              "model_id": "28d5c11943a8442ab8f0463789c15968"
            }
          },
          "metadata": {}
        },
        {
          "output_type": "display_data",
          "data": {
            "text/plain": [
              "Label(value='Outcomes:')"
            ],
            "application/vnd.jupyter.widget-view+json": {
              "version_major": 2,
              "version_minor": 0,
              "model_id": "8acde0bb5a9a482292290ac1c7ab93e2"
            }
          },
          "metadata": {}
        },
        {
          "output_type": "display_data",
          "data": {
            "text/plain": [
              "Checkbox(value=False, description='gender')"
            ],
            "application/vnd.jupyter.widget-view+json": {
              "version_major": 2,
              "version_minor": 0,
              "model_id": "a085f5f43b1040b1a557123f6bcdd9b5"
            }
          },
          "metadata": {}
        },
        {
          "output_type": "display_data",
          "data": {
            "text/plain": [
              "Checkbox(value=False, description='age')"
            ],
            "application/vnd.jupyter.widget-view+json": {
              "version_major": 2,
              "version_minor": 0,
              "model_id": "a43117da214a4d81b6e62f5ee1349650"
            }
          },
          "metadata": {}
        },
        {
          "output_type": "display_data",
          "data": {
            "text/plain": [
              "Checkbox(value=False, description='occu')"
            ],
            "application/vnd.jupyter.widget-view+json": {
              "version_major": 2,
              "version_minor": 0,
              "model_id": "54282d1d7c1c4bb496150efc4532751a"
            }
          },
          "metadata": {}
        },
        {
          "output_type": "display_data",
          "data": {
            "text/plain": [
              "Checkbox(value=False, description='is_student')"
            ],
            "application/vnd.jupyter.widget-view+json": {
              "version_major": 2,
              "version_minor": 0,
              "model_id": "02a2049137174731af1ccf462c6884bc"
            }
          },
          "metadata": {}
        },
        {
          "output_type": "display_data",
          "data": {
            "text/plain": [
              "Button(description='Submit', style=ButtonStyle())"
            ],
            "application/vnd.jupyter.widget-view+json": {
              "version_major": 2,
              "version_minor": 0,
              "model_id": "b8e02e55a3454e7d9d89f64c5222d85d"
            }
          },
          "metadata": {}
        }
      ]
    },
    {
      "cell_type": "code",
      "source": [
        "import subprocess\n",
        "import ipywidgets as widgets\n",
        "from IPython.display import display, clear_output\n",
        "import csv\n",
        "\n",
        "#@title Configure Parameters\n",
        "\n",
        "#@markdown Before executing the command, please adjust the parameters below according to your dataset and analysis needs.\n",
        "\n",
        "if 'outcome_table_name' in globals():\n",
        "    # Open and read the CSV file to extract column names\n",
        "    with open(outcome_table_name, newline='') as csvfile:\n",
        "        reader = csv.reader(csvfile)\n",
        "        column_headers = next(reader, None)\n",
        "\n",
        "    if column_headers:\n",
        "        # Exclude columns containing '_id' from being displayed as checkboxes\n",
        "        filtered_column_headers = [option for option in column_headers if \"_id\" not in option]\n",
        "\n",
        "        feature_table_dropdown = widgets.Dropdown(options=feature_table_mapping, description='Feature Table:')\n",
        "\n",
        "        model_options = {\n",
        "            'lr': 'LogisticRegression',\n",
        "            'lr1': 'LogisticRegression',\n",
        "            'lr_balanced': 'LogisticRegression',\n",
        "            'lrnone': 'LogisticRegression',\n",
        "            'linear-svc': 'LinearSVC',\n",
        "            'svc': 'SVC',\n",
        "            'etc': 'ExtraTreesClassifier',\n",
        "            'rfc': 'RandomForestClassifier',\n",
        "            'pac': 'PassiveAggressiveClassifier',\n",
        "            'gbc': 'GradientBoostingClassifier',\n",
        "            'mnb': 'MultinomialNB',\n",
        "            'gnb': 'GaussianNB',\n",
        "            'bnb': 'BernoulliNB',\n",
        "            'mlp': 'MLPClassifier'\n",
        "        }\n",
        "\n",
        "        # Dropdown for model selection\n",
        "        model_dropdown = widgets.Dropdown(\n",
        "            options=[(key, key) for key in model_options],  # Use key for both display and value\n",
        "            value='lr',  # Set 'lr' as the default model\n",
        "            description='Model:'\n",
        ")\n",
        "\n",
        "\n",
        "        outcomes_title = widgets.Label('Outcomes:')\n",
        "        controls_title = widgets.Label('Controls:')\n",
        "        outcomes_widgets = {}\n",
        "        controls_widgets = {}\n",
        "        outcomes_cat_widgets = {}\n",
        "        controls_cat_widgets = {}\n",
        "\n",
        "        # Create checkboxes and radio buttons for each column header\n",
        "        for option in filtered_column_headers:\n",
        "            outcomes_widgets[option] = widgets.Checkbox(description=option, value=False)\n",
        "            controls_widgets[option] = widgets.Checkbox(description=option, value=False)\n",
        "            outcomes_cat_widgets[option] = widgets.RadioButtons(\n",
        "                options=['No', 'Yes'],\n",
        "                description='Is this variable Categorical?',\n",
        "                value='No',\n",
        "                layout={'width': 'max-content'},\n",
        "                style={'description_width': 'initial'}\n",
        "            )\n",
        "            controls_cat_widgets[option] = widgets.RadioButtons(\n",
        "                options=['No', 'Yes'],\n",
        "                description='Is this variable Categorical?',\n",
        "                value='No',\n",
        "                layout={'width': 'max-content'},\n",
        "                style={'description_width': 'initial'}\n",
        "            )\n",
        "            outcomes_cat_widgets[option].layout.display = 'none'\n",
        "            controls_cat_widgets[option].layout.display = 'none'\n",
        "\n",
        "        def handle_checkbox_change(change):\n",
        "            option = change.owner.description\n",
        "            if change.owner in outcomes_widgets.values():\n",
        "                controls_widgets[option].disabled = change.new\n",
        "                outcomes_cat_widgets[option].layout.display = 'flex' if change.new else 'none'\n",
        "            elif change.owner in controls_widgets.values():\n",
        "                outcomes_widgets[option].disabled = change.new\n",
        "                controls_cat_widgets[option].layout.display = 'flex' if change.new else 'none'\n",
        "\n",
        "        for checkbox in outcomes_widgets.values():\n",
        "            checkbox.observe(handle_checkbox_change, names='value')\n",
        "        for checkbox in controls_widgets.values():\n",
        "            checkbox.observe(handle_checkbox_change, names='value')\n",
        "\n",
        "        def on_submit(change):\n",
        "            global outcomes, controls\n",
        "            clear_output(wait=True)\n",
        "            outcomes = [k for k, v in outcomes_widgets.items() if v.value]\n",
        "            controls = [k for k, v in controls_widgets.items() if v.value]\n",
        "            cat_to_bin_outcomes = [k for k, v in outcomes_cat_widgets.items() if v.value == 'Yes']\n",
        "            cat_to_bin_controls = [k for k, v in controls_cat_widgets.items() if v.value == 'Yes']\n",
        "\n",
        "            feature_table_name = feature_table_dropdown.value\n",
        "            selected_model = model_dropdown.value\n",
        "            cat_to_bin_parts = [','.join(cat_to_bin_outcomes), ','.join(cat_to_bin_controls)]\n",
        "            cat_to_bin_parts = [part for part in cat_to_bin_parts if part]  # Remove empty strings\n",
        "            cat_to_bin_cmd = f\"--cat_to_bin {' '.join(cat_to_bin_parts)}\" if cat_to_bin_parts else \"\"\n",
        "\n",
        "            command = (\n",
        "                f\"dlatkInterface.py -d {database_name} -t {file_name} -g {id_column_name} \"\n",
        "                f\"--group_freq_thresh 100 --feat_table '{feature_table_name}' \"\n",
        "                f\"--outcome_table {outcome_table_name} --outcomes {','.join(outcomes)} \"\n",
        "                f\"--controls {','.join(controls)} {cat_to_bin_cmd} \"\n",
        "                f\"--nfold_test_classifiers --model {selected_model}\"\n",
        "            )\n",
        "            print(\"Command to execute:\", command)\n",
        "            process = subprocess.run(command, shell=True, text=True, capture_output=True)\n",
        "            print(process.stdout)\n",
        "            if process.stderr:\n",
        "                print(\"Error:\", process.stderr)\n",
        "\n",
        "        submit_button = widgets.Button(description=\"Submit\")\n",
        "        submit_button.on_click(on_submit)\n",
        "\n",
        "        display(feature_table_dropdown, model_dropdown)\n",
        "        display(outcomes_title)\n",
        "        for option, checkbox in outcomes_widgets.items():\n",
        "            display(widgets.HBox([checkbox, outcomes_cat_widgets[option]]))\n",
        "        display(controls_title)\n",
        "        for option, checkbox in controls_widgets.items():\n",
        "            display(widgets.HBox([checkbox, controls_cat_widgets[option]]))\n",
        "        display(submit_button)\n",
        "\n",
        "    else:\n",
        "        print(\"Failed to read column names from the outcome table.\")\n",
        "else:\n",
        "    print(\"Outcome table name not set. Please ensure a file is uploaded in Part 1.\")\n"
      ],
      "metadata": {
        "id": "SicQCwIuWTab",
        "colab": {
          "base_uri": "https://localhost:8080/",
          "height": 250,
          "referenced_widgets": [
            "5f43181a3d15483b9e32b4e325fcac35",
            "8515ac09e4cf45018f2da0101ef657a2",
            "05229799875f46299b0fb4825b63cd51",
            "e0e3debc5b664d1ebf0a3f2dc3101fc4",
            "1d6fa401b6e045d1a9038ca6f768a247",
            "381732c74c5b4db7a14e49d962485f37",
            "9df8ca94877145ceb47859501214a41a",
            "a46641a9aa5847938f74167f151329c3",
            "99b7d53a2671485e88aff1b2bb9e30ea",
            "3f825e6264b04dca88f8c68c851c5082",
            "7eb4d168ffa04fccbf180827751cf7e9",
            "201ef948248942648c1ad346c4caafd7",
            "4e1e93cec4754bc284818b936b5cb82f",
            "6166bcdeab0a4b0c87240459b382fdae",
            "c23f5b09deff4c639567f7e9f349212e",
            "d096b6ced26443a4aa1f8610f320e44f",
            "fc1b2ed074484c769d54925992ec20fa",
            "42bb1fa830ac44c291d2d8ffbda700bf",
            "84158922129b4d26a4fe6cb3623eca85",
            "2b7329c16c6b46779014ce5c3d7afaa6",
            "a1793143e46f429095bdb49ce0a7bea7",
            "ce9cedb054aa4c70a5511195db27f4d7",
            "39f5303d7464445198388de3b593ccb7",
            "c3e717d48fed4d82a47a23108232e6d1",
            "d4ac8703573f4d3cb989417bb37e0638",
            "0c2a104d07d741f0baace6fa04b77dee",
            "b4134ccfb96d4785a48baabc840c7bcb",
            "6be49d9c89564f869462db4ce27bfbdd",
            "78435ec4c1fb4b6d9f3d13c71f975163",
            "c7855669636d440eaba23fe52a8a7447",
            "14356e83ad8a4ea8accf722cb1bc8907",
            "a737515b082b4ee99b52f583ac0e3c67",
            "ddd5bf5c5a1a4d07aababea3e25cd2c9",
            "288d9b43ba4d46e78d1382bbb0cdeed0",
            "e394e1bcdfb7465984d32b541bfe8753",
            "fb0362087ecd4aabb227aadc0c1ad0b3",
            "3f03289b11894ae8abdf5ab8da404822",
            "b15b1c6cdbe842f1b955f4db5fe57158",
            "60286f0597dd41f8ac8419d5e9d75de0",
            "8ed402f1e05b4523a622f3367a0ab758",
            "01b917dacf4b4106a9e22d4c7588228b",
            "1be1cd85001c4b66a429d4f9b121138f",
            "d31081507ee24de9bd36d1ce8e51032e",
            "003f7713803344e692902396b2c1701e",
            "b51ac901dd32475d91c1569ecf1c5231",
            "2af8ab2ff1a04a868802f681110bce6f",
            "91e80155e9274f7bbf93f3286220d71d",
            "8c88e3459c384daa861767b14ebc49b7",
            "17d62827338442b08243f9477932a88a",
            "b02d106357fa4847aeec00012b3d382d",
            "734c9261514444848b5507d03fe85db8",
            "566891afefe041a4935ae2c426a42c2c",
            "7e01457d17f246b6912ee7b046fce369",
            "9c1a39f266004cfe9e3f59070c73e162",
            "ac1c45fa632b46809a8863c4c0aa9780",
            "eca1c7196b7a418082bec75f5b154cea",
            "d6406b0ae6914e23a60915a7de17ca5a",
            "857739bd33904194a610f2e28278e491",
            "56f087ed98104aa6868759435759e8fd",
            "ee17364861f9423694857182a6c59251",
            "61cbb279e66e42b49f11b84c82868081",
            "81d690ac3f8048ba848b23902f167248",
            "a4eb17b5f5d04b238b064391b63d7653",
            "dc2d16b27f3b43819fa1842206ca2ee7",
            "ea24d57fe9e74ed983b3c8bff3775774",
            "2f6714d8ff9443bab289323e2ea03ae7",
            "73d857a4016843b1b5ba4d8bce2bdc8a",
            "a3c7d50fbec8427ea28a5ae7ae859f1b",
            "eb95137247934515909e64c840414359",
            "4fd897dfab4d41b9bec46dbb6e0ea084",
            "fdfd64a2519c45bbae952e700b12a658",
            "c18549a5c895439291c8d72f55163e54",
            "b5f0a57723f74c77a394f6dd6466b82c",
            "118323bcce6b483bb5d17b2aa7383f21",
            "fc55ce344ef840aa90ef6ea0ec9090b3",
            "0402c7fafcae4367992176d38a3fb0a6",
            "7d9dc61c36834702bac155cfd015263b",
            "8a31dc3277e84270b821878b1ae15d7e",
            "f4020b18c1bd4b28a7b46a3a35b3a45e"
          ]
        },
        "outputId": "2cd86612-2e62-4867-e121-1fae86df4552"
      },
      "execution_count": 18,
      "outputs": [
        {
          "output_type": "display_data",
          "data": {
            "text/plain": [
              "<IPython.core.display.Javascript object>"
            ],
            "application/javascript": [
              "google.colab.output.setIframeHeight(0, true, {maxHeight: 250})"
            ]
          },
          "metadata": {}
        },
        {
          "output_type": "display_data",
          "data": {
            "text/plain": [
              "<IPython.core.display.HTML object>"
            ],
            "text/html": [
              "<style> body {background-color: rgb(255, 250, 232);}</style>"
            ]
          },
          "metadata": {}
        },
        {
          "output_type": "display_data",
          "data": {
            "text/plain": [
              "Dropdown(description='Feature Table:', options={'1to2grams-filtered-table': 'feat$1to2gram$msgs404u$user_id$0_…"
            ],
            "application/vnd.jupyter.widget-view+json": {
              "version_major": 2,
              "version_minor": 0,
              "model_id": "5f43181a3d15483b9e32b4e325fcac35"
            }
          },
          "metadata": {}
        },
        {
          "output_type": "display_data",
          "data": {
            "text/plain": [
              "Dropdown(description='Model:', options=(('lr', 'lr'), ('lr1', 'lr1'), ('lr_balanced', 'lr_balanced'), ('lrnone…"
            ],
            "application/vnd.jupyter.widget-view+json": {
              "version_major": 2,
              "version_minor": 0,
              "model_id": "e0e3debc5b664d1ebf0a3f2dc3101fc4"
            }
          },
          "metadata": {}
        },
        {
          "output_type": "display_data",
          "data": {
            "text/plain": [
              "Label(value='Outcomes:')"
            ],
            "application/vnd.jupyter.widget-view+json": {
              "version_major": 2,
              "version_minor": 0,
              "model_id": "9df8ca94877145ceb47859501214a41a"
            }
          },
          "metadata": {}
        },
        {
          "output_type": "display_data",
          "data": {
            "text/plain": [
              "HBox(children=(Checkbox(value=False, description='gender'), RadioButtons(description='Is this variable Categor…"
            ],
            "application/vnd.jupyter.widget-view+json": {
              "version_major": 2,
              "version_minor": 0,
              "model_id": "3f825e6264b04dca88f8c68c851c5082"
            }
          },
          "metadata": {}
        },
        {
          "output_type": "display_data",
          "data": {
            "text/plain": [
              "HBox(children=(Checkbox(value=False, description='age'), RadioButtons(description='Is this variable Categorica…"
            ],
            "application/vnd.jupyter.widget-view+json": {
              "version_major": 2,
              "version_minor": 0,
              "model_id": "42bb1fa830ac44c291d2d8ffbda700bf"
            }
          },
          "metadata": {}
        },
        {
          "output_type": "display_data",
          "data": {
            "text/plain": [
              "HBox(children=(Checkbox(value=False, description='occu'), RadioButtons(description='Is this variable Categoric…"
            ],
            "application/vnd.jupyter.widget-view+json": {
              "version_major": 2,
              "version_minor": 0,
              "model_id": "0c2a104d07d741f0baace6fa04b77dee"
            }
          },
          "metadata": {}
        },
        {
          "output_type": "display_data",
          "data": {
            "text/plain": [
              "HBox(children=(Checkbox(value=False, description='is_student'), RadioButtons(description='Is this variable Cat…"
            ],
            "application/vnd.jupyter.widget-view+json": {
              "version_major": 2,
              "version_minor": 0,
              "model_id": "288d9b43ba4d46e78d1382bbb0cdeed0"
            }
          },
          "metadata": {}
        },
        {
          "output_type": "display_data",
          "data": {
            "text/plain": [
              "Label(value='Controls:')"
            ],
            "application/vnd.jupyter.widget-view+json": {
              "version_major": 2,
              "version_minor": 0,
              "model_id": "1be1cd85001c4b66a429d4f9b121138f"
            }
          },
          "metadata": {}
        },
        {
          "output_type": "display_data",
          "data": {
            "text/plain": [
              "HBox(children=(Checkbox(value=False, description='gender'), RadioButtons(description='Is this variable Categor…"
            ],
            "application/vnd.jupyter.widget-view+json": {
              "version_major": 2,
              "version_minor": 0,
              "model_id": "b51ac901dd32475d91c1569ecf1c5231"
            }
          },
          "metadata": {}
        },
        {
          "output_type": "display_data",
          "data": {
            "text/plain": [
              "HBox(children=(Checkbox(value=False, description='age'), RadioButtons(description='Is this variable Categorica…"
            ],
            "application/vnd.jupyter.widget-view+json": {
              "version_major": 2,
              "version_minor": 0,
              "model_id": "7e01457d17f246b6912ee7b046fce369"
            }
          },
          "metadata": {}
        },
        {
          "output_type": "display_data",
          "data": {
            "text/plain": [
              "HBox(children=(Checkbox(value=False, description='occu'), RadioButtons(description='Is this variable Categoric…"
            ],
            "application/vnd.jupyter.widget-view+json": {
              "version_major": 2,
              "version_minor": 0,
              "model_id": "61cbb279e66e42b49f11b84c82868081"
            }
          },
          "metadata": {}
        },
        {
          "output_type": "display_data",
          "data": {
            "text/plain": [
              "HBox(children=(Checkbox(value=False, description='is_student'), RadioButtons(description='Is this variable Cat…"
            ],
            "application/vnd.jupyter.widget-view+json": {
              "version_major": 2,
              "version_minor": 0,
              "model_id": "eb95137247934515909e64c840414359"
            }
          },
          "metadata": {}
        },
        {
          "output_type": "display_data",
          "data": {
            "text/plain": [
              "Button(description='Submit', style=ButtonStyle())"
            ],
            "application/vnd.jupyter.widget-view+json": {
              "version_major": 2,
              "version_minor": 0,
              "model_id": "7d9dc61c36834702bac155cfd015263b"
            }
          },
          "metadata": {}
        }
      ]
    },
    {
      "cell_type": "code",
      "execution_count": null,
      "metadata": {
        "colab": {
          "base_uri": "https://localhost:8080/",
          "height": 250
        },
        "id": "aCuCF14Eapmm",
        "outputId": "ccd35e06-9f83-4a05-8229-5385a1e8e940"
      },
      "outputs": [
        {
          "output_type": "display_data",
          "data": {
            "text/plain": [
              "<IPython.core.display.Javascript object>"
            ],
            "application/javascript": [
              "google.colab.output.setIframeHeight(0, true, {maxHeight: 250})"
            ]
          },
          "metadata": {}
        },
        {
          "output_type": "display_data",
          "data": {
            "text/plain": [
              "<IPython.core.display.HTML object>"
            ],
            "text/html": [
              "<style> body {background-color: rgb(255, 250, 232);}</style>"
            ]
          },
          "metadata": {}
        },
        {
          "output_type": "stream",
          "name": "stdout",
          "text": [
            "\n",
            "\n",
            "TopicExtractor: gensim Mallet wrapper unavailable, using Mallet directly.\n",
            "\n",
            "-----\n",
            "DLATK Interface Initiated: 2024-04-24 04:58:05\n",
            "-----\n",
            "Connecting to SQLite database: /content/sqlite_data/colab_csv.db\n",
            "SQL Query: CREATE TABLE users404 (user_id INT, gender INT, age INT, occu VARCHAR(23), is_student DOUBLE);\n",
            "Importing data, reading users404.csv file\n",
            "Reading remaining 404 rows into the table...\n",
            "Connecting to SQLite database: /content/sqlite_data/colab_csv.db\n",
            "WARNING: The table users404 does not have: a PRIMARY key on user_id. Consider adding.\n",
            "Loading Outcomes and Getting Groups for: {'is_student'}\n",
            "Connecting to SQLite database: /content/sqlite_data/colab_csv.db\n",
            "[number of groups: 255 (5 Folds)] non-stratified / using same folds for all outcomes\n",
            "\n",
            "\n",
            "|COMBO: ()|\n",
            "===========\n",
            "\n",
            "= is_student (w/ lang.)=\n",
            "------------------------\n",
            "\n",
            "Fold 0 \n",
            "   (feature group: 0): [Initial size: 255]\n",
            "[Train size: 204    Test size: 51]\n",
            "[Applying StandardScaler to X[0]: StandardScaler()]\n",
            " X[0]: (N, features): (204, 2290)\n",
            "[Training classification model: lr]\n",
            "model: LogisticRegression(C=0.01, random_state=42) \n",
            "  predict: applying standard scaler to X[0]: StandardScaler()\n",
            "  predict: combined X shape: (51, 2290)\n",
            "  predict: classifier intercept: [-0.42737537]\n",
            " *confusion matrix: \n",
            "[[23  5]\n",
            " [10 13]]\n",
            " *precision and recall: \n",
            "              precision    recall  f1-score   support\n",
            "\n",
            "           0       0.70      0.82      0.75        28\n",
            "           1       0.72      0.57      0.63        23\n",
            "\n",
            "    accuracy                           0.71        51\n",
            "   macro avg       0.71      0.69      0.69        51\n",
            "weighted avg       0.71      0.71      0.70        51\n",
            "\n",
            " *FOLD ACC: 0.7059 (mfclass_acc: 0.5490); mfclass: 0; auc: 0.7189\n",
            "\n",
            "\n",
            "Fold 1 \n",
            "   (feature group: 0): [Initial size: 255]\n",
            "[Train size: 204    Test size: 51]\n",
            "[Applying StandardScaler to X[0]: StandardScaler()]\n",
            " X[0]: (N, features): (204, 2290)\n",
            "[Training classification model: lr]\n",
            "model: LogisticRegression(C=0.01, random_state=42) \n",
            "  predict: applying standard scaler to X[0]: StandardScaler()\n",
            "  predict: combined X shape: (51, 2290)\n",
            "  predict: classifier intercept: [-0.34375154]\n",
            " *confusion matrix: \n",
            "[[26  4]\n",
            " [ 7 14]]\n",
            " *precision and recall: \n",
            "              precision    recall  f1-score   support\n",
            "\n",
            "           0       0.79      0.87      0.83        30\n",
            "           1       0.78      0.67      0.72        21\n",
            "\n",
            "    accuracy                           0.78        51\n",
            "   macro avg       0.78      0.77      0.77        51\n",
            "weighted avg       0.78      0.78      0.78        51\n",
            "\n",
            " *FOLD ACC: 0.7843 (mfclass_acc: 0.5882); mfclass: 0; auc: 0.8540\n",
            "\n",
            "\n",
            "Fold 2 \n",
            "   (feature group: 0): [Initial size: 255]\n",
            "[Train size: 204    Test size: 51]\n",
            "[Applying StandardScaler to X[0]: StandardScaler()]\n",
            " X[0]: (N, features): (204, 2290)\n",
            "[Training classification model: lr]\n",
            "model: LogisticRegression(C=0.01, random_state=42) \n",
            "  predict: applying standard scaler to X[0]: StandardScaler()\n",
            "  predict: combined X shape: (51, 2290)\n",
            "  predict: classifier intercept: [-0.50772704]\n",
            " *confusion matrix: \n",
            "[[23  3]\n",
            " [11 14]]\n",
            " *precision and recall: \n",
            "              precision    recall  f1-score   support\n",
            "\n",
            "           0       0.68      0.88      0.77        26\n",
            "           1       0.82      0.56      0.67        25\n",
            "\n",
            "    accuracy                           0.73        51\n",
            "   macro avg       0.75      0.72      0.72        51\n",
            "weighted avg       0.75      0.73      0.72        51\n",
            "\n",
            " *FOLD ACC: 0.7255 (mfclass_acc: 0.5098); mfclass: 0; auc: 0.7185\n",
            "\n",
            "\n",
            "Fold 3 \n",
            "   (feature group: 0): [Initial size: 255]\n",
            "[Train size: 204    Test size: 51]\n",
            "[Applying StandardScaler to X[0]: StandardScaler()]\n",
            " X[0]: (N, features): (204, 2290)\n",
            "[Training classification model: lr]\n",
            "model: LogisticRegression(C=0.01, random_state=42) \n",
            "  predict: applying standard scaler to X[0]: StandardScaler()\n",
            "  predict: combined X shape: (51, 2290)\n",
            "  predict: classifier intercept: [-0.38953479]\n",
            " *confusion matrix: \n",
            "[[23  6]\n",
            " [ 8 14]]\n",
            " *precision and recall: \n",
            "              precision    recall  f1-score   support\n",
            "\n",
            "           0       0.74      0.79      0.77        29\n",
            "           1       0.70      0.64      0.67        22\n",
            "\n",
            "    accuracy                           0.73        51\n",
            "   macro avg       0.72      0.71      0.72        51\n",
            "weighted avg       0.72      0.73      0.72        51\n",
            "\n",
            " *FOLD ACC: 0.7255 (mfclass_acc: 0.5686); mfclass: 0; auc: 0.8245\n",
            "\n",
            "\n",
            "Fold 4 \n",
            "   (feature group: 0): [Initial size: 255]\n",
            "[Train size: 204    Test size: 51]\n",
            "[Applying StandardScaler to X[0]: StandardScaler()]\n",
            " X[0]: (N, features): (204, 2290)\n",
            "[Training classification model: lr]\n",
            "model: LogisticRegression(C=0.01, random_state=42) \n",
            "  predict: applying standard scaler to X[0]: StandardScaler()\n",
            "  predict: combined X shape: (51, 2290)\n",
            "  predict: classifier intercept: [-0.35727353]\n",
            " *confusion matrix: \n",
            "[[24  6]\n",
            " [11 10]]\n",
            " *precision and recall: \n",
            "              precision    recall  f1-score   support\n",
            "\n",
            "           0       0.69      0.80      0.74        30\n",
            "           1       0.62      0.48      0.54        21\n",
            "\n",
            "    accuracy                           0.67        51\n",
            "   macro avg       0.66      0.64      0.64        51\n",
            "weighted avg       0.66      0.67      0.66        51\n",
            "\n",
            " *FOLD ACC: 0.6667 (mfclass_acc: 0.5882); mfclass: 0; auc: 0.6730\n",
            "\n",
            "* Overall Fold Acc: 0.7216 (+- 0.0170) vs. MFC Accuracy: 0.5608 (based on test rather than train)\n",
            "*       Overall F1: 0.7077 (+- 0.0191)\n",
            "       + precision: 0.7237 (+- 0.0190)\n",
            "       +    recall: 0.7070 (+- 0.0188)\n",
            "\n",
            "[TEST COMPLETE]\n",
            "\n",
            "{'is_student': {(): {1: {'acc': 0.7215686274509804,\n",
            "                         'auc': 0.7448801198801199,\n",
            "                         'auc_cntl_comb2': 0.0,\n",
            "                         'auc_cntl_comb2_p': 1.0,\n",
            "                         'auc_cntl_comb2_t': 0.0,\n",
            "                         'auc_p': 0.0,\n",
            "                         'auc_p_v_cntrls': 1.0,\n",
            "                         'f1': 0.7084963531855286,\n",
            "                         'f1_weighted': 0.7160008069305103,\n",
            "                         'folds_acc': 0.7215686274509804,\n",
            "                         'folds_auc': 0.7577682350965709,\n",
            "                         'folds_f1': 0.7077258991133442,\n",
            "                         'folds_mfclass_acc': 0.5607843137254902,\n",
            "                         'folds_precision': 0.7237498254433737,\n",
            "                         'folds_recall': 0.7070252241511612,\n",
            "                         'folds_rho': 0.4303887011448538,\n",
            "                         'folds_rho-p': 0.008453872188303043,\n",
            "                         'folds_se_acc': 0.01700351638327749,\n",
            "                         'folds_se_auc': 0.03094277448888591,\n",
            "                         'folds_se_f1': 0.01906700306580623,\n",
            "                         'folds_se_mfclass_acc': 0.013124078847593345,\n",
            "                         'folds_se_precision': 0.01904202376812535,\n",
            "                         'folds_se_recall': 0.018750112642087858,\n",
            "                         'folds_se_rho': 0.03768870238077484,\n",
            "                         'folds_se_rho-p': 0.006395604664118233,\n",
            "                         'matt_ccoef': 0.42951489521772107,\n",
            "                         'mfclass': '0',\n",
            "                         'mfclass_acc': 0.5607843137254902,\n",
            "                         'num_classes': '2',\n",
            "                         'num_features': 2290,\n",
            "                         'precision': 0.7236022742656018,\n",
            "                         'recall': 0.7062624875124875,\n",
            "                         'recall_micro': 0.7215686274509804,\n",
            "                         'recall_sensitivity': 0.5803571428571429,\n",
            "                         'recall_specificity': 0.8321678321678322,\n",
            "                         'test_size': 51,\n",
            "                         'train_size': 204,\n",
            "                         '{modelFS_desc}': 'None',\n",
            "                         '{model_desc}': 'LogisticRegression(C=0.01, '\n",
            "                                         'random_state=42)'}}}}\n",
            "\n",
            "[is_student]\n",
            "   NO CONTROLS\n",
            "     + LANG: acc: 0.722, f1: 0.708, auc: 0.745 (p_vs_controls = 1.0000)\n",
            "   (mfc_acc: 0.561)\n",
            "-------\n",
            "Settings:\n",
            "\n",
            "Database - colab_csv\n",
            "Corpus - msgs404u.csv\n",
            "Group ID - user_id\n",
            "Feature table(s) - feat$1to2gram$msgs404u$user_id$0_1\n",
            "Outcome table - users404.csv\n",
            "Outcome(s) - is_student\n",
            "-------\n",
            "Interface Runtime: 11.38 seconds\n",
            "DLATK exits with success! A good day indeed  ¯\\_(ツ)_/¯.\n"
          ]
        }
      ],
      "source": [
        "!dlatkInterface.py \\\n",
        "  -d colab_csv -t msgs404u.csv -g user_id --group_freq_thresh 100 \\\n",
        "  --outcome_table users404.csv --outcomes is_student  \\\n",
        "  --feat_table 'feat$1to2gram$msgs404u$user_id$0_1' \\\n",
        "  --nfold_test_classifiers --model lr"
      ]
    },
    {
      "cell_type": "markdown",
      "metadata": {
        "id": "zWMd-qW-Toti"
      },
      "source": [
        "👆 The above command produce the key validation metrics like `acc` (accuracy) which gives the fraction of users correctly classified as student (`72.2%` in this case), [f1 score](https://en.wikipedia.org/wiki/F-score), and [auc](https://developers.google.com/machine-learning/crash-course/classification/roc-and-auc) -\n",
        "\n",
        "```\n",
        "[is_student]\n",
        "   NO CONTROLS\n",
        "     + LANG: acc: 0.722, f1: 0.708, auc: 0.745 (p_vs_controls = 1.0000)\n",
        "   (mfc_acc: 0.561)\n",
        "```\n",
        "\n",
        "<br/>"
      ]
    },
    {
      "cell_type": "markdown",
      "metadata": {
        "id": "WHBvEKsTRLm9"
      },
      "source": [
        "## Prediction - Example 2: Training and Deploying a model."
      ]
    },
    {
      "cell_type": "markdown",
      "metadata": {
        "id": "oNpyhU6XiA1N"
      },
      "source": [
        "### Train and Deploy - Step 1: Train and save a model\n"
      ]
    },
    {
      "cell_type": "markdown",
      "metadata": {
        "id": "bEyzbB5XaodD"
      },
      "source": [
        "Another approach is to train a predictive model, store it and use it to predict the outcomes in a different dataset.\n",
        "\n",
        "<br/>\n",
        "\n",
        "In addition to the flags that point to the right tables, flags necessary for this command are -\n",
        "\n",
        "* **`--train_regression`** - trains a regression model.\n",
        "* **`--model MODEL_NAME`** - which machine learning model to use.\n",
        "* **`--save_model --picklefile FILENAME`** - saves the model into a pickle file `FILENAME`\n",
        "\n",
        "<br/>\n",
        "\n",
        "👇 In the below example, you will build and save a model (using [ridge regression](what_is_ridge) with a penalty of 1000) that predicts `age` from 1gram and 2gram features (`feat$1to2gram$msgs404u$user_id$0_1`), and save it into a file named `age.1to2grams.ridge1000.gft100.pickle`."
      ]
    },
    {
      "cell_type": "code",
      "execution_count": null,
      "metadata": {
        "colab": {
          "base_uri": "https://localhost:8080/",
          "height": 250
        },
        "id": "-8LGlOOBp8W0",
        "outputId": "3bfc2266-944e-4fb1-d275-6c9ba8f19fe6"
      },
      "outputs": [
        {
          "data": {
            "application/javascript": [
              "google.colab.output.setIframeHeight(0, true, {maxHeight: 250})"
            ],
            "text/plain": [
              "<IPython.core.display.Javascript object>"
            ]
          },
          "metadata": {},
          "output_type": "display_data"
        },
        {
          "data": {
            "text/html": [
              "<style> body {background-color: rgb(255, 250, 232);}</style>"
            ],
            "text/plain": [
              "<IPython.core.display.HTML object>"
            ]
          },
          "metadata": {},
          "output_type": "display_data"
        },
        {
          "name": "stdout",
          "output_type": "stream",
          "text": [
            "\n",
            "\n",
            "TopicExtractor: gensim Mallet wrapper unavailable, using Mallet directly.\n",
            "\n",
            "-----\n",
            "DLATK Interface Initiated: 2024-01-17 03:15:47\n",
            "-----\n",
            "Connecting to SQLite database: /content/sqlite_data/colab_csv.db\n",
            "Connecting to SQLite database: /content/sqlite_data/colab_csv.db\n",
            "WARNING: The table users404 does not have: a PRIMARY key on user_id. Consider adding.\n",
            "Loading Outcomes and Getting Groups for: {'age'}\n",
            "Connecting to SQLite database: /content/sqlite_data/colab_csv.db\n",
            "[number of groups: 404]\n",
            "\n",
            "= age =\n",
            "-------\n",
            "  (feature group: 0)\n",
            "   [Train size: 404 ]\n",
            " X[0]: (N, features): (404, 2308)\n",
            "  [Applying StandardScaler to X[0]: StandardScaler()]\n",
            "[COMBINED FEATS (from multiX)] Combined size: (404, 2308)\n",
            "[COMBINED FEATS: Training regression model: ridge1000]\n",
            "model: Ridge(alpha=1000) \n",
            "\n",
            "[TRAINING COMPLETE]\n",
            "\n",
            "[Saving age.1to2grams.ridge1000.gft100.pickle]\n",
            "-------\n",
            "\n",
            "Settings:\n",
            "\n",
            "Database - colab_csv\n",
            "Corpus - msgs404u.csv\n",
            "Group ID - user_id\n",
            "Feature table(s) - feat$1to2gram$msgs404u$user_id$0_1\n",
            "Outcome table - users404.csv\n",
            "Outcome(s) - age\n",
            "-------\n",
            "Interface Runtime: 1.16 seconds\n",
            "DLATK exits with success! A good day indeed  ¯\\_(ツ)_/¯.\n"
          ]
        }
      ],
      "source": [
        "!dlatkInterface.py \\\n",
        "  -d colab_csv -t msgs404u.csv -g user_id --group_freq_thresh 100 \\\n",
        "  --outcome_table users404.csv --outcomes age  \\\n",
        "  -f 'feat$1to2gram$msgs404u$user_id$0_1' \\\n",
        "  --train_regression --model ridge1000 \\\n",
        "  --save_model --picklefile age.1to2grams.ridge1000.gft100.pickle"
      ]
    },
    {
      "cell_type": "markdown",
      "metadata": {
        "id": "1ry-iqmWROil"
      },
      "source": [
        "### Train and Deploy - Step 2: Predict from new data\n",
        "\n"
      ]
    },
    {
      "cell_type": "markdown",
      "metadata": {
        "id": "f4HkTFvrZOh7"
      },
      "source": [
        "Once you have trained a model to predict an outcome, you can use it to predict from unseen data (or *test* data).\n",
        "\n",
        "👉 If you wish to use a default *test* dataset, skip the next command.\n",
        "\n",
        "👇 To load your dataset to test the model, you can use the `upload_dataset` function from the [Setup data](#data) section above."
      ]
    },
    {
      "cell_type": "code",
      "execution_count": null,
      "metadata": {
        "colab": {
          "base_uri": "https://localhost:8080/",
          "height": 250
        },
        "id": "VFGe4TR9RSg-",
        "outputId": "0714d3e2-f8e6-4084-8319-43d1a0d481c7"
      },
      "outputs": [
        {
          "data": {
            "application/javascript": [
              "google.colab.output.setIframeHeight(0, true, {maxHeight: 250})"
            ],
            "text/plain": [
              "<IPython.core.display.Javascript object>"
            ]
          },
          "metadata": {},
          "output_type": "display_data"
        },
        {
          "data": {
            "text/html": [
              "<style> body {background-color: rgb(255, 250, 232);}</style>"
            ],
            "text/plain": [
              "<IPython.core.display.HTML object>"
            ]
          },
          "metadata": {},
          "output_type": "display_data"
        },
        {
          "data": {
            "text/html": [
              "\n",
              "     <input type=\"file\" id=\"files-3c09ee46-7737-4994-8b80-40dc6185138c\" name=\"files[]\" multiple disabled\n",
              "        style=\"border:none\" />\n",
              "     <output id=\"result-3c09ee46-7737-4994-8b80-40dc6185138c\">\n",
              "      Upload widget is only available when the cell has been executed in the\n",
              "      current browser session. Please rerun this cell to enable.\n",
              "      </output>\n",
              "      <script>// Copyright 2017 Google LLC\n",
              "//\n",
              "// Licensed under the Apache License, Version 2.0 (the \"License\");\n",
              "// you may not use this file except in compliance with the License.\n",
              "// You may obtain a copy of the License at\n",
              "//\n",
              "//      http://www.apache.org/licenses/LICENSE-2.0\n",
              "//\n",
              "// Unless required by applicable law or agreed to in writing, software\n",
              "// distributed under the License is distributed on an \"AS IS\" BASIS,\n",
              "// WITHOUT WARRANTIES OR CONDITIONS OF ANY KIND, either express or implied.\n",
              "// See the License for the specific language governing permissions and\n",
              "// limitations under the License.\n",
              "\n",
              "/**\n",
              " * @fileoverview Helpers for google.colab Python module.\n",
              " */\n",
              "(function(scope) {\n",
              "function span(text, styleAttributes = {}) {\n",
              "  const element = document.createElement('span');\n",
              "  element.textContent = text;\n",
              "  for (const key of Object.keys(styleAttributes)) {\n",
              "    element.style[key] = styleAttributes[key];\n",
              "  }\n",
              "  return element;\n",
              "}\n",
              "\n",
              "// Max number of bytes which will be uploaded at a time.\n",
              "const MAX_PAYLOAD_SIZE = 100 * 1024;\n",
              "\n",
              "function _uploadFiles(inputId, outputId) {\n",
              "  const steps = uploadFilesStep(inputId, outputId);\n",
              "  const outputElement = document.getElementById(outputId);\n",
              "  // Cache steps on the outputElement to make it available for the next call\n",
              "  // to uploadFilesContinue from Python.\n",
              "  outputElement.steps = steps;\n",
              "\n",
              "  return _uploadFilesContinue(outputId);\n",
              "}\n",
              "\n",
              "// This is roughly an async generator (not supported in the browser yet),\n",
              "// where there are multiple asynchronous steps and the Python side is going\n",
              "// to poll for completion of each step.\n",
              "// This uses a Promise to block the python side on completion of each step,\n",
              "// then passes the result of the previous step as the input to the next step.\n",
              "function _uploadFilesContinue(outputId) {\n",
              "  const outputElement = document.getElementById(outputId);\n",
              "  const steps = outputElement.steps;\n",
              "\n",
              "  const next = steps.next(outputElement.lastPromiseValue);\n",
              "  return Promise.resolve(next.value.promise).then((value) => {\n",
              "    // Cache the last promise value to make it available to the next\n",
              "    // step of the generator.\n",
              "    outputElement.lastPromiseValue = value;\n",
              "    return next.value.response;\n",
              "  });\n",
              "}\n",
              "\n",
              "/**\n",
              " * Generator function which is called between each async step of the upload\n",
              " * process.\n",
              " * @param {string} inputId Element ID of the input file picker element.\n",
              " * @param {string} outputId Element ID of the output display.\n",
              " * @return {!Iterable<!Object>} Iterable of next steps.\n",
              " */\n",
              "function* uploadFilesStep(inputId, outputId) {\n",
              "  const inputElement = document.getElementById(inputId);\n",
              "  inputElement.disabled = false;\n",
              "\n",
              "  const outputElement = document.getElementById(outputId);\n",
              "  outputElement.innerHTML = '';\n",
              "\n",
              "  const pickedPromise = new Promise((resolve) => {\n",
              "    inputElement.addEventListener('change', (e) => {\n",
              "      resolve(e.target.files);\n",
              "    });\n",
              "  });\n",
              "\n",
              "  const cancel = document.createElement('button');\n",
              "  inputElement.parentElement.appendChild(cancel);\n",
              "  cancel.textContent = 'Cancel upload';\n",
              "  const cancelPromise = new Promise((resolve) => {\n",
              "    cancel.onclick = () => {\n",
              "      resolve(null);\n",
              "    };\n",
              "  });\n",
              "\n",
              "  // Wait for the user to pick the files.\n",
              "  const files = yield {\n",
              "    promise: Promise.race([pickedPromise, cancelPromise]),\n",
              "    response: {\n",
              "      action: 'starting',\n",
              "    }\n",
              "  };\n",
              "\n",
              "  cancel.remove();\n",
              "\n",
              "  // Disable the input element since further picks are not allowed.\n",
              "  inputElement.disabled = true;\n",
              "\n",
              "  if (!files) {\n",
              "    return {\n",
              "      response: {\n",
              "        action: 'complete',\n",
              "      }\n",
              "    };\n",
              "  }\n",
              "\n",
              "  for (const file of files) {\n",
              "    const li = document.createElement('li');\n",
              "    li.append(span(file.name, {fontWeight: 'bold'}));\n",
              "    li.append(span(\n",
              "        `(${file.type || 'n/a'}) - ${file.size} bytes, ` +\n",
              "        `last modified: ${\n",
              "            file.lastModifiedDate ? file.lastModifiedDate.toLocaleDateString() :\n",
              "                                    'n/a'} - `));\n",
              "    const percent = span('0% done');\n",
              "    li.appendChild(percent);\n",
              "\n",
              "    outputElement.appendChild(li);\n",
              "\n",
              "    const fileDataPromise = new Promise((resolve) => {\n",
              "      const reader = new FileReader();\n",
              "      reader.onload = (e) => {\n",
              "        resolve(e.target.result);\n",
              "      };\n",
              "      reader.readAsArrayBuffer(file);\n",
              "    });\n",
              "    // Wait for the data to be ready.\n",
              "    let fileData = yield {\n",
              "      promise: fileDataPromise,\n",
              "      response: {\n",
              "        action: 'continue',\n",
              "      }\n",
              "    };\n",
              "\n",
              "    // Use a chunked sending to avoid message size limits. See b/62115660.\n",
              "    let position = 0;\n",
              "    do {\n",
              "      const length = Math.min(fileData.byteLength - position, MAX_PAYLOAD_SIZE);\n",
              "      const chunk = new Uint8Array(fileData, position, length);\n",
              "      position += length;\n",
              "\n",
              "      const base64 = btoa(String.fromCharCode.apply(null, chunk));\n",
              "      yield {\n",
              "        response: {\n",
              "          action: 'append',\n",
              "          file: file.name,\n",
              "          data: base64,\n",
              "        },\n",
              "      };\n",
              "\n",
              "      let percentDone = fileData.byteLength === 0 ?\n",
              "          100 :\n",
              "          Math.round((position / fileData.byteLength) * 100);\n",
              "      percent.textContent = `${percentDone}% done`;\n",
              "\n",
              "    } while (position < fileData.byteLength);\n",
              "  }\n",
              "\n",
              "  // All done.\n",
              "  yield {\n",
              "    response: {\n",
              "      action: 'complete',\n",
              "    }\n",
              "  };\n",
              "}\n",
              "\n",
              "scope.google = scope.google || {};\n",
              "scope.google.colab = scope.google.colab || {};\n",
              "scope.google.colab._files = {\n",
              "  _uploadFiles,\n",
              "  _uploadFilesContinue,\n",
              "};\n",
              "})(self);\n",
              "</script> "
            ],
            "text/plain": [
              "<IPython.core.display.HTML object>"
            ]
          },
          "metadata": {},
          "output_type": "display_data"
        },
        {
          "ename": "IndexError",
          "evalue": "list index out of range",
          "output_type": "error",
          "traceback": [
            "\u001b[0;31m---------------------------------------------------------------------------\u001b[0m",
            "\u001b[0;31mIndexError\u001b[0m                                Traceback (most recent call last)",
            "\u001b[0;32m<ipython-input-16-a80c7e8d9230>\u001b[0m in \u001b[0;36m<cell line: 2>\u001b[0;34m()\u001b[0m\n\u001b[1;32m      1\u001b[0m \u001b[0;32mfrom\u001b[0m \u001b[0mdlatk\u001b[0m\u001b[0;34m.\u001b[0m\u001b[0mtools\u001b[0m\u001b[0;34m.\u001b[0m\u001b[0mcolab_methods\u001b[0m \u001b[0;32mimport\u001b[0m \u001b[0mupload_dataset\u001b[0m\u001b[0;34m\u001b[0m\u001b[0;34m\u001b[0m\u001b[0m\n\u001b[0;32m----> 2\u001b[0;31m \u001b[0mupload_dataset\u001b[0m\u001b[0;34m(\u001b[0m\u001b[0;34m)\u001b[0m\u001b[0;34m\u001b[0m\u001b[0;34m\u001b[0m\u001b[0m\n\u001b[0m",
            "\u001b[0;32m/usr/local/lib/python3.10/dist-packages/dlatk/tools/colab_methods.py\u001b[0m in \u001b[0;36mupload_dataset\u001b[0;34m(filename, foldername)\u001b[0m\n\u001b[1;32m     27\u001b[0m     \u001b[0;31m#Upload the dataset to Google Colab - /content/\u001b[0m\u001b[0;34m\u001b[0m\u001b[0;34m\u001b[0m\u001b[0m\n\u001b[1;32m     28\u001b[0m     \u001b[0mfile\u001b[0m \u001b[0;34m=\u001b[0m \u001b[0mfiles\u001b[0m\u001b[0;34m.\u001b[0m\u001b[0mupload\u001b[0m\u001b[0;34m(\u001b[0m\u001b[0;34m)\u001b[0m\u001b[0;34m\u001b[0m\u001b[0;34m\u001b[0m\u001b[0m\n\u001b[0;32m---> 29\u001b[0;31m     \u001b[0mfilename\u001b[0m \u001b[0;34m=\u001b[0m \u001b[0mlist\u001b[0m\u001b[0;34m(\u001b[0m\u001b[0mfile\u001b[0m\u001b[0;34m.\u001b[0m\u001b[0mkeys\u001b[0m\u001b[0;34m(\u001b[0m\u001b[0;34m)\u001b[0m\u001b[0;34m)\u001b[0m\u001b[0;34m[\u001b[0m\u001b[0;36m0\u001b[0m\u001b[0;34m]\u001b[0m\u001b[0;34m\u001b[0m\u001b[0;34m\u001b[0m\u001b[0m\n\u001b[0m\u001b[1;32m     30\u001b[0m     \u001b[0mprint\u001b[0m\u001b[0;34m(\u001b[0m\u001b[0;34m\"Uploading \"\u001b[0m\u001b[0;34m,\u001b[0m \u001b[0mfilename\u001b[0m\u001b[0;34m)\u001b[0m\u001b[0;34m\u001b[0m\u001b[0;34m\u001b[0m\u001b[0m\n\u001b[1;32m     31\u001b[0m \u001b[0;34m\u001b[0m\u001b[0m\n",
            "\u001b[0;31mIndexError\u001b[0m: list index out of range"
          ]
        }
      ],
      "source": [
        "from dlatk.tools.colab_methods import upload_dataset\n",
        "upload_dataset()"
      ]
    },
    {
      "cell_type": "markdown",
      "metadata": {
        "id": "FWjIdHgYZw9l"
      },
      "source": [
        "👇 You need to extract the same set of features as the ones used to train the predictive model. So, extract 1gram and 2gram features, used by atleast 10% of the groups, and consider only the groups with atleast 100 tokens."
      ]
    },
    {
      "cell_type": "code",
      "execution_count": null,
      "metadata": {
        "colab": {
          "base_uri": "https://localhost:8080/",
          "height": 250
        },
        "id": "hPHAMH9sMqKu",
        "outputId": "12c4ae07-bcff-4484-fb8a-db1fb23f97bd"
      },
      "outputs": [
        {
          "data": {
            "application/javascript": [
              "google.colab.output.setIframeHeight(0, true, {maxHeight: 250})"
            ],
            "text/plain": [
              "<IPython.core.display.Javascript object>"
            ]
          },
          "metadata": {},
          "output_type": "display_data"
        },
        {
          "data": {
            "text/html": [
              "<style> body {background-color: rgb(255, 250, 232);}</style>"
            ],
            "text/plain": [
              "<IPython.core.display.HTML object>"
            ]
          },
          "metadata": {},
          "output_type": "display_data"
        },
        {
          "name": "stdout",
          "output_type": "stream",
          "text": [
            "\n",
            "\n",
            "TopicExtractor: gensim Mallet wrapper unavailable, using Mallet directly.\n",
            "\n",
            "-----\n",
            "DLATK Interface Initiated: 2024-01-17 03:15:55\n",
            "-----\n",
            "Connecting to SQLite database: /content/sqlite_data/colab_csv.db\n",
            "SQL Query: CREATE TABLE msgs100u (message_id INT, user_id INT, created_date VARCHAR(10), message LONGTEXT);\n",
            "Importing data, reading msgs100u.csv file\n",
            "Reading remaining 741 rows into the table...\n",
            "query: PRAGMA table_info(msgs100u)\n",
            "SQL Query: DROP TABLE IF EXISTS feat$1gram$msgs100u$user_id\n",
            "SQL Query: CREATE TABLE feat$1gram$msgs100u$user_id ( id INTEGER PRIMARY KEY, group_id INTEGER, feat VARCHAR(36), value INTEGER, group_norm DOUBLE)\n",
            "\n",
            "\n",
            "Creating index correl_field on table:feat$1gram$msgs100u$user_id, column:group_id \n",
            "\n",
            "\n",
            "SQL Query: CREATE INDEX correl_field$1gram$msgs100u$user_id ON feat$1gram$msgs100u$user_id (group_id)\n",
            "\n",
            "\n",
            "Creating index feature on table:feat$1gram$msgs100u$user_id, column:feat \n",
            "\n",
            "\n",
            "SQL Query: CREATE INDEX feature$1gram$msgs100u$user_id ON feat$1gram$msgs100u$user_id (feat)\n",
            "query: PRAGMA table_info(msgs100u)\n",
            "SQL Query: DROP TABLE IF EXISTS feat$meta_1gram$msgs100u$user_id\n",
            "SQL Query: CREATE TABLE feat$meta_1gram$msgs100u$user_id ( id INTEGER PRIMARY KEY, group_id INTEGER, feat VARCHAR(16), value INTEGER, group_norm DOUBLE)\n",
            "\n",
            "\n",
            "Creating index correl_field on table:feat$meta_1gram$msgs100u$user_id, column:group_id \n",
            "\n",
            "\n",
            "\n",
            "\n",
            "Creating index feature on table:feat$meta_1gram$msgs100u$user_id, column:feat \n",
            "\n",
            "\n",
            "finding messages for 100 'user_id's\n",
            "WARNING: The table msgs100u does not have: a PRIMARY key on message_id. Consider adding.\n",
            "         Please check that all messages have a unique message_id, this can significantly impact all downstream analysis\n",
            "WARNING: The table msgs100u does not have: an index on user_id. Consider adding.\n",
            " [5%] Inserted 4080 total ngram rows covering 5 user_ids\n",
            " [10%] Inserted 9541 total ngram rows covering 10 user_ids\n",
            " [15%] Inserted 12001 total ngram rows covering 15 user_ids\n",
            " [20%] Inserted 13754 total ngram rows covering 20 user_ids\n",
            " [25%] Inserted 16767 total ngram rows covering 25 user_ids\n",
            " [30%] Inserted 18785 total ngram rows covering 30 user_ids\n",
            " [35%] Inserted 20910 total ngram rows covering 35 user_ids\n",
            " [40%] Inserted 24759 total ngram rows covering 40 user_ids\n",
            " [45%] Inserted 27164 total ngram rows covering 45 user_ids\n",
            " [50%] Inserted 30060 total ngram rows covering 50 user_ids\n",
            " [55%] Inserted 35290 total ngram rows covering 55 user_ids\n",
            " [60%] Inserted 38545 total ngram rows covering 60 user_ids\n",
            " [65%] Inserted 41141 total ngram rows covering 65 user_ids\n",
            " [70%] Inserted 45646 total ngram rows covering 70 user_ids\n",
            " [75%] Inserted 48750 total ngram rows covering 75 user_ids\n",
            " [80%] Inserted 53011 total ngram rows covering 80 user_ids\n",
            " [85%] Inserted 57497 total ngram rows covering 85 user_ids\n",
            " [90%] Inserted 60195 total ngram rows covering 90 user_ids\n",
            " [95%] Inserted 62513 total ngram rows covering 95 user_ids\n",
            " [100%] Inserted 64501 total ngram rows covering 100 user_ids\n",
            "Done Reading / Inserting.\n",
            "Adding Keys (if goes to keycache, then decrease MAX_TO_DISABLE_KEYS or run myisamchk -n).\n",
            "Done\n",
            "\n",
            "query: PRAGMA table_info(msgs100u)\n",
            "SQL Query: DROP TABLE IF EXISTS feat$2gram$msgs100u$user_id\n",
            "SQL Query: CREATE TABLE feat$2gram$msgs100u$user_id ( id INTEGER PRIMARY KEY, group_id INTEGER, feat VARCHAR(70), value INTEGER, group_norm DOUBLE)\n",
            "\n",
            "\n",
            "Creating index correl_field on table:feat$2gram$msgs100u$user_id, column:group_id \n",
            "\n",
            "\n",
            "SQL Query: CREATE INDEX correl_field$2gram$msgs100u$user_id ON feat$2gram$msgs100u$user_id (group_id)\n",
            "\n",
            "\n",
            "Creating index feature on table:feat$2gram$msgs100u$user_id, column:feat \n",
            "\n",
            "\n",
            "SQL Query: CREATE INDEX feature$2gram$msgs100u$user_id ON feat$2gram$msgs100u$user_id (feat)\n",
            "query: PRAGMA table_info(msgs100u)\n",
            "SQL Query: DROP TABLE IF EXISTS feat$meta_2gram$msgs100u$user_id\n",
            "SQL Query: CREATE TABLE feat$meta_2gram$msgs100u$user_id ( id INTEGER PRIMARY KEY, group_id INTEGER, feat VARCHAR(16), value INTEGER, group_norm DOUBLE)\n",
            "\n",
            "\n",
            "Creating index correl_field on table:feat$meta_2gram$msgs100u$user_id, column:group_id \n",
            "\n",
            "\n",
            "\n",
            "\n",
            "Creating index feature on table:feat$meta_2gram$msgs100u$user_id, column:feat \n",
            "\n",
            "\n",
            "finding messages for 100 'user_id's\n",
            " [5%] Inserted 10738 total ngram rows covering 5 user_ids\n",
            " [10%] Inserted 26507 total ngram rows covering 10 user_ids\n",
            " [15%] Inserted 32549 total ngram rows covering 15 user_ids\n",
            " [20%] Inserted 36411 total ngram rows covering 20 user_ids\n",
            " [25%] Inserted 44868 total ngram rows covering 25 user_ids\n",
            " [30%] Inserted 49988 total ngram rows covering 30 user_ids\n",
            " [35%] Inserted 54670 total ngram rows covering 35 user_ids\n",
            " [40%] Inserted 65850 total ngram rows covering 40 user_ids\n",
            " [45%] Inserted 71566 total ngram rows covering 45 user_ids\n",
            " [50%] Inserted 78652 total ngram rows covering 50 user_ids\n",
            " [55%] Inserted 93025 total ngram rows covering 55 user_ids\n",
            " [60%] Inserted 101839 total ngram rows covering 60 user_ids\n",
            " [65%] Inserted 107579 total ngram rows covering 65 user_ids\n",
            " [70%] Inserted 120820 total ngram rows covering 70 user_ids\n",
            " [75%] Inserted 128580 total ngram rows covering 75 user_ids\n",
            " [80%] Inserted 141321 total ngram rows covering 80 user_ids\n",
            " [85%] Inserted 153942 total ngram rows covering 85 user_ids\n",
            " [90%] Inserted 160653 total ngram rows covering 90 user_ids\n",
            " [95%] Inserted 166030 total ngram rows covering 95 user_ids\n",
            " [100%] Inserted 170583 total ngram rows covering 100 user_ids\n",
            "Done Reading / Inserting.\n",
            "Adding Keys (if goes to keycache, then decrease MAX_TO_DISABLE_KEYS or run myisamchk -n).\n",
            "Done\n",
            "\n",
            "Connecting to SQLite database: /content/sqlite_data/colab_csv.db\n",
            "SQL Query: DROP TABLE IF EXISTS feat$1to2gram$msgs100u$user_id\n",
            "SQL Query: CREATE TABLE feat$1to2gram$msgs100u$user_id ( id INTEGER PRIMARY KEY, group_id INTEGER, feat VARCHAR(70), value INTEGER, group_norm DOUBLE)\n",
            "\n",
            "\n",
            "Creating index correl_field on table:feat$1to2gram$msgs100u$user_id, column:group_id \n",
            "\n",
            "\n",
            "SQL Query: CREATE INDEX correl_field$1to2gram$msgs100u$user_id ON feat$1to2gram$msgs100u$user_id (group_id)\n",
            "\n",
            "\n",
            "Creating index feature on table:feat$1to2gram$msgs100u$user_id, column:feat \n",
            "\n",
            "\n",
            "SQL Query: CREATE INDEX feature$1to2gram$msgs100u$user_id ON feat$1to2gram$msgs100u$user_id (feat)\n",
            "Connecting to SQLite database: /content/sqlite_data/colab_csv.db\n",
            "Connecting to SQLite database: /content/sqlite_data/colab_csv.db\n",
            " feat$1to2gram$msgs100u$user_id [threshold: 10]\n",
            "Connecting to SQLite database: /content/sqlite_data/colab_csv.db\n",
            "SQL Query: DROP TABLE IF EXISTS feat$1to2gram$msgs100u$user_id$0_1\n",
            " feat$1to2gram$msgs100u$user_id <new table feat$1to2gram$msgs100u$user_id$0_1 will have 3053 distinct features.>\n",
            "SQL Query: CREATE TABLE feat$1to2gram$msgs100u$user_id$0_1 ( id INTEGER PRIMARY KEY, group_id INTEGER, feat VARCHAR(70), value INTEGER, group_norm DOUBLE)\n",
            "Done inserting.\n",
            "Enabling keys.\n",
            "done.\n",
            "-------\n",
            "\n",
            "Settings:\n",
            "\n",
            "Database - colab_csv\n",
            "Corpus - msgs100u.csv\n",
            "Group ID - user_id\n",
            "Feature table(s) - feat$1to2gram$msgs100u$user_id$0_1\n",
            "-------\n",
            "Interface Runtime: 14.06 seconds\n",
            "DLATK exits with success! A good day indeed  ¯\\_(ツ)_/¯.\n"
          ]
        }
      ],
      "source": [
        "!dlatkInterface.py \\\n",
        "  -d colab_csv -t msgs100u.csv -g user_id --group_freq_thresh 100 \\\n",
        "  --add_ngrams -n 1 2 \\\n",
        "  --combine_feat_tables 1to2gram \\\n",
        "  --feat_occ_filter --set_p_occ 0.10"
      ]
    },
    {
      "cell_type": "markdown",
      "metadata": {
        "id": "Ihi0766mfTx_"
      },
      "source": [
        "👆 You should see the name of the new feature table - `feat$1to2gram$msgs100u$user_id$0_1$pmi3_0` (you can use `--view_tables` to check the table).\n",
        "<hr /><br />\n",
        "\n"
      ]
    },
    {
      "cell_type": "markdown",
      "metadata": {
        "id": "fFiIGzTXf2Jf"
      },
      "source": [
        "Once you have all the features required by the prediction model, you can predict the outcome using the flags:\n",
        "\n",
        "* **`--predict_regression_to_outcome_table TABLE_NAME`** - predicts the outcomes into a table named `TABLE_NAME`.\n",
        "* **`--load --picklefile FILENAME`** - load the model from the file `FILENAME`."
      ]
    },
    {
      "cell_type": "code",
      "execution_count": null,
      "metadata": {
        "colab": {
          "base_uri": "https://localhost:8080/",
          "height": 250
        },
        "id": "3z0FH0p3L1L-",
        "outputId": "5bb408f7-e97b-458e-f51e-b11ae722172f"
      },
      "outputs": [
        {
          "data": {
            "application/javascript": [
              "google.colab.output.setIframeHeight(0, true, {maxHeight: 250})"
            ],
            "text/plain": [
              "<IPython.core.display.Javascript object>"
            ]
          },
          "metadata": {},
          "output_type": "display_data"
        },
        {
          "data": {
            "text/html": [
              "<style> body {background-color: rgb(255, 250, 232);}</style>"
            ],
            "text/plain": [
              "<IPython.core.display.HTML object>"
            ]
          },
          "metadata": {},
          "output_type": "display_data"
        },
        {
          "name": "stdout",
          "output_type": "stream",
          "text": [
            "\n",
            "\n",
            "TopicExtractor: gensim Mallet wrapper unavailable, using Mallet directly.\n",
            "\n",
            "-----\n",
            "DLATK Interface Initiated: 2024-01-17 03:16:15\n",
            "-----\n",
            "Connecting to SQLite database: /content/sqlite_data/colab_csv.db\n",
            "Outcome table missing\n",
            "Connecting to SQLite database: /content/sqlite_data/colab_csv.db\n",
            "[Loading age.1to2grams.ridge1000.gft100.pickle] True\n",
            "Outcomes in loaded model: ['age']\n",
            "WARNING! Predict to outcome table sometimes excludes groups if not in a feature table.\n",
            "\n",
            "\n",
            "**CHUNK 0\n",
            "\n",
            " [Aligning current X with training X: feature group: 0]\n",
            "  Features Aligned: 2308\n",
            "\n",
            "= age =\n",
            "-------\n",
            "  (feature group: 0)\n",
            "[PREDICT] applying *existing* standard scaler to X[0]: StandardScaler()\n",
            "[PREDICT] combined X shape: (100, 2308)\n",
            "[PREDICT] regressor: Ridge(alpha=1000)\n",
            "settings:  [('alpha', 1000), ('fit_intercept', True), ('copy_X', True), ('max_iter', None), ('tol', 0.001), ('positive', False), ('random_state', None), ('n_features_in_', 2308), ('_normalize', False), ('n_iter_', None), ('intercept_', 23.24009900990099)]\n",
            "[Done.]\n",
            "[Prediction Complete]\n",
            " Total Predicted: 100\n",
            "New table created: p_ridg$lbp_age\n",
            "Connecting to SQLite database: /content/sqlite_data/colab_csv.db\n",
            "\n",
            "Example predictions\n",
            "-------\n",
            "Group ID: 4088894\n",
            "\n",
            "Top 3 messages for the group:\n",
            "-------\n",
            "[\"I have been a member of the Dragonswood site for quite a while now & am pleased to say that recently, I was asked to write a regular column for their magazine (which, incidentally, is now available in some shops over in the USA & even NZ, as well as quite a few here in the UK). My first column is in the latest issue (out for Lammas & Mabon) & *puffs out chest with pride* is one of the featured articles mentioned on the front cover. I'm pleased as punch over that, I have to say, as this is my first professional writing venture (I've only ever written items for Triptych which I produce myself before now). Anyway, I thought I'd pop the article up here too & provide a link to the Dragonswood website, where you can order the magazine direct from them:  urlLink http://www.dragonswood.org.uk/index.php    THE ARTICLE:  Simple Witchery By Mabon   What is Simple Witchery?  As long as I can remember, Iâ\\x80\\x99ve always liked to keep things as simple as possible â\\x80\\x93 I never saw the point in taking a complicated route if a simpler one presented itself to me. This isnâ\\x80\\x99t laziness, just common sense, from my point of view. Itâ\\x80\\x99s something that has bothered me for a long time, this need people often seem to feel to complicate things which neednâ\\x80\\x99t be so hard, and so I set out to boil things down to their barest components, take out all things unnecessary & just get things done.  This is, essentially, what Simple Witchery is all about; leaving out all the extraneous information & implements, taking advantage of what we have ready to hand, & simply enjoying the flow of things. I hope that with this column, I can share some of this with all of you, & perhaps even get you thinking of ways to simplify things in your own, unique way!   Why Simple Witchery?  When you lift out all the superfluous items, you are left with the most important element of the Craft. Which element is that? Earth? Air? Fire or Water? Perhaps Spirit? No, none of these. The most important element is always YOU; the person living it & experiencing all it has to offer. When you learn to rely on yourself & your own abilities, you learn that nothing is impossible, you can do anything you set your mind to. Thatâ\\x80\\x99s what itâ\\x80\\x99s all about; setting your mind to something & getting it done.  For example, I donâ\\x80\\x99t use a wand in any or my work. Yes, I own one â\\x80\\x93 a very ornate & beautiful one which was given to me by a very close friend â\\x80\\x93 but I see it as purely a decoration for my home & it sits on a cherry wood stand atop my bookcase, where I can see it whenever I look up. It has never & will never be used by me or anyone else. Why? Because it doesnâ\\x80\\x99t need to be. I have no need of a wand when I have myself. Besides, what if at some point I had to cast in an emergency & found myself without my wand, what would I do? Panic? Well, thatâ\\x80\\x99s not really very sensible, is it? Iâ\\x80\\x99d do whatever needed to be done without my wand & it would work every bit as well as it would while using a wand!  Basically, all you need to get yourself started is focus of will & energy. Once you get the hang of that, thereâ\\x80\\x99ll be no holding you back & no end to the things you can accomplish. Over the coming issues, Iâ\\x80\\x99ll be exploring more of Simple Witchery &, hopefully, taking you along for the ride. I really hope youâ\\x80\\x99ll find it fun!   Tâ\\x80\\x99is the Seasonâ\\x80¦  These are some very simple rituals for the coming Sabbats â\\x80\\x93 ones I use myself. I hope youâ\\x80\\x99ll enjoy them.   Lammas (1st August)  Lammas is the first of the harvest festivals & celebrates the beginning of us reaping what we have sown earlier in the year. It is traditionally a time for feasting, having fun, & preparing ourselves for a little more hard work before the harvest is done!   On the Altar:  Large beeswax candle Lengths of green & red cord Wine, bread & honey   The Ritual:  Cleanse and cast the circle.Light the beeswax candle. Knot the piece of red cord and pass it over the candle, circling the base. Think of all that is passing and the sacrifices you have made. Give them up freely as you pass the red cord over the flame. Knot the green cord and pass it over the candle to lie on top of the red cord. This represents the achievements which will be built on your sacrifices â\\x80\\x93 your harvest. Consecrate the wine and drink in honour of the Sun's power and your own achievements. Consecrate the bread and honey, and take them to the four corners saying:  'This is my offering;   This is my sacrifice.'  (Move round the circle deosil (clockwise) starting at North) Spread the honey on the bread. Eat and drink, communing with the season, saving some to put into the Earth as an offering later. Close the circle.   Mabon (22nd September)  Mabon is the Autumnal Equinox; a time of balance between darkness & light. But after this, the days will begin to grow shorter & the nights will draw in earlier. As the second of the harvest festivals, we celebrate it with the many orchard fruits which are now in season.   On the Altar:  An ear of corn Dried leaves A deep purple candle Wine & bread   The Ritual:  Cleanse and cast the circle.Light the purple candle and think about the meaning of the season. Name the dried leaves for anything to be swept out of your life. Drop them deliberately to the floor to be swept up later (keep them to scatter into running water). Pick up the corn and say:  'The God has descended into the land.   Now he makes His journey into the Underworld.   Days grow dim, nights grow long, but we do not weep,   For behold, he has left his seed as a promise of his return!'  Take the corn and bread deosil (clockwise) round the circle, stopping at each corner and saying:  'This is the seed and this is my harvest.'  Direct healing thoughts towards any part of the world where there is famine. Eat the bread and drink to the Lord and Lady. Close the circle.   Seasonal Project:   Goddess Eye  A Goddess eye is said to watch over & protect the home, & makes a wonderful gift for a like-minded friend. Making something yourself means it is very personal & the effort put into it gives it that little bit extra power. Hang it in the window to catch the light.  Materials required:  2 sticks on roughly equal length Yarn or embroidery threads of various colours Scissors (to cut the threads of course!)  Method:  Make a slipknot on the end of the thread you will use for the centre of the cross & slide the loop over the 2 sticks. Once the thread is centred, pull the knot tight & spread the stick arms out into the form of a cross. Wrap the thread diagonally over the centre twice for each side (NW-SE, then NE-SW) Start wrapping the thread around the sticks (moving deosil around the eye). Start at one point, move the thread over the stick, come round the back crossing over the front & move onto the next arm, keeping the thread tight. When you want to change to another colour, hide the knot at the back of the stick so the ends can't be seen. When you're finished, double-loop the thread over the last arm. You can decorate the ends of the arms with leather, beads or feathers â\\x80\\x93 however you like. To hang the eye up, add a loop in the same colour as the thread nearest the outer edge, by pushing the ends through the eye (about an inch or so down the arm) from the front, then pushing the ends back through to the front again higher up, then tying a knot to form a loop. This should hold the eye upright when it's hung up.   Kitchen Witch   Herb Scented Flat Bread  This flatbread doesn't contain yeast, so it's quick and simple to make. You can substitute your favourite herbs for the ones suggested. A delicious recipe to use for ritual or any time. Makes 3.  Ingredients:  1 cup plus 3 tablespoons all-purpose flour 1/2 teaspoon baking powder 1/2 teaspoon salt 1 teaspoon finely chopped fresh sage 1 teaspoon finely chopped fresh chives 1 teaspoon finely chopped fresh flat-leaf parsley 2 1/2 tablespoons vegetable shortening 3 tablespoons milk 1/2 teaspoon coarse salt, for sprinkling 1 tablespoon extra-virgin olive oil, for brushing  1. In the bowl of a food processor, combine the flour, baking powder, salt, sage, chives, and parsley; process for 5 seconds to combine. Add vegetable shortening and process until well combined, about 15 seconds. Add milk and 2 tablespoons water, and process until the dough comes together, about 7 seconds.  2. Transfer dough to a lightly-flowered surface and knead for about 1 minute, forming it into a ball. Cover with plastic wrap and let stand for 30 minutes.  3. Heat the over to 200Â° with a baking sheet set on the rack. Heat a medium cast-iron skillet over medium-high heat until very hot. Meanwhile, cut the dough into 3 equal pieces and form each piece into a ball. On a lightly floured surface, roll one of the pieces of dough out into a very thin circle (it should be less than 1/16 inch thick and about 6 1/2 inches in diameter). Using a fork, prick the dough 7 or 8 times. Lightly brush one side of the dough with olive oil and sprinkle it lightly with salt.  4. Transfer round of dough, with the oiled side down, to the hot skillet and reduce heat to medium; cook until surface is covered with golden to dark-brown speckles, about 1 to 2 minutes on each side. If the flatbread begins to burn, lower the heat and continue to cook.  5. Remove bread from skillet and transfer to the baking sheet in the oven. Repeat the rolling and cooking process with the remaining 2 pieces of dough.  6. Cut the bread into wedges with a pizza wheel or sharp knife, and serve warm.\", 'Well, this weekend is going to me quadrupally special for me: Not only is it a full moon tomorrow night, but it is also a blue moon (the second full moon in a calendar month). Then on Sunday it is Lammas (one of the eight Sabbats in the Wheel of the Year) AND my first wedding anniversary!  Yes, one year ago, Dale & I both stood up in front of a bunch of our friends & family to say words along the lines of \"I do\". Where has the time gone? It\\'s quite literally flown by so fast that I can scarcely believe it. It certainly doesn\\'t feel like a year already. It was odd enough last month when I realised that my best friend, Sarah, had been married a whole year (there was a whole spate of weddings last summer, you see!) & now it\\'s MY turn. I can honestly say it\\'s been fantastic so far, but people keep asking how it feels to be married & all I can say is that it doesn\\'t really feel any different to us than we did before! We were already living together & both knew we wanted to spend the rest of our lives together - it was just a case of formalising it & making it legal. Perhaps I feel a little more secure now, but other than that, it\\'s exactly the same. Just as well I was happy enough before, isn\\'t it?  So, Dale & I are returning to the hotel where the deed was done, for dinner & an overnight stay, with breakfast in bed, to celebrate.  Anyway, other than our anniversary, I have the other important celebration to think about - Lammas! A little information is possibly called for here, I suppose. Lammas is the first of the three harvest festivals (the fifth of the year as a whole) & is generally held on or around 1st August. It celebrates the harvesting of the first crops as well as the first fruition of projects begun at the start of the year - we reap as we sow. It is also known as Lughnassadh (pronounced Loo-nah-sah) - the feast of the God, Lugh, who is sacrificed as he is cut down with the corn & reborn as the bread, providing food for all.  Some traditional associations are:  Traditional Foods:  Apples, Grains, Breads and Berries.  Herbs and Flowers:  All Grains, Grapes, Heather, Blackberries, Sloe, Crab Apples, Pears.  Incense:  Aloes, Rose, Sandalwood. Sacred GemstoneCarnelian.  Special Activities:  As summer passes, many Pagans celebrate this time to remember its warmth and bounty in a celebrated feast shared with family or Coven members. Save and plant the seeds from the fruits consumed during the feast or ritual. If they sprout, grow the plant or tree with love and as a symbol of your connection with the Lord and Lady. Walk through the fields and orchards or spend time along springs, creeks, rivers, ponds and lakes reflecting on the bounty and love of the Lord and Lady.  I\\'ve never been much of a one to go in for long rituals, so the one I use (when I use one at all) goes along these lines:   On the Altar:  Large beeswax candle Lengths of green & red cord Wine, bread & honey   The Ritual:  Cleanse and cast the circle. Light the beeswax candle. Knot the piece of red cord and pass it over the candle, circling the base. Think of all that is passing and the sacrifices you have made. Give them up freely as you pass the red cord over the flame. Knot the green cord and pass it over the candle to lie on top of the red cord. This represents the achievements which will be built on your sacrifices â\\x80\\x93 your harvest.  Consecrate the wine and drink in honour of the Sun\\'s power and your own achievements. Consecrate the bread and honey, and take them to the four corners saying: \\'This is my offering; This is my sacrifice.\\' (start at the North then move round the circle deosil) Spread the honey on the bread. Eat and drink, communing with the season, saving some to put into the Earth as an offering later. Close the circle.  I don\\'t think I\\'ll be performing a ritual this year, so I\\'ll probably just spend some time outside, somewhere green, & meditate a while instead - the Lord & Lady seem to be happy enough with that arrangement, so it should be more than enough.  I wish you all a special Blue Moon celebration & a fruitful harvest this Lammas! Blessings, Mab.', \"Well, I've never run a blog before, but I guess a wee introduction would probably be the best place to start, so here goes:  I'm a 27 year old married female who happens to be a practicing solitary Witch & have been for around 13 years now. I've forged my own Path along the way; a Path I call Simple Witchery. So, what does that mean, exactly? Well, I boil everything down to its barest components & take out all the extraneous bumf & hooha, so that what is left is the barest of essentials. I don't go in for big, fancy rituals & ceremonies - most of my magick takes place in the kitchen or the bathroom & is very firmly based in the mundane - it's a part of my everyday life, not something I do on the weekends or a couple of evenings a month. I am very much interested in spellcraft - the science of magick - & also the artsy-craftsy side of it (ie making things to use as part of a spell, such as poppets, amulets, talismans, or just the little things like a bag to put all the components in!). I'm also very interested in the use of herbs in healing.  Outside of my Craft interests, I am an avid reader - everything from horror to fantasy, comedy to biography - I just devour them all! I also spend a fair bit of time writing, not just calligraphy (which I love), but I edit a small local Pagan newsletter (Triptych) & also write a regular column for Dragonswood magazine. Music plays a huge part in my life - my husband plays guitar & sings, while I just sing - we spend a lot of time listening to rock & metal music (our favourite band is Dream Theater). Movies are another shared interest - just about any genre you care to name is represented in our DVD collection.  And that's a brief introduction to ME. No doubt as I write more, more will be revealed...\"]\n",
            "\n",
            "\n",
            "Prediction: 27.350689449787602\n",
            "-------\n",
            "\n",
            "Group ID: 3673762\n",
            "\n",
            "Top 3 messages for the group:\n",
            "-------\n",
            "[\"I brought them both home with me this evening. (Technically last night, since it is now well past midnight.)  Pippi was waiting for me in the children's section of my local Big Chain bookstore. I had sat at the kiddie table to flip through Ed Emberley's drawing books. Pippi caught my eye from a discarded stack of books across the table, when I paused to sip my Starbucks coffee. I loved her when I was a kid, and my hand automatically reached out for her cheery face on the book's cover.  I had forgotten she is the strongest girl in the world, has her own house, and is an orphan. Just like ME! I'm tempted to dye my (graying) hair red, but I'll compromise by wearing pig tails now and then.  Pippi had me reminiscing past joys, so I sprung for a compilation CD of Kitaro's music from the 70s and 80s. I've lusted for that album since a boyfriend played the cassette version in his truck for me, at his farm in Grand Forks, North Dakota, in 1988. We discussed romance to Kitaro's pulsing accompaniment. The music stayed with me, the boyfriend didn't, thank goodness.  Better go beddie-bye before I spill too much information here.  Love ya, Pippi.\", 'With the death of my brother last month, I have no immediate family. I had been trying to call him, to wish him Happy Easter and Birthday in April, then to see how he was in May. I kept leaving messages.  Not until that day in May that a nurse called to tell me he had died a few hours earlier, did I know he had moved twice this year. I try not to be angry...\"If only someone had called me back to let me know he had moved, I could have talked to him one last time....\" I immediately got on a plane and flew to where he was. I buried him near my parents. Thatâ\\x80\\x99s about all I have the emotional stamina to say about it tonight.  With his death all my immediate family are gone.  So for a while I holed up. I read, wrote, and wallowed. It makes no sense to me that I should be w/o family at such a young age. I\\'ve done everything right as a loyal and compassionte being, and it\\'s no joke that most people who meet me like me. I like people too, hence my profile, \"loner who likes people.\" (More on that in a future post.)  And as I\\'ve learned well, each time there is death near me, a friend or two or three, will drop from the radar. I\\'ve had enough practice not to take this personally. Meanwhile, others have stepped forward in unexpected support and generosity. The last two afternoons I was treated to coffee and chat by new acquaintances. I doubt these will become serious friendships, but I am glad to learn once again that when some fall away, either in death or because they don\\'t want to be around a person who is hurting, there are many angels willing to step in.  I almost gave up again. I decided to become a hermit, far beyond my usual loner self. Yet that pebble of courage that always grinds into my heel when I take a step kept prodding me. For a week, at least, I\\'m trying to play in the friendship game again.  A funny part of my coffee dates with these two women was that I listened to them talk about their love lives. Hearing their joys and sorrows, and offering ideas as asked, made me feel alive and hopeful; for love, even lost love, is the breath of life. We talked little of my situation. For me, that was a relief; a mental vacation. I told them so.  My life is changing. I have always been a loner. I want to be different than I\\'ve been in that regard, but I think the programming is hard wired. I prefer it.  This book perks me up when I start telling people off in my mind for what my emotional center registers as abandonment:  Anyway: The Paradoxical Commandments:  Finding Personal Meaning in a Crazy World   by Kent M. Keith  People will leave in various ways. I\\'m a true friend anyway. Others stay, and love me no matter how life turns. I am grateful.', \"Privately owned SpaceShipOne completed a manned flight 62.5 miles above earth, then landed in the Mojave Desert.  I hope that one day, I'll be able to fly into space. In the same way I take a plane to Europe, I'll take a flight far above Earth.  People have laughed at me when I've said this. Maybe after today, they'll realize my hope ain't all pie in the sky.  As of this writing, Google News is posting over 1000 articles from around the world on the success of SpaceShipOne:  urlLink  SpaceShipOne News   It's only a matter of time until we can buy tickets for a private rocket ride.\"]\n",
            "\n",
            "\n",
            "Prediction: 24.283943028810803\n",
            "-------\n",
            "\n",
            "-------\n",
            "\n",
            "Settings:\n",
            "\n",
            "Database - colab_csv\n",
            "Corpus - msgs100u.csv\n",
            "Group ID - user_id\n",
            "Feature table(s) - feat$1to2gram$msgs100u$user_id$0_1\n",
            "-------\n",
            "Interface Runtime: 0.42 seconds\n",
            "DLATK exits with success! A good day indeed  ¯\\_(ツ)_/¯.\n"
          ]
        }
      ],
      "source": [
        "!dlatkInterface.py \\\n",
        "  -d colab_csv -t msgs100u.csv -g user_id --group_freq_thresh 100 \\\n",
        "  -f 'feat$1to2gram$msgs100u$user_id$0_1' \\\n",
        "  --predict_regression_to_outcome_table lbp_age \\\n",
        "  --load --picklefile age.1to2grams.ridge1000.gft100.pickle"
      ]
    },
    {
      "cell_type": "markdown",
      "metadata": {
        "id": "i43f_1bAFIDu"
      },
      "source": [
        "## Authors and References"
      ]
    },
    {
      "cell_type": "code",
      "execution_count": null,
      "metadata": {
        "id": "ocIzx5BeQiES"
      },
      "outputs": [],
      "source": []
    }
  ],
  "metadata": {
    "colab": {
      "provenance": [],
      "include_colab_link": true
    },
    "kernelspec": {
      "display_name": "Python 3",
      "name": "python3"
    },
    "language_info": {
      "name": "python"
    },
    "widgets": {
      "application/vnd.jupyter.widget-state+json": {
        "6d6a16e56c9c462fadc1b19078d22fe9": {
          "model_module": "@jupyter-widgets/controls",
          "model_name": "DropdownModel",
          "model_module_version": "1.5.0",
          "state": {
            "_dom_classes": [],
            "_model_module": "@jupyter-widgets/controls",
            "_model_module_version": "1.5.0",
            "_model_name": "DropdownModel",
            "_options_labels": [
              "created_date",
              "message"
            ],
            "_view_count": null,
            "_view_module": "@jupyter-widgets/controls",
            "_view_module_version": "1.5.0",
            "_view_name": "DropdownView",
            "description": "Text Column:",
            "description_tooltip": null,
            "disabled": false,
            "index": 1,
            "layout": "IPY_MODEL_92f5cc442d8e459a988fa80294c2eaaf",
            "style": "IPY_MODEL_999ba46c963842868f39dc3d6dffcb6f"
          }
        },
        "92f5cc442d8e459a988fa80294c2eaaf": {
          "model_module": "@jupyter-widgets/base",
          "model_name": "LayoutModel",
          "model_module_version": "1.2.0",
          "state": {
            "_model_module": "@jupyter-widgets/base",
            "_model_module_version": "1.2.0",
            "_model_name": "LayoutModel",
            "_view_count": null,
            "_view_module": "@jupyter-widgets/base",
            "_view_module_version": "1.2.0",
            "_view_name": "LayoutView",
            "align_content": null,
            "align_items": null,
            "align_self": null,
            "border": null,
            "bottom": null,
            "display": null,
            "flex": null,
            "flex_flow": null,
            "grid_area": null,
            "grid_auto_columns": null,
            "grid_auto_flow": null,
            "grid_auto_rows": null,
            "grid_column": null,
            "grid_gap": null,
            "grid_row": null,
            "grid_template_areas": null,
            "grid_template_columns": null,
            "grid_template_rows": null,
            "height": null,
            "justify_content": null,
            "justify_items": null,
            "left": null,
            "margin": null,
            "max_height": null,
            "max_width": null,
            "min_height": null,
            "min_width": null,
            "object_fit": null,
            "object_position": null,
            "order": null,
            "overflow": null,
            "overflow_x": null,
            "overflow_y": null,
            "padding": null,
            "right": null,
            "top": null,
            "visibility": null,
            "width": null
          }
        },
        "999ba46c963842868f39dc3d6dffcb6f": {
          "model_module": "@jupyter-widgets/controls",
          "model_name": "DescriptionStyleModel",
          "model_module_version": "1.5.0",
          "state": {
            "_model_module": "@jupyter-widgets/controls",
            "_model_module_version": "1.5.0",
            "_model_name": "DescriptionStyleModel",
            "_view_count": null,
            "_view_module": "@jupyter-widgets/base",
            "_view_module_version": "1.2.0",
            "_view_name": "StyleView",
            "description_width": ""
          }
        },
        "94a72dadc94142e78970eae183dac7eb": {
          "model_module": "@jupyter-widgets/controls",
          "model_name": "ButtonModel",
          "model_module_version": "1.5.0",
          "state": {
            "_dom_classes": [],
            "_model_module": "@jupyter-widgets/controls",
            "_model_module_version": "1.5.0",
            "_model_name": "ButtonModel",
            "_view_count": null,
            "_view_module": "@jupyter-widgets/controls",
            "_view_module_version": "1.5.0",
            "_view_name": "ButtonView",
            "button_style": "",
            "description": "Confirm Text Column",
            "disabled": false,
            "icon": "",
            "layout": "IPY_MODEL_aca3ac9d577546e1b3cce6659cde142e",
            "style": "IPY_MODEL_1707ea33efe6443f92a6fff2606075da",
            "tooltip": ""
          }
        },
        "aca3ac9d577546e1b3cce6659cde142e": {
          "model_module": "@jupyter-widgets/base",
          "model_name": "LayoutModel",
          "model_module_version": "1.2.0",
          "state": {
            "_model_module": "@jupyter-widgets/base",
            "_model_module_version": "1.2.0",
            "_model_name": "LayoutModel",
            "_view_count": null,
            "_view_module": "@jupyter-widgets/base",
            "_view_module_version": "1.2.0",
            "_view_name": "LayoutView",
            "align_content": null,
            "align_items": null,
            "align_self": null,
            "border": null,
            "bottom": null,
            "display": null,
            "flex": null,
            "flex_flow": null,
            "grid_area": null,
            "grid_auto_columns": null,
            "grid_auto_flow": null,
            "grid_auto_rows": null,
            "grid_column": null,
            "grid_gap": null,
            "grid_row": null,
            "grid_template_areas": null,
            "grid_template_columns": null,
            "grid_template_rows": null,
            "height": null,
            "justify_content": null,
            "justify_items": null,
            "left": null,
            "margin": null,
            "max_height": null,
            "max_width": null,
            "min_height": null,
            "min_width": null,
            "object_fit": null,
            "object_position": null,
            "order": null,
            "overflow": null,
            "overflow_x": null,
            "overflow_y": null,
            "padding": null,
            "right": null,
            "top": null,
            "visibility": null,
            "width": null
          }
        },
        "1707ea33efe6443f92a6fff2606075da": {
          "model_module": "@jupyter-widgets/controls",
          "model_name": "ButtonStyleModel",
          "model_module_version": "1.5.0",
          "state": {
            "_model_module": "@jupyter-widgets/controls",
            "_model_module_version": "1.5.0",
            "_model_name": "ButtonStyleModel",
            "_view_count": null,
            "_view_module": "@jupyter-widgets/base",
            "_view_module_version": "1.2.0",
            "_view_name": "StyleView",
            "button_color": null,
            "font_weight": ""
          }
        },
        "20fa1cb8893940bfbd5732257c0565be": {
          "model_module": "@jupyter-widgets/output",
          "model_name": "OutputModel",
          "model_module_version": "1.0.0",
          "state": {
            "_dom_classes": [],
            "_model_module": "@jupyter-widgets/output",
            "_model_module_version": "1.0.0",
            "_model_name": "OutputModel",
            "_view_count": null,
            "_view_module": "@jupyter-widgets/output",
            "_view_module_version": "1.0.0",
            "_view_name": "OutputView",
            "layout": "IPY_MODEL_7d762e080ed346e78415db66baa67ccc",
            "msg_id": "",
            "outputs": [
              {
                "output_type": "stream",
                "name": "stdout",
                "text": [
                  "Text Column confirmed: message\n"
                ]
              }
            ]
          }
        },
        "7d762e080ed346e78415db66baa67ccc": {
          "model_module": "@jupyter-widgets/base",
          "model_name": "LayoutModel",
          "model_module_version": "1.2.0",
          "state": {
            "_model_module": "@jupyter-widgets/base",
            "_model_module_version": "1.2.0",
            "_model_name": "LayoutModel",
            "_view_count": null,
            "_view_module": "@jupyter-widgets/base",
            "_view_module_version": "1.2.0",
            "_view_name": "LayoutView",
            "align_content": null,
            "align_items": null,
            "align_self": null,
            "border": null,
            "bottom": null,
            "display": null,
            "flex": null,
            "flex_flow": null,
            "grid_area": null,
            "grid_auto_columns": null,
            "grid_auto_flow": null,
            "grid_auto_rows": null,
            "grid_column": null,
            "grid_gap": null,
            "grid_row": null,
            "grid_template_areas": null,
            "grid_template_columns": null,
            "grid_template_rows": null,
            "height": null,
            "justify_content": null,
            "justify_items": null,
            "left": null,
            "margin": null,
            "max_height": null,
            "max_width": null,
            "min_height": null,
            "min_width": null,
            "object_fit": null,
            "object_position": null,
            "order": null,
            "overflow": null,
            "overflow_x": null,
            "overflow_y": null,
            "padding": null,
            "right": null,
            "top": null,
            "visibility": null,
            "width": null
          }
        },
        "6a5bd7e9fdfd43c6b92b5b34d823185a": {
          "model_module": "@jupyter-widgets/controls",
          "model_name": "DropdownModel",
          "model_module_version": "1.5.0",
          "state": {
            "_dom_classes": [],
            "_model_module": "@jupyter-widgets/controls",
            "_model_module_version": "1.5.0",
            "_model_name": "DropdownModel",
            "_options_labels": [
              "message_id",
              "user_id"
            ],
            "_view_count": null,
            "_view_module": "@jupyter-widgets/controls",
            "_view_module_version": "1.5.0",
            "_view_name": "DropdownView",
            "description": "ID Column:",
            "description_tooltip": null,
            "disabled": false,
            "index": 1,
            "layout": "IPY_MODEL_e670ecc4e9b7407da794ce9768206ccf",
            "style": "IPY_MODEL_13916687e02942c89210c080da447149"
          }
        },
        "e670ecc4e9b7407da794ce9768206ccf": {
          "model_module": "@jupyter-widgets/base",
          "model_name": "LayoutModel",
          "model_module_version": "1.2.0",
          "state": {
            "_model_module": "@jupyter-widgets/base",
            "_model_module_version": "1.2.0",
            "_model_name": "LayoutModel",
            "_view_count": null,
            "_view_module": "@jupyter-widgets/base",
            "_view_module_version": "1.2.0",
            "_view_name": "LayoutView",
            "align_content": null,
            "align_items": null,
            "align_self": null,
            "border": null,
            "bottom": null,
            "display": null,
            "flex": null,
            "flex_flow": null,
            "grid_area": null,
            "grid_auto_columns": null,
            "grid_auto_flow": null,
            "grid_auto_rows": null,
            "grid_column": null,
            "grid_gap": null,
            "grid_row": null,
            "grid_template_areas": null,
            "grid_template_columns": null,
            "grid_template_rows": null,
            "height": null,
            "justify_content": null,
            "justify_items": null,
            "left": null,
            "margin": null,
            "max_height": null,
            "max_width": null,
            "min_height": null,
            "min_width": null,
            "object_fit": null,
            "object_position": null,
            "order": null,
            "overflow": null,
            "overflow_x": null,
            "overflow_y": null,
            "padding": null,
            "right": null,
            "top": null,
            "visibility": null,
            "width": null
          }
        },
        "13916687e02942c89210c080da447149": {
          "model_module": "@jupyter-widgets/controls",
          "model_name": "DescriptionStyleModel",
          "model_module_version": "1.5.0",
          "state": {
            "_model_module": "@jupyter-widgets/controls",
            "_model_module_version": "1.5.0",
            "_model_name": "DescriptionStyleModel",
            "_view_count": null,
            "_view_module": "@jupyter-widgets/base",
            "_view_module_version": "1.2.0",
            "_view_name": "StyleView",
            "description_width": ""
          }
        },
        "1e31aec070aa457f85cc18e4b2cfe2a5": {
          "model_module": "@jupyter-widgets/controls",
          "model_name": "ButtonModel",
          "model_module_version": "1.5.0",
          "state": {
            "_dom_classes": [],
            "_model_module": "@jupyter-widgets/controls",
            "_model_module_version": "1.5.0",
            "_model_name": "ButtonModel",
            "_view_count": null,
            "_view_module": "@jupyter-widgets/controls",
            "_view_module_version": "1.5.0",
            "_view_name": "ButtonView",
            "button_style": "",
            "description": "Confirm ID Column",
            "disabled": false,
            "icon": "",
            "layout": "IPY_MODEL_ebf87b223829474083527408cef765ab",
            "style": "IPY_MODEL_6d0b7a36e8d344eba80cd71761138281",
            "tooltip": ""
          }
        },
        "ebf87b223829474083527408cef765ab": {
          "model_module": "@jupyter-widgets/base",
          "model_name": "LayoutModel",
          "model_module_version": "1.2.0",
          "state": {
            "_model_module": "@jupyter-widgets/base",
            "_model_module_version": "1.2.0",
            "_model_name": "LayoutModel",
            "_view_count": null,
            "_view_module": "@jupyter-widgets/base",
            "_view_module_version": "1.2.0",
            "_view_name": "LayoutView",
            "align_content": null,
            "align_items": null,
            "align_self": null,
            "border": null,
            "bottom": null,
            "display": null,
            "flex": null,
            "flex_flow": null,
            "grid_area": null,
            "grid_auto_columns": null,
            "grid_auto_flow": null,
            "grid_auto_rows": null,
            "grid_column": null,
            "grid_gap": null,
            "grid_row": null,
            "grid_template_areas": null,
            "grid_template_columns": null,
            "grid_template_rows": null,
            "height": null,
            "justify_content": null,
            "justify_items": null,
            "left": null,
            "margin": null,
            "max_height": null,
            "max_width": null,
            "min_height": null,
            "min_width": null,
            "object_fit": null,
            "object_position": null,
            "order": null,
            "overflow": null,
            "overflow_x": null,
            "overflow_y": null,
            "padding": null,
            "right": null,
            "top": null,
            "visibility": null,
            "width": null
          }
        },
        "6d0b7a36e8d344eba80cd71761138281": {
          "model_module": "@jupyter-widgets/controls",
          "model_name": "ButtonStyleModel",
          "model_module_version": "1.5.0",
          "state": {
            "_model_module": "@jupyter-widgets/controls",
            "_model_module_version": "1.5.0",
            "_model_name": "ButtonStyleModel",
            "_view_count": null,
            "_view_module": "@jupyter-widgets/base",
            "_view_module_version": "1.2.0",
            "_view_name": "StyleView",
            "button_color": null,
            "font_weight": ""
          }
        },
        "79097da99a464969afc799acc8596def": {
          "model_module": "@jupyter-widgets/output",
          "model_name": "OutputModel",
          "model_module_version": "1.0.0",
          "state": {
            "_dom_classes": [],
            "_model_module": "@jupyter-widgets/output",
            "_model_module_version": "1.0.0",
            "_model_name": "OutputModel",
            "_view_count": null,
            "_view_module": "@jupyter-widgets/output",
            "_view_module_version": "1.0.0",
            "_view_name": "OutputView",
            "layout": "IPY_MODEL_743d731867e848eb9e0bb57d48bbdcc0",
            "msg_id": "",
            "outputs": [
              {
                "output_type": "stream",
                "name": "stdout",
                "text": [
                  "ID Column confirmed: user_id\n"
                ]
              }
            ]
          }
        },
        "743d731867e848eb9e0bb57d48bbdcc0": {
          "model_module": "@jupyter-widgets/base",
          "model_name": "LayoutModel",
          "model_module_version": "1.2.0",
          "state": {
            "_model_module": "@jupyter-widgets/base",
            "_model_module_version": "1.2.0",
            "_model_name": "LayoutModel",
            "_view_count": null,
            "_view_module": "@jupyter-widgets/base",
            "_view_module_version": "1.2.0",
            "_view_name": "LayoutView",
            "align_content": null,
            "align_items": null,
            "align_self": null,
            "border": null,
            "bottom": null,
            "display": null,
            "flex": null,
            "flex_flow": null,
            "grid_area": null,
            "grid_auto_columns": null,
            "grid_auto_flow": null,
            "grid_auto_rows": null,
            "grid_column": null,
            "grid_gap": null,
            "grid_row": null,
            "grid_template_areas": null,
            "grid_template_columns": null,
            "grid_template_rows": null,
            "height": null,
            "justify_content": null,
            "justify_items": null,
            "left": null,
            "margin": null,
            "max_height": null,
            "max_width": null,
            "min_height": null,
            "min_width": null,
            "object_fit": null,
            "object_position": null,
            "order": null,
            "overflow": null,
            "overflow_x": null,
            "overflow_y": null,
            "padding": null,
            "right": null,
            "top": null,
            "visibility": null,
            "width": null
          }
        },
        "0880732bb4ca439fa6e30272bb71887f": {
          "model_module": "@jupyter-widgets/controls",
          "model_name": "DropdownModel",
          "model_module_version": "1.5.0",
          "state": {
            "_dom_classes": [],
            "_model_module": "@jupyter-widgets/controls",
            "_model_module_version": "1.5.0",
            "_model_name": "DropdownModel",
            "_options_labels": [
              "Select option",
              "1to2grams-filtered",
              "1to2grams-unfiltered",
              "topics"
            ],
            "_view_count": null,
            "_view_module": "@jupyter-widgets/controls",
            "_view_module_version": "1.5.0",
            "_view_name": "DropdownView",
            "description": "Options:",
            "description_tooltip": null,
            "disabled": false,
            "index": 3,
            "layout": "IPY_MODEL_a70fedca2f4a4fa79d87db439625d5e2",
            "style": "IPY_MODEL_93e5f38803324b7d98a20569dae27e4c"
          }
        },
        "a70fedca2f4a4fa79d87db439625d5e2": {
          "model_module": "@jupyter-widgets/base",
          "model_name": "LayoutModel",
          "model_module_version": "1.2.0",
          "state": {
            "_model_module": "@jupyter-widgets/base",
            "_model_module_version": "1.2.0",
            "_model_name": "LayoutModel",
            "_view_count": null,
            "_view_module": "@jupyter-widgets/base",
            "_view_module_version": "1.2.0",
            "_view_name": "LayoutView",
            "align_content": null,
            "align_items": null,
            "align_self": null,
            "border": null,
            "bottom": null,
            "display": null,
            "flex": null,
            "flex_flow": null,
            "grid_area": null,
            "grid_auto_columns": null,
            "grid_auto_flow": null,
            "grid_auto_rows": null,
            "grid_column": null,
            "grid_gap": null,
            "grid_row": null,
            "grid_template_areas": null,
            "grid_template_columns": null,
            "grid_template_rows": null,
            "height": null,
            "justify_content": null,
            "justify_items": null,
            "left": null,
            "margin": null,
            "max_height": null,
            "max_width": null,
            "min_height": null,
            "min_width": null,
            "object_fit": null,
            "object_position": null,
            "order": null,
            "overflow": null,
            "overflow_x": null,
            "overflow_y": null,
            "padding": null,
            "right": null,
            "top": null,
            "visibility": null,
            "width": null
          }
        },
        "93e5f38803324b7d98a20569dae27e4c": {
          "model_module": "@jupyter-widgets/controls",
          "model_name": "DescriptionStyleModel",
          "model_module_version": "1.5.0",
          "state": {
            "_model_module": "@jupyter-widgets/controls",
            "_model_module_version": "1.5.0",
            "_model_name": "DescriptionStyleModel",
            "_view_count": null,
            "_view_module": "@jupyter-widgets/base",
            "_view_module_version": "1.2.0",
            "_view_name": "StyleView",
            "description_width": ""
          }
        },
        "a724d854b5e946519f4e6c50a0eb93a8": {
          "model_module": "@jupyter-widgets/controls",
          "model_name": "IntTextModel",
          "model_module_version": "1.5.0",
          "state": {
            "_dom_classes": [],
            "_model_module": "@jupyter-widgets/controls",
            "_model_module_version": "1.5.0",
            "_model_name": "IntTextModel",
            "_view_count": null,
            "_view_module": "@jupyter-widgets/controls",
            "_view_module_version": "1.5.0",
            "_view_name": "IntTextView",
            "continuous_update": false,
            "description": "Group Freq Thresh:",
            "description_tooltip": null,
            "disabled": false,
            "layout": "IPY_MODEL_33af4f51875e490eb44dc25ecb89777c",
            "step": 1,
            "style": "IPY_MODEL_d7363cd073ed46fa81564d11e13c122e",
            "value": 100
          }
        },
        "33af4f51875e490eb44dc25ecb89777c": {
          "model_module": "@jupyter-widgets/base",
          "model_name": "LayoutModel",
          "model_module_version": "1.2.0",
          "state": {
            "_model_module": "@jupyter-widgets/base",
            "_model_module_version": "1.2.0",
            "_model_name": "LayoutModel",
            "_view_count": null,
            "_view_module": "@jupyter-widgets/base",
            "_view_module_version": "1.2.0",
            "_view_name": "LayoutView",
            "align_content": null,
            "align_items": null,
            "align_self": null,
            "border": null,
            "bottom": null,
            "display": null,
            "flex": null,
            "flex_flow": null,
            "grid_area": null,
            "grid_auto_columns": null,
            "grid_auto_flow": null,
            "grid_auto_rows": null,
            "grid_column": null,
            "grid_gap": null,
            "grid_row": null,
            "grid_template_areas": null,
            "grid_template_columns": null,
            "grid_template_rows": null,
            "height": null,
            "justify_content": null,
            "justify_items": null,
            "left": null,
            "margin": null,
            "max_height": null,
            "max_width": null,
            "min_height": null,
            "min_width": null,
            "object_fit": null,
            "object_position": null,
            "order": null,
            "overflow": null,
            "overflow_x": null,
            "overflow_y": null,
            "padding": null,
            "right": null,
            "top": null,
            "visibility": "visible",
            "width": null
          }
        },
        "d7363cd073ed46fa81564d11e13c122e": {
          "model_module": "@jupyter-widgets/controls",
          "model_name": "DescriptionStyleModel",
          "model_module_version": "1.5.0",
          "state": {
            "_model_module": "@jupyter-widgets/controls",
            "_model_module_version": "1.5.0",
            "_model_name": "DescriptionStyleModel",
            "_view_count": null,
            "_view_module": "@jupyter-widgets/base",
            "_view_module_version": "1.2.0",
            "_view_name": "StyleView",
            "description_width": "initial"
          }
        },
        "ae6d0d53be034262987f5e28e2094c0b": {
          "model_module": "@jupyter-widgets/controls",
          "model_name": "ButtonModel",
          "model_module_version": "1.5.0",
          "state": {
            "_dom_classes": [],
            "_model_module": "@jupyter-widgets/controls",
            "_model_module_version": "1.5.0",
            "_model_name": "ButtonModel",
            "_view_count": null,
            "_view_module": "@jupyter-widgets/controls",
            "_view_module_version": "1.5.0",
            "_view_name": "ButtonView",
            "button_style": "",
            "description": "Run Command",
            "disabled": false,
            "icon": "",
            "layout": "IPY_MODEL_ecfb07ecb03d4e73bcf8aafca7020f02",
            "style": "IPY_MODEL_3ca76897f83c46a9a299eebb893f6ca0",
            "tooltip": ""
          }
        },
        "ecfb07ecb03d4e73bcf8aafca7020f02": {
          "model_module": "@jupyter-widgets/base",
          "model_name": "LayoutModel",
          "model_module_version": "1.2.0",
          "state": {
            "_model_module": "@jupyter-widgets/base",
            "_model_module_version": "1.2.0",
            "_model_name": "LayoutModel",
            "_view_count": null,
            "_view_module": "@jupyter-widgets/base",
            "_view_module_version": "1.2.0",
            "_view_name": "LayoutView",
            "align_content": null,
            "align_items": null,
            "align_self": null,
            "border": null,
            "bottom": null,
            "display": null,
            "flex": null,
            "flex_flow": null,
            "grid_area": null,
            "grid_auto_columns": null,
            "grid_auto_flow": null,
            "grid_auto_rows": null,
            "grid_column": null,
            "grid_gap": null,
            "grid_row": null,
            "grid_template_areas": null,
            "grid_template_columns": null,
            "grid_template_rows": null,
            "height": null,
            "justify_content": null,
            "justify_items": null,
            "left": null,
            "margin": null,
            "max_height": null,
            "max_width": null,
            "min_height": null,
            "min_width": null,
            "object_fit": null,
            "object_position": null,
            "order": null,
            "overflow": null,
            "overflow_x": null,
            "overflow_y": null,
            "padding": null,
            "right": null,
            "top": null,
            "visibility": null,
            "width": null
          }
        },
        "3ca76897f83c46a9a299eebb893f6ca0": {
          "model_module": "@jupyter-widgets/controls",
          "model_name": "ButtonStyleModel",
          "model_module_version": "1.5.0",
          "state": {
            "_model_module": "@jupyter-widgets/controls",
            "_model_module_version": "1.5.0",
            "_model_name": "ButtonStyleModel",
            "_view_count": null,
            "_view_module": "@jupyter-widgets/base",
            "_view_module_version": "1.2.0",
            "_view_name": "StyleView",
            "button_color": null,
            "font_weight": ""
          }
        },
        "7bc4a625f8c54c4bb8dbb0ac9ac98272": {
          "model_module": "@jupyter-widgets/output",
          "model_name": "OutputModel",
          "model_module_version": "1.0.0",
          "state": {
            "_dom_classes": [],
            "_model_module": "@jupyter-widgets/output",
            "_model_module_version": "1.0.0",
            "_model_name": "OutputModel",
            "_view_count": null,
            "_view_module": "@jupyter-widgets/output",
            "_view_module_version": "1.0.0",
            "_view_name": "OutputView",
            "layout": "IPY_MODEL_57c7715ab81f4b3db2f80e5ef7c02a71",
            "msg_id": "",
            "outputs": [
              {
                "output_type": "stream",
                "name": "stdout",
                "text": [
                  "Executing: dlatkInterface.py -d colab_csv -t msgs404u.csv -g user_id --message_field message --messageid_field message_id --group_freq_thresh 100 --add_lex_table -l fb2000_cp --weighted_lexicon\n"
                ]
              },
              {
                "output_type": "stream",
                "name": "stdout",
                "text": [
                  "Generated LDA feature table: feat$cat_fb2000_cp_w$msgs404u$user_id$1gra\n"
                ]
              }
            ]
          }
        },
        "57c7715ab81f4b3db2f80e5ef7c02a71": {
          "model_module": "@jupyter-widgets/base",
          "model_name": "LayoutModel",
          "model_module_version": "1.2.0",
          "state": {
            "_model_module": "@jupyter-widgets/base",
            "_model_module_version": "1.2.0",
            "_model_name": "LayoutModel",
            "_view_count": null,
            "_view_module": "@jupyter-widgets/base",
            "_view_module_version": "1.2.0",
            "_view_name": "LayoutView",
            "align_content": null,
            "align_items": null,
            "align_self": null,
            "border": null,
            "bottom": null,
            "display": null,
            "flex": null,
            "flex_flow": null,
            "grid_area": null,
            "grid_auto_columns": null,
            "grid_auto_flow": null,
            "grid_auto_rows": null,
            "grid_column": null,
            "grid_gap": null,
            "grid_row": null,
            "grid_template_areas": null,
            "grid_template_columns": null,
            "grid_template_rows": null,
            "height": null,
            "justify_content": null,
            "justify_items": null,
            "left": null,
            "margin": null,
            "max_height": null,
            "max_width": null,
            "min_height": null,
            "min_width": null,
            "object_fit": null,
            "object_position": null,
            "order": null,
            "overflow": null,
            "overflow_x": null,
            "overflow_y": null,
            "padding": null,
            "right": null,
            "top": null,
            "visibility": null,
            "width": null
          }
        },
        "05f330a7ea764e988368078c6bacebe0": {
          "model_module": "@jupyter-widgets/controls",
          "model_name": "DropdownModel",
          "model_module_version": "1.5.0",
          "state": {
            "_dom_classes": [],
            "_model_module": "@jupyter-widgets/controls",
            "_model_module_version": "1.5.0",
            "_model_name": "DropdownModel",
            "_options_labels": [
              "1to2grams-filtered-table",
              "1to2grams-unfiltered-table",
              "topics-table"
            ],
            "_view_count": null,
            "_view_module": "@jupyter-widgets/controls",
            "_view_module_version": "1.5.0",
            "_view_name": "DropdownView",
            "description": "Select Table:",
            "description_tooltip": null,
            "disabled": false,
            "index": 0,
            "layout": "IPY_MODEL_4c938fbef6fa4bd692730b9c30c8c19f",
            "style": "IPY_MODEL_2ea8840c8c6f4fc4b1d59ef445c3cd0a"
          }
        },
        "4c938fbef6fa4bd692730b9c30c8c19f": {
          "model_module": "@jupyter-widgets/base",
          "model_name": "LayoutModel",
          "model_module_version": "1.2.0",
          "state": {
            "_model_module": "@jupyter-widgets/base",
            "_model_module_version": "1.2.0",
            "_model_name": "LayoutModel",
            "_view_count": null,
            "_view_module": "@jupyter-widgets/base",
            "_view_module_version": "1.2.0",
            "_view_name": "LayoutView",
            "align_content": null,
            "align_items": null,
            "align_self": null,
            "border": null,
            "bottom": null,
            "display": null,
            "flex": null,
            "flex_flow": null,
            "grid_area": null,
            "grid_auto_columns": null,
            "grid_auto_flow": null,
            "grid_auto_rows": null,
            "grid_column": null,
            "grid_gap": null,
            "grid_row": null,
            "grid_template_areas": null,
            "grid_template_columns": null,
            "grid_template_rows": null,
            "height": null,
            "justify_content": null,
            "justify_items": null,
            "left": null,
            "margin": null,
            "max_height": null,
            "max_width": null,
            "min_height": null,
            "min_width": null,
            "object_fit": null,
            "object_position": null,
            "order": null,
            "overflow": null,
            "overflow_x": null,
            "overflow_y": null,
            "padding": null,
            "right": null,
            "top": null,
            "visibility": null,
            "width": null
          }
        },
        "2ea8840c8c6f4fc4b1d59ef445c3cd0a": {
          "model_module": "@jupyter-widgets/controls",
          "model_name": "DescriptionStyleModel",
          "model_module_version": "1.5.0",
          "state": {
            "_model_module": "@jupyter-widgets/controls",
            "_model_module_version": "1.5.0",
            "_model_name": "DescriptionStyleModel",
            "_view_count": null,
            "_view_module": "@jupyter-widgets/base",
            "_view_module_version": "1.2.0",
            "_view_name": "StyleView",
            "description_width": "initial"
          }
        },
        "17e0345b712b4d2ab230d3cb4d96a877": {
          "model_module": "@jupyter-widgets/controls",
          "model_name": "ButtonModel",
          "model_module_version": "1.5.0",
          "state": {
            "_dom_classes": [],
            "_model_module": "@jupyter-widgets/controls",
            "_model_module_version": "1.5.0",
            "_model_name": "ButtonModel",
            "_view_count": null,
            "_view_module": "@jupyter-widgets/controls",
            "_view_module_version": "1.5.0",
            "_view_name": "ButtonView",
            "button_style": "",
            "description": "Run Command",
            "disabled": false,
            "icon": "",
            "layout": "IPY_MODEL_8874af77c8cd40988b176b012ca3e68e",
            "style": "IPY_MODEL_72e284dec0664b91a4e3ea21bb513d06",
            "tooltip": ""
          }
        },
        "8874af77c8cd40988b176b012ca3e68e": {
          "model_module": "@jupyter-widgets/base",
          "model_name": "LayoutModel",
          "model_module_version": "1.2.0",
          "state": {
            "_model_module": "@jupyter-widgets/base",
            "_model_module_version": "1.2.0",
            "_model_name": "LayoutModel",
            "_view_count": null,
            "_view_module": "@jupyter-widgets/base",
            "_view_module_version": "1.2.0",
            "_view_name": "LayoutView",
            "align_content": null,
            "align_items": null,
            "align_self": null,
            "border": null,
            "bottom": null,
            "display": null,
            "flex": null,
            "flex_flow": null,
            "grid_area": null,
            "grid_auto_columns": null,
            "grid_auto_flow": null,
            "grid_auto_rows": null,
            "grid_column": null,
            "grid_gap": null,
            "grid_row": null,
            "grid_template_areas": null,
            "grid_template_columns": null,
            "grid_template_rows": null,
            "height": null,
            "justify_content": null,
            "justify_items": null,
            "left": null,
            "margin": null,
            "max_height": null,
            "max_width": null,
            "min_height": null,
            "min_width": null,
            "object_fit": null,
            "object_position": null,
            "order": null,
            "overflow": null,
            "overflow_x": null,
            "overflow_y": null,
            "padding": null,
            "right": null,
            "top": null,
            "visibility": null,
            "width": null
          }
        },
        "72e284dec0664b91a4e3ea21bb513d06": {
          "model_module": "@jupyter-widgets/controls",
          "model_name": "ButtonStyleModel",
          "model_module_version": "1.5.0",
          "state": {
            "_model_module": "@jupyter-widgets/controls",
            "_model_module_version": "1.5.0",
            "_model_name": "ButtonStyleModel",
            "_view_count": null,
            "_view_module": "@jupyter-widgets/base",
            "_view_module_version": "1.2.0",
            "_view_name": "StyleView",
            "button_color": null,
            "font_weight": ""
          }
        },
        "8d7576a888d34ff7a6a0e2793994ec0f": {
          "model_module": "@jupyter-widgets/output",
          "model_name": "OutputModel",
          "model_module_version": "1.0.0",
          "state": {
            "_dom_classes": [],
            "_model_module": "@jupyter-widgets/output",
            "_model_module_version": "1.0.0",
            "_model_name": "OutputModel",
            "_view_count": null,
            "_view_module": "@jupyter-widgets/output",
            "_view_module_version": "1.0.0",
            "_view_name": "OutputView",
            "layout": "IPY_MODEL_73f1d7aa92ba45419d7dc269408fccfc",
            "msg_id": "",
            "outputs": [
              {
                "output_type": "stream",
                "name": "stdout",
                "text": [
                  "Command Output:\n",
                  " \n",
                  "\n",
                  "Connecting to SQLite database: /content/sqlite_data/colab_csv.db\n",
                  "     message_id        user_id   created_date        message\n",
                  "          17236         174357     2004-06-28     You Are Ri\n",
                  "          17237         174357     2004-06-24     Im so tire\n",
                  "          17238         174357     2004-07-28     So I start\n",
                  "          25669         446275     2004-05-28     I just don\n",
                  "          25670         446275     2004-05-25     [this is a\n",
                  "          25671         446275     2004-05-24     Another th\n",
                  "          25672         446275     2004-05-16     I come bac\n",
                  "          25673         446275     2004-05-16     As any goo\n",
                  "          25674         446275     2004-05-15     A previous\n",
                  "          25675         446275     2004-05-15     If those h\n",
                  "             id       group_id           feat          value     group_norm\n",
                  "              1         174357            you              3 0.004622496147\n",
                  "              2         174357            are              5 0.007704160246\n",
                  "              3         174357          right              5 0.007704160246\n",
                  "              4         174357             in             11 0.016949152542\n",
                  "              5         174357           love              8 0.012326656394\n",
                  "              6         174357            bit              1 0.001540832049\n",
                  "              7         174357             of              8 0.012326656394\n",
                  "              8         174357              a             14 0.021571648690\n",
                  "              9         174357              ,             16 0.024653312788\n",
                  "             10         174357          first              1 0.001540832049\n",
                  "\n",
                  "Command Error:\n",
                  " TopicExtractor: gensim Mallet wrapper unavailable, using Mallet directly.\n",
                  "\n",
                  "-----\n",
                  "DLATK Interface Initiated: 2024-04-27 23:25:14\n",
                  "-----\n",
                  "\n",
                  "Printing: msgs404u\n",
                  "----\n",
                  "\n",
                  "\n",
                  "Printing: feat$1to2gram$msgs404u$user_id$0_1$pmi3_0\n",
                  "----\n",
                  "\n",
                  "-------\n",
                  "Settings:\n",
                  "\n",
                  "Database - colab_csv\n",
                  "Corpus - msgs404u.csv\n",
                  "Group ID - user_id\n",
                  "Feature table(s) - feat$1to2gram$msgs404u$user_id$0_1$pmi3_0\n",
                  "-------\n",
                  "Interface Runtime: 0.01 seconds\n",
                  "DLATK exits with success! A good day indeed  ¯\\_(ツ)_/¯.\n",
                  "\n"
                ]
              }
            ]
          }
        },
        "73f1d7aa92ba45419d7dc269408fccfc": {
          "model_module": "@jupyter-widgets/base",
          "model_name": "LayoutModel",
          "model_module_version": "1.2.0",
          "state": {
            "_model_module": "@jupyter-widgets/base",
            "_model_module_version": "1.2.0",
            "_model_name": "LayoutModel",
            "_view_count": null,
            "_view_module": "@jupyter-widgets/base",
            "_view_module_version": "1.2.0",
            "_view_name": "LayoutView",
            "align_content": null,
            "align_items": null,
            "align_self": null,
            "border": null,
            "bottom": null,
            "display": null,
            "flex": null,
            "flex_flow": null,
            "grid_area": null,
            "grid_auto_columns": null,
            "grid_auto_flow": null,
            "grid_auto_rows": null,
            "grid_column": null,
            "grid_gap": null,
            "grid_row": null,
            "grid_template_areas": null,
            "grid_template_columns": null,
            "grid_template_rows": null,
            "height": null,
            "justify_content": null,
            "justify_items": null,
            "left": null,
            "margin": null,
            "max_height": null,
            "max_width": null,
            "min_height": null,
            "min_width": null,
            "object_fit": null,
            "object_position": null,
            "order": null,
            "overflow": null,
            "overflow_x": null,
            "overflow_y": null,
            "padding": null,
            "right": null,
            "top": null,
            "visibility": null,
            "width": null
          }
        },
        "ce051e076daf4ff587a2bbc09ae50e6d": {
          "model_module": "@jupyter-widgets/controls",
          "model_name": "DropdownModel",
          "model_module_version": "1.5.0",
          "state": {
            "_dom_classes": [],
            "_model_module": "@jupyter-widgets/controls",
            "_model_module_version": "1.5.0",
            "_model_name": "DropdownModel",
            "_options_labels": [
              "1to2grams-filtered-table",
              "1to2grams-unfiltered-table",
              "topics-table"
            ],
            "_view_count": null,
            "_view_module": "@jupyter-widgets/controls",
            "_view_module_version": "1.5.0",
            "_view_name": "DropdownView",
            "description": "Feature Table:",
            "description_tooltip": null,
            "disabled": false,
            "index": 0,
            "layout": "IPY_MODEL_9f8c6aa3877a48458b53e725e90394f8",
            "style": "IPY_MODEL_c382dcfb82dd42c3b980ee38d74807ad"
          }
        },
        "9f8c6aa3877a48458b53e725e90394f8": {
          "model_module": "@jupyter-widgets/base",
          "model_name": "LayoutModel",
          "model_module_version": "1.2.0",
          "state": {
            "_model_module": "@jupyter-widgets/base",
            "_model_module_version": "1.2.0",
            "_model_name": "LayoutModel",
            "_view_count": null,
            "_view_module": "@jupyter-widgets/base",
            "_view_module_version": "1.2.0",
            "_view_name": "LayoutView",
            "align_content": null,
            "align_items": null,
            "align_self": null,
            "border": null,
            "bottom": null,
            "display": null,
            "flex": null,
            "flex_flow": null,
            "grid_area": null,
            "grid_auto_columns": null,
            "grid_auto_flow": null,
            "grid_auto_rows": null,
            "grid_column": null,
            "grid_gap": null,
            "grid_row": null,
            "grid_template_areas": null,
            "grid_template_columns": null,
            "grid_template_rows": null,
            "height": null,
            "justify_content": null,
            "justify_items": null,
            "left": null,
            "margin": null,
            "max_height": null,
            "max_width": null,
            "min_height": null,
            "min_width": null,
            "object_fit": null,
            "object_position": null,
            "order": null,
            "overflow": null,
            "overflow_x": null,
            "overflow_y": null,
            "padding": null,
            "right": null,
            "top": null,
            "visibility": null,
            "width": null
          }
        },
        "c382dcfb82dd42c3b980ee38d74807ad": {
          "model_module": "@jupyter-widgets/controls",
          "model_name": "DescriptionStyleModel",
          "model_module_version": "1.5.0",
          "state": {
            "_model_module": "@jupyter-widgets/controls",
            "_model_module_version": "1.5.0",
            "_model_name": "DescriptionStyleModel",
            "_view_count": null,
            "_view_module": "@jupyter-widgets/base",
            "_view_module_version": "1.2.0",
            "_view_name": "StyleView",
            "description_width": ""
          }
        },
        "13e010bcf7dc4a6a9bd73e8c1c0309ff": {
          "model_module": "@jupyter-widgets/controls",
          "model_name": "DropdownModel",
          "model_module_version": "1.5.0",
          "state": {
            "_dom_classes": [],
            "_model_module": "@jupyter-widgets/controls",
            "_model_module_version": "1.5.0",
            "_model_name": "DropdownModel",
            "_options_labels": [
              "lasso",
              "lassocv",
              "elasticnet",
              "elasticnetcv",
              "lassolars",
              "lassolarscv",
              "lars",
              "ridge",
              "ridge.01",
              "ridge.001",
              "ridge250",
              "ridge10000",
              "ridge100000",
              "ridge100k",
              "ridge1000",
              "ridge100",
              "ridge10",
              "ridge1",
              "ridge1m",
              "ridge10m",
              "ridge100m",
              "ridgecv",
              "ridgefirstpasscv",
              "ridgehighcv",
              "ridgeveryhighcv",
              "ridgelowcv",
              "rpcridgecv",
              "linear",
              "svr",
              "sgdregressor",
              "extratrees",
              "par"
            ],
            "_view_count": null,
            "_view_module": "@jupyter-widgets/controls",
            "_view_module_version": "1.5.0",
            "_view_name": "DropdownView",
            "description": "Model:",
            "description_tooltip": null,
            "disabled": false,
            "index": 23,
            "layout": "IPY_MODEL_ff3f790851c54d549862ed424fb0fe1b",
            "style": "IPY_MODEL_9c30b093a2814ffb91e3e16864f76818"
          }
        },
        "ff3f790851c54d549862ed424fb0fe1b": {
          "model_module": "@jupyter-widgets/base",
          "model_name": "LayoutModel",
          "model_module_version": "1.2.0",
          "state": {
            "_model_module": "@jupyter-widgets/base",
            "_model_module_version": "1.2.0",
            "_model_name": "LayoutModel",
            "_view_count": null,
            "_view_module": "@jupyter-widgets/base",
            "_view_module_version": "1.2.0",
            "_view_name": "LayoutView",
            "align_content": null,
            "align_items": null,
            "align_self": null,
            "border": null,
            "bottom": null,
            "display": null,
            "flex": null,
            "flex_flow": null,
            "grid_area": null,
            "grid_auto_columns": null,
            "grid_auto_flow": null,
            "grid_auto_rows": null,
            "grid_column": null,
            "grid_gap": null,
            "grid_row": null,
            "grid_template_areas": null,
            "grid_template_columns": null,
            "grid_template_rows": null,
            "height": null,
            "justify_content": null,
            "justify_items": null,
            "left": null,
            "margin": null,
            "max_height": null,
            "max_width": null,
            "min_height": null,
            "min_width": null,
            "object_fit": null,
            "object_position": null,
            "order": null,
            "overflow": null,
            "overflow_x": null,
            "overflow_y": null,
            "padding": null,
            "right": null,
            "top": null,
            "visibility": null,
            "width": null
          }
        },
        "9c30b093a2814ffb91e3e16864f76818": {
          "model_module": "@jupyter-widgets/controls",
          "model_name": "DescriptionStyleModel",
          "model_module_version": "1.5.0",
          "state": {
            "_model_module": "@jupyter-widgets/controls",
            "_model_module_version": "1.5.0",
            "_model_name": "DescriptionStyleModel",
            "_view_count": null,
            "_view_module": "@jupyter-widgets/base",
            "_view_module_version": "1.2.0",
            "_view_name": "StyleView",
            "description_width": ""
          }
        },
        "cd96f7c58b2a4ad6bc3fee0757c3c917": {
          "model_module": "@jupyter-widgets/controls",
          "model_name": "LabelModel",
          "model_module_version": "1.5.0",
          "state": {
            "_dom_classes": [],
            "_model_module": "@jupyter-widgets/controls",
            "_model_module_version": "1.5.0",
            "_model_name": "LabelModel",
            "_view_count": null,
            "_view_module": "@jupyter-widgets/controls",
            "_view_module_version": "1.5.0",
            "_view_name": "LabelView",
            "description": "",
            "description_tooltip": null,
            "layout": "IPY_MODEL_c17b3393cc244446a316db5462dccd27",
            "placeholder": "​",
            "style": "IPY_MODEL_1969637b4b354561b6ac203e84f3b556",
            "value": "Outcomes:"
          }
        },
        "c17b3393cc244446a316db5462dccd27": {
          "model_module": "@jupyter-widgets/base",
          "model_name": "LayoutModel",
          "model_module_version": "1.2.0",
          "state": {
            "_model_module": "@jupyter-widgets/base",
            "_model_module_version": "1.2.0",
            "_model_name": "LayoutModel",
            "_view_count": null,
            "_view_module": "@jupyter-widgets/base",
            "_view_module_version": "1.2.0",
            "_view_name": "LayoutView",
            "align_content": null,
            "align_items": null,
            "align_self": null,
            "border": null,
            "bottom": null,
            "display": null,
            "flex": null,
            "flex_flow": null,
            "grid_area": null,
            "grid_auto_columns": null,
            "grid_auto_flow": null,
            "grid_auto_rows": null,
            "grid_column": null,
            "grid_gap": null,
            "grid_row": null,
            "grid_template_areas": null,
            "grid_template_columns": null,
            "grid_template_rows": null,
            "height": null,
            "justify_content": null,
            "justify_items": null,
            "left": null,
            "margin": null,
            "max_height": null,
            "max_width": null,
            "min_height": null,
            "min_width": null,
            "object_fit": null,
            "object_position": null,
            "order": null,
            "overflow": null,
            "overflow_x": null,
            "overflow_y": null,
            "padding": null,
            "right": null,
            "top": null,
            "visibility": null,
            "width": null
          }
        },
        "1969637b4b354561b6ac203e84f3b556": {
          "model_module": "@jupyter-widgets/controls",
          "model_name": "DescriptionStyleModel",
          "model_module_version": "1.5.0",
          "state": {
            "_model_module": "@jupyter-widgets/controls",
            "_model_module_version": "1.5.0",
            "_model_name": "DescriptionStyleModel",
            "_view_count": null,
            "_view_module": "@jupyter-widgets/base",
            "_view_module_version": "1.2.0",
            "_view_name": "StyleView",
            "description_width": ""
          }
        },
        "c945ad5beead487ea1b1e2cb939ee68f": {
          "model_module": "@jupyter-widgets/controls",
          "model_name": "CheckboxModel",
          "model_module_version": "1.5.0",
          "state": {
            "_dom_classes": [],
            "_model_module": "@jupyter-widgets/controls",
            "_model_module_version": "1.5.0",
            "_model_name": "CheckboxModel",
            "_view_count": null,
            "_view_module": "@jupyter-widgets/controls",
            "_view_module_version": "1.5.0",
            "_view_name": "CheckboxView",
            "description": "gender",
            "description_tooltip": null,
            "disabled": false,
            "indent": true,
            "layout": "IPY_MODEL_3e37940e71304f119bd9599a85c048e3",
            "style": "IPY_MODEL_afb5bce4d3434cb499efbb956d3fbc3d",
            "value": false
          }
        },
        "3e37940e71304f119bd9599a85c048e3": {
          "model_module": "@jupyter-widgets/base",
          "model_name": "LayoutModel",
          "model_module_version": "1.2.0",
          "state": {
            "_model_module": "@jupyter-widgets/base",
            "_model_module_version": "1.2.0",
            "_model_name": "LayoutModel",
            "_view_count": null,
            "_view_module": "@jupyter-widgets/base",
            "_view_module_version": "1.2.0",
            "_view_name": "LayoutView",
            "align_content": null,
            "align_items": null,
            "align_self": null,
            "border": null,
            "bottom": null,
            "display": null,
            "flex": null,
            "flex_flow": null,
            "grid_area": null,
            "grid_auto_columns": null,
            "grid_auto_flow": null,
            "grid_auto_rows": null,
            "grid_column": null,
            "grid_gap": null,
            "grid_row": null,
            "grid_template_areas": null,
            "grid_template_columns": null,
            "grid_template_rows": null,
            "height": null,
            "justify_content": null,
            "justify_items": null,
            "left": null,
            "margin": null,
            "max_height": null,
            "max_width": null,
            "min_height": null,
            "min_width": null,
            "object_fit": null,
            "object_position": null,
            "order": null,
            "overflow": null,
            "overflow_x": null,
            "overflow_y": null,
            "padding": null,
            "right": null,
            "top": null,
            "visibility": null,
            "width": null
          }
        },
        "afb5bce4d3434cb499efbb956d3fbc3d": {
          "model_module": "@jupyter-widgets/controls",
          "model_name": "DescriptionStyleModel",
          "model_module_version": "1.5.0",
          "state": {
            "_model_module": "@jupyter-widgets/controls",
            "_model_module_version": "1.5.0",
            "_model_name": "DescriptionStyleModel",
            "_view_count": null,
            "_view_module": "@jupyter-widgets/base",
            "_view_module_version": "1.2.0",
            "_view_name": "StyleView",
            "description_width": ""
          }
        },
        "2bd5ddd6e8624aa9ae720e1783d92447": {
          "model_module": "@jupyter-widgets/controls",
          "model_name": "CheckboxModel",
          "model_module_version": "1.5.0",
          "state": {
            "_dom_classes": [],
            "_model_module": "@jupyter-widgets/controls",
            "_model_module_version": "1.5.0",
            "_model_name": "CheckboxModel",
            "_view_count": null,
            "_view_module": "@jupyter-widgets/controls",
            "_view_module_version": "1.5.0",
            "_view_name": "CheckboxView",
            "description": "age",
            "description_tooltip": null,
            "disabled": false,
            "indent": true,
            "layout": "IPY_MODEL_1c814b0debfc431394bce71ec39a7979",
            "style": "IPY_MODEL_35e0c67d82bc4ee9a8efcea428fb86a3",
            "value": false
          }
        },
        "1c814b0debfc431394bce71ec39a7979": {
          "model_module": "@jupyter-widgets/base",
          "model_name": "LayoutModel",
          "model_module_version": "1.2.0",
          "state": {
            "_model_module": "@jupyter-widgets/base",
            "_model_module_version": "1.2.0",
            "_model_name": "LayoutModel",
            "_view_count": null,
            "_view_module": "@jupyter-widgets/base",
            "_view_module_version": "1.2.0",
            "_view_name": "LayoutView",
            "align_content": null,
            "align_items": null,
            "align_self": null,
            "border": null,
            "bottom": null,
            "display": null,
            "flex": null,
            "flex_flow": null,
            "grid_area": null,
            "grid_auto_columns": null,
            "grid_auto_flow": null,
            "grid_auto_rows": null,
            "grid_column": null,
            "grid_gap": null,
            "grid_row": null,
            "grid_template_areas": null,
            "grid_template_columns": null,
            "grid_template_rows": null,
            "height": null,
            "justify_content": null,
            "justify_items": null,
            "left": null,
            "margin": null,
            "max_height": null,
            "max_width": null,
            "min_height": null,
            "min_width": null,
            "object_fit": null,
            "object_position": null,
            "order": null,
            "overflow": null,
            "overflow_x": null,
            "overflow_y": null,
            "padding": null,
            "right": null,
            "top": null,
            "visibility": null,
            "width": null
          }
        },
        "35e0c67d82bc4ee9a8efcea428fb86a3": {
          "model_module": "@jupyter-widgets/controls",
          "model_name": "DescriptionStyleModel",
          "model_module_version": "1.5.0",
          "state": {
            "_model_module": "@jupyter-widgets/controls",
            "_model_module_version": "1.5.0",
            "_model_name": "DescriptionStyleModel",
            "_view_count": null,
            "_view_module": "@jupyter-widgets/base",
            "_view_module_version": "1.2.0",
            "_view_name": "StyleView",
            "description_width": ""
          }
        },
        "ec8074ce592043299c5339c279e3b86c": {
          "model_module": "@jupyter-widgets/controls",
          "model_name": "CheckboxModel",
          "model_module_version": "1.5.0",
          "state": {
            "_dom_classes": [],
            "_model_module": "@jupyter-widgets/controls",
            "_model_module_version": "1.5.0",
            "_model_name": "CheckboxModel",
            "_view_count": null,
            "_view_module": "@jupyter-widgets/controls",
            "_view_module_version": "1.5.0",
            "_view_name": "CheckboxView",
            "description": "occu",
            "description_tooltip": null,
            "disabled": false,
            "indent": true,
            "layout": "IPY_MODEL_19ba2ea607a449588fcc5fc50b977566",
            "style": "IPY_MODEL_0d5b3cbac0954695a838c876c2a7a73c",
            "value": false
          }
        },
        "19ba2ea607a449588fcc5fc50b977566": {
          "model_module": "@jupyter-widgets/base",
          "model_name": "LayoutModel",
          "model_module_version": "1.2.0",
          "state": {
            "_model_module": "@jupyter-widgets/base",
            "_model_module_version": "1.2.0",
            "_model_name": "LayoutModel",
            "_view_count": null,
            "_view_module": "@jupyter-widgets/base",
            "_view_module_version": "1.2.0",
            "_view_name": "LayoutView",
            "align_content": null,
            "align_items": null,
            "align_self": null,
            "border": null,
            "bottom": null,
            "display": null,
            "flex": null,
            "flex_flow": null,
            "grid_area": null,
            "grid_auto_columns": null,
            "grid_auto_flow": null,
            "grid_auto_rows": null,
            "grid_column": null,
            "grid_gap": null,
            "grid_row": null,
            "grid_template_areas": null,
            "grid_template_columns": null,
            "grid_template_rows": null,
            "height": null,
            "justify_content": null,
            "justify_items": null,
            "left": null,
            "margin": null,
            "max_height": null,
            "max_width": null,
            "min_height": null,
            "min_width": null,
            "object_fit": null,
            "object_position": null,
            "order": null,
            "overflow": null,
            "overflow_x": null,
            "overflow_y": null,
            "padding": null,
            "right": null,
            "top": null,
            "visibility": null,
            "width": null
          }
        },
        "0d5b3cbac0954695a838c876c2a7a73c": {
          "model_module": "@jupyter-widgets/controls",
          "model_name": "DescriptionStyleModel",
          "model_module_version": "1.5.0",
          "state": {
            "_model_module": "@jupyter-widgets/controls",
            "_model_module_version": "1.5.0",
            "_model_name": "DescriptionStyleModel",
            "_view_count": null,
            "_view_module": "@jupyter-widgets/base",
            "_view_module_version": "1.2.0",
            "_view_name": "StyleView",
            "description_width": ""
          }
        },
        "e85bac993d2c491c8e1d04c632510fee": {
          "model_module": "@jupyter-widgets/controls",
          "model_name": "CheckboxModel",
          "model_module_version": "1.5.0",
          "state": {
            "_dom_classes": [],
            "_model_module": "@jupyter-widgets/controls",
            "_model_module_version": "1.5.0",
            "_model_name": "CheckboxModel",
            "_view_count": null,
            "_view_module": "@jupyter-widgets/controls",
            "_view_module_version": "1.5.0",
            "_view_name": "CheckboxView",
            "description": "is_student",
            "description_tooltip": null,
            "disabled": false,
            "indent": true,
            "layout": "IPY_MODEL_e9a5ee6366d24d7c9677435856577892",
            "style": "IPY_MODEL_3f2168f19c8045bbaad90d5087bfe357",
            "value": false
          }
        },
        "e9a5ee6366d24d7c9677435856577892": {
          "model_module": "@jupyter-widgets/base",
          "model_name": "LayoutModel",
          "model_module_version": "1.2.0",
          "state": {
            "_model_module": "@jupyter-widgets/base",
            "_model_module_version": "1.2.0",
            "_model_name": "LayoutModel",
            "_view_count": null,
            "_view_module": "@jupyter-widgets/base",
            "_view_module_version": "1.2.0",
            "_view_name": "LayoutView",
            "align_content": null,
            "align_items": null,
            "align_self": null,
            "border": null,
            "bottom": null,
            "display": null,
            "flex": null,
            "flex_flow": null,
            "grid_area": null,
            "grid_auto_columns": null,
            "grid_auto_flow": null,
            "grid_auto_rows": null,
            "grid_column": null,
            "grid_gap": null,
            "grid_row": null,
            "grid_template_areas": null,
            "grid_template_columns": null,
            "grid_template_rows": null,
            "height": null,
            "justify_content": null,
            "justify_items": null,
            "left": null,
            "margin": null,
            "max_height": null,
            "max_width": null,
            "min_height": null,
            "min_width": null,
            "object_fit": null,
            "object_position": null,
            "order": null,
            "overflow": null,
            "overflow_x": null,
            "overflow_y": null,
            "padding": null,
            "right": null,
            "top": null,
            "visibility": null,
            "width": null
          }
        },
        "3f2168f19c8045bbaad90d5087bfe357": {
          "model_module": "@jupyter-widgets/controls",
          "model_name": "DescriptionStyleModel",
          "model_module_version": "1.5.0",
          "state": {
            "_model_module": "@jupyter-widgets/controls",
            "_model_module_version": "1.5.0",
            "_model_name": "DescriptionStyleModel",
            "_view_count": null,
            "_view_module": "@jupyter-widgets/base",
            "_view_module_version": "1.2.0",
            "_view_name": "StyleView",
            "description_width": ""
          }
        },
        "b85658a339b5483883b2e1945bd9ea24": {
          "model_module": "@jupyter-widgets/controls",
          "model_name": "ButtonModel",
          "model_module_version": "1.5.0",
          "state": {
            "_dom_classes": [],
            "_model_module": "@jupyter-widgets/controls",
            "_model_module_version": "1.5.0",
            "_model_name": "ButtonModel",
            "_view_count": null,
            "_view_module": "@jupyter-widgets/controls",
            "_view_module_version": "1.5.0",
            "_view_name": "ButtonView",
            "button_style": "",
            "description": "Submit",
            "disabled": false,
            "icon": "",
            "layout": "IPY_MODEL_d574b362acf140a5911b665c9212dca4",
            "style": "IPY_MODEL_9b1a118b430b4da68bea46c90db7595b",
            "tooltip": ""
          }
        },
        "d574b362acf140a5911b665c9212dca4": {
          "model_module": "@jupyter-widgets/base",
          "model_name": "LayoutModel",
          "model_module_version": "1.2.0",
          "state": {
            "_model_module": "@jupyter-widgets/base",
            "_model_module_version": "1.2.0",
            "_model_name": "LayoutModel",
            "_view_count": null,
            "_view_module": "@jupyter-widgets/base",
            "_view_module_version": "1.2.0",
            "_view_name": "LayoutView",
            "align_content": null,
            "align_items": null,
            "align_self": null,
            "border": null,
            "bottom": null,
            "display": null,
            "flex": null,
            "flex_flow": null,
            "grid_area": null,
            "grid_auto_columns": null,
            "grid_auto_flow": null,
            "grid_auto_rows": null,
            "grid_column": null,
            "grid_gap": null,
            "grid_row": null,
            "grid_template_areas": null,
            "grid_template_columns": null,
            "grid_template_rows": null,
            "height": null,
            "justify_content": null,
            "justify_items": null,
            "left": null,
            "margin": null,
            "max_height": null,
            "max_width": null,
            "min_height": null,
            "min_width": null,
            "object_fit": null,
            "object_position": null,
            "order": null,
            "overflow": null,
            "overflow_x": null,
            "overflow_y": null,
            "padding": null,
            "right": null,
            "top": null,
            "visibility": null,
            "width": null
          }
        },
        "9b1a118b430b4da68bea46c90db7595b": {
          "model_module": "@jupyter-widgets/controls",
          "model_name": "ButtonStyleModel",
          "model_module_version": "1.5.0",
          "state": {
            "_model_module": "@jupyter-widgets/controls",
            "_model_module_version": "1.5.0",
            "_model_name": "ButtonStyleModel",
            "_view_count": null,
            "_view_module": "@jupyter-widgets/base",
            "_view_module_version": "1.2.0",
            "_view_name": "StyleView",
            "button_color": null,
            "font_weight": ""
          }
        },
        "57ccf30dd3684bea8c9d10dff1b8e83c": {
          "model_module": "@jupyter-widgets/controls",
          "model_name": "DropdownModel",
          "model_module_version": "1.5.0",
          "state": {
            "_dom_classes": [],
            "_model_module": "@jupyter-widgets/controls",
            "_model_module_version": "1.5.0",
            "_model_name": "DropdownModel",
            "_options_labels": [
              "1to2grams-filtered-table",
              "1to2grams-unfiltered-table",
              "topics-table"
            ],
            "_view_count": null,
            "_view_module": "@jupyter-widgets/controls",
            "_view_module_version": "1.5.0",
            "_view_name": "DropdownView",
            "description": "Feature Table:",
            "description_tooltip": null,
            "disabled": false,
            "index": 0,
            "layout": "IPY_MODEL_ad847b69c75d4103ad81365e665c9b4f",
            "style": "IPY_MODEL_43cc87ca8ce743a1b234292ab217718b"
          }
        },
        "ad847b69c75d4103ad81365e665c9b4f": {
          "model_module": "@jupyter-widgets/base",
          "model_name": "LayoutModel",
          "model_module_version": "1.2.0",
          "state": {
            "_model_module": "@jupyter-widgets/base",
            "_model_module_version": "1.2.0",
            "_model_name": "LayoutModel",
            "_view_count": null,
            "_view_module": "@jupyter-widgets/base",
            "_view_module_version": "1.2.0",
            "_view_name": "LayoutView",
            "align_content": null,
            "align_items": null,
            "align_self": null,
            "border": null,
            "bottom": null,
            "display": null,
            "flex": null,
            "flex_flow": null,
            "grid_area": null,
            "grid_auto_columns": null,
            "grid_auto_flow": null,
            "grid_auto_rows": null,
            "grid_column": null,
            "grid_gap": null,
            "grid_row": null,
            "grid_template_areas": null,
            "grid_template_columns": null,
            "grid_template_rows": null,
            "height": null,
            "justify_content": null,
            "justify_items": null,
            "left": null,
            "margin": null,
            "max_height": null,
            "max_width": null,
            "min_height": null,
            "min_width": null,
            "object_fit": null,
            "object_position": null,
            "order": null,
            "overflow": null,
            "overflow_x": null,
            "overflow_y": null,
            "padding": null,
            "right": null,
            "top": null,
            "visibility": null,
            "width": null
          }
        },
        "43cc87ca8ce743a1b234292ab217718b": {
          "model_module": "@jupyter-widgets/controls",
          "model_name": "DescriptionStyleModel",
          "model_module_version": "1.5.0",
          "state": {
            "_model_module": "@jupyter-widgets/controls",
            "_model_module_version": "1.5.0",
            "_model_name": "DescriptionStyleModel",
            "_view_count": null,
            "_view_module": "@jupyter-widgets/base",
            "_view_module_version": "1.2.0",
            "_view_name": "StyleView",
            "description_width": ""
          }
        },
        "28d5c11943a8442ab8f0463789c15968": {
          "model_module": "@jupyter-widgets/controls",
          "model_name": "DropdownModel",
          "model_module_version": "1.5.0",
          "state": {
            "_dom_classes": [],
            "_model_module": "@jupyter-widgets/controls",
            "_model_module_version": "1.5.0",
            "_model_name": "DropdownModel",
            "_options_labels": [
              "lr",
              "lr1",
              "lr_balanced",
              "lrnone",
              "linear-svc",
              "svc",
              "etc",
              "rfc",
              "pac",
              "gbc",
              "mnb",
              "gnb",
              "bnb",
              "mlp"
            ],
            "_view_count": null,
            "_view_module": "@jupyter-widgets/controls",
            "_view_module_version": "1.5.0",
            "_view_name": "DropdownView",
            "description": "Model:",
            "description_tooltip": null,
            "disabled": false,
            "index": 0,
            "layout": "IPY_MODEL_68c10c12f93a4d9aba0de1afa37f8644",
            "style": "IPY_MODEL_60396f4c3d434941a6febb1cf93f3404"
          }
        },
        "68c10c12f93a4d9aba0de1afa37f8644": {
          "model_module": "@jupyter-widgets/base",
          "model_name": "LayoutModel",
          "model_module_version": "1.2.0",
          "state": {
            "_model_module": "@jupyter-widgets/base",
            "_model_module_version": "1.2.0",
            "_model_name": "LayoutModel",
            "_view_count": null,
            "_view_module": "@jupyter-widgets/base",
            "_view_module_version": "1.2.0",
            "_view_name": "LayoutView",
            "align_content": null,
            "align_items": null,
            "align_self": null,
            "border": null,
            "bottom": null,
            "display": null,
            "flex": null,
            "flex_flow": null,
            "grid_area": null,
            "grid_auto_columns": null,
            "grid_auto_flow": null,
            "grid_auto_rows": null,
            "grid_column": null,
            "grid_gap": null,
            "grid_row": null,
            "grid_template_areas": null,
            "grid_template_columns": null,
            "grid_template_rows": null,
            "height": null,
            "justify_content": null,
            "justify_items": null,
            "left": null,
            "margin": null,
            "max_height": null,
            "max_width": null,
            "min_height": null,
            "min_width": null,
            "object_fit": null,
            "object_position": null,
            "order": null,
            "overflow": null,
            "overflow_x": null,
            "overflow_y": null,
            "padding": null,
            "right": null,
            "top": null,
            "visibility": null,
            "width": null
          }
        },
        "60396f4c3d434941a6febb1cf93f3404": {
          "model_module": "@jupyter-widgets/controls",
          "model_name": "DescriptionStyleModel",
          "model_module_version": "1.5.0",
          "state": {
            "_model_module": "@jupyter-widgets/controls",
            "_model_module_version": "1.5.0",
            "_model_name": "DescriptionStyleModel",
            "_view_count": null,
            "_view_module": "@jupyter-widgets/base",
            "_view_module_version": "1.2.0",
            "_view_name": "StyleView",
            "description_width": ""
          }
        },
        "8acde0bb5a9a482292290ac1c7ab93e2": {
          "model_module": "@jupyter-widgets/controls",
          "model_name": "LabelModel",
          "model_module_version": "1.5.0",
          "state": {
            "_dom_classes": [],
            "_model_module": "@jupyter-widgets/controls",
            "_model_module_version": "1.5.0",
            "_model_name": "LabelModel",
            "_view_count": null,
            "_view_module": "@jupyter-widgets/controls",
            "_view_module_version": "1.5.0",
            "_view_name": "LabelView",
            "description": "",
            "description_tooltip": null,
            "layout": "IPY_MODEL_b3a6e257af35409a8105cb95565d5233",
            "placeholder": "​",
            "style": "IPY_MODEL_b6a0d9822a0b4d7c907cae8e7802aaac",
            "value": "Outcomes:"
          }
        },
        "b3a6e257af35409a8105cb95565d5233": {
          "model_module": "@jupyter-widgets/base",
          "model_name": "LayoutModel",
          "model_module_version": "1.2.0",
          "state": {
            "_model_module": "@jupyter-widgets/base",
            "_model_module_version": "1.2.0",
            "_model_name": "LayoutModel",
            "_view_count": null,
            "_view_module": "@jupyter-widgets/base",
            "_view_module_version": "1.2.0",
            "_view_name": "LayoutView",
            "align_content": null,
            "align_items": null,
            "align_self": null,
            "border": null,
            "bottom": null,
            "display": null,
            "flex": null,
            "flex_flow": null,
            "grid_area": null,
            "grid_auto_columns": null,
            "grid_auto_flow": null,
            "grid_auto_rows": null,
            "grid_column": null,
            "grid_gap": null,
            "grid_row": null,
            "grid_template_areas": null,
            "grid_template_columns": null,
            "grid_template_rows": null,
            "height": null,
            "justify_content": null,
            "justify_items": null,
            "left": null,
            "margin": null,
            "max_height": null,
            "max_width": null,
            "min_height": null,
            "min_width": null,
            "object_fit": null,
            "object_position": null,
            "order": null,
            "overflow": null,
            "overflow_x": null,
            "overflow_y": null,
            "padding": null,
            "right": null,
            "top": null,
            "visibility": null,
            "width": null
          }
        },
        "b6a0d9822a0b4d7c907cae8e7802aaac": {
          "model_module": "@jupyter-widgets/controls",
          "model_name": "DescriptionStyleModel",
          "model_module_version": "1.5.0",
          "state": {
            "_model_module": "@jupyter-widgets/controls",
            "_model_module_version": "1.5.0",
            "_model_name": "DescriptionStyleModel",
            "_view_count": null,
            "_view_module": "@jupyter-widgets/base",
            "_view_module_version": "1.2.0",
            "_view_name": "StyleView",
            "description_width": ""
          }
        },
        "a085f5f43b1040b1a557123f6bcdd9b5": {
          "model_module": "@jupyter-widgets/controls",
          "model_name": "CheckboxModel",
          "model_module_version": "1.5.0",
          "state": {
            "_dom_classes": [],
            "_model_module": "@jupyter-widgets/controls",
            "_model_module_version": "1.5.0",
            "_model_name": "CheckboxModel",
            "_view_count": null,
            "_view_module": "@jupyter-widgets/controls",
            "_view_module_version": "1.5.0",
            "_view_name": "CheckboxView",
            "description": "gender",
            "description_tooltip": null,
            "disabled": false,
            "indent": true,
            "layout": "IPY_MODEL_6e05aa9f4c7548c6aca4c0cb58e958d5",
            "style": "IPY_MODEL_a63290976e994252b752ef30a35782b9",
            "value": false
          }
        },
        "6e05aa9f4c7548c6aca4c0cb58e958d5": {
          "model_module": "@jupyter-widgets/base",
          "model_name": "LayoutModel",
          "model_module_version": "1.2.0",
          "state": {
            "_model_module": "@jupyter-widgets/base",
            "_model_module_version": "1.2.0",
            "_model_name": "LayoutModel",
            "_view_count": null,
            "_view_module": "@jupyter-widgets/base",
            "_view_module_version": "1.2.0",
            "_view_name": "LayoutView",
            "align_content": null,
            "align_items": null,
            "align_self": null,
            "border": null,
            "bottom": null,
            "display": null,
            "flex": null,
            "flex_flow": null,
            "grid_area": null,
            "grid_auto_columns": null,
            "grid_auto_flow": null,
            "grid_auto_rows": null,
            "grid_column": null,
            "grid_gap": null,
            "grid_row": null,
            "grid_template_areas": null,
            "grid_template_columns": null,
            "grid_template_rows": null,
            "height": null,
            "justify_content": null,
            "justify_items": null,
            "left": null,
            "margin": null,
            "max_height": null,
            "max_width": null,
            "min_height": null,
            "min_width": null,
            "object_fit": null,
            "object_position": null,
            "order": null,
            "overflow": null,
            "overflow_x": null,
            "overflow_y": null,
            "padding": null,
            "right": null,
            "top": null,
            "visibility": null,
            "width": null
          }
        },
        "a63290976e994252b752ef30a35782b9": {
          "model_module": "@jupyter-widgets/controls",
          "model_name": "DescriptionStyleModel",
          "model_module_version": "1.5.0",
          "state": {
            "_model_module": "@jupyter-widgets/controls",
            "_model_module_version": "1.5.0",
            "_model_name": "DescriptionStyleModel",
            "_view_count": null,
            "_view_module": "@jupyter-widgets/base",
            "_view_module_version": "1.2.0",
            "_view_name": "StyleView",
            "description_width": ""
          }
        },
        "a43117da214a4d81b6e62f5ee1349650": {
          "model_module": "@jupyter-widgets/controls",
          "model_name": "CheckboxModel",
          "model_module_version": "1.5.0",
          "state": {
            "_dom_classes": [],
            "_model_module": "@jupyter-widgets/controls",
            "_model_module_version": "1.5.0",
            "_model_name": "CheckboxModel",
            "_view_count": null,
            "_view_module": "@jupyter-widgets/controls",
            "_view_module_version": "1.5.0",
            "_view_name": "CheckboxView",
            "description": "age",
            "description_tooltip": null,
            "disabled": false,
            "indent": true,
            "layout": "IPY_MODEL_cc91ed14fa3941a5bd1e10039bf45479",
            "style": "IPY_MODEL_ef115963f5814cc2827c4cc74df29207",
            "value": false
          }
        },
        "cc91ed14fa3941a5bd1e10039bf45479": {
          "model_module": "@jupyter-widgets/base",
          "model_name": "LayoutModel",
          "model_module_version": "1.2.0",
          "state": {
            "_model_module": "@jupyter-widgets/base",
            "_model_module_version": "1.2.0",
            "_model_name": "LayoutModel",
            "_view_count": null,
            "_view_module": "@jupyter-widgets/base",
            "_view_module_version": "1.2.0",
            "_view_name": "LayoutView",
            "align_content": null,
            "align_items": null,
            "align_self": null,
            "border": null,
            "bottom": null,
            "display": null,
            "flex": null,
            "flex_flow": null,
            "grid_area": null,
            "grid_auto_columns": null,
            "grid_auto_flow": null,
            "grid_auto_rows": null,
            "grid_column": null,
            "grid_gap": null,
            "grid_row": null,
            "grid_template_areas": null,
            "grid_template_columns": null,
            "grid_template_rows": null,
            "height": null,
            "justify_content": null,
            "justify_items": null,
            "left": null,
            "margin": null,
            "max_height": null,
            "max_width": null,
            "min_height": null,
            "min_width": null,
            "object_fit": null,
            "object_position": null,
            "order": null,
            "overflow": null,
            "overflow_x": null,
            "overflow_y": null,
            "padding": null,
            "right": null,
            "top": null,
            "visibility": null,
            "width": null
          }
        },
        "ef115963f5814cc2827c4cc74df29207": {
          "model_module": "@jupyter-widgets/controls",
          "model_name": "DescriptionStyleModel",
          "model_module_version": "1.5.0",
          "state": {
            "_model_module": "@jupyter-widgets/controls",
            "_model_module_version": "1.5.0",
            "_model_name": "DescriptionStyleModel",
            "_view_count": null,
            "_view_module": "@jupyter-widgets/base",
            "_view_module_version": "1.2.0",
            "_view_name": "StyleView",
            "description_width": ""
          }
        },
        "54282d1d7c1c4bb496150efc4532751a": {
          "model_module": "@jupyter-widgets/controls",
          "model_name": "CheckboxModel",
          "model_module_version": "1.5.0",
          "state": {
            "_dom_classes": [],
            "_model_module": "@jupyter-widgets/controls",
            "_model_module_version": "1.5.0",
            "_model_name": "CheckboxModel",
            "_view_count": null,
            "_view_module": "@jupyter-widgets/controls",
            "_view_module_version": "1.5.0",
            "_view_name": "CheckboxView",
            "description": "occu",
            "description_tooltip": null,
            "disabled": false,
            "indent": true,
            "layout": "IPY_MODEL_148adf35ab49447bbe568191abb5be79",
            "style": "IPY_MODEL_29e67f34ab9442f690933fc20f552865",
            "value": false
          }
        },
        "148adf35ab49447bbe568191abb5be79": {
          "model_module": "@jupyter-widgets/base",
          "model_name": "LayoutModel",
          "model_module_version": "1.2.0",
          "state": {
            "_model_module": "@jupyter-widgets/base",
            "_model_module_version": "1.2.0",
            "_model_name": "LayoutModel",
            "_view_count": null,
            "_view_module": "@jupyter-widgets/base",
            "_view_module_version": "1.2.0",
            "_view_name": "LayoutView",
            "align_content": null,
            "align_items": null,
            "align_self": null,
            "border": null,
            "bottom": null,
            "display": null,
            "flex": null,
            "flex_flow": null,
            "grid_area": null,
            "grid_auto_columns": null,
            "grid_auto_flow": null,
            "grid_auto_rows": null,
            "grid_column": null,
            "grid_gap": null,
            "grid_row": null,
            "grid_template_areas": null,
            "grid_template_columns": null,
            "grid_template_rows": null,
            "height": null,
            "justify_content": null,
            "justify_items": null,
            "left": null,
            "margin": null,
            "max_height": null,
            "max_width": null,
            "min_height": null,
            "min_width": null,
            "object_fit": null,
            "object_position": null,
            "order": null,
            "overflow": null,
            "overflow_x": null,
            "overflow_y": null,
            "padding": null,
            "right": null,
            "top": null,
            "visibility": null,
            "width": null
          }
        },
        "29e67f34ab9442f690933fc20f552865": {
          "model_module": "@jupyter-widgets/controls",
          "model_name": "DescriptionStyleModel",
          "model_module_version": "1.5.0",
          "state": {
            "_model_module": "@jupyter-widgets/controls",
            "_model_module_version": "1.5.0",
            "_model_name": "DescriptionStyleModel",
            "_view_count": null,
            "_view_module": "@jupyter-widgets/base",
            "_view_module_version": "1.2.0",
            "_view_name": "StyleView",
            "description_width": ""
          }
        },
        "02a2049137174731af1ccf462c6884bc": {
          "model_module": "@jupyter-widgets/controls",
          "model_name": "CheckboxModel",
          "model_module_version": "1.5.0",
          "state": {
            "_dom_classes": [],
            "_model_module": "@jupyter-widgets/controls",
            "_model_module_version": "1.5.0",
            "_model_name": "CheckboxModel",
            "_view_count": null,
            "_view_module": "@jupyter-widgets/controls",
            "_view_module_version": "1.5.0",
            "_view_name": "CheckboxView",
            "description": "is_student",
            "description_tooltip": null,
            "disabled": false,
            "indent": true,
            "layout": "IPY_MODEL_b4b996674c7c4f4bbb970c1509e73d2f",
            "style": "IPY_MODEL_b04c56dc9a3a443b8f39f96bd5d957c7",
            "value": false
          }
        },
        "b4b996674c7c4f4bbb970c1509e73d2f": {
          "model_module": "@jupyter-widgets/base",
          "model_name": "LayoutModel",
          "model_module_version": "1.2.0",
          "state": {
            "_model_module": "@jupyter-widgets/base",
            "_model_module_version": "1.2.0",
            "_model_name": "LayoutModel",
            "_view_count": null,
            "_view_module": "@jupyter-widgets/base",
            "_view_module_version": "1.2.0",
            "_view_name": "LayoutView",
            "align_content": null,
            "align_items": null,
            "align_self": null,
            "border": null,
            "bottom": null,
            "display": null,
            "flex": null,
            "flex_flow": null,
            "grid_area": null,
            "grid_auto_columns": null,
            "grid_auto_flow": null,
            "grid_auto_rows": null,
            "grid_column": null,
            "grid_gap": null,
            "grid_row": null,
            "grid_template_areas": null,
            "grid_template_columns": null,
            "grid_template_rows": null,
            "height": null,
            "justify_content": null,
            "justify_items": null,
            "left": null,
            "margin": null,
            "max_height": null,
            "max_width": null,
            "min_height": null,
            "min_width": null,
            "object_fit": null,
            "object_position": null,
            "order": null,
            "overflow": null,
            "overflow_x": null,
            "overflow_y": null,
            "padding": null,
            "right": null,
            "top": null,
            "visibility": null,
            "width": null
          }
        },
        "b04c56dc9a3a443b8f39f96bd5d957c7": {
          "model_module": "@jupyter-widgets/controls",
          "model_name": "DescriptionStyleModel",
          "model_module_version": "1.5.0",
          "state": {
            "_model_module": "@jupyter-widgets/controls",
            "_model_module_version": "1.5.0",
            "_model_name": "DescriptionStyleModel",
            "_view_count": null,
            "_view_module": "@jupyter-widgets/base",
            "_view_module_version": "1.2.0",
            "_view_name": "StyleView",
            "description_width": ""
          }
        },
        "b8e02e55a3454e7d9d89f64c5222d85d": {
          "model_module": "@jupyter-widgets/controls",
          "model_name": "ButtonModel",
          "model_module_version": "1.5.0",
          "state": {
            "_dom_classes": [],
            "_model_module": "@jupyter-widgets/controls",
            "_model_module_version": "1.5.0",
            "_model_name": "ButtonModel",
            "_view_count": null,
            "_view_module": "@jupyter-widgets/controls",
            "_view_module_version": "1.5.0",
            "_view_name": "ButtonView",
            "button_style": "",
            "description": "Submit",
            "disabled": false,
            "icon": "",
            "layout": "IPY_MODEL_a709cefb7779418e97544a07bb045e98",
            "style": "IPY_MODEL_dafc0fe78ddb4b458fea9f5cf0512509",
            "tooltip": ""
          }
        },
        "a709cefb7779418e97544a07bb045e98": {
          "model_module": "@jupyter-widgets/base",
          "model_name": "LayoutModel",
          "model_module_version": "1.2.0",
          "state": {
            "_model_module": "@jupyter-widgets/base",
            "_model_module_version": "1.2.0",
            "_model_name": "LayoutModel",
            "_view_count": null,
            "_view_module": "@jupyter-widgets/base",
            "_view_module_version": "1.2.0",
            "_view_name": "LayoutView",
            "align_content": null,
            "align_items": null,
            "align_self": null,
            "border": null,
            "bottom": null,
            "display": null,
            "flex": null,
            "flex_flow": null,
            "grid_area": null,
            "grid_auto_columns": null,
            "grid_auto_flow": null,
            "grid_auto_rows": null,
            "grid_column": null,
            "grid_gap": null,
            "grid_row": null,
            "grid_template_areas": null,
            "grid_template_columns": null,
            "grid_template_rows": null,
            "height": null,
            "justify_content": null,
            "justify_items": null,
            "left": null,
            "margin": null,
            "max_height": null,
            "max_width": null,
            "min_height": null,
            "min_width": null,
            "object_fit": null,
            "object_position": null,
            "order": null,
            "overflow": null,
            "overflow_x": null,
            "overflow_y": null,
            "padding": null,
            "right": null,
            "top": null,
            "visibility": null,
            "width": null
          }
        },
        "dafc0fe78ddb4b458fea9f5cf0512509": {
          "model_module": "@jupyter-widgets/controls",
          "model_name": "ButtonStyleModel",
          "model_module_version": "1.5.0",
          "state": {
            "_model_module": "@jupyter-widgets/controls",
            "_model_module_version": "1.5.0",
            "_model_name": "ButtonStyleModel",
            "_view_count": null,
            "_view_module": "@jupyter-widgets/base",
            "_view_module_version": "1.2.0",
            "_view_name": "StyleView",
            "button_color": null,
            "font_weight": ""
          }
        },
        "5f43181a3d15483b9e32b4e325fcac35": {
          "model_module": "@jupyter-widgets/controls",
          "model_name": "DropdownModel",
          "model_module_version": "1.5.0",
          "state": {
            "_dom_classes": [],
            "_model_module": "@jupyter-widgets/controls",
            "_model_module_version": "1.5.0",
            "_model_name": "DropdownModel",
            "_options_labels": [
              "1to2grams-filtered-table",
              "1to2grams-unfiltered-table",
              "topics-table"
            ],
            "_view_count": null,
            "_view_module": "@jupyter-widgets/controls",
            "_view_module_version": "1.5.0",
            "_view_name": "DropdownView",
            "description": "Feature Table:",
            "description_tooltip": null,
            "disabled": false,
            "index": 0,
            "layout": "IPY_MODEL_8515ac09e4cf45018f2da0101ef657a2",
            "style": "IPY_MODEL_05229799875f46299b0fb4825b63cd51"
          }
        },
        "8515ac09e4cf45018f2da0101ef657a2": {
          "model_module": "@jupyter-widgets/base",
          "model_name": "LayoutModel",
          "model_module_version": "1.2.0",
          "state": {
            "_model_module": "@jupyter-widgets/base",
            "_model_module_version": "1.2.0",
            "_model_name": "LayoutModel",
            "_view_count": null,
            "_view_module": "@jupyter-widgets/base",
            "_view_module_version": "1.2.0",
            "_view_name": "LayoutView",
            "align_content": null,
            "align_items": null,
            "align_self": null,
            "border": null,
            "bottom": null,
            "display": null,
            "flex": null,
            "flex_flow": null,
            "grid_area": null,
            "grid_auto_columns": null,
            "grid_auto_flow": null,
            "grid_auto_rows": null,
            "grid_column": null,
            "grid_gap": null,
            "grid_row": null,
            "grid_template_areas": null,
            "grid_template_columns": null,
            "grid_template_rows": null,
            "height": null,
            "justify_content": null,
            "justify_items": null,
            "left": null,
            "margin": null,
            "max_height": null,
            "max_width": null,
            "min_height": null,
            "min_width": null,
            "object_fit": null,
            "object_position": null,
            "order": null,
            "overflow": null,
            "overflow_x": null,
            "overflow_y": null,
            "padding": null,
            "right": null,
            "top": null,
            "visibility": null,
            "width": null
          }
        },
        "05229799875f46299b0fb4825b63cd51": {
          "model_module": "@jupyter-widgets/controls",
          "model_name": "DescriptionStyleModel",
          "model_module_version": "1.5.0",
          "state": {
            "_model_module": "@jupyter-widgets/controls",
            "_model_module_version": "1.5.0",
            "_model_name": "DescriptionStyleModel",
            "_view_count": null,
            "_view_module": "@jupyter-widgets/base",
            "_view_module_version": "1.2.0",
            "_view_name": "StyleView",
            "description_width": ""
          }
        },
        "e0e3debc5b664d1ebf0a3f2dc3101fc4": {
          "model_module": "@jupyter-widgets/controls",
          "model_name": "DropdownModel",
          "model_module_version": "1.5.0",
          "state": {
            "_dom_classes": [],
            "_model_module": "@jupyter-widgets/controls",
            "_model_module_version": "1.5.0",
            "_model_name": "DropdownModel",
            "_options_labels": [
              "lr",
              "lr1",
              "lr_balanced",
              "lrnone",
              "linear-svc",
              "svc",
              "etc",
              "rfc",
              "pac",
              "gbc",
              "mnb",
              "gnb",
              "bnb",
              "mlp"
            ],
            "_view_count": null,
            "_view_module": "@jupyter-widgets/controls",
            "_view_module_version": "1.5.0",
            "_view_name": "DropdownView",
            "description": "Model:",
            "description_tooltip": null,
            "disabled": false,
            "index": 0,
            "layout": "IPY_MODEL_1d6fa401b6e045d1a9038ca6f768a247",
            "style": "IPY_MODEL_381732c74c5b4db7a14e49d962485f37"
          }
        },
        "1d6fa401b6e045d1a9038ca6f768a247": {
          "model_module": "@jupyter-widgets/base",
          "model_name": "LayoutModel",
          "model_module_version": "1.2.0",
          "state": {
            "_model_module": "@jupyter-widgets/base",
            "_model_module_version": "1.2.0",
            "_model_name": "LayoutModel",
            "_view_count": null,
            "_view_module": "@jupyter-widgets/base",
            "_view_module_version": "1.2.0",
            "_view_name": "LayoutView",
            "align_content": null,
            "align_items": null,
            "align_self": null,
            "border": null,
            "bottom": null,
            "display": null,
            "flex": null,
            "flex_flow": null,
            "grid_area": null,
            "grid_auto_columns": null,
            "grid_auto_flow": null,
            "grid_auto_rows": null,
            "grid_column": null,
            "grid_gap": null,
            "grid_row": null,
            "grid_template_areas": null,
            "grid_template_columns": null,
            "grid_template_rows": null,
            "height": null,
            "justify_content": null,
            "justify_items": null,
            "left": null,
            "margin": null,
            "max_height": null,
            "max_width": null,
            "min_height": null,
            "min_width": null,
            "object_fit": null,
            "object_position": null,
            "order": null,
            "overflow": null,
            "overflow_x": null,
            "overflow_y": null,
            "padding": null,
            "right": null,
            "top": null,
            "visibility": null,
            "width": null
          }
        },
        "381732c74c5b4db7a14e49d962485f37": {
          "model_module": "@jupyter-widgets/controls",
          "model_name": "DescriptionStyleModel",
          "model_module_version": "1.5.0",
          "state": {
            "_model_module": "@jupyter-widgets/controls",
            "_model_module_version": "1.5.0",
            "_model_name": "DescriptionStyleModel",
            "_view_count": null,
            "_view_module": "@jupyter-widgets/base",
            "_view_module_version": "1.2.0",
            "_view_name": "StyleView",
            "description_width": ""
          }
        },
        "9df8ca94877145ceb47859501214a41a": {
          "model_module": "@jupyter-widgets/controls",
          "model_name": "LabelModel",
          "model_module_version": "1.5.0",
          "state": {
            "_dom_classes": [],
            "_model_module": "@jupyter-widgets/controls",
            "_model_module_version": "1.5.0",
            "_model_name": "LabelModel",
            "_view_count": null,
            "_view_module": "@jupyter-widgets/controls",
            "_view_module_version": "1.5.0",
            "_view_name": "LabelView",
            "description": "",
            "description_tooltip": null,
            "layout": "IPY_MODEL_a46641a9aa5847938f74167f151329c3",
            "placeholder": "​",
            "style": "IPY_MODEL_99b7d53a2671485e88aff1b2bb9e30ea",
            "value": "Outcomes:"
          }
        },
        "a46641a9aa5847938f74167f151329c3": {
          "model_module": "@jupyter-widgets/base",
          "model_name": "LayoutModel",
          "model_module_version": "1.2.0",
          "state": {
            "_model_module": "@jupyter-widgets/base",
            "_model_module_version": "1.2.0",
            "_model_name": "LayoutModel",
            "_view_count": null,
            "_view_module": "@jupyter-widgets/base",
            "_view_module_version": "1.2.0",
            "_view_name": "LayoutView",
            "align_content": null,
            "align_items": null,
            "align_self": null,
            "border": null,
            "bottom": null,
            "display": null,
            "flex": null,
            "flex_flow": null,
            "grid_area": null,
            "grid_auto_columns": null,
            "grid_auto_flow": null,
            "grid_auto_rows": null,
            "grid_column": null,
            "grid_gap": null,
            "grid_row": null,
            "grid_template_areas": null,
            "grid_template_columns": null,
            "grid_template_rows": null,
            "height": null,
            "justify_content": null,
            "justify_items": null,
            "left": null,
            "margin": null,
            "max_height": null,
            "max_width": null,
            "min_height": null,
            "min_width": null,
            "object_fit": null,
            "object_position": null,
            "order": null,
            "overflow": null,
            "overflow_x": null,
            "overflow_y": null,
            "padding": null,
            "right": null,
            "top": null,
            "visibility": null,
            "width": null
          }
        },
        "99b7d53a2671485e88aff1b2bb9e30ea": {
          "model_module": "@jupyter-widgets/controls",
          "model_name": "DescriptionStyleModel",
          "model_module_version": "1.5.0",
          "state": {
            "_model_module": "@jupyter-widgets/controls",
            "_model_module_version": "1.5.0",
            "_model_name": "DescriptionStyleModel",
            "_view_count": null,
            "_view_module": "@jupyter-widgets/base",
            "_view_module_version": "1.2.0",
            "_view_name": "StyleView",
            "description_width": ""
          }
        },
        "3f825e6264b04dca88f8c68c851c5082": {
          "model_module": "@jupyter-widgets/controls",
          "model_name": "HBoxModel",
          "model_module_version": "1.5.0",
          "state": {
            "_dom_classes": [],
            "_model_module": "@jupyter-widgets/controls",
            "_model_module_version": "1.5.0",
            "_model_name": "HBoxModel",
            "_view_count": null,
            "_view_module": "@jupyter-widgets/controls",
            "_view_module_version": "1.5.0",
            "_view_name": "HBoxView",
            "box_style": "",
            "children": [
              "IPY_MODEL_7eb4d168ffa04fccbf180827751cf7e9",
              "IPY_MODEL_201ef948248942648c1ad346c4caafd7"
            ],
            "layout": "IPY_MODEL_4e1e93cec4754bc284818b936b5cb82f"
          }
        },
        "7eb4d168ffa04fccbf180827751cf7e9": {
          "model_module": "@jupyter-widgets/controls",
          "model_name": "CheckboxModel",
          "model_module_version": "1.5.0",
          "state": {
            "_dom_classes": [],
            "_model_module": "@jupyter-widgets/controls",
            "_model_module_version": "1.5.0",
            "_model_name": "CheckboxModel",
            "_view_count": null,
            "_view_module": "@jupyter-widgets/controls",
            "_view_module_version": "1.5.0",
            "_view_name": "CheckboxView",
            "description": "gender",
            "description_tooltip": null,
            "disabled": false,
            "indent": true,
            "layout": "IPY_MODEL_6166bcdeab0a4b0c87240459b382fdae",
            "style": "IPY_MODEL_c23f5b09deff4c639567f7e9f349212e",
            "value": false
          }
        },
        "201ef948248942648c1ad346c4caafd7": {
          "model_module": "@jupyter-widgets/controls",
          "model_name": "RadioButtonsModel",
          "model_module_version": "1.5.0",
          "state": {
            "_dom_classes": [],
            "_model_module": "@jupyter-widgets/controls",
            "_model_module_version": "1.5.0",
            "_model_name": "RadioButtonsModel",
            "_options_labels": [
              "No",
              "Yes"
            ],
            "_view_count": null,
            "_view_module": "@jupyter-widgets/controls",
            "_view_module_version": "1.5.0",
            "_view_name": "RadioButtonsView",
            "description": "Is this variable Categorical?",
            "description_tooltip": null,
            "disabled": false,
            "index": 0,
            "layout": "IPY_MODEL_d096b6ced26443a4aa1f8610f320e44f",
            "style": "IPY_MODEL_fc1b2ed074484c769d54925992ec20fa"
          }
        },
        "4e1e93cec4754bc284818b936b5cb82f": {
          "model_module": "@jupyter-widgets/base",
          "model_name": "LayoutModel",
          "model_module_version": "1.2.0",
          "state": {
            "_model_module": "@jupyter-widgets/base",
            "_model_module_version": "1.2.0",
            "_model_name": "LayoutModel",
            "_view_count": null,
            "_view_module": "@jupyter-widgets/base",
            "_view_module_version": "1.2.0",
            "_view_name": "LayoutView",
            "align_content": null,
            "align_items": null,
            "align_self": null,
            "border": null,
            "bottom": null,
            "display": null,
            "flex": null,
            "flex_flow": null,
            "grid_area": null,
            "grid_auto_columns": null,
            "grid_auto_flow": null,
            "grid_auto_rows": null,
            "grid_column": null,
            "grid_gap": null,
            "grid_row": null,
            "grid_template_areas": null,
            "grid_template_columns": null,
            "grid_template_rows": null,
            "height": null,
            "justify_content": null,
            "justify_items": null,
            "left": null,
            "margin": null,
            "max_height": null,
            "max_width": null,
            "min_height": null,
            "min_width": null,
            "object_fit": null,
            "object_position": null,
            "order": null,
            "overflow": null,
            "overflow_x": null,
            "overflow_y": null,
            "padding": null,
            "right": null,
            "top": null,
            "visibility": null,
            "width": null
          }
        },
        "6166bcdeab0a4b0c87240459b382fdae": {
          "model_module": "@jupyter-widgets/base",
          "model_name": "LayoutModel",
          "model_module_version": "1.2.0",
          "state": {
            "_model_module": "@jupyter-widgets/base",
            "_model_module_version": "1.2.0",
            "_model_name": "LayoutModel",
            "_view_count": null,
            "_view_module": "@jupyter-widgets/base",
            "_view_module_version": "1.2.0",
            "_view_name": "LayoutView",
            "align_content": null,
            "align_items": null,
            "align_self": null,
            "border": null,
            "bottom": null,
            "display": null,
            "flex": null,
            "flex_flow": null,
            "grid_area": null,
            "grid_auto_columns": null,
            "grid_auto_flow": null,
            "grid_auto_rows": null,
            "grid_column": null,
            "grid_gap": null,
            "grid_row": null,
            "grid_template_areas": null,
            "grid_template_columns": null,
            "grid_template_rows": null,
            "height": null,
            "justify_content": null,
            "justify_items": null,
            "left": null,
            "margin": null,
            "max_height": null,
            "max_width": null,
            "min_height": null,
            "min_width": null,
            "object_fit": null,
            "object_position": null,
            "order": null,
            "overflow": null,
            "overflow_x": null,
            "overflow_y": null,
            "padding": null,
            "right": null,
            "top": null,
            "visibility": null,
            "width": null
          }
        },
        "c23f5b09deff4c639567f7e9f349212e": {
          "model_module": "@jupyter-widgets/controls",
          "model_name": "DescriptionStyleModel",
          "model_module_version": "1.5.0",
          "state": {
            "_model_module": "@jupyter-widgets/controls",
            "_model_module_version": "1.5.0",
            "_model_name": "DescriptionStyleModel",
            "_view_count": null,
            "_view_module": "@jupyter-widgets/base",
            "_view_module_version": "1.2.0",
            "_view_name": "StyleView",
            "description_width": ""
          }
        },
        "d096b6ced26443a4aa1f8610f320e44f": {
          "model_module": "@jupyter-widgets/base",
          "model_name": "LayoutModel",
          "model_module_version": "1.2.0",
          "state": {
            "_model_module": "@jupyter-widgets/base",
            "_model_module_version": "1.2.0",
            "_model_name": "LayoutModel",
            "_view_count": null,
            "_view_module": "@jupyter-widgets/base",
            "_view_module_version": "1.2.0",
            "_view_name": "LayoutView",
            "align_content": null,
            "align_items": null,
            "align_self": null,
            "border": null,
            "bottom": null,
            "display": "none",
            "flex": null,
            "flex_flow": null,
            "grid_area": null,
            "grid_auto_columns": null,
            "grid_auto_flow": null,
            "grid_auto_rows": null,
            "grid_column": null,
            "grid_gap": null,
            "grid_row": null,
            "grid_template_areas": null,
            "grid_template_columns": null,
            "grid_template_rows": null,
            "height": null,
            "justify_content": null,
            "justify_items": null,
            "left": null,
            "margin": null,
            "max_height": null,
            "max_width": null,
            "min_height": null,
            "min_width": null,
            "object_fit": null,
            "object_position": null,
            "order": null,
            "overflow": null,
            "overflow_x": null,
            "overflow_y": null,
            "padding": null,
            "right": null,
            "top": null,
            "visibility": null,
            "width": "max-content"
          }
        },
        "fc1b2ed074484c769d54925992ec20fa": {
          "model_module": "@jupyter-widgets/controls",
          "model_name": "DescriptionStyleModel",
          "model_module_version": "1.5.0",
          "state": {
            "_model_module": "@jupyter-widgets/controls",
            "_model_module_version": "1.5.0",
            "_model_name": "DescriptionStyleModel",
            "_view_count": null,
            "_view_module": "@jupyter-widgets/base",
            "_view_module_version": "1.2.0",
            "_view_name": "StyleView",
            "description_width": "initial"
          }
        },
        "42bb1fa830ac44c291d2d8ffbda700bf": {
          "model_module": "@jupyter-widgets/controls",
          "model_name": "HBoxModel",
          "model_module_version": "1.5.0",
          "state": {
            "_dom_classes": [],
            "_model_module": "@jupyter-widgets/controls",
            "_model_module_version": "1.5.0",
            "_model_name": "HBoxModel",
            "_view_count": null,
            "_view_module": "@jupyter-widgets/controls",
            "_view_module_version": "1.5.0",
            "_view_name": "HBoxView",
            "box_style": "",
            "children": [
              "IPY_MODEL_84158922129b4d26a4fe6cb3623eca85",
              "IPY_MODEL_2b7329c16c6b46779014ce5c3d7afaa6"
            ],
            "layout": "IPY_MODEL_a1793143e46f429095bdb49ce0a7bea7"
          }
        },
        "84158922129b4d26a4fe6cb3623eca85": {
          "model_module": "@jupyter-widgets/controls",
          "model_name": "CheckboxModel",
          "model_module_version": "1.5.0",
          "state": {
            "_dom_classes": [],
            "_model_module": "@jupyter-widgets/controls",
            "_model_module_version": "1.5.0",
            "_model_name": "CheckboxModel",
            "_view_count": null,
            "_view_module": "@jupyter-widgets/controls",
            "_view_module_version": "1.5.0",
            "_view_name": "CheckboxView",
            "description": "age",
            "description_tooltip": null,
            "disabled": false,
            "indent": true,
            "layout": "IPY_MODEL_ce9cedb054aa4c70a5511195db27f4d7",
            "style": "IPY_MODEL_39f5303d7464445198388de3b593ccb7",
            "value": false
          }
        },
        "2b7329c16c6b46779014ce5c3d7afaa6": {
          "model_module": "@jupyter-widgets/controls",
          "model_name": "RadioButtonsModel",
          "model_module_version": "1.5.0",
          "state": {
            "_dom_classes": [],
            "_model_module": "@jupyter-widgets/controls",
            "_model_module_version": "1.5.0",
            "_model_name": "RadioButtonsModel",
            "_options_labels": [
              "No",
              "Yes"
            ],
            "_view_count": null,
            "_view_module": "@jupyter-widgets/controls",
            "_view_module_version": "1.5.0",
            "_view_name": "RadioButtonsView",
            "description": "Is this variable Categorical?",
            "description_tooltip": null,
            "disabled": false,
            "index": 0,
            "layout": "IPY_MODEL_c3e717d48fed4d82a47a23108232e6d1",
            "style": "IPY_MODEL_d4ac8703573f4d3cb989417bb37e0638"
          }
        },
        "a1793143e46f429095bdb49ce0a7bea7": {
          "model_module": "@jupyter-widgets/base",
          "model_name": "LayoutModel",
          "model_module_version": "1.2.0",
          "state": {
            "_model_module": "@jupyter-widgets/base",
            "_model_module_version": "1.2.0",
            "_model_name": "LayoutModel",
            "_view_count": null,
            "_view_module": "@jupyter-widgets/base",
            "_view_module_version": "1.2.0",
            "_view_name": "LayoutView",
            "align_content": null,
            "align_items": null,
            "align_self": null,
            "border": null,
            "bottom": null,
            "display": null,
            "flex": null,
            "flex_flow": null,
            "grid_area": null,
            "grid_auto_columns": null,
            "grid_auto_flow": null,
            "grid_auto_rows": null,
            "grid_column": null,
            "grid_gap": null,
            "grid_row": null,
            "grid_template_areas": null,
            "grid_template_columns": null,
            "grid_template_rows": null,
            "height": null,
            "justify_content": null,
            "justify_items": null,
            "left": null,
            "margin": null,
            "max_height": null,
            "max_width": null,
            "min_height": null,
            "min_width": null,
            "object_fit": null,
            "object_position": null,
            "order": null,
            "overflow": null,
            "overflow_x": null,
            "overflow_y": null,
            "padding": null,
            "right": null,
            "top": null,
            "visibility": null,
            "width": null
          }
        },
        "ce9cedb054aa4c70a5511195db27f4d7": {
          "model_module": "@jupyter-widgets/base",
          "model_name": "LayoutModel",
          "model_module_version": "1.2.0",
          "state": {
            "_model_module": "@jupyter-widgets/base",
            "_model_module_version": "1.2.0",
            "_model_name": "LayoutModel",
            "_view_count": null,
            "_view_module": "@jupyter-widgets/base",
            "_view_module_version": "1.2.0",
            "_view_name": "LayoutView",
            "align_content": null,
            "align_items": null,
            "align_self": null,
            "border": null,
            "bottom": null,
            "display": null,
            "flex": null,
            "flex_flow": null,
            "grid_area": null,
            "grid_auto_columns": null,
            "grid_auto_flow": null,
            "grid_auto_rows": null,
            "grid_column": null,
            "grid_gap": null,
            "grid_row": null,
            "grid_template_areas": null,
            "grid_template_columns": null,
            "grid_template_rows": null,
            "height": null,
            "justify_content": null,
            "justify_items": null,
            "left": null,
            "margin": null,
            "max_height": null,
            "max_width": null,
            "min_height": null,
            "min_width": null,
            "object_fit": null,
            "object_position": null,
            "order": null,
            "overflow": null,
            "overflow_x": null,
            "overflow_y": null,
            "padding": null,
            "right": null,
            "top": null,
            "visibility": null,
            "width": null
          }
        },
        "39f5303d7464445198388de3b593ccb7": {
          "model_module": "@jupyter-widgets/controls",
          "model_name": "DescriptionStyleModel",
          "model_module_version": "1.5.0",
          "state": {
            "_model_module": "@jupyter-widgets/controls",
            "_model_module_version": "1.5.0",
            "_model_name": "DescriptionStyleModel",
            "_view_count": null,
            "_view_module": "@jupyter-widgets/base",
            "_view_module_version": "1.2.0",
            "_view_name": "StyleView",
            "description_width": ""
          }
        },
        "c3e717d48fed4d82a47a23108232e6d1": {
          "model_module": "@jupyter-widgets/base",
          "model_name": "LayoutModel",
          "model_module_version": "1.2.0",
          "state": {
            "_model_module": "@jupyter-widgets/base",
            "_model_module_version": "1.2.0",
            "_model_name": "LayoutModel",
            "_view_count": null,
            "_view_module": "@jupyter-widgets/base",
            "_view_module_version": "1.2.0",
            "_view_name": "LayoutView",
            "align_content": null,
            "align_items": null,
            "align_self": null,
            "border": null,
            "bottom": null,
            "display": "none",
            "flex": null,
            "flex_flow": null,
            "grid_area": null,
            "grid_auto_columns": null,
            "grid_auto_flow": null,
            "grid_auto_rows": null,
            "grid_column": null,
            "grid_gap": null,
            "grid_row": null,
            "grid_template_areas": null,
            "grid_template_columns": null,
            "grid_template_rows": null,
            "height": null,
            "justify_content": null,
            "justify_items": null,
            "left": null,
            "margin": null,
            "max_height": null,
            "max_width": null,
            "min_height": null,
            "min_width": null,
            "object_fit": null,
            "object_position": null,
            "order": null,
            "overflow": null,
            "overflow_x": null,
            "overflow_y": null,
            "padding": null,
            "right": null,
            "top": null,
            "visibility": null,
            "width": "max-content"
          }
        },
        "d4ac8703573f4d3cb989417bb37e0638": {
          "model_module": "@jupyter-widgets/controls",
          "model_name": "DescriptionStyleModel",
          "model_module_version": "1.5.0",
          "state": {
            "_model_module": "@jupyter-widgets/controls",
            "_model_module_version": "1.5.0",
            "_model_name": "DescriptionStyleModel",
            "_view_count": null,
            "_view_module": "@jupyter-widgets/base",
            "_view_module_version": "1.2.0",
            "_view_name": "StyleView",
            "description_width": "initial"
          }
        },
        "0c2a104d07d741f0baace6fa04b77dee": {
          "model_module": "@jupyter-widgets/controls",
          "model_name": "HBoxModel",
          "model_module_version": "1.5.0",
          "state": {
            "_dom_classes": [],
            "_model_module": "@jupyter-widgets/controls",
            "_model_module_version": "1.5.0",
            "_model_name": "HBoxModel",
            "_view_count": null,
            "_view_module": "@jupyter-widgets/controls",
            "_view_module_version": "1.5.0",
            "_view_name": "HBoxView",
            "box_style": "",
            "children": [
              "IPY_MODEL_b4134ccfb96d4785a48baabc840c7bcb",
              "IPY_MODEL_6be49d9c89564f869462db4ce27bfbdd"
            ],
            "layout": "IPY_MODEL_78435ec4c1fb4b6d9f3d13c71f975163"
          }
        },
        "b4134ccfb96d4785a48baabc840c7bcb": {
          "model_module": "@jupyter-widgets/controls",
          "model_name": "CheckboxModel",
          "model_module_version": "1.5.0",
          "state": {
            "_dom_classes": [],
            "_model_module": "@jupyter-widgets/controls",
            "_model_module_version": "1.5.0",
            "_model_name": "CheckboxModel",
            "_view_count": null,
            "_view_module": "@jupyter-widgets/controls",
            "_view_module_version": "1.5.0",
            "_view_name": "CheckboxView",
            "description": "occu",
            "description_tooltip": null,
            "disabled": false,
            "indent": true,
            "layout": "IPY_MODEL_c7855669636d440eaba23fe52a8a7447",
            "style": "IPY_MODEL_14356e83ad8a4ea8accf722cb1bc8907",
            "value": false
          }
        },
        "6be49d9c89564f869462db4ce27bfbdd": {
          "model_module": "@jupyter-widgets/controls",
          "model_name": "RadioButtonsModel",
          "model_module_version": "1.5.0",
          "state": {
            "_dom_classes": [],
            "_model_module": "@jupyter-widgets/controls",
            "_model_module_version": "1.5.0",
            "_model_name": "RadioButtonsModel",
            "_options_labels": [
              "No",
              "Yes"
            ],
            "_view_count": null,
            "_view_module": "@jupyter-widgets/controls",
            "_view_module_version": "1.5.0",
            "_view_name": "RadioButtonsView",
            "description": "Is this variable Categorical?",
            "description_tooltip": null,
            "disabled": false,
            "index": 0,
            "layout": "IPY_MODEL_a737515b082b4ee99b52f583ac0e3c67",
            "style": "IPY_MODEL_ddd5bf5c5a1a4d07aababea3e25cd2c9"
          }
        },
        "78435ec4c1fb4b6d9f3d13c71f975163": {
          "model_module": "@jupyter-widgets/base",
          "model_name": "LayoutModel",
          "model_module_version": "1.2.0",
          "state": {
            "_model_module": "@jupyter-widgets/base",
            "_model_module_version": "1.2.0",
            "_model_name": "LayoutModel",
            "_view_count": null,
            "_view_module": "@jupyter-widgets/base",
            "_view_module_version": "1.2.0",
            "_view_name": "LayoutView",
            "align_content": null,
            "align_items": null,
            "align_self": null,
            "border": null,
            "bottom": null,
            "display": null,
            "flex": null,
            "flex_flow": null,
            "grid_area": null,
            "grid_auto_columns": null,
            "grid_auto_flow": null,
            "grid_auto_rows": null,
            "grid_column": null,
            "grid_gap": null,
            "grid_row": null,
            "grid_template_areas": null,
            "grid_template_columns": null,
            "grid_template_rows": null,
            "height": null,
            "justify_content": null,
            "justify_items": null,
            "left": null,
            "margin": null,
            "max_height": null,
            "max_width": null,
            "min_height": null,
            "min_width": null,
            "object_fit": null,
            "object_position": null,
            "order": null,
            "overflow": null,
            "overflow_x": null,
            "overflow_y": null,
            "padding": null,
            "right": null,
            "top": null,
            "visibility": null,
            "width": null
          }
        },
        "c7855669636d440eaba23fe52a8a7447": {
          "model_module": "@jupyter-widgets/base",
          "model_name": "LayoutModel",
          "model_module_version": "1.2.0",
          "state": {
            "_model_module": "@jupyter-widgets/base",
            "_model_module_version": "1.2.0",
            "_model_name": "LayoutModel",
            "_view_count": null,
            "_view_module": "@jupyter-widgets/base",
            "_view_module_version": "1.2.0",
            "_view_name": "LayoutView",
            "align_content": null,
            "align_items": null,
            "align_self": null,
            "border": null,
            "bottom": null,
            "display": null,
            "flex": null,
            "flex_flow": null,
            "grid_area": null,
            "grid_auto_columns": null,
            "grid_auto_flow": null,
            "grid_auto_rows": null,
            "grid_column": null,
            "grid_gap": null,
            "grid_row": null,
            "grid_template_areas": null,
            "grid_template_columns": null,
            "grid_template_rows": null,
            "height": null,
            "justify_content": null,
            "justify_items": null,
            "left": null,
            "margin": null,
            "max_height": null,
            "max_width": null,
            "min_height": null,
            "min_width": null,
            "object_fit": null,
            "object_position": null,
            "order": null,
            "overflow": null,
            "overflow_x": null,
            "overflow_y": null,
            "padding": null,
            "right": null,
            "top": null,
            "visibility": null,
            "width": null
          }
        },
        "14356e83ad8a4ea8accf722cb1bc8907": {
          "model_module": "@jupyter-widgets/controls",
          "model_name": "DescriptionStyleModel",
          "model_module_version": "1.5.0",
          "state": {
            "_model_module": "@jupyter-widgets/controls",
            "_model_module_version": "1.5.0",
            "_model_name": "DescriptionStyleModel",
            "_view_count": null,
            "_view_module": "@jupyter-widgets/base",
            "_view_module_version": "1.2.0",
            "_view_name": "StyleView",
            "description_width": ""
          }
        },
        "a737515b082b4ee99b52f583ac0e3c67": {
          "model_module": "@jupyter-widgets/base",
          "model_name": "LayoutModel",
          "model_module_version": "1.2.0",
          "state": {
            "_model_module": "@jupyter-widgets/base",
            "_model_module_version": "1.2.0",
            "_model_name": "LayoutModel",
            "_view_count": null,
            "_view_module": "@jupyter-widgets/base",
            "_view_module_version": "1.2.0",
            "_view_name": "LayoutView",
            "align_content": null,
            "align_items": null,
            "align_self": null,
            "border": null,
            "bottom": null,
            "display": "none",
            "flex": null,
            "flex_flow": null,
            "grid_area": null,
            "grid_auto_columns": null,
            "grid_auto_flow": null,
            "grid_auto_rows": null,
            "grid_column": null,
            "grid_gap": null,
            "grid_row": null,
            "grid_template_areas": null,
            "grid_template_columns": null,
            "grid_template_rows": null,
            "height": null,
            "justify_content": null,
            "justify_items": null,
            "left": null,
            "margin": null,
            "max_height": null,
            "max_width": null,
            "min_height": null,
            "min_width": null,
            "object_fit": null,
            "object_position": null,
            "order": null,
            "overflow": null,
            "overflow_x": null,
            "overflow_y": null,
            "padding": null,
            "right": null,
            "top": null,
            "visibility": null,
            "width": "max-content"
          }
        },
        "ddd5bf5c5a1a4d07aababea3e25cd2c9": {
          "model_module": "@jupyter-widgets/controls",
          "model_name": "DescriptionStyleModel",
          "model_module_version": "1.5.0",
          "state": {
            "_model_module": "@jupyter-widgets/controls",
            "_model_module_version": "1.5.0",
            "_model_name": "DescriptionStyleModel",
            "_view_count": null,
            "_view_module": "@jupyter-widgets/base",
            "_view_module_version": "1.2.0",
            "_view_name": "StyleView",
            "description_width": "initial"
          }
        },
        "288d9b43ba4d46e78d1382bbb0cdeed0": {
          "model_module": "@jupyter-widgets/controls",
          "model_name": "HBoxModel",
          "model_module_version": "1.5.0",
          "state": {
            "_dom_classes": [],
            "_model_module": "@jupyter-widgets/controls",
            "_model_module_version": "1.5.0",
            "_model_name": "HBoxModel",
            "_view_count": null,
            "_view_module": "@jupyter-widgets/controls",
            "_view_module_version": "1.5.0",
            "_view_name": "HBoxView",
            "box_style": "",
            "children": [
              "IPY_MODEL_e394e1bcdfb7465984d32b541bfe8753",
              "IPY_MODEL_fb0362087ecd4aabb227aadc0c1ad0b3"
            ],
            "layout": "IPY_MODEL_3f03289b11894ae8abdf5ab8da404822"
          }
        },
        "e394e1bcdfb7465984d32b541bfe8753": {
          "model_module": "@jupyter-widgets/controls",
          "model_name": "CheckboxModel",
          "model_module_version": "1.5.0",
          "state": {
            "_dom_classes": [],
            "_model_module": "@jupyter-widgets/controls",
            "_model_module_version": "1.5.0",
            "_model_name": "CheckboxModel",
            "_view_count": null,
            "_view_module": "@jupyter-widgets/controls",
            "_view_module_version": "1.5.0",
            "_view_name": "CheckboxView",
            "description": "is_student",
            "description_tooltip": null,
            "disabled": false,
            "indent": true,
            "layout": "IPY_MODEL_b15b1c6cdbe842f1b955f4db5fe57158",
            "style": "IPY_MODEL_60286f0597dd41f8ac8419d5e9d75de0",
            "value": false
          }
        },
        "fb0362087ecd4aabb227aadc0c1ad0b3": {
          "model_module": "@jupyter-widgets/controls",
          "model_name": "RadioButtonsModel",
          "model_module_version": "1.5.0",
          "state": {
            "_dom_classes": [],
            "_model_module": "@jupyter-widgets/controls",
            "_model_module_version": "1.5.0",
            "_model_name": "RadioButtonsModel",
            "_options_labels": [
              "No",
              "Yes"
            ],
            "_view_count": null,
            "_view_module": "@jupyter-widgets/controls",
            "_view_module_version": "1.5.0",
            "_view_name": "RadioButtonsView",
            "description": "Is this variable Categorical?",
            "description_tooltip": null,
            "disabled": false,
            "index": 0,
            "layout": "IPY_MODEL_8ed402f1e05b4523a622f3367a0ab758",
            "style": "IPY_MODEL_01b917dacf4b4106a9e22d4c7588228b"
          }
        },
        "3f03289b11894ae8abdf5ab8da404822": {
          "model_module": "@jupyter-widgets/base",
          "model_name": "LayoutModel",
          "model_module_version": "1.2.0",
          "state": {
            "_model_module": "@jupyter-widgets/base",
            "_model_module_version": "1.2.0",
            "_model_name": "LayoutModel",
            "_view_count": null,
            "_view_module": "@jupyter-widgets/base",
            "_view_module_version": "1.2.0",
            "_view_name": "LayoutView",
            "align_content": null,
            "align_items": null,
            "align_self": null,
            "border": null,
            "bottom": null,
            "display": null,
            "flex": null,
            "flex_flow": null,
            "grid_area": null,
            "grid_auto_columns": null,
            "grid_auto_flow": null,
            "grid_auto_rows": null,
            "grid_column": null,
            "grid_gap": null,
            "grid_row": null,
            "grid_template_areas": null,
            "grid_template_columns": null,
            "grid_template_rows": null,
            "height": null,
            "justify_content": null,
            "justify_items": null,
            "left": null,
            "margin": null,
            "max_height": null,
            "max_width": null,
            "min_height": null,
            "min_width": null,
            "object_fit": null,
            "object_position": null,
            "order": null,
            "overflow": null,
            "overflow_x": null,
            "overflow_y": null,
            "padding": null,
            "right": null,
            "top": null,
            "visibility": null,
            "width": null
          }
        },
        "b15b1c6cdbe842f1b955f4db5fe57158": {
          "model_module": "@jupyter-widgets/base",
          "model_name": "LayoutModel",
          "model_module_version": "1.2.0",
          "state": {
            "_model_module": "@jupyter-widgets/base",
            "_model_module_version": "1.2.0",
            "_model_name": "LayoutModel",
            "_view_count": null,
            "_view_module": "@jupyter-widgets/base",
            "_view_module_version": "1.2.0",
            "_view_name": "LayoutView",
            "align_content": null,
            "align_items": null,
            "align_self": null,
            "border": null,
            "bottom": null,
            "display": null,
            "flex": null,
            "flex_flow": null,
            "grid_area": null,
            "grid_auto_columns": null,
            "grid_auto_flow": null,
            "grid_auto_rows": null,
            "grid_column": null,
            "grid_gap": null,
            "grid_row": null,
            "grid_template_areas": null,
            "grid_template_columns": null,
            "grid_template_rows": null,
            "height": null,
            "justify_content": null,
            "justify_items": null,
            "left": null,
            "margin": null,
            "max_height": null,
            "max_width": null,
            "min_height": null,
            "min_width": null,
            "object_fit": null,
            "object_position": null,
            "order": null,
            "overflow": null,
            "overflow_x": null,
            "overflow_y": null,
            "padding": null,
            "right": null,
            "top": null,
            "visibility": null,
            "width": null
          }
        },
        "60286f0597dd41f8ac8419d5e9d75de0": {
          "model_module": "@jupyter-widgets/controls",
          "model_name": "DescriptionStyleModel",
          "model_module_version": "1.5.0",
          "state": {
            "_model_module": "@jupyter-widgets/controls",
            "_model_module_version": "1.5.0",
            "_model_name": "DescriptionStyleModel",
            "_view_count": null,
            "_view_module": "@jupyter-widgets/base",
            "_view_module_version": "1.2.0",
            "_view_name": "StyleView",
            "description_width": ""
          }
        },
        "8ed402f1e05b4523a622f3367a0ab758": {
          "model_module": "@jupyter-widgets/base",
          "model_name": "LayoutModel",
          "model_module_version": "1.2.0",
          "state": {
            "_model_module": "@jupyter-widgets/base",
            "_model_module_version": "1.2.0",
            "_model_name": "LayoutModel",
            "_view_count": null,
            "_view_module": "@jupyter-widgets/base",
            "_view_module_version": "1.2.0",
            "_view_name": "LayoutView",
            "align_content": null,
            "align_items": null,
            "align_self": null,
            "border": null,
            "bottom": null,
            "display": "none",
            "flex": null,
            "flex_flow": null,
            "grid_area": null,
            "grid_auto_columns": null,
            "grid_auto_flow": null,
            "grid_auto_rows": null,
            "grid_column": null,
            "grid_gap": null,
            "grid_row": null,
            "grid_template_areas": null,
            "grid_template_columns": null,
            "grid_template_rows": null,
            "height": null,
            "justify_content": null,
            "justify_items": null,
            "left": null,
            "margin": null,
            "max_height": null,
            "max_width": null,
            "min_height": null,
            "min_width": null,
            "object_fit": null,
            "object_position": null,
            "order": null,
            "overflow": null,
            "overflow_x": null,
            "overflow_y": null,
            "padding": null,
            "right": null,
            "top": null,
            "visibility": null,
            "width": "max-content"
          }
        },
        "01b917dacf4b4106a9e22d4c7588228b": {
          "model_module": "@jupyter-widgets/controls",
          "model_name": "DescriptionStyleModel",
          "model_module_version": "1.5.0",
          "state": {
            "_model_module": "@jupyter-widgets/controls",
            "_model_module_version": "1.5.0",
            "_model_name": "DescriptionStyleModel",
            "_view_count": null,
            "_view_module": "@jupyter-widgets/base",
            "_view_module_version": "1.2.0",
            "_view_name": "StyleView",
            "description_width": "initial"
          }
        },
        "1be1cd85001c4b66a429d4f9b121138f": {
          "model_module": "@jupyter-widgets/controls",
          "model_name": "LabelModel",
          "model_module_version": "1.5.0",
          "state": {
            "_dom_classes": [],
            "_model_module": "@jupyter-widgets/controls",
            "_model_module_version": "1.5.0",
            "_model_name": "LabelModel",
            "_view_count": null,
            "_view_module": "@jupyter-widgets/controls",
            "_view_module_version": "1.5.0",
            "_view_name": "LabelView",
            "description": "",
            "description_tooltip": null,
            "layout": "IPY_MODEL_d31081507ee24de9bd36d1ce8e51032e",
            "placeholder": "​",
            "style": "IPY_MODEL_003f7713803344e692902396b2c1701e",
            "value": "Controls:"
          }
        },
        "d31081507ee24de9bd36d1ce8e51032e": {
          "model_module": "@jupyter-widgets/base",
          "model_name": "LayoutModel",
          "model_module_version": "1.2.0",
          "state": {
            "_model_module": "@jupyter-widgets/base",
            "_model_module_version": "1.2.0",
            "_model_name": "LayoutModel",
            "_view_count": null,
            "_view_module": "@jupyter-widgets/base",
            "_view_module_version": "1.2.0",
            "_view_name": "LayoutView",
            "align_content": null,
            "align_items": null,
            "align_self": null,
            "border": null,
            "bottom": null,
            "display": null,
            "flex": null,
            "flex_flow": null,
            "grid_area": null,
            "grid_auto_columns": null,
            "grid_auto_flow": null,
            "grid_auto_rows": null,
            "grid_column": null,
            "grid_gap": null,
            "grid_row": null,
            "grid_template_areas": null,
            "grid_template_columns": null,
            "grid_template_rows": null,
            "height": null,
            "justify_content": null,
            "justify_items": null,
            "left": null,
            "margin": null,
            "max_height": null,
            "max_width": null,
            "min_height": null,
            "min_width": null,
            "object_fit": null,
            "object_position": null,
            "order": null,
            "overflow": null,
            "overflow_x": null,
            "overflow_y": null,
            "padding": null,
            "right": null,
            "top": null,
            "visibility": null,
            "width": null
          }
        },
        "003f7713803344e692902396b2c1701e": {
          "model_module": "@jupyter-widgets/controls",
          "model_name": "DescriptionStyleModel",
          "model_module_version": "1.5.0",
          "state": {
            "_model_module": "@jupyter-widgets/controls",
            "_model_module_version": "1.5.0",
            "_model_name": "DescriptionStyleModel",
            "_view_count": null,
            "_view_module": "@jupyter-widgets/base",
            "_view_module_version": "1.2.0",
            "_view_name": "StyleView",
            "description_width": ""
          }
        },
        "b51ac901dd32475d91c1569ecf1c5231": {
          "model_module": "@jupyter-widgets/controls",
          "model_name": "HBoxModel",
          "model_module_version": "1.5.0",
          "state": {
            "_dom_classes": [],
            "_model_module": "@jupyter-widgets/controls",
            "_model_module_version": "1.5.0",
            "_model_name": "HBoxModel",
            "_view_count": null,
            "_view_module": "@jupyter-widgets/controls",
            "_view_module_version": "1.5.0",
            "_view_name": "HBoxView",
            "box_style": "",
            "children": [
              "IPY_MODEL_2af8ab2ff1a04a868802f681110bce6f",
              "IPY_MODEL_91e80155e9274f7bbf93f3286220d71d"
            ],
            "layout": "IPY_MODEL_8c88e3459c384daa861767b14ebc49b7"
          }
        },
        "2af8ab2ff1a04a868802f681110bce6f": {
          "model_module": "@jupyter-widgets/controls",
          "model_name": "CheckboxModel",
          "model_module_version": "1.5.0",
          "state": {
            "_dom_classes": [],
            "_model_module": "@jupyter-widgets/controls",
            "_model_module_version": "1.5.0",
            "_model_name": "CheckboxModel",
            "_view_count": null,
            "_view_module": "@jupyter-widgets/controls",
            "_view_module_version": "1.5.0",
            "_view_name": "CheckboxView",
            "description": "gender",
            "description_tooltip": null,
            "disabled": false,
            "indent": true,
            "layout": "IPY_MODEL_17d62827338442b08243f9477932a88a",
            "style": "IPY_MODEL_b02d106357fa4847aeec00012b3d382d",
            "value": false
          }
        },
        "91e80155e9274f7bbf93f3286220d71d": {
          "model_module": "@jupyter-widgets/controls",
          "model_name": "RadioButtonsModel",
          "model_module_version": "1.5.0",
          "state": {
            "_dom_classes": [],
            "_model_module": "@jupyter-widgets/controls",
            "_model_module_version": "1.5.0",
            "_model_name": "RadioButtonsModel",
            "_options_labels": [
              "No",
              "Yes"
            ],
            "_view_count": null,
            "_view_module": "@jupyter-widgets/controls",
            "_view_module_version": "1.5.0",
            "_view_name": "RadioButtonsView",
            "description": "Is this variable Categorical?",
            "description_tooltip": null,
            "disabled": false,
            "index": 0,
            "layout": "IPY_MODEL_734c9261514444848b5507d03fe85db8",
            "style": "IPY_MODEL_566891afefe041a4935ae2c426a42c2c"
          }
        },
        "8c88e3459c384daa861767b14ebc49b7": {
          "model_module": "@jupyter-widgets/base",
          "model_name": "LayoutModel",
          "model_module_version": "1.2.0",
          "state": {
            "_model_module": "@jupyter-widgets/base",
            "_model_module_version": "1.2.0",
            "_model_name": "LayoutModel",
            "_view_count": null,
            "_view_module": "@jupyter-widgets/base",
            "_view_module_version": "1.2.0",
            "_view_name": "LayoutView",
            "align_content": null,
            "align_items": null,
            "align_self": null,
            "border": null,
            "bottom": null,
            "display": null,
            "flex": null,
            "flex_flow": null,
            "grid_area": null,
            "grid_auto_columns": null,
            "grid_auto_flow": null,
            "grid_auto_rows": null,
            "grid_column": null,
            "grid_gap": null,
            "grid_row": null,
            "grid_template_areas": null,
            "grid_template_columns": null,
            "grid_template_rows": null,
            "height": null,
            "justify_content": null,
            "justify_items": null,
            "left": null,
            "margin": null,
            "max_height": null,
            "max_width": null,
            "min_height": null,
            "min_width": null,
            "object_fit": null,
            "object_position": null,
            "order": null,
            "overflow": null,
            "overflow_x": null,
            "overflow_y": null,
            "padding": null,
            "right": null,
            "top": null,
            "visibility": null,
            "width": null
          }
        },
        "17d62827338442b08243f9477932a88a": {
          "model_module": "@jupyter-widgets/base",
          "model_name": "LayoutModel",
          "model_module_version": "1.2.0",
          "state": {
            "_model_module": "@jupyter-widgets/base",
            "_model_module_version": "1.2.0",
            "_model_name": "LayoutModel",
            "_view_count": null,
            "_view_module": "@jupyter-widgets/base",
            "_view_module_version": "1.2.0",
            "_view_name": "LayoutView",
            "align_content": null,
            "align_items": null,
            "align_self": null,
            "border": null,
            "bottom": null,
            "display": null,
            "flex": null,
            "flex_flow": null,
            "grid_area": null,
            "grid_auto_columns": null,
            "grid_auto_flow": null,
            "grid_auto_rows": null,
            "grid_column": null,
            "grid_gap": null,
            "grid_row": null,
            "grid_template_areas": null,
            "grid_template_columns": null,
            "grid_template_rows": null,
            "height": null,
            "justify_content": null,
            "justify_items": null,
            "left": null,
            "margin": null,
            "max_height": null,
            "max_width": null,
            "min_height": null,
            "min_width": null,
            "object_fit": null,
            "object_position": null,
            "order": null,
            "overflow": null,
            "overflow_x": null,
            "overflow_y": null,
            "padding": null,
            "right": null,
            "top": null,
            "visibility": null,
            "width": null
          }
        },
        "b02d106357fa4847aeec00012b3d382d": {
          "model_module": "@jupyter-widgets/controls",
          "model_name": "DescriptionStyleModel",
          "model_module_version": "1.5.0",
          "state": {
            "_model_module": "@jupyter-widgets/controls",
            "_model_module_version": "1.5.0",
            "_model_name": "DescriptionStyleModel",
            "_view_count": null,
            "_view_module": "@jupyter-widgets/base",
            "_view_module_version": "1.2.0",
            "_view_name": "StyleView",
            "description_width": ""
          }
        },
        "734c9261514444848b5507d03fe85db8": {
          "model_module": "@jupyter-widgets/base",
          "model_name": "LayoutModel",
          "model_module_version": "1.2.0",
          "state": {
            "_model_module": "@jupyter-widgets/base",
            "_model_module_version": "1.2.0",
            "_model_name": "LayoutModel",
            "_view_count": null,
            "_view_module": "@jupyter-widgets/base",
            "_view_module_version": "1.2.0",
            "_view_name": "LayoutView",
            "align_content": null,
            "align_items": null,
            "align_self": null,
            "border": null,
            "bottom": null,
            "display": "none",
            "flex": null,
            "flex_flow": null,
            "grid_area": null,
            "grid_auto_columns": null,
            "grid_auto_flow": null,
            "grid_auto_rows": null,
            "grid_column": null,
            "grid_gap": null,
            "grid_row": null,
            "grid_template_areas": null,
            "grid_template_columns": null,
            "grid_template_rows": null,
            "height": null,
            "justify_content": null,
            "justify_items": null,
            "left": null,
            "margin": null,
            "max_height": null,
            "max_width": null,
            "min_height": null,
            "min_width": null,
            "object_fit": null,
            "object_position": null,
            "order": null,
            "overflow": null,
            "overflow_x": null,
            "overflow_y": null,
            "padding": null,
            "right": null,
            "top": null,
            "visibility": null,
            "width": "max-content"
          }
        },
        "566891afefe041a4935ae2c426a42c2c": {
          "model_module": "@jupyter-widgets/controls",
          "model_name": "DescriptionStyleModel",
          "model_module_version": "1.5.0",
          "state": {
            "_model_module": "@jupyter-widgets/controls",
            "_model_module_version": "1.5.0",
            "_model_name": "DescriptionStyleModel",
            "_view_count": null,
            "_view_module": "@jupyter-widgets/base",
            "_view_module_version": "1.2.0",
            "_view_name": "StyleView",
            "description_width": "initial"
          }
        },
        "7e01457d17f246b6912ee7b046fce369": {
          "model_module": "@jupyter-widgets/controls",
          "model_name": "HBoxModel",
          "model_module_version": "1.5.0",
          "state": {
            "_dom_classes": [],
            "_model_module": "@jupyter-widgets/controls",
            "_model_module_version": "1.5.0",
            "_model_name": "HBoxModel",
            "_view_count": null,
            "_view_module": "@jupyter-widgets/controls",
            "_view_module_version": "1.5.0",
            "_view_name": "HBoxView",
            "box_style": "",
            "children": [
              "IPY_MODEL_9c1a39f266004cfe9e3f59070c73e162",
              "IPY_MODEL_ac1c45fa632b46809a8863c4c0aa9780"
            ],
            "layout": "IPY_MODEL_eca1c7196b7a418082bec75f5b154cea"
          }
        },
        "9c1a39f266004cfe9e3f59070c73e162": {
          "model_module": "@jupyter-widgets/controls",
          "model_name": "CheckboxModel",
          "model_module_version": "1.5.0",
          "state": {
            "_dom_classes": [],
            "_model_module": "@jupyter-widgets/controls",
            "_model_module_version": "1.5.0",
            "_model_name": "CheckboxModel",
            "_view_count": null,
            "_view_module": "@jupyter-widgets/controls",
            "_view_module_version": "1.5.0",
            "_view_name": "CheckboxView",
            "description": "age",
            "description_tooltip": null,
            "disabled": false,
            "indent": true,
            "layout": "IPY_MODEL_d6406b0ae6914e23a60915a7de17ca5a",
            "style": "IPY_MODEL_857739bd33904194a610f2e28278e491",
            "value": false
          }
        },
        "ac1c45fa632b46809a8863c4c0aa9780": {
          "model_module": "@jupyter-widgets/controls",
          "model_name": "RadioButtonsModel",
          "model_module_version": "1.5.0",
          "state": {
            "_dom_classes": [],
            "_model_module": "@jupyter-widgets/controls",
            "_model_module_version": "1.5.0",
            "_model_name": "RadioButtonsModel",
            "_options_labels": [
              "No",
              "Yes"
            ],
            "_view_count": null,
            "_view_module": "@jupyter-widgets/controls",
            "_view_module_version": "1.5.0",
            "_view_name": "RadioButtonsView",
            "description": "Is this variable Categorical?",
            "description_tooltip": null,
            "disabled": false,
            "index": 0,
            "layout": "IPY_MODEL_56f087ed98104aa6868759435759e8fd",
            "style": "IPY_MODEL_ee17364861f9423694857182a6c59251"
          }
        },
        "eca1c7196b7a418082bec75f5b154cea": {
          "model_module": "@jupyter-widgets/base",
          "model_name": "LayoutModel",
          "model_module_version": "1.2.0",
          "state": {
            "_model_module": "@jupyter-widgets/base",
            "_model_module_version": "1.2.0",
            "_model_name": "LayoutModel",
            "_view_count": null,
            "_view_module": "@jupyter-widgets/base",
            "_view_module_version": "1.2.0",
            "_view_name": "LayoutView",
            "align_content": null,
            "align_items": null,
            "align_self": null,
            "border": null,
            "bottom": null,
            "display": null,
            "flex": null,
            "flex_flow": null,
            "grid_area": null,
            "grid_auto_columns": null,
            "grid_auto_flow": null,
            "grid_auto_rows": null,
            "grid_column": null,
            "grid_gap": null,
            "grid_row": null,
            "grid_template_areas": null,
            "grid_template_columns": null,
            "grid_template_rows": null,
            "height": null,
            "justify_content": null,
            "justify_items": null,
            "left": null,
            "margin": null,
            "max_height": null,
            "max_width": null,
            "min_height": null,
            "min_width": null,
            "object_fit": null,
            "object_position": null,
            "order": null,
            "overflow": null,
            "overflow_x": null,
            "overflow_y": null,
            "padding": null,
            "right": null,
            "top": null,
            "visibility": null,
            "width": null
          }
        },
        "d6406b0ae6914e23a60915a7de17ca5a": {
          "model_module": "@jupyter-widgets/base",
          "model_name": "LayoutModel",
          "model_module_version": "1.2.0",
          "state": {
            "_model_module": "@jupyter-widgets/base",
            "_model_module_version": "1.2.0",
            "_model_name": "LayoutModel",
            "_view_count": null,
            "_view_module": "@jupyter-widgets/base",
            "_view_module_version": "1.2.0",
            "_view_name": "LayoutView",
            "align_content": null,
            "align_items": null,
            "align_self": null,
            "border": null,
            "bottom": null,
            "display": null,
            "flex": null,
            "flex_flow": null,
            "grid_area": null,
            "grid_auto_columns": null,
            "grid_auto_flow": null,
            "grid_auto_rows": null,
            "grid_column": null,
            "grid_gap": null,
            "grid_row": null,
            "grid_template_areas": null,
            "grid_template_columns": null,
            "grid_template_rows": null,
            "height": null,
            "justify_content": null,
            "justify_items": null,
            "left": null,
            "margin": null,
            "max_height": null,
            "max_width": null,
            "min_height": null,
            "min_width": null,
            "object_fit": null,
            "object_position": null,
            "order": null,
            "overflow": null,
            "overflow_x": null,
            "overflow_y": null,
            "padding": null,
            "right": null,
            "top": null,
            "visibility": null,
            "width": null
          }
        },
        "857739bd33904194a610f2e28278e491": {
          "model_module": "@jupyter-widgets/controls",
          "model_name": "DescriptionStyleModel",
          "model_module_version": "1.5.0",
          "state": {
            "_model_module": "@jupyter-widgets/controls",
            "_model_module_version": "1.5.0",
            "_model_name": "DescriptionStyleModel",
            "_view_count": null,
            "_view_module": "@jupyter-widgets/base",
            "_view_module_version": "1.2.0",
            "_view_name": "StyleView",
            "description_width": ""
          }
        },
        "56f087ed98104aa6868759435759e8fd": {
          "model_module": "@jupyter-widgets/base",
          "model_name": "LayoutModel",
          "model_module_version": "1.2.0",
          "state": {
            "_model_module": "@jupyter-widgets/base",
            "_model_module_version": "1.2.0",
            "_model_name": "LayoutModel",
            "_view_count": null,
            "_view_module": "@jupyter-widgets/base",
            "_view_module_version": "1.2.0",
            "_view_name": "LayoutView",
            "align_content": null,
            "align_items": null,
            "align_self": null,
            "border": null,
            "bottom": null,
            "display": "none",
            "flex": null,
            "flex_flow": null,
            "grid_area": null,
            "grid_auto_columns": null,
            "grid_auto_flow": null,
            "grid_auto_rows": null,
            "grid_column": null,
            "grid_gap": null,
            "grid_row": null,
            "grid_template_areas": null,
            "grid_template_columns": null,
            "grid_template_rows": null,
            "height": null,
            "justify_content": null,
            "justify_items": null,
            "left": null,
            "margin": null,
            "max_height": null,
            "max_width": null,
            "min_height": null,
            "min_width": null,
            "object_fit": null,
            "object_position": null,
            "order": null,
            "overflow": null,
            "overflow_x": null,
            "overflow_y": null,
            "padding": null,
            "right": null,
            "top": null,
            "visibility": null,
            "width": "max-content"
          }
        },
        "ee17364861f9423694857182a6c59251": {
          "model_module": "@jupyter-widgets/controls",
          "model_name": "DescriptionStyleModel",
          "model_module_version": "1.5.0",
          "state": {
            "_model_module": "@jupyter-widgets/controls",
            "_model_module_version": "1.5.0",
            "_model_name": "DescriptionStyleModel",
            "_view_count": null,
            "_view_module": "@jupyter-widgets/base",
            "_view_module_version": "1.2.0",
            "_view_name": "StyleView",
            "description_width": "initial"
          }
        },
        "61cbb279e66e42b49f11b84c82868081": {
          "model_module": "@jupyter-widgets/controls",
          "model_name": "HBoxModel",
          "model_module_version": "1.5.0",
          "state": {
            "_dom_classes": [],
            "_model_module": "@jupyter-widgets/controls",
            "_model_module_version": "1.5.0",
            "_model_name": "HBoxModel",
            "_view_count": null,
            "_view_module": "@jupyter-widgets/controls",
            "_view_module_version": "1.5.0",
            "_view_name": "HBoxView",
            "box_style": "",
            "children": [
              "IPY_MODEL_81d690ac3f8048ba848b23902f167248",
              "IPY_MODEL_a4eb17b5f5d04b238b064391b63d7653"
            ],
            "layout": "IPY_MODEL_dc2d16b27f3b43819fa1842206ca2ee7"
          }
        },
        "81d690ac3f8048ba848b23902f167248": {
          "model_module": "@jupyter-widgets/controls",
          "model_name": "CheckboxModel",
          "model_module_version": "1.5.0",
          "state": {
            "_dom_classes": [],
            "_model_module": "@jupyter-widgets/controls",
            "_model_module_version": "1.5.0",
            "_model_name": "CheckboxModel",
            "_view_count": null,
            "_view_module": "@jupyter-widgets/controls",
            "_view_module_version": "1.5.0",
            "_view_name": "CheckboxView",
            "description": "occu",
            "description_tooltip": null,
            "disabled": false,
            "indent": true,
            "layout": "IPY_MODEL_ea24d57fe9e74ed983b3c8bff3775774",
            "style": "IPY_MODEL_2f6714d8ff9443bab289323e2ea03ae7",
            "value": false
          }
        },
        "a4eb17b5f5d04b238b064391b63d7653": {
          "model_module": "@jupyter-widgets/controls",
          "model_name": "RadioButtonsModel",
          "model_module_version": "1.5.0",
          "state": {
            "_dom_classes": [],
            "_model_module": "@jupyter-widgets/controls",
            "_model_module_version": "1.5.0",
            "_model_name": "RadioButtonsModel",
            "_options_labels": [
              "No",
              "Yes"
            ],
            "_view_count": null,
            "_view_module": "@jupyter-widgets/controls",
            "_view_module_version": "1.5.0",
            "_view_name": "RadioButtonsView",
            "description": "Is this variable Categorical?",
            "description_tooltip": null,
            "disabled": false,
            "index": 0,
            "layout": "IPY_MODEL_73d857a4016843b1b5ba4d8bce2bdc8a",
            "style": "IPY_MODEL_a3c7d50fbec8427ea28a5ae7ae859f1b"
          }
        },
        "dc2d16b27f3b43819fa1842206ca2ee7": {
          "model_module": "@jupyter-widgets/base",
          "model_name": "LayoutModel",
          "model_module_version": "1.2.0",
          "state": {
            "_model_module": "@jupyter-widgets/base",
            "_model_module_version": "1.2.0",
            "_model_name": "LayoutModel",
            "_view_count": null,
            "_view_module": "@jupyter-widgets/base",
            "_view_module_version": "1.2.0",
            "_view_name": "LayoutView",
            "align_content": null,
            "align_items": null,
            "align_self": null,
            "border": null,
            "bottom": null,
            "display": null,
            "flex": null,
            "flex_flow": null,
            "grid_area": null,
            "grid_auto_columns": null,
            "grid_auto_flow": null,
            "grid_auto_rows": null,
            "grid_column": null,
            "grid_gap": null,
            "grid_row": null,
            "grid_template_areas": null,
            "grid_template_columns": null,
            "grid_template_rows": null,
            "height": null,
            "justify_content": null,
            "justify_items": null,
            "left": null,
            "margin": null,
            "max_height": null,
            "max_width": null,
            "min_height": null,
            "min_width": null,
            "object_fit": null,
            "object_position": null,
            "order": null,
            "overflow": null,
            "overflow_x": null,
            "overflow_y": null,
            "padding": null,
            "right": null,
            "top": null,
            "visibility": null,
            "width": null
          }
        },
        "ea24d57fe9e74ed983b3c8bff3775774": {
          "model_module": "@jupyter-widgets/base",
          "model_name": "LayoutModel",
          "model_module_version": "1.2.0",
          "state": {
            "_model_module": "@jupyter-widgets/base",
            "_model_module_version": "1.2.0",
            "_model_name": "LayoutModel",
            "_view_count": null,
            "_view_module": "@jupyter-widgets/base",
            "_view_module_version": "1.2.0",
            "_view_name": "LayoutView",
            "align_content": null,
            "align_items": null,
            "align_self": null,
            "border": null,
            "bottom": null,
            "display": null,
            "flex": null,
            "flex_flow": null,
            "grid_area": null,
            "grid_auto_columns": null,
            "grid_auto_flow": null,
            "grid_auto_rows": null,
            "grid_column": null,
            "grid_gap": null,
            "grid_row": null,
            "grid_template_areas": null,
            "grid_template_columns": null,
            "grid_template_rows": null,
            "height": null,
            "justify_content": null,
            "justify_items": null,
            "left": null,
            "margin": null,
            "max_height": null,
            "max_width": null,
            "min_height": null,
            "min_width": null,
            "object_fit": null,
            "object_position": null,
            "order": null,
            "overflow": null,
            "overflow_x": null,
            "overflow_y": null,
            "padding": null,
            "right": null,
            "top": null,
            "visibility": null,
            "width": null
          }
        },
        "2f6714d8ff9443bab289323e2ea03ae7": {
          "model_module": "@jupyter-widgets/controls",
          "model_name": "DescriptionStyleModel",
          "model_module_version": "1.5.0",
          "state": {
            "_model_module": "@jupyter-widgets/controls",
            "_model_module_version": "1.5.0",
            "_model_name": "DescriptionStyleModel",
            "_view_count": null,
            "_view_module": "@jupyter-widgets/base",
            "_view_module_version": "1.2.0",
            "_view_name": "StyleView",
            "description_width": ""
          }
        },
        "73d857a4016843b1b5ba4d8bce2bdc8a": {
          "model_module": "@jupyter-widgets/base",
          "model_name": "LayoutModel",
          "model_module_version": "1.2.0",
          "state": {
            "_model_module": "@jupyter-widgets/base",
            "_model_module_version": "1.2.0",
            "_model_name": "LayoutModel",
            "_view_count": null,
            "_view_module": "@jupyter-widgets/base",
            "_view_module_version": "1.2.0",
            "_view_name": "LayoutView",
            "align_content": null,
            "align_items": null,
            "align_self": null,
            "border": null,
            "bottom": null,
            "display": "none",
            "flex": null,
            "flex_flow": null,
            "grid_area": null,
            "grid_auto_columns": null,
            "grid_auto_flow": null,
            "grid_auto_rows": null,
            "grid_column": null,
            "grid_gap": null,
            "grid_row": null,
            "grid_template_areas": null,
            "grid_template_columns": null,
            "grid_template_rows": null,
            "height": null,
            "justify_content": null,
            "justify_items": null,
            "left": null,
            "margin": null,
            "max_height": null,
            "max_width": null,
            "min_height": null,
            "min_width": null,
            "object_fit": null,
            "object_position": null,
            "order": null,
            "overflow": null,
            "overflow_x": null,
            "overflow_y": null,
            "padding": null,
            "right": null,
            "top": null,
            "visibility": null,
            "width": "max-content"
          }
        },
        "a3c7d50fbec8427ea28a5ae7ae859f1b": {
          "model_module": "@jupyter-widgets/controls",
          "model_name": "DescriptionStyleModel",
          "model_module_version": "1.5.0",
          "state": {
            "_model_module": "@jupyter-widgets/controls",
            "_model_module_version": "1.5.0",
            "_model_name": "DescriptionStyleModel",
            "_view_count": null,
            "_view_module": "@jupyter-widgets/base",
            "_view_module_version": "1.2.0",
            "_view_name": "StyleView",
            "description_width": "initial"
          }
        },
        "eb95137247934515909e64c840414359": {
          "model_module": "@jupyter-widgets/controls",
          "model_name": "HBoxModel",
          "model_module_version": "1.5.0",
          "state": {
            "_dom_classes": [],
            "_model_module": "@jupyter-widgets/controls",
            "_model_module_version": "1.5.0",
            "_model_name": "HBoxModel",
            "_view_count": null,
            "_view_module": "@jupyter-widgets/controls",
            "_view_module_version": "1.5.0",
            "_view_name": "HBoxView",
            "box_style": "",
            "children": [
              "IPY_MODEL_4fd897dfab4d41b9bec46dbb6e0ea084",
              "IPY_MODEL_fdfd64a2519c45bbae952e700b12a658"
            ],
            "layout": "IPY_MODEL_c18549a5c895439291c8d72f55163e54"
          }
        },
        "4fd897dfab4d41b9bec46dbb6e0ea084": {
          "model_module": "@jupyter-widgets/controls",
          "model_name": "CheckboxModel",
          "model_module_version": "1.5.0",
          "state": {
            "_dom_classes": [],
            "_model_module": "@jupyter-widgets/controls",
            "_model_module_version": "1.5.0",
            "_model_name": "CheckboxModel",
            "_view_count": null,
            "_view_module": "@jupyter-widgets/controls",
            "_view_module_version": "1.5.0",
            "_view_name": "CheckboxView",
            "description": "is_student",
            "description_tooltip": null,
            "disabled": false,
            "indent": true,
            "layout": "IPY_MODEL_b5f0a57723f74c77a394f6dd6466b82c",
            "style": "IPY_MODEL_118323bcce6b483bb5d17b2aa7383f21",
            "value": false
          }
        },
        "fdfd64a2519c45bbae952e700b12a658": {
          "model_module": "@jupyter-widgets/controls",
          "model_name": "RadioButtonsModel",
          "model_module_version": "1.5.0",
          "state": {
            "_dom_classes": [],
            "_model_module": "@jupyter-widgets/controls",
            "_model_module_version": "1.5.0",
            "_model_name": "RadioButtonsModel",
            "_options_labels": [
              "No",
              "Yes"
            ],
            "_view_count": null,
            "_view_module": "@jupyter-widgets/controls",
            "_view_module_version": "1.5.0",
            "_view_name": "RadioButtonsView",
            "description": "Is this variable Categorical?",
            "description_tooltip": null,
            "disabled": false,
            "index": 0,
            "layout": "IPY_MODEL_fc55ce344ef840aa90ef6ea0ec9090b3",
            "style": "IPY_MODEL_0402c7fafcae4367992176d38a3fb0a6"
          }
        },
        "c18549a5c895439291c8d72f55163e54": {
          "model_module": "@jupyter-widgets/base",
          "model_name": "LayoutModel",
          "model_module_version": "1.2.0",
          "state": {
            "_model_module": "@jupyter-widgets/base",
            "_model_module_version": "1.2.0",
            "_model_name": "LayoutModel",
            "_view_count": null,
            "_view_module": "@jupyter-widgets/base",
            "_view_module_version": "1.2.0",
            "_view_name": "LayoutView",
            "align_content": null,
            "align_items": null,
            "align_self": null,
            "border": null,
            "bottom": null,
            "display": null,
            "flex": null,
            "flex_flow": null,
            "grid_area": null,
            "grid_auto_columns": null,
            "grid_auto_flow": null,
            "grid_auto_rows": null,
            "grid_column": null,
            "grid_gap": null,
            "grid_row": null,
            "grid_template_areas": null,
            "grid_template_columns": null,
            "grid_template_rows": null,
            "height": null,
            "justify_content": null,
            "justify_items": null,
            "left": null,
            "margin": null,
            "max_height": null,
            "max_width": null,
            "min_height": null,
            "min_width": null,
            "object_fit": null,
            "object_position": null,
            "order": null,
            "overflow": null,
            "overflow_x": null,
            "overflow_y": null,
            "padding": null,
            "right": null,
            "top": null,
            "visibility": null,
            "width": null
          }
        },
        "b5f0a57723f74c77a394f6dd6466b82c": {
          "model_module": "@jupyter-widgets/base",
          "model_name": "LayoutModel",
          "model_module_version": "1.2.0",
          "state": {
            "_model_module": "@jupyter-widgets/base",
            "_model_module_version": "1.2.0",
            "_model_name": "LayoutModel",
            "_view_count": null,
            "_view_module": "@jupyter-widgets/base",
            "_view_module_version": "1.2.0",
            "_view_name": "LayoutView",
            "align_content": null,
            "align_items": null,
            "align_self": null,
            "border": null,
            "bottom": null,
            "display": null,
            "flex": null,
            "flex_flow": null,
            "grid_area": null,
            "grid_auto_columns": null,
            "grid_auto_flow": null,
            "grid_auto_rows": null,
            "grid_column": null,
            "grid_gap": null,
            "grid_row": null,
            "grid_template_areas": null,
            "grid_template_columns": null,
            "grid_template_rows": null,
            "height": null,
            "justify_content": null,
            "justify_items": null,
            "left": null,
            "margin": null,
            "max_height": null,
            "max_width": null,
            "min_height": null,
            "min_width": null,
            "object_fit": null,
            "object_position": null,
            "order": null,
            "overflow": null,
            "overflow_x": null,
            "overflow_y": null,
            "padding": null,
            "right": null,
            "top": null,
            "visibility": null,
            "width": null
          }
        },
        "118323bcce6b483bb5d17b2aa7383f21": {
          "model_module": "@jupyter-widgets/controls",
          "model_name": "DescriptionStyleModel",
          "model_module_version": "1.5.0",
          "state": {
            "_model_module": "@jupyter-widgets/controls",
            "_model_module_version": "1.5.0",
            "_model_name": "DescriptionStyleModel",
            "_view_count": null,
            "_view_module": "@jupyter-widgets/base",
            "_view_module_version": "1.2.0",
            "_view_name": "StyleView",
            "description_width": ""
          }
        },
        "fc55ce344ef840aa90ef6ea0ec9090b3": {
          "model_module": "@jupyter-widgets/base",
          "model_name": "LayoutModel",
          "model_module_version": "1.2.0",
          "state": {
            "_model_module": "@jupyter-widgets/base",
            "_model_module_version": "1.2.0",
            "_model_name": "LayoutModel",
            "_view_count": null,
            "_view_module": "@jupyter-widgets/base",
            "_view_module_version": "1.2.0",
            "_view_name": "LayoutView",
            "align_content": null,
            "align_items": null,
            "align_self": null,
            "border": null,
            "bottom": null,
            "display": "none",
            "flex": null,
            "flex_flow": null,
            "grid_area": null,
            "grid_auto_columns": null,
            "grid_auto_flow": null,
            "grid_auto_rows": null,
            "grid_column": null,
            "grid_gap": null,
            "grid_row": null,
            "grid_template_areas": null,
            "grid_template_columns": null,
            "grid_template_rows": null,
            "height": null,
            "justify_content": null,
            "justify_items": null,
            "left": null,
            "margin": null,
            "max_height": null,
            "max_width": null,
            "min_height": null,
            "min_width": null,
            "object_fit": null,
            "object_position": null,
            "order": null,
            "overflow": null,
            "overflow_x": null,
            "overflow_y": null,
            "padding": null,
            "right": null,
            "top": null,
            "visibility": null,
            "width": "max-content"
          }
        },
        "0402c7fafcae4367992176d38a3fb0a6": {
          "model_module": "@jupyter-widgets/controls",
          "model_name": "DescriptionStyleModel",
          "model_module_version": "1.5.0",
          "state": {
            "_model_module": "@jupyter-widgets/controls",
            "_model_module_version": "1.5.0",
            "_model_name": "DescriptionStyleModel",
            "_view_count": null,
            "_view_module": "@jupyter-widgets/base",
            "_view_module_version": "1.2.0",
            "_view_name": "StyleView",
            "description_width": "initial"
          }
        },
        "7d9dc61c36834702bac155cfd015263b": {
          "model_module": "@jupyter-widgets/controls",
          "model_name": "ButtonModel",
          "model_module_version": "1.5.0",
          "state": {
            "_dom_classes": [],
            "_model_module": "@jupyter-widgets/controls",
            "_model_module_version": "1.5.0",
            "_model_name": "ButtonModel",
            "_view_count": null,
            "_view_module": "@jupyter-widgets/controls",
            "_view_module_version": "1.5.0",
            "_view_name": "ButtonView",
            "button_style": "",
            "description": "Submit",
            "disabled": false,
            "icon": "",
            "layout": "IPY_MODEL_8a31dc3277e84270b821878b1ae15d7e",
            "style": "IPY_MODEL_f4020b18c1bd4b28a7b46a3a35b3a45e",
            "tooltip": ""
          }
        },
        "8a31dc3277e84270b821878b1ae15d7e": {
          "model_module": "@jupyter-widgets/base",
          "model_name": "LayoutModel",
          "model_module_version": "1.2.0",
          "state": {
            "_model_module": "@jupyter-widgets/base",
            "_model_module_version": "1.2.0",
            "_model_name": "LayoutModel",
            "_view_count": null,
            "_view_module": "@jupyter-widgets/base",
            "_view_module_version": "1.2.0",
            "_view_name": "LayoutView",
            "align_content": null,
            "align_items": null,
            "align_self": null,
            "border": null,
            "bottom": null,
            "display": null,
            "flex": null,
            "flex_flow": null,
            "grid_area": null,
            "grid_auto_columns": null,
            "grid_auto_flow": null,
            "grid_auto_rows": null,
            "grid_column": null,
            "grid_gap": null,
            "grid_row": null,
            "grid_template_areas": null,
            "grid_template_columns": null,
            "grid_template_rows": null,
            "height": null,
            "justify_content": null,
            "justify_items": null,
            "left": null,
            "margin": null,
            "max_height": null,
            "max_width": null,
            "min_height": null,
            "min_width": null,
            "object_fit": null,
            "object_position": null,
            "order": null,
            "overflow": null,
            "overflow_x": null,
            "overflow_y": null,
            "padding": null,
            "right": null,
            "top": null,
            "visibility": null,
            "width": null
          }
        },
        "f4020b18c1bd4b28a7b46a3a35b3a45e": {
          "model_module": "@jupyter-widgets/controls",
          "model_name": "ButtonStyleModel",
          "model_module_version": "1.5.0",
          "state": {
            "_model_module": "@jupyter-widgets/controls",
            "_model_module_version": "1.5.0",
            "_model_name": "ButtonStyleModel",
            "_view_count": null,
            "_view_module": "@jupyter-widgets/base",
            "_view_module_version": "1.2.0",
            "_view_name": "StyleView",
            "button_color": null,
            "font_weight": ""
          }
        }
      }
    }
  },
  "nbformat": 4,
  "nbformat_minor": 0
}