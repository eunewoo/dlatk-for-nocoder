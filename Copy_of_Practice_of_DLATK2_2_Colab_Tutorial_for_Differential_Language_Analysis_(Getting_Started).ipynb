{
  "cells": [
    {
      "cell_type": "markdown",
      "metadata": {
        "id": "view-in-github",
        "colab_type": "text"
      },
      "source": [
        "<a href=\"https://colab.research.google.com/github/eunewoo/dlatk-for-nocoder/blob/main/Copy_of_Practice_of_DLATK2_2_Colab_Tutorial_for_Differential_Language_Analysis_(Getting_Started).ipynb\" target=\"_parent\"><img src=\"https://colab.research.google.com/assets/colab-badge.svg\" alt=\"Open In Colab\"/></a>"
      ]
    },
    {
      "cell_type": "markdown",
      "metadata": {
        "id": "0Jf8iKr5C_nO"
      },
      "source": [
        "<h1> DLATK - Colab Tutorial for Differential Language Analysis </h1>\n",
        "\n",
        "This tutorial covers:\n",
        "\n",
        "<img src=\"https://drive.google.com/uc?export=view&id=16SgSLj9KkmxUX8LEeFNsq0GRE4gqvQux\" height=\"170\"/>"
      ]
    },
    {
      "cell_type": "markdown",
      "metadata": {
        "id": "-TnZ_cBOTGBZ"
      },
      "source": [
        "# STEP1: Setup Colab\n"
      ]
    },
    {
      "cell_type": "code",
      "source": [
        "#@markdown Click the __Play button__ to the left to start the setup. Proceed to the next stage once you see:\n",
        "\n",
        "#@markdown \"DLATK setup completed successfully. Enjoy your analysis!\"\n",
        "\n",
        "from IPython.utils import io\n",
        "import subprocess\n",
        "\n",
        "# Additional components to allow continuation into text and ID column selection and feature extraction\n",
        "text_column_name = None\n",
        "id_column_name = None\n",
        "\n",
        "def setup_dlatk():\n",
        "    # Install DLATK with additional features\n",
        "    subprocess.run(\"pip install dlatk[wordcloud,langid]\", shell=True)\n",
        "\n",
        "    # Initialize DLATK for Colab environment\n",
        "    result = subprocess.run(\"dlatkInterface.py --colabify\", shell=True, capture_output=True, text=True)\n",
        "\n",
        "    # Optional: Adjust Colab output for a better experience\n",
        "    try:\n",
        "        from dlatk.tools.colab_methods import colab_shorten_and_bg\n",
        "        colab_shorten_and_bg()  # This shortens output blocks and changes the output background color.\n",
        "    except ImportError as e:\n",
        "        print(\"Some optional setup steps failed:\", e)\n",
        "\n",
        "    return result.stdout + '\\n' + result.stderr\n",
        "\n",
        "# Suppressing the output of the main installation and setup commands\n",
        "with io.capture_output() as captured:\n",
        "    setup_output = setup_dlatk()\n",
        "\n",
        "# Check the captured output for a specific success message\n",
        "if 'DLATK exits with success! A good day indeed' in setup_output:\n",
        "    print(\"DLATK setup completed successfully. Enjoy your analysis!\")\n",
        "else:\n",
        "    print(\"DLATK setup may have encountered issues. Please check the logs for more details.\")\n"
      ],
      "metadata": {
        "id": "a2iGmGWKdcO5",
        "outputId": "6cb522ea-ec07-4964-b084-7dc43ea75682",
        "colab": {
          "base_uri": "https://localhost:8080/",
          "height": 34
        }
      },
      "execution_count": 26,
      "outputs": [
        {
          "output_type": "display_data",
          "data": {
            "text/plain": [
              "<IPython.core.display.Javascript object>"
            ],
            "application/javascript": [
              "google.colab.output.setIframeHeight(0, true, {maxHeight: 250})"
            ]
          },
          "metadata": {}
        },
        {
          "output_type": "display_data",
          "data": {
            "text/plain": [
              "<IPython.core.display.HTML object>"
            ],
            "text/html": [
              "<style> body {background-color: rgb(255, 250, 232);}</style>"
            ]
          },
          "metadata": {}
        },
        {
          "output_type": "display_data",
          "data": {
            "text/plain": [
              "<IPython.core.display.Javascript object>"
            ],
            "application/javascript": [
              "google.colab.output.setIframeHeight(0, true, {maxHeight: 250})"
            ]
          },
          "metadata": {}
        },
        {
          "output_type": "display_data",
          "data": {
            "text/plain": [
              "<IPython.core.display.HTML object>"
            ],
            "text/html": [
              "<style> body {background-color: rgb(255, 250, 232);}</style>"
            ]
          },
          "metadata": {}
        },
        {
          "output_type": "display_data",
          "data": {
            "text/plain": [
              "<IPython.core.display.Javascript object>"
            ],
            "application/javascript": [
              "google.colab.output.setIframeHeight(0, true, {maxHeight: 250})"
            ]
          },
          "metadata": {}
        },
        {
          "output_type": "display_data",
          "data": {
            "text/plain": [
              "<IPython.core.display.HTML object>"
            ],
            "text/html": [
              "<style> body {background-color: rgb(255, 250, 232);}</style>"
            ]
          },
          "metadata": {}
        },
        {
          "output_type": "display_data",
          "data": {
            "text/plain": [
              "<IPython.core.display.Javascript object>"
            ],
            "application/javascript": [
              "google.colab.output.setIframeHeight(0, true, {maxHeight: 250})"
            ]
          },
          "metadata": {}
        },
        {
          "output_type": "display_data",
          "data": {
            "text/plain": [
              "<IPython.core.display.HTML object>"
            ],
            "text/html": [
              "<style> body {background-color: rgb(255, 250, 232);}</style>"
            ]
          },
          "metadata": {}
        },
        {
          "output_type": "display_data",
          "data": {
            "text/plain": [
              "<IPython.core.display.Javascript object>"
            ],
            "application/javascript": [
              "google.colab.output.setIframeHeight(0, true, {maxHeight: 250})"
            ]
          },
          "metadata": {}
        },
        {
          "output_type": "display_data",
          "data": {
            "text/plain": [
              "<IPython.core.display.HTML object>"
            ],
            "text/html": [
              "<style> body {background-color: rgb(255, 250, 232);}</style>"
            ]
          },
          "metadata": {}
        },
        {
          "output_type": "stream",
          "name": "stdout",
          "text": [
            "DLATK setup completed successfully. Enjoy your analysis!\n"
          ]
        }
      ]
    },
    {
      "cell_type": "code",
      "source": [
        "import re\n",
        "from google.colab import files\n",
        "import os\n",
        "import csv\n",
        "\n",
        "#@title Upload text data\n",
        "#@markdown ### Select text Dataset or Upload from Desktop\n",
        "#@markdown Choose a text dataset from the dropdown, or select \"Upload from desktop\" to upload your own file.\n",
        "\n",
        "#@markdown After making your selection, click the __play button__ at the top left to proceed.\n",
        "\n",
        "text_filename = \"msgs404u.csv\" #@param [\"Upload from desktop\", \"msgs404u.csv\"]\n",
        "\n",
        "#@markdown If \"Upload from desktop\" is selected, then click the __\"Choose Files\"__ button at the bottom to upload your file.\n",
        "\n",
        "def sanitize_file_name(file_name):\n",
        "    base_file_name = re.sub(r\" \\(\\d+\\)\", \"\", file_name)\n",
        "    if not base_file_name.endswith('.csv'):\n",
        "        base_file_name += '.csv'\n",
        "    return base_file_name\n",
        "\n",
        "# def add_message_id_if_missing(file_path):\n",
        "#     headers_changed = False\n",
        "#     with open(file_path, mode='r', encoding='utf-8') as file:\n",
        "#         reader = csv.reader(file)\n",
        "#         headers = next(reader, None)\n",
        "\n",
        "#         if headers and 'message_id' not in headers:\n",
        "#             headers_changed = True\n",
        "#             new_rows = [['message_id'] + headers]\n",
        "#             new_rows += [[str(i+1)] + row for i, row in enumerate(reader)]\n",
        "\n",
        "#     if headers_changed:\n",
        "#         with open(file_path, mode='w', encoding='utf-8', newline='') as file:\n",
        "#             writer = csv.writer(file)\n",
        "#             writer.writerows(new_rows)\n",
        "#         print(\"Added 'message_id' column and saved changes.\")\n",
        "#     else:\n",
        "#         print(\"'message_id' column already exists.\")\n",
        "\n",
        "    #return new_rows\n",
        "\n",
        "if text_filename != \"Upload from desktop\":\n",
        "    file_name = sanitize_file_name(text_filename)\n",
        "    file_path = os.path.join(\"/content\", file_name)\n",
        "    print(f'Text file selected: {file_name}')\n",
        "else:\n",
        "    print(\"Please upload a file from the desktop.\")\n",
        "    uploaded_files = files.upload()\n",
        "    if uploaded_files:\n",
        "        file_name = next(iter(uploaded_files))\n",
        "        file_name = sanitize_file_name(file_name)\n",
        "        file_path = os.path.join(\"/content\", file_name)\n",
        "        #headers = add_message_id_if_missing(file_path)\n",
        "        # add_message_id_if_missing(file_path)\n",
        "        print(f'Uploaded file name: {file_name}')\n",
        "    else:\n",
        "        print(\"No file uploaded. Please upload a file to proceed.\")\n",
        "\n",
        "if os.path.exists(file_path):\n",
        "    print(f'File ready for use: {file_path}')\n",
        "else:\n",
        "    print(\"File not found. Please ensure the file exists and try again.\")\n"
      ],
      "metadata": {
        "id": "po89ik6HURny",
        "outputId": "69606dc2-1eb5-41c1-c16b-d9d3aab07efe",
        "colab": {
          "base_uri": "https://localhost:8080/",
          "height": 52
        }
      },
      "execution_count": 41,
      "outputs": [
        {
          "output_type": "display_data",
          "data": {
            "text/plain": [
              "<IPython.core.display.Javascript object>"
            ],
            "application/javascript": [
              "google.colab.output.setIframeHeight(0, true, {maxHeight: 250})"
            ]
          },
          "metadata": {}
        },
        {
          "output_type": "display_data",
          "data": {
            "text/plain": [
              "<IPython.core.display.HTML object>"
            ],
            "text/html": [
              "<style> body {background-color: rgb(255, 250, 232);}</style>"
            ]
          },
          "metadata": {}
        },
        {
          "output_type": "display_data",
          "data": {
            "text/plain": [
              "<IPython.core.display.Javascript object>"
            ],
            "application/javascript": [
              "google.colab.output.setIframeHeight(0, true, {maxHeight: 250})"
            ]
          },
          "metadata": {}
        },
        {
          "output_type": "display_data",
          "data": {
            "text/plain": [
              "<IPython.core.display.HTML object>"
            ],
            "text/html": [
              "<style> body {background-color: rgb(255, 250, 232);}</style>"
            ]
          },
          "metadata": {}
        },
        {
          "output_type": "display_data",
          "data": {
            "text/plain": [
              "<IPython.core.display.Javascript object>"
            ],
            "application/javascript": [
              "google.colab.output.setIframeHeight(0, true, {maxHeight: 250})"
            ]
          },
          "metadata": {}
        },
        {
          "output_type": "display_data",
          "data": {
            "text/plain": [
              "<IPython.core.display.HTML object>"
            ],
            "text/html": [
              "<style> body {background-color: rgb(255, 250, 232);}</style>"
            ]
          },
          "metadata": {}
        },
        {
          "output_type": "display_data",
          "data": {
            "text/plain": [
              "<IPython.core.display.Javascript object>"
            ],
            "application/javascript": [
              "google.colab.output.setIframeHeight(0, true, {maxHeight: 250})"
            ]
          },
          "metadata": {}
        },
        {
          "output_type": "display_data",
          "data": {
            "text/plain": [
              "<IPython.core.display.HTML object>"
            ],
            "text/html": [
              "<style> body {background-color: rgb(255, 250, 232);}</style>"
            ]
          },
          "metadata": {}
        },
        {
          "output_type": "display_data",
          "data": {
            "text/plain": [
              "<IPython.core.display.Javascript object>"
            ],
            "application/javascript": [
              "google.colab.output.setIframeHeight(0, true, {maxHeight: 250})"
            ]
          },
          "metadata": {}
        },
        {
          "output_type": "display_data",
          "data": {
            "text/plain": [
              "<IPython.core.display.HTML object>"
            ],
            "text/html": [
              "<style> body {background-color: rgb(255, 250, 232);}</style>"
            ]
          },
          "metadata": {}
        },
        {
          "output_type": "display_data",
          "data": {
            "text/plain": [
              "<IPython.core.display.Javascript object>"
            ],
            "application/javascript": [
              "google.colab.output.setIframeHeight(0, true, {maxHeight: 250})"
            ]
          },
          "metadata": {}
        },
        {
          "output_type": "display_data",
          "data": {
            "text/plain": [
              "<IPython.core.display.HTML object>"
            ],
            "text/html": [
              "<style> body {background-color: rgb(255, 250, 232);}</style>"
            ]
          },
          "metadata": {}
        },
        {
          "output_type": "stream",
          "name": "stdout",
          "text": [
            "Text file selected: msgs404u.csv\n",
            "File ready for use: /content/msgs404u.csv\n"
          ]
        }
      ]
    },
    {
      "cell_type": "code",
      "source": [
        "from IPython.utils import io\n",
        "import subprocess\n",
        "\n",
        "global text_column_name, id_column_name\n",
        "global file_name_without_extension\n",
        "global generated_feature_table_name\n",
        "global feature_table_mapping\n",
        "global outcomes, controls\n",
        "\n",
        "#@markdown Click the __Play button__ to the left to start the setup. Proceed to the next stage once you see:\n",
        "#@markdown \"DLATK setup completed successfully. Enjoy your analysis!\"\n",
        "\n",
        "def setup_dlatk():\n",
        "    # Install DLATK with additional features\n",
        "    subprocess.run(\"pip install dlatk[wordcloud,langid]\", shell=True)\n",
        "\n",
        "    # Initialize DLATK for Colab environment\n",
        "    result = subprocess.run(\"dlatkInterface.py --colabify\", shell=True, capture_output=True, text=True)\n",
        "\n",
        "    # Optional: Adjust Colab output for a better experience\n",
        "    try:\n",
        "        from dlatk.tools.colab_methods import colab_shorten_and_bg\n",
        "        colab_shorten_and_bg()  # This shortens output blocks and changes the output background color.\n",
        "    except ImportError as e:\n",
        "        print(\"Some optional setup steps failed:\", e)\n",
        "\n",
        "    return result.stdout + '\\n' + result.stderr\n",
        "\n",
        "# Suppressing the output of the main installation and setup commands\n",
        "with io.capture_output() as captured:\n",
        "    setup_output = setup_dlatk()\n",
        "\n",
        "# Check the captured output for a specific success message\n",
        "if 'DLATK exits with success! A good day indeed' in setup_output:\n",
        "    print(\"DLATK setup completed successfully. Enjoy your analysis!\")\n",
        "    # If DLATK setup is successful, proceed to run codeB\n",
        "    def run_codeB():\n",
        "        import subprocess\n",
        "        import ipywidgets as widgets\n",
        "        from IPython.display import display, clear_output\n",
        "        import csv\n",
        "        import re\n",
        "        from google.colab import files\n",
        "        import os\n",
        "\n",
        "        #@title Upload text data\n",
        "        #@markdown ### Select text Dataset or Upload from Desktop\n",
        "        #@markdown Choose a text dataset from the dropdown, or select \"Upload from desktop\" to upload your own file.\n",
        "        #@markdown After making your selection, click the __play button__ at the top left to proceed.\n",
        "\n",
        "        text_filename = \"msgs404u.csv\" #@param [\"Upload from desktop\", \"msgs404u.csv\"]\n",
        "        file_path = None\n",
        "\n",
        "        def sanitize_file_name(file_name):\n",
        "            base_file_name = re.sub(r\" \\(\\d+\\)\", \"\", file_name)\n",
        "            if not base_file_name.endswith('.csv'):\n",
        "                base_file_name += '.csv'\n",
        "            return base_file_name\n",
        "\n",
        "        def add_message_id_if_missing(file_path):\n",
        "            headers_changed = False\n",
        "            with open(file_path, mode='r', encoding='utf-8') as file:\n",
        "                reader = csv.reader(file)\n",
        "                headers = next(reader, None)\n",
        "\n",
        "                if headers and 'message_id' not in headers:\n",
        "                    headers_changed = True\n",
        "                    new_rows = [['message_id'] + headers]\n",
        "                    new_rows += [[str(i+1)] + row for i, row in enumerate(reader)]\n",
        "\n",
        "            if headers_changed:\n",
        "                with open(file_path, mode='w', encoding='utf-8', newline='') as file:\n",
        "                    writer = csv.writer(file)\n",
        "                    writer.writerows(new_rows)\n",
        "                print(\"Added 'message_id' column and saved changes.\")\n",
        "            else:\n",
        "                print(\"'message_id' column already exists.\")\n",
        "\n",
        "        if text_filename != \"Upload from desktop\":\n",
        "            file_name = sanitize_file_name(text_filename)\n",
        "            file_path = os.path.join(\"/content\", file_name)\n",
        "            print(f'Text file selected: {file_name}')\n",
        "        else:\n",
        "            print(\"Please upload a file from the desktop.\")\n",
        "            uploaded_files = files.upload()\n",
        "            if uploaded_files:\n",
        "                file_name = next(iter(uploaded_files))\n",
        "                file_name = sanitize_file_name(file_name)\n",
        "                file_path = os.path.join(\"/content\", file_name)\n",
        "                add_message_id_if_missing(file_path)\n",
        "                print(f'Uploaded file name: {file_name}')\n",
        "            else:\n",
        "                print(\"No file uploaded. Please upload a file to proceed.\")\n",
        "\n",
        "        if os.path.exists(file_path):\n",
        "            print(f'File ready for use: {file_path}')\n",
        "        else:\n",
        "            print(\"File not found. Please ensure the file exists and try again.\")\n",
        "\n",
        "        #@title Select Text and ID Columns\n",
        "        #@markdown Select the text and ID columns for analysis:\n",
        "        def get_available_columns(file_path):\n",
        "            with open(file_path, mode='r', encoding='utf-8') as file:\n",
        "                reader = csv.reader(file)\n",
        "                return next(reader, None)\n",
        "\n",
        "        available_columns = get_available_columns(file_path) if file_path else []\n",
        "        text_column_dropdown = widgets.Dropdown(options=[col for col in available_columns if not col.endswith(\"_id\")], description='Text Column:')\n",
        "        id_column_dropdown = widgets.Dropdown(options=[col for col in available_columns if col.endswith(\"_id\")], description='ID Column:')\n",
        "        confirm_button = widgets.Button(description=\"Confirm Columns\")\n",
        "\n",
        "        def confirm_columns(b):\n",
        "            text_column_name = text_column_dropdown.value\n",
        "            id_column_name = id_column_dropdown.value\n",
        "            print(f\"Text column set to: {text_column_name}, ID column set to: {id_column_name}\")\n",
        "\n",
        "        confirm_button.on_click(confirm_columns)\n",
        "        display(text_column_dropdown, id_column_dropdown, confirm_button)\n",
        "\n",
        "        #@title Feature Extraction Setup\n",
        "        #@markdown Setup feature extraction parameters and execute:\n",
        "\n",
        "        database_name = \"colab_csv\"\n",
        "        file_name_without_extension = file_name.rsplit('.', 1)[0] if file_name else \"default_filename\"\n",
        "        feature_options = widgets.Dropdown(options=['Select option', '1to2grams-filtered', '1to2grams-unfiltered', 'topics'], description='Features:')\n",
        "        run_feature_button = widgets.Button(description=\"Extract Features\")\n",
        "\n",
        "        def generate_unfiltered_feature_table():\n",
        "            combined_feature_table_name = \"1to2gram\"\n",
        "            command = f\"dlatkInterface.py -d {database_name} -t {file_name} -g {id_column_name} \" \\\n",
        "                      f\"--message_field {text_column_name} --messageid_field {text_column_name}_id \" \\\n",
        "                      f\"--add_ngrams -n 1 2 --combine_feat_tables {combined_feature_table_name}\"\n",
        "            print(f\"Generating unfiltered 1to2grams feature table: {command}\")\n",
        "            subprocess.run(command, shell=True)\n",
        "            generated_feature_table_name = f\"feat${combined_feature_table_name}${file_name_without_extension}${id_column_name}\"\n",
        "            print(f\"Generated feature table: {generated_feature_table_name}\")\n",
        "\n",
        "        def extract_features(b):\n",
        "            group_freq_thresh = 100  # Default value, used if not topic modeling\n",
        "\n",
        "            if feature_options.value == '1to2grams-unfiltered':\n",
        "                generate_unfiltered_feature_table()\n",
        "\n",
        "            elif feature_options.value == '1to2grams-filtered':\n",
        "                combined_feature_table_name = \"1to2gram\"\n",
        "                command = f\"dlatkInterface.py -d {database_name} -t {file_name} -g {id_column_name} \" \\\n",
        "                          f\"--message_field {text_column_name} --messageid_field {text_column_name}_id \" \\\n",
        "                          f\"--add_ngrams -n 1 2 --combine_feat_tables {combined_feature_table_name} \" \\\n",
        "                          f\"--feat_occ_filter --set_p_occ 0.10 --feat_colloc_filter\"\n",
        "                print(f\"Executing: {command}\")\n",
        "                subprocess.run(command, shell=True)\n",
        "                generated_feature_table_name = f\"feat${combined_feature_table_name}${file_naup_freq_thresh {group_freq_thresh} --add_lex_table -l fb2000_cp --weighted_lexicon\"\n",
        "                print(f\"Executing: {command}\")\n",
        "                subprocess.run(command, shell=True)\n",
        "                print(f\"Generated LDA feature table: {lex_table_name}\")\n",
        "\n",
        "        run_feature_button.on_click(extract_features)\n",
        "        display(feature_options, run_feature_button)\n",
        "\n",
        "    run_codeB()  # Execute codeB only after DLATK is successfully set up.\n",
        "else:\n",
        "    print(\"DLATK setup may have encountered issues. Please check the logs for more details.\")\n",
        "\n",
        "import re\n",
        "from google.colab import files\n",
        "import os\n",
        "\n",
        "# codeB\n",
        "def upload_dataset():\n",
        "\n",
        "  #@title Upload correlate data\n",
        "\n",
        "  #@markdown Select a predefined dataset from the dropdown menu, or choose \"Upload from desktop\" to upload your own dataset.\n",
        "\n",
        "  # This is a dropdown for choosing between default datasets or uploading your own\n",
        "  default_dataset = \"users404.csv\" #@param [\"Upload from desktop\", \"users404.csv\"]\n",
        "\n",
        "  #@markdown If you opt for desktop upload, click the \"Choose Files\" button that appears upon executing this cell.\n",
        "\n",
        "  # Function to check if the file exists (for local files)\n",
        "  def file_exists(file_path):\n",
        "      return os.path.exists(file_path)\n",
        "\n",
        "  # Sanitizes file names to ensure they end with '.csv'\n",
        "  def sanitize_file_name(file_name):\n",
        "      base_file_name = re.sub(r\" \\(\\d+\\)\", \"\", file_name)\n",
        "      if not base_file_name.endswith('.csv'):\n",
        "          base_file_name += '.csv'\n",
        "      return base_file_name\n",
        "\n",
        "  file_path = None  # Initialize file_path variable\n",
        "\n",
        "  if default_dataset != \"Upload from desktop\":\n",
        "      # If a default dataset is selected, set the file_path accordingly\n",
        "      outcome_table_name = sanitize_file_name(default_dataset)\n",
        "      file_path = os.path.join(\"/content\", outcome_table_name)\n",
        "      print(f'Default dataset selected: {outcome_table_name}')\n",
        "  else:\n",
        "      print(\"Please upload a dataset from the desktop.\")\n",
        "      uploaded_files = files.upload()\n",
        "      if uploaded_files:\n",
        "          # Assuming only one file is uploaded, use its name\n",
        "          filename = next(iter(uploaded_files))\n",
        "          outcome_table_name = sanitize_file_name(filename)  # Sanitize the uploaded file's name\n",
        "          file_path = os.path.join(\"/content\", outcome_table_name)\n",
        "          print(f'Uploaded dataset name: {outcome_table_name}')\n",
        "      else:\n",
        "          print(\"No dataset uploaded. Please upload a dataset to proceed.\")\n",
        "\n",
        "  # Verify the file's existence and readiness for use\n",
        "  if file_path and file_exists(file_path):\n",
        "      print(f'Dataset ready for use: {file_path}')\n",
        "  else:\n",
        "      print(\"Dataset not found. Please ensure the dataset exists and try again.\")\n",
        "\n",
        "upload_dataset()\n",
        "\n",
        "# codeC\n",
        "import ipywidgets as widgets\n",
        "from IPython.display import display, clear_output\n",
        "import csv\n",
        "\n",
        "# Code for configuring parameters and executing a command based on user selections\n",
        "def configure_and_execute():\n",
        "\n",
        "  #@title Configure Parameters\n",
        "\n",
        "  #@markdown Before executing the command, please adjust the parameters below according to your dataset and analysis needs.\n",
        "  feature_table_mapping = {\n",
        "      \"1to2grams-filtered-table\": f\"feat$1to2gram${file_name_without_extension}${id_column_name}$0_1$pmi3_0\",\n",
        "      \"1to2grams-unfiltered-table\": f\"feat$1to2gram${file_name_without_extension}${id_column_name}\",\n",
        "      \"topics-table\": f\"feat$cat_fb2000_cp_w${file_name_without_extension}${id_column_name}$1gra\"  # Adding topics-related feature table option\n",
        "  }\n",
        "\n",
        "  if 'outcome_table_name' in globals():\n",
        "      # Open and read the CSV file to extract column names\n",
        "      with open(outcome_table_name, newline='') as csvfile:\n",
        "          reader = csv.reader(csvfile)\n",
        "          column_headers = next(reader, None)\n",
        "\n",
        "      if column_headers:\n",
        "          # Exclude columns containing '_id' from being displayed as checkboxes\n",
        "          filtered_column_headers = [option for option in column_headers if \"_id\" not in option]\n",
        "\n",
        "          feature_table_dropdown = widgets.Dropdown(options=feature_table_mapping, description='Feature Table:')\n",
        "\n",
        "          outcomes_title = widgets.Label('Outcomes:')\n",
        "          controls_title = widgets.Label('Controls:')\n",
        "          outcomes_widgets = {}\n",
        "          controls_widgets = {}\n",
        "          outcomes_cat_widgets = {}\n",
        "          controls_cat_widgets = {}\n",
        "\n",
        "          # Create checkboxes for each column header\n",
        "          for option in filtered_column_headers:\n",
        "              outcomes_widgets[option] = widgets.Checkbox(description=option, value=False)\n",
        "              controls_widgets[option] = widgets.Checkbox(description=option, value=False)\n",
        "              # Replace RadioButtons with a single Checkbox for categorical selection\n",
        "              outcomes_cat_widgets[option] = widgets.Checkbox(\n",
        "                  description='Is this variable Categorical?',\n",
        "                  value=False,\n",
        "                  layout={'width': 'max-content'},\n",
        "                  style={'description_width': 'initial'}\n",
        "              )\n",
        "              controls_cat_widgets[option] = widgets.Checkbox(\n",
        "                  description='Is this variable Categorical?',\n",
        "                  value=False,\n",
        "                  layout={'width': 'max-content'},\n",
        "                  style={'description_width': 'initial'}\n",
        "              )\n",
        "              outcomes_cat_widgets[option].layout.display = 'none'\n",
        "              controls_cat_widgets[option].layout.display = 'none'\n",
        "\n",
        "          def handle_checkbox_change(change):\n",
        "              option = change.owner.description\n",
        "              if change.owner in outcomes_widgets.values():\n",
        "                  controls_widgets[option].disabled = change.new\n",
        "                  outcomes_cat_widgets[option].layout.display = 'flex' if change.new else 'none'\n",
        "              elif change.owner in controls_widgets.values():\n",
        "                  outcomes_widgets[option].disabled = change.new\n",
        "                  controls_cat_widgets[option].layout.display = 'flex' if change.new else 'none'\n",
        "\n",
        "          for checkbox in outcomes_widgets.values():\n",
        "              checkbox.observe(handle_checkbox_change, names='value')\n",
        "          for checkbox in controls_widgets.values():\n",
        "              checkbox.observe(handle_checkbox_change, names='value')\n",
        "\n",
        "          def on_submit(change):\n",
        "              clear_output(wait=True)\n",
        "              outcomes = [k for k, v in outcomes_widgets.items() if v.value]\n",
        "              controls = [k for k, v in controls_widgets.items() if v.value]\n",
        "              cat_to_bin_outcomes = [k for k, v in outcomes_cat_widgets.items() if v.value]\n",
        "              cat_to_bin_controls = [k for k, v in controls_cat_widgets.items() if v.value]\n",
        "\n",
        "              feature_table_name = feature_table_dropdown.value\n",
        "              make_wordclouds = make_wordclouds_checkbox.value\n",
        "\n",
        "              # Construct the command dynamically based on selections\n",
        "              cat_to_bin_parts = [','.join(cat_to_bin_outcomes), ','.join(cat_to_bin_controls)]\n",
        "              cat_to_bin_parts = [part for part in cat_to_bin_parts if part]  # Remove empty strings\n",
        "              cat_to_bin_cmd = f\"--cat_to_bin {' '.join(cat_to_bin_parts)}\" if cat_to_bin_parts else \"\"\n",
        "\n",
        "              command = (\n",
        "                  f\"dlatkInterface.py -d {database_name} -t {file_name} -g {id_column_name} \"\n",
        "                  f\"--group_freq_thresh 100 --feat_table '{feature_table_name}' \"\n",
        "                  f\"--outcome_table {outcome_table_name} --outcomes {','.join(outcomes)} \"\n",
        "                  f\"--controls {','.join(controls)} {cat_to_bin_cmd} --rmatrix\"\n",
        "              )\n",
        "              if make_wordclouds:\n",
        "                  if feature_table_name == feature_table_mapping['topics-table']:\n",
        "                      command += \" --make_topic_wordclouds\"\n",
        "                  else:\n",
        "                      command += \" --make_wordclouds\"\n",
        "              print(\"Command to execute:\", command)\n",
        "              process = subprocess.run(command, shell=True, text=True, capture_output=True)\n",
        "              print(process.stdout)\n",
        "              if process.stderr:\n",
        "                  print(\"Error:\", process.stderr)\n",
        "\n",
        "          submit_button = widgets.Button(description=\"Submit\")\n",
        "          submit_button.on_click(on_submit)\n",
        "\n",
        "          make_wordclouds_title = widgets.Label('Make Wordclouds:')\n",
        "          make_wordclouds_checkbox = widgets.Checkbox(value=False, description='Enable Wordclouds')\n",
        "\n",
        "          # Display the widgets\n",
        "          display(feature_table_dropdown)\n",
        "          display(outcomes_title)\n",
        "          for option, checkbox in outcomes_widgets.items():\n",
        "              display(widgets.HBox([checkbox, outcomes_cat_widgets[option]]))\n",
        "          display(controls_title)\n",
        "          for option, checkbox in controls_widgets.items():\n",
        "              display(widgets.HBox([checkbox, controls_cat_widgets[option]]))\n",
        "          display(make_wordclouds_title, make_wordclouds_checkbox, submit_button)\n",
        "\n",
        "      else:\n",
        "          print(\"Failed to read column names from the outcome table.\")\n",
        "  else:\n",
        "      print(\"Outcome table name not set. Please ensure a file is uploaded in Part 1.\")\n",
        "\n",
        "  pass\n",
        "\n",
        "configure_and_execute()\n",
        "\n",
        "# Import statements for codeD\n",
        "import glob\n",
        "import math\n",
        "import matplotlib.pyplot as plt\n",
        "import matplotlib.image as mpimg\n",
        "from dlatk.tools.colab_methods import print_wordclouds\n",
        "\n",
        "# Code to display word clouds\n",
        "def display_wordclouds():\n",
        "  # Remaining code for displaying word clouds goes here...\n",
        "\n",
        "  feature_table_name = feature_table_dropdown.value.replace('$', '.')\n",
        "\n",
        "  def display_wordclouds(feature_table_name, outcomes, controls):\n",
        "      # This function decides which type of word clouds to display based on the feature table selected.\n",
        "      if feature_table_name == feature_table_mapping['topics-table']:\n",
        "          print_topic_wordclouds(\"/content/_alltopics/\", 8)\n",
        "      else:\n",
        "          wordcloud_file_name = f\"{feature_table_name.replace('$', '.')}.{','.join(outcomes)}.{','.join(controls)}__0.freq100._tagcloud_wordclouds\"\n",
        "          print(\"Wordcloud File Name:\", wordcloud_file_name)\n",
        "          print_wordclouds(wordcloud_file_name)\n",
        "\n",
        "  def print_topic_wordclouds(wordcloud_folder, num_topics=8, images_per_row=4):\n",
        "      # This function handles the displaying of topic word clouds specifically.\n",
        "      images = glob.glob(os.path.join(wordcloud_folder, '*.png'))\n",
        "      to_display = images[:min(num_topics, len(images))]\n",
        "\n",
        "      if len(to_display) == 0:\n",
        "          print(\"No topic wordcloud images found in the specified folder.\")\n",
        "          return\n",
        "\n",
        "      fig, axes = plt.subplots(math.ceil(num_topics / images_per_row), images_per_row, figsize=(18, 8))\n",
        "      for index, image in enumerate(to_display):\n",
        "          ax = axes[int(index / images_per_row), index % images_per_row]\n",
        "          ax.set_axis_off()\n",
        "          ax.set_title(image.split('/')[-1])\n",
        "          ax.imshow(mpimg.imread(image))\n",
        "      plt.show()\n",
        "\n",
        "  # Example usage:\n",
        "  # Assuming 'outcomes' and 'controls' are updated in the global scope by previous code execution\n",
        "  display_wordclouds(feature_table_name, outcomes, controls)\n",
        "  pass\n",
        "\n",
        "display_wordclouds()\n",
        "\n",
        "\n",
        "\n"
      ],
      "metadata": {
        "colab": {
          "base_uri": "https://localhost:8080/",
          "height": 250,
          "referenced_widgets": [
            "d705b69dde624de4bb7680968e44c624",
            "88b1cda10c294d0faaf16c54593321a6",
            "48fbbc1cb1b1423fb301d3ff58cbdd01",
            "bd506b2fa6204acaadaf62f8c4914b63",
            "92a6c5a876a94d108a95f85d8cd47f49",
            "ae2aa7cc967d4be594ded006f13d99bb",
            "e2ad6ed6af884fe681434a37da54b054",
            "e7485ffb0ed44876a1e68e66ba45b028",
            "c55988e954004a108d275833af05e2ed",
            "354044594e4f4543aabd7dd52c7ff792",
            "14528a7d7cfe46028a18e0cea7505f9c",
            "926007d33a784e0da5d890cd0e239307",
            "87ef79780c644c268c8f6845eaa114ed",
            "18aedfdbb38d4da5bfaf1097f045dfbb",
            "b19759ac5d434e69b3930ed1cae60e47"
          ]
        },
        "cellView": "form",
        "id": "2QyrZ6YIT8-x",
        "outputId": "9b745eec-3bb9-4b0b-d286-f9780854aad2"
      },
      "execution_count": 2,
      "outputs": [
        {
          "output_type": "display_data",
          "data": {
            "text/plain": [
              "<IPython.core.display.Javascript object>"
            ],
            "application/javascript": [
              "google.colab.output.setIframeHeight(0, true, {maxHeight: 250})"
            ]
          },
          "metadata": {}
        },
        {
          "output_type": "display_data",
          "data": {
            "text/plain": [
              "<IPython.core.display.HTML object>"
            ],
            "text/html": [
              "<style> body {background-color: rgb(255, 250, 232);}</style>"
            ]
          },
          "metadata": {}
        },
        {
          "output_type": "stream",
          "name": "stdout",
          "text": [
            "DLATK setup completed successfully. Enjoy your analysis!\n",
            "Text file selected: msgs404u.csv\n",
            "File ready for use: /content/msgs404u.csv\n"
          ]
        },
        {
          "output_type": "display_data",
          "data": {
            "text/plain": [
              "Dropdown(description='Text Column:', options=('created_date', 'message'), value='created_date')"
            ],
            "application/vnd.jupyter.widget-view+json": {
              "version_major": 2,
              "version_minor": 0,
              "model_id": "d705b69dde624de4bb7680968e44c624"
            }
          },
          "metadata": {}
        },
        {
          "output_type": "display_data",
          "data": {
            "text/plain": [
              "Dropdown(description='ID Column:', options=('message_id', 'user_id'), value='message_id')"
            ],
            "application/vnd.jupyter.widget-view+json": {
              "version_major": 2,
              "version_minor": 0,
              "model_id": "88b1cda10c294d0faaf16c54593321a6"
            }
          },
          "metadata": {}
        },
        {
          "output_type": "display_data",
          "data": {
            "text/plain": [
              "Button(description='Confirm Columns', style=ButtonStyle())"
            ],
            "application/vnd.jupyter.widget-view+json": {
              "version_major": 2,
              "version_minor": 0,
              "model_id": "e2ad6ed6af884fe681434a37da54b054"
            }
          },
          "metadata": {}
        },
        {
          "output_type": "display_data",
          "data": {
            "text/plain": [
              "Dropdown(description='Features:', options=('Select option', '1to2grams-filtered', '1to2grams-unfiltered', 'top…"
            ],
            "application/vnd.jupyter.widget-view+json": {
              "version_major": 2,
              "version_minor": 0,
              "model_id": "354044594e4f4543aabd7dd52c7ff792"
            }
          },
          "metadata": {}
        },
        {
          "output_type": "display_data",
          "data": {
            "text/plain": [
              "Button(description='Extract Features', style=ButtonStyle())"
            ],
            "application/vnd.jupyter.widget-view+json": {
              "version_major": 2,
              "version_minor": 0,
              "model_id": "87ef79780c644c268c8f6845eaa114ed"
            }
          },
          "metadata": {}
        },
        {
          "output_type": "stream",
          "name": "stdout",
          "text": [
            "Default dataset selected: users404.csv\n",
            "Dataset ready for use: /content/users404.csv\n"
          ]
        },
        {
          "output_type": "error",
          "ename": "NameError",
          "evalue": "name 'id_column_name' is not defined",
          "traceback": [
            "\u001b[0;31m---------------------------------------------------------------------------\u001b[0m",
            "\u001b[0;31mNameError\u001b[0m                                 Traceback (most recent call last)",
            "\u001b[0;32m<ipython-input-2-c44d0e898191>\u001b[0m in \u001b[0;36m<cell line: 350>\u001b[0;34m()\u001b[0m\n\u001b[1;32m    348\u001b[0m   \u001b[0;32mpass\u001b[0m\u001b[0;34m\u001b[0m\u001b[0;34m\u001b[0m\u001b[0m\n\u001b[1;32m    349\u001b[0m \u001b[0;34m\u001b[0m\u001b[0m\n\u001b[0;32m--> 350\u001b[0;31m \u001b[0mconfigure_and_execute\u001b[0m\u001b[0;34m(\u001b[0m\u001b[0;34m)\u001b[0m\u001b[0;34m\u001b[0m\u001b[0;34m\u001b[0m\u001b[0m\n\u001b[0m\u001b[1;32m    351\u001b[0m \u001b[0;34m\u001b[0m\u001b[0m\n\u001b[1;32m    352\u001b[0m \u001b[0;31m# Import statements for codeD\u001b[0m\u001b[0;34m\u001b[0m\u001b[0;34m\u001b[0m\u001b[0m\n",
            "\u001b[0;32m<ipython-input-2-c44d0e898191>\u001b[0m in \u001b[0;36mconfigure_and_execute\u001b[0;34m()\u001b[0m\n\u001b[1;32m    235\u001b[0m   \u001b[0;31m#@markdown Before executing the command, please adjust the parameters below according to your dataset and analysis needs.\u001b[0m\u001b[0;34m\u001b[0m\u001b[0;34m\u001b[0m\u001b[0m\n\u001b[1;32m    236\u001b[0m   feature_table_mapping = {\n\u001b[0;32m--> 237\u001b[0;31m       \u001b[0;34m\"1to2grams-filtered-table\"\u001b[0m\u001b[0;34m:\u001b[0m \u001b[0;34mf\"feat$1to2gram${file_name_without_extension}${id_column_name}$0_1$pmi3_0\"\u001b[0m\u001b[0;34m,\u001b[0m\u001b[0;34m\u001b[0m\u001b[0;34m\u001b[0m\u001b[0m\n\u001b[0m\u001b[1;32m    238\u001b[0m       \u001b[0;34m\"1to2grams-unfiltered-table\"\u001b[0m\u001b[0;34m:\u001b[0m \u001b[0;34mf\"feat$1to2gram${file_name_without_extension}${id_column_name}\"\u001b[0m\u001b[0;34m,\u001b[0m\u001b[0;34m\u001b[0m\u001b[0;34m\u001b[0m\u001b[0m\n\u001b[1;32m    239\u001b[0m       \u001b[0;34m\"topics-table\"\u001b[0m\u001b[0;34m:\u001b[0m \u001b[0;34mf\"feat$cat_fb2000_cp_w${file_name_without_extension}${id_column_name}$1gra\"\u001b[0m  \u001b[0;31m# Adding topics-related feature table option\u001b[0m\u001b[0;34m\u001b[0m\u001b[0;34m\u001b[0m\u001b[0m\n",
            "\u001b[0;31mNameError\u001b[0m: name 'id_column_name' is not defined"
          ]
        }
      ]
    },
    {
      "cell_type": "code",
      "source": [
        "from IPython.utils import io\n",
        "import subprocess\n",
        "\n",
        "#@markdown Click the __Play button__ to the left to start the setup. Proceed to the next stage once you see:\n",
        "#@markdown \"DLATK setup completed successfully. Enjoy your analysis!\"\n",
        "\n",
        "def setup_dlatk():\n",
        "    # Install DLATK with additional features\n",
        "    subprocess.run(\"pip install dlatk[wordcloud,langid]\", shell=True)\n",
        "\n",
        "    # Initialize DLATK for Colab environment\n",
        "    result = subprocess.run(\"dlatkInterface.py --colabify\", shell=True, capture_output=True, text=True)\n",
        "\n",
        "    # Optional: Adjust Colab output for a better experience\n",
        "    try:\n",
        "        from dlatk.tools.colab_methods import colab_shorten_and_bg\n",
        "        colab_shorten_and_bg()  # This shortens output blocks and changes the output background color.\n",
        "    except ImportError as e:\n",
        "        print(\"Some optional setup steps failed:\", e)\n",
        "\n",
        "    return result.stdout + '\\n' + result.stderr\n",
        "\n",
        "# Suppressing the output of the main installation and setup commands\n",
        "with io.capture_output() as captured:\n",
        "    setup_output = setup_dlatk()\n",
        "\n",
        "# Check the captured output for a specific success message\n",
        "if 'DLATK exits with success! A good day indeed' in setup_output:\n",
        "    print(\"DLATK setup completed successfully. Enjoy your analysis!\")\n",
        "    # If DLATK setup is successful, proceed to run codeB\n",
        "    def run_codeB():\n",
        "        import subprocess\n",
        "        import ipywidgets as widgets\n",
        "        from IPython.display import display, clear_output\n",
        "        import csv\n",
        "        import re\n",
        "        from google.colab import files\n",
        "        import os\n",
        "\n",
        "        #@title Upload text data\n",
        "        #@markdown ### Select text Dataset or Upload from Desktop\n",
        "        #@markdown Choose a text dataset from the dropdown, or select \"Upload from desktop\" to upload your own file.\n",
        "        #@markdown After making your selection, click the __play button__ at the top left to proceed.\n",
        "\n",
        "        text_filename = \"msgs404u.csv\" #@param [\"Upload from desktop\", \"msgs404u.csv\"]\n",
        "        file_path = None\n",
        "\n",
        "        def sanitize_file_name(file_name):\n",
        "            base_file_name = re.sub(r\" \\(\\d+\\)\", \"\", file_name)\n",
        "            if not base_file_name.endswith('.csv'):\n",
        "                base_file_name += '.csv'\n",
        "            return base_file_name\n",
        "\n",
        "        def add_message_id_if_missing(file_path):\n",
        "            headers_changed = False\n",
        "            with open(file_path, mode='r', encoding='utf-8') as file:\n",
        "                reader = csv.reader(file)\n",
        "                headers = next(reader, None)\n",
        "\n",
        "                if headers and 'message_id' not in headers:\n",
        "                    headers_changed = True\n",
        "                    new_rows = [['message_id'] + headers]\n",
        "                    new_rows += [[str(i+1)] + row for i, row in enumerate(reader)]\n",
        "\n",
        "            if headers_changed:\n",
        "                with open(file_path, mode='w', encoding='utf-8', newline='') as file:\n",
        "                    writer = csv.writer(file)\n",
        "                    writer.writerows(new_rows)\n",
        "                print(\"Added 'message_id' column and saved changes.\")\n",
        "            else:\n",
        "                print(\"'message_id' column already exists.\")\n",
        "\n",
        "        if text_filename != \"Upload from desktop\":\n",
        "            file_name = sanitize_file_name(text_filename)\n",
        "            file_path = os.path.join(\"/content\", file_name)\n",
        "            print(f'Text file selected: {file_name}')\n",
        "        else:\n",
        "            print(\"Please upload a file from the desktop.\")\n",
        "            uploaded_files = files.upload()\n",
        "            if uploaded_files:\n",
        "                file_name = next(iter(uploaded_files))\n",
        "                file_name = sanitize_file_name(file_name)\n",
        "                file_path = os.path.join(\"/content\", file_name)\n",
        "                add_message_id_if_missing(file_path)\n",
        "                print(f'Uploaded file name: {file_name}')\n",
        "            else:\n",
        "                print(\"No file uploaded. Please upload a file to proceed.\")\n",
        "\n",
        "        if os.path.exists(file_path):\n",
        "            print(f'File ready for use: {file_path}')\n",
        "        else:\n",
        "            print(\"File not found. Please ensure the file exists and try again.\")\n",
        "\n",
        "        #@title Select Text and ID Columns\n",
        "        #@markdown Select the text and ID columns for analysis:\n",
        "        def get_available_columns(file_path):\n",
        "            with open(file_path, mode='r', encoding='utf-8') as file:\n",
        "                reader = csv.reader(file)\n",
        "                return next(reader, None)\n",
        "\n",
        "        available_columns = get_available_columns(file_path) if file_path else []\n",
        "        text_column_dropdown = widgets.Dropdown(options=[col for col in available_columns if not col.endswith(\"_id\")], description='Text Column:')\n",
        "        id_column_dropdown = widgets.Dropdown(options=[col for col in available_columns if col.endswith(\"_id\")], description='ID Column:')\n",
        "        confirm_button = widgets.Button(description=\"Confirm Columns\")\n",
        "\n",
        "        def confirm_columns(b):\n",
        "            global text_column_name, id_column_name\n",
        "            text_column_name = text_column_dropdown.value\n",
        "            id_column_name = id_column_dropdown.value\n",
        "            print(f\"Text column set to: {text_column_name}, ID column set to: {id_column_name}\")\n",
        "\n",
        "        confirm_button.on_click(confirm_columns)\n",
        "        display(text_column_dropdown, id_column_dropdown, confirm_button)\n",
        "\n",
        "        #@title Feature Extraction Setup\n",
        "        #@markdown Setup feature extraction parameters and execute:\n",
        "\n",
        "        database_name = \"colab_csv\"\n",
        "        global file_name_without_extension\n",
        "        file_name_without_extension = file_name.rsplit('.', 1)[0] if file_name else \"default_filename\"\n",
        "        feature_options = widgets.Dropdown(options=['Select option', '1to2grams-filtered', '1to2grams-unfiltered', 'topics'], description='Features:')\n",
        "        run_feature_button = widgets.Button(description=\"Extract Features\")\n",
        "\n",
        "        def generate_unfiltered_feature_table():\n",
        "            global generated_feature_table_name\n",
        "            combined_feature_table_name = \"1to2gram\"\n",
        "            command = f\"dlatkInterface.py -d {database_name} -t {file_name} -g {id_column_name} \" \\\n",
        "                      f\"--message_field {text_column_name} --messageid_field {text_column_name}_id \" \\\n",
        "                      f\"--add_ngrams -n 1 2 --combine_feat_tables {combined_feature_table_name}\"\n",
        "            print(f\"Generating unfiltered 1to2grams feature table: {command}\")\n",
        "            subprocess.run(command, shell=True)\n",
        "            generated_feature_table_name = f\"feat${combined_feature_table_name}${file_name_without_extension}${id_column_name}\"\n",
        "            print(f\"Generated feature table: {generated_feature_table_name}\")\n",
        "\n",
        "        def extract_features(b):\n",
        "            global generated_feature_table_name\n",
        "            group_freq_thresh = 100  # Default value, used if not topic modeling\n",
        "\n",
        "            if feature_options.value == '1to2grams-unfiltered':\n",
        "                generate_unfiltered_feature_table()\n",
        "\n",
        "            elif feature_options.value == '1to2grams-filtered':\n",
        "                combined_feature_table_name = \"1to2gram\"\n",
        "                command = f\"dlatkInterface.py -d {database_name} -t {file_name} -g {id_column_name} \" \\\n",
        "                          f\"--message_field {text_column_name} --messageid_field {text_column_name}_id \" \\\n",
        "                          f\"--add_ngrams -n 1 2 --combine_feat_tables {combined_feature_table_name} \" \\\n",
        "                          f\"--feat_occ_filter --set_p_occ 0.10 --feat_colloc_filter\"\n",
        "                print(f\"Executing: {command}\")\n",
        "                subprocess.run(command, shell=True)\n",
        "                generated_feature_table_name = f\"feat${combined_feature_table_name}${file_name_without_extension}${id_column_name}$0_1$pmi3_0\"\n",
        "                print(f\"Generated feature table: {generated_feature_table_name}\")\n",
        "\n",
        "            elif feature_options.value == 'topics':\n",
        "                lex_table_name = f\"feat$cat_fb2000_cp_w${file_name_without_extension}${id_column_name}$1gra\"\n",
        "                command = f\"dlatkInterface.py -d {database_name} -t {file_name} -g {id_column_name} \" \\\n",
        "                          f\"--message_field {text_column_name} --messageid_field {text_column_name}_id \" \\\n",
        "                          f\"--group_freq_thresh {group_freq_thresh} --add_lex_table -l fb2000_cp --weighted_lexicon\"\n",
        "                print(f\"Executing: {command}\")\n",
        "                subprocess.run(command, shell=True)\n",
        "                print(f\"Generated LDA feature table: {lex_table_name}\")\n",
        "\n",
        "        run_feature_button.on_click(extract_features)\n",
        "        display(feature_options, run_feature_button)\n",
        "\n",
        "    run_codeB()  # Execute codeB only after DLATK is successfully set up.\n",
        "else:\n",
        "    print(\"DLATK setup may have encountered issues. Please check the logs for more details.\")\n",
        "\n",
        "\n",
        "\n"
      ],
      "metadata": {
        "cellView": "form",
        "colab": {
          "base_uri": "https://localhost:8080/",
          "height": 227,
          "referenced_widgets": [
            "af71023222fa40fe93a98a18a4618305",
            "13d2d4c59f6940b994335e37b0114e64",
            "145fbcfbee1e4c44a783806124042af1",
            "2781213d983e4509af4b701d4aea571e",
            "a665962c7f744bb28f69d3f979b67a28",
            "fa2c5f2a8f4d4d99a28d4ef2ff7ec282",
            "2230f88d401e42428cd5428ec9a29c46",
            "9bc0252774374ca1acd9c2b32b7d93c1",
            "3dd3ee61a94445e098f20055f62c540c",
            "fd2634d51ef34cb6923f22b86cae4689",
            "d9e2a7ab5dcd44dba7a8bd119b5a4ccd",
            "50ecaf3a02c846efbc3f278bfd80a84e",
            "ac22d71e74a44fd6884085b41f5c817e",
            "858380d828314ac9917f8bc5da8c9cbb",
            "c86fb3233d3943a3905e1544e60425b6"
          ]
        },
        "id": "QKPkAx0i7iDG",
        "outputId": "e14b40f7-e2fc-4fdf-dd41-ab194dfec68f"
      },
      "execution_count": 23,
      "outputs": [
        {
          "output_type": "display_data",
          "data": {
            "text/plain": [
              "<IPython.core.display.Javascript object>"
            ],
            "application/javascript": [
              "google.colab.output.setIframeHeight(0, true, {maxHeight: 250})"
            ]
          },
          "metadata": {}
        },
        {
          "output_type": "display_data",
          "data": {
            "text/plain": [
              "<IPython.core.display.HTML object>"
            ],
            "text/html": [
              "<style> body {background-color: rgb(255, 250, 232);}</style>"
            ]
          },
          "metadata": {}
        },
        {
          "output_type": "display_data",
          "data": {
            "text/plain": [
              "<IPython.core.display.Javascript object>"
            ],
            "application/javascript": [
              "google.colab.output.setIframeHeight(0, true, {maxHeight: 250})"
            ]
          },
          "metadata": {}
        },
        {
          "output_type": "display_data",
          "data": {
            "text/plain": [
              "<IPython.core.display.HTML object>"
            ],
            "text/html": [
              "<style> body {background-color: rgb(255, 250, 232);}</style>"
            ]
          },
          "metadata": {}
        },
        {
          "output_type": "display_data",
          "data": {
            "text/plain": [
              "<IPython.core.display.Javascript object>"
            ],
            "application/javascript": [
              "google.colab.output.setIframeHeight(0, true, {maxHeight: 250})"
            ]
          },
          "metadata": {}
        },
        {
          "output_type": "display_data",
          "data": {
            "text/plain": [
              "<IPython.core.display.HTML object>"
            ],
            "text/html": [
              "<style> body {background-color: rgb(255, 250, 232);}</style>"
            ]
          },
          "metadata": {}
        },
        {
          "output_type": "display_data",
          "data": {
            "text/plain": [
              "<IPython.core.display.Javascript object>"
            ],
            "application/javascript": [
              "google.colab.output.setIframeHeight(0, true, {maxHeight: 250})"
            ]
          },
          "metadata": {}
        },
        {
          "output_type": "display_data",
          "data": {
            "text/plain": [
              "<IPython.core.display.HTML object>"
            ],
            "text/html": [
              "<style> body {background-color: rgb(255, 250, 232);}</style>"
            ]
          },
          "metadata": {}
        },
        {
          "output_type": "stream",
          "name": "stdout",
          "text": [
            "DLATK setup completed successfully. Enjoy your analysis!\n",
            "Text file selected: msgs404u.csv\n",
            "File ready for use: /content/msgs404u.csv\n"
          ]
        },
        {
          "output_type": "display_data",
          "data": {
            "text/plain": [
              "Dropdown(description='Text Column:', options=('created_date', 'message'), value='created_date')"
            ],
            "application/vnd.jupyter.widget-view+json": {
              "version_major": 2,
              "version_minor": 0,
              "model_id": "af71023222fa40fe93a98a18a4618305"
            }
          },
          "metadata": {}
        },
        {
          "output_type": "display_data",
          "data": {
            "text/plain": [
              "Dropdown(description='ID Column:', options=('message_id', 'user_id'), value='message_id')"
            ],
            "application/vnd.jupyter.widget-view+json": {
              "version_major": 2,
              "version_minor": 0,
              "model_id": "2781213d983e4509af4b701d4aea571e"
            }
          },
          "metadata": {}
        },
        {
          "output_type": "display_data",
          "data": {
            "text/plain": [
              "Button(description='Confirm Columns', style=ButtonStyle())"
            ],
            "application/vnd.jupyter.widget-view+json": {
              "version_major": 2,
              "version_minor": 0,
              "model_id": "2230f88d401e42428cd5428ec9a29c46"
            }
          },
          "metadata": {}
        },
        {
          "output_type": "display_data",
          "data": {
            "text/plain": [
              "Dropdown(description='Features:', options=('Select option', '1to2grams-filtered', '1to2grams-unfiltered', 'top…"
            ],
            "application/vnd.jupyter.widget-view+json": {
              "version_major": 2,
              "version_minor": 0,
              "model_id": "fd2634d51ef34cb6923f22b86cae4689"
            }
          },
          "metadata": {}
        },
        {
          "output_type": "display_data",
          "data": {
            "text/plain": [
              "Button(description='Extract Features', style=ButtonStyle())"
            ],
            "application/vnd.jupyter.widget-view+json": {
              "version_major": 2,
              "version_minor": 0,
              "model_id": "ac22d71e74a44fd6884085b41f5c817e"
            }
          },
          "metadata": {}
        }
      ]
    },
    {
      "cell_type": "markdown",
      "source": [
        "<a name=\"data\"></a>\n",
        "# STEP2: Upload text data & Select text column"
      ],
      "metadata": {
        "id": "36sjhFU1RGZF"
      }
    },
    {
      "cell_type": "code",
      "source": [
        "#@markdown Test code: Check which tables are formed so far\n",
        "\n",
        "!dlatkInterface.py \\\n",
        "  -d colab_csv -t msgs404u.csv -g user_id \\\n",
        "  --show_feat_tables"
      ],
      "metadata": {
        "colab": {
          "base_uri": "https://localhost:8080/",
          "height": 250
        },
        "id": "fD9-3UViEuli",
        "outputId": "92fc8c88-92d3-4fa9-e6d1-9326cb1818d2",
        "cellView": "form"
      },
      "execution_count": 48,
      "outputs": [
        {
          "output_type": "display_data",
          "data": {
            "text/plain": [
              "<IPython.core.display.Javascript object>"
            ],
            "application/javascript": [
              "google.colab.output.setIframeHeight(0, true, {maxHeight: 250})"
            ]
          },
          "metadata": {}
        },
        {
          "output_type": "display_data",
          "data": {
            "text/plain": [
              "<IPython.core.display.HTML object>"
            ],
            "text/html": [
              "<style> body {background-color: rgb(255, 250, 232);}</style>"
            ]
          },
          "metadata": {}
        },
        {
          "output_type": "display_data",
          "data": {
            "text/plain": [
              "<IPython.core.display.Javascript object>"
            ],
            "application/javascript": [
              "google.colab.output.setIframeHeight(0, true, {maxHeight: 250})"
            ]
          },
          "metadata": {}
        },
        {
          "output_type": "display_data",
          "data": {
            "text/plain": [
              "<IPython.core.display.HTML object>"
            ],
            "text/html": [
              "<style> body {background-color: rgb(255, 250, 232);}</style>"
            ]
          },
          "metadata": {}
        },
        {
          "output_type": "display_data",
          "data": {
            "text/plain": [
              "<IPython.core.display.Javascript object>"
            ],
            "application/javascript": [
              "google.colab.output.setIframeHeight(0, true, {maxHeight: 250})"
            ]
          },
          "metadata": {}
        },
        {
          "output_type": "display_data",
          "data": {
            "text/plain": [
              "<IPython.core.display.HTML object>"
            ],
            "text/html": [
              "<style> body {background-color: rgb(255, 250, 232);}</style>"
            ]
          },
          "metadata": {}
        },
        {
          "output_type": "display_data",
          "data": {
            "text/plain": [
              "<IPython.core.display.Javascript object>"
            ],
            "application/javascript": [
              "google.colab.output.setIframeHeight(0, true, {maxHeight: 250})"
            ]
          },
          "metadata": {}
        },
        {
          "output_type": "display_data",
          "data": {
            "text/plain": [
              "<IPython.core.display.HTML object>"
            ],
            "text/html": [
              "<style> body {background-color: rgb(255, 250, 232);}</style>"
            ]
          },
          "metadata": {}
        },
        {
          "output_type": "display_data",
          "data": {
            "text/plain": [
              "<IPython.core.display.Javascript object>"
            ],
            "application/javascript": [
              "google.colab.output.setIframeHeight(0, true, {maxHeight: 250})"
            ]
          },
          "metadata": {}
        },
        {
          "output_type": "display_data",
          "data": {
            "text/plain": [
              "<IPython.core.display.HTML object>"
            ],
            "text/html": [
              "<style> body {background-color: rgb(255, 250, 232);}</style>"
            ]
          },
          "metadata": {}
        },
        {
          "output_type": "display_data",
          "data": {
            "text/plain": [
              "<IPython.core.display.Javascript object>"
            ],
            "application/javascript": [
              "google.colab.output.setIframeHeight(0, true, {maxHeight: 250})"
            ]
          },
          "metadata": {}
        },
        {
          "output_type": "display_data",
          "data": {
            "text/plain": [
              "<IPython.core.display.HTML object>"
            ],
            "text/html": [
              "<style> body {background-color: rgb(255, 250, 232);}</style>"
            ]
          },
          "metadata": {}
        },
        {
          "output_type": "stream",
          "name": "stdout",
          "text": [
            "\n",
            "\n",
            "TopicExtractor: gensim Mallet wrapper unavailable, using Mallet directly.\n",
            "\n",
            "-----\n",
            "DLATK Interface Initiated: 2024-05-02 22:25:12\n",
            "-----\n",
            "Connecting to SQLite database: /content/sqlite_data/colab_csv.db\n",
            "\n",
            "Found 8 available tables\n",
            "----\n",
            "feat$1gram$msgs404u$user_id\n",
            "feat$meta_1gram$msgs404u$user_id\n",
            "feat$2gram$msgs404u$user_id\n",
            "feat$meta_2gram$msgs404u$user_id\n",
            "feat$1to2gram$msgs404u$user_id\n",
            "feat$1to2gram$msgs404u$user_id$0_1\n",
            "feat$1to2gram$msgs404u$user_id$0_1$pmi3_0\n",
            "feat$cat_fb2000_cp_w$msgs404u$user_id$1gra\n",
            "-------\n",
            "Settings:\n",
            "\n",
            "Database - colab_csv\n",
            "Corpus - msgs404u.csv\n",
            "Group ID - user_id\n",
            "-------\n",
            "Interface Runtime: 0.01 seconds\n",
            "DLATK exits with success! A good day indeed  ¯\\_(ツ)_/¯.\n"
          ]
        }
      ]
    },
    {
      "cell_type": "code",
      "source": [
        "            # lex_table_name = f\"feat$cat_fb2000_cp_w${file_name_without_extension}${id_column_name}$1gra\"\n",
        "            # command = f\"dlatkInterface.py -d {database_name} -t {file_name} -g {id_column_name} \" \\\n",
        "            #           f\"--message_field {text_column_name} --messageid_field {text_column_name}_id \" \\\n",
        "            #           f\"--group_freq_thresh {group_freq_thresh} --add_lex_table -l fb2000_cp --weighted_lexicon\"\n",
        "\n",
        "\n",
        "            # command = (\n",
        "            #     f\"dlatkInterface.py -d {database_name} -t {file_name} -g {id_column_name} \"\n",
        "            #     f\"--group_freq_thresh 100 --feat_table '{feature_table_name}' \"\n",
        "            #     f\"--outcome_table {outcome_table_name} --outcomes {','.join(outcomes)} \"\n",
        "            #     f\"--controls {','.join(controls)} {cat_to_bin_cmd} --rmatrix\"\n",
        "            # )\n",
        "\n",
        "# !dlatkInterface.py \\\n",
        "#     -d colab_csv -t msgs404u.csv -g user_id \\\n",
        "#     --topic_lexicon fb2000_freq_t50ll \\\n",
        "#     --lexicondb colab_csv \\\n",
        "#     --group_freq_thresh 100 \\\n",
        "#     --make_topic_wordclouds \\\n",
        "#     --tagcloud_colorscheme blue \\\n",
        "#     --output /content/\n",
        "\n",
        "!dlatkInterface.py -d colab_csv -t msgs404u.csv -g user_id --group_freq_thresh 100 --feat_table 'feat$cat_fb2000_cp_w$msgs404u$user_id$1gra' --outcome_table users404.csv --outcomes age --controls gender --cat_to_bin gender --rmatrix --make_topic_wordclouds --topic_lexicon fb2000_freq_t50ll\n",
        "\n",
        "\n"
      ],
      "metadata": {
        "id": "Ap358ZMa8sRm",
        "outputId": "ad04fd92-2ab2-41e1-deb2-68493909f929",
        "colab": {
          "base_uri": "https://localhost:8080/",
          "height": 250
        }
      },
      "execution_count": null,
      "outputs": [
        {
          "output_type": "display_data",
          "data": {
            "text/plain": [
              "<IPython.core.display.Javascript object>"
            ],
            "application/javascript": [
              "google.colab.output.setIframeHeight(0, true, {maxHeight: 250})"
            ]
          },
          "metadata": {}
        },
        {
          "output_type": "display_data",
          "data": {
            "text/plain": [
              "<IPython.core.display.HTML object>"
            ],
            "text/html": [
              "<style> body {background-color: rgb(255, 250, 232);}</style>"
            ]
          },
          "metadata": {}
        },
        {
          "output_type": "display_data",
          "data": {
            "text/plain": [
              "<IPython.core.display.Javascript object>"
            ],
            "application/javascript": [
              "google.colab.output.setIframeHeight(0, true, {maxHeight: 250})"
            ]
          },
          "metadata": {}
        },
        {
          "output_type": "display_data",
          "data": {
            "text/plain": [
              "<IPython.core.display.HTML object>"
            ],
            "text/html": [
              "<style> body {background-color: rgb(255, 250, 232);}</style>"
            ]
          },
          "metadata": {}
        },
        {
          "output_type": "display_data",
          "data": {
            "text/plain": [
              "<IPython.core.display.Javascript object>"
            ],
            "application/javascript": [
              "google.colab.output.setIframeHeight(0, true, {maxHeight: 250})"
            ]
          },
          "metadata": {}
        },
        {
          "output_type": "display_data",
          "data": {
            "text/plain": [
              "<IPython.core.display.HTML object>"
            ],
            "text/html": [
              "<style> body {background-color: rgb(255, 250, 232);}</style>"
            ]
          },
          "metadata": {}
        },
        {
          "output_type": "display_data",
          "data": {
            "text/plain": [
              "<IPython.core.display.Javascript object>"
            ],
            "application/javascript": [
              "google.colab.output.setIframeHeight(0, true, {maxHeight: 250})"
            ]
          },
          "metadata": {}
        },
        {
          "output_type": "display_data",
          "data": {
            "text/plain": [
              "<IPython.core.display.HTML object>"
            ],
            "text/html": [
              "<style> body {background-color: rgb(255, 250, 232);}</style>"
            ]
          },
          "metadata": {}
        },
        {
          "output_type": "display_data",
          "data": {
            "text/plain": [
              "<IPython.core.display.Javascript object>"
            ],
            "application/javascript": [
              "google.colab.output.setIframeHeight(0, true, {maxHeight: 250})"
            ]
          },
          "metadata": {}
        },
        {
          "output_type": "display_data",
          "data": {
            "text/plain": [
              "<IPython.core.display.HTML object>"
            ],
            "text/html": [
              "<style> body {background-color: rgb(255, 250, 232);}</style>"
            ]
          },
          "metadata": {}
        },
        {
          "output_type": "display_data",
          "data": {
            "text/plain": [
              "<IPython.core.display.Javascript object>"
            ],
            "application/javascript": [
              "google.colab.output.setIframeHeight(0, true, {maxHeight: 250})"
            ]
          },
          "metadata": {}
        },
        {
          "output_type": "display_data",
          "data": {
            "text/plain": [
              "<IPython.core.display.HTML object>"
            ],
            "text/html": [
              "<style> body {background-color: rgb(255, 250, 232);}</style>"
            ]
          },
          "metadata": {}
        },
        {
          "output_type": "stream",
          "name": "stdout",
          "text": [
            "\n",
            "\n",
            "TopicExtractor: gensim Mallet wrapper unavailable, using Mallet directly.\n",
            "\n",
            "-----\n",
            "DLATK Interface Initiated: 2024-05-02 22:26:05\n",
            "-----\n",
            "WARNING: --make_topic_wordcloud used without --topic_tagcloud or --corp_topic_tagcloud, setting --topic_tagcloud to True\n",
            "Connecting to SQLite database: /content/sqlite_data/colab_csv.db\n",
            "Connecting to SQLite database: /content/sqlite_data/colab_csv.db\n",
            "WARNING: The table users404 does not have: a PRIMARY key on user_id. Consider adding.\n",
            "Loading Outcomes and Getting Groups for: {'gender', 'age'}\n",
            "Connecting to SQLite database: /content/sqlite_data/colab_csv.db\n",
            "Yielding data over ['age'], adjusting for: ['gender__0'].\n",
            "Yielding norms with zeros (404 groups * 2001 feats).\n",
            "                                 OLS Regression Results                                \n",
            "=======================================================================================\n",
            "Dep. Variable:                    age   R-squared (uncentered):                   0.007\n",
            "Model:                            OLS   Adj. R-squared (uncentered):              0.005\n",
            "Method:                 Least Squares   F-statistic:                              2.999\n",
            "Date:                Thu, 02 May 2024   Prob (F-statistic):                      0.0841\n",
            "Time:                        22:26:08   Log-Likelihood:                         -571.75\n",
            "No. Observations:                 404   AIC:                                      1146.\n",
            "Df Residuals:                     403   BIC:                                      1150.\n",
            "Df Model:                           1                                                  \n",
            "Covariance Type:            nonrobust                                                  \n",
            "==============================================================================\n",
            "                 coef    std err          t      P>|t|      [0.025      0.975]\n",
            "------------------------------------------------------------------------------\n",
            "gender__0     -0.0859      0.050     -1.732      0.084      -0.184       0.012\n",
            "==============================================================================\n",
            "Omnibus:                       48.655   Durbin-Watson:                   2.074\n",
            "Prob(Omnibus):                  0.000   Jarque-Bera (JB):               63.596\n",
            "Skew:                           0.964   Prob(JB):                     1.55e-14\n",
            "Kurtosis:                       3.246   Cond. No.                         1.00\n",
            "==============================================================================\n",
            "\n",
            "Notes:\n",
            "[1] R² is computed without centering (uncentered) since the model does not contain a constant.\n",
            "[2] Standard Errors assume that the covariance matrix of the errors is correctly specified.\n",
            "  200 features correlated\n",
            "  400 features correlated\n",
            "  600 features correlated\n",
            "  800 features correlated\n",
            "  1000 features correlated\n",
            "  1200 features correlated\n",
            "  1400 features correlated\n",
            "  1600 features correlated\n",
            "  1800 features correlated\n",
            "  2000 features correlated\n",
            "OLS threw ValueError: [exog contains inf or nans]\n",
            " feature '_intercept' with outcome 'age' results not included\n",
            "unable to correlate feature '_intercept' with 'age'\n",
            "Created output filename: ./feat.cat_fb2000_cp_w.msgs404u.user_id.1gra.age.gender__0.freq100.rMatrix\n",
            "Generating Correlation Matrix.\n",
            " print to file: ././feat.cat_fb2000_cp_w.msgs404u.user_id.1gra.age.gender__0.freq100.rMatrix.html\n",
            "Created output filename: ./feat.cat_fb2000_cp_w.msgs404u.user_id.1gra.age.gender__0.freq100._topic_tagcloud\n",
            "Namespace(lexinterface=False, toinitfile=None, frominitfile='', mysqlconfigfile='', colabify=False, dbengine='mysql', corpdb='colab_csv', corptable='msgs404u.csv', correl_field='user_id', message_field='message', messageid_field='message_id', date_field='updated_time', lexicondb='dlatk_lexica', encoding='utf8mb4', useunicode=True, language='en', feattable='feat$cat_fb2000_cp_w$msgs404u$user_id$1gra', n=[1], metafeats=True, lextable='', wordTable=None, colloc_table='test_collocs', colloc_column='feat', createcollocscores=False, feature_type_name=None, gzipcsv='', categories='', feat_blacklist='', feat_whitelist='', valuefunc=<function main.<locals>.<lambda> at 0x7b1c096a2290>, lexvaluefunc=<function main.<locals>.<lambda> at 0x7b1c096a23b0>, pocc=0.01, pmi=3.0, minfeatsum=0, topicfile='', numtopicwords=15, topiclexicon='fb2000_freq_t50ll', topiclist='', topiclexmethod='csv_lik', weightedlexicon=False, numbins=None, flexiplotfile='', groupidrange=None, masktable=None, embmodel='bert-base-uncased', embclass=None, tokenizermodel=None, embaggs=['mean'], emblayeraggs=['concatenate'], transwordaggs=['mean'], emblayers=[-2], embnocontext=False, embtablename=None, batchsize=32, embkeepmsg=False, listfeattables=False, showtables=False, describetables=False, viewtables=False, createrandsample=None, createcopiedtable=None, extension=None, top_messages=False, outcometable='users404.csv', outcomefields=['age'], outcomecontrols=['gender__0'], cattobinfields=['gender'], cattointfields=[], outcomeinteraction=[], fold_column=None, test_folds=None, featnames=['honor'], groupfreqthresh=100, outputdir='.', outputname='', maxtcwords=100, showfeatfreqs=True, tcfilter=True, featlabelmaptable='', featlabelmaplex='', bracketlabels='', compTagcloud=False, compTCsample1=[], compTCsample2=[], csv=False, pickle=False, sort=False, whitelist=False, blacklist=False, spearman=False, logisticReg=False, cohensd=False, IDP=False, auc=False, zScoreGroup=False, p_correction_method='BH', bonferroni=True, nvalue=True, confint=True, freq=True, tagcloudcolorscheme='multi', cleancloud=False, weightedsample='', low_variance_thresh=0.0, minabseffectsize=0.0, interactions=False, bootstrapp=0, maxP=0.05, groupswhere='', mediation=False, mediationboot=False, mediationbootnum=1000, outcomepathstarts=[], outcomemediators=[], feat_as_path_start=False, feat_as_outcome=False, feat_as_control=False, no_features=False, mediationcsv=False, mediationsummary=True, mediation_style='baron', adapttable=None, adaptcolumns=None, model='ridgecv', turn_off_backoff_model=False, combmodels=['ridgecv'], sparse=False, folds=5, outlier_to_mean=False, picklefile='', allcontrolsonly=True, nolang=False, controlcombosizes=[], res_controls=False, pred_csv=False, prob_csv=False, weightedeval=None, standardize=True, featureselection='', featureselectionstring='', train_bootstraps=None, train_bootstraps_ns=None, addngrams=False, addngramsfromtok=False, use_collocs=False, include_sub_collocs=False, colloc_pmi_thresh=3.0, addcharngrams=False, lowercaseonly=True, addlextable=False, addcorplextable=False, addphrasetable=False, addpostable=False, pos_ngram=False, addldafeattable=None, printtokenizedlines=None, printjoinedfeaturelines=None, addtopiclexfromtopicfile=False, addtimexdiff=False, addpostimexdiff=False, addwnnopos=False, addwnpos=False, addfkscore=False, addpnames=None, embaddfeat=False, lexicon_normalization=False, multicategory_normalization=False, addtokenized=False, addsenttokenized=False, addsentperrow=False, addparses=False, addsegmented=False, segmentationModel='ctb', addtweettok=False, addtweetpos=False, addldamsgs=None, addoutcomefeats=False, langfilter=[], lightenglishfilter=False, cleanmessages=False, deduplicate=False, spamfilter=None, addmessageid=None, ldamsgtbl='messages_en_lda$msgs_en_tok_a30', createdists=False, addner=False, ttestfeats=False, featoccfilter=False, combinefeattables=None, addfeatnorms=False, addstdfeats=False, featcollocfilter=False, featcorrelfilter=False, maketopiclabelmap=False, tfidf=False, featgroupoutcomes=False, aggregategroup=False, archetypesimilarity=None, interpolategroup=None, printcsv=None, printfreqcsv=None, printnumgroups=False, densifytable=None, correlate=False, rmatrix=True, combormatrix=False, topicdupefilter=False, tagcloud=False, topictc=True, corptopictc=False, makewordclouds=False, maketopicwordclouds=True, makealltopicwordclouds=False, keepduplicates=False, useFeatTableFeats=False, outcomeWithOutcome=False, outcomeWithOutcomeOnly=False, outputInteractionTerms=False, interactionDdla=None, ddlaSignificance=0.001, ddlaFiles=None, ddlaTagcloud=False, multir=False, trainregression=False, testregression=False, combotestregression=False, predictregression=False, controladjustreg=False, testcombregression=[], predictrtofeats=None, predictRtoOutcomeTable=None, predictalltofeats=None, fsparams=False, kbest=None, pcacomp=None, adaptationfactors=None, factorselectiontype='rfe', numoffactors=None, pairedfactors=False, report=False, factoraddition=False, factoradaptation=False, residualizedfactoradaptation=False, trainclassifiers=False, testclassifiers=False, combotestclassifiers=False, predictclassifiers=False, roc=False, predictctofeats=None, predictprobstofeats=None, predictCtoOutcomeTable=None, regrToLex=None, classToLex=None, stratifyfolds=False, trainclasstoreg=False, testclasstoreg=False, predictclasstoreg=False, reducertolexicon=None, supertopics=None, reducedlexicon=None, fitreducer=False, n_components=None, transformdrtofeats=None, cca=0, penaltyFeats=None, penaltyOutcomes=None, ccaOutcomesVsControls=False, ccaPermute=0, predictCcaCompsFromModel=False, newSQLtable=None, usexfeats=False, usexcontrols=False, savemodels=False, loadmodels=False, barplot=False, scatterplot=False, featflexibin=False, skipbinstep=False, preservebintable=False, descplot=False, loessplot='', estimate_lda_topics=False, mallet_path=None, save_lda_files=None, lda_lexicon_name=None, no_lda_lexicon=False, num_topics=100, num_lda_threads=4, num_stopwords=50, extra_lda_stopwords=None, no_lda_stopping=False, lda_alpha=5.0, lda_beta=0.01, lda_iterations=1000, integrationmethod='', featureselectionparams=None)\n",
            "\n",
            "outputting topic tagcloud data to: ./feat.cat_fb2000_cp_w.msgs404u.user_id.1gra.age.gender__0.freq100._topic_tagcloud.txt\n",
            "./feat.cat_fb2000_cp_w.msgs404u.user_id.1gra.age.gender__0.freq100._topic_tagcloud\n",
            "Generating wordclouds using amueller's python package...\n",
            "Wordcloud created at: ./feat.cat_fb2000_cp_w.msgs404u.user_id.1gra.age.gender__0.freq100._topic_tagcloud_wordclouds/age/pos.beta-0.329.tid-488_wc.png\n",
            "Generating wordclouds using amueller's python package...\n",
            "Wordcloud created at: ./feat.cat_fb2000_cp_w.msgs404u.user_id.1gra.age.gender__0.freq100._topic_tagcloud_wordclouds/age/pos.beta-0.329.tid-488_wc.png\n",
            "Generating wordclouds using amueller's python package...\n",
            "Wordcloud created at: ./feat.cat_fb2000_cp_w.msgs404u.user_id.1gra.age.gender__0.freq100._topic_tagcloud_wordclouds/age/pos.beta-0.326.tid-392_wc.png\n",
            "Generating wordclouds using amueller's python package...\n",
            "Wordcloud created at: ./feat.cat_fb2000_cp_w.msgs404u.user_id.1gra.age.gender__0.freq100._topic_tagcloud_wordclouds/age/pos.beta-0.326.tid-392_wc.png\n",
            "Generating wordclouds using amueller's python package...\n",
            "Wordcloud created at: ./feat.cat_fb2000_cp_w.msgs404u.user_id.1gra.age.gender__0.freq100._topic_tagcloud_wordclouds/age/pos.beta-0.313.tid-1324_wc.png\n",
            "Generating wordclouds using amueller's python package...\n",
            "Wordcloud created at: ./feat.cat_fb2000_cp_w.msgs404u.user_id.1gra.age.gender__0.freq100._topic_tagcloud_wordclouds/age/pos.beta-0.313.tid-1324_wc.png\n",
            "Generating wordclouds using amueller's python package...\n",
            "Wordcloud created at: ./feat.cat_fb2000_cp_w.msgs404u.user_id.1gra.age.gender__0.freq100._topic_tagcloud_wordclouds/age/pos.beta-0.277.tid-1380_wc.png\n",
            "Generating wordclouds using amueller's python package...\n",
            "Wordcloud created at: ./feat.cat_fb2000_cp_w.msgs404u.user_id.1gra.age.gender__0.freq100._topic_tagcloud_wordclouds/age/pos.beta-0.277.tid-1380_wc.png\n",
            "Generating wordclouds using amueller's python package...\n",
            "Wordcloud created at: ./feat.cat_fb2000_cp_w.msgs404u.user_id.1gra.age.gender__0.freq100._topic_tagcloud_wordclouds/age/pos.beta-0.271.tid-71_wc.png\n",
            "Generating wordclouds using amueller's python package...\n",
            "Wordcloud created at: ./feat.cat_fb2000_cp_w.msgs404u.user_id.1gra.age.gender__0.freq100._topic_tagcloud_wordclouds/age/pos.beta-0.271.tid-71_wc.png\n",
            "Generating wordclouds using amueller's python package...\n",
            "Wordcloud created at: ./feat.cat_fb2000_cp_w.msgs404u.user_id.1gra.age.gender__0.freq100._topic_tagcloud_wordclouds/age/pos.beta-0.265.tid-1880_wc.png\n",
            "Generating wordclouds using amueller's python package...\n",
            "Wordcloud created at: ./feat.cat_fb2000_cp_w.msgs404u.user_id.1gra.age.gender__0.freq100._topic_tagcloud_wordclouds/age/pos.beta-0.265.tid-1880_wc.png\n",
            "Generating wordclouds using amueller's python package...\n",
            "Wordcloud created at: ./feat.cat_fb2000_cp_w.msgs404u.user_id.1gra.age.gender__0.freq100._topic_tagcloud_wordclouds/age/pos.beta-0.254.tid-1311_wc.png\n",
            "Generating wordclouds using amueller's python package...\n",
            "Wordcloud created at: ./feat.cat_fb2000_cp_w.msgs404u.user_id.1gra.age.gender__0.freq100._topic_tagcloud_wordclouds/age/pos.beta-0.254.tid-1311_wc.png\n",
            "Generating wordclouds using amueller's python package...\n",
            "Wordcloud created at: ./feat.cat_fb2000_cp_w.msgs404u.user_id.1gra.age.gender__0.freq100._topic_tagcloud_wordclouds/age/pos.beta-0.248.tid-1191_wc.png\n",
            "Generating wordclouds using amueller's python package...\n",
            "Wordcloud created at: ./feat.cat_fb2000_cp_w.msgs404u.user_id.1gra.age.gender__0.freq100._topic_tagcloud_wordclouds/age/pos.beta-0.248.tid-1191_wc.png\n",
            "Generating wordclouds using amueller's python package...\n",
            "Wordcloud created at: ./feat.cat_fb2000_cp_w.msgs404u.user_id.1gra.age.gender__0.freq100._topic_tagcloud_wordclouds/age/pos.beta-0.248.tid-714_wc.png\n",
            "Generating wordclouds using amueller's python package...\n",
            "Wordcloud created at: ./feat.cat_fb2000_cp_w.msgs404u.user_id.1gra.age.gender__0.freq100._topic_tagcloud_wordclouds/age/pos.beta-0.248.tid-714_wc.png\n",
            "Generating wordclouds using amueller's python package...\n",
            "Wordcloud created at: ./feat.cat_fb2000_cp_w.msgs404u.user_id.1gra.age.gender__0.freq100._topic_tagcloud_wordclouds/age/pos.beta-0.247.tid-356_wc.png\n",
            "Generating wordclouds using amueller's python package...\n",
            "Wordcloud created at: ./feat.cat_fb2000_cp_w.msgs404u.user_id.1gra.age.gender__0.freq100._topic_tagcloud_wordclouds/age/pos.beta-0.247.tid-356_wc.png\n",
            "Generating wordclouds using amueller's python package...\n",
            "Wordcloud created at: ./feat.cat_fb2000_cp_w.msgs404u.user_id.1gra.age.gender__0.freq100._topic_tagcloud_wordclouds/age/pos.beta-0.239.tid-447_wc.png\n",
            "Generating wordclouds using amueller's python package...\n",
            "Wordcloud created at: ./feat.cat_fb2000_cp_w.msgs404u.user_id.1gra.age.gender__0.freq100._topic_tagcloud_wordclouds/age/pos.beta-0.239.tid-447_wc.png\n",
            "Generating wordclouds using amueller's python package...\n",
            "Wordcloud created at: ./feat.cat_fb2000_cp_w.msgs404u.user_id.1gra.age.gender__0.freq100._topic_tagcloud_wordclouds/age/pos.beta-0.235.tid-658_wc.png\n",
            "Generating wordclouds using amueller's python package...\n",
            "Wordcloud created at: ./feat.cat_fb2000_cp_w.msgs404u.user_id.1gra.age.gender__0.freq100._topic_tagcloud_wordclouds/age/pos.beta-0.235.tid-658_wc.png\n",
            "Generating wordclouds using amueller's python package...\n",
            "Wordcloud created at: ./feat.cat_fb2000_cp_w.msgs404u.user_id.1gra.age.gender__0.freq100._topic_tagcloud_wordclouds/age/pos.beta-0.235.tid-964_wc.png\n",
            "Generating wordclouds using amueller's python package...\n",
            "Wordcloud created at: ./feat.cat_fb2000_cp_w.msgs404u.user_id.1gra.age.gender__0.freq100._topic_tagcloud_wordclouds/age/pos.beta-0.235.tid-964_wc.png\n",
            "Generating wordclouds using amueller's python package...\n",
            "Wordcloud created at: ./feat.cat_fb2000_cp_w.msgs404u.user_id.1gra.age.gender__0.freq100._topic_tagcloud_wordclouds/age/pos.beta-0.231.tid-1905_wc.png\n",
            "Generating wordclouds using amueller's python package...\n",
            "Wordcloud created at: ./feat.cat_fb2000_cp_w.msgs404u.user_id.1gra.age.gender__0.freq100._topic_tagcloud_wordclouds/age/pos.beta-0.231.tid-1905_wc.png\n",
            "Generating wordclouds using amueller's python package...\n",
            "Wordcloud created at: ./feat.cat_fb2000_cp_w.msgs404u.user_id.1gra.age.gender__0.freq100._topic_tagcloud_wordclouds/age/pos.beta-0.228.tid-446_wc.png\n",
            "Generating wordclouds using amueller's python package...\n",
            "Wordcloud created at: ./feat.cat_fb2000_cp_w.msgs404u.user_id.1gra.age.gender__0.freq100._topic_tagcloud_wordclouds/age/pos.beta-0.228.tid-446_wc.png\n",
            "Generating wordclouds using amueller's python package...\n",
            "Wordcloud created at: ./feat.cat_fb2000_cp_w.msgs404u.user_id.1gra.age.gender__0.freq100._topic_tagcloud_wordclouds/age/pos.beta-0.225.tid-387_wc.png\n",
            "Generating wordclouds using amueller's python package...\n",
            "Wordcloud created at: ./feat.cat_fb2000_cp_w.msgs404u.user_id.1gra.age.gender__0.freq100._topic_tagcloud_wordclouds/age/pos.beta-0.225.tid-387_wc.png\n",
            "Generating wordclouds using amueller's python package...\n",
            "Wordcloud created at: ./feat.cat_fb2000_cp_w.msgs404u.user_id.1gra.age.gender__0.freq100._topic_tagcloud_wordclouds/age/pos.beta-0.224.tid-1622_wc.png\n",
            "Generating wordclouds using amueller's python package...\n",
            "Wordcloud created at: ./feat.cat_fb2000_cp_w.msgs404u.user_id.1gra.age.gender__0.freq100._topic_tagcloud_wordclouds/age/pos.beta-0.224.tid-1622_wc.png\n",
            "Generating wordclouds using amueller's python package...\n",
            "Wordcloud created at: ./feat.cat_fb2000_cp_w.msgs404u.user_id.1gra.age.gender__0.freq100._topic_tagcloud_wordclouds/age/pos.beta-0.223.tid-578_wc.png\n",
            "Generating wordclouds using amueller's python package...\n",
            "Wordcloud created at: ./feat.cat_fb2000_cp_w.msgs404u.user_id.1gra.age.gender__0.freq100._topic_tagcloud_wordclouds/age/pos.beta-0.223.tid-578_wc.png\n",
            "Generating wordclouds using amueller's python package...\n",
            "Wordcloud created at: ./feat.cat_fb2000_cp_w.msgs404u.user_id.1gra.age.gender__0.freq100._topic_tagcloud_wordclouds/age/pos.beta-0.219.tid-472_wc.png\n",
            "Generating wordclouds using amueller's python package...\n",
            "Wordcloud created at: ./feat.cat_fb2000_cp_w.msgs404u.user_id.1gra.age.gender__0.freq100._topic_tagcloud_wordclouds/age/pos.beta-0.219.tid-472_wc.png\n",
            "Generating wordclouds using amueller's python package...\n",
            "Wordcloud created at: ./feat.cat_fb2000_cp_w.msgs404u.user_id.1gra.age.gender__0.freq100._topic_tagcloud_wordclouds/age/pos.beta-0.214.tid-59_wc.png\n",
            "Generating wordclouds using amueller's python package...\n",
            "Wordcloud created at: ./feat.cat_fb2000_cp_w.msgs404u.user_id.1gra.age.gender__0.freq100._topic_tagcloud_wordclouds/age/pos.beta-0.214.tid-59_wc.png\n",
            "Generating wordclouds using amueller's python package...\n",
            "Wordcloud created at: ./feat.cat_fb2000_cp_w.msgs404u.user_id.1gra.age.gender__0.freq100._topic_tagcloud_wordclouds/age/pos.beta-0.214.tid-709_wc.png\n",
            "Generating wordclouds using amueller's python package...\n",
            "Wordcloud created at: ./feat.cat_fb2000_cp_w.msgs404u.user_id.1gra.age.gender__0.freq100._topic_tagcloud_wordclouds/age/pos.beta-0.214.tid-709_wc.png\n",
            "Generating wordclouds using amueller's python package...\n",
            "Wordcloud created at: ./feat.cat_fb2000_cp_w.msgs404u.user_id.1gra.age.gender__0.freq100._topic_tagcloud_wordclouds/age/pos.beta-0.212.tid-85_wc.png\n",
            "Generating wordclouds using amueller's python package...\n",
            "Wordcloud created at: ./feat.cat_fb2000_cp_w.msgs404u.user_id.1gra.age.gender__0.freq100._topic_tagcloud_wordclouds/age/pos.beta-0.212.tid-85_wc.png\n",
            "Generating wordclouds using amueller's python package...\n",
            "Wordcloud created at: ./feat.cat_fb2000_cp_w.msgs404u.user_id.1gra.age.gender__0.freq100._topic_tagcloud_wordclouds/age/pos.beta-0.211.tid-1179_wc.png\n",
            "Generating wordclouds using amueller's python package...\n",
            "Wordcloud created at: ./feat.cat_fb2000_cp_w.msgs404u.user_id.1gra.age.gender__0.freq100._topic_tagcloud_wordclouds/age/pos.beta-0.211.tid-1179_wc.png\n",
            "Generating wordclouds using amueller's python package...\n",
            "Wordcloud created at: ./feat.cat_fb2000_cp_w.msgs404u.user_id.1gra.age.gender__0.freq100._topic_tagcloud_wordclouds/age/pos.beta-0.209.tid-1035_wc.png\n",
            "Generating wordclouds using amueller's python package...\n",
            "Wordcloud created at: ./feat.cat_fb2000_cp_w.msgs404u.user_id.1gra.age.gender__0.freq100._topic_tagcloud_wordclouds/age/pos.beta-0.209.tid-1035_wc.png\n",
            "Generating wordclouds using amueller's python package...\n",
            "Wordcloud created at: ./feat.cat_fb2000_cp_w.msgs404u.user_id.1gra.age.gender__0.freq100._topic_tagcloud_wordclouds/age/pos.beta-0.208.tid-302_wc.png\n",
            "Generating wordclouds using amueller's python package...\n",
            "Wordcloud created at: ./feat.cat_fb2000_cp_w.msgs404u.user_id.1gra.age.gender__0.freq100._topic_tagcloud_wordclouds/age/pos.beta-0.208.tid-302_wc.png\n",
            "Generating wordclouds using amueller's python package...\n",
            "Wordcloud created at: ./feat.cat_fb2000_cp_w.msgs404u.user_id.1gra.age.gender__0.freq100._topic_tagcloud_wordclouds/age/pos.beta-0.206.tid-1906_wc.png\n",
            "Generating wordclouds using amueller's python package...\n",
            "Wordcloud created at: ./feat.cat_fb2000_cp_w.msgs404u.user_id.1gra.age.gender__0.freq100._topic_tagcloud_wordclouds/age/pos.beta-0.206.tid-1906_wc.png\n",
            "Generating wordclouds using amueller's python package...\n",
            "Wordcloud created at: ./feat.cat_fb2000_cp_w.msgs404u.user_id.1gra.age.gender__0.freq100._topic_tagcloud_wordclouds/age/pos.beta-0.206.tid-1926_wc.png\n",
            "Generating wordclouds using amueller's python package...\n",
            "Wordcloud created at: ./feat.cat_fb2000_cp_w.msgs404u.user_id.1gra.age.gender__0.freq100._topic_tagcloud_wordclouds/age/pos.beta-0.206.tid-1926_wc.png\n",
            "Generating wordclouds using amueller's python package...\n",
            "Wordcloud created at: ./feat.cat_fb2000_cp_w.msgs404u.user_id.1gra.age.gender__0.freq100._topic_tagcloud_wordclouds/age/pos.beta-0.205.tid-1099_wc.png\n",
            "Generating wordclouds using amueller's python package...\n",
            "Wordcloud created at: ./feat.cat_fb2000_cp_w.msgs404u.user_id.1gra.age.gender__0.freq100._topic_tagcloud_wordclouds/age/pos.beta-0.205.tid-1099_wc.png\n",
            "Generating wordclouds using amueller's python package...\n",
            "Wordcloud created at: ./feat.cat_fb2000_cp_w.msgs404u.user_id.1gra.age.gender__0.freq100._topic_tagcloud_wordclouds/age/pos.beta-0.204.tid-1741_wc.png\n",
            "Generating wordclouds using amueller's python package...\n",
            "Wordcloud created at: ./feat.cat_fb2000_cp_w.msgs404u.user_id.1gra.age.gender__0.freq100._topic_tagcloud_wordclouds/age/pos.beta-0.204.tid-1741_wc.png\n",
            "Generating wordclouds using amueller's python package...\n",
            "Wordcloud created at: ./feat.cat_fb2000_cp_w.msgs404u.user_id.1gra.age.gender__0.freq100._topic_tagcloud_wordclouds/age/pos.beta-0.201.tid-734_wc.png\n",
            "Generating wordclouds using amueller's python package...\n",
            "Wordcloud created at: ./feat.cat_fb2000_cp_w.msgs404u.user_id.1gra.age.gender__0.freq100._topic_tagcloud_wordclouds/age/pos.beta-0.201.tid-734_wc.png\n",
            "Generating wordclouds using amueller's python package...\n",
            "Wordcloud created at: ./feat.cat_fb2000_cp_w.msgs404u.user_id.1gra.age.gender__0.freq100._topic_tagcloud_wordclouds/age/pos.beta-0.197.tid-868_wc.png\n",
            "Generating wordclouds using amueller's python package...\n",
            "Wordcloud created at: ./feat.cat_fb2000_cp_w.msgs404u.user_id.1gra.age.gender__0.freq100._topic_tagcloud_wordclouds/age/pos.beta-0.197.tid-868_wc.png\n",
            "Generating wordclouds using amueller's python package...\n",
            "Wordcloud created at: ./feat.cat_fb2000_cp_w.msgs404u.user_id.1gra.age.gender__0.freq100._topic_tagcloud_wordclouds/age/pos.beta-0.196.tid-815_wc.png\n",
            "Generating wordclouds using amueller's python package...\n",
            "Wordcloud created at: ./feat.cat_fb2000_cp_w.msgs404u.user_id.1gra.age.gender__0.freq100._topic_tagcloud_wordclouds/age/pos.beta-0.196.tid-815_wc.png\n",
            "Generating wordclouds using amueller's python package...\n",
            "Wordcloud created at: ./feat.cat_fb2000_cp_w.msgs404u.user_id.1gra.age.gender__0.freq100._topic_tagcloud_wordclouds/age/pos.beta-0.195.tid-1928_wc.png\n",
            "Generating wordclouds using amueller's python package...\n",
            "Wordcloud created at: ./feat.cat_fb2000_cp_w.msgs404u.user_id.1gra.age.gender__0.freq100._topic_tagcloud_wordclouds/age/pos.beta-0.195.tid-1928_wc.png\n",
            "Generating wordclouds using amueller's python package...\n",
            "Wordcloud created at: ./feat.cat_fb2000_cp_w.msgs404u.user_id.1gra.age.gender__0.freq100._topic_tagcloud_wordclouds/age/pos.beta-0.194.tid-1037_wc.png\n",
            "Generating wordclouds using amueller's python package...\n",
            "Wordcloud created at: ./feat.cat_fb2000_cp_w.msgs404u.user_id.1gra.age.gender__0.freq100._topic_tagcloud_wordclouds/age/pos.beta-0.194.tid-1037_wc.png\n",
            "Generating wordclouds using amueller's python package...\n",
            "Wordcloud created at: ./feat.cat_fb2000_cp_w.msgs404u.user_id.1gra.age.gender__0.freq100._topic_tagcloud_wordclouds/age/pos.beta-0.192.tid-636_wc.png\n",
            "Generating wordclouds using amueller's python package...\n",
            "Wordcloud created at: ./feat.cat_fb2000_cp_w.msgs404u.user_id.1gra.age.gender__0.freq100._topic_tagcloud_wordclouds/age/pos.beta-0.192.tid-636_wc.png\n",
            "Generating wordclouds using amueller's python package...\n",
            "Wordcloud created at: ./feat.cat_fb2000_cp_w.msgs404u.user_id.1gra.age.gender__0.freq100._topic_tagcloud_wordclouds/age/pos.beta-0.192.tid-605_wc.png\n",
            "Generating wordclouds using amueller's python package...\n",
            "Wordcloud created at: ./feat.cat_fb2000_cp_w.msgs404u.user_id.1gra.age.gender__0.freq100._topic_tagcloud_wordclouds/age/pos.beta-0.192.tid-605_wc.png\n",
            "Generating wordclouds using amueller's python package...\n",
            "Wordcloud created at: ./feat.cat_fb2000_cp_w.msgs404u.user_id.1gra.age.gender__0.freq100._topic_tagcloud_wordclouds/age/pos.beta-0.190.tid-1101_wc.png\n",
            "Generating wordclouds using amueller's python package...\n",
            "Wordcloud created at: ./feat.cat_fb2000_cp_w.msgs404u.user_id.1gra.age.gender__0.freq100._topic_tagcloud_wordclouds/age/pos.beta-0.190.tid-1101_wc.png\n",
            "Generating wordclouds using amueller's python package...\n",
            "Wordcloud created at: ./feat.cat_fb2000_cp_w.msgs404u.user_id.1gra.age.gender__0.freq100._topic_tagcloud_wordclouds/age/pos.beta-0.189.tid-1121_wc.png\n",
            "Generating wordclouds using amueller's python package...\n",
            "Wordcloud created at: ./feat.cat_fb2000_cp_w.msgs404u.user_id.1gra.age.gender__0.freq100._topic_tagcloud_wordclouds/age/pos.beta-0.189.tid-1121_wc.png\n",
            "Generating wordclouds using amueller's python package...\n",
            "Wordcloud created at: ./feat.cat_fb2000_cp_w.msgs404u.user_id.1gra.age.gender__0.freq100._topic_tagcloud_wordclouds/age/pos.beta-0.189.tid-630_wc.png\n",
            "Generating wordclouds using amueller's python package...\n",
            "Wordcloud created at: ./feat.cat_fb2000_cp_w.msgs404u.user_id.1gra.age.gender__0.freq100._topic_tagcloud_wordclouds/age/pos.beta-0.189.tid-630_wc.png\n",
            "Generating wordclouds using amueller's python package...\n",
            "Wordcloud created at: ./feat.cat_fb2000_cp_w.msgs404u.user_id.1gra.age.gender__0.freq100._topic_tagcloud_wordclouds/age/pos.beta-0.187.tid-1630_wc.png\n",
            "Generating wordclouds using amueller's python package...\n",
            "Wordcloud created at: ./feat.cat_fb2000_cp_w.msgs404u.user_id.1gra.age.gender__0.freq100._topic_tagcloud_wordclouds/age/pos.beta-0.187.tid-1630_wc.png\n",
            "Generating wordclouds using amueller's python package...\n",
            "Wordcloud created at: ./feat.cat_fb2000_cp_w.msgs404u.user_id.1gra.age.gender__0.freq100._topic_tagcloud_wordclouds/age/pos.beta-0.186.tid-1172_wc.png\n",
            "Generating wordclouds using amueller's python package...\n",
            "Wordcloud created at: ./feat.cat_fb2000_cp_w.msgs404u.user_id.1gra.age.gender__0.freq100._topic_tagcloud_wordclouds/age/pos.beta-0.186.tid-1172_wc.png\n",
            "Generating wordclouds using amueller's python package...\n",
            "Wordcloud created at: ./feat.cat_fb2000_cp_w.msgs404u.user_id.1gra.age.gender__0.freq100._topic_tagcloud_wordclouds/age/pos.beta-0.186.tid-225_wc.png\n",
            "Generating wordclouds using amueller's python package...\n",
            "Wordcloud created at: ./feat.cat_fb2000_cp_w.msgs404u.user_id.1gra.age.gender__0.freq100._topic_tagcloud_wordclouds/age/pos.beta-0.186.tid-225_wc.png\n",
            "Generating wordclouds using amueller's python package...\n",
            "Wordcloud created at: ./feat.cat_fb2000_cp_w.msgs404u.user_id.1gra.age.gender__0.freq100._topic_tagcloud_wordclouds/age/pos.beta-0.185.tid-907_wc.png\n",
            "Generating wordclouds using amueller's python package...\n",
            "Wordcloud created at: ./feat.cat_fb2000_cp_w.msgs404u.user_id.1gra.age.gender__0.freq100._topic_tagcloud_wordclouds/age/pos.beta-0.185.tid-907_wc.png\n",
            "Generating wordclouds using amueller's python package...\n",
            "Wordcloud created at: ./feat.cat_fb2000_cp_w.msgs404u.user_id.1gra.age.gender__0.freq100._topic_tagcloud_wordclouds/age/pos.beta-0.185.tid-1519_wc.png\n",
            "Generating wordclouds using amueller's python package...\n",
            "Wordcloud created at: ./feat.cat_fb2000_cp_w.msgs404u.user_id.1gra.age.gender__0.freq100._topic_tagcloud_wordclouds/age/pos.beta-0.185.tid-1519_wc.png\n",
            "Generating wordclouds using amueller's python package...\n",
            "Wordcloud created at: ./feat.cat_fb2000_cp_w.msgs404u.user_id.1gra.age.gender__0.freq100._topic_tagcloud_wordclouds/age/pos.beta-0.182.tid-1793_wc.png\n",
            "Generating wordclouds using amueller's python package...\n",
            "Wordcloud created at: ./feat.cat_fb2000_cp_w.msgs404u.user_id.1gra.age.gender__0.freq100._topic_tagcloud_wordclouds/age/pos.beta-0.182.tid-1793_wc.png\n",
            "Generating wordclouds using amueller's python package...\n",
            "Wordcloud created at: ./feat.cat_fb2000_cp_w.msgs404u.user_id.1gra.age.gender__0.freq100._topic_tagcloud_wordclouds/age/pos.beta-0.181.tid-650_wc.png\n",
            "Generating wordclouds using amueller's python package...\n",
            "Wordcloud created at: ./feat.cat_fb2000_cp_w.msgs404u.user_id.1gra.age.gender__0.freq100._topic_tagcloud_wordclouds/age/pos.beta-0.181.tid-650_wc.png\n",
            "Generating wordclouds using amueller's python package...\n",
            "Wordcloud created at: ./feat.cat_fb2000_cp_w.msgs404u.user_id.1gra.age.gender__0.freq100._topic_tagcloud_wordclouds/age/pos.beta-0.179.tid-649_wc.png\n",
            "Generating wordclouds using amueller's python package...\n",
            "Wordcloud created at: ./feat.cat_fb2000_cp_w.msgs404u.user_id.1gra.age.gender__0.freq100._topic_tagcloud_wordclouds/age/pos.beta-0.179.tid-649_wc.png\n",
            "Generating wordclouds using amueller's python package...\n",
            "Wordcloud created at: ./feat.cat_fb2000_cp_w.msgs404u.user_id.1gra.age.gender__0.freq100._topic_tagcloud_wordclouds/age/pos.beta-0.177.tid-1016_wc.png\n",
            "Generating wordclouds using amueller's python package...\n",
            "Wordcloud created at: ./feat.cat_fb2000_cp_w.msgs404u.user_id.1gra.age.gender__0.freq100._topic_tagcloud_wordclouds/age/pos.beta-0.177.tid-1016_wc.png\n",
            "Generating wordclouds using amueller's python package...\n",
            "Wordcloud created at: ./feat.cat_fb2000_cp_w.msgs404u.user_id.1gra.age.gender__0.freq100._topic_tagcloud_wordclouds/age/pos.beta-0.177.tid-482_wc.png\n",
            "Generating wordclouds using amueller's python package...\n",
            "Wordcloud created at: ./feat.cat_fb2000_cp_w.msgs404u.user_id.1gra.age.gender__0.freq100._topic_tagcloud_wordclouds/age/pos.beta-0.177.tid-482_wc.png\n",
            "Generating wordclouds using amueller's python package...\n",
            "Wordcloud created at: ./feat.cat_fb2000_cp_w.msgs404u.user_id.1gra.age.gender__0.freq100._topic_tagcloud_wordclouds/age/pos.beta-0.176.tid-131_wc.png\n",
            "Generating wordclouds using amueller's python package...\n",
            "Wordcloud created at: ./feat.cat_fb2000_cp_w.msgs404u.user_id.1gra.age.gender__0.freq100._topic_tagcloud_wordclouds/age/pos.beta-0.176.tid-131_wc.png\n",
            "Generating wordclouds using amueller's python package...\n",
            "Wordcloud created at: ./feat.cat_fb2000_cp_w.msgs404u.user_id.1gra.age.gender__0.freq100._topic_tagcloud_wordclouds/age/pos.beta-0.173.tid-1776_wc.png\n",
            "Generating wordclouds using amueller's python package...\n",
            "Wordcloud created at: ./feat.cat_fb2000_cp_w.msgs404u.user_id.1gra.age.gender__0.freq100._topic_tagcloud_wordclouds/age/pos.beta-0.173.tid-1776_wc.png\n",
            "Generating wordclouds using amueller's python package...\n",
            "Wordcloud created at: ./feat.cat_fb2000_cp_w.msgs404u.user_id.1gra.age.gender__0.freq100._topic_tagcloud_wordclouds/age/pos.beta-0.173.tid-1086_wc.png\n",
            "Generating wordclouds using amueller's python package...\n",
            "Wordcloud created at: ./feat.cat_fb2000_cp_w.msgs404u.user_id.1gra.age.gender__0.freq100._topic_tagcloud_wordclouds/age/pos.beta-0.173.tid-1086_wc.png\n",
            "Generating wordclouds using amueller's python package...\n",
            "Wordcloud created at: ./feat.cat_fb2000_cp_w.msgs404u.user_id.1gra.age.gender__0.freq100._topic_tagcloud_wordclouds/age/pos.beta-0.172.tid-1414_wc.png\n",
            "Generating wordclouds using amueller's python package...\n",
            "Wordcloud created at: ./feat.cat_fb2000_cp_w.msgs404u.user_id.1gra.age.gender__0.freq100._topic_tagcloud_wordclouds/age/pos.beta-0.172.tid-1414_wc.png\n",
            "Generating wordclouds using amueller's python package...\n",
            "Wordcloud created at: ./feat.cat_fb2000_cp_w.msgs404u.user_id.1gra.age.gender__0.freq100._topic_tagcloud_wordclouds/age/pos.beta-0.172.tid-1973_wc.png\n",
            "Generating wordclouds using amueller's python package...\n",
            "Wordcloud created at: ./feat.cat_fb2000_cp_w.msgs404u.user_id.1gra.age.gender__0.freq100._topic_tagcloud_wordclouds/age/pos.beta-0.172.tid-1973_wc.png\n",
            "Generating wordclouds using amueller's python package...\n",
            "Wordcloud created at: ./feat.cat_fb2000_cp_w.msgs404u.user_id.1gra.age.gender__0.freq100._topic_tagcloud_wordclouds/age/pos.beta-0.172.tid-1435_wc.png\n",
            "Generating wordclouds using amueller's python package...\n",
            "Wordcloud created at: ./feat.cat_fb2000_cp_w.msgs404u.user_id.1gra.age.gender__0.freq100._topic_tagcloud_wordclouds/age/pos.beta-0.172.tid-1435_wc.png\n",
            "Generating wordclouds using amueller's python package...\n",
            "Wordcloud created at: ./feat.cat_fb2000_cp_w.msgs404u.user_id.1gra.age.gender__0.freq100._topic_tagcloud_wordclouds/age/pos.beta-0.171.tid-1763_wc.png\n",
            "Generating wordclouds using amueller's python package...\n",
            "Wordcloud created at: ./feat.cat_fb2000_cp_w.msgs404u.user_id.1gra.age.gender__0.freq100._topic_tagcloud_wordclouds/age/pos.beta-0.171.tid-1763_wc.png\n",
            "Generating wordclouds using amueller's python package...\n",
            "Wordcloud created at: ./feat.cat_fb2000_cp_w.msgs404u.user_id.1gra.age.gender__0.freq100._topic_tagcloud_wordclouds/age/pos.beta-0.170.tid-945_wc.png\n",
            "Generating wordclouds using amueller's python package...\n",
            "Wordcloud created at: ./feat.cat_fb2000_cp_w.msgs404u.user_id.1gra.age.gender__0.freq100._topic_tagcloud_wordclouds/age/pos.beta-0.170.tid-945_wc.png\n",
            "Generating wordclouds using amueller's python package...\n",
            "Wordcloud created at: ./feat.cat_fb2000_cp_w.msgs404u.user_id.1gra.age.gender__0.freq100._topic_tagcloud_wordclouds/age/pos.beta-0.170.tid-498_wc.png\n",
            "Generating wordclouds using amueller's python package...\n",
            "Wordcloud created at: ./feat.cat_fb2000_cp_w.msgs404u.user_id.1gra.age.gender__0.freq100._topic_tagcloud_wordclouds/age/pos.beta-0.170.tid-498_wc.png\n",
            "Generating wordclouds using amueller's python package...\n",
            "Wordcloud created at: ./feat.cat_fb2000_cp_w.msgs404u.user_id.1gra.age.gender__0.freq100._topic_tagcloud_wordclouds/age/pos.beta-0.168.tid-1224_wc.png\n",
            "Generating wordclouds using amueller's python package...\n",
            "Wordcloud created at: ./feat.cat_fb2000_cp_w.msgs404u.user_id.1gra.age.gender__0.freq100._topic_tagcloud_wordclouds/age/pos.beta-0.168.tid-1224_wc.png\n",
            "Generating wordclouds using amueller's python package...\n",
            "Wordcloud created at: ./feat.cat_fb2000_cp_w.msgs404u.user_id.1gra.age.gender__0.freq100._topic_tagcloud_wordclouds/age/pos.beta-0.167.tid-889_wc.png\n",
            "Generating wordclouds using amueller's python package...\n",
            "Wordcloud created at: ./feat.cat_fb2000_cp_w.msgs404u.user_id.1gra.age.gender__0.freq100._topic_tagcloud_wordclouds/age/pos.beta-0.167.tid-889_wc.png\n",
            "Generating wordclouds using amueller's python package...\n",
            "Wordcloud created at: ./feat.cat_fb2000_cp_w.msgs404u.user_id.1gra.age.gender__0.freq100._topic_tagcloud_wordclouds/age/pos.beta-0.167.tid-1930_wc.png\n",
            "Generating wordclouds using amueller's python package...\n",
            "Wordcloud created at: ./feat.cat_fb2000_cp_w.msgs404u.user_id.1gra.age.gender__0.freq100._topic_tagcloud_wordclouds/age/pos.beta-0.167.tid-1930_wc.png\n",
            "Generating wordclouds using amueller's python package...\n",
            "Wordcloud created at: ./feat.cat_fb2000_cp_w.msgs404u.user_id.1gra.age.gender__0.freq100._topic_tagcloud_wordclouds/age/pos.beta-0.165.tid-667_wc.png\n",
            "Generating wordclouds using amueller's python package...\n",
            "Wordcloud created at: ./feat.cat_fb2000_cp_w.msgs404u.user_id.1gra.age.gender__0.freq100._topic_tagcloud_wordclouds/age/pos.beta-0.165.tid-667_wc.png\n",
            "Generating wordclouds using amueller's python package...\n",
            "Wordcloud created at: ./feat.cat_fb2000_cp_w.msgs404u.user_id.1gra.age.gender__0.freq100._topic_tagcloud_wordclouds/age/pos.beta-0.165.tid-1133_wc.png\n",
            "Generating wordclouds using amueller's python package...\n",
            "Wordcloud created at: ./feat.cat_fb2000_cp_w.msgs404u.user_id.1gra.age.gender__0.freq100._topic_tagcloud_wordclouds/age/pos.beta-0.165.tid-1133_wc.png\n",
            "Generating wordclouds using amueller's python package...\n",
            "Wordcloud created at: ./feat.cat_fb2000_cp_w.msgs404u.user_id.1gra.age.gender__0.freq100._topic_tagcloud_wordclouds/age/pos.beta-0.165.tid-285_wc.png\n",
            "Generating wordclouds using amueller's python package...\n",
            "Wordcloud created at: ./feat.cat_fb2000_cp_w.msgs404u.user_id.1gra.age.gender__0.freq100._topic_tagcloud_wordclouds/age/pos.beta-0.165.tid-285_wc.png\n",
            "Generating wordclouds using amueller's python package...\n",
            "Wordcloud created at: ./feat.cat_fb2000_cp_w.msgs404u.user_id.1gra.age.gender__0.freq100._topic_tagcloud_wordclouds/age/pos.beta-0.163.tid-1434_wc.png\n",
            "Generating wordclouds using amueller's python package...\n",
            "Wordcloud created at: ./feat.cat_fb2000_cp_w.msgs404u.user_id.1gra.age.gender__0.freq100._topic_tagcloud_wordclouds/age/pos.beta-0.163.tid-1434_wc.png\n",
            "Generating wordclouds using amueller's python package...\n",
            "Wordcloud created at: ./feat.cat_fb2000_cp_w.msgs404u.user_id.1gra.age.gender__0.freq100._topic_tagcloud_wordclouds/age/pos.beta-0.163.tid-246_wc.png\n",
            "Generating wordclouds using amueller's python package...\n",
            "Wordcloud created at: ./feat.cat_fb2000_cp_w.msgs404u.user_id.1gra.age.gender__0.freq100._topic_tagcloud_wordclouds/age/pos.beta-0.163.tid-246_wc.png\n",
            "Generating wordclouds using amueller's python package...\n",
            "Wordcloud created at: ./feat.cat_fb2000_cp_w.msgs404u.user_id.1gra.age.gender__0.freq100._topic_tagcloud_wordclouds/age/pos.beta-0.162.tid-1231_wc.png\n",
            "Generating wordclouds using amueller's python package...\n",
            "Wordcloud created at: ./feat.cat_fb2000_cp_w.msgs404u.user_id.1gra.age.gender__0.freq100._topic_tagcloud_wordclouds/age/pos.beta-0.162.tid-1231_wc.png\n",
            "Generating wordclouds using amueller's python package...\n",
            "Wordcloud created at: ./feat.cat_fb2000_cp_w.msgs404u.user_id.1gra.age.gender__0.freq100._topic_tagcloud_wordclouds/age/pos.beta-0.162.tid-1154_wc.png\n",
            "Generating wordclouds using amueller's python package...\n",
            "Wordcloud created at: ./feat.cat_fb2000_cp_w.msgs404u.user_id.1gra.age.gender__0.freq100._topic_tagcloud_wordclouds/age/pos.beta-0.162.tid-1154_wc.png\n",
            "Generating wordclouds using amueller's python package...\n",
            "Wordcloud created at: ./feat.cat_fb2000_cp_w.msgs404u.user_id.1gra.age.gender__0.freq100._topic_tagcloud_wordclouds/age/pos.beta-0.161.tid-529_wc.png\n",
            "Generating wordclouds using amueller's python package...\n",
            "Wordcloud created at: ./feat.cat_fb2000_cp_w.msgs404u.user_id.1gra.age.gender__0.freq100._topic_tagcloud_wordclouds/age/pos.beta-0.161.tid-529_wc.png\n",
            "Generating wordclouds using amueller's python package...\n",
            "Wordcloud created at: ./feat.cat_fb2000_cp_w.msgs404u.user_id.1gra.age.gender__0.freq100._topic_tagcloud_wordclouds/age/pos.beta-0.161.tid-1680_wc.png\n",
            "Generating wordclouds using amueller's python package...\n",
            "Wordcloud created at: ./feat.cat_fb2000_cp_w.msgs404u.user_id.1gra.age.gender__0.freq100._topic_tagcloud_wordclouds/age/pos.beta-0.161.tid-1680_wc.png\n",
            "Generating wordclouds using amueller's python package...\n",
            "Wordcloud created at: ./feat.cat_fb2000_cp_w.msgs404u.user_id.1gra.age.gender__0.freq100._topic_tagcloud_wordclouds/age/pos.beta-0.160.tid-1273_wc.png\n",
            "Generating wordclouds using amueller's python package...\n",
            "Wordcloud created at: ./feat.cat_fb2000_cp_w.msgs404u.user_id.1gra.age.gender__0.freq100._topic_tagcloud_wordclouds/age/pos.beta-0.160.tid-1273_wc.png\n",
            "Generating wordclouds using amueller's python package...\n",
            "Wordcloud created at: ./feat.cat_fb2000_cp_w.msgs404u.user_id.1gra.age.gender__0.freq100._topic_tagcloud_wordclouds/age/pos.beta-0.160.tid-1103_wc.png\n",
            "Generating wordclouds using amueller's python package...\n",
            "Wordcloud created at: ./feat.cat_fb2000_cp_w.msgs404u.user_id.1gra.age.gender__0.freq100._topic_tagcloud_wordclouds/age/pos.beta-0.160.tid-1103_wc.png\n",
            "Generating wordclouds using amueller's python package...\n",
            "Wordcloud created at: ./feat.cat_fb2000_cp_w.msgs404u.user_id.1gra.age.gender__0.freq100._topic_tagcloud_wordclouds/age/pos.beta-0.159.tid-978_wc.png\n",
            "Generating wordclouds using amueller's python package...\n",
            "Wordcloud created at: ./feat.cat_fb2000_cp_w.msgs404u.user_id.1gra.age.gender__0.freq100._topic_tagcloud_wordclouds/age/pos.beta-0.159.tid-978_wc.png\n",
            "Generating wordclouds using amueller's python package...\n",
            "Wordcloud created at: ./feat.cat_fb2000_cp_w.msgs404u.user_id.1gra.age.gender__0.freq100._topic_tagcloud_wordclouds/age/pos.beta-0.158.tid-1929_wc.png\n",
            "Generating wordclouds using amueller's python package...\n",
            "Wordcloud created at: ./feat.cat_fb2000_cp_w.msgs404u.user_id.1gra.age.gender__0.freq100._topic_tagcloud_wordclouds/age/pos.beta-0.158.tid-1929_wc.png\n",
            "Generating wordclouds using amueller's python package...\n",
            "Wordcloud created at: ./feat.cat_fb2000_cp_w.msgs404u.user_id.1gra.age.gender__0.freq100._topic_tagcloud_wordclouds/age/pos.beta-0.157.tid-1412_wc.png\n",
            "Generating wordclouds using amueller's python package...\n",
            "Wordcloud created at: ./feat.cat_fb2000_cp_w.msgs404u.user_id.1gra.age.gender__0.freq100._topic_tagcloud_wordclouds/age/pos.beta-0.157.tid-1412_wc.png\n",
            "Generating wordclouds using amueller's python package...\n",
            "Wordcloud created at: ./feat.cat_fb2000_cp_w.msgs404u.user_id.1gra.age.gender__0.freq100._topic_tagcloud_wordclouds/age/pos.beta-0.157.tid-854_wc.png\n",
            "Generating wordclouds using amueller's python package...\n",
            "Wordcloud created at: ./feat.cat_fb2000_cp_w.msgs404u.user_id.1gra.age.gender__0.freq100._topic_tagcloud_wordclouds/age/pos.beta-0.157.tid-854_wc.png\n",
            "Generating wordclouds using amueller's python package...\n",
            "Wordcloud created at: ./feat.cat_fb2000_cp_w.msgs404u.user_id.1gra.age.gender__0.freq100._topic_tagcloud_wordclouds/age/pos.beta-0.156.tid-411_wc.png\n",
            "Generating wordclouds using amueller's python package...\n",
            "Wordcloud created at: ./feat.cat_fb2000_cp_w.msgs404u.user_id.1gra.age.gender__0.freq100._topic_tagcloud_wordclouds/age/pos.beta-0.156.tid-411_wc.png\n",
            "Generating wordclouds using amueller's python package...\n",
            "Wordcloud created at: ./feat.cat_fb2000_cp_w.msgs404u.user_id.1gra.age.gender__0.freq100._topic_tagcloud_wordclouds/age/pos.beta-0.154.tid-410_wc.png\n",
            "Generating wordclouds using amueller's python package...\n",
            "Wordcloud created at: ./feat.cat_fb2000_cp_w.msgs404u.user_id.1gra.age.gender__0.freq100._topic_tagcloud_wordclouds/age/pos.beta-0.154.tid-410_wc.png\n",
            "Generating wordclouds using amueller's python package...\n",
            "Wordcloud created at: ./feat.cat_fb2000_cp_w.msgs404u.user_id.1gra.age.gender__0.freq100._topic_tagcloud_wordclouds/age/pos.beta-0.153.tid-1552_wc.png\n",
            "Generating wordclouds using amueller's python package...\n",
            "Wordcloud created at: ./feat.cat_fb2000_cp_w.msgs404u.user_id.1gra.age.gender__0.freq100._topic_tagcloud_wordclouds/age/pos.beta-0.153.tid-1552_wc.png\n",
            "Generating wordclouds using amueller's python package...\n",
            "Wordcloud created at: ./feat.cat_fb2000_cp_w.msgs404u.user_id.1gra.age.gender__0.freq100._topic_tagcloud_wordclouds/age/pos.beta-0.153.tid-284_wc.png\n",
            "Generating wordclouds using amueller's python package...\n",
            "Wordcloud created at: ./feat.cat_fb2000_cp_w.msgs404u.user_id.1gra.age.gender__0.freq100._topic_tagcloud_wordclouds/age/pos.beta-0.153.tid-284_wc.png\n",
            "Generating wordclouds using amueller's python package...\n",
            "Wordcloud created at: ./feat.cat_fb2000_cp_w.msgs404u.user_id.1gra.age.gender__0.freq100._topic_tagcloud_wordclouds/age/pos.beta-0.153.tid-1830_wc.png\n",
            "Generating wordclouds using amueller's python package...\n",
            "Wordcloud created at: ./feat.cat_fb2000_cp_w.msgs404u.user_id.1gra.age.gender__0.freq100._topic_tagcloud_wordclouds/age/pos.beta-0.153.tid-1830_wc.png\n",
            "Generating wordclouds using amueller's python package...\n",
            "Wordcloud created at: ./feat.cat_fb2000_cp_w.msgs404u.user_id.1gra.age.gender__0.freq100._topic_tagcloud_wordclouds/age/pos.beta-0.149.tid-24_wc.png\n",
            "Generating wordclouds using amueller's python package...\n",
            "Wordcloud created at: ./feat.cat_fb2000_cp_w.msgs404u.user_id.1gra.age.gender__0.freq100._topic_tagcloud_wordclouds/age/pos.beta-0.149.tid-24_wc.png\n",
            "Generating wordclouds using amueller's python package...\n",
            "Wordcloud created at: ./feat.cat_fb2000_cp_w.msgs404u.user_id.1gra.age.gender__0.freq100._topic_tagcloud_wordclouds/age/pos.beta-0.148.tid-1503_wc.png\n",
            "Generating wordclouds using amueller's python package...\n",
            "Wordcloud created at: ./feat.cat_fb2000_cp_w.msgs404u.user_id.1gra.age.gender__0.freq100._topic_tagcloud_wordclouds/age/pos.beta-0.148.tid-1503_wc.png\n",
            "Generating wordclouds using amueller's python package...\n",
            "Wordcloud created at: ./feat.cat_fb2000_cp_w.msgs404u.user_id.1gra.age.gender__0.freq100._topic_tagcloud_wordclouds/age/pos.beta-0.147.tid-1715_wc.png\n",
            "Generating wordclouds using amueller's python package...\n",
            "Wordcloud created at: ./feat.cat_fb2000_cp_w.msgs404u.user_id.1gra.age.gender__0.freq100._topic_tagcloud_wordclouds/age/pos.beta-0.147.tid-1715_wc.png\n",
            "Generating wordclouds using amueller's python package...\n",
            "Wordcloud created at: ./feat.cat_fb2000_cp_w.msgs404u.user_id.1gra.age.gender__0.freq100._topic_tagcloud_wordclouds/age/pos.beta-0.147.tid-1080_wc.png\n",
            "Generating wordclouds using amueller's python package...\n",
            "Wordcloud created at: ./feat.cat_fb2000_cp_w.msgs404u.user_id.1gra.age.gender__0.freq100._topic_tagcloud_wordclouds/age/pos.beta-0.147.tid-1080_wc.png\n",
            "Generating wordclouds using amueller's python package...\n",
            "Wordcloud created at: ./feat.cat_fb2000_cp_w.msgs404u.user_id.1gra.age.gender__0.freq100._topic_tagcloud_wordclouds/age/neg.beta-0.346.tid-741_wc.png\n",
            "Generating wordclouds using amueller's python package...\n",
            "Wordcloud created at: ./feat.cat_fb2000_cp_w.msgs404u.user_id.1gra.age.gender__0.freq100._topic_tagcloud_wordclouds/age/neg.beta-0.346.tid-741_wc.png\n",
            "Generating wordclouds using amueller's python package...\n",
            "Wordcloud created at: ./feat.cat_fb2000_cp_w.msgs404u.user_id.1gra.age.gender__0.freq100._topic_tagcloud_wordclouds/age/neg.beta-0.299.tid-583_wc.png\n",
            "Generating wordclouds using amueller's python package...\n",
            "Wordcloud created at: ./feat.cat_fb2000_cp_w.msgs404u.user_id.1gra.age.gender__0.freq100._topic_tagcloud_wordclouds/age/neg.beta-0.299.tid-583_wc.png\n",
            "Generating wordclouds using amueller's python package...\n",
            "Wordcloud created at: ./feat.cat_fb2000_cp_w.msgs404u.user_id.1gra.age.gender__0.freq100._topic_tagcloud_wordclouds/age/neg.beta-0.287.tid-568_wc.png\n",
            "Generating wordclouds using amueller's python package...\n",
            "Wordcloud created at: ./feat.cat_fb2000_cp_w.msgs404u.user_id.1gra.age.gender__0.freq100._topic_tagcloud_wordclouds/age/neg.beta-0.287.tid-568_wc.png\n",
            "Generating wordclouds using amueller's python package...\n",
            "Wordcloud created at: ./feat.cat_fb2000_cp_w.msgs404u.user_id.1gra.age.gender__0.freq100._topic_tagcloud_wordclouds/age/neg.beta-0.286.tid-1347_wc.png\n",
            "Generating wordclouds using amueller's python package...\n",
            "Wordcloud created at: ./feat.cat_fb2000_cp_w.msgs404u.user_id.1gra.age.gender__0.freq100._topic_tagcloud_wordclouds/age/neg.beta-0.286.tid-1347_wc.png\n",
            "Generating wordclouds using amueller's python package...\n",
            "Wordcloud created at: ./feat.cat_fb2000_cp_w.msgs404u.user_id.1gra.age.gender__0.freq100._topic_tagcloud_wordclouds/age/neg.beta-0.281.tid-385_wc.png\n",
            "Generating wordclouds using amueller's python package...\n"
          ]
        }
      ]
    },
    {
      "cell_type": "code",
      "source": [
        "import glob\n",
        "import os\n",
        "import math\n",
        "import matplotlib.pyplot as plt\n",
        "import matplotlib.image as mpimg\n",
        "from dlatk.tools.colab_methods import print_wordclouds\n",
        "\n",
        "feature_table_name = feature_table_dropdown.value.replace('$', '.')\n",
        "\n",
        "def display_wordclouds(feature_table_name, outcomes, controls):\n",
        "    # This function decides which type of word clouds to display based on the feature table selected.\n",
        "    if feature_table_name == feature_table_mapping['topics-table']:\n",
        "        print_topic_wordclouds(\"/content/_alltopics/\", 8)\n",
        "    else:\n",
        "        wordcloud_file_name = f\"{feature_table_name.replace('$', '.')}.{','.join(outcomes)}.{','.join(controls)}__0.freq100._tagcloud_wordclouds\"\n",
        "        print(\"Wordcloud File Name:\", wordcloud_file_name)\n",
        "        print_wordclouds(wordcloud_file_name)\n",
        "\n",
        "def print_topic_wordclouds(wordcloud_folder, num_topics=8, images_per_row=4):\n",
        "    # This function handles the displaying of topic word clouds specifically.\n",
        "    images = glob.glob(os.path.join(wordcloud_folder, '*.png'))\n",
        "    to_display = images[:min(num_topics, len(images))]\n",
        "\n",
        "    if len(to_display) == 0:\n",
        "        print(\"No topic wordcloud images found in the specified folder.\")\n",
        "        return\n",
        "\n",
        "    fig, axes = plt.subplots(math.ceil(num_topics / images_per_row), images_per_row, figsize=(18, 8))\n",
        "    for index, image in enumerate(to_display):\n",
        "        ax = axes[int(index / images_per_row), index % images_per_row]\n",
        "        ax.set_axis_off()\n",
        "        ax.set_title(image.split('/')[-1])\n",
        "        ax.imshow(mpimg.imread(image))\n",
        "    plt.show()\n",
        "\n",
        "# Example usage:\n",
        "# Assuming 'outcomes' and 'controls' are updated in the global scope by previous code execution\n",
        "display_wordclouds(feature_table_name, outcomes, controls)\n"
      ],
      "metadata": {
        "id": "bxfwYqmbXe9U",
        "outputId": "6c59e14d-d082-42fc-8e4e-b742434848e6",
        "colab": {
          "base_uri": "https://localhost:8080/",
          "height": 52
        }
      },
      "execution_count": 38,
      "outputs": [
        {
          "output_type": "display_data",
          "data": {
            "text/plain": [
              "<IPython.core.display.Javascript object>"
            ],
            "application/javascript": [
              "google.colab.output.setIframeHeight(0, true, {maxHeight: 250})"
            ]
          },
          "metadata": {}
        },
        {
          "output_type": "display_data",
          "data": {
            "text/plain": [
              "<IPython.core.display.HTML object>"
            ],
            "text/html": [
              "<style> body {background-color: rgb(255, 250, 232);}</style>"
            ]
          },
          "metadata": {}
        },
        {
          "output_type": "display_data",
          "data": {
            "text/plain": [
              "<IPython.core.display.Javascript object>"
            ],
            "application/javascript": [
              "google.colab.output.setIframeHeight(0, true, {maxHeight: 250})"
            ]
          },
          "metadata": {}
        },
        {
          "output_type": "display_data",
          "data": {
            "text/plain": [
              "<IPython.core.display.HTML object>"
            ],
            "text/html": [
              "<style> body {background-color: rgb(255, 250, 232);}</style>"
            ]
          },
          "metadata": {}
        },
        {
          "output_type": "display_data",
          "data": {
            "text/plain": [
              "<IPython.core.display.Javascript object>"
            ],
            "application/javascript": [
              "google.colab.output.setIframeHeight(0, true, {maxHeight: 250})"
            ]
          },
          "metadata": {}
        },
        {
          "output_type": "display_data",
          "data": {
            "text/plain": [
              "<IPython.core.display.HTML object>"
            ],
            "text/html": [
              "<style> body {background-color: rgb(255, 250, 232);}</style>"
            ]
          },
          "metadata": {}
        },
        {
          "output_type": "display_data",
          "data": {
            "text/plain": [
              "<IPython.core.display.Javascript object>"
            ],
            "application/javascript": [
              "google.colab.output.setIframeHeight(0, true, {maxHeight: 250})"
            ]
          },
          "metadata": {}
        },
        {
          "output_type": "display_data",
          "data": {
            "text/plain": [
              "<IPython.core.display.HTML object>"
            ],
            "text/html": [
              "<style> body {background-color: rgb(255, 250, 232);}</style>"
            ]
          },
          "metadata": {}
        },
        {
          "output_type": "display_data",
          "data": {
            "text/plain": [
              "<IPython.core.display.Javascript object>"
            ],
            "application/javascript": [
              "google.colab.output.setIframeHeight(0, true, {maxHeight: 250})"
            ]
          },
          "metadata": {}
        },
        {
          "output_type": "display_data",
          "data": {
            "text/plain": [
              "<IPython.core.display.HTML object>"
            ],
            "text/html": [
              "<style> body {background-color: rgb(255, 250, 232);}</style>"
            ]
          },
          "metadata": {}
        },
        {
          "output_type": "display_data",
          "data": {
            "text/plain": [
              "<IPython.core.display.Javascript object>"
            ],
            "application/javascript": [
              "google.colab.output.setIframeHeight(0, true, {maxHeight: 250})"
            ]
          },
          "metadata": {}
        },
        {
          "output_type": "display_data",
          "data": {
            "text/plain": [
              "<IPython.core.display.HTML object>"
            ],
            "text/html": [
              "<style> body {background-color: rgb(255, 250, 232);}</style>"
            ]
          },
          "metadata": {}
        },
        {
          "output_type": "stream",
          "name": "stdout",
          "text": [
            "Wordcloud File Name: feat.cat_fb2000_cp_w.msgs404u.user_id.1gra.age.gender__0.freq100._tagcloud_wordclouds\n",
            "None of the features were significant, hence wordclouds not produced.\n"
          ]
        }
      ]
    },
    {
      "cell_type": "markdown",
      "source": [
        "DLATK uses data in CSV (comma-seprated value) format. Your csv needs at least two columns:\n",
        "* **`message`**: contains the text to be analyzed.\n",
        "* **`user_id`**: contains a user id for each message.\n",
        "\n",
        "<br />\n",
        "\n",
        "The CSV may also have other columns, including other ids you may wish to analyze your data by (e.g. `message_id`). For example,\n",
        "\n",
        "|message_id|message|user_id|created_date|\n",
        "|----------|-------|-------|------------|\n",
        "|17557|urlLink Ananova - New rules on pizza to be introduced|1405024|2004-05-27|\n",
        "|15996|I just read John Kerry's nomination acceptance speech. Christ, he can talk.  God bless America.|3523319|2004-07-29|\n",
        "|27462| Talk about 'better late than never'...   urlLink  Couple Living Together 77 Years Marries   .   Thanks to  urlLink  Zorak  for the link.|942828|2003-04-04|\n",
        "\n",
        "<br />\n",
        "<br />\n",
        "\n",
        "\n",
        "\n",
        "* `Upload from desktop` - your csv data that you want to analyze.\n",
        "* `msgs404u.csv` - sample language data from 404 blog authors.\n",
        "<!-- * `msgs100u.csv` - sample language data from 100 blog authors. -->\n",
        "\n",
        "<br />"
      ],
      "metadata": {
        "id": "K0ya5V1JTZxO"
      }
    },
    {
      "cell_type": "code",
      "source": [
        "#@title Select Text Column (unit of analysis)\n",
        "\n",
        "#@markdown Click the __play button__ at the top left to view the dropdown menu.\n",
        "\n",
        "#@markdown __Select__ the Text Column you wish to analyze, then click the \"Run Command\" button.\n",
        "\n",
        "import csv\n",
        "import ipywidgets as widgets\n",
        "from IPython.display import display, clear_output\n",
        "\n",
        "def get_available_columns(file_path):\n",
        "    \"\"\"Read the first row of the CSV file to get the column names.\"\"\"\n",
        "    with open(file_path, mode='r', encoding='utf-8') as file:\n",
        "        reader = csv.reader(file)\n",
        "        headers = next(reader, None)\n",
        "    return headers\n",
        "\n",
        "available_columns = get_available_columns(file_path)\n",
        "\n",
        "text_column_options = [col for col in available_columns if col != \"user\" and not col.endswith(\"_id\")]\n",
        "text_column_dropdown = widgets.Dropdown(options=text_column_options, description='Text Column:')\n",
        "text_confirm_button = widgets.Button(description=\"Confirm Text Column\")\n",
        "output = widgets.Output()\n",
        "\n",
        "def on_text_confirm_button_clicked(b):\n",
        "    global text_column_name\n",
        "    text_column_name = text_column_dropdown.value\n",
        "    with output:\n",
        "        clear_output()\n",
        "        print(f'Text Column confirmed: {text_column_name}')\n",
        "        # Now you should run the next code block to select the ID column\n",
        "\n",
        "text_confirm_button.on_click(on_text_confirm_button_clicked)\n",
        "display(text_column_dropdown, text_confirm_button, output)\n"
      ],
      "metadata": {
        "colab": {
          "base_uri": "https://localhost:8080/",
          "height": 98,
          "referenced_widgets": [
            "04afe0726c1d4acb971974e43dfe15c9",
            "d3a33a45a949465f9fea675cc8f22f00",
            "cc8eeef1d55c44498fc7ab78a7d58571",
            "bf06361b79fa400ea25359a316a7255f",
            "83d01f49c6ca45fcb7819ef03430e56b",
            "a1c67af30a584a02bb4afb15dabc732b",
            "0f83bb2f756041ba99f01d830d815453",
            "a14c6d3c371c4bfa943bd6ef10a7552b"
          ]
        },
        "id": "1JDrQ2WK2pTV",
        "outputId": "873adf23-11c9-4609-a92e-b2018e33ff45"
      },
      "execution_count": 42,
      "outputs": [
        {
          "output_type": "display_data",
          "data": {
            "text/plain": [
              "<IPython.core.display.Javascript object>"
            ],
            "application/javascript": [
              "google.colab.output.setIframeHeight(0, true, {maxHeight: 250})"
            ]
          },
          "metadata": {}
        },
        {
          "output_type": "display_data",
          "data": {
            "text/plain": [
              "<IPython.core.display.HTML object>"
            ],
            "text/html": [
              "<style> body {background-color: rgb(255, 250, 232);}</style>"
            ]
          },
          "metadata": {}
        },
        {
          "output_type": "display_data",
          "data": {
            "text/plain": [
              "<IPython.core.display.Javascript object>"
            ],
            "application/javascript": [
              "google.colab.output.setIframeHeight(0, true, {maxHeight: 250})"
            ]
          },
          "metadata": {}
        },
        {
          "output_type": "display_data",
          "data": {
            "text/plain": [
              "<IPython.core.display.HTML object>"
            ],
            "text/html": [
              "<style> body {background-color: rgb(255, 250, 232);}</style>"
            ]
          },
          "metadata": {}
        },
        {
          "output_type": "display_data",
          "data": {
            "text/plain": [
              "<IPython.core.display.Javascript object>"
            ],
            "application/javascript": [
              "google.colab.output.setIframeHeight(0, true, {maxHeight: 250})"
            ]
          },
          "metadata": {}
        },
        {
          "output_type": "display_data",
          "data": {
            "text/plain": [
              "<IPython.core.display.HTML object>"
            ],
            "text/html": [
              "<style> body {background-color: rgb(255, 250, 232);}</style>"
            ]
          },
          "metadata": {}
        },
        {
          "output_type": "display_data",
          "data": {
            "text/plain": [
              "<IPython.core.display.Javascript object>"
            ],
            "application/javascript": [
              "google.colab.output.setIframeHeight(0, true, {maxHeight: 250})"
            ]
          },
          "metadata": {}
        },
        {
          "output_type": "display_data",
          "data": {
            "text/plain": [
              "<IPython.core.display.HTML object>"
            ],
            "text/html": [
              "<style> body {background-color: rgb(255, 250, 232);}</style>"
            ]
          },
          "metadata": {}
        },
        {
          "output_type": "display_data",
          "data": {
            "text/plain": [
              "<IPython.core.display.Javascript object>"
            ],
            "application/javascript": [
              "google.colab.output.setIframeHeight(0, true, {maxHeight: 250})"
            ]
          },
          "metadata": {}
        },
        {
          "output_type": "display_data",
          "data": {
            "text/plain": [
              "<IPython.core.display.HTML object>"
            ],
            "text/html": [
              "<style> body {background-color: rgb(255, 250, 232);}</style>"
            ]
          },
          "metadata": {}
        },
        {
          "output_type": "display_data",
          "data": {
            "text/plain": [
              "<IPython.core.display.Javascript object>"
            ],
            "application/javascript": [
              "google.colab.output.setIframeHeight(0, true, {maxHeight: 250})"
            ]
          },
          "metadata": {}
        },
        {
          "output_type": "display_data",
          "data": {
            "text/plain": [
              "<IPython.core.display.HTML object>"
            ],
            "text/html": [
              "<style> body {background-color: rgb(255, 250, 232);}</style>"
            ]
          },
          "metadata": {}
        },
        {
          "output_type": "display_data",
          "data": {
            "text/plain": [
              "Dropdown(description='Text Column:', options=('created_date', 'message'), value='created_date')"
            ],
            "application/vnd.jupyter.widget-view+json": {
              "version_major": 2,
              "version_minor": 0,
              "model_id": "04afe0726c1d4acb971974e43dfe15c9"
            }
          },
          "metadata": {}
        },
        {
          "output_type": "display_data",
          "data": {
            "text/plain": [
              "Button(description='Confirm Text Column', style=ButtonStyle())"
            ],
            "application/vnd.jupyter.widget-view+json": {
              "version_major": 2,
              "version_minor": 0,
              "model_id": "bf06361b79fa400ea25359a316a7255f"
            }
          },
          "metadata": {}
        },
        {
          "output_type": "display_data",
          "data": {
            "text/plain": [
              "Output()"
            ],
            "application/vnd.jupyter.widget-view+json": {
              "version_major": 2,
              "version_minor": 0,
              "model_id": "0f83bb2f756041ba99f01d830d815453"
            }
          },
          "metadata": {}
        }
      ]
    },
    {
      "cell_type": "code",
      "source": [
        "#@title Select ID Column (unit of analysis)\n",
        "\n",
        "#@markdown Click the __play button__ at the top left to view the dropdown menu.\n",
        "\n",
        "#@markdown __Select__ the ID Column you wish to analyze, then click the \"Confirm ID Column\" button.\n",
        "\n",
        "import csv\n",
        "import ipywidgets as widgets\n",
        "from IPython.display import display, clear_output\n",
        "\n",
        "# Assuming 'file_path' is defined and accessible\n",
        "# Assuming 'text_column_name' is defined and accessible (selected from Code A)\n",
        "\n",
        "def get_available_columns(file_path):\n",
        "    \"\"\"Read the first row of the CSV file to get the column names.\"\"\"\n",
        "    with open(file_path, mode='r', encoding='utf-8') as file:\n",
        "        reader = csv.reader(file)\n",
        "        headers = next(reader, None)\n",
        "    return headers\n",
        "\n",
        "def add_id_column_if_missing(file_path, column_name):\n",
        "    \"\"\"Adds an ID column if it's missing, appending numbers from 1 upwards to the end of each row.\"\"\"\n",
        "    with open(file_path, mode='r', encoding='utf-8') as file:\n",
        "        reader = list(csv.reader(file))\n",
        "        headers = reader[0]\n",
        "        column_id_name = column_name + '_id'\n",
        "        if column_id_name not in headers:\n",
        "            headers.append(column_id_name)  # Append the new ID column name to the headers\n",
        "            for i, row in enumerate(reader[1:], start=1):  # Start from 1 to skip header row\n",
        "                row.append(str(i))  # Append the new ID value at the end of each row\n",
        "            with open(file_path, mode='w', encoding='utf-8', newline='') as wfile:\n",
        "                writer = csv.writer(wfile)\n",
        "                writer.writerow(headers)  # Write the updated headers\n",
        "                writer.writerows(reader[1:])  # Write the updated data rows, excluding the original headers\n",
        "            print(f\"Added '{column_id_name}' column and saved changes.\")\n",
        "            return True\n",
        "    return False\n",
        "\n",
        "# Attempt to add an ID column if missing\n",
        "add_id_column_if_missing(file_path, text_column_name)\n",
        "\n",
        "# Refresh available columns to include potential new ID column\n",
        "available_columns = get_available_columns(file_path)\n",
        "\n",
        "# Include all columns ending with \"_id\" and the new ID column related to the selected text column\n",
        "id_column_options = [col for col in available_columns if col.endswith(\"_id\")]\n",
        "\n",
        "id_column_dropdown = widgets.Dropdown(options=id_column_options, description='ID Column:', value=None)\n",
        "id_confirm_button = widgets.Button(description=\"Confirm ID Column\")\n",
        "output = widgets.Output()\n",
        "\n",
        "def on_id_confirm_button_clicked(b):\n",
        "    global id_column_name\n",
        "    id_column_name = id_column_dropdown.value\n",
        "    with output:\n",
        "        clear_output()\n",
        "        print(f'ID Column confirmed: {id_column_name}')\n",
        "\n",
        "id_confirm_button.on_click(on_id_confirm_button_clicked)\n",
        "display(id_column_dropdown, id_confirm_button, output)\n"
      ],
      "metadata": {
        "colab": {
          "base_uri": "https://localhost:8080/",
          "height": 98,
          "referenced_widgets": [
            "3c2ec761236e43288f7143e71f1fc223",
            "05a3b7adebe5419d815b12cfd02499c8",
            "98c904bd351a43ee9eb308442e0e47a0",
            "365c380e5fcb461792d51091cbad509d",
            "eedf5aa23a9c4ddc9783b252759c8b98",
            "900755ae09bb4492a92bd274584cba31",
            "c0f12994d1204afe9a8c91ea81b6f140",
            "0493f7db9a614550a08b5b4196c06380"
          ]
        },
        "id": "T9OmVmaC4nR7",
        "outputId": "59f7f890-9e60-4bce-8762-c2dc7d9df340"
      },
      "execution_count": 43,
      "outputs": [
        {
          "output_type": "display_data",
          "data": {
            "text/plain": [
              "<IPython.core.display.Javascript object>"
            ],
            "application/javascript": [
              "google.colab.output.setIframeHeight(0, true, {maxHeight: 250})"
            ]
          },
          "metadata": {}
        },
        {
          "output_type": "display_data",
          "data": {
            "text/plain": [
              "<IPython.core.display.HTML object>"
            ],
            "text/html": [
              "<style> body {background-color: rgb(255, 250, 232);}</style>"
            ]
          },
          "metadata": {}
        },
        {
          "output_type": "display_data",
          "data": {
            "text/plain": [
              "<IPython.core.display.Javascript object>"
            ],
            "application/javascript": [
              "google.colab.output.setIframeHeight(0, true, {maxHeight: 250})"
            ]
          },
          "metadata": {}
        },
        {
          "output_type": "display_data",
          "data": {
            "text/plain": [
              "<IPython.core.display.HTML object>"
            ],
            "text/html": [
              "<style> body {background-color: rgb(255, 250, 232);}</style>"
            ]
          },
          "metadata": {}
        },
        {
          "output_type": "display_data",
          "data": {
            "text/plain": [
              "<IPython.core.display.Javascript object>"
            ],
            "application/javascript": [
              "google.colab.output.setIframeHeight(0, true, {maxHeight: 250})"
            ]
          },
          "metadata": {}
        },
        {
          "output_type": "display_data",
          "data": {
            "text/plain": [
              "<IPython.core.display.HTML object>"
            ],
            "text/html": [
              "<style> body {background-color: rgb(255, 250, 232);}</style>"
            ]
          },
          "metadata": {}
        },
        {
          "output_type": "display_data",
          "data": {
            "text/plain": [
              "<IPython.core.display.Javascript object>"
            ],
            "application/javascript": [
              "google.colab.output.setIframeHeight(0, true, {maxHeight: 250})"
            ]
          },
          "metadata": {}
        },
        {
          "output_type": "display_data",
          "data": {
            "text/plain": [
              "<IPython.core.display.HTML object>"
            ],
            "text/html": [
              "<style> body {background-color: rgb(255, 250, 232);}</style>"
            ]
          },
          "metadata": {}
        },
        {
          "output_type": "display_data",
          "data": {
            "text/plain": [
              "<IPython.core.display.Javascript object>"
            ],
            "application/javascript": [
              "google.colab.output.setIframeHeight(0, true, {maxHeight: 250})"
            ]
          },
          "metadata": {}
        },
        {
          "output_type": "display_data",
          "data": {
            "text/plain": [
              "<IPython.core.display.HTML object>"
            ],
            "text/html": [
              "<style> body {background-color: rgb(255, 250, 232);}</style>"
            ]
          },
          "metadata": {}
        },
        {
          "output_type": "display_data",
          "data": {
            "text/plain": [
              "<IPython.core.display.Javascript object>"
            ],
            "application/javascript": [
              "google.colab.output.setIframeHeight(0, true, {maxHeight: 250})"
            ]
          },
          "metadata": {}
        },
        {
          "output_type": "display_data",
          "data": {
            "text/plain": [
              "<IPython.core.display.HTML object>"
            ],
            "text/html": [
              "<style> body {background-color: rgb(255, 250, 232);}</style>"
            ]
          },
          "metadata": {}
        },
        {
          "output_type": "display_data",
          "data": {
            "text/plain": [
              "Dropdown(description='ID Column:', options=('message_id', 'user_id'), value=None)"
            ],
            "application/vnd.jupyter.widget-view+json": {
              "version_major": 2,
              "version_minor": 0,
              "model_id": "3c2ec761236e43288f7143e71f1fc223"
            }
          },
          "metadata": {}
        },
        {
          "output_type": "display_data",
          "data": {
            "text/plain": [
              "Button(description='Confirm ID Column', style=ButtonStyle())"
            ],
            "application/vnd.jupyter.widget-view+json": {
              "version_major": 2,
              "version_minor": 0,
              "model_id": "365c380e5fcb461792d51091cbad509d"
            }
          },
          "metadata": {}
        },
        {
          "output_type": "display_data",
          "data": {
            "text/plain": [
              "Output()"
            ],
            "application/vnd.jupyter.widget-view+json": {
              "version_major": 2,
              "version_minor": 0,
              "model_id": "c0f12994d1204afe9a8c91ea81b6f140"
            }
          },
          "metadata": {}
        }
      ]
    },
    {
      "cell_type": "markdown",
      "source": [
        "👉 For detailed information about the columns in the `msgs404u.csv` file, as well as their corresponding outcome files `users404.csv`, you can refer to [this link](https://github.com/dlatk/dlatk/blob/public/dlatk/data/colab_dataset.md). This link contains detailed descriptions of what each column in these datasets represents."
      ],
      "metadata": {
        "id": "c41ypjC0I85n"
      }
    },
    {
      "cell_type": "markdown",
      "source": [
        "<a name=\"data\"></a>\n",
        "# STEP3: Select features to extract & Check tables"
      ],
      "metadata": {
        "id": "RC-tXSgWTnB6"
      }
    },
    {
      "cell_type": "code",
      "source": [
        "import subprocess\n",
        "import ipywidgets as widgets\n",
        "from IPython.display import display, clear_output\n",
        "\n",
        "#@title Select features to extract\n",
        "#@markdown Click the __play button__ at the top left to view the dropdown menu.\n",
        "\n",
        "#@markdown __Select__ the features you wish to analyze, then click the \"Run Command\" button.\n",
        "\n",
        "database_name = \"colab_csv\"\n",
        "file_name_without_extension = file_name.rsplit('.', 1)[0]  # Assuming file_name is defined globally\n",
        "\n",
        "# Dropdown for feature generation options\n",
        "feature_options = widgets.Dropdown(\n",
        "    options=['Select option', '1to2grams-filtered', '1to2grams-unfiltered', 'topics'],\n",
        "    value='Select option',\n",
        "    description='Options:',\n",
        ")\n",
        "\n",
        "# Integer input for advanced topic modeling, hidden by default\n",
        "advanced_options = widgets.IntText(\n",
        "    value=100,\n",
        "    description='Group Freq Thresh:',\n",
        "    style={'description_width': 'initial'},\n",
        "    disabled=False,  # Enable by default but hidden\n",
        "    layout={'visibility': 'hidden'}  # Start with hidden layout\n",
        ")\n",
        "\n",
        "# Text area for displaying output\n",
        "output = widgets.Output()\n",
        "run_button = widgets.Button(description=\"Run Command\")\n",
        "\n",
        "def generate_unfiltered_feature_table():\n",
        "    global generated_feature_table_name\n",
        "    combined_feature_table_name = \"1to2gram\"\n",
        "    command = f\"dlatkInterface.py -d {database_name} -t {file_name} -g {id_column_name} \" \\\n",
        "              f\"--message_field {text_column_name} --messageid_field {text_column_name}_id \" \\\n",
        "              f\"--add_ngrams -n 1 2 --combine_feat_tables {combined_feature_table_name}\"\n",
        "    print(f\"Generating unfiltered 1to2grams feature table: {command}\")\n",
        "    subprocess.run(command, shell=True)\n",
        "    generated_feature_table_name = f\"feat${combined_feature_table_name}${file_name_without_extension}${id_column_name}\"\n",
        "    print(f\"Generated feature table: {generated_feature_table_name}\")\n",
        "\n",
        "def execute_feature_command(b):\n",
        "    global generated_feature_table_name\n",
        "    group_freq_thresh = advanced_options.value if feature_options.value == 'topics' else 100\n",
        "\n",
        "    with output:\n",
        "        clear_output()\n",
        "        if feature_options.value == '1to2grams-unfiltered':\n",
        "            generate_unfiltered_feature_table()\n",
        "\n",
        "        elif feature_options.value == '1to2grams-filtered':\n",
        "            combined_feature_table_name = \"1to2gram\"\n",
        "            command = f\"dlatkInterface.py -d {database_name} -t {file_name} -g {id_column_name} \" \\\n",
        "                      f\"--message_field {text_column_name} --messageid_field {text_column_name}_id \" \\\n",
        "                      f\"--add_ngrams -n 1 2 --combine_feat_tables {combined_feature_table_name} \" \\\n",
        "                      f\"--feat_occ_filter --set_p_occ 0.10 --feat_colloc_filter\"\n",
        "            print(f\"Executing: {command}\")\n",
        "            subprocess.run(command, shell=True)\n",
        "            generated_feature_table_name = f\"feat${combined_feature_table_name}${file_name_without_extension}${id_column_name}$0_1$pmi3_0\"\n",
        "            print(f\"Generated feature table: {generated_feature_table_name}\")\n",
        "\n",
        "        elif feature_options.value == 'topics':\n",
        "            lex_table_name = f\"feat$cat_fb2000_cp_w${file_name_without_extension}${id_column_name}$1gra\"\n",
        "            command = f\"dlatkInterface.py -d {database_name} -t {file_name} -g {id_column_name} \" \\\n",
        "                      f\"--message_field {text_column_name} --messageid_field {text_column_name}_id \" \\\n",
        "                      f\"--group_freq_thresh {group_freq_thresh} --add_lex_table -l fb2000_cp --weighted_lexicon\"\n",
        "            print(f\"Executing: {command}\")\n",
        "            subprocess.run(command, shell=True)\n",
        "            print(f\"Generated LDA feature table: {lex_table_name}\")\n",
        "\n",
        "def on_feature_change(change):\n",
        "    if change['new'] == 'topics':\n",
        "        advanced_options.layout.visibility = 'visible'  # Make visible\n",
        "    else:\n",
        "        advanced_options.layout.visibility = 'hidden'  # Hide\n",
        "        advanced_options.value = 100  # Reset to default when not on 'topics'\n",
        "\n",
        "feature_options.observe(on_feature_change, names='value')\n",
        "\n",
        "run_button.on_click(execute_feature_command)\n",
        "display(feature_options, advanced_options, run_button, output)\n"
      ],
      "metadata": {
        "colab": {
          "base_uri": "https://localhost:8080/",
          "height": 163,
          "referenced_widgets": [
            "4b0376ee4cc74402beef2c1529e584fc",
            "4bed4f75541d46dfbb1beea6b05b7b9e",
            "0bd5306716d648e4b67b16dcc0dc6484",
            "38166ffe7a4b48c3a41f756c375ccc6f",
            "d52d08d9070845d6b5db3b68fda570b6",
            "66e1550bba524f40aba8146451efdc22",
            "c49a5ebdf01946db899a10f5241296ca",
            "cd372c7724964e728e701e150ade0471",
            "26ae988082f24bdaa3944c3a9f584fd6",
            "857bb893e71e430f855b25ee28f0f6c1",
            "926b784560e04de7bcfac2d010e142b9"
          ]
        },
        "id": "iZzIZB-xqRWZ",
        "outputId": "1b24b776-a9a6-4269-936d-4fff4be8396b"
      },
      "execution_count": 47,
      "outputs": [
        {
          "output_type": "display_data",
          "data": {
            "text/plain": [
              "<IPython.core.display.Javascript object>"
            ],
            "application/javascript": [
              "google.colab.output.setIframeHeight(0, true, {maxHeight: 250})"
            ]
          },
          "metadata": {}
        },
        {
          "output_type": "display_data",
          "data": {
            "text/plain": [
              "<IPython.core.display.HTML object>"
            ],
            "text/html": [
              "<style> body {background-color: rgb(255, 250, 232);}</style>"
            ]
          },
          "metadata": {}
        },
        {
          "output_type": "display_data",
          "data": {
            "text/plain": [
              "<IPython.core.display.Javascript object>"
            ],
            "application/javascript": [
              "google.colab.output.setIframeHeight(0, true, {maxHeight: 250})"
            ]
          },
          "metadata": {}
        },
        {
          "output_type": "display_data",
          "data": {
            "text/plain": [
              "<IPython.core.display.HTML object>"
            ],
            "text/html": [
              "<style> body {background-color: rgb(255, 250, 232);}</style>"
            ]
          },
          "metadata": {}
        },
        {
          "output_type": "display_data",
          "data": {
            "text/plain": [
              "<IPython.core.display.Javascript object>"
            ],
            "application/javascript": [
              "google.colab.output.setIframeHeight(0, true, {maxHeight: 250})"
            ]
          },
          "metadata": {}
        },
        {
          "output_type": "display_data",
          "data": {
            "text/plain": [
              "<IPython.core.display.HTML object>"
            ],
            "text/html": [
              "<style> body {background-color: rgb(255, 250, 232);}</style>"
            ]
          },
          "metadata": {}
        },
        {
          "output_type": "display_data",
          "data": {
            "text/plain": [
              "<IPython.core.display.Javascript object>"
            ],
            "application/javascript": [
              "google.colab.output.setIframeHeight(0, true, {maxHeight: 250})"
            ]
          },
          "metadata": {}
        },
        {
          "output_type": "display_data",
          "data": {
            "text/plain": [
              "<IPython.core.display.HTML object>"
            ],
            "text/html": [
              "<style> body {background-color: rgb(255, 250, 232);}</style>"
            ]
          },
          "metadata": {}
        },
        {
          "output_type": "display_data",
          "data": {
            "text/plain": [
              "<IPython.core.display.Javascript object>"
            ],
            "application/javascript": [
              "google.colab.output.setIframeHeight(0, true, {maxHeight: 250})"
            ]
          },
          "metadata": {}
        },
        {
          "output_type": "display_data",
          "data": {
            "text/plain": [
              "<IPython.core.display.HTML object>"
            ],
            "text/html": [
              "<style> body {background-color: rgb(255, 250, 232);}</style>"
            ]
          },
          "metadata": {}
        },
        {
          "output_type": "display_data",
          "data": {
            "text/plain": [
              "<IPython.core.display.Javascript object>"
            ],
            "application/javascript": [
              "google.colab.output.setIframeHeight(0, true, {maxHeight: 250})"
            ]
          },
          "metadata": {}
        },
        {
          "output_type": "display_data",
          "data": {
            "text/plain": [
              "<IPython.core.display.HTML object>"
            ],
            "text/html": [
              "<style> body {background-color: rgb(255, 250, 232);}</style>"
            ]
          },
          "metadata": {}
        },
        {
          "output_type": "display_data",
          "data": {
            "text/plain": [
              "Dropdown(description='Options:', options=('Select option', '1to2grams-filtered', '1to2grams-unfiltered', 'topi…"
            ],
            "application/vnd.jupyter.widget-view+json": {
              "version_major": 2,
              "version_minor": 0,
              "model_id": "4b0376ee4cc74402beef2c1529e584fc"
            }
          },
          "metadata": {}
        },
        {
          "output_type": "display_data",
          "data": {
            "text/plain": [
              "IntText(value=100, description='Group Freq Thresh:', layout=Layout(visibility='hidden'), style=DescriptionStyl…"
            ],
            "application/vnd.jupyter.widget-view+json": {
              "version_major": 2,
              "version_minor": 0,
              "model_id": "38166ffe7a4b48c3a41f756c375ccc6f"
            }
          },
          "metadata": {}
        },
        {
          "output_type": "display_data",
          "data": {
            "text/plain": [
              "Button(description='Run Command', style=ButtonStyle())"
            ],
            "application/vnd.jupyter.widget-view+json": {
              "version_major": 2,
              "version_minor": 0,
              "model_id": "c49a5ebdf01946db899a10f5241296ca"
            }
          },
          "metadata": {}
        },
        {
          "output_type": "display_data",
          "data": {
            "text/plain": [
              "Output()"
            ],
            "application/vnd.jupyter.widget-view+json": {
              "version_major": 2,
              "version_minor": 0,
              "model_id": "857bb893e71e430f855b25ee28f0f6c1"
            }
          },
          "metadata": {}
        }
      ]
    },
    {
      "cell_type": "code",
      "source": [
        "import subprocess\n",
        "import ipywidgets as widgets\n",
        "from IPython.display import display, clear_output\n",
        "\n",
        "#@title Feature Tables Management { display-mode: \"form\" }\n",
        "#@markdown **Click the play button** to display feature tables from your previously uploaded file, save your selections, and view a specific table.\n",
        "\n",
        "#@markdown After making a selection, the first 10 rows of the chosen feature table will be displayed within 3 seconds.\n",
        "\n",
        "\n",
        "\n",
        "# Mapping of user-friendly option names to their corresponding command strings\n",
        "feature_table_mapping = {\n",
        "    \"1to2grams-filtered-table\": f\"feat$1to2gram${file_name_without_extension}${id_column_name}$0_1$pmi3_0\",\n",
        "    \"1to2grams-unfiltered-table\": f\"feat$1to2gram${file_name_without_extension}${id_column_name}\",\n",
        "    \"topics-table\": f\"feat$cat_fb2000_cp_w${file_name_without_extension}${id_column_name}$1gra\"  # Adding topics-related feature table option\n",
        "}\n",
        "\n",
        "# Create a dropdown for selecting the feature table using the friendly names\n",
        "dropdown = widgets.Dropdown(\n",
        "    options=[(key, value) for key, value in feature_table_mapping.items()],\n",
        "    description='Select Table:',\n",
        "    style={'description_width': 'initial'}\n",
        ")\n",
        "\n",
        "# Text area for displaying output\n",
        "output_text_area = widgets.Output()\n",
        "\n",
        "# Button to execute the command for the selected feature table\n",
        "run_command_button = widgets.Button(description=\"Run Command\")\n",
        "\n",
        "def run_command(b):\n",
        "    selected_table = dropdown.value  # This gets the actual command string from the mapping\n",
        "    # Surround the selected_table with single quotes for the command\n",
        "    command = f\"dlatkInterface.py -d {database_name} -t {file_name} -g {id_column_name} -f '{selected_table}' --view_tables\"\n",
        "    process = subprocess.run(command, shell=True, capture_output=True, text=True)\n",
        "    with output_text_area:\n",
        "        clear_output(wait=True)  # Optionally clear previous output\n",
        "        if process.stdout:\n",
        "            print(\"Command Output:\\n\", process.stdout)\n",
        "        if process.stderr:\n",
        "            print(\"Command Error:\\n\", process.stderr)\n",
        "\n",
        "# Attach the button click event to the run_command function\n",
        "run_command_button.on_click(run_command)\n",
        "\n",
        "# Display UI components\n",
        "display(dropdown, run_command_button, output_text_area)\n"
      ],
      "metadata": {
        "colab": {
          "base_uri": "https://localhost:8080/",
          "height": 228
        },
        "id": "59hm80PcY4pi",
        "outputId": "56ee5493-d8f2-482b-fa7d-ba324ea6acfc"
      },
      "execution_count": 9,
      "outputs": [
        {
          "output_type": "display_data",
          "data": {
            "text/plain": [
              "<IPython.core.display.Javascript object>"
            ],
            "application/javascript": [
              "google.colab.output.setIframeHeight(0, true, {maxHeight: 250})"
            ]
          },
          "metadata": {}
        },
        {
          "output_type": "display_data",
          "data": {
            "text/plain": [
              "<IPython.core.display.HTML object>"
            ],
            "text/html": [
              "<style> body {background-color: rgb(255, 250, 232);}</style>"
            ]
          },
          "metadata": {}
        },
        {
          "output_type": "display_data",
          "data": {
            "text/plain": [
              "<IPython.core.display.Javascript object>"
            ],
            "application/javascript": [
              "google.colab.output.setIframeHeight(0, true, {maxHeight: 250})"
            ]
          },
          "metadata": {}
        },
        {
          "output_type": "display_data",
          "data": {
            "text/plain": [
              "<IPython.core.display.HTML object>"
            ],
            "text/html": [
              "<style> body {background-color: rgb(255, 250, 232);}</style>"
            ]
          },
          "metadata": {}
        },
        {
          "output_type": "display_data",
          "data": {
            "text/plain": [
              "<IPython.core.display.Javascript object>"
            ],
            "application/javascript": [
              "google.colab.output.setIframeHeight(0, true, {maxHeight: 250})"
            ]
          },
          "metadata": {}
        },
        {
          "output_type": "display_data",
          "data": {
            "text/plain": [
              "<IPython.core.display.HTML object>"
            ],
            "text/html": [
              "<style> body {background-color: rgb(255, 250, 232);}</style>"
            ]
          },
          "metadata": {}
        },
        {
          "output_type": "display_data",
          "data": {
            "text/plain": [
              "<IPython.core.display.Javascript object>"
            ],
            "application/javascript": [
              "google.colab.output.setIframeHeight(0, true, {maxHeight: 250})"
            ]
          },
          "metadata": {}
        },
        {
          "output_type": "display_data",
          "data": {
            "text/plain": [
              "<IPython.core.display.HTML object>"
            ],
            "text/html": [
              "<style> body {background-color: rgb(255, 250, 232);}</style>"
            ]
          },
          "metadata": {}
        },
        {
          "output_type": "display_data",
          "data": {
            "text/plain": [
              "<IPython.core.display.Javascript object>"
            ],
            "application/javascript": [
              "google.colab.output.setIframeHeight(0, true, {maxHeight: 250})"
            ]
          },
          "metadata": {}
        },
        {
          "output_type": "display_data",
          "data": {
            "text/plain": [
              "<IPython.core.display.HTML object>"
            ],
            "text/html": [
              "<style> body {background-color: rgb(255, 250, 232);}</style>"
            ]
          },
          "metadata": {}
        },
        {
          "output_type": "display_data",
          "data": {
            "text/plain": [
              "<IPython.core.display.Javascript object>"
            ],
            "application/javascript": [
              "google.colab.output.setIframeHeight(0, true, {maxHeight: 250})"
            ]
          },
          "metadata": {}
        },
        {
          "output_type": "display_data",
          "data": {
            "text/plain": [
              "<IPython.core.display.HTML object>"
            ],
            "text/html": [
              "<style> body {background-color: rgb(255, 250, 232);}</style>"
            ]
          },
          "metadata": {}
        },
        {
          "output_type": "error",
          "ename": "NameError",
          "evalue": "name 'file_name_without_extension' is not defined",
          "traceback": [
            "\u001b[0;31m---------------------------------------------------------------------------\u001b[0m",
            "\u001b[0;31mNameError\u001b[0m                                 Traceback (most recent call last)",
            "\u001b[0;32m<ipython-input-9-4edd29732a5e>\u001b[0m in \u001b[0;36m<cell line: 14>\u001b[0;34m()\u001b[0m\n\u001b[1;32m     12\u001b[0m \u001b[0;31m# Mapping of user-friendly option names to their corresponding command strings\u001b[0m\u001b[0;34m\u001b[0m\u001b[0;34m\u001b[0m\u001b[0m\n\u001b[1;32m     13\u001b[0m feature_table_mapping = {\n\u001b[0;32m---> 14\u001b[0;31m     \u001b[0;34m\"1to2grams-filtered-table\"\u001b[0m\u001b[0;34m:\u001b[0m \u001b[0;34mf\"feat$1to2gram${file_name_without_extension}${id_column_name}$0_1$pmi3_0\"\u001b[0m\u001b[0;34m,\u001b[0m\u001b[0;34m\u001b[0m\u001b[0;34m\u001b[0m\u001b[0m\n\u001b[0m\u001b[1;32m     15\u001b[0m     \u001b[0;34m\"1to2grams-unfiltered-table\"\u001b[0m\u001b[0;34m:\u001b[0m \u001b[0;34mf\"feat$1to2gram${file_name_without_extension}${id_column_name}\"\u001b[0m\u001b[0;34m,\u001b[0m\u001b[0;34m\u001b[0m\u001b[0;34m\u001b[0m\u001b[0m\n\u001b[1;32m     16\u001b[0m     \u001b[0;34m\"topics-table\"\u001b[0m\u001b[0;34m:\u001b[0m \u001b[0;34mf\"feat$cat_fb2000_cp_w${file_name_without_extension}${id_column_name}$1gra\"\u001b[0m  \u001b[0;31m# Adding topics-related feature table option\u001b[0m\u001b[0;34m\u001b[0m\u001b[0;34m\u001b[0m\u001b[0m\n",
            "\u001b[0;31mNameError\u001b[0m: name 'file_name_without_extension' is not defined"
          ]
        }
      ]
    },
    {
      "cell_type": "markdown",
      "source": [
        "<a name=\"data\"></a>\n",
        "# STEP4: Correlate outcome"
      ],
      "metadata": {
        "id": "Qwd6akU6YP7O"
      }
    },
    {
      "cell_type": "markdown",
      "metadata": {
        "id": "n0G8ppKjJCkF"
      },
      "source": [
        "Now that you have the language features, you can correlate them against outcomes like `age` while controlling for another variable like `gender`.\n",
        "\n",
        "\n",
        "<img src=\"https://drive.google.com/uc?export=view&id=11ODkDFwsfQFc-5R5o757k3Ij9XbW9_Yb\" height=\"250\" width=\"500\"/>\n",
        "\n",
        "<br/>\n",
        "\n",
        "To do this, you need to tell DLATK the feature table to use and the outcomes:\n",
        "\n",
        "* **`-f 'TABLE_NAME'`** - names of the feature table (`feat$1to2gram$msgs404u$user_id$0_2$pmi3_0` in this case)\n",
        "* **`--outcome_table NAME`** - the name of the table with outcomes (`users404.csv`, can be the message table if it contains the outcomes)\n",
        "* **`--outcomes OC1 [OC2...]`** - list of outcomes to be associated with (`age` in this case)\n",
        "* **`--controls C1 [C2...]`** - list of statistical controls for the ascociation (we will control for `gender` in this example).\n",
        "\n",
        "<br/>\n",
        "\n",
        "Then, you specify what that you want a correlation matrix output with **`--rmatrix`** flag, and because the `gender` variable is categorical, we\n",
        " **`--cat_to_bin gender`** which converts the variable into [one-hot representation](https://wandb.ai/ayush-thakur/dl-question-bank/reports/How-One-Hot-Encoding-Improves-Machine-Learning-Performance--VmlldzoxOTkzMDk).\n"
      ]
    },
    {
      "cell_type": "code",
      "execution_count": 31,
      "metadata": {
        "outputId": "00814d2f-43f7-4fa5-abb6-eb62e68afa7a",
        "colab": {
          "base_uri": "https://localhost:8080/",
          "height": 52
        },
        "id": "7odAdDHac0ME"
      },
      "outputs": [
        {
          "output_type": "display_data",
          "data": {
            "text/plain": [
              "<IPython.core.display.Javascript object>"
            ],
            "application/javascript": [
              "google.colab.output.setIframeHeight(0, true, {maxHeight: 250})"
            ]
          },
          "metadata": {}
        },
        {
          "output_type": "display_data",
          "data": {
            "text/plain": [
              "<IPython.core.display.HTML object>"
            ],
            "text/html": [
              "<style> body {background-color: rgb(255, 250, 232);}</style>"
            ]
          },
          "metadata": {}
        },
        {
          "output_type": "display_data",
          "data": {
            "text/plain": [
              "<IPython.core.display.Javascript object>"
            ],
            "application/javascript": [
              "google.colab.output.setIframeHeight(0, true, {maxHeight: 250})"
            ]
          },
          "metadata": {}
        },
        {
          "output_type": "display_data",
          "data": {
            "text/plain": [
              "<IPython.core.display.HTML object>"
            ],
            "text/html": [
              "<style> body {background-color: rgb(255, 250, 232);}</style>"
            ]
          },
          "metadata": {}
        },
        {
          "output_type": "display_data",
          "data": {
            "text/plain": [
              "<IPython.core.display.Javascript object>"
            ],
            "application/javascript": [
              "google.colab.output.setIframeHeight(0, true, {maxHeight: 250})"
            ]
          },
          "metadata": {}
        },
        {
          "output_type": "display_data",
          "data": {
            "text/plain": [
              "<IPython.core.display.HTML object>"
            ],
            "text/html": [
              "<style> body {background-color: rgb(255, 250, 232);}</style>"
            ]
          },
          "metadata": {}
        },
        {
          "output_type": "display_data",
          "data": {
            "text/plain": [
              "<IPython.core.display.Javascript object>"
            ],
            "application/javascript": [
              "google.colab.output.setIframeHeight(0, true, {maxHeight: 250})"
            ]
          },
          "metadata": {}
        },
        {
          "output_type": "display_data",
          "data": {
            "text/plain": [
              "<IPython.core.display.HTML object>"
            ],
            "text/html": [
              "<style> body {background-color: rgb(255, 250, 232);}</style>"
            ]
          },
          "metadata": {}
        },
        {
          "output_type": "display_data",
          "data": {
            "text/plain": [
              "<IPython.core.display.Javascript object>"
            ],
            "application/javascript": [
              "google.colab.output.setIframeHeight(0, true, {maxHeight: 250})"
            ]
          },
          "metadata": {}
        },
        {
          "output_type": "display_data",
          "data": {
            "text/plain": [
              "<IPython.core.display.HTML object>"
            ],
            "text/html": [
              "<style> body {background-color: rgb(255, 250, 232);}</style>"
            ]
          },
          "metadata": {}
        },
        {
          "output_type": "display_data",
          "data": {
            "text/plain": [
              "<IPython.core.display.Javascript object>"
            ],
            "application/javascript": [
              "google.colab.output.setIframeHeight(0, true, {maxHeight: 250})"
            ]
          },
          "metadata": {}
        },
        {
          "output_type": "display_data",
          "data": {
            "text/plain": [
              "<IPython.core.display.HTML object>"
            ],
            "text/html": [
              "<style> body {background-color: rgb(255, 250, 232);}</style>"
            ]
          },
          "metadata": {}
        },
        {
          "output_type": "stream",
          "name": "stdout",
          "text": [
            "Default dataset selected: users404.csv\n",
            "Dataset ready for use: /content/users404.csv\n"
          ]
        }
      ],
      "source": [
        "import re\n",
        "from google.colab import files\n",
        "import os\n",
        "\n",
        "#@title Upload correlate data\n",
        "\n",
        "#@markdown Select a predefined dataset from the dropdown menu, or choose \"Upload from desktop\" to upload your own dataset.\n",
        "\n",
        "# This is a dropdown for choosing between default datasets or uploading your own\n",
        "default_dataset = \"users404.csv\" #@param [\"Upload from desktop\", \"users404.csv\"]\n",
        "\n",
        "#@markdown If you opt for desktop upload, click the \"Choose Files\" button that appears upon executing this cell.\n",
        "\n",
        "# Function to check if the file exists (for local files)\n",
        "def file_exists(file_path):\n",
        "    return os.path.exists(file_path)\n",
        "\n",
        "# Sanitizes file names to ensure they end with '.csv'\n",
        "def sanitize_file_name(file_name):\n",
        "    base_file_name = re.sub(r\" \\(\\d+\\)\", \"\", file_name)\n",
        "    if not base_file_name.endswith('.csv'):\n",
        "        base_file_name += '.csv'\n",
        "    return base_file_name\n",
        "\n",
        "file_path = None  # Initialize file_path variable\n",
        "\n",
        "if default_dataset != \"Upload from desktop\":\n",
        "    # If a default dataset is selected, set the file_path accordingly\n",
        "    outcome_table_name = sanitize_file_name(default_dataset)\n",
        "    file_path = os.path.join(\"/content\", outcome_table_name)\n",
        "    print(f'Default dataset selected: {outcome_table_name}')\n",
        "else:\n",
        "    print(\"Please upload a dataset from the desktop.\")\n",
        "    uploaded_files = files.upload()\n",
        "    if uploaded_files:\n",
        "        # Assuming only one file is uploaded, use its name\n",
        "        filename = next(iter(uploaded_files))\n",
        "        outcome_table_name = sanitize_file_name(filename)  # Sanitize the uploaded file's name\n",
        "        file_path = os.path.join(\"/content\", outcome_table_name)\n",
        "        print(f'Uploaded dataset name: {outcome_table_name}')\n",
        "    else:\n",
        "        print(\"No dataset uploaded. Please upload a dataset to proceed.\")\n",
        "\n",
        "# Verify the file's existence and readiness for use\n",
        "if file_path and file_exists(file_path):\n",
        "    print(f'Dataset ready for use: {file_path}')\n",
        "else:\n",
        "    print(\"Dataset not found. Please ensure the dataset exists and try again.\")\n"
      ]
    },
    {
      "cell_type": "code",
      "source": [
        "import subprocess\n",
        "import ipywidgets as widgets\n",
        "from IPython.display import display, clear_output\n",
        "import csv\n",
        "\n",
        "#@title Configure Parameters\n",
        "\n",
        "#@markdown Before executing the command, please adjust the parameters below according to your dataset and analysis needs.\n",
        "database_name = \"colab_csv\"\n",
        "\n",
        "feature_table_mapping = {\n",
        "    \"1to2grams-filtered-table\": f\"feat$1to2gram${file_name_without_extension}${id_column_name}$0_1$pmi3_0\",\n",
        "    \"1to2grams-unfiltered-table\": f\"feat$1to2gram${file_name_without_extension}${id_column_name}\",\n",
        "    \"topics-table\": f\"feat$cat_fb2000_cp_w${file_name_without_extension}${id_column_name}$1gra\"  # Adding topics-related feature table option\n",
        "}\n",
        "\n",
        "if 'outcome_table_name' in globals():\n",
        "    # Open and read the CSV file to extract column names\n",
        "    with open(outcome_table_name, newline='') as csvfile:\n",
        "        reader = csv.reader(csvfile)\n",
        "        column_headers = next(reader, None)\n",
        "\n",
        "    if column_headers:\n",
        "        # Exclude columns containing '_id' from being displayed as checkboxes\n",
        "        filtered_column_headers = [option for option in column_headers if \"_id\" not in option]\n",
        "\n",
        "        feature_table_dropdown = widgets.Dropdown(options=feature_table_mapping, description='Feature Table:')\n",
        "\n",
        "        outcomes_title = widgets.Label('Outcomes:')\n",
        "        controls_title = widgets.Label('Controls:')\n",
        "        outcomes_widgets = {}\n",
        "        controls_widgets = {}\n",
        "        outcomes_cat_widgets = {}\n",
        "        controls_cat_widgets = {}\n",
        "\n",
        "        # Create checkboxes for each column header\n",
        "        for option in filtered_column_headers:\n",
        "            outcomes_widgets[option] = widgets.Checkbox(description=option, value=False)\n",
        "            controls_widgets[option] = widgets.Checkbox(description=option, value=False)\n",
        "            # Replace RadioButtons with a single Checkbox for categorical selection\n",
        "            outcomes_cat_widgets[option] = widgets.Checkbox(\n",
        "                description='Is this variable Categorical?',\n",
        "                value=False,\n",
        "                layout={'width': 'max-content'},\n",
        "                style={'description_width': 'initial'}\n",
        "            )\n",
        "            controls_cat_widgets[option] = widgets.Checkbox(\n",
        "                description='Is this variable Categorical?',\n",
        "                value=False,\n",
        "                layout={'width': 'max-content'},\n",
        "                style={'description_width': 'initial'}\n",
        "            )\n",
        "            outcomes_cat_widgets[option].layout.display = 'none'\n",
        "            controls_cat_widgets[option].layout.display = 'none'\n",
        "\n",
        "        def handle_checkbox_change(change):\n",
        "            option = change.owner.description\n",
        "            if change.owner in outcomes_widgets.values():\n",
        "                controls_widgets[option].disabled = change.new\n",
        "                outcomes_cat_widgets[option].layout.display = 'flex' if change.new else 'none'\n",
        "            elif change.owner in controls_widgets.values():\n",
        "                outcomes_widgets[option].disabled = change.new\n",
        "                controls_cat_widgets[option].layout.display = 'flex' if change.new else 'none'\n",
        "\n",
        "        for checkbox in outcomes_widgets.values():\n",
        "            checkbox.observe(handle_checkbox_change, names='value')\n",
        "        for checkbox in controls_widgets.values():\n",
        "            checkbox.observe(handle_checkbox_change, names='value')\n",
        "\n",
        "        def on_submit(change):\n",
        "            global outcomes, controls\n",
        "            clear_output(wait=True)\n",
        "            outcomes = [k for k, v in outcomes_widgets.items() if v.value]\n",
        "            controls = [k for k, v in controls_widgets.items() if v.value]\n",
        "            cat_to_bin_outcomes = [k for k, v in outcomes_cat_widgets.items() if v.value]\n",
        "            cat_to_bin_controls = [k for k, v in controls_cat_widgets.items() if v.value]\n",
        "\n",
        "            feature_table_name = feature_table_dropdown.value\n",
        "            make_wordclouds = make_wordclouds_checkbox.value\n",
        "\n",
        "            # Construct the command dynamically based on selections\n",
        "            cat_to_bin_parts = [','.join(cat_to_bin_outcomes), ','.join(cat_to_bin_controls)]\n",
        "            cat_to_bin_parts = [part for part in cat_to_bin_parts if part]  # Remove empty strings\n",
        "            cat_to_bin_cmd = f\"--cat_to_bin {' '.join(cat_to_bin_parts)}\" if cat_to_bin_parts else \"\"\n",
        "\n",
        "            command = (\n",
        "                f\"dlatkInterface.py -d {database_name} -t {file_name} -g {id_column_name} \"\n",
        "                f\"--group_freq_thresh 100 --feat_table '{feature_table_name}' \"\n",
        "                f\"--outcome_table {outcome_table_name} --outcomes {','.join(outcomes)} \"\n",
        "                f\"--controls {','.join(controls)} {cat_to_bin_cmd} --rmatrix\"\n",
        "            )\n",
        "            if make_wordclouds:\n",
        "                if feature_table_name == feature_table_mapping['topics-table']:\n",
        "                    command += \" --make_topic_wordclouds\"\n",
        "                else:\n",
        "                    command += \" --make_wordclouds\"\n",
        "            print(\"Command to execute:\", command)\n",
        "            process = subprocess.run(command, shell=True, text=True, capture_output=True)\n",
        "            print(process.stdout)\n",
        "            if process.stderr:\n",
        "                print(\"Error:\", process.stderr)\n",
        "\n",
        "        submit_button = widgets.Button(description=\"Submit\")\n",
        "        submit_button.on_click(on_submit)\n",
        "\n",
        "        make_wordclouds_title = widgets.Label('Make Wordclouds:')\n",
        "        make_wordclouds_checkbox = widgets.Checkbox(value=False, description='Enable Wordclouds')\n",
        "\n",
        "        # Display the widgets\n",
        "        display(feature_table_dropdown)\n",
        "        display(outcomes_title)\n",
        "        for option, checkbox in outcomes_widgets.items():\n",
        "            display(widgets.HBox([checkbox, outcomes_cat_widgets[option]]))\n",
        "        display(controls_title)\n",
        "        for option, checkbox in controls_widgets.items():\n",
        "            display(widgets.HBox([checkbox, controls_cat_widgets[option]]))\n",
        "        display(make_wordclouds_title, make_wordclouds_checkbox, submit_button)\n",
        "\n",
        "    else:\n",
        "        print(\"Failed to read column names from the outcome table.\")\n",
        "else:\n",
        "    print(\"Outcome table name not set. Please ensure a file is uploaded in Part 1.\")\n"
      ],
      "metadata": {
        "colab": {
          "base_uri": "https://localhost:8080/",
          "height": 250,
          "referenced_widgets": [
            "4e1a0d715dba4134b3fac29071524bd9",
            "01ee9335695542059dce10cd91e4fbc0",
            "c84bb845ef664bcfad49d4e666d07409",
            "8ffc71e0f4b24b4a9216707888a208e7",
            "d3eeeaeac10940d0883ad3007c8304f9",
            "42dfcb4ed06946eebdd6bc7b67b7ac04",
            "24cf27aee0d34b66a09cb92c1ffe6ee4",
            "d45cbd65f22d49d8999c075ee9aa5d8a",
            "b98322c8437245e4ab76d5be6da88f99",
            "477b94b393fd451ba9b5e46acab16505",
            "58168cd08d7f43029ee2f4fb212eff69",
            "5e599781fe9f47da91c1f59b26424d77",
            "1df14388b6534d2ca25577f3581ca77d",
            "8003ed872bf54b4cb0f94d37bc259810",
            "433a79ac65304c57b683ccd905a907ef",
            "5cba4e48ee8948ba9fb1e665df936f1e",
            "b2a188b7bc33473e8bb578087d697fbe",
            "ceda80f2236749b6ac84cec5ee402acd",
            "1681dd54546d4275bd92b50e12d24b0c",
            "8442bf3126854fa18f0f0fdf722aeb6f",
            "c60b2404cffb42b2af22caf5fe9c0ca6",
            "da5a040f6f124148b46629d1e6e72687",
            "bad9df8aa6e74fcb9c44e541541259b4",
            "40780d91b6bd47a2a1ad49860c97c737",
            "68160cb3befa49bdb449cdd8dbccb005",
            "4f162e49b4b943e4a1b96c1e760bf7fd",
            "a4676499a373429389cba4a3152588ea",
            "e464795f42a344f98f955ed4f6da6af8",
            "aa45a0d4d3e34a0bb8fbb44f3af0ae9c",
            "41be6e97b1f34e9792cd3f10a2e5b6c6",
            "ebb5925e74ff45daa0edcff7e014e423",
            "c637553bb160435ca6dd391e11d2b1c7",
            "0170acaf3dfb4813b768ff1d94d5f9b2",
            "7cb8ba927fb2450eb7c0c0ef00b5d32a",
            "a6c78d9de30f400f8e64dc2b36106ef7",
            "e3013a41aa5947f992b5d8b1d1100a55",
            "f4d3cbdbe96b41f1a88c87f94f3b14c7",
            "341c0353191b4074829b4536c6317b1e",
            "954cfd960a03494096105f193df84cb0",
            "33a1a73635d741bb8193aa2b39fe8434",
            "3c5f53c0e7ae46b5857cb511efdd4874",
            "7dbdf61459d34f53a1a199462132fb1e",
            "5b3f479c33384f5ea2146fac6f8bfb77",
            "99aebf9da13d4497933fbe177112cc5e",
            "7ed34ff26a6e4e449eff2246504ac0ec",
            "fced86c81ced48519c79fa0332677404",
            "d2e37fefc11542b8a165ad18613e3a68",
            "4b244524f58640858ea06c18d6b72a75",
            "aa985f6aef5f47f2883d271296dcdcfc",
            "9123953cd3124a0b8bc04e6604457040",
            "68a7eb8f4d49488d91e4ef3eca1cedcd",
            "01930547262342b082f929bec9e012ce",
            "d02675fc000443ad8708c4426e588f50",
            "caab660044d44f9697816215efe719fe",
            "314a9ed4b59741ddb4709b99489f9711",
            "bf5b8242619e4ca98827821f59e2eed5",
            "64646d3709fe47458e487fec37c2afc8",
            "1bc65aa6820d4c00a76e9159e89ab1cc",
            "718fae02acf24ce882ee59f8d9dfdfa0",
            "6671b57e4d894229bc4a0bbd0c3dbc84",
            "58c3063b4b6b4aa4a3033e572ff38b77",
            "f9507a7c203c48c0942610856e2db3d2",
            "596f87af63174efa979deefb98745ac3",
            "f591528903f54e56a5206ae707205ac1",
            "fc60f70699884e4da19cf4e66927e46d",
            "2062a50f8e774fb3b8ed4794ecd6d0cd",
            "b6b2ec94e50e4e41844832a14486da45",
            "f964e257517f4bc69b7b6b09a3addeca",
            "534097fc8e054a69be20e463e18725dc",
            "2cf2e6585d9545e793cfa686b2e1d5d0",
            "5884b54d9b834ce382b9f0957280e01f",
            "bfeeffb3f5b440ff948aec2d5b4a19c5",
            "91644c29277b4e6587f220c0b5420d67",
            "a7d0403680d848998fcc359240ff0dd0",
            "30463c3bc6e8497c96aea0e7a2112b88",
            "1ad129aada114029a9d59bafc1bb03cf",
            "14a367b1c608412ea198a8c357a82a06",
            "212d4beb087148bcb951a1d8624c9980",
            "21f68ca5dc9c41acae183720ec8d9d07",
            "4c5488688fd54cb6a2455296e49105cb",
            "06a69b15a5924536be69ccfefc336b1c",
            "2e4d12642b2e44b5920b65600efe7ebe"
          ]
        },
        "id": "g4EU9JKAGFcr",
        "outputId": "fe24faa7-f1c8-424d-bba3-2090399c244a"
      },
      "execution_count": 32,
      "outputs": [
        {
          "output_type": "stream",
          "name": "stdout",
          "text": [
            "Command to execute: dlatkInterface.py -d colab_csv -t msgs404u.csv -g user_id --group_freq_thresh 100 --feat_table 'feat$cat_fb2000_cp_w$msgs404u$user_id$1gra' --outcome_table users404.csv --outcomes age --controls gender --cat_to_bin gender --rmatrix --make_topic_wordclouds\n",
            "\n",
            "\n",
            "WARNING: --make_topic_wordcloud used without --topic_tagcloud or --corp_topic_tagcloud, setting --topic_tagcloud to True\n",
            "Connecting to SQLite database: /content/sqlite_data/colab_csv.db\n",
            "Importing data, reading users404.csv file\n",
            "Reading remaining 404 rows into the table...\n",
            "Connecting to SQLite database: /content/sqlite_data/colab_csv.db\n",
            "Connecting to SQLite database: /content/sqlite_data/colab_csv.db\n",
            "                                 OLS Regression Results                                \n",
            "=======================================================================================\n",
            "Dep. Variable:                    age   R-squared (uncentered):                   0.007\n",
            "Model:                            OLS   Adj. R-squared (uncentered):              0.005\n",
            "Method:                 Least Squares   F-statistic:                              2.999\n",
            "Date:                Thu, 02 May 2024   Prob (F-statistic):                      0.0841\n",
            "Time:                        22:01:51   Log-Likelihood:                         -571.75\n",
            "No. Observations:                 404   AIC:                                      1146.\n",
            "Df Residuals:                     403   BIC:                                      1150.\n",
            "Df Model:                           1                                                  \n",
            "Covariance Type:            nonrobust                                                  \n",
            "==============================================================================\n",
            "                 coef    std err          t      P>|t|      [0.025      0.975]\n",
            "------------------------------------------------------------------------------\n",
            "gender__0     -0.0859      0.050     -1.732      0.084      -0.184       0.012\n",
            "==============================================================================\n",
            "Omnibus:                       48.655   Durbin-Watson:                   2.074\n",
            "Prob(Omnibus):                  0.000   Jarque-Bera (JB):               63.596\n",
            "Skew:                           0.964   Prob(JB):                     1.55e-14\n",
            "Kurtosis:                       3.246   Cond. No.                         1.00\n",
            "==============================================================================\n",
            "\n",
            "Notes:\n",
            "[1] R² is computed without centering (uncentered) since the model does not contain a constant.\n",
            "[2] Standard Errors assume that the covariance matrix of the errors is correctly specified.\n",
            "Created output filename: ./feat.cat_fb2000_cp_w.msgs404u.user_id.1gra.age.gender__0.freq100.rMatrix\n",
            "Created output filename: ./feat.cat_fb2000_cp_w.msgs404u.user_id.1gra.age.gender__0.freq100._topic_tagcloud\n",
            "Namespace(lexinterface=False, toinitfile=None, frominitfile='', mysqlconfigfile='', colabify=False, dbengine='mysql', corpdb='colab_csv', corptable='msgs404u.csv', correl_field='user_id', message_field='message', messageid_field='message_id', date_field='updated_time', lexicondb='dlatk_lexica', encoding='utf8mb4', useunicode=True, language='en', feattable='feat$cat_fb2000_cp_w$msgs404u$user_id$1gra', n=[1], metafeats=True, lextable='', wordTable=None, colloc_table='test_collocs', colloc_column='feat', createcollocscores=False, feature_type_name=None, gzipcsv='', categories='', feat_blacklist='', feat_whitelist='', valuefunc=<function main.<locals>.<lambda> at 0x79ec5c156290>, lexvaluefunc=<function main.<locals>.<lambda> at 0x79ec5c1563b0>, pocc=0.01, pmi=3.0, minfeatsum=0, topicfile='', numtopicwords=15, topiclexicon='', topiclist='', topiclexmethod='csv_lik', weightedlexicon=False, numbins=None, flexiplotfile='', groupidrange=None, masktable=None, embmodel='bert-base-uncased', embclass=None, tokenizermodel=None, embaggs=['mean'], emblayeraggs=['concatenate'], transwordaggs=['mean'], emblayers=[-2], embnocontext=False, embtablename=None, batchsize=32, embkeepmsg=False, listfeattables=False, showtables=False, describetables=False, viewtables=False, createrandsample=None, createcopiedtable=None, extension=None, top_messages=False, outcometable='users404.csv', outcomefields=['age'], outcomecontrols=['gender__0'], cattobinfields=['gender'], cattointfields=[], outcomeinteraction=[], fold_column=None, test_folds=None, featnames=['honor'], groupfreqthresh=100, outputdir='.', outputname='', maxtcwords=100, showfeatfreqs=True, tcfilter=True, featlabelmaptable='', featlabelmaplex='', bracketlabels='', compTagcloud=False, compTCsample1=[], compTCsample2=[], csv=False, pickle=False, sort=False, whitelist=False, blacklist=False, spearman=False, logisticReg=False, cohensd=False, IDP=False, auc=False, zScoreGroup=False, p_correction_method='BH', bonferroni=True, nvalue=True, confint=True, freq=True, tagcloudcolorscheme='multi', cleancloud=False, weightedsample='', low_variance_thresh=0.0, minabseffectsize=0.0, interactions=False, bootstrapp=0, maxP=0.05, groupswhere='', mediation=False, mediationboot=False, mediationbootnum=1000, outcomepathstarts=[], outcomemediators=[], feat_as_path_start=False, feat_as_outcome=False, feat_as_control=False, no_features=False, mediationcsv=False, mediationsummary=True, mediation_style='baron', adapttable=None, adaptcolumns=None, model='ridgecv', turn_off_backoff_model=False, combmodels=['ridgecv'], sparse=False, folds=5, outlier_to_mean=False, picklefile='', allcontrolsonly=True, nolang=False, controlcombosizes=[], res_controls=False, pred_csv=False, prob_csv=False, weightedeval=None, standardize=True, featureselection='', featureselectionstring='', train_bootstraps=None, train_bootstraps_ns=None, addngrams=False, addngramsfromtok=False, use_collocs=False, include_sub_collocs=False, colloc_pmi_thresh=3.0, addcharngrams=False, lowercaseonly=True, addlextable=False, addcorplextable=False, addphrasetable=False, addpostable=False, pos_ngram=False, addldafeattable=None, printtokenizedlines=None, printjoinedfeaturelines=None, addtopiclexfromtopicfile=False, addtimexdiff=False, addpostimexdiff=False, addwnnopos=False, addwnpos=False, addfkscore=False, addpnames=None, embaddfeat=False, lexicon_normalization=False, multicategory_normalization=False, addtokenized=False, addsenttokenized=False, addsentperrow=False, addparses=False, addsegmented=False, segmentationModel='ctb', addtweettok=False, addtweetpos=False, addldamsgs=None, addoutcomefeats=False, langfilter=[], lightenglishfilter=False, cleanmessages=False, deduplicate=False, spamfilter=None, addmessageid=None, ldamsgtbl='messages_en_lda$msgs_en_tok_a30', createdists=False, addner=False, ttestfeats=False, featoccfilter=False, combinefeattables=None, addfeatnorms=False, addstdfeats=False, featcollocfilter=False, featcorrelfilter=False, maketopiclabelmap=False, tfidf=False, featgroupoutcomes=False, aggregategroup=False, archetypesimilarity=None, interpolategroup=None, printcsv=None, printfreqcsv=None, printnumgroups=False, densifytable=None, correlate=False, rmatrix=True, combormatrix=False, topicdupefilter=False, tagcloud=False, topictc=True, corptopictc=False, makewordclouds=False, maketopicwordclouds=True, makealltopicwordclouds=False, keepduplicates=False, useFeatTableFeats=False, outcomeWithOutcome=False, outcomeWithOutcomeOnly=False, outputInteractionTerms=False, interactionDdla=None, ddlaSignificance=0.001, ddlaFiles=None, ddlaTagcloud=False, multir=False, trainregression=False, testregression=False, combotestregression=False, predictregression=False, controladjustreg=False, testcombregression=[], predictrtofeats=None, predictRtoOutcomeTable=None, predictalltofeats=None, fsparams=False, kbest=None, pcacomp=None, adaptationfactors=None, factorselectiontype='rfe', numoffactors=None, pairedfactors=False, report=False, factoraddition=False, factoradaptation=False, residualizedfactoradaptation=False, trainclassifiers=False, testclassifiers=False, combotestclassifiers=False, predictclassifiers=False, roc=False, predictctofeats=None, predictprobstofeats=None, predictCtoOutcomeTable=None, regrToLex=None, classToLex=None, stratifyfolds=False, trainclasstoreg=False, testclasstoreg=False, predictclasstoreg=False, reducertolexicon=None, supertopics=None, reducedlexicon=None, fitreducer=False, n_components=None, transformdrtofeats=None, cca=0, penaltyFeats=None, penaltyOutcomes=None, ccaOutcomesVsControls=False, ccaPermute=0, predictCcaCompsFromModel=False, newSQLtable=None, usexfeats=False, usexcontrols=False, savemodels=False, loadmodels=False, barplot=False, scatterplot=False, featflexibin=False, skipbinstep=False, preservebintable=False, descplot=False, loessplot='', estimate_lda_topics=False, mallet_path=None, save_lda_files=None, lda_lexicon_name=None, no_lda_lexicon=False, num_topics=100, num_lda_threads=4, num_stopwords=50, extra_lda_stopwords=None, no_lda_stopping=False, lda_alpha=5.0, lda_beta=0.01, lda_iterations=1000, integrationmethod='', featureselectionparams=None)\n",
            "\n",
            "outputting topic tagcloud data to: ./feat.cat_fb2000_cp_w.msgs404u.user_id.1gra.age.gender__0.freq100._topic_tagcloud.txt\n",
            "\n",
            "Error: TopicExtractor: gensim Mallet wrapper unavailable, using Mallet directly.\n",
            "\n",
            "-----\n",
            "DLATK Interface Initiated: 2024-05-02 22:01:48\n",
            "-----\n",
            "SQL Query: CREATE TABLE users404 (user_id INT, gender INT, age INT, occu VARCHAR(23), is_student DOUBLE);\n",
            "WARNING: The table users404 does not have: a PRIMARY key on user_id. Consider adding.\n",
            "Loading Outcomes and Getting Groups for: {'age', 'gender'}\n",
            "Yielding data over ['age'], adjusting for: ['gender__0'].\n",
            "Yielding norms with zeros (404 groups * 2001 feats).\n",
            "  200 features correlated\n",
            "  400 features correlated\n",
            "  600 features correlated\n",
            "  800 features correlated\n",
            "  1000 features correlated\n",
            "  1200 features correlated\n",
            "  1400 features correlated\n",
            "  1600 features correlated\n",
            "  1800 features correlated\n",
            "  2000 features correlated\n",
            "OLS threw ValueError: [exog contains inf or nans]\n",
            " feature '_intercept' with outcome 'age' results not included\n",
            "unable to correlate feature '_intercept' with 'age'\n",
            "Generating Correlation Matrix.\n",
            " print to file: ././feat.cat_fb2000_cp_w.msgs404u.user_id.1gra.age.gender__0.freq100.rMatrix.html\n",
            "No topic lexicon selected, please specify it with --topic_lexicon TOP_LEX\n",
            "\n"
          ]
        }
      ]
    },
    {
      "cell_type": "code",
      "source": [
        "import glob\n",
        "import os\n",
        "import math\n",
        "import matplotlib.pyplot as plt\n",
        "import matplotlib.image as mpimg\n",
        "from dlatk.tools.colab_methods import print_wordclouds\n",
        "\n",
        "feature_table_name = feature_table_dropdown.value.replace('$', '.')\n",
        "\n",
        "def display_wordclouds(feature_table_name, outcomes, controls):\n",
        "    # This function decides which type of word clouds to display based on the feature table selected.\n",
        "    if feature_table_name == feature_table_mapping['topics-table']:\n",
        "        print_topic_wordclouds(\"/content/_alltopics/\", 8)\n",
        "    else:\n",
        "        wordcloud_file_name = f\"{feature_table_name.replace('$', '.')}.{','.join(outcomes)}.{','.join(controls)}__0.freq100._tagcloud_wordclouds\"\n",
        "        print(\"Wordcloud File Name:\", wordcloud_file_name)\n",
        "        print_wordclouds(wordcloud_file_name)\n",
        "\n",
        "def print_topic_wordclouds(wordcloud_folder, num_topics=8, images_per_row=4):\n",
        "    # This function handles the displaying of topic word clouds specifically.\n",
        "    images = glob.glob(os.path.join(wordcloud_folder, '*.png'))\n",
        "    to_display = images[:min(num_topics, len(images))]\n",
        "\n",
        "    if len(to_display) == 0:\n",
        "        print(\"No topic wordcloud images found in the specified folder.\")\n",
        "        return\n",
        "\n",
        "    fig, axes = plt.subplots(math.ceil(num_topics / images_per_row), images_per_row, figsize=(18, 8))\n",
        "    for index, image in enumerate(to_display):\n",
        "        ax = axes[int(index / images_per_row), index % images_per_row]\n",
        "        ax.set_axis_off()\n",
        "        ax.set_title(image.split('/')[-1])\n",
        "        ax.imshow(mpimg.imread(image))\n",
        "    plt.show()\n",
        "\n",
        "# Example usage:\n",
        "# Assuming 'outcomes' and 'controls' are updated in the global scope by previous code execution\n",
        "display_wordclouds(feature_table_name, outcomes, controls)\n"
      ],
      "metadata": {
        "colab": {
          "base_uri": "https://localhost:8080/",
          "height": 52
        },
        "id": "GoGKLHh0kgJq",
        "outputId": "e2288655-f7c4-41d7-cc86-fe867a1f668a"
      },
      "execution_count": 37,
      "outputs": [
        {
          "output_type": "display_data",
          "data": {
            "text/plain": [
              "<IPython.core.display.Javascript object>"
            ],
            "application/javascript": [
              "google.colab.output.setIframeHeight(0, true, {maxHeight: 250})"
            ]
          },
          "metadata": {}
        },
        {
          "output_type": "display_data",
          "data": {
            "text/plain": [
              "<IPython.core.display.HTML object>"
            ],
            "text/html": [
              "<style> body {background-color: rgb(255, 250, 232);}</style>"
            ]
          },
          "metadata": {}
        },
        {
          "output_type": "display_data",
          "data": {
            "text/plain": [
              "<IPython.core.display.Javascript object>"
            ],
            "application/javascript": [
              "google.colab.output.setIframeHeight(0, true, {maxHeight: 250})"
            ]
          },
          "metadata": {}
        },
        {
          "output_type": "display_data",
          "data": {
            "text/plain": [
              "<IPython.core.display.HTML object>"
            ],
            "text/html": [
              "<style> body {background-color: rgb(255, 250, 232);}</style>"
            ]
          },
          "metadata": {}
        },
        {
          "output_type": "display_data",
          "data": {
            "text/plain": [
              "<IPython.core.display.Javascript object>"
            ],
            "application/javascript": [
              "google.colab.output.setIframeHeight(0, true, {maxHeight: 250})"
            ]
          },
          "metadata": {}
        },
        {
          "output_type": "display_data",
          "data": {
            "text/plain": [
              "<IPython.core.display.HTML object>"
            ],
            "text/html": [
              "<style> body {background-color: rgb(255, 250, 232);}</style>"
            ]
          },
          "metadata": {}
        },
        {
          "output_type": "display_data",
          "data": {
            "text/plain": [
              "<IPython.core.display.Javascript object>"
            ],
            "application/javascript": [
              "google.colab.output.setIframeHeight(0, true, {maxHeight: 250})"
            ]
          },
          "metadata": {}
        },
        {
          "output_type": "display_data",
          "data": {
            "text/plain": [
              "<IPython.core.display.HTML object>"
            ],
            "text/html": [
              "<style> body {background-color: rgb(255, 250, 232);}</style>"
            ]
          },
          "metadata": {}
        },
        {
          "output_type": "display_data",
          "data": {
            "text/plain": [
              "<IPython.core.display.Javascript object>"
            ],
            "application/javascript": [
              "google.colab.output.setIframeHeight(0, true, {maxHeight: 250})"
            ]
          },
          "metadata": {}
        },
        {
          "output_type": "display_data",
          "data": {
            "text/plain": [
              "<IPython.core.display.HTML object>"
            ],
            "text/html": [
              "<style> body {background-color: rgb(255, 250, 232);}</style>"
            ]
          },
          "metadata": {}
        },
        {
          "output_type": "display_data",
          "data": {
            "text/plain": [
              "<IPython.core.display.Javascript object>"
            ],
            "application/javascript": [
              "google.colab.output.setIframeHeight(0, true, {maxHeight: 250})"
            ]
          },
          "metadata": {}
        },
        {
          "output_type": "display_data",
          "data": {
            "text/plain": [
              "<IPython.core.display.HTML object>"
            ],
            "text/html": [
              "<style> body {background-color: rgb(255, 250, 232);}</style>"
            ]
          },
          "metadata": {}
        },
        {
          "output_type": "stream",
          "name": "stdout",
          "text": [
            "Wordcloud File Name: feat.cat_fb2000_cp_w.msgs404u.user_id.1gra.age.gender__0.freq100._tagcloud_wordclouds\n",
            "None of the features were significant, hence wordclouds not produced.\n"
          ]
        }
      ]
    },
    {
      "cell_type": "code",
      "source": [
        "#@markdown Click the Play button to view the **word cloud image** of the analyzed file.\n",
        "\n",
        "from dlatk.tools.colab_methods import print_wordclouds\n",
        "\n",
        "def display_wordclouds():\n",
        "    feature_table_name = feature_table_dropdown.value.replace('$', '.')\n",
        "    # Assuming 'outcomes' and 'controls' are updated in the global scope by codeA\n",
        "    global outcomes, controls\n",
        "    wordcloud_file_name = f\"{feature_table_name}.{','.join(outcomes)}.{','.join(controls)}__0.freq100._tagcloud_wordclouds\"\n",
        "    print(\"Wordcloud File Name:\", wordcloud_file_name)\n",
        "    print_wordclouds(wordcloud_file_name)\n",
        "\n",
        "display_wordclouds()\n"
      ],
      "metadata": {
        "colab": {
          "base_uri": "https://localhost:8080/",
          "height": 53
        },
        "outputId": "632f7b34-24b4-45e3-b702-55cc4437d7e7",
        "id": "1gwINnKHdGKE"
      },
      "execution_count": null,
      "outputs": [
        {
          "output_type": "display_data",
          "data": {
            "text/plain": [
              "<IPython.core.display.Javascript object>"
            ],
            "application/javascript": [
              "google.colab.output.setIframeHeight(0, true, {maxHeight: 250})"
            ]
          },
          "metadata": {}
        },
        {
          "output_type": "display_data",
          "data": {
            "text/plain": [
              "<IPython.core.display.HTML object>"
            ],
            "text/html": [
              "<style> body {background-color: rgb(255, 250, 232);}</style>"
            ]
          },
          "metadata": {}
        },
        {
          "output_type": "stream",
          "name": "stdout",
          "text": [
            "Wordcloud File Name: feat.cat_fb2000_cp_w.msgs404u.user_id.1gra.age.gender__0.freq100._tagcloud_wordclouds\n",
            "None of the features were significant, hence wordclouds not produced.\n"
          ]
        }
      ]
    },
    {
      "cell_type": "markdown",
      "metadata": {
        "id": "u9chxWx6VLnJ"
      },
      "source": [
        "👇 For example, you can extract features from *NRC sentiment* dictionary as shown below."
      ]
    },
    {
      "cell_type": "markdown",
      "metadata": {
        "id": "NYlLK0STHE9L"
      },
      "source": [
        "# Running Prediction (Language-based Assessment)\n",
        "\n",
        "<img src=\"https://drive.google.com/uc?export=view&id=1AgMttURoLyJZ6WhL9wnVzWBt1gSmE0yE\" height=\"350\" width=\"550\"/>"
      ]
    },
    {
      "cell_type": "markdown",
      "metadata": {
        "id": "tACYr6g88H6n"
      },
      "source": [
        "## Prediction: Example 1: N-Fold Cross Validation"
      ]
    },
    {
      "cell_type": "markdown",
      "metadata": {
        "id": "PvDHsfsWQrb-"
      },
      "source": [
        "There are two types of [prediction models](https://scikit-learn.org/stable/modules/linear_model.html#) we can run:\n",
        "1. **Regression**, which is the prediction of a continous variable, and\n",
        "2. **Classification**, which is the prediction of a categorical variable.\n",
        "\n",
        "<br/>\n",
        "\n",
        "<hr/>\n",
        "\n",
        "[N-Fold cross-validation](https://scikit-learn.org/stable/modules/cross_validation.html#) - This method involves randomly dividing the dataset into *N* groups, or \"folds\", of approximately equal size. The model is later fit on the N-1 folds (*train* data) and the evaluated for accuracy over the remaining one fold (*test* data).\n",
        "\n",
        "<hr/>\n",
        "\n",
        "<br/>\n",
        "\n",
        "For running a prediction model against an outcome, you use the same data setup commands as in correlations:\n",
        "* **`-f FEAT_TABLE_NAME`** - names of the feature table.\n",
        "* **`--outcome_table NAME`** - the name of the table with outcomes.\n",
        "* **`--outcomes OC1 [OC2...]`** - list of outcomes to predict.\n"
      ]
    },
    {
      "cell_type": "markdown",
      "metadata": {
        "id": "xGa8-zHYKKtz"
      },
      "source": [
        "### N-Fold Regression:\n"
      ]
    },
    {
      "cell_type": "markdown",
      "metadata": {
        "id": "1UlH163FGfhd"
      },
      "source": [
        "Below are the flags to perform regression using cross-validation:\n",
        "* **`--nfold_test_regression`** - this activates regression using n-fold cross-validation.\n",
        "* **`--model MODEL_NAME`** - which regression model to use (some examples would be ordinary least sqaures, ridge regression, etc.)"
      ]
    },
    {
      "cell_type": "markdown",
      "metadata": {
        "id": "Y2x7ExfQA3dl"
      },
      "source": [
        "👇 For example, below command will predict `age` from 1gram and 2grams features using a ridge regression model over `5` fold cross validation."
      ]
    },
    {
      "cell_type": "code",
      "source": [
        "import subprocess\n",
        "import ipywidgets as widgets\n",
        "from IPython.display import display, clear_output\n",
        "import csv\n",
        "\n",
        "#@title Configure Parameters\n",
        "\n",
        "#@markdown Before executing the command, please adjust the parameters below according to your dataset and analysis needs.\n",
        "\n",
        "if 'outcome_table_name' in globals():\n",
        "    # Open and read the CSV file to extract column names\n",
        "    with open(outcome_table_name, newline='') as csvfile:\n",
        "        reader = csv.reader(csvfile)\n",
        "        column_headers = next(reader, None)\n",
        "\n",
        "    if column_headers:\n",
        "        # Exclude columns containing '_id' from being displayed as checkboxes\n",
        "        filtered_column_headers = [option for option in column_headers if \"_id\" not in option]\n",
        "\n",
        "        feature_table_dropdown = widgets.Dropdown(options=feature_table_mapping, description='Feature Table:')\n",
        "\n",
        "        # Dropdown for model selection\n",
        "        model_dropdown = widgets.Dropdown(\n",
        "            options=[\n",
        "                'lasso', 'lassocv', 'elasticnet', 'elasticnetcv', 'lassolars', 'lassolarscv', 'lars', 'ridge',\n",
        "                'ridge.01', 'ridge.001', 'ridge250', 'ridge10000', 'ridge100000', 'ridge100k', 'ridge1000',\n",
        "                'ridge100', 'ridge10', 'ridge1', 'ridge1m', 'ridge10m', 'ridge100m', 'ridgecv', 'ridgefirstpasscv',\n",
        "                'ridgehighcv', 'ridgeveryhighcv', 'ridgelowcv', 'rpcridgecv', 'linear', 'svr', 'sgdregressor',\n",
        "                'extratrees', 'par'\n",
        "            ],\n",
        "            value='ridgehighcv',  # Default model\n",
        "            description='Model:'\n",
        "        )\n",
        "\n",
        "        outcomes_title = widgets.Label('Outcomes:')\n",
        "        outcomes_widgets = {option: widgets.Checkbox(description=option, value=False) for option in filtered_column_headers}\n",
        "\n",
        "        def handle_checkbox_change(change):\n",
        "            pass  # Placeholder in case any dynamic interaction is needed\n",
        "\n",
        "        for checkbox in outcomes_widgets.values():\n",
        "            checkbox.observe(handle_checkbox_change, names='value')\n",
        "\n",
        "        def on_submit(change):\n",
        "            clear_output(wait=True)\n",
        "            outcomes = [k for k, v in outcomes_widgets.items() if v.value]\n",
        "\n",
        "            feature_table_name = feature_table_dropdown.value\n",
        "            selected_model = model_dropdown.value\n",
        "\n",
        "            command = (\n",
        "                f\"dlatkInterface.py -d {database_name} -t {file_name} -g {id_column_name} \"\n",
        "                f\"--group_freq_thresh 100 \"\n",
        "                f\"--outcome_table {outcome_table_name} --outcomes {','.join(outcomes)} \"\n",
        "                f\"--feat_table '{feature_table_name}' \"\n",
        "                f\"--nfold_test_regression --model {selected_model}\"\n",
        "            )\n",
        "            print(\"Command to execute:\", command)\n",
        "            process = subprocess.run(command, shell=True, text=True, capture_output=True)\n",
        "            print(process.stdout)\n",
        "            if process.stderr:\n",
        "                print(\"Error:\", process.stderr)\n",
        "\n",
        "        submit_button = widgets.Button(description=\"Submit\")\n",
        "        submit_button.on_click(on_submit)\n",
        "\n",
        "        # Display the widgets\n",
        "        display(feature_table_dropdown, model_dropdown)\n",
        "        display(outcomes_title)\n",
        "        for option, checkbox in outcomes_widgets.items():\n",
        "            display(checkbox)\n",
        "        display(submit_button)\n",
        "\n",
        "    else:\n",
        "        print(\"Failed to read column names from the outcome table.\")\n",
        "else:\n",
        "    print(\"Outcome table name not set. Please ensure a file is uploaded in Part 1.\")\n"
      ],
      "metadata": {
        "colab": {
          "base_uri": "https://localhost:8080/",
          "height": 250,
          "referenced_widgets": [
            "ce051e076daf4ff587a2bbc09ae50e6d",
            "9f8c6aa3877a48458b53e725e90394f8",
            "c382dcfb82dd42c3b980ee38d74807ad",
            "13e010bcf7dc4a6a9bd73e8c1c0309ff",
            "ff3f790851c54d549862ed424fb0fe1b",
            "9c30b093a2814ffb91e3e16864f76818",
            "cd96f7c58b2a4ad6bc3fee0757c3c917",
            "c17b3393cc244446a316db5462dccd27",
            "1969637b4b354561b6ac203e84f3b556",
            "c945ad5beead487ea1b1e2cb939ee68f",
            "3e37940e71304f119bd9599a85c048e3",
            "afb5bce4d3434cb499efbb956d3fbc3d",
            "2bd5ddd6e8624aa9ae720e1783d92447",
            "1c814b0debfc431394bce71ec39a7979",
            "35e0c67d82bc4ee9a8efcea428fb86a3",
            "ec8074ce592043299c5339c279e3b86c",
            "19ba2ea607a449588fcc5fc50b977566",
            "0d5b3cbac0954695a838c876c2a7a73c",
            "e85bac993d2c491c8e1d04c632510fee",
            "e9a5ee6366d24d7c9677435856577892",
            "3f2168f19c8045bbaad90d5087bfe357",
            "b85658a339b5483883b2e1945bd9ea24",
            "d574b362acf140a5911b665c9212dca4",
            "9b1a118b430b4da68bea46c90db7595b"
          ]
        },
        "cellView": "form",
        "id": "HjbDzboxo8ZY",
        "outputId": "50be991e-ef21-44d5-c395-9d3c14351132"
      },
      "execution_count": 25,
      "outputs": [
        {
          "output_type": "display_data",
          "data": {
            "text/plain": [
              "<IPython.core.display.Javascript object>"
            ],
            "application/javascript": [
              "google.colab.output.setIframeHeight(0, true, {maxHeight: 250})"
            ]
          },
          "metadata": {}
        },
        {
          "output_type": "display_data",
          "data": {
            "text/plain": [
              "<IPython.core.display.HTML object>"
            ],
            "text/html": [
              "<style> body {background-color: rgb(255, 250, 232);}</style>"
            ]
          },
          "metadata": {}
        },
        {
          "output_type": "display_data",
          "data": {
            "text/plain": [
              "Dropdown(description='Feature Table:', options={'1to2grams-filtered-table': 'feat$1to2gram$msgs404u$user_id$0_…"
            ],
            "application/vnd.jupyter.widget-view+json": {
              "version_major": 2,
              "version_minor": 0,
              "model_id": "ce051e076daf4ff587a2bbc09ae50e6d"
            }
          },
          "metadata": {}
        },
        {
          "output_type": "display_data",
          "data": {
            "text/plain": [
              "Dropdown(description='Model:', index=23, options=('lasso', 'lassocv', 'elasticnet', 'elasticnetcv', 'lassolars…"
            ],
            "application/vnd.jupyter.widget-view+json": {
              "version_major": 2,
              "version_minor": 0,
              "model_id": "13e010bcf7dc4a6a9bd73e8c1c0309ff"
            }
          },
          "metadata": {}
        },
        {
          "output_type": "display_data",
          "data": {
            "text/plain": [
              "Label(value='Outcomes:')"
            ],
            "application/vnd.jupyter.widget-view+json": {
              "version_major": 2,
              "version_minor": 0,
              "model_id": "cd96f7c58b2a4ad6bc3fee0757c3c917"
            }
          },
          "metadata": {}
        },
        {
          "output_type": "display_data",
          "data": {
            "text/plain": [
              "Checkbox(value=False, description='gender')"
            ],
            "application/vnd.jupyter.widget-view+json": {
              "version_major": 2,
              "version_minor": 0,
              "model_id": "c945ad5beead487ea1b1e2cb939ee68f"
            }
          },
          "metadata": {}
        },
        {
          "output_type": "display_data",
          "data": {
            "text/plain": [
              "Checkbox(value=False, description='age')"
            ],
            "application/vnd.jupyter.widget-view+json": {
              "version_major": 2,
              "version_minor": 0,
              "model_id": "2bd5ddd6e8624aa9ae720e1783d92447"
            }
          },
          "metadata": {}
        },
        {
          "output_type": "display_data",
          "data": {
            "text/plain": [
              "Checkbox(value=False, description='occu')"
            ],
            "application/vnd.jupyter.widget-view+json": {
              "version_major": 2,
              "version_minor": 0,
              "model_id": "ec8074ce592043299c5339c279e3b86c"
            }
          },
          "metadata": {}
        },
        {
          "output_type": "display_data",
          "data": {
            "text/plain": [
              "Checkbox(value=False, description='is_student')"
            ],
            "application/vnd.jupyter.widget-view+json": {
              "version_major": 2,
              "version_minor": 0,
              "model_id": "e85bac993d2c491c8e1d04c632510fee"
            }
          },
          "metadata": {}
        },
        {
          "output_type": "display_data",
          "data": {
            "text/plain": [
              "Button(description='Submit', style=ButtonStyle())"
            ],
            "application/vnd.jupyter.widget-view+json": {
              "version_major": 2,
              "version_minor": 0,
              "model_id": "b85658a339b5483883b2e1945bd9ea24"
            }
          },
          "metadata": {}
        }
      ]
    },
    {
      "cell_type": "markdown",
      "metadata": {
        "id": "jz_xKX3neFC9"
      },
      "source": [
        "👆 Above the settings, you should see a dictionary containing accuracy metrics from cross validation. Key metrics are `r` and `mae`:\n",
        "```\n",
        "[TEST COMPLETE]\n",
        "\n",
        "{'age': {(): {1: {'N': 404,\n",
        "                  ...\n",
        "                  'mae': 5.392188704337425,\n",
        "                  'num_features': 2308,\n",
        "                  'r': 0.580652941321456,\n",
        "                  ...}}}}\n",
        "```\n",
        "`mae` is the mean absolute error aggregated across all examples from when they were in a test fold. In this case, the model on average is off in predicting age by 5.4 years.\n",
        "\n",
        "`r` is the Pearson correlation between the predicted age and the self-reported age. The correlation is a nice accuracy metric for regression prediction tasks  since it is bounded at 1 being a perfect prediction and 0 being what is expected by chance.  \n",
        "\n",
        "DLATK uses 5 folds by default, but you can change this by adding the\n",
        "`--folds K` parameter.\n",
        "\n",
        "<br/>\n"
      ]
    },
    {
      "cell_type": "markdown",
      "metadata": {
        "id": "XhOQOGiTaqW8"
      },
      "source": [
        "### N-Fold Classification\n"
      ]
    },
    {
      "cell_type": "markdown",
      "metadata": {
        "id": "SnsjxLReadU-"
      },
      "source": [
        "Similarly, you can also perform classification using cross-validation using the below flags:\n",
        "\n",
        "* **`--nfold_test_classifiers`** - activates classification using cross-validation.\n",
        "* **`--model MODEL_NAME`** - classification model to use (for example logistic regression, etc.).\n",
        "\n",
        "<br/>\n",
        "\n",
        "You can also store the prediction output to a CSV with the below flags:\n",
        "* **`--csv`** - Saves the results to a csv file instead of printing to the screen, like with `--correlate`.\n",
        "* **`--pred_csv`** - write the predicted scores for the sample to a separate CSV prefixed with the name in `--output_name`.\n",
        "\n",
        "<br/>\n",
        "\n",
        "👇 Try predicting if a user is a student or not (`is_student`) from their 1gram and 2gram features using Logistic Regression (`lr`) in 5 fold cross-validation."
      ]
    },
    {
      "cell_type": "code",
      "source": [
        "import subprocess\n",
        "import ipywidgets as widgets\n",
        "from IPython.display import display, clear_output\n",
        "import csv\n",
        "\n",
        "#@title Configure Parameters\n",
        "\n",
        "#@markdown Before executing the command, please adjust the parameters below according to your dataset and analysis needs.\n",
        "\n",
        "if 'outcome_table_name' in globals():\n",
        "    # Open and read the CSV file to extract column names\n",
        "    with open(outcome_table_name, newline='') as csvfile:\n",
        "        reader = csv.reader(csvfile)\n",
        "        column_headers = next(reader, None)\n",
        "\n",
        "    if column_headers:\n",
        "        # Exclude columns containing '_id' from being displayed as checkboxes\n",
        "        filtered_column_headers = [option for option in column_headers if \"_id\" not in option]\n",
        "\n",
        "        feature_table_dropdown = widgets.Dropdown(options=feature_table_mapping, description='Feature Table:')\n",
        "\n",
        "        model_options = {\n",
        "            'lr': 'LogisticRegression',\n",
        "            'lr1': 'LogisticRegression',\n",
        "            'lr_balanced': 'LogisticRegression',\n",
        "            'lrnone': 'LogisticRegression',\n",
        "            'linear-svc': 'LinearSVC',\n",
        "            'svc': 'SVC',\n",
        "            'etc': 'ExtraTreesClassifier',\n",
        "            'rfc': 'RandomForestClassifier',\n",
        "            'pac': 'PassiveAggressiveClassifier',\n",
        "            'gbc': 'GradientBoostingClassifier',\n",
        "            'mnb': 'MultinomialNB',\n",
        "            'gnb': 'GaussianNB',\n",
        "            'bnb': 'BernoulliNB',\n",
        "            'mlp': 'MLPClassifier'\n",
        "        }\n",
        "\n",
        "        # Dropdown for model selection, using the keys as dropdown options\n",
        "        model_dropdown = widgets.Dropdown(\n",
        "            options=[(key, key) for key in model_options.keys()],\n",
        "            value='lr',  # Default model\n",
        "            description='Model:'\n",
        "        )\n",
        "\n",
        "        outcomes_title = widgets.Label('Outcomes:')\n",
        "        outcomes_widgets = {option: widgets.Checkbox(description=option, value=False) for option in filtered_column_headers}\n",
        "\n",
        "        def handle_checkbox_change(change):\n",
        "            pass  # Placeholder in case any dynamic interaction is needed\n",
        "\n",
        "        for checkbox in outcomes_widgets.values():\n",
        "            checkbox.observe(handle_checkbox_change, names='value')\n",
        "\n",
        "        def on_submit(change):\n",
        "            clear_output(wait=True)\n",
        "            outcomes = [k for k, v in outcomes_widgets.items() if v.value]\n",
        "\n",
        "            feature_table_name = feature_table_dropdown.value\n",
        "            selected_model = model_dropdown.value\n",
        "\n",
        "            command = (\n",
        "                f\"dlatkInterface.py -d {database_name} -t {file_name} -g {id_column_name} \"\n",
        "                f\"--group_freq_thresh 100 \"\n",
        "                f\"--outcome_table {outcome_table_name} --outcomes {','.join(outcomes)} \"\n",
        "                f\"--feat_table '{feature_table_name}' \"\n",
        "                f\"--nfold_test_classifiers --model {selected_model}\"\n",
        "            )\n",
        "            print(\"Command to execute:\", command)\n",
        "            process = subprocess.run(command, shell=True, text=True, capture_output=True)\n",
        "            print(process.stdout)\n",
        "            if process.stderr:\n",
        "                print(\"Error:\", process.stderr)\n",
        "\n",
        "        submit_button = widgets.Button(description=\"Submit\")\n",
        "        submit_button.on_click(on_submit)\n",
        "\n",
        "        # Display the widgets\n",
        "        display(feature_table_dropdown, model_dropdown)\n",
        "        display(outcomes_title)\n",
        "        for option, checkbox in outcomes_widgets.items():\n",
        "            display(checkbox)\n",
        "        display(submit_button)\n",
        "\n",
        "    else:\n",
        "        print(\"Failed to read column names from the outcome table.\")\n",
        "else:\n",
        "    print(\"Outcome table name not set. Please ensure a file is uploaded in Part 1.\")\n"
      ],
      "metadata": {
        "colab": {
          "base_uri": "https://localhost:8080/",
          "height": 250,
          "referenced_widgets": [
            "57ccf30dd3684bea8c9d10dff1b8e83c",
            "ad847b69c75d4103ad81365e665c9b4f",
            "43cc87ca8ce743a1b234292ab217718b",
            "28d5c11943a8442ab8f0463789c15968",
            "68c10c12f93a4d9aba0de1afa37f8644",
            "60396f4c3d434941a6febb1cf93f3404",
            "8acde0bb5a9a482292290ac1c7ab93e2",
            "b3a6e257af35409a8105cb95565d5233",
            "b6a0d9822a0b4d7c907cae8e7802aaac",
            "a085f5f43b1040b1a557123f6bcdd9b5",
            "6e05aa9f4c7548c6aca4c0cb58e958d5",
            "a63290976e994252b752ef30a35782b9",
            "a43117da214a4d81b6e62f5ee1349650",
            "cc91ed14fa3941a5bd1e10039bf45479",
            "ef115963f5814cc2827c4cc74df29207",
            "54282d1d7c1c4bb496150efc4532751a",
            "148adf35ab49447bbe568191abb5be79",
            "29e67f34ab9442f690933fc20f552865",
            "02a2049137174731af1ccf462c6884bc",
            "b4b996674c7c4f4bbb970c1509e73d2f",
            "b04c56dc9a3a443b8f39f96bd5d957c7",
            "b8e02e55a3454e7d9d89f64c5222d85d",
            "a709cefb7779418e97544a07bb045e98",
            "dafc0fe78ddb4b458fea9f5cf0512509"
          ]
        },
        "id": "lCVCeJK0rFDd",
        "outputId": "0f97525f-3916-4b38-8d93-cfbc019e3f3c"
      },
      "execution_count": 23,
      "outputs": [
        {
          "output_type": "display_data",
          "data": {
            "text/plain": [
              "<IPython.core.display.Javascript object>"
            ],
            "application/javascript": [
              "google.colab.output.setIframeHeight(0, true, {maxHeight: 250})"
            ]
          },
          "metadata": {}
        },
        {
          "output_type": "display_data",
          "data": {
            "text/plain": [
              "<IPython.core.display.HTML object>"
            ],
            "text/html": [
              "<style> body {background-color: rgb(255, 250, 232);}</style>"
            ]
          },
          "metadata": {}
        },
        {
          "output_type": "display_data",
          "data": {
            "text/plain": [
              "<IPython.core.display.Javascript object>"
            ],
            "application/javascript": [
              "google.colab.output.setIframeHeight(0, true, {maxHeight: 250})"
            ]
          },
          "metadata": {}
        },
        {
          "output_type": "display_data",
          "data": {
            "text/plain": [
              "<IPython.core.display.HTML object>"
            ],
            "text/html": [
              "<style> body {background-color: rgb(255, 250, 232);}</style>"
            ]
          },
          "metadata": {}
        },
        {
          "output_type": "display_data",
          "data": {
            "text/plain": [
              "Dropdown(description='Feature Table:', options={'1to2grams-filtered-table': 'feat$1to2gram$msgs404u$user_id$0_…"
            ],
            "application/vnd.jupyter.widget-view+json": {
              "version_major": 2,
              "version_minor": 0,
              "model_id": "57ccf30dd3684bea8c9d10dff1b8e83c"
            }
          },
          "metadata": {}
        },
        {
          "output_type": "display_data",
          "data": {
            "text/plain": [
              "Dropdown(description='Model:', options=(('lr', 'lr'), ('lr1', 'lr1'), ('lr_balanced', 'lr_balanced'), ('lrnone…"
            ],
            "application/vnd.jupyter.widget-view+json": {
              "version_major": 2,
              "version_minor": 0,
              "model_id": "28d5c11943a8442ab8f0463789c15968"
            }
          },
          "metadata": {}
        },
        {
          "output_type": "display_data",
          "data": {
            "text/plain": [
              "Label(value='Outcomes:')"
            ],
            "application/vnd.jupyter.widget-view+json": {
              "version_major": 2,
              "version_minor": 0,
              "model_id": "8acde0bb5a9a482292290ac1c7ab93e2"
            }
          },
          "metadata": {}
        },
        {
          "output_type": "display_data",
          "data": {
            "text/plain": [
              "Checkbox(value=False, description='gender')"
            ],
            "application/vnd.jupyter.widget-view+json": {
              "version_major": 2,
              "version_minor": 0,
              "model_id": "a085f5f43b1040b1a557123f6bcdd9b5"
            }
          },
          "metadata": {}
        },
        {
          "output_type": "display_data",
          "data": {
            "text/plain": [
              "Checkbox(value=False, description='age')"
            ],
            "application/vnd.jupyter.widget-view+json": {
              "version_major": 2,
              "version_minor": 0,
              "model_id": "a43117da214a4d81b6e62f5ee1349650"
            }
          },
          "metadata": {}
        },
        {
          "output_type": "display_data",
          "data": {
            "text/plain": [
              "Checkbox(value=False, description='occu')"
            ],
            "application/vnd.jupyter.widget-view+json": {
              "version_major": 2,
              "version_minor": 0,
              "model_id": "54282d1d7c1c4bb496150efc4532751a"
            }
          },
          "metadata": {}
        },
        {
          "output_type": "display_data",
          "data": {
            "text/plain": [
              "Checkbox(value=False, description='is_student')"
            ],
            "application/vnd.jupyter.widget-view+json": {
              "version_major": 2,
              "version_minor": 0,
              "model_id": "02a2049137174731af1ccf462c6884bc"
            }
          },
          "metadata": {}
        },
        {
          "output_type": "display_data",
          "data": {
            "text/plain": [
              "Button(description='Submit', style=ButtonStyle())"
            ],
            "application/vnd.jupyter.widget-view+json": {
              "version_major": 2,
              "version_minor": 0,
              "model_id": "b8e02e55a3454e7d9d89f64c5222d85d"
            }
          },
          "metadata": {}
        }
      ]
    },
    {
      "cell_type": "code",
      "source": [
        "import subprocess\n",
        "import ipywidgets as widgets\n",
        "from IPython.display import display, clear_output\n",
        "import csv\n",
        "\n",
        "#@title Configure Parameters\n",
        "\n",
        "#@markdown Before executing the command, please adjust the parameters below according to your dataset and analysis needs.\n",
        "\n",
        "if 'outcome_table_name' in globals():\n",
        "    # Open and read the CSV file to extract column names\n",
        "    with open(outcome_table_name, newline='') as csvfile:\n",
        "        reader = csv.reader(csvfile)\n",
        "        column_headers = next(reader, None)\n",
        "\n",
        "    if column_headers:\n",
        "        # Exclude columns containing '_id' from being displayed as checkboxes\n",
        "        filtered_column_headers = [option for option in column_headers if \"_id\" not in option]\n",
        "\n",
        "        feature_table_dropdown = widgets.Dropdown(options=feature_table_mapping, description='Feature Table:')\n",
        "\n",
        "        model_options = {\n",
        "            'lr': 'LogisticRegression',\n",
        "            'lr1': 'LogisticRegression',\n",
        "            'lr_balanced': 'LogisticRegression',\n",
        "            'lrnone': 'LogisticRegression',\n",
        "            'linear-svc': 'LinearSVC',\n",
        "            'svc': 'SVC',\n",
        "            'etc': 'ExtraTreesClassifier',\n",
        "            'rfc': 'RandomForestClassifier',\n",
        "            'pac': 'PassiveAggressiveClassifier',\n",
        "            'gbc': 'GradientBoostingClassifier',\n",
        "            'mnb': 'MultinomialNB',\n",
        "            'gnb': 'GaussianNB',\n",
        "            'bnb': 'BernoulliNB',\n",
        "            'mlp': 'MLPClassifier'\n",
        "        }\n",
        "\n",
        "        # Dropdown for model selection\n",
        "        model_dropdown = widgets.Dropdown(\n",
        "            options=[(key, key) for key in model_options],  # Use key for both display and value\n",
        "            value='lr',  # Set 'lr' as the default model\n",
        "            description='Model:'\n",
        ")\n",
        "\n",
        "\n",
        "        outcomes_title = widgets.Label('Outcomes:')\n",
        "        controls_title = widgets.Label('Controls:')\n",
        "        outcomes_widgets = {}\n",
        "        controls_widgets = {}\n",
        "        outcomes_cat_widgets = {}\n",
        "        controls_cat_widgets = {}\n",
        "\n",
        "        # Create checkboxes and radio buttons for each column header\n",
        "        for option in filtered_column_headers:\n",
        "            outcomes_widgets[option] = widgets.Checkbox(description=option, value=False)\n",
        "            controls_widgets[option] = widgets.Checkbox(description=option, value=False)\n",
        "            outcomes_cat_widgets[option] = widgets.RadioButtons(\n",
        "                options=['No', 'Yes'],\n",
        "                description='Is this variable Categorical?',\n",
        "                value='No',\n",
        "                layout={'width': 'max-content'},\n",
        "                style={'description_width': 'initial'}\n",
        "            )\n",
        "            controls_cat_widgets[option] = widgets.RadioButtons(\n",
        "                options=['No', 'Yes'],\n",
        "                description='Is this variable Categorical?',\n",
        "                value='No',\n",
        "                layout={'width': 'max-content'},\n",
        "                style={'description_width': 'initial'}\n",
        "            )\n",
        "            outcomes_cat_widgets[option].layout.display = 'none'\n",
        "            controls_cat_widgets[option].layout.display = 'none'\n",
        "\n",
        "        def handle_checkbox_change(change):\n",
        "            option = change.owner.description\n",
        "            if change.owner in outcomes_widgets.values():\n",
        "                controls_widgets[option].disabled = change.new\n",
        "                outcomes_cat_widgets[option].layout.display = 'flex' if change.new else 'none'\n",
        "            elif change.owner in controls_widgets.values():\n",
        "                outcomes_widgets[option].disabled = change.new\n",
        "                controls_cat_widgets[option].layout.display = 'flex' if change.new else 'none'\n",
        "\n",
        "        for checkbox in outcomes_widgets.values():\n",
        "            checkbox.observe(handle_checkbox_change, names='value')\n",
        "        for checkbox in controls_widgets.values():\n",
        "            checkbox.observe(handle_checkbox_change, names='value')\n",
        "\n",
        "        def on_submit(change):\n",
        "            global outcomes, controls\n",
        "            clear_output(wait=True)\n",
        "            outcomes = [k for k, v in outcomes_widgets.items() if v.value]\n",
        "            controls = [k for k, v in controls_widgets.items() if v.value]\n",
        "            cat_to_bin_outcomes = [k for k, v in outcomes_cat_widgets.items() if v.value == 'Yes']\n",
        "            cat_to_bin_controls = [k for k, v in controls_cat_widgets.items() if v.value == 'Yes']\n",
        "\n",
        "            feature_table_name = feature_table_dropdown.value\n",
        "            selected_model = model_dropdown.value\n",
        "            cat_to_bin_parts = [','.join(cat_to_bin_outcomes), ','.join(cat_to_bin_controls)]\n",
        "            cat_to_bin_parts = [part for part in cat_to_bin_parts if part]  # Remove empty strings\n",
        "            cat_to_bin_cmd = f\"--cat_to_bin {' '.join(cat_to_bin_parts)}\" if cat_to_bin_parts else \"\"\n",
        "\n",
        "            command = (\n",
        "                f\"dlatkInterface.py -d {database_name} -t {file_name} -g {id_column_name} \"\n",
        "                f\"--group_freq_thresh 100 --feat_table '{feature_table_name}' \"\n",
        "                f\"--outcome_table {outcome_table_name} --outcomes {','.join(outcomes)} \"\n",
        "                f\"--controls {','.join(controls)} {cat_to_bin_cmd} \"\n",
        "                f\"--nfold_test_classifiers --model {selected_model}\"\n",
        "            )\n",
        "            print(\"Command to execute:\", command)\n",
        "            process = subprocess.run(command, shell=True, text=True, capture_output=True)\n",
        "            print(process.stdout)\n",
        "            if process.stderr:\n",
        "                print(\"Error:\", process.stderr)\n",
        "\n",
        "        submit_button = widgets.Button(description=\"Submit\")\n",
        "        submit_button.on_click(on_submit)\n",
        "\n",
        "        display(feature_table_dropdown, model_dropdown)\n",
        "        display(outcomes_title)\n",
        "        for option, checkbox in outcomes_widgets.items():\n",
        "            display(widgets.HBox([checkbox, outcomes_cat_widgets[option]]))\n",
        "        display(controls_title)\n",
        "        for option, checkbox in controls_widgets.items():\n",
        "            display(widgets.HBox([checkbox, controls_cat_widgets[option]]))\n",
        "        display(submit_button)\n",
        "\n",
        "    else:\n",
        "        print(\"Failed to read column names from the outcome table.\")\n",
        "else:\n",
        "    print(\"Outcome table name not set. Please ensure a file is uploaded in Part 1.\")\n"
      ],
      "metadata": {
        "id": "SicQCwIuWTab",
        "colab": {
          "base_uri": "https://localhost:8080/",
          "height": 250,
          "referenced_widgets": [
            "85a32bb0e4154c33909cd2de61a2eb2f",
            "39afcd61e43e4397b3e5ae7a823cfe89",
            "1cf840d635914bf4bfd2488b830e20ba",
            "1e878f4ecac8450f8e3f704713ab9508",
            "0e7894a8da2e46adb709f0e160fefe41",
            "be6d73d5f7f84192b997a94122a0459c",
            "37105189ff7d4f078230ffc1646f69db",
            "1ee11733e9254d619dc91308dd71e24a",
            "c78922831c034d75ac57226e904f5952",
            "4a2d2f6a9bb1495387b19441b934ab07",
            "7df88905045f480cb9a93fb6ce7a2dd2",
            "a3fef69dfff8420981ce3dd28fde85d4",
            "f0787208484f4e929c62be9700789aba",
            "9f2b459e9c9a4954959a0d32b786cf0a",
            "7aadaaa00d0843a5bee5a38d33c1e156",
            "e22a0ab49d5749a283bbfd71817ed9af",
            "3fba40db79c8471fb521c13f471460bf",
            "d902b25d699f4d0bb1f7d61e97b66619",
            "fc54c0c83b3442c9aa9b829f3351018c",
            "b09cbf47406341dc97aee84eebd2c3e0",
            "dc8405b24a5b44348fa5cf3eb360c763",
            "604634cc03c9492ead65115addb3a368",
            "b0e572c000e84de7b82f67d6198da570",
            "9536169e00524e6e844a8a683d990986",
            "f118187cedef455c90bab9dbe83c10f8",
            "b67874c8fcc1462a82fad640ae92f3f6",
            "cc21c5db46cf4d758617f313e86c8fad",
            "b723b5b4aef345bba4130317f2b4ebfd",
            "07a875b1ba5041d795ae931066dc3603",
            "acad24e5d4374cd7bf6487c2b493ef5d",
            "cb1cc9dc0aca442b9a78b773af2c5c39",
            "6794e3cfc64347ea82e48eeb5d0d5a03",
            "8adaa4aea50249af9d6bd1a35a8587cd",
            "4be2cf60fd5143ac8ee1024a4335e1db",
            "dbfdadf4a17940f682f5fcee315ae1b0",
            "5da0e32c08b745dbabb592870b904b2f",
            "fe17a73e7f3c43e2b0aa98353c5a7d77",
            "aee8fd8bcdc24c418e01864eb44ea862",
            "541a5069b0b74c39803510847ade42c3",
            "78a19ea6638f47d886671125b73d563c",
            "55b7797c6e424c1ca09c4fac532a0ecf",
            "1abc45e353fd42b0a3814f737e37fc1f",
            "eb7189d3d49146f984d4436b61102477",
            "ce0a102614e244aa8316565bb293467f",
            "22303aaa400f46ec978d865bddd2898e",
            "bfd45e1b398a4b54a740863253693013",
            "3790145041d14395a305df48182261bd",
            "24f8a62eb3e6424eb110951b9de13816",
            "073e8b47e4fc456784473db9bd1311ef",
            "e4a10c24d6254047b4dc9b3e4a6931ab",
            "6558c4604bad4a89a691776049c7b788",
            "5761c1830ca746e8b92587a8eb2b4840",
            "e8ca9f65978c46429721300c1a1d202e",
            "6cb18303e8284361aac3a53840fefe16",
            "41083ff6d7e2437e9b84c934a7a0def0",
            "a904a81d823e4f50a1c852587e8ea338",
            "7e2375308d404d0dbe0a2e4ccdf5c91c",
            "439de51f1652404d8063ee16dc908f27",
            "8f25249ca2234fc6b494c4dd0e9ba919",
            "0875658925fe4689ba88062877a944cb",
            "bd7a80ea59b145ecb2e205b3e6530886",
            "b38cb6edd2b54cf296bb301b812d4c05",
            "726c0119eeb04a21b1fffbf6b94b7dc6",
            "db42de05462d4d8c853fafbd0ba331a4",
            "0788d7ce32184136b7de6b50c153a2a4",
            "a04855d9b2894359b92b76934d9e87da",
            "0ca8eda56ce44da79182f13f0bfa5bc1",
            "5efbc2d0aa8844cbaf62355e08201365",
            "9f2c61ca53fc40a0994467303ac4d9e7",
            "8406c853a4c04a8fbb8a5e34816b92b5",
            "0b93e9f878454c77b65bfa2d330d5a9d",
            "896f0fbbb12f4bbe9f5e895b658f2e9f",
            "97312d1206c24337ae5bdf51ee3c6951",
            "62207822d27a4a438d35f4dba29511c5",
            "3a06ff629f424b9faa93bef76c3daa1f",
            "0386cf83c125433da65739194e602ef1",
            "be4cafdc9c6248cf8fab9112c610a5ce",
            "99713b0870cd4f78862c32c125ab32af",
            "e3f0dbf8a6334775b353a9d8b4d02767"
          ]
        },
        "outputId": "5b8ce95b-6d7b-4223-d429-181a87a70f1e"
      },
      "execution_count": 31,
      "outputs": [
        {
          "output_type": "display_data",
          "data": {
            "text/plain": [
              "<IPython.core.display.Javascript object>"
            ],
            "application/javascript": [
              "google.colab.output.setIframeHeight(0, true, {maxHeight: 250})"
            ]
          },
          "metadata": {}
        },
        {
          "output_type": "display_data",
          "data": {
            "text/plain": [
              "<IPython.core.display.HTML object>"
            ],
            "text/html": [
              "<style> body {background-color: rgb(255, 250, 232);}</style>"
            ]
          },
          "metadata": {}
        },
        {
          "output_type": "display_data",
          "data": {
            "text/plain": [
              "<IPython.core.display.Javascript object>"
            ],
            "application/javascript": [
              "google.colab.output.setIframeHeight(0, true, {maxHeight: 250})"
            ]
          },
          "metadata": {}
        },
        {
          "output_type": "display_data",
          "data": {
            "text/plain": [
              "<IPython.core.display.HTML object>"
            ],
            "text/html": [
              "<style> body {background-color: rgb(255, 250, 232);}</style>"
            ]
          },
          "metadata": {}
        },
        {
          "output_type": "display_data",
          "data": {
            "text/plain": [
              "<IPython.core.display.Javascript object>"
            ],
            "application/javascript": [
              "google.colab.output.setIframeHeight(0, true, {maxHeight: 250})"
            ]
          },
          "metadata": {}
        },
        {
          "output_type": "display_data",
          "data": {
            "text/plain": [
              "<IPython.core.display.HTML object>"
            ],
            "text/html": [
              "<style> body {background-color: rgb(255, 250, 232);}</style>"
            ]
          },
          "metadata": {}
        },
        {
          "output_type": "display_data",
          "data": {
            "text/plain": [
              "Dropdown(description='Feature Table:', options={'1to2grams-filtered-table': 'feat$1to2gram$msgs404u$user_id$0_…"
            ],
            "application/vnd.jupyter.widget-view+json": {
              "version_major": 2,
              "version_minor": 0,
              "model_id": "85a32bb0e4154c33909cd2de61a2eb2f"
            }
          },
          "metadata": {}
        },
        {
          "output_type": "display_data",
          "data": {
            "text/plain": [
              "Dropdown(description='Model:', options=(('lr', 'lr'), ('lr1', 'lr1'), ('lr_balanced', 'lr_balanced'), ('lrnone…"
            ],
            "application/vnd.jupyter.widget-view+json": {
              "version_major": 2,
              "version_minor": 0,
              "model_id": "1e878f4ecac8450f8e3f704713ab9508"
            }
          },
          "metadata": {}
        },
        {
          "output_type": "display_data",
          "data": {
            "text/plain": [
              "Label(value='Outcomes:')"
            ],
            "application/vnd.jupyter.widget-view+json": {
              "version_major": 2,
              "version_minor": 0,
              "model_id": "37105189ff7d4f078230ffc1646f69db"
            }
          },
          "metadata": {}
        },
        {
          "output_type": "display_data",
          "data": {
            "text/plain": [
              "HBox(children=(Checkbox(value=False, description='gender'), RadioButtons(description='Is this variable Categor…"
            ],
            "application/vnd.jupyter.widget-view+json": {
              "version_major": 2,
              "version_minor": 0,
              "model_id": "4a2d2f6a9bb1495387b19441b934ab07"
            }
          },
          "metadata": {}
        },
        {
          "output_type": "display_data",
          "data": {
            "text/plain": [
              "HBox(children=(Checkbox(value=False, description='age'), RadioButtons(description='Is this variable Categorica…"
            ],
            "application/vnd.jupyter.widget-view+json": {
              "version_major": 2,
              "version_minor": 0,
              "model_id": "d902b25d699f4d0bb1f7d61e97b66619"
            }
          },
          "metadata": {}
        },
        {
          "output_type": "display_data",
          "data": {
            "text/plain": [
              "HBox(children=(Checkbox(value=False, description='occu'), RadioButtons(description='Is this variable Categoric…"
            ],
            "application/vnd.jupyter.widget-view+json": {
              "version_major": 2,
              "version_minor": 0,
              "model_id": "b67874c8fcc1462a82fad640ae92f3f6"
            }
          },
          "metadata": {}
        },
        {
          "output_type": "display_data",
          "data": {
            "text/plain": [
              "HBox(children=(Checkbox(value=False, description='is_student'), RadioButtons(description='Is this variable Cat…"
            ],
            "application/vnd.jupyter.widget-view+json": {
              "version_major": 2,
              "version_minor": 0,
              "model_id": "4be2cf60fd5143ac8ee1024a4335e1db"
            }
          },
          "metadata": {}
        },
        {
          "output_type": "display_data",
          "data": {
            "text/plain": [
              "Label(value='Controls:')"
            ],
            "application/vnd.jupyter.widget-view+json": {
              "version_major": 2,
              "version_minor": 0,
              "model_id": "1abc45e353fd42b0a3814f737e37fc1f"
            }
          },
          "metadata": {}
        },
        {
          "output_type": "display_data",
          "data": {
            "text/plain": [
              "HBox(children=(Checkbox(value=False, description='gender'), RadioButtons(description='Is this variable Categor…"
            ],
            "application/vnd.jupyter.widget-view+json": {
              "version_major": 2,
              "version_minor": 0,
              "model_id": "22303aaa400f46ec978d865bddd2898e"
            }
          },
          "metadata": {}
        },
        {
          "output_type": "display_data",
          "data": {
            "text/plain": [
              "HBox(children=(Checkbox(value=False, description='age'), RadioButtons(description='Is this variable Categorica…"
            ],
            "application/vnd.jupyter.widget-view+json": {
              "version_major": 2,
              "version_minor": 0,
              "model_id": "e8ca9f65978c46429721300c1a1d202e"
            }
          },
          "metadata": {}
        },
        {
          "output_type": "display_data",
          "data": {
            "text/plain": [
              "HBox(children=(Checkbox(value=False, description='occu'), RadioButtons(description='Is this variable Categoric…"
            ],
            "application/vnd.jupyter.widget-view+json": {
              "version_major": 2,
              "version_minor": 0,
              "model_id": "bd7a80ea59b145ecb2e205b3e6530886"
            }
          },
          "metadata": {}
        },
        {
          "output_type": "display_data",
          "data": {
            "text/plain": [
              "HBox(children=(Checkbox(value=False, description='is_student'), RadioButtons(description='Is this variable Cat…"
            ],
            "application/vnd.jupyter.widget-view+json": {
              "version_major": 2,
              "version_minor": 0,
              "model_id": "9f2c61ca53fc40a0994467303ac4d9e7"
            }
          },
          "metadata": {}
        },
        {
          "output_type": "display_data",
          "data": {
            "text/plain": [
              "Button(description='Submit', style=ButtonStyle())"
            ],
            "application/vnd.jupyter.widget-view+json": {
              "version_major": 2,
              "version_minor": 0,
              "model_id": "be4cafdc9c6248cf8fab9112c610a5ce"
            }
          },
          "metadata": {}
        }
      ]
    },
    {
      "cell_type": "code",
      "execution_count": null,
      "metadata": {
        "colab": {
          "base_uri": "https://localhost:8080/",
          "height": 250
        },
        "id": "aCuCF14Eapmm",
        "outputId": "ccd35e06-9f83-4a05-8229-5385a1e8e940"
      },
      "outputs": [
        {
          "output_type": "display_data",
          "data": {
            "text/plain": [
              "<IPython.core.display.Javascript object>"
            ],
            "application/javascript": [
              "google.colab.output.setIframeHeight(0, true, {maxHeight: 250})"
            ]
          },
          "metadata": {}
        },
        {
          "output_type": "display_data",
          "data": {
            "text/plain": [
              "<IPython.core.display.HTML object>"
            ],
            "text/html": [
              "<style> body {background-color: rgb(255, 250, 232);}</style>"
            ]
          },
          "metadata": {}
        },
        {
          "output_type": "stream",
          "name": "stdout",
          "text": [
            "\n",
            "\n",
            "TopicExtractor: gensim Mallet wrapper unavailable, using Mallet directly.\n",
            "\n",
            "-----\n",
            "DLATK Interface Initiated: 2024-04-24 04:58:05\n",
            "-----\n",
            "Connecting to SQLite database: /content/sqlite_data/colab_csv.db\n",
            "SQL Query: CREATE TABLE users404 (user_id INT, gender INT, age INT, occu VARCHAR(23), is_student DOUBLE);\n",
            "Importing data, reading users404.csv file\n",
            "Reading remaining 404 rows into the table...\n",
            "Connecting to SQLite database: /content/sqlite_data/colab_csv.db\n",
            "WARNING: The table users404 does not have: a PRIMARY key on user_id. Consider adding.\n",
            "Loading Outcomes and Getting Groups for: {'is_student'}\n",
            "Connecting to SQLite database: /content/sqlite_data/colab_csv.db\n",
            "[number of groups: 255 (5 Folds)] non-stratified / using same folds for all outcomes\n",
            "\n",
            "\n",
            "|COMBO: ()|\n",
            "===========\n",
            "\n",
            "= is_student (w/ lang.)=\n",
            "------------------------\n",
            "\n",
            "Fold 0 \n",
            "   (feature group: 0): [Initial size: 255]\n",
            "[Train size: 204    Test size: 51]\n",
            "[Applying StandardScaler to X[0]: StandardScaler()]\n",
            " X[0]: (N, features): (204, 2290)\n",
            "[Training classification model: lr]\n",
            "model: LogisticRegression(C=0.01, random_state=42) \n",
            "  predict: applying standard scaler to X[0]: StandardScaler()\n",
            "  predict: combined X shape: (51, 2290)\n",
            "  predict: classifier intercept: [-0.42737537]\n",
            " *confusion matrix: \n",
            "[[23  5]\n",
            " [10 13]]\n",
            " *precision and recall: \n",
            "              precision    recall  f1-score   support\n",
            "\n",
            "           0       0.70      0.82      0.75        28\n",
            "           1       0.72      0.57      0.63        23\n",
            "\n",
            "    accuracy                           0.71        51\n",
            "   macro avg       0.71      0.69      0.69        51\n",
            "weighted avg       0.71      0.71      0.70        51\n",
            "\n",
            " *FOLD ACC: 0.7059 (mfclass_acc: 0.5490); mfclass: 0; auc: 0.7189\n",
            "\n",
            "\n",
            "Fold 1 \n",
            "   (feature group: 0): [Initial size: 255]\n",
            "[Train size: 204    Test size: 51]\n",
            "[Applying StandardScaler to X[0]: StandardScaler()]\n",
            " X[0]: (N, features): (204, 2290)\n",
            "[Training classification model: lr]\n",
            "model: LogisticRegression(C=0.01, random_state=42) \n",
            "  predict: applying standard scaler to X[0]: StandardScaler()\n",
            "  predict: combined X shape: (51, 2290)\n",
            "  predict: classifier intercept: [-0.34375154]\n",
            " *confusion matrix: \n",
            "[[26  4]\n",
            " [ 7 14]]\n",
            " *precision and recall: \n",
            "              precision    recall  f1-score   support\n",
            "\n",
            "           0       0.79      0.87      0.83        30\n",
            "           1       0.78      0.67      0.72        21\n",
            "\n",
            "    accuracy                           0.78        51\n",
            "   macro avg       0.78      0.77      0.77        51\n",
            "weighted avg       0.78      0.78      0.78        51\n",
            "\n",
            " *FOLD ACC: 0.7843 (mfclass_acc: 0.5882); mfclass: 0; auc: 0.8540\n",
            "\n",
            "\n",
            "Fold 2 \n",
            "   (feature group: 0): [Initial size: 255]\n",
            "[Train size: 204    Test size: 51]\n",
            "[Applying StandardScaler to X[0]: StandardScaler()]\n",
            " X[0]: (N, features): (204, 2290)\n",
            "[Training classification model: lr]\n",
            "model: LogisticRegression(C=0.01, random_state=42) \n",
            "  predict: applying standard scaler to X[0]: StandardScaler()\n",
            "  predict: combined X shape: (51, 2290)\n",
            "  predict: classifier intercept: [-0.50772704]\n",
            " *confusion matrix: \n",
            "[[23  3]\n",
            " [11 14]]\n",
            " *precision and recall: \n",
            "              precision    recall  f1-score   support\n",
            "\n",
            "           0       0.68      0.88      0.77        26\n",
            "           1       0.82      0.56      0.67        25\n",
            "\n",
            "    accuracy                           0.73        51\n",
            "   macro avg       0.75      0.72      0.72        51\n",
            "weighted avg       0.75      0.73      0.72        51\n",
            "\n",
            " *FOLD ACC: 0.7255 (mfclass_acc: 0.5098); mfclass: 0; auc: 0.7185\n",
            "\n",
            "\n",
            "Fold 3 \n",
            "   (feature group: 0): [Initial size: 255]\n",
            "[Train size: 204    Test size: 51]\n",
            "[Applying StandardScaler to X[0]: StandardScaler()]\n",
            " X[0]: (N, features): (204, 2290)\n",
            "[Training classification model: lr]\n",
            "model: LogisticRegression(C=0.01, random_state=42) \n",
            "  predict: applying standard scaler to X[0]: StandardScaler()\n",
            "  predict: combined X shape: (51, 2290)\n",
            "  predict: classifier intercept: [-0.38953479]\n",
            " *confusion matrix: \n",
            "[[23  6]\n",
            " [ 8 14]]\n",
            " *precision and recall: \n",
            "              precision    recall  f1-score   support\n",
            "\n",
            "           0       0.74      0.79      0.77        29\n",
            "           1       0.70      0.64      0.67        22\n",
            "\n",
            "    accuracy                           0.73        51\n",
            "   macro avg       0.72      0.71      0.72        51\n",
            "weighted avg       0.72      0.73      0.72        51\n",
            "\n",
            " *FOLD ACC: 0.7255 (mfclass_acc: 0.5686); mfclass: 0; auc: 0.8245\n",
            "\n",
            "\n",
            "Fold 4 \n",
            "   (feature group: 0): [Initial size: 255]\n",
            "[Train size: 204    Test size: 51]\n",
            "[Applying StandardScaler to X[0]: StandardScaler()]\n",
            " X[0]: (N, features): (204, 2290)\n",
            "[Training classification model: lr]\n",
            "model: LogisticRegression(C=0.01, random_state=42) \n",
            "  predict: applying standard scaler to X[0]: StandardScaler()\n",
            "  predict: combined X shape: (51, 2290)\n",
            "  predict: classifier intercept: [-0.35727353]\n",
            " *confusion matrix: \n",
            "[[24  6]\n",
            " [11 10]]\n",
            " *precision and recall: \n",
            "              precision    recall  f1-score   support\n",
            "\n",
            "           0       0.69      0.80      0.74        30\n",
            "           1       0.62      0.48      0.54        21\n",
            "\n",
            "    accuracy                           0.67        51\n",
            "   macro avg       0.66      0.64      0.64        51\n",
            "weighted avg       0.66      0.67      0.66        51\n",
            "\n",
            " *FOLD ACC: 0.6667 (mfclass_acc: 0.5882); mfclass: 0; auc: 0.6730\n",
            "\n",
            "* Overall Fold Acc: 0.7216 (+- 0.0170) vs. MFC Accuracy: 0.5608 (based on test rather than train)\n",
            "*       Overall F1: 0.7077 (+- 0.0191)\n",
            "       + precision: 0.7237 (+- 0.0190)\n",
            "       +    recall: 0.7070 (+- 0.0188)\n",
            "\n",
            "[TEST COMPLETE]\n",
            "\n",
            "{'is_student': {(): {1: {'acc': 0.7215686274509804,\n",
            "                         'auc': 0.7448801198801199,\n",
            "                         'auc_cntl_comb2': 0.0,\n",
            "                         'auc_cntl_comb2_p': 1.0,\n",
            "                         'auc_cntl_comb2_t': 0.0,\n",
            "                         'auc_p': 0.0,\n",
            "                         'auc_p_v_cntrls': 1.0,\n",
            "                         'f1': 0.7084963531855286,\n",
            "                         'f1_weighted': 0.7160008069305103,\n",
            "                         'folds_acc': 0.7215686274509804,\n",
            "                         'folds_auc': 0.7577682350965709,\n",
            "                         'folds_f1': 0.7077258991133442,\n",
            "                         'folds_mfclass_acc': 0.5607843137254902,\n",
            "                         'folds_precision': 0.7237498254433737,\n",
            "                         'folds_recall': 0.7070252241511612,\n",
            "                         'folds_rho': 0.4303887011448538,\n",
            "                         'folds_rho-p': 0.008453872188303043,\n",
            "                         'folds_se_acc': 0.01700351638327749,\n",
            "                         'folds_se_auc': 0.03094277448888591,\n",
            "                         'folds_se_f1': 0.01906700306580623,\n",
            "                         'folds_se_mfclass_acc': 0.013124078847593345,\n",
            "                         'folds_se_precision': 0.01904202376812535,\n",
            "                         'folds_se_recall': 0.018750112642087858,\n",
            "                         'folds_se_rho': 0.03768870238077484,\n",
            "                         'folds_se_rho-p': 0.006395604664118233,\n",
            "                         'matt_ccoef': 0.42951489521772107,\n",
            "                         'mfclass': '0',\n",
            "                         'mfclass_acc': 0.5607843137254902,\n",
            "                         'num_classes': '2',\n",
            "                         'num_features': 2290,\n",
            "                         'precision': 0.7236022742656018,\n",
            "                         'recall': 0.7062624875124875,\n",
            "                         'recall_micro': 0.7215686274509804,\n",
            "                         'recall_sensitivity': 0.5803571428571429,\n",
            "                         'recall_specificity': 0.8321678321678322,\n",
            "                         'test_size': 51,\n",
            "                         'train_size': 204,\n",
            "                         '{modelFS_desc}': 'None',\n",
            "                         '{model_desc}': 'LogisticRegression(C=0.01, '\n",
            "                                         'random_state=42)'}}}}\n",
            "\n",
            "[is_student]\n",
            "   NO CONTROLS\n",
            "     + LANG: acc: 0.722, f1: 0.708, auc: 0.745 (p_vs_controls = 1.0000)\n",
            "   (mfc_acc: 0.561)\n",
            "-------\n",
            "Settings:\n",
            "\n",
            "Database - colab_csv\n",
            "Corpus - msgs404u.csv\n",
            "Group ID - user_id\n",
            "Feature table(s) - feat$1to2gram$msgs404u$user_id$0_1\n",
            "Outcome table - users404.csv\n",
            "Outcome(s) - is_student\n",
            "-------\n",
            "Interface Runtime: 11.38 seconds\n",
            "DLATK exits with success! A good day indeed  ¯\\_(ツ)_/¯.\n"
          ]
        }
      ],
      "source": [
        "!dlatkInterface.py \\\n",
        "  -d colab_csv -t msgs404u.csv -g user_id --group_freq_thresh 100 \\\n",
        "  --outcome_table users404.csv --outcomes is_student  \\\n",
        "  --feat_table 'feat$1to2gram$msgs404u$user_id$0_1' \\\n",
        "  --nfold_test_classifiers --model lr"
      ]
    },
    {
      "cell_type": "markdown",
      "metadata": {
        "id": "zWMd-qW-Toti"
      },
      "source": [
        "👆 The above command produce the key validation metrics like `acc` (accuracy) which gives the fraction of users correctly classified as student (`72.2%` in this case), [f1 score](https://en.wikipedia.org/wiki/F-score), and [auc](https://developers.google.com/machine-learning/crash-course/classification/roc-and-auc) -\n",
        "\n",
        "```\n",
        "[is_student]\n",
        "   NO CONTROLS\n",
        "     + LANG: acc: 0.722, f1: 0.708, auc: 0.745 (p_vs_controls = 1.0000)\n",
        "   (mfc_acc: 0.561)\n",
        "```\n",
        "\n",
        "<br/>"
      ]
    },
    {
      "cell_type": "markdown",
      "metadata": {
        "id": "WHBvEKsTRLm9"
      },
      "source": [
        "## Prediction - Example 2: Training and Deploying a model."
      ]
    },
    {
      "cell_type": "markdown",
      "metadata": {
        "id": "oNpyhU6XiA1N"
      },
      "source": [
        "### Train and Deploy - Step 1: Train and save a model\n"
      ]
    },
    {
      "cell_type": "markdown",
      "metadata": {
        "id": "bEyzbB5XaodD"
      },
      "source": [
        "Another approach is to train a predictive model, store it and use it to predict the outcomes in a different dataset.\n",
        "\n",
        "<br/>\n",
        "\n",
        "In addition to the flags that point to the right tables, flags necessary for this command are -\n",
        "\n",
        "* **`--train_regression`** - trains a regression model.\n",
        "* **`--model MODEL_NAME`** - which machine learning model to use.\n",
        "* **`--save_model --picklefile FILENAME`** - saves the model into a pickle file `FILENAME`\n",
        "\n",
        "<br/>\n",
        "\n",
        "👇 In the below example, you will build and save a model (using [ridge regression](what_is_ridge) with a penalty of 1000) that predicts `age` from 1gram and 2gram features (`feat$1to2gram$msgs404u$user_id$0_1`), and save it into a file named `age.1to2grams.ridge1000.gft100.pickle`."
      ]
    },
    {
      "cell_type": "code",
      "execution_count": null,
      "metadata": {
        "colab": {
          "base_uri": "https://localhost:8080/",
          "height": 250
        },
        "id": "-8LGlOOBp8W0",
        "outputId": "3bfc2266-944e-4fb1-d275-6c9ba8f19fe6"
      },
      "outputs": [
        {
          "data": {
            "application/javascript": [
              "google.colab.output.setIframeHeight(0, true, {maxHeight: 250})"
            ],
            "text/plain": [
              "<IPython.core.display.Javascript object>"
            ]
          },
          "metadata": {},
          "output_type": "display_data"
        },
        {
          "data": {
            "text/html": [
              "<style> body {background-color: rgb(255, 250, 232);}</style>"
            ],
            "text/plain": [
              "<IPython.core.display.HTML object>"
            ]
          },
          "metadata": {},
          "output_type": "display_data"
        },
        {
          "name": "stdout",
          "output_type": "stream",
          "text": [
            "\n",
            "\n",
            "TopicExtractor: gensim Mallet wrapper unavailable, using Mallet directly.\n",
            "\n",
            "-----\n",
            "DLATK Interface Initiated: 2024-01-17 03:15:47\n",
            "-----\n",
            "Connecting to SQLite database: /content/sqlite_data/colab_csv.db\n",
            "Connecting to SQLite database: /content/sqlite_data/colab_csv.db\n",
            "WARNING: The table users404 does not have: a PRIMARY key on user_id. Consider adding.\n",
            "Loading Outcomes and Getting Groups for: {'age'}\n",
            "Connecting to SQLite database: /content/sqlite_data/colab_csv.db\n",
            "[number of groups: 404]\n",
            "\n",
            "= age =\n",
            "-------\n",
            "  (feature group: 0)\n",
            "   [Train size: 404 ]\n",
            " X[0]: (N, features): (404, 2308)\n",
            "  [Applying StandardScaler to X[0]: StandardScaler()]\n",
            "[COMBINED FEATS (from multiX)] Combined size: (404, 2308)\n",
            "[COMBINED FEATS: Training regression model: ridge1000]\n",
            "model: Ridge(alpha=1000) \n",
            "\n",
            "[TRAINING COMPLETE]\n",
            "\n",
            "[Saving age.1to2grams.ridge1000.gft100.pickle]\n",
            "-------\n",
            "\n",
            "Settings:\n",
            "\n",
            "Database - colab_csv\n",
            "Corpus - msgs404u.csv\n",
            "Group ID - user_id\n",
            "Feature table(s) - feat$1to2gram$msgs404u$user_id$0_1\n",
            "Outcome table - users404.csv\n",
            "Outcome(s) - age\n",
            "-------\n",
            "Interface Runtime: 1.16 seconds\n",
            "DLATK exits with success! A good day indeed  ¯\\_(ツ)_/¯.\n"
          ]
        }
      ],
      "source": [
        "!dlatkInterface.py \\\n",
        "  -d colab_csv -t msgs404u.csv -g user_id --group_freq_thresh 100 \\\n",
        "  --outcome_table users404.csv --outcomes age  \\\n",
        "  -f 'feat$1to2gram$msgs404u$user_id$0_1' \\\n",
        "  --train_regression --model ridge1000 \\\n",
        "  --save_model --picklefile age.1to2grams.ridge1000.gft100.pickle"
      ]
    },
    {
      "cell_type": "markdown",
      "metadata": {
        "id": "1ry-iqmWROil"
      },
      "source": [
        "### Train and Deploy - Step 2: Predict from new data\n",
        "\n"
      ]
    },
    {
      "cell_type": "markdown",
      "metadata": {
        "id": "f4HkTFvrZOh7"
      },
      "source": [
        "Once you have trained a model to predict an outcome, you can use it to predict from unseen data (or *test* data).\n",
        "\n",
        "👉 If you wish to use a default *test* dataset, skip the next command.\n",
        "\n",
        "👇 To load your dataset to test the model, you can use the `upload_dataset` function from the [Setup data](#data) section above."
      ]
    },
    {
      "cell_type": "code",
      "execution_count": null,
      "metadata": {
        "colab": {
          "base_uri": "https://localhost:8080/",
          "height": 250
        },
        "id": "VFGe4TR9RSg-",
        "outputId": "0714d3e2-f8e6-4084-8319-43d1a0d481c7"
      },
      "outputs": [
        {
          "data": {
            "application/javascript": [
              "google.colab.output.setIframeHeight(0, true, {maxHeight: 250})"
            ],
            "text/plain": [
              "<IPython.core.display.Javascript object>"
            ]
          },
          "metadata": {},
          "output_type": "display_data"
        },
        {
          "data": {
            "text/html": [
              "<style> body {background-color: rgb(255, 250, 232);}</style>"
            ],
            "text/plain": [
              "<IPython.core.display.HTML object>"
            ]
          },
          "metadata": {},
          "output_type": "display_data"
        },
        {
          "data": {
            "text/html": [
              "\n",
              "     <input type=\"file\" id=\"files-3c09ee46-7737-4994-8b80-40dc6185138c\" name=\"files[]\" multiple disabled\n",
              "        style=\"border:none\" />\n",
              "     <output id=\"result-3c09ee46-7737-4994-8b80-40dc6185138c\">\n",
              "      Upload widget is only available when the cell has been executed in the\n",
              "      current browser session. Please rerun this cell to enable.\n",
              "      </output>\n",
              "      <script>// Copyright 2017 Google LLC\n",
              "//\n",
              "// Licensed under the Apache License, Version 2.0 (the \"License\");\n",
              "// you may not use this file except in compliance with the License.\n",
              "// You may obtain a copy of the License at\n",
              "//\n",
              "//      http://www.apache.org/licenses/LICENSE-2.0\n",
              "//\n",
              "// Unless required by applicable law or agreed to in writing, software\n",
              "// distributed under the License is distributed on an \"AS IS\" BASIS,\n",
              "// WITHOUT WARRANTIES OR CONDITIONS OF ANY KIND, either express or implied.\n",
              "// See the License for the specific language governing permissions and\n",
              "// limitations under the License.\n",
              "\n",
              "/**\n",
              " * @fileoverview Helpers for google.colab Python module.\n",
              " */\n",
              "(function(scope) {\n",
              "function span(text, styleAttributes = {}) {\n",
              "  const element = document.createElement('span');\n",
              "  element.textContent = text;\n",
              "  for (const key of Object.keys(styleAttributes)) {\n",
              "    element.style[key] = styleAttributes[key];\n",
              "  }\n",
              "  return element;\n",
              "}\n",
              "\n",
              "// Max number of bytes which will be uploaded at a time.\n",
              "const MAX_PAYLOAD_SIZE = 100 * 1024;\n",
              "\n",
              "function _uploadFiles(inputId, outputId) {\n",
              "  const steps = uploadFilesStep(inputId, outputId);\n",
              "  const outputElement = document.getElementById(outputId);\n",
              "  // Cache steps on the outputElement to make it available for the next call\n",
              "  // to uploadFilesContinue from Python.\n",
              "  outputElement.steps = steps;\n",
              "\n",
              "  return _uploadFilesContinue(outputId);\n",
              "}\n",
              "\n",
              "// This is roughly an async generator (not supported in the browser yet),\n",
              "// where there are multiple asynchronous steps and the Python side is going\n",
              "// to poll for completion of each step.\n",
              "// This uses a Promise to block the python side on completion of each step,\n",
              "// then passes the result of the previous step as the input to the next step.\n",
              "function _uploadFilesContinue(outputId) {\n",
              "  const outputElement = document.getElementById(outputId);\n",
              "  const steps = outputElement.steps;\n",
              "\n",
              "  const next = steps.next(outputElement.lastPromiseValue);\n",
              "  return Promise.resolve(next.value.promise).then((value) => {\n",
              "    // Cache the last promise value to make it available to the next\n",
              "    // step of the generator.\n",
              "    outputElement.lastPromiseValue = value;\n",
              "    return next.value.response;\n",
              "  });\n",
              "}\n",
              "\n",
              "/**\n",
              " * Generator function which is called between each async step of the upload\n",
              " * process.\n",
              " * @param {string} inputId Element ID of the input file picker element.\n",
              " * @param {string} outputId Element ID of the output display.\n",
              " * @return {!Iterable<!Object>} Iterable of next steps.\n",
              " */\n",
              "function* uploadFilesStep(inputId, outputId) {\n",
              "  const inputElement = document.getElementById(inputId);\n",
              "  inputElement.disabled = false;\n",
              "\n",
              "  const outputElement = document.getElementById(outputId);\n",
              "  outputElement.innerHTML = '';\n",
              "\n",
              "  const pickedPromise = new Promise((resolve) => {\n",
              "    inputElement.addEventListener('change', (e) => {\n",
              "      resolve(e.target.files);\n",
              "    });\n",
              "  });\n",
              "\n",
              "  const cancel = document.createElement('button');\n",
              "  inputElement.parentElement.appendChild(cancel);\n",
              "  cancel.textContent = 'Cancel upload';\n",
              "  const cancelPromise = new Promise((resolve) => {\n",
              "    cancel.onclick = () => {\n",
              "      resolve(null);\n",
              "    };\n",
              "  });\n",
              "\n",
              "  // Wait for the user to pick the files.\n",
              "  const files = yield {\n",
              "    promise: Promise.race([pickedPromise, cancelPromise]),\n",
              "    response: {\n",
              "      action: 'starting',\n",
              "    }\n",
              "  };\n",
              "\n",
              "  cancel.remove();\n",
              "\n",
              "  // Disable the input element since further picks are not allowed.\n",
              "  inputElement.disabled = true;\n",
              "\n",
              "  if (!files) {\n",
              "    return {\n",
              "      response: {\n",
              "        action: 'complete',\n",
              "      }\n",
              "    };\n",
              "  }\n",
              "\n",
              "  for (const file of files) {\n",
              "    const li = document.createElement('li');\n",
              "    li.append(span(file.name, {fontWeight: 'bold'}));\n",
              "    li.append(span(\n",
              "        `(${file.type || 'n/a'}) - ${file.size} bytes, ` +\n",
              "        `last modified: ${\n",
              "            file.lastModifiedDate ? file.lastModifiedDate.toLocaleDateString() :\n",
              "                                    'n/a'} - `));\n",
              "    const percent = span('0% done');\n",
              "    li.appendChild(percent);\n",
              "\n",
              "    outputElement.appendChild(li);\n",
              "\n",
              "    const fileDataPromise = new Promise((resolve) => {\n",
              "      const reader = new FileReader();\n",
              "      reader.onload = (e) => {\n",
              "        resolve(e.target.result);\n",
              "      };\n",
              "      reader.readAsArrayBuffer(file);\n",
              "    });\n",
              "    // Wait for the data to be ready.\n",
              "    let fileData = yield {\n",
              "      promise: fileDataPromise,\n",
              "      response: {\n",
              "        action: 'continue',\n",
              "      }\n",
              "    };\n",
              "\n",
              "    // Use a chunked sending to avoid message size limits. See b/62115660.\n",
              "    let position = 0;\n",
              "    do {\n",
              "      const length = Math.min(fileData.byteLength - position, MAX_PAYLOAD_SIZE);\n",
              "      const chunk = new Uint8Array(fileData, position, length);\n",
              "      position += length;\n",
              "\n",
              "      const base64 = btoa(String.fromCharCode.apply(null, chunk));\n",
              "      yield {\n",
              "        response: {\n",
              "          action: 'append',\n",
              "          file: file.name,\n",
              "          data: base64,\n",
              "        },\n",
              "      };\n",
              "\n",
              "      let percentDone = fileData.byteLength === 0 ?\n",
              "          100 :\n",
              "          Math.round((position / fileData.byteLength) * 100);\n",
              "      percent.textContent = `${percentDone}% done`;\n",
              "\n",
              "    } while (position < fileData.byteLength);\n",
              "  }\n",
              "\n",
              "  // All done.\n",
              "  yield {\n",
              "    response: {\n",
              "      action: 'complete',\n",
              "    }\n",
              "  };\n",
              "}\n",
              "\n",
              "scope.google = scope.google || {};\n",
              "scope.google.colab = scope.google.colab || {};\n",
              "scope.google.colab._files = {\n",
              "  _uploadFiles,\n",
              "  _uploadFilesContinue,\n",
              "};\n",
              "})(self);\n",
              "</script> "
            ],
            "text/plain": [
              "<IPython.core.display.HTML object>"
            ]
          },
          "metadata": {},
          "output_type": "display_data"
        },
        {
          "ename": "IndexError",
          "evalue": "list index out of range",
          "output_type": "error",
          "traceback": [
            "\u001b[0;31m---------------------------------------------------------------------------\u001b[0m",
            "\u001b[0;31mIndexError\u001b[0m                                Traceback (most recent call last)",
            "\u001b[0;32m<ipython-input-16-a80c7e8d9230>\u001b[0m in \u001b[0;36m<cell line: 2>\u001b[0;34m()\u001b[0m\n\u001b[1;32m      1\u001b[0m \u001b[0;32mfrom\u001b[0m \u001b[0mdlatk\u001b[0m\u001b[0;34m.\u001b[0m\u001b[0mtools\u001b[0m\u001b[0;34m.\u001b[0m\u001b[0mcolab_methods\u001b[0m \u001b[0;32mimport\u001b[0m \u001b[0mupload_dataset\u001b[0m\u001b[0;34m\u001b[0m\u001b[0;34m\u001b[0m\u001b[0m\n\u001b[0;32m----> 2\u001b[0;31m \u001b[0mupload_dataset\u001b[0m\u001b[0;34m(\u001b[0m\u001b[0;34m)\u001b[0m\u001b[0;34m\u001b[0m\u001b[0;34m\u001b[0m\u001b[0m\n\u001b[0m",
            "\u001b[0;32m/usr/local/lib/python3.10/dist-packages/dlatk/tools/colab_methods.py\u001b[0m in \u001b[0;36mupload_dataset\u001b[0;34m(filename, foldername)\u001b[0m\n\u001b[1;32m     27\u001b[0m     \u001b[0;31m#Upload the dataset to Google Colab - /content/\u001b[0m\u001b[0;34m\u001b[0m\u001b[0;34m\u001b[0m\u001b[0m\n\u001b[1;32m     28\u001b[0m     \u001b[0mfile\u001b[0m \u001b[0;34m=\u001b[0m \u001b[0mfiles\u001b[0m\u001b[0;34m.\u001b[0m\u001b[0mupload\u001b[0m\u001b[0;34m(\u001b[0m\u001b[0;34m)\u001b[0m\u001b[0;34m\u001b[0m\u001b[0;34m\u001b[0m\u001b[0m\n\u001b[0;32m---> 29\u001b[0;31m     \u001b[0mfilename\u001b[0m \u001b[0;34m=\u001b[0m \u001b[0mlist\u001b[0m\u001b[0;34m(\u001b[0m\u001b[0mfile\u001b[0m\u001b[0;34m.\u001b[0m\u001b[0mkeys\u001b[0m\u001b[0;34m(\u001b[0m\u001b[0;34m)\u001b[0m\u001b[0;34m)\u001b[0m\u001b[0;34m[\u001b[0m\u001b[0;36m0\u001b[0m\u001b[0;34m]\u001b[0m\u001b[0;34m\u001b[0m\u001b[0;34m\u001b[0m\u001b[0m\n\u001b[0m\u001b[1;32m     30\u001b[0m     \u001b[0mprint\u001b[0m\u001b[0;34m(\u001b[0m\u001b[0;34m\"Uploading \"\u001b[0m\u001b[0;34m,\u001b[0m \u001b[0mfilename\u001b[0m\u001b[0;34m)\u001b[0m\u001b[0;34m\u001b[0m\u001b[0;34m\u001b[0m\u001b[0m\n\u001b[1;32m     31\u001b[0m \u001b[0;34m\u001b[0m\u001b[0m\n",
            "\u001b[0;31mIndexError\u001b[0m: list index out of range"
          ]
        }
      ],
      "source": [
        "from dlatk.tools.colab_methods import upload_dataset\n",
        "upload_dataset()"
      ]
    },
    {
      "cell_type": "markdown",
      "metadata": {
        "id": "FWjIdHgYZw9l"
      },
      "source": [
        "👇 You need to extract the same set of features as the ones used to train the predictive model. So, extract 1gram and 2gram features, used by atleast 10% of the groups, and consider only the groups with atleast 100 tokens."
      ]
    },
    {
      "cell_type": "code",
      "execution_count": null,
      "metadata": {
        "colab": {
          "base_uri": "https://localhost:8080/",
          "height": 250
        },
        "id": "hPHAMH9sMqKu",
        "outputId": "12c4ae07-bcff-4484-fb8a-db1fb23f97bd"
      },
      "outputs": [
        {
          "data": {
            "application/javascript": [
              "google.colab.output.setIframeHeight(0, true, {maxHeight: 250})"
            ],
            "text/plain": [
              "<IPython.core.display.Javascript object>"
            ]
          },
          "metadata": {},
          "output_type": "display_data"
        },
        {
          "data": {
            "text/html": [
              "<style> body {background-color: rgb(255, 250, 232);}</style>"
            ],
            "text/plain": [
              "<IPython.core.display.HTML object>"
            ]
          },
          "metadata": {},
          "output_type": "display_data"
        },
        {
          "name": "stdout",
          "output_type": "stream",
          "text": [
            "\n",
            "\n",
            "TopicExtractor: gensim Mallet wrapper unavailable, using Mallet directly.\n",
            "\n",
            "-----\n",
            "DLATK Interface Initiated: 2024-01-17 03:15:55\n",
            "-----\n",
            "Connecting to SQLite database: /content/sqlite_data/colab_csv.db\n",
            "SQL Query: CREATE TABLE msgs100u (message_id INT, user_id INT, created_date VARCHAR(10), message LONGTEXT);\n",
            "Importing data, reading msgs100u.csv file\n",
            "Reading remaining 741 rows into the table...\n",
            "query: PRAGMA table_info(msgs100u)\n",
            "SQL Query: DROP TABLE IF EXISTS feat$1gram$msgs100u$user_id\n",
            "SQL Query: CREATE TABLE feat$1gram$msgs100u$user_id ( id INTEGER PRIMARY KEY, group_id INTEGER, feat VARCHAR(36), value INTEGER, group_norm DOUBLE)\n",
            "\n",
            "\n",
            "Creating index correl_field on table:feat$1gram$msgs100u$user_id, column:group_id \n",
            "\n",
            "\n",
            "SQL Query: CREATE INDEX correl_field$1gram$msgs100u$user_id ON feat$1gram$msgs100u$user_id (group_id)\n",
            "\n",
            "\n",
            "Creating index feature on table:feat$1gram$msgs100u$user_id, column:feat \n",
            "\n",
            "\n",
            "SQL Query: CREATE INDEX feature$1gram$msgs100u$user_id ON feat$1gram$msgs100u$user_id (feat)\n",
            "query: PRAGMA table_info(msgs100u)\n",
            "SQL Query: DROP TABLE IF EXISTS feat$meta_1gram$msgs100u$user_id\n",
            "SQL Query: CREATE TABLE feat$meta_1gram$msgs100u$user_id ( id INTEGER PRIMARY KEY, group_id INTEGER, feat VARCHAR(16), value INTEGER, group_norm DOUBLE)\n",
            "\n",
            "\n",
            "Creating index correl_field on table:feat$meta_1gram$msgs100u$user_id, column:group_id \n",
            "\n",
            "\n",
            "\n",
            "\n",
            "Creating index feature on table:feat$meta_1gram$msgs100u$user_id, column:feat \n",
            "\n",
            "\n",
            "finding messages for 100 'user_id's\n",
            "WARNING: The table msgs100u does not have: a PRIMARY key on message_id. Consider adding.\n",
            "         Please check that all messages have a unique message_id, this can significantly impact all downstream analysis\n",
            "WARNING: The table msgs100u does not have: an index on user_id. Consider adding.\n",
            " [5%] Inserted 4080 total ngram rows covering 5 user_ids\n",
            " [10%] Inserted 9541 total ngram rows covering 10 user_ids\n",
            " [15%] Inserted 12001 total ngram rows covering 15 user_ids\n",
            " [20%] Inserted 13754 total ngram rows covering 20 user_ids\n",
            " [25%] Inserted 16767 total ngram rows covering 25 user_ids\n",
            " [30%] Inserted 18785 total ngram rows covering 30 user_ids\n",
            " [35%] Inserted 20910 total ngram rows covering 35 user_ids\n",
            " [40%] Inserted 24759 total ngram rows covering 40 user_ids\n",
            " [45%] Inserted 27164 total ngram rows covering 45 user_ids\n",
            " [50%] Inserted 30060 total ngram rows covering 50 user_ids\n",
            " [55%] Inserted 35290 total ngram rows covering 55 user_ids\n",
            " [60%] Inserted 38545 total ngram rows covering 60 user_ids\n",
            " [65%] Inserted 41141 total ngram rows covering 65 user_ids\n",
            " [70%] Inserted 45646 total ngram rows covering 70 user_ids\n",
            " [75%] Inserted 48750 total ngram rows covering 75 user_ids\n",
            " [80%] Inserted 53011 total ngram rows covering 80 user_ids\n",
            " [85%] Inserted 57497 total ngram rows covering 85 user_ids\n",
            " [90%] Inserted 60195 total ngram rows covering 90 user_ids\n",
            " [95%] Inserted 62513 total ngram rows covering 95 user_ids\n",
            " [100%] Inserted 64501 total ngram rows covering 100 user_ids\n",
            "Done Reading / Inserting.\n",
            "Adding Keys (if goes to keycache, then decrease MAX_TO_DISABLE_KEYS or run myisamchk -n).\n",
            "Done\n",
            "\n",
            "query: PRAGMA table_info(msgs100u)\n",
            "SQL Query: DROP TABLE IF EXISTS feat$2gram$msgs100u$user_id\n",
            "SQL Query: CREATE TABLE feat$2gram$msgs100u$user_id ( id INTEGER PRIMARY KEY, group_id INTEGER, feat VARCHAR(70), value INTEGER, group_norm DOUBLE)\n",
            "\n",
            "\n",
            "Creating index correl_field on table:feat$2gram$msgs100u$user_id, column:group_id \n",
            "\n",
            "\n",
            "SQL Query: CREATE INDEX correl_field$2gram$msgs100u$user_id ON feat$2gram$msgs100u$user_id (group_id)\n",
            "\n",
            "\n",
            "Creating index feature on table:feat$2gram$msgs100u$user_id, column:feat \n",
            "\n",
            "\n",
            "SQL Query: CREATE INDEX feature$2gram$msgs100u$user_id ON feat$2gram$msgs100u$user_id (feat)\n",
            "query: PRAGMA table_info(msgs100u)\n",
            "SQL Query: DROP TABLE IF EXISTS feat$meta_2gram$msgs100u$user_id\n",
            "SQL Query: CREATE TABLE feat$meta_2gram$msgs100u$user_id ( id INTEGER PRIMARY KEY, group_id INTEGER, feat VARCHAR(16), value INTEGER, group_norm DOUBLE)\n",
            "\n",
            "\n",
            "Creating index correl_field on table:feat$meta_2gram$msgs100u$user_id, column:group_id \n",
            "\n",
            "\n",
            "\n",
            "\n",
            "Creating index feature on table:feat$meta_2gram$msgs100u$user_id, column:feat \n",
            "\n",
            "\n",
            "finding messages for 100 'user_id's\n",
            " [5%] Inserted 10738 total ngram rows covering 5 user_ids\n",
            " [10%] Inserted 26507 total ngram rows covering 10 user_ids\n",
            " [15%] Inserted 32549 total ngram rows covering 15 user_ids\n",
            " [20%] Inserted 36411 total ngram rows covering 20 user_ids\n",
            " [25%] Inserted 44868 total ngram rows covering 25 user_ids\n",
            " [30%] Inserted 49988 total ngram rows covering 30 user_ids\n",
            " [35%] Inserted 54670 total ngram rows covering 35 user_ids\n",
            " [40%] Inserted 65850 total ngram rows covering 40 user_ids\n",
            " [45%] Inserted 71566 total ngram rows covering 45 user_ids\n",
            " [50%] Inserted 78652 total ngram rows covering 50 user_ids\n",
            " [55%] Inserted 93025 total ngram rows covering 55 user_ids\n",
            " [60%] Inserted 101839 total ngram rows covering 60 user_ids\n",
            " [65%] Inserted 107579 total ngram rows covering 65 user_ids\n",
            " [70%] Inserted 120820 total ngram rows covering 70 user_ids\n",
            " [75%] Inserted 128580 total ngram rows covering 75 user_ids\n",
            " [80%] Inserted 141321 total ngram rows covering 80 user_ids\n",
            " [85%] Inserted 153942 total ngram rows covering 85 user_ids\n",
            " [90%] Inserted 160653 total ngram rows covering 90 user_ids\n",
            " [95%] Inserted 166030 total ngram rows covering 95 user_ids\n",
            " [100%] Inserted 170583 total ngram rows covering 100 user_ids\n",
            "Done Reading / Inserting.\n",
            "Adding Keys (if goes to keycache, then decrease MAX_TO_DISABLE_KEYS or run myisamchk -n).\n",
            "Done\n",
            "\n",
            "Connecting to SQLite database: /content/sqlite_data/colab_csv.db\n",
            "SQL Query: DROP TABLE IF EXISTS feat$1to2gram$msgs100u$user_id\n",
            "SQL Query: CREATE TABLE feat$1to2gram$msgs100u$user_id ( id INTEGER PRIMARY KEY, group_id INTEGER, feat VARCHAR(70), value INTEGER, group_norm DOUBLE)\n",
            "\n",
            "\n",
            "Creating index correl_field on table:feat$1to2gram$msgs100u$user_id, column:group_id \n",
            "\n",
            "\n",
            "SQL Query: CREATE INDEX correl_field$1to2gram$msgs100u$user_id ON feat$1to2gram$msgs100u$user_id (group_id)\n",
            "\n",
            "\n",
            "Creating index feature on table:feat$1to2gram$msgs100u$user_id, column:feat \n",
            "\n",
            "\n",
            "SQL Query: CREATE INDEX feature$1to2gram$msgs100u$user_id ON feat$1to2gram$msgs100u$user_id (feat)\n",
            "Connecting to SQLite database: /content/sqlite_data/colab_csv.db\n",
            "Connecting to SQLite database: /content/sqlite_data/colab_csv.db\n",
            " feat$1to2gram$msgs100u$user_id [threshold: 10]\n",
            "Connecting to SQLite database: /content/sqlite_data/colab_csv.db\n",
            "SQL Query: DROP TABLE IF EXISTS feat$1to2gram$msgs100u$user_id$0_1\n",
            " feat$1to2gram$msgs100u$user_id <new table feat$1to2gram$msgs100u$user_id$0_1 will have 3053 distinct features.>\n",
            "SQL Query: CREATE TABLE feat$1to2gram$msgs100u$user_id$0_1 ( id INTEGER PRIMARY KEY, group_id INTEGER, feat VARCHAR(70), value INTEGER, group_norm DOUBLE)\n",
            "Done inserting.\n",
            "Enabling keys.\n",
            "done.\n",
            "-------\n",
            "\n",
            "Settings:\n",
            "\n",
            "Database - colab_csv\n",
            "Corpus - msgs100u.csv\n",
            "Group ID - user_id\n",
            "Feature table(s) - feat$1to2gram$msgs100u$user_id$0_1\n",
            "-------\n",
            "Interface Runtime: 14.06 seconds\n",
            "DLATK exits with success! A good day indeed  ¯\\_(ツ)_/¯.\n"
          ]
        }
      ],
      "source": [
        "!dlatkInterface.py \\\n",
        "  -d colab_csv -t msgs100u.csv -g user_id --group_freq_thresh 100 \\\n",
        "  --add_ngrams -n 1 2 \\\n",
        "  --combine_feat_tables 1to2gram \\\n",
        "  --feat_occ_filter --set_p_occ 0.10"
      ]
    },
    {
      "cell_type": "markdown",
      "metadata": {
        "id": "Ihi0766mfTx_"
      },
      "source": [
        "👆 You should see the name of the new feature table - `feat$1to2gram$msgs100u$user_id$0_1$pmi3_0` (you can use `--view_tables` to check the table).\n",
        "<hr /><br />\n",
        "\n"
      ]
    },
    {
      "cell_type": "markdown",
      "metadata": {
        "id": "fFiIGzTXf2Jf"
      },
      "source": [
        "Once you have all the features required by the prediction model, you can predict the outcome using the flags:\n",
        "\n",
        "* **`--predict_regression_to_outcome_table TABLE_NAME`** - predicts the outcomes into a table named `TABLE_NAME`.\n",
        "* **`--load --picklefile FILENAME`** - load the model from the file `FILENAME`."
      ]
    },
    {
      "cell_type": "code",
      "execution_count": null,
      "metadata": {
        "colab": {
          "base_uri": "https://localhost:8080/",
          "height": 250
        },
        "id": "3z0FH0p3L1L-",
        "outputId": "5bb408f7-e97b-458e-f51e-b11ae722172f"
      },
      "outputs": [
        {
          "data": {
            "application/javascript": [
              "google.colab.output.setIframeHeight(0, true, {maxHeight: 250})"
            ],
            "text/plain": [
              "<IPython.core.display.Javascript object>"
            ]
          },
          "metadata": {},
          "output_type": "display_data"
        },
        {
          "data": {
            "text/html": [
              "<style> body {background-color: rgb(255, 250, 232);}</style>"
            ],
            "text/plain": [
              "<IPython.core.display.HTML object>"
            ]
          },
          "metadata": {},
          "output_type": "display_data"
        },
        {
          "name": "stdout",
          "output_type": "stream",
          "text": [
            "\n",
            "\n",
            "TopicExtractor: gensim Mallet wrapper unavailable, using Mallet directly.\n",
            "\n",
            "-----\n",
            "DLATK Interface Initiated: 2024-01-17 03:16:15\n",
            "-----\n",
            "Connecting to SQLite database: /content/sqlite_data/colab_csv.db\n",
            "Outcome table missing\n",
            "Connecting to SQLite database: /content/sqlite_data/colab_csv.db\n",
            "[Loading age.1to2grams.ridge1000.gft100.pickle] True\n",
            "Outcomes in loaded model: ['age']\n",
            "WARNING! Predict to outcome table sometimes excludes groups if not in a feature table.\n",
            "\n",
            "\n",
            "**CHUNK 0\n",
            "\n",
            " [Aligning current X with training X: feature group: 0]\n",
            "  Features Aligned: 2308\n",
            "\n",
            "= age =\n",
            "-------\n",
            "  (feature group: 0)\n",
            "[PREDICT] applying *existing* standard scaler to X[0]: StandardScaler()\n",
            "[PREDICT] combined X shape: (100, 2308)\n",
            "[PREDICT] regressor: Ridge(alpha=1000)\n",
            "settings:  [('alpha', 1000), ('fit_intercept', True), ('copy_X', True), ('max_iter', None), ('tol', 0.001), ('positive', False), ('random_state', None), ('n_features_in_', 2308), ('_normalize', False), ('n_iter_', None), ('intercept_', 23.24009900990099)]\n",
            "[Done.]\n",
            "[Prediction Complete]\n",
            " Total Predicted: 100\n",
            "New table created: p_ridg$lbp_age\n",
            "Connecting to SQLite database: /content/sqlite_data/colab_csv.db\n",
            "\n",
            "Example predictions\n",
            "-------\n",
            "Group ID: 4088894\n",
            "\n",
            "Top 3 messages for the group:\n",
            "-------\n",
            "[\"I have been a member of the Dragonswood site for quite a while now & am pleased to say that recently, I was asked to write a regular column for their magazine (which, incidentally, is now available in some shops over in the USA & even NZ, as well as quite a few here in the UK). My first column is in the latest issue (out for Lammas & Mabon) & *puffs out chest with pride* is one of the featured articles mentioned on the front cover. I'm pleased as punch over that, I have to say, as this is my first professional writing venture (I've only ever written items for Triptych which I produce myself before now). Anyway, I thought I'd pop the article up here too & provide a link to the Dragonswood website, where you can order the magazine direct from them:  urlLink http://www.dragonswood.org.uk/index.php    THE ARTICLE:  Simple Witchery By Mabon   What is Simple Witchery?  As long as I can remember, Iâ\\x80\\x99ve always liked to keep things as simple as possible â\\x80\\x93 I never saw the point in taking a complicated route if a simpler one presented itself to me. This isnâ\\x80\\x99t laziness, just common sense, from my point of view. Itâ\\x80\\x99s something that has bothered me for a long time, this need people often seem to feel to complicate things which neednâ\\x80\\x99t be so hard, and so I set out to boil things down to their barest components, take out all things unnecessary & just get things done.  This is, essentially, what Simple Witchery is all about; leaving out all the extraneous information & implements, taking advantage of what we have ready to hand, & simply enjoying the flow of things. I hope that with this column, I can share some of this with all of you, & perhaps even get you thinking of ways to simplify things in your own, unique way!   Why Simple Witchery?  When you lift out all the superfluous items, you are left with the most important element of the Craft. Which element is that? Earth? Air? Fire or Water? Perhaps Spirit? No, none of these. The most important element is always YOU; the person living it & experiencing all it has to offer. When you learn to rely on yourself & your own abilities, you learn that nothing is impossible, you can do anything you set your mind to. Thatâ\\x80\\x99s what itâ\\x80\\x99s all about; setting your mind to something & getting it done.  For example, I donâ\\x80\\x99t use a wand in any or my work. Yes, I own one â\\x80\\x93 a very ornate & beautiful one which was given to me by a very close friend â\\x80\\x93 but I see it as purely a decoration for my home & it sits on a cherry wood stand atop my bookcase, where I can see it whenever I look up. It has never & will never be used by me or anyone else. Why? Because it doesnâ\\x80\\x99t need to be. I have no need of a wand when I have myself. Besides, what if at some point I had to cast in an emergency & found myself without my wand, what would I do? Panic? Well, thatâ\\x80\\x99s not really very sensible, is it? Iâ\\x80\\x99d do whatever needed to be done without my wand & it would work every bit as well as it would while using a wand!  Basically, all you need to get yourself started is focus of will & energy. Once you get the hang of that, thereâ\\x80\\x99ll be no holding you back & no end to the things you can accomplish. Over the coming issues, Iâ\\x80\\x99ll be exploring more of Simple Witchery &, hopefully, taking you along for the ride. I really hope youâ\\x80\\x99ll find it fun!   Tâ\\x80\\x99is the Seasonâ\\x80¦  These are some very simple rituals for the coming Sabbats â\\x80\\x93 ones I use myself. I hope youâ\\x80\\x99ll enjoy them.   Lammas (1st August)  Lammas is the first of the harvest festivals & celebrates the beginning of us reaping what we have sown earlier in the year. It is traditionally a time for feasting, having fun, & preparing ourselves for a little more hard work before the harvest is done!   On the Altar:  Large beeswax candle Lengths of green & red cord Wine, bread & honey   The Ritual:  Cleanse and cast the circle.Light the beeswax candle. Knot the piece of red cord and pass it over the candle, circling the base. Think of all that is passing and the sacrifices you have made. Give them up freely as you pass the red cord over the flame. Knot the green cord and pass it over the candle to lie on top of the red cord. This represents the achievements which will be built on your sacrifices â\\x80\\x93 your harvest. Consecrate the wine and drink in honour of the Sun's power and your own achievements. Consecrate the bread and honey, and take them to the four corners saying:  'This is my offering;   This is my sacrifice.'  (Move round the circle deosil (clockwise) starting at North) Spread the honey on the bread. Eat and drink, communing with the season, saving some to put into the Earth as an offering later. Close the circle.   Mabon (22nd September)  Mabon is the Autumnal Equinox; a time of balance between darkness & light. But after this, the days will begin to grow shorter & the nights will draw in earlier. As the second of the harvest festivals, we celebrate it with the many orchard fruits which are now in season.   On the Altar:  An ear of corn Dried leaves A deep purple candle Wine & bread   The Ritual:  Cleanse and cast the circle.Light the purple candle and think about the meaning of the season. Name the dried leaves for anything to be swept out of your life. Drop them deliberately to the floor to be swept up later (keep them to scatter into running water). Pick up the corn and say:  'The God has descended into the land.   Now he makes His journey into the Underworld.   Days grow dim, nights grow long, but we do not weep,   For behold, he has left his seed as a promise of his return!'  Take the corn and bread deosil (clockwise) round the circle, stopping at each corner and saying:  'This is the seed and this is my harvest.'  Direct healing thoughts towards any part of the world where there is famine. Eat the bread and drink to the Lord and Lady. Close the circle.   Seasonal Project:   Goddess Eye  A Goddess eye is said to watch over & protect the home, & makes a wonderful gift for a like-minded friend. Making something yourself means it is very personal & the effort put into it gives it that little bit extra power. Hang it in the window to catch the light.  Materials required:  2 sticks on roughly equal length Yarn or embroidery threads of various colours Scissors (to cut the threads of course!)  Method:  Make a slipknot on the end of the thread you will use for the centre of the cross & slide the loop over the 2 sticks. Once the thread is centred, pull the knot tight & spread the stick arms out into the form of a cross. Wrap the thread diagonally over the centre twice for each side (NW-SE, then NE-SW) Start wrapping the thread around the sticks (moving deosil around the eye). Start at one point, move the thread over the stick, come round the back crossing over the front & move onto the next arm, keeping the thread tight. When you want to change to another colour, hide the knot at the back of the stick so the ends can't be seen. When you're finished, double-loop the thread over the last arm. You can decorate the ends of the arms with leather, beads or feathers â\\x80\\x93 however you like. To hang the eye up, add a loop in the same colour as the thread nearest the outer edge, by pushing the ends through the eye (about an inch or so down the arm) from the front, then pushing the ends back through to the front again higher up, then tying a knot to form a loop. This should hold the eye upright when it's hung up.   Kitchen Witch   Herb Scented Flat Bread  This flatbread doesn't contain yeast, so it's quick and simple to make. You can substitute your favourite herbs for the ones suggested. A delicious recipe to use for ritual or any time. Makes 3.  Ingredients:  1 cup plus 3 tablespoons all-purpose flour 1/2 teaspoon baking powder 1/2 teaspoon salt 1 teaspoon finely chopped fresh sage 1 teaspoon finely chopped fresh chives 1 teaspoon finely chopped fresh flat-leaf parsley 2 1/2 tablespoons vegetable shortening 3 tablespoons milk 1/2 teaspoon coarse salt, for sprinkling 1 tablespoon extra-virgin olive oil, for brushing  1. In the bowl of a food processor, combine the flour, baking powder, salt, sage, chives, and parsley; process for 5 seconds to combine. Add vegetable shortening and process until well combined, about 15 seconds. Add milk and 2 tablespoons water, and process until the dough comes together, about 7 seconds.  2. Transfer dough to a lightly-flowered surface and knead for about 1 minute, forming it into a ball. Cover with plastic wrap and let stand for 30 minutes.  3. Heat the over to 200Â° with a baking sheet set on the rack. Heat a medium cast-iron skillet over medium-high heat until very hot. Meanwhile, cut the dough into 3 equal pieces and form each piece into a ball. On a lightly floured surface, roll one of the pieces of dough out into a very thin circle (it should be less than 1/16 inch thick and about 6 1/2 inches in diameter). Using a fork, prick the dough 7 or 8 times. Lightly brush one side of the dough with olive oil and sprinkle it lightly with salt.  4. Transfer round of dough, with the oiled side down, to the hot skillet and reduce heat to medium; cook until surface is covered with golden to dark-brown speckles, about 1 to 2 minutes on each side. If the flatbread begins to burn, lower the heat and continue to cook.  5. Remove bread from skillet and transfer to the baking sheet in the oven. Repeat the rolling and cooking process with the remaining 2 pieces of dough.  6. Cut the bread into wedges with a pizza wheel or sharp knife, and serve warm.\", 'Well, this weekend is going to me quadrupally special for me: Not only is it a full moon tomorrow night, but it is also a blue moon (the second full moon in a calendar month). Then on Sunday it is Lammas (one of the eight Sabbats in the Wheel of the Year) AND my first wedding anniversary!  Yes, one year ago, Dale & I both stood up in front of a bunch of our friends & family to say words along the lines of \"I do\". Where has the time gone? It\\'s quite literally flown by so fast that I can scarcely believe it. It certainly doesn\\'t feel like a year already. It was odd enough last month when I realised that my best friend, Sarah, had been married a whole year (there was a whole spate of weddings last summer, you see!) & now it\\'s MY turn. I can honestly say it\\'s been fantastic so far, but people keep asking how it feels to be married & all I can say is that it doesn\\'t really feel any different to us than we did before! We were already living together & both knew we wanted to spend the rest of our lives together - it was just a case of formalising it & making it legal. Perhaps I feel a little more secure now, but other than that, it\\'s exactly the same. Just as well I was happy enough before, isn\\'t it?  So, Dale & I are returning to the hotel where the deed was done, for dinner & an overnight stay, with breakfast in bed, to celebrate.  Anyway, other than our anniversary, I have the other important celebration to think about - Lammas! A little information is possibly called for here, I suppose. Lammas is the first of the three harvest festivals (the fifth of the year as a whole) & is generally held on or around 1st August. It celebrates the harvesting of the first crops as well as the first fruition of projects begun at the start of the year - we reap as we sow. It is also known as Lughnassadh (pronounced Loo-nah-sah) - the feast of the God, Lugh, who is sacrificed as he is cut down with the corn & reborn as the bread, providing food for all.  Some traditional associations are:  Traditional Foods:  Apples, Grains, Breads and Berries.  Herbs and Flowers:  All Grains, Grapes, Heather, Blackberries, Sloe, Crab Apples, Pears.  Incense:  Aloes, Rose, Sandalwood. Sacred GemstoneCarnelian.  Special Activities:  As summer passes, many Pagans celebrate this time to remember its warmth and bounty in a celebrated feast shared with family or Coven members. Save and plant the seeds from the fruits consumed during the feast or ritual. If they sprout, grow the plant or tree with love and as a symbol of your connection with the Lord and Lady. Walk through the fields and orchards or spend time along springs, creeks, rivers, ponds and lakes reflecting on the bounty and love of the Lord and Lady.  I\\'ve never been much of a one to go in for long rituals, so the one I use (when I use one at all) goes along these lines:   On the Altar:  Large beeswax candle Lengths of green & red cord Wine, bread & honey   The Ritual:  Cleanse and cast the circle. Light the beeswax candle. Knot the piece of red cord and pass it over the candle, circling the base. Think of all that is passing and the sacrifices you have made. Give them up freely as you pass the red cord over the flame. Knot the green cord and pass it over the candle to lie on top of the red cord. This represents the achievements which will be built on your sacrifices â\\x80\\x93 your harvest.  Consecrate the wine and drink in honour of the Sun\\'s power and your own achievements. Consecrate the bread and honey, and take them to the four corners saying: \\'This is my offering; This is my sacrifice.\\' (start at the North then move round the circle deosil) Spread the honey on the bread. Eat and drink, communing with the season, saving some to put into the Earth as an offering later. Close the circle.  I don\\'t think I\\'ll be performing a ritual this year, so I\\'ll probably just spend some time outside, somewhere green, & meditate a while instead - the Lord & Lady seem to be happy enough with that arrangement, so it should be more than enough.  I wish you all a special Blue Moon celebration & a fruitful harvest this Lammas! Blessings, Mab.', \"Well, I've never run a blog before, but I guess a wee introduction would probably be the best place to start, so here goes:  I'm a 27 year old married female who happens to be a practicing solitary Witch & have been for around 13 years now. I've forged my own Path along the way; a Path I call Simple Witchery. So, what does that mean, exactly? Well, I boil everything down to its barest components & take out all the extraneous bumf & hooha, so that what is left is the barest of essentials. I don't go in for big, fancy rituals & ceremonies - most of my magick takes place in the kitchen or the bathroom & is very firmly based in the mundane - it's a part of my everyday life, not something I do on the weekends or a couple of evenings a month. I am very much interested in spellcraft - the science of magick - & also the artsy-craftsy side of it (ie making things to use as part of a spell, such as poppets, amulets, talismans, or just the little things like a bag to put all the components in!). I'm also very interested in the use of herbs in healing.  Outside of my Craft interests, I am an avid reader - everything from horror to fantasy, comedy to biography - I just devour them all! I also spend a fair bit of time writing, not just calligraphy (which I love), but I edit a small local Pagan newsletter (Triptych) & also write a regular column for Dragonswood magazine. Music plays a huge part in my life - my husband plays guitar & sings, while I just sing - we spend a lot of time listening to rock & metal music (our favourite band is Dream Theater). Movies are another shared interest - just about any genre you care to name is represented in our DVD collection.  And that's a brief introduction to ME. No doubt as I write more, more will be revealed...\"]\n",
            "\n",
            "\n",
            "Prediction: 27.350689449787602\n",
            "-------\n",
            "\n",
            "Group ID: 3673762\n",
            "\n",
            "Top 3 messages for the group:\n",
            "-------\n",
            "[\"I brought them both home with me this evening. (Technically last night, since it is now well past midnight.)  Pippi was waiting for me in the children's section of my local Big Chain bookstore. I had sat at the kiddie table to flip through Ed Emberley's drawing books. Pippi caught my eye from a discarded stack of books across the table, when I paused to sip my Starbucks coffee. I loved her when I was a kid, and my hand automatically reached out for her cheery face on the book's cover.  I had forgotten she is the strongest girl in the world, has her own house, and is an orphan. Just like ME! I'm tempted to dye my (graying) hair red, but I'll compromise by wearing pig tails now and then.  Pippi had me reminiscing past joys, so I sprung for a compilation CD of Kitaro's music from the 70s and 80s. I've lusted for that album since a boyfriend played the cassette version in his truck for me, at his farm in Grand Forks, North Dakota, in 1988. We discussed romance to Kitaro's pulsing accompaniment. The music stayed with me, the boyfriend didn't, thank goodness.  Better go beddie-bye before I spill too much information here.  Love ya, Pippi.\", 'With the death of my brother last month, I have no immediate family. I had been trying to call him, to wish him Happy Easter and Birthday in April, then to see how he was in May. I kept leaving messages.  Not until that day in May that a nurse called to tell me he had died a few hours earlier, did I know he had moved twice this year. I try not to be angry...\"If only someone had called me back to let me know he had moved, I could have talked to him one last time....\" I immediately got on a plane and flew to where he was. I buried him near my parents. Thatâ\\x80\\x99s about all I have the emotional stamina to say about it tonight.  With his death all my immediate family are gone.  So for a while I holed up. I read, wrote, and wallowed. It makes no sense to me that I should be w/o family at such a young age. I\\'ve done everything right as a loyal and compassionte being, and it\\'s no joke that most people who meet me like me. I like people too, hence my profile, \"loner who likes people.\" (More on that in a future post.)  And as I\\'ve learned well, each time there is death near me, a friend or two or three, will drop from the radar. I\\'ve had enough practice not to take this personally. Meanwhile, others have stepped forward in unexpected support and generosity. The last two afternoons I was treated to coffee and chat by new acquaintances. I doubt these will become serious friendships, but I am glad to learn once again that when some fall away, either in death or because they don\\'t want to be around a person who is hurting, there are many angels willing to step in.  I almost gave up again. I decided to become a hermit, far beyond my usual loner self. Yet that pebble of courage that always grinds into my heel when I take a step kept prodding me. For a week, at least, I\\'m trying to play in the friendship game again.  A funny part of my coffee dates with these two women was that I listened to them talk about their love lives. Hearing their joys and sorrows, and offering ideas as asked, made me feel alive and hopeful; for love, even lost love, is the breath of life. We talked little of my situation. For me, that was a relief; a mental vacation. I told them so.  My life is changing. I have always been a loner. I want to be different than I\\'ve been in that regard, but I think the programming is hard wired. I prefer it.  This book perks me up when I start telling people off in my mind for what my emotional center registers as abandonment:  Anyway: The Paradoxical Commandments:  Finding Personal Meaning in a Crazy World   by Kent M. Keith  People will leave in various ways. I\\'m a true friend anyway. Others stay, and love me no matter how life turns. I am grateful.', \"Privately owned SpaceShipOne completed a manned flight 62.5 miles above earth, then landed in the Mojave Desert.  I hope that one day, I'll be able to fly into space. In the same way I take a plane to Europe, I'll take a flight far above Earth.  People have laughed at me when I've said this. Maybe after today, they'll realize my hope ain't all pie in the sky.  As of this writing, Google News is posting over 1000 articles from around the world on the success of SpaceShipOne:  urlLink  SpaceShipOne News   It's only a matter of time until we can buy tickets for a private rocket ride.\"]\n",
            "\n",
            "\n",
            "Prediction: 24.283943028810803\n",
            "-------\n",
            "\n",
            "-------\n",
            "\n",
            "Settings:\n",
            "\n",
            "Database - colab_csv\n",
            "Corpus - msgs100u.csv\n",
            "Group ID - user_id\n",
            "Feature table(s) - feat$1to2gram$msgs100u$user_id$0_1\n",
            "-------\n",
            "Interface Runtime: 0.42 seconds\n",
            "DLATK exits with success! A good day indeed  ¯\\_(ツ)_/¯.\n"
          ]
        }
      ],
      "source": [
        "!dlatkInterface.py \\\n",
        "  -d colab_csv -t msgs100u.csv -g user_id --group_freq_thresh 100 \\\n",
        "  -f 'feat$1to2gram$msgs100u$user_id$0_1' \\\n",
        "  --predict_regression_to_outcome_table lbp_age \\\n",
        "  --load --picklefile age.1to2grams.ridge1000.gft100.pickle"
      ]
    },
    {
      "cell_type": "markdown",
      "metadata": {
        "id": "i43f_1bAFIDu"
      },
      "source": [
        "## Authors and References"
      ]
    },
    {
      "cell_type": "code",
      "execution_count": null,
      "metadata": {
        "id": "ocIzx5BeQiES"
      },
      "outputs": [],
      "source": []
    }
  ],
  "metadata": {
    "colab": {
      "provenance": [],
      "include_colab_link": true
    },
    "kernelspec": {
      "display_name": "Python 3",
      "name": "python3"
    },
    "language_info": {
      "name": "python"
    },
    "widgets": {
      "application/vnd.jupyter.widget-state+json": {
        "d705b69dde624de4bb7680968e44c624": {
          "model_module": "@jupyter-widgets/controls",
          "model_name": "DropdownModel",
          "model_module_version": "1.5.0",
          "state": {
            "_dom_classes": [],
            "_model_module": "@jupyter-widgets/controls",
            "_model_module_version": "1.5.0",
            "_model_name": "DropdownModel",
            "_options_labels": [
              "created_date",
              "message"
            ],
            "_view_count": null,
            "_view_module": "@jupyter-widgets/controls",
            "_view_module_version": "1.5.0",
            "_view_name": "DropdownView",
            "description": "Text Column:",
            "description_tooltip": null,
            "disabled": false,
            "index": 0,
            "layout": "IPY_MODEL_48fbbc1cb1b1423fb301d3ff58cbdd01",
            "style": "IPY_MODEL_bd506b2fa6204acaadaf62f8c4914b63"
          }
        },
        "88b1cda10c294d0faaf16c54593321a6": {
          "model_module": "@jupyter-widgets/controls",
          "model_name": "DropdownModel",
          "model_module_version": "1.5.0",
          "state": {
            "_dom_classes": [],
            "_model_module": "@jupyter-widgets/controls",
            "_model_module_version": "1.5.0",
            "_model_name": "DropdownModel",
            "_options_labels": [
              "message_id",
              "user_id"
            ],
            "_view_count": null,
            "_view_module": "@jupyter-widgets/controls",
            "_view_module_version": "1.5.0",
            "_view_name": "DropdownView",
            "description": "ID Column:",
            "description_tooltip": null,
            "disabled": false,
            "index": 0,
            "layout": "IPY_MODEL_92a6c5a876a94d108a95f85d8cd47f49",
            "style": "IPY_MODEL_ae2aa7cc967d4be594ded006f13d99bb"
          }
        },
        "48fbbc1cb1b1423fb301d3ff58cbdd01": {
          "model_module": "@jupyter-widgets/base",
          "model_name": "LayoutModel",
          "model_module_version": "1.2.0",
          "state": {
            "_model_module": "@jupyter-widgets/base",
            "_model_module_version": "1.2.0",
            "_model_name": "LayoutModel",
            "_view_count": null,
            "_view_module": "@jupyter-widgets/base",
            "_view_module_version": "1.2.0",
            "_view_name": "LayoutView",
            "align_content": null,
            "align_items": null,
            "align_self": null,
            "border": null,
            "bottom": null,
            "display": null,
            "flex": null,
            "flex_flow": null,
            "grid_area": null,
            "grid_auto_columns": null,
            "grid_auto_flow": null,
            "grid_auto_rows": null,
            "grid_column": null,
            "grid_gap": null,
            "grid_row": null,
            "grid_template_areas": null,
            "grid_template_columns": null,
            "grid_template_rows": null,
            "height": null,
            "justify_content": null,
            "justify_items": null,
            "left": null,
            "margin": null,
            "max_height": null,
            "max_width": null,
            "min_height": null,
            "min_width": null,
            "object_fit": null,
            "object_position": null,
            "order": null,
            "overflow": null,
            "overflow_x": null,
            "overflow_y": null,
            "padding": null,
            "right": null,
            "top": null,
            "visibility": null,
            "width": null
          }
        },
        "bd506b2fa6204acaadaf62f8c4914b63": {
          "model_module": "@jupyter-widgets/controls",
          "model_name": "DescriptionStyleModel",
          "model_module_version": "1.5.0",
          "state": {
            "_model_module": "@jupyter-widgets/controls",
            "_model_module_version": "1.5.0",
            "_model_name": "DescriptionStyleModel",
            "_view_count": null,
            "_view_module": "@jupyter-widgets/base",
            "_view_module_version": "1.2.0",
            "_view_name": "StyleView",
            "description_width": ""
          }
        },
        "92a6c5a876a94d108a95f85d8cd47f49": {
          "model_module": "@jupyter-widgets/base",
          "model_name": "LayoutModel",
          "model_module_version": "1.2.0",
          "state": {
            "_model_module": "@jupyter-widgets/base",
            "_model_module_version": "1.2.0",
            "_model_name": "LayoutModel",
            "_view_count": null,
            "_view_module": "@jupyter-widgets/base",
            "_view_module_version": "1.2.0",
            "_view_name": "LayoutView",
            "align_content": null,
            "align_items": null,
            "align_self": null,
            "border": null,
            "bottom": null,
            "display": null,
            "flex": null,
            "flex_flow": null,
            "grid_area": null,
            "grid_auto_columns": null,
            "grid_auto_flow": null,
            "grid_auto_rows": null,
            "grid_column": null,
            "grid_gap": null,
            "grid_row": null,
            "grid_template_areas": null,
            "grid_template_columns": null,
            "grid_template_rows": null,
            "height": null,
            "justify_content": null,
            "justify_items": null,
            "left": null,
            "margin": null,
            "max_height": null,
            "max_width": null,
            "min_height": null,
            "min_width": null,
            "object_fit": null,
            "object_position": null,
            "order": null,
            "overflow": null,
            "overflow_x": null,
            "overflow_y": null,
            "padding": null,
            "right": null,
            "top": null,
            "visibility": null,
            "width": null
          }
        },
        "ae2aa7cc967d4be594ded006f13d99bb": {
          "model_module": "@jupyter-widgets/controls",
          "model_name": "DescriptionStyleModel",
          "model_module_version": "1.5.0",
          "state": {
            "_model_module": "@jupyter-widgets/controls",
            "_model_module_version": "1.5.0",
            "_model_name": "DescriptionStyleModel",
            "_view_count": null,
            "_view_module": "@jupyter-widgets/base",
            "_view_module_version": "1.2.0",
            "_view_name": "StyleView",
            "description_width": ""
          }
        },
        "e2ad6ed6af884fe681434a37da54b054": {
          "model_module": "@jupyter-widgets/controls",
          "model_name": "ButtonModel",
          "model_module_version": "1.5.0",
          "state": {
            "_dom_classes": [],
            "_model_module": "@jupyter-widgets/controls",
            "_model_module_version": "1.5.0",
            "_model_name": "ButtonModel",
            "_view_count": null,
            "_view_module": "@jupyter-widgets/controls",
            "_view_module_version": "1.5.0",
            "_view_name": "ButtonView",
            "button_style": "",
            "description": "Confirm Columns",
            "disabled": false,
            "icon": "",
            "layout": "IPY_MODEL_e7485ffb0ed44876a1e68e66ba45b028",
            "style": "IPY_MODEL_c55988e954004a108d275833af05e2ed",
            "tooltip": ""
          }
        },
        "e7485ffb0ed44876a1e68e66ba45b028": {
          "model_module": "@jupyter-widgets/base",
          "model_name": "LayoutModel",
          "model_module_version": "1.2.0",
          "state": {
            "_model_module": "@jupyter-widgets/base",
            "_model_module_version": "1.2.0",
            "_model_name": "LayoutModel",
            "_view_count": null,
            "_view_module": "@jupyter-widgets/base",
            "_view_module_version": "1.2.0",
            "_view_name": "LayoutView",
            "align_content": null,
            "align_items": null,
            "align_self": null,
            "border": null,
            "bottom": null,
            "display": null,
            "flex": null,
            "flex_flow": null,
            "grid_area": null,
            "grid_auto_columns": null,
            "grid_auto_flow": null,
            "grid_auto_rows": null,
            "grid_column": null,
            "grid_gap": null,
            "grid_row": null,
            "grid_template_areas": null,
            "grid_template_columns": null,
            "grid_template_rows": null,
            "height": null,
            "justify_content": null,
            "justify_items": null,
            "left": null,
            "margin": null,
            "max_height": null,
            "max_width": null,
            "min_height": null,
            "min_width": null,
            "object_fit": null,
            "object_position": null,
            "order": null,
            "overflow": null,
            "overflow_x": null,
            "overflow_y": null,
            "padding": null,
            "right": null,
            "top": null,
            "visibility": null,
            "width": null
          }
        },
        "c55988e954004a108d275833af05e2ed": {
          "model_module": "@jupyter-widgets/controls",
          "model_name": "ButtonStyleModel",
          "model_module_version": "1.5.0",
          "state": {
            "_model_module": "@jupyter-widgets/controls",
            "_model_module_version": "1.5.0",
            "_model_name": "ButtonStyleModel",
            "_view_count": null,
            "_view_module": "@jupyter-widgets/base",
            "_view_module_version": "1.2.0",
            "_view_name": "StyleView",
            "button_color": null,
            "font_weight": ""
          }
        },
        "354044594e4f4543aabd7dd52c7ff792": {
          "model_module": "@jupyter-widgets/controls",
          "model_name": "DropdownModel",
          "model_module_version": "1.5.0",
          "state": {
            "_dom_classes": [],
            "_model_module": "@jupyter-widgets/controls",
            "_model_module_version": "1.5.0",
            "_model_name": "DropdownModel",
            "_options_labels": [
              "Select option",
              "1to2grams-filtered",
              "1to2grams-unfiltered",
              "topics"
            ],
            "_view_count": null,
            "_view_module": "@jupyter-widgets/controls",
            "_view_module_version": "1.5.0",
            "_view_name": "DropdownView",
            "description": "Features:",
            "description_tooltip": null,
            "disabled": false,
            "index": 0,
            "layout": "IPY_MODEL_14528a7d7cfe46028a18e0cea7505f9c",
            "style": "IPY_MODEL_926007d33a784e0da5d890cd0e239307"
          }
        },
        "14528a7d7cfe46028a18e0cea7505f9c": {
          "model_module": "@jupyter-widgets/base",
          "model_name": "LayoutModel",
          "model_module_version": "1.2.0",
          "state": {
            "_model_module": "@jupyter-widgets/base",
            "_model_module_version": "1.2.0",
            "_model_name": "LayoutModel",
            "_view_count": null,
            "_view_module": "@jupyter-widgets/base",
            "_view_module_version": "1.2.0",
            "_view_name": "LayoutView",
            "align_content": null,
            "align_items": null,
            "align_self": null,
            "border": null,
            "bottom": null,
            "display": null,
            "flex": null,
            "flex_flow": null,
            "grid_area": null,
            "grid_auto_columns": null,
            "grid_auto_flow": null,
            "grid_auto_rows": null,
            "grid_column": null,
            "grid_gap": null,
            "grid_row": null,
            "grid_template_areas": null,
            "grid_template_columns": null,
            "grid_template_rows": null,
            "height": null,
            "justify_content": null,
            "justify_items": null,
            "left": null,
            "margin": null,
            "max_height": null,
            "max_width": null,
            "min_height": null,
            "min_width": null,
            "object_fit": null,
            "object_position": null,
            "order": null,
            "overflow": null,
            "overflow_x": null,
            "overflow_y": null,
            "padding": null,
            "right": null,
            "top": null,
            "visibility": null,
            "width": null
          }
        },
        "926007d33a784e0da5d890cd0e239307": {
          "model_module": "@jupyter-widgets/controls",
          "model_name": "DescriptionStyleModel",
          "model_module_version": "1.5.0",
          "state": {
            "_model_module": "@jupyter-widgets/controls",
            "_model_module_version": "1.5.0",
            "_model_name": "DescriptionStyleModel",
            "_view_count": null,
            "_view_module": "@jupyter-widgets/base",
            "_view_module_version": "1.2.0",
            "_view_name": "StyleView",
            "description_width": ""
          }
        },
        "87ef79780c644c268c8f6845eaa114ed": {
          "model_module": "@jupyter-widgets/controls",
          "model_name": "ButtonModel",
          "model_module_version": "1.5.0",
          "state": {
            "_dom_classes": [],
            "_model_module": "@jupyter-widgets/controls",
            "_model_module_version": "1.5.0",
            "_model_name": "ButtonModel",
            "_view_count": null,
            "_view_module": "@jupyter-widgets/controls",
            "_view_module_version": "1.5.0",
            "_view_name": "ButtonView",
            "button_style": "",
            "description": "Extract Features",
            "disabled": false,
            "icon": "",
            "layout": "IPY_MODEL_18aedfdbb38d4da5bfaf1097f045dfbb",
            "style": "IPY_MODEL_b19759ac5d434e69b3930ed1cae60e47",
            "tooltip": ""
          }
        },
        "18aedfdbb38d4da5bfaf1097f045dfbb": {
          "model_module": "@jupyter-widgets/base",
          "model_name": "LayoutModel",
          "model_module_version": "1.2.0",
          "state": {
            "_model_module": "@jupyter-widgets/base",
            "_model_module_version": "1.2.0",
            "_model_name": "LayoutModel",
            "_view_count": null,
            "_view_module": "@jupyter-widgets/base",
            "_view_module_version": "1.2.0",
            "_view_name": "LayoutView",
            "align_content": null,
            "align_items": null,
            "align_self": null,
            "border": null,
            "bottom": null,
            "display": null,
            "flex": null,
            "flex_flow": null,
            "grid_area": null,
            "grid_auto_columns": null,
            "grid_auto_flow": null,
            "grid_auto_rows": null,
            "grid_column": null,
            "grid_gap": null,
            "grid_row": null,
            "grid_template_areas": null,
            "grid_template_columns": null,
            "grid_template_rows": null,
            "height": null,
            "justify_content": null,
            "justify_items": null,
            "left": null,
            "margin": null,
            "max_height": null,
            "max_width": null,
            "min_height": null,
            "min_width": null,
            "object_fit": null,
            "object_position": null,
            "order": null,
            "overflow": null,
            "overflow_x": null,
            "overflow_y": null,
            "padding": null,
            "right": null,
            "top": null,
            "visibility": null,
            "width": null
          }
        },
        "b19759ac5d434e69b3930ed1cae60e47": {
          "model_module": "@jupyter-widgets/controls",
          "model_name": "ButtonStyleModel",
          "model_module_version": "1.5.0",
          "state": {
            "_model_module": "@jupyter-widgets/controls",
            "_model_module_version": "1.5.0",
            "_model_name": "ButtonStyleModel",
            "_view_count": null,
            "_view_module": "@jupyter-widgets/base",
            "_view_module_version": "1.2.0",
            "_view_name": "StyleView",
            "button_color": null,
            "font_weight": ""
          }
        },
        "af71023222fa40fe93a98a18a4618305": {
          "model_module": "@jupyter-widgets/controls",
          "model_name": "DropdownModel",
          "model_module_version": "1.5.0",
          "state": {
            "_dom_classes": [],
            "_model_module": "@jupyter-widgets/controls",
            "_model_module_version": "1.5.0",
            "_model_name": "DropdownModel",
            "_options_labels": [
              "created_date",
              "message"
            ],
            "_view_count": null,
            "_view_module": "@jupyter-widgets/controls",
            "_view_module_version": "1.5.0",
            "_view_name": "DropdownView",
            "description": "Text Column:",
            "description_tooltip": null,
            "disabled": false,
            "index": 0,
            "layout": "IPY_MODEL_13d2d4c59f6940b994335e37b0114e64",
            "style": "IPY_MODEL_145fbcfbee1e4c44a783806124042af1"
          }
        },
        "13d2d4c59f6940b994335e37b0114e64": {
          "model_module": "@jupyter-widgets/base",
          "model_name": "LayoutModel",
          "model_module_version": "1.2.0",
          "state": {
            "_model_module": "@jupyter-widgets/base",
            "_model_module_version": "1.2.0",
            "_model_name": "LayoutModel",
            "_view_count": null,
            "_view_module": "@jupyter-widgets/base",
            "_view_module_version": "1.2.0",
            "_view_name": "LayoutView",
            "align_content": null,
            "align_items": null,
            "align_self": null,
            "border": null,
            "bottom": null,
            "display": null,
            "flex": null,
            "flex_flow": null,
            "grid_area": null,
            "grid_auto_columns": null,
            "grid_auto_flow": null,
            "grid_auto_rows": null,
            "grid_column": null,
            "grid_gap": null,
            "grid_row": null,
            "grid_template_areas": null,
            "grid_template_columns": null,
            "grid_template_rows": null,
            "height": null,
            "justify_content": null,
            "justify_items": null,
            "left": null,
            "margin": null,
            "max_height": null,
            "max_width": null,
            "min_height": null,
            "min_width": null,
            "object_fit": null,
            "object_position": null,
            "order": null,
            "overflow": null,
            "overflow_x": null,
            "overflow_y": null,
            "padding": null,
            "right": null,
            "top": null,
            "visibility": null,
            "width": null
          }
        },
        "145fbcfbee1e4c44a783806124042af1": {
          "model_module": "@jupyter-widgets/controls",
          "model_name": "DescriptionStyleModel",
          "model_module_version": "1.5.0",
          "state": {
            "_model_module": "@jupyter-widgets/controls",
            "_model_module_version": "1.5.0",
            "_model_name": "DescriptionStyleModel",
            "_view_count": null,
            "_view_module": "@jupyter-widgets/base",
            "_view_module_version": "1.2.0",
            "_view_name": "StyleView",
            "description_width": ""
          }
        },
        "2781213d983e4509af4b701d4aea571e": {
          "model_module": "@jupyter-widgets/controls",
          "model_name": "DropdownModel",
          "model_module_version": "1.5.0",
          "state": {
            "_dom_classes": [],
            "_model_module": "@jupyter-widgets/controls",
            "_model_module_version": "1.5.0",
            "_model_name": "DropdownModel",
            "_options_labels": [
              "message_id",
              "user_id"
            ],
            "_view_count": null,
            "_view_module": "@jupyter-widgets/controls",
            "_view_module_version": "1.5.0",
            "_view_name": "DropdownView",
            "description": "ID Column:",
            "description_tooltip": null,
            "disabled": false,
            "index": 0,
            "layout": "IPY_MODEL_a665962c7f744bb28f69d3f979b67a28",
            "style": "IPY_MODEL_fa2c5f2a8f4d4d99a28d4ef2ff7ec282"
          }
        },
        "a665962c7f744bb28f69d3f979b67a28": {
          "model_module": "@jupyter-widgets/base",
          "model_name": "LayoutModel",
          "model_module_version": "1.2.0",
          "state": {
            "_model_module": "@jupyter-widgets/base",
            "_model_module_version": "1.2.0",
            "_model_name": "LayoutModel",
            "_view_count": null,
            "_view_module": "@jupyter-widgets/base",
            "_view_module_version": "1.2.0",
            "_view_name": "LayoutView",
            "align_content": null,
            "align_items": null,
            "align_self": null,
            "border": null,
            "bottom": null,
            "display": null,
            "flex": null,
            "flex_flow": null,
            "grid_area": null,
            "grid_auto_columns": null,
            "grid_auto_flow": null,
            "grid_auto_rows": null,
            "grid_column": null,
            "grid_gap": null,
            "grid_row": null,
            "grid_template_areas": null,
            "grid_template_columns": null,
            "grid_template_rows": null,
            "height": null,
            "justify_content": null,
            "justify_items": null,
            "left": null,
            "margin": null,
            "max_height": null,
            "max_width": null,
            "min_height": null,
            "min_width": null,
            "object_fit": null,
            "object_position": null,
            "order": null,
            "overflow": null,
            "overflow_x": null,
            "overflow_y": null,
            "padding": null,
            "right": null,
            "top": null,
            "visibility": null,
            "width": null
          }
        },
        "fa2c5f2a8f4d4d99a28d4ef2ff7ec282": {
          "model_module": "@jupyter-widgets/controls",
          "model_name": "DescriptionStyleModel",
          "model_module_version": "1.5.0",
          "state": {
            "_model_module": "@jupyter-widgets/controls",
            "_model_module_version": "1.5.0",
            "_model_name": "DescriptionStyleModel",
            "_view_count": null,
            "_view_module": "@jupyter-widgets/base",
            "_view_module_version": "1.2.0",
            "_view_name": "StyleView",
            "description_width": ""
          }
        },
        "2230f88d401e42428cd5428ec9a29c46": {
          "model_module": "@jupyter-widgets/controls",
          "model_name": "ButtonModel",
          "model_module_version": "1.5.0",
          "state": {
            "_dom_classes": [],
            "_model_module": "@jupyter-widgets/controls",
            "_model_module_version": "1.5.0",
            "_model_name": "ButtonModel",
            "_view_count": null,
            "_view_module": "@jupyter-widgets/controls",
            "_view_module_version": "1.5.0",
            "_view_name": "ButtonView",
            "button_style": "",
            "description": "Confirm Columns",
            "disabled": false,
            "icon": "",
            "layout": "IPY_MODEL_9bc0252774374ca1acd9c2b32b7d93c1",
            "style": "IPY_MODEL_3dd3ee61a94445e098f20055f62c540c",
            "tooltip": ""
          }
        },
        "9bc0252774374ca1acd9c2b32b7d93c1": {
          "model_module": "@jupyter-widgets/base",
          "model_name": "LayoutModel",
          "model_module_version": "1.2.0",
          "state": {
            "_model_module": "@jupyter-widgets/base",
            "_model_module_version": "1.2.0",
            "_model_name": "LayoutModel",
            "_view_count": null,
            "_view_module": "@jupyter-widgets/base",
            "_view_module_version": "1.2.0",
            "_view_name": "LayoutView",
            "align_content": null,
            "align_items": null,
            "align_self": null,
            "border": null,
            "bottom": null,
            "display": null,
            "flex": null,
            "flex_flow": null,
            "grid_area": null,
            "grid_auto_columns": null,
            "grid_auto_flow": null,
            "grid_auto_rows": null,
            "grid_column": null,
            "grid_gap": null,
            "grid_row": null,
            "grid_template_areas": null,
            "grid_template_columns": null,
            "grid_template_rows": null,
            "height": null,
            "justify_content": null,
            "justify_items": null,
            "left": null,
            "margin": null,
            "max_height": null,
            "max_width": null,
            "min_height": null,
            "min_width": null,
            "object_fit": null,
            "object_position": null,
            "order": null,
            "overflow": null,
            "overflow_x": null,
            "overflow_y": null,
            "padding": null,
            "right": null,
            "top": null,
            "visibility": null,
            "width": null
          }
        },
        "3dd3ee61a94445e098f20055f62c540c": {
          "model_module": "@jupyter-widgets/controls",
          "model_name": "ButtonStyleModel",
          "model_module_version": "1.5.0",
          "state": {
            "_model_module": "@jupyter-widgets/controls",
            "_model_module_version": "1.5.0",
            "_model_name": "ButtonStyleModel",
            "_view_count": null,
            "_view_module": "@jupyter-widgets/base",
            "_view_module_version": "1.2.0",
            "_view_name": "StyleView",
            "button_color": null,
            "font_weight": ""
          }
        },
        "fd2634d51ef34cb6923f22b86cae4689": {
          "model_module": "@jupyter-widgets/controls",
          "model_name": "DropdownModel",
          "model_module_version": "1.5.0",
          "state": {
            "_dom_classes": [],
            "_model_module": "@jupyter-widgets/controls",
            "_model_module_version": "1.5.0",
            "_model_name": "DropdownModel",
            "_options_labels": [
              "Select option",
              "1to2grams-filtered",
              "1to2grams-unfiltered",
              "topics"
            ],
            "_view_count": null,
            "_view_module": "@jupyter-widgets/controls",
            "_view_module_version": "1.5.0",
            "_view_name": "DropdownView",
            "description": "Features:",
            "description_tooltip": null,
            "disabled": false,
            "index": 0,
            "layout": "IPY_MODEL_d9e2a7ab5dcd44dba7a8bd119b5a4ccd",
            "style": "IPY_MODEL_50ecaf3a02c846efbc3f278bfd80a84e"
          }
        },
        "d9e2a7ab5dcd44dba7a8bd119b5a4ccd": {
          "model_module": "@jupyter-widgets/base",
          "model_name": "LayoutModel",
          "model_module_version": "1.2.0",
          "state": {
            "_model_module": "@jupyter-widgets/base",
            "_model_module_version": "1.2.0",
            "_model_name": "LayoutModel",
            "_view_count": null,
            "_view_module": "@jupyter-widgets/base",
            "_view_module_version": "1.2.0",
            "_view_name": "LayoutView",
            "align_content": null,
            "align_items": null,
            "align_self": null,
            "border": null,
            "bottom": null,
            "display": null,
            "flex": null,
            "flex_flow": null,
            "grid_area": null,
            "grid_auto_columns": null,
            "grid_auto_flow": null,
            "grid_auto_rows": null,
            "grid_column": null,
            "grid_gap": null,
            "grid_row": null,
            "grid_template_areas": null,
            "grid_template_columns": null,
            "grid_template_rows": null,
            "height": null,
            "justify_content": null,
            "justify_items": null,
            "left": null,
            "margin": null,
            "max_height": null,
            "max_width": null,
            "min_height": null,
            "min_width": null,
            "object_fit": null,
            "object_position": null,
            "order": null,
            "overflow": null,
            "overflow_x": null,
            "overflow_y": null,
            "padding": null,
            "right": null,
            "top": null,
            "visibility": null,
            "width": null
          }
        },
        "50ecaf3a02c846efbc3f278bfd80a84e": {
          "model_module": "@jupyter-widgets/controls",
          "model_name": "DescriptionStyleModel",
          "model_module_version": "1.5.0",
          "state": {
            "_model_module": "@jupyter-widgets/controls",
            "_model_module_version": "1.5.0",
            "_model_name": "DescriptionStyleModel",
            "_view_count": null,
            "_view_module": "@jupyter-widgets/base",
            "_view_module_version": "1.2.0",
            "_view_name": "StyleView",
            "description_width": ""
          }
        },
        "ac22d71e74a44fd6884085b41f5c817e": {
          "model_module": "@jupyter-widgets/controls",
          "model_name": "ButtonModel",
          "model_module_version": "1.5.0",
          "state": {
            "_dom_classes": [],
            "_model_module": "@jupyter-widgets/controls",
            "_model_module_version": "1.5.0",
            "_model_name": "ButtonModel",
            "_view_count": null,
            "_view_module": "@jupyter-widgets/controls",
            "_view_module_version": "1.5.0",
            "_view_name": "ButtonView",
            "button_style": "",
            "description": "Extract Features",
            "disabled": false,
            "icon": "",
            "layout": "IPY_MODEL_858380d828314ac9917f8bc5da8c9cbb",
            "style": "IPY_MODEL_c86fb3233d3943a3905e1544e60425b6",
            "tooltip": ""
          }
        },
        "858380d828314ac9917f8bc5da8c9cbb": {
          "model_module": "@jupyter-widgets/base",
          "model_name": "LayoutModel",
          "model_module_version": "1.2.0",
          "state": {
            "_model_module": "@jupyter-widgets/base",
            "_model_module_version": "1.2.0",
            "_model_name": "LayoutModel",
            "_view_count": null,
            "_view_module": "@jupyter-widgets/base",
            "_view_module_version": "1.2.0",
            "_view_name": "LayoutView",
            "align_content": null,
            "align_items": null,
            "align_self": null,
            "border": null,
            "bottom": null,
            "display": null,
            "flex": null,
            "flex_flow": null,
            "grid_area": null,
            "grid_auto_columns": null,
            "grid_auto_flow": null,
            "grid_auto_rows": null,
            "grid_column": null,
            "grid_gap": null,
            "grid_row": null,
            "grid_template_areas": null,
            "grid_template_columns": null,
            "grid_template_rows": null,
            "height": null,
            "justify_content": null,
            "justify_items": null,
            "left": null,
            "margin": null,
            "max_height": null,
            "max_width": null,
            "min_height": null,
            "min_width": null,
            "object_fit": null,
            "object_position": null,
            "order": null,
            "overflow": null,
            "overflow_x": null,
            "overflow_y": null,
            "padding": null,
            "right": null,
            "top": null,
            "visibility": null,
            "width": null
          }
        },
        "c86fb3233d3943a3905e1544e60425b6": {
          "model_module": "@jupyter-widgets/controls",
          "model_name": "ButtonStyleModel",
          "model_module_version": "1.5.0",
          "state": {
            "_model_module": "@jupyter-widgets/controls",
            "_model_module_version": "1.5.0",
            "_model_name": "ButtonStyleModel",
            "_view_count": null,
            "_view_module": "@jupyter-widgets/base",
            "_view_module_version": "1.2.0",
            "_view_name": "StyleView",
            "button_color": null,
            "font_weight": ""
          }
        },
        "04afe0726c1d4acb971974e43dfe15c9": {
          "model_module": "@jupyter-widgets/controls",
          "model_name": "DropdownModel",
          "model_module_version": "1.5.0",
          "state": {
            "_dom_classes": [],
            "_model_module": "@jupyter-widgets/controls",
            "_model_module_version": "1.5.0",
            "_model_name": "DropdownModel",
            "_options_labels": [
              "created_date",
              "message"
            ],
            "_view_count": null,
            "_view_module": "@jupyter-widgets/controls",
            "_view_module_version": "1.5.0",
            "_view_name": "DropdownView",
            "description": "Text Column:",
            "description_tooltip": null,
            "disabled": false,
            "index": 1,
            "layout": "IPY_MODEL_d3a33a45a949465f9fea675cc8f22f00",
            "style": "IPY_MODEL_cc8eeef1d55c44498fc7ab78a7d58571"
          }
        },
        "d3a33a45a949465f9fea675cc8f22f00": {
          "model_module": "@jupyter-widgets/base",
          "model_name": "LayoutModel",
          "model_module_version": "1.2.0",
          "state": {
            "_model_module": "@jupyter-widgets/base",
            "_model_module_version": "1.2.0",
            "_model_name": "LayoutModel",
            "_view_count": null,
            "_view_module": "@jupyter-widgets/base",
            "_view_module_version": "1.2.0",
            "_view_name": "LayoutView",
            "align_content": null,
            "align_items": null,
            "align_self": null,
            "border": null,
            "bottom": null,
            "display": null,
            "flex": null,
            "flex_flow": null,
            "grid_area": null,
            "grid_auto_columns": null,
            "grid_auto_flow": null,
            "grid_auto_rows": null,
            "grid_column": null,
            "grid_gap": null,
            "grid_row": null,
            "grid_template_areas": null,
            "grid_template_columns": null,
            "grid_template_rows": null,
            "height": null,
            "justify_content": null,
            "justify_items": null,
            "left": null,
            "margin": null,
            "max_height": null,
            "max_width": null,
            "min_height": null,
            "min_width": null,
            "object_fit": null,
            "object_position": null,
            "order": null,
            "overflow": null,
            "overflow_x": null,
            "overflow_y": null,
            "padding": null,
            "right": null,
            "top": null,
            "visibility": null,
            "width": null
          }
        },
        "cc8eeef1d55c44498fc7ab78a7d58571": {
          "model_module": "@jupyter-widgets/controls",
          "model_name": "DescriptionStyleModel",
          "model_module_version": "1.5.0",
          "state": {
            "_model_module": "@jupyter-widgets/controls",
            "_model_module_version": "1.5.0",
            "_model_name": "DescriptionStyleModel",
            "_view_count": null,
            "_view_module": "@jupyter-widgets/base",
            "_view_module_version": "1.2.0",
            "_view_name": "StyleView",
            "description_width": ""
          }
        },
        "bf06361b79fa400ea25359a316a7255f": {
          "model_module": "@jupyter-widgets/controls",
          "model_name": "ButtonModel",
          "model_module_version": "1.5.0",
          "state": {
            "_dom_classes": [],
            "_model_module": "@jupyter-widgets/controls",
            "_model_module_version": "1.5.0",
            "_model_name": "ButtonModel",
            "_view_count": null,
            "_view_module": "@jupyter-widgets/controls",
            "_view_module_version": "1.5.0",
            "_view_name": "ButtonView",
            "button_style": "",
            "description": "Confirm Text Column",
            "disabled": false,
            "icon": "",
            "layout": "IPY_MODEL_83d01f49c6ca45fcb7819ef03430e56b",
            "style": "IPY_MODEL_a1c67af30a584a02bb4afb15dabc732b",
            "tooltip": ""
          }
        },
        "83d01f49c6ca45fcb7819ef03430e56b": {
          "model_module": "@jupyter-widgets/base",
          "model_name": "LayoutModel",
          "model_module_version": "1.2.0",
          "state": {
            "_model_module": "@jupyter-widgets/base",
            "_model_module_version": "1.2.0",
            "_model_name": "LayoutModel",
            "_view_count": null,
            "_view_module": "@jupyter-widgets/base",
            "_view_module_version": "1.2.0",
            "_view_name": "LayoutView",
            "align_content": null,
            "align_items": null,
            "align_self": null,
            "border": null,
            "bottom": null,
            "display": null,
            "flex": null,
            "flex_flow": null,
            "grid_area": null,
            "grid_auto_columns": null,
            "grid_auto_flow": null,
            "grid_auto_rows": null,
            "grid_column": null,
            "grid_gap": null,
            "grid_row": null,
            "grid_template_areas": null,
            "grid_template_columns": null,
            "grid_template_rows": null,
            "height": null,
            "justify_content": null,
            "justify_items": null,
            "left": null,
            "margin": null,
            "max_height": null,
            "max_width": null,
            "min_height": null,
            "min_width": null,
            "object_fit": null,
            "object_position": null,
            "order": null,
            "overflow": null,
            "overflow_x": null,
            "overflow_y": null,
            "padding": null,
            "right": null,
            "top": null,
            "visibility": null,
            "width": null
          }
        },
        "a1c67af30a584a02bb4afb15dabc732b": {
          "model_module": "@jupyter-widgets/controls",
          "model_name": "ButtonStyleModel",
          "model_module_version": "1.5.0",
          "state": {
            "_model_module": "@jupyter-widgets/controls",
            "_model_module_version": "1.5.0",
            "_model_name": "ButtonStyleModel",
            "_view_count": null,
            "_view_module": "@jupyter-widgets/base",
            "_view_module_version": "1.2.0",
            "_view_name": "StyleView",
            "button_color": null,
            "font_weight": ""
          }
        },
        "0f83bb2f756041ba99f01d830d815453": {
          "model_module": "@jupyter-widgets/output",
          "model_name": "OutputModel",
          "model_module_version": "1.0.0",
          "state": {
            "_dom_classes": [],
            "_model_module": "@jupyter-widgets/output",
            "_model_module_version": "1.0.0",
            "_model_name": "OutputModel",
            "_view_count": null,
            "_view_module": "@jupyter-widgets/output",
            "_view_module_version": "1.0.0",
            "_view_name": "OutputView",
            "layout": "IPY_MODEL_a14c6d3c371c4bfa943bd6ef10a7552b",
            "msg_id": "",
            "outputs": [
              {
                "output_type": "stream",
                "name": "stdout",
                "text": [
                  "Text Column confirmed: message\n"
                ]
              }
            ]
          }
        },
        "a14c6d3c371c4bfa943bd6ef10a7552b": {
          "model_module": "@jupyter-widgets/base",
          "model_name": "LayoutModel",
          "model_module_version": "1.2.0",
          "state": {
            "_model_module": "@jupyter-widgets/base",
            "_model_module_version": "1.2.0",
            "_model_name": "LayoutModel",
            "_view_count": null,
            "_view_module": "@jupyter-widgets/base",
            "_view_module_version": "1.2.0",
            "_view_name": "LayoutView",
            "align_content": null,
            "align_items": null,
            "align_self": null,
            "border": null,
            "bottom": null,
            "display": null,
            "flex": null,
            "flex_flow": null,
            "grid_area": null,
            "grid_auto_columns": null,
            "grid_auto_flow": null,
            "grid_auto_rows": null,
            "grid_column": null,
            "grid_gap": null,
            "grid_row": null,
            "grid_template_areas": null,
            "grid_template_columns": null,
            "grid_template_rows": null,
            "height": null,
            "justify_content": null,
            "justify_items": null,
            "left": null,
            "margin": null,
            "max_height": null,
            "max_width": null,
            "min_height": null,
            "min_width": null,
            "object_fit": null,
            "object_position": null,
            "order": null,
            "overflow": null,
            "overflow_x": null,
            "overflow_y": null,
            "padding": null,
            "right": null,
            "top": null,
            "visibility": null,
            "width": null
          }
        },
        "3c2ec761236e43288f7143e71f1fc223": {
          "model_module": "@jupyter-widgets/controls",
          "model_name": "DropdownModel",
          "model_module_version": "1.5.0",
          "state": {
            "_dom_classes": [],
            "_model_module": "@jupyter-widgets/controls",
            "_model_module_version": "1.5.0",
            "_model_name": "DropdownModel",
            "_options_labels": [
              "message_id",
              "user_id"
            ],
            "_view_count": null,
            "_view_module": "@jupyter-widgets/controls",
            "_view_module_version": "1.5.0",
            "_view_name": "DropdownView",
            "description": "ID Column:",
            "description_tooltip": null,
            "disabled": false,
            "index": 0,
            "layout": "IPY_MODEL_05a3b7adebe5419d815b12cfd02499c8",
            "style": "IPY_MODEL_98c904bd351a43ee9eb308442e0e47a0"
          }
        },
        "05a3b7adebe5419d815b12cfd02499c8": {
          "model_module": "@jupyter-widgets/base",
          "model_name": "LayoutModel",
          "model_module_version": "1.2.0",
          "state": {
            "_model_module": "@jupyter-widgets/base",
            "_model_module_version": "1.2.0",
            "_model_name": "LayoutModel",
            "_view_count": null,
            "_view_module": "@jupyter-widgets/base",
            "_view_module_version": "1.2.0",
            "_view_name": "LayoutView",
            "align_content": null,
            "align_items": null,
            "align_self": null,
            "border": null,
            "bottom": null,
            "display": null,
            "flex": null,
            "flex_flow": null,
            "grid_area": null,
            "grid_auto_columns": null,
            "grid_auto_flow": null,
            "grid_auto_rows": null,
            "grid_column": null,
            "grid_gap": null,
            "grid_row": null,
            "grid_template_areas": null,
            "grid_template_columns": null,
            "grid_template_rows": null,
            "height": null,
            "justify_content": null,
            "justify_items": null,
            "left": null,
            "margin": null,
            "max_height": null,
            "max_width": null,
            "min_height": null,
            "min_width": null,
            "object_fit": null,
            "object_position": null,
            "order": null,
            "overflow": null,
            "overflow_x": null,
            "overflow_y": null,
            "padding": null,
            "right": null,
            "top": null,
            "visibility": null,
            "width": null
          }
        },
        "98c904bd351a43ee9eb308442e0e47a0": {
          "model_module": "@jupyter-widgets/controls",
          "model_name": "DescriptionStyleModel",
          "model_module_version": "1.5.0",
          "state": {
            "_model_module": "@jupyter-widgets/controls",
            "_model_module_version": "1.5.0",
            "_model_name": "DescriptionStyleModel",
            "_view_count": null,
            "_view_module": "@jupyter-widgets/base",
            "_view_module_version": "1.2.0",
            "_view_name": "StyleView",
            "description_width": ""
          }
        },
        "365c380e5fcb461792d51091cbad509d": {
          "model_module": "@jupyter-widgets/controls",
          "model_name": "ButtonModel",
          "model_module_version": "1.5.0",
          "state": {
            "_dom_classes": [],
            "_model_module": "@jupyter-widgets/controls",
            "_model_module_version": "1.5.0",
            "_model_name": "ButtonModel",
            "_view_count": null,
            "_view_module": "@jupyter-widgets/controls",
            "_view_module_version": "1.5.0",
            "_view_name": "ButtonView",
            "button_style": "",
            "description": "Confirm ID Column",
            "disabled": false,
            "icon": "",
            "layout": "IPY_MODEL_eedf5aa23a9c4ddc9783b252759c8b98",
            "style": "IPY_MODEL_900755ae09bb4492a92bd274584cba31",
            "tooltip": ""
          }
        },
        "eedf5aa23a9c4ddc9783b252759c8b98": {
          "model_module": "@jupyter-widgets/base",
          "model_name": "LayoutModel",
          "model_module_version": "1.2.0",
          "state": {
            "_model_module": "@jupyter-widgets/base",
            "_model_module_version": "1.2.0",
            "_model_name": "LayoutModel",
            "_view_count": null,
            "_view_module": "@jupyter-widgets/base",
            "_view_module_version": "1.2.0",
            "_view_name": "LayoutView",
            "align_content": null,
            "align_items": null,
            "align_self": null,
            "border": null,
            "bottom": null,
            "display": null,
            "flex": null,
            "flex_flow": null,
            "grid_area": null,
            "grid_auto_columns": null,
            "grid_auto_flow": null,
            "grid_auto_rows": null,
            "grid_column": null,
            "grid_gap": null,
            "grid_row": null,
            "grid_template_areas": null,
            "grid_template_columns": null,
            "grid_template_rows": null,
            "height": null,
            "justify_content": null,
            "justify_items": null,
            "left": null,
            "margin": null,
            "max_height": null,
            "max_width": null,
            "min_height": null,
            "min_width": null,
            "object_fit": null,
            "object_position": null,
            "order": null,
            "overflow": null,
            "overflow_x": null,
            "overflow_y": null,
            "padding": null,
            "right": null,
            "top": null,
            "visibility": null,
            "width": null
          }
        },
        "900755ae09bb4492a92bd274584cba31": {
          "model_module": "@jupyter-widgets/controls",
          "model_name": "ButtonStyleModel",
          "model_module_version": "1.5.0",
          "state": {
            "_model_module": "@jupyter-widgets/controls",
            "_model_module_version": "1.5.0",
            "_model_name": "ButtonStyleModel",
            "_view_count": null,
            "_view_module": "@jupyter-widgets/base",
            "_view_module_version": "1.2.0",
            "_view_name": "StyleView",
            "button_color": null,
            "font_weight": ""
          }
        },
        "c0f12994d1204afe9a8c91ea81b6f140": {
          "model_module": "@jupyter-widgets/output",
          "model_name": "OutputModel",
          "model_module_version": "1.0.0",
          "state": {
            "_dom_classes": [],
            "_model_module": "@jupyter-widgets/output",
            "_model_module_version": "1.0.0",
            "_model_name": "OutputModel",
            "_view_count": null,
            "_view_module": "@jupyter-widgets/output",
            "_view_module_version": "1.0.0",
            "_view_name": "OutputView",
            "layout": "IPY_MODEL_0493f7db9a614550a08b5b4196c06380",
            "msg_id": "",
            "outputs": [
              {
                "output_type": "stream",
                "name": "stdout",
                "text": [
                  "ID Column confirmed: message_id\n"
                ]
              }
            ]
          }
        },
        "0493f7db9a614550a08b5b4196c06380": {
          "model_module": "@jupyter-widgets/base",
          "model_name": "LayoutModel",
          "model_module_version": "1.2.0",
          "state": {
            "_model_module": "@jupyter-widgets/base",
            "_model_module_version": "1.2.0",
            "_model_name": "LayoutModel",
            "_view_count": null,
            "_view_module": "@jupyter-widgets/base",
            "_view_module_version": "1.2.0",
            "_view_name": "LayoutView",
            "align_content": null,
            "align_items": null,
            "align_self": null,
            "border": null,
            "bottom": null,
            "display": null,
            "flex": null,
            "flex_flow": null,
            "grid_area": null,
            "grid_auto_columns": null,
            "grid_auto_flow": null,
            "grid_auto_rows": null,
            "grid_column": null,
            "grid_gap": null,
            "grid_row": null,
            "grid_template_areas": null,
            "grid_template_columns": null,
            "grid_template_rows": null,
            "height": null,
            "justify_content": null,
            "justify_items": null,
            "left": null,
            "margin": null,
            "max_height": null,
            "max_width": null,
            "min_height": null,
            "min_width": null,
            "object_fit": null,
            "object_position": null,
            "order": null,
            "overflow": null,
            "overflow_x": null,
            "overflow_y": null,
            "padding": null,
            "right": null,
            "top": null,
            "visibility": null,
            "width": null
          }
        },
        "4b0376ee4cc74402beef2c1529e584fc": {
          "model_module": "@jupyter-widgets/controls",
          "model_name": "DropdownModel",
          "model_module_version": "1.5.0",
          "state": {
            "_dom_classes": [],
            "_model_module": "@jupyter-widgets/controls",
            "_model_module_version": "1.5.0",
            "_model_name": "DropdownModel",
            "_options_labels": [
              "Select option",
              "1to2grams-filtered",
              "1to2grams-unfiltered",
              "topics"
            ],
            "_view_count": null,
            "_view_module": "@jupyter-widgets/controls",
            "_view_module_version": "1.5.0",
            "_view_name": "DropdownView",
            "description": "Options:",
            "description_tooltip": null,
            "disabled": false,
            "index": 3,
            "layout": "IPY_MODEL_4bed4f75541d46dfbb1beea6b05b7b9e",
            "style": "IPY_MODEL_0bd5306716d648e4b67b16dcc0dc6484"
          }
        },
        "4bed4f75541d46dfbb1beea6b05b7b9e": {
          "model_module": "@jupyter-widgets/base",
          "model_name": "LayoutModel",
          "model_module_version": "1.2.0",
          "state": {
            "_model_module": "@jupyter-widgets/base",
            "_model_module_version": "1.2.0",
            "_model_name": "LayoutModel",
            "_view_count": null,
            "_view_module": "@jupyter-widgets/base",
            "_view_module_version": "1.2.0",
            "_view_name": "LayoutView",
            "align_content": null,
            "align_items": null,
            "align_self": null,
            "border": null,
            "bottom": null,
            "display": null,
            "flex": null,
            "flex_flow": null,
            "grid_area": null,
            "grid_auto_columns": null,
            "grid_auto_flow": null,
            "grid_auto_rows": null,
            "grid_column": null,
            "grid_gap": null,
            "grid_row": null,
            "grid_template_areas": null,
            "grid_template_columns": null,
            "grid_template_rows": null,
            "height": null,
            "justify_content": null,
            "justify_items": null,
            "left": null,
            "margin": null,
            "max_height": null,
            "max_width": null,
            "min_height": null,
            "min_width": null,
            "object_fit": null,
            "object_position": null,
            "order": null,
            "overflow": null,
            "overflow_x": null,
            "overflow_y": null,
            "padding": null,
            "right": null,
            "top": null,
            "visibility": null,
            "width": null
          }
        },
        "0bd5306716d648e4b67b16dcc0dc6484": {
          "model_module": "@jupyter-widgets/controls",
          "model_name": "DescriptionStyleModel",
          "model_module_version": "1.5.0",
          "state": {
            "_model_module": "@jupyter-widgets/controls",
            "_model_module_version": "1.5.0",
            "_model_name": "DescriptionStyleModel",
            "_view_count": null,
            "_view_module": "@jupyter-widgets/base",
            "_view_module_version": "1.2.0",
            "_view_name": "StyleView",
            "description_width": ""
          }
        },
        "38166ffe7a4b48c3a41f756c375ccc6f": {
          "model_module": "@jupyter-widgets/controls",
          "model_name": "IntTextModel",
          "model_module_version": "1.5.0",
          "state": {
            "_dom_classes": [],
            "_model_module": "@jupyter-widgets/controls",
            "_model_module_version": "1.5.0",
            "_model_name": "IntTextModel",
            "_view_count": null,
            "_view_module": "@jupyter-widgets/controls",
            "_view_module_version": "1.5.0",
            "_view_name": "IntTextView",
            "continuous_update": false,
            "description": "Group Freq Thresh:",
            "description_tooltip": null,
            "disabled": false,
            "layout": "IPY_MODEL_d52d08d9070845d6b5db3b68fda570b6",
            "step": 1,
            "style": "IPY_MODEL_66e1550bba524f40aba8146451efdc22",
            "value": 100
          }
        },
        "d52d08d9070845d6b5db3b68fda570b6": {
          "model_module": "@jupyter-widgets/base",
          "model_name": "LayoutModel",
          "model_module_version": "1.2.0",
          "state": {
            "_model_module": "@jupyter-widgets/base",
            "_model_module_version": "1.2.0",
            "_model_name": "LayoutModel",
            "_view_count": null,
            "_view_module": "@jupyter-widgets/base",
            "_view_module_version": "1.2.0",
            "_view_name": "LayoutView",
            "align_content": null,
            "align_items": null,
            "align_self": null,
            "border": null,
            "bottom": null,
            "display": null,
            "flex": null,
            "flex_flow": null,
            "grid_area": null,
            "grid_auto_columns": null,
            "grid_auto_flow": null,
            "grid_auto_rows": null,
            "grid_column": null,
            "grid_gap": null,
            "grid_row": null,
            "grid_template_areas": null,
            "grid_template_columns": null,
            "grid_template_rows": null,
            "height": null,
            "justify_content": null,
            "justify_items": null,
            "left": null,
            "margin": null,
            "max_height": null,
            "max_width": null,
            "min_height": null,
            "min_width": null,
            "object_fit": null,
            "object_position": null,
            "order": null,
            "overflow": null,
            "overflow_x": null,
            "overflow_y": null,
            "padding": null,
            "right": null,
            "top": null,
            "visibility": "visible",
            "width": null
          }
        },
        "66e1550bba524f40aba8146451efdc22": {
          "model_module": "@jupyter-widgets/controls",
          "model_name": "DescriptionStyleModel",
          "model_module_version": "1.5.0",
          "state": {
            "_model_module": "@jupyter-widgets/controls",
            "_model_module_version": "1.5.0",
            "_model_name": "DescriptionStyleModel",
            "_view_count": null,
            "_view_module": "@jupyter-widgets/base",
            "_view_module_version": "1.2.0",
            "_view_name": "StyleView",
            "description_width": "initial"
          }
        },
        "c49a5ebdf01946db899a10f5241296ca": {
          "model_module": "@jupyter-widgets/controls",
          "model_name": "ButtonModel",
          "model_module_version": "1.5.0",
          "state": {
            "_dom_classes": [],
            "_model_module": "@jupyter-widgets/controls",
            "_model_module_version": "1.5.0",
            "_model_name": "ButtonModel",
            "_view_count": null,
            "_view_module": "@jupyter-widgets/controls",
            "_view_module_version": "1.5.0",
            "_view_name": "ButtonView",
            "button_style": "",
            "description": "Run Command",
            "disabled": false,
            "icon": "",
            "layout": "IPY_MODEL_cd372c7724964e728e701e150ade0471",
            "style": "IPY_MODEL_26ae988082f24bdaa3944c3a9f584fd6",
            "tooltip": ""
          }
        },
        "cd372c7724964e728e701e150ade0471": {
          "model_module": "@jupyter-widgets/base",
          "model_name": "LayoutModel",
          "model_module_version": "1.2.0",
          "state": {
            "_model_module": "@jupyter-widgets/base",
            "_model_module_version": "1.2.0",
            "_model_name": "LayoutModel",
            "_view_count": null,
            "_view_module": "@jupyter-widgets/base",
            "_view_module_version": "1.2.0",
            "_view_name": "LayoutView",
            "align_content": null,
            "align_items": null,
            "align_self": null,
            "border": null,
            "bottom": null,
            "display": null,
            "flex": null,
            "flex_flow": null,
            "grid_area": null,
            "grid_auto_columns": null,
            "grid_auto_flow": null,
            "grid_auto_rows": null,
            "grid_column": null,
            "grid_gap": null,
            "grid_row": null,
            "grid_template_areas": null,
            "grid_template_columns": null,
            "grid_template_rows": null,
            "height": null,
            "justify_content": null,
            "justify_items": null,
            "left": null,
            "margin": null,
            "max_height": null,
            "max_width": null,
            "min_height": null,
            "min_width": null,
            "object_fit": null,
            "object_position": null,
            "order": null,
            "overflow": null,
            "overflow_x": null,
            "overflow_y": null,
            "padding": null,
            "right": null,
            "top": null,
            "visibility": null,
            "width": null
          }
        },
        "26ae988082f24bdaa3944c3a9f584fd6": {
          "model_module": "@jupyter-widgets/controls",
          "model_name": "ButtonStyleModel",
          "model_module_version": "1.5.0",
          "state": {
            "_model_module": "@jupyter-widgets/controls",
            "_model_module_version": "1.5.0",
            "_model_name": "ButtonStyleModel",
            "_view_count": null,
            "_view_module": "@jupyter-widgets/base",
            "_view_module_version": "1.2.0",
            "_view_name": "StyleView",
            "button_color": null,
            "font_weight": ""
          }
        },
        "857bb893e71e430f855b25ee28f0f6c1": {
          "model_module": "@jupyter-widgets/output",
          "model_name": "OutputModel",
          "model_module_version": "1.0.0",
          "state": {
            "_dom_classes": [],
            "_model_module": "@jupyter-widgets/output",
            "_model_module_version": "1.0.0",
            "_model_name": "OutputModel",
            "_view_count": null,
            "_view_module": "@jupyter-widgets/output",
            "_view_module_version": "1.0.0",
            "_view_name": "OutputView",
            "layout": "IPY_MODEL_926b784560e04de7bcfac2d010e142b9",
            "msg_id": "",
            "outputs": [
              {
                "output_type": "stream",
                "name": "stdout",
                "text": [
                  "Executing: dlatkInterface.py -d colab_csv -t msgs404u.csv -g message_id --message_field message --messageid_field message_id --add_ngrams -n 1 2 --combine_feat_tables 1to2gram --feat_occ_filter --set_p_occ 0.10 --feat_colloc_filter\n"
                ]
              },
              {
                "output_type": "stream",
                "name": "stdout",
                "text": [
                  "Generated feature table: feat$1to2gram$msgs404u$message_id$0_1$pmi3_0\n"
                ]
              }
            ]
          }
        },
        "926b784560e04de7bcfac2d010e142b9": {
          "model_module": "@jupyter-widgets/base",
          "model_name": "LayoutModel",
          "model_module_version": "1.2.0",
          "state": {
            "_model_module": "@jupyter-widgets/base",
            "_model_module_version": "1.2.0",
            "_model_name": "LayoutModel",
            "_view_count": null,
            "_view_module": "@jupyter-widgets/base",
            "_view_module_version": "1.2.0",
            "_view_name": "LayoutView",
            "align_content": null,
            "align_items": null,
            "align_self": null,
            "border": null,
            "bottom": null,
            "display": null,
            "flex": null,
            "flex_flow": null,
            "grid_area": null,
            "grid_auto_columns": null,
            "grid_auto_flow": null,
            "grid_auto_rows": null,
            "grid_column": null,
            "grid_gap": null,
            "grid_row": null,
            "grid_template_areas": null,
            "grid_template_columns": null,
            "grid_template_rows": null,
            "height": null,
            "justify_content": null,
            "justify_items": null,
            "left": null,
            "margin": null,
            "max_height": null,
            "max_width": null,
            "min_height": null,
            "min_width": null,
            "object_fit": null,
            "object_position": null,
            "order": null,
            "overflow": null,
            "overflow_x": null,
            "overflow_y": null,
            "padding": null,
            "right": null,
            "top": null,
            "visibility": null,
            "width": null
          }
        },
        "4e1a0d715dba4134b3fac29071524bd9": {
          "model_module": "@jupyter-widgets/controls",
          "model_name": "DropdownModel",
          "model_module_version": "1.5.0",
          "state": {
            "_dom_classes": [],
            "_model_module": "@jupyter-widgets/controls",
            "_model_module_version": "1.5.0",
            "_model_name": "DropdownModel",
            "_options_labels": [
              "1to2grams-filtered-table",
              "1to2grams-unfiltered-table",
              "topics-table"
            ],
            "_view_count": null,
            "_view_module": "@jupyter-widgets/controls",
            "_view_module_version": "1.5.0",
            "_view_name": "DropdownView",
            "description": "Feature Table:",
            "description_tooltip": null,
            "disabled": false,
            "index": 2,
            "layout": "IPY_MODEL_01ee9335695542059dce10cd91e4fbc0",
            "style": "IPY_MODEL_c84bb845ef664bcfad49d4e666d07409"
          }
        },
        "01ee9335695542059dce10cd91e4fbc0": {
          "model_module": "@jupyter-widgets/base",
          "model_name": "LayoutModel",
          "model_module_version": "1.2.0",
          "state": {
            "_model_module": "@jupyter-widgets/base",
            "_model_module_version": "1.2.0",
            "_model_name": "LayoutModel",
            "_view_count": null,
            "_view_module": "@jupyter-widgets/base",
            "_view_module_version": "1.2.0",
            "_view_name": "LayoutView",
            "align_content": null,
            "align_items": null,
            "align_self": null,
            "border": null,
            "bottom": null,
            "display": null,
            "flex": null,
            "flex_flow": null,
            "grid_area": null,
            "grid_auto_columns": null,
            "grid_auto_flow": null,
            "grid_auto_rows": null,
            "grid_column": null,
            "grid_gap": null,
            "grid_row": null,
            "grid_template_areas": null,
            "grid_template_columns": null,
            "grid_template_rows": null,
            "height": null,
            "justify_content": null,
            "justify_items": null,
            "left": null,
            "margin": null,
            "max_height": null,
            "max_width": null,
            "min_height": null,
            "min_width": null,
            "object_fit": null,
            "object_position": null,
            "order": null,
            "overflow": null,
            "overflow_x": null,
            "overflow_y": null,
            "padding": null,
            "right": null,
            "top": null,
            "visibility": null,
            "width": null
          }
        },
        "c84bb845ef664bcfad49d4e666d07409": {
          "model_module": "@jupyter-widgets/controls",
          "model_name": "DescriptionStyleModel",
          "model_module_version": "1.5.0",
          "state": {
            "_model_module": "@jupyter-widgets/controls",
            "_model_module_version": "1.5.0",
            "_model_name": "DescriptionStyleModel",
            "_view_count": null,
            "_view_module": "@jupyter-widgets/base",
            "_view_module_version": "1.2.0",
            "_view_name": "StyleView",
            "description_width": ""
          }
        },
        "8ffc71e0f4b24b4a9216707888a208e7": {
          "model_module": "@jupyter-widgets/controls",
          "model_name": "LabelModel",
          "model_module_version": "1.5.0",
          "state": {
            "_dom_classes": [],
            "_model_module": "@jupyter-widgets/controls",
            "_model_module_version": "1.5.0",
            "_model_name": "LabelModel",
            "_view_count": null,
            "_view_module": "@jupyter-widgets/controls",
            "_view_module_version": "1.5.0",
            "_view_name": "LabelView",
            "description": "",
            "description_tooltip": null,
            "layout": "IPY_MODEL_d3eeeaeac10940d0883ad3007c8304f9",
            "placeholder": "​",
            "style": "IPY_MODEL_42dfcb4ed06946eebdd6bc7b67b7ac04",
            "value": "Outcomes:"
          }
        },
        "d3eeeaeac10940d0883ad3007c8304f9": {
          "model_module": "@jupyter-widgets/base",
          "model_name": "LayoutModel",
          "model_module_version": "1.2.0",
          "state": {
            "_model_module": "@jupyter-widgets/base",
            "_model_module_version": "1.2.0",
            "_model_name": "LayoutModel",
            "_view_count": null,
            "_view_module": "@jupyter-widgets/base",
            "_view_module_version": "1.2.0",
            "_view_name": "LayoutView",
            "align_content": null,
            "align_items": null,
            "align_self": null,
            "border": null,
            "bottom": null,
            "display": null,
            "flex": null,
            "flex_flow": null,
            "grid_area": null,
            "grid_auto_columns": null,
            "grid_auto_flow": null,
            "grid_auto_rows": null,
            "grid_column": null,
            "grid_gap": null,
            "grid_row": null,
            "grid_template_areas": null,
            "grid_template_columns": null,
            "grid_template_rows": null,
            "height": null,
            "justify_content": null,
            "justify_items": null,
            "left": null,
            "margin": null,
            "max_height": null,
            "max_width": null,
            "min_height": null,
            "min_width": null,
            "object_fit": null,
            "object_position": null,
            "order": null,
            "overflow": null,
            "overflow_x": null,
            "overflow_y": null,
            "padding": null,
            "right": null,
            "top": null,
            "visibility": null,
            "width": null
          }
        },
        "42dfcb4ed06946eebdd6bc7b67b7ac04": {
          "model_module": "@jupyter-widgets/controls",
          "model_name": "DescriptionStyleModel",
          "model_module_version": "1.5.0",
          "state": {
            "_model_module": "@jupyter-widgets/controls",
            "_model_module_version": "1.5.0",
            "_model_name": "DescriptionStyleModel",
            "_view_count": null,
            "_view_module": "@jupyter-widgets/base",
            "_view_module_version": "1.2.0",
            "_view_name": "StyleView",
            "description_width": ""
          }
        },
        "24cf27aee0d34b66a09cb92c1ffe6ee4": {
          "model_module": "@jupyter-widgets/controls",
          "model_name": "HBoxModel",
          "model_module_version": "1.5.0",
          "state": {
            "_dom_classes": [],
            "_model_module": "@jupyter-widgets/controls",
            "_model_module_version": "1.5.0",
            "_model_name": "HBoxModel",
            "_view_count": null,
            "_view_module": "@jupyter-widgets/controls",
            "_view_module_version": "1.5.0",
            "_view_name": "HBoxView",
            "box_style": "",
            "children": [
              "IPY_MODEL_d45cbd65f22d49d8999c075ee9aa5d8a",
              "IPY_MODEL_b98322c8437245e4ab76d5be6da88f99"
            ],
            "layout": "IPY_MODEL_477b94b393fd451ba9b5e46acab16505"
          }
        },
        "d45cbd65f22d49d8999c075ee9aa5d8a": {
          "model_module": "@jupyter-widgets/controls",
          "model_name": "CheckboxModel",
          "model_module_version": "1.5.0",
          "state": {
            "_dom_classes": [],
            "_model_module": "@jupyter-widgets/controls",
            "_model_module_version": "1.5.0",
            "_model_name": "CheckboxModel",
            "_view_count": null,
            "_view_module": "@jupyter-widgets/controls",
            "_view_module_version": "1.5.0",
            "_view_name": "CheckboxView",
            "description": "gender",
            "description_tooltip": null,
            "disabled": true,
            "indent": true,
            "layout": "IPY_MODEL_58168cd08d7f43029ee2f4fb212eff69",
            "style": "IPY_MODEL_5e599781fe9f47da91c1f59b26424d77",
            "value": false
          }
        },
        "b98322c8437245e4ab76d5be6da88f99": {
          "model_module": "@jupyter-widgets/controls",
          "model_name": "CheckboxModel",
          "model_module_version": "1.5.0",
          "state": {
            "_dom_classes": [],
            "_model_module": "@jupyter-widgets/controls",
            "_model_module_version": "1.5.0",
            "_model_name": "CheckboxModel",
            "_view_count": null,
            "_view_module": "@jupyter-widgets/controls",
            "_view_module_version": "1.5.0",
            "_view_name": "CheckboxView",
            "description": "Is this variable Categorical?",
            "description_tooltip": null,
            "disabled": false,
            "indent": true,
            "layout": "IPY_MODEL_1df14388b6534d2ca25577f3581ca77d",
            "style": "IPY_MODEL_8003ed872bf54b4cb0f94d37bc259810",
            "value": false
          }
        },
        "477b94b393fd451ba9b5e46acab16505": {
          "model_module": "@jupyter-widgets/base",
          "model_name": "LayoutModel",
          "model_module_version": "1.2.0",
          "state": {
            "_model_module": "@jupyter-widgets/base",
            "_model_module_version": "1.2.0",
            "_model_name": "LayoutModel",
            "_view_count": null,
            "_view_module": "@jupyter-widgets/base",
            "_view_module_version": "1.2.0",
            "_view_name": "LayoutView",
            "align_content": null,
            "align_items": null,
            "align_self": null,
            "border": null,
            "bottom": null,
            "display": null,
            "flex": null,
            "flex_flow": null,
            "grid_area": null,
            "grid_auto_columns": null,
            "grid_auto_flow": null,
            "grid_auto_rows": null,
            "grid_column": null,
            "grid_gap": null,
            "grid_row": null,
            "grid_template_areas": null,
            "grid_template_columns": null,
            "grid_template_rows": null,
            "height": null,
            "justify_content": null,
            "justify_items": null,
            "left": null,
            "margin": null,
            "max_height": null,
            "max_width": null,
            "min_height": null,
            "min_width": null,
            "object_fit": null,
            "object_position": null,
            "order": null,
            "overflow": null,
            "overflow_x": null,
            "overflow_y": null,
            "padding": null,
            "right": null,
            "top": null,
            "visibility": null,
            "width": null
          }
        },
        "58168cd08d7f43029ee2f4fb212eff69": {
          "model_module": "@jupyter-widgets/base",
          "model_name": "LayoutModel",
          "model_module_version": "1.2.0",
          "state": {
            "_model_module": "@jupyter-widgets/base",
            "_model_module_version": "1.2.0",
            "_model_name": "LayoutModel",
            "_view_count": null,
            "_view_module": "@jupyter-widgets/base",
            "_view_module_version": "1.2.0",
            "_view_name": "LayoutView",
            "align_content": null,
            "align_items": null,
            "align_self": null,
            "border": null,
            "bottom": null,
            "display": null,
            "flex": null,
            "flex_flow": null,
            "grid_area": null,
            "grid_auto_columns": null,
            "grid_auto_flow": null,
            "grid_auto_rows": null,
            "grid_column": null,
            "grid_gap": null,
            "grid_row": null,
            "grid_template_areas": null,
            "grid_template_columns": null,
            "grid_template_rows": null,
            "height": null,
            "justify_content": null,
            "justify_items": null,
            "left": null,
            "margin": null,
            "max_height": null,
            "max_width": null,
            "min_height": null,
            "min_width": null,
            "object_fit": null,
            "object_position": null,
            "order": null,
            "overflow": null,
            "overflow_x": null,
            "overflow_y": null,
            "padding": null,
            "right": null,
            "top": null,
            "visibility": null,
            "width": null
          }
        },
        "5e599781fe9f47da91c1f59b26424d77": {
          "model_module": "@jupyter-widgets/controls",
          "model_name": "DescriptionStyleModel",
          "model_module_version": "1.5.0",
          "state": {
            "_model_module": "@jupyter-widgets/controls",
            "_model_module_version": "1.5.0",
            "_model_name": "DescriptionStyleModel",
            "_view_count": null,
            "_view_module": "@jupyter-widgets/base",
            "_view_module_version": "1.2.0",
            "_view_name": "StyleView",
            "description_width": ""
          }
        },
        "1df14388b6534d2ca25577f3581ca77d": {
          "model_module": "@jupyter-widgets/base",
          "model_name": "LayoutModel",
          "model_module_version": "1.2.0",
          "state": {
            "_model_module": "@jupyter-widgets/base",
            "_model_module_version": "1.2.0",
            "_model_name": "LayoutModel",
            "_view_count": null,
            "_view_module": "@jupyter-widgets/base",
            "_view_module_version": "1.2.0",
            "_view_name": "LayoutView",
            "align_content": null,
            "align_items": null,
            "align_self": null,
            "border": null,
            "bottom": null,
            "display": "none",
            "flex": null,
            "flex_flow": null,
            "grid_area": null,
            "grid_auto_columns": null,
            "grid_auto_flow": null,
            "grid_auto_rows": null,
            "grid_column": null,
            "grid_gap": null,
            "grid_row": null,
            "grid_template_areas": null,
            "grid_template_columns": null,
            "grid_template_rows": null,
            "height": null,
            "justify_content": null,
            "justify_items": null,
            "left": null,
            "margin": null,
            "max_height": null,
            "max_width": null,
            "min_height": null,
            "min_width": null,
            "object_fit": null,
            "object_position": null,
            "order": null,
            "overflow": null,
            "overflow_x": null,
            "overflow_y": null,
            "padding": null,
            "right": null,
            "top": null,
            "visibility": null,
            "width": "max-content"
          }
        },
        "8003ed872bf54b4cb0f94d37bc259810": {
          "model_module": "@jupyter-widgets/controls",
          "model_name": "DescriptionStyleModel",
          "model_module_version": "1.5.0",
          "state": {
            "_model_module": "@jupyter-widgets/controls",
            "_model_module_version": "1.5.0",
            "_model_name": "DescriptionStyleModel",
            "_view_count": null,
            "_view_module": "@jupyter-widgets/base",
            "_view_module_version": "1.2.0",
            "_view_name": "StyleView",
            "description_width": "initial"
          }
        },
        "433a79ac65304c57b683ccd905a907ef": {
          "model_module": "@jupyter-widgets/controls",
          "model_name": "HBoxModel",
          "model_module_version": "1.5.0",
          "state": {
            "_dom_classes": [],
            "_model_module": "@jupyter-widgets/controls",
            "_model_module_version": "1.5.0",
            "_model_name": "HBoxModel",
            "_view_count": null,
            "_view_module": "@jupyter-widgets/controls",
            "_view_module_version": "1.5.0",
            "_view_name": "HBoxView",
            "box_style": "",
            "children": [
              "IPY_MODEL_5cba4e48ee8948ba9fb1e665df936f1e",
              "IPY_MODEL_b2a188b7bc33473e8bb578087d697fbe"
            ],
            "layout": "IPY_MODEL_ceda80f2236749b6ac84cec5ee402acd"
          }
        },
        "5cba4e48ee8948ba9fb1e665df936f1e": {
          "model_module": "@jupyter-widgets/controls",
          "model_name": "CheckboxModel",
          "model_module_version": "1.5.0",
          "state": {
            "_dom_classes": [],
            "_model_module": "@jupyter-widgets/controls",
            "_model_module_version": "1.5.0",
            "_model_name": "CheckboxModel",
            "_view_count": null,
            "_view_module": "@jupyter-widgets/controls",
            "_view_module_version": "1.5.0",
            "_view_name": "CheckboxView",
            "description": "age",
            "description_tooltip": null,
            "disabled": false,
            "indent": true,
            "layout": "IPY_MODEL_1681dd54546d4275bd92b50e12d24b0c",
            "style": "IPY_MODEL_8442bf3126854fa18f0f0fdf722aeb6f",
            "value": true
          }
        },
        "b2a188b7bc33473e8bb578087d697fbe": {
          "model_module": "@jupyter-widgets/controls",
          "model_name": "CheckboxModel",
          "model_module_version": "1.5.0",
          "state": {
            "_dom_classes": [],
            "_model_module": "@jupyter-widgets/controls",
            "_model_module_version": "1.5.0",
            "_model_name": "CheckboxModel",
            "_view_count": null,
            "_view_module": "@jupyter-widgets/controls",
            "_view_module_version": "1.5.0",
            "_view_name": "CheckboxView",
            "description": "Is this variable Categorical?",
            "description_tooltip": null,
            "disabled": false,
            "indent": true,
            "layout": "IPY_MODEL_c60b2404cffb42b2af22caf5fe9c0ca6",
            "style": "IPY_MODEL_da5a040f6f124148b46629d1e6e72687",
            "value": false
          }
        },
        "ceda80f2236749b6ac84cec5ee402acd": {
          "model_module": "@jupyter-widgets/base",
          "model_name": "LayoutModel",
          "model_module_version": "1.2.0",
          "state": {
            "_model_module": "@jupyter-widgets/base",
            "_model_module_version": "1.2.0",
            "_model_name": "LayoutModel",
            "_view_count": null,
            "_view_module": "@jupyter-widgets/base",
            "_view_module_version": "1.2.0",
            "_view_name": "LayoutView",
            "align_content": null,
            "align_items": null,
            "align_self": null,
            "border": null,
            "bottom": null,
            "display": null,
            "flex": null,
            "flex_flow": null,
            "grid_area": null,
            "grid_auto_columns": null,
            "grid_auto_flow": null,
            "grid_auto_rows": null,
            "grid_column": null,
            "grid_gap": null,
            "grid_row": null,
            "grid_template_areas": null,
            "grid_template_columns": null,
            "grid_template_rows": null,
            "height": null,
            "justify_content": null,
            "justify_items": null,
            "left": null,
            "margin": null,
            "max_height": null,
            "max_width": null,
            "min_height": null,
            "min_width": null,
            "object_fit": null,
            "object_position": null,
            "order": null,
            "overflow": null,
            "overflow_x": null,
            "overflow_y": null,
            "padding": null,
            "right": null,
            "top": null,
            "visibility": null,
            "width": null
          }
        },
        "1681dd54546d4275bd92b50e12d24b0c": {
          "model_module": "@jupyter-widgets/base",
          "model_name": "LayoutModel",
          "model_module_version": "1.2.0",
          "state": {
            "_model_module": "@jupyter-widgets/base",
            "_model_module_version": "1.2.0",
            "_model_name": "LayoutModel",
            "_view_count": null,
            "_view_module": "@jupyter-widgets/base",
            "_view_module_version": "1.2.0",
            "_view_name": "LayoutView",
            "align_content": null,
            "align_items": null,
            "align_self": null,
            "border": null,
            "bottom": null,
            "display": null,
            "flex": null,
            "flex_flow": null,
            "grid_area": null,
            "grid_auto_columns": null,
            "grid_auto_flow": null,
            "grid_auto_rows": null,
            "grid_column": null,
            "grid_gap": null,
            "grid_row": null,
            "grid_template_areas": null,
            "grid_template_columns": null,
            "grid_template_rows": null,
            "height": null,
            "justify_content": null,
            "justify_items": null,
            "left": null,
            "margin": null,
            "max_height": null,
            "max_width": null,
            "min_height": null,
            "min_width": null,
            "object_fit": null,
            "object_position": null,
            "order": null,
            "overflow": null,
            "overflow_x": null,
            "overflow_y": null,
            "padding": null,
            "right": null,
            "top": null,
            "visibility": null,
            "width": null
          }
        },
        "8442bf3126854fa18f0f0fdf722aeb6f": {
          "model_module": "@jupyter-widgets/controls",
          "model_name": "DescriptionStyleModel",
          "model_module_version": "1.5.0",
          "state": {
            "_model_module": "@jupyter-widgets/controls",
            "_model_module_version": "1.5.0",
            "_model_name": "DescriptionStyleModel",
            "_view_count": null,
            "_view_module": "@jupyter-widgets/base",
            "_view_module_version": "1.2.0",
            "_view_name": "StyleView",
            "description_width": ""
          }
        },
        "c60b2404cffb42b2af22caf5fe9c0ca6": {
          "model_module": "@jupyter-widgets/base",
          "model_name": "LayoutModel",
          "model_module_version": "1.2.0",
          "state": {
            "_model_module": "@jupyter-widgets/base",
            "_model_module_version": "1.2.0",
            "_model_name": "LayoutModel",
            "_view_count": null,
            "_view_module": "@jupyter-widgets/base",
            "_view_module_version": "1.2.0",
            "_view_name": "LayoutView",
            "align_content": null,
            "align_items": null,
            "align_self": null,
            "border": null,
            "bottom": null,
            "display": "flex",
            "flex": null,
            "flex_flow": null,
            "grid_area": null,
            "grid_auto_columns": null,
            "grid_auto_flow": null,
            "grid_auto_rows": null,
            "grid_column": null,
            "grid_gap": null,
            "grid_row": null,
            "grid_template_areas": null,
            "grid_template_columns": null,
            "grid_template_rows": null,
            "height": null,
            "justify_content": null,
            "justify_items": null,
            "left": null,
            "margin": null,
            "max_height": null,
            "max_width": null,
            "min_height": null,
            "min_width": null,
            "object_fit": null,
            "object_position": null,
            "order": null,
            "overflow": null,
            "overflow_x": null,
            "overflow_y": null,
            "padding": null,
            "right": null,
            "top": null,
            "visibility": null,
            "width": "max-content"
          }
        },
        "da5a040f6f124148b46629d1e6e72687": {
          "model_module": "@jupyter-widgets/controls",
          "model_name": "DescriptionStyleModel",
          "model_module_version": "1.5.0",
          "state": {
            "_model_module": "@jupyter-widgets/controls",
            "_model_module_version": "1.5.0",
            "_model_name": "DescriptionStyleModel",
            "_view_count": null,
            "_view_module": "@jupyter-widgets/base",
            "_view_module_version": "1.2.0",
            "_view_name": "StyleView",
            "description_width": "initial"
          }
        },
        "bad9df8aa6e74fcb9c44e541541259b4": {
          "model_module": "@jupyter-widgets/controls",
          "model_name": "HBoxModel",
          "model_module_version": "1.5.0",
          "state": {
            "_dom_classes": [],
            "_model_module": "@jupyter-widgets/controls",
            "_model_module_version": "1.5.0",
            "_model_name": "HBoxModel",
            "_view_count": null,
            "_view_module": "@jupyter-widgets/controls",
            "_view_module_version": "1.5.0",
            "_view_name": "HBoxView",
            "box_style": "",
            "children": [
              "IPY_MODEL_40780d91b6bd47a2a1ad49860c97c737",
              "IPY_MODEL_68160cb3befa49bdb449cdd8dbccb005"
            ],
            "layout": "IPY_MODEL_4f162e49b4b943e4a1b96c1e760bf7fd"
          }
        },
        "40780d91b6bd47a2a1ad49860c97c737": {
          "model_module": "@jupyter-widgets/controls",
          "model_name": "CheckboxModel",
          "model_module_version": "1.5.0",
          "state": {
            "_dom_classes": [],
            "_model_module": "@jupyter-widgets/controls",
            "_model_module_version": "1.5.0",
            "_model_name": "CheckboxModel",
            "_view_count": null,
            "_view_module": "@jupyter-widgets/controls",
            "_view_module_version": "1.5.0",
            "_view_name": "CheckboxView",
            "description": "occu",
            "description_tooltip": null,
            "disabled": false,
            "indent": true,
            "layout": "IPY_MODEL_a4676499a373429389cba4a3152588ea",
            "style": "IPY_MODEL_e464795f42a344f98f955ed4f6da6af8",
            "value": false
          }
        },
        "68160cb3befa49bdb449cdd8dbccb005": {
          "model_module": "@jupyter-widgets/controls",
          "model_name": "CheckboxModel",
          "model_module_version": "1.5.0",
          "state": {
            "_dom_classes": [],
            "_model_module": "@jupyter-widgets/controls",
            "_model_module_version": "1.5.0",
            "_model_name": "CheckboxModel",
            "_view_count": null,
            "_view_module": "@jupyter-widgets/controls",
            "_view_module_version": "1.5.0",
            "_view_name": "CheckboxView",
            "description": "Is this variable Categorical?",
            "description_tooltip": null,
            "disabled": false,
            "indent": true,
            "layout": "IPY_MODEL_aa45a0d4d3e34a0bb8fbb44f3af0ae9c",
            "style": "IPY_MODEL_41be6e97b1f34e9792cd3f10a2e5b6c6",
            "value": false
          }
        },
        "4f162e49b4b943e4a1b96c1e760bf7fd": {
          "model_module": "@jupyter-widgets/base",
          "model_name": "LayoutModel",
          "model_module_version": "1.2.0",
          "state": {
            "_model_module": "@jupyter-widgets/base",
            "_model_module_version": "1.2.0",
            "_model_name": "LayoutModel",
            "_view_count": null,
            "_view_module": "@jupyter-widgets/base",
            "_view_module_version": "1.2.0",
            "_view_name": "LayoutView",
            "align_content": null,
            "align_items": null,
            "align_self": null,
            "border": null,
            "bottom": null,
            "display": null,
            "flex": null,
            "flex_flow": null,
            "grid_area": null,
            "grid_auto_columns": null,
            "grid_auto_flow": null,
            "grid_auto_rows": null,
            "grid_column": null,
            "grid_gap": null,
            "grid_row": null,
            "grid_template_areas": null,
            "grid_template_columns": null,
            "grid_template_rows": null,
            "height": null,
            "justify_content": null,
            "justify_items": null,
            "left": null,
            "margin": null,
            "max_height": null,
            "max_width": null,
            "min_height": null,
            "min_width": null,
            "object_fit": null,
            "object_position": null,
            "order": null,
            "overflow": null,
            "overflow_x": null,
            "overflow_y": null,
            "padding": null,
            "right": null,
            "top": null,
            "visibility": null,
            "width": null
          }
        },
        "a4676499a373429389cba4a3152588ea": {
          "model_module": "@jupyter-widgets/base",
          "model_name": "LayoutModel",
          "model_module_version": "1.2.0",
          "state": {
            "_model_module": "@jupyter-widgets/base",
            "_model_module_version": "1.2.0",
            "_model_name": "LayoutModel",
            "_view_count": null,
            "_view_module": "@jupyter-widgets/base",
            "_view_module_version": "1.2.0",
            "_view_name": "LayoutView",
            "align_content": null,
            "align_items": null,
            "align_self": null,
            "border": null,
            "bottom": null,
            "display": null,
            "flex": null,
            "flex_flow": null,
            "grid_area": null,
            "grid_auto_columns": null,
            "grid_auto_flow": null,
            "grid_auto_rows": null,
            "grid_column": null,
            "grid_gap": null,
            "grid_row": null,
            "grid_template_areas": null,
            "grid_template_columns": null,
            "grid_template_rows": null,
            "height": null,
            "justify_content": null,
            "justify_items": null,
            "left": null,
            "margin": null,
            "max_height": null,
            "max_width": null,
            "min_height": null,
            "min_width": null,
            "object_fit": null,
            "object_position": null,
            "order": null,
            "overflow": null,
            "overflow_x": null,
            "overflow_y": null,
            "padding": null,
            "right": null,
            "top": null,
            "visibility": null,
            "width": null
          }
        },
        "e464795f42a344f98f955ed4f6da6af8": {
          "model_module": "@jupyter-widgets/controls",
          "model_name": "DescriptionStyleModel",
          "model_module_version": "1.5.0",
          "state": {
            "_model_module": "@jupyter-widgets/controls",
            "_model_module_version": "1.5.0",
            "_model_name": "DescriptionStyleModel",
            "_view_count": null,
            "_view_module": "@jupyter-widgets/base",
            "_view_module_version": "1.2.0",
            "_view_name": "StyleView",
            "description_width": ""
          }
        },
        "aa45a0d4d3e34a0bb8fbb44f3af0ae9c": {
          "model_module": "@jupyter-widgets/base",
          "model_name": "LayoutModel",
          "model_module_version": "1.2.0",
          "state": {
            "_model_module": "@jupyter-widgets/base",
            "_model_module_version": "1.2.0",
            "_model_name": "LayoutModel",
            "_view_count": null,
            "_view_module": "@jupyter-widgets/base",
            "_view_module_version": "1.2.0",
            "_view_name": "LayoutView",
            "align_content": null,
            "align_items": null,
            "align_self": null,
            "border": null,
            "bottom": null,
            "display": "none",
            "flex": null,
            "flex_flow": null,
            "grid_area": null,
            "grid_auto_columns": null,
            "grid_auto_flow": null,
            "grid_auto_rows": null,
            "grid_column": null,
            "grid_gap": null,
            "grid_row": null,
            "grid_template_areas": null,
            "grid_template_columns": null,
            "grid_template_rows": null,
            "height": null,
            "justify_content": null,
            "justify_items": null,
            "left": null,
            "margin": null,
            "max_height": null,
            "max_width": null,
            "min_height": null,
            "min_width": null,
            "object_fit": null,
            "object_position": null,
            "order": null,
            "overflow": null,
            "overflow_x": null,
            "overflow_y": null,
            "padding": null,
            "right": null,
            "top": null,
            "visibility": null,
            "width": "max-content"
          }
        },
        "41be6e97b1f34e9792cd3f10a2e5b6c6": {
          "model_module": "@jupyter-widgets/controls",
          "model_name": "DescriptionStyleModel",
          "model_module_version": "1.5.0",
          "state": {
            "_model_module": "@jupyter-widgets/controls",
            "_model_module_version": "1.5.0",
            "_model_name": "DescriptionStyleModel",
            "_view_count": null,
            "_view_module": "@jupyter-widgets/base",
            "_view_module_version": "1.2.0",
            "_view_name": "StyleView",
            "description_width": "initial"
          }
        },
        "ebb5925e74ff45daa0edcff7e014e423": {
          "model_module": "@jupyter-widgets/controls",
          "model_name": "HBoxModel",
          "model_module_version": "1.5.0",
          "state": {
            "_dom_classes": [],
            "_model_module": "@jupyter-widgets/controls",
            "_model_module_version": "1.5.0",
            "_model_name": "HBoxModel",
            "_view_count": null,
            "_view_module": "@jupyter-widgets/controls",
            "_view_module_version": "1.5.0",
            "_view_name": "HBoxView",
            "box_style": "",
            "children": [
              "IPY_MODEL_c637553bb160435ca6dd391e11d2b1c7",
              "IPY_MODEL_0170acaf3dfb4813b768ff1d94d5f9b2"
            ],
            "layout": "IPY_MODEL_7cb8ba927fb2450eb7c0c0ef00b5d32a"
          }
        },
        "c637553bb160435ca6dd391e11d2b1c7": {
          "model_module": "@jupyter-widgets/controls",
          "model_name": "CheckboxModel",
          "model_module_version": "1.5.0",
          "state": {
            "_dom_classes": [],
            "_model_module": "@jupyter-widgets/controls",
            "_model_module_version": "1.5.0",
            "_model_name": "CheckboxModel",
            "_view_count": null,
            "_view_module": "@jupyter-widgets/controls",
            "_view_module_version": "1.5.0",
            "_view_name": "CheckboxView",
            "description": "is_student",
            "description_tooltip": null,
            "disabled": false,
            "indent": true,
            "layout": "IPY_MODEL_a6c78d9de30f400f8e64dc2b36106ef7",
            "style": "IPY_MODEL_e3013a41aa5947f992b5d8b1d1100a55",
            "value": false
          }
        },
        "0170acaf3dfb4813b768ff1d94d5f9b2": {
          "model_module": "@jupyter-widgets/controls",
          "model_name": "CheckboxModel",
          "model_module_version": "1.5.0",
          "state": {
            "_dom_classes": [],
            "_model_module": "@jupyter-widgets/controls",
            "_model_module_version": "1.5.0",
            "_model_name": "CheckboxModel",
            "_view_count": null,
            "_view_module": "@jupyter-widgets/controls",
            "_view_module_version": "1.5.0",
            "_view_name": "CheckboxView",
            "description": "Is this variable Categorical?",
            "description_tooltip": null,
            "disabled": false,
            "indent": true,
            "layout": "IPY_MODEL_f4d3cbdbe96b41f1a88c87f94f3b14c7",
            "style": "IPY_MODEL_341c0353191b4074829b4536c6317b1e",
            "value": false
          }
        },
        "7cb8ba927fb2450eb7c0c0ef00b5d32a": {
          "model_module": "@jupyter-widgets/base",
          "model_name": "LayoutModel",
          "model_module_version": "1.2.0",
          "state": {
            "_model_module": "@jupyter-widgets/base",
            "_model_module_version": "1.2.0",
            "_model_name": "LayoutModel",
            "_view_count": null,
            "_view_module": "@jupyter-widgets/base",
            "_view_module_version": "1.2.0",
            "_view_name": "LayoutView",
            "align_content": null,
            "align_items": null,
            "align_self": null,
            "border": null,
            "bottom": null,
            "display": null,
            "flex": null,
            "flex_flow": null,
            "grid_area": null,
            "grid_auto_columns": null,
            "grid_auto_flow": null,
            "grid_auto_rows": null,
            "grid_column": null,
            "grid_gap": null,
            "grid_row": null,
            "grid_template_areas": null,
            "grid_template_columns": null,
            "grid_template_rows": null,
            "height": null,
            "justify_content": null,
            "justify_items": null,
            "left": null,
            "margin": null,
            "max_height": null,
            "max_width": null,
            "min_height": null,
            "min_width": null,
            "object_fit": null,
            "object_position": null,
            "order": null,
            "overflow": null,
            "overflow_x": null,
            "overflow_y": null,
            "padding": null,
            "right": null,
            "top": null,
            "visibility": null,
            "width": null
          }
        },
        "a6c78d9de30f400f8e64dc2b36106ef7": {
          "model_module": "@jupyter-widgets/base",
          "model_name": "LayoutModel",
          "model_module_version": "1.2.0",
          "state": {
            "_model_module": "@jupyter-widgets/base",
            "_model_module_version": "1.2.0",
            "_model_name": "LayoutModel",
            "_view_count": null,
            "_view_module": "@jupyter-widgets/base",
            "_view_module_version": "1.2.0",
            "_view_name": "LayoutView",
            "align_content": null,
            "align_items": null,
            "align_self": null,
            "border": null,
            "bottom": null,
            "display": null,
            "flex": null,
            "flex_flow": null,
            "grid_area": null,
            "grid_auto_columns": null,
            "grid_auto_flow": null,
            "grid_auto_rows": null,
            "grid_column": null,
            "grid_gap": null,
            "grid_row": null,
            "grid_template_areas": null,
            "grid_template_columns": null,
            "grid_template_rows": null,
            "height": null,
            "justify_content": null,
            "justify_items": null,
            "left": null,
            "margin": null,
            "max_height": null,
            "max_width": null,
            "min_height": null,
            "min_width": null,
            "object_fit": null,
            "object_position": null,
            "order": null,
            "overflow": null,
            "overflow_x": null,
            "overflow_y": null,
            "padding": null,
            "right": null,
            "top": null,
            "visibility": null,
            "width": null
          }
        },
        "e3013a41aa5947f992b5d8b1d1100a55": {
          "model_module": "@jupyter-widgets/controls",
          "model_name": "DescriptionStyleModel",
          "model_module_version": "1.5.0",
          "state": {
            "_model_module": "@jupyter-widgets/controls",
            "_model_module_version": "1.5.0",
            "_model_name": "DescriptionStyleModel",
            "_view_count": null,
            "_view_module": "@jupyter-widgets/base",
            "_view_module_version": "1.2.0",
            "_view_name": "StyleView",
            "description_width": ""
          }
        },
        "f4d3cbdbe96b41f1a88c87f94f3b14c7": {
          "model_module": "@jupyter-widgets/base",
          "model_name": "LayoutModel",
          "model_module_version": "1.2.0",
          "state": {
            "_model_module": "@jupyter-widgets/base",
            "_model_module_version": "1.2.0",
            "_model_name": "LayoutModel",
            "_view_count": null,
            "_view_module": "@jupyter-widgets/base",
            "_view_module_version": "1.2.0",
            "_view_name": "LayoutView",
            "align_content": null,
            "align_items": null,
            "align_self": null,
            "border": null,
            "bottom": null,
            "display": "none",
            "flex": null,
            "flex_flow": null,
            "grid_area": null,
            "grid_auto_columns": null,
            "grid_auto_flow": null,
            "grid_auto_rows": null,
            "grid_column": null,
            "grid_gap": null,
            "grid_row": null,
            "grid_template_areas": null,
            "grid_template_columns": null,
            "grid_template_rows": null,
            "height": null,
            "justify_content": null,
            "justify_items": null,
            "left": null,
            "margin": null,
            "max_height": null,
            "max_width": null,
            "min_height": null,
            "min_width": null,
            "object_fit": null,
            "object_position": null,
            "order": null,
            "overflow": null,
            "overflow_x": null,
            "overflow_y": null,
            "padding": null,
            "right": null,
            "top": null,
            "visibility": null,
            "width": "max-content"
          }
        },
        "341c0353191b4074829b4536c6317b1e": {
          "model_module": "@jupyter-widgets/controls",
          "model_name": "DescriptionStyleModel",
          "model_module_version": "1.5.0",
          "state": {
            "_model_module": "@jupyter-widgets/controls",
            "_model_module_version": "1.5.0",
            "_model_name": "DescriptionStyleModel",
            "_view_count": null,
            "_view_module": "@jupyter-widgets/base",
            "_view_module_version": "1.2.0",
            "_view_name": "StyleView",
            "description_width": "initial"
          }
        },
        "954cfd960a03494096105f193df84cb0": {
          "model_module": "@jupyter-widgets/controls",
          "model_name": "LabelModel",
          "model_module_version": "1.5.0",
          "state": {
            "_dom_classes": [],
            "_model_module": "@jupyter-widgets/controls",
            "_model_module_version": "1.5.0",
            "_model_name": "LabelModel",
            "_view_count": null,
            "_view_module": "@jupyter-widgets/controls",
            "_view_module_version": "1.5.0",
            "_view_name": "LabelView",
            "description": "",
            "description_tooltip": null,
            "layout": "IPY_MODEL_33a1a73635d741bb8193aa2b39fe8434",
            "placeholder": "​",
            "style": "IPY_MODEL_3c5f53c0e7ae46b5857cb511efdd4874",
            "value": "Controls:"
          }
        },
        "33a1a73635d741bb8193aa2b39fe8434": {
          "model_module": "@jupyter-widgets/base",
          "model_name": "LayoutModel",
          "model_module_version": "1.2.0",
          "state": {
            "_model_module": "@jupyter-widgets/base",
            "_model_module_version": "1.2.0",
            "_model_name": "LayoutModel",
            "_view_count": null,
            "_view_module": "@jupyter-widgets/base",
            "_view_module_version": "1.2.0",
            "_view_name": "LayoutView",
            "align_content": null,
            "align_items": null,
            "align_self": null,
            "border": null,
            "bottom": null,
            "display": null,
            "flex": null,
            "flex_flow": null,
            "grid_area": null,
            "grid_auto_columns": null,
            "grid_auto_flow": null,
            "grid_auto_rows": null,
            "grid_column": null,
            "grid_gap": null,
            "grid_row": null,
            "grid_template_areas": null,
            "grid_template_columns": null,
            "grid_template_rows": null,
            "height": null,
            "justify_content": null,
            "justify_items": null,
            "left": null,
            "margin": null,
            "max_height": null,
            "max_width": null,
            "min_height": null,
            "min_width": null,
            "object_fit": null,
            "object_position": null,
            "order": null,
            "overflow": null,
            "overflow_x": null,
            "overflow_y": null,
            "padding": null,
            "right": null,
            "top": null,
            "visibility": null,
            "width": null
          }
        },
        "3c5f53c0e7ae46b5857cb511efdd4874": {
          "model_module": "@jupyter-widgets/controls",
          "model_name": "DescriptionStyleModel",
          "model_module_version": "1.5.0",
          "state": {
            "_model_module": "@jupyter-widgets/controls",
            "_model_module_version": "1.5.0",
            "_model_name": "DescriptionStyleModel",
            "_view_count": null,
            "_view_module": "@jupyter-widgets/base",
            "_view_module_version": "1.2.0",
            "_view_name": "StyleView",
            "description_width": ""
          }
        },
        "7dbdf61459d34f53a1a199462132fb1e": {
          "model_module": "@jupyter-widgets/controls",
          "model_name": "HBoxModel",
          "model_module_version": "1.5.0",
          "state": {
            "_dom_classes": [],
            "_model_module": "@jupyter-widgets/controls",
            "_model_module_version": "1.5.0",
            "_model_name": "HBoxModel",
            "_view_count": null,
            "_view_module": "@jupyter-widgets/controls",
            "_view_module_version": "1.5.0",
            "_view_name": "HBoxView",
            "box_style": "",
            "children": [
              "IPY_MODEL_5b3f479c33384f5ea2146fac6f8bfb77",
              "IPY_MODEL_99aebf9da13d4497933fbe177112cc5e"
            ],
            "layout": "IPY_MODEL_7ed34ff26a6e4e449eff2246504ac0ec"
          }
        },
        "5b3f479c33384f5ea2146fac6f8bfb77": {
          "model_module": "@jupyter-widgets/controls",
          "model_name": "CheckboxModel",
          "model_module_version": "1.5.0",
          "state": {
            "_dom_classes": [],
            "_model_module": "@jupyter-widgets/controls",
            "_model_module_version": "1.5.0",
            "_model_name": "CheckboxModel",
            "_view_count": null,
            "_view_module": "@jupyter-widgets/controls",
            "_view_module_version": "1.5.0",
            "_view_name": "CheckboxView",
            "description": "gender",
            "description_tooltip": null,
            "disabled": false,
            "indent": true,
            "layout": "IPY_MODEL_fced86c81ced48519c79fa0332677404",
            "style": "IPY_MODEL_d2e37fefc11542b8a165ad18613e3a68",
            "value": true
          }
        },
        "99aebf9da13d4497933fbe177112cc5e": {
          "model_module": "@jupyter-widgets/controls",
          "model_name": "CheckboxModel",
          "model_module_version": "1.5.0",
          "state": {
            "_dom_classes": [],
            "_model_module": "@jupyter-widgets/controls",
            "_model_module_version": "1.5.0",
            "_model_name": "CheckboxModel",
            "_view_count": null,
            "_view_module": "@jupyter-widgets/controls",
            "_view_module_version": "1.5.0",
            "_view_name": "CheckboxView",
            "description": "Is this variable Categorical?",
            "description_tooltip": null,
            "disabled": false,
            "indent": true,
            "layout": "IPY_MODEL_4b244524f58640858ea06c18d6b72a75",
            "style": "IPY_MODEL_aa985f6aef5f47f2883d271296dcdcfc",
            "value": true
          }
        },
        "7ed34ff26a6e4e449eff2246504ac0ec": {
          "model_module": "@jupyter-widgets/base",
          "model_name": "LayoutModel",
          "model_module_version": "1.2.0",
          "state": {
            "_model_module": "@jupyter-widgets/base",
            "_model_module_version": "1.2.0",
            "_model_name": "LayoutModel",
            "_view_count": null,
            "_view_module": "@jupyter-widgets/base",
            "_view_module_version": "1.2.0",
            "_view_name": "LayoutView",
            "align_content": null,
            "align_items": null,
            "align_self": null,
            "border": null,
            "bottom": null,
            "display": null,
            "flex": null,
            "flex_flow": null,
            "grid_area": null,
            "grid_auto_columns": null,
            "grid_auto_flow": null,
            "grid_auto_rows": null,
            "grid_column": null,
            "grid_gap": null,
            "grid_row": null,
            "grid_template_areas": null,
            "grid_template_columns": null,
            "grid_template_rows": null,
            "height": null,
            "justify_content": null,
            "justify_items": null,
            "left": null,
            "margin": null,
            "max_height": null,
            "max_width": null,
            "min_height": null,
            "min_width": null,
            "object_fit": null,
            "object_position": null,
            "order": null,
            "overflow": null,
            "overflow_x": null,
            "overflow_y": null,
            "padding": null,
            "right": null,
            "top": null,
            "visibility": null,
            "width": null
          }
        },
        "fced86c81ced48519c79fa0332677404": {
          "model_module": "@jupyter-widgets/base",
          "model_name": "LayoutModel",
          "model_module_version": "1.2.0",
          "state": {
            "_model_module": "@jupyter-widgets/base",
            "_model_module_version": "1.2.0",
            "_model_name": "LayoutModel",
            "_view_count": null,
            "_view_module": "@jupyter-widgets/base",
            "_view_module_version": "1.2.0",
            "_view_name": "LayoutView",
            "align_content": null,
            "align_items": null,
            "align_self": null,
            "border": null,
            "bottom": null,
            "display": null,
            "flex": null,
            "flex_flow": null,
            "grid_area": null,
            "grid_auto_columns": null,
            "grid_auto_flow": null,
            "grid_auto_rows": null,
            "grid_column": null,
            "grid_gap": null,
            "grid_row": null,
            "grid_template_areas": null,
            "grid_template_columns": null,
            "grid_template_rows": null,
            "height": null,
            "justify_content": null,
            "justify_items": null,
            "left": null,
            "margin": null,
            "max_height": null,
            "max_width": null,
            "min_height": null,
            "min_width": null,
            "object_fit": null,
            "object_position": null,
            "order": null,
            "overflow": null,
            "overflow_x": null,
            "overflow_y": null,
            "padding": null,
            "right": null,
            "top": null,
            "visibility": null,
            "width": null
          }
        },
        "d2e37fefc11542b8a165ad18613e3a68": {
          "model_module": "@jupyter-widgets/controls",
          "model_name": "DescriptionStyleModel",
          "model_module_version": "1.5.0",
          "state": {
            "_model_module": "@jupyter-widgets/controls",
            "_model_module_version": "1.5.0",
            "_model_name": "DescriptionStyleModel",
            "_view_count": null,
            "_view_module": "@jupyter-widgets/base",
            "_view_module_version": "1.2.0",
            "_view_name": "StyleView",
            "description_width": ""
          }
        },
        "4b244524f58640858ea06c18d6b72a75": {
          "model_module": "@jupyter-widgets/base",
          "model_name": "LayoutModel",
          "model_module_version": "1.2.0",
          "state": {
            "_model_module": "@jupyter-widgets/base",
            "_model_module_version": "1.2.0",
            "_model_name": "LayoutModel",
            "_view_count": null,
            "_view_module": "@jupyter-widgets/base",
            "_view_module_version": "1.2.0",
            "_view_name": "LayoutView",
            "align_content": null,
            "align_items": null,
            "align_self": null,
            "border": null,
            "bottom": null,
            "display": "flex",
            "flex": null,
            "flex_flow": null,
            "grid_area": null,
            "grid_auto_columns": null,
            "grid_auto_flow": null,
            "grid_auto_rows": null,
            "grid_column": null,
            "grid_gap": null,
            "grid_row": null,
            "grid_template_areas": null,
            "grid_template_columns": null,
            "grid_template_rows": null,
            "height": null,
            "justify_content": null,
            "justify_items": null,
            "left": null,
            "margin": null,
            "max_height": null,
            "max_width": null,
            "min_height": null,
            "min_width": null,
            "object_fit": null,
            "object_position": null,
            "order": null,
            "overflow": null,
            "overflow_x": null,
            "overflow_y": null,
            "padding": null,
            "right": null,
            "top": null,
            "visibility": null,
            "width": "max-content"
          }
        },
        "aa985f6aef5f47f2883d271296dcdcfc": {
          "model_module": "@jupyter-widgets/controls",
          "model_name": "DescriptionStyleModel",
          "model_module_version": "1.5.0",
          "state": {
            "_model_module": "@jupyter-widgets/controls",
            "_model_module_version": "1.5.0",
            "_model_name": "DescriptionStyleModel",
            "_view_count": null,
            "_view_module": "@jupyter-widgets/base",
            "_view_module_version": "1.2.0",
            "_view_name": "StyleView",
            "description_width": "initial"
          }
        },
        "9123953cd3124a0b8bc04e6604457040": {
          "model_module": "@jupyter-widgets/controls",
          "model_name": "HBoxModel",
          "model_module_version": "1.5.0",
          "state": {
            "_dom_classes": [],
            "_model_module": "@jupyter-widgets/controls",
            "_model_module_version": "1.5.0",
            "_model_name": "HBoxModel",
            "_view_count": null,
            "_view_module": "@jupyter-widgets/controls",
            "_view_module_version": "1.5.0",
            "_view_name": "HBoxView",
            "box_style": "",
            "children": [
              "IPY_MODEL_68a7eb8f4d49488d91e4ef3eca1cedcd",
              "IPY_MODEL_01930547262342b082f929bec9e012ce"
            ],
            "layout": "IPY_MODEL_d02675fc000443ad8708c4426e588f50"
          }
        },
        "68a7eb8f4d49488d91e4ef3eca1cedcd": {
          "model_module": "@jupyter-widgets/controls",
          "model_name": "CheckboxModel",
          "model_module_version": "1.5.0",
          "state": {
            "_dom_classes": [],
            "_model_module": "@jupyter-widgets/controls",
            "_model_module_version": "1.5.0",
            "_model_name": "CheckboxModel",
            "_view_count": null,
            "_view_module": "@jupyter-widgets/controls",
            "_view_module_version": "1.5.0",
            "_view_name": "CheckboxView",
            "description": "age",
            "description_tooltip": null,
            "disabled": true,
            "indent": true,
            "layout": "IPY_MODEL_caab660044d44f9697816215efe719fe",
            "style": "IPY_MODEL_314a9ed4b59741ddb4709b99489f9711",
            "value": false
          }
        },
        "01930547262342b082f929bec9e012ce": {
          "model_module": "@jupyter-widgets/controls",
          "model_name": "CheckboxModel",
          "model_module_version": "1.5.0",
          "state": {
            "_dom_classes": [],
            "_model_module": "@jupyter-widgets/controls",
            "_model_module_version": "1.5.0",
            "_model_name": "CheckboxModel",
            "_view_count": null,
            "_view_module": "@jupyter-widgets/controls",
            "_view_module_version": "1.5.0",
            "_view_name": "CheckboxView",
            "description": "Is this variable Categorical?",
            "description_tooltip": null,
            "disabled": false,
            "indent": true,
            "layout": "IPY_MODEL_bf5b8242619e4ca98827821f59e2eed5",
            "style": "IPY_MODEL_64646d3709fe47458e487fec37c2afc8",
            "value": false
          }
        },
        "d02675fc000443ad8708c4426e588f50": {
          "model_module": "@jupyter-widgets/base",
          "model_name": "LayoutModel",
          "model_module_version": "1.2.0",
          "state": {
            "_model_module": "@jupyter-widgets/base",
            "_model_module_version": "1.2.0",
            "_model_name": "LayoutModel",
            "_view_count": null,
            "_view_module": "@jupyter-widgets/base",
            "_view_module_version": "1.2.0",
            "_view_name": "LayoutView",
            "align_content": null,
            "align_items": null,
            "align_self": null,
            "border": null,
            "bottom": null,
            "display": null,
            "flex": null,
            "flex_flow": null,
            "grid_area": null,
            "grid_auto_columns": null,
            "grid_auto_flow": null,
            "grid_auto_rows": null,
            "grid_column": null,
            "grid_gap": null,
            "grid_row": null,
            "grid_template_areas": null,
            "grid_template_columns": null,
            "grid_template_rows": null,
            "height": null,
            "justify_content": null,
            "justify_items": null,
            "left": null,
            "margin": null,
            "max_height": null,
            "max_width": null,
            "min_height": null,
            "min_width": null,
            "object_fit": null,
            "object_position": null,
            "order": null,
            "overflow": null,
            "overflow_x": null,
            "overflow_y": null,
            "padding": null,
            "right": null,
            "top": null,
            "visibility": null,
            "width": null
          }
        },
        "caab660044d44f9697816215efe719fe": {
          "model_module": "@jupyter-widgets/base",
          "model_name": "LayoutModel",
          "model_module_version": "1.2.0",
          "state": {
            "_model_module": "@jupyter-widgets/base",
            "_model_module_version": "1.2.0",
            "_model_name": "LayoutModel",
            "_view_count": null,
            "_view_module": "@jupyter-widgets/base",
            "_view_module_version": "1.2.0",
            "_view_name": "LayoutView",
            "align_content": null,
            "align_items": null,
            "align_self": null,
            "border": null,
            "bottom": null,
            "display": null,
            "flex": null,
            "flex_flow": null,
            "grid_area": null,
            "grid_auto_columns": null,
            "grid_auto_flow": null,
            "grid_auto_rows": null,
            "grid_column": null,
            "grid_gap": null,
            "grid_row": null,
            "grid_template_areas": null,
            "grid_template_columns": null,
            "grid_template_rows": null,
            "height": null,
            "justify_content": null,
            "justify_items": null,
            "left": null,
            "margin": null,
            "max_height": null,
            "max_width": null,
            "min_height": null,
            "min_width": null,
            "object_fit": null,
            "object_position": null,
            "order": null,
            "overflow": null,
            "overflow_x": null,
            "overflow_y": null,
            "padding": null,
            "right": null,
            "top": null,
            "visibility": null,
            "width": null
          }
        },
        "314a9ed4b59741ddb4709b99489f9711": {
          "model_module": "@jupyter-widgets/controls",
          "model_name": "DescriptionStyleModel",
          "model_module_version": "1.5.0",
          "state": {
            "_model_module": "@jupyter-widgets/controls",
            "_model_module_version": "1.5.0",
            "_model_name": "DescriptionStyleModel",
            "_view_count": null,
            "_view_module": "@jupyter-widgets/base",
            "_view_module_version": "1.2.0",
            "_view_name": "StyleView",
            "description_width": ""
          }
        },
        "bf5b8242619e4ca98827821f59e2eed5": {
          "model_module": "@jupyter-widgets/base",
          "model_name": "LayoutModel",
          "model_module_version": "1.2.0",
          "state": {
            "_model_module": "@jupyter-widgets/base",
            "_model_module_version": "1.2.0",
            "_model_name": "LayoutModel",
            "_view_count": null,
            "_view_module": "@jupyter-widgets/base",
            "_view_module_version": "1.2.0",
            "_view_name": "LayoutView",
            "align_content": null,
            "align_items": null,
            "align_self": null,
            "border": null,
            "bottom": null,
            "display": "none",
            "flex": null,
            "flex_flow": null,
            "grid_area": null,
            "grid_auto_columns": null,
            "grid_auto_flow": null,
            "grid_auto_rows": null,
            "grid_column": null,
            "grid_gap": null,
            "grid_row": null,
            "grid_template_areas": null,
            "grid_template_columns": null,
            "grid_template_rows": null,
            "height": null,
            "justify_content": null,
            "justify_items": null,
            "left": null,
            "margin": null,
            "max_height": null,
            "max_width": null,
            "min_height": null,
            "min_width": null,
            "object_fit": null,
            "object_position": null,
            "order": null,
            "overflow": null,
            "overflow_x": null,
            "overflow_y": null,
            "padding": null,
            "right": null,
            "top": null,
            "visibility": null,
            "width": "max-content"
          }
        },
        "64646d3709fe47458e487fec37c2afc8": {
          "model_module": "@jupyter-widgets/controls",
          "model_name": "DescriptionStyleModel",
          "model_module_version": "1.5.0",
          "state": {
            "_model_module": "@jupyter-widgets/controls",
            "_model_module_version": "1.5.0",
            "_model_name": "DescriptionStyleModel",
            "_view_count": null,
            "_view_module": "@jupyter-widgets/base",
            "_view_module_version": "1.2.0",
            "_view_name": "StyleView",
            "description_width": "initial"
          }
        },
        "1bc65aa6820d4c00a76e9159e89ab1cc": {
          "model_module": "@jupyter-widgets/controls",
          "model_name": "HBoxModel",
          "model_module_version": "1.5.0",
          "state": {
            "_dom_classes": [],
            "_model_module": "@jupyter-widgets/controls",
            "_model_module_version": "1.5.0",
            "_model_name": "HBoxModel",
            "_view_count": null,
            "_view_module": "@jupyter-widgets/controls",
            "_view_module_version": "1.5.0",
            "_view_name": "HBoxView",
            "box_style": "",
            "children": [
              "IPY_MODEL_718fae02acf24ce882ee59f8d9dfdfa0",
              "IPY_MODEL_6671b57e4d894229bc4a0bbd0c3dbc84"
            ],
            "layout": "IPY_MODEL_58c3063b4b6b4aa4a3033e572ff38b77"
          }
        },
        "718fae02acf24ce882ee59f8d9dfdfa0": {
          "model_module": "@jupyter-widgets/controls",
          "model_name": "CheckboxModel",
          "model_module_version": "1.5.0",
          "state": {
            "_dom_classes": [],
            "_model_module": "@jupyter-widgets/controls",
            "_model_module_version": "1.5.0",
            "_model_name": "CheckboxModel",
            "_view_count": null,
            "_view_module": "@jupyter-widgets/controls",
            "_view_module_version": "1.5.0",
            "_view_name": "CheckboxView",
            "description": "occu",
            "description_tooltip": null,
            "disabled": false,
            "indent": true,
            "layout": "IPY_MODEL_f9507a7c203c48c0942610856e2db3d2",
            "style": "IPY_MODEL_596f87af63174efa979deefb98745ac3",
            "value": false
          }
        },
        "6671b57e4d894229bc4a0bbd0c3dbc84": {
          "model_module": "@jupyter-widgets/controls",
          "model_name": "CheckboxModel",
          "model_module_version": "1.5.0",
          "state": {
            "_dom_classes": [],
            "_model_module": "@jupyter-widgets/controls",
            "_model_module_version": "1.5.0",
            "_model_name": "CheckboxModel",
            "_view_count": null,
            "_view_module": "@jupyter-widgets/controls",
            "_view_module_version": "1.5.0",
            "_view_name": "CheckboxView",
            "description": "Is this variable Categorical?",
            "description_tooltip": null,
            "disabled": false,
            "indent": true,
            "layout": "IPY_MODEL_f591528903f54e56a5206ae707205ac1",
            "style": "IPY_MODEL_fc60f70699884e4da19cf4e66927e46d",
            "value": false
          }
        },
        "58c3063b4b6b4aa4a3033e572ff38b77": {
          "model_module": "@jupyter-widgets/base",
          "model_name": "LayoutModel",
          "model_module_version": "1.2.0",
          "state": {
            "_model_module": "@jupyter-widgets/base",
            "_model_module_version": "1.2.0",
            "_model_name": "LayoutModel",
            "_view_count": null,
            "_view_module": "@jupyter-widgets/base",
            "_view_module_version": "1.2.0",
            "_view_name": "LayoutView",
            "align_content": null,
            "align_items": null,
            "align_self": null,
            "border": null,
            "bottom": null,
            "display": null,
            "flex": null,
            "flex_flow": null,
            "grid_area": null,
            "grid_auto_columns": null,
            "grid_auto_flow": null,
            "grid_auto_rows": null,
            "grid_column": null,
            "grid_gap": null,
            "grid_row": null,
            "grid_template_areas": null,
            "grid_template_columns": null,
            "grid_template_rows": null,
            "height": null,
            "justify_content": null,
            "justify_items": null,
            "left": null,
            "margin": null,
            "max_height": null,
            "max_width": null,
            "min_height": null,
            "min_width": null,
            "object_fit": null,
            "object_position": null,
            "order": null,
            "overflow": null,
            "overflow_x": null,
            "overflow_y": null,
            "padding": null,
            "right": null,
            "top": null,
            "visibility": null,
            "width": null
          }
        },
        "f9507a7c203c48c0942610856e2db3d2": {
          "model_module": "@jupyter-widgets/base",
          "model_name": "LayoutModel",
          "model_module_version": "1.2.0",
          "state": {
            "_model_module": "@jupyter-widgets/base",
            "_model_module_version": "1.2.0",
            "_model_name": "LayoutModel",
            "_view_count": null,
            "_view_module": "@jupyter-widgets/base",
            "_view_module_version": "1.2.0",
            "_view_name": "LayoutView",
            "align_content": null,
            "align_items": null,
            "align_self": null,
            "border": null,
            "bottom": null,
            "display": null,
            "flex": null,
            "flex_flow": null,
            "grid_area": null,
            "grid_auto_columns": null,
            "grid_auto_flow": null,
            "grid_auto_rows": null,
            "grid_column": null,
            "grid_gap": null,
            "grid_row": null,
            "grid_template_areas": null,
            "grid_template_columns": null,
            "grid_template_rows": null,
            "height": null,
            "justify_content": null,
            "justify_items": null,
            "left": null,
            "margin": null,
            "max_height": null,
            "max_width": null,
            "min_height": null,
            "min_width": null,
            "object_fit": null,
            "object_position": null,
            "order": null,
            "overflow": null,
            "overflow_x": null,
            "overflow_y": null,
            "padding": null,
            "right": null,
            "top": null,
            "visibility": null,
            "width": null
          }
        },
        "596f87af63174efa979deefb98745ac3": {
          "model_module": "@jupyter-widgets/controls",
          "model_name": "DescriptionStyleModel",
          "model_module_version": "1.5.0",
          "state": {
            "_model_module": "@jupyter-widgets/controls",
            "_model_module_version": "1.5.0",
            "_model_name": "DescriptionStyleModel",
            "_view_count": null,
            "_view_module": "@jupyter-widgets/base",
            "_view_module_version": "1.2.0",
            "_view_name": "StyleView",
            "description_width": ""
          }
        },
        "f591528903f54e56a5206ae707205ac1": {
          "model_module": "@jupyter-widgets/base",
          "model_name": "LayoutModel",
          "model_module_version": "1.2.0",
          "state": {
            "_model_module": "@jupyter-widgets/base",
            "_model_module_version": "1.2.0",
            "_model_name": "LayoutModel",
            "_view_count": null,
            "_view_module": "@jupyter-widgets/base",
            "_view_module_version": "1.2.0",
            "_view_name": "LayoutView",
            "align_content": null,
            "align_items": null,
            "align_self": null,
            "border": null,
            "bottom": null,
            "display": "none",
            "flex": null,
            "flex_flow": null,
            "grid_area": null,
            "grid_auto_columns": null,
            "grid_auto_flow": null,
            "grid_auto_rows": null,
            "grid_column": null,
            "grid_gap": null,
            "grid_row": null,
            "grid_template_areas": null,
            "grid_template_columns": null,
            "grid_template_rows": null,
            "height": null,
            "justify_content": null,
            "justify_items": null,
            "left": null,
            "margin": null,
            "max_height": null,
            "max_width": null,
            "min_height": null,
            "min_width": null,
            "object_fit": null,
            "object_position": null,
            "order": null,
            "overflow": null,
            "overflow_x": null,
            "overflow_y": null,
            "padding": null,
            "right": null,
            "top": null,
            "visibility": null,
            "width": "max-content"
          }
        },
        "fc60f70699884e4da19cf4e66927e46d": {
          "model_module": "@jupyter-widgets/controls",
          "model_name": "DescriptionStyleModel",
          "model_module_version": "1.5.0",
          "state": {
            "_model_module": "@jupyter-widgets/controls",
            "_model_module_version": "1.5.0",
            "_model_name": "DescriptionStyleModel",
            "_view_count": null,
            "_view_module": "@jupyter-widgets/base",
            "_view_module_version": "1.2.0",
            "_view_name": "StyleView",
            "description_width": "initial"
          }
        },
        "2062a50f8e774fb3b8ed4794ecd6d0cd": {
          "model_module": "@jupyter-widgets/controls",
          "model_name": "HBoxModel",
          "model_module_version": "1.5.0",
          "state": {
            "_dom_classes": [],
            "_model_module": "@jupyter-widgets/controls",
            "_model_module_version": "1.5.0",
            "_model_name": "HBoxModel",
            "_view_count": null,
            "_view_module": "@jupyter-widgets/controls",
            "_view_module_version": "1.5.0",
            "_view_name": "HBoxView",
            "box_style": "",
            "children": [
              "IPY_MODEL_b6b2ec94e50e4e41844832a14486da45",
              "IPY_MODEL_f964e257517f4bc69b7b6b09a3addeca"
            ],
            "layout": "IPY_MODEL_534097fc8e054a69be20e463e18725dc"
          }
        },
        "b6b2ec94e50e4e41844832a14486da45": {
          "model_module": "@jupyter-widgets/controls",
          "model_name": "CheckboxModel",
          "model_module_version": "1.5.0",
          "state": {
            "_dom_classes": [],
            "_model_module": "@jupyter-widgets/controls",
            "_model_module_version": "1.5.0",
            "_model_name": "CheckboxModel",
            "_view_count": null,
            "_view_module": "@jupyter-widgets/controls",
            "_view_module_version": "1.5.0",
            "_view_name": "CheckboxView",
            "description": "is_student",
            "description_tooltip": null,
            "disabled": false,
            "indent": true,
            "layout": "IPY_MODEL_2cf2e6585d9545e793cfa686b2e1d5d0",
            "style": "IPY_MODEL_5884b54d9b834ce382b9f0957280e01f",
            "value": false
          }
        },
        "f964e257517f4bc69b7b6b09a3addeca": {
          "model_module": "@jupyter-widgets/controls",
          "model_name": "CheckboxModel",
          "model_module_version": "1.5.0",
          "state": {
            "_dom_classes": [],
            "_model_module": "@jupyter-widgets/controls",
            "_model_module_version": "1.5.0",
            "_model_name": "CheckboxModel",
            "_view_count": null,
            "_view_module": "@jupyter-widgets/controls",
            "_view_module_version": "1.5.0",
            "_view_name": "CheckboxView",
            "description": "Is this variable Categorical?",
            "description_tooltip": null,
            "disabled": false,
            "indent": true,
            "layout": "IPY_MODEL_bfeeffb3f5b440ff948aec2d5b4a19c5",
            "style": "IPY_MODEL_91644c29277b4e6587f220c0b5420d67",
            "value": false
          }
        },
        "534097fc8e054a69be20e463e18725dc": {
          "model_module": "@jupyter-widgets/base",
          "model_name": "LayoutModel",
          "model_module_version": "1.2.0",
          "state": {
            "_model_module": "@jupyter-widgets/base",
            "_model_module_version": "1.2.0",
            "_model_name": "LayoutModel",
            "_view_count": null,
            "_view_module": "@jupyter-widgets/base",
            "_view_module_version": "1.2.0",
            "_view_name": "LayoutView",
            "align_content": null,
            "align_items": null,
            "align_self": null,
            "border": null,
            "bottom": null,
            "display": null,
            "flex": null,
            "flex_flow": null,
            "grid_area": null,
            "grid_auto_columns": null,
            "grid_auto_flow": null,
            "grid_auto_rows": null,
            "grid_column": null,
            "grid_gap": null,
            "grid_row": null,
            "grid_template_areas": null,
            "grid_template_columns": null,
            "grid_template_rows": null,
            "height": null,
            "justify_content": null,
            "justify_items": null,
            "left": null,
            "margin": null,
            "max_height": null,
            "max_width": null,
            "min_height": null,
            "min_width": null,
            "object_fit": null,
            "object_position": null,
            "order": null,
            "overflow": null,
            "overflow_x": null,
            "overflow_y": null,
            "padding": null,
            "right": null,
            "top": null,
            "visibility": null,
            "width": null
          }
        },
        "2cf2e6585d9545e793cfa686b2e1d5d0": {
          "model_module": "@jupyter-widgets/base",
          "model_name": "LayoutModel",
          "model_module_version": "1.2.0",
          "state": {
            "_model_module": "@jupyter-widgets/base",
            "_model_module_version": "1.2.0",
            "_model_name": "LayoutModel",
            "_view_count": null,
            "_view_module": "@jupyter-widgets/base",
            "_view_module_version": "1.2.0",
            "_view_name": "LayoutView",
            "align_content": null,
            "align_items": null,
            "align_self": null,
            "border": null,
            "bottom": null,
            "display": null,
            "flex": null,
            "flex_flow": null,
            "grid_area": null,
            "grid_auto_columns": null,
            "grid_auto_flow": null,
            "grid_auto_rows": null,
            "grid_column": null,
            "grid_gap": null,
            "grid_row": null,
            "grid_template_areas": null,
            "grid_template_columns": null,
            "grid_template_rows": null,
            "height": null,
            "justify_content": null,
            "justify_items": null,
            "left": null,
            "margin": null,
            "max_height": null,
            "max_width": null,
            "min_height": null,
            "min_width": null,
            "object_fit": null,
            "object_position": null,
            "order": null,
            "overflow": null,
            "overflow_x": null,
            "overflow_y": null,
            "padding": null,
            "right": null,
            "top": null,
            "visibility": null,
            "width": null
          }
        },
        "5884b54d9b834ce382b9f0957280e01f": {
          "model_module": "@jupyter-widgets/controls",
          "model_name": "DescriptionStyleModel",
          "model_module_version": "1.5.0",
          "state": {
            "_model_module": "@jupyter-widgets/controls",
            "_model_module_version": "1.5.0",
            "_model_name": "DescriptionStyleModel",
            "_view_count": null,
            "_view_module": "@jupyter-widgets/base",
            "_view_module_version": "1.2.0",
            "_view_name": "StyleView",
            "description_width": ""
          }
        },
        "bfeeffb3f5b440ff948aec2d5b4a19c5": {
          "model_module": "@jupyter-widgets/base",
          "model_name": "LayoutModel",
          "model_module_version": "1.2.0",
          "state": {
            "_model_module": "@jupyter-widgets/base",
            "_model_module_version": "1.2.0",
            "_model_name": "LayoutModel",
            "_view_count": null,
            "_view_module": "@jupyter-widgets/base",
            "_view_module_version": "1.2.0",
            "_view_name": "LayoutView",
            "align_content": null,
            "align_items": null,
            "align_self": null,
            "border": null,
            "bottom": null,
            "display": "none",
            "flex": null,
            "flex_flow": null,
            "grid_area": null,
            "grid_auto_columns": null,
            "grid_auto_flow": null,
            "grid_auto_rows": null,
            "grid_column": null,
            "grid_gap": null,
            "grid_row": null,
            "grid_template_areas": null,
            "grid_template_columns": null,
            "grid_template_rows": null,
            "height": null,
            "justify_content": null,
            "justify_items": null,
            "left": null,
            "margin": null,
            "max_height": null,
            "max_width": null,
            "min_height": null,
            "min_width": null,
            "object_fit": null,
            "object_position": null,
            "order": null,
            "overflow": null,
            "overflow_x": null,
            "overflow_y": null,
            "padding": null,
            "right": null,
            "top": null,
            "visibility": null,
            "width": "max-content"
          }
        },
        "91644c29277b4e6587f220c0b5420d67": {
          "model_module": "@jupyter-widgets/controls",
          "model_name": "DescriptionStyleModel",
          "model_module_version": "1.5.0",
          "state": {
            "_model_module": "@jupyter-widgets/controls",
            "_model_module_version": "1.5.0",
            "_model_name": "DescriptionStyleModel",
            "_view_count": null,
            "_view_module": "@jupyter-widgets/base",
            "_view_module_version": "1.2.0",
            "_view_name": "StyleView",
            "description_width": "initial"
          }
        },
        "a7d0403680d848998fcc359240ff0dd0": {
          "model_module": "@jupyter-widgets/controls",
          "model_name": "LabelModel",
          "model_module_version": "1.5.0",
          "state": {
            "_dom_classes": [],
            "_model_module": "@jupyter-widgets/controls",
            "_model_module_version": "1.5.0",
            "_model_name": "LabelModel",
            "_view_count": null,
            "_view_module": "@jupyter-widgets/controls",
            "_view_module_version": "1.5.0",
            "_view_name": "LabelView",
            "description": "",
            "description_tooltip": null,
            "layout": "IPY_MODEL_30463c3bc6e8497c96aea0e7a2112b88",
            "placeholder": "​",
            "style": "IPY_MODEL_1ad129aada114029a9d59bafc1bb03cf",
            "value": "Make Wordclouds:"
          }
        },
        "30463c3bc6e8497c96aea0e7a2112b88": {
          "model_module": "@jupyter-widgets/base",
          "model_name": "LayoutModel",
          "model_module_version": "1.2.0",
          "state": {
            "_model_module": "@jupyter-widgets/base",
            "_model_module_version": "1.2.0",
            "_model_name": "LayoutModel",
            "_view_count": null,
            "_view_module": "@jupyter-widgets/base",
            "_view_module_version": "1.2.0",
            "_view_name": "LayoutView",
            "align_content": null,
            "align_items": null,
            "align_self": null,
            "border": null,
            "bottom": null,
            "display": null,
            "flex": null,
            "flex_flow": null,
            "grid_area": null,
            "grid_auto_columns": null,
            "grid_auto_flow": null,
            "grid_auto_rows": null,
            "grid_column": null,
            "grid_gap": null,
            "grid_row": null,
            "grid_template_areas": null,
            "grid_template_columns": null,
            "grid_template_rows": null,
            "height": null,
            "justify_content": null,
            "justify_items": null,
            "left": null,
            "margin": null,
            "max_height": null,
            "max_width": null,
            "min_height": null,
            "min_width": null,
            "object_fit": null,
            "object_position": null,
            "order": null,
            "overflow": null,
            "overflow_x": null,
            "overflow_y": null,
            "padding": null,
            "right": null,
            "top": null,
            "visibility": null,
            "width": null
          }
        },
        "1ad129aada114029a9d59bafc1bb03cf": {
          "model_module": "@jupyter-widgets/controls",
          "model_name": "DescriptionStyleModel",
          "model_module_version": "1.5.0",
          "state": {
            "_model_module": "@jupyter-widgets/controls",
            "_model_module_version": "1.5.0",
            "_model_name": "DescriptionStyleModel",
            "_view_count": null,
            "_view_module": "@jupyter-widgets/base",
            "_view_module_version": "1.2.0",
            "_view_name": "StyleView",
            "description_width": ""
          }
        },
        "14a367b1c608412ea198a8c357a82a06": {
          "model_module": "@jupyter-widgets/controls",
          "model_name": "CheckboxModel",
          "model_module_version": "1.5.0",
          "state": {
            "_dom_classes": [],
            "_model_module": "@jupyter-widgets/controls",
            "_model_module_version": "1.5.0",
            "_model_name": "CheckboxModel",
            "_view_count": null,
            "_view_module": "@jupyter-widgets/controls",
            "_view_module_version": "1.5.0",
            "_view_name": "CheckboxView",
            "description": "Enable Wordclouds",
            "description_tooltip": null,
            "disabled": false,
            "indent": true,
            "layout": "IPY_MODEL_212d4beb087148bcb951a1d8624c9980",
            "style": "IPY_MODEL_21f68ca5dc9c41acae183720ec8d9d07",
            "value": true
          }
        },
        "212d4beb087148bcb951a1d8624c9980": {
          "model_module": "@jupyter-widgets/base",
          "model_name": "LayoutModel",
          "model_module_version": "1.2.0",
          "state": {
            "_model_module": "@jupyter-widgets/base",
            "_model_module_version": "1.2.0",
            "_model_name": "LayoutModel",
            "_view_count": null,
            "_view_module": "@jupyter-widgets/base",
            "_view_module_version": "1.2.0",
            "_view_name": "LayoutView",
            "align_content": null,
            "align_items": null,
            "align_self": null,
            "border": null,
            "bottom": null,
            "display": null,
            "flex": null,
            "flex_flow": null,
            "grid_area": null,
            "grid_auto_columns": null,
            "grid_auto_flow": null,
            "grid_auto_rows": null,
            "grid_column": null,
            "grid_gap": null,
            "grid_row": null,
            "grid_template_areas": null,
            "grid_template_columns": null,
            "grid_template_rows": null,
            "height": null,
            "justify_content": null,
            "justify_items": null,
            "left": null,
            "margin": null,
            "max_height": null,
            "max_width": null,
            "min_height": null,
            "min_width": null,
            "object_fit": null,
            "object_position": null,
            "order": null,
            "overflow": null,
            "overflow_x": null,
            "overflow_y": null,
            "padding": null,
            "right": null,
            "top": null,
            "visibility": null,
            "width": null
          }
        },
        "21f68ca5dc9c41acae183720ec8d9d07": {
          "model_module": "@jupyter-widgets/controls",
          "model_name": "DescriptionStyleModel",
          "model_module_version": "1.5.0",
          "state": {
            "_model_module": "@jupyter-widgets/controls",
            "_model_module_version": "1.5.0",
            "_model_name": "DescriptionStyleModel",
            "_view_count": null,
            "_view_module": "@jupyter-widgets/base",
            "_view_module_version": "1.2.0",
            "_view_name": "StyleView",
            "description_width": ""
          }
        },
        "4c5488688fd54cb6a2455296e49105cb": {
          "model_module": "@jupyter-widgets/controls",
          "model_name": "ButtonModel",
          "model_module_version": "1.5.0",
          "state": {
            "_dom_classes": [],
            "_model_module": "@jupyter-widgets/controls",
            "_model_module_version": "1.5.0",
            "_model_name": "ButtonModel",
            "_view_count": null,
            "_view_module": "@jupyter-widgets/controls",
            "_view_module_version": "1.5.0",
            "_view_name": "ButtonView",
            "button_style": "",
            "description": "Submit",
            "disabled": false,
            "icon": "",
            "layout": "IPY_MODEL_06a69b15a5924536be69ccfefc336b1c",
            "style": "IPY_MODEL_2e4d12642b2e44b5920b65600efe7ebe",
            "tooltip": ""
          }
        },
        "06a69b15a5924536be69ccfefc336b1c": {
          "model_module": "@jupyter-widgets/base",
          "model_name": "LayoutModel",
          "model_module_version": "1.2.0",
          "state": {
            "_model_module": "@jupyter-widgets/base",
            "_model_module_version": "1.2.0",
            "_model_name": "LayoutModel",
            "_view_count": null,
            "_view_module": "@jupyter-widgets/base",
            "_view_module_version": "1.2.0",
            "_view_name": "LayoutView",
            "align_content": null,
            "align_items": null,
            "align_self": null,
            "border": null,
            "bottom": null,
            "display": null,
            "flex": null,
            "flex_flow": null,
            "grid_area": null,
            "grid_auto_columns": null,
            "grid_auto_flow": null,
            "grid_auto_rows": null,
            "grid_column": null,
            "grid_gap": null,
            "grid_row": null,
            "grid_template_areas": null,
            "grid_template_columns": null,
            "grid_template_rows": null,
            "height": null,
            "justify_content": null,
            "justify_items": null,
            "left": null,
            "margin": null,
            "max_height": null,
            "max_width": null,
            "min_height": null,
            "min_width": null,
            "object_fit": null,
            "object_position": null,
            "order": null,
            "overflow": null,
            "overflow_x": null,
            "overflow_y": null,
            "padding": null,
            "right": null,
            "top": null,
            "visibility": null,
            "width": null
          }
        },
        "2e4d12642b2e44b5920b65600efe7ebe": {
          "model_module": "@jupyter-widgets/controls",
          "model_name": "ButtonStyleModel",
          "model_module_version": "1.5.0",
          "state": {
            "_model_module": "@jupyter-widgets/controls",
            "_model_module_version": "1.5.0",
            "_model_name": "ButtonStyleModel",
            "_view_count": null,
            "_view_module": "@jupyter-widgets/base",
            "_view_module_version": "1.2.0",
            "_view_name": "StyleView",
            "button_color": null,
            "font_weight": ""
          }
        },
        "ce051e076daf4ff587a2bbc09ae50e6d": {
          "model_module": "@jupyter-widgets/controls",
          "model_name": "DropdownModel",
          "model_module_version": "1.5.0",
          "state": {
            "_dom_classes": [],
            "_model_module": "@jupyter-widgets/controls",
            "_model_module_version": "1.5.0",
            "_model_name": "DropdownModel",
            "_options_labels": [
              "1to2grams-filtered-table",
              "1to2grams-unfiltered-table",
              "topics-table"
            ],
            "_view_count": null,
            "_view_module": "@jupyter-widgets/controls",
            "_view_module_version": "1.5.0",
            "_view_name": "DropdownView",
            "description": "Feature Table:",
            "description_tooltip": null,
            "disabled": false,
            "index": 0,
            "layout": "IPY_MODEL_9f8c6aa3877a48458b53e725e90394f8",
            "style": "IPY_MODEL_c382dcfb82dd42c3b980ee38d74807ad"
          }
        },
        "9f8c6aa3877a48458b53e725e90394f8": {
          "model_module": "@jupyter-widgets/base",
          "model_name": "LayoutModel",
          "model_module_version": "1.2.0",
          "state": {
            "_model_module": "@jupyter-widgets/base",
            "_model_module_version": "1.2.0",
            "_model_name": "LayoutModel",
            "_view_count": null,
            "_view_module": "@jupyter-widgets/base",
            "_view_module_version": "1.2.0",
            "_view_name": "LayoutView",
            "align_content": null,
            "align_items": null,
            "align_self": null,
            "border": null,
            "bottom": null,
            "display": null,
            "flex": null,
            "flex_flow": null,
            "grid_area": null,
            "grid_auto_columns": null,
            "grid_auto_flow": null,
            "grid_auto_rows": null,
            "grid_column": null,
            "grid_gap": null,
            "grid_row": null,
            "grid_template_areas": null,
            "grid_template_columns": null,
            "grid_template_rows": null,
            "height": null,
            "justify_content": null,
            "justify_items": null,
            "left": null,
            "margin": null,
            "max_height": null,
            "max_width": null,
            "min_height": null,
            "min_width": null,
            "object_fit": null,
            "object_position": null,
            "order": null,
            "overflow": null,
            "overflow_x": null,
            "overflow_y": null,
            "padding": null,
            "right": null,
            "top": null,
            "visibility": null,
            "width": null
          }
        },
        "c382dcfb82dd42c3b980ee38d74807ad": {
          "model_module": "@jupyter-widgets/controls",
          "model_name": "DescriptionStyleModel",
          "model_module_version": "1.5.0",
          "state": {
            "_model_module": "@jupyter-widgets/controls",
            "_model_module_version": "1.5.0",
            "_model_name": "DescriptionStyleModel",
            "_view_count": null,
            "_view_module": "@jupyter-widgets/base",
            "_view_module_version": "1.2.0",
            "_view_name": "StyleView",
            "description_width": ""
          }
        },
        "13e010bcf7dc4a6a9bd73e8c1c0309ff": {
          "model_module": "@jupyter-widgets/controls",
          "model_name": "DropdownModel",
          "model_module_version": "1.5.0",
          "state": {
            "_dom_classes": [],
            "_model_module": "@jupyter-widgets/controls",
            "_model_module_version": "1.5.0",
            "_model_name": "DropdownModel",
            "_options_labels": [
              "lasso",
              "lassocv",
              "elasticnet",
              "elasticnetcv",
              "lassolars",
              "lassolarscv",
              "lars",
              "ridge",
              "ridge.01",
              "ridge.001",
              "ridge250",
              "ridge10000",
              "ridge100000",
              "ridge100k",
              "ridge1000",
              "ridge100",
              "ridge10",
              "ridge1",
              "ridge1m",
              "ridge10m",
              "ridge100m",
              "ridgecv",
              "ridgefirstpasscv",
              "ridgehighcv",
              "ridgeveryhighcv",
              "ridgelowcv",
              "rpcridgecv",
              "linear",
              "svr",
              "sgdregressor",
              "extratrees",
              "par"
            ],
            "_view_count": null,
            "_view_module": "@jupyter-widgets/controls",
            "_view_module_version": "1.5.0",
            "_view_name": "DropdownView",
            "description": "Model:",
            "description_tooltip": null,
            "disabled": false,
            "index": 23,
            "layout": "IPY_MODEL_ff3f790851c54d549862ed424fb0fe1b",
            "style": "IPY_MODEL_9c30b093a2814ffb91e3e16864f76818"
          }
        },
        "ff3f790851c54d549862ed424fb0fe1b": {
          "model_module": "@jupyter-widgets/base",
          "model_name": "LayoutModel",
          "model_module_version": "1.2.0",
          "state": {
            "_model_module": "@jupyter-widgets/base",
            "_model_module_version": "1.2.0",
            "_model_name": "LayoutModel",
            "_view_count": null,
            "_view_module": "@jupyter-widgets/base",
            "_view_module_version": "1.2.0",
            "_view_name": "LayoutView",
            "align_content": null,
            "align_items": null,
            "align_self": null,
            "border": null,
            "bottom": null,
            "display": null,
            "flex": null,
            "flex_flow": null,
            "grid_area": null,
            "grid_auto_columns": null,
            "grid_auto_flow": null,
            "grid_auto_rows": null,
            "grid_column": null,
            "grid_gap": null,
            "grid_row": null,
            "grid_template_areas": null,
            "grid_template_columns": null,
            "grid_template_rows": null,
            "height": null,
            "justify_content": null,
            "justify_items": null,
            "left": null,
            "margin": null,
            "max_height": null,
            "max_width": null,
            "min_height": null,
            "min_width": null,
            "object_fit": null,
            "object_position": null,
            "order": null,
            "overflow": null,
            "overflow_x": null,
            "overflow_y": null,
            "padding": null,
            "right": null,
            "top": null,
            "visibility": null,
            "width": null
          }
        },
        "9c30b093a2814ffb91e3e16864f76818": {
          "model_module": "@jupyter-widgets/controls",
          "model_name": "DescriptionStyleModel",
          "model_module_version": "1.5.0",
          "state": {
            "_model_module": "@jupyter-widgets/controls",
            "_model_module_version": "1.5.0",
            "_model_name": "DescriptionStyleModel",
            "_view_count": null,
            "_view_module": "@jupyter-widgets/base",
            "_view_module_version": "1.2.0",
            "_view_name": "StyleView",
            "description_width": ""
          }
        },
        "cd96f7c58b2a4ad6bc3fee0757c3c917": {
          "model_module": "@jupyter-widgets/controls",
          "model_name": "LabelModel",
          "model_module_version": "1.5.0",
          "state": {
            "_dom_classes": [],
            "_model_module": "@jupyter-widgets/controls",
            "_model_module_version": "1.5.0",
            "_model_name": "LabelModel",
            "_view_count": null,
            "_view_module": "@jupyter-widgets/controls",
            "_view_module_version": "1.5.0",
            "_view_name": "LabelView",
            "description": "",
            "description_tooltip": null,
            "layout": "IPY_MODEL_c17b3393cc244446a316db5462dccd27",
            "placeholder": "​",
            "style": "IPY_MODEL_1969637b4b354561b6ac203e84f3b556",
            "value": "Outcomes:"
          }
        },
        "c17b3393cc244446a316db5462dccd27": {
          "model_module": "@jupyter-widgets/base",
          "model_name": "LayoutModel",
          "model_module_version": "1.2.0",
          "state": {
            "_model_module": "@jupyter-widgets/base",
            "_model_module_version": "1.2.0",
            "_model_name": "LayoutModel",
            "_view_count": null,
            "_view_module": "@jupyter-widgets/base",
            "_view_module_version": "1.2.0",
            "_view_name": "LayoutView",
            "align_content": null,
            "align_items": null,
            "align_self": null,
            "border": null,
            "bottom": null,
            "display": null,
            "flex": null,
            "flex_flow": null,
            "grid_area": null,
            "grid_auto_columns": null,
            "grid_auto_flow": null,
            "grid_auto_rows": null,
            "grid_column": null,
            "grid_gap": null,
            "grid_row": null,
            "grid_template_areas": null,
            "grid_template_columns": null,
            "grid_template_rows": null,
            "height": null,
            "justify_content": null,
            "justify_items": null,
            "left": null,
            "margin": null,
            "max_height": null,
            "max_width": null,
            "min_height": null,
            "min_width": null,
            "object_fit": null,
            "object_position": null,
            "order": null,
            "overflow": null,
            "overflow_x": null,
            "overflow_y": null,
            "padding": null,
            "right": null,
            "top": null,
            "visibility": null,
            "width": null
          }
        },
        "1969637b4b354561b6ac203e84f3b556": {
          "model_module": "@jupyter-widgets/controls",
          "model_name": "DescriptionStyleModel",
          "model_module_version": "1.5.0",
          "state": {
            "_model_module": "@jupyter-widgets/controls",
            "_model_module_version": "1.5.0",
            "_model_name": "DescriptionStyleModel",
            "_view_count": null,
            "_view_module": "@jupyter-widgets/base",
            "_view_module_version": "1.2.0",
            "_view_name": "StyleView",
            "description_width": ""
          }
        },
        "c945ad5beead487ea1b1e2cb939ee68f": {
          "model_module": "@jupyter-widgets/controls",
          "model_name": "CheckboxModel",
          "model_module_version": "1.5.0",
          "state": {
            "_dom_classes": [],
            "_model_module": "@jupyter-widgets/controls",
            "_model_module_version": "1.5.0",
            "_model_name": "CheckboxModel",
            "_view_count": null,
            "_view_module": "@jupyter-widgets/controls",
            "_view_module_version": "1.5.0",
            "_view_name": "CheckboxView",
            "description": "gender",
            "description_tooltip": null,
            "disabled": false,
            "indent": true,
            "layout": "IPY_MODEL_3e37940e71304f119bd9599a85c048e3",
            "style": "IPY_MODEL_afb5bce4d3434cb499efbb956d3fbc3d",
            "value": false
          }
        },
        "3e37940e71304f119bd9599a85c048e3": {
          "model_module": "@jupyter-widgets/base",
          "model_name": "LayoutModel",
          "model_module_version": "1.2.0",
          "state": {
            "_model_module": "@jupyter-widgets/base",
            "_model_module_version": "1.2.0",
            "_model_name": "LayoutModel",
            "_view_count": null,
            "_view_module": "@jupyter-widgets/base",
            "_view_module_version": "1.2.0",
            "_view_name": "LayoutView",
            "align_content": null,
            "align_items": null,
            "align_self": null,
            "border": null,
            "bottom": null,
            "display": null,
            "flex": null,
            "flex_flow": null,
            "grid_area": null,
            "grid_auto_columns": null,
            "grid_auto_flow": null,
            "grid_auto_rows": null,
            "grid_column": null,
            "grid_gap": null,
            "grid_row": null,
            "grid_template_areas": null,
            "grid_template_columns": null,
            "grid_template_rows": null,
            "height": null,
            "justify_content": null,
            "justify_items": null,
            "left": null,
            "margin": null,
            "max_height": null,
            "max_width": null,
            "min_height": null,
            "min_width": null,
            "object_fit": null,
            "object_position": null,
            "order": null,
            "overflow": null,
            "overflow_x": null,
            "overflow_y": null,
            "padding": null,
            "right": null,
            "top": null,
            "visibility": null,
            "width": null
          }
        },
        "afb5bce4d3434cb499efbb956d3fbc3d": {
          "model_module": "@jupyter-widgets/controls",
          "model_name": "DescriptionStyleModel",
          "model_module_version": "1.5.0",
          "state": {
            "_model_module": "@jupyter-widgets/controls",
            "_model_module_version": "1.5.0",
            "_model_name": "DescriptionStyleModel",
            "_view_count": null,
            "_view_module": "@jupyter-widgets/base",
            "_view_module_version": "1.2.0",
            "_view_name": "StyleView",
            "description_width": ""
          }
        },
        "2bd5ddd6e8624aa9ae720e1783d92447": {
          "model_module": "@jupyter-widgets/controls",
          "model_name": "CheckboxModel",
          "model_module_version": "1.5.0",
          "state": {
            "_dom_classes": [],
            "_model_module": "@jupyter-widgets/controls",
            "_model_module_version": "1.5.0",
            "_model_name": "CheckboxModel",
            "_view_count": null,
            "_view_module": "@jupyter-widgets/controls",
            "_view_module_version": "1.5.0",
            "_view_name": "CheckboxView",
            "description": "age",
            "description_tooltip": null,
            "disabled": false,
            "indent": true,
            "layout": "IPY_MODEL_1c814b0debfc431394bce71ec39a7979",
            "style": "IPY_MODEL_35e0c67d82bc4ee9a8efcea428fb86a3",
            "value": false
          }
        },
        "1c814b0debfc431394bce71ec39a7979": {
          "model_module": "@jupyter-widgets/base",
          "model_name": "LayoutModel",
          "model_module_version": "1.2.0",
          "state": {
            "_model_module": "@jupyter-widgets/base",
            "_model_module_version": "1.2.0",
            "_model_name": "LayoutModel",
            "_view_count": null,
            "_view_module": "@jupyter-widgets/base",
            "_view_module_version": "1.2.0",
            "_view_name": "LayoutView",
            "align_content": null,
            "align_items": null,
            "align_self": null,
            "border": null,
            "bottom": null,
            "display": null,
            "flex": null,
            "flex_flow": null,
            "grid_area": null,
            "grid_auto_columns": null,
            "grid_auto_flow": null,
            "grid_auto_rows": null,
            "grid_column": null,
            "grid_gap": null,
            "grid_row": null,
            "grid_template_areas": null,
            "grid_template_columns": null,
            "grid_template_rows": null,
            "height": null,
            "justify_content": null,
            "justify_items": null,
            "left": null,
            "margin": null,
            "max_height": null,
            "max_width": null,
            "min_height": null,
            "min_width": null,
            "object_fit": null,
            "object_position": null,
            "order": null,
            "overflow": null,
            "overflow_x": null,
            "overflow_y": null,
            "padding": null,
            "right": null,
            "top": null,
            "visibility": null,
            "width": null
          }
        },
        "35e0c67d82bc4ee9a8efcea428fb86a3": {
          "model_module": "@jupyter-widgets/controls",
          "model_name": "DescriptionStyleModel",
          "model_module_version": "1.5.0",
          "state": {
            "_model_module": "@jupyter-widgets/controls",
            "_model_module_version": "1.5.0",
            "_model_name": "DescriptionStyleModel",
            "_view_count": null,
            "_view_module": "@jupyter-widgets/base",
            "_view_module_version": "1.2.0",
            "_view_name": "StyleView",
            "description_width": ""
          }
        },
        "ec8074ce592043299c5339c279e3b86c": {
          "model_module": "@jupyter-widgets/controls",
          "model_name": "CheckboxModel",
          "model_module_version": "1.5.0",
          "state": {
            "_dom_classes": [],
            "_model_module": "@jupyter-widgets/controls",
            "_model_module_version": "1.5.0",
            "_model_name": "CheckboxModel",
            "_view_count": null,
            "_view_module": "@jupyter-widgets/controls",
            "_view_module_version": "1.5.0",
            "_view_name": "CheckboxView",
            "description": "occu",
            "description_tooltip": null,
            "disabled": false,
            "indent": true,
            "layout": "IPY_MODEL_19ba2ea607a449588fcc5fc50b977566",
            "style": "IPY_MODEL_0d5b3cbac0954695a838c876c2a7a73c",
            "value": false
          }
        },
        "19ba2ea607a449588fcc5fc50b977566": {
          "model_module": "@jupyter-widgets/base",
          "model_name": "LayoutModel",
          "model_module_version": "1.2.0",
          "state": {
            "_model_module": "@jupyter-widgets/base",
            "_model_module_version": "1.2.0",
            "_model_name": "LayoutModel",
            "_view_count": null,
            "_view_module": "@jupyter-widgets/base",
            "_view_module_version": "1.2.0",
            "_view_name": "LayoutView",
            "align_content": null,
            "align_items": null,
            "align_self": null,
            "border": null,
            "bottom": null,
            "display": null,
            "flex": null,
            "flex_flow": null,
            "grid_area": null,
            "grid_auto_columns": null,
            "grid_auto_flow": null,
            "grid_auto_rows": null,
            "grid_column": null,
            "grid_gap": null,
            "grid_row": null,
            "grid_template_areas": null,
            "grid_template_columns": null,
            "grid_template_rows": null,
            "height": null,
            "justify_content": null,
            "justify_items": null,
            "left": null,
            "margin": null,
            "max_height": null,
            "max_width": null,
            "min_height": null,
            "min_width": null,
            "object_fit": null,
            "object_position": null,
            "order": null,
            "overflow": null,
            "overflow_x": null,
            "overflow_y": null,
            "padding": null,
            "right": null,
            "top": null,
            "visibility": null,
            "width": null
          }
        },
        "0d5b3cbac0954695a838c876c2a7a73c": {
          "model_module": "@jupyter-widgets/controls",
          "model_name": "DescriptionStyleModel",
          "model_module_version": "1.5.0",
          "state": {
            "_model_module": "@jupyter-widgets/controls",
            "_model_module_version": "1.5.0",
            "_model_name": "DescriptionStyleModel",
            "_view_count": null,
            "_view_module": "@jupyter-widgets/base",
            "_view_module_version": "1.2.0",
            "_view_name": "StyleView",
            "description_width": ""
          }
        },
        "e85bac993d2c491c8e1d04c632510fee": {
          "model_module": "@jupyter-widgets/controls",
          "model_name": "CheckboxModel",
          "model_module_version": "1.5.0",
          "state": {
            "_dom_classes": [],
            "_model_module": "@jupyter-widgets/controls",
            "_model_module_version": "1.5.0",
            "_model_name": "CheckboxModel",
            "_view_count": null,
            "_view_module": "@jupyter-widgets/controls",
            "_view_module_version": "1.5.0",
            "_view_name": "CheckboxView",
            "description": "is_student",
            "description_tooltip": null,
            "disabled": false,
            "indent": true,
            "layout": "IPY_MODEL_e9a5ee6366d24d7c9677435856577892",
            "style": "IPY_MODEL_3f2168f19c8045bbaad90d5087bfe357",
            "value": false
          }
        },
        "e9a5ee6366d24d7c9677435856577892": {
          "model_module": "@jupyter-widgets/base",
          "model_name": "LayoutModel",
          "model_module_version": "1.2.0",
          "state": {
            "_model_module": "@jupyter-widgets/base",
            "_model_module_version": "1.2.0",
            "_model_name": "LayoutModel",
            "_view_count": null,
            "_view_module": "@jupyter-widgets/base",
            "_view_module_version": "1.2.0",
            "_view_name": "LayoutView",
            "align_content": null,
            "align_items": null,
            "align_self": null,
            "border": null,
            "bottom": null,
            "display": null,
            "flex": null,
            "flex_flow": null,
            "grid_area": null,
            "grid_auto_columns": null,
            "grid_auto_flow": null,
            "grid_auto_rows": null,
            "grid_column": null,
            "grid_gap": null,
            "grid_row": null,
            "grid_template_areas": null,
            "grid_template_columns": null,
            "grid_template_rows": null,
            "height": null,
            "justify_content": null,
            "justify_items": null,
            "left": null,
            "margin": null,
            "max_height": null,
            "max_width": null,
            "min_height": null,
            "min_width": null,
            "object_fit": null,
            "object_position": null,
            "order": null,
            "overflow": null,
            "overflow_x": null,
            "overflow_y": null,
            "padding": null,
            "right": null,
            "top": null,
            "visibility": null,
            "width": null
          }
        },
        "3f2168f19c8045bbaad90d5087bfe357": {
          "model_module": "@jupyter-widgets/controls",
          "model_name": "DescriptionStyleModel",
          "model_module_version": "1.5.0",
          "state": {
            "_model_module": "@jupyter-widgets/controls",
            "_model_module_version": "1.5.0",
            "_model_name": "DescriptionStyleModel",
            "_view_count": null,
            "_view_module": "@jupyter-widgets/base",
            "_view_module_version": "1.2.0",
            "_view_name": "StyleView",
            "description_width": ""
          }
        },
        "b85658a339b5483883b2e1945bd9ea24": {
          "model_module": "@jupyter-widgets/controls",
          "model_name": "ButtonModel",
          "model_module_version": "1.5.0",
          "state": {
            "_dom_classes": [],
            "_model_module": "@jupyter-widgets/controls",
            "_model_module_version": "1.5.0",
            "_model_name": "ButtonModel",
            "_view_count": null,
            "_view_module": "@jupyter-widgets/controls",
            "_view_module_version": "1.5.0",
            "_view_name": "ButtonView",
            "button_style": "",
            "description": "Submit",
            "disabled": false,
            "icon": "",
            "layout": "IPY_MODEL_d574b362acf140a5911b665c9212dca4",
            "style": "IPY_MODEL_9b1a118b430b4da68bea46c90db7595b",
            "tooltip": ""
          }
        },
        "d574b362acf140a5911b665c9212dca4": {
          "model_module": "@jupyter-widgets/base",
          "model_name": "LayoutModel",
          "model_module_version": "1.2.0",
          "state": {
            "_model_module": "@jupyter-widgets/base",
            "_model_module_version": "1.2.0",
            "_model_name": "LayoutModel",
            "_view_count": null,
            "_view_module": "@jupyter-widgets/base",
            "_view_module_version": "1.2.0",
            "_view_name": "LayoutView",
            "align_content": null,
            "align_items": null,
            "align_self": null,
            "border": null,
            "bottom": null,
            "display": null,
            "flex": null,
            "flex_flow": null,
            "grid_area": null,
            "grid_auto_columns": null,
            "grid_auto_flow": null,
            "grid_auto_rows": null,
            "grid_column": null,
            "grid_gap": null,
            "grid_row": null,
            "grid_template_areas": null,
            "grid_template_columns": null,
            "grid_template_rows": null,
            "height": null,
            "justify_content": null,
            "justify_items": null,
            "left": null,
            "margin": null,
            "max_height": null,
            "max_width": null,
            "min_height": null,
            "min_width": null,
            "object_fit": null,
            "object_position": null,
            "order": null,
            "overflow": null,
            "overflow_x": null,
            "overflow_y": null,
            "padding": null,
            "right": null,
            "top": null,
            "visibility": null,
            "width": null
          }
        },
        "9b1a118b430b4da68bea46c90db7595b": {
          "model_module": "@jupyter-widgets/controls",
          "model_name": "ButtonStyleModel",
          "model_module_version": "1.5.0",
          "state": {
            "_model_module": "@jupyter-widgets/controls",
            "_model_module_version": "1.5.0",
            "_model_name": "ButtonStyleModel",
            "_view_count": null,
            "_view_module": "@jupyter-widgets/base",
            "_view_module_version": "1.2.0",
            "_view_name": "StyleView",
            "button_color": null,
            "font_weight": ""
          }
        },
        "57ccf30dd3684bea8c9d10dff1b8e83c": {
          "model_module": "@jupyter-widgets/controls",
          "model_name": "DropdownModel",
          "model_module_version": "1.5.0",
          "state": {
            "_dom_classes": [],
            "_model_module": "@jupyter-widgets/controls",
            "_model_module_version": "1.5.0",
            "_model_name": "DropdownModel",
            "_options_labels": [
              "1to2grams-filtered-table",
              "1to2grams-unfiltered-table",
              "topics-table"
            ],
            "_view_count": null,
            "_view_module": "@jupyter-widgets/controls",
            "_view_module_version": "1.5.0",
            "_view_name": "DropdownView",
            "description": "Feature Table:",
            "description_tooltip": null,
            "disabled": false,
            "index": 0,
            "layout": "IPY_MODEL_ad847b69c75d4103ad81365e665c9b4f",
            "style": "IPY_MODEL_43cc87ca8ce743a1b234292ab217718b"
          }
        },
        "ad847b69c75d4103ad81365e665c9b4f": {
          "model_module": "@jupyter-widgets/base",
          "model_name": "LayoutModel",
          "model_module_version": "1.2.0",
          "state": {
            "_model_module": "@jupyter-widgets/base",
            "_model_module_version": "1.2.0",
            "_model_name": "LayoutModel",
            "_view_count": null,
            "_view_module": "@jupyter-widgets/base",
            "_view_module_version": "1.2.0",
            "_view_name": "LayoutView",
            "align_content": null,
            "align_items": null,
            "align_self": null,
            "border": null,
            "bottom": null,
            "display": null,
            "flex": null,
            "flex_flow": null,
            "grid_area": null,
            "grid_auto_columns": null,
            "grid_auto_flow": null,
            "grid_auto_rows": null,
            "grid_column": null,
            "grid_gap": null,
            "grid_row": null,
            "grid_template_areas": null,
            "grid_template_columns": null,
            "grid_template_rows": null,
            "height": null,
            "justify_content": null,
            "justify_items": null,
            "left": null,
            "margin": null,
            "max_height": null,
            "max_width": null,
            "min_height": null,
            "min_width": null,
            "object_fit": null,
            "object_position": null,
            "order": null,
            "overflow": null,
            "overflow_x": null,
            "overflow_y": null,
            "padding": null,
            "right": null,
            "top": null,
            "visibility": null,
            "width": null
          }
        },
        "43cc87ca8ce743a1b234292ab217718b": {
          "model_module": "@jupyter-widgets/controls",
          "model_name": "DescriptionStyleModel",
          "model_module_version": "1.5.0",
          "state": {
            "_model_module": "@jupyter-widgets/controls",
            "_model_module_version": "1.5.0",
            "_model_name": "DescriptionStyleModel",
            "_view_count": null,
            "_view_module": "@jupyter-widgets/base",
            "_view_module_version": "1.2.0",
            "_view_name": "StyleView",
            "description_width": ""
          }
        },
        "28d5c11943a8442ab8f0463789c15968": {
          "model_module": "@jupyter-widgets/controls",
          "model_name": "DropdownModel",
          "model_module_version": "1.5.0",
          "state": {
            "_dom_classes": [],
            "_model_module": "@jupyter-widgets/controls",
            "_model_module_version": "1.5.0",
            "_model_name": "DropdownModel",
            "_options_labels": [
              "lr",
              "lr1",
              "lr_balanced",
              "lrnone",
              "linear-svc",
              "svc",
              "etc",
              "rfc",
              "pac",
              "gbc",
              "mnb",
              "gnb",
              "bnb",
              "mlp"
            ],
            "_view_count": null,
            "_view_module": "@jupyter-widgets/controls",
            "_view_module_version": "1.5.0",
            "_view_name": "DropdownView",
            "description": "Model:",
            "description_tooltip": null,
            "disabled": false,
            "index": 0,
            "layout": "IPY_MODEL_68c10c12f93a4d9aba0de1afa37f8644",
            "style": "IPY_MODEL_60396f4c3d434941a6febb1cf93f3404"
          }
        },
        "68c10c12f93a4d9aba0de1afa37f8644": {
          "model_module": "@jupyter-widgets/base",
          "model_name": "LayoutModel",
          "model_module_version": "1.2.0",
          "state": {
            "_model_module": "@jupyter-widgets/base",
            "_model_module_version": "1.2.0",
            "_model_name": "LayoutModel",
            "_view_count": null,
            "_view_module": "@jupyter-widgets/base",
            "_view_module_version": "1.2.0",
            "_view_name": "LayoutView",
            "align_content": null,
            "align_items": null,
            "align_self": null,
            "border": null,
            "bottom": null,
            "display": null,
            "flex": null,
            "flex_flow": null,
            "grid_area": null,
            "grid_auto_columns": null,
            "grid_auto_flow": null,
            "grid_auto_rows": null,
            "grid_column": null,
            "grid_gap": null,
            "grid_row": null,
            "grid_template_areas": null,
            "grid_template_columns": null,
            "grid_template_rows": null,
            "height": null,
            "justify_content": null,
            "justify_items": null,
            "left": null,
            "margin": null,
            "max_height": null,
            "max_width": null,
            "min_height": null,
            "min_width": null,
            "object_fit": null,
            "object_position": null,
            "order": null,
            "overflow": null,
            "overflow_x": null,
            "overflow_y": null,
            "padding": null,
            "right": null,
            "top": null,
            "visibility": null,
            "width": null
          }
        },
        "60396f4c3d434941a6febb1cf93f3404": {
          "model_module": "@jupyter-widgets/controls",
          "model_name": "DescriptionStyleModel",
          "model_module_version": "1.5.0",
          "state": {
            "_model_module": "@jupyter-widgets/controls",
            "_model_module_version": "1.5.0",
            "_model_name": "DescriptionStyleModel",
            "_view_count": null,
            "_view_module": "@jupyter-widgets/base",
            "_view_module_version": "1.2.0",
            "_view_name": "StyleView",
            "description_width": ""
          }
        },
        "8acde0bb5a9a482292290ac1c7ab93e2": {
          "model_module": "@jupyter-widgets/controls",
          "model_name": "LabelModel",
          "model_module_version": "1.5.0",
          "state": {
            "_dom_classes": [],
            "_model_module": "@jupyter-widgets/controls",
            "_model_module_version": "1.5.0",
            "_model_name": "LabelModel",
            "_view_count": null,
            "_view_module": "@jupyter-widgets/controls",
            "_view_module_version": "1.5.0",
            "_view_name": "LabelView",
            "description": "",
            "description_tooltip": null,
            "layout": "IPY_MODEL_b3a6e257af35409a8105cb95565d5233",
            "placeholder": "​",
            "style": "IPY_MODEL_b6a0d9822a0b4d7c907cae8e7802aaac",
            "value": "Outcomes:"
          }
        },
        "b3a6e257af35409a8105cb95565d5233": {
          "model_module": "@jupyter-widgets/base",
          "model_name": "LayoutModel",
          "model_module_version": "1.2.0",
          "state": {
            "_model_module": "@jupyter-widgets/base",
            "_model_module_version": "1.2.0",
            "_model_name": "LayoutModel",
            "_view_count": null,
            "_view_module": "@jupyter-widgets/base",
            "_view_module_version": "1.2.0",
            "_view_name": "LayoutView",
            "align_content": null,
            "align_items": null,
            "align_self": null,
            "border": null,
            "bottom": null,
            "display": null,
            "flex": null,
            "flex_flow": null,
            "grid_area": null,
            "grid_auto_columns": null,
            "grid_auto_flow": null,
            "grid_auto_rows": null,
            "grid_column": null,
            "grid_gap": null,
            "grid_row": null,
            "grid_template_areas": null,
            "grid_template_columns": null,
            "grid_template_rows": null,
            "height": null,
            "justify_content": null,
            "justify_items": null,
            "left": null,
            "margin": null,
            "max_height": null,
            "max_width": null,
            "min_height": null,
            "min_width": null,
            "object_fit": null,
            "object_position": null,
            "order": null,
            "overflow": null,
            "overflow_x": null,
            "overflow_y": null,
            "padding": null,
            "right": null,
            "top": null,
            "visibility": null,
            "width": null
          }
        },
        "b6a0d9822a0b4d7c907cae8e7802aaac": {
          "model_module": "@jupyter-widgets/controls",
          "model_name": "DescriptionStyleModel",
          "model_module_version": "1.5.0",
          "state": {
            "_model_module": "@jupyter-widgets/controls",
            "_model_module_version": "1.5.0",
            "_model_name": "DescriptionStyleModel",
            "_view_count": null,
            "_view_module": "@jupyter-widgets/base",
            "_view_module_version": "1.2.0",
            "_view_name": "StyleView",
            "description_width": ""
          }
        },
        "a085f5f43b1040b1a557123f6bcdd9b5": {
          "model_module": "@jupyter-widgets/controls",
          "model_name": "CheckboxModel",
          "model_module_version": "1.5.0",
          "state": {
            "_dom_classes": [],
            "_model_module": "@jupyter-widgets/controls",
            "_model_module_version": "1.5.0",
            "_model_name": "CheckboxModel",
            "_view_count": null,
            "_view_module": "@jupyter-widgets/controls",
            "_view_module_version": "1.5.0",
            "_view_name": "CheckboxView",
            "description": "gender",
            "description_tooltip": null,
            "disabled": false,
            "indent": true,
            "layout": "IPY_MODEL_6e05aa9f4c7548c6aca4c0cb58e958d5",
            "style": "IPY_MODEL_a63290976e994252b752ef30a35782b9",
            "value": false
          }
        },
        "6e05aa9f4c7548c6aca4c0cb58e958d5": {
          "model_module": "@jupyter-widgets/base",
          "model_name": "LayoutModel",
          "model_module_version": "1.2.0",
          "state": {
            "_model_module": "@jupyter-widgets/base",
            "_model_module_version": "1.2.0",
            "_model_name": "LayoutModel",
            "_view_count": null,
            "_view_module": "@jupyter-widgets/base",
            "_view_module_version": "1.2.0",
            "_view_name": "LayoutView",
            "align_content": null,
            "align_items": null,
            "align_self": null,
            "border": null,
            "bottom": null,
            "display": null,
            "flex": null,
            "flex_flow": null,
            "grid_area": null,
            "grid_auto_columns": null,
            "grid_auto_flow": null,
            "grid_auto_rows": null,
            "grid_column": null,
            "grid_gap": null,
            "grid_row": null,
            "grid_template_areas": null,
            "grid_template_columns": null,
            "grid_template_rows": null,
            "height": null,
            "justify_content": null,
            "justify_items": null,
            "left": null,
            "margin": null,
            "max_height": null,
            "max_width": null,
            "min_height": null,
            "min_width": null,
            "object_fit": null,
            "object_position": null,
            "order": null,
            "overflow": null,
            "overflow_x": null,
            "overflow_y": null,
            "padding": null,
            "right": null,
            "top": null,
            "visibility": null,
            "width": null
          }
        },
        "a63290976e994252b752ef30a35782b9": {
          "model_module": "@jupyter-widgets/controls",
          "model_name": "DescriptionStyleModel",
          "model_module_version": "1.5.0",
          "state": {
            "_model_module": "@jupyter-widgets/controls",
            "_model_module_version": "1.5.0",
            "_model_name": "DescriptionStyleModel",
            "_view_count": null,
            "_view_module": "@jupyter-widgets/base",
            "_view_module_version": "1.2.0",
            "_view_name": "StyleView",
            "description_width": ""
          }
        },
        "a43117da214a4d81b6e62f5ee1349650": {
          "model_module": "@jupyter-widgets/controls",
          "model_name": "CheckboxModel",
          "model_module_version": "1.5.0",
          "state": {
            "_dom_classes": [],
            "_model_module": "@jupyter-widgets/controls",
            "_model_module_version": "1.5.0",
            "_model_name": "CheckboxModel",
            "_view_count": null,
            "_view_module": "@jupyter-widgets/controls",
            "_view_module_version": "1.5.0",
            "_view_name": "CheckboxView",
            "description": "age",
            "description_tooltip": null,
            "disabled": false,
            "indent": true,
            "layout": "IPY_MODEL_cc91ed14fa3941a5bd1e10039bf45479",
            "style": "IPY_MODEL_ef115963f5814cc2827c4cc74df29207",
            "value": false
          }
        },
        "cc91ed14fa3941a5bd1e10039bf45479": {
          "model_module": "@jupyter-widgets/base",
          "model_name": "LayoutModel",
          "model_module_version": "1.2.0",
          "state": {
            "_model_module": "@jupyter-widgets/base",
            "_model_module_version": "1.2.0",
            "_model_name": "LayoutModel",
            "_view_count": null,
            "_view_module": "@jupyter-widgets/base",
            "_view_module_version": "1.2.0",
            "_view_name": "LayoutView",
            "align_content": null,
            "align_items": null,
            "align_self": null,
            "border": null,
            "bottom": null,
            "display": null,
            "flex": null,
            "flex_flow": null,
            "grid_area": null,
            "grid_auto_columns": null,
            "grid_auto_flow": null,
            "grid_auto_rows": null,
            "grid_column": null,
            "grid_gap": null,
            "grid_row": null,
            "grid_template_areas": null,
            "grid_template_columns": null,
            "grid_template_rows": null,
            "height": null,
            "justify_content": null,
            "justify_items": null,
            "left": null,
            "margin": null,
            "max_height": null,
            "max_width": null,
            "min_height": null,
            "min_width": null,
            "object_fit": null,
            "object_position": null,
            "order": null,
            "overflow": null,
            "overflow_x": null,
            "overflow_y": null,
            "padding": null,
            "right": null,
            "top": null,
            "visibility": null,
            "width": null
          }
        },
        "ef115963f5814cc2827c4cc74df29207": {
          "model_module": "@jupyter-widgets/controls",
          "model_name": "DescriptionStyleModel",
          "model_module_version": "1.5.0",
          "state": {
            "_model_module": "@jupyter-widgets/controls",
            "_model_module_version": "1.5.0",
            "_model_name": "DescriptionStyleModel",
            "_view_count": null,
            "_view_module": "@jupyter-widgets/base",
            "_view_module_version": "1.2.0",
            "_view_name": "StyleView",
            "description_width": ""
          }
        },
        "54282d1d7c1c4bb496150efc4532751a": {
          "model_module": "@jupyter-widgets/controls",
          "model_name": "CheckboxModel",
          "model_module_version": "1.5.0",
          "state": {
            "_dom_classes": [],
            "_model_module": "@jupyter-widgets/controls",
            "_model_module_version": "1.5.0",
            "_model_name": "CheckboxModel",
            "_view_count": null,
            "_view_module": "@jupyter-widgets/controls",
            "_view_module_version": "1.5.0",
            "_view_name": "CheckboxView",
            "description": "occu",
            "description_tooltip": null,
            "disabled": false,
            "indent": true,
            "layout": "IPY_MODEL_148adf35ab49447bbe568191abb5be79",
            "style": "IPY_MODEL_29e67f34ab9442f690933fc20f552865",
            "value": false
          }
        },
        "148adf35ab49447bbe568191abb5be79": {
          "model_module": "@jupyter-widgets/base",
          "model_name": "LayoutModel",
          "model_module_version": "1.2.0",
          "state": {
            "_model_module": "@jupyter-widgets/base",
            "_model_module_version": "1.2.0",
            "_model_name": "LayoutModel",
            "_view_count": null,
            "_view_module": "@jupyter-widgets/base",
            "_view_module_version": "1.2.0",
            "_view_name": "LayoutView",
            "align_content": null,
            "align_items": null,
            "align_self": null,
            "border": null,
            "bottom": null,
            "display": null,
            "flex": null,
            "flex_flow": null,
            "grid_area": null,
            "grid_auto_columns": null,
            "grid_auto_flow": null,
            "grid_auto_rows": null,
            "grid_column": null,
            "grid_gap": null,
            "grid_row": null,
            "grid_template_areas": null,
            "grid_template_columns": null,
            "grid_template_rows": null,
            "height": null,
            "justify_content": null,
            "justify_items": null,
            "left": null,
            "margin": null,
            "max_height": null,
            "max_width": null,
            "min_height": null,
            "min_width": null,
            "object_fit": null,
            "object_position": null,
            "order": null,
            "overflow": null,
            "overflow_x": null,
            "overflow_y": null,
            "padding": null,
            "right": null,
            "top": null,
            "visibility": null,
            "width": null
          }
        },
        "29e67f34ab9442f690933fc20f552865": {
          "model_module": "@jupyter-widgets/controls",
          "model_name": "DescriptionStyleModel",
          "model_module_version": "1.5.0",
          "state": {
            "_model_module": "@jupyter-widgets/controls",
            "_model_module_version": "1.5.0",
            "_model_name": "DescriptionStyleModel",
            "_view_count": null,
            "_view_module": "@jupyter-widgets/base",
            "_view_module_version": "1.2.0",
            "_view_name": "StyleView",
            "description_width": ""
          }
        },
        "02a2049137174731af1ccf462c6884bc": {
          "model_module": "@jupyter-widgets/controls",
          "model_name": "CheckboxModel",
          "model_module_version": "1.5.0",
          "state": {
            "_dom_classes": [],
            "_model_module": "@jupyter-widgets/controls",
            "_model_module_version": "1.5.0",
            "_model_name": "CheckboxModel",
            "_view_count": null,
            "_view_module": "@jupyter-widgets/controls",
            "_view_module_version": "1.5.0",
            "_view_name": "CheckboxView",
            "description": "is_student",
            "description_tooltip": null,
            "disabled": false,
            "indent": true,
            "layout": "IPY_MODEL_b4b996674c7c4f4bbb970c1509e73d2f",
            "style": "IPY_MODEL_b04c56dc9a3a443b8f39f96bd5d957c7",
            "value": false
          }
        },
        "b4b996674c7c4f4bbb970c1509e73d2f": {
          "model_module": "@jupyter-widgets/base",
          "model_name": "LayoutModel",
          "model_module_version": "1.2.0",
          "state": {
            "_model_module": "@jupyter-widgets/base",
            "_model_module_version": "1.2.0",
            "_model_name": "LayoutModel",
            "_view_count": null,
            "_view_module": "@jupyter-widgets/base",
            "_view_module_version": "1.2.0",
            "_view_name": "LayoutView",
            "align_content": null,
            "align_items": null,
            "align_self": null,
            "border": null,
            "bottom": null,
            "display": null,
            "flex": null,
            "flex_flow": null,
            "grid_area": null,
            "grid_auto_columns": null,
            "grid_auto_flow": null,
            "grid_auto_rows": null,
            "grid_column": null,
            "grid_gap": null,
            "grid_row": null,
            "grid_template_areas": null,
            "grid_template_columns": null,
            "grid_template_rows": null,
            "height": null,
            "justify_content": null,
            "justify_items": null,
            "left": null,
            "margin": null,
            "max_height": null,
            "max_width": null,
            "min_height": null,
            "min_width": null,
            "object_fit": null,
            "object_position": null,
            "order": null,
            "overflow": null,
            "overflow_x": null,
            "overflow_y": null,
            "padding": null,
            "right": null,
            "top": null,
            "visibility": null,
            "width": null
          }
        },
        "b04c56dc9a3a443b8f39f96bd5d957c7": {
          "model_module": "@jupyter-widgets/controls",
          "model_name": "DescriptionStyleModel",
          "model_module_version": "1.5.0",
          "state": {
            "_model_module": "@jupyter-widgets/controls",
            "_model_module_version": "1.5.0",
            "_model_name": "DescriptionStyleModel",
            "_view_count": null,
            "_view_module": "@jupyter-widgets/base",
            "_view_module_version": "1.2.0",
            "_view_name": "StyleView",
            "description_width": ""
          }
        },
        "b8e02e55a3454e7d9d89f64c5222d85d": {
          "model_module": "@jupyter-widgets/controls",
          "model_name": "ButtonModel",
          "model_module_version": "1.5.0",
          "state": {
            "_dom_classes": [],
            "_model_module": "@jupyter-widgets/controls",
            "_model_module_version": "1.5.0",
            "_model_name": "ButtonModel",
            "_view_count": null,
            "_view_module": "@jupyter-widgets/controls",
            "_view_module_version": "1.5.0",
            "_view_name": "ButtonView",
            "button_style": "",
            "description": "Submit",
            "disabled": false,
            "icon": "",
            "layout": "IPY_MODEL_a709cefb7779418e97544a07bb045e98",
            "style": "IPY_MODEL_dafc0fe78ddb4b458fea9f5cf0512509",
            "tooltip": ""
          }
        },
        "a709cefb7779418e97544a07bb045e98": {
          "model_module": "@jupyter-widgets/base",
          "model_name": "LayoutModel",
          "model_module_version": "1.2.0",
          "state": {
            "_model_module": "@jupyter-widgets/base",
            "_model_module_version": "1.2.0",
            "_model_name": "LayoutModel",
            "_view_count": null,
            "_view_module": "@jupyter-widgets/base",
            "_view_module_version": "1.2.0",
            "_view_name": "LayoutView",
            "align_content": null,
            "align_items": null,
            "align_self": null,
            "border": null,
            "bottom": null,
            "display": null,
            "flex": null,
            "flex_flow": null,
            "grid_area": null,
            "grid_auto_columns": null,
            "grid_auto_flow": null,
            "grid_auto_rows": null,
            "grid_column": null,
            "grid_gap": null,
            "grid_row": null,
            "grid_template_areas": null,
            "grid_template_columns": null,
            "grid_template_rows": null,
            "height": null,
            "justify_content": null,
            "justify_items": null,
            "left": null,
            "margin": null,
            "max_height": null,
            "max_width": null,
            "min_height": null,
            "min_width": null,
            "object_fit": null,
            "object_position": null,
            "order": null,
            "overflow": null,
            "overflow_x": null,
            "overflow_y": null,
            "padding": null,
            "right": null,
            "top": null,
            "visibility": null,
            "width": null
          }
        },
        "dafc0fe78ddb4b458fea9f5cf0512509": {
          "model_module": "@jupyter-widgets/controls",
          "model_name": "ButtonStyleModel",
          "model_module_version": "1.5.0",
          "state": {
            "_model_module": "@jupyter-widgets/controls",
            "_model_module_version": "1.5.0",
            "_model_name": "ButtonStyleModel",
            "_view_count": null,
            "_view_module": "@jupyter-widgets/base",
            "_view_module_version": "1.2.0",
            "_view_name": "StyleView",
            "button_color": null,
            "font_weight": ""
          }
        },
        "85a32bb0e4154c33909cd2de61a2eb2f": {
          "model_module": "@jupyter-widgets/controls",
          "model_name": "DropdownModel",
          "model_module_version": "1.5.0",
          "state": {
            "_dom_classes": [],
            "_model_module": "@jupyter-widgets/controls",
            "_model_module_version": "1.5.0",
            "_model_name": "DropdownModel",
            "_options_labels": [
              "1to2grams-filtered-table",
              "1to2grams-unfiltered-table",
              "topics-table"
            ],
            "_view_count": null,
            "_view_module": "@jupyter-widgets/controls",
            "_view_module_version": "1.5.0",
            "_view_name": "DropdownView",
            "description": "Feature Table:",
            "description_tooltip": null,
            "disabled": false,
            "index": 0,
            "layout": "IPY_MODEL_39afcd61e43e4397b3e5ae7a823cfe89",
            "style": "IPY_MODEL_1cf840d635914bf4bfd2488b830e20ba"
          }
        },
        "39afcd61e43e4397b3e5ae7a823cfe89": {
          "model_module": "@jupyter-widgets/base",
          "model_name": "LayoutModel",
          "model_module_version": "1.2.0",
          "state": {
            "_model_module": "@jupyter-widgets/base",
            "_model_module_version": "1.2.0",
            "_model_name": "LayoutModel",
            "_view_count": null,
            "_view_module": "@jupyter-widgets/base",
            "_view_module_version": "1.2.0",
            "_view_name": "LayoutView",
            "align_content": null,
            "align_items": null,
            "align_self": null,
            "border": null,
            "bottom": null,
            "display": null,
            "flex": null,
            "flex_flow": null,
            "grid_area": null,
            "grid_auto_columns": null,
            "grid_auto_flow": null,
            "grid_auto_rows": null,
            "grid_column": null,
            "grid_gap": null,
            "grid_row": null,
            "grid_template_areas": null,
            "grid_template_columns": null,
            "grid_template_rows": null,
            "height": null,
            "justify_content": null,
            "justify_items": null,
            "left": null,
            "margin": null,
            "max_height": null,
            "max_width": null,
            "min_height": null,
            "min_width": null,
            "object_fit": null,
            "object_position": null,
            "order": null,
            "overflow": null,
            "overflow_x": null,
            "overflow_y": null,
            "padding": null,
            "right": null,
            "top": null,
            "visibility": null,
            "width": null
          }
        },
        "1cf840d635914bf4bfd2488b830e20ba": {
          "model_module": "@jupyter-widgets/controls",
          "model_name": "DescriptionStyleModel",
          "model_module_version": "1.5.0",
          "state": {
            "_model_module": "@jupyter-widgets/controls",
            "_model_module_version": "1.5.0",
            "_model_name": "DescriptionStyleModel",
            "_view_count": null,
            "_view_module": "@jupyter-widgets/base",
            "_view_module_version": "1.2.0",
            "_view_name": "StyleView",
            "description_width": ""
          }
        },
        "1e878f4ecac8450f8e3f704713ab9508": {
          "model_module": "@jupyter-widgets/controls",
          "model_name": "DropdownModel",
          "model_module_version": "1.5.0",
          "state": {
            "_dom_classes": [],
            "_model_module": "@jupyter-widgets/controls",
            "_model_module_version": "1.5.0",
            "_model_name": "DropdownModel",
            "_options_labels": [
              "lr",
              "lr1",
              "lr_balanced",
              "lrnone",
              "linear-svc",
              "svc",
              "etc",
              "rfc",
              "pac",
              "gbc",
              "mnb",
              "gnb",
              "bnb",
              "mlp"
            ],
            "_view_count": null,
            "_view_module": "@jupyter-widgets/controls",
            "_view_module_version": "1.5.0",
            "_view_name": "DropdownView",
            "description": "Model:",
            "description_tooltip": null,
            "disabled": false,
            "index": 0,
            "layout": "IPY_MODEL_0e7894a8da2e46adb709f0e160fefe41",
            "style": "IPY_MODEL_be6d73d5f7f84192b997a94122a0459c"
          }
        },
        "0e7894a8da2e46adb709f0e160fefe41": {
          "model_module": "@jupyter-widgets/base",
          "model_name": "LayoutModel",
          "model_module_version": "1.2.0",
          "state": {
            "_model_module": "@jupyter-widgets/base",
            "_model_module_version": "1.2.0",
            "_model_name": "LayoutModel",
            "_view_count": null,
            "_view_module": "@jupyter-widgets/base",
            "_view_module_version": "1.2.0",
            "_view_name": "LayoutView",
            "align_content": null,
            "align_items": null,
            "align_self": null,
            "border": null,
            "bottom": null,
            "display": null,
            "flex": null,
            "flex_flow": null,
            "grid_area": null,
            "grid_auto_columns": null,
            "grid_auto_flow": null,
            "grid_auto_rows": null,
            "grid_column": null,
            "grid_gap": null,
            "grid_row": null,
            "grid_template_areas": null,
            "grid_template_columns": null,
            "grid_template_rows": null,
            "height": null,
            "justify_content": null,
            "justify_items": null,
            "left": null,
            "margin": null,
            "max_height": null,
            "max_width": null,
            "min_height": null,
            "min_width": null,
            "object_fit": null,
            "object_position": null,
            "order": null,
            "overflow": null,
            "overflow_x": null,
            "overflow_y": null,
            "padding": null,
            "right": null,
            "top": null,
            "visibility": null,
            "width": null
          }
        },
        "be6d73d5f7f84192b997a94122a0459c": {
          "model_module": "@jupyter-widgets/controls",
          "model_name": "DescriptionStyleModel",
          "model_module_version": "1.5.0",
          "state": {
            "_model_module": "@jupyter-widgets/controls",
            "_model_module_version": "1.5.0",
            "_model_name": "DescriptionStyleModel",
            "_view_count": null,
            "_view_module": "@jupyter-widgets/base",
            "_view_module_version": "1.2.0",
            "_view_name": "StyleView",
            "description_width": ""
          }
        },
        "37105189ff7d4f078230ffc1646f69db": {
          "model_module": "@jupyter-widgets/controls",
          "model_name": "LabelModel",
          "model_module_version": "1.5.0",
          "state": {
            "_dom_classes": [],
            "_model_module": "@jupyter-widgets/controls",
            "_model_module_version": "1.5.0",
            "_model_name": "LabelModel",
            "_view_count": null,
            "_view_module": "@jupyter-widgets/controls",
            "_view_module_version": "1.5.0",
            "_view_name": "LabelView",
            "description": "",
            "description_tooltip": null,
            "layout": "IPY_MODEL_1ee11733e9254d619dc91308dd71e24a",
            "placeholder": "​",
            "style": "IPY_MODEL_c78922831c034d75ac57226e904f5952",
            "value": "Outcomes:"
          }
        },
        "1ee11733e9254d619dc91308dd71e24a": {
          "model_module": "@jupyter-widgets/base",
          "model_name": "LayoutModel",
          "model_module_version": "1.2.0",
          "state": {
            "_model_module": "@jupyter-widgets/base",
            "_model_module_version": "1.2.0",
            "_model_name": "LayoutModel",
            "_view_count": null,
            "_view_module": "@jupyter-widgets/base",
            "_view_module_version": "1.2.0",
            "_view_name": "LayoutView",
            "align_content": null,
            "align_items": null,
            "align_self": null,
            "border": null,
            "bottom": null,
            "display": null,
            "flex": null,
            "flex_flow": null,
            "grid_area": null,
            "grid_auto_columns": null,
            "grid_auto_flow": null,
            "grid_auto_rows": null,
            "grid_column": null,
            "grid_gap": null,
            "grid_row": null,
            "grid_template_areas": null,
            "grid_template_columns": null,
            "grid_template_rows": null,
            "height": null,
            "justify_content": null,
            "justify_items": null,
            "left": null,
            "margin": null,
            "max_height": null,
            "max_width": null,
            "min_height": null,
            "min_width": null,
            "object_fit": null,
            "object_position": null,
            "order": null,
            "overflow": null,
            "overflow_x": null,
            "overflow_y": null,
            "padding": null,
            "right": null,
            "top": null,
            "visibility": null,
            "width": null
          }
        },
        "c78922831c034d75ac57226e904f5952": {
          "model_module": "@jupyter-widgets/controls",
          "model_name": "DescriptionStyleModel",
          "model_module_version": "1.5.0",
          "state": {
            "_model_module": "@jupyter-widgets/controls",
            "_model_module_version": "1.5.0",
            "_model_name": "DescriptionStyleModel",
            "_view_count": null,
            "_view_module": "@jupyter-widgets/base",
            "_view_module_version": "1.2.0",
            "_view_name": "StyleView",
            "description_width": ""
          }
        },
        "4a2d2f6a9bb1495387b19441b934ab07": {
          "model_module": "@jupyter-widgets/controls",
          "model_name": "HBoxModel",
          "model_module_version": "1.5.0",
          "state": {
            "_dom_classes": [],
            "_model_module": "@jupyter-widgets/controls",
            "_model_module_version": "1.5.0",
            "_model_name": "HBoxModel",
            "_view_count": null,
            "_view_module": "@jupyter-widgets/controls",
            "_view_module_version": "1.5.0",
            "_view_name": "HBoxView",
            "box_style": "",
            "children": [
              "IPY_MODEL_7df88905045f480cb9a93fb6ce7a2dd2",
              "IPY_MODEL_a3fef69dfff8420981ce3dd28fde85d4"
            ],
            "layout": "IPY_MODEL_f0787208484f4e929c62be9700789aba"
          }
        },
        "7df88905045f480cb9a93fb6ce7a2dd2": {
          "model_module": "@jupyter-widgets/controls",
          "model_name": "CheckboxModel",
          "model_module_version": "1.5.0",
          "state": {
            "_dom_classes": [],
            "_model_module": "@jupyter-widgets/controls",
            "_model_module_version": "1.5.0",
            "_model_name": "CheckboxModel",
            "_view_count": null,
            "_view_module": "@jupyter-widgets/controls",
            "_view_module_version": "1.5.0",
            "_view_name": "CheckboxView",
            "description": "gender",
            "description_tooltip": null,
            "disabled": false,
            "indent": true,
            "layout": "IPY_MODEL_9f2b459e9c9a4954959a0d32b786cf0a",
            "style": "IPY_MODEL_7aadaaa00d0843a5bee5a38d33c1e156",
            "value": false
          }
        },
        "a3fef69dfff8420981ce3dd28fde85d4": {
          "model_module": "@jupyter-widgets/controls",
          "model_name": "RadioButtonsModel",
          "model_module_version": "1.5.0",
          "state": {
            "_dom_classes": [],
            "_model_module": "@jupyter-widgets/controls",
            "_model_module_version": "1.5.0",
            "_model_name": "RadioButtonsModel",
            "_options_labels": [
              "No",
              "Yes"
            ],
            "_view_count": null,
            "_view_module": "@jupyter-widgets/controls",
            "_view_module_version": "1.5.0",
            "_view_name": "RadioButtonsView",
            "description": "Is this variable Categorical?",
            "description_tooltip": null,
            "disabled": false,
            "index": 0,
            "layout": "IPY_MODEL_e22a0ab49d5749a283bbfd71817ed9af",
            "style": "IPY_MODEL_3fba40db79c8471fb521c13f471460bf"
          }
        },
        "f0787208484f4e929c62be9700789aba": {
          "model_module": "@jupyter-widgets/base",
          "model_name": "LayoutModel",
          "model_module_version": "1.2.0",
          "state": {
            "_model_module": "@jupyter-widgets/base",
            "_model_module_version": "1.2.0",
            "_model_name": "LayoutModel",
            "_view_count": null,
            "_view_module": "@jupyter-widgets/base",
            "_view_module_version": "1.2.0",
            "_view_name": "LayoutView",
            "align_content": null,
            "align_items": null,
            "align_self": null,
            "border": null,
            "bottom": null,
            "display": null,
            "flex": null,
            "flex_flow": null,
            "grid_area": null,
            "grid_auto_columns": null,
            "grid_auto_flow": null,
            "grid_auto_rows": null,
            "grid_column": null,
            "grid_gap": null,
            "grid_row": null,
            "grid_template_areas": null,
            "grid_template_columns": null,
            "grid_template_rows": null,
            "height": null,
            "justify_content": null,
            "justify_items": null,
            "left": null,
            "margin": null,
            "max_height": null,
            "max_width": null,
            "min_height": null,
            "min_width": null,
            "object_fit": null,
            "object_position": null,
            "order": null,
            "overflow": null,
            "overflow_x": null,
            "overflow_y": null,
            "padding": null,
            "right": null,
            "top": null,
            "visibility": null,
            "width": null
          }
        },
        "9f2b459e9c9a4954959a0d32b786cf0a": {
          "model_module": "@jupyter-widgets/base",
          "model_name": "LayoutModel",
          "model_module_version": "1.2.0",
          "state": {
            "_model_module": "@jupyter-widgets/base",
            "_model_module_version": "1.2.0",
            "_model_name": "LayoutModel",
            "_view_count": null,
            "_view_module": "@jupyter-widgets/base",
            "_view_module_version": "1.2.0",
            "_view_name": "LayoutView",
            "align_content": null,
            "align_items": null,
            "align_self": null,
            "border": null,
            "bottom": null,
            "display": null,
            "flex": null,
            "flex_flow": null,
            "grid_area": null,
            "grid_auto_columns": null,
            "grid_auto_flow": null,
            "grid_auto_rows": null,
            "grid_column": null,
            "grid_gap": null,
            "grid_row": null,
            "grid_template_areas": null,
            "grid_template_columns": null,
            "grid_template_rows": null,
            "height": null,
            "justify_content": null,
            "justify_items": null,
            "left": null,
            "margin": null,
            "max_height": null,
            "max_width": null,
            "min_height": null,
            "min_width": null,
            "object_fit": null,
            "object_position": null,
            "order": null,
            "overflow": null,
            "overflow_x": null,
            "overflow_y": null,
            "padding": null,
            "right": null,
            "top": null,
            "visibility": null,
            "width": null
          }
        },
        "7aadaaa00d0843a5bee5a38d33c1e156": {
          "model_module": "@jupyter-widgets/controls",
          "model_name": "DescriptionStyleModel",
          "model_module_version": "1.5.0",
          "state": {
            "_model_module": "@jupyter-widgets/controls",
            "_model_module_version": "1.5.0",
            "_model_name": "DescriptionStyleModel",
            "_view_count": null,
            "_view_module": "@jupyter-widgets/base",
            "_view_module_version": "1.2.0",
            "_view_name": "StyleView",
            "description_width": ""
          }
        },
        "e22a0ab49d5749a283bbfd71817ed9af": {
          "model_module": "@jupyter-widgets/base",
          "model_name": "LayoutModel",
          "model_module_version": "1.2.0",
          "state": {
            "_model_module": "@jupyter-widgets/base",
            "_model_module_version": "1.2.0",
            "_model_name": "LayoutModel",
            "_view_count": null,
            "_view_module": "@jupyter-widgets/base",
            "_view_module_version": "1.2.0",
            "_view_name": "LayoutView",
            "align_content": null,
            "align_items": null,
            "align_self": null,
            "border": null,
            "bottom": null,
            "display": "none",
            "flex": null,
            "flex_flow": null,
            "grid_area": null,
            "grid_auto_columns": null,
            "grid_auto_flow": null,
            "grid_auto_rows": null,
            "grid_column": null,
            "grid_gap": null,
            "grid_row": null,
            "grid_template_areas": null,
            "grid_template_columns": null,
            "grid_template_rows": null,
            "height": null,
            "justify_content": null,
            "justify_items": null,
            "left": null,
            "margin": null,
            "max_height": null,
            "max_width": null,
            "min_height": null,
            "min_width": null,
            "object_fit": null,
            "object_position": null,
            "order": null,
            "overflow": null,
            "overflow_x": null,
            "overflow_y": null,
            "padding": null,
            "right": null,
            "top": null,
            "visibility": null,
            "width": "max-content"
          }
        },
        "3fba40db79c8471fb521c13f471460bf": {
          "model_module": "@jupyter-widgets/controls",
          "model_name": "DescriptionStyleModel",
          "model_module_version": "1.5.0",
          "state": {
            "_model_module": "@jupyter-widgets/controls",
            "_model_module_version": "1.5.0",
            "_model_name": "DescriptionStyleModel",
            "_view_count": null,
            "_view_module": "@jupyter-widgets/base",
            "_view_module_version": "1.2.0",
            "_view_name": "StyleView",
            "description_width": "initial"
          }
        },
        "d902b25d699f4d0bb1f7d61e97b66619": {
          "model_module": "@jupyter-widgets/controls",
          "model_name": "HBoxModel",
          "model_module_version": "1.5.0",
          "state": {
            "_dom_classes": [],
            "_model_module": "@jupyter-widgets/controls",
            "_model_module_version": "1.5.0",
            "_model_name": "HBoxModel",
            "_view_count": null,
            "_view_module": "@jupyter-widgets/controls",
            "_view_module_version": "1.5.0",
            "_view_name": "HBoxView",
            "box_style": "",
            "children": [
              "IPY_MODEL_fc54c0c83b3442c9aa9b829f3351018c",
              "IPY_MODEL_b09cbf47406341dc97aee84eebd2c3e0"
            ],
            "layout": "IPY_MODEL_dc8405b24a5b44348fa5cf3eb360c763"
          }
        },
        "fc54c0c83b3442c9aa9b829f3351018c": {
          "model_module": "@jupyter-widgets/controls",
          "model_name": "CheckboxModel",
          "model_module_version": "1.5.0",
          "state": {
            "_dom_classes": [],
            "_model_module": "@jupyter-widgets/controls",
            "_model_module_version": "1.5.0",
            "_model_name": "CheckboxModel",
            "_view_count": null,
            "_view_module": "@jupyter-widgets/controls",
            "_view_module_version": "1.5.0",
            "_view_name": "CheckboxView",
            "description": "age",
            "description_tooltip": null,
            "disabled": false,
            "indent": true,
            "layout": "IPY_MODEL_604634cc03c9492ead65115addb3a368",
            "style": "IPY_MODEL_b0e572c000e84de7b82f67d6198da570",
            "value": true
          }
        },
        "b09cbf47406341dc97aee84eebd2c3e0": {
          "model_module": "@jupyter-widgets/controls",
          "model_name": "RadioButtonsModel",
          "model_module_version": "1.5.0",
          "state": {
            "_dom_classes": [],
            "_model_module": "@jupyter-widgets/controls",
            "_model_module_version": "1.5.0",
            "_model_name": "RadioButtonsModel",
            "_options_labels": [
              "No",
              "Yes"
            ],
            "_view_count": null,
            "_view_module": "@jupyter-widgets/controls",
            "_view_module_version": "1.5.0",
            "_view_name": "RadioButtonsView",
            "description": "Is this variable Categorical?",
            "description_tooltip": null,
            "disabled": false,
            "index": 0,
            "layout": "IPY_MODEL_9536169e00524e6e844a8a683d990986",
            "style": "IPY_MODEL_f118187cedef455c90bab9dbe83c10f8"
          }
        },
        "dc8405b24a5b44348fa5cf3eb360c763": {
          "model_module": "@jupyter-widgets/base",
          "model_name": "LayoutModel",
          "model_module_version": "1.2.0",
          "state": {
            "_model_module": "@jupyter-widgets/base",
            "_model_module_version": "1.2.0",
            "_model_name": "LayoutModel",
            "_view_count": null,
            "_view_module": "@jupyter-widgets/base",
            "_view_module_version": "1.2.0",
            "_view_name": "LayoutView",
            "align_content": null,
            "align_items": null,
            "align_self": null,
            "border": null,
            "bottom": null,
            "display": null,
            "flex": null,
            "flex_flow": null,
            "grid_area": null,
            "grid_auto_columns": null,
            "grid_auto_flow": null,
            "grid_auto_rows": null,
            "grid_column": null,
            "grid_gap": null,
            "grid_row": null,
            "grid_template_areas": null,
            "grid_template_columns": null,
            "grid_template_rows": null,
            "height": null,
            "justify_content": null,
            "justify_items": null,
            "left": null,
            "margin": null,
            "max_height": null,
            "max_width": null,
            "min_height": null,
            "min_width": null,
            "object_fit": null,
            "object_position": null,
            "order": null,
            "overflow": null,
            "overflow_x": null,
            "overflow_y": null,
            "padding": null,
            "right": null,
            "top": null,
            "visibility": null,
            "width": null
          }
        },
        "604634cc03c9492ead65115addb3a368": {
          "model_module": "@jupyter-widgets/base",
          "model_name": "LayoutModel",
          "model_module_version": "1.2.0",
          "state": {
            "_model_module": "@jupyter-widgets/base",
            "_model_module_version": "1.2.0",
            "_model_name": "LayoutModel",
            "_view_count": null,
            "_view_module": "@jupyter-widgets/base",
            "_view_module_version": "1.2.0",
            "_view_name": "LayoutView",
            "align_content": null,
            "align_items": null,
            "align_self": null,
            "border": null,
            "bottom": null,
            "display": null,
            "flex": null,
            "flex_flow": null,
            "grid_area": null,
            "grid_auto_columns": null,
            "grid_auto_flow": null,
            "grid_auto_rows": null,
            "grid_column": null,
            "grid_gap": null,
            "grid_row": null,
            "grid_template_areas": null,
            "grid_template_columns": null,
            "grid_template_rows": null,
            "height": null,
            "justify_content": null,
            "justify_items": null,
            "left": null,
            "margin": null,
            "max_height": null,
            "max_width": null,
            "min_height": null,
            "min_width": null,
            "object_fit": null,
            "object_position": null,
            "order": null,
            "overflow": null,
            "overflow_x": null,
            "overflow_y": null,
            "padding": null,
            "right": null,
            "top": null,
            "visibility": null,
            "width": null
          }
        },
        "b0e572c000e84de7b82f67d6198da570": {
          "model_module": "@jupyter-widgets/controls",
          "model_name": "DescriptionStyleModel",
          "model_module_version": "1.5.0",
          "state": {
            "_model_module": "@jupyter-widgets/controls",
            "_model_module_version": "1.5.0",
            "_model_name": "DescriptionStyleModel",
            "_view_count": null,
            "_view_module": "@jupyter-widgets/base",
            "_view_module_version": "1.2.0",
            "_view_name": "StyleView",
            "description_width": ""
          }
        },
        "9536169e00524e6e844a8a683d990986": {
          "model_module": "@jupyter-widgets/base",
          "model_name": "LayoutModel",
          "model_module_version": "1.2.0",
          "state": {
            "_model_module": "@jupyter-widgets/base",
            "_model_module_version": "1.2.0",
            "_model_name": "LayoutModel",
            "_view_count": null,
            "_view_module": "@jupyter-widgets/base",
            "_view_module_version": "1.2.0",
            "_view_name": "LayoutView",
            "align_content": null,
            "align_items": null,
            "align_self": null,
            "border": null,
            "bottom": null,
            "display": "flex",
            "flex": null,
            "flex_flow": null,
            "grid_area": null,
            "grid_auto_columns": null,
            "grid_auto_flow": null,
            "grid_auto_rows": null,
            "grid_column": null,
            "grid_gap": null,
            "grid_row": null,
            "grid_template_areas": null,
            "grid_template_columns": null,
            "grid_template_rows": null,
            "height": null,
            "justify_content": null,
            "justify_items": null,
            "left": null,
            "margin": null,
            "max_height": null,
            "max_width": null,
            "min_height": null,
            "min_width": null,
            "object_fit": null,
            "object_position": null,
            "order": null,
            "overflow": null,
            "overflow_x": null,
            "overflow_y": null,
            "padding": null,
            "right": null,
            "top": null,
            "visibility": null,
            "width": "max-content"
          }
        },
        "f118187cedef455c90bab9dbe83c10f8": {
          "model_module": "@jupyter-widgets/controls",
          "model_name": "DescriptionStyleModel",
          "model_module_version": "1.5.0",
          "state": {
            "_model_module": "@jupyter-widgets/controls",
            "_model_module_version": "1.5.0",
            "_model_name": "DescriptionStyleModel",
            "_view_count": null,
            "_view_module": "@jupyter-widgets/base",
            "_view_module_version": "1.2.0",
            "_view_name": "StyleView",
            "description_width": "initial"
          }
        },
        "b67874c8fcc1462a82fad640ae92f3f6": {
          "model_module": "@jupyter-widgets/controls",
          "model_name": "HBoxModel",
          "model_module_version": "1.5.0",
          "state": {
            "_dom_classes": [],
            "_model_module": "@jupyter-widgets/controls",
            "_model_module_version": "1.5.0",
            "_model_name": "HBoxModel",
            "_view_count": null,
            "_view_module": "@jupyter-widgets/controls",
            "_view_module_version": "1.5.0",
            "_view_name": "HBoxView",
            "box_style": "",
            "children": [
              "IPY_MODEL_cc21c5db46cf4d758617f313e86c8fad",
              "IPY_MODEL_b723b5b4aef345bba4130317f2b4ebfd"
            ],
            "layout": "IPY_MODEL_07a875b1ba5041d795ae931066dc3603"
          }
        },
        "cc21c5db46cf4d758617f313e86c8fad": {
          "model_module": "@jupyter-widgets/controls",
          "model_name": "CheckboxModel",
          "model_module_version": "1.5.0",
          "state": {
            "_dom_classes": [],
            "_model_module": "@jupyter-widgets/controls",
            "_model_module_version": "1.5.0",
            "_model_name": "CheckboxModel",
            "_view_count": null,
            "_view_module": "@jupyter-widgets/controls",
            "_view_module_version": "1.5.0",
            "_view_name": "CheckboxView",
            "description": "occu",
            "description_tooltip": null,
            "disabled": false,
            "indent": true,
            "layout": "IPY_MODEL_acad24e5d4374cd7bf6487c2b493ef5d",
            "style": "IPY_MODEL_cb1cc9dc0aca442b9a78b773af2c5c39",
            "value": false
          }
        },
        "b723b5b4aef345bba4130317f2b4ebfd": {
          "model_module": "@jupyter-widgets/controls",
          "model_name": "RadioButtonsModel",
          "model_module_version": "1.5.0",
          "state": {
            "_dom_classes": [],
            "_model_module": "@jupyter-widgets/controls",
            "_model_module_version": "1.5.0",
            "_model_name": "RadioButtonsModel",
            "_options_labels": [
              "No",
              "Yes"
            ],
            "_view_count": null,
            "_view_module": "@jupyter-widgets/controls",
            "_view_module_version": "1.5.0",
            "_view_name": "RadioButtonsView",
            "description": "Is this variable Categorical?",
            "description_tooltip": null,
            "disabled": false,
            "index": 0,
            "layout": "IPY_MODEL_6794e3cfc64347ea82e48eeb5d0d5a03",
            "style": "IPY_MODEL_8adaa4aea50249af9d6bd1a35a8587cd"
          }
        },
        "07a875b1ba5041d795ae931066dc3603": {
          "model_module": "@jupyter-widgets/base",
          "model_name": "LayoutModel",
          "model_module_version": "1.2.0",
          "state": {
            "_model_module": "@jupyter-widgets/base",
            "_model_module_version": "1.2.0",
            "_model_name": "LayoutModel",
            "_view_count": null,
            "_view_module": "@jupyter-widgets/base",
            "_view_module_version": "1.2.0",
            "_view_name": "LayoutView",
            "align_content": null,
            "align_items": null,
            "align_self": null,
            "border": null,
            "bottom": null,
            "display": null,
            "flex": null,
            "flex_flow": null,
            "grid_area": null,
            "grid_auto_columns": null,
            "grid_auto_flow": null,
            "grid_auto_rows": null,
            "grid_column": null,
            "grid_gap": null,
            "grid_row": null,
            "grid_template_areas": null,
            "grid_template_columns": null,
            "grid_template_rows": null,
            "height": null,
            "justify_content": null,
            "justify_items": null,
            "left": null,
            "margin": null,
            "max_height": null,
            "max_width": null,
            "min_height": null,
            "min_width": null,
            "object_fit": null,
            "object_position": null,
            "order": null,
            "overflow": null,
            "overflow_x": null,
            "overflow_y": null,
            "padding": null,
            "right": null,
            "top": null,
            "visibility": null,
            "width": null
          }
        },
        "acad24e5d4374cd7bf6487c2b493ef5d": {
          "model_module": "@jupyter-widgets/base",
          "model_name": "LayoutModel",
          "model_module_version": "1.2.0",
          "state": {
            "_model_module": "@jupyter-widgets/base",
            "_model_module_version": "1.2.0",
            "_model_name": "LayoutModel",
            "_view_count": null,
            "_view_module": "@jupyter-widgets/base",
            "_view_module_version": "1.2.0",
            "_view_name": "LayoutView",
            "align_content": null,
            "align_items": null,
            "align_self": null,
            "border": null,
            "bottom": null,
            "display": null,
            "flex": null,
            "flex_flow": null,
            "grid_area": null,
            "grid_auto_columns": null,
            "grid_auto_flow": null,
            "grid_auto_rows": null,
            "grid_column": null,
            "grid_gap": null,
            "grid_row": null,
            "grid_template_areas": null,
            "grid_template_columns": null,
            "grid_template_rows": null,
            "height": null,
            "justify_content": null,
            "justify_items": null,
            "left": null,
            "margin": null,
            "max_height": null,
            "max_width": null,
            "min_height": null,
            "min_width": null,
            "object_fit": null,
            "object_position": null,
            "order": null,
            "overflow": null,
            "overflow_x": null,
            "overflow_y": null,
            "padding": null,
            "right": null,
            "top": null,
            "visibility": null,
            "width": null
          }
        },
        "cb1cc9dc0aca442b9a78b773af2c5c39": {
          "model_module": "@jupyter-widgets/controls",
          "model_name": "DescriptionStyleModel",
          "model_module_version": "1.5.0",
          "state": {
            "_model_module": "@jupyter-widgets/controls",
            "_model_module_version": "1.5.0",
            "_model_name": "DescriptionStyleModel",
            "_view_count": null,
            "_view_module": "@jupyter-widgets/base",
            "_view_module_version": "1.2.0",
            "_view_name": "StyleView",
            "description_width": ""
          }
        },
        "6794e3cfc64347ea82e48eeb5d0d5a03": {
          "model_module": "@jupyter-widgets/base",
          "model_name": "LayoutModel",
          "model_module_version": "1.2.0",
          "state": {
            "_model_module": "@jupyter-widgets/base",
            "_model_module_version": "1.2.0",
            "_model_name": "LayoutModel",
            "_view_count": null,
            "_view_module": "@jupyter-widgets/base",
            "_view_module_version": "1.2.0",
            "_view_name": "LayoutView",
            "align_content": null,
            "align_items": null,
            "align_self": null,
            "border": null,
            "bottom": null,
            "display": "none",
            "flex": null,
            "flex_flow": null,
            "grid_area": null,
            "grid_auto_columns": null,
            "grid_auto_flow": null,
            "grid_auto_rows": null,
            "grid_column": null,
            "grid_gap": null,
            "grid_row": null,
            "grid_template_areas": null,
            "grid_template_columns": null,
            "grid_template_rows": null,
            "height": null,
            "justify_content": null,
            "justify_items": null,
            "left": null,
            "margin": null,
            "max_height": null,
            "max_width": null,
            "min_height": null,
            "min_width": null,
            "object_fit": null,
            "object_position": null,
            "order": null,
            "overflow": null,
            "overflow_x": null,
            "overflow_y": null,
            "padding": null,
            "right": null,
            "top": null,
            "visibility": null,
            "width": "max-content"
          }
        },
        "8adaa4aea50249af9d6bd1a35a8587cd": {
          "model_module": "@jupyter-widgets/controls",
          "model_name": "DescriptionStyleModel",
          "model_module_version": "1.5.0",
          "state": {
            "_model_module": "@jupyter-widgets/controls",
            "_model_module_version": "1.5.0",
            "_model_name": "DescriptionStyleModel",
            "_view_count": null,
            "_view_module": "@jupyter-widgets/base",
            "_view_module_version": "1.2.0",
            "_view_name": "StyleView",
            "description_width": "initial"
          }
        },
        "4be2cf60fd5143ac8ee1024a4335e1db": {
          "model_module": "@jupyter-widgets/controls",
          "model_name": "HBoxModel",
          "model_module_version": "1.5.0",
          "state": {
            "_dom_classes": [],
            "_model_module": "@jupyter-widgets/controls",
            "_model_module_version": "1.5.0",
            "_model_name": "HBoxModel",
            "_view_count": null,
            "_view_module": "@jupyter-widgets/controls",
            "_view_module_version": "1.5.0",
            "_view_name": "HBoxView",
            "box_style": "",
            "children": [
              "IPY_MODEL_dbfdadf4a17940f682f5fcee315ae1b0",
              "IPY_MODEL_5da0e32c08b745dbabb592870b904b2f"
            ],
            "layout": "IPY_MODEL_fe17a73e7f3c43e2b0aa98353c5a7d77"
          }
        },
        "dbfdadf4a17940f682f5fcee315ae1b0": {
          "model_module": "@jupyter-widgets/controls",
          "model_name": "CheckboxModel",
          "model_module_version": "1.5.0",
          "state": {
            "_dom_classes": [],
            "_model_module": "@jupyter-widgets/controls",
            "_model_module_version": "1.5.0",
            "_model_name": "CheckboxModel",
            "_view_count": null,
            "_view_module": "@jupyter-widgets/controls",
            "_view_module_version": "1.5.0",
            "_view_name": "CheckboxView",
            "description": "is_student",
            "description_tooltip": null,
            "disabled": false,
            "indent": true,
            "layout": "IPY_MODEL_aee8fd8bcdc24c418e01864eb44ea862",
            "style": "IPY_MODEL_541a5069b0b74c39803510847ade42c3",
            "value": false
          }
        },
        "5da0e32c08b745dbabb592870b904b2f": {
          "model_module": "@jupyter-widgets/controls",
          "model_name": "RadioButtonsModel",
          "model_module_version": "1.5.0",
          "state": {
            "_dom_classes": [],
            "_model_module": "@jupyter-widgets/controls",
            "_model_module_version": "1.5.0",
            "_model_name": "RadioButtonsModel",
            "_options_labels": [
              "No",
              "Yes"
            ],
            "_view_count": null,
            "_view_module": "@jupyter-widgets/controls",
            "_view_module_version": "1.5.0",
            "_view_name": "RadioButtonsView",
            "description": "Is this variable Categorical?",
            "description_tooltip": null,
            "disabled": false,
            "index": 0,
            "layout": "IPY_MODEL_78a19ea6638f47d886671125b73d563c",
            "style": "IPY_MODEL_55b7797c6e424c1ca09c4fac532a0ecf"
          }
        },
        "fe17a73e7f3c43e2b0aa98353c5a7d77": {
          "model_module": "@jupyter-widgets/base",
          "model_name": "LayoutModel",
          "model_module_version": "1.2.0",
          "state": {
            "_model_module": "@jupyter-widgets/base",
            "_model_module_version": "1.2.0",
            "_model_name": "LayoutModel",
            "_view_count": null,
            "_view_module": "@jupyter-widgets/base",
            "_view_module_version": "1.2.0",
            "_view_name": "LayoutView",
            "align_content": null,
            "align_items": null,
            "align_self": null,
            "border": null,
            "bottom": null,
            "display": null,
            "flex": null,
            "flex_flow": null,
            "grid_area": null,
            "grid_auto_columns": null,
            "grid_auto_flow": null,
            "grid_auto_rows": null,
            "grid_column": null,
            "grid_gap": null,
            "grid_row": null,
            "grid_template_areas": null,
            "grid_template_columns": null,
            "grid_template_rows": null,
            "height": null,
            "justify_content": null,
            "justify_items": null,
            "left": null,
            "margin": null,
            "max_height": null,
            "max_width": null,
            "min_height": null,
            "min_width": null,
            "object_fit": null,
            "object_position": null,
            "order": null,
            "overflow": null,
            "overflow_x": null,
            "overflow_y": null,
            "padding": null,
            "right": null,
            "top": null,
            "visibility": null,
            "width": null
          }
        },
        "aee8fd8bcdc24c418e01864eb44ea862": {
          "model_module": "@jupyter-widgets/base",
          "model_name": "LayoutModel",
          "model_module_version": "1.2.0",
          "state": {
            "_model_module": "@jupyter-widgets/base",
            "_model_module_version": "1.2.0",
            "_model_name": "LayoutModel",
            "_view_count": null,
            "_view_module": "@jupyter-widgets/base",
            "_view_module_version": "1.2.0",
            "_view_name": "LayoutView",
            "align_content": null,
            "align_items": null,
            "align_self": null,
            "border": null,
            "bottom": null,
            "display": null,
            "flex": null,
            "flex_flow": null,
            "grid_area": null,
            "grid_auto_columns": null,
            "grid_auto_flow": null,
            "grid_auto_rows": null,
            "grid_column": null,
            "grid_gap": null,
            "grid_row": null,
            "grid_template_areas": null,
            "grid_template_columns": null,
            "grid_template_rows": null,
            "height": null,
            "justify_content": null,
            "justify_items": null,
            "left": null,
            "margin": null,
            "max_height": null,
            "max_width": null,
            "min_height": null,
            "min_width": null,
            "object_fit": null,
            "object_position": null,
            "order": null,
            "overflow": null,
            "overflow_x": null,
            "overflow_y": null,
            "padding": null,
            "right": null,
            "top": null,
            "visibility": null,
            "width": null
          }
        },
        "541a5069b0b74c39803510847ade42c3": {
          "model_module": "@jupyter-widgets/controls",
          "model_name": "DescriptionStyleModel",
          "model_module_version": "1.5.0",
          "state": {
            "_model_module": "@jupyter-widgets/controls",
            "_model_module_version": "1.5.0",
            "_model_name": "DescriptionStyleModel",
            "_view_count": null,
            "_view_module": "@jupyter-widgets/base",
            "_view_module_version": "1.2.0",
            "_view_name": "StyleView",
            "description_width": ""
          }
        },
        "78a19ea6638f47d886671125b73d563c": {
          "model_module": "@jupyter-widgets/base",
          "model_name": "LayoutModel",
          "model_module_version": "1.2.0",
          "state": {
            "_model_module": "@jupyter-widgets/base",
            "_model_module_version": "1.2.0",
            "_model_name": "LayoutModel",
            "_view_count": null,
            "_view_module": "@jupyter-widgets/base",
            "_view_module_version": "1.2.0",
            "_view_name": "LayoutView",
            "align_content": null,
            "align_items": null,
            "align_self": null,
            "border": null,
            "bottom": null,
            "display": "none",
            "flex": null,
            "flex_flow": null,
            "grid_area": null,
            "grid_auto_columns": null,
            "grid_auto_flow": null,
            "grid_auto_rows": null,
            "grid_column": null,
            "grid_gap": null,
            "grid_row": null,
            "grid_template_areas": null,
            "grid_template_columns": null,
            "grid_template_rows": null,
            "height": null,
            "justify_content": null,
            "justify_items": null,
            "left": null,
            "margin": null,
            "max_height": null,
            "max_width": null,
            "min_height": null,
            "min_width": null,
            "object_fit": null,
            "object_position": null,
            "order": null,
            "overflow": null,
            "overflow_x": null,
            "overflow_y": null,
            "padding": null,
            "right": null,
            "top": null,
            "visibility": null,
            "width": "max-content"
          }
        },
        "55b7797c6e424c1ca09c4fac532a0ecf": {
          "model_module": "@jupyter-widgets/controls",
          "model_name": "DescriptionStyleModel",
          "model_module_version": "1.5.0",
          "state": {
            "_model_module": "@jupyter-widgets/controls",
            "_model_module_version": "1.5.0",
            "_model_name": "DescriptionStyleModel",
            "_view_count": null,
            "_view_module": "@jupyter-widgets/base",
            "_view_module_version": "1.2.0",
            "_view_name": "StyleView",
            "description_width": "initial"
          }
        },
        "1abc45e353fd42b0a3814f737e37fc1f": {
          "model_module": "@jupyter-widgets/controls",
          "model_name": "LabelModel",
          "model_module_version": "1.5.0",
          "state": {
            "_dom_classes": [],
            "_model_module": "@jupyter-widgets/controls",
            "_model_module_version": "1.5.0",
            "_model_name": "LabelModel",
            "_view_count": null,
            "_view_module": "@jupyter-widgets/controls",
            "_view_module_version": "1.5.0",
            "_view_name": "LabelView",
            "description": "",
            "description_tooltip": null,
            "layout": "IPY_MODEL_eb7189d3d49146f984d4436b61102477",
            "placeholder": "​",
            "style": "IPY_MODEL_ce0a102614e244aa8316565bb293467f",
            "value": "Controls:"
          }
        },
        "eb7189d3d49146f984d4436b61102477": {
          "model_module": "@jupyter-widgets/base",
          "model_name": "LayoutModel",
          "model_module_version": "1.2.0",
          "state": {
            "_model_module": "@jupyter-widgets/base",
            "_model_module_version": "1.2.0",
            "_model_name": "LayoutModel",
            "_view_count": null,
            "_view_module": "@jupyter-widgets/base",
            "_view_module_version": "1.2.0",
            "_view_name": "LayoutView",
            "align_content": null,
            "align_items": null,
            "align_self": null,
            "border": null,
            "bottom": null,
            "display": null,
            "flex": null,
            "flex_flow": null,
            "grid_area": null,
            "grid_auto_columns": null,
            "grid_auto_flow": null,
            "grid_auto_rows": null,
            "grid_column": null,
            "grid_gap": null,
            "grid_row": null,
            "grid_template_areas": null,
            "grid_template_columns": null,
            "grid_template_rows": null,
            "height": null,
            "justify_content": null,
            "justify_items": null,
            "left": null,
            "margin": null,
            "max_height": null,
            "max_width": null,
            "min_height": null,
            "min_width": null,
            "object_fit": null,
            "object_position": null,
            "order": null,
            "overflow": null,
            "overflow_x": null,
            "overflow_y": null,
            "padding": null,
            "right": null,
            "top": null,
            "visibility": null,
            "width": null
          }
        },
        "ce0a102614e244aa8316565bb293467f": {
          "model_module": "@jupyter-widgets/controls",
          "model_name": "DescriptionStyleModel",
          "model_module_version": "1.5.0",
          "state": {
            "_model_module": "@jupyter-widgets/controls",
            "_model_module_version": "1.5.0",
            "_model_name": "DescriptionStyleModel",
            "_view_count": null,
            "_view_module": "@jupyter-widgets/base",
            "_view_module_version": "1.2.0",
            "_view_name": "StyleView",
            "description_width": ""
          }
        },
        "22303aaa400f46ec978d865bddd2898e": {
          "model_module": "@jupyter-widgets/controls",
          "model_name": "HBoxModel",
          "model_module_version": "1.5.0",
          "state": {
            "_dom_classes": [],
            "_model_module": "@jupyter-widgets/controls",
            "_model_module_version": "1.5.0",
            "_model_name": "HBoxModel",
            "_view_count": null,
            "_view_module": "@jupyter-widgets/controls",
            "_view_module_version": "1.5.0",
            "_view_name": "HBoxView",
            "box_style": "",
            "children": [
              "IPY_MODEL_bfd45e1b398a4b54a740863253693013",
              "IPY_MODEL_3790145041d14395a305df48182261bd"
            ],
            "layout": "IPY_MODEL_24f8a62eb3e6424eb110951b9de13816"
          }
        },
        "bfd45e1b398a4b54a740863253693013": {
          "model_module": "@jupyter-widgets/controls",
          "model_name": "CheckboxModel",
          "model_module_version": "1.5.0",
          "state": {
            "_dom_classes": [],
            "_model_module": "@jupyter-widgets/controls",
            "_model_module_version": "1.5.0",
            "_model_name": "CheckboxModel",
            "_view_count": null,
            "_view_module": "@jupyter-widgets/controls",
            "_view_module_version": "1.5.0",
            "_view_name": "CheckboxView",
            "description": "gender",
            "description_tooltip": null,
            "disabled": false,
            "indent": true,
            "layout": "IPY_MODEL_073e8b47e4fc456784473db9bd1311ef",
            "style": "IPY_MODEL_e4a10c24d6254047b4dc9b3e4a6931ab",
            "value": false
          }
        },
        "3790145041d14395a305df48182261bd": {
          "model_module": "@jupyter-widgets/controls",
          "model_name": "RadioButtonsModel",
          "model_module_version": "1.5.0",
          "state": {
            "_dom_classes": [],
            "_model_module": "@jupyter-widgets/controls",
            "_model_module_version": "1.5.0",
            "_model_name": "RadioButtonsModel",
            "_options_labels": [
              "No",
              "Yes"
            ],
            "_view_count": null,
            "_view_module": "@jupyter-widgets/controls",
            "_view_module_version": "1.5.0",
            "_view_name": "RadioButtonsView",
            "description": "Is this variable Categorical?",
            "description_tooltip": null,
            "disabled": false,
            "index": 0,
            "layout": "IPY_MODEL_6558c4604bad4a89a691776049c7b788",
            "style": "IPY_MODEL_5761c1830ca746e8b92587a8eb2b4840"
          }
        },
        "24f8a62eb3e6424eb110951b9de13816": {
          "model_module": "@jupyter-widgets/base",
          "model_name": "LayoutModel",
          "model_module_version": "1.2.0",
          "state": {
            "_model_module": "@jupyter-widgets/base",
            "_model_module_version": "1.2.0",
            "_model_name": "LayoutModel",
            "_view_count": null,
            "_view_module": "@jupyter-widgets/base",
            "_view_module_version": "1.2.0",
            "_view_name": "LayoutView",
            "align_content": null,
            "align_items": null,
            "align_self": null,
            "border": null,
            "bottom": null,
            "display": null,
            "flex": null,
            "flex_flow": null,
            "grid_area": null,
            "grid_auto_columns": null,
            "grid_auto_flow": null,
            "grid_auto_rows": null,
            "grid_column": null,
            "grid_gap": null,
            "grid_row": null,
            "grid_template_areas": null,
            "grid_template_columns": null,
            "grid_template_rows": null,
            "height": null,
            "justify_content": null,
            "justify_items": null,
            "left": null,
            "margin": null,
            "max_height": null,
            "max_width": null,
            "min_height": null,
            "min_width": null,
            "object_fit": null,
            "object_position": null,
            "order": null,
            "overflow": null,
            "overflow_x": null,
            "overflow_y": null,
            "padding": null,
            "right": null,
            "top": null,
            "visibility": null,
            "width": null
          }
        },
        "073e8b47e4fc456784473db9bd1311ef": {
          "model_module": "@jupyter-widgets/base",
          "model_name": "LayoutModel",
          "model_module_version": "1.2.0",
          "state": {
            "_model_module": "@jupyter-widgets/base",
            "_model_module_version": "1.2.0",
            "_model_name": "LayoutModel",
            "_view_count": null,
            "_view_module": "@jupyter-widgets/base",
            "_view_module_version": "1.2.0",
            "_view_name": "LayoutView",
            "align_content": null,
            "align_items": null,
            "align_self": null,
            "border": null,
            "bottom": null,
            "display": null,
            "flex": null,
            "flex_flow": null,
            "grid_area": null,
            "grid_auto_columns": null,
            "grid_auto_flow": null,
            "grid_auto_rows": null,
            "grid_column": null,
            "grid_gap": null,
            "grid_row": null,
            "grid_template_areas": null,
            "grid_template_columns": null,
            "grid_template_rows": null,
            "height": null,
            "justify_content": null,
            "justify_items": null,
            "left": null,
            "margin": null,
            "max_height": null,
            "max_width": null,
            "min_height": null,
            "min_width": null,
            "object_fit": null,
            "object_position": null,
            "order": null,
            "overflow": null,
            "overflow_x": null,
            "overflow_y": null,
            "padding": null,
            "right": null,
            "top": null,
            "visibility": null,
            "width": null
          }
        },
        "e4a10c24d6254047b4dc9b3e4a6931ab": {
          "model_module": "@jupyter-widgets/controls",
          "model_name": "DescriptionStyleModel",
          "model_module_version": "1.5.0",
          "state": {
            "_model_module": "@jupyter-widgets/controls",
            "_model_module_version": "1.5.0",
            "_model_name": "DescriptionStyleModel",
            "_view_count": null,
            "_view_module": "@jupyter-widgets/base",
            "_view_module_version": "1.2.0",
            "_view_name": "StyleView",
            "description_width": ""
          }
        },
        "6558c4604bad4a89a691776049c7b788": {
          "model_module": "@jupyter-widgets/base",
          "model_name": "LayoutModel",
          "model_module_version": "1.2.0",
          "state": {
            "_model_module": "@jupyter-widgets/base",
            "_model_module_version": "1.2.0",
            "_model_name": "LayoutModel",
            "_view_count": null,
            "_view_module": "@jupyter-widgets/base",
            "_view_module_version": "1.2.0",
            "_view_name": "LayoutView",
            "align_content": null,
            "align_items": null,
            "align_self": null,
            "border": null,
            "bottom": null,
            "display": "none",
            "flex": null,
            "flex_flow": null,
            "grid_area": null,
            "grid_auto_columns": null,
            "grid_auto_flow": null,
            "grid_auto_rows": null,
            "grid_column": null,
            "grid_gap": null,
            "grid_row": null,
            "grid_template_areas": null,
            "grid_template_columns": null,
            "grid_template_rows": null,
            "height": null,
            "justify_content": null,
            "justify_items": null,
            "left": null,
            "margin": null,
            "max_height": null,
            "max_width": null,
            "min_height": null,
            "min_width": null,
            "object_fit": null,
            "object_position": null,
            "order": null,
            "overflow": null,
            "overflow_x": null,
            "overflow_y": null,
            "padding": null,
            "right": null,
            "top": null,
            "visibility": null,
            "width": "max-content"
          }
        },
        "5761c1830ca746e8b92587a8eb2b4840": {
          "model_module": "@jupyter-widgets/controls",
          "model_name": "DescriptionStyleModel",
          "model_module_version": "1.5.0",
          "state": {
            "_model_module": "@jupyter-widgets/controls",
            "_model_module_version": "1.5.0",
            "_model_name": "DescriptionStyleModel",
            "_view_count": null,
            "_view_module": "@jupyter-widgets/base",
            "_view_module_version": "1.2.0",
            "_view_name": "StyleView",
            "description_width": "initial"
          }
        },
        "e8ca9f65978c46429721300c1a1d202e": {
          "model_module": "@jupyter-widgets/controls",
          "model_name": "HBoxModel",
          "model_module_version": "1.5.0",
          "state": {
            "_dom_classes": [],
            "_model_module": "@jupyter-widgets/controls",
            "_model_module_version": "1.5.0",
            "_model_name": "HBoxModel",
            "_view_count": null,
            "_view_module": "@jupyter-widgets/controls",
            "_view_module_version": "1.5.0",
            "_view_name": "HBoxView",
            "box_style": "",
            "children": [
              "IPY_MODEL_6cb18303e8284361aac3a53840fefe16",
              "IPY_MODEL_41083ff6d7e2437e9b84c934a7a0def0"
            ],
            "layout": "IPY_MODEL_a904a81d823e4f50a1c852587e8ea338"
          }
        },
        "6cb18303e8284361aac3a53840fefe16": {
          "model_module": "@jupyter-widgets/controls",
          "model_name": "CheckboxModel",
          "model_module_version": "1.5.0",
          "state": {
            "_dom_classes": [],
            "_model_module": "@jupyter-widgets/controls",
            "_model_module_version": "1.5.0",
            "_model_name": "CheckboxModel",
            "_view_count": null,
            "_view_module": "@jupyter-widgets/controls",
            "_view_module_version": "1.5.0",
            "_view_name": "CheckboxView",
            "description": "age",
            "description_tooltip": null,
            "disabled": true,
            "indent": true,
            "layout": "IPY_MODEL_7e2375308d404d0dbe0a2e4ccdf5c91c",
            "style": "IPY_MODEL_439de51f1652404d8063ee16dc908f27",
            "value": false
          }
        },
        "41083ff6d7e2437e9b84c934a7a0def0": {
          "model_module": "@jupyter-widgets/controls",
          "model_name": "RadioButtonsModel",
          "model_module_version": "1.5.0",
          "state": {
            "_dom_classes": [],
            "_model_module": "@jupyter-widgets/controls",
            "_model_module_version": "1.5.0",
            "_model_name": "RadioButtonsModel",
            "_options_labels": [
              "No",
              "Yes"
            ],
            "_view_count": null,
            "_view_module": "@jupyter-widgets/controls",
            "_view_module_version": "1.5.0",
            "_view_name": "RadioButtonsView",
            "description": "Is this variable Categorical?",
            "description_tooltip": null,
            "disabled": false,
            "index": 0,
            "layout": "IPY_MODEL_8f25249ca2234fc6b494c4dd0e9ba919",
            "style": "IPY_MODEL_0875658925fe4689ba88062877a944cb"
          }
        },
        "a904a81d823e4f50a1c852587e8ea338": {
          "model_module": "@jupyter-widgets/base",
          "model_name": "LayoutModel",
          "model_module_version": "1.2.0",
          "state": {
            "_model_module": "@jupyter-widgets/base",
            "_model_module_version": "1.2.0",
            "_model_name": "LayoutModel",
            "_view_count": null,
            "_view_module": "@jupyter-widgets/base",
            "_view_module_version": "1.2.0",
            "_view_name": "LayoutView",
            "align_content": null,
            "align_items": null,
            "align_self": null,
            "border": null,
            "bottom": null,
            "display": null,
            "flex": null,
            "flex_flow": null,
            "grid_area": null,
            "grid_auto_columns": null,
            "grid_auto_flow": null,
            "grid_auto_rows": null,
            "grid_column": null,
            "grid_gap": null,
            "grid_row": null,
            "grid_template_areas": null,
            "grid_template_columns": null,
            "grid_template_rows": null,
            "height": null,
            "justify_content": null,
            "justify_items": null,
            "left": null,
            "margin": null,
            "max_height": null,
            "max_width": null,
            "min_height": null,
            "min_width": null,
            "object_fit": null,
            "object_position": null,
            "order": null,
            "overflow": null,
            "overflow_x": null,
            "overflow_y": null,
            "padding": null,
            "right": null,
            "top": null,
            "visibility": null,
            "width": null
          }
        },
        "7e2375308d404d0dbe0a2e4ccdf5c91c": {
          "model_module": "@jupyter-widgets/base",
          "model_name": "LayoutModel",
          "model_module_version": "1.2.0",
          "state": {
            "_model_module": "@jupyter-widgets/base",
            "_model_module_version": "1.2.0",
            "_model_name": "LayoutModel",
            "_view_count": null,
            "_view_module": "@jupyter-widgets/base",
            "_view_module_version": "1.2.0",
            "_view_name": "LayoutView",
            "align_content": null,
            "align_items": null,
            "align_self": null,
            "border": null,
            "bottom": null,
            "display": null,
            "flex": null,
            "flex_flow": null,
            "grid_area": null,
            "grid_auto_columns": null,
            "grid_auto_flow": null,
            "grid_auto_rows": null,
            "grid_column": null,
            "grid_gap": null,
            "grid_row": null,
            "grid_template_areas": null,
            "grid_template_columns": null,
            "grid_template_rows": null,
            "height": null,
            "justify_content": null,
            "justify_items": null,
            "left": null,
            "margin": null,
            "max_height": null,
            "max_width": null,
            "min_height": null,
            "min_width": null,
            "object_fit": null,
            "object_position": null,
            "order": null,
            "overflow": null,
            "overflow_x": null,
            "overflow_y": null,
            "padding": null,
            "right": null,
            "top": null,
            "visibility": null,
            "width": null
          }
        },
        "439de51f1652404d8063ee16dc908f27": {
          "model_module": "@jupyter-widgets/controls",
          "model_name": "DescriptionStyleModel",
          "model_module_version": "1.5.0",
          "state": {
            "_model_module": "@jupyter-widgets/controls",
            "_model_module_version": "1.5.0",
            "_model_name": "DescriptionStyleModel",
            "_view_count": null,
            "_view_module": "@jupyter-widgets/base",
            "_view_module_version": "1.2.0",
            "_view_name": "StyleView",
            "description_width": ""
          }
        },
        "8f25249ca2234fc6b494c4dd0e9ba919": {
          "model_module": "@jupyter-widgets/base",
          "model_name": "LayoutModel",
          "model_module_version": "1.2.0",
          "state": {
            "_model_module": "@jupyter-widgets/base",
            "_model_module_version": "1.2.0",
            "_model_name": "LayoutModel",
            "_view_count": null,
            "_view_module": "@jupyter-widgets/base",
            "_view_module_version": "1.2.0",
            "_view_name": "LayoutView",
            "align_content": null,
            "align_items": null,
            "align_self": null,
            "border": null,
            "bottom": null,
            "display": "none",
            "flex": null,
            "flex_flow": null,
            "grid_area": null,
            "grid_auto_columns": null,
            "grid_auto_flow": null,
            "grid_auto_rows": null,
            "grid_column": null,
            "grid_gap": null,
            "grid_row": null,
            "grid_template_areas": null,
            "grid_template_columns": null,
            "grid_template_rows": null,
            "height": null,
            "justify_content": null,
            "justify_items": null,
            "left": null,
            "margin": null,
            "max_height": null,
            "max_width": null,
            "min_height": null,
            "min_width": null,
            "object_fit": null,
            "object_position": null,
            "order": null,
            "overflow": null,
            "overflow_x": null,
            "overflow_y": null,
            "padding": null,
            "right": null,
            "top": null,
            "visibility": null,
            "width": "max-content"
          }
        },
        "0875658925fe4689ba88062877a944cb": {
          "model_module": "@jupyter-widgets/controls",
          "model_name": "DescriptionStyleModel",
          "model_module_version": "1.5.0",
          "state": {
            "_model_module": "@jupyter-widgets/controls",
            "_model_module_version": "1.5.0",
            "_model_name": "DescriptionStyleModel",
            "_view_count": null,
            "_view_module": "@jupyter-widgets/base",
            "_view_module_version": "1.2.0",
            "_view_name": "StyleView",
            "description_width": "initial"
          }
        },
        "bd7a80ea59b145ecb2e205b3e6530886": {
          "model_module": "@jupyter-widgets/controls",
          "model_name": "HBoxModel",
          "model_module_version": "1.5.0",
          "state": {
            "_dom_classes": [],
            "_model_module": "@jupyter-widgets/controls",
            "_model_module_version": "1.5.0",
            "_model_name": "HBoxModel",
            "_view_count": null,
            "_view_module": "@jupyter-widgets/controls",
            "_view_module_version": "1.5.0",
            "_view_name": "HBoxView",
            "box_style": "",
            "children": [
              "IPY_MODEL_b38cb6edd2b54cf296bb301b812d4c05",
              "IPY_MODEL_726c0119eeb04a21b1fffbf6b94b7dc6"
            ],
            "layout": "IPY_MODEL_db42de05462d4d8c853fafbd0ba331a4"
          }
        },
        "b38cb6edd2b54cf296bb301b812d4c05": {
          "model_module": "@jupyter-widgets/controls",
          "model_name": "CheckboxModel",
          "model_module_version": "1.5.0",
          "state": {
            "_dom_classes": [],
            "_model_module": "@jupyter-widgets/controls",
            "_model_module_version": "1.5.0",
            "_model_name": "CheckboxModel",
            "_view_count": null,
            "_view_module": "@jupyter-widgets/controls",
            "_view_module_version": "1.5.0",
            "_view_name": "CheckboxView",
            "description": "occu",
            "description_tooltip": null,
            "disabled": false,
            "indent": true,
            "layout": "IPY_MODEL_0788d7ce32184136b7de6b50c153a2a4",
            "style": "IPY_MODEL_a04855d9b2894359b92b76934d9e87da",
            "value": false
          }
        },
        "726c0119eeb04a21b1fffbf6b94b7dc6": {
          "model_module": "@jupyter-widgets/controls",
          "model_name": "RadioButtonsModel",
          "model_module_version": "1.5.0",
          "state": {
            "_dom_classes": [],
            "_model_module": "@jupyter-widgets/controls",
            "_model_module_version": "1.5.0",
            "_model_name": "RadioButtonsModel",
            "_options_labels": [
              "No",
              "Yes"
            ],
            "_view_count": null,
            "_view_module": "@jupyter-widgets/controls",
            "_view_module_version": "1.5.0",
            "_view_name": "RadioButtonsView",
            "description": "Is this variable Categorical?",
            "description_tooltip": null,
            "disabled": false,
            "index": 0,
            "layout": "IPY_MODEL_0ca8eda56ce44da79182f13f0bfa5bc1",
            "style": "IPY_MODEL_5efbc2d0aa8844cbaf62355e08201365"
          }
        },
        "db42de05462d4d8c853fafbd0ba331a4": {
          "model_module": "@jupyter-widgets/base",
          "model_name": "LayoutModel",
          "model_module_version": "1.2.0",
          "state": {
            "_model_module": "@jupyter-widgets/base",
            "_model_module_version": "1.2.0",
            "_model_name": "LayoutModel",
            "_view_count": null,
            "_view_module": "@jupyter-widgets/base",
            "_view_module_version": "1.2.0",
            "_view_name": "LayoutView",
            "align_content": null,
            "align_items": null,
            "align_self": null,
            "border": null,
            "bottom": null,
            "display": null,
            "flex": null,
            "flex_flow": null,
            "grid_area": null,
            "grid_auto_columns": null,
            "grid_auto_flow": null,
            "grid_auto_rows": null,
            "grid_column": null,
            "grid_gap": null,
            "grid_row": null,
            "grid_template_areas": null,
            "grid_template_columns": null,
            "grid_template_rows": null,
            "height": null,
            "justify_content": null,
            "justify_items": null,
            "left": null,
            "margin": null,
            "max_height": null,
            "max_width": null,
            "min_height": null,
            "min_width": null,
            "object_fit": null,
            "object_position": null,
            "order": null,
            "overflow": null,
            "overflow_x": null,
            "overflow_y": null,
            "padding": null,
            "right": null,
            "top": null,
            "visibility": null,
            "width": null
          }
        },
        "0788d7ce32184136b7de6b50c153a2a4": {
          "model_module": "@jupyter-widgets/base",
          "model_name": "LayoutModel",
          "model_module_version": "1.2.0",
          "state": {
            "_model_module": "@jupyter-widgets/base",
            "_model_module_version": "1.2.0",
            "_model_name": "LayoutModel",
            "_view_count": null,
            "_view_module": "@jupyter-widgets/base",
            "_view_module_version": "1.2.0",
            "_view_name": "LayoutView",
            "align_content": null,
            "align_items": null,
            "align_self": null,
            "border": null,
            "bottom": null,
            "display": null,
            "flex": null,
            "flex_flow": null,
            "grid_area": null,
            "grid_auto_columns": null,
            "grid_auto_flow": null,
            "grid_auto_rows": null,
            "grid_column": null,
            "grid_gap": null,
            "grid_row": null,
            "grid_template_areas": null,
            "grid_template_columns": null,
            "grid_template_rows": null,
            "height": null,
            "justify_content": null,
            "justify_items": null,
            "left": null,
            "margin": null,
            "max_height": null,
            "max_width": null,
            "min_height": null,
            "min_width": null,
            "object_fit": null,
            "object_position": null,
            "order": null,
            "overflow": null,
            "overflow_x": null,
            "overflow_y": null,
            "padding": null,
            "right": null,
            "top": null,
            "visibility": null,
            "width": null
          }
        },
        "a04855d9b2894359b92b76934d9e87da": {
          "model_module": "@jupyter-widgets/controls",
          "model_name": "DescriptionStyleModel",
          "model_module_version": "1.5.0",
          "state": {
            "_model_module": "@jupyter-widgets/controls",
            "_model_module_version": "1.5.0",
            "_model_name": "DescriptionStyleModel",
            "_view_count": null,
            "_view_module": "@jupyter-widgets/base",
            "_view_module_version": "1.2.0",
            "_view_name": "StyleView",
            "description_width": ""
          }
        },
        "0ca8eda56ce44da79182f13f0bfa5bc1": {
          "model_module": "@jupyter-widgets/base",
          "model_name": "LayoutModel",
          "model_module_version": "1.2.0",
          "state": {
            "_model_module": "@jupyter-widgets/base",
            "_model_module_version": "1.2.0",
            "_model_name": "LayoutModel",
            "_view_count": null,
            "_view_module": "@jupyter-widgets/base",
            "_view_module_version": "1.2.0",
            "_view_name": "LayoutView",
            "align_content": null,
            "align_items": null,
            "align_self": null,
            "border": null,
            "bottom": null,
            "display": "none",
            "flex": null,
            "flex_flow": null,
            "grid_area": null,
            "grid_auto_columns": null,
            "grid_auto_flow": null,
            "grid_auto_rows": null,
            "grid_column": null,
            "grid_gap": null,
            "grid_row": null,
            "grid_template_areas": null,
            "grid_template_columns": null,
            "grid_template_rows": null,
            "height": null,
            "justify_content": null,
            "justify_items": null,
            "left": null,
            "margin": null,
            "max_height": null,
            "max_width": null,
            "min_height": null,
            "min_width": null,
            "object_fit": null,
            "object_position": null,
            "order": null,
            "overflow": null,
            "overflow_x": null,
            "overflow_y": null,
            "padding": null,
            "right": null,
            "top": null,
            "visibility": null,
            "width": "max-content"
          }
        },
        "5efbc2d0aa8844cbaf62355e08201365": {
          "model_module": "@jupyter-widgets/controls",
          "model_name": "DescriptionStyleModel",
          "model_module_version": "1.5.0",
          "state": {
            "_model_module": "@jupyter-widgets/controls",
            "_model_module_version": "1.5.0",
            "_model_name": "DescriptionStyleModel",
            "_view_count": null,
            "_view_module": "@jupyter-widgets/base",
            "_view_module_version": "1.2.0",
            "_view_name": "StyleView",
            "description_width": "initial"
          }
        },
        "9f2c61ca53fc40a0994467303ac4d9e7": {
          "model_module": "@jupyter-widgets/controls",
          "model_name": "HBoxModel",
          "model_module_version": "1.5.0",
          "state": {
            "_dom_classes": [],
            "_model_module": "@jupyter-widgets/controls",
            "_model_module_version": "1.5.0",
            "_model_name": "HBoxModel",
            "_view_count": null,
            "_view_module": "@jupyter-widgets/controls",
            "_view_module_version": "1.5.0",
            "_view_name": "HBoxView",
            "box_style": "",
            "children": [
              "IPY_MODEL_8406c853a4c04a8fbb8a5e34816b92b5",
              "IPY_MODEL_0b93e9f878454c77b65bfa2d330d5a9d"
            ],
            "layout": "IPY_MODEL_896f0fbbb12f4bbe9f5e895b658f2e9f"
          }
        },
        "8406c853a4c04a8fbb8a5e34816b92b5": {
          "model_module": "@jupyter-widgets/controls",
          "model_name": "CheckboxModel",
          "model_module_version": "1.5.0",
          "state": {
            "_dom_classes": [],
            "_model_module": "@jupyter-widgets/controls",
            "_model_module_version": "1.5.0",
            "_model_name": "CheckboxModel",
            "_view_count": null,
            "_view_module": "@jupyter-widgets/controls",
            "_view_module_version": "1.5.0",
            "_view_name": "CheckboxView",
            "description": "is_student",
            "description_tooltip": null,
            "disabled": false,
            "indent": true,
            "layout": "IPY_MODEL_97312d1206c24337ae5bdf51ee3c6951",
            "style": "IPY_MODEL_62207822d27a4a438d35f4dba29511c5",
            "value": false
          }
        },
        "0b93e9f878454c77b65bfa2d330d5a9d": {
          "model_module": "@jupyter-widgets/controls",
          "model_name": "RadioButtonsModel",
          "model_module_version": "1.5.0",
          "state": {
            "_dom_classes": [],
            "_model_module": "@jupyter-widgets/controls",
            "_model_module_version": "1.5.0",
            "_model_name": "RadioButtonsModel",
            "_options_labels": [
              "No",
              "Yes"
            ],
            "_view_count": null,
            "_view_module": "@jupyter-widgets/controls",
            "_view_module_version": "1.5.0",
            "_view_name": "RadioButtonsView",
            "description": "Is this variable Categorical?",
            "description_tooltip": null,
            "disabled": false,
            "index": 0,
            "layout": "IPY_MODEL_3a06ff629f424b9faa93bef76c3daa1f",
            "style": "IPY_MODEL_0386cf83c125433da65739194e602ef1"
          }
        },
        "896f0fbbb12f4bbe9f5e895b658f2e9f": {
          "model_module": "@jupyter-widgets/base",
          "model_name": "LayoutModel",
          "model_module_version": "1.2.0",
          "state": {
            "_model_module": "@jupyter-widgets/base",
            "_model_module_version": "1.2.0",
            "_model_name": "LayoutModel",
            "_view_count": null,
            "_view_module": "@jupyter-widgets/base",
            "_view_module_version": "1.2.0",
            "_view_name": "LayoutView",
            "align_content": null,
            "align_items": null,
            "align_self": null,
            "border": null,
            "bottom": null,
            "display": null,
            "flex": null,
            "flex_flow": null,
            "grid_area": null,
            "grid_auto_columns": null,
            "grid_auto_flow": null,
            "grid_auto_rows": null,
            "grid_column": null,
            "grid_gap": null,
            "grid_row": null,
            "grid_template_areas": null,
            "grid_template_columns": null,
            "grid_template_rows": null,
            "height": null,
            "justify_content": null,
            "justify_items": null,
            "left": null,
            "margin": null,
            "max_height": null,
            "max_width": null,
            "min_height": null,
            "min_width": null,
            "object_fit": null,
            "object_position": null,
            "order": null,
            "overflow": null,
            "overflow_x": null,
            "overflow_y": null,
            "padding": null,
            "right": null,
            "top": null,
            "visibility": null,
            "width": null
          }
        },
        "97312d1206c24337ae5bdf51ee3c6951": {
          "model_module": "@jupyter-widgets/base",
          "model_name": "LayoutModel",
          "model_module_version": "1.2.0",
          "state": {
            "_model_module": "@jupyter-widgets/base",
            "_model_module_version": "1.2.0",
            "_model_name": "LayoutModel",
            "_view_count": null,
            "_view_module": "@jupyter-widgets/base",
            "_view_module_version": "1.2.0",
            "_view_name": "LayoutView",
            "align_content": null,
            "align_items": null,
            "align_self": null,
            "border": null,
            "bottom": null,
            "display": null,
            "flex": null,
            "flex_flow": null,
            "grid_area": null,
            "grid_auto_columns": null,
            "grid_auto_flow": null,
            "grid_auto_rows": null,
            "grid_column": null,
            "grid_gap": null,
            "grid_row": null,
            "grid_template_areas": null,
            "grid_template_columns": null,
            "grid_template_rows": null,
            "height": null,
            "justify_content": null,
            "justify_items": null,
            "left": null,
            "margin": null,
            "max_height": null,
            "max_width": null,
            "min_height": null,
            "min_width": null,
            "object_fit": null,
            "object_position": null,
            "order": null,
            "overflow": null,
            "overflow_x": null,
            "overflow_y": null,
            "padding": null,
            "right": null,
            "top": null,
            "visibility": null,
            "width": null
          }
        },
        "62207822d27a4a438d35f4dba29511c5": {
          "model_module": "@jupyter-widgets/controls",
          "model_name": "DescriptionStyleModel",
          "model_module_version": "1.5.0",
          "state": {
            "_model_module": "@jupyter-widgets/controls",
            "_model_module_version": "1.5.0",
            "_model_name": "DescriptionStyleModel",
            "_view_count": null,
            "_view_module": "@jupyter-widgets/base",
            "_view_module_version": "1.2.0",
            "_view_name": "StyleView",
            "description_width": ""
          }
        },
        "3a06ff629f424b9faa93bef76c3daa1f": {
          "model_module": "@jupyter-widgets/base",
          "model_name": "LayoutModel",
          "model_module_version": "1.2.0",
          "state": {
            "_model_module": "@jupyter-widgets/base",
            "_model_module_version": "1.2.0",
            "_model_name": "LayoutModel",
            "_view_count": null,
            "_view_module": "@jupyter-widgets/base",
            "_view_module_version": "1.2.0",
            "_view_name": "LayoutView",
            "align_content": null,
            "align_items": null,
            "align_self": null,
            "border": null,
            "bottom": null,
            "display": "none",
            "flex": null,
            "flex_flow": null,
            "grid_area": null,
            "grid_auto_columns": null,
            "grid_auto_flow": null,
            "grid_auto_rows": null,
            "grid_column": null,
            "grid_gap": null,
            "grid_row": null,
            "grid_template_areas": null,
            "grid_template_columns": null,
            "grid_template_rows": null,
            "height": null,
            "justify_content": null,
            "justify_items": null,
            "left": null,
            "margin": null,
            "max_height": null,
            "max_width": null,
            "min_height": null,
            "min_width": null,
            "object_fit": null,
            "object_position": null,
            "order": null,
            "overflow": null,
            "overflow_x": null,
            "overflow_y": null,
            "padding": null,
            "right": null,
            "top": null,
            "visibility": null,
            "width": "max-content"
          }
        },
        "0386cf83c125433da65739194e602ef1": {
          "model_module": "@jupyter-widgets/controls",
          "model_name": "DescriptionStyleModel",
          "model_module_version": "1.5.0",
          "state": {
            "_model_module": "@jupyter-widgets/controls",
            "_model_module_version": "1.5.0",
            "_model_name": "DescriptionStyleModel",
            "_view_count": null,
            "_view_module": "@jupyter-widgets/base",
            "_view_module_version": "1.2.0",
            "_view_name": "StyleView",
            "description_width": "initial"
          }
        },
        "be4cafdc9c6248cf8fab9112c610a5ce": {
          "model_module": "@jupyter-widgets/controls",
          "model_name": "ButtonModel",
          "model_module_version": "1.5.0",
          "state": {
            "_dom_classes": [],
            "_model_module": "@jupyter-widgets/controls",
            "_model_module_version": "1.5.0",
            "_model_name": "ButtonModel",
            "_view_count": null,
            "_view_module": "@jupyter-widgets/controls",
            "_view_module_version": "1.5.0",
            "_view_name": "ButtonView",
            "button_style": "",
            "description": "Submit",
            "disabled": false,
            "icon": "",
            "layout": "IPY_MODEL_99713b0870cd4f78862c32c125ab32af",
            "style": "IPY_MODEL_e3f0dbf8a6334775b353a9d8b4d02767",
            "tooltip": ""
          }
        },
        "99713b0870cd4f78862c32c125ab32af": {
          "model_module": "@jupyter-widgets/base",
          "model_name": "LayoutModel",
          "model_module_version": "1.2.0",
          "state": {
            "_model_module": "@jupyter-widgets/base",
            "_model_module_version": "1.2.0",
            "_model_name": "LayoutModel",
            "_view_count": null,
            "_view_module": "@jupyter-widgets/base",
            "_view_module_version": "1.2.0",
            "_view_name": "LayoutView",
            "align_content": null,
            "align_items": null,
            "align_self": null,
            "border": null,
            "bottom": null,
            "display": null,
            "flex": null,
            "flex_flow": null,
            "grid_area": null,
            "grid_auto_columns": null,
            "grid_auto_flow": null,
            "grid_auto_rows": null,
            "grid_column": null,
            "grid_gap": null,
            "grid_row": null,
            "grid_template_areas": null,
            "grid_template_columns": null,
            "grid_template_rows": null,
            "height": null,
            "justify_content": null,
            "justify_items": null,
            "left": null,
            "margin": null,
            "max_height": null,
            "max_width": null,
            "min_height": null,
            "min_width": null,
            "object_fit": null,
            "object_position": null,
            "order": null,
            "overflow": null,
            "overflow_x": null,
            "overflow_y": null,
            "padding": null,
            "right": null,
            "top": null,
            "visibility": null,
            "width": null
          }
        },
        "e3f0dbf8a6334775b353a9d8b4d02767": {
          "model_module": "@jupyter-widgets/controls",
          "model_name": "ButtonStyleModel",
          "model_module_version": "1.5.0",
          "state": {
            "_model_module": "@jupyter-widgets/controls",
            "_model_module_version": "1.5.0",
            "_model_name": "ButtonStyleModel",
            "_view_count": null,
            "_view_module": "@jupyter-widgets/base",
            "_view_module_version": "1.2.0",
            "_view_name": "StyleView",
            "button_color": null,
            "font_weight": ""
          }
        }
      }
    }
  },
  "nbformat": 4,
  "nbformat_minor": 0
}