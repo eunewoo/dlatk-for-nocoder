{
  "cells": [
    {
      "cell_type": "markdown",
      "metadata": {
        "id": "view-in-github",
        "colab_type": "text"
      },
      "source": [
        "<a href=\"https://colab.research.google.com/github/eunewoo/dlatk-for-nocoder/blob/main/Copy_of_Practice_of_DLATK2_2_Colab_Tutorial_for_Differential_Language_Analysis_(Getting_Started).ipynb\" target=\"_parent\"><img src=\"https://colab.research.google.com/assets/colab-badge.svg\" alt=\"Open In Colab\"/></a>"
      ]
    },
    {
      "cell_type": "markdown",
      "metadata": {
        "id": "0Jf8iKr5C_nO"
      },
      "source": [
        "<h1> DLATK - Colab Tutorial for Differential Language Analysis </h1>\n",
        "\n",
        "This tutorial covers:\n",
        "\n",
        "<img src=\"https://drive.google.com/uc?export=view&id=16SgSLj9KkmxUX8LEeFNsq0GRE4gqvQux\" height=\"170\"/>"
      ]
    },
    {
      "cell_type": "markdown",
      "metadata": {
        "id": "-TnZ_cBOTGBZ"
      },
      "source": [
        "# STEP1: Setup Colab\n"
      ]
    },
    {
      "cell_type": "code",
      "source": [
        "#@markdown Click the __Play button__ to the left to start the setup. Proceed to the next stage once you see:\n",
        "\n",
        "#@markdown \"DLATK setup completed successfully. Enjoy your analysis!\"\n",
        "\n",
        "from IPython.utils import io\n",
        "import subprocess\n",
        "\n",
        "def setup_dlatk():\n",
        "    # Install DLATK with additional features\n",
        "    subprocess.run(\"pip install dlatk[wordcloud,langid]\", shell=True)\n",
        "\n",
        "    # Initialize DLATK for Colab environment\n",
        "    result = subprocess.run(\"dlatkInterface.py --colabify\", shell=True, capture_output=True, text=True)\n",
        "\n",
        "    # Optional: Adjust Colab output for a better experience\n",
        "    try:\n",
        "        from dlatk.tools.colab_methods import colab_shorten_and_bg\n",
        "        colab_shorten_and_bg()  # This shortens output blocks and changes the output background color.\n",
        "    except ImportError as e:\n",
        "        print(\"Some optional setup steps failed:\", e)\n",
        "\n",
        "    return result.stdout + '\\n' + result.stderr\n",
        "\n",
        "# Suppressing the output of the main installation and setup commands\n",
        "with io.capture_output() as captured:\n",
        "    setup_output = setup_dlatk()\n",
        "\n",
        "# Check the captured output for a specific success message\n",
        "if 'DLATK exits with success! A good day indeed' in setup_output:\n",
        "    print(\"DLATK setup completed successfully. Enjoy your analysis!\")\n",
        "else:\n",
        "    print(\"DLATK setup may have encountered issues. Please check the logs for more details.\")\n"
      ],
      "metadata": {
        "id": "a2iGmGWKdcO5",
        "outputId": "4f5e4408-8145-4fed-d7e1-6523e9d289da",
        "colab": {
          "base_uri": "https://localhost:8080/"
        },
        "cellView": "form"
      },
      "execution_count": 1,
      "outputs": [
        {
          "output_type": "stream",
          "name": "stdout",
          "text": [
            "DLATK setup completed successfully. Enjoy your analysis!\n"
          ]
        }
      ]
    },
    {
      "cell_type": "markdown",
      "source": [
        "<a name=\"data\"></a>\n",
        "# STEP2: Upload text data & Select text column"
      ],
      "metadata": {
        "id": "36sjhFU1RGZF"
      }
    },
    {
      "cell_type": "markdown",
      "source": [
        "DLATK uses data in CSV (comma-seprated value) format. Your csv needs at least two columns:\n",
        "* **`message`**: contains the text to be analyzed.\n",
        "* **`user_id`**: contains a user id for each message.\n",
        "\n",
        "<br />\n",
        "\n",
        "The CSV may also have other columns, including other ids you may wish to analyze your data by (e.g. `message_id`). For example,\n",
        "\n",
        "|message_id|message|user_id|created_date|\n",
        "|----------|-------|-------|------------|\n",
        "|17557|urlLink Ananova - New rules on pizza to be introduced|1405024|2004-05-27|\n",
        "|15996|I just read John Kerry's nomination acceptance speech. Christ, he can talk.  God bless America.|3523319|2004-07-29|\n",
        "|27462| Talk about 'better late than never'...   urlLink  Couple Living Together 77 Years Marries   .   Thanks to  urlLink  Zorak  for the link.|942828|2003-04-04|\n",
        "\n",
        "<br />\n",
        "<br />\n",
        "\n",
        "\n",
        "\n",
        "* `Upload from desktop` - your csv data that you want to analyze.\n",
        "* `msgs404u.csv` - sample language data from 404 blog authors.\n",
        "<!-- * `msgs100u.csv` - sample language data from 100 blog authors. -->\n",
        "\n",
        "<br />"
      ],
      "metadata": {
        "id": "K0ya5V1JTZxO"
      }
    },
    {
      "cell_type": "code",
      "source": [
        "import re\n",
        "from google.colab import files\n",
        "import os\n",
        "import csv\n",
        "\n",
        "#@title Upload text data\n",
        "#@markdown ### Select text Dataset or Upload from Desktop\n",
        "#@markdown Choose a text dataset from the dropdown, or select \"Upload from desktop\" to upload your own file.\n",
        "\n",
        "#@markdown After making your selection, click the __play button__ at the top left to proceed.\n",
        "\n",
        "text_filename = \"msgs404u.csv\" #@param [\"Upload from desktop\", \"msgs404u.csv\"]\n",
        "\n",
        "#@markdown If \"Upload from desktop\" is selected, then click the __\"Choose Files\"__ button at the bottom to upload your file.\n",
        "\n",
        "def sanitize_file_name(file_name):\n",
        "    base_file_name = re.sub(r\" \\(\\d+\\)\", \"\", file_name)\n",
        "    if not base_file_name.endswith('.csv'):\n",
        "        base_file_name += '.csv'\n",
        "    return base_file_name\n",
        "\n",
        "def add_message_id_if_missing(file_path):\n",
        "    headers_changed = False\n",
        "    with open(file_path, mode='r', encoding='utf-8') as file:\n",
        "        reader = csv.reader(file)\n",
        "        headers = next(reader, None)\n",
        "\n",
        "        if headers and 'message_id' not in headers:\n",
        "            headers_changed = True\n",
        "            new_rows = [['message_id'] + headers]\n",
        "            new_rows += [[str(i+1)] + row for i, row in enumerate(reader)]\n",
        "\n",
        "    if headers_changed:\n",
        "        with open(file_path, mode='w', encoding='utf-8', newline='') as file:\n",
        "            writer = csv.writer(file)\n",
        "            writer.writerows(new_rows)\n",
        "        print(\"Added 'message_id' column and saved changes.\")\n",
        "    else:\n",
        "        print(\"'message_id' column already exists.\")\n",
        "\n",
        "    #return new_rows\n",
        "\n",
        "if text_filename != \"Upload from desktop\":\n",
        "    file_name = sanitize_file_name(text_filename)\n",
        "    file_path = os.path.join(\"/content\", file_name)\n",
        "    print(f'Text file selected: {file_name}')\n",
        "else:\n",
        "    print(\"Please upload a file from the desktop.\")\n",
        "    uploaded_files = files.upload()\n",
        "    if uploaded_files:\n",
        "        file_name = next(iter(uploaded_files))\n",
        "        file_name = sanitize_file_name(file_name)\n",
        "        file_path = os.path.join(\"/content\", file_name)\n",
        "        headers = add_message_id_if_missing(file_path)\n",
        "        add_message_id_if_missing(file_path)\n",
        "        print(f'Uploaded file name: {file_name}')\n",
        "    else:\n",
        "        print(\"No file uploaded. Please upload a file to proceed.\")\n",
        "\n",
        "if os.path.exists(file_path):\n",
        "    print(f'File ready for use: {file_path}')\n",
        "else:\n",
        "    print(\"File not found. Please ensure the file exists and try again.\")\n"
      ],
      "metadata": {
        "id": "jVMIUBu_9D0H",
        "colab": {
          "base_uri": "https://localhost:8080/",
          "height": 53
        },
        "outputId": "298ae792-73a6-4cfe-89f2-b2fec07d1d6a",
        "cellView": "form"
      },
      "execution_count": 2,
      "outputs": [
        {
          "output_type": "display_data",
          "data": {
            "text/plain": [
              "<IPython.core.display.Javascript object>"
            ],
            "application/javascript": [
              "google.colab.output.setIframeHeight(0, true, {maxHeight: 250})"
            ]
          },
          "metadata": {}
        },
        {
          "output_type": "display_data",
          "data": {
            "text/plain": [
              "<IPython.core.display.HTML object>"
            ],
            "text/html": [
              "<style> body {background-color: rgb(255, 250, 232);}</style>"
            ]
          },
          "metadata": {}
        },
        {
          "output_type": "stream",
          "name": "stdout",
          "text": [
            "Text file selected: msgs404u.csv\n",
            "File ready for use: /content/msgs404u.csv\n"
          ]
        }
      ]
    },
    {
      "cell_type": "code",
      "source": [
        "#@title Select Text Column (unit of analysis)\n",
        "\n",
        "#@markdown Click the __play button__ at the top left to view the dropdown menu.\n",
        "\n",
        "#@markdown __Select__ the Text Column you wish to analyze, then click the \"Run Command\" button.\n",
        "\n",
        "import csv\n",
        "import ipywidgets as widgets\n",
        "from IPython.display import display, clear_output\n",
        "\n",
        "def get_available_columns(file_path):\n",
        "    \"\"\"Read the first row of the CSV file to get the column names.\"\"\"\n",
        "    with open(file_path, mode='r', encoding='utf-8') as file:\n",
        "        reader = csv.reader(file)\n",
        "        headers = next(reader, None)\n",
        "    return headers\n",
        "\n",
        "available_columns = get_available_columns(file_path)\n",
        "\n",
        "text_column_options = [col for col in available_columns if col != \"user\" and not col.endswith(\"_id\")]\n",
        "text_column_dropdown = widgets.Dropdown(options=text_column_options, description='Text Column:')\n",
        "text_confirm_button = widgets.Button(description=\"Confirm Text Column\")\n",
        "output = widgets.Output()\n",
        "\n",
        "def on_text_confirm_button_clicked(b):\n",
        "    global text_column_name\n",
        "    text_column_name = text_column_dropdown.value\n",
        "    with output:\n",
        "        clear_output()\n",
        "        print(f'Text Column confirmed: {text_column_name}')\n",
        "        # Now you should run the next code block to select the ID column\n",
        "\n",
        "text_confirm_button.on_click(on_text_confirm_button_clicked)\n",
        "display(text_column_dropdown, text_confirm_button, output)\n"
      ],
      "metadata": {
        "colab": {
          "base_uri": "https://localhost:8080/",
          "height": 99,
          "referenced_widgets": [
            "9bf5f1737fa24d139e51ebad8798df7f",
            "abdbfa46b2284200b46c8db9c0bbab03",
            "561058f9267144df8125b20f0f43a11e",
            "e827a70bdb9e4c74ac026387b60a33b6",
            "c36c1c14d4964119bfa56652cc79575f",
            "a89c2062c5eb444ab0f3e8dcbdea0813",
            "eae15315340e4b0d81f03ae7a5e1c808",
            "0a40eeadcb714736b8476d7d413ce602"
          ]
        },
        "id": "1JDrQ2WK2pTV",
        "outputId": "af793b55-f26b-4ad6-a325-4ff51a568ea2"
      },
      "execution_count": 6,
      "outputs": [
        {
          "output_type": "display_data",
          "data": {
            "text/plain": [
              "<IPython.core.display.Javascript object>"
            ],
            "application/javascript": [
              "google.colab.output.setIframeHeight(0, true, {maxHeight: 250})"
            ]
          },
          "metadata": {}
        },
        {
          "output_type": "display_data",
          "data": {
            "text/plain": [
              "<IPython.core.display.HTML object>"
            ],
            "text/html": [
              "<style> body {background-color: rgb(255, 250, 232);}</style>"
            ]
          },
          "metadata": {}
        },
        {
          "output_type": "display_data",
          "data": {
            "text/plain": [
              "Dropdown(description='Text Column:', options=('created_date', 'message'), value='created_date')"
            ],
            "application/vnd.jupyter.widget-view+json": {
              "version_major": 2,
              "version_minor": 0,
              "model_id": "9bf5f1737fa24d139e51ebad8798df7f"
            }
          },
          "metadata": {}
        },
        {
          "output_type": "display_data",
          "data": {
            "text/plain": [
              "Button(description='Confirm Text Column', style=ButtonStyle())"
            ],
            "application/vnd.jupyter.widget-view+json": {
              "version_major": 2,
              "version_minor": 0,
              "model_id": "e827a70bdb9e4c74ac026387b60a33b6"
            }
          },
          "metadata": {}
        },
        {
          "output_type": "display_data",
          "data": {
            "text/plain": [
              "Output()"
            ],
            "application/vnd.jupyter.widget-view+json": {
              "version_major": 2,
              "version_minor": 0,
              "model_id": "eae15315340e4b0d81f03ae7a5e1c808"
            }
          },
          "metadata": {}
        }
      ]
    },
    {
      "cell_type": "code",
      "source": [
        "#@title Select ID Column (unit of analysis)\n",
        "\n",
        "#@markdown Click the __play button__ at the top left to view the dropdown menu.\n",
        "\n",
        "#@markdown __Select__ the ID Column you wish to analyze, then click the \"Confirm ID Column\" button.\n",
        "\n",
        "import csv\n",
        "import ipywidgets as widgets\n",
        "from IPython.display import display, clear_output\n",
        "\n",
        "# Assuming 'file_path' is defined and accessible\n",
        "# Assuming 'text_column_name' is defined and accessible (selected from Code A)\n",
        "\n",
        "def get_available_columns(file_path):\n",
        "    \"\"\"Read the first row of the CSV file to get the column names.\"\"\"\n",
        "    with open(file_path, mode='r', encoding='utf-8') as file:\n",
        "        reader = csv.reader(file)\n",
        "        headers = next(reader, None)\n",
        "    return headers\n",
        "\n",
        "def add_id_column_if_missing(file_path, column_name):\n",
        "    \"\"\"Adds an ID column if it's missing, appending numbers from 1 upwards to the end of each row.\"\"\"\n",
        "    with open(file_path, mode='r', encoding='utf-8') as file:\n",
        "        reader = list(csv.reader(file))\n",
        "        headers = reader[0]\n",
        "        column_id_name = column_name + '_id'\n",
        "        if column_id_name not in headers:\n",
        "            headers.append(column_id_name)  # Append the new ID column name to the headers\n",
        "            for i, row in enumerate(reader[1:], start=1):  # Start from 1 to skip header row\n",
        "                row.append(str(i))  # Append the new ID value at the end of each row\n",
        "            with open(file_path, mode='w', encoding='utf-8', newline='') as wfile:\n",
        "                writer = csv.writer(wfile)\n",
        "                writer.writerow(headers)  # Write the updated headers\n",
        "                writer.writerows(reader[1:])  # Write the updated data rows, excluding the original headers\n",
        "            print(f\"Added '{column_id_name}' column and saved changes.\")\n",
        "            return True\n",
        "    return False\n",
        "\n",
        "# Attempt to add an ID column if missing\n",
        "add_id_column_if_missing(file_path, text_column_name)\n",
        "\n",
        "# Refresh available columns to include potential new ID column\n",
        "available_columns = get_available_columns(file_path)\n",
        "\n",
        "# Include all columns ending with \"_id\" and the new ID column related to the selected text column\n",
        "id_column_options = [col for col in available_columns if col.endswith(\"_id\")]\n",
        "\n",
        "id_column_dropdown = widgets.Dropdown(options=id_column_options, description='ID Column:', value=None)\n",
        "id_confirm_button = widgets.Button(description=\"Confirm ID Column\")\n",
        "output = widgets.Output()\n",
        "\n",
        "def on_id_confirm_button_clicked(b):\n",
        "    global id_column_name\n",
        "    id_column_name = id_column_dropdown.value\n",
        "    with output:\n",
        "        clear_output()\n",
        "        print(f'ID Column confirmed: {id_column_name}')\n",
        "\n",
        "id_confirm_button.on_click(on_id_confirm_button_clicked)\n",
        "display(id_column_dropdown, id_confirm_button, output)\n"
      ],
      "metadata": {
        "colab": {
          "base_uri": "https://localhost:8080/",
          "height": 99,
          "referenced_widgets": [
            "896da03f26d44e01b2372e7d34835041",
            "216d4acc7d0a4307a098d6e6cc8ed3ee",
            "bc3620188ee64d7f9de9d2ebe91c9947",
            "5e017843f8ef43bba6140cc2c9460bad",
            "a7da726f1e394857b8a9a6aac2d6dbf9",
            "f965de57b37e4b91b1509ed89dda3c8b",
            "8483df44e4f34ec781dc82f7ca4327f0",
            "c412a83b3f3c4b1caa8121253f281f6a"
          ]
        },
        "id": "T9OmVmaC4nR7",
        "outputId": "071f35f7-6154-4882-e8c8-22e2e36603b3"
      },
      "execution_count": 8,
      "outputs": [
        {
          "output_type": "display_data",
          "data": {
            "text/plain": [
              "<IPython.core.display.Javascript object>"
            ],
            "application/javascript": [
              "google.colab.output.setIframeHeight(0, true, {maxHeight: 250})"
            ]
          },
          "metadata": {}
        },
        {
          "output_type": "display_data",
          "data": {
            "text/plain": [
              "<IPython.core.display.HTML object>"
            ],
            "text/html": [
              "<style> body {background-color: rgb(255, 250, 232);}</style>"
            ]
          },
          "metadata": {}
        },
        {
          "output_type": "display_data",
          "data": {
            "text/plain": [
              "Dropdown(description='ID Column:', options=('message_id', 'user_id'), value=None)"
            ],
            "application/vnd.jupyter.widget-view+json": {
              "version_major": 2,
              "version_minor": 0,
              "model_id": "896da03f26d44e01b2372e7d34835041"
            }
          },
          "metadata": {}
        },
        {
          "output_type": "display_data",
          "data": {
            "text/plain": [
              "Button(description='Confirm ID Column', style=ButtonStyle())"
            ],
            "application/vnd.jupyter.widget-view+json": {
              "version_major": 2,
              "version_minor": 0,
              "model_id": "5e017843f8ef43bba6140cc2c9460bad"
            }
          },
          "metadata": {}
        },
        {
          "output_type": "display_data",
          "data": {
            "text/plain": [
              "Output()"
            ],
            "application/vnd.jupyter.widget-view+json": {
              "version_major": 2,
              "version_minor": 0,
              "model_id": "8483df44e4f34ec781dc82f7ca4327f0"
            }
          },
          "metadata": {}
        }
      ]
    },
    {
      "cell_type": "markdown",
      "source": [
        "👉 For detailed information about the columns in the `msgs404u.csv` file, as well as their corresponding outcome files `users404.csv`, you can refer to [this link](https://github.com/dlatk/dlatk/blob/public/dlatk/data/colab_dataset.md). This link contains detailed descriptions of what each column in these datasets represents."
      ],
      "metadata": {
        "id": "c41ypjC0I85n"
      }
    },
    {
      "cell_type": "markdown",
      "source": [
        "<a name=\"data\"></a>\n",
        "# STEP3: Select features to extract & Check tables"
      ],
      "metadata": {
        "id": "RC-tXSgWTnB6"
      }
    },
    {
      "cell_type": "code",
      "source": [
        "import subprocess\n",
        "import ipywidgets as widgets\n",
        "from IPython.display import display, clear_output\n",
        "\n",
        "#@title Select features to extract\n",
        "#@markdown Click the __play button__ at the top left to view the dropdown menu.\n",
        "\n",
        "#@markdown __Select__ the features you wish to analyze, then click the \"Run Command\" button.\n",
        "\n",
        "database_name = \"colab_csv\"\n",
        "file_name_without_extension = file_name.rsplit('.', 1)[0]  # Assuming file_name is defined globally\n",
        "\n",
        "# Dropdown for feature generation options\n",
        "feature_options = widgets.Dropdown(\n",
        "    options=['Select option', '1to2grams-filtered', '1to2grams-unfiltered',  'topics'],\n",
        "    value='Select option',\n",
        "    description='Options:',\n",
        ")\n",
        "\n",
        "# Text area for displaying output\n",
        "output = widgets.Output()\n",
        "run_button = widgets.Button(description=\"Run Command\")\n",
        "generated_feature_table_name = None  # This will hold the name of the last generated feature table for reuse\n",
        "\n",
        "def generate_unfiltered_feature_table():\n",
        "    global generated_feature_table_name\n",
        "    combined_feature_table_name = \"1to2gram\"\n",
        "    command = f\"dlatkInterface.py -d {database_name} -t {file_name} -g {id_column_name} \" \\\n",
        "              f\"--message_field {text_column_name} --messageid_field {text_column_name}_id \" \\\n",
        "              f\"--add_ngrams -n 1 2 --combine_feat_tables {combined_feature_table_name}\"\n",
        "\n",
        "    print(f\"Generating unfiltered 1to2grams feature table: {command}\")\n",
        "    print(\"It will take upto 3 minutes to execute it, please wait!\")\n",
        "    subprocess.run(command, shell=True)\n",
        "    generated_feature_table_name = f\"feat${combined_feature_table_name}${file_name_without_extension}${id_column_name}\"\n",
        "    print(f\"Generated feature table: {generated_feature_table_name}\")\n",
        "\n",
        "def execute_feature_command(b):\n",
        "    global generated_feature_table_name\n",
        "\n",
        "    with output:\n",
        "        clear_output()\n",
        "        if feature_options.value == '1to2grams-unfiltered':\n",
        "            generate_unfiltered_feature_table()\n",
        "\n",
        "        elif feature_options.value == '1to2grams-filtered':\n",
        "            # if not generated_feature_table_name:\n",
        "            #     print(\"Unfiltered table not found, generating now...\")\n",
        "            #     generate_unfiltered_feature_table()\n",
        "            combined_feature_table_name = \"1to2gram\"\n",
        "            command = f\"dlatkInterface.py -d {database_name} -t {file_name} -g {id_column_name} \" \\\n",
        "                      f\"--message_field {text_column_name} --messageid_field {text_column_name}_id \" \\\n",
        "                      f\"--add_ngrams -n 1 2 --combine_feat_tables {combined_feature_table_name} \" \\\n",
        "                      f\"--feat_occ_filter --set_p_occ 0.10 --feat_colloc_filter\"\n",
        "\n",
        "            print(f\"Executing: {command}\")\n",
        "            print(\"It will take upto 3 minutes to execute it, please wait!\")\n",
        "            subprocess.run(command, shell=True)\n",
        "            generated_feature_table_name = f\"feat${combined_feature_table_name}${file_name_without_extension}${id_column_name}$0_1$pmi3_0\"\n",
        "            print(f\"Generated feature table: {generated_feature_table_name}\")\n",
        "\n",
        "        elif feature_options.value == 'topics':\n",
        "            n_topics = 20\n",
        "            lex_table_name = f\"feat$cat_fb2000_cp_w${file_name_without_extension}${id_column_name}$1gra\"\n",
        "            # command = f\"dlatkInterface.py -d {database_name} -t {file_name} -g {group_id} \" \\\n",
        "            #           f\"--group_freq_thresh 100 --add_lex_table -l nrc_sent --weighted_lexicon\"\n",
        "            command = f\"dlatkInterface.py -d {database_name} -t {file_name} -g {id_column_name} \" \\\n",
        "                      f\"--message_field {text_column_name} --messageid_field {text_column_name}_id \" \\\n",
        "                      f\"--group_freq_thresh 100 --add_lex_table -l fb2000_cp --weighted_lexicon\"\n",
        "            print(f\"Executing: {command}\")\n",
        "            print(\"It will take upto 3 minutes to execute it, please wait!\")\n",
        "            subprocess.run(command, shell=True)\n",
        "            print(f\"Generated LDA feature table: {lex_table_name}\")\n",
        "\n",
        "run_button.on_click(execute_feature_command)\n",
        "display(feature_options, run_button, output)\n"
      ],
      "metadata": {
        "colab": {
          "base_uri": "https://localhost:8080/",
          "height": 152,
          "referenced_widgets": [
            "4e7b2ea571fe41b18bfd99654d458fdd",
            "49301b91a428423db13f97021794fc29",
            "c0918df94b7a439aa2af5c8fb73a147d",
            "f509a291cbab4ce587efc4871e3bf533",
            "13c481f9a11e4ca094cfdc8c55a00caa",
            "70515466266549ee9147b642836ee6d6",
            "ba258e8684f44125b16d4352a1cc6fe3",
            "6131f47af2d84627810ce259e32dcc97"
          ]
        },
        "id": "w6fpxvehTZSS",
        "outputId": "3ece2f37-bc2e-4b8f-b332-ec26e573386f"
      },
      "execution_count": 10,
      "outputs": [
        {
          "output_type": "display_data",
          "data": {
            "text/plain": [
              "<IPython.core.display.Javascript object>"
            ],
            "application/javascript": [
              "google.colab.output.setIframeHeight(0, true, {maxHeight: 250})"
            ]
          },
          "metadata": {}
        },
        {
          "output_type": "display_data",
          "data": {
            "text/plain": [
              "<IPython.core.display.HTML object>"
            ],
            "text/html": [
              "<style> body {background-color: rgb(255, 250, 232);}</style>"
            ]
          },
          "metadata": {}
        },
        {
          "output_type": "display_data",
          "data": {
            "text/plain": [
              "Dropdown(description='Options:', options=('Select option', '1to2grams-filtered', '1to2grams-unfiltered', 'topi…"
            ],
            "application/vnd.jupyter.widget-view+json": {
              "version_major": 2,
              "version_minor": 0,
              "model_id": "4e7b2ea571fe41b18bfd99654d458fdd"
            }
          },
          "metadata": {}
        },
        {
          "output_type": "display_data",
          "data": {
            "text/plain": [
              "Button(description='Run Command', style=ButtonStyle())"
            ],
            "application/vnd.jupyter.widget-view+json": {
              "version_major": 2,
              "version_minor": 0,
              "model_id": "f509a291cbab4ce587efc4871e3bf533"
            }
          },
          "metadata": {}
        },
        {
          "output_type": "display_data",
          "data": {
            "text/plain": [
              "Output()"
            ],
            "application/vnd.jupyter.widget-view+json": {
              "version_major": 2,
              "version_minor": 0,
              "model_id": "ba258e8684f44125b16d4352a1cc6fe3"
            }
          },
          "metadata": {}
        }
      ]
    },
    {
      "cell_type": "code",
      "source": [
        "!dlatkInterface.py -d colab_csv -t msgs404testchat2.csv -g user_id --message_field chat --add_ngrams -n 1 2 --combine_feat_tables 1to2gram"
      ],
      "metadata": {
        "id": "bIA-BysCm9h_"
      },
      "execution_count": null,
      "outputs": []
    },
    {
      "cell_type": "code",
      "source": [
        "#@markdown Test code: Check which tables are formed so far\n",
        "\n",
        "!dlatkInterface.py \\\n",
        "  -d colab_csv -t msgs404u.csv -g user_id \\\n",
        "  --show_feat_tables"
      ],
      "metadata": {
        "colab": {
          "base_uri": "https://localhost:8080/",
          "height": 250
        },
        "id": "fD9-3UViEuli",
        "outputId": "a2dd1428-5242-42b7-9e9e-c31c7ec99998"
      },
      "execution_count": 16,
      "outputs": [
        {
          "output_type": "display_data",
          "data": {
            "text/plain": [
              "<IPython.core.display.Javascript object>"
            ],
            "application/javascript": [
              "google.colab.output.setIframeHeight(0, true, {maxHeight: 250})"
            ]
          },
          "metadata": {}
        },
        {
          "output_type": "display_data",
          "data": {
            "text/plain": [
              "<IPython.core.display.HTML object>"
            ],
            "text/html": [
              "<style> body {background-color: rgb(255, 250, 232);}</style>"
            ]
          },
          "metadata": {}
        },
        {
          "output_type": "stream",
          "name": "stdout",
          "text": [
            "\n",
            "\n",
            "TopicExtractor: gensim Mallet wrapper unavailable, using Mallet directly.\n",
            "\n",
            "-----\n",
            "DLATK Interface Initiated: 2024-04-19 16:24:03\n",
            "-----\n",
            "Connecting to SQLite database: /content/sqlite_data/colab_csv.db\n",
            "\n",
            "Found 8 available tables\n",
            "----\n",
            "feat$cat_fb2000_cp_w$msgs404u$user_id$1gra\n",
            "feat$1gram$msgs404u$user_id\n",
            "feat$meta_1gram$msgs404u$user_id\n",
            "feat$2gram$msgs404u$user_id\n",
            "feat$meta_2gram$msgs404u$user_id\n",
            "feat$1to2gram$msgs404u$user_id\n",
            "feat$1to2gram$msgs404u$user_id$0_1\n",
            "feat$1to2gram$msgs404u$user_id$0_1$pmi3_0\n",
            "-------\n",
            "Settings:\n",
            "\n",
            "Database - colab_csv\n",
            "Corpus - msgs404u.csv\n",
            "Group ID - user_id\n",
            "-------\n",
            "Interface Runtime: 0.01 seconds\n",
            "DLATK exits with success! A good day indeed  ¯\\_(ツ)_/¯.\n"
          ]
        }
      ]
    },
    {
      "cell_type": "code",
      "source": [
        "import subprocess\n",
        "import ipywidgets as widgets\n",
        "from IPython.display import display, clear_output\n",
        "\n",
        "#@title Feature Tables Management { display-mode: \"form\" }\n",
        "#@markdown **Click the play button** to display feature tables from your previously uploaded file, save your selections, and view a specific table.\n",
        "\n",
        "#@markdown After making a selection, the first 10 rows of the chosen feature table will be displayed within 3 seconds.\n",
        "\n",
        "\n",
        "\n",
        "# Mapping of user-friendly option names to their corresponding command strings\n",
        "feature_table_mapping = {\n",
        "    \"1to2grams-filtered-table\": f\"feat$1to2gram${file_name_without_extension}${id_column_name}$0_1$pmi3_0\",\n",
        "    \"1to2grams-unfiltered-table\": f\"feat$1to2gram${file_name_without_extension}${id_column_name}\",\n",
        "    \"topics-table\": f\"feat$cat_fb2000_cp_w${file_name_without_extension}${id_column_name}$1gra\"  # Adding topics-related feature table option\n",
        "}\n",
        "\n",
        "# Create a dropdown for selecting the feature table using the friendly names\n",
        "dropdown = widgets.Dropdown(\n",
        "    options=[(key, value) for key, value in feature_table_mapping.items()],\n",
        "    description='Select Table:',\n",
        "    style={'description_width': 'initial'}\n",
        ")\n",
        "\n",
        "# Text area for displaying output\n",
        "output_text_area = widgets.Output()\n",
        "\n",
        "# Button to execute the command for the selected feature table\n",
        "run_command_button = widgets.Button(description=\"Run Command\")\n",
        "\n",
        "def run_command(b):\n",
        "    selected_table = dropdown.value  # This gets the actual command string from the mapping\n",
        "    # Surround the selected_table with single quotes for the command\n",
        "    command = f\"dlatkInterface.py -d {database_name} -t {file_name} -g {id_column_name} -f '{selected_table}' --view_tables\"\n",
        "    process = subprocess.run(command, shell=True, capture_output=True, text=True)\n",
        "    with output_text_area:\n",
        "        clear_output(wait=True)  # Optionally clear previous output\n",
        "        if process.stdout:\n",
        "            print(\"Command Output:\\n\", process.stdout)\n",
        "        if process.stderr:\n",
        "            print(\"Command Error:\\n\", process.stderr)\n",
        "\n",
        "# Attach the button click event to the run_command function\n",
        "run_command_button.on_click(run_command)\n",
        "\n",
        "# Display UI components\n",
        "display(dropdown, run_command_button, output_text_area)\n"
      ],
      "metadata": {
        "colab": {
          "base_uri": "https://localhost:8080/",
          "height": 81,
          "referenced_widgets": [
            "d7b4a80bb46146849a6d446e58068336",
            "109f15224b0b4f739eb2d60b6ff2bd42",
            "b241404db6de425f8784265b336d2ada",
            "5a5586ba51db4836836c1a62349b2707",
            "1038a58fd12e4e20aff54dd8c3ffe93e",
            "0dea7ff84be64f359b2d368e01e9eb08",
            "6a596d75214d449dbd5bdcb11b833cfd",
            "67ea11d6d85c45ce9eb6ea8f7a08cc5b"
          ]
        },
        "id": "59hm80PcY4pi",
        "outputId": "68405d1b-340f-4bdc-8372-450b1d26ef64"
      },
      "execution_count": 11,
      "outputs": [
        {
          "output_type": "display_data",
          "data": {
            "text/plain": [
              "<IPython.core.display.Javascript object>"
            ],
            "application/javascript": [
              "google.colab.output.setIframeHeight(0, true, {maxHeight: 250})"
            ]
          },
          "metadata": {}
        },
        {
          "output_type": "display_data",
          "data": {
            "text/plain": [
              "<IPython.core.display.HTML object>"
            ],
            "text/html": [
              "<style> body {background-color: rgb(255, 250, 232);}</style>"
            ]
          },
          "metadata": {}
        },
        {
          "output_type": "display_data",
          "data": {
            "text/plain": [
              "Dropdown(description='Select Table:', options=(('1to2grams-filtered-table', 'feat$1to2gram$msgs404u$user_id$0_…"
            ],
            "application/vnd.jupyter.widget-view+json": {
              "version_major": 2,
              "version_minor": 0,
              "model_id": "d7b4a80bb46146849a6d446e58068336"
            }
          },
          "metadata": {}
        },
        {
          "output_type": "display_data",
          "data": {
            "text/plain": [
              "Button(description='Run Command', style=ButtonStyle())"
            ],
            "application/vnd.jupyter.widget-view+json": {
              "version_major": 2,
              "version_minor": 0,
              "model_id": "5a5586ba51db4836836c1a62349b2707"
            }
          },
          "metadata": {}
        },
        {
          "output_type": "display_data",
          "data": {
            "text/plain": [
              "Output()"
            ],
            "application/vnd.jupyter.widget-view+json": {
              "version_major": 2,
              "version_minor": 0,
              "model_id": "6a596d75214d449dbd5bdcb11b833cfd"
            }
          },
          "metadata": {}
        }
      ]
    },
    {
      "cell_type": "markdown",
      "source": [
        "<a name=\"data\"></a>\n",
        "# STEP4: Correlate outcome"
      ],
      "metadata": {
        "id": "Qwd6akU6YP7O"
      }
    },
    {
      "cell_type": "markdown",
      "metadata": {
        "id": "n0G8ppKjJCkF"
      },
      "source": [
        "Now that you have the language features, you can correlate them against outcomes like `age` while controlling for another variable like `gender`.\n",
        "\n",
        "\n",
        "<img src=\"https://drive.google.com/uc?export=view&id=11ODkDFwsfQFc-5R5o757k3Ij9XbW9_Yb\" height=\"250\" width=\"500\"/>\n",
        "\n",
        "<br/>\n",
        "\n",
        "To do this, you need to tell DLATK the feature table to use and the outcomes:\n",
        "\n",
        "* **`-f 'TABLE_NAME'`** - names of the feature table (`feat$1to2gram$msgs404u$user_id$0_2$pmi3_0` in this case)\n",
        "* **`--outcome_table NAME`** - the name of the table with outcomes (`users404.csv`, can be the message table if it contains the outcomes)\n",
        "* **`--outcomes OC1 [OC2...]`** - list of outcomes to be associated with (`age` in this case)\n",
        "* **`--controls C1 [C2...]`** - list of statistical controls for the ascociation (we will control for `gender` in this example).\n",
        "\n",
        "<br/>\n",
        "\n",
        "Then, you specify what that you want a correlation matrix output with **`--rmatrix`** flag, and because the `gender` variable is categorical, we\n",
        " **`--cat_to_bin gender`** which converts the variable into [one-hot representation](https://wandb.ai/ayush-thakur/dl-question-bank/reports/How-One-Hot-Encoding-Improves-Machine-Learning-Performance--VmlldzoxOTkzMDk).\n"
      ]
    },
    {
      "cell_type": "code",
      "execution_count": 12,
      "metadata": {
        "outputId": "5d053508-8f0c-4222-f8a8-1bc29cc9a387",
        "colab": {
          "base_uri": "https://localhost:8080/",
          "height": 53
        },
        "cellView": "form",
        "id": "7odAdDHac0ME"
      },
      "outputs": [
        {
          "output_type": "display_data",
          "data": {
            "text/plain": [
              "<IPython.core.display.Javascript object>"
            ],
            "application/javascript": [
              "google.colab.output.setIframeHeight(0, true, {maxHeight: 250})"
            ]
          },
          "metadata": {}
        },
        {
          "output_type": "display_data",
          "data": {
            "text/plain": [
              "<IPython.core.display.HTML object>"
            ],
            "text/html": [
              "<style> body {background-color: rgb(255, 250, 232);}</style>"
            ]
          },
          "metadata": {}
        },
        {
          "output_type": "stream",
          "name": "stdout",
          "text": [
            "Default dataset selected: users404.csv\n",
            "Dataset ready for use: /content/users404.csv\n"
          ]
        }
      ],
      "source": [
        "import re\n",
        "from google.colab import files\n",
        "import os\n",
        "\n",
        "#@title upload correlate data\n",
        "\n",
        "#@markdown Select a predefined dataset from the dropdown menu, or choose \"Upload from desktop\" to upload your own dataset.\n",
        "\n",
        "# This is a dropdown for choosing between default datasets or uploading your own\n",
        "default_dataset = \"users404.csv\" #@param [\"Upload from desktop\", \"users404.csv\"]\n",
        "\n",
        "#@markdown If you opt for desktop upload, click the \"Choose Files\" button that appears upon executing this cell.\n",
        "\n",
        "# Function to check if the file exists (for local files)\n",
        "def file_exists(file_path):\n",
        "    return os.path.exists(file_path)\n",
        "\n",
        "# Sanitizes file names to ensure they end with '.csv'\n",
        "def sanitize_file_name(file_name):\n",
        "    base_file_name = re.sub(r\" \\(\\d+\\)\", \"\", file_name)\n",
        "    if not base_file_name.endswith('.csv'):\n",
        "        base_file_name += '.csv'\n",
        "    return base_file_name\n",
        "\n",
        "file_path = None  # Initialize file_path variable\n",
        "\n",
        "if default_dataset != \"Upload from desktop\":\n",
        "    # If a default dataset is selected, set the file_path accordingly\n",
        "    outcome_table_name = sanitize_file_name(default_dataset)\n",
        "    file_path = os.path.join(\"/content\", outcome_table_name)\n",
        "    print(f'Default dataset selected: {outcome_table_name}')\n",
        "else:\n",
        "    print(\"Please upload a dataset from the desktop.\")\n",
        "    uploaded_files = files.upload()\n",
        "    if uploaded_files:\n",
        "        # Assuming only one file is uploaded, use its name\n",
        "        filename = next(iter(uploaded_files))\n",
        "        outcome_table_name = sanitize_file_name(filename)  # Sanitize the uploaded file's name\n",
        "        file_path = os.path.join(\"/content\", outcome_table_name)\n",
        "        print(f'Uploaded dataset name: {outcome_table_name}')\n",
        "    else:\n",
        "        print(\"No dataset uploaded. Please upload a dataset to proceed.\")\n",
        "\n",
        "# Verify the file's existence and readiness for use\n",
        "if file_path and file_exists(file_path):\n",
        "    print(f'Dataset ready for use: {file_path}')\n",
        "else:\n",
        "    print(\"Dataset not found. Please ensure the dataset exists and try again.\")\n"
      ]
    },
    {
      "cell_type": "code",
      "source": [
        "import ipywidgets as widgets\n",
        "from IPython.display import display, clear_output\n",
        "import csv\n",
        "\n",
        "#@title Configure Parameters\n",
        "\n",
        "#@markdown Before executing the command, please adjust the parameters below according to your dataset and analysis needs.\n",
        "\n",
        "if 'outcome_table_name' in globals():\n",
        "    # Open and read the CSV file to extract column names\n",
        "    with open(outcome_table_name, newline='') as csvfile:\n",
        "        reader = csv.reader(csvfile)\n",
        "        column_headers = next(reader, None)\n",
        "\n",
        "    if column_headers:\n",
        "        # Exclude columns containing '_id' from being displayed as checkboxes\n",
        "        filtered_column_headers = [option for option in column_headers if \"_id\" not in option]\n",
        "\n",
        "        feature_table_dropdown = widgets.Dropdown(options=feature_table_mapping, description='Feature Table:')\n",
        "\n",
        "        outcomes_title = widgets.Label('Outcomes:')\n",
        "        controls_title = widgets.Label('Controls:')\n",
        "        outcomes_widgets = {}\n",
        "        controls_widgets = {}\n",
        "        outcomes_cat_widgets = {}\n",
        "        controls_cat_widgets = {}\n",
        "\n",
        "        # Create checkboxes and radio buttons for each column header\n",
        "        for option in filtered_column_headers:\n",
        "            outcomes_widgets[option] = widgets.Checkbox(description=option, value=False)\n",
        "            controls_widgets[option] = widgets.Checkbox(description=option, value=False)\n",
        "            # RadioButtons for categorical selection, initially hidden\n",
        "            outcomes_cat_widgets[option] = widgets.RadioButtons(\n",
        "                options=['No', 'Yes'],\n",
        "                description='Is this variable Categorical?',\n",
        "                value='No',\n",
        "                layout={'width': 'max-content'},\n",
        "                style={'description_width': 'initial'}\n",
        "            )\n",
        "            controls_cat_widgets[option] = widgets.RadioButtons(\n",
        "                options=['No', 'Yes'],\n",
        "                description='Is this variable Categorical?',\n",
        "                value='No',\n",
        "                layout={'width': 'max-content'},\n",
        "                style={'description_width': 'initial'}\n",
        "            )\n",
        "            outcomes_cat_widgets[option].layout.display = 'none'\n",
        "            controls_cat_widgets[option].layout.display = 'none'\n",
        "\n",
        "        def handle_checkbox_change(change):\n",
        "            option = change.owner.description\n",
        "            if change.owner in outcomes_widgets.values():\n",
        "                controls_widgets[option].disabled = change.new\n",
        "                outcomes_cat_widgets[option].layout.display = 'flex' if change.new else 'none'\n",
        "            elif change.owner in controls_widgets.values():\n",
        "                outcomes_widgets[option].disabled = change.new\n",
        "                controls_cat_widgets[option].layout.display = 'flex' if change.new else 'none'\n",
        "\n",
        "        for checkbox in outcomes_widgets.values():\n",
        "            checkbox.observe(handle_checkbox_change, names='value')\n",
        "        for checkbox in controls_widgets.values():\n",
        "            checkbox.observe(handle_checkbox_change, names='value')\n",
        "\n",
        "        def on_submit(change):\n",
        "            global outcomes, controls\n",
        "            clear_output(wait=True)\n",
        "            outcomes = [k for k, v in outcomes_widgets.items() if v.value]\n",
        "            controls = [k for k, v in controls_widgets.items() if v.value]\n",
        "            cat_to_bin_outcomes = [k for k, v in outcomes_cat_widgets.items() if v.value == 'Yes']\n",
        "            cat_to_bin_controls = [k for k, v in controls_cat_widgets.items() if v.value == 'Yes']\n",
        "\n",
        "            feature_table_name = feature_table_dropdown.value\n",
        "            make_wordclouds = make_wordclouds_checkbox.value\n",
        "\n",
        "            # Construct the command dynamically based on selections\n",
        "            cat_to_bin_parts = [','.join(cat_to_bin_outcomes), ','.join(cat_to_bin_controls)]\n",
        "            cat_to_bin_parts = [part for part in cat_to_bin_parts if part]  # Remove empty strings\n",
        "            cat_to_bin_cmd = f\"--cat_to_bin {' '.join(cat_to_bin_parts)}\" if cat_to_bin_parts else \"\"\n",
        "\n",
        "            command = (\n",
        "                f\"dlatkInterface.py -d {database_name} -t {file_name} -g {id_column_name} \"\n",
        "                f\"--group_freq_thresh 100 --feat_table '{feature_table_name}' \"\n",
        "                f\"--outcome_table {outcome_table_name} --outcomes {','.join(outcomes)} \"\n",
        "                f\"--controls {','.join(controls)} {cat_to_bin_cmd} --rmatrix\"\n",
        "            )\n",
        "            if make_wordclouds:\n",
        "                command += \" --make_wordclouds\"\n",
        "            print(\"Command to execute:\", command)\n",
        "            process = subprocess.run(command, shell=True, text=True, capture_output=True)\n",
        "            print(process.stdout)\n",
        "            if process.stderr:\n",
        "                print(\"Error:\", process.stderr)\n",
        "\n",
        "        submit_button = widgets.Button(description=\"Submit\")\n",
        "        submit_button.on_click(on_submit)\n",
        "\n",
        "        make_wordclouds_title = widgets.Label('Make Wordclouds:')\n",
        "        make_wordclouds_checkbox = widgets.Checkbox(value=False, description='Enable Wordclouds')\n",
        "\n",
        "        # Display the widgets\n",
        "        display(feature_table_dropdown)\n",
        "        display(outcomes_title)\n",
        "        for option, checkbox in outcomes_widgets.items():\n",
        "            display(widgets.HBox([checkbox, outcomes_cat_widgets[option]]))\n",
        "        display(controls_title)\n",
        "        for option, checkbox in controls_widgets.items():\n",
        "            display(widgets.HBox([checkbox, controls_cat_widgets[option]]))\n",
        "        display(make_wordclouds_title, make_wordclouds_checkbox, submit_button)\n",
        "\n",
        "    else:\n",
        "        print(\"Failed to read column names from the outcome table.\")\n",
        "else:\n",
        "    print(\"Outcome table name not set. Please ensure a file is uploaded in Part 1.\")\n"
      ],
      "metadata": {
        "id": "tTCYW_e4QDpe",
        "outputId": "e7bc1092-e71d-46e5-9069-3d9437419f42",
        "colab": {
          "base_uri": "https://localhost:8080/",
          "height": 250,
          "referenced_widgets": [
            "1ad44d16d18142abb7ffe81efa5fdaf5",
            "fa725e624f794f46a3327891639d93f5",
            "fddebb48169a448a95e5948faeb9e3dc",
            "8f0402ab46e847a18b907242b7e72406",
            "e41f46f19cee495789ae39a667456992",
            "d903c800a36f4f938ab4b3ff02633a27",
            "4400c18c26da4be29c842b570d4032d5",
            "fd2cc7b5109b465099d84c8da5a94702",
            "a5a86f8ba47a442db6a6b036941f4128",
            "0c82df47b54b47009c7b4fb25306106b",
            "f75479b31a4d4adeb2de640a4c05f55e",
            "b07778f2323d446cb0785d309f820c8d",
            "624bb9b1055747459f7194487ab465d4",
            "a633317197044011b13e95ba84995a50",
            "700c2dad02ee44d88003531b2d32718b",
            "2ac3dd9ba9c3431ab0a205dffbb31f3f",
            "3f5438b326fc43418d433cb69fc56eb8",
            "30cb1ecdec92487c9b89dee1a70d7692",
            "6d4d735a07a84ada8c09002c322cd4f3",
            "3321b950896e4b33acea8113539e9612",
            "7dd76d3eb8594a31a75f47113764641c",
            "d1edb9a801424df9b0e6f2b2c22e32e3",
            "c896b12b1485473696a54592687a2f5e",
            "4985a3edf7924203b3888fba01462e00",
            "3a29478dadfc4036a3e42cfe33185304",
            "5dd692a7fef74d13861b3bab98e7cf64",
            "711c849198034e988a0b5072af7723fe",
            "469f86e8fb99405db65af857b384470d",
            "4a840bfcd24c493cb041d8869a4fa503",
            "8cfe429072ae46a7a625f17b390711ce",
            "33ad98c8f385491091f6f8942bceaf77",
            "67bd626c76784756a0c81e8eb8326137",
            "4d2b72733b54446fb2eadae1a2c90519",
            "368bd61b751047bb8d8bd7761f98ebc6",
            "21be024cb12843f6ab7df1106f6e8f9c",
            "2168b1bf6efb4c3b80f3ba5f4470acc0",
            "501a9a7f5ca043ac83badfe15ccbe8c0",
            "ff0edc1beb7c47979d9d739161423f7e",
            "ef48ab8cc9c74c3d9ef005a603d2e97d",
            "799f39f03510451f8bd076896451d1b4",
            "84f6c0dbb9594be08829c034a888ca2a",
            "a301c5e9c7444226b05a63a6ca5b0853",
            "39b56483a6664576a6c7663f57172641",
            "d445d21f0b3e4ab49de98287dbe4a591",
            "cb4e2b5ea2c3476c8ed235f4ac422209",
            "2fe39fa5237e470e9477379e6a628bfa",
            "538a47671b7049d88853ce71fd438db7",
            "65e38614ec994f12a7d2bf363fb2e814",
            "0c6905ad0983437f88ba05aa10c86e58",
            "b3130d9c8d6c401abc3feef05b4913ca",
            "c279e8d4d64140b084ac550a9d3e9daf",
            "396696062bb14f55a2d6ec5458cd9353",
            "607642c8488140838b3c17610155b390",
            "2c96d36124f34c8799e1103d10581830",
            "15b08482977544ecb46013ff5582cb70",
            "dc77d7c2ac7a4c76b4b97261b6d0273d",
            "c25739f7c863474b8fbe990d0be52c48",
            "49ef7d3e7125492785485f2ec3c8928a",
            "9e994accb1d44052b4a4746311683db3",
            "b0280e64629f4775ae75c56a9986b2de",
            "4fb470b3d787473eb002873b771442c3",
            "6720978bf22148fb82fbdc0043afac64",
            "6caf6b47a0f941ebb8413ab88624251b",
            "45d4de8e0ffe468b9d734cf8f8930c93",
            "cc17a83c29e0490f8086437eb55e1dc4",
            "592ea1fedcdf415da0897cf55c2561b7",
            "0412d791da5d42fe9079598d08f5a5dd",
            "e5040fdd441f494f86071a4e77cabcff",
            "7f00c0da25ba41a8a96e590c9d1cc933",
            "8495f95da52346d5966c33667981e54f",
            "738e1db9ce1247b096ade1b501428610",
            "cbcb244264f040bb9ea3964bc2c76840",
            "b289b25a555846079f2b91688f7f73f4",
            "43d3699dda974bd681deb5a548beedf1",
            "5ea0b2fa4b36478aac040f3768a7b42b",
            "64d58545d2e4402ab7ec731021a11c58",
            "0cb35f1a8a3c4d31885740788232f506",
            "8ebe4b07175246ee80646b5dd036e993",
            "6ef7601e45264990ad3abf5185617750",
            "461bbbdfc01a41a2a8401671c68a61bd",
            "df257b0ff0264ccaa0a5e97f24448c65",
            "8153a1fa38104adcac0ee7f8b09fd5c9"
          ]
        }
      },
      "execution_count": 21,
      "outputs": [
        {
          "output_type": "stream",
          "name": "stdout",
          "text": [
            "Command to execute: dlatkInterface.py -d colab_csv -t msgs404u.csv -g user_id --group_freq_thresh 100 --feat_table 'feat$1to2gram$msgs404u$user_id$0_1$pmi3_0' --outcome_table users404.csv --outcomes age --controls gender --cat_to_bin gender --rmatrix --make_wordclouds\n",
            "\n",
            "\n",
            "WARNING: --make_wordclouds used without --tagcloud, setting --tagcloud to True\n",
            "Connecting to SQLite database: /content/sqlite_data/colab_csv.db\n",
            "Connecting to SQLite database: /content/sqlite_data/colab_csv.db\n",
            "Connecting to SQLite database: /content/sqlite_data/colab_csv.db\n",
            "                                 OLS Regression Results                                \n",
            "=======================================================================================\n",
            "Dep. Variable:                    age   R-squared (uncentered):                   0.007\n",
            "Model:                            OLS   Adj. R-squared (uncentered):              0.005\n",
            "Method:                 Least Squares   F-statistic:                              2.999\n",
            "Date:                Mon, 22 Apr 2024   Prob (F-statistic):                      0.0841\n",
            "Time:                        18:11:05   Log-Likelihood:                         -571.75\n",
            "No. Observations:                 404   AIC:                                      1146.\n",
            "Df Residuals:                     403   BIC:                                      1150.\n",
            "Df Model:                           1                                                  \n",
            "Covariance Type:            nonrobust                                                  \n",
            "==============================================================================\n",
            "                 coef    std err          t      P>|t|      [0.025      0.975]\n",
            "------------------------------------------------------------------------------\n",
            "gender__0     -0.0859      0.050     -1.732      0.084      -0.184       0.012\n",
            "==============================================================================\n",
            "Omnibus:                       48.655   Durbin-Watson:                   2.074\n",
            "Prob(Omnibus):                  0.000   Jarque-Bera (JB):               63.596\n",
            "Skew:                           0.964   Prob(JB):                     1.55e-14\n",
            "Kurtosis:                       3.246   Cond. No.                         1.00\n",
            "==============================================================================\n",
            "\n",
            "Notes:\n",
            "[1] R² is computed without centering (uncentered) since the model does not contain a constant.\n",
            "[2] Standard Errors assume that the covariance matrix of the errors is correctly specified.\n",
            "Created output filename: ./feat.1to2gram.msgs404u.user_id.0_1.pmi3_0.age.gender__0.freq100.rMatrix\n",
            "Created output filename: ./feat.1to2gram.msgs404u.user_id.0_1.pmi3_0.age.gender__0.freq100._tagcloud\n",
            "Namespace(lexinterface=False, toinitfile=None, frominitfile='', mysqlconfigfile='', colabify=False, dbengine='mysql', corpdb='colab_csv', corptable='msgs404u.csv', correl_field='user_id', message_field='message', messageid_field='message_id', date_field='updated_time', lexicondb='dlatk_lexica', encoding='utf8mb4', useunicode=True, language='en', feattable='feat$1to2gram$msgs404u$user_id$0_1$pmi3_0', n=[1], metafeats=True, lextable='', wordTable=None, colloc_table='test_collocs', colloc_column='feat', createcollocscores=False, feature_type_name=None, gzipcsv='', categories='', feat_blacklist='', feat_whitelist='', valuefunc=<function main.<locals>.<lambda> at 0x7a87afeadd80>, lexvaluefunc=<function main.<locals>.<lambda> at 0x7a87afeadea0>, pocc=0.01, pmi=3.0, minfeatsum=0, topicfile='', numtopicwords=15, topiclexicon='', topiclist='', topiclexmethod='csv_lik', weightedlexicon=False, numbins=None, flexiplotfile='', groupidrange=None, masktable=None, embmodel='bert-base-uncased', embclass=None, tokenizermodel=None, embaggs=['mean'], emblayeraggs=['concatenate'], transwordaggs=['mean'], emblayers=[-2], embnocontext=False, embtablename=None, batchsize=32, embkeepmsg=False, listfeattables=False, showtables=False, describetables=False, viewtables=False, createrandsample=None, createcopiedtable=None, extension=None, top_messages=False, outcometable='users404.csv', outcomefields=['age'], outcomecontrols=['gender__0'], cattobinfields=['gender'], cattointfields=[], outcomeinteraction=[], fold_column=None, test_folds=None, featnames=['honor'], groupfreqthresh=100, outputdir='.', outputname='', maxtcwords=100, showfeatfreqs=True, tcfilter=True, featlabelmaptable='', featlabelmaplex='', bracketlabels='', compTagcloud=False, compTCsample1=[], compTCsample2=[], csv=False, pickle=False, sort=False, whitelist=False, blacklist=False, spearman=False, logisticReg=False, cohensd=False, IDP=False, auc=False, zScoreGroup=False, p_correction_method='BH', bonferroni=True, nvalue=True, confint=True, freq=True, tagcloudcolorscheme='multi', cleancloud=False, weightedsample='', low_variance_thresh=0.0, minabseffectsize=0.0, interactions=False, bootstrapp=0, maxP=0.05, groupswhere='', mediation=False, mediationboot=False, mediationbootnum=1000, outcomepathstarts=[], outcomemediators=[], feat_as_path_start=False, feat_as_outcome=False, feat_as_control=False, no_features=False, mediationcsv=False, mediationsummary=True, mediation_style='baron', adapttable=None, adaptcolumns=None, model='ridgecv', turn_off_backoff_model=False, combmodels=['ridgecv'], sparse=False, folds=5, outlier_to_mean=False, picklefile='', allcontrolsonly=True, nolang=False, controlcombosizes=[], res_controls=False, pred_csv=False, prob_csv=False, weightedeval=None, standardize=True, featureselection='', featureselectionstring='', train_bootstraps=None, train_bootstraps_ns=None, addngrams=False, addngramsfromtok=False, use_collocs=False, include_sub_collocs=False, colloc_pmi_thresh=3.0, addcharngrams=False, lowercaseonly=True, addlextable=False, addcorplextable=False, addphrasetable=False, addpostable=False, pos_ngram=False, addldafeattable=None, printtokenizedlines=None, printjoinedfeaturelines=None, addtopiclexfromtopicfile=False, addtimexdiff=False, addpostimexdiff=False, addwnnopos=False, addwnpos=False, addfkscore=False, addpnames=None, embaddfeat=False, lexicon_normalization=False, multicategory_normalization=False, addtokenized=False, addsenttokenized=False, addsentperrow=False, addparses=False, addsegmented=False, segmentationModel='ctb', addtweettok=False, addtweetpos=False, addldamsgs=None, addoutcomefeats=False, langfilter=[], lightenglishfilter=False, cleanmessages=False, deduplicate=False, spamfilter=None, addmessageid=None, ldamsgtbl='messages_en_lda$msgs_en_tok_a30', createdists=False, addner=False, ttestfeats=False, featoccfilter=False, combinefeattables=None, addfeatnorms=False, addstdfeats=False, featcollocfilter=False, featcorrelfilter=False, maketopiclabelmap=False, tfidf=False, featgroupoutcomes=False, aggregategroup=False, archetypesimilarity=None, interpolategroup=None, printcsv=None, printfreqcsv=None, printnumgroups=False, densifytable=None, correlate=False, rmatrix=True, combormatrix=False, topicdupefilter=False, tagcloud=True, topictc=False, corptopictc=False, makewordclouds=True, maketopicwordclouds=False, makealltopicwordclouds=False, keepduplicates=False, useFeatTableFeats=False, outcomeWithOutcome=False, outcomeWithOutcomeOnly=False, outputInteractionTerms=False, interactionDdla=None, ddlaSignificance=0.001, ddlaFiles=None, ddlaTagcloud=False, multir=False, trainregression=False, testregression=False, combotestregression=False, predictregression=False, controladjustreg=False, testcombregression=[], predictrtofeats=None, predictRtoOutcomeTable=None, predictalltofeats=None, fsparams=False, kbest=None, pcacomp=None, adaptationfactors=None, factorselectiontype='rfe', numoffactors=None, pairedfactors=False, report=False, factoraddition=False, factoradaptation=False, residualizedfactoradaptation=False, trainclassifiers=False, testclassifiers=False, combotestclassifiers=False, predictclassifiers=False, roc=False, predictctofeats=None, predictprobstofeats=None, predictCtoOutcomeTable=None, regrToLex=None, classToLex=None, stratifyfolds=False, trainclasstoreg=False, testclasstoreg=False, predictclasstoreg=False, reducertolexicon=None, supertopics=None, reducedlexicon=None, fitreducer=False, n_components=None, transformdrtofeats=None, cca=0, penaltyFeats=None, penaltyOutcomes=None, ccaOutcomesVsControls=False, ccaPermute=0, predictCcaCompsFromModel=False, newSQLtable=None, usexfeats=False, usexcontrols=False, savemodels=False, loadmodels=False, barplot=False, scatterplot=False, featflexibin=False, skipbinstep=False, preservebintable=False, descplot=False, loessplot='', estimate_lda_topics=False, mallet_path=None, save_lda_files=None, lda_lexicon_name=None, no_lda_lexicon=False, num_topics=100, num_lda_threads=4, num_stopwords=50, extra_lda_stopwords=None, no_lda_stopping=False, lda_alpha=5.0, lda_beta=0.01, lda_iterations=1000, integrationmethod='', featureselectionparams=None)\n",
            "\n",
            "outputting tagcloud to: ./feat.1to2gram.msgs404u.user_id.0_1.pmi3_0.age.gender__0.freq100._tagcloud.txt\n",
            "Generating wordclouds using amueller's python package...\n",
            "Wordcloud created at: ./feat.1to2gram.msgs404u.user_id.0_1.pmi3_0.age.gender__0.freq100._tagcloud_wordclouds/age_pos.beta_0.146-0.340_wc.png\n",
            "Generating wordclouds using amueller's python package...\n",
            "Wordcloud created at: ./feat.1to2gram.msgs404u.user_id.0_1.pmi3_0.age.gender__0.freq100._tagcloud_wordclouds/age_pos.beta_0.146-0.340_wc.png\n",
            "Generating wordclouds using amueller's python package...\n",
            "Wordcloud created at: ./feat.1to2gram.msgs404u.user_id.0_1.pmi3_0.age.gender__0.freq100._tagcloud_wordclouds/age_neg.beta_0.144-0.267_wc.png\n",
            "Generating wordclouds using amueller's python package...\n",
            "Wordcloud created at: ./feat.1to2gram.msgs404u.user_id.0_1.pmi3_0.age.gender__0.freq100._tagcloud_wordclouds/age_neg.beta_0.144-0.267_wc.png\n",
            "\n",
            "Error: TopicExtractor: gensim Mallet wrapper unavailable, using Mallet directly.\n",
            "\n",
            "-----\n",
            "DLATK Interface Initiated: 2024-04-22 18:11:04\n",
            "-----\n",
            "WARNING: The table users404 does not have: a PRIMARY key on user_id. Consider adding.\n",
            "Loading Outcomes and Getting Groups for: {'gender', 'age'}\n",
            "Yielding data over ['age'], adjusting for: ['gender__0'].\n",
            "Yielding norms with zeros (404 groups * 1501 feats).\n",
            "  200 features correlated\n",
            "  400 features correlated\n",
            "  600 features correlated\n",
            "  800 features correlated\n",
            "  1000 features correlated\n",
            "  1200 features correlated\n",
            "  1400 features correlated\n",
            "Generating Correlation Matrix.\n",
            " print to file: ././feat.1to2gram.msgs404u.user_id.0_1.pmi3_0.age.gender__0.freq100.rMatrix.html\n",
            "-------\n",
            "Settings:\n",
            "\n",
            "Database - colab_csv\n",
            "Corpus - msgs404u.csv\n",
            "Group ID - user_id\n",
            "Feature table(s) - feat$1to2gram$msgs404u$user_id$0_1$pmi3_0\n",
            "Outcome table - users404.csv\n",
            "Outcome(s) - age\n",
            "Control(s) - gender__0\n",
            "-------\n",
            "Interface Runtime: 6.61 seconds\n",
            "DLATK exits with success! A good day indeed  ¯\\_(ツ)_/¯.\n",
            "\n"
          ]
        }
      ]
    },
    {
      "cell_type": "code",
      "source": [
        "#@markdown Click the Play button to view the **word cloud image** of the analyzed file.\n",
        "\n",
        "from dlatk.tools.colab_methods import print_wordclouds\n",
        "\n",
        "def display_wordclouds():\n",
        "    feature_table_name = feature_table_dropdown.value.replace('$', '.')\n",
        "    # Assuming 'outcomes' and 'controls' are updated in the global scope by codeA\n",
        "    global outcomes, controls\n",
        "    wordcloud_file_name = f\"{feature_table_name}.{','.join(outcomes)}.{','.join(controls)}__0.freq100._tagcloud_wordclouds\"\n",
        "    print(\"Wordcloud File Name:\", wordcloud_file_name)\n",
        "    print_wordclouds(wordcloud_file_name)\n",
        "\n",
        "display_wordclouds()\n"
      ],
      "metadata": {
        "colab": {
          "base_uri": "https://localhost:8080/",
          "height": 250
        },
        "outputId": "d3c27e33-4e81-475b-e41e-0e38f2f652f3",
        "id": "1gwINnKHdGKE"
      },
      "execution_count": 22,
      "outputs": [
        {
          "output_type": "display_data",
          "data": {
            "text/plain": [
              "<IPython.core.display.Javascript object>"
            ],
            "application/javascript": [
              "google.colab.output.setIframeHeight(0, true, {maxHeight: 250})"
            ]
          },
          "metadata": {}
        },
        {
          "output_type": "display_data",
          "data": {
            "text/plain": [
              "<IPython.core.display.HTML object>"
            ],
            "text/html": [
              "<style> body {background-color: rgb(255, 250, 232);}</style>"
            ]
          },
          "metadata": {}
        },
        {
          "output_type": "stream",
          "name": "stdout",
          "text": [
            "Wordcloud File Name: feat.1to2gram.msgs404u.user_id.0_1.pmi3_0.age.gender__0.freq100._tagcloud_wordclouds\n"
          ]
        },
        {
          "output_type": "display_data",
          "data": {
            "text/plain": [
              "<Figure size 700x300 with 2 Axes>"
            ],
            "image/png": "[encoded data removed]"
          },
          "metadata": {}
        }
      ]
    },
    {
      "cell_type": "code",
      "source": [
        "from dlatk.tools.colab_methods import print_wordclouds\n",
        "print_wordclouds(\"feat.1to2gram.msgs404u.user_id.0_1.pmi3_0.age.gender__0.freq100._tagcloud_wordclouds\")"
      ],
      "metadata": {
        "colab": {
          "base_uri": "https://localhost:8080/",
          "height": 244
        },
        "id": "tcJg3wLQbkKv",
        "outputId": "04381cf5-dcbc-43c9-e1b9-4de8ef2f36a9"
      },
      "execution_count": 15,
      "outputs": [
        {
          "output_type": "display_data",
          "data": {
            "text/plain": [
              "<IPython.core.display.Javascript object>"
            ],
            "application/javascript": [
              "google.colab.output.setIframeHeight(0, true, {maxHeight: 250})"
            ]
          },
          "metadata": {}
        },
        {
          "output_type": "display_data",
          "data": {
            "text/plain": [
              "<IPython.core.display.HTML object>"
            ],
            "text/html": [
              "<style> body {background-color: rgb(255, 250, 232);}</style>"
            ]
          },
          "metadata": {}
        },
        {
          "output_type": "display_data",
          "data": {
            "text/plain": [
              "<Figure size 700x300 with 2 Axes>"
            ],
            "image/png": "[encoded data removed]"
          },
          "metadata": {}
        }
      ]
    },
    {
      "cell_type": "markdown",
      "metadata": {
        "id": "lTXigvWwWWc9"
      },
      "source": [
        "<a name=\"data\"></a>\n",
        "# Recommended upload data format"
      ]
    },
    {
      "cell_type": "markdown",
      "metadata": {
        "id": "dvkUxEHwAkse"
      },
      "source": [
        "👆 Scroll and you should see the first 10 rows of the message table and the first 10 of the feature table.\n",
        "\n",
        "<br />\n"
      ]
    },
    {
      "cell_type": "markdown",
      "metadata": {
        "id": "Gzy63dLCAT8N"
      },
      "source": [
        "## DLA: Using Other Features - Lexicon Features (Optional)"
      ]
    },
    {
      "cell_type": "markdown",
      "metadata": {
        "id": "P9X7BifLKPoV"
      },
      "source": [
        "You can also generate language features from a lexicon (calculate the proportion of the lexicon present in the text) of your choice.\n",
        "\n",
        "Sometimes this is as simple as aggregating counts (in case of unweighted lexicon like LIWC) while sometimes there is a weighting factor involved (in case of weighted lexicon like NRC).\n",
        "\n",
        "<br/>\n",
        "\n",
        "You need to provide the below flags in addition to mandatory settings -\n",
        "\n",
        "* **`--add_lex_table -l LEX_TABLE_NAME`** - commands DLATK to add the lexicon from `LEX_TABLE_NAME`\n",
        "* **`--weighted_lexicon` [Optional]** - flag to mention that the lexicon type is weighted."
      ]
    },
    {
      "cell_type": "markdown",
      "metadata": {
        "id": "u9chxWx6VLnJ"
      },
      "source": [
        "👇 For example, you can extract features from *NRC sentiment* dictionary as shown below."
      ]
    },
    {
      "cell_type": "code",
      "execution_count": null,
      "metadata": {
        "colab": {
          "base_uri": "https://localhost:8080/",
          "height": 250
        },
        "id": "A_DJ8uFmSCcV",
        "outputId": "ad5da518-1d7d-4423-e2c6-fedef27bfcd5"
      },
      "outputs": [
        {
          "data": {
            "application/javascript": [
              "google.colab.output.setIframeHeight(0, true, {maxHeight: 250})"
            ],
            "text/plain": [
              "<IPython.core.display.Javascript object>"
            ]
          },
          "metadata": {},
          "output_type": "display_data"
        },
        {
          "data": {
            "text/html": [
              "<style> body {background-color: rgb(255, 250, 232);}</style>"
            ],
            "text/plain": [
              "<IPython.core.display.HTML object>"
            ]
          },
          "metadata": {},
          "output_type": "display_data"
        },
        {
          "name": "stdout",
          "output_type": "stream",
          "text": [
            "\n",
            "\n",
            "Connecting to SQLite database: /content/sqlite_data/colab_csv.db\n",
            "query: PRAGMA table_info(msgs404u)\n",
            "\n",
            "\n",
            "Creating index correl_field on table:feat$cat_nrc_sent_w$msgs404u$user_id$1gra, column:group_id \n",
            "\n",
            "\n",
            "\n",
            "\n",
            "Creating index feature on table:feat$cat_nrc_sent_w$msgs404u$user_id$1gra, column:feat \n",
            "\n",
            "\n",
            "\n",
            "Error: TopicExtractor: gensim Mallet wrapper unavailable, using Mallet directly.\n",
            "\n",
            "-----\n",
            "DLATK Interface Initiated: 2024-02-01 23:37:04\n",
            "-----\n",
            "SQL Query: DROP TABLE IF EXISTS feat$cat_nrc_sent_w$msgs404u$user_id$1gra\n",
            "SQL Query: CREATE TABLE feat$cat_nrc_sent_w$msgs404u$user_id$1gra ( id INTEGER PRIMARY KEY, group_id INTEGER, feat VARCHAR(10), value INTEGER, group_norm DOUBLE)\n",
            "SQL Query: CREATE INDEX correl_field$cat_nrc_sent_w$msgs404u$user_id$1gra ON feat$cat_nrc_sent_w$msgs404u$user_id$1gra (group_id)\n",
            "SQL Query: CREATE INDEX feature$cat_nrc_sent_w$msgs404u$user_id$1gra ON feat$cat_nrc_sent_w$msgs404u$user_id$1gra (feat)\n",
            "WORD TABLE feat$1gram$msgs404u$user_id\n",
            "4 out of 404 group Id's processed; 0.01 complete\n",
            "8 out of 404 group Id's processed; 0.02 complete\n",
            "12 out of 404 group Id's processed; 0.03 complete\n",
            "16 out of 404 group Id's processed; 0.04 complete\n",
            "20 out of 404 group Id's processed; 0.05 complete\n",
            "24 out of 404 group Id's processed; 0.06 complete\n",
            "28 out of 404 group Id's processed; 0.07 complete\n",
            "32 out of 404 group Id's processed; 0.08 complete\n",
            "36 out of 404 group Id's processed; 0.09 complete\n",
            "40 out of 404 group Id's processed; 0.10 complete\n",
            "44 out of 404 group Id's processed; 0.11 complete\n",
            "48 out of 404 group Id's processed; 0.12 complete\n",
            "52 out of 404 group Id's processed; 0.13 complete\n",
            "56 out of 404 group Id's processed; 0.14 complete\n",
            "60 out of 404 group Id's processed; 0.15 complete\n",
            "64 out of 404 group Id's processed; 0.16 complete\n",
            "68 out of 404 group Id's processed; 0.17 complete\n",
            "72 out of 404 group Id's processed; 0.18 complete\n",
            "76 out of 404 group Id's processed; 0.19 complete\n",
            "80 out of 404 group Id's processed; 0.20 complete\n",
            "84 out of 404 group Id's processed; 0.21 complete\n",
            "88 out of 404 group Id's processed; 0.22 complete\n",
            "92 out of 404 group Id's processed; 0.23 complete\n",
            "96 out of 404 group Id's processed; 0.24 complete\n",
            "100 out of 404 group Id's processed; 0.25 complete\n",
            "104 out of 404 group Id's processed; 0.26 complete\n",
            "108 out of 404 group Id's processed; 0.27 complete\n",
            "112 out of 404 group Id's processed; 0.28 complete\n",
            "116 out of 404 group Id's processed; 0.29 complete\n",
            "120 out of 404 group Id's processed; 0.30 complete\n",
            "124 out of 404 group Id's processed; 0.31 complete\n",
            "128 out of 404 group Id's processed; 0.32 complete\n",
            "132 out of 404 group Id's processed; 0.33 complete\n",
            "136 out of 404 group Id's processed; 0.34 complete\n",
            "140 out of 404 group Id's processed; 0.35 complete\n",
            "144 out of 404 group Id's processed; 0.36 complete\n",
            "148 out of 404 group Id's processed; 0.37 complete\n",
            "152 out of 404 group Id's processed; 0.38 complete\n",
            "156 out of 404 group Id's processed; 0.39 complete\n",
            "160 out of 404 group Id's processed; 0.40 complete\n",
            "164 out of 404 group Id's processed; 0.41 complete\n",
            "168 out of 404 group Id's processed; 0.42 complete\n",
            "172 out of 404 group Id's processed; 0.43 complete\n",
            "176 out of 404 group Id's processed; 0.44 complete\n",
            "180 out of 404 group Id's processed; 0.45 complete\n",
            "184 out of 404 group Id's processed; 0.46 complete\n",
            "188 out of 404 group Id's processed; 0.47 complete\n",
            "192 out of 404 group Id's processed; 0.48 complete\n",
            "196 out of 404 group Id's processed; 0.49 complete\n",
            "200 out of 404 group Id's processed; 0.50 complete\n",
            "204 out of 404 group Id's processed; 0.50 complete\n",
            "208 out of 404 group Id's processed; 0.51 complete\n",
            "212 out of 404 group Id's processed; 0.52 complete\n",
            "216 out of 404 group Id's processed; 0.53 complete\n",
            "220 out of 404 group Id's processed; 0.54 complete\n",
            "224 out of 404 group Id's processed; 0.55 complete\n",
            "228 out of 404 group Id's processed; 0.56 complete\n",
            "232 out of 404 group Id's processed; 0.57 complete\n",
            "236 out of 404 group Id's processed; 0.58 complete\n",
            "240 out of 404 group Id's processed; 0.59 complete\n",
            "244 out of 404 group Id's processed; 0.60 complete\n",
            "248 out of 404 group Id's processed; 0.61 complete\n",
            "252 out of 404 group Id's processed; 0.62 complete\n",
            "256 out of 404 group Id's processed; 0.63 complete\n",
            "260 out of 404 group Id's processed; 0.64 complete\n",
            "264 out of 404 group Id's processed; 0.65 complete\n",
            "268 out of 404 group Id's processed; 0.66 complete\n",
            "272 out of 404 group Id's processed; 0.67 complete\n",
            "276 out of 404 group Id's processed; 0.68 complete\n",
            "280 out of 404 group Id's processed; 0.69 complete\n",
            "284 out of 404 group Id's processed; 0.70 complete\n",
            "288 out of 404 group Id's processed; 0.71 complete\n",
            "292 out of 404 group Id's processed; 0.72 complete\n",
            "296 out of 404 group Id's processed; 0.73 complete\n",
            "300 out of 404 group Id's processed; 0.74 complete\n",
            "304 out of 404 group Id's processed; 0.75 complete\n",
            "308 out of 404 group Id's processed; 0.76 complete\n",
            "312 out of 404 group Id's processed; 0.77 complete\n",
            "316 out of 404 group Id's processed; 0.78 complete\n",
            "320 out of 404 group Id's processed; 0.79 complete\n",
            "324 out of 404 group Id's processed; 0.80 complete\n",
            "328 out of 404 group Id's processed; 0.81 complete\n",
            "332 out of 404 group Id's processed; 0.82 complete\n",
            "336 out of 404 group Id's processed; 0.83 complete\n",
            "340 out of 404 group Id's processed; 0.84 complete\n",
            "344 out of 404 group Id's processed; 0.85 complete\n",
            "348 out of 404 group Id's processed; 0.86 complete\n",
            "352 out of 404 group Id's processed; 0.87 complete\n",
            "356 out of 404 group Id's processed; 0.88 complete\n",
            "360 out of 404 group Id's processed; 0.89 complete\n",
            "364 out of 404 group Id's processed; 0.90 complete\n",
            "368 out of 404 group Id's processed; 0.91 complete\n",
            "372 out of 404 group Id's processed; 0.92 complete\n",
            "376 out of 404 group Id's processed; 0.93 complete\n",
            "380 out of 404 group Id's processed; 0.94 complete\n",
            "384 out of 404 group Id's processed; 0.95 complete\n",
            "388 out of 404 group Id's processed; 0.96 complete\n",
            "392 out of 404 group Id's processed; 0.97 complete\n",
            "396 out of 404 group Id's processed; 0.98 complete\n",
            "400 out of 404 group Id's processed; 0.99 complete\n",
            "404 out of 404 group Id's processed; 1.00 complete\n",
            "404 out of 404 group Id's processed; 1.00 complete\n",
            "-------\n",
            "Settings:\n",
            "\n",
            "Database - colab_csv\n",
            "Corpus - msgs404u.csv\n",
            "Group ID - user_id\n",
            "Feature table(s) - feat$cat_nrc_sent_w$msgs404u$user_id$1gra\n",
            "-------\n",
            "Interface Runtime: 2.46 seconds\n",
            "DLATK exits with success! A good day indeed  ¯\\_(ツ)_/¯.\n",
            "\n"
          ]
        }
      ],
      "source": [
        "import subprocess\n",
        "\n",
        "#@title DLATK Lexicon Feature Configuration\n",
        "\n",
        "#@markdown Enter the database name:\n",
        "database_name = \"colab_csv\" #@param {type:\"string\"}\n",
        "\n",
        "#@markdown Enter the name of your message table or CSV file:\n",
        "table_name = \"msgs404u.csv\" #@param {type:\"string\"}\n",
        "\n",
        "#@markdown Enter the column name to be used as group_id:\n",
        "group_id = \"user_id\" #@param {type:\"string\"}\n",
        "\n",
        "#@markdown Minimum number of words per group for the group to be considered:\n",
        "group_freq_threshold = 100 #@param {type:\"integer\"}\n",
        "\n",
        "#@markdown Enter the name of the lexicon table to be used:\n",
        "lexicon_table_name = \"nrc_sent\" #@param {type:\"string\"}\n",
        "\n",
        "#@markdown Indicate if the lexicon is weighted (leave unchecked for unweighted lexicon):\n",
        "is_weighted_lexicon = True #@param {type:\"boolean\"}\n",
        "\n",
        "# Building the command string\n",
        "command = f\"dlatkInterface.py -d {database_name} -t {table_name} -g {group_id} --group_freq_thresh {group_freq_threshold} \"\n",
        "command += f\"--add_lex_table -l {lexicon_table_name} \"\n",
        "if is_weighted_lexicon:\n",
        "    command += \"--weighted_lexicon\"\n",
        "\n",
        "# Executing the command and capturing the output\n",
        "process = subprocess.run(command, shell=True, text=True, capture_output=True)\n",
        "\n",
        "# Print the output\n",
        "print(process.stdout)\n",
        "\n",
        "# Check for errors\n",
        "if process.stderr:\n",
        "    print(\"Error:\", process.stderr)\n"
      ]
    },
    {
      "cell_type": "code",
      "execution_count": null,
      "metadata": {
        "colab": {
          "base_uri": "https://localhost:8080/",
          "height": 250
        },
        "id": "1iH5xg5oB_j5",
        "outputId": "811d9a2c-9762-4bfe-d505-09ea9c105b86"
      },
      "outputs": [
        {
          "data": {
            "application/javascript": [
              "google.colab.output.setIframeHeight(0, true, {maxHeight: 250})"
            ],
            "text/plain": [
              "<IPython.core.display.Javascript object>"
            ]
          },
          "metadata": {},
          "output_type": "display_data"
        },
        {
          "data": {
            "text/html": [
              "<style> body {background-color: rgb(255, 250, 232);}</style>"
            ],
            "text/plain": [
              "<IPython.core.display.HTML object>"
            ]
          },
          "metadata": {},
          "output_type": "display_data"
        },
        {
          "name": "stdout",
          "output_type": "stream",
          "text": [
            "\n",
            "\n",
            "TopicExtractor: gensim Mallet wrapper unavailable, using Mallet directly.\n",
            "\n",
            "-----\n",
            "DLATK Interface Initiated: 2024-02-01 23:37:33\n",
            "-----\n",
            "Connecting to SQLite database: /content/sqlite_data/colab_csv.db\n",
            "query: PRAGMA table_info(msgs404u)\n",
            "SQL Query: DROP TABLE IF EXISTS feat$cat_nrc_sent_w$msgs404u$user_id$1gra\n",
            "SQL Query: CREATE TABLE feat$cat_nrc_sent_w$msgs404u$user_id$1gra ( id INTEGER PRIMARY KEY, group_id INTEGER, feat VARCHAR(10), value INTEGER, group_norm DOUBLE)\n",
            "\n",
            "\n",
            "Creating index correl_field on table:feat$cat_nrc_sent_w$msgs404u$user_id$1gra, column:group_id \n",
            "\n",
            "\n",
            "SQL Query: CREATE INDEX correl_field$cat_nrc_sent_w$msgs404u$user_id$1gra ON feat$cat_nrc_sent_w$msgs404u$user_id$1gra (group_id)\n",
            "\n",
            "\n",
            "Creating index feature on table:feat$cat_nrc_sent_w$msgs404u$user_id$1gra, column:feat \n",
            "\n",
            "\n",
            "SQL Query: CREATE INDEX feature$cat_nrc_sent_w$msgs404u$user_id$1gra ON feat$cat_nrc_sent_w$msgs404u$user_id$1gra (feat)\n",
            "WORD TABLE feat$1gram$msgs404u$user_id\n",
            "4 out of 404 group Id's processed; 0.01 complete\n",
            "8 out of 404 group Id's processed; 0.02 complete\n",
            "12 out of 404 group Id's processed; 0.03 complete\n",
            "16 out of 404 group Id's processed; 0.04 complete\n",
            "20 out of 404 group Id's processed; 0.05 complete\n",
            "24 out of 404 group Id's processed; 0.06 complete\n",
            "28 out of 404 group Id's processed; 0.07 complete\n",
            "32 out of 404 group Id's processed; 0.08 complete\n",
            "36 out of 404 group Id's processed; 0.09 complete\n",
            "40 out of 404 group Id's processed; 0.10 complete\n",
            "44 out of 404 group Id's processed; 0.11 complete\n",
            "48 out of 404 group Id's processed; 0.12 complete\n",
            "52 out of 404 group Id's processed; 0.13 complete\n",
            "56 out of 404 group Id's processed; 0.14 complete\n",
            "60 out of 404 group Id's processed; 0.15 complete\n",
            "64 out of 404 group Id's processed; 0.16 complete\n",
            "68 out of 404 group Id's processed; 0.17 complete\n",
            "72 out of 404 group Id's processed; 0.18 complete\n",
            "76 out of 404 group Id's processed; 0.19 complete\n",
            "80 out of 404 group Id's processed; 0.20 complete\n",
            "84 out of 404 group Id's processed; 0.21 complete\n",
            "88 out of 404 group Id's processed; 0.22 complete\n",
            "92 out of 404 group Id's processed; 0.23 complete\n",
            "96 out of 404 group Id's processed; 0.24 complete\n",
            "100 out of 404 group Id's processed; 0.25 complete\n",
            "104 out of 404 group Id's processed; 0.26 complete\n",
            "108 out of 404 group Id's processed; 0.27 complete\n",
            "112 out of 404 group Id's processed; 0.28 complete\n",
            "116 out of 404 group Id's processed; 0.29 complete\n",
            "120 out of 404 group Id's processed; 0.30 complete\n",
            "124 out of 404 group Id's processed; 0.31 complete\n",
            "128 out of 404 group Id's processed; 0.32 complete\n",
            "132 out of 404 group Id's processed; 0.33 complete\n",
            "136 out of 404 group Id's processed; 0.34 complete\n",
            "140 out of 404 group Id's processed; 0.35 complete\n",
            "144 out of 404 group Id's processed; 0.36 complete\n",
            "148 out of 404 group Id's processed; 0.37 complete\n",
            "152 out of 404 group Id's processed; 0.38 complete\n",
            "156 out of 404 group Id's processed; 0.39 complete\n",
            "160 out of 404 group Id's processed; 0.40 complete\n",
            "164 out of 404 group Id's processed; 0.41 complete\n",
            "168 out of 404 group Id's processed; 0.42 complete\n",
            "172 out of 404 group Id's processed; 0.43 complete\n",
            "176 out of 404 group Id's processed; 0.44 complete\n",
            "180 out of 404 group Id's processed; 0.45 complete\n",
            "184 out of 404 group Id's processed; 0.46 complete\n",
            "188 out of 404 group Id's processed; 0.47 complete\n",
            "192 out of 404 group Id's processed; 0.48 complete\n",
            "196 out of 404 group Id's processed; 0.49 complete\n",
            "200 out of 404 group Id's processed; 0.50 complete\n",
            "204 out of 404 group Id's processed; 0.50 complete\n",
            "208 out of 404 group Id's processed; 0.51 complete\n",
            "212 out of 404 group Id's processed; 0.52 complete\n",
            "216 out of 404 group Id's processed; 0.53 complete\n",
            "220 out of 404 group Id's processed; 0.54 complete\n",
            "224 out of 404 group Id's processed; 0.55 complete\n",
            "228 out of 404 group Id's processed; 0.56 complete\n",
            "232 out of 404 group Id's processed; 0.57 complete\n",
            "236 out of 404 group Id's processed; 0.58 complete\n",
            "240 out of 404 group Id's processed; 0.59 complete\n",
            "244 out of 404 group Id's processed; 0.60 complete\n",
            "248 out of 404 group Id's processed; 0.61 complete\n",
            "252 out of 404 group Id's processed; 0.62 complete\n",
            "256 out of 404 group Id's processed; 0.63 complete\n",
            "260 out of 404 group Id's processed; 0.64 complete\n",
            "264 out of 404 group Id's processed; 0.65 complete\n",
            "268 out of 404 group Id's processed; 0.66 complete\n",
            "272 out of 404 group Id's processed; 0.67 complete\n",
            "276 out of 404 group Id's processed; 0.68 complete\n",
            "280 out of 404 group Id's processed; 0.69 complete\n",
            "284 out of 404 group Id's processed; 0.70 complete\n",
            "288 out of 404 group Id's processed; 0.71 complete\n",
            "292 out of 404 group Id's processed; 0.72 complete\n",
            "296 out of 404 group Id's processed; 0.73 complete\n",
            "300 out of 404 group Id's processed; 0.74 complete\n",
            "304 out of 404 group Id's processed; 0.75 complete\n",
            "308 out of 404 group Id's processed; 0.76 complete\n",
            "312 out of 404 group Id's processed; 0.77 complete\n",
            "316 out of 404 group Id's processed; 0.78 complete\n",
            "320 out of 404 group Id's processed; 0.79 complete\n",
            "324 out of 404 group Id's processed; 0.80 complete\n",
            "328 out of 404 group Id's processed; 0.81 complete\n",
            "332 out of 404 group Id's processed; 0.82 complete\n",
            "336 out of 404 group Id's processed; 0.83 complete\n",
            "340 out of 404 group Id's processed; 0.84 complete\n",
            "344 out of 404 group Id's processed; 0.85 complete\n",
            "348 out of 404 group Id's processed; 0.86 complete\n",
            "352 out of 404 group Id's processed; 0.87 complete\n",
            "356 out of 404 group Id's processed; 0.88 complete\n",
            "360 out of 404 group Id's processed; 0.89 complete\n",
            "364 out of 404 group Id's processed; 0.90 complete\n",
            "368 out of 404 group Id's processed; 0.91 complete\n",
            "372 out of 404 group Id's processed; 0.92 complete\n",
            "376 out of 404 group Id's processed; 0.93 complete\n",
            "380 out of 404 group Id's processed; 0.94 complete\n",
            "384 out of 404 group Id's processed; 0.95 complete\n",
            "388 out of 404 group Id's processed; 0.96 complete\n",
            "392 out of 404 group Id's processed; 0.97 complete\n",
            "396 out of 404 group Id's processed; 0.98 complete\n",
            "400 out of 404 group Id's processed; 0.99 complete\n",
            "404 out of 404 group Id's processed; 1.00 complete\n",
            "404 out of 404 group Id's processed; 1.00 complete\n",
            "-------\n",
            "Settings:\n",
            "\n",
            "Database - colab_csv\n",
            "Corpus - msgs404u.csv\n",
            "Group ID - user_id\n",
            "Feature table(s) - feat$cat_nrc_sent_w$msgs404u$user_id$1gra\n",
            "-------\n",
            "Interface Runtime: 2.16 seconds\n",
            "DLATK exits with success! A good day indeed  ¯\\_(ツ)_/¯.\n"
          ]
        }
      ],
      "source": [
        "!dlatkInterface.py \\\n",
        "  -d colab_csv -t msgs404u.csv -g user_id --group_freq_thresh 100 \\\n",
        "  --add_lex_table -l nrc_sent \\\n",
        "  --weighted_lexicon"
      ]
    },
    {
      "cell_type": "markdown",
      "metadata": {
        "id": "eOEEHJWk6aov"
      },
      "source": [
        "👆 The command executed successfully if `DLATK exits with success!`.\n",
        "\n",
        "<hr />\n",
        "\n",
        "<br />\n",
        "\n",
        "You should see the name of the new feature table - `feat$cat_nrc_sent_w$msgs404u$user_id$1gra`, which you can validate like earlier.\n"
      ]
    },
    {
      "cell_type": "code",
      "execution_count": null,
      "metadata": {
        "colab": {
          "base_uri": "https://localhost:8080/",
          "height": 250
        },
        "id": "v42W5FupUbMs",
        "outputId": "495c5cd1-eee2-4754-dd9e-34e4905dec2f"
      },
      "outputs": [
        {
          "data": {
            "application/javascript": [
              "google.colab.output.setIframeHeight(0, true, {maxHeight: 250})"
            ],
            "text/plain": [
              "<IPython.core.display.Javascript object>"
            ]
          },
          "metadata": {},
          "output_type": "display_data"
        },
        {
          "data": {
            "text/html": [
              "<style> body {background-color: rgb(255, 250, 232);}</style>"
            ],
            "text/plain": [
              "<IPython.core.display.HTML object>"
            ]
          },
          "metadata": {},
          "output_type": "display_data"
        },
        {
          "name": "stdout",
          "output_type": "stream",
          "text": [
            "\n",
            "\n",
            "TopicExtractor: gensim Mallet wrapper unavailable, using Mallet directly.\n",
            "\n",
            "-----\n",
            "DLATK Interface Initiated: 2024-02-01 23:37:45\n",
            "-----\n",
            "Connecting to SQLite database: /content/sqlite_data/colab_csv.db\n",
            "\n",
            "Printing: msgs404u\n",
            "----\n",
            "\n",
            "     message_id        user_id   created_date        message\n",
            "          17236         174357     2004-06-28     You Are Ri\n",
            "          17237         174357     2004-06-24     Im so tire\n",
            "          17238         174357     2004-07-28     So I start\n",
            "          25669         446275     2004-05-28     I just don\n",
            "          25670         446275     2004-05-25     [this is a\n",
            "          25671         446275     2004-05-24     Another th\n",
            "          25672         446275     2004-05-16     I come bac\n",
            "          25673         446275     2004-05-16     As any goo\n",
            "          25674         446275     2004-05-15     A previous\n",
            "          25675         446275     2004-05-15     If those h\n",
            "\n",
            "Printing: feat$cat_nrc_sent_w$msgs404u$user_id$1gra\n",
            "----\n",
            "\n",
            "             id       group_id           feat          value     group_norm\n",
            "              1         174357           SENT            589 -0.05426194144\n",
            "              2         174357       neg_sent            343 -0.17887673343\n",
            "              3         174357       pos_sent            246 0.124614791987\n",
            "              4         174357     _intercept              1            1.0\n",
            "              5         446275           SENT           1971 -0.17129064486\n",
            "              6         446275       neg_sent           1148 -0.26467120799\n",
            "              7         446275       pos_sent            823 0.093380563124\n",
            "              8         446275     _intercept              1            1.0\n",
            "              9         483266           SENT            653 0.057568022440\n",
            "             10         483266       pos_sent            377 0.171704067321\n",
            "-------\n",
            "Settings:\n",
            "\n",
            "Database - colab_csv\n",
            "Corpus - msgs404u.csv\n",
            "Group ID - user_id\n",
            "Feature table(s) - feat$cat_nrc_sent_w$msgs404u$user_id$1gra\n",
            "-------\n",
            "Interface Runtime: 0.01 seconds\n",
            "DLATK exits with success! A good day indeed  ¯\\_(ツ)_/¯.\n"
          ]
        }
      ],
      "source": [
        "!dlatkInterface.py \\\n",
        "  -d colab_csv -t msgs404u.csv -g user_id \\\n",
        "  -f 'feat$cat_nrc_sent_w$msgs404u$user_id$1gra' \\\n",
        "  --view_tables"
      ]
    },
    {
      "cell_type": "markdown",
      "metadata": {
        "id": "EP7201RDGTe9"
      },
      "source": [
        "👆 You should see the contents of `feat$cat_nrc_sent_w$msgs404u$user_id$1gra`\n",
        "<hr />\n",
        "\n",
        "<br />\n",
        "\n",
        "Once you have represented your data samples in terms of lexicon features, you can also correlate them with outcomes, by changing the feature table in `--feat_table` (in this case `--feat_table 'feat$cat_nrc_sent_w$msgs404u$user_id$1gra'`). Everything else in the command remains the same."
      ]
    },
    {
      "cell_type": "markdown",
      "metadata": {
        "id": "s1zPtayWVxpn"
      },
      "source": [
        "Now, correlate the new set of features against `age` controlling for `gender`, like you did above."
      ]
    },
    {
      "cell_type": "code",
      "execution_count": null,
      "metadata": {
        "colab": {
          "base_uri": "https://localhost:8080/",
          "height": 250
        },
        "id": "O18UHrEMoshJ",
        "outputId": "560329a3-b880-4b78-ff26-8cff968d3fb7"
      },
      "outputs": [
        {
          "data": {
            "application/javascript": [
              "google.colab.output.setIframeHeight(0, true, {maxHeight: 250})"
            ],
            "text/plain": [
              "<IPython.core.display.Javascript object>"
            ]
          },
          "metadata": {},
          "output_type": "display_data"
        },
        {
          "data": {
            "text/html": [
              "<style> body {background-color: rgb(255, 250, 232);}</style>"
            ],
            "text/plain": [
              "<IPython.core.display.HTML object>"
            ]
          },
          "metadata": {},
          "output_type": "display_data"
        },
        {
          "name": "stdout",
          "output_type": "stream",
          "text": [
            "\n",
            "\n",
            "TopicExtractor: gensim Mallet wrapper unavailable, using Mallet directly.\n",
            "\n",
            "-----\n",
            "DLATK Interface Initiated: 2024-01-17 03:12:54\n",
            "-----\n",
            "Connecting to SQLite database: /content/sqlite_data/colab_csv.db\n",
            "Connecting to SQLite database: /content/sqlite_data/colab_csv.db\n",
            "WARNING: The table users404 does not have: a PRIMARY key on user_id. Consider adding.\n",
            "Loading Outcomes and Getting Groups for: {'age', 'gender'}\n",
            "Connecting to SQLite database: /content/sqlite_data/colab_csv.db\n",
            "Yielding data over ['age'], adjusting for: ['gender__0'].\n",
            "Yielding norms with zeros (404 groups * 4 feats).\n",
            "                                 OLS Regression Results                                \n",
            "=======================================================================================\n",
            "Dep. Variable:                    age   R-squared (uncentered):                   0.007\n",
            "Model:                            OLS   Adj. R-squared (uncentered):              0.005\n",
            "Method:                 Least Squares   F-statistic:                              2.999\n",
            "Date:                Wed, 17 Jan 2024   Prob (F-statistic):                      0.0841\n",
            "Time:                        03:12:54   Log-Likelihood:                         -571.75\n",
            "No. Observations:                 404   AIC:                                      1146.\n",
            "Df Residuals:                     403   BIC:                                      1150.\n",
            "Df Model:                           1                                                  \n",
            "Covariance Type:            nonrobust                                                  \n",
            "==============================================================================\n",
            "                 coef    std err          t      P>|t|      [0.025      0.975]\n",
            "------------------------------------------------------------------------------\n",
            "gender__0     -0.0859      0.050     -1.732      0.084      -0.184       0.012\n",
            "==============================================================================\n",
            "Omnibus:                       48.655   Durbin-Watson:                   2.074\n",
            "Prob(Omnibus):                  0.000   Jarque-Bera (JB):               63.596\n",
            "Skew:                           0.964   Prob(JB):                     1.55e-14\n",
            "Kurtosis:                       3.246   Cond. No.                         1.00\n",
            "==============================================================================\n",
            "\n",
            "Notes:\n",
            "[1] R² is computed without centering (uncentered) since the model does not contain a constant.\n",
            "[2] Standard Errors assume that the covariance matrix of the errors is correctly specified.\n",
            "OLS threw ValueError: [exog contains inf or nans]\n",
            " feature '_intercept' with outcome 'age' results not included\n",
            "unable to correlate feature '_intercept' with 'age'\n",
            "Created output filename: ./feat.cat_nrc_sent_w.msgs404u.user_id.1gra.age.gender__0.freq100.rMatrix\n",
            "Generating Correlation Matrix.\n",
            " print to file: ././feat.cat_nrc_sent_w.msgs404u.user_id.1gra.age.gender__0.freq100.rMatrix.html\n",
            "-------\n",
            "\n",
            "Settings:\n",
            "\n",
            "Database - colab_csv\n",
            "Corpus - msgs404u.csv\n",
            "Group ID - user_id\n",
            "Feature table(s) - feat$cat_nrc_sent_w$msgs404u$user_id$1gra\n",
            "Outcome table - users404.csv\n",
            "Outcome(s) - age\n",
            "Control(s) - gender__0\n",
            "-------\n",
            "Interface Runtime: 0.08 seconds\n",
            "DLATK exits with success! A good day indeed  ¯\\_(ツ)_/¯.\n"
          ]
        }
      ],
      "source": [
        "!dlatkInterface.py \\\n",
        "  -d colab_csv -t msgs404u.csv -g user_id --group_freq_thresh 100 \\\n",
        "  --feat_table 'feat$cat_nrc_sent_w$msgs404u$user_id$1gra' \\\n",
        "  --outcome_table users404.csv --outcomes age \\\n",
        "  --controls gender --cat_to_bin gender \\\n",
        "  --rmatrix"
      ]
    },
    {
      "cell_type": "markdown",
      "metadata": {
        "id": "kZ38XFF0GE9e"
      },
      "source": [
        "👆 The above command produces an HTML (`feat.cat_nrc_sent_w.msgs404u.user_id.1gra.age.gender__0.freq100.rMatrix.html`) with the results, under the `Files` tab.\n",
        "\n",
        "<br/>"
      ]
    },
    {
      "cell_type": "markdown",
      "metadata": {
        "id": "NYlLK0STHE9L"
      },
      "source": [
        "# Running Prediction (Language-based Assessment)\n",
        "\n",
        "<img src=\"https://drive.google.com/uc?export=view&id=1AgMttURoLyJZ6WhL9wnVzWBt1gSmE0yE\" height=\"350\" width=\"550\"/>"
      ]
    },
    {
      "cell_type": "markdown",
      "metadata": {
        "id": "tACYr6g88H6n"
      },
      "source": [
        "## Prediction: Example 1: N-Fold Cross Validation"
      ]
    },
    {
      "cell_type": "markdown",
      "metadata": {
        "id": "PvDHsfsWQrb-"
      },
      "source": [
        "There are two types of [prediction models](https://scikit-learn.org/stable/modules/linear_model.html#) we can run:\n",
        "1. **Regression**, which is the prediction of a continous variable, and\n",
        "2. **Classification**, which is the prediction of a categorical variable.\n",
        "\n",
        "<br/>\n",
        "\n",
        "<hr/>\n",
        "\n",
        "[N-Fold cross-validation](https://scikit-learn.org/stable/modules/cross_validation.html#) - This method involves randomly dividing the dataset into *N* groups, or \"folds\", of approximately equal size. The model is later fit on the N-1 folds (*train* data) and the evaluated for accuracy over the remaining one fold (*test* data).\n",
        "\n",
        "<hr/>\n",
        "\n",
        "<br/>\n",
        "\n",
        "For running a prediction model against an outcome, you use the same data setup commands as in correlations:\n",
        "* **`-f FEAT_TABLE_NAME`** - names of the feature table.\n",
        "* **`--outcome_table NAME`** - the name of the table with outcomes.\n",
        "* **`--outcomes OC1 [OC2...]`** - list of outcomes to predict.\n"
      ]
    },
    {
      "cell_type": "markdown",
      "metadata": {
        "id": "xGa8-zHYKKtz"
      },
      "source": [
        "### N-Fold Regression:\n"
      ]
    },
    {
      "cell_type": "markdown",
      "metadata": {
        "id": "1UlH163FGfhd"
      },
      "source": [
        "Below are the flags to perform regression using cross-validation:\n",
        "* **`--nfold_test_regression`** - this activates regression using n-fold cross-validation.\n",
        "* **`--model MODEL_NAME`** - which regression model to use (some examples would be ordinary least sqaures, ridge regression, etc.)"
      ]
    },
    {
      "cell_type": "markdown",
      "metadata": {
        "id": "Y2x7ExfQA3dl"
      },
      "source": [
        "👇 For example, below command will predict `age` from 1gram and 2grams features using a ridge regression model over `5` fold cross validation."
      ]
    },
    {
      "cell_type": "code",
      "execution_count": null,
      "metadata": {
        "colab": {
          "base_uri": "https://localhost:8080/",
          "height": 250
        },
        "id": "xrvew0R33AWA",
        "outputId": "8606e08d-0a00-4009-af34-42ddb4a945c7"
      },
      "outputs": [
        {
          "data": {
            "application/javascript": [
              "google.colab.output.setIframeHeight(0, true, {maxHeight: 250})"
            ],
            "text/plain": [
              "<IPython.core.display.Javascript object>"
            ]
          },
          "metadata": {},
          "output_type": "display_data"
        },
        {
          "data": {
            "text/html": [
              "<style> body {background-color: rgb(255, 250, 232);}</style>"
            ],
            "text/plain": [
              "<IPython.core.display.HTML object>"
            ]
          },
          "metadata": {},
          "output_type": "display_data"
        },
        {
          "name": "stdout",
          "output_type": "stream",
          "text": [
            "\n",
            "\n",
            "TopicExtractor: gensim Mallet wrapper unavailable, using Mallet directly.\n",
            "\n",
            "-----\n",
            "DLATK Interface Initiated: 2024-01-31 17:48:15\n",
            "-----\n",
            "Connecting to SQLite database: /content/sqlite_data/colab_csv.db\n",
            "Connecting to SQLite database: /content/sqlite_data/colab_csv.db\n",
            "Connecting to SQLite database: /content/sqlite_data/colab_csv.db\n",
            "WARNING: The table users404 does not have: a PRIMARY key on user_id. Consider adding.\n",
            "Loading Outcomes and Getting Groups for: {'age'}\n",
            "Traceback (most recent call last):\n",
            "  File \"/usr/local/bin/dlatkInterface.py\", line 2255, in <module>\n",
            "    main()\n",
            "  File \"/usr/local/bin/dlatkInterface.py\", line 1899, in main\n",
            "    comboScores = rp.testControlCombos(sparse = args.sparse, blacklist = blacklist,\n",
            "  File \"/usr/local/lib/python3.10/dist-packages/dlatk/regressionPredictor.py\", line 803, in testControlCombos\n",
            "    (groups, allOutcomes, allControls, foldLabels) = self.outcomeGetter.getGroupsAndOutcomes(groupsWhere = groupsWhere, includeFoldLabels=True)\n",
            "  File \"/usr/local/lib/python3.10/dist-packages/dlatk/outcomeGetter.py\", line 429, in getGroupsAndOutcomes\n",
            "    groupCnts = self.getGroupWordCounts(where, lexicon_count_table = lexicon_count_table)\n",
            "  File \"/usr/local/lib/python3.10/dist-packages/dlatk/dlaWorker.py\", line 426, in getGroupWordCounts\n",
            "    wordGetter = self.getWordGetter(lexicon_count_table)\n",
            "  File \"/usr/local/lib/python3.10/dist-packages/dlatk/dlaWorker.py\", line 388, in getWordGetter\n",
            "    assert self.data_engine.tableExists(wordTable), \"Need to create word table to use current functionality: %s\" % wordTable\n",
            "AssertionError: Need to create word table to use current functionality: feat$1gram$msgs404u$user_id\n"
          ]
        }
      ],
      "source": [
        "!dlatkInterface.py \\\n",
        "  -d colab_csv -t msgs404u.csv -g user_id --group_freq_thresh 100 \\\n",
        "  --outcome_table users404.csv --outcomes age \\\n",
        "  --feat_table 'feat$1to2gram$msgs404u$user_id$0_1' \\\n",
        "  --nfold_test_regression --model ridgecv"
      ]
    },
    {
      "cell_type": "markdown",
      "metadata": {
        "id": "jz_xKX3neFC9"
      },
      "source": [
        "👆 Above the settings, you should see a dictionary containing accuracy metrics from cross validation. Key metrics are `r` and `mae`:\n",
        "```\n",
        "[TEST COMPLETE]\n",
        "\n",
        "{'age': {(): {1: {'N': 404,\n",
        "                  ...\n",
        "                  'mae': 5.392188704337425,\n",
        "                  'num_features': 2308,\n",
        "                  'r': 0.580652941321456,\n",
        "                  ...}}}}\n",
        "```\n",
        "`mae` is the mean absolute error aggregated across all examples from when they were in a test fold. In this case, the model on average is off in predicting age by 5.4 years.\n",
        "\n",
        "`r` is the Pearson correlation between the predicted age and the self-reported age. The correlation is a nice accuracy metric for regression prediction tasks  since it is bounded at 1 being a perfect prediction and 0 being what is expected by chance.  \n",
        "\n",
        "DLATK uses 5 folds by default, but you can change this by adding the\n",
        "`--folds K` parameter.\n",
        "\n",
        "<br/>\n"
      ]
    },
    {
      "cell_type": "markdown",
      "metadata": {
        "id": "XhOQOGiTaqW8"
      },
      "source": [
        "### N-Fold Classification\n"
      ]
    },
    {
      "cell_type": "markdown",
      "metadata": {
        "id": "SnsjxLReadU-"
      },
      "source": [
        "Similarly, you can also perform classification using cross-validation using the below flags:\n",
        "\n",
        "* **`--nfold_test_classifiers`** - activates classification using cross-validation.\n",
        "* **`--model MODEL_NAME`** - classification model to use (for example logistic regression, etc.).\n",
        "\n",
        "<br/>\n",
        "\n",
        "You can also store the prediction output to a CSV with the below flags:\n",
        "* **`--csv`** - Saves the results to a csv file instead of printing to the screen, like with `--correlate`.\n",
        "* **`--pred_csv`** - write the predicted scores for the sample to a separate CSV prefixed with the name in `--output_name`.\n",
        "\n",
        "<br/>\n",
        "\n",
        "👇 Try predicting if a user is a student or not (`is_student`) from their 1gram and 2gram features using Logistic Regression (`lr`) in 5 fold cross-validation."
      ]
    },
    {
      "cell_type": "code",
      "execution_count": null,
      "metadata": {
        "colab": {
          "base_uri": "https://localhost:8080/",
          "height": 250
        },
        "id": "aCuCF14Eapmm",
        "outputId": "ba069d13-5b62-4900-a5c4-5746b8179c98"
      },
      "outputs": [
        {
          "data": {
            "application/javascript": [
              "google.colab.output.setIframeHeight(0, true, {maxHeight: 250})"
            ],
            "text/plain": [
              "<IPython.core.display.Javascript object>"
            ]
          },
          "metadata": {},
          "output_type": "display_data"
        },
        {
          "data": {
            "text/html": [
              "<style> body {background-color: rgb(255, 250, 232);}</style>"
            ],
            "text/plain": [
              "<IPython.core.display.HTML object>"
            ]
          },
          "metadata": {},
          "output_type": "display_data"
        },
        {
          "name": "stdout",
          "output_type": "stream",
          "text": [
            "\n",
            "\n",
            "TopicExtractor: gensim Mallet wrapper unavailable, using Mallet directly.\n",
            "\n",
            "-----\n",
            "DLATK Interface Initiated: 2024-01-17 03:15:18\n",
            "-----\n",
            "Connecting to SQLite database: /content/sqlite_data/colab_csv.db\n",
            "Connecting to SQLite database: /content/sqlite_data/colab_csv.db\n",
            "WARNING: The table users404 does not have: a PRIMARY key on user_id. Consider adding.\n",
            "Loading Outcomes and Getting Groups for: {'is_student'}\n",
            "Connecting to SQLite database: /content/sqlite_data/colab_csv.db\n",
            "[number of groups: 255 (5 Folds)] non-stratified / using same folds for all outcomes\n",
            "\n",
            "\n",
            "|COMBO: ()|\n",
            "===========\n",
            "\n",
            "= is_student (w/ lang.)=\n",
            "------------------------\n",
            "\n",
            "Fold 0 \n",
            "   (feature group: 0): [Initial size: 255]\n",
            "[Train size: 204    Test size: 51]\n",
            "[Applying StandardScaler to X[0]: StandardScaler()]\n",
            " X[0]: (N, features): (204, 2308)\n",
            "[Training classification model: lr]\n",
            "model: LogisticRegression(C=0.01, random_state=42) \n",
            "  predict: applying standard scaler to X[0]: StandardScaler()\n",
            "  predict: combined X shape: (51, 2308)\n",
            "  predict: classifier intercept: [-0.4276829]\n",
            " *confusion matrix: \n",
            "[[23  5]\n",
            " [10 13]]\n",
            " *precision and recall: \n",
            "              precision    recall  f1-score   support\n",
            "\n",
            "           0       0.70      0.82      0.75        28\n",
            "           1       0.72      0.57      0.63        23\n",
            "\n",
            "    accuracy                           0.71        51\n",
            "   macro avg       0.71      0.69      0.69        51\n",
            "weighted avg       0.71      0.71      0.70        51\n",
            "\n",
            " *FOLD ACC: 0.7059 (mfclass_acc: 0.5490); mfclass: 0; auc: 0.7189\n",
            "\n",
            "\n",
            "Fold 1 \n",
            "   (feature group: 0): [Initial size: 255]\n",
            "[Train size: 204    Test size: 51]\n",
            "[Applying StandardScaler to X[0]: StandardScaler()]\n",
            " X[0]: (N, features): (204, 2308)\n",
            "[Training classification model: lr]\n",
            "model: LogisticRegression(C=0.01, random_state=42) \n",
            "  predict: applying standard scaler to X[0]: StandardScaler()\n",
            "  predict: combined X shape: (51, 2308)\n",
            "  predict: classifier intercept: [-0.34314631]\n",
            " *confusion matrix: \n",
            "[[26  4]\n",
            " [ 7 14]]\n",
            " *precision and recall: \n",
            "              precision    recall  f1-score   support\n",
            "\n",
            "           0       0.79      0.87      0.83        30\n",
            "           1       0.78      0.67      0.72        21\n",
            "\n",
            "    accuracy                           0.78        51\n",
            "   macro avg       0.78      0.77      0.77        51\n",
            "weighted avg       0.78      0.78      0.78        51\n",
            "\n",
            " *FOLD ACC: 0.7843 (mfclass_acc: 0.5882); mfclass: 0; auc: 0.8571\n",
            "\n",
            "\n",
            "Fold 2 \n",
            "   (feature group: 0): [Initial size: 255]\n",
            "[Train size: 204    Test size: 51]\n",
            "[Applying StandardScaler to X[0]: StandardScaler()]\n",
            " X[0]: (N, features): (204, 2308)\n",
            "[Training classification model: lr]\n",
            "model: LogisticRegression(C=0.01, random_state=42) \n",
            "  predict: applying standard scaler to X[0]: StandardScaler()\n",
            "  predict: combined X shape: (51, 2308)\n",
            "  predict: classifier intercept: [-0.50798789]\n",
            " *confusion matrix: \n",
            "[[23  3]\n",
            " [11 14]]\n",
            " *precision and recall: \n",
            "              precision    recall  f1-score   support\n",
            "\n",
            "           0       0.68      0.88      0.77        26\n",
            "           1       0.82      0.56      0.67        25\n",
            "\n",
            "    accuracy                           0.73        51\n",
            "   macro avg       0.75      0.72      0.72        51\n",
            "weighted avg       0.75      0.73      0.72        51\n",
            "\n",
            " *FOLD ACC: 0.7255 (mfclass_acc: 0.5098); mfclass: 0; auc: 0.7231\n",
            "\n",
            "\n",
            "Fold 3 \n",
            "   (feature group: 0): [Initial size: 255]\n",
            "[Train size: 204    Test size: 51]\n",
            "[Applying StandardScaler to X[0]: StandardScaler()]\n",
            " X[0]: (N, features): (204, 2308)\n",
            "[Training classification model: lr]\n",
            "model: LogisticRegression(C=0.01, random_state=42) \n",
            "  predict: applying standard scaler to X[0]: StandardScaler()\n",
            "  predict: combined X shape: (51, 2308)\n",
            "  predict: classifier intercept: [-0.3906524]\n",
            " *confusion matrix: \n",
            "[[23  6]\n",
            " [ 8 14]]\n",
            " *precision and recall: \n",
            "              precision    recall  f1-score   support\n",
            "\n",
            "           0       0.74      0.79      0.77        29\n",
            "           1       0.70      0.64      0.67        22\n",
            "\n",
            "    accuracy                           0.73        51\n",
            "   macro avg       0.72      0.71      0.72        51\n",
            "weighted avg       0.72      0.73      0.72        51\n",
            "\n",
            " *FOLD ACC: 0.7255 (mfclass_acc: 0.5686); mfclass: 0; auc: 0.8213\n",
            "\n",
            "\n",
            "Fold 4 \n",
            "   (feature group: 0): [Initial size: 255]\n",
            "[Train size: 204    Test size: 51]\n",
            "[Applying StandardScaler to X[0]: StandardScaler()]\n",
            " X[0]: (N, features): (204, 2308)\n",
            "[Training classification model: lr]\n",
            "model: LogisticRegression(C=0.01, random_state=42) \n",
            "  predict: applying standard scaler to X[0]: StandardScaler()\n",
            "  predict: combined X shape: (51, 2308)\n",
            "  predict: classifier intercept: [-0.35782905]\n",
            " *confusion matrix: \n",
            "[[24  6]\n",
            " [11 10]]\n",
            " *precision and recall: \n",
            "              precision    recall  f1-score   support\n",
            "\n",
            "           0       0.69      0.80      0.74        30\n",
            "           1       0.62      0.48      0.54        21\n",
            "\n",
            "    accuracy                           0.67        51\n",
            "   macro avg       0.66      0.64      0.64        51\n",
            "weighted avg       0.66      0.67      0.66        51\n",
            "\n",
            " *FOLD ACC: 0.6667 (mfclass_acc: 0.5882); mfclass: 0; auc: 0.6857\n",
            "\n",
            "* Overall Fold Acc: 0.7216 (+- 0.0170) vs. MFC Accuracy: 0.5608 (based on test rather than train)\n",
            "*       Overall F1: 0.7077 (+- 0.0191)\n",
            "       + precision: 0.7237 (+- 0.0190)\n",
            "       +    recall: 0.7070 (+- 0.0188)\n",
            "\n",
            "[TEST COMPLETE]\n",
            "\n",
            "{'is_student': {(): {1: {'acc': 0.7215686274509804,\n",
            "                         'auc': 0.7437562437562438,\n",
            "                         'auc_cntl_comb2': 0.0,\n",
            "                         'auc_cntl_comb2_p': 1.0,\n",
            "                         'auc_cntl_comb2_t': 0.0,\n",
            "                         'auc_p': 0.0,\n",
            "                         'auc_p_v_cntrls': 1.0,\n",
            "                         'f1': 0.7084963531855286,\n",
            "                         'f1_weighted': 0.7160008069305103,\n",
            "                         'folds_acc': 0.7215686274509804,\n",
            "                         'folds_auc': 0.7612389559466022,\n",
            "                         'folds_f1': 0.7077258991133442,\n",
            "                         'folds_mfclass_acc': 0.5607843137254902,\n",
            "                         'folds_precision': 0.7237498254433737,\n",
            "                         'folds_recall': 0.7070252241511612,\n",
            "                         'folds_rho': 0.4303887011448538,\n",
            "                         'folds_rho-p': 0.008453872188303043,\n",
            "                         'folds_se_acc': 0.01700351638327749,\n",
            "                         'folds_se_auc': 0.029499867640954212,\n",
            "                         'folds_se_f1': 0.01906700306580623,\n",
            "                         'folds_se_mfclass_acc': 0.013124078847593345,\n",
            "                         'folds_se_precision': 0.01904202376812535,\n",
            "                         'folds_se_recall': 0.018750112642087858,\n",
            "                         'folds_se_rho': 0.03768870238077484,\n",
            "                         'folds_se_rho-p': 0.006395604664118233,\n",
            "                         'matt_ccoef': 0.42951489521772107,\n",
            "                         'mfclass': '0',\n",
            "                         'mfclass_acc': 0.5607843137254902,\n",
            "                         'num_classes': '2',\n",
            "                         'num_features': 2308,\n",
            "                         'precision': 0.7236022742656018,\n",
            "                         'recall': 0.7062624875124875,\n",
            "                         'recall_micro': 0.7215686274509804,\n",
            "                         'recall_sensitivity': 0.5803571428571429,\n",
            "                         'recall_specificity': 0.8321678321678322,\n",
            "                         'test_size': 51,\n",
            "                         'train_size': 204,\n",
            "                         '{modelFS_desc}': 'None',\n",
            "                         '{model_desc}': 'LogisticRegression(C=0.01, '\n",
            "                                         'random_state=42)'}}}}\n",
            "\n",
            "[is_student]\n",
            "   NO CONTROLS\n",
            "     + LANG: acc: 0.722, f1: 0.708, auc: 0.744 (p_vs_controls = 1.0000)\n",
            "   (mfc_acc: 0.561)\n",
            "-------\n",
            "\n",
            "Settings:\n",
            "\n",
            "Database - colab_csv\n",
            "Corpus - msgs404u.csv\n",
            "Group ID - user_id\n",
            "Feature table(s) - feat$1to2gram$msgs404u$user_id$0_1\n",
            "Outcome table - users404.csv\n",
            "Outcome(s) - is_student\n",
            "-------\n",
            "Interface Runtime: 11.65 seconds\n",
            "DLATK exits with success! A good day indeed  ¯\\_(ツ)_/¯.\n"
          ]
        }
      ],
      "source": [
        "!dlatkInterface.py \\\n",
        "  -d colab_csv -t msgs404u.csv -g user_id --group_freq_thresh 100 \\\n",
        "  --outcome_table users404.csv --outcomes is_student  \\\n",
        "  --feat_table 'feat$1to2gram$msgs404u$user_id$0_1' \\\n",
        "  --nfold_test_classifiers --model lr"
      ]
    },
    {
      "cell_type": "markdown",
      "metadata": {
        "id": "zWMd-qW-Toti"
      },
      "source": [
        "👆 The above command produce the key validation metrics like `acc` (accuracy) which gives the fraction of users correctly classified as student (`72.2%` in this case), [f1 score](https://en.wikipedia.org/wiki/F-score), and [auc](https://developers.google.com/machine-learning/crash-course/classification/roc-and-auc) -\n",
        "\n",
        "```\n",
        "[is_student]\n",
        "   NO CONTROLS\n",
        "     + LANG: acc: 0.722, f1: 0.708, auc: 0.745 (p_vs_controls = 1.0000)\n",
        "   (mfc_acc: 0.561)\n",
        "```\n",
        "\n",
        "<br/>"
      ]
    },
    {
      "cell_type": "markdown",
      "metadata": {
        "id": "WHBvEKsTRLm9"
      },
      "source": [
        "## Prediction - Example 2: Training and Deploying a model."
      ]
    },
    {
      "cell_type": "markdown",
      "metadata": {
        "id": "oNpyhU6XiA1N"
      },
      "source": [
        "### Train and Deploy - Step 1: Train and save a model\n"
      ]
    },
    {
      "cell_type": "markdown",
      "metadata": {
        "id": "bEyzbB5XaodD"
      },
      "source": [
        "Another approach is to train a predictive model, store it and use it to predict the outcomes in a different dataset.\n",
        "\n",
        "<br/>\n",
        "\n",
        "In addition to the flags that point to the right tables, flags necessary for this command are -\n",
        "\n",
        "* **`--train_regression`** - trains a regression model.\n",
        "* **`--model MODEL_NAME`** - which machine learning model to use.\n",
        "* **`--save_model --picklefile FILENAME`** - saves the model into a pickle file `FILENAME`\n",
        "\n",
        "<br/>\n",
        "\n",
        "👇 In the below example, you will build and save a model (using [ridge regression](what_is_ridge) with a penalty of 1000) that predicts `age` from 1gram and 2gram features (`feat$1to2gram$msgs404u$user_id$0_1`), and save it into a file named `age.1to2grams.ridge1000.gft100.pickle`."
      ]
    },
    {
      "cell_type": "code",
      "execution_count": null,
      "metadata": {
        "colab": {
          "base_uri": "https://localhost:8080/",
          "height": 250
        },
        "id": "-8LGlOOBp8W0",
        "outputId": "3bfc2266-944e-4fb1-d275-6c9ba8f19fe6"
      },
      "outputs": [
        {
          "data": {
            "application/javascript": [
              "google.colab.output.setIframeHeight(0, true, {maxHeight: 250})"
            ],
            "text/plain": [
              "<IPython.core.display.Javascript object>"
            ]
          },
          "metadata": {},
          "output_type": "display_data"
        },
        {
          "data": {
            "text/html": [
              "<style> body {background-color: rgb(255, 250, 232);}</style>"
            ],
            "text/plain": [
              "<IPython.core.display.HTML object>"
            ]
          },
          "metadata": {},
          "output_type": "display_data"
        },
        {
          "name": "stdout",
          "output_type": "stream",
          "text": [
            "\n",
            "\n",
            "TopicExtractor: gensim Mallet wrapper unavailable, using Mallet directly.\n",
            "\n",
            "-----\n",
            "DLATK Interface Initiated: 2024-01-17 03:15:47\n",
            "-----\n",
            "Connecting to SQLite database: /content/sqlite_data/colab_csv.db\n",
            "Connecting to SQLite database: /content/sqlite_data/colab_csv.db\n",
            "WARNING: The table users404 does not have: a PRIMARY key on user_id. Consider adding.\n",
            "Loading Outcomes and Getting Groups for: {'age'}\n",
            "Connecting to SQLite database: /content/sqlite_data/colab_csv.db\n",
            "[number of groups: 404]\n",
            "\n",
            "= age =\n",
            "-------\n",
            "  (feature group: 0)\n",
            "   [Train size: 404 ]\n",
            " X[0]: (N, features): (404, 2308)\n",
            "  [Applying StandardScaler to X[0]: StandardScaler()]\n",
            "[COMBINED FEATS (from multiX)] Combined size: (404, 2308)\n",
            "[COMBINED FEATS: Training regression model: ridge1000]\n",
            "model: Ridge(alpha=1000) \n",
            "\n",
            "[TRAINING COMPLETE]\n",
            "\n",
            "[Saving age.1to2grams.ridge1000.gft100.pickle]\n",
            "-------\n",
            "\n",
            "Settings:\n",
            "\n",
            "Database - colab_csv\n",
            "Corpus - msgs404u.csv\n",
            "Group ID - user_id\n",
            "Feature table(s) - feat$1to2gram$msgs404u$user_id$0_1\n",
            "Outcome table - users404.csv\n",
            "Outcome(s) - age\n",
            "-------\n",
            "Interface Runtime: 1.16 seconds\n",
            "DLATK exits with success! A good day indeed  ¯\\_(ツ)_/¯.\n"
          ]
        }
      ],
      "source": [
        "!dlatkInterface.py \\\n",
        "  -d colab_csv -t msgs404u.csv -g user_id --group_freq_thresh 100 \\\n",
        "  --outcome_table users404.csv --outcomes age  \\\n",
        "  -f 'feat$1to2gram$msgs404u$user_id$0_1' \\\n",
        "  --train_regression --model ridge1000 \\\n",
        "  --save_model --picklefile age.1to2grams.ridge1000.gft100.pickle"
      ]
    },
    {
      "cell_type": "markdown",
      "metadata": {
        "id": "1ry-iqmWROil"
      },
      "source": [
        "### Train and Deploy - Step 2: Predict from new data\n",
        "\n"
      ]
    },
    {
      "cell_type": "markdown",
      "metadata": {
        "id": "f4HkTFvrZOh7"
      },
      "source": [
        "Once you have trained a model to predict an outcome, you can use it to predict from unseen data (or *test* data).\n",
        "\n",
        "👉 If you wish to use a default *test* dataset, skip the next command.\n",
        "\n",
        "👇 To load your dataset to test the model, you can use the `upload_dataset` function from the [Setup data](#data) section above."
      ]
    },
    {
      "cell_type": "code",
      "execution_count": null,
      "metadata": {
        "colab": {
          "base_uri": "https://localhost:8080/",
          "height": 250
        },
        "id": "VFGe4TR9RSg-",
        "outputId": "0714d3e2-f8e6-4084-8319-43d1a0d481c7"
      },
      "outputs": [
        {
          "data": {
            "application/javascript": [
              "google.colab.output.setIframeHeight(0, true, {maxHeight: 250})"
            ],
            "text/plain": [
              "<IPython.core.display.Javascript object>"
            ]
          },
          "metadata": {},
          "output_type": "display_data"
        },
        {
          "data": {
            "text/html": [
              "<style> body {background-color: rgb(255, 250, 232);}</style>"
            ],
            "text/plain": [
              "<IPython.core.display.HTML object>"
            ]
          },
          "metadata": {},
          "output_type": "display_data"
        },
        {
          "data": {
            "text/html": [
              "\n",
              "     <input type=\"file\" id=\"files-3c09ee46-7737-4994-8b80-40dc6185138c\" name=\"files[]\" multiple disabled\n",
              "        style=\"border:none\" />\n",
              "     <output id=\"result-3c09ee46-7737-4994-8b80-40dc6185138c\">\n",
              "      Upload widget is only available when the cell has been executed in the\n",
              "      current browser session. Please rerun this cell to enable.\n",
              "      </output>\n",
              "      <script>// Copyright 2017 Google LLC\n",
              "//\n",
              "// Licensed under the Apache License, Version 2.0 (the \"License\");\n",
              "// you may not use this file except in compliance with the License.\n",
              "// You may obtain a copy of the License at\n",
              "//\n",
              "//      http://www.apache.org/licenses/LICENSE-2.0\n",
              "//\n",
              "// Unless required by applicable law or agreed to in writing, software\n",
              "// distributed under the License is distributed on an \"AS IS\" BASIS,\n",
              "// WITHOUT WARRANTIES OR CONDITIONS OF ANY KIND, either express or implied.\n",
              "// See the License for the specific language governing permissions and\n",
              "// limitations under the License.\n",
              "\n",
              "/**\n",
              " * @fileoverview Helpers for google.colab Python module.\n",
              " */\n",
              "(function(scope) {\n",
              "function span(text, styleAttributes = {}) {\n",
              "  const element = document.createElement('span');\n",
              "  element.textContent = text;\n",
              "  for (const key of Object.keys(styleAttributes)) {\n",
              "    element.style[key] = styleAttributes[key];\n",
              "  }\n",
              "  return element;\n",
              "}\n",
              "\n",
              "// Max number of bytes which will be uploaded at a time.\n",
              "const MAX_PAYLOAD_SIZE = 100 * 1024;\n",
              "\n",
              "function _uploadFiles(inputId, outputId) {\n",
              "  const steps = uploadFilesStep(inputId, outputId);\n",
              "  const outputElement = document.getElementById(outputId);\n",
              "  // Cache steps on the outputElement to make it available for the next call\n",
              "  // to uploadFilesContinue from Python.\n",
              "  outputElement.steps = steps;\n",
              "\n",
              "  return _uploadFilesContinue(outputId);\n",
              "}\n",
              "\n",
              "// This is roughly an async generator (not supported in the browser yet),\n",
              "// where there are multiple asynchronous steps and the Python side is going\n",
              "// to poll for completion of each step.\n",
              "// This uses a Promise to block the python side on completion of each step,\n",
              "// then passes the result of the previous step as the input to the next step.\n",
              "function _uploadFilesContinue(outputId) {\n",
              "  const outputElement = document.getElementById(outputId);\n",
              "  const steps = outputElement.steps;\n",
              "\n",
              "  const next = steps.next(outputElement.lastPromiseValue);\n",
              "  return Promise.resolve(next.value.promise).then((value) => {\n",
              "    // Cache the last promise value to make it available to the next\n",
              "    // step of the generator.\n",
              "    outputElement.lastPromiseValue = value;\n",
              "    return next.value.response;\n",
              "  });\n",
              "}\n",
              "\n",
              "/**\n",
              " * Generator function which is called between each async step of the upload\n",
              " * process.\n",
              " * @param {string} inputId Element ID of the input file picker element.\n",
              " * @param {string} outputId Element ID of the output display.\n",
              " * @return {!Iterable<!Object>} Iterable of next steps.\n",
              " */\n",
              "function* uploadFilesStep(inputId, outputId) {\n",
              "  const inputElement = document.getElementById(inputId);\n",
              "  inputElement.disabled = false;\n",
              "\n",
              "  const outputElement = document.getElementById(outputId);\n",
              "  outputElement.innerHTML = '';\n",
              "\n",
              "  const pickedPromise = new Promise((resolve) => {\n",
              "    inputElement.addEventListener('change', (e) => {\n",
              "      resolve(e.target.files);\n",
              "    });\n",
              "  });\n",
              "\n",
              "  const cancel = document.createElement('button');\n",
              "  inputElement.parentElement.appendChild(cancel);\n",
              "  cancel.textContent = 'Cancel upload';\n",
              "  const cancelPromise = new Promise((resolve) => {\n",
              "    cancel.onclick = () => {\n",
              "      resolve(null);\n",
              "    };\n",
              "  });\n",
              "\n",
              "  // Wait for the user to pick the files.\n",
              "  const files = yield {\n",
              "    promise: Promise.race([pickedPromise, cancelPromise]),\n",
              "    response: {\n",
              "      action: 'starting',\n",
              "    }\n",
              "  };\n",
              "\n",
              "  cancel.remove();\n",
              "\n",
              "  // Disable the input element since further picks are not allowed.\n",
              "  inputElement.disabled = true;\n",
              "\n",
              "  if (!files) {\n",
              "    return {\n",
              "      response: {\n",
              "        action: 'complete',\n",
              "      }\n",
              "    };\n",
              "  }\n",
              "\n",
              "  for (const file of files) {\n",
              "    const li = document.createElement('li');\n",
              "    li.append(span(file.name, {fontWeight: 'bold'}));\n",
              "    li.append(span(\n",
              "        `(${file.type || 'n/a'}) - ${file.size} bytes, ` +\n",
              "        `last modified: ${\n",
              "            file.lastModifiedDate ? file.lastModifiedDate.toLocaleDateString() :\n",
              "                                    'n/a'} - `));\n",
              "    const percent = span('0% done');\n",
              "    li.appendChild(percent);\n",
              "\n",
              "    outputElement.appendChild(li);\n",
              "\n",
              "    const fileDataPromise = new Promise((resolve) => {\n",
              "      const reader = new FileReader();\n",
              "      reader.onload = (e) => {\n",
              "        resolve(e.target.result);\n",
              "      };\n",
              "      reader.readAsArrayBuffer(file);\n",
              "    });\n",
              "    // Wait for the data to be ready.\n",
              "    let fileData = yield {\n",
              "      promise: fileDataPromise,\n",
              "      response: {\n",
              "        action: 'continue',\n",
              "      }\n",
              "    };\n",
              "\n",
              "    // Use a chunked sending to avoid message size limits. See b/62115660.\n",
              "    let position = 0;\n",
              "    do {\n",
              "      const length = Math.min(fileData.byteLength - position, MAX_PAYLOAD_SIZE);\n",
              "      const chunk = new Uint8Array(fileData, position, length);\n",
              "      position += length;\n",
              "\n",
              "      const base64 = btoa(String.fromCharCode.apply(null, chunk));\n",
              "      yield {\n",
              "        response: {\n",
              "          action: 'append',\n",
              "          file: file.name,\n",
              "          data: base64,\n",
              "        },\n",
              "      };\n",
              "\n",
              "      let percentDone = fileData.byteLength === 0 ?\n",
              "          100 :\n",
              "          Math.round((position / fileData.byteLength) * 100);\n",
              "      percent.textContent = `${percentDone}% done`;\n",
              "\n",
              "    } while (position < fileData.byteLength);\n",
              "  }\n",
              "\n",
              "  // All done.\n",
              "  yield {\n",
              "    response: {\n",
              "      action: 'complete',\n",
              "    }\n",
              "  };\n",
              "}\n",
              "\n",
              "scope.google = scope.google || {};\n",
              "scope.google.colab = scope.google.colab || {};\n",
              "scope.google.colab._files = {\n",
              "  _uploadFiles,\n",
              "  _uploadFilesContinue,\n",
              "};\n",
              "})(self);\n",
              "</script> "
            ],
            "text/plain": [
              "<IPython.core.display.HTML object>"
            ]
          },
          "metadata": {},
          "output_type": "display_data"
        },
        {
          "ename": "IndexError",
          "evalue": "list index out of range",
          "output_type": "error",
          "traceback": [
            "\u001b[0;31m---------------------------------------------------------------------------\u001b[0m",
            "\u001b[0;31mIndexError\u001b[0m                                Traceback (most recent call last)",
            "\u001b[0;32m<ipython-input-16-a80c7e8d9230>\u001b[0m in \u001b[0;36m<cell line: 2>\u001b[0;34m()\u001b[0m\n\u001b[1;32m      1\u001b[0m \u001b[0;32mfrom\u001b[0m \u001b[0mdlatk\u001b[0m\u001b[0;34m.\u001b[0m\u001b[0mtools\u001b[0m\u001b[0;34m.\u001b[0m\u001b[0mcolab_methods\u001b[0m \u001b[0;32mimport\u001b[0m \u001b[0mupload_dataset\u001b[0m\u001b[0;34m\u001b[0m\u001b[0;34m\u001b[0m\u001b[0m\n\u001b[0;32m----> 2\u001b[0;31m \u001b[0mupload_dataset\u001b[0m\u001b[0;34m(\u001b[0m\u001b[0;34m)\u001b[0m\u001b[0;34m\u001b[0m\u001b[0;34m\u001b[0m\u001b[0m\n\u001b[0m",
            "\u001b[0;32m/usr/local/lib/python3.10/dist-packages/dlatk/tools/colab_methods.py\u001b[0m in \u001b[0;36mupload_dataset\u001b[0;34m(filename, foldername)\u001b[0m\n\u001b[1;32m     27\u001b[0m     \u001b[0;31m#Upload the dataset to Google Colab - /content/\u001b[0m\u001b[0;34m\u001b[0m\u001b[0;34m\u001b[0m\u001b[0m\n\u001b[1;32m     28\u001b[0m     \u001b[0mfile\u001b[0m \u001b[0;34m=\u001b[0m \u001b[0mfiles\u001b[0m\u001b[0;34m.\u001b[0m\u001b[0mupload\u001b[0m\u001b[0;34m(\u001b[0m\u001b[0;34m)\u001b[0m\u001b[0;34m\u001b[0m\u001b[0;34m\u001b[0m\u001b[0m\n\u001b[0;32m---> 29\u001b[0;31m     \u001b[0mfilename\u001b[0m \u001b[0;34m=\u001b[0m \u001b[0mlist\u001b[0m\u001b[0;34m(\u001b[0m\u001b[0mfile\u001b[0m\u001b[0;34m.\u001b[0m\u001b[0mkeys\u001b[0m\u001b[0;34m(\u001b[0m\u001b[0;34m)\u001b[0m\u001b[0;34m)\u001b[0m\u001b[0;34m[\u001b[0m\u001b[0;36m0\u001b[0m\u001b[0;34m]\u001b[0m\u001b[0;34m\u001b[0m\u001b[0;34m\u001b[0m\u001b[0m\n\u001b[0m\u001b[1;32m     30\u001b[0m     \u001b[0mprint\u001b[0m\u001b[0;34m(\u001b[0m\u001b[0;34m\"Uploading \"\u001b[0m\u001b[0;34m,\u001b[0m \u001b[0mfilename\u001b[0m\u001b[0;34m)\u001b[0m\u001b[0;34m\u001b[0m\u001b[0;34m\u001b[0m\u001b[0m\n\u001b[1;32m     31\u001b[0m \u001b[0;34m\u001b[0m\u001b[0m\n",
            "\u001b[0;31mIndexError\u001b[0m: list index out of range"
          ]
        }
      ],
      "source": [
        "from dlatk.tools.colab_methods import upload_dataset\n",
        "upload_dataset()"
      ]
    },
    {
      "cell_type": "markdown",
      "metadata": {
        "id": "FWjIdHgYZw9l"
      },
      "source": [
        "👇 You need to extract the same set of features as the ones used to train the predictive model. So, extract 1gram and 2gram features, used by atleast 10% of the groups, and consider only the groups with atleast 100 tokens."
      ]
    },
    {
      "cell_type": "code",
      "execution_count": null,
      "metadata": {
        "colab": {
          "base_uri": "https://localhost:8080/",
          "height": 250
        },
        "id": "hPHAMH9sMqKu",
        "outputId": "12c4ae07-bcff-4484-fb8a-db1fb23f97bd"
      },
      "outputs": [
        {
          "data": {
            "application/javascript": [
              "google.colab.output.setIframeHeight(0, true, {maxHeight: 250})"
            ],
            "text/plain": [
              "<IPython.core.display.Javascript object>"
            ]
          },
          "metadata": {},
          "output_type": "display_data"
        },
        {
          "data": {
            "text/html": [
              "<style> body {background-color: rgb(255, 250, 232);}</style>"
            ],
            "text/plain": [
              "<IPython.core.display.HTML object>"
            ]
          },
          "metadata": {},
          "output_type": "display_data"
        },
        {
          "name": "stdout",
          "output_type": "stream",
          "text": [
            "\n",
            "\n",
            "TopicExtractor: gensim Mallet wrapper unavailable, using Mallet directly.\n",
            "\n",
            "-----\n",
            "DLATK Interface Initiated: 2024-01-17 03:15:55\n",
            "-----\n",
            "Connecting to SQLite database: /content/sqlite_data/colab_csv.db\n",
            "SQL Query: CREATE TABLE msgs100u (message_id INT, user_id INT, created_date VARCHAR(10), message LONGTEXT);\n",
            "Importing data, reading msgs100u.csv file\n",
            "Reading remaining 741 rows into the table...\n",
            "query: PRAGMA table_info(msgs100u)\n",
            "SQL Query: DROP TABLE IF EXISTS feat$1gram$msgs100u$user_id\n",
            "SQL Query: CREATE TABLE feat$1gram$msgs100u$user_id ( id INTEGER PRIMARY KEY, group_id INTEGER, feat VARCHAR(36), value INTEGER, group_norm DOUBLE)\n",
            "\n",
            "\n",
            "Creating index correl_field on table:feat$1gram$msgs100u$user_id, column:group_id \n",
            "\n",
            "\n",
            "SQL Query: CREATE INDEX correl_field$1gram$msgs100u$user_id ON feat$1gram$msgs100u$user_id (group_id)\n",
            "\n",
            "\n",
            "Creating index feature on table:feat$1gram$msgs100u$user_id, column:feat \n",
            "\n",
            "\n",
            "SQL Query: CREATE INDEX feature$1gram$msgs100u$user_id ON feat$1gram$msgs100u$user_id (feat)\n",
            "query: PRAGMA table_info(msgs100u)\n",
            "SQL Query: DROP TABLE IF EXISTS feat$meta_1gram$msgs100u$user_id\n",
            "SQL Query: CREATE TABLE feat$meta_1gram$msgs100u$user_id ( id INTEGER PRIMARY KEY, group_id INTEGER, feat VARCHAR(16), value INTEGER, group_norm DOUBLE)\n",
            "\n",
            "\n",
            "Creating index correl_field on table:feat$meta_1gram$msgs100u$user_id, column:group_id \n",
            "\n",
            "\n",
            "\n",
            "\n",
            "Creating index feature on table:feat$meta_1gram$msgs100u$user_id, column:feat \n",
            "\n",
            "\n",
            "finding messages for 100 'user_id's\n",
            "WARNING: The table msgs100u does not have: a PRIMARY key on message_id. Consider adding.\n",
            "         Please check that all messages have a unique message_id, this can significantly impact all downstream analysis\n",
            "WARNING: The table msgs100u does not have: an index on user_id. Consider adding.\n",
            " [5%] Inserted 4080 total ngram rows covering 5 user_ids\n",
            " [10%] Inserted 9541 total ngram rows covering 10 user_ids\n",
            " [15%] Inserted 12001 total ngram rows covering 15 user_ids\n",
            " [20%] Inserted 13754 total ngram rows covering 20 user_ids\n",
            " [25%] Inserted 16767 total ngram rows covering 25 user_ids\n",
            " [30%] Inserted 18785 total ngram rows covering 30 user_ids\n",
            " [35%] Inserted 20910 total ngram rows covering 35 user_ids\n",
            " [40%] Inserted 24759 total ngram rows covering 40 user_ids\n",
            " [45%] Inserted 27164 total ngram rows covering 45 user_ids\n",
            " [50%] Inserted 30060 total ngram rows covering 50 user_ids\n",
            " [55%] Inserted 35290 total ngram rows covering 55 user_ids\n",
            " [60%] Inserted 38545 total ngram rows covering 60 user_ids\n",
            " [65%] Inserted 41141 total ngram rows covering 65 user_ids\n",
            " [70%] Inserted 45646 total ngram rows covering 70 user_ids\n",
            " [75%] Inserted 48750 total ngram rows covering 75 user_ids\n",
            " [80%] Inserted 53011 total ngram rows covering 80 user_ids\n",
            " [85%] Inserted 57497 total ngram rows covering 85 user_ids\n",
            " [90%] Inserted 60195 total ngram rows covering 90 user_ids\n",
            " [95%] Inserted 62513 total ngram rows covering 95 user_ids\n",
            " [100%] Inserted 64501 total ngram rows covering 100 user_ids\n",
            "Done Reading / Inserting.\n",
            "Adding Keys (if goes to keycache, then decrease MAX_TO_DISABLE_KEYS or run myisamchk -n).\n",
            "Done\n",
            "\n",
            "query: PRAGMA table_info(msgs100u)\n",
            "SQL Query: DROP TABLE IF EXISTS feat$2gram$msgs100u$user_id\n",
            "SQL Query: CREATE TABLE feat$2gram$msgs100u$user_id ( id INTEGER PRIMARY KEY, group_id INTEGER, feat VARCHAR(70), value INTEGER, group_norm DOUBLE)\n",
            "\n",
            "\n",
            "Creating index correl_field on table:feat$2gram$msgs100u$user_id, column:group_id \n",
            "\n",
            "\n",
            "SQL Query: CREATE INDEX correl_field$2gram$msgs100u$user_id ON feat$2gram$msgs100u$user_id (group_id)\n",
            "\n",
            "\n",
            "Creating index feature on table:feat$2gram$msgs100u$user_id, column:feat \n",
            "\n",
            "\n",
            "SQL Query: CREATE INDEX feature$2gram$msgs100u$user_id ON feat$2gram$msgs100u$user_id (feat)\n",
            "query: PRAGMA table_info(msgs100u)\n",
            "SQL Query: DROP TABLE IF EXISTS feat$meta_2gram$msgs100u$user_id\n",
            "SQL Query: CREATE TABLE feat$meta_2gram$msgs100u$user_id ( id INTEGER PRIMARY KEY, group_id INTEGER, feat VARCHAR(16), value INTEGER, group_norm DOUBLE)\n",
            "\n",
            "\n",
            "Creating index correl_field on table:feat$meta_2gram$msgs100u$user_id, column:group_id \n",
            "\n",
            "\n",
            "\n",
            "\n",
            "Creating index feature on table:feat$meta_2gram$msgs100u$user_id, column:feat \n",
            "\n",
            "\n",
            "finding messages for 100 'user_id's\n",
            " [5%] Inserted 10738 total ngram rows covering 5 user_ids\n",
            " [10%] Inserted 26507 total ngram rows covering 10 user_ids\n",
            " [15%] Inserted 32549 total ngram rows covering 15 user_ids\n",
            " [20%] Inserted 36411 total ngram rows covering 20 user_ids\n",
            " [25%] Inserted 44868 total ngram rows covering 25 user_ids\n",
            " [30%] Inserted 49988 total ngram rows covering 30 user_ids\n",
            " [35%] Inserted 54670 total ngram rows covering 35 user_ids\n",
            " [40%] Inserted 65850 total ngram rows covering 40 user_ids\n",
            " [45%] Inserted 71566 total ngram rows covering 45 user_ids\n",
            " [50%] Inserted 78652 total ngram rows covering 50 user_ids\n",
            " [55%] Inserted 93025 total ngram rows covering 55 user_ids\n",
            " [60%] Inserted 101839 total ngram rows covering 60 user_ids\n",
            " [65%] Inserted 107579 total ngram rows covering 65 user_ids\n",
            " [70%] Inserted 120820 total ngram rows covering 70 user_ids\n",
            " [75%] Inserted 128580 total ngram rows covering 75 user_ids\n",
            " [80%] Inserted 141321 total ngram rows covering 80 user_ids\n",
            " [85%] Inserted 153942 total ngram rows covering 85 user_ids\n",
            " [90%] Inserted 160653 total ngram rows covering 90 user_ids\n",
            " [95%] Inserted 166030 total ngram rows covering 95 user_ids\n",
            " [100%] Inserted 170583 total ngram rows covering 100 user_ids\n",
            "Done Reading / Inserting.\n",
            "Adding Keys (if goes to keycache, then decrease MAX_TO_DISABLE_KEYS or run myisamchk -n).\n",
            "Done\n",
            "\n",
            "Connecting to SQLite database: /content/sqlite_data/colab_csv.db\n",
            "SQL Query: DROP TABLE IF EXISTS feat$1to2gram$msgs100u$user_id\n",
            "SQL Query: CREATE TABLE feat$1to2gram$msgs100u$user_id ( id INTEGER PRIMARY KEY, group_id INTEGER, feat VARCHAR(70), value INTEGER, group_norm DOUBLE)\n",
            "\n",
            "\n",
            "Creating index correl_field on table:feat$1to2gram$msgs100u$user_id, column:group_id \n",
            "\n",
            "\n",
            "SQL Query: CREATE INDEX correl_field$1to2gram$msgs100u$user_id ON feat$1to2gram$msgs100u$user_id (group_id)\n",
            "\n",
            "\n",
            "Creating index feature on table:feat$1to2gram$msgs100u$user_id, column:feat \n",
            "\n",
            "\n",
            "SQL Query: CREATE INDEX feature$1to2gram$msgs100u$user_id ON feat$1to2gram$msgs100u$user_id (feat)\n",
            "Connecting to SQLite database: /content/sqlite_data/colab_csv.db\n",
            "Connecting to SQLite database: /content/sqlite_data/colab_csv.db\n",
            " feat$1to2gram$msgs100u$user_id [threshold: 10]\n",
            "Connecting to SQLite database: /content/sqlite_data/colab_csv.db\n",
            "SQL Query: DROP TABLE IF EXISTS feat$1to2gram$msgs100u$user_id$0_1\n",
            " feat$1to2gram$msgs100u$user_id <new table feat$1to2gram$msgs100u$user_id$0_1 will have 3053 distinct features.>\n",
            "SQL Query: CREATE TABLE feat$1to2gram$msgs100u$user_id$0_1 ( id INTEGER PRIMARY KEY, group_id INTEGER, feat VARCHAR(70), value INTEGER, group_norm DOUBLE)\n",
            "Done inserting.\n",
            "Enabling keys.\n",
            "done.\n",
            "-------\n",
            "\n",
            "Settings:\n",
            "\n",
            "Database - colab_csv\n",
            "Corpus - msgs100u.csv\n",
            "Group ID - user_id\n",
            "Feature table(s) - feat$1to2gram$msgs100u$user_id$0_1\n",
            "-------\n",
            "Interface Runtime: 14.06 seconds\n",
            "DLATK exits with success! A good day indeed  ¯\\_(ツ)_/¯.\n"
          ]
        }
      ],
      "source": [
        "!dlatkInterface.py \\\n",
        "  -d colab_csv -t msgs100u.csv -g user_id --group_freq_thresh 100 \\\n",
        "  --add_ngrams -n 1 2 \\\n",
        "  --combine_feat_tables 1to2gram \\\n",
        "  --feat_occ_filter --set_p_occ 0.10"
      ]
    },
    {
      "cell_type": "markdown",
      "metadata": {
        "id": "Ihi0766mfTx_"
      },
      "source": [
        "👆 You should see the name of the new feature table - `feat$1to2gram$msgs100u$user_id$0_1$pmi3_0` (you can use `--view_tables` to check the table).\n",
        "<hr /><br />\n",
        "\n"
      ]
    },
    {
      "cell_type": "markdown",
      "metadata": {
        "id": "fFiIGzTXf2Jf"
      },
      "source": [
        "Once you have all the features required by the prediction model, you can predict the outcome using the flags:\n",
        "\n",
        "* **`--predict_regression_to_outcome_table TABLE_NAME`** - predicts the outcomes into a table named `TABLE_NAME`.\n",
        "* **`--load --picklefile FILENAME`** - load the model from the file `FILENAME`."
      ]
    },
    {
      "cell_type": "code",
      "execution_count": null,
      "metadata": {
        "colab": {
          "base_uri": "https://localhost:8080/",
          "height": 250
        },
        "id": "3z0FH0p3L1L-",
        "outputId": "5bb408f7-e97b-458e-f51e-b11ae722172f"
      },
      "outputs": [
        {
          "data": {
            "application/javascript": [
              "google.colab.output.setIframeHeight(0, true, {maxHeight: 250})"
            ],
            "text/plain": [
              "<IPython.core.display.Javascript object>"
            ]
          },
          "metadata": {},
          "output_type": "display_data"
        },
        {
          "data": {
            "text/html": [
              "<style> body {background-color: rgb(255, 250, 232);}</style>"
            ],
            "text/plain": [
              "<IPython.core.display.HTML object>"
            ]
          },
          "metadata": {},
          "output_type": "display_data"
        },
        {
          "name": "stdout",
          "output_type": "stream",
          "text": [
            "\n",
            "\n",
            "TopicExtractor: gensim Mallet wrapper unavailable, using Mallet directly.\n",
            "\n",
            "-----\n",
            "DLATK Interface Initiated: 2024-01-17 03:16:15\n",
            "-----\n",
            "Connecting to SQLite database: /content/sqlite_data/colab_csv.db\n",
            "Outcome table missing\n",
            "Connecting to SQLite database: /content/sqlite_data/colab_csv.db\n",
            "[Loading age.1to2grams.ridge1000.gft100.pickle] True\n",
            "Outcomes in loaded model: ['age']\n",
            "WARNING! Predict to outcome table sometimes excludes groups if not in a feature table.\n",
            "\n",
            "\n",
            "**CHUNK 0\n",
            "\n",
            " [Aligning current X with training X: feature group: 0]\n",
            "  Features Aligned: 2308\n",
            "\n",
            "= age =\n",
            "-------\n",
            "  (feature group: 0)\n",
            "[PREDICT] applying *existing* standard scaler to X[0]: StandardScaler()\n",
            "[PREDICT] combined X shape: (100, 2308)\n",
            "[PREDICT] regressor: Ridge(alpha=1000)\n",
            "settings:  [('alpha', 1000), ('fit_intercept', True), ('copy_X', True), ('max_iter', None), ('tol', 0.001), ('positive', False), ('random_state', None), ('n_features_in_', 2308), ('_normalize', False), ('n_iter_', None), ('intercept_', 23.24009900990099)]\n",
            "[Done.]\n",
            "[Prediction Complete]\n",
            " Total Predicted: 100\n",
            "New table created: p_ridg$lbp_age\n",
            "Connecting to SQLite database: /content/sqlite_data/colab_csv.db\n",
            "\n",
            "Example predictions\n",
            "-------\n",
            "Group ID: 4088894\n",
            "\n",
            "Top 3 messages for the group:\n",
            "-------\n",
            "[\"I have been a member of the Dragonswood site for quite a while now & am pleased to say that recently, I was asked to write a regular column for their magazine (which, incidentally, is now available in some shops over in the USA & even NZ, as well as quite a few here in the UK). My first column is in the latest issue (out for Lammas & Mabon) & *puffs out chest with pride* is one of the featured articles mentioned on the front cover. I'm pleased as punch over that, I have to say, as this is my first professional writing venture (I've only ever written items for Triptych which I produce myself before now). Anyway, I thought I'd pop the article up here too & provide a link to the Dragonswood website, where you can order the magazine direct from them:  urlLink http://www.dragonswood.org.uk/index.php    THE ARTICLE:  Simple Witchery By Mabon   What is Simple Witchery?  As long as I can remember, Iâ\\x80\\x99ve always liked to keep things as simple as possible â\\x80\\x93 I never saw the point in taking a complicated route if a simpler one presented itself to me. This isnâ\\x80\\x99t laziness, just common sense, from my point of view. Itâ\\x80\\x99s something that has bothered me for a long time, this need people often seem to feel to complicate things which neednâ\\x80\\x99t be so hard, and so I set out to boil things down to their barest components, take out all things unnecessary & just get things done.  This is, essentially, what Simple Witchery is all about; leaving out all the extraneous information & implements, taking advantage of what we have ready to hand, & simply enjoying the flow of things. I hope that with this column, I can share some of this with all of you, & perhaps even get you thinking of ways to simplify things in your own, unique way!   Why Simple Witchery?  When you lift out all the superfluous items, you are left with the most important element of the Craft. Which element is that? Earth? Air? Fire or Water? Perhaps Spirit? No, none of these. The most important element is always YOU; the person living it & experiencing all it has to offer. When you learn to rely on yourself & your own abilities, you learn that nothing is impossible, you can do anything you set your mind to. Thatâ\\x80\\x99s what itâ\\x80\\x99s all about; setting your mind to something & getting it done.  For example, I donâ\\x80\\x99t use a wand in any or my work. Yes, I own one â\\x80\\x93 a very ornate & beautiful one which was given to me by a very close friend â\\x80\\x93 but I see it as purely a decoration for my home & it sits on a cherry wood stand atop my bookcase, where I can see it whenever I look up. It has never & will never be used by me or anyone else. Why? Because it doesnâ\\x80\\x99t need to be. I have no need of a wand when I have myself. Besides, what if at some point I had to cast in an emergency & found myself without my wand, what would I do? Panic? Well, thatâ\\x80\\x99s not really very sensible, is it? Iâ\\x80\\x99d do whatever needed to be done without my wand & it would work every bit as well as it would while using a wand!  Basically, all you need to get yourself started is focus of will & energy. Once you get the hang of that, thereâ\\x80\\x99ll be no holding you back & no end to the things you can accomplish. Over the coming issues, Iâ\\x80\\x99ll be exploring more of Simple Witchery &, hopefully, taking you along for the ride. I really hope youâ\\x80\\x99ll find it fun!   Tâ\\x80\\x99is the Seasonâ\\x80¦  These are some very simple rituals for the coming Sabbats â\\x80\\x93 ones I use myself. I hope youâ\\x80\\x99ll enjoy them.   Lammas (1st August)  Lammas is the first of the harvest festivals & celebrates the beginning of us reaping what we have sown earlier in the year. It is traditionally a time for feasting, having fun, & preparing ourselves for a little more hard work before the harvest is done!   On the Altar:  Large beeswax candle Lengths of green & red cord Wine, bread & honey   The Ritual:  Cleanse and cast the circle.Light the beeswax candle. Knot the piece of red cord and pass it over the candle, circling the base. Think of all that is passing and the sacrifices you have made. Give them up freely as you pass the red cord over the flame. Knot the green cord and pass it over the candle to lie on top of the red cord. This represents the achievements which will be built on your sacrifices â\\x80\\x93 your harvest. Consecrate the wine and drink in honour of the Sun's power and your own achievements. Consecrate the bread and honey, and take them to the four corners saying:  'This is my offering;   This is my sacrifice.'  (Move round the circle deosil (clockwise) starting at North) Spread the honey on the bread. Eat and drink, communing with the season, saving some to put into the Earth as an offering later. Close the circle.   Mabon (22nd September)  Mabon is the Autumnal Equinox; a time of balance between darkness & light. But after this, the days will begin to grow shorter & the nights will draw in earlier. As the second of the harvest festivals, we celebrate it with the many orchard fruits which are now in season.   On the Altar:  An ear of corn Dried leaves A deep purple candle Wine & bread   The Ritual:  Cleanse and cast the circle.Light the purple candle and think about the meaning of the season. Name the dried leaves for anything to be swept out of your life. Drop them deliberately to the floor to be swept up later (keep them to scatter into running water). Pick up the corn and say:  'The God has descended into the land.   Now he makes His journey into the Underworld.   Days grow dim, nights grow long, but we do not weep,   For behold, he has left his seed as a promise of his return!'  Take the corn and bread deosil (clockwise) round the circle, stopping at each corner and saying:  'This is the seed and this is my harvest.'  Direct healing thoughts towards any part of the world where there is famine. Eat the bread and drink to the Lord and Lady. Close the circle.   Seasonal Project:   Goddess Eye  A Goddess eye is said to watch over & protect the home, & makes a wonderful gift for a like-minded friend. Making something yourself means it is very personal & the effort put into it gives it that little bit extra power. Hang it in the window to catch the light.  Materials required:  2 sticks on roughly equal length Yarn or embroidery threads of various colours Scissors (to cut the threads of course!)  Method:  Make a slipknot on the end of the thread you will use for the centre of the cross & slide the loop over the 2 sticks. Once the thread is centred, pull the knot tight & spread the stick arms out into the form of a cross. Wrap the thread diagonally over the centre twice for each side (NW-SE, then NE-SW) Start wrapping the thread around the sticks (moving deosil around the eye). Start at one point, move the thread over the stick, come round the back crossing over the front & move onto the next arm, keeping the thread tight. When you want to change to another colour, hide the knot at the back of the stick so the ends can't be seen. When you're finished, double-loop the thread over the last arm. You can decorate the ends of the arms with leather, beads or feathers â\\x80\\x93 however you like. To hang the eye up, add a loop in the same colour as the thread nearest the outer edge, by pushing the ends through the eye (about an inch or so down the arm) from the front, then pushing the ends back through to the front again higher up, then tying a knot to form a loop. This should hold the eye upright when it's hung up.   Kitchen Witch   Herb Scented Flat Bread  This flatbread doesn't contain yeast, so it's quick and simple to make. You can substitute your favourite herbs for the ones suggested. A delicious recipe to use for ritual or any time. Makes 3.  Ingredients:  1 cup plus 3 tablespoons all-purpose flour 1/2 teaspoon baking powder 1/2 teaspoon salt 1 teaspoon finely chopped fresh sage 1 teaspoon finely chopped fresh chives 1 teaspoon finely chopped fresh flat-leaf parsley 2 1/2 tablespoons vegetable shortening 3 tablespoons milk 1/2 teaspoon coarse salt, for sprinkling 1 tablespoon extra-virgin olive oil, for brushing  1. In the bowl of a food processor, combine the flour, baking powder, salt, sage, chives, and parsley; process for 5 seconds to combine. Add vegetable shortening and process until well combined, about 15 seconds. Add milk and 2 tablespoons water, and process until the dough comes together, about 7 seconds.  2. Transfer dough to a lightly-flowered surface and knead for about 1 minute, forming it into a ball. Cover with plastic wrap and let stand for 30 minutes.  3. Heat the over to 200Â° with a baking sheet set on the rack. Heat a medium cast-iron skillet over medium-high heat until very hot. Meanwhile, cut the dough into 3 equal pieces and form each piece into a ball. On a lightly floured surface, roll one of the pieces of dough out into a very thin circle (it should be less than 1/16 inch thick and about 6 1/2 inches in diameter). Using a fork, prick the dough 7 or 8 times. Lightly brush one side of the dough with olive oil and sprinkle it lightly with salt.  4. Transfer round of dough, with the oiled side down, to the hot skillet and reduce heat to medium; cook until surface is covered with golden to dark-brown speckles, about 1 to 2 minutes on each side. If the flatbread begins to burn, lower the heat and continue to cook.  5. Remove bread from skillet and transfer to the baking sheet in the oven. Repeat the rolling and cooking process with the remaining 2 pieces of dough.  6. Cut the bread into wedges with a pizza wheel or sharp knife, and serve warm.\", 'Well, this weekend is going to me quadrupally special for me: Not only is it a full moon tomorrow night, but it is also a blue moon (the second full moon in a calendar month). Then on Sunday it is Lammas (one of the eight Sabbats in the Wheel of the Year) AND my first wedding anniversary!  Yes, one year ago, Dale & I both stood up in front of a bunch of our friends & family to say words along the lines of \"I do\". Where has the time gone? It\\'s quite literally flown by so fast that I can scarcely believe it. It certainly doesn\\'t feel like a year already. It was odd enough last month when I realised that my best friend, Sarah, had been married a whole year (there was a whole spate of weddings last summer, you see!) & now it\\'s MY turn. I can honestly say it\\'s been fantastic so far, but people keep asking how it feels to be married & all I can say is that it doesn\\'t really feel any different to us than we did before! We were already living together & both knew we wanted to spend the rest of our lives together - it was just a case of formalising it & making it legal. Perhaps I feel a little more secure now, but other than that, it\\'s exactly the same. Just as well I was happy enough before, isn\\'t it?  So, Dale & I are returning to the hotel where the deed was done, for dinner & an overnight stay, with breakfast in bed, to celebrate.  Anyway, other than our anniversary, I have the other important celebration to think about - Lammas! A little information is possibly called for here, I suppose. Lammas is the first of the three harvest festivals (the fifth of the year as a whole) & is generally held on or around 1st August. It celebrates the harvesting of the first crops as well as the first fruition of projects begun at the start of the year - we reap as we sow. It is also known as Lughnassadh (pronounced Loo-nah-sah) - the feast of the God, Lugh, who is sacrificed as he is cut down with the corn & reborn as the bread, providing food for all.  Some traditional associations are:  Traditional Foods:  Apples, Grains, Breads and Berries.  Herbs and Flowers:  All Grains, Grapes, Heather, Blackberries, Sloe, Crab Apples, Pears.  Incense:  Aloes, Rose, Sandalwood. Sacred GemstoneCarnelian.  Special Activities:  As summer passes, many Pagans celebrate this time to remember its warmth and bounty in a celebrated feast shared with family or Coven members. Save and plant the seeds from the fruits consumed during the feast or ritual. If they sprout, grow the plant or tree with love and as a symbol of your connection with the Lord and Lady. Walk through the fields and orchards or spend time along springs, creeks, rivers, ponds and lakes reflecting on the bounty and love of the Lord and Lady.  I\\'ve never been much of a one to go in for long rituals, so the one I use (when I use one at all) goes along these lines:   On the Altar:  Large beeswax candle Lengths of green & red cord Wine, bread & honey   The Ritual:  Cleanse and cast the circle. Light the beeswax candle. Knot the piece of red cord and pass it over the candle, circling the base. Think of all that is passing and the sacrifices you have made. Give them up freely as you pass the red cord over the flame. Knot the green cord and pass it over the candle to lie on top of the red cord. This represents the achievements which will be built on your sacrifices â\\x80\\x93 your harvest.  Consecrate the wine and drink in honour of the Sun\\'s power and your own achievements. Consecrate the bread and honey, and take them to the four corners saying: \\'This is my offering; This is my sacrifice.\\' (start at the North then move round the circle deosil) Spread the honey on the bread. Eat and drink, communing with the season, saving some to put into the Earth as an offering later. Close the circle.  I don\\'t think I\\'ll be performing a ritual this year, so I\\'ll probably just spend some time outside, somewhere green, & meditate a while instead - the Lord & Lady seem to be happy enough with that arrangement, so it should be more than enough.  I wish you all a special Blue Moon celebration & a fruitful harvest this Lammas! Blessings, Mab.', \"Well, I've never run a blog before, but I guess a wee introduction would probably be the best place to start, so here goes:  I'm a 27 year old married female who happens to be a practicing solitary Witch & have been for around 13 years now. I've forged my own Path along the way; a Path I call Simple Witchery. So, what does that mean, exactly? Well, I boil everything down to its barest components & take out all the extraneous bumf & hooha, so that what is left is the barest of essentials. I don't go in for big, fancy rituals & ceremonies - most of my magick takes place in the kitchen or the bathroom & is very firmly based in the mundane - it's a part of my everyday life, not something I do on the weekends or a couple of evenings a month. I am very much interested in spellcraft - the science of magick - & also the artsy-craftsy side of it (ie making things to use as part of a spell, such as poppets, amulets, talismans, or just the little things like a bag to put all the components in!). I'm also very interested in the use of herbs in healing.  Outside of my Craft interests, I am an avid reader - everything from horror to fantasy, comedy to biography - I just devour them all! I also spend a fair bit of time writing, not just calligraphy (which I love), but I edit a small local Pagan newsletter (Triptych) & also write a regular column for Dragonswood magazine. Music plays a huge part in my life - my husband plays guitar & sings, while I just sing - we spend a lot of time listening to rock & metal music (our favourite band is Dream Theater). Movies are another shared interest - just about any genre you care to name is represented in our DVD collection.  And that's a brief introduction to ME. No doubt as I write more, more will be revealed...\"]\n",
            "\n",
            "\n",
            "Prediction: 27.350689449787602\n",
            "-------\n",
            "\n",
            "Group ID: 3673762\n",
            "\n",
            "Top 3 messages for the group:\n",
            "-------\n",
            "[\"I brought them both home with me this evening. (Technically last night, since it is now well past midnight.)  Pippi was waiting for me in the children's section of my local Big Chain bookstore. I had sat at the kiddie table to flip through Ed Emberley's drawing books. Pippi caught my eye from a discarded stack of books across the table, when I paused to sip my Starbucks coffee. I loved her when I was a kid, and my hand automatically reached out for her cheery face on the book's cover.  I had forgotten she is the strongest girl in the world, has her own house, and is an orphan. Just like ME! I'm tempted to dye my (graying) hair red, but I'll compromise by wearing pig tails now and then.  Pippi had me reminiscing past joys, so I sprung for a compilation CD of Kitaro's music from the 70s and 80s. I've lusted for that album since a boyfriend played the cassette version in his truck for me, at his farm in Grand Forks, North Dakota, in 1988. We discussed romance to Kitaro's pulsing accompaniment. The music stayed with me, the boyfriend didn't, thank goodness.  Better go beddie-bye before I spill too much information here.  Love ya, Pippi.\", 'With the death of my brother last month, I have no immediate family. I had been trying to call him, to wish him Happy Easter and Birthday in April, then to see how he was in May. I kept leaving messages.  Not until that day in May that a nurse called to tell me he had died a few hours earlier, did I know he had moved twice this year. I try not to be angry...\"If only someone had called me back to let me know he had moved, I could have talked to him one last time....\" I immediately got on a plane and flew to where he was. I buried him near my parents. Thatâ\\x80\\x99s about all I have the emotional stamina to say about it tonight.  With his death all my immediate family are gone.  So for a while I holed up. I read, wrote, and wallowed. It makes no sense to me that I should be w/o family at such a young age. I\\'ve done everything right as a loyal and compassionte being, and it\\'s no joke that most people who meet me like me. I like people too, hence my profile, \"loner who likes people.\" (More on that in a future post.)  And as I\\'ve learned well, each time there is death near me, a friend or two or three, will drop from the radar. I\\'ve had enough practice not to take this personally. Meanwhile, others have stepped forward in unexpected support and generosity. The last two afternoons I was treated to coffee and chat by new acquaintances. I doubt these will become serious friendships, but I am glad to learn once again that when some fall away, either in death or because they don\\'t want to be around a person who is hurting, there are many angels willing to step in.  I almost gave up again. I decided to become a hermit, far beyond my usual loner self. Yet that pebble of courage that always grinds into my heel when I take a step kept prodding me. For a week, at least, I\\'m trying to play in the friendship game again.  A funny part of my coffee dates with these two women was that I listened to them talk about their love lives. Hearing their joys and sorrows, and offering ideas as asked, made me feel alive and hopeful; for love, even lost love, is the breath of life. We talked little of my situation. For me, that was a relief; a mental vacation. I told them so.  My life is changing. I have always been a loner. I want to be different than I\\'ve been in that regard, but I think the programming is hard wired. I prefer it.  This book perks me up when I start telling people off in my mind for what my emotional center registers as abandonment:  Anyway: The Paradoxical Commandments:  Finding Personal Meaning in a Crazy World   by Kent M. Keith  People will leave in various ways. I\\'m a true friend anyway. Others stay, and love me no matter how life turns. I am grateful.', \"Privately owned SpaceShipOne completed a manned flight 62.5 miles above earth, then landed in the Mojave Desert.  I hope that one day, I'll be able to fly into space. In the same way I take a plane to Europe, I'll take a flight far above Earth.  People have laughed at me when I've said this. Maybe after today, they'll realize my hope ain't all pie in the sky.  As of this writing, Google News is posting over 1000 articles from around the world on the success of SpaceShipOne:  urlLink  SpaceShipOne News   It's only a matter of time until we can buy tickets for a private rocket ride.\"]\n",
            "\n",
            "\n",
            "Prediction: 24.283943028810803\n",
            "-------\n",
            "\n",
            "-------\n",
            "\n",
            "Settings:\n",
            "\n",
            "Database - colab_csv\n",
            "Corpus - msgs100u.csv\n",
            "Group ID - user_id\n",
            "Feature table(s) - feat$1to2gram$msgs100u$user_id$0_1\n",
            "-------\n",
            "Interface Runtime: 0.42 seconds\n",
            "DLATK exits with success! A good day indeed  ¯\\_(ツ)_/¯.\n"
          ]
        }
      ],
      "source": [
        "!dlatkInterface.py \\\n",
        "  -d colab_csv -t msgs100u.csv -g user_id --group_freq_thresh 100 \\\n",
        "  -f 'feat$1to2gram$msgs100u$user_id$0_1' \\\n",
        "  --predict_regression_to_outcome_table lbp_age \\\n",
        "  --load --picklefile age.1to2grams.ridge1000.gft100.pickle"
      ]
    },
    {
      "cell_type": "markdown",
      "metadata": {
        "id": "i43f_1bAFIDu"
      },
      "source": [
        "## Authors and References"
      ]
    },
    {
      "cell_type": "code",
      "execution_count": null,
      "metadata": {
        "id": "ocIzx5BeQiES"
      },
      "outputs": [],
      "source": []
    }
  ],
  "metadata": {
    "colab": {
      "provenance": [],
      "include_colab_link": true
    },
    "kernelspec": {
      "display_name": "Python 3",
      "name": "python3"
    },
    "language_info": {
      "name": "python"
    },
    "widgets": {
      "application/vnd.jupyter.widget-state+json": {
        "9bf5f1737fa24d139e51ebad8798df7f": {
          "model_module": "@jupyter-widgets/controls",
          "model_name": "DropdownModel",
          "model_module_version": "1.5.0",
          "state": {
            "_dom_classes": [],
            "_model_module": "@jupyter-widgets/controls",
            "_model_module_version": "1.5.0",
            "_model_name": "DropdownModel",
            "_options_labels": [
              "created_date",
              "message"
            ],
            "_view_count": null,
            "_view_module": "@jupyter-widgets/controls",
            "_view_module_version": "1.5.0",
            "_view_name": "DropdownView",
            "description": "Text Column:",
            "description_tooltip": null,
            "disabled": false,
            "index": 1,
            "layout": "IPY_MODEL_abdbfa46b2284200b46c8db9c0bbab03",
            "style": "IPY_MODEL_561058f9267144df8125b20f0f43a11e"
          }
        },
        "abdbfa46b2284200b46c8db9c0bbab03": {
          "model_module": "@jupyter-widgets/base",
          "model_name": "LayoutModel",
          "model_module_version": "1.2.0",
          "state": {
            "_model_module": "@jupyter-widgets/base",
            "_model_module_version": "1.2.0",
            "_model_name": "LayoutModel",
            "_view_count": null,
            "_view_module": "@jupyter-widgets/base",
            "_view_module_version": "1.2.0",
            "_view_name": "LayoutView",
            "align_content": null,
            "align_items": null,
            "align_self": null,
            "border": null,
            "bottom": null,
            "display": null,
            "flex": null,
            "flex_flow": null,
            "grid_area": null,
            "grid_auto_columns": null,
            "grid_auto_flow": null,
            "grid_auto_rows": null,
            "grid_column": null,
            "grid_gap": null,
            "grid_row": null,
            "grid_template_areas": null,
            "grid_template_columns": null,
            "grid_template_rows": null,
            "height": null,
            "justify_content": null,
            "justify_items": null,
            "left": null,
            "margin": null,
            "max_height": null,
            "max_width": null,
            "min_height": null,
            "min_width": null,
            "object_fit": null,
            "object_position": null,
            "order": null,
            "overflow": null,
            "overflow_x": null,
            "overflow_y": null,
            "padding": null,
            "right": null,
            "top": null,
            "visibility": null,
            "width": null
          }
        },
        "561058f9267144df8125b20f0f43a11e": {
          "model_module": "@jupyter-widgets/controls",
          "model_name": "DescriptionStyleModel",
          "model_module_version": "1.5.0",
          "state": {
            "_model_module": "@jupyter-widgets/controls",
            "_model_module_version": "1.5.0",
            "_model_name": "DescriptionStyleModel",
            "_view_count": null,
            "_view_module": "@jupyter-widgets/base",
            "_view_module_version": "1.2.0",
            "_view_name": "StyleView",
            "description_width": ""
          }
        },
        "e827a70bdb9e4c74ac026387b60a33b6": {
          "model_module": "@jupyter-widgets/controls",
          "model_name": "ButtonModel",
          "model_module_version": "1.5.0",
          "state": {
            "_dom_classes": [],
            "_model_module": "@jupyter-widgets/controls",
            "_model_module_version": "1.5.0",
            "_model_name": "ButtonModel",
            "_view_count": null,
            "_view_module": "@jupyter-widgets/controls",
            "_view_module_version": "1.5.0",
            "_view_name": "ButtonView",
            "button_style": "",
            "description": "Confirm Text Column",
            "disabled": false,
            "icon": "",
            "layout": "IPY_MODEL_c36c1c14d4964119bfa56652cc79575f",
            "style": "IPY_MODEL_a89c2062c5eb444ab0f3e8dcbdea0813",
            "tooltip": ""
          }
        },
        "c36c1c14d4964119bfa56652cc79575f": {
          "model_module": "@jupyter-widgets/base",
          "model_name": "LayoutModel",
          "model_module_version": "1.2.0",
          "state": {
            "_model_module": "@jupyter-widgets/base",
            "_model_module_version": "1.2.0",
            "_model_name": "LayoutModel",
            "_view_count": null,
            "_view_module": "@jupyter-widgets/base",
            "_view_module_version": "1.2.0",
            "_view_name": "LayoutView",
            "align_content": null,
            "align_items": null,
            "align_self": null,
            "border": null,
            "bottom": null,
            "display": null,
            "flex": null,
            "flex_flow": null,
            "grid_area": null,
            "grid_auto_columns": null,
            "grid_auto_flow": null,
            "grid_auto_rows": null,
            "grid_column": null,
            "grid_gap": null,
            "grid_row": null,
            "grid_template_areas": null,
            "grid_template_columns": null,
            "grid_template_rows": null,
            "height": null,
            "justify_content": null,
            "justify_items": null,
            "left": null,
            "margin": null,
            "max_height": null,
            "max_width": null,
            "min_height": null,
            "min_width": null,
            "object_fit": null,
            "object_position": null,
            "order": null,
            "overflow": null,
            "overflow_x": null,
            "overflow_y": null,
            "padding": null,
            "right": null,
            "top": null,
            "visibility": null,
            "width": null
          }
        },
        "a89c2062c5eb444ab0f3e8dcbdea0813": {
          "model_module": "@jupyter-widgets/controls",
          "model_name": "ButtonStyleModel",
          "model_module_version": "1.5.0",
          "state": {
            "_model_module": "@jupyter-widgets/controls",
            "_model_module_version": "1.5.0",
            "_model_name": "ButtonStyleModel",
            "_view_count": null,
            "_view_module": "@jupyter-widgets/base",
            "_view_module_version": "1.2.0",
            "_view_name": "StyleView",
            "button_color": null,
            "font_weight": ""
          }
        },
        "eae15315340e4b0d81f03ae7a5e1c808": {
          "model_module": "@jupyter-widgets/output",
          "model_name": "OutputModel",
          "model_module_version": "1.0.0",
          "state": {
            "_dom_classes": [],
            "_model_module": "@jupyter-widgets/output",
            "_model_module_version": "1.0.0",
            "_model_name": "OutputModel",
            "_view_count": null,
            "_view_module": "@jupyter-widgets/output",
            "_view_module_version": "1.0.0",
            "_view_name": "OutputView",
            "layout": "IPY_MODEL_0a40eeadcb714736b8476d7d413ce602",
            "msg_id": "",
            "outputs": [
              {
                "output_type": "stream",
                "name": "stdout",
                "text": [
                  "Text Column confirmed: message\n"
                ]
              }
            ]
          }
        },
        "0a40eeadcb714736b8476d7d413ce602": {
          "model_module": "@jupyter-widgets/base",
          "model_name": "LayoutModel",
          "model_module_version": "1.2.0",
          "state": {
            "_model_module": "@jupyter-widgets/base",
            "_model_module_version": "1.2.0",
            "_model_name": "LayoutModel",
            "_view_count": null,
            "_view_module": "@jupyter-widgets/base",
            "_view_module_version": "1.2.0",
            "_view_name": "LayoutView",
            "align_content": null,
            "align_items": null,
            "align_self": null,
            "border": null,
            "bottom": null,
            "display": null,
            "flex": null,
            "flex_flow": null,
            "grid_area": null,
            "grid_auto_columns": null,
            "grid_auto_flow": null,
            "grid_auto_rows": null,
            "grid_column": null,
            "grid_gap": null,
            "grid_row": null,
            "grid_template_areas": null,
            "grid_template_columns": null,
            "grid_template_rows": null,
            "height": null,
            "justify_content": null,
            "justify_items": null,
            "left": null,
            "margin": null,
            "max_height": null,
            "max_width": null,
            "min_height": null,
            "min_width": null,
            "object_fit": null,
            "object_position": null,
            "order": null,
            "overflow": null,
            "overflow_x": null,
            "overflow_y": null,
            "padding": null,
            "right": null,
            "top": null,
            "visibility": null,
            "width": null
          }
        },
        "896da03f26d44e01b2372e7d34835041": {
          "model_module": "@jupyter-widgets/controls",
          "model_name": "DropdownModel",
          "model_module_version": "1.5.0",
          "state": {
            "_dom_classes": [],
            "_model_module": "@jupyter-widgets/controls",
            "_model_module_version": "1.5.0",
            "_model_name": "DropdownModel",
            "_options_labels": [
              "message_id",
              "user_id"
            ],
            "_view_count": null,
            "_view_module": "@jupyter-widgets/controls",
            "_view_module_version": "1.5.0",
            "_view_name": "DropdownView",
            "description": "ID Column:",
            "description_tooltip": null,
            "disabled": false,
            "index": 1,
            "layout": "IPY_MODEL_216d4acc7d0a4307a098d6e6cc8ed3ee",
            "style": "IPY_MODEL_bc3620188ee64d7f9de9d2ebe91c9947"
          }
        },
        "216d4acc7d0a4307a098d6e6cc8ed3ee": {
          "model_module": "@jupyter-widgets/base",
          "model_name": "LayoutModel",
          "model_module_version": "1.2.0",
          "state": {
            "_model_module": "@jupyter-widgets/base",
            "_model_module_version": "1.2.0",
            "_model_name": "LayoutModel",
            "_view_count": null,
            "_view_module": "@jupyter-widgets/base",
            "_view_module_version": "1.2.0",
            "_view_name": "LayoutView",
            "align_content": null,
            "align_items": null,
            "align_self": null,
            "border": null,
            "bottom": null,
            "display": null,
            "flex": null,
            "flex_flow": null,
            "grid_area": null,
            "grid_auto_columns": null,
            "grid_auto_flow": null,
            "grid_auto_rows": null,
            "grid_column": null,
            "grid_gap": null,
            "grid_row": null,
            "grid_template_areas": null,
            "grid_template_columns": null,
            "grid_template_rows": null,
            "height": null,
            "justify_content": null,
            "justify_items": null,
            "left": null,
            "margin": null,
            "max_height": null,
            "max_width": null,
            "min_height": null,
            "min_width": null,
            "object_fit": null,
            "object_position": null,
            "order": null,
            "overflow": null,
            "overflow_x": null,
            "overflow_y": null,
            "padding": null,
            "right": null,
            "top": null,
            "visibility": null,
            "width": null
          }
        },
        "bc3620188ee64d7f9de9d2ebe91c9947": {
          "model_module": "@jupyter-widgets/controls",
          "model_name": "DescriptionStyleModel",
          "model_module_version": "1.5.0",
          "state": {
            "_model_module": "@jupyter-widgets/controls",
            "_model_module_version": "1.5.0",
            "_model_name": "DescriptionStyleModel",
            "_view_count": null,
            "_view_module": "@jupyter-widgets/base",
            "_view_module_version": "1.2.0",
            "_view_name": "StyleView",
            "description_width": ""
          }
        },
        "5e017843f8ef43bba6140cc2c9460bad": {
          "model_module": "@jupyter-widgets/controls",
          "model_name": "ButtonModel",
          "model_module_version": "1.5.0",
          "state": {
            "_dom_classes": [],
            "_model_module": "@jupyter-widgets/controls",
            "_model_module_version": "1.5.0",
            "_model_name": "ButtonModel",
            "_view_count": null,
            "_view_module": "@jupyter-widgets/controls",
            "_view_module_version": "1.5.0",
            "_view_name": "ButtonView",
            "button_style": "",
            "description": "Confirm ID Column",
            "disabled": false,
            "icon": "",
            "layout": "IPY_MODEL_a7da726f1e394857b8a9a6aac2d6dbf9",
            "style": "IPY_MODEL_f965de57b37e4b91b1509ed89dda3c8b",
            "tooltip": ""
          }
        },
        "a7da726f1e394857b8a9a6aac2d6dbf9": {
          "model_module": "@jupyter-widgets/base",
          "model_name": "LayoutModel",
          "model_module_version": "1.2.0",
          "state": {
            "_model_module": "@jupyter-widgets/base",
            "_model_module_version": "1.2.0",
            "_model_name": "LayoutModel",
            "_view_count": null,
            "_view_module": "@jupyter-widgets/base",
            "_view_module_version": "1.2.0",
            "_view_name": "LayoutView",
            "align_content": null,
            "align_items": null,
            "align_self": null,
            "border": null,
            "bottom": null,
            "display": null,
            "flex": null,
            "flex_flow": null,
            "grid_area": null,
            "grid_auto_columns": null,
            "grid_auto_flow": null,
            "grid_auto_rows": null,
            "grid_column": null,
            "grid_gap": null,
            "grid_row": null,
            "grid_template_areas": null,
            "grid_template_columns": null,
            "grid_template_rows": null,
            "height": null,
            "justify_content": null,
            "justify_items": null,
            "left": null,
            "margin": null,
            "max_height": null,
            "max_width": null,
            "min_height": null,
            "min_width": null,
            "object_fit": null,
            "object_position": null,
            "order": null,
            "overflow": null,
            "overflow_x": null,
            "overflow_y": null,
            "padding": null,
            "right": null,
            "top": null,
            "visibility": null,
            "width": null
          }
        },
        "f965de57b37e4b91b1509ed89dda3c8b": {
          "model_module": "@jupyter-widgets/controls",
          "model_name": "ButtonStyleModel",
          "model_module_version": "1.5.0",
          "state": {
            "_model_module": "@jupyter-widgets/controls",
            "_model_module_version": "1.5.0",
            "_model_name": "ButtonStyleModel",
            "_view_count": null,
            "_view_module": "@jupyter-widgets/base",
            "_view_module_version": "1.2.0",
            "_view_name": "StyleView",
            "button_color": null,
            "font_weight": ""
          }
        },
        "8483df44e4f34ec781dc82f7ca4327f0": {
          "model_module": "@jupyter-widgets/output",
          "model_name": "OutputModel",
          "model_module_version": "1.0.0",
          "state": {
            "_dom_classes": [],
            "_model_module": "@jupyter-widgets/output",
            "_model_module_version": "1.0.0",
            "_model_name": "OutputModel",
            "_view_count": null,
            "_view_module": "@jupyter-widgets/output",
            "_view_module_version": "1.0.0",
            "_view_name": "OutputView",
            "layout": "IPY_MODEL_c412a83b3f3c4b1caa8121253f281f6a",
            "msg_id": "",
            "outputs": [
              {
                "output_type": "stream",
                "name": "stdout",
                "text": [
                  "ID Column confirmed: user_id\n"
                ]
              }
            ]
          }
        },
        "c412a83b3f3c4b1caa8121253f281f6a": {
          "model_module": "@jupyter-widgets/base",
          "model_name": "LayoutModel",
          "model_module_version": "1.2.0",
          "state": {
            "_model_module": "@jupyter-widgets/base",
            "_model_module_version": "1.2.0",
            "_model_name": "LayoutModel",
            "_view_count": null,
            "_view_module": "@jupyter-widgets/base",
            "_view_module_version": "1.2.0",
            "_view_name": "LayoutView",
            "align_content": null,
            "align_items": null,
            "align_self": null,
            "border": null,
            "bottom": null,
            "display": null,
            "flex": null,
            "flex_flow": null,
            "grid_area": null,
            "grid_auto_columns": null,
            "grid_auto_flow": null,
            "grid_auto_rows": null,
            "grid_column": null,
            "grid_gap": null,
            "grid_row": null,
            "grid_template_areas": null,
            "grid_template_columns": null,
            "grid_template_rows": null,
            "height": null,
            "justify_content": null,
            "justify_items": null,
            "left": null,
            "margin": null,
            "max_height": null,
            "max_width": null,
            "min_height": null,
            "min_width": null,
            "object_fit": null,
            "object_position": null,
            "order": null,
            "overflow": null,
            "overflow_x": null,
            "overflow_y": null,
            "padding": null,
            "right": null,
            "top": null,
            "visibility": null,
            "width": null
          }
        },
        "4e7b2ea571fe41b18bfd99654d458fdd": {
          "model_module": "@jupyter-widgets/controls",
          "model_name": "DropdownModel",
          "model_module_version": "1.5.0",
          "state": {
            "_dom_classes": [],
            "_model_module": "@jupyter-widgets/controls",
            "_model_module_version": "1.5.0",
            "_model_name": "DropdownModel",
            "_options_labels": [
              "Select option",
              "1to2grams-filtered",
              "1to2grams-unfiltered",
              "topics"
            ],
            "_view_count": null,
            "_view_module": "@jupyter-widgets/controls",
            "_view_module_version": "1.5.0",
            "_view_name": "DropdownView",
            "description": "Options:",
            "description_tooltip": null,
            "disabled": false,
            "index": 3,
            "layout": "IPY_MODEL_49301b91a428423db13f97021794fc29",
            "style": "IPY_MODEL_c0918df94b7a439aa2af5c8fb73a147d"
          }
        },
        "49301b91a428423db13f97021794fc29": {
          "model_module": "@jupyter-widgets/base",
          "model_name": "LayoutModel",
          "model_module_version": "1.2.0",
          "state": {
            "_model_module": "@jupyter-widgets/base",
            "_model_module_version": "1.2.0",
            "_model_name": "LayoutModel",
            "_view_count": null,
            "_view_module": "@jupyter-widgets/base",
            "_view_module_version": "1.2.0",
            "_view_name": "LayoutView",
            "align_content": null,
            "align_items": null,
            "align_self": null,
            "border": null,
            "bottom": null,
            "display": null,
            "flex": null,
            "flex_flow": null,
            "grid_area": null,
            "grid_auto_columns": null,
            "grid_auto_flow": null,
            "grid_auto_rows": null,
            "grid_column": null,
            "grid_gap": null,
            "grid_row": null,
            "grid_template_areas": null,
            "grid_template_columns": null,
            "grid_template_rows": null,
            "height": null,
            "justify_content": null,
            "justify_items": null,
            "left": null,
            "margin": null,
            "max_height": null,
            "max_width": null,
            "min_height": null,
            "min_width": null,
            "object_fit": null,
            "object_position": null,
            "order": null,
            "overflow": null,
            "overflow_x": null,
            "overflow_y": null,
            "padding": null,
            "right": null,
            "top": null,
            "visibility": null,
            "width": null
          }
        },
        "c0918df94b7a439aa2af5c8fb73a147d": {
          "model_module": "@jupyter-widgets/controls",
          "model_name": "DescriptionStyleModel",
          "model_module_version": "1.5.0",
          "state": {
            "_model_module": "@jupyter-widgets/controls",
            "_model_module_version": "1.5.0",
            "_model_name": "DescriptionStyleModel",
            "_view_count": null,
            "_view_module": "@jupyter-widgets/base",
            "_view_module_version": "1.2.0",
            "_view_name": "StyleView",
            "description_width": ""
          }
        },
        "f509a291cbab4ce587efc4871e3bf533": {
          "model_module": "@jupyter-widgets/controls",
          "model_name": "ButtonModel",
          "model_module_version": "1.5.0",
          "state": {
            "_dom_classes": [],
            "_model_module": "@jupyter-widgets/controls",
            "_model_module_version": "1.5.0",
            "_model_name": "ButtonModel",
            "_view_count": null,
            "_view_module": "@jupyter-widgets/controls",
            "_view_module_version": "1.5.0",
            "_view_name": "ButtonView",
            "button_style": "",
            "description": "Run Command",
            "disabled": false,
            "icon": "",
            "layout": "IPY_MODEL_13c481f9a11e4ca094cfdc8c55a00caa",
            "style": "IPY_MODEL_70515466266549ee9147b642836ee6d6",
            "tooltip": ""
          }
        },
        "13c481f9a11e4ca094cfdc8c55a00caa": {
          "model_module": "@jupyter-widgets/base",
          "model_name": "LayoutModel",
          "model_module_version": "1.2.0",
          "state": {
            "_model_module": "@jupyter-widgets/base",
            "_model_module_version": "1.2.0",
            "_model_name": "LayoutModel",
            "_view_count": null,
            "_view_module": "@jupyter-widgets/base",
            "_view_module_version": "1.2.0",
            "_view_name": "LayoutView",
            "align_content": null,
            "align_items": null,
            "align_self": null,
            "border": null,
            "bottom": null,
            "display": null,
            "flex": null,
            "flex_flow": null,
            "grid_area": null,
            "grid_auto_columns": null,
            "grid_auto_flow": null,
            "grid_auto_rows": null,
            "grid_column": null,
            "grid_gap": null,
            "grid_row": null,
            "grid_template_areas": null,
            "grid_template_columns": null,
            "grid_template_rows": null,
            "height": null,
            "justify_content": null,
            "justify_items": null,
            "left": null,
            "margin": null,
            "max_height": null,
            "max_width": null,
            "min_height": null,
            "min_width": null,
            "object_fit": null,
            "object_position": null,
            "order": null,
            "overflow": null,
            "overflow_x": null,
            "overflow_y": null,
            "padding": null,
            "right": null,
            "top": null,
            "visibility": null,
            "width": null
          }
        },
        "70515466266549ee9147b642836ee6d6": {
          "model_module": "@jupyter-widgets/controls",
          "model_name": "ButtonStyleModel",
          "model_module_version": "1.5.0",
          "state": {
            "_model_module": "@jupyter-widgets/controls",
            "_model_module_version": "1.5.0",
            "_model_name": "ButtonStyleModel",
            "_view_count": null,
            "_view_module": "@jupyter-widgets/base",
            "_view_module_version": "1.2.0",
            "_view_name": "StyleView",
            "button_color": null,
            "font_weight": ""
          }
        },
        "ba258e8684f44125b16d4352a1cc6fe3": {
          "model_module": "@jupyter-widgets/output",
          "model_name": "OutputModel",
          "model_module_version": "1.0.0",
          "state": {
            "_dom_classes": [],
            "_model_module": "@jupyter-widgets/output",
            "_model_module_version": "1.0.0",
            "_model_name": "OutputModel",
            "_view_count": null,
            "_view_module": "@jupyter-widgets/output",
            "_view_module_version": "1.0.0",
            "_view_name": "OutputView",
            "layout": "IPY_MODEL_6131f47af2d84627810ce259e32dcc97",
            "msg_id": "",
            "outputs": [
              {
                "output_type": "stream",
                "name": "stdout",
                "text": [
                  "Executing: dlatkInterface.py -d colab_csv -t msgs404u.csv -g user_id --message_field message --messageid_field message_id --group_freq_thresh 100 --add_lex_table -l fb2000_cp --weighted_lexicon\n",
                  "It will take upto 3 minutes to execute it, please wait!\n"
                ]
              },
              {
                "output_type": "stream",
                "name": "stdout",
                "text": [
                  "Generated LDA feature table: feat$cat_fb2000_cp_w$msgs404u$user_id$1gra\n"
                ]
              }
            ]
          }
        },
        "6131f47af2d84627810ce259e32dcc97": {
          "model_module": "@jupyter-widgets/base",
          "model_name": "LayoutModel",
          "model_module_version": "1.2.0",
          "state": {
            "_model_module": "@jupyter-widgets/base",
            "_model_module_version": "1.2.0",
            "_model_name": "LayoutModel",
            "_view_count": null,
            "_view_module": "@jupyter-widgets/base",
            "_view_module_version": "1.2.0",
            "_view_name": "LayoutView",
            "align_content": null,
            "align_items": null,
            "align_self": null,
            "border": null,
            "bottom": null,
            "display": null,
            "flex": null,
            "flex_flow": null,
            "grid_area": null,
            "grid_auto_columns": null,
            "grid_auto_flow": null,
            "grid_auto_rows": null,
            "grid_column": null,
            "grid_gap": null,
            "grid_row": null,
            "grid_template_areas": null,
            "grid_template_columns": null,
            "grid_template_rows": null,
            "height": null,
            "justify_content": null,
            "justify_items": null,
            "left": null,
            "margin": null,
            "max_height": null,
            "max_width": null,
            "min_height": null,
            "min_width": null,
            "object_fit": null,
            "object_position": null,
            "order": null,
            "overflow": null,
            "overflow_x": null,
            "overflow_y": null,
            "padding": null,
            "right": null,
            "top": null,
            "visibility": null,
            "width": null
          }
        },
        "d7b4a80bb46146849a6d446e58068336": {
          "model_module": "@jupyter-widgets/controls",
          "model_name": "DropdownModel",
          "model_module_version": "1.5.0",
          "state": {
            "_dom_classes": [],
            "_model_module": "@jupyter-widgets/controls",
            "_model_module_version": "1.5.0",
            "_model_name": "DropdownModel",
            "_options_labels": [
              "1to2grams-filtered-table",
              "1to2grams-unfiltered-table",
              "topics-table"
            ],
            "_view_count": null,
            "_view_module": "@jupyter-widgets/controls",
            "_view_module_version": "1.5.0",
            "_view_name": "DropdownView",
            "description": "Select Table:",
            "description_tooltip": null,
            "disabled": false,
            "index": 0,
            "layout": "IPY_MODEL_109f15224b0b4f739eb2d60b6ff2bd42",
            "style": "IPY_MODEL_b241404db6de425f8784265b336d2ada"
          }
        },
        "109f15224b0b4f739eb2d60b6ff2bd42": {
          "model_module": "@jupyter-widgets/base",
          "model_name": "LayoutModel",
          "model_module_version": "1.2.0",
          "state": {
            "_model_module": "@jupyter-widgets/base",
            "_model_module_version": "1.2.0",
            "_model_name": "LayoutModel",
            "_view_count": null,
            "_view_module": "@jupyter-widgets/base",
            "_view_module_version": "1.2.0",
            "_view_name": "LayoutView",
            "align_content": null,
            "align_items": null,
            "align_self": null,
            "border": null,
            "bottom": null,
            "display": null,
            "flex": null,
            "flex_flow": null,
            "grid_area": null,
            "grid_auto_columns": null,
            "grid_auto_flow": null,
            "grid_auto_rows": null,
            "grid_column": null,
            "grid_gap": null,
            "grid_row": null,
            "grid_template_areas": null,
            "grid_template_columns": null,
            "grid_template_rows": null,
            "height": null,
            "justify_content": null,
            "justify_items": null,
            "left": null,
            "margin": null,
            "max_height": null,
            "max_width": null,
            "min_height": null,
            "min_width": null,
            "object_fit": null,
            "object_position": null,
            "order": null,
            "overflow": null,
            "overflow_x": null,
            "overflow_y": null,
            "padding": null,
            "right": null,
            "top": null,
            "visibility": null,
            "width": null
          }
        },
        "b241404db6de425f8784265b336d2ada": {
          "model_module": "@jupyter-widgets/controls",
          "model_name": "DescriptionStyleModel",
          "model_module_version": "1.5.0",
          "state": {
            "_model_module": "@jupyter-widgets/controls",
            "_model_module_version": "1.5.0",
            "_model_name": "DescriptionStyleModel",
            "_view_count": null,
            "_view_module": "@jupyter-widgets/base",
            "_view_module_version": "1.2.0",
            "_view_name": "StyleView",
            "description_width": "initial"
          }
        },
        "5a5586ba51db4836836c1a62349b2707": {
          "model_module": "@jupyter-widgets/controls",
          "model_name": "ButtonModel",
          "model_module_version": "1.5.0",
          "state": {
            "_dom_classes": [],
            "_model_module": "@jupyter-widgets/controls",
            "_model_module_version": "1.5.0",
            "_model_name": "ButtonModel",
            "_view_count": null,
            "_view_module": "@jupyter-widgets/controls",
            "_view_module_version": "1.5.0",
            "_view_name": "ButtonView",
            "button_style": "",
            "description": "Run Command",
            "disabled": false,
            "icon": "",
            "layout": "IPY_MODEL_1038a58fd12e4e20aff54dd8c3ffe93e",
            "style": "IPY_MODEL_0dea7ff84be64f359b2d368e01e9eb08",
            "tooltip": ""
          }
        },
        "1038a58fd12e4e20aff54dd8c3ffe93e": {
          "model_module": "@jupyter-widgets/base",
          "model_name": "LayoutModel",
          "model_module_version": "1.2.0",
          "state": {
            "_model_module": "@jupyter-widgets/base",
            "_model_module_version": "1.2.0",
            "_model_name": "LayoutModel",
            "_view_count": null,
            "_view_module": "@jupyter-widgets/base",
            "_view_module_version": "1.2.0",
            "_view_name": "LayoutView",
            "align_content": null,
            "align_items": null,
            "align_self": null,
            "border": null,
            "bottom": null,
            "display": null,
            "flex": null,
            "flex_flow": null,
            "grid_area": null,
            "grid_auto_columns": null,
            "grid_auto_flow": null,
            "grid_auto_rows": null,
            "grid_column": null,
            "grid_gap": null,
            "grid_row": null,
            "grid_template_areas": null,
            "grid_template_columns": null,
            "grid_template_rows": null,
            "height": null,
            "justify_content": null,
            "justify_items": null,
            "left": null,
            "margin": null,
            "max_height": null,
            "max_width": null,
            "min_height": null,
            "min_width": null,
            "object_fit": null,
            "object_position": null,
            "order": null,
            "overflow": null,
            "overflow_x": null,
            "overflow_y": null,
            "padding": null,
            "right": null,
            "top": null,
            "visibility": null,
            "width": null
          }
        },
        "0dea7ff84be64f359b2d368e01e9eb08": {
          "model_module": "@jupyter-widgets/controls",
          "model_name": "ButtonStyleModel",
          "model_module_version": "1.5.0",
          "state": {
            "_model_module": "@jupyter-widgets/controls",
            "_model_module_version": "1.5.0",
            "_model_name": "ButtonStyleModel",
            "_view_count": null,
            "_view_module": "@jupyter-widgets/base",
            "_view_module_version": "1.2.0",
            "_view_name": "StyleView",
            "button_color": null,
            "font_weight": ""
          }
        },
        "6a596d75214d449dbd5bdcb11b833cfd": {
          "model_module": "@jupyter-widgets/output",
          "model_name": "OutputModel",
          "model_module_version": "1.0.0",
          "state": {
            "_dom_classes": [],
            "_model_module": "@jupyter-widgets/output",
            "_model_module_version": "1.0.0",
            "_model_name": "OutputModel",
            "_view_count": null,
            "_view_module": "@jupyter-widgets/output",
            "_view_module_version": "1.0.0",
            "_view_name": "OutputView",
            "layout": "IPY_MODEL_67ea11d6d85c45ce9eb6ea8f7a08cc5b",
            "msg_id": "",
            "outputs": []
          }
        },
        "67ea11d6d85c45ce9eb6ea8f7a08cc5b": {
          "model_module": "@jupyter-widgets/base",
          "model_name": "LayoutModel",
          "model_module_version": "1.2.0",
          "state": {
            "_model_module": "@jupyter-widgets/base",
            "_model_module_version": "1.2.0",
            "_model_name": "LayoutModel",
            "_view_count": null,
            "_view_module": "@jupyter-widgets/base",
            "_view_module_version": "1.2.0",
            "_view_name": "LayoutView",
            "align_content": null,
            "align_items": null,
            "align_self": null,
            "border": null,
            "bottom": null,
            "display": null,
            "flex": null,
            "flex_flow": null,
            "grid_area": null,
            "grid_auto_columns": null,
            "grid_auto_flow": null,
            "grid_auto_rows": null,
            "grid_column": null,
            "grid_gap": null,
            "grid_row": null,
            "grid_template_areas": null,
            "grid_template_columns": null,
            "grid_template_rows": null,
            "height": null,
            "justify_content": null,
            "justify_items": null,
            "left": null,
            "margin": null,
            "max_height": null,
            "max_width": null,
            "min_height": null,
            "min_width": null,
            "object_fit": null,
            "object_position": null,
            "order": null,
            "overflow": null,
            "overflow_x": null,
            "overflow_y": null,
            "padding": null,
            "right": null,
            "top": null,
            "visibility": null,
            "width": null
          }
        },
        "1ad44d16d18142abb7ffe81efa5fdaf5": {
          "model_module": "@jupyter-widgets/controls",
          "model_name": "DropdownModel",
          "model_module_version": "1.5.0",
          "state": {
            "_dom_classes": [],
            "_model_module": "@jupyter-widgets/controls",
            "_model_module_version": "1.5.0",
            "_model_name": "DropdownModel",
            "_options_labels": [
              "1to2grams-filtered-table",
              "1to2grams-unfiltered-table",
              "topics-table"
            ],
            "_view_count": null,
            "_view_module": "@jupyter-widgets/controls",
            "_view_module_version": "1.5.0",
            "_view_name": "DropdownView",
            "description": "Feature Table:",
            "description_tooltip": null,
            "disabled": false,
            "index": 0,
            "layout": "IPY_MODEL_fa725e624f794f46a3327891639d93f5",
            "style": "IPY_MODEL_fddebb48169a448a95e5948faeb9e3dc"
          }
        },
        "fa725e624f794f46a3327891639d93f5": {
          "model_module": "@jupyter-widgets/base",
          "model_name": "LayoutModel",
          "model_module_version": "1.2.0",
          "state": {
            "_model_module": "@jupyter-widgets/base",
            "_model_module_version": "1.2.0",
            "_model_name": "LayoutModel",
            "_view_count": null,
            "_view_module": "@jupyter-widgets/base",
            "_view_module_version": "1.2.0",
            "_view_name": "LayoutView",
            "align_content": null,
            "align_items": null,
            "align_self": null,
            "border": null,
            "bottom": null,
            "display": null,
            "flex": null,
            "flex_flow": null,
            "grid_area": null,
            "grid_auto_columns": null,
            "grid_auto_flow": null,
            "grid_auto_rows": null,
            "grid_column": null,
            "grid_gap": null,
            "grid_row": null,
            "grid_template_areas": null,
            "grid_template_columns": null,
            "grid_template_rows": null,
            "height": null,
            "justify_content": null,
            "justify_items": null,
            "left": null,
            "margin": null,
            "max_height": null,
            "max_width": null,
            "min_height": null,
            "min_width": null,
            "object_fit": null,
            "object_position": null,
            "order": null,
            "overflow": null,
            "overflow_x": null,
            "overflow_y": null,
            "padding": null,
            "right": null,
            "top": null,
            "visibility": null,
            "width": null
          }
        },
        "fddebb48169a448a95e5948faeb9e3dc": {
          "model_module": "@jupyter-widgets/controls",
          "model_name": "DescriptionStyleModel",
          "model_module_version": "1.5.0",
          "state": {
            "_model_module": "@jupyter-widgets/controls",
            "_model_module_version": "1.5.0",
            "_model_name": "DescriptionStyleModel",
            "_view_count": null,
            "_view_module": "@jupyter-widgets/base",
            "_view_module_version": "1.2.0",
            "_view_name": "StyleView",
            "description_width": ""
          }
        },
        "8f0402ab46e847a18b907242b7e72406": {
          "model_module": "@jupyter-widgets/controls",
          "model_name": "LabelModel",
          "model_module_version": "1.5.0",
          "state": {
            "_dom_classes": [],
            "_model_module": "@jupyter-widgets/controls",
            "_model_module_version": "1.5.0",
            "_model_name": "LabelModel",
            "_view_count": null,
            "_view_module": "@jupyter-widgets/controls",
            "_view_module_version": "1.5.0",
            "_view_name": "LabelView",
            "description": "",
            "description_tooltip": null,
            "layout": "IPY_MODEL_e41f46f19cee495789ae39a667456992",
            "placeholder": "​",
            "style": "IPY_MODEL_d903c800a36f4f938ab4b3ff02633a27",
            "value": "Outcomes:"
          }
        },
        "e41f46f19cee495789ae39a667456992": {
          "model_module": "@jupyter-widgets/base",
          "model_name": "LayoutModel",
          "model_module_version": "1.2.0",
          "state": {
            "_model_module": "@jupyter-widgets/base",
            "_model_module_version": "1.2.0",
            "_model_name": "LayoutModel",
            "_view_count": null,
            "_view_module": "@jupyter-widgets/base",
            "_view_module_version": "1.2.0",
            "_view_name": "LayoutView",
            "align_content": null,
            "align_items": null,
            "align_self": null,
            "border": null,
            "bottom": null,
            "display": null,
            "flex": null,
            "flex_flow": null,
            "grid_area": null,
            "grid_auto_columns": null,
            "grid_auto_flow": null,
            "grid_auto_rows": null,
            "grid_column": null,
            "grid_gap": null,
            "grid_row": null,
            "grid_template_areas": null,
            "grid_template_columns": null,
            "grid_template_rows": null,
            "height": null,
            "justify_content": null,
            "justify_items": null,
            "left": null,
            "margin": null,
            "max_height": null,
            "max_width": null,
            "min_height": null,
            "min_width": null,
            "object_fit": null,
            "object_position": null,
            "order": null,
            "overflow": null,
            "overflow_x": null,
            "overflow_y": null,
            "padding": null,
            "right": null,
            "top": null,
            "visibility": null,
            "width": null
          }
        },
        "d903c800a36f4f938ab4b3ff02633a27": {
          "model_module": "@jupyter-widgets/controls",
          "model_name": "DescriptionStyleModel",
          "model_module_version": "1.5.0",
          "state": {
            "_model_module": "@jupyter-widgets/controls",
            "_model_module_version": "1.5.0",
            "_model_name": "DescriptionStyleModel",
            "_view_count": null,
            "_view_module": "@jupyter-widgets/base",
            "_view_module_version": "1.2.0",
            "_view_name": "StyleView",
            "description_width": ""
          }
        },
        "4400c18c26da4be29c842b570d4032d5": {
          "model_module": "@jupyter-widgets/controls",
          "model_name": "HBoxModel",
          "model_module_version": "1.5.0",
          "state": {
            "_dom_classes": [],
            "_model_module": "@jupyter-widgets/controls",
            "_model_module_version": "1.5.0",
            "_model_name": "HBoxModel",
            "_view_count": null,
            "_view_module": "@jupyter-widgets/controls",
            "_view_module_version": "1.5.0",
            "_view_name": "HBoxView",
            "box_style": "",
            "children": [
              "IPY_MODEL_fd2cc7b5109b465099d84c8da5a94702",
              "IPY_MODEL_a5a86f8ba47a442db6a6b036941f4128"
            ],
            "layout": "IPY_MODEL_0c82df47b54b47009c7b4fb25306106b"
          }
        },
        "fd2cc7b5109b465099d84c8da5a94702": {
          "model_module": "@jupyter-widgets/controls",
          "model_name": "CheckboxModel",
          "model_module_version": "1.5.0",
          "state": {
            "_dom_classes": [],
            "_model_module": "@jupyter-widgets/controls",
            "_model_module_version": "1.5.0",
            "_model_name": "CheckboxModel",
            "_view_count": null,
            "_view_module": "@jupyter-widgets/controls",
            "_view_module_version": "1.5.0",
            "_view_name": "CheckboxView",
            "description": "gender",
            "description_tooltip": null,
            "disabled": true,
            "indent": true,
            "layout": "IPY_MODEL_f75479b31a4d4adeb2de640a4c05f55e",
            "style": "IPY_MODEL_b07778f2323d446cb0785d309f820c8d",
            "value": false
          }
        },
        "a5a86f8ba47a442db6a6b036941f4128": {
          "model_module": "@jupyter-widgets/controls",
          "model_name": "RadioButtonsModel",
          "model_module_version": "1.5.0",
          "state": {
            "_dom_classes": [],
            "_model_module": "@jupyter-widgets/controls",
            "_model_module_version": "1.5.0",
            "_model_name": "RadioButtonsModel",
            "_options_labels": [
              "No",
              "Yes"
            ],
            "_view_count": null,
            "_view_module": "@jupyter-widgets/controls",
            "_view_module_version": "1.5.0",
            "_view_name": "RadioButtonsView",
            "description": "Is this variable Categorical?",
            "description_tooltip": null,
            "disabled": false,
            "index": 0,
            "layout": "IPY_MODEL_624bb9b1055747459f7194487ab465d4",
            "style": "IPY_MODEL_a633317197044011b13e95ba84995a50"
          }
        },
        "0c82df47b54b47009c7b4fb25306106b": {
          "model_module": "@jupyter-widgets/base",
          "model_name": "LayoutModel",
          "model_module_version": "1.2.0",
          "state": {
            "_model_module": "@jupyter-widgets/base",
            "_model_module_version": "1.2.0",
            "_model_name": "LayoutModel",
            "_view_count": null,
            "_view_module": "@jupyter-widgets/base",
            "_view_module_version": "1.2.0",
            "_view_name": "LayoutView",
            "align_content": null,
            "align_items": null,
            "align_self": null,
            "border": null,
            "bottom": null,
            "display": null,
            "flex": null,
            "flex_flow": null,
            "grid_area": null,
            "grid_auto_columns": null,
            "grid_auto_flow": null,
            "grid_auto_rows": null,
            "grid_column": null,
            "grid_gap": null,
            "grid_row": null,
            "grid_template_areas": null,
            "grid_template_columns": null,
            "grid_template_rows": null,
            "height": null,
            "justify_content": null,
            "justify_items": null,
            "left": null,
            "margin": null,
            "max_height": null,
            "max_width": null,
            "min_height": null,
            "min_width": null,
            "object_fit": null,
            "object_position": null,
            "order": null,
            "overflow": null,
            "overflow_x": null,
            "overflow_y": null,
            "padding": null,
            "right": null,
            "top": null,
            "visibility": null,
            "width": null
          }
        },
        "f75479b31a4d4adeb2de640a4c05f55e": {
          "model_module": "@jupyter-widgets/base",
          "model_name": "LayoutModel",
          "model_module_version": "1.2.0",
          "state": {
            "_model_module": "@jupyter-widgets/base",
            "_model_module_version": "1.2.0",
            "_model_name": "LayoutModel",
            "_view_count": null,
            "_view_module": "@jupyter-widgets/base",
            "_view_module_version": "1.2.0",
            "_view_name": "LayoutView",
            "align_content": null,
            "align_items": null,
            "align_self": null,
            "border": null,
            "bottom": null,
            "display": null,
            "flex": null,
            "flex_flow": null,
            "grid_area": null,
            "grid_auto_columns": null,
            "grid_auto_flow": null,
            "grid_auto_rows": null,
            "grid_column": null,
            "grid_gap": null,
            "grid_row": null,
            "grid_template_areas": null,
            "grid_template_columns": null,
            "grid_template_rows": null,
            "height": null,
            "justify_content": null,
            "justify_items": null,
            "left": null,
            "margin": null,
            "max_height": null,
            "max_width": null,
            "min_height": null,
            "min_width": null,
            "object_fit": null,
            "object_position": null,
            "order": null,
            "overflow": null,
            "overflow_x": null,
            "overflow_y": null,
            "padding": null,
            "right": null,
            "top": null,
            "visibility": null,
            "width": null
          }
        },
        "b07778f2323d446cb0785d309f820c8d": {
          "model_module": "@jupyter-widgets/controls",
          "model_name": "DescriptionStyleModel",
          "model_module_version": "1.5.0",
          "state": {
            "_model_module": "@jupyter-widgets/controls",
            "_model_module_version": "1.5.0",
            "_model_name": "DescriptionStyleModel",
            "_view_count": null,
            "_view_module": "@jupyter-widgets/base",
            "_view_module_version": "1.2.0",
            "_view_name": "StyleView",
            "description_width": ""
          }
        },
        "624bb9b1055747459f7194487ab465d4": {
          "model_module": "@jupyter-widgets/base",
          "model_name": "LayoutModel",
          "model_module_version": "1.2.0",
          "state": {
            "_model_module": "@jupyter-widgets/base",
            "_model_module_version": "1.2.0",
            "_model_name": "LayoutModel",
            "_view_count": null,
            "_view_module": "@jupyter-widgets/base",
            "_view_module_version": "1.2.0",
            "_view_name": "LayoutView",
            "align_content": null,
            "align_items": null,
            "align_self": null,
            "border": null,
            "bottom": null,
            "display": "none",
            "flex": null,
            "flex_flow": null,
            "grid_area": null,
            "grid_auto_columns": null,
            "grid_auto_flow": null,
            "grid_auto_rows": null,
            "grid_column": null,
            "grid_gap": null,
            "grid_row": null,
            "grid_template_areas": null,
            "grid_template_columns": null,
            "grid_template_rows": null,
            "height": null,
            "justify_content": null,
            "justify_items": null,
            "left": null,
            "margin": null,
            "max_height": null,
            "max_width": null,
            "min_height": null,
            "min_width": null,
            "object_fit": null,
            "object_position": null,
            "order": null,
            "overflow": null,
            "overflow_x": null,
            "overflow_y": null,
            "padding": null,
            "right": null,
            "top": null,
            "visibility": null,
            "width": "max-content"
          }
        },
        "a633317197044011b13e95ba84995a50": {
          "model_module": "@jupyter-widgets/controls",
          "model_name": "DescriptionStyleModel",
          "model_module_version": "1.5.0",
          "state": {
            "_model_module": "@jupyter-widgets/controls",
            "_model_module_version": "1.5.0",
            "_model_name": "DescriptionStyleModel",
            "_view_count": null,
            "_view_module": "@jupyter-widgets/base",
            "_view_module_version": "1.2.0",
            "_view_name": "StyleView",
            "description_width": "initial"
          }
        },
        "700c2dad02ee44d88003531b2d32718b": {
          "model_module": "@jupyter-widgets/controls",
          "model_name": "HBoxModel",
          "model_module_version": "1.5.0",
          "state": {
            "_dom_classes": [],
            "_model_module": "@jupyter-widgets/controls",
            "_model_module_version": "1.5.0",
            "_model_name": "HBoxModel",
            "_view_count": null,
            "_view_module": "@jupyter-widgets/controls",
            "_view_module_version": "1.5.0",
            "_view_name": "HBoxView",
            "box_style": "",
            "children": [
              "IPY_MODEL_2ac3dd9ba9c3431ab0a205dffbb31f3f",
              "IPY_MODEL_3f5438b326fc43418d433cb69fc56eb8"
            ],
            "layout": "IPY_MODEL_30cb1ecdec92487c9b89dee1a70d7692"
          }
        },
        "2ac3dd9ba9c3431ab0a205dffbb31f3f": {
          "model_module": "@jupyter-widgets/controls",
          "model_name": "CheckboxModel",
          "model_module_version": "1.5.0",
          "state": {
            "_dom_classes": [],
            "_model_module": "@jupyter-widgets/controls",
            "_model_module_version": "1.5.0",
            "_model_name": "CheckboxModel",
            "_view_count": null,
            "_view_module": "@jupyter-widgets/controls",
            "_view_module_version": "1.5.0",
            "_view_name": "CheckboxView",
            "description": "age",
            "description_tooltip": null,
            "disabled": false,
            "indent": true,
            "layout": "IPY_MODEL_6d4d735a07a84ada8c09002c322cd4f3",
            "style": "IPY_MODEL_3321b950896e4b33acea8113539e9612",
            "value": true
          }
        },
        "3f5438b326fc43418d433cb69fc56eb8": {
          "model_module": "@jupyter-widgets/controls",
          "model_name": "RadioButtonsModel",
          "model_module_version": "1.5.0",
          "state": {
            "_dom_classes": [],
            "_model_module": "@jupyter-widgets/controls",
            "_model_module_version": "1.5.0",
            "_model_name": "RadioButtonsModel",
            "_options_labels": [
              "No",
              "Yes"
            ],
            "_view_count": null,
            "_view_module": "@jupyter-widgets/controls",
            "_view_module_version": "1.5.0",
            "_view_name": "RadioButtonsView",
            "description": "Is this variable Categorical?",
            "description_tooltip": null,
            "disabled": false,
            "index": 0,
            "layout": "IPY_MODEL_7dd76d3eb8594a31a75f47113764641c",
            "style": "IPY_MODEL_d1edb9a801424df9b0e6f2b2c22e32e3"
          }
        },
        "30cb1ecdec92487c9b89dee1a70d7692": {
          "model_module": "@jupyter-widgets/base",
          "model_name": "LayoutModel",
          "model_module_version": "1.2.0",
          "state": {
            "_model_module": "@jupyter-widgets/base",
            "_model_module_version": "1.2.0",
            "_model_name": "LayoutModel",
            "_view_count": null,
            "_view_module": "@jupyter-widgets/base",
            "_view_module_version": "1.2.0",
            "_view_name": "LayoutView",
            "align_content": null,
            "align_items": null,
            "align_self": null,
            "border": null,
            "bottom": null,
            "display": null,
            "flex": null,
            "flex_flow": null,
            "grid_area": null,
            "grid_auto_columns": null,
            "grid_auto_flow": null,
            "grid_auto_rows": null,
            "grid_column": null,
            "grid_gap": null,
            "grid_row": null,
            "grid_template_areas": null,
            "grid_template_columns": null,
            "grid_template_rows": null,
            "height": null,
            "justify_content": null,
            "justify_items": null,
            "left": null,
            "margin": null,
            "max_height": null,
            "max_width": null,
            "min_height": null,
            "min_width": null,
            "object_fit": null,
            "object_position": null,
            "order": null,
            "overflow": null,
            "overflow_x": null,
            "overflow_y": null,
            "padding": null,
            "right": null,
            "top": null,
            "visibility": null,
            "width": null
          }
        },
        "6d4d735a07a84ada8c09002c322cd4f3": {
          "model_module": "@jupyter-widgets/base",
          "model_name": "LayoutModel",
          "model_module_version": "1.2.0",
          "state": {
            "_model_module": "@jupyter-widgets/base",
            "_model_module_version": "1.2.0",
            "_model_name": "LayoutModel",
            "_view_count": null,
            "_view_module": "@jupyter-widgets/base",
            "_view_module_version": "1.2.0",
            "_view_name": "LayoutView",
            "align_content": null,
            "align_items": null,
            "align_self": null,
            "border": null,
            "bottom": null,
            "display": null,
            "flex": null,
            "flex_flow": null,
            "grid_area": null,
            "grid_auto_columns": null,
            "grid_auto_flow": null,
            "grid_auto_rows": null,
            "grid_column": null,
            "grid_gap": null,
            "grid_row": null,
            "grid_template_areas": null,
            "grid_template_columns": null,
            "grid_template_rows": null,
            "height": null,
            "justify_content": null,
            "justify_items": null,
            "left": null,
            "margin": null,
            "max_height": null,
            "max_width": null,
            "min_height": null,
            "min_width": null,
            "object_fit": null,
            "object_position": null,
            "order": null,
            "overflow": null,
            "overflow_x": null,
            "overflow_y": null,
            "padding": null,
            "right": null,
            "top": null,
            "visibility": null,
            "width": null
          }
        },
        "3321b950896e4b33acea8113539e9612": {
          "model_module": "@jupyter-widgets/controls",
          "model_name": "DescriptionStyleModel",
          "model_module_version": "1.5.0",
          "state": {
            "_model_module": "@jupyter-widgets/controls",
            "_model_module_version": "1.5.0",
            "_model_name": "DescriptionStyleModel",
            "_view_count": null,
            "_view_module": "@jupyter-widgets/base",
            "_view_module_version": "1.2.0",
            "_view_name": "StyleView",
            "description_width": ""
          }
        },
        "7dd76d3eb8594a31a75f47113764641c": {
          "model_module": "@jupyter-widgets/base",
          "model_name": "LayoutModel",
          "model_module_version": "1.2.0",
          "state": {
            "_model_module": "@jupyter-widgets/base",
            "_model_module_version": "1.2.0",
            "_model_name": "LayoutModel",
            "_view_count": null,
            "_view_module": "@jupyter-widgets/base",
            "_view_module_version": "1.2.0",
            "_view_name": "LayoutView",
            "align_content": null,
            "align_items": null,
            "align_self": null,
            "border": null,
            "bottom": null,
            "display": "flex",
            "flex": null,
            "flex_flow": null,
            "grid_area": null,
            "grid_auto_columns": null,
            "grid_auto_flow": null,
            "grid_auto_rows": null,
            "grid_column": null,
            "grid_gap": null,
            "grid_row": null,
            "grid_template_areas": null,
            "grid_template_columns": null,
            "grid_template_rows": null,
            "height": null,
            "justify_content": null,
            "justify_items": null,
            "left": null,
            "margin": null,
            "max_height": null,
            "max_width": null,
            "min_height": null,
            "min_width": null,
            "object_fit": null,
            "object_position": null,
            "order": null,
            "overflow": null,
            "overflow_x": null,
            "overflow_y": null,
            "padding": null,
            "right": null,
            "top": null,
            "visibility": null,
            "width": "max-content"
          }
        },
        "d1edb9a801424df9b0e6f2b2c22e32e3": {
          "model_module": "@jupyter-widgets/controls",
          "model_name": "DescriptionStyleModel",
          "model_module_version": "1.5.0",
          "state": {
            "_model_module": "@jupyter-widgets/controls",
            "_model_module_version": "1.5.0",
            "_model_name": "DescriptionStyleModel",
            "_view_count": null,
            "_view_module": "@jupyter-widgets/base",
            "_view_module_version": "1.2.0",
            "_view_name": "StyleView",
            "description_width": "initial"
          }
        },
        "c896b12b1485473696a54592687a2f5e": {
          "model_module": "@jupyter-widgets/controls",
          "model_name": "HBoxModel",
          "model_module_version": "1.5.0",
          "state": {
            "_dom_classes": [],
            "_model_module": "@jupyter-widgets/controls",
            "_model_module_version": "1.5.0",
            "_model_name": "HBoxModel",
            "_view_count": null,
            "_view_module": "@jupyter-widgets/controls",
            "_view_module_version": "1.5.0",
            "_view_name": "HBoxView",
            "box_style": "",
            "children": [
              "IPY_MODEL_4985a3edf7924203b3888fba01462e00",
              "IPY_MODEL_3a29478dadfc4036a3e42cfe33185304"
            ],
            "layout": "IPY_MODEL_5dd692a7fef74d13861b3bab98e7cf64"
          }
        },
        "4985a3edf7924203b3888fba01462e00": {
          "model_module": "@jupyter-widgets/controls",
          "model_name": "CheckboxModel",
          "model_module_version": "1.5.0",
          "state": {
            "_dom_classes": [],
            "_model_module": "@jupyter-widgets/controls",
            "_model_module_version": "1.5.0",
            "_model_name": "CheckboxModel",
            "_view_count": null,
            "_view_module": "@jupyter-widgets/controls",
            "_view_module_version": "1.5.0",
            "_view_name": "CheckboxView",
            "description": "occu",
            "description_tooltip": null,
            "disabled": false,
            "indent": true,
            "layout": "IPY_MODEL_711c849198034e988a0b5072af7723fe",
            "style": "IPY_MODEL_469f86e8fb99405db65af857b384470d",
            "value": false
          }
        },
        "3a29478dadfc4036a3e42cfe33185304": {
          "model_module": "@jupyter-widgets/controls",
          "model_name": "RadioButtonsModel",
          "model_module_version": "1.5.0",
          "state": {
            "_dom_classes": [],
            "_model_module": "@jupyter-widgets/controls",
            "_model_module_version": "1.5.0",
            "_model_name": "RadioButtonsModel",
            "_options_labels": [
              "No",
              "Yes"
            ],
            "_view_count": null,
            "_view_module": "@jupyter-widgets/controls",
            "_view_module_version": "1.5.0",
            "_view_name": "RadioButtonsView",
            "description": "Is this variable Categorical?",
            "description_tooltip": null,
            "disabled": false,
            "index": 0,
            "layout": "IPY_MODEL_4a840bfcd24c493cb041d8869a4fa503",
            "style": "IPY_MODEL_8cfe429072ae46a7a625f17b390711ce"
          }
        },
        "5dd692a7fef74d13861b3bab98e7cf64": {
          "model_module": "@jupyter-widgets/base",
          "model_name": "LayoutModel",
          "model_module_version": "1.2.0",
          "state": {
            "_model_module": "@jupyter-widgets/base",
            "_model_module_version": "1.2.0",
            "_model_name": "LayoutModel",
            "_view_count": null,
            "_view_module": "@jupyter-widgets/base",
            "_view_module_version": "1.2.0",
            "_view_name": "LayoutView",
            "align_content": null,
            "align_items": null,
            "align_self": null,
            "border": null,
            "bottom": null,
            "display": null,
            "flex": null,
            "flex_flow": null,
            "grid_area": null,
            "grid_auto_columns": null,
            "grid_auto_flow": null,
            "grid_auto_rows": null,
            "grid_column": null,
            "grid_gap": null,
            "grid_row": null,
            "grid_template_areas": null,
            "grid_template_columns": null,
            "grid_template_rows": null,
            "height": null,
            "justify_content": null,
            "justify_items": null,
            "left": null,
            "margin": null,
            "max_height": null,
            "max_width": null,
            "min_height": null,
            "min_width": null,
            "object_fit": null,
            "object_position": null,
            "order": null,
            "overflow": null,
            "overflow_x": null,
            "overflow_y": null,
            "padding": null,
            "right": null,
            "top": null,
            "visibility": null,
            "width": null
          }
        },
        "711c849198034e988a0b5072af7723fe": {
          "model_module": "@jupyter-widgets/base",
          "model_name": "LayoutModel",
          "model_module_version": "1.2.0",
          "state": {
            "_model_module": "@jupyter-widgets/base",
            "_model_module_version": "1.2.0",
            "_model_name": "LayoutModel",
            "_view_count": null,
            "_view_module": "@jupyter-widgets/base",
            "_view_module_version": "1.2.0",
            "_view_name": "LayoutView",
            "align_content": null,
            "align_items": null,
            "align_self": null,
            "border": null,
            "bottom": null,
            "display": null,
            "flex": null,
            "flex_flow": null,
            "grid_area": null,
            "grid_auto_columns": null,
            "grid_auto_flow": null,
            "grid_auto_rows": null,
            "grid_column": null,
            "grid_gap": null,
            "grid_row": null,
            "grid_template_areas": null,
            "grid_template_columns": null,
            "grid_template_rows": null,
            "height": null,
            "justify_content": null,
            "justify_items": null,
            "left": null,
            "margin": null,
            "max_height": null,
            "max_width": null,
            "min_height": null,
            "min_width": null,
            "object_fit": null,
            "object_position": null,
            "order": null,
            "overflow": null,
            "overflow_x": null,
            "overflow_y": null,
            "padding": null,
            "right": null,
            "top": null,
            "visibility": null,
            "width": null
          }
        },
        "469f86e8fb99405db65af857b384470d": {
          "model_module": "@jupyter-widgets/controls",
          "model_name": "DescriptionStyleModel",
          "model_module_version": "1.5.0",
          "state": {
            "_model_module": "@jupyter-widgets/controls",
            "_model_module_version": "1.5.0",
            "_model_name": "DescriptionStyleModel",
            "_view_count": null,
            "_view_module": "@jupyter-widgets/base",
            "_view_module_version": "1.2.0",
            "_view_name": "StyleView",
            "description_width": ""
          }
        },
        "4a840bfcd24c493cb041d8869a4fa503": {
          "model_module": "@jupyter-widgets/base",
          "model_name": "LayoutModel",
          "model_module_version": "1.2.0",
          "state": {
            "_model_module": "@jupyter-widgets/base",
            "_model_module_version": "1.2.0",
            "_model_name": "LayoutModel",
            "_view_count": null,
            "_view_module": "@jupyter-widgets/base",
            "_view_module_version": "1.2.0",
            "_view_name": "LayoutView",
            "align_content": null,
            "align_items": null,
            "align_self": null,
            "border": null,
            "bottom": null,
            "display": "none",
            "flex": null,
            "flex_flow": null,
            "grid_area": null,
            "grid_auto_columns": null,
            "grid_auto_flow": null,
            "grid_auto_rows": null,
            "grid_column": null,
            "grid_gap": null,
            "grid_row": null,
            "grid_template_areas": null,
            "grid_template_columns": null,
            "grid_template_rows": null,
            "height": null,
            "justify_content": null,
            "justify_items": null,
            "left": null,
            "margin": null,
            "max_height": null,
            "max_width": null,
            "min_height": null,
            "min_width": null,
            "object_fit": null,
            "object_position": null,
            "order": null,
            "overflow": null,
            "overflow_x": null,
            "overflow_y": null,
            "padding": null,
            "right": null,
            "top": null,
            "visibility": null,
            "width": "max-content"
          }
        },
        "8cfe429072ae46a7a625f17b390711ce": {
          "model_module": "@jupyter-widgets/controls",
          "model_name": "DescriptionStyleModel",
          "model_module_version": "1.5.0",
          "state": {
            "_model_module": "@jupyter-widgets/controls",
            "_model_module_version": "1.5.0",
            "_model_name": "DescriptionStyleModel",
            "_view_count": null,
            "_view_module": "@jupyter-widgets/base",
            "_view_module_version": "1.2.0",
            "_view_name": "StyleView",
            "description_width": "initial"
          }
        },
        "33ad98c8f385491091f6f8942bceaf77": {
          "model_module": "@jupyter-widgets/controls",
          "model_name": "HBoxModel",
          "model_module_version": "1.5.0",
          "state": {
            "_dom_classes": [],
            "_model_module": "@jupyter-widgets/controls",
            "_model_module_version": "1.5.0",
            "_model_name": "HBoxModel",
            "_view_count": null,
            "_view_module": "@jupyter-widgets/controls",
            "_view_module_version": "1.5.0",
            "_view_name": "HBoxView",
            "box_style": "",
            "children": [
              "IPY_MODEL_67bd626c76784756a0c81e8eb8326137",
              "IPY_MODEL_4d2b72733b54446fb2eadae1a2c90519"
            ],
            "layout": "IPY_MODEL_368bd61b751047bb8d8bd7761f98ebc6"
          }
        },
        "67bd626c76784756a0c81e8eb8326137": {
          "model_module": "@jupyter-widgets/controls",
          "model_name": "CheckboxModel",
          "model_module_version": "1.5.0",
          "state": {
            "_dom_classes": [],
            "_model_module": "@jupyter-widgets/controls",
            "_model_module_version": "1.5.0",
            "_model_name": "CheckboxModel",
            "_view_count": null,
            "_view_module": "@jupyter-widgets/controls",
            "_view_module_version": "1.5.0",
            "_view_name": "CheckboxView",
            "description": "is_student",
            "description_tooltip": null,
            "disabled": false,
            "indent": true,
            "layout": "IPY_MODEL_21be024cb12843f6ab7df1106f6e8f9c",
            "style": "IPY_MODEL_2168b1bf6efb4c3b80f3ba5f4470acc0",
            "value": false
          }
        },
        "4d2b72733b54446fb2eadae1a2c90519": {
          "model_module": "@jupyter-widgets/controls",
          "model_name": "RadioButtonsModel",
          "model_module_version": "1.5.0",
          "state": {
            "_dom_classes": [],
            "_model_module": "@jupyter-widgets/controls",
            "_model_module_version": "1.5.0",
            "_model_name": "RadioButtonsModel",
            "_options_labels": [
              "No",
              "Yes"
            ],
            "_view_count": null,
            "_view_module": "@jupyter-widgets/controls",
            "_view_module_version": "1.5.0",
            "_view_name": "RadioButtonsView",
            "description": "Is this variable Categorical?",
            "description_tooltip": null,
            "disabled": false,
            "index": 0,
            "layout": "IPY_MODEL_501a9a7f5ca043ac83badfe15ccbe8c0",
            "style": "IPY_MODEL_ff0edc1beb7c47979d9d739161423f7e"
          }
        },
        "368bd61b751047bb8d8bd7761f98ebc6": {
          "model_module": "@jupyter-widgets/base",
          "model_name": "LayoutModel",
          "model_module_version": "1.2.0",
          "state": {
            "_model_module": "@jupyter-widgets/base",
            "_model_module_version": "1.2.0",
            "_model_name": "LayoutModel",
            "_view_count": null,
            "_view_module": "@jupyter-widgets/base",
            "_view_module_version": "1.2.0",
            "_view_name": "LayoutView",
            "align_content": null,
            "align_items": null,
            "align_self": null,
            "border": null,
            "bottom": null,
            "display": null,
            "flex": null,
            "flex_flow": null,
            "grid_area": null,
            "grid_auto_columns": null,
            "grid_auto_flow": null,
            "grid_auto_rows": null,
            "grid_column": null,
            "grid_gap": null,
            "grid_row": null,
            "grid_template_areas": null,
            "grid_template_columns": null,
            "grid_template_rows": null,
            "height": null,
            "justify_content": null,
            "justify_items": null,
            "left": null,
            "margin": null,
            "max_height": null,
            "max_width": null,
            "min_height": null,
            "min_width": null,
            "object_fit": null,
            "object_position": null,
            "order": null,
            "overflow": null,
            "overflow_x": null,
            "overflow_y": null,
            "padding": null,
            "right": null,
            "top": null,
            "visibility": null,
            "width": null
          }
        },
        "21be024cb12843f6ab7df1106f6e8f9c": {
          "model_module": "@jupyter-widgets/base",
          "model_name": "LayoutModel",
          "model_module_version": "1.2.0",
          "state": {
            "_model_module": "@jupyter-widgets/base",
            "_model_module_version": "1.2.0",
            "_model_name": "LayoutModel",
            "_view_count": null,
            "_view_module": "@jupyter-widgets/base",
            "_view_module_version": "1.2.0",
            "_view_name": "LayoutView",
            "align_content": null,
            "align_items": null,
            "align_self": null,
            "border": null,
            "bottom": null,
            "display": null,
            "flex": null,
            "flex_flow": null,
            "grid_area": null,
            "grid_auto_columns": null,
            "grid_auto_flow": null,
            "grid_auto_rows": null,
            "grid_column": null,
            "grid_gap": null,
            "grid_row": null,
            "grid_template_areas": null,
            "grid_template_columns": null,
            "grid_template_rows": null,
            "height": null,
            "justify_content": null,
            "justify_items": null,
            "left": null,
            "margin": null,
            "max_height": null,
            "max_width": null,
            "min_height": null,
            "min_width": null,
            "object_fit": null,
            "object_position": null,
            "order": null,
            "overflow": null,
            "overflow_x": null,
            "overflow_y": null,
            "padding": null,
            "right": null,
            "top": null,
            "visibility": null,
            "width": null
          }
        },
        "2168b1bf6efb4c3b80f3ba5f4470acc0": {
          "model_module": "@jupyter-widgets/controls",
          "model_name": "DescriptionStyleModel",
          "model_module_version": "1.5.0",
          "state": {
            "_model_module": "@jupyter-widgets/controls",
            "_model_module_version": "1.5.0",
            "_model_name": "DescriptionStyleModel",
            "_view_count": null,
            "_view_module": "@jupyter-widgets/base",
            "_view_module_version": "1.2.0",
            "_view_name": "StyleView",
            "description_width": ""
          }
        },
        "501a9a7f5ca043ac83badfe15ccbe8c0": {
          "model_module": "@jupyter-widgets/base",
          "model_name": "LayoutModel",
          "model_module_version": "1.2.0",
          "state": {
            "_model_module": "@jupyter-widgets/base",
            "_model_module_version": "1.2.0",
            "_model_name": "LayoutModel",
            "_view_count": null,
            "_view_module": "@jupyter-widgets/base",
            "_view_module_version": "1.2.0",
            "_view_name": "LayoutView",
            "align_content": null,
            "align_items": null,
            "align_self": null,
            "border": null,
            "bottom": null,
            "display": "none",
            "flex": null,
            "flex_flow": null,
            "grid_area": null,
            "grid_auto_columns": null,
            "grid_auto_flow": null,
            "grid_auto_rows": null,
            "grid_column": null,
            "grid_gap": null,
            "grid_row": null,
            "grid_template_areas": null,
            "grid_template_columns": null,
            "grid_template_rows": null,
            "height": null,
            "justify_content": null,
            "justify_items": null,
            "left": null,
            "margin": null,
            "max_height": null,
            "max_width": null,
            "min_height": null,
            "min_width": null,
            "object_fit": null,
            "object_position": null,
            "order": null,
            "overflow": null,
            "overflow_x": null,
            "overflow_y": null,
            "padding": null,
            "right": null,
            "top": null,
            "visibility": null,
            "width": "max-content"
          }
        },
        "ff0edc1beb7c47979d9d739161423f7e": {
          "model_module": "@jupyter-widgets/controls",
          "model_name": "DescriptionStyleModel",
          "model_module_version": "1.5.0",
          "state": {
            "_model_module": "@jupyter-widgets/controls",
            "_model_module_version": "1.5.0",
            "_model_name": "DescriptionStyleModel",
            "_view_count": null,
            "_view_module": "@jupyter-widgets/base",
            "_view_module_version": "1.2.0",
            "_view_name": "StyleView",
            "description_width": "initial"
          }
        },
        "ef48ab8cc9c74c3d9ef005a603d2e97d": {
          "model_module": "@jupyter-widgets/controls",
          "model_name": "LabelModel",
          "model_module_version": "1.5.0",
          "state": {
            "_dom_classes": [],
            "_model_module": "@jupyter-widgets/controls",
            "_model_module_version": "1.5.0",
            "_model_name": "LabelModel",
            "_view_count": null,
            "_view_module": "@jupyter-widgets/controls",
            "_view_module_version": "1.5.0",
            "_view_name": "LabelView",
            "description": "",
            "description_tooltip": null,
            "layout": "IPY_MODEL_799f39f03510451f8bd076896451d1b4",
            "placeholder": "​",
            "style": "IPY_MODEL_84f6c0dbb9594be08829c034a888ca2a",
            "value": "Controls:"
          }
        },
        "799f39f03510451f8bd076896451d1b4": {
          "model_module": "@jupyter-widgets/base",
          "model_name": "LayoutModel",
          "model_module_version": "1.2.0",
          "state": {
            "_model_module": "@jupyter-widgets/base",
            "_model_module_version": "1.2.0",
            "_model_name": "LayoutModel",
            "_view_count": null,
            "_view_module": "@jupyter-widgets/base",
            "_view_module_version": "1.2.0",
            "_view_name": "LayoutView",
            "align_content": null,
            "align_items": null,
            "align_self": null,
            "border": null,
            "bottom": null,
            "display": null,
            "flex": null,
            "flex_flow": null,
            "grid_area": null,
            "grid_auto_columns": null,
            "grid_auto_flow": null,
            "grid_auto_rows": null,
            "grid_column": null,
            "grid_gap": null,
            "grid_row": null,
            "grid_template_areas": null,
            "grid_template_columns": null,
            "grid_template_rows": null,
            "height": null,
            "justify_content": null,
            "justify_items": null,
            "left": null,
            "margin": null,
            "max_height": null,
            "max_width": null,
            "min_height": null,
            "min_width": null,
            "object_fit": null,
            "object_position": null,
            "order": null,
            "overflow": null,
            "overflow_x": null,
            "overflow_y": null,
            "padding": null,
            "right": null,
            "top": null,
            "visibility": null,
            "width": null
          }
        },
        "84f6c0dbb9594be08829c034a888ca2a": {
          "model_module": "@jupyter-widgets/controls",
          "model_name": "DescriptionStyleModel",
          "model_module_version": "1.5.0",
          "state": {
            "_model_module": "@jupyter-widgets/controls",
            "_model_module_version": "1.5.0",
            "_model_name": "DescriptionStyleModel",
            "_view_count": null,
            "_view_module": "@jupyter-widgets/base",
            "_view_module_version": "1.2.0",
            "_view_name": "StyleView",
            "description_width": ""
          }
        },
        "a301c5e9c7444226b05a63a6ca5b0853": {
          "model_module": "@jupyter-widgets/controls",
          "model_name": "HBoxModel",
          "model_module_version": "1.5.0",
          "state": {
            "_dom_classes": [],
            "_model_module": "@jupyter-widgets/controls",
            "_model_module_version": "1.5.0",
            "_model_name": "HBoxModel",
            "_view_count": null,
            "_view_module": "@jupyter-widgets/controls",
            "_view_module_version": "1.5.0",
            "_view_name": "HBoxView",
            "box_style": "",
            "children": [
              "IPY_MODEL_39b56483a6664576a6c7663f57172641",
              "IPY_MODEL_d445d21f0b3e4ab49de98287dbe4a591"
            ],
            "layout": "IPY_MODEL_cb4e2b5ea2c3476c8ed235f4ac422209"
          }
        },
        "39b56483a6664576a6c7663f57172641": {
          "model_module": "@jupyter-widgets/controls",
          "model_name": "CheckboxModel",
          "model_module_version": "1.5.0",
          "state": {
            "_dom_classes": [],
            "_model_module": "@jupyter-widgets/controls",
            "_model_module_version": "1.5.0",
            "_model_name": "CheckboxModel",
            "_view_count": null,
            "_view_module": "@jupyter-widgets/controls",
            "_view_module_version": "1.5.0",
            "_view_name": "CheckboxView",
            "description": "gender",
            "description_tooltip": null,
            "disabled": false,
            "indent": true,
            "layout": "IPY_MODEL_2fe39fa5237e470e9477379e6a628bfa",
            "style": "IPY_MODEL_538a47671b7049d88853ce71fd438db7",
            "value": true
          }
        },
        "d445d21f0b3e4ab49de98287dbe4a591": {
          "model_module": "@jupyter-widgets/controls",
          "model_name": "RadioButtonsModel",
          "model_module_version": "1.5.0",
          "state": {
            "_dom_classes": [],
            "_model_module": "@jupyter-widgets/controls",
            "_model_module_version": "1.5.0",
            "_model_name": "RadioButtonsModel",
            "_options_labels": [
              "No",
              "Yes"
            ],
            "_view_count": null,
            "_view_module": "@jupyter-widgets/controls",
            "_view_module_version": "1.5.0",
            "_view_name": "RadioButtonsView",
            "description": "Is this variable Categorical?",
            "description_tooltip": null,
            "disabled": false,
            "index": 1,
            "layout": "IPY_MODEL_65e38614ec994f12a7d2bf363fb2e814",
            "style": "IPY_MODEL_0c6905ad0983437f88ba05aa10c86e58"
          }
        },
        "cb4e2b5ea2c3476c8ed235f4ac422209": {
          "model_module": "@jupyter-widgets/base",
          "model_name": "LayoutModel",
          "model_module_version": "1.2.0",
          "state": {
            "_model_module": "@jupyter-widgets/base",
            "_model_module_version": "1.2.0",
            "_model_name": "LayoutModel",
            "_view_count": null,
            "_view_module": "@jupyter-widgets/base",
            "_view_module_version": "1.2.0",
            "_view_name": "LayoutView",
            "align_content": null,
            "align_items": null,
            "align_self": null,
            "border": null,
            "bottom": null,
            "display": null,
            "flex": null,
            "flex_flow": null,
            "grid_area": null,
            "grid_auto_columns": null,
            "grid_auto_flow": null,
            "grid_auto_rows": null,
            "grid_column": null,
            "grid_gap": null,
            "grid_row": null,
            "grid_template_areas": null,
            "grid_template_columns": null,
            "grid_template_rows": null,
            "height": null,
            "justify_content": null,
            "justify_items": null,
            "left": null,
            "margin": null,
            "max_height": null,
            "max_width": null,
            "min_height": null,
            "min_width": null,
            "object_fit": null,
            "object_position": null,
            "order": null,
            "overflow": null,
            "overflow_x": null,
            "overflow_y": null,
            "padding": null,
            "right": null,
            "top": null,
            "visibility": null,
            "width": null
          }
        },
        "2fe39fa5237e470e9477379e6a628bfa": {
          "model_module": "@jupyter-widgets/base",
          "model_name": "LayoutModel",
          "model_module_version": "1.2.0",
          "state": {
            "_model_module": "@jupyter-widgets/base",
            "_model_module_version": "1.2.0",
            "_model_name": "LayoutModel",
            "_view_count": null,
            "_view_module": "@jupyter-widgets/base",
            "_view_module_version": "1.2.0",
            "_view_name": "LayoutView",
            "align_content": null,
            "align_items": null,
            "align_self": null,
            "border": null,
            "bottom": null,
            "display": null,
            "flex": null,
            "flex_flow": null,
            "grid_area": null,
            "grid_auto_columns": null,
            "grid_auto_flow": null,
            "grid_auto_rows": null,
            "grid_column": null,
            "grid_gap": null,
            "grid_row": null,
            "grid_template_areas": null,
            "grid_template_columns": null,
            "grid_template_rows": null,
            "height": null,
            "justify_content": null,
            "justify_items": null,
            "left": null,
            "margin": null,
            "max_height": null,
            "max_width": null,
            "min_height": null,
            "min_width": null,
            "object_fit": null,
            "object_position": null,
            "order": null,
            "overflow": null,
            "overflow_x": null,
            "overflow_y": null,
            "padding": null,
            "right": null,
            "top": null,
            "visibility": null,
            "width": null
          }
        },
        "538a47671b7049d88853ce71fd438db7": {
          "model_module": "@jupyter-widgets/controls",
          "model_name": "DescriptionStyleModel",
          "model_module_version": "1.5.0",
          "state": {
            "_model_module": "@jupyter-widgets/controls",
            "_model_module_version": "1.5.0",
            "_model_name": "DescriptionStyleModel",
            "_view_count": null,
            "_view_module": "@jupyter-widgets/base",
            "_view_module_version": "1.2.0",
            "_view_name": "StyleView",
            "description_width": ""
          }
        },
        "65e38614ec994f12a7d2bf363fb2e814": {
          "model_module": "@jupyter-widgets/base",
          "model_name": "LayoutModel",
          "model_module_version": "1.2.0",
          "state": {
            "_model_module": "@jupyter-widgets/base",
            "_model_module_version": "1.2.0",
            "_model_name": "LayoutModel",
            "_view_count": null,
            "_view_module": "@jupyter-widgets/base",
            "_view_module_version": "1.2.0",
            "_view_name": "LayoutView",
            "align_content": null,
            "align_items": null,
            "align_self": null,
            "border": null,
            "bottom": null,
            "display": "flex",
            "flex": null,
            "flex_flow": null,
            "grid_area": null,
            "grid_auto_columns": null,
            "grid_auto_flow": null,
            "grid_auto_rows": null,
            "grid_column": null,
            "grid_gap": null,
            "grid_row": null,
            "grid_template_areas": null,
            "grid_template_columns": null,
            "grid_template_rows": null,
            "height": null,
            "justify_content": null,
            "justify_items": null,
            "left": null,
            "margin": null,
            "max_height": null,
            "max_width": null,
            "min_height": null,
            "min_width": null,
            "object_fit": null,
            "object_position": null,
            "order": null,
            "overflow": null,
            "overflow_x": null,
            "overflow_y": null,
            "padding": null,
            "right": null,
            "top": null,
            "visibility": null,
            "width": "max-content"
          }
        },
        "0c6905ad0983437f88ba05aa10c86e58": {
          "model_module": "@jupyter-widgets/controls",
          "model_name": "DescriptionStyleModel",
          "model_module_version": "1.5.0",
          "state": {
            "_model_module": "@jupyter-widgets/controls",
            "_model_module_version": "1.5.0",
            "_model_name": "DescriptionStyleModel",
            "_view_count": null,
            "_view_module": "@jupyter-widgets/base",
            "_view_module_version": "1.2.0",
            "_view_name": "StyleView",
            "description_width": "initial"
          }
        },
        "b3130d9c8d6c401abc3feef05b4913ca": {
          "model_module": "@jupyter-widgets/controls",
          "model_name": "HBoxModel",
          "model_module_version": "1.5.0",
          "state": {
            "_dom_classes": [],
            "_model_module": "@jupyter-widgets/controls",
            "_model_module_version": "1.5.0",
            "_model_name": "HBoxModel",
            "_view_count": null,
            "_view_module": "@jupyter-widgets/controls",
            "_view_module_version": "1.5.0",
            "_view_name": "HBoxView",
            "box_style": "",
            "children": [
              "IPY_MODEL_c279e8d4d64140b084ac550a9d3e9daf",
              "IPY_MODEL_396696062bb14f55a2d6ec5458cd9353"
            ],
            "layout": "IPY_MODEL_607642c8488140838b3c17610155b390"
          }
        },
        "c279e8d4d64140b084ac550a9d3e9daf": {
          "model_module": "@jupyter-widgets/controls",
          "model_name": "CheckboxModel",
          "model_module_version": "1.5.0",
          "state": {
            "_dom_classes": [],
            "_model_module": "@jupyter-widgets/controls",
            "_model_module_version": "1.5.0",
            "_model_name": "CheckboxModel",
            "_view_count": null,
            "_view_module": "@jupyter-widgets/controls",
            "_view_module_version": "1.5.0",
            "_view_name": "CheckboxView",
            "description": "age",
            "description_tooltip": null,
            "disabled": true,
            "indent": true,
            "layout": "IPY_MODEL_2c96d36124f34c8799e1103d10581830",
            "style": "IPY_MODEL_15b08482977544ecb46013ff5582cb70",
            "value": false
          }
        },
        "396696062bb14f55a2d6ec5458cd9353": {
          "model_module": "@jupyter-widgets/controls",
          "model_name": "RadioButtonsModel",
          "model_module_version": "1.5.0",
          "state": {
            "_dom_classes": [],
            "_model_module": "@jupyter-widgets/controls",
            "_model_module_version": "1.5.0",
            "_model_name": "RadioButtonsModel",
            "_options_labels": [
              "No",
              "Yes"
            ],
            "_view_count": null,
            "_view_module": "@jupyter-widgets/controls",
            "_view_module_version": "1.5.0",
            "_view_name": "RadioButtonsView",
            "description": "Is this variable Categorical?",
            "description_tooltip": null,
            "disabled": false,
            "index": 0,
            "layout": "IPY_MODEL_dc77d7c2ac7a4c76b4b97261b6d0273d",
            "style": "IPY_MODEL_c25739f7c863474b8fbe990d0be52c48"
          }
        },
        "607642c8488140838b3c17610155b390": {
          "model_module": "@jupyter-widgets/base",
          "model_name": "LayoutModel",
          "model_module_version": "1.2.0",
          "state": {
            "_model_module": "@jupyter-widgets/base",
            "_model_module_version": "1.2.0",
            "_model_name": "LayoutModel",
            "_view_count": null,
            "_view_module": "@jupyter-widgets/base",
            "_view_module_version": "1.2.0",
            "_view_name": "LayoutView",
            "align_content": null,
            "align_items": null,
            "align_self": null,
            "border": null,
            "bottom": null,
            "display": null,
            "flex": null,
            "flex_flow": null,
            "grid_area": null,
            "grid_auto_columns": null,
            "grid_auto_flow": null,
            "grid_auto_rows": null,
            "grid_column": null,
            "grid_gap": null,
            "grid_row": null,
            "grid_template_areas": null,
            "grid_template_columns": null,
            "grid_template_rows": null,
            "height": null,
            "justify_content": null,
            "justify_items": null,
            "left": null,
            "margin": null,
            "max_height": null,
            "max_width": null,
            "min_height": null,
            "min_width": null,
            "object_fit": null,
            "object_position": null,
            "order": null,
            "overflow": null,
            "overflow_x": null,
            "overflow_y": null,
            "padding": null,
            "right": null,
            "top": null,
            "visibility": null,
            "width": null
          }
        },
        "2c96d36124f34c8799e1103d10581830": {
          "model_module": "@jupyter-widgets/base",
          "model_name": "LayoutModel",
          "model_module_version": "1.2.0",
          "state": {
            "_model_module": "@jupyter-widgets/base",
            "_model_module_version": "1.2.0",
            "_model_name": "LayoutModel",
            "_view_count": null,
            "_view_module": "@jupyter-widgets/base",
            "_view_module_version": "1.2.0",
            "_view_name": "LayoutView",
            "align_content": null,
            "align_items": null,
            "align_self": null,
            "border": null,
            "bottom": null,
            "display": null,
            "flex": null,
            "flex_flow": null,
            "grid_area": null,
            "grid_auto_columns": null,
            "grid_auto_flow": null,
            "grid_auto_rows": null,
            "grid_column": null,
            "grid_gap": null,
            "grid_row": null,
            "grid_template_areas": null,
            "grid_template_columns": null,
            "grid_template_rows": null,
            "height": null,
            "justify_content": null,
            "justify_items": null,
            "left": null,
            "margin": null,
            "max_height": null,
            "max_width": null,
            "min_height": null,
            "min_width": null,
            "object_fit": null,
            "object_position": null,
            "order": null,
            "overflow": null,
            "overflow_x": null,
            "overflow_y": null,
            "padding": null,
            "right": null,
            "top": null,
            "visibility": null,
            "width": null
          }
        },
        "15b08482977544ecb46013ff5582cb70": {
          "model_module": "@jupyter-widgets/controls",
          "model_name": "DescriptionStyleModel",
          "model_module_version": "1.5.0",
          "state": {
            "_model_module": "@jupyter-widgets/controls",
            "_model_module_version": "1.5.0",
            "_model_name": "DescriptionStyleModel",
            "_view_count": null,
            "_view_module": "@jupyter-widgets/base",
            "_view_module_version": "1.2.0",
            "_view_name": "StyleView",
            "description_width": ""
          }
        },
        "dc77d7c2ac7a4c76b4b97261b6d0273d": {
          "model_module": "@jupyter-widgets/base",
          "model_name": "LayoutModel",
          "model_module_version": "1.2.0",
          "state": {
            "_model_module": "@jupyter-widgets/base",
            "_model_module_version": "1.2.0",
            "_model_name": "LayoutModel",
            "_view_count": null,
            "_view_module": "@jupyter-widgets/base",
            "_view_module_version": "1.2.0",
            "_view_name": "LayoutView",
            "align_content": null,
            "align_items": null,
            "align_self": null,
            "border": null,
            "bottom": null,
            "display": "none",
            "flex": null,
            "flex_flow": null,
            "grid_area": null,
            "grid_auto_columns": null,
            "grid_auto_flow": null,
            "grid_auto_rows": null,
            "grid_column": null,
            "grid_gap": null,
            "grid_row": null,
            "grid_template_areas": null,
            "grid_template_columns": null,
            "grid_template_rows": null,
            "height": null,
            "justify_content": null,
            "justify_items": null,
            "left": null,
            "margin": null,
            "max_height": null,
            "max_width": null,
            "min_height": null,
            "min_width": null,
            "object_fit": null,
            "object_position": null,
            "order": null,
            "overflow": null,
            "overflow_x": null,
            "overflow_y": null,
            "padding": null,
            "right": null,
            "top": null,
            "visibility": null,
            "width": "max-content"
          }
        },
        "c25739f7c863474b8fbe990d0be52c48": {
          "model_module": "@jupyter-widgets/controls",
          "model_name": "DescriptionStyleModel",
          "model_module_version": "1.5.0",
          "state": {
            "_model_module": "@jupyter-widgets/controls",
            "_model_module_version": "1.5.0",
            "_model_name": "DescriptionStyleModel",
            "_view_count": null,
            "_view_module": "@jupyter-widgets/base",
            "_view_module_version": "1.2.0",
            "_view_name": "StyleView",
            "description_width": "initial"
          }
        },
        "49ef7d3e7125492785485f2ec3c8928a": {
          "model_module": "@jupyter-widgets/controls",
          "model_name": "HBoxModel",
          "model_module_version": "1.5.0",
          "state": {
            "_dom_classes": [],
            "_model_module": "@jupyter-widgets/controls",
            "_model_module_version": "1.5.0",
            "_model_name": "HBoxModel",
            "_view_count": null,
            "_view_module": "@jupyter-widgets/controls",
            "_view_module_version": "1.5.0",
            "_view_name": "HBoxView",
            "box_style": "",
            "children": [
              "IPY_MODEL_9e994accb1d44052b4a4746311683db3",
              "IPY_MODEL_b0280e64629f4775ae75c56a9986b2de"
            ],
            "layout": "IPY_MODEL_4fb470b3d787473eb002873b771442c3"
          }
        },
        "9e994accb1d44052b4a4746311683db3": {
          "model_module": "@jupyter-widgets/controls",
          "model_name": "CheckboxModel",
          "model_module_version": "1.5.0",
          "state": {
            "_dom_classes": [],
            "_model_module": "@jupyter-widgets/controls",
            "_model_module_version": "1.5.0",
            "_model_name": "CheckboxModel",
            "_view_count": null,
            "_view_module": "@jupyter-widgets/controls",
            "_view_module_version": "1.5.0",
            "_view_name": "CheckboxView",
            "description": "occu",
            "description_tooltip": null,
            "disabled": false,
            "indent": true,
            "layout": "IPY_MODEL_6720978bf22148fb82fbdc0043afac64",
            "style": "IPY_MODEL_6caf6b47a0f941ebb8413ab88624251b",
            "value": false
          }
        },
        "b0280e64629f4775ae75c56a9986b2de": {
          "model_module": "@jupyter-widgets/controls",
          "model_name": "RadioButtonsModel",
          "model_module_version": "1.5.0",
          "state": {
            "_dom_classes": [],
            "_model_module": "@jupyter-widgets/controls",
            "_model_module_version": "1.5.0",
            "_model_name": "RadioButtonsModel",
            "_options_labels": [
              "No",
              "Yes"
            ],
            "_view_count": null,
            "_view_module": "@jupyter-widgets/controls",
            "_view_module_version": "1.5.0",
            "_view_name": "RadioButtonsView",
            "description": "Is this variable Categorical?",
            "description_tooltip": null,
            "disabled": false,
            "index": 0,
            "layout": "IPY_MODEL_45d4de8e0ffe468b9d734cf8f8930c93",
            "style": "IPY_MODEL_cc17a83c29e0490f8086437eb55e1dc4"
          }
        },
        "4fb470b3d787473eb002873b771442c3": {
          "model_module": "@jupyter-widgets/base",
          "model_name": "LayoutModel",
          "model_module_version": "1.2.0",
          "state": {
            "_model_module": "@jupyter-widgets/base",
            "_model_module_version": "1.2.0",
            "_model_name": "LayoutModel",
            "_view_count": null,
            "_view_module": "@jupyter-widgets/base",
            "_view_module_version": "1.2.0",
            "_view_name": "LayoutView",
            "align_content": null,
            "align_items": null,
            "align_self": null,
            "border": null,
            "bottom": null,
            "display": null,
            "flex": null,
            "flex_flow": null,
            "grid_area": null,
            "grid_auto_columns": null,
            "grid_auto_flow": null,
            "grid_auto_rows": null,
            "grid_column": null,
            "grid_gap": null,
            "grid_row": null,
            "grid_template_areas": null,
            "grid_template_columns": null,
            "grid_template_rows": null,
            "height": null,
            "justify_content": null,
            "justify_items": null,
            "left": null,
            "margin": null,
            "max_height": null,
            "max_width": null,
            "min_height": null,
            "min_width": null,
            "object_fit": null,
            "object_position": null,
            "order": null,
            "overflow": null,
            "overflow_x": null,
            "overflow_y": null,
            "padding": null,
            "right": null,
            "top": null,
            "visibility": null,
            "width": null
          }
        },
        "6720978bf22148fb82fbdc0043afac64": {
          "model_module": "@jupyter-widgets/base",
          "model_name": "LayoutModel",
          "model_module_version": "1.2.0",
          "state": {
            "_model_module": "@jupyter-widgets/base",
            "_model_module_version": "1.2.0",
            "_model_name": "LayoutModel",
            "_view_count": null,
            "_view_module": "@jupyter-widgets/base",
            "_view_module_version": "1.2.0",
            "_view_name": "LayoutView",
            "align_content": null,
            "align_items": null,
            "align_self": null,
            "border": null,
            "bottom": null,
            "display": null,
            "flex": null,
            "flex_flow": null,
            "grid_area": null,
            "grid_auto_columns": null,
            "grid_auto_flow": null,
            "grid_auto_rows": null,
            "grid_column": null,
            "grid_gap": null,
            "grid_row": null,
            "grid_template_areas": null,
            "grid_template_columns": null,
            "grid_template_rows": null,
            "height": null,
            "justify_content": null,
            "justify_items": null,
            "left": null,
            "margin": null,
            "max_height": null,
            "max_width": null,
            "min_height": null,
            "min_width": null,
            "object_fit": null,
            "object_position": null,
            "order": null,
            "overflow": null,
            "overflow_x": null,
            "overflow_y": null,
            "padding": null,
            "right": null,
            "top": null,
            "visibility": null,
            "width": null
          }
        },
        "6caf6b47a0f941ebb8413ab88624251b": {
          "model_module": "@jupyter-widgets/controls",
          "model_name": "DescriptionStyleModel",
          "model_module_version": "1.5.0",
          "state": {
            "_model_module": "@jupyter-widgets/controls",
            "_model_module_version": "1.5.0",
            "_model_name": "DescriptionStyleModel",
            "_view_count": null,
            "_view_module": "@jupyter-widgets/base",
            "_view_module_version": "1.2.0",
            "_view_name": "StyleView",
            "description_width": ""
          }
        },
        "45d4de8e0ffe468b9d734cf8f8930c93": {
          "model_module": "@jupyter-widgets/base",
          "model_name": "LayoutModel",
          "model_module_version": "1.2.0",
          "state": {
            "_model_module": "@jupyter-widgets/base",
            "_model_module_version": "1.2.0",
            "_model_name": "LayoutModel",
            "_view_count": null,
            "_view_module": "@jupyter-widgets/base",
            "_view_module_version": "1.2.0",
            "_view_name": "LayoutView",
            "align_content": null,
            "align_items": null,
            "align_self": null,
            "border": null,
            "bottom": null,
            "display": "none",
            "flex": null,
            "flex_flow": null,
            "grid_area": null,
            "grid_auto_columns": null,
            "grid_auto_flow": null,
            "grid_auto_rows": null,
            "grid_column": null,
            "grid_gap": null,
            "grid_row": null,
            "grid_template_areas": null,
            "grid_template_columns": null,
            "grid_template_rows": null,
            "height": null,
            "justify_content": null,
            "justify_items": null,
            "left": null,
            "margin": null,
            "max_height": null,
            "max_width": null,
            "min_height": null,
            "min_width": null,
            "object_fit": null,
            "object_position": null,
            "order": null,
            "overflow": null,
            "overflow_x": null,
            "overflow_y": null,
            "padding": null,
            "right": null,
            "top": null,
            "visibility": null,
            "width": "max-content"
          }
        },
        "cc17a83c29e0490f8086437eb55e1dc4": {
          "model_module": "@jupyter-widgets/controls",
          "model_name": "DescriptionStyleModel",
          "model_module_version": "1.5.0",
          "state": {
            "_model_module": "@jupyter-widgets/controls",
            "_model_module_version": "1.5.0",
            "_model_name": "DescriptionStyleModel",
            "_view_count": null,
            "_view_module": "@jupyter-widgets/base",
            "_view_module_version": "1.2.0",
            "_view_name": "StyleView",
            "description_width": "initial"
          }
        },
        "592ea1fedcdf415da0897cf55c2561b7": {
          "model_module": "@jupyter-widgets/controls",
          "model_name": "HBoxModel",
          "model_module_version": "1.5.0",
          "state": {
            "_dom_classes": [],
            "_model_module": "@jupyter-widgets/controls",
            "_model_module_version": "1.5.0",
            "_model_name": "HBoxModel",
            "_view_count": null,
            "_view_module": "@jupyter-widgets/controls",
            "_view_module_version": "1.5.0",
            "_view_name": "HBoxView",
            "box_style": "",
            "children": [
              "IPY_MODEL_0412d791da5d42fe9079598d08f5a5dd",
              "IPY_MODEL_e5040fdd441f494f86071a4e77cabcff"
            ],
            "layout": "IPY_MODEL_7f00c0da25ba41a8a96e590c9d1cc933"
          }
        },
        "0412d791da5d42fe9079598d08f5a5dd": {
          "model_module": "@jupyter-widgets/controls",
          "model_name": "CheckboxModel",
          "model_module_version": "1.5.0",
          "state": {
            "_dom_classes": [],
            "_model_module": "@jupyter-widgets/controls",
            "_model_module_version": "1.5.0",
            "_model_name": "CheckboxModel",
            "_view_count": null,
            "_view_module": "@jupyter-widgets/controls",
            "_view_module_version": "1.5.0",
            "_view_name": "CheckboxView",
            "description": "is_student",
            "description_tooltip": null,
            "disabled": false,
            "indent": true,
            "layout": "IPY_MODEL_8495f95da52346d5966c33667981e54f",
            "style": "IPY_MODEL_738e1db9ce1247b096ade1b501428610",
            "value": false
          }
        },
        "e5040fdd441f494f86071a4e77cabcff": {
          "model_module": "@jupyter-widgets/controls",
          "model_name": "RadioButtonsModel",
          "model_module_version": "1.5.0",
          "state": {
            "_dom_classes": [],
            "_model_module": "@jupyter-widgets/controls",
            "_model_module_version": "1.5.0",
            "_model_name": "RadioButtonsModel",
            "_options_labels": [
              "No",
              "Yes"
            ],
            "_view_count": null,
            "_view_module": "@jupyter-widgets/controls",
            "_view_module_version": "1.5.0",
            "_view_name": "RadioButtonsView",
            "description": "Is this variable Categorical?",
            "description_tooltip": null,
            "disabled": false,
            "index": 0,
            "layout": "IPY_MODEL_cbcb244264f040bb9ea3964bc2c76840",
            "style": "IPY_MODEL_b289b25a555846079f2b91688f7f73f4"
          }
        },
        "7f00c0da25ba41a8a96e590c9d1cc933": {
          "model_module": "@jupyter-widgets/base",
          "model_name": "LayoutModel",
          "model_module_version": "1.2.0",
          "state": {
            "_model_module": "@jupyter-widgets/base",
            "_model_module_version": "1.2.0",
            "_model_name": "LayoutModel",
            "_view_count": null,
            "_view_module": "@jupyter-widgets/base",
            "_view_module_version": "1.2.0",
            "_view_name": "LayoutView",
            "align_content": null,
            "align_items": null,
            "align_self": null,
            "border": null,
            "bottom": null,
            "display": null,
            "flex": null,
            "flex_flow": null,
            "grid_area": null,
            "grid_auto_columns": null,
            "grid_auto_flow": null,
            "grid_auto_rows": null,
            "grid_column": null,
            "grid_gap": null,
            "grid_row": null,
            "grid_template_areas": null,
            "grid_template_columns": null,
            "grid_template_rows": null,
            "height": null,
            "justify_content": null,
            "justify_items": null,
            "left": null,
            "margin": null,
            "max_height": null,
            "max_width": null,
            "min_height": null,
            "min_width": null,
            "object_fit": null,
            "object_position": null,
            "order": null,
            "overflow": null,
            "overflow_x": null,
            "overflow_y": null,
            "padding": null,
            "right": null,
            "top": null,
            "visibility": null,
            "width": null
          }
        },
        "8495f95da52346d5966c33667981e54f": {
          "model_module": "@jupyter-widgets/base",
          "model_name": "LayoutModel",
          "model_module_version": "1.2.0",
          "state": {
            "_model_module": "@jupyter-widgets/base",
            "_model_module_version": "1.2.0",
            "_model_name": "LayoutModel",
            "_view_count": null,
            "_view_module": "@jupyter-widgets/base",
            "_view_module_version": "1.2.0",
            "_view_name": "LayoutView",
            "align_content": null,
            "align_items": null,
            "align_self": null,
            "border": null,
            "bottom": null,
            "display": null,
            "flex": null,
            "flex_flow": null,
            "grid_area": null,
            "grid_auto_columns": null,
            "grid_auto_flow": null,
            "grid_auto_rows": null,
            "grid_column": null,
            "grid_gap": null,
            "grid_row": null,
            "grid_template_areas": null,
            "grid_template_columns": null,
            "grid_template_rows": null,
            "height": null,
            "justify_content": null,
            "justify_items": null,
            "left": null,
            "margin": null,
            "max_height": null,
            "max_width": null,
            "min_height": null,
            "min_width": null,
            "object_fit": null,
            "object_position": null,
            "order": null,
            "overflow": null,
            "overflow_x": null,
            "overflow_y": null,
            "padding": null,
            "right": null,
            "top": null,
            "visibility": null,
            "width": null
          }
        },
        "738e1db9ce1247b096ade1b501428610": {
          "model_module": "@jupyter-widgets/controls",
          "model_name": "DescriptionStyleModel",
          "model_module_version": "1.5.0",
          "state": {
            "_model_module": "@jupyter-widgets/controls",
            "_model_module_version": "1.5.0",
            "_model_name": "DescriptionStyleModel",
            "_view_count": null,
            "_view_module": "@jupyter-widgets/base",
            "_view_module_version": "1.2.0",
            "_view_name": "StyleView",
            "description_width": ""
          }
        },
        "cbcb244264f040bb9ea3964bc2c76840": {
          "model_module": "@jupyter-widgets/base",
          "model_name": "LayoutModel",
          "model_module_version": "1.2.0",
          "state": {
            "_model_module": "@jupyter-widgets/base",
            "_model_module_version": "1.2.0",
            "_model_name": "LayoutModel",
            "_view_count": null,
            "_view_module": "@jupyter-widgets/base",
            "_view_module_version": "1.2.0",
            "_view_name": "LayoutView",
            "align_content": null,
            "align_items": null,
            "align_self": null,
            "border": null,
            "bottom": null,
            "display": "none",
            "flex": null,
            "flex_flow": null,
            "grid_area": null,
            "grid_auto_columns": null,
            "grid_auto_flow": null,
            "grid_auto_rows": null,
            "grid_column": null,
            "grid_gap": null,
            "grid_row": null,
            "grid_template_areas": null,
            "grid_template_columns": null,
            "grid_template_rows": null,
            "height": null,
            "justify_content": null,
            "justify_items": null,
            "left": null,
            "margin": null,
            "max_height": null,
            "max_width": null,
            "min_height": null,
            "min_width": null,
            "object_fit": null,
            "object_position": null,
            "order": null,
            "overflow": null,
            "overflow_x": null,
            "overflow_y": null,
            "padding": null,
            "right": null,
            "top": null,
            "visibility": null,
            "width": "max-content"
          }
        },
        "b289b25a555846079f2b91688f7f73f4": {
          "model_module": "@jupyter-widgets/controls",
          "model_name": "DescriptionStyleModel",
          "model_module_version": "1.5.0",
          "state": {
            "_model_module": "@jupyter-widgets/controls",
            "_model_module_version": "1.5.0",
            "_model_name": "DescriptionStyleModel",
            "_view_count": null,
            "_view_module": "@jupyter-widgets/base",
            "_view_module_version": "1.2.0",
            "_view_name": "StyleView",
            "description_width": "initial"
          }
        },
        "43d3699dda974bd681deb5a548beedf1": {
          "model_module": "@jupyter-widgets/controls",
          "model_name": "LabelModel",
          "model_module_version": "1.5.0",
          "state": {
            "_dom_classes": [],
            "_model_module": "@jupyter-widgets/controls",
            "_model_module_version": "1.5.0",
            "_model_name": "LabelModel",
            "_view_count": null,
            "_view_module": "@jupyter-widgets/controls",
            "_view_module_version": "1.5.0",
            "_view_name": "LabelView",
            "description": "",
            "description_tooltip": null,
            "layout": "IPY_MODEL_5ea0b2fa4b36478aac040f3768a7b42b",
            "placeholder": "​",
            "style": "IPY_MODEL_64d58545d2e4402ab7ec731021a11c58",
            "value": "Make Wordclouds:"
          }
        },
        "5ea0b2fa4b36478aac040f3768a7b42b": {
          "model_module": "@jupyter-widgets/base",
          "model_name": "LayoutModel",
          "model_module_version": "1.2.0",
          "state": {
            "_model_module": "@jupyter-widgets/base",
            "_model_module_version": "1.2.0",
            "_model_name": "LayoutModel",
            "_view_count": null,
            "_view_module": "@jupyter-widgets/base",
            "_view_module_version": "1.2.0",
            "_view_name": "LayoutView",
            "align_content": null,
            "align_items": null,
            "align_self": null,
            "border": null,
            "bottom": null,
            "display": null,
            "flex": null,
            "flex_flow": null,
            "grid_area": null,
            "grid_auto_columns": null,
            "grid_auto_flow": null,
            "grid_auto_rows": null,
            "grid_column": null,
            "grid_gap": null,
            "grid_row": null,
            "grid_template_areas": null,
            "grid_template_columns": null,
            "grid_template_rows": null,
            "height": null,
            "justify_content": null,
            "justify_items": null,
            "left": null,
            "margin": null,
            "max_height": null,
            "max_width": null,
            "min_height": null,
            "min_width": null,
            "object_fit": null,
            "object_position": null,
            "order": null,
            "overflow": null,
            "overflow_x": null,
            "overflow_y": null,
            "padding": null,
            "right": null,
            "top": null,
            "visibility": null,
            "width": null
          }
        },
        "64d58545d2e4402ab7ec731021a11c58": {
          "model_module": "@jupyter-widgets/controls",
          "model_name": "DescriptionStyleModel",
          "model_module_version": "1.5.0",
          "state": {
            "_model_module": "@jupyter-widgets/controls",
            "_model_module_version": "1.5.0",
            "_model_name": "DescriptionStyleModel",
            "_view_count": null,
            "_view_module": "@jupyter-widgets/base",
            "_view_module_version": "1.2.0",
            "_view_name": "StyleView",
            "description_width": ""
          }
        },
        "0cb35f1a8a3c4d31885740788232f506": {
          "model_module": "@jupyter-widgets/controls",
          "model_name": "CheckboxModel",
          "model_module_version": "1.5.0",
          "state": {
            "_dom_classes": [],
            "_model_module": "@jupyter-widgets/controls",
            "_model_module_version": "1.5.0",
            "_model_name": "CheckboxModel",
            "_view_count": null,
            "_view_module": "@jupyter-widgets/controls",
            "_view_module_version": "1.5.0",
            "_view_name": "CheckboxView",
            "description": "Enable Wordclouds",
            "description_tooltip": null,
            "disabled": false,
            "indent": true,
            "layout": "IPY_MODEL_8ebe4b07175246ee80646b5dd036e993",
            "style": "IPY_MODEL_6ef7601e45264990ad3abf5185617750",
            "value": true
          }
        },
        "8ebe4b07175246ee80646b5dd036e993": {
          "model_module": "@jupyter-widgets/base",
          "model_name": "LayoutModel",
          "model_module_version": "1.2.0",
          "state": {
            "_model_module": "@jupyter-widgets/base",
            "_model_module_version": "1.2.0",
            "_model_name": "LayoutModel",
            "_view_count": null,
            "_view_module": "@jupyter-widgets/base",
            "_view_module_version": "1.2.0",
            "_view_name": "LayoutView",
            "align_content": null,
            "align_items": null,
            "align_self": null,
            "border": null,
            "bottom": null,
            "display": null,
            "flex": null,
            "flex_flow": null,
            "grid_area": null,
            "grid_auto_columns": null,
            "grid_auto_flow": null,
            "grid_auto_rows": null,
            "grid_column": null,
            "grid_gap": null,
            "grid_row": null,
            "grid_template_areas": null,
            "grid_template_columns": null,
            "grid_template_rows": null,
            "height": null,
            "justify_content": null,
            "justify_items": null,
            "left": null,
            "margin": null,
            "max_height": null,
            "max_width": null,
            "min_height": null,
            "min_width": null,
            "object_fit": null,
            "object_position": null,
            "order": null,
            "overflow": null,
            "overflow_x": null,
            "overflow_y": null,
            "padding": null,
            "right": null,
            "top": null,
            "visibility": null,
            "width": null
          }
        },
        "6ef7601e45264990ad3abf5185617750": {
          "model_module": "@jupyter-widgets/controls",
          "model_name": "DescriptionStyleModel",
          "model_module_version": "1.5.0",
          "state": {
            "_model_module": "@jupyter-widgets/controls",
            "_model_module_version": "1.5.0",
            "_model_name": "DescriptionStyleModel",
            "_view_count": null,
            "_view_module": "@jupyter-widgets/base",
            "_view_module_version": "1.2.0",
            "_view_name": "StyleView",
            "description_width": ""
          }
        },
        "461bbbdfc01a41a2a8401671c68a61bd": {
          "model_module": "@jupyter-widgets/controls",
          "model_name": "ButtonModel",
          "model_module_version": "1.5.0",
          "state": {
            "_dom_classes": [],
            "_model_module": "@jupyter-widgets/controls",
            "_model_module_version": "1.5.0",
            "_model_name": "ButtonModel",
            "_view_count": null,
            "_view_module": "@jupyter-widgets/controls",
            "_view_module_version": "1.5.0",
            "_view_name": "ButtonView",
            "button_style": "",
            "description": "Submit",
            "disabled": false,
            "icon": "",
            "layout": "IPY_MODEL_df257b0ff0264ccaa0a5e97f24448c65",
            "style": "IPY_MODEL_8153a1fa38104adcac0ee7f8b09fd5c9",
            "tooltip": ""
          }
        },
        "df257b0ff0264ccaa0a5e97f24448c65": {
          "model_module": "@jupyter-widgets/base",
          "model_name": "LayoutModel",
          "model_module_version": "1.2.0",
          "state": {
            "_model_module": "@jupyter-widgets/base",
            "_model_module_version": "1.2.0",
            "_model_name": "LayoutModel",
            "_view_count": null,
            "_view_module": "@jupyter-widgets/base",
            "_view_module_version": "1.2.0",
            "_view_name": "LayoutView",
            "align_content": null,
            "align_items": null,
            "align_self": null,
            "border": null,
            "bottom": null,
            "display": null,
            "flex": null,
            "flex_flow": null,
            "grid_area": null,
            "grid_auto_columns": null,
            "grid_auto_flow": null,
            "grid_auto_rows": null,
            "grid_column": null,
            "grid_gap": null,
            "grid_row": null,
            "grid_template_areas": null,
            "grid_template_columns": null,
            "grid_template_rows": null,
            "height": null,
            "justify_content": null,
            "justify_items": null,
            "left": null,
            "margin": null,
            "max_height": null,
            "max_width": null,
            "min_height": null,
            "min_width": null,
            "object_fit": null,
            "object_position": null,
            "order": null,
            "overflow": null,
            "overflow_x": null,
            "overflow_y": null,
            "padding": null,
            "right": null,
            "top": null,
            "visibility": null,
            "width": null
          }
        },
        "8153a1fa38104adcac0ee7f8b09fd5c9": {
          "model_module": "@jupyter-widgets/controls",
          "model_name": "ButtonStyleModel",
          "model_module_version": "1.5.0",
          "state": {
            "_model_module": "@jupyter-widgets/controls",
            "_model_module_version": "1.5.0",
            "_model_name": "ButtonStyleModel",
            "_view_count": null,
            "_view_module": "@jupyter-widgets/base",
            "_view_module_version": "1.2.0",
            "_view_name": "StyleView",
            "button_color": null,
            "font_weight": ""
          }
        }
      }
    }
  },
  "nbformat": 4,
  "nbformat_minor": 0
}