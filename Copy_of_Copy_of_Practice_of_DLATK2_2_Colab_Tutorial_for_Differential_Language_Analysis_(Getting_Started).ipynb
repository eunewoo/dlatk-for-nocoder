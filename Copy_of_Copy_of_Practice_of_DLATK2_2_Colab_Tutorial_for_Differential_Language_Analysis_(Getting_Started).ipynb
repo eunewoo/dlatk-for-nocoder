{
  "cells": [
    {
      "cell_type": "markdown",
      "metadata": {
        "id": "view-in-github",
        "colab_type": "text"
      },
      "source": [
        "<a href=\"https://colab.research.google.com/github/eunewoo/dlatk-for-nocoder/blob/main/Copy_of_Copy_of_Practice_of_DLATK2_2_Colab_Tutorial_for_Differential_Language_Analysis_(Getting_Started).ipynb\" target=\"_parent\"><img src=\"https://colab.research.google.com/assets/colab-badge.svg\" alt=\"Open In Colab\"/></a>"
      ]
    },
    {
      "cell_type": "markdown",
      "metadata": {
        "id": "0Jf8iKr5C_nO"
      },
      "source": [
        "<h1> DLATK - Colab Tutorial for Differential Language Analysis </h1>\n",
        "\n",
        "This tutorial covers:\n",
        "\n",
        "<img src=\"https://drive.google.com/uc?export=view&id=16SgSLj9KkmxUX8LEeFNsq0GRE4gqvQux\" height=\"170\"/>"
      ]
    },
    {
      "cell_type": "markdown",
      "metadata": {
        "id": "-TnZ_cBOTGBZ"
      },
      "source": [
        "# STEP1: Setup Colab\n"
      ]
    },
    {
      "cell_type": "code",
      "source": [
        "#@markdown Click the __Play button__ to the left to start the setup. Proceed to the next stage once you see:\n",
        "\n",
        "#@markdown \"DLATK setup completed successfully. Enjoy your analysis!\"\n",
        "\n",
        "from IPython.utils import io\n",
        "import subprocess\n",
        "\n",
        "# Additional components to allow continuation into text and ID column selection and feature extraction\n",
        "text_column_name = None\n",
        "id_column_name = None\n",
        "\n",
        "def setup_dlatk():\n",
        "    # Install DLATK with additional features\n",
        "    subprocess.run(\"pip install dlatk[wordcloud,langid]\", shell=True)\n",
        "\n",
        "    # Initialize DLATK for Colab environment\n",
        "    result = subprocess.run(\"dlatkInterface.py --colabify\", shell=True, capture_output=True, text=True)\n",
        "\n",
        "    # Optional: Adjust Colab output for a better experience\n",
        "    try:\n",
        "        from dlatk.tools.colab_methods import colab_shorten_and_bg\n",
        "        colab_shorten_and_bg()  # This shortens output blocks and changes the output background color.\n",
        "    except ImportError as e:\n",
        "        print(\"Some optional setup steps failed:\", e)\n",
        "\n",
        "    return result.stdout + '\\n' + result.stderr\n",
        "\n",
        "# Suppressing the output of the main installation and setup commands\n",
        "with io.capture_output() as captured:\n",
        "    setup_output = setup_dlatk()\n",
        "\n",
        "# Check the captured output for a specific success message\n",
        "if 'DLATK exits with success! A good day indeed' in setup_output:\n",
        "    print(\"DLATK setup completed successfully. Enjoy your analysis!\")\n",
        "else:\n",
        "    print(\"DLATK setup may have encountered issues. Please check the logs for more details.\")\n"
      ],
      "metadata": {
        "id": "a2iGmGWKdcO5",
        "outputId": "398cd8dc-4aed-471f-b44b-4001c9efd9c6",
        "colab": {
          "base_uri": "https://localhost:8080/"
        },
        "cellView": "form"
      },
      "execution_count": 2,
      "outputs": [
        {
          "output_type": "stream",
          "name": "stdout",
          "text": [
            "DLATK setup completed successfully. Enjoy your analysis!\n"
          ]
        }
      ]
    },
    {
      "cell_type": "code",
      "source": [
        "import re\n",
        "from google.colab import files\n",
        "import os\n",
        "import csv\n",
        "\n",
        "#@title Upload text data\n",
        "#@markdown ### Select text Dataset or Upload from Desktop\n",
        "#@markdown Choose a text dataset from the dropdown, or select \"Upload from desktop\" to upload your own file.\n",
        "\n",
        "#@markdown After making your selection, click the __play button__ at the top left to proceed.\n",
        "\n",
        "text_filename = \"msgs404u.csv\" #@param [\"Upload from desktop\", \"msgs404u.csv\"]\n",
        "\n",
        "#@markdown If \"Upload from desktop\" is selected, then click the __\"Choose Files\"__ button at the bottom to upload your file.\n",
        "\n",
        "def sanitize_file_name(file_name):\n",
        "    base_file_name = re.sub(r\" \\(\\d+\\)\", \"\", file_name)\n",
        "    if not base_file_name.endswith('.csv'):\n",
        "        base_file_name += '.csv'\n",
        "    return base_file_name\n",
        "\n",
        "# def add_message_id_if_missing(file_path):\n",
        "#     headers_changed = False\n",
        "#     with open(file_path, mode='r', encoding='utf-8') as file:\n",
        "#         reader = csv.reader(file)\n",
        "#         headers = next(reader, None)\n",
        "\n",
        "#         if headers and 'message_id' not in headers:\n",
        "#             headers_changed = True\n",
        "#             new_rows = [['message_id'] + headers]\n",
        "#             new_rows += [[str(i+1)] + row for i, row in enumerate(reader)]\n",
        "\n",
        "#     if headers_changed:\n",
        "#         with open(file_path, mode='w', encoding='utf-8', newline='') as file:\n",
        "#             writer = csv.writer(file)\n",
        "#             writer.writerows(new_rows)\n",
        "#         print(\"Added 'message_id' column and saved changes.\")\n",
        "#     else:\n",
        "#         print(\"'message_id' column already exists.\")\n",
        "\n",
        "    #return new_rows\n",
        "\n",
        "if text_filename != \"Upload from desktop\":\n",
        "    file_name = sanitize_file_name(text_filename)\n",
        "    file_path = os.path.join(\"/content\", file_name)\n",
        "    print(f'Text file selected: {file_name}')\n",
        "else:\n",
        "    print(\"Please upload a file from the desktop.\")\n",
        "    uploaded_files = files.upload()\n",
        "    if uploaded_files:\n",
        "        file_name = next(iter(uploaded_files))\n",
        "        file_name = sanitize_file_name(file_name)\n",
        "        file_path = os.path.join(\"/content\", file_name)\n",
        "        #headers = add_message_id_if_missing(file_path)\n",
        "        # add_message_id_if_missing(file_path)\n",
        "        print(f'Uploaded file name: {file_name}')\n",
        "    else:\n",
        "        print(\"No file uploaded. Please upload a file to proceed.\")\n",
        "\n",
        "if os.path.exists(file_path):\n",
        "    print(f'File ready for use: {file_path}')\n",
        "else:\n",
        "    print(\"File not found. Please ensure the file exists and try again.\")\n"
      ],
      "metadata": {
        "colab": {
          "base_uri": "https://localhost:8080/",
          "height": 53
        },
        "cellView": "form",
        "id": "po89ik6HURny",
        "outputId": "dc1ca98d-e0f0-4881-a8af-dde720aea8a6"
      },
      "execution_count": 3,
      "outputs": [
        {
          "output_type": "display_data",
          "data": {
            "text/plain": [
              "<IPython.core.display.Javascript object>"
            ],
            "application/javascript": [
              "google.colab.output.setIframeHeight(0, true, {maxHeight: 250})"
            ]
          },
          "metadata": {}
        },
        {
          "output_type": "display_data",
          "data": {
            "text/plain": [
              "<IPython.core.display.HTML object>"
            ],
            "text/html": [
              "<style> body {background-color: rgb(255, 250, 232);}</style>"
            ]
          },
          "metadata": {}
        },
        {
          "output_type": "stream",
          "name": "stdout",
          "text": [
            "Text file selected: msgs404u.csv\n",
            "File ready for use: /content/msgs404u.csv\n"
          ]
        }
      ]
    },
    {
      "cell_type": "markdown",
      "source": [
        "<a name=\"data\"></a>\n",
        "# STEP2: Upload text data & Select text column"
      ],
      "metadata": {
        "id": "36sjhFU1RGZF"
      }
    },
    {
      "cell_type": "markdown",
      "source": [
        "DLATK uses data in CSV (comma-seprated value) format. Your csv needs at least two columns:\n",
        "* **`message`**: contains the text to be analyzed.\n",
        "* **`user_id`**: contains a user id for each message.\n",
        "\n",
        "<br />\n",
        "\n",
        "The CSV may also have other columns, including other ids you may wish to analyze your data by (e.g. `message_id`). For example,\n",
        "\n",
        "|message_id|message|user_id|created_date|\n",
        "|----------|-------|-------|------------|\n",
        "|17557|urlLink Ananova - New rules on pizza to be introduced|1405024|2004-05-27|\n",
        "|15996|I just read John Kerry's nomination acceptance speech. Christ, he can talk.  God bless America.|3523319|2004-07-29|\n",
        "|27462| Talk about 'better late than never'...   urlLink  Couple Living Together 77 Years Marries   .   Thanks to  urlLink  Zorak  for the link.|942828|2003-04-04|\n",
        "\n",
        "<br />\n",
        "<br />\n",
        "\n",
        "\n",
        "\n",
        "* `Upload from desktop` - your csv data that you want to analyze.\n",
        "* `msgs404u.csv` - sample language data from 404 blog authors.\n",
        "<!-- * `msgs100u.csv` - sample language data from 100 blog authors. -->\n",
        "\n",
        "<br />"
      ],
      "metadata": {
        "id": "K0ya5V1JTZxO"
      }
    },
    {
      "cell_type": "code",
      "source": [
        "#@title Select Text Column (unit of analysis)\n",
        "\n",
        "#@markdown Click the __play button__ at the top left to view the dropdown menu.\n",
        "\n",
        "#@markdown __Select__ the Text Column you wish to analyze, then click the \"Run Command\" button.\n",
        "\n",
        "import csv\n",
        "import ipywidgets as widgets\n",
        "from IPython.display import display, clear_output\n",
        "\n",
        "def get_available_columns(file_path):\n",
        "    \"\"\"Read the first row of the CSV file to get the column names.\"\"\"\n",
        "    with open(file_path, mode='r', encoding='utf-8') as file:\n",
        "        reader = csv.reader(file)\n",
        "        headers = next(reader, None)\n",
        "    return headers\n",
        "\n",
        "available_columns = get_available_columns(file_path)\n",
        "\n",
        "text_column_options = [col for col in available_columns if col != \"user\" and not col.endswith(\"_id\")]\n",
        "text_column_dropdown = widgets.Dropdown(options=text_column_options, description='Text Column:')\n",
        "text_confirm_button = widgets.Button(description=\"Confirm Text Column\")\n",
        "output = widgets.Output()\n",
        "\n",
        "def on_text_confirm_button_clicked(b):\n",
        "    global text_column_name\n",
        "    text_column_name = text_column_dropdown.value\n",
        "    with output:\n",
        "        clear_output()\n",
        "        print(f'Text Column confirmed: {text_column_name}')\n",
        "        # Now you should run the next code block to select the ID column\n",
        "\n",
        "text_confirm_button.on_click(on_text_confirm_button_clicked)\n",
        "display(text_column_dropdown, text_confirm_button, output)\n"
      ],
      "metadata": {
        "colab": {
          "base_uri": "https://localhost:8080/",
          "height": 99,
          "referenced_widgets": [
            "41893cfef5d5484d84d874e9d2553a79",
            "98f3c1b636f84af0b69dabb0d408c3b7",
            "2f3542fefa694f50acd070d0734ec93a",
            "8dd8739e16df455b877f7715bb42336e",
            "8f4a8bc02d26473496f1a30e247dc089",
            "2620491828394fe08e117c8396674cb7",
            "dd5e28b241984931b74d81a13d10fdb8",
            "f47e0d7aadb34f4dab4b6c00db35abb1"
          ]
        },
        "id": "1JDrQ2WK2pTV",
        "outputId": "661f8b24-9f91-40e6-f5c8-b4b8f17ec44d",
        "cellView": "form"
      },
      "execution_count": 19,
      "outputs": [
        {
          "output_type": "display_data",
          "data": {
            "text/plain": [
              "<IPython.core.display.Javascript object>"
            ],
            "application/javascript": [
              "google.colab.output.setIframeHeight(0, true, {maxHeight: 250})"
            ]
          },
          "metadata": {}
        },
        {
          "output_type": "display_data",
          "data": {
            "text/plain": [
              "<IPython.core.display.HTML object>"
            ],
            "text/html": [
              "<style> body {background-color: rgb(255, 250, 232);}</style>"
            ]
          },
          "metadata": {}
        },
        {
          "output_type": "display_data",
          "data": {
            "text/plain": [
              "<IPython.core.display.Javascript object>"
            ],
            "application/javascript": [
              "google.colab.output.setIframeHeight(0, true, {maxHeight: 250})"
            ]
          },
          "metadata": {}
        },
        {
          "output_type": "display_data",
          "data": {
            "text/plain": [
              "<IPython.core.display.HTML object>"
            ],
            "text/html": [
              "<style> body {background-color: rgb(255, 250, 232);}</style>"
            ]
          },
          "metadata": {}
        },
        {
          "output_type": "display_data",
          "data": {
            "text/plain": [
              "<IPython.core.display.Javascript object>"
            ],
            "application/javascript": [
              "google.colab.output.setIframeHeight(0, true, {maxHeight: 250})"
            ]
          },
          "metadata": {}
        },
        {
          "output_type": "display_data",
          "data": {
            "text/plain": [
              "<IPython.core.display.HTML object>"
            ],
            "text/html": [
              "<style> body {background-color: rgb(255, 250, 232);}</style>"
            ]
          },
          "metadata": {}
        },
        {
          "output_type": "display_data",
          "data": {
            "text/plain": [
              "Dropdown(description='Text Column:', options=('created_date', 'message'), value='created_date')"
            ],
            "application/vnd.jupyter.widget-view+json": {
              "version_major": 2,
              "version_minor": 0,
              "model_id": "41893cfef5d5484d84d874e9d2553a79"
            }
          },
          "metadata": {}
        },
        {
          "output_type": "display_data",
          "data": {
            "text/plain": [
              "Button(description='Confirm Text Column', style=ButtonStyle())"
            ],
            "application/vnd.jupyter.widget-view+json": {
              "version_major": 2,
              "version_minor": 0,
              "model_id": "8dd8739e16df455b877f7715bb42336e"
            }
          },
          "metadata": {}
        },
        {
          "output_type": "display_data",
          "data": {
            "text/plain": [
              "Output()"
            ],
            "application/vnd.jupyter.widget-view+json": {
              "version_major": 2,
              "version_minor": 0,
              "model_id": "dd5e28b241984931b74d81a13d10fdb8"
            }
          },
          "metadata": {}
        }
      ]
    },
    {
      "cell_type": "code",
      "source": [
        "#@title Select ID Column (unit of analysis)\n",
        "\n",
        "#@markdown Click the __play button__ at the top left to view the dropdown menu.\n",
        "\n",
        "#@markdown __Select__ the ID Column you wish to analyze, then click the \"Confirm ID Column\" button.\n",
        "\n",
        "import csv\n",
        "import ipywidgets as widgets\n",
        "from IPython.display import display, clear_output\n",
        "\n",
        "# Assuming 'file_path' is defined and accessible\n",
        "# Assuming 'text_column_name' is defined and accessible (selected from Code A)\n",
        "\n",
        "def get_available_columns(file_path):\n",
        "    \"\"\"Read the first row of the CSV file to get the column names.\"\"\"\n",
        "    with open(file_path, mode='r', encoding='utf-8') as file:\n",
        "        reader = csv.reader(file)\n",
        "        headers = next(reader, None)\n",
        "    return headers\n",
        "\n",
        "def add_id_column_if_missing(file_path, column_name):\n",
        "    \"\"\"Adds an ID column if it's missing, appending numbers from 1 upwards to the end of each row.\"\"\"\n",
        "    with open(file_path, mode='r', encoding='utf-8') as file:\n",
        "        reader = list(csv.reader(file))\n",
        "        headers = reader[0]\n",
        "        column_id_name = column_name + '_id'\n",
        "        if column_id_name not in headers:\n",
        "            headers.append(column_id_name)  # Append the new ID column name to the headers\n",
        "            for i, row in enumerate(reader[1:], start=1):  # Start from 1 to skip header row\n",
        "                row.append(str(i))  # Append the new ID value at the end of each row\n",
        "            with open(file_path, mode='w', encoding='utf-8', newline='') as wfile:\n",
        "                writer = csv.writer(wfile)\n",
        "                writer.writerow(headers)  # Write the updated headers\n",
        "                writer.writerows(reader[1:])  # Write the updated data rows, excluding the original headers\n",
        "            print(f\"Added '{column_id_name}' column and saved changes.\")\n",
        "            return True\n",
        "    return False\n",
        "\n",
        "# Attempt to add an ID column if missing\n",
        "add_id_column_if_missing(file_path, text_column_name)\n",
        "\n",
        "# Refresh available columns to include potential new ID column\n",
        "available_columns = get_available_columns(file_path)\n",
        "\n",
        "# Include all columns ending with \"_id\" and the new ID column related to the selected text column\n",
        "id_column_options = [col for col in available_columns if col.endswith(\"_id\")]\n",
        "\n",
        "id_column_dropdown = widgets.Dropdown(options=id_column_options, description='ID Column:', value=None)\n",
        "id_confirm_button = widgets.Button(description=\"Confirm ID Column\")\n",
        "output = widgets.Output()\n",
        "\n",
        "def on_id_confirm_button_clicked(b):\n",
        "    global id_column_name\n",
        "    id_column_name = id_column_dropdown.value\n",
        "    with output:\n",
        "        clear_output()\n",
        "        print(f'ID Column confirmed: {id_column_name}')\n",
        "\n",
        "id_confirm_button.on_click(on_id_confirm_button_clicked)\n",
        "display(id_column_dropdown, id_confirm_button, output)\n"
      ],
      "metadata": {
        "colab": {
          "base_uri": "https://localhost:8080/",
          "height": 99,
          "referenced_widgets": [
            "45aab5b2f890418f92e2455901a54bf7",
            "a0345fb3649f44c0b29038518c7fe247",
            "f7e3742e591140efabe053a37c00d9b9",
            "467c00271dc7411a9699af4e9d4b51e3",
            "ccc8b393c5d64398bfac3e454bf0b54b",
            "0ea1a7ad2bf34a1aa0498ded26ff946d",
            "3d916fa664864227bd7dae3120f74143",
            "98f9ed25cdd44095a0e8d8dcdf6e477f"
          ]
        },
        "id": "T9OmVmaC4nR7",
        "outputId": "6c248c64-6d8c-4192-b517-6c23ed129605",
        "cellView": "form"
      },
      "execution_count": 20,
      "outputs": [
        {
          "output_type": "display_data",
          "data": {
            "text/plain": [
              "<IPython.core.display.Javascript object>"
            ],
            "application/javascript": [
              "google.colab.output.setIframeHeight(0, true, {maxHeight: 250})"
            ]
          },
          "metadata": {}
        },
        {
          "output_type": "display_data",
          "data": {
            "text/plain": [
              "<IPython.core.display.HTML object>"
            ],
            "text/html": [
              "<style> body {background-color: rgb(255, 250, 232);}</style>"
            ]
          },
          "metadata": {}
        },
        {
          "output_type": "display_data",
          "data": {
            "text/plain": [
              "<IPython.core.display.Javascript object>"
            ],
            "application/javascript": [
              "google.colab.output.setIframeHeight(0, true, {maxHeight: 250})"
            ]
          },
          "metadata": {}
        },
        {
          "output_type": "display_data",
          "data": {
            "text/plain": [
              "<IPython.core.display.HTML object>"
            ],
            "text/html": [
              "<style> body {background-color: rgb(255, 250, 232);}</style>"
            ]
          },
          "metadata": {}
        },
        {
          "output_type": "display_data",
          "data": {
            "text/plain": [
              "<IPython.core.display.Javascript object>"
            ],
            "application/javascript": [
              "google.colab.output.setIframeHeight(0, true, {maxHeight: 250})"
            ]
          },
          "metadata": {}
        },
        {
          "output_type": "display_data",
          "data": {
            "text/plain": [
              "<IPython.core.display.HTML object>"
            ],
            "text/html": [
              "<style> body {background-color: rgb(255, 250, 232);}</style>"
            ]
          },
          "metadata": {}
        },
        {
          "output_type": "display_data",
          "data": {
            "text/plain": [
              "Dropdown(description='ID Column:', options=('message_id', 'user_id'), value=None)"
            ],
            "application/vnd.jupyter.widget-view+json": {
              "version_major": 2,
              "version_minor": 0,
              "model_id": "45aab5b2f890418f92e2455901a54bf7"
            }
          },
          "metadata": {}
        },
        {
          "output_type": "display_data",
          "data": {
            "text/plain": [
              "Button(description='Confirm ID Column', style=ButtonStyle())"
            ],
            "application/vnd.jupyter.widget-view+json": {
              "version_major": 2,
              "version_minor": 0,
              "model_id": "467c00271dc7411a9699af4e9d4b51e3"
            }
          },
          "metadata": {}
        },
        {
          "output_type": "display_data",
          "data": {
            "text/plain": [
              "Output()"
            ],
            "application/vnd.jupyter.widget-view+json": {
              "version_major": 2,
              "version_minor": 0,
              "model_id": "3d916fa664864227bd7dae3120f74143"
            }
          },
          "metadata": {}
        }
      ]
    },
    {
      "cell_type": "markdown",
      "source": [
        "👉 For detailed information about the columns in the `msgs404u.csv` file, as well as their corresponding outcome files `users404.csv`, you can refer to [this link](https://github.com/dlatk/dlatk/blob/public/dlatk/data/colab_dataset.md). This link contains detailed descriptions of what each column in these datasets represents."
      ],
      "metadata": {
        "id": "c41ypjC0I85n"
      }
    },
    {
      "cell_type": "markdown",
      "source": [
        "<a name=\"data\"></a>\n",
        "# STEP3: Select features to extract & Check tables"
      ],
      "metadata": {
        "id": "RC-tXSgWTnB6"
      }
    },
    {
      "cell_type": "code",
      "source": [
        "import subprocess\n",
        "import ipywidgets as widgets\n",
        "from IPython.display import display, clear_output\n",
        "\n",
        "#@title Select features to extract\n",
        "#@markdown Click the __play button__ at the top left to view the dropdown menu.\n",
        "\n",
        "#@markdown __Select__ the features you wish to analyze, then click the \"Run Command\" button.\n",
        "\n",
        "database_name = \"colab_csv\"\n",
        "file_name_without_extension = file_name.rsplit('.', 1)[0]  # Assuming file_name is defined globally\n",
        "\n",
        "# Dropdown for feature generation options\n",
        "feature_options = widgets.Dropdown(\n",
        "    options=['Select option', '1to2grams-filtered', '1to2grams-unfiltered', 'topics'],\n",
        "    value='Select option',\n",
        "    description='Options:',\n",
        ")\n",
        "\n",
        "# Integer input for advanced topic modeling, hidden by default\n",
        "advanced_options = widgets.IntText(\n",
        "    value=100,\n",
        "    description='Group Freq Thresh:',\n",
        "    style={'description_width': 'initial'},\n",
        "    disabled=False,  # Enable by default but hidden\n",
        "    layout={'visibility': 'hidden'}  # Start with hidden layout\n",
        ")\n",
        "\n",
        "# Text area for displaying output\n",
        "output = widgets.Output()\n",
        "run_button = widgets.Button(description=\"Run Command\")\n",
        "\n",
        "def generate_unfiltered_feature_table():\n",
        "    global generated_feature_table_name\n",
        "    combined_feature_table_name = \"1to2gram\"\n",
        "    command = f\"dlatkInterface.py -d {database_name} -t {file_name} -g {id_column_name} \" \\\n",
        "              f\"--message_field {text_column_name} --messageid_field {text_column_name}_id \" \\\n",
        "              f\"--add_ngrams -n 1 2 --combine_feat_tables {combined_feature_table_name}\"\n",
        "    print(f\"Generating unfiltered 1to2grams feature table: {command}\")\n",
        "    subprocess.run(command, shell=True)\n",
        "    generated_feature_table_name = f\"feat${combined_feature_table_name}${file_name_without_extension}${id_column_name}\"\n",
        "    print(f\"Generated feature table: {generated_feature_table_name}\")\n",
        "\n",
        "def execute_feature_command(b):\n",
        "    global generated_feature_table_name\n",
        "    group_freq_thresh = advanced_options.value if feature_options.value == 'topics' else 100\n",
        "\n",
        "    with output:\n",
        "        clear_output()\n",
        "        if feature_options.value == '1to2grams-unfiltered':\n",
        "            generate_unfiltered_feature_table()\n",
        "\n",
        "        elif feature_options.value == '1to2grams-filtered':\n",
        "            combined_feature_table_name = \"1to2gram\"\n",
        "            command = f\"dlatkInterface.py -d {database_name} -t {file_name} -g {id_column_name} \" \\\n",
        "                      f\"--message_field {text_column_name} --messageid_field {text_column_name}_id \" \\\n",
        "                      f\"--add_ngrams -n 1 2 --combine_feat_tables {combined_feature_table_name} \" \\\n",
        "                      f\"--feat_occ_filter --set_p_occ 0.10 --feat_colloc_filter\"\n",
        "            print(f\"Executing: {command}\")\n",
        "            subprocess.run(command, shell=True)\n",
        "            generated_feature_table_name = f\"feat${combined_feature_table_name}${file_name_without_extension}${id_column_name}$0_1$pmi3_0\"\n",
        "            print(f\"Generated feature table: {generated_feature_table_name}\")\n",
        "\n",
        "        elif feature_options.value == 'topics':\n",
        "            lex_table_name = f\"feat$cat_fb2000_cp_w${file_name_without_extension}${id_column_name}$1gra\"\n",
        "            command = f\"dlatkInterface.py -d {database_name} -t {file_name} -g {id_column_name} \" \\\n",
        "                      f\"--message_field {text_column_name} --messageid_field {text_column_name}_id \" \\\n",
        "                      f\"--group_freq_thresh {group_freq_thresh} --add_lex_table -l fb2000_cp --weighted_lexicon\"\n",
        "            print(f\"Executing: {command}\")\n",
        "            subprocess.run(command, shell=True)\n",
        "            print(f\"Generated LDA feature table: {lex_table_name}\")\n",
        "\n",
        "def on_feature_change(change):\n",
        "    if change['new'] == 'topics':\n",
        "        advanced_options.layout.visibility = 'visible'  # Make visible\n",
        "    else:\n",
        "        advanced_options.layout.visibility = 'hidden'  # Hide\n",
        "        advanced_options.value = 100  # Reset to default when not on 'topics'\n",
        "\n",
        "feature_options.observe(on_feature_change, names='value')\n",
        "\n",
        "run_button.on_click(execute_feature_command)\n",
        "display(feature_options, advanced_options, run_button, output)\n"
      ],
      "metadata": {
        "colab": {
          "base_uri": "https://localhost:8080/",
          "height": 165,
          "referenced_widgets": [
            "bb77cbb49f3c4f68bbe4432b6e90a0a2",
            "4498ae1b85784c249851b9e56097f370",
            "6a313b75c2794636adf1062eacf17bf3",
            "bcf706bb8c8e42b2b1c2bed676238c77",
            "2111180f505247829452e7b45cc33a65",
            "66dfd640081f4dd5b87a89177747b9d5",
            "318924394e2c41c98c68774d2c2dd5d4",
            "5ced54772edd40ccba4238a8afd933cc",
            "e5288504a60747c68f7a54af81a67fe7",
            "3dd0cfdff3b94ba49bb9625598187962",
            "14966de1c1164bd585abecd31fd1677b"
          ]
        },
        "id": "iZzIZB-xqRWZ",
        "outputId": "8a1761d6-9425-48a0-c943-31df6eaadd1c",
        "cellView": "form"
      },
      "execution_count": 21,
      "outputs": [
        {
          "output_type": "display_data",
          "data": {
            "text/plain": [
              "<IPython.core.display.Javascript object>"
            ],
            "application/javascript": [
              "google.colab.output.setIframeHeight(0, true, {maxHeight: 250})"
            ]
          },
          "metadata": {}
        },
        {
          "output_type": "display_data",
          "data": {
            "text/plain": [
              "<IPython.core.display.HTML object>"
            ],
            "text/html": [
              "<style> body {background-color: rgb(255, 250, 232);}</style>"
            ]
          },
          "metadata": {}
        },
        {
          "output_type": "display_data",
          "data": {
            "text/plain": [
              "<IPython.core.display.Javascript object>"
            ],
            "application/javascript": [
              "google.colab.output.setIframeHeight(0, true, {maxHeight: 250})"
            ]
          },
          "metadata": {}
        },
        {
          "output_type": "display_data",
          "data": {
            "text/plain": [
              "<IPython.core.display.HTML object>"
            ],
            "text/html": [
              "<style> body {background-color: rgb(255, 250, 232);}</style>"
            ]
          },
          "metadata": {}
        },
        {
          "output_type": "display_data",
          "data": {
            "text/plain": [
              "<IPython.core.display.Javascript object>"
            ],
            "application/javascript": [
              "google.colab.output.setIframeHeight(0, true, {maxHeight: 250})"
            ]
          },
          "metadata": {}
        },
        {
          "output_type": "display_data",
          "data": {
            "text/plain": [
              "<IPython.core.display.HTML object>"
            ],
            "text/html": [
              "<style> body {background-color: rgb(255, 250, 232);}</style>"
            ]
          },
          "metadata": {}
        },
        {
          "output_type": "display_data",
          "data": {
            "text/plain": [
              "Dropdown(description='Options:', options=('Select option', '1to2grams-filtered', '1to2grams-unfiltered', 'topi…"
            ],
            "application/vnd.jupyter.widget-view+json": {
              "version_major": 2,
              "version_minor": 0,
              "model_id": "bb77cbb49f3c4f68bbe4432b6e90a0a2"
            }
          },
          "metadata": {}
        },
        {
          "output_type": "display_data",
          "data": {
            "text/plain": [
              "IntText(value=100, description='Group Freq Thresh:', layout=Layout(visibility='hidden'), style=DescriptionStyl…"
            ],
            "application/vnd.jupyter.widget-view+json": {
              "version_major": 2,
              "version_minor": 0,
              "model_id": "bcf706bb8c8e42b2b1c2bed676238c77"
            }
          },
          "metadata": {}
        },
        {
          "output_type": "display_data",
          "data": {
            "text/plain": [
              "Button(description='Run Command', style=ButtonStyle())"
            ],
            "application/vnd.jupyter.widget-view+json": {
              "version_major": 2,
              "version_minor": 0,
              "model_id": "318924394e2c41c98c68774d2c2dd5d4"
            }
          },
          "metadata": {}
        },
        {
          "output_type": "display_data",
          "data": {
            "text/plain": [
              "Output()"
            ],
            "application/vnd.jupyter.widget-view+json": {
              "version_major": 2,
              "version_minor": 0,
              "model_id": "3dd0cfdff3b94ba49bb9625598187962"
            }
          },
          "metadata": {}
        }
      ]
    },
    {
      "cell_type": "code",
      "source": [
        "#@markdown Test code: Check which tables are formed so far\n",
        "\n",
        "!dlatkInterface.py \\\n",
        "  -d colab_csv -t msgs404u.csv -g message_id \\\n",
        "  --show_feat_tables"
      ],
      "metadata": {
        "colab": {
          "base_uri": "https://localhost:8080/",
          "height": 250
        },
        "id": "fD9-3UViEuli",
        "outputId": "c2a979eb-dab2-43ee-8128-354f751d5922"
      },
      "execution_count": 22,
      "outputs": [
        {
          "output_type": "display_data",
          "data": {
            "text/plain": [
              "<IPython.core.display.Javascript object>"
            ],
            "application/javascript": [
              "google.colab.output.setIframeHeight(0, true, {maxHeight: 250})"
            ]
          },
          "metadata": {}
        },
        {
          "output_type": "display_data",
          "data": {
            "text/plain": [
              "<IPython.core.display.HTML object>"
            ],
            "text/html": [
              "<style> body {background-color: rgb(255, 250, 232);}</style>"
            ]
          },
          "metadata": {}
        },
        {
          "output_type": "stream",
          "name": "stdout",
          "text": [
            "\n",
            "\n",
            "TopicExtractor: gensim Mallet wrapper unavailable, using Mallet directly.\n",
            "\n",
            "-----\n",
            "DLATK Interface Initiated: 2024-05-05 02:33:57\n",
            "-----\n",
            "Connecting to SQLite database: /content/sqlite_data/colab_csv.db\n",
            "\n",
            "Found 3 available tables\n",
            "----\n",
            "feat$cat_fb2000_cp_w$msgs404u$message_id$1gra\n",
            "feat$1gram$msgs404u$message_id\n",
            "feat$meta_1gram$msgs404u$message_id\n",
            "-------\n",
            "Settings:\n",
            "\n",
            "Database - colab_csv\n",
            "Corpus - msgs404u.csv\n",
            "Group ID - message_id\n",
            "-------\n",
            "Interface Runtime: 0.01 seconds\n",
            "DLATK exits with success! A good day indeed  ¯\\_(ツ)_/¯.\n"
          ]
        }
      ]
    },
    {
      "cell_type": "code",
      "source": [
        "import subprocess\n",
        "import ipywidgets as widgets\n",
        "from IPython.display import display, clear_output\n",
        "\n",
        "#@title Feature Tables Management { display-mode: \"form\" }\n",
        "#@markdown **Click the play button** to display feature tables from your previously uploaded file, save your selections, and view a specific table.\n",
        "\n",
        "#@markdown After making a selection, the first 10 rows of the chosen feature table will be displayed within 3 seconds.\n",
        "\n",
        "\n",
        "\n",
        "# Mapping of user-friendly option names to their corresponding command strings\n",
        "feature_table_mapping = {\n",
        "    \"1to2grams-filtered-table\": f\"feat$1to2gram${file_name_without_extension}${id_column_name}$0_1$pmi3_0\",\n",
        "    \"1to2grams-unfiltered-table\": f\"feat$1to2gram${file_name_without_extension}${id_column_name}\",\n",
        "    \"topics-table\": f\"feat$cat_fb2000_cp_w${file_name_without_extension}${id_column_name}$1gra\"  # Adding topics-related feature table option\n",
        "}\n",
        "\n",
        "# Create a dropdown for selecting the feature table using the friendly names\n",
        "dropdown = widgets.Dropdown(\n",
        "    options=[(key, value) for key, value in feature_table_mapping.items()],\n",
        "    description='Select Table:',\n",
        "    style={'description_width': 'initial'}\n",
        ")\n",
        "\n",
        "# Text area for displaying output\n",
        "output_text_area = widgets.Output()\n",
        "\n",
        "# Button to execute the command for the selected feature table\n",
        "run_command_button = widgets.Button(description=\"Run Command\")\n",
        "\n",
        "def run_command(b):\n",
        "    selected_table = dropdown.value  # This gets the actual command string from the mapping\n",
        "    # Surround the selected_table with single quotes for the command\n",
        "    command = f\"dlatkInterface.py -d {database_name} -t {file_name} -g {id_column_name} -f '{selected_table}' --view_tables\"\n",
        "    process = subprocess.run(command, shell=True, capture_output=True, text=True)\n",
        "    with output_text_area:\n",
        "        clear_output(wait=True)  # Optionally clear previous output\n",
        "        if process.stdout:\n",
        "            print(\"Command Output:\\n\", process.stdout)\n",
        "        if process.stderr:\n",
        "            print(\"Command Error:\\n\", process.stderr)\n",
        "\n",
        "# Attach the button click event to the run_command function\n",
        "run_command_button.on_click(run_command)\n",
        "\n",
        "# Display UI components\n",
        "display(dropdown, run_command_button, output_text_area)\n"
      ],
      "metadata": {
        "colab": {
          "base_uri": "https://localhost:8080/",
          "height": 250,
          "referenced_widgets": [
            "dbbebfac56264615b840d2b83c1f9393",
            "01ebdad53ffc4103a3835710b3f01784",
            "ead9971a7fa848bd80be365831dc8013",
            "f5789f3654a7440aa0cfa89270b2dc99",
            "80ded11bed1945eb8af3a7bf6cc3fcab",
            "dd85d47b1e5a4fedb7ef6327537a310b",
            "ac3297a2c7ce4df1adc1fe42cc74d234",
            "61f6498493824a29ac6d200a1d1f6f23"
          ]
        },
        "id": "59hm80PcY4pi",
        "outputId": "8e84a968-9259-4d12-d6bb-a99d258de27b"
      },
      "execution_count": 22,
      "outputs": [
        {
          "output_type": "display_data",
          "data": {
            "text/plain": [
              "<IPython.core.display.Javascript object>"
            ],
            "application/javascript": [
              "google.colab.output.setIframeHeight(0, true, {maxHeight: 250})"
            ]
          },
          "metadata": {}
        },
        {
          "output_type": "display_data",
          "data": {
            "text/plain": [
              "<IPython.core.display.HTML object>"
            ],
            "text/html": [
              "<style> body {background-color: rgb(255, 250, 232);}</style>"
            ]
          },
          "metadata": {}
        },
        {
          "output_type": "display_data",
          "data": {
            "text/plain": [
              "<IPython.core.display.Javascript object>"
            ],
            "application/javascript": [
              "google.colab.output.setIframeHeight(0, true, {maxHeight: 250})"
            ]
          },
          "metadata": {}
        },
        {
          "output_type": "display_data",
          "data": {
            "text/plain": [
              "<IPython.core.display.HTML object>"
            ],
            "text/html": [
              "<style> body {background-color: rgb(255, 250, 232);}</style>"
            ]
          },
          "metadata": {}
        },
        {
          "output_type": "display_data",
          "data": {
            "text/plain": [
              "<IPython.core.display.Javascript object>"
            ],
            "application/javascript": [
              "google.colab.output.setIframeHeight(0, true, {maxHeight: 250})"
            ]
          },
          "metadata": {}
        },
        {
          "output_type": "display_data",
          "data": {
            "text/plain": [
              "<IPython.core.display.HTML object>"
            ],
            "text/html": [
              "<style> body {background-color: rgb(255, 250, 232);}</style>"
            ]
          },
          "metadata": {}
        },
        {
          "output_type": "display_data",
          "data": {
            "text/plain": [
              "Dropdown(description='Select Table:', options=(('1to2grams-filtered-table', 'feat$1to2gram$msgs404u$message_id…"
            ],
            "application/vnd.jupyter.widget-view+json": {
              "version_major": 2,
              "version_minor": 0,
              "model_id": "dbbebfac56264615b840d2b83c1f9393"
            }
          },
          "metadata": {}
        },
        {
          "output_type": "display_data",
          "data": {
            "text/plain": [
              "Button(description='Run Command', style=ButtonStyle())"
            ],
            "application/vnd.jupyter.widget-view+json": {
              "version_major": 2,
              "version_minor": 0,
              "model_id": "f5789f3654a7440aa0cfa89270b2dc99"
            }
          },
          "metadata": {}
        },
        {
          "output_type": "display_data",
          "data": {
            "text/plain": [
              "Output()"
            ],
            "application/vnd.jupyter.widget-view+json": {
              "version_major": 2,
              "version_minor": 0,
              "model_id": "ac3297a2c7ce4df1adc1fe42cc74d234"
            }
          },
          "metadata": {}
        }
      ]
    },
    {
      "cell_type": "code",
      "source": [],
      "metadata": {
        "id": "uG0GHjkrBMSQ"
      },
      "execution_count": null,
      "outputs": []
    },
    {
      "cell_type": "markdown",
      "source": [
        "<a name=\"data\"></a>\n",
        "# STEP4: Correlate outcome"
      ],
      "metadata": {
        "id": "Qwd6akU6YP7O"
      }
    },
    {
      "cell_type": "markdown",
      "metadata": {
        "id": "n0G8ppKjJCkF"
      },
      "source": [
        "Now that you have the language features, you can correlate them against outcomes like `age` while controlling for another variable like `gender`.\n",
        "\n",
        "\n",
        "<img src=\"https://drive.google.com/uc?export=view&id=11ODkDFwsfQFc-5R5o757k3Ij9XbW9_Yb\" height=\"250\" width=\"500\"/>\n",
        "\n",
        "<br/>\n",
        "\n",
        "To do this, you need to tell DLATK the feature table to use and the outcomes:\n",
        "\n",
        "* **`-f 'TABLE_NAME'`** - names of the feature table (`feat$1to2gram$msgs404u$user_id$0_2$pmi3_0` in this case)\n",
        "* **`--outcome_table NAME`** - the name of the table with outcomes (`users404.csv`, can be the message table if it contains the outcomes)\n",
        "* **`--outcomes OC1 [OC2...]`** - list of outcomes to be associated with (`age` in this case)\n",
        "* **`--controls C1 [C2...]`** - list of statistical controls for the ascociation (we will control for `gender` in this example).\n",
        "\n",
        "<br/>\n",
        "\n",
        "Then, you specify what that you want a correlation matrix output with **`--rmatrix`** flag, and because the `gender` variable is categorical, we\n",
        " **`--cat_to_bin gender`** which converts the variable into [one-hot representation](https://wandb.ai/ayush-thakur/dl-question-bank/reports/How-One-Hot-Encoding-Improves-Machine-Learning-Performance--VmlldzoxOTkzMDk).\n"
      ]
    },
    {
      "cell_type": "code",
      "execution_count": 23,
      "metadata": {
        "outputId": "55d2c8d3-3207-480e-ce7e-5c355366322a",
        "colab": {
          "base_uri": "https://localhost:8080/",
          "height": 53
        },
        "id": "7odAdDHac0ME"
      },
      "outputs": [
        {
          "output_type": "display_data",
          "data": {
            "text/plain": [
              "<IPython.core.display.Javascript object>"
            ],
            "application/javascript": [
              "google.colab.output.setIframeHeight(0, true, {maxHeight: 250})"
            ]
          },
          "metadata": {}
        },
        {
          "output_type": "display_data",
          "data": {
            "text/plain": [
              "<IPython.core.display.HTML object>"
            ],
            "text/html": [
              "<style> body {background-color: rgb(255, 250, 232);}</style>"
            ]
          },
          "metadata": {}
        },
        {
          "output_type": "display_data",
          "data": {
            "text/plain": [
              "<IPython.core.display.Javascript object>"
            ],
            "application/javascript": [
              "google.colab.output.setIframeHeight(0, true, {maxHeight: 250})"
            ]
          },
          "metadata": {}
        },
        {
          "output_type": "display_data",
          "data": {
            "text/plain": [
              "<IPython.core.display.HTML object>"
            ],
            "text/html": [
              "<style> body {background-color: rgb(255, 250, 232);}</style>"
            ]
          },
          "metadata": {}
        },
        {
          "output_type": "display_data",
          "data": {
            "text/plain": [
              "<IPython.core.display.Javascript object>"
            ],
            "application/javascript": [
              "google.colab.output.setIframeHeight(0, true, {maxHeight: 250})"
            ]
          },
          "metadata": {}
        },
        {
          "output_type": "display_data",
          "data": {
            "text/plain": [
              "<IPython.core.display.HTML object>"
            ],
            "text/html": [
              "<style> body {background-color: rgb(255, 250, 232);}</style>"
            ]
          },
          "metadata": {}
        },
        {
          "output_type": "stream",
          "name": "stdout",
          "text": [
            "Default dataset selected: users404.csv\n",
            "Dataset ready for use: /content/users404.csv\n"
          ]
        }
      ],
      "source": [
        "import re\n",
        "from google.colab import files\n",
        "import os\n",
        "\n",
        "#@title Upload correlate data\n",
        "\n",
        "#@markdown Select a predefined dataset from the dropdown menu, or choose \"Upload from desktop\" to upload your own dataset.\n",
        "\n",
        "# This is a dropdown for choosing between default datasets or uploading your own\n",
        "default_dataset = \"users404.csv\" #@param [\"Upload from desktop\", \"users404.csv\"]\n",
        "\n",
        "#@markdown If you opt for desktop upload, click the \"Choose Files\" button that appears upon executing this cell.\n",
        "\n",
        "# Function to check if the file exists (for local files)\n",
        "def file_exists(file_path):\n",
        "    return os.path.exists(file_path)\n",
        "\n",
        "# Sanitizes file names to ensure they end with '.csv'\n",
        "def sanitize_file_name(file_name):\n",
        "    base_file_name = re.sub(r\" \\(\\d+\\)\", \"\", file_name)\n",
        "    if not base_file_name.endswith('.csv'):\n",
        "        base_file_name += '.csv'\n",
        "    return base_file_name\n",
        "\n",
        "file_path = None  # Initialize file_path variable\n",
        "\n",
        "if default_dataset != \"Upload from desktop\":\n",
        "    # If a default dataset is selected, set the file_path accordingly\n",
        "    outcome_table_name = sanitize_file_name(default_dataset)\n",
        "    file_path = os.path.join(\"/content\", outcome_table_name)\n",
        "    print(f'Default dataset selected: {outcome_table_name}')\n",
        "else:\n",
        "    print(\"Please upload a dataset from the desktop.\")\n",
        "    uploaded_files = files.upload()\n",
        "    if uploaded_files:\n",
        "        # Assuming only one file is uploaded, use its name\n",
        "        filename = next(iter(uploaded_files))\n",
        "        outcome_table_name = sanitize_file_name(filename)  # Sanitize the uploaded file's name\n",
        "        file_path = os.path.join(\"/content\", outcome_table_name)\n",
        "        print(f'Uploaded dataset name: {outcome_table_name}')\n",
        "    else:\n",
        "        print(\"No dataset uploaded. Please upload a dataset to proceed.\")\n",
        "\n",
        "# Verify the file's existence and readiness for use\n",
        "if file_path and file_exists(file_path):\n",
        "    print(f'Dataset ready for use: {file_path}')\n",
        "else:\n",
        "    print(\"Dataset not found. Please ensure the dataset exists and try again.\")\n"
      ]
    },
    {
      "cell_type": "code",
      "source": [
        "pip install mysqlclient"
      ],
      "metadata": {
        "colab": {
          "base_uri": "https://localhost:8080/",
          "height": 250
        },
        "id": "V_U2ixU4417f",
        "outputId": "ac54434a-f1f6-473c-8df9-e2b17bd24a44"
      },
      "execution_count": 5,
      "outputs": [
        {
          "output_type": "display_data",
          "data": {
            "text/plain": [
              "<IPython.core.display.Javascript object>"
            ],
            "application/javascript": [
              "google.colab.output.setIframeHeight(0, true, {maxHeight: 250})"
            ]
          },
          "metadata": {}
        },
        {
          "output_type": "display_data",
          "data": {
            "text/plain": [
              "<IPython.core.display.HTML object>"
            ],
            "text/html": [
              "<style> body {background-color: rgb(255, 250, 232);}</style>"
            ]
          },
          "metadata": {}
        },
        {
          "output_type": "stream",
          "name": "stdout",
          "text": [
            "Collecting mysqlclient\n",
            "  Downloading mysqlclient-2.2.4.tar.gz (90 kB)\n",
            "\u001b[?25l     \u001b[90m━━━━━━━━━━━━━━━━━━━━━━━━━━━━━━━━━━━━━━━━\u001b[0m \u001b[32m0.0/90.4 kB\u001b[0m \u001b[31m?\u001b[0m eta \u001b[36m-:--:--\u001b[0m\r\u001b[2K     \u001b[91m━━━━━━━━━━━━━━━━━━━━━━━━━━━━━━━━━━━━\u001b[0m\u001b[90m╺\u001b[0m\u001b[90m━━━\u001b[0m \u001b[32m81.9/90.4 kB\u001b[0m \u001b[31m3.0 MB/s\u001b[0m eta \u001b[36m0:00:01\u001b[0m\r\u001b[2K     \u001b[90m━━━━━━━━━━━━━━━━━━━━━━━━━━━━━━━━━━━━━━━━\u001b[0m \u001b[32m90.4/90.4 kB\u001b[0m \u001b[31m2.2 MB/s\u001b[0m eta \u001b[36m0:00:00\u001b[0m\n",
            "\u001b[?25h  Installing build dependencies ... \u001b[?25l\u001b[?25hdone\n",
            "  Getting requirements to build wheel ... \u001b[?25l\u001b[?25hdone\n",
            "  Installing backend dependencies ... \u001b[?25l\u001b[?25hdone\n",
            "  Preparing metadata (pyproject.toml) ... \u001b[?25l\u001b[?25hdone\n",
            "Building wheels for collected packages: mysqlclient\n",
            "  Building wheel for mysqlclient (pyproject.toml) ... \u001b[?25l\u001b[?25hdone\n",
            "  Created wheel for mysqlclient: filename=mysqlclient-2.2.4-cp310-cp310-linux_x86_64.whl size=124730 sha256=f4a29070d8ce45c07b6d6bbccabb8d035d98a37d69eb39649e679cad0bb1dcf2\n",
            "  Stored in directory: /root/.cache/pip/wheels/ac/96/ac/2a4d8cb58a4d95de1dffc3f8b0ea42e0e5b63ab97640edbda3\n",
            "Successfully built mysqlclient\n",
            "Installing collected packages: mysqlclient\n",
            "Successfully installed mysqlclient-2.2.4\n"
          ]
        }
      ]
    },
    {
      "cell_type": "code",
      "source": [
        "# !dlatkInterface.py -d colab_csv -t msgs404u.csv -g message_id --message_field message --group_freq_thresh 100 --add_ngrams -n 1 --feat_occ_filter --set_p_occ 3\n",
        "\n",
        "!dlatkInterface.py -d colab_csv -t msgs404u.csv -g message_id --group_freq_thresh 100 -f 'feat$1gram$msgs404u$message_id$3_0' --add_lex -l fb2000_cp --weighted_lex"
      ],
      "metadata": {
        "colab": {
          "base_uri": "https://localhost:8080/",
          "height": 250
        },
        "id": "j5eZ7AVi7qTg",
        "outputId": "00f1dd9c-86ec-40a2-ee3e-10075e91cb76"
      },
      "execution_count": 7,
      "outputs": [
        {
          "output_type": "display_data",
          "data": {
            "text/plain": [
              "<IPython.core.display.Javascript object>"
            ],
            "application/javascript": [
              "google.colab.output.setIframeHeight(0, true, {maxHeight: 250})"
            ]
          },
          "metadata": {}
        },
        {
          "output_type": "display_data",
          "data": {
            "text/plain": [
              "<IPython.core.display.HTML object>"
            ],
            "text/html": [
              "<style> body {background-color: rgb(255, 250, 232);}</style>"
            ]
          },
          "metadata": {}
        },
        {
          "output_type": "stream",
          "name": "stdout",
          "text": [
            "\n",
            "\n",
            "TopicExtractor: gensim Mallet wrapper unavailable, using Mallet directly.\n",
            "\n",
            "-----\n",
            "DLATK Interface Initiated: 2024-05-07 18:19:58\n",
            "-----\n",
            "Connecting to SQLite database: /content/sqlite_data/colab_csv.db\n",
            "query: PRAGMA table_info(msgs404u)\n",
            "SQL Query: DROP TABLE IF EXISTS feat$cat_fb2000_cp_w$msgs404u$message_id$1gra\n",
            "SQL Query: CREATE TABLE feat$cat_fb2000_cp_w$msgs404u$message_id$1gra ( id INTEGER PRIMARY KEY, group_id INTEGER, feat VARCHAR(10), value INTEGER, group_norm DOUBLE)\n",
            "\n",
            "\n",
            "Creating index correl_field on table:feat$cat_fb2000_cp_w$msgs404u$message_id$1gra, column:group_id \n",
            "\n",
            "\n",
            "SQL Query: CREATE INDEX correl_field$cat_fb2000_cp_w$msgs404u$message_id$1gra ON feat$cat_fb2000_cp_w$msgs404u$message_id$1gra (group_id)\n",
            "\n",
            "\n",
            "Creating index feature on table:feat$cat_fb2000_cp_w$msgs404u$message_id$1gra, column:feat \n",
            "\n",
            "\n",
            "SQL Query: CREATE INDEX feature$cat_fb2000_cp_w$msgs404u$message_id$1gra ON feat$cat_fb2000_cp_w$msgs404u$message_id$1gra (feat)\n",
            "WORD TABLE feat$1gram$msgs404u$message_id\n",
            "23 out of 2387 group Id's processed; 0.01 complete\n",
            "46 out of 2387 group Id's processed; 0.02 complete\n",
            "69 out of 2387 group Id's processed; 0.03 complete\n",
            "92 out of 2387 group Id's processed; 0.04 complete\n",
            "115 out of 2387 group Id's processed; 0.05 complete\n",
            "138 out of 2387 group Id's processed; 0.06 complete\n",
            "161 out of 2387 group Id's processed; 0.07 complete\n",
            "184 out of 2387 group Id's processed; 0.08 complete\n",
            "207 out of 2387 group Id's processed; 0.09 complete\n",
            "230 out of 2387 group Id's processed; 0.10 complete\n",
            "253 out of 2387 group Id's processed; 0.11 complete\n",
            "276 out of 2387 group Id's processed; 0.12 complete\n",
            "299 out of 2387 group Id's processed; 0.13 complete\n",
            "322 out of 2387 group Id's processed; 0.13 complete\n",
            "345 out of 2387 group Id's processed; 0.14 complete\n",
            "368 out of 2387 group Id's processed; 0.15 complete\n",
            "391 out of 2387 group Id's processed; 0.16 complete\n",
            "414 out of 2387 group Id's processed; 0.17 complete\n",
            "437 out of 2387 group Id's processed; 0.18 complete\n",
            "460 out of 2387 group Id's processed; 0.19 complete\n",
            "483 out of 2387 group Id's processed; 0.20 complete\n",
            "506 out of 2387 group Id's processed; 0.21 complete\n",
            "529 out of 2387 group Id's processed; 0.22 complete\n",
            "552 out of 2387 group Id's processed; 0.23 complete\n",
            "575 out of 2387 group Id's processed; 0.24 complete\n",
            "598 out of 2387 group Id's processed; 0.25 complete\n",
            "621 out of 2387 group Id's processed; 0.26 complete\n",
            "644 out of 2387 group Id's processed; 0.27 complete\n",
            "667 out of 2387 group Id's processed; 0.28 complete\n",
            "690 out of 2387 group Id's processed; 0.29 complete\n",
            "713 out of 2387 group Id's processed; 0.30 complete\n",
            "736 out of 2387 group Id's processed; 0.31 complete\n",
            "759 out of 2387 group Id's processed; 0.32 complete\n",
            "782 out of 2387 group Id's processed; 0.33 complete\n",
            "805 out of 2387 group Id's processed; 0.34 complete\n",
            "828 out of 2387 group Id's processed; 0.35 complete\n",
            "851 out of 2387 group Id's processed; 0.36 complete\n",
            "874 out of 2387 group Id's processed; 0.37 complete\n",
            "897 out of 2387 group Id's processed; 0.38 complete\n",
            "920 out of 2387 group Id's processed; 0.39 complete\n",
            "943 out of 2387 group Id's processed; 0.40 complete\n",
            "966 out of 2387 group Id's processed; 0.40 complete\n",
            "989 out of 2387 group Id's processed; 0.41 complete\n",
            "1012 out of 2387 group Id's processed; 0.42 complete\n",
            "1035 out of 2387 group Id's processed; 0.43 complete\n",
            "1058 out of 2387 group Id's processed; 0.44 complete\n",
            "1081 out of 2387 group Id's processed; 0.45 complete\n",
            "1104 out of 2387 group Id's processed; 0.46 complete\n",
            "1127 out of 2387 group Id's processed; 0.47 complete\n",
            "1150 out of 2387 group Id's processed; 0.48 complete\n",
            "1173 out of 2387 group Id's processed; 0.49 complete\n",
            "1196 out of 2387 group Id's processed; 0.50 complete\n",
            "1219 out of 2387 group Id's processed; 0.51 complete\n",
            "1242 out of 2387 group Id's processed; 0.52 complete\n",
            "1265 out of 2387 group Id's processed; 0.53 complete\n",
            "1288 out of 2387 group Id's processed; 0.54 complete\n",
            "1311 out of 2387 group Id's processed; 0.55 complete\n",
            "1334 out of 2387 group Id's processed; 0.56 complete\n",
            "1357 out of 2387 group Id's processed; 0.57 complete\n",
            "1380 out of 2387 group Id's processed; 0.58 complete\n",
            "1403 out of 2387 group Id's processed; 0.59 complete\n",
            "1426 out of 2387 group Id's processed; 0.60 complete\n",
            "1449 out of 2387 group Id's processed; 0.61 complete\n",
            "1472 out of 2387 group Id's processed; 0.62 complete\n",
            "1495 out of 2387 group Id's processed; 0.63 complete\n",
            "1518 out of 2387 group Id's processed; 0.64 complete\n",
            "1541 out of 2387 group Id's processed; 0.65 complete\n",
            "1564 out of 2387 group Id's processed; 0.66 complete\n",
            "1587 out of 2387 group Id's processed; 0.66 complete\n",
            "1610 out of 2387 group Id's processed; 0.67 complete\n",
            "1633 out of 2387 group Id's processed; 0.68 complete\n",
            "1656 out of 2387 group Id's processed; 0.69 complete\n",
            "1679 out of 2387 group Id's processed; 0.70 complete\n",
            "1702 out of 2387 group Id's processed; 0.71 complete\n",
            "1725 out of 2387 group Id's processed; 0.72 complete\n",
            "1748 out of 2387 group Id's processed; 0.73 complete\n",
            "1771 out of 2387 group Id's processed; 0.74 complete\n",
            "1794 out of 2387 group Id's processed; 0.75 complete\n",
            "1817 out of 2387 group Id's processed; 0.76 complete\n",
            "1840 out of 2387 group Id's processed; 0.77 complete\n",
            "1863 out of 2387 group Id's processed; 0.78 complete\n",
            "1886 out of 2387 group Id's processed; 0.79 complete\n",
            "1909 out of 2387 group Id's processed; 0.80 complete\n",
            "1932 out of 2387 group Id's processed; 0.81 complete\n",
            "1955 out of 2387 group Id's processed; 0.82 complete\n",
            "1978 out of 2387 group Id's processed; 0.83 complete\n",
            "2001 out of 2387 group Id's processed; 0.84 complete\n",
            "2024 out of 2387 group Id's processed; 0.85 complete\n",
            "2047 out of 2387 group Id's processed; 0.86 complete\n",
            "2070 out of 2387 group Id's processed; 0.87 complete\n",
            "2093 out of 2387 group Id's processed; 0.88 complete\n",
            "2116 out of 2387 group Id's processed; 0.89 complete\n",
            "2139 out of 2387 group Id's processed; 0.90 complete\n",
            "2162 out of 2387 group Id's processed; 0.91 complete\n",
            "2185 out of 2387 group Id's processed; 0.92 complete\n",
            "2208 out of 2387 group Id's processed; 0.93 complete\n",
            "2231 out of 2387 group Id's processed; 0.93 complete\n",
            "2254 out of 2387 group Id's processed; 0.94 complete\n",
            "2277 out of 2387 group Id's processed; 0.95 complete\n",
            "2300 out of 2387 group Id's processed; 0.96 complete\n",
            "2323 out of 2387 group Id's processed; 0.97 complete\n",
            "2346 out of 2387 group Id's processed; 0.98 complete\n",
            "2369 out of 2387 group Id's processed; 0.99 complete\n",
            "2387 out of 2387 group Id's processed; 1.00 complete\n",
            "-------\n",
            "Settings:\n",
            "\n",
            "Database - colab_csv\n",
            "Corpus - msgs404u.csv\n",
            "Group ID - message_id\n",
            "Feature table(s) - feat$cat_fb2000_cp_w$msgs404u$message_id$1gra\n",
            "-------\n",
            "Interface Runtime: 134.87 seconds\n",
            "DLATK exits with success! A good day indeed  ¯\\_(ツ)_/¯.\n"
          ]
        }
      ]
    },
    {
      "cell_type": "code",
      "source": [
        "# !dlatkInterface.py -d colab_csv -t msgs404u.csv -g user_id --message_field message --group_freq_thresh 100 --add_ngrams -n 1 --feat_occ_filter --set_p_occ 3\n",
        "\n",
        "!dlatkInterface.py -d colab_csv -t msgs404u.csv -g user_id --group_freq_thresh 100 -f 'feat$1gram$msgs404u$user_id$3_0' --add_lex -l fb2000_cp --weighted_lex"
      ],
      "metadata": {
        "colab": {
          "base_uri": "https://localhost:8080/",
          "height": 250
        },
        "id": "qq9a63PjVE0J",
        "outputId": "45bff0ab-c5f1-4921-df57-9aaf96480d84"
      },
      "execution_count": 12,
      "outputs": [
        {
          "output_type": "display_data",
          "data": {
            "text/plain": [
              "<IPython.core.display.Javascript object>"
            ],
            "application/javascript": [
              "google.colab.output.setIframeHeight(0, true, {maxHeight: 250})"
            ]
          },
          "metadata": {}
        },
        {
          "output_type": "display_data",
          "data": {
            "text/plain": [
              "<IPython.core.display.HTML object>"
            ],
            "text/html": [
              "<style> body {background-color: rgb(255, 250, 232);}</style>"
            ]
          },
          "metadata": {}
        },
        {
          "output_type": "stream",
          "name": "stdout",
          "text": [
            "\n",
            "\n",
            "TopicExtractor: gensim Mallet wrapper unavailable, using Mallet directly.\n",
            "\n",
            "-----\n",
            "DLATK Interface Initiated: 2024-05-07 18:36:55\n",
            "-----\n",
            "Connecting to SQLite database: /content/sqlite_data/colab_csv.db\n",
            "query: PRAGMA table_info(msgs404u)\n",
            "SQL Query: DROP TABLE IF EXISTS feat$cat_fb2000_cp_w$msgs404u$user_id$1gra\n",
            "SQL Query: CREATE TABLE feat$cat_fb2000_cp_w$msgs404u$user_id$1gra ( id INTEGER PRIMARY KEY, group_id INTEGER, feat VARCHAR(10), value INTEGER, group_norm DOUBLE)\n",
            "\n",
            "\n",
            "Creating index correl_field on table:feat$cat_fb2000_cp_w$msgs404u$user_id$1gra, column:group_id \n",
            "\n",
            "\n",
            "SQL Query: CREATE INDEX correl_field$cat_fb2000_cp_w$msgs404u$user_id$1gra ON feat$cat_fb2000_cp_w$msgs404u$user_id$1gra (group_id)\n",
            "\n",
            "\n",
            "Creating index feature on table:feat$cat_fb2000_cp_w$msgs404u$user_id$1gra, column:feat \n",
            "\n",
            "\n",
            "SQL Query: CREATE INDEX feature$cat_fb2000_cp_w$msgs404u$user_id$1gra ON feat$cat_fb2000_cp_w$msgs404u$user_id$1gra (feat)\n",
            "WORD TABLE feat$1gram$msgs404u$user_id\n",
            "4 out of 404 group Id's processed; 0.01 complete\n",
            "8 out of 404 group Id's processed; 0.02 complete\n",
            "12 out of 404 group Id's processed; 0.03 complete\n",
            "16 out of 404 group Id's processed; 0.04 complete\n",
            "20 out of 404 group Id's processed; 0.05 complete\n",
            "24 out of 404 group Id's processed; 0.06 complete\n",
            "28 out of 404 group Id's processed; 0.07 complete\n",
            "32 out of 404 group Id's processed; 0.08 complete\n",
            "36 out of 404 group Id's processed; 0.09 complete\n",
            "40 out of 404 group Id's processed; 0.10 complete\n",
            "44 out of 404 group Id's processed; 0.11 complete\n",
            "48 out of 404 group Id's processed; 0.12 complete\n",
            "52 out of 404 group Id's processed; 0.13 complete\n",
            "56 out of 404 group Id's processed; 0.14 complete\n",
            "60 out of 404 group Id's processed; 0.15 complete\n",
            "64 out of 404 group Id's processed; 0.16 complete\n",
            "68 out of 404 group Id's processed; 0.17 complete\n",
            "72 out of 404 group Id's processed; 0.18 complete\n",
            "76 out of 404 group Id's processed; 0.19 complete\n",
            "80 out of 404 group Id's processed; 0.20 complete\n",
            "84 out of 404 group Id's processed; 0.21 complete\n",
            "88 out of 404 group Id's processed; 0.22 complete\n",
            "92 out of 404 group Id's processed; 0.23 complete\n",
            "96 out of 404 group Id's processed; 0.24 complete\n",
            "100 out of 404 group Id's processed; 0.25 complete\n",
            "104 out of 404 group Id's processed; 0.26 complete\n",
            "108 out of 404 group Id's processed; 0.27 complete\n",
            "112 out of 404 group Id's processed; 0.28 complete\n",
            "116 out of 404 group Id's processed; 0.29 complete\n",
            "120 out of 404 group Id's processed; 0.30 complete\n",
            "124 out of 404 group Id's processed; 0.31 complete\n",
            "128 out of 404 group Id's processed; 0.32 complete\n",
            "132 out of 404 group Id's processed; 0.33 complete\n",
            "136 out of 404 group Id's processed; 0.34 complete\n",
            "140 out of 404 group Id's processed; 0.35 complete\n",
            "144 out of 404 group Id's processed; 0.36 complete\n",
            "148 out of 404 group Id's processed; 0.37 complete\n",
            "152 out of 404 group Id's processed; 0.38 complete\n",
            "156 out of 404 group Id's processed; 0.39 complete\n",
            "160 out of 404 group Id's processed; 0.40 complete\n",
            "164 out of 404 group Id's processed; 0.41 complete\n",
            "168 out of 404 group Id's processed; 0.42 complete\n",
            "172 out of 404 group Id's processed; 0.43 complete\n",
            "176 out of 404 group Id's processed; 0.44 complete\n",
            "180 out of 404 group Id's processed; 0.45 complete\n",
            "184 out of 404 group Id's processed; 0.46 complete\n",
            "188 out of 404 group Id's processed; 0.47 complete\n",
            "192 out of 404 group Id's processed; 0.48 complete\n",
            "196 out of 404 group Id's processed; 0.49 complete\n",
            "200 out of 404 group Id's processed; 0.50 complete\n",
            "204 out of 404 group Id's processed; 0.50 complete\n",
            "208 out of 404 group Id's processed; 0.51 complete\n",
            "212 out of 404 group Id's processed; 0.52 complete\n",
            "216 out of 404 group Id's processed; 0.53 complete\n",
            "220 out of 404 group Id's processed; 0.54 complete\n",
            "224 out of 404 group Id's processed; 0.55 complete\n",
            "228 out of 404 group Id's processed; 0.56 complete\n",
            "232 out of 404 group Id's processed; 0.57 complete\n",
            "236 out of 404 group Id's processed; 0.58 complete\n",
            "240 out of 404 group Id's processed; 0.59 complete\n",
            "244 out of 404 group Id's processed; 0.60 complete\n",
            "248 out of 404 group Id's processed; 0.61 complete\n",
            "252 out of 404 group Id's processed; 0.62 complete\n",
            "256 out of 404 group Id's processed; 0.63 complete\n",
            "260 out of 404 group Id's processed; 0.64 complete\n",
            "264 out of 404 group Id's processed; 0.65 complete\n",
            "268 out of 404 group Id's processed; 0.66 complete\n",
            "272 out of 404 group Id's processed; 0.67 complete\n",
            "276 out of 404 group Id's processed; 0.68 complete\n",
            "280 out of 404 group Id's processed; 0.69 complete\n",
            "284 out of 404 group Id's processed; 0.70 complete\n",
            "288 out of 404 group Id's processed; 0.71 complete\n",
            "292 out of 404 group Id's processed; 0.72 complete\n",
            "296 out of 404 group Id's processed; 0.73 complete\n",
            "300 out of 404 group Id's processed; 0.74 complete\n",
            "304 out of 404 group Id's processed; 0.75 complete\n",
            "308 out of 404 group Id's processed; 0.76 complete\n",
            "312 out of 404 group Id's processed; 0.77 complete\n",
            "316 out of 404 group Id's processed; 0.78 complete\n",
            "320 out of 404 group Id's processed; 0.79 complete\n",
            "324 out of 404 group Id's processed; 0.80 complete\n",
            "328 out of 404 group Id's processed; 0.81 complete\n",
            "332 out of 404 group Id's processed; 0.82 complete\n",
            "336 out of 404 group Id's processed; 0.83 complete\n",
            "340 out of 404 group Id's processed; 0.84 complete\n",
            "344 out of 404 group Id's processed; 0.85 complete\n",
            "348 out of 404 group Id's processed; 0.86 complete\n",
            "352 out of 404 group Id's processed; 0.87 complete\n",
            "356 out of 404 group Id's processed; 0.88 complete\n",
            "360 out of 404 group Id's processed; 0.89 complete\n",
            "364 out of 404 group Id's processed; 0.90 complete\n",
            "368 out of 404 group Id's processed; 0.91 complete\n",
            "372 out of 404 group Id's processed; 0.92 complete\n",
            "376 out of 404 group Id's processed; 0.93 complete\n",
            "380 out of 404 group Id's processed; 0.94 complete\n",
            "384 out of 404 group Id's processed; 0.95 complete\n",
            "388 out of 404 group Id's processed; 0.96 complete\n",
            "392 out of 404 group Id's processed; 0.97 complete\n",
            "396 out of 404 group Id's processed; 0.98 complete\n",
            "400 out of 404 group Id's processed; 0.99 complete\n",
            "404 out of 404 group Id's processed; 1.00 complete\n",
            "404 out of 404 group Id's processed; 1.00 complete\n",
            "-------\n",
            "Settings:\n",
            "\n",
            "Database - colab_csv\n",
            "Corpus - msgs404u.csv\n",
            "Group ID - user_id\n",
            "Feature table(s) - feat$cat_fb2000_cp_w$msgs404u$user_id$1gra\n",
            "-------\n",
            "Interface Runtime: 33.90 seconds\n",
            "DLATK exits with success! A good day indeed  ¯\\_(ツ)_/¯.\n"
          ]
        }
      ]
    },
    {
      "cell_type": "code",
      "source": [
        "!dlatkInterface.py -d colab_csv -t msgs404u.csv -g user_id --lexicondb colab_csv --feat_table 'feat$cat_fb2000_cp_w$msgs404u$user_id$1gra' --outcome_table users404.csv --outcomes age --rmatrix --make_topic_wordclouds --topic_lexicon fb2000_freq_t50ll"
      ],
      "metadata": {
        "colab": {
          "base_uri": "https://localhost:8080/",
          "height": 250
        },
        "id": "EBoAbeezl6ZF",
        "outputId": "40105369-23b5-4ebd-a0c4-78d76048845e"
      },
      "execution_count": 14,
      "outputs": [
        {
          "output_type": "display_data",
          "data": {
            "text/plain": [
              "<IPython.core.display.Javascript object>"
            ],
            "application/javascript": [
              "google.colab.output.setIframeHeight(0, true, {maxHeight: 250})"
            ]
          },
          "metadata": {}
        },
        {
          "output_type": "display_data",
          "data": {
            "text/plain": [
              "<IPython.core.display.HTML object>"
            ],
            "text/html": [
              "<style> body {background-color: rgb(255, 250, 232);}</style>"
            ]
          },
          "metadata": {}
        },
        {
          "output_type": "stream",
          "name": "stdout",
          "text": [
            "\n",
            "\n",
            "TopicExtractor: gensim Mallet wrapper unavailable, using Mallet directly.\n",
            "\n",
            "-----\n",
            "DLATK Interface Initiated: 2024-05-07 18:39:42\n",
            "-----\n",
            "WARNING: --make_topic_wordcloud used without --topic_tagcloud or --corp_topic_tagcloud, setting --topic_tagcloud to True\n",
            "Connecting to SQLite database: /content/sqlite_data/colab_csv.db\n",
            "Connecting to SQLite database: /content/sqlite_data/colab_csv.db\n",
            "WARNING: The table users404 does not have: a PRIMARY key on user_id. Consider adding.\n",
            "Loading Outcomes and Getting Groups for: {'age'}\n",
            "Connecting to SQLite database: /content/sqlite_data/colab_csv.db\n",
            "Yielding data over ['age'], adjusting for: [].\n",
            "Yielding norms with zeros (397 groups * 2001 feats).\n",
            "  200 features correlated\n",
            "  400 features correlated\n",
            "  600 features correlated\n",
            "  800 features correlated\n",
            "  1000 features correlated\n",
            "  1200 features correlated\n",
            "  1400 features correlated\n",
            "  1600 features correlated\n",
            "  1800 features correlated\n",
            "  2000 features correlated\n",
            "Created output filename: ./feat.cat_fb2000_cp_w.msgs404u.user_id.1gra.age.freq500.rMatrix\n",
            "Generating Correlation Matrix.\n",
            " print to file: ././feat.cat_fb2000_cp_w.msgs404u.user_id.1gra.age.freq500.rMatrix.html\n",
            "Created output filename: ./feat.cat_fb2000_cp_w.msgs404u.user_id.1gra.age.freq500._topic_tagcloud\n",
            "Namespace(lexinterface=False, toinitfile=None, frominitfile='', mysqlconfigfile='', colabify=False, dbengine='mysql', corpdb='colab_csv', corptable='msgs404u.csv', correl_field='user_id', message_field='message', messageid_field='message_id', date_field='updated_time', lexicondb='colab_csv', encoding='utf8mb4', useunicode=True, language='en', feattable='feat$cat_fb2000_cp_w$msgs404u$user_id$1gra', n=[1], metafeats=True, lextable='', wordTable=None, colloc_table='test_collocs', colloc_column='feat', createcollocscores=False, feature_type_name=None, gzipcsv='', categories='', feat_blacklist='', feat_whitelist='', valuefunc=<function main.<locals>.<lambda> at 0x7e78ab016290>, lexvaluefunc=<function main.<locals>.<lambda> at 0x7e78ab016320>, pocc=0.01, pmi=3.0, minfeatsum=0, topicfile='', numtopicwords=15, topiclexicon='fb2000_freq_t50ll', topiclist='', topiclexmethod='csv_lik', weightedlexicon=False, numbins=None, flexiplotfile='', groupidrange=None, masktable=None, embmodel='bert-base-uncased', embclass=None, tokenizermodel=None, embaggs=['mean'], emblayeraggs=['concatenate'], transwordaggs=['mean'], emblayers=[-2], embnocontext=False, embtablename=None, batchsize=32, embkeepmsg=False, listfeattables=False, showtables=False, describetables=False, viewtables=False, createrandsample=None, createcopiedtable=None, extension=None, top_messages=False, outcometable='users404.csv', outcomefields=['age'], outcomecontrols=[], cattobinfields=[], cattointfields=[], outcomeinteraction=[], fold_column=None, test_folds=None, featnames=['honor'], groupfreqthresh=500, outputdir='.', outputname='', maxtcwords=100, showfeatfreqs=True, tcfilter=True, featlabelmaptable='', featlabelmaplex='', bracketlabels='', compTagcloud=False, compTCsample1=[], compTCsample2=[], csv=False, pickle=False, sort=False, whitelist=False, blacklist=False, spearman=False, logisticReg=False, cohensd=False, IDP=False, auc=False, zScoreGroup=False, p_correction_method='BH', bonferroni=True, nvalue=True, confint=True, freq=True, tagcloudcolorscheme='multi', cleancloud=False, weightedsample='', low_variance_thresh=0.0, minabseffectsize=0.0, interactions=False, bootstrapp=0, maxP=0.05, groupswhere='', mediation=False, mediationboot=False, mediationbootnum=1000, outcomepathstarts=[], outcomemediators=[], feat_as_path_start=False, feat_as_outcome=False, feat_as_control=False, no_features=False, mediationcsv=False, mediationsummary=True, mediation_style='baron', adapttable=None, adaptcolumns=None, model='ridgecv', turn_off_backoff_model=False, combmodels=['ridgecv'], sparse=False, folds=5, outlier_to_mean=False, picklefile='', allcontrolsonly=True, nolang=False, controlcombosizes=[], res_controls=False, pred_csv=False, prob_csv=False, weightedeval=None, standardize=True, featureselection='', featureselectionstring='', train_bootstraps=None, train_bootstraps_ns=None, addngrams=False, addngramsfromtok=False, use_collocs=False, include_sub_collocs=False, colloc_pmi_thresh=3.0, addcharngrams=False, lowercaseonly=True, addlextable=False, addcorplextable=False, addphrasetable=False, addpostable=False, pos_ngram=False, addldafeattable=None, printtokenizedlines=None, printjoinedfeaturelines=None, addtopiclexfromtopicfile=False, addtimexdiff=False, addpostimexdiff=False, addwnnopos=False, addwnpos=False, addfkscore=False, addpnames=None, embaddfeat=False, lexicon_normalization=False, multicategory_normalization=False, addtokenized=False, addsenttokenized=False, addsentperrow=False, addparses=False, addsegmented=False, segmentationModel='ctb', addtweettok=False, addtweetpos=False, addldamsgs=None, addoutcomefeats=False, langfilter=[], lightenglishfilter=False, cleanmessages=False, deduplicate=False, spamfilter=None, addmessageid=None, ldamsgtbl='messages_en_lda$msgs_en_tok_a30', createdists=False, addner=False, ttestfeats=False, featoccfilter=False, combinefeattables=None, addfeatnorms=False, addstdfeats=False, featcollocfilter=False, featcorrelfilter=False, maketopiclabelmap=False, tfidf=False, featgroupoutcomes=False, aggregategroup=False, archetypesimilarity=None, interpolategroup=None, printcsv=None, printfreqcsv=None, printnumgroups=False, densifytable=None, correlate=False, rmatrix=True, combormatrix=False, topicdupefilter=False, tagcloud=False, topictc=True, corptopictc=False, makewordclouds=False, maketopicwordclouds=True, makealltopicwordclouds=False, keepduplicates=False, useFeatTableFeats=False, outcomeWithOutcome=False, outcomeWithOutcomeOnly=False, outputInteractionTerms=False, interactionDdla=None, ddlaSignificance=0.001, ddlaFiles=None, ddlaTagcloud=False, multir=False, trainregression=False, testregression=False, combotestregression=False, predictregression=False, controladjustreg=False, testcombregression=[], predictrtofeats=None, predictRtoOutcomeTable=None, predictalltofeats=None, fsparams=False, kbest=None, pcacomp=None, adaptationfactors=None, factorselectiontype='rfe', numoffactors=None, pairedfactors=False, report=False, factoraddition=False, factoradaptation=False, residualizedfactoradaptation=False, trainclassifiers=False, testclassifiers=False, combotestclassifiers=False, predictclassifiers=False, roc=False, predictctofeats=None, predictprobstofeats=None, predictCtoOutcomeTable=None, regrToLex=None, classToLex=None, stratifyfolds=False, trainclasstoreg=False, testclasstoreg=False, predictclasstoreg=False, reducertolexicon=None, supertopics=None, reducedlexicon=None, fitreducer=False, n_components=None, transformdrtofeats=None, cca=0, penaltyFeats=None, penaltyOutcomes=None, ccaOutcomesVsControls=False, ccaPermute=0, predictCcaCompsFromModel=False, newSQLtable=None, usexfeats=False, usexcontrols=False, savemodels=False, loadmodels=False, barplot=False, scatterplot=False, featflexibin=False, skipbinstep=False, preservebintable=False, descplot=False, loessplot='', estimate_lda_topics=False, mallet_path=None, save_lda_files=None, lda_lexicon_name=None, no_lda_lexicon=False, num_topics=100, num_lda_threads=4, num_stopwords=50, extra_lda_stopwords=None, no_lda_stopping=False, lda_alpha=5.0, lda_beta=0.01, lda_iterations=1000, integrationmethod='', featureselectionparams=None)\n",
            "\n",
            "outputting topic tagcloud data to: ./feat.cat_fb2000_cp_w.msgs404u.user_id.1gra.age.freq500._topic_tagcloud.txt\n",
            "Traceback (most recent call last):\n",
            "  File \"/usr/local/lib/python3.10/dist-packages/dlatk/mysqlmethods/mysqlMethods.py\", line 22, in dbConnect\n",
            "    dbConn = MySQLdb.connect (\n",
            "NameError: name 'MySQLdb' is not defined\n",
            "\n",
            "During handling of the above exception, another exception occurred:\n",
            "\n",
            "Traceback (most recent call last):\n",
            "  File \"/usr/local/bin/dlatkInterface.py\", line 2257, in <module>\n",
            "    main()\n",
            "  File \"/usr/local/bin/dlatkInterface.py\", line 1669, in main\n",
            "    oa.printTopicTagCloudData(correls, args.topiclexicon, args.maxP, str(args), duplicateFilter = args.tcfilter, colorScheme=args.tagcloudcolorscheme, outputFile = outputFile, useFeatTableFeats=args.useFeatTableFeats, maxWords=args.numtopicwords, cleanCloud=args.cleancloud, metric=metric, minAbsEffectSize=args.minabseffectsize)\n",
            "  File \"/usr/local/lib/python3.10/dist-packages/dlatk/outcomeAnalyzer.py\", line 1865, in printTopicTagCloudData\n",
            "    topicWords = self.getTopicWords(topicLex, 1000) if useFeatTableFeats else self.getTopicWords(topicLex, maxWords)\n",
            "  File \"/usr/local/lib/python3.10/dist-packages/dlatk/outcomeAnalyzer.py\", line 1935, in getTopicWords\n",
            "    if self.lexicon is None: self.load_lexicon(topicLex)\n",
            "  File \"/usr/local/lib/python3.10/dist-packages/dlatk/dlaWorker.py\", line 169, in load_lexicon\n",
            "    self.lexicon = WeightedLexicon(\n",
            "  File \"/usr/local/lib/python3.10/dist-packages/dlatk/lexicainterface/lexInterface.py\", line 956, in __init__\n",
            "    super(WeightedLexicon, self).__init__(lex, mysql_config_file = mysql_config_file, lexicon_db = lexicon_db, lex_db_type=lex_db_type, encoding=encoding, use_unicode=use_unicode)\n",
            "  File \"/usr/local/lib/python3.10/dist-packages/dlatk/lexicainterface/lexInterface.py\", line 407, in __init__\n",
            "    (self.dbConn, self.dbCursor, self.dictCursor) = self.engine.connect()\n",
            "  File \"/usr/local/lib/python3.10/dist-packages/dlatk/database/dataEngine.py\", line 43, in connect\n",
            "    self.dataEngine = MySqlDataEngine(self.corpdb, self.mysql_config_file, self.encoding)\n",
            "  File \"/usr/local/lib/python3.10/dist-packages/dlatk/database/dataEngine.py\", line 399, in __init__\n",
            "    (self.dbConn, self.dbCursor, self.dictCursor) = mm.dbConnect(corpdb, charset=encoding, mysql_config_file=mysql_config_file)\n",
            "  File \"/usr/local/lib/python3.10/dist-packages/dlatk/mysqlmethods/mysqlMethods.py\", line 30, in dbConnect\n",
            "    except MySQLdb.Error as e:\n",
            "NameError: name 'MySQLdb' is not defined\n"
          ]
        }
      ]
    },
    {
      "cell_type": "code",
      "source": [
        "#@markdown Test code: Check which tables are formed so far\n",
        "\n",
        "!dlatkInterface.py \\\n",
        "  -d colab_csv -t msgs404u.csv -g user_id \\\n",
        "  --show_feat_tables"
      ],
      "metadata": {
        "colab": {
          "base_uri": "https://localhost:8080/",
          "height": 250
        },
        "id": "cB5Yen5RRyIz",
        "outputId": "4f0084c3-2b7b-4a01-a4e7-a81d8ed35807"
      },
      "execution_count": 15,
      "outputs": [
        {
          "output_type": "display_data",
          "data": {
            "text/plain": [
              "<IPython.core.display.Javascript object>"
            ],
            "application/javascript": [
              "google.colab.output.setIframeHeight(0, true, {maxHeight: 250})"
            ]
          },
          "metadata": {}
        },
        {
          "output_type": "display_data",
          "data": {
            "text/plain": [
              "<IPython.core.display.HTML object>"
            ],
            "text/html": [
              "<style> body {background-color: rgb(255, 250, 232);}</style>"
            ]
          },
          "metadata": {}
        },
        {
          "output_type": "stream",
          "name": "stdout",
          "text": [
            "\n",
            "\n",
            "TopicExtractor: gensim Mallet wrapper unavailable, using Mallet directly.\n",
            "\n",
            "-----\n",
            "DLATK Interface Initiated: 2024-05-07 18:40:25\n",
            "-----\n",
            "Connecting to SQLite database: /content/sqlite_data/colab_csv.db\n",
            "\n",
            "Found 4 available tables\n",
            "----\n",
            "feat$1gram$msgs404u$user_id\n",
            "feat$meta_1gram$msgs404u$user_id\n",
            "feat$1gram$msgs404u$user_id$3_0\n",
            "feat$cat_fb2000_cp_w$msgs404u$user_id$1gra\n",
            "-------\n",
            "Settings:\n",
            "\n",
            "Database - colab_csv\n",
            "Corpus - msgs404u.csv\n",
            "Group ID - user_id\n",
            "-------\n",
            "Interface Runtime: 0.01 seconds\n",
            "DLATK exits with success! A good day indeed  ¯\\_(ツ)_/¯.\n"
          ]
        }
      ]
    },
    {
      "cell_type": "code",
      "source": [
        "#@markdown Topic wordcloud testing\n",
        "# import MySQLdb\n",
        "\n",
        "\n",
        "# dlatkInterface.py -d colab_csv -t msgs404u.csv -g message_id --message_field message --messageid_field message_id --group_freq_thresh 100 --add_lex_table -l fb2000_cp --weighted_lexicon\n",
        "\n",
        "# !dlatkInterface.py \\\n",
        "#   -d colab_csv -t msgs404u.csv -g message_id \\\n",
        "#   --add_ngrams -n 1\n",
        "\n",
        "# !dlatkInterface.py -d colab_csv -t msgs404u.csv -g user_id --lexicondb colab_csv --group_freq_thresh 100 --feat_table 'feat$1gram$msgs404u$user_id' --outcome_table users404.csv --outcomes age --controls gender --cat_to_bin gender --rmatrix --make_topic_wordclouds --topic_lexicon fb2000_freq_t50ll\n",
        "\n",
        "# !dlatkInterface.py -d colab_csv -t msgs404u.csv -g message_id --lexicondb colab_csv --group_freq_thresh 100 --feat_table 'feat$1gram$msgs404u$message_id' --outcome_table users404.csv --rmatrix --make_topic_wordclouds --topic_lexicon fb2000_freq_t50ll\n",
        "\n"
      ],
      "metadata": {
        "colab": {
          "base_uri": "https://localhost:8080/",
          "height": 250
        },
        "id": "Ap358ZMa8sRm",
        "outputId": "221320e6-daaa-4146-9eae-2973d7fe8a51"
      },
      "execution_count": 7,
      "outputs": [
        {
          "output_type": "display_data",
          "data": {
            "text/plain": [
              "<IPython.core.display.Javascript object>"
            ],
            "application/javascript": [
              "google.colab.output.setIframeHeight(0, true, {maxHeight: 250})"
            ]
          },
          "metadata": {}
        },
        {
          "output_type": "display_data",
          "data": {
            "text/plain": [
              "<IPython.core.display.HTML object>"
            ],
            "text/html": [
              "<style> body {background-color: rgb(255, 250, 232);}</style>"
            ]
          },
          "metadata": {}
        },
        {
          "output_type": "stream",
          "name": "stdout",
          "text": [
            "\n",
            "\n",
            "TopicExtractor: gensim Mallet wrapper unavailable, using Mallet directly.\n",
            "\n",
            "-----\n",
            "DLATK Interface Initiated: 2024-05-06 17:19:23\n",
            "-----\n",
            "Connecting to SQLite database: /content/sqlite_data/colab_csv.db\n",
            "query: PRAGMA table_info(msgs404u)\n",
            "SQL Query: DROP TABLE IF EXISTS feat$1gram$msgs404u$message_id\n",
            "SQL Query: CREATE TABLE feat$1gram$msgs404u$message_id ( id INTEGER PRIMARY KEY, group_id INTEGER, feat VARCHAR(36), value INTEGER, group_norm DOUBLE)\n",
            "\n",
            "\n",
            "Creating index correl_field on table:feat$1gram$msgs404u$message_id, column:group_id \n",
            "\n",
            "\n",
            "SQL Query: CREATE INDEX correl_field$1gram$msgs404u$message_id ON feat$1gram$msgs404u$message_id (group_id)\n",
            "\n",
            "\n",
            "Creating index feature on table:feat$1gram$msgs404u$message_id, column:feat \n",
            "\n",
            "\n",
            "SQL Query: CREATE INDEX feature$1gram$msgs404u$message_id ON feat$1gram$msgs404u$message_id (feat)\n",
            "query: PRAGMA table_info(msgs404u)\n",
            "SQL Query: DROP TABLE IF EXISTS feat$meta_1gram$msgs404u$message_id\n",
            "SQL Query: CREATE TABLE feat$meta_1gram$msgs404u$message_id ( id INTEGER PRIMARY KEY, group_id INTEGER, feat VARCHAR(16), value INTEGER, group_norm DOUBLE)\n",
            "\n",
            "\n",
            "Creating index correl_field on table:feat$meta_1gram$msgs404u$message_id, column:group_id \n",
            "\n",
            "\n",
            "\n",
            "\n",
            "Creating index feature on table:feat$meta_1gram$msgs404u$message_id, column:feat \n",
            "\n",
            "\n",
            "finding messages for 2392 'message_id's\n",
            "WARNING: The table msgs404u does not have: a PRIMARY key on message_id. Consider adding.\n",
            "         Please check that all messages have a unique message_id, this can significantly impact all downstream analysis\n",
            " [0%] Inserted 35 total ngram rows covering 1 message_ids\n",
            " [5%] Inserted 15621 total ngram rows covering 120 message_ids\n",
            " [10%] Inserted 33895 total ngram rows covering 240 message_ids\n",
            " [15%] Inserted 47937 total ngram rows covering 359 message_ids\n",
            " [20%] Inserted 63518 total ngram rows covering 479 message_ids\n",
            " [25%] Inserted 82357 total ngram rows covering 598 message_ids\n",
            " [30%] Inserted 99449 total ngram rows covering 718 message_ids\n",
            " [35%] Inserted 118589 total ngram rows covering 838 message_ids\n",
            " [40%] Inserted 136414 total ngram rows covering 957 message_ids\n",
            " [45%] Inserted 156040 total ngram rows covering 1077 message_ids\n",
            " [50%] Inserted 173903 total ngram rows covering 1196 message_ids\n",
            " [55%] Inserted 192325 total ngram rows covering 1316 message_ids\n",
            " [60%] Inserted 209258 total ngram rows covering 1436 message_ids\n",
            " [65%] Inserted 226655 total ngram rows covering 1555 message_ids\n",
            " [70%] Inserted 246401 total ngram rows covering 1675 message_ids\n",
            " [75%] Inserted 261084 total ngram rows covering 1794 message_ids\n",
            " [80%] Inserted 277582 total ngram rows covering 1914 message_ids\n",
            " [85%] Inserted 296539 total ngram rows covering 2034 message_ids\n",
            " [90%] Inserted 314701 total ngram rows covering 2153 message_ids\n",
            " [95%] Inserted 330568 total ngram rows covering 2273 message_ids\n",
            "Done Reading / Inserting.\n",
            "Adding Keys (if goes to keycache, then decrease MAX_TO_DISABLE_KEYS or run myisamchk -n).\n",
            "Done\n",
            "\n",
            "-------\n",
            "Settings:\n",
            "\n",
            "Database - colab_csv\n",
            "Corpus - msgs404u.csv\n",
            "Group ID - message_id\n",
            "Feature table(s) - feat$1gram$msgs404u$message_id\n",
            "-------\n",
            "Interface Runtime: 78.16 seconds\n",
            "DLATK exits with success! A good day indeed  ¯\\_(ツ)_/¯.\n"
          ]
        }
      ]
    },
    {
      "cell_type": "code",
      "source": [
        "import subprocess\n",
        "import ipywidgets as widgets\n",
        "from IPython.display import display, clear_output\n",
        "import csv\n",
        "\n",
        "#@title Configure Parameters\n",
        "\n",
        "#@markdown Before executing the command, please adjust the parameters below according to your dataset and analysis needs.\n",
        "database_name = \"colab_csv\"\n",
        "\n",
        "feature_table_mapping = {\n",
        "    \"1to2grams-filtered-table\": f\"feat$1to2gram${file_name_without_extension}${id_column_name}$0_1$pmi3_0\",\n",
        "    \"1to2grams-unfiltered-table\": f\"feat$1to2gram${file_name_without_extension}${id_column_name}\",\n",
        "    \"topics-table\": f\"feat$cat_fb2000_cp_w${file_name_without_extension}${id_column_name}$1gra\"  # Adding topics-related feature table option\n",
        "}\n",
        "\n",
        "if 'outcome_table_name' in globals():\n",
        "    # Open and read the CSV file to extract column names\n",
        "    with open(outcome_table_name, newline='') as csvfile:\n",
        "        reader = csv.reader(csvfile)\n",
        "        column_headers = next(reader, None)\n",
        "\n",
        "    if column_headers:\n",
        "        # Exclude columns containing '_id' from being displayed as checkboxes\n",
        "        filtered_column_headers = [option for option in column_headers if \"_id\" not in option]\n",
        "\n",
        "        feature_table_dropdown = widgets.Dropdown(options=feature_table_mapping, description='Feature Table:')\n",
        "\n",
        "        outcomes_title = widgets.Label('Outcomes:')\n",
        "        controls_title = widgets.Label('Controls:')\n",
        "        outcomes_widgets = {}\n",
        "        controls_widgets = {}\n",
        "        outcomes_cat_widgets = {}\n",
        "        controls_cat_widgets = {}\n",
        "\n",
        "        # Create checkboxes for each column header\n",
        "        for option in filtered_column_headers:\n",
        "            outcomes_widgets[option] = widgets.Checkbox(description=option, value=False)\n",
        "            controls_widgets[option] = widgets.Checkbox(description=option, value=False)\n",
        "            # Replace RadioButtons with a single Checkbox for categorical selection\n",
        "            outcomes_cat_widgets[option] = widgets.Checkbox(\n",
        "                description='Is this variable Categorical?',\n",
        "                value=False,\n",
        "                layout={'width': 'max-content'},\n",
        "                style={'description_width': 'initial'}\n",
        "            )\n",
        "            controls_cat_widgets[option] = widgets.Checkbox(\n",
        "                description='Is this variable Categorical?',\n",
        "                value=False,\n",
        "                layout={'width': 'max-content'},\n",
        "                style={'description_width': 'initial'}\n",
        "            )\n",
        "            outcomes_cat_widgets[option].layout.display = 'none'\n",
        "            controls_cat_widgets[option].layout.display = 'none'\n",
        "\n",
        "        def handle_checkbox_change(change):\n",
        "            option = change.owner.description\n",
        "            if change.owner in outcomes_widgets.values():\n",
        "                controls_widgets[option].disabled = change.new\n",
        "                outcomes_cat_widgets[option].layout.display = 'flex' if change.new else 'none'\n",
        "            elif change.owner in controls_widgets.values():\n",
        "                outcomes_widgets[option].disabled = change.new\n",
        "                controls_cat_widgets[option].layout.display = 'flex' if change.new else 'none'\n",
        "\n",
        "        for checkbox in outcomes_widgets.values():\n",
        "            checkbox.observe(handle_checkbox_change, names='value')\n",
        "        for checkbox in controls_widgets.values():\n",
        "            checkbox.observe(handle_checkbox_change, names='value')\n",
        "\n",
        "        def on_submit(change):\n",
        "            global outcomes, controls\n",
        "            clear_output(wait=True)\n",
        "            outcomes = [k for k, v in outcomes_widgets.items() if v.value]\n",
        "            controls = [k for k, v in controls_widgets.items() if v.value]\n",
        "            cat_to_bin_outcomes = [k for k, v in outcomes_cat_widgets.items() if v.value]\n",
        "            cat_to_bin_controls = [k for k, v in controls_cat_widgets.items() if v.value]\n",
        "\n",
        "            feature_table_name = feature_table_dropdown.value\n",
        "            make_wordclouds = make_wordclouds_checkbox.value\n",
        "\n",
        "            # Construct the command dynamically based on selections\n",
        "            cat_to_bin_parts = [','.join(cat_to_bin_outcomes), ','.join(cat_to_bin_controls)]\n",
        "            cat_to_bin_parts = [part for part in cat_to_bin_parts if part]  # Remove empty strings\n",
        "            cat_to_bin_cmd = f\"--cat_to_bin {' '.join(cat_to_bin_parts)}\" if cat_to_bin_parts else \"\"\n",
        "\n",
        "            command = (\n",
        "                f\"dlatkInterface.py -d {database_name} -t {file_name} -g {id_column_name} \"\n",
        "                f\"--group_freq_thresh 100 --feat_table '{feature_table_name}' \"\n",
        "                f\"--outcome_table {outcome_table_name} --outcomes {','.join(outcomes)} \"\n",
        "                f\"--controls {','.join(controls)} {cat_to_bin_cmd} --rmatrix\"\n",
        "            )\n",
        "            if make_wordclouds:\n",
        "                if feature_table_name == feature_table_mapping['topics-table']:\n",
        "                    command += \" --make_topic_wordclouds\"\n",
        "                else:\n",
        "                    command += \" --make_wordclouds\"\n",
        "            print(\"Command to execute:\", command)\n",
        "            process = subprocess.run(command, shell=True, text=True, capture_output=True)\n",
        "            print(process.stdout)\n",
        "            if process.stderr:\n",
        "                print(\"Error:\", process.stderr)\n",
        "\n",
        "        submit_button = widgets.Button(description=\"Submit\")\n",
        "        submit_button.on_click(on_submit)\n",
        "\n",
        "        make_wordclouds_title = widgets.Label('Make Wordclouds:')\n",
        "        make_wordclouds_checkbox = widgets.Checkbox(value=False, description='Enable Wordclouds')\n",
        "\n",
        "        # Display the widgets\n",
        "        display(feature_table_dropdown)\n",
        "        display(outcomes_title)\n",
        "        for option, checkbox in outcomes_widgets.items():\n",
        "            display(widgets.HBox([checkbox, outcomes_cat_widgets[option]]))\n",
        "        display(controls_title)\n",
        "        for option, checkbox in controls_widgets.items():\n",
        "            display(widgets.HBox([checkbox, controls_cat_widgets[option]]))\n",
        "        display(make_wordclouds_title, make_wordclouds_checkbox, submit_button)\n",
        "\n",
        "    else:\n",
        "        print(\"Failed to read column names from the outcome table.\")\n",
        "else:\n",
        "    print(\"Outcome table name not set. Please ensure a file is uploaded in Part 1.\")\n"
      ],
      "metadata": {
        "colab": {
          "base_uri": "https://localhost:8080/",
          "height": 250,
          "referenced_widgets": [
            "da2c34852694430387a85a56661fb34f",
            "f093cca96637457db98ae5b7ca817cfa",
            "cb3a1d5b1d684d58b22631da97aba3e2",
            "d7c7c4f43549476cbc79fd306b186815",
            "bba12786a61044ad92cc75c631ef5c34",
            "89f25d9cb936477a938cfdae66b2849b",
            "99f495fdeb504bc989eff41d7269c912",
            "c9f25233d55f4d4bb50c3ef077cebe28",
            "25790814ba1d464fb823530f3c469047",
            "8f36af4674324992a80435319ac5bb71",
            "ed4d7390e76448d095755d6700738a7a",
            "2909ce62018a41a6983984dfaa587f21",
            "b47a4b478b674783a4e72f7d10d91260",
            "42484249cc16452f8a9eec8005b18593",
            "7667cdb4dde845d287934440cc790c8f",
            "92ef218c05ac4b6ba14a100766423f5c",
            "8794d583863842fba84e1b46a8b8d519",
            "561fba3306f94878b504318b82cfec1d",
            "49fc922be77b4d78a182e30425d816a2",
            "d2ff13abb1b749f9a1d7ec47ed639c30",
            "3cd014cef655423ea8ddbffaa90a5062",
            "82409aff176e4e31958372ecea33de14",
            "e526627984c34945902a60906574073f",
            "2c41c258a09f43698414756a28be4c50",
            "b6036ee8d6eb491d9929f3312725afd1",
            "83f75b5ad7044f2a9d7fa4712efb5875",
            "42e3c5a387d84c5782c76b1f0ee25d9b",
            "601f9b9769f24592a7b3e7a30f12a6c7",
            "3311f1d3efc74aca8ec1b4a09ea4609e",
            "2c642717a50a4cd192ad9b95a55d2100",
            "7cc2ba4ba8fe4d59bb70822c8c8c4952",
            "acb3063528024f5db3deb780db637f6e",
            "8cbc85a6c8e2485c99cf172714e966b9",
            "be10bedf3498487f9cd6acbe9fdfeb64",
            "fa989ba90cff49ce9d326668ed0a5188",
            "604e84112684466baa288e048838686b",
            "59cc3915fdc7414984bbf2e5ed547235",
            "97a8e5b3c26f4e6ea18dc98c286ff0bc",
            "03b2d7eaac6b46fdb3715589d8389014",
            "3e7759b108b84a598e9dede0602ed40e",
            "e85d91ba4ef443b2878468363cb29aae",
            "d8be569243324360ab97f00318c27789",
            "6f3c55b64cef437496270fa8b99badfc",
            "9cf176cbe8f044d3807422fd9b43b1ee",
            "bc14787196db42e0a41d2d9b0ac84fb2",
            "a2fbf6e6cefa4541bf2bcff29aca3ec0",
            "31b41223f24948748819182075d1e948",
            "08c8a37184dc4964a1854643d38bbcaf",
            "8abe357723f14d76850873efd10dc148",
            "4c5f47bc71c34166b5789a8e3380306a",
            "ec654c44b9e5492f86b30d6374121e3e",
            "ba6582f675734bd99d52eafc5f85b7ed",
            "d515f612d7874f028f133f86c76fa598",
            "fb8ddc3580634a969d3872521eb8ca1c",
            "ebe8cd6c1b2e4656adc8b1dc0318ccff",
            "217ede9236254edfbf8f50de5f87bb23",
            "60ece130588e46118e61e10ae06d1905",
            "a71fc6c2639b4756854df6fdd529f4ea",
            "f8f9a56e7dbb427bbaaba225832b6e2c",
            "3ae6098ac9f64f49909951495a6371d2",
            "5bca5e7eb2e1480aafe1350e140966b7",
            "38035bec31014f00aa4b7e94722ad378",
            "46c76af6666d4330847a0e1ce2bf81f8",
            "4bb7f58fed514c90952686e3f9cd3e15",
            "76ea1a5053a14227a849991566ab2da5",
            "b3ea5c58049c4d46a14a212dab05482e",
            "4fe40b3fdd774e37b9e0d2bc89d5d90a",
            "63ac372c05fb4f86bc0c6c6ec40f95a5",
            "12bbad4d6d604d18addb6c2e10e16b79",
            "3337f4aee1844b96b952b65b0095b299",
            "b897560e8bf34c06b509941609d800e9",
            "9a18c341a9944f13934782f151fd37b9",
            "c2ef577011404b22b1bd643981ac29c0",
            "78970a97e8a44781b1a8ffa04bbe7c9f",
            "ddb9d22782ea4fdfb71c55ac3dcea4c6",
            "54888f7352a6457c93c663d31e86c484",
            "ddcb35ece6a74035ba2253c092a3ed4d",
            "9a893186e6dc48e79cdd59173249e0b5",
            "8e7f94fb3d424349ba81b36118b3e053",
            "05079f0d63924020a18a1e09d79155e9",
            "f6a129ecc0234e61859b83fe9f30ba0a",
            "b95180a4b61a44688acf32e99ef30073"
          ]
        },
        "id": "g4EU9JKAGFcr",
        "outputId": "14b5ff97-040e-4bfe-cdf0-c84e99c0366d"
      },
      "execution_count": 24,
      "outputs": [
        {
          "output_type": "stream",
          "name": "stdout",
          "text": [
            "Command to execute: dlatkInterface.py -d colab_csv -t msgs404u.csv -g message_id --group_freq_thresh 100 --feat_table 'feat$cat_fb2000_cp_w$msgs404u$message_id$1gra' --outcome_table users404.csv --outcomes age --controls gender --cat_to_bin gender --rmatrix --make_topic_wordclouds\n",
            "\n",
            "\n",
            "WARNING: --make_topic_wordcloud used without --topic_tagcloud or --corp_topic_tagcloud, setting --topic_tagcloud to True\n",
            "Connecting to SQLite database: /content/sqlite_data/colab_csv.db\n",
            "Connecting to SQLite database: /content/sqlite_data/colab_csv.db\n",
            "\n",
            "Error: TopicExtractor: gensim Mallet wrapper unavailable, using Mallet directly.\n",
            "\n",
            "-----\n",
            "DLATK Interface Initiated: 2024-05-06 17:42:18\n",
            "-----\n",
            "WARNING: The table users404 does not have: a PRIMARY key on message_id. Consider adding.\n",
            "         Please check that all messages have a unique message_id, this can significantly impact all downstream analysis\n",
            "Loading Outcomes and Getting Groups for: {'gender', 'age'}\n",
            " *Sqlite Corpus DB Error on SELECT message_id, gender FROM users404 WHERE gender IS NOT NULL:\n",
            "no such column: message_id (1 attempt)\n",
            " *Sqlite Corpus DB Error on SELECT message_id, gender FROM users404 WHERE gender IS NOT NULL:\n",
            "no such column: message_id (2 attempt)\n",
            " *Sqlite Corpus DB Error on SELECT message_id, gender FROM users404 WHERE gender IS NOT NULL:\n",
            "no such column: message_id (3 attempt)\n",
            " *Sqlite Corpus DB Error on SELECT message_id, gender FROM users404 WHERE gender IS NOT NULL:\n",
            "no such column: message_id (4 attempt)\n",
            " *Sqlite Corpus DB Error on SELECT message_id, gender FROM users404 WHERE gender IS NOT NULL:\n",
            "no such column: message_id (5 attempt)\n",
            " *Sqlite Corpus DB Error on SELECT message_id, gender FROM users404 WHERE gender IS NOT NULL:\n",
            "no such column: message_id (6 attempt)\n",
            "\n"
          ]
        }
      ]
    },
    {
      "cell_type": "code",
      "source": [
        "!dlatkInterface.py -d colab_csv -t msgs404u.csv -g message_id --group_freq_thresh 100 -f 'feat$cat_fb2000_cp_w$msgs404u$message_id$1gra' --outcome_table users404.csv --outcomes age --rmatrix --csv --make_topic_wordclouds --topic_lex fb2000_freq_t50ll"
      ],
      "metadata": {
        "colab": {
          "base_uri": "https://localhost:8080/",
          "height": 250
        },
        "id": "St0VO-zr9q3p",
        "outputId": "e9e00f66-cea3-4d9f-f2c6-55897da70bc4"
      },
      "execution_count": 26,
      "outputs": [
        {
          "output_type": "display_data",
          "data": {
            "text/plain": [
              "<IPython.core.display.Javascript object>"
            ],
            "application/javascript": [
              "google.colab.output.setIframeHeight(0, true, {maxHeight: 250})"
            ]
          },
          "metadata": {}
        },
        {
          "output_type": "display_data",
          "data": {
            "text/plain": [
              "<IPython.core.display.HTML object>"
            ],
            "text/html": [
              "<style> body {background-color: rgb(255, 250, 232);}</style>"
            ]
          },
          "metadata": {}
        },
        {
          "output_type": "display_data",
          "data": {
            "text/plain": [
              "<IPython.core.display.Javascript object>"
            ],
            "application/javascript": [
              "google.colab.output.setIframeHeight(0, true, {maxHeight: 250})"
            ]
          },
          "metadata": {}
        },
        {
          "output_type": "display_data",
          "data": {
            "text/plain": [
              "<IPython.core.display.HTML object>"
            ],
            "text/html": [
              "<style> body {background-color: rgb(255, 250, 232);}</style>"
            ]
          },
          "metadata": {}
        },
        {
          "output_type": "display_data",
          "data": {
            "text/plain": [
              "<IPython.core.display.Javascript object>"
            ],
            "application/javascript": [
              "google.colab.output.setIframeHeight(0, true, {maxHeight: 250})"
            ]
          },
          "metadata": {}
        },
        {
          "output_type": "display_data",
          "data": {
            "text/plain": [
              "<IPython.core.display.HTML object>"
            ],
            "text/html": [
              "<style> body {background-color: rgb(255, 250, 232);}</style>"
            ]
          },
          "metadata": {}
        },
        {
          "output_type": "stream",
          "name": "stdout",
          "text": [
            "\n",
            "\n",
            "TopicExtractor: gensim Mallet wrapper unavailable, using Mallet directly.\n",
            "\n",
            "-----\n",
            "DLATK Interface Initiated: 2024-05-06 17:46:17\n",
            "-----\n",
            "WARNING: --make_topic_wordcloud used without --topic_tagcloud or --corp_topic_tagcloud, setting --topic_tagcloud to True\n",
            "Connecting to SQLite database: /content/sqlite_data/colab_csv.db\n",
            "Connecting to SQLite database: /content/sqlite_data/colab_csv.db\n",
            "WARNING: The table users404 does not have: a PRIMARY key on message_id. Consider adding.\n",
            "         Please check that all messages have a unique message_id, this can significantly impact all downstream analysis\n",
            "Loading Outcomes and Getting Groups for: {'age'}\n",
            " *Sqlite Corpus DB Error on SELECT message_id, age FROM users404 WHERE age IS NOT NULL:\n",
            "no such column: message_id (1 attempt)\n",
            " *Sqlite Corpus DB Error on SELECT message_id, age FROM users404 WHERE age IS NOT NULL:\n",
            "no such column: message_id (2 attempt)\n",
            " *Sqlite Corpus DB Error on SELECT message_id, age FROM users404 WHERE age IS NOT NULL:\n",
            "no such column: message_id (3 attempt)\n",
            " *Sqlite Corpus DB Error on SELECT message_id, age FROM users404 WHERE age IS NOT NULL:\n",
            "no such column: message_id (4 attempt)\n",
            " *Sqlite Corpus DB Error on SELECT message_id, age FROM users404 WHERE age IS NOT NULL:\n",
            "no such column: message_id (5 attempt)\n",
            " *Sqlite Corpus DB Error on SELECT message_id, age FROM users404 WHERE age IS NOT NULL:\n",
            "no such column: message_id (6 attempt)\n"
          ]
        }
      ]
    },
    {
      "cell_type": "code",
      "source": [
        "import glob\n",
        "import os\n",
        "import math\n",
        "import matplotlib.pyplot as plt\n",
        "import matplotlib.image as mpimg\n",
        "from dlatk.tools.colab_methods import print_wordclouds\n",
        "\n",
        "#@markdown Click the Play button to view the **word cloud image** of the analyzed file(includes topic wordcloud).\n",
        "\n",
        "\n",
        "feature_table_name = feature_table_dropdown.value.replace('$', '.')\n",
        "\n",
        "def display_wordclouds(feature_table_name, outcomes, controls):\n",
        "    # This function decides which type of word clouds to display based on the feature table selected.\n",
        "    if feature_table_name == feature_table_mapping['topics-table']:\n",
        "        print_topic_wordclouds(\"/content/_alltopics/\", 8)\n",
        "    else:\n",
        "        wordcloud_file_name = f\"{feature_table_name.replace('$', '.')}.{','.join(outcomes)}.{','.join(controls)}__0.freq100._tagcloud_wordclouds\"\n",
        "        print(\"Wordcloud File Name:\", wordcloud_file_name)\n",
        "        print_wordclouds(wordcloud_file_name)\n",
        "\n",
        "def print_topic_wordclouds(wordcloud_folder, num_topics=8, images_per_row=4):\n",
        "    # This function handles the displaying of topic word clouds specifically.\n",
        "    images = glob.glob(os.path.join(wordcloud_folder, '*.png'))\n",
        "    to_display = images[:min(num_topics, len(images))]\n",
        "\n",
        "    if len(to_display) == 0:\n",
        "        print(\"No topic wordcloud images found in the specified folder.\")\n",
        "        return\n",
        "\n",
        "    fig, axes = plt.subplots(math.ceil(num_topics / images_per_row), images_per_row, figsize=(18, 8))\n",
        "    for index, image in enumerate(to_display):\n",
        "        ax = axes[int(index / images_per_row), index % images_per_row]\n",
        "        ax.set_axis_off()\n",
        "        ax.set_title(image.split('/')[-1])\n",
        "        ax.imshow(mpimg.imread(image))\n",
        "    plt.show()\n",
        "\n",
        "# Example usage:\n",
        "display_wordclouds(feature_table_name, outcomes, controls)\n"
      ],
      "metadata": {
        "colab": {
          "base_uri": "https://localhost:8080/",
          "height": 53
        },
        "id": "GoGKLHh0kgJq",
        "outputId": "e2288655-f7c4-41d7-cc86-fe867a1f668a"
      },
      "execution_count": null,
      "outputs": [
        {
          "output_type": "display_data",
          "data": {
            "text/plain": [
              "<IPython.core.display.Javascript object>"
            ],
            "application/javascript": [
              "google.colab.output.setIframeHeight(0, true, {maxHeight: 250})"
            ]
          },
          "metadata": {}
        },
        {
          "output_type": "display_data",
          "data": {
            "text/plain": [
              "<IPython.core.display.HTML object>"
            ],
            "text/html": [
              "<style> body {background-color: rgb(255, 250, 232);}</style>"
            ]
          },
          "metadata": {}
        },
        {
          "output_type": "display_data",
          "data": {
            "text/plain": [
              "<IPython.core.display.Javascript object>"
            ],
            "application/javascript": [
              "google.colab.output.setIframeHeight(0, true, {maxHeight: 250})"
            ]
          },
          "metadata": {}
        },
        {
          "output_type": "display_data",
          "data": {
            "text/plain": [
              "<IPython.core.display.HTML object>"
            ],
            "text/html": [
              "<style> body {background-color: rgb(255, 250, 232);}</style>"
            ]
          },
          "metadata": {}
        },
        {
          "output_type": "display_data",
          "data": {
            "text/plain": [
              "<IPython.core.display.Javascript object>"
            ],
            "application/javascript": [
              "google.colab.output.setIframeHeight(0, true, {maxHeight: 250})"
            ]
          },
          "metadata": {}
        },
        {
          "output_type": "display_data",
          "data": {
            "text/plain": [
              "<IPython.core.display.HTML object>"
            ],
            "text/html": [
              "<style> body {background-color: rgb(255, 250, 232);}</style>"
            ]
          },
          "metadata": {}
        },
        {
          "output_type": "display_data",
          "data": {
            "text/plain": [
              "<IPython.core.display.Javascript object>"
            ],
            "application/javascript": [
              "google.colab.output.setIframeHeight(0, true, {maxHeight: 250})"
            ]
          },
          "metadata": {}
        },
        {
          "output_type": "display_data",
          "data": {
            "text/plain": [
              "<IPython.core.display.HTML object>"
            ],
            "text/html": [
              "<style> body {background-color: rgb(255, 250, 232);}</style>"
            ]
          },
          "metadata": {}
        },
        {
          "output_type": "display_data",
          "data": {
            "text/plain": [
              "<IPython.core.display.Javascript object>"
            ],
            "application/javascript": [
              "google.colab.output.setIframeHeight(0, true, {maxHeight: 250})"
            ]
          },
          "metadata": {}
        },
        {
          "output_type": "display_data",
          "data": {
            "text/plain": [
              "<IPython.core.display.HTML object>"
            ],
            "text/html": [
              "<style> body {background-color: rgb(255, 250, 232);}</style>"
            ]
          },
          "metadata": {}
        },
        {
          "output_type": "display_data",
          "data": {
            "text/plain": [
              "<IPython.core.display.Javascript object>"
            ],
            "application/javascript": [
              "google.colab.output.setIframeHeight(0, true, {maxHeight: 250})"
            ]
          },
          "metadata": {}
        },
        {
          "output_type": "display_data",
          "data": {
            "text/plain": [
              "<IPython.core.display.HTML object>"
            ],
            "text/html": [
              "<style> body {background-color: rgb(255, 250, 232);}</style>"
            ]
          },
          "metadata": {}
        },
        {
          "output_type": "stream",
          "name": "stdout",
          "text": [
            "Wordcloud File Name: feat.cat_fb2000_cp_w.msgs404u.user_id.1gra.age.gender__0.freq100._tagcloud_wordclouds\n",
            "None of the features were significant, hence wordclouds not produced.\n"
          ]
        }
      ]
    },
    {
      "cell_type": "code",
      "source": [
        "#@markdown Click the Play button to view the **word cloud image** of the analyzed file.\n",
        "\n",
        "from dlatk.tools.colab_methods import print_wordclouds\n",
        "\n",
        "def display_wordclouds():\n",
        "    feature_table_name = feature_table_dropdown.value.replace('$', '.')\n",
        "    # Assuming 'outcomes' and 'controls' are updated in the global scope by codeA\n",
        "    global outcomes, controls\n",
        "    wordcloud_file_name = f\"{feature_table_name}.{','.join(outcomes)}.{','.join(controls)}__0.freq100._tagcloud_wordclouds\"\n",
        "    print(\"Wordcloud File Name:\", wordcloud_file_name)\n",
        "    print_wordclouds(wordcloud_file_name)\n",
        "\n",
        "display_wordclouds()\n"
      ],
      "metadata": {
        "colab": {
          "base_uri": "https://localhost:8080/",
          "height": 53
        },
        "outputId": "632f7b34-24b4-45e3-b702-55cc4437d7e7",
        "id": "1gwINnKHdGKE"
      },
      "execution_count": null,
      "outputs": [
        {
          "output_type": "display_data",
          "data": {
            "text/plain": [
              "<IPython.core.display.Javascript object>"
            ],
            "application/javascript": [
              "google.colab.output.setIframeHeight(0, true, {maxHeight: 250})"
            ]
          },
          "metadata": {}
        },
        {
          "output_type": "display_data",
          "data": {
            "text/plain": [
              "<IPython.core.display.HTML object>"
            ],
            "text/html": [
              "<style> body {background-color: rgb(255, 250, 232);}</style>"
            ]
          },
          "metadata": {}
        },
        {
          "output_type": "stream",
          "name": "stdout",
          "text": [
            "Wordcloud File Name: feat.cat_fb2000_cp_w.msgs404u.user_id.1gra.age.gender__0.freq100._tagcloud_wordclouds\n",
            "None of the features were significant, hence wordclouds not produced.\n"
          ]
        }
      ]
    },
    {
      "cell_type": "markdown",
      "metadata": {
        "id": "u9chxWx6VLnJ"
      },
      "source": [
        "👇 For example, you can extract features from *NRC sentiment* dictionary as shown below."
      ]
    },
    {
      "cell_type": "markdown",
      "metadata": {
        "id": "NYlLK0STHE9L"
      },
      "source": [
        "# Running Prediction (Language-based Assessment)\n",
        "\n",
        "<img src=\"https://drive.google.com/uc?export=view&id=1AgMttURoLyJZ6WhL9wnVzWBt1gSmE0yE\" height=\"350\" width=\"550\"/>"
      ]
    },
    {
      "cell_type": "markdown",
      "metadata": {
        "id": "tACYr6g88H6n"
      },
      "source": [
        "## Prediction: Example 1: N-Fold Cross Validation"
      ]
    },
    {
      "cell_type": "markdown",
      "metadata": {
        "id": "PvDHsfsWQrb-"
      },
      "source": [
        "There are two types of [prediction models](https://scikit-learn.org/stable/modules/linear_model.html#) we can run:\n",
        "1. **Regression**, which is the prediction of a continous variable, and\n",
        "2. **Classification**, which is the prediction of a categorical variable.\n",
        "\n",
        "<br/>\n",
        "\n",
        "<hr/>\n",
        "\n",
        "[N-Fold cross-validation](https://scikit-learn.org/stable/modules/cross_validation.html#) - This method involves randomly dividing the dataset into *N* groups, or \"folds\", of approximately equal size. The model is later fit on the N-1 folds (*train* data) and the evaluated for accuracy over the remaining one fold (*test* data).\n",
        "\n",
        "<hr/>\n",
        "\n",
        "<br/>\n",
        "\n",
        "For running a prediction model against an outcome, you use the same data setup commands as in correlations:\n",
        "* **`-f FEAT_TABLE_NAME`** - names of the feature table.\n",
        "* **`--outcome_table NAME`** - the name of the table with outcomes.\n",
        "* **`--outcomes OC1 [OC2...]`** - list of outcomes to predict.\n"
      ]
    },
    {
      "cell_type": "markdown",
      "metadata": {
        "id": "xGa8-zHYKKtz"
      },
      "source": [
        "### N-Fold Regression:\n"
      ]
    },
    {
      "cell_type": "markdown",
      "metadata": {
        "id": "1UlH163FGfhd"
      },
      "source": [
        "Below are the flags to perform regression using cross-validation:\n",
        "* **`--nfold_test_regression`** - this activates regression using n-fold cross-validation.\n",
        "* **`--model MODEL_NAME`** - which regression model to use (some examples would be ordinary least sqaures, ridge regression, etc.)"
      ]
    },
    {
      "cell_type": "markdown",
      "metadata": {
        "id": "Y2x7ExfQA3dl"
      },
      "source": [
        "👇 For example, below command will predict `age` from 1gram and 2grams features using a ridge regression model over `5` fold cross validation."
      ]
    },
    {
      "cell_type": "code",
      "source": [
        "import subprocess\n",
        "import ipywidgets as widgets\n",
        "from IPython.display import display, clear_output\n",
        "import csv\n",
        "\n",
        "#@title Configure Parameters\n",
        "\n",
        "#@markdown Before executing the command, please adjust the parameters below according to your dataset and analysis needs.\n",
        "\n",
        "if 'outcome_table_name' in globals():\n",
        "    # Open and read the CSV file to extract column names\n",
        "    with open(outcome_table_name, newline='') as csvfile:\n",
        "        reader = csv.reader(csvfile)\n",
        "        column_headers = next(reader, None)\n",
        "\n",
        "    if column_headers:\n",
        "        # Exclude columns containing '_id' from being displayed as checkboxes\n",
        "        filtered_column_headers = [option for option in column_headers if \"_id\" not in option]\n",
        "\n",
        "        feature_table_dropdown = widgets.Dropdown(options=feature_table_mapping, description='Feature Table:')\n",
        "\n",
        "        # Dropdown for model selection\n",
        "        model_dropdown = widgets.Dropdown(\n",
        "            options=[\n",
        "                'lasso', 'lassocv', 'elasticnet', 'elasticnetcv', 'lassolars', 'lassolarscv', 'lars', 'ridge',\n",
        "                'ridge.01', 'ridge.001', 'ridge250', 'ridge10000', 'ridge100000', 'ridge100k', 'ridge1000',\n",
        "                'ridge100', 'ridge10', 'ridge1', 'ridge1m', 'ridge10m', 'ridge100m', 'ridgecv', 'ridgefirstpasscv',\n",
        "                'ridgehighcv', 'ridgeveryhighcv', 'ridgelowcv', 'rpcridgecv', 'linear', 'svr', 'sgdregressor',\n",
        "                'extratrees', 'par'\n",
        "            ],\n",
        "            value='ridgehighcv',  # Default model\n",
        "            description='Model:'\n",
        "        )\n",
        "\n",
        "        outcomes_title = widgets.Label('Outcomes:')\n",
        "        outcomes_widgets = {option: widgets.Checkbox(description=option, value=False) for option in filtered_column_headers}\n",
        "\n",
        "        def handle_checkbox_change(change):\n",
        "            pass  # Placeholder in case any dynamic interaction is needed\n",
        "\n",
        "        for checkbox in outcomes_widgets.values():\n",
        "            checkbox.observe(handle_checkbox_change, names='value')\n",
        "\n",
        "        def on_submit(change):\n",
        "            clear_output(wait=True)\n",
        "            outcomes = [k for k, v in outcomes_widgets.items() if v.value]\n",
        "\n",
        "            feature_table_name = feature_table_dropdown.value\n",
        "            selected_model = model_dropdown.value\n",
        "\n",
        "            command = (\n",
        "                f\"dlatkInterface.py -d {database_name} -t {file_name} -g {id_column_name} \"\n",
        "                f\"--group_freq_thresh 100 \"\n",
        "                f\"--outcome_table {outcome_table_name} --outcomes {','.join(outcomes)} \"\n",
        "                f\"--feat_table '{feature_table_name}' \"\n",
        "                f\"--nfold_test_regression --model {selected_model}\"\n",
        "            )\n",
        "            print(\"Command to execute:\", command)\n",
        "            process = subprocess.run(command, shell=True, text=True, capture_output=True)\n",
        "            print(process.stdout)\n",
        "            if process.stderr:\n",
        "                print(\"Error:\", process.stderr)\n",
        "\n",
        "        submit_button = widgets.Button(description=\"Submit\")\n",
        "        submit_button.on_click(on_submit)\n",
        "\n",
        "        # Display the widgets\n",
        "        display(feature_table_dropdown, model_dropdown)\n",
        "        display(outcomes_title)\n",
        "        for option, checkbox in outcomes_widgets.items():\n",
        "            display(checkbox)\n",
        "        display(submit_button)\n",
        "\n",
        "    else:\n",
        "        print(\"Failed to read column names from the outcome table.\")\n",
        "else:\n",
        "    print(\"Outcome table name not set. Please ensure a file is uploaded in Part 1.\")\n"
      ],
      "metadata": {
        "colab": {
          "base_uri": "https://localhost:8080/",
          "height": 250,
          "referenced_widgets": [
            "ce051e076daf4ff587a2bbc09ae50e6d",
            "9f8c6aa3877a48458b53e725e90394f8",
            "c382dcfb82dd42c3b980ee38d74807ad",
            "13e010bcf7dc4a6a9bd73e8c1c0309ff",
            "ff3f790851c54d549862ed424fb0fe1b",
            "9c30b093a2814ffb91e3e16864f76818",
            "cd96f7c58b2a4ad6bc3fee0757c3c917",
            "c17b3393cc244446a316db5462dccd27",
            "1969637b4b354561b6ac203e84f3b556",
            "c945ad5beead487ea1b1e2cb939ee68f",
            "3e37940e71304f119bd9599a85c048e3",
            "afb5bce4d3434cb499efbb956d3fbc3d",
            "2bd5ddd6e8624aa9ae720e1783d92447",
            "1c814b0debfc431394bce71ec39a7979",
            "35e0c67d82bc4ee9a8efcea428fb86a3",
            "ec8074ce592043299c5339c279e3b86c",
            "19ba2ea607a449588fcc5fc50b977566",
            "0d5b3cbac0954695a838c876c2a7a73c",
            "e85bac993d2c491c8e1d04c632510fee",
            "e9a5ee6366d24d7c9677435856577892",
            "3f2168f19c8045bbaad90d5087bfe357",
            "b85658a339b5483883b2e1945bd9ea24",
            "d574b362acf140a5911b665c9212dca4",
            "9b1a118b430b4da68bea46c90db7595b"
          ]
        },
        "cellView": "form",
        "id": "HjbDzboxo8ZY",
        "outputId": "50be991e-ef21-44d5-c395-9d3c14351132"
      },
      "execution_count": null,
      "outputs": [
        {
          "output_type": "display_data",
          "data": {
            "text/plain": [
              "<IPython.core.display.Javascript object>"
            ],
            "application/javascript": [
              "google.colab.output.setIframeHeight(0, true, {maxHeight: 250})"
            ]
          },
          "metadata": {}
        },
        {
          "output_type": "display_data",
          "data": {
            "text/plain": [
              "<IPython.core.display.HTML object>"
            ],
            "text/html": [
              "<style> body {background-color: rgb(255, 250, 232);}</style>"
            ]
          },
          "metadata": {}
        },
        {
          "output_type": "display_data",
          "data": {
            "text/plain": [
              "Dropdown(description='Feature Table:', options={'1to2grams-filtered-table': 'feat$1to2gram$msgs404u$user_id$0_…"
            ],
            "application/vnd.jupyter.widget-view+json": {
              "version_major": 2,
              "version_minor": 0,
              "model_id": "ce051e076daf4ff587a2bbc09ae50e6d"
            }
          },
          "metadata": {}
        },
        {
          "output_type": "display_data",
          "data": {
            "text/plain": [
              "Dropdown(description='Model:', index=23, options=('lasso', 'lassocv', 'elasticnet', 'elasticnetcv', 'lassolars…"
            ],
            "application/vnd.jupyter.widget-view+json": {
              "version_major": 2,
              "version_minor": 0,
              "model_id": "13e010bcf7dc4a6a9bd73e8c1c0309ff"
            }
          },
          "metadata": {}
        },
        {
          "output_type": "display_data",
          "data": {
            "text/plain": [
              "Label(value='Outcomes:')"
            ],
            "application/vnd.jupyter.widget-view+json": {
              "version_major": 2,
              "version_minor": 0,
              "model_id": "cd96f7c58b2a4ad6bc3fee0757c3c917"
            }
          },
          "metadata": {}
        },
        {
          "output_type": "display_data",
          "data": {
            "text/plain": [
              "Checkbox(value=False, description='gender')"
            ],
            "application/vnd.jupyter.widget-view+json": {
              "version_major": 2,
              "version_minor": 0,
              "model_id": "c945ad5beead487ea1b1e2cb939ee68f"
            }
          },
          "metadata": {}
        },
        {
          "output_type": "display_data",
          "data": {
            "text/plain": [
              "Checkbox(value=False, description='age')"
            ],
            "application/vnd.jupyter.widget-view+json": {
              "version_major": 2,
              "version_minor": 0,
              "model_id": "2bd5ddd6e8624aa9ae720e1783d92447"
            }
          },
          "metadata": {}
        },
        {
          "output_type": "display_data",
          "data": {
            "text/plain": [
              "Checkbox(value=False, description='occu')"
            ],
            "application/vnd.jupyter.widget-view+json": {
              "version_major": 2,
              "version_minor": 0,
              "model_id": "ec8074ce592043299c5339c279e3b86c"
            }
          },
          "metadata": {}
        },
        {
          "output_type": "display_data",
          "data": {
            "text/plain": [
              "Checkbox(value=False, description='is_student')"
            ],
            "application/vnd.jupyter.widget-view+json": {
              "version_major": 2,
              "version_minor": 0,
              "model_id": "e85bac993d2c491c8e1d04c632510fee"
            }
          },
          "metadata": {}
        },
        {
          "output_type": "display_data",
          "data": {
            "text/plain": [
              "Button(description='Submit', style=ButtonStyle())"
            ],
            "application/vnd.jupyter.widget-view+json": {
              "version_major": 2,
              "version_minor": 0,
              "model_id": "b85658a339b5483883b2e1945bd9ea24"
            }
          },
          "metadata": {}
        }
      ]
    },
    {
      "cell_type": "markdown",
      "metadata": {
        "id": "jz_xKX3neFC9"
      },
      "source": [
        "👆 Above the settings, you should see a dictionary containing accuracy metrics from cross validation. Key metrics are `r` and `mae`:\n",
        "```\n",
        "[TEST COMPLETE]\n",
        "\n",
        "{'age': {(): {1: {'N': 404,\n",
        "                  ...\n",
        "                  'mae': 5.392188704337425,\n",
        "                  'num_features': 2308,\n",
        "                  'r': 0.580652941321456,\n",
        "                  ...}}}}\n",
        "```\n",
        "`mae` is the mean absolute error aggregated across all examples from when they were in a test fold. In this case, the model on average is off in predicting age by 5.4 years.\n",
        "\n",
        "`r` is the Pearson correlation between the predicted age and the self-reported age. The correlation is a nice accuracy metric for regression prediction tasks  since it is bounded at 1 being a perfect prediction and 0 being what is expected by chance.  \n",
        "\n",
        "DLATK uses 5 folds by default, but you can change this by adding the\n",
        "`--folds K` parameter.\n",
        "\n",
        "<br/>\n"
      ]
    },
    {
      "cell_type": "markdown",
      "metadata": {
        "id": "XhOQOGiTaqW8"
      },
      "source": [
        "### N-Fold Classification\n"
      ]
    },
    {
      "cell_type": "markdown",
      "metadata": {
        "id": "SnsjxLReadU-"
      },
      "source": [
        "Similarly, you can also perform classification using cross-validation using the below flags:\n",
        "\n",
        "* **`--nfold_test_classifiers`** - activates classification using cross-validation.\n",
        "* **`--model MODEL_NAME`** - classification model to use (for example logistic regression, etc.).\n",
        "\n",
        "<br/>\n",
        "\n",
        "You can also store the prediction output to a CSV with the below flags:\n",
        "* **`--csv`** - Saves the results to a csv file instead of printing to the screen, like with `--correlate`.\n",
        "* **`--pred_csv`** - write the predicted scores for the sample to a separate CSV prefixed with the name in `--output_name`.\n",
        "\n",
        "<br/>\n",
        "\n",
        "👇 Try predicting if a user is a student or not (`is_student`) from their 1gram and 2gram features using Logistic Regression (`lr`) in 5 fold cross-validation."
      ]
    },
    {
      "cell_type": "code",
      "source": [
        "import subprocess\n",
        "import ipywidgets as widgets\n",
        "from IPython.display import display, clear_output\n",
        "import csv\n",
        "\n",
        "#@title Configure Parameters\n",
        "\n",
        "#@markdown Before executing the command, please adjust the parameters below according to your dataset and analysis needs.\n",
        "\n",
        "if 'outcome_table_name' in globals():\n",
        "    # Open and read the CSV file to extract column names\n",
        "    with open(outcome_table_name, newline='') as csvfile:\n",
        "        reader = csv.reader(csvfile)\n",
        "        column_headers = next(reader, None)\n",
        "\n",
        "    if column_headers:\n",
        "        # Exclude columns containing '_id' from being displayed as checkboxes\n",
        "        filtered_column_headers = [option for option in column_headers if \"_id\" not in option]\n",
        "\n",
        "        feature_table_dropdown = widgets.Dropdown(options=feature_table_mapping, description='Feature Table:')\n",
        "\n",
        "        model_options = {\n",
        "            'lr': 'LogisticRegression',\n",
        "            'lr1': 'LogisticRegression',\n",
        "            'lr_balanced': 'LogisticRegression',\n",
        "            'lrnone': 'LogisticRegression',\n",
        "            'linear-svc': 'LinearSVC',\n",
        "            'svc': 'SVC',\n",
        "            'etc': 'ExtraTreesClassifier',\n",
        "            'rfc': 'RandomForestClassifier',\n",
        "            'pac': 'PassiveAggressiveClassifier',\n",
        "            'gbc': 'GradientBoostingClassifier',\n",
        "            'mnb': 'MultinomialNB',\n",
        "            'gnb': 'GaussianNB',\n",
        "            'bnb': 'BernoulliNB',\n",
        "            'mlp': 'MLPClassifier'\n",
        "        }\n",
        "\n",
        "        # Dropdown for model selection, using the keys as dropdown options\n",
        "        model_dropdown = widgets.Dropdown(\n",
        "            options=[(key, key) for key in model_options.keys()],\n",
        "            value='lr',  # Default model\n",
        "            description='Model:'\n",
        "        )\n",
        "\n",
        "        outcomes_title = widgets.Label('Outcomes:')\n",
        "        outcomes_widgets = {option: widgets.Checkbox(description=option, value=False) for option in filtered_column_headers}\n",
        "\n",
        "        def handle_checkbox_change(change):\n",
        "            pass  # Placeholder in case any dynamic interaction is needed\n",
        "\n",
        "        for checkbox in outcomes_widgets.values():\n",
        "            checkbox.observe(handle_checkbox_change, names='value')\n",
        "\n",
        "        def on_submit(change):\n",
        "            clear_output(wait=True)\n",
        "            outcomes = [k for k, v in outcomes_widgets.items() if v.value]\n",
        "\n",
        "            feature_table_name = feature_table_dropdown.value\n",
        "            selected_model = model_dropdown.value\n",
        "\n",
        "            command = (\n",
        "                f\"dlatkInterface.py -d {database_name} -t {file_name} -g {id_column_name} \"\n",
        "                f\"--group_freq_thresh 100 \"\n",
        "                f\"--outcome_table {outcome_table_name} --outcomes {','.join(outcomes)} \"\n",
        "                f\"--feat_table '{feature_table_name}' \"\n",
        "                f\"--nfold_test_classifiers --model {selected_model}\"\n",
        "            )\n",
        "            print(\"Command to execute:\", command)\n",
        "            process = subprocess.run(command, shell=True, text=True, capture_output=True)\n",
        "            print(process.stdout)\n",
        "            if process.stderr:\n",
        "                print(\"Error:\", process.stderr)\n",
        "\n",
        "        submit_button = widgets.Button(description=\"Submit\")\n",
        "        submit_button.on_click(on_submit)\n",
        "\n",
        "        # Display the widgets\n",
        "        display(feature_table_dropdown, model_dropdown)\n",
        "        display(outcomes_title)\n",
        "        for option, checkbox in outcomes_widgets.items():\n",
        "            display(checkbox)\n",
        "        display(submit_button)\n",
        "\n",
        "    else:\n",
        "        print(\"Failed to read column names from the outcome table.\")\n",
        "else:\n",
        "    print(\"Outcome table name not set. Please ensure a file is uploaded in Part 1.\")\n"
      ],
      "metadata": {
        "colab": {
          "base_uri": "https://localhost:8080/",
          "height": 250,
          "referenced_widgets": [
            "57ccf30dd3684bea8c9d10dff1b8e83c",
            "ad847b69c75d4103ad81365e665c9b4f",
            "43cc87ca8ce743a1b234292ab217718b",
            "28d5c11943a8442ab8f0463789c15968",
            "68c10c12f93a4d9aba0de1afa37f8644",
            "60396f4c3d434941a6febb1cf93f3404",
            "8acde0bb5a9a482292290ac1c7ab93e2",
            "b3a6e257af35409a8105cb95565d5233",
            "b6a0d9822a0b4d7c907cae8e7802aaac",
            "a085f5f43b1040b1a557123f6bcdd9b5",
            "6e05aa9f4c7548c6aca4c0cb58e958d5",
            "a63290976e994252b752ef30a35782b9",
            "a43117da214a4d81b6e62f5ee1349650",
            "cc91ed14fa3941a5bd1e10039bf45479",
            "ef115963f5814cc2827c4cc74df29207",
            "54282d1d7c1c4bb496150efc4532751a",
            "148adf35ab49447bbe568191abb5be79",
            "29e67f34ab9442f690933fc20f552865",
            "02a2049137174731af1ccf462c6884bc",
            "b4b996674c7c4f4bbb970c1509e73d2f",
            "b04c56dc9a3a443b8f39f96bd5d957c7",
            "b8e02e55a3454e7d9d89f64c5222d85d",
            "a709cefb7779418e97544a07bb045e98",
            "dafc0fe78ddb4b458fea9f5cf0512509"
          ]
        },
        "id": "lCVCeJK0rFDd",
        "outputId": "0f97525f-3916-4b38-8d93-cfbc019e3f3c"
      },
      "execution_count": null,
      "outputs": [
        {
          "output_type": "display_data",
          "data": {
            "text/plain": [
              "<IPython.core.display.Javascript object>"
            ],
            "application/javascript": [
              "google.colab.output.setIframeHeight(0, true, {maxHeight: 250})"
            ]
          },
          "metadata": {}
        },
        {
          "output_type": "display_data",
          "data": {
            "text/plain": [
              "<IPython.core.display.HTML object>"
            ],
            "text/html": [
              "<style> body {background-color: rgb(255, 250, 232);}</style>"
            ]
          },
          "metadata": {}
        },
        {
          "output_type": "display_data",
          "data": {
            "text/plain": [
              "<IPython.core.display.Javascript object>"
            ],
            "application/javascript": [
              "google.colab.output.setIframeHeight(0, true, {maxHeight: 250})"
            ]
          },
          "metadata": {}
        },
        {
          "output_type": "display_data",
          "data": {
            "text/plain": [
              "<IPython.core.display.HTML object>"
            ],
            "text/html": [
              "<style> body {background-color: rgb(255, 250, 232);}</style>"
            ]
          },
          "metadata": {}
        },
        {
          "output_type": "display_data",
          "data": {
            "text/plain": [
              "Dropdown(description='Feature Table:', options={'1to2grams-filtered-table': 'feat$1to2gram$msgs404u$user_id$0_…"
            ],
            "application/vnd.jupyter.widget-view+json": {
              "version_major": 2,
              "version_minor": 0,
              "model_id": "57ccf30dd3684bea8c9d10dff1b8e83c"
            }
          },
          "metadata": {}
        },
        {
          "output_type": "display_data",
          "data": {
            "text/plain": [
              "Dropdown(description='Model:', options=(('lr', 'lr'), ('lr1', 'lr1'), ('lr_balanced', 'lr_balanced'), ('lrnone…"
            ],
            "application/vnd.jupyter.widget-view+json": {
              "version_major": 2,
              "version_minor": 0,
              "model_id": "28d5c11943a8442ab8f0463789c15968"
            }
          },
          "metadata": {}
        },
        {
          "output_type": "display_data",
          "data": {
            "text/plain": [
              "Label(value='Outcomes:')"
            ],
            "application/vnd.jupyter.widget-view+json": {
              "version_major": 2,
              "version_minor": 0,
              "model_id": "8acde0bb5a9a482292290ac1c7ab93e2"
            }
          },
          "metadata": {}
        },
        {
          "output_type": "display_data",
          "data": {
            "text/plain": [
              "Checkbox(value=False, description='gender')"
            ],
            "application/vnd.jupyter.widget-view+json": {
              "version_major": 2,
              "version_minor": 0,
              "model_id": "a085f5f43b1040b1a557123f6bcdd9b5"
            }
          },
          "metadata": {}
        },
        {
          "output_type": "display_data",
          "data": {
            "text/plain": [
              "Checkbox(value=False, description='age')"
            ],
            "application/vnd.jupyter.widget-view+json": {
              "version_major": 2,
              "version_minor": 0,
              "model_id": "a43117da214a4d81b6e62f5ee1349650"
            }
          },
          "metadata": {}
        },
        {
          "output_type": "display_data",
          "data": {
            "text/plain": [
              "Checkbox(value=False, description='occu')"
            ],
            "application/vnd.jupyter.widget-view+json": {
              "version_major": 2,
              "version_minor": 0,
              "model_id": "54282d1d7c1c4bb496150efc4532751a"
            }
          },
          "metadata": {}
        },
        {
          "output_type": "display_data",
          "data": {
            "text/plain": [
              "Checkbox(value=False, description='is_student')"
            ],
            "application/vnd.jupyter.widget-view+json": {
              "version_major": 2,
              "version_minor": 0,
              "model_id": "02a2049137174731af1ccf462c6884bc"
            }
          },
          "metadata": {}
        },
        {
          "output_type": "display_data",
          "data": {
            "text/plain": [
              "Button(description='Submit', style=ButtonStyle())"
            ],
            "application/vnd.jupyter.widget-view+json": {
              "version_major": 2,
              "version_minor": 0,
              "model_id": "b8e02e55a3454e7d9d89f64c5222d85d"
            }
          },
          "metadata": {}
        }
      ]
    },
    {
      "cell_type": "code",
      "source": [
        "import subprocess\n",
        "import ipywidgets as widgets\n",
        "from IPython.display import display, clear_output\n",
        "import csv\n",
        "\n",
        "#@title Configure Parameters\n",
        "\n",
        "#@markdown Before executing the command, please adjust the parameters below according to your dataset and analysis needs.\n",
        "\n",
        "if 'outcome_table_name' in globals():\n",
        "    # Open and read the CSV file to extract column names\n",
        "    with open(outcome_table_name, newline='') as csvfile:\n",
        "        reader = csv.reader(csvfile)\n",
        "        column_headers = next(reader, None)\n",
        "\n",
        "    if column_headers:\n",
        "        # Exclude columns containing '_id' from being displayed as checkboxes\n",
        "        filtered_column_headers = [option for option in column_headers if \"_id\" not in option]\n",
        "\n",
        "        feature_table_dropdown = widgets.Dropdown(options=feature_table_mapping, description='Feature Table:')\n",
        "\n",
        "        model_options = {\n",
        "            'lr': 'LogisticRegression',\n",
        "            'lr1': 'LogisticRegression',\n",
        "            'lr_balanced': 'LogisticRegression',\n",
        "            'lrnone': 'LogisticRegression',\n",
        "            'linear-svc': 'LinearSVC',\n",
        "            'svc': 'SVC',\n",
        "            'etc': 'ExtraTreesClassifier',\n",
        "            'rfc': 'RandomForestClassifier',\n",
        "            'pac': 'PassiveAggressiveClassifier',\n",
        "            'gbc': 'GradientBoostingClassifier',\n",
        "            'mnb': 'MultinomialNB',\n",
        "            'gnb': 'GaussianNB',\n",
        "            'bnb': 'BernoulliNB',\n",
        "            'mlp': 'MLPClassifier'\n",
        "        }\n",
        "\n",
        "        # Dropdown for model selection\n",
        "        model_dropdown = widgets.Dropdown(\n",
        "            options=[(key, key) for key in model_options],  # Use key for both display and value\n",
        "            value='lr',  # Set 'lr' as the default model\n",
        "            description='Model:'\n",
        ")\n",
        "\n",
        "\n",
        "        outcomes_title = widgets.Label('Outcomes:')\n",
        "        controls_title = widgets.Label('Controls:')\n",
        "        outcomes_widgets = {}\n",
        "        controls_widgets = {}\n",
        "        outcomes_cat_widgets = {}\n",
        "        controls_cat_widgets = {}\n",
        "\n",
        "        # Create checkboxes and radio buttons for each column header\n",
        "        for option in filtered_column_headers:\n",
        "            outcomes_widgets[option] = widgets.Checkbox(description=option, value=False)\n",
        "            controls_widgets[option] = widgets.Checkbox(description=option, value=False)\n",
        "            outcomes_cat_widgets[option] = widgets.RadioButtons(\n",
        "                options=['No', 'Yes'],\n",
        "                description='Is this variable Categorical?',\n",
        "                value='No',\n",
        "                layout={'width': 'max-content'},\n",
        "                style={'description_width': 'initial'}\n",
        "            )\n",
        "            controls_cat_widgets[option] = widgets.RadioButtons(\n",
        "                options=['No', 'Yes'],\n",
        "                description='Is this variable Categorical?',\n",
        "                value='No',\n",
        "                layout={'width': 'max-content'},\n",
        "                style={'description_width': 'initial'}\n",
        "            )\n",
        "            outcomes_cat_widgets[option].layout.display = 'none'\n",
        "            controls_cat_widgets[option].layout.display = 'none'\n",
        "\n",
        "        def handle_checkbox_change(change):\n",
        "            option = change.owner.description\n",
        "            if change.owner in outcomes_widgets.values():\n",
        "                controls_widgets[option].disabled = change.new\n",
        "                outcomes_cat_widgets[option].layout.display = 'flex' if change.new else 'none'\n",
        "            elif change.owner in controls_widgets.values():\n",
        "                outcomes_widgets[option].disabled = change.new\n",
        "                controls_cat_widgets[option].layout.display = 'flex' if change.new else 'none'\n",
        "\n",
        "        for checkbox in outcomes_widgets.values():\n",
        "            checkbox.observe(handle_checkbox_change, names='value')\n",
        "        for checkbox in controls_widgets.values():\n",
        "            checkbox.observe(handle_checkbox_change, names='value')\n",
        "\n",
        "        def on_submit(change):\n",
        "            global outcomes, controls\n",
        "            clear_output(wait=True)\n",
        "            outcomes = [k for k, v in outcomes_widgets.items() if v.value]\n",
        "            controls = [k for k, v in controls_widgets.items() if v.value]\n",
        "            cat_to_bin_outcomes = [k for k, v in outcomes_cat_widgets.items() if v.value == 'Yes']\n",
        "            cat_to_bin_controls = [k for k, v in controls_cat_widgets.items() if v.value == 'Yes']\n",
        "\n",
        "            feature_table_name = feature_table_dropdown.value\n",
        "            selected_model = model_dropdown.value\n",
        "            cat_to_bin_parts = [','.join(cat_to_bin_outcomes), ','.join(cat_to_bin_controls)]\n",
        "            cat_to_bin_parts = [part for part in cat_to_bin_parts if part]  # Remove empty strings\n",
        "            cat_to_bin_cmd = f\"--cat_to_bin {' '.join(cat_to_bin_parts)}\" if cat_to_bin_parts else \"\"\n",
        "\n",
        "            command = (\n",
        "                f\"dlatkInterface.py -d {database_name} -t {file_name} -g {id_column_name} \"\n",
        "                f\"--group_freq_thresh 100 --feat_table '{feature_table_name}' \"\n",
        "                f\"--outcome_table {outcome_table_name} --outcomes {','.join(outcomes)} \"\n",
        "                f\"--controls {','.join(controls)} {cat_to_bin_cmd} \"\n",
        "                f\"--nfold_test_classifiers --model {selected_model}\"\n",
        "            )\n",
        "            print(\"Command to execute:\", command)\n",
        "            process = subprocess.run(command, shell=True, text=True, capture_output=True)\n",
        "            print(process.stdout)\n",
        "            if process.stderr:\n",
        "                print(\"Error:\", process.stderr)\n",
        "\n",
        "        submit_button = widgets.Button(description=\"Submit\")\n",
        "        submit_button.on_click(on_submit)\n",
        "\n",
        "        display(feature_table_dropdown, model_dropdown)\n",
        "        display(outcomes_title)\n",
        "        for option, checkbox in outcomes_widgets.items():\n",
        "            display(widgets.HBox([checkbox, outcomes_cat_widgets[option]]))\n",
        "        display(controls_title)\n",
        "        for option, checkbox in controls_widgets.items():\n",
        "            display(widgets.HBox([checkbox, controls_cat_widgets[option]]))\n",
        "        display(submit_button)\n",
        "\n",
        "    else:\n",
        "        print(\"Failed to read column names from the outcome table.\")\n",
        "else:\n",
        "    print(\"Outcome table name not set. Please ensure a file is uploaded in Part 1.\")\n"
      ],
      "metadata": {
        "id": "SicQCwIuWTab",
        "colab": {
          "base_uri": "https://localhost:8080/",
          "height": 250,
          "referenced_widgets": [
            "85a32bb0e4154c33909cd2de61a2eb2f",
            "39afcd61e43e4397b3e5ae7a823cfe89",
            "1cf840d635914bf4bfd2488b830e20ba",
            "1e878f4ecac8450f8e3f704713ab9508",
            "0e7894a8da2e46adb709f0e160fefe41",
            "be6d73d5f7f84192b997a94122a0459c",
            "37105189ff7d4f078230ffc1646f69db",
            "1ee11733e9254d619dc91308dd71e24a",
            "c78922831c034d75ac57226e904f5952",
            "4a2d2f6a9bb1495387b19441b934ab07",
            "7df88905045f480cb9a93fb6ce7a2dd2",
            "a3fef69dfff8420981ce3dd28fde85d4",
            "f0787208484f4e929c62be9700789aba",
            "9f2b459e9c9a4954959a0d32b786cf0a",
            "7aadaaa00d0843a5bee5a38d33c1e156",
            "e22a0ab49d5749a283bbfd71817ed9af",
            "3fba40db79c8471fb521c13f471460bf",
            "d902b25d699f4d0bb1f7d61e97b66619",
            "fc54c0c83b3442c9aa9b829f3351018c",
            "b09cbf47406341dc97aee84eebd2c3e0",
            "dc8405b24a5b44348fa5cf3eb360c763",
            "604634cc03c9492ead65115addb3a368",
            "b0e572c000e84de7b82f67d6198da570",
            "9536169e00524e6e844a8a683d990986",
            "f118187cedef455c90bab9dbe83c10f8",
            "b67874c8fcc1462a82fad640ae92f3f6",
            "cc21c5db46cf4d758617f313e86c8fad",
            "b723b5b4aef345bba4130317f2b4ebfd",
            "07a875b1ba5041d795ae931066dc3603",
            "acad24e5d4374cd7bf6487c2b493ef5d",
            "cb1cc9dc0aca442b9a78b773af2c5c39",
            "6794e3cfc64347ea82e48eeb5d0d5a03",
            "8adaa4aea50249af9d6bd1a35a8587cd",
            "4be2cf60fd5143ac8ee1024a4335e1db",
            "dbfdadf4a17940f682f5fcee315ae1b0",
            "5da0e32c08b745dbabb592870b904b2f",
            "fe17a73e7f3c43e2b0aa98353c5a7d77",
            "aee8fd8bcdc24c418e01864eb44ea862",
            "541a5069b0b74c39803510847ade42c3",
            "78a19ea6638f47d886671125b73d563c",
            "55b7797c6e424c1ca09c4fac532a0ecf",
            "1abc45e353fd42b0a3814f737e37fc1f",
            "eb7189d3d49146f984d4436b61102477",
            "ce0a102614e244aa8316565bb293467f",
            "22303aaa400f46ec978d865bddd2898e",
            "bfd45e1b398a4b54a740863253693013",
            "3790145041d14395a305df48182261bd",
            "24f8a62eb3e6424eb110951b9de13816",
            "073e8b47e4fc456784473db9bd1311ef",
            "e4a10c24d6254047b4dc9b3e4a6931ab",
            "6558c4604bad4a89a691776049c7b788",
            "5761c1830ca746e8b92587a8eb2b4840",
            "e8ca9f65978c46429721300c1a1d202e",
            "6cb18303e8284361aac3a53840fefe16",
            "41083ff6d7e2437e9b84c934a7a0def0",
            "a904a81d823e4f50a1c852587e8ea338",
            "7e2375308d404d0dbe0a2e4ccdf5c91c",
            "439de51f1652404d8063ee16dc908f27",
            "8f25249ca2234fc6b494c4dd0e9ba919",
            "0875658925fe4689ba88062877a944cb",
            "bd7a80ea59b145ecb2e205b3e6530886",
            "b38cb6edd2b54cf296bb301b812d4c05",
            "726c0119eeb04a21b1fffbf6b94b7dc6",
            "db42de05462d4d8c853fafbd0ba331a4",
            "0788d7ce32184136b7de6b50c153a2a4",
            "a04855d9b2894359b92b76934d9e87da",
            "0ca8eda56ce44da79182f13f0bfa5bc1",
            "5efbc2d0aa8844cbaf62355e08201365",
            "9f2c61ca53fc40a0994467303ac4d9e7",
            "8406c853a4c04a8fbb8a5e34816b92b5",
            "0b93e9f878454c77b65bfa2d330d5a9d",
            "896f0fbbb12f4bbe9f5e895b658f2e9f",
            "97312d1206c24337ae5bdf51ee3c6951",
            "62207822d27a4a438d35f4dba29511c5",
            "3a06ff629f424b9faa93bef76c3daa1f",
            "0386cf83c125433da65739194e602ef1",
            "be4cafdc9c6248cf8fab9112c610a5ce",
            "99713b0870cd4f78862c32c125ab32af",
            "e3f0dbf8a6334775b353a9d8b4d02767"
          ]
        },
        "outputId": "5b8ce95b-6d7b-4223-d429-181a87a70f1e"
      },
      "execution_count": null,
      "outputs": [
        {
          "output_type": "display_data",
          "data": {
            "text/plain": [
              "<IPython.core.display.Javascript object>"
            ],
            "application/javascript": [
              "google.colab.output.setIframeHeight(0, true, {maxHeight: 250})"
            ]
          },
          "metadata": {}
        },
        {
          "output_type": "display_data",
          "data": {
            "text/plain": [
              "<IPython.core.display.HTML object>"
            ],
            "text/html": [
              "<style> body {background-color: rgb(255, 250, 232);}</style>"
            ]
          },
          "metadata": {}
        },
        {
          "output_type": "display_data",
          "data": {
            "text/plain": [
              "<IPython.core.display.Javascript object>"
            ],
            "application/javascript": [
              "google.colab.output.setIframeHeight(0, true, {maxHeight: 250})"
            ]
          },
          "metadata": {}
        },
        {
          "output_type": "display_data",
          "data": {
            "text/plain": [
              "<IPython.core.display.HTML object>"
            ],
            "text/html": [
              "<style> body {background-color: rgb(255, 250, 232);}</style>"
            ]
          },
          "metadata": {}
        },
        {
          "output_type": "display_data",
          "data": {
            "text/plain": [
              "<IPython.core.display.Javascript object>"
            ],
            "application/javascript": [
              "google.colab.output.setIframeHeight(0, true, {maxHeight: 250})"
            ]
          },
          "metadata": {}
        },
        {
          "output_type": "display_data",
          "data": {
            "text/plain": [
              "<IPython.core.display.HTML object>"
            ],
            "text/html": [
              "<style> body {background-color: rgb(255, 250, 232);}</style>"
            ]
          },
          "metadata": {}
        },
        {
          "output_type": "display_data",
          "data": {
            "text/plain": [
              "Dropdown(description='Feature Table:', options={'1to2grams-filtered-table': 'feat$1to2gram$msgs404u$user_id$0_…"
            ],
            "application/vnd.jupyter.widget-view+json": {
              "version_major": 2,
              "version_minor": 0,
              "model_id": "85a32bb0e4154c33909cd2de61a2eb2f"
            }
          },
          "metadata": {}
        },
        {
          "output_type": "display_data",
          "data": {
            "text/plain": [
              "Dropdown(description='Model:', options=(('lr', 'lr'), ('lr1', 'lr1'), ('lr_balanced', 'lr_balanced'), ('lrnone…"
            ],
            "application/vnd.jupyter.widget-view+json": {
              "version_major": 2,
              "version_minor": 0,
              "model_id": "1e878f4ecac8450f8e3f704713ab9508"
            }
          },
          "metadata": {}
        },
        {
          "output_type": "display_data",
          "data": {
            "text/plain": [
              "Label(value='Outcomes:')"
            ],
            "application/vnd.jupyter.widget-view+json": {
              "version_major": 2,
              "version_minor": 0,
              "model_id": "37105189ff7d4f078230ffc1646f69db"
            }
          },
          "metadata": {}
        },
        {
          "output_type": "display_data",
          "data": {
            "text/plain": [
              "HBox(children=(Checkbox(value=False, description='gender'), RadioButtons(description='Is this variable Categor…"
            ],
            "application/vnd.jupyter.widget-view+json": {
              "version_major": 2,
              "version_minor": 0,
              "model_id": "4a2d2f6a9bb1495387b19441b934ab07"
            }
          },
          "metadata": {}
        },
        {
          "output_type": "display_data",
          "data": {
            "text/plain": [
              "HBox(children=(Checkbox(value=False, description='age'), RadioButtons(description='Is this variable Categorica…"
            ],
            "application/vnd.jupyter.widget-view+json": {
              "version_major": 2,
              "version_minor": 0,
              "model_id": "d902b25d699f4d0bb1f7d61e97b66619"
            }
          },
          "metadata": {}
        },
        {
          "output_type": "display_data",
          "data": {
            "text/plain": [
              "HBox(children=(Checkbox(value=False, description='occu'), RadioButtons(description='Is this variable Categoric…"
            ],
            "application/vnd.jupyter.widget-view+json": {
              "version_major": 2,
              "version_minor": 0,
              "model_id": "b67874c8fcc1462a82fad640ae92f3f6"
            }
          },
          "metadata": {}
        },
        {
          "output_type": "display_data",
          "data": {
            "text/plain": [
              "HBox(children=(Checkbox(value=False, description='is_student'), RadioButtons(description='Is this variable Cat…"
            ],
            "application/vnd.jupyter.widget-view+json": {
              "version_major": 2,
              "version_minor": 0,
              "model_id": "4be2cf60fd5143ac8ee1024a4335e1db"
            }
          },
          "metadata": {}
        },
        {
          "output_type": "display_data",
          "data": {
            "text/plain": [
              "Label(value='Controls:')"
            ],
            "application/vnd.jupyter.widget-view+json": {
              "version_major": 2,
              "version_minor": 0,
              "model_id": "1abc45e353fd42b0a3814f737e37fc1f"
            }
          },
          "metadata": {}
        },
        {
          "output_type": "display_data",
          "data": {
            "text/plain": [
              "HBox(children=(Checkbox(value=False, description='gender'), RadioButtons(description='Is this variable Categor…"
            ],
            "application/vnd.jupyter.widget-view+json": {
              "version_major": 2,
              "version_minor": 0,
              "model_id": "22303aaa400f46ec978d865bddd2898e"
            }
          },
          "metadata": {}
        },
        {
          "output_type": "display_data",
          "data": {
            "text/plain": [
              "HBox(children=(Checkbox(value=False, description='age'), RadioButtons(description='Is this variable Categorica…"
            ],
            "application/vnd.jupyter.widget-view+json": {
              "version_major": 2,
              "version_minor": 0,
              "model_id": "e8ca9f65978c46429721300c1a1d202e"
            }
          },
          "metadata": {}
        },
        {
          "output_type": "display_data",
          "data": {
            "text/plain": [
              "HBox(children=(Checkbox(value=False, description='occu'), RadioButtons(description='Is this variable Categoric…"
            ],
            "application/vnd.jupyter.widget-view+json": {
              "version_major": 2,
              "version_minor": 0,
              "model_id": "bd7a80ea59b145ecb2e205b3e6530886"
            }
          },
          "metadata": {}
        },
        {
          "output_type": "display_data",
          "data": {
            "text/plain": [
              "HBox(children=(Checkbox(value=False, description='is_student'), RadioButtons(description='Is this variable Cat…"
            ],
            "application/vnd.jupyter.widget-view+json": {
              "version_major": 2,
              "version_minor": 0,
              "model_id": "9f2c61ca53fc40a0994467303ac4d9e7"
            }
          },
          "metadata": {}
        },
        {
          "output_type": "display_data",
          "data": {
            "text/plain": [
              "Button(description='Submit', style=ButtonStyle())"
            ],
            "application/vnd.jupyter.widget-view+json": {
              "version_major": 2,
              "version_minor": 0,
              "model_id": "be4cafdc9c6248cf8fab9112c610a5ce"
            }
          },
          "metadata": {}
        }
      ]
    },
    {
      "cell_type": "code",
      "execution_count": null,
      "metadata": {
        "colab": {
          "base_uri": "https://localhost:8080/",
          "height": 250
        },
        "id": "aCuCF14Eapmm",
        "outputId": "ccd35e06-9f83-4a05-8229-5385a1e8e940"
      },
      "outputs": [
        {
          "output_type": "display_data",
          "data": {
            "text/plain": [
              "<IPython.core.display.Javascript object>"
            ],
            "application/javascript": [
              "google.colab.output.setIframeHeight(0, true, {maxHeight: 250})"
            ]
          },
          "metadata": {}
        },
        {
          "output_type": "display_data",
          "data": {
            "text/plain": [
              "<IPython.core.display.HTML object>"
            ],
            "text/html": [
              "<style> body {background-color: rgb(255, 250, 232);}</style>"
            ]
          },
          "metadata": {}
        },
        {
          "output_type": "stream",
          "name": "stdout",
          "text": [
            "\n",
            "\n",
            "TopicExtractor: gensim Mallet wrapper unavailable, using Mallet directly.\n",
            "\n",
            "-----\n",
            "DLATK Interface Initiated: 2024-04-24 04:58:05\n",
            "-----\n",
            "Connecting to SQLite database: /content/sqlite_data/colab_csv.db\n",
            "SQL Query: CREATE TABLE users404 (user_id INT, gender INT, age INT, occu VARCHAR(23), is_student DOUBLE);\n",
            "Importing data, reading users404.csv file\n",
            "Reading remaining 404 rows into the table...\n",
            "Connecting to SQLite database: /content/sqlite_data/colab_csv.db\n",
            "WARNING: The table users404 does not have: a PRIMARY key on user_id. Consider adding.\n",
            "Loading Outcomes and Getting Groups for: {'is_student'}\n",
            "Connecting to SQLite database: /content/sqlite_data/colab_csv.db\n",
            "[number of groups: 255 (5 Folds)] non-stratified / using same folds for all outcomes\n",
            "\n",
            "\n",
            "|COMBO: ()|\n",
            "===========\n",
            "\n",
            "= is_student (w/ lang.)=\n",
            "------------------------\n",
            "\n",
            "Fold 0 \n",
            "   (feature group: 0): [Initial size: 255]\n",
            "[Train size: 204    Test size: 51]\n",
            "[Applying StandardScaler to X[0]: StandardScaler()]\n",
            " X[0]: (N, features): (204, 2290)\n",
            "[Training classification model: lr]\n",
            "model: LogisticRegression(C=0.01, random_state=42) \n",
            "  predict: applying standard scaler to X[0]: StandardScaler()\n",
            "  predict: combined X shape: (51, 2290)\n",
            "  predict: classifier intercept: [-0.42737537]\n",
            " *confusion matrix: \n",
            "[[23  5]\n",
            " [10 13]]\n",
            " *precision and recall: \n",
            "              precision    recall  f1-score   support\n",
            "\n",
            "           0       0.70      0.82      0.75        28\n",
            "           1       0.72      0.57      0.63        23\n",
            "\n",
            "    accuracy                           0.71        51\n",
            "   macro avg       0.71      0.69      0.69        51\n",
            "weighted avg       0.71      0.71      0.70        51\n",
            "\n",
            " *FOLD ACC: 0.7059 (mfclass_acc: 0.5490); mfclass: 0; auc: 0.7189\n",
            "\n",
            "\n",
            "Fold 1 \n",
            "   (feature group: 0): [Initial size: 255]\n",
            "[Train size: 204    Test size: 51]\n",
            "[Applying StandardScaler to X[0]: StandardScaler()]\n",
            " X[0]: (N, features): (204, 2290)\n",
            "[Training classification model: lr]\n",
            "model: LogisticRegression(C=0.01, random_state=42) \n",
            "  predict: applying standard scaler to X[0]: StandardScaler()\n",
            "  predict: combined X shape: (51, 2290)\n",
            "  predict: classifier intercept: [-0.34375154]\n",
            " *confusion matrix: \n",
            "[[26  4]\n",
            " [ 7 14]]\n",
            " *precision and recall: \n",
            "              precision    recall  f1-score   support\n",
            "\n",
            "           0       0.79      0.87      0.83        30\n",
            "           1       0.78      0.67      0.72        21\n",
            "\n",
            "    accuracy                           0.78        51\n",
            "   macro avg       0.78      0.77      0.77        51\n",
            "weighted avg       0.78      0.78      0.78        51\n",
            "\n",
            " *FOLD ACC: 0.7843 (mfclass_acc: 0.5882); mfclass: 0; auc: 0.8540\n",
            "\n",
            "\n",
            "Fold 2 \n",
            "   (feature group: 0): [Initial size: 255]\n",
            "[Train size: 204    Test size: 51]\n",
            "[Applying StandardScaler to X[0]: StandardScaler()]\n",
            " X[0]: (N, features): (204, 2290)\n",
            "[Training classification model: lr]\n",
            "model: LogisticRegression(C=0.01, random_state=42) \n",
            "  predict: applying standard scaler to X[0]: StandardScaler()\n",
            "  predict: combined X shape: (51, 2290)\n",
            "  predict: classifier intercept: [-0.50772704]\n",
            " *confusion matrix: \n",
            "[[23  3]\n",
            " [11 14]]\n",
            " *precision and recall: \n",
            "              precision    recall  f1-score   support\n",
            "\n",
            "           0       0.68      0.88      0.77        26\n",
            "           1       0.82      0.56      0.67        25\n",
            "\n",
            "    accuracy                           0.73        51\n",
            "   macro avg       0.75      0.72      0.72        51\n",
            "weighted avg       0.75      0.73      0.72        51\n",
            "\n",
            " *FOLD ACC: 0.7255 (mfclass_acc: 0.5098); mfclass: 0; auc: 0.7185\n",
            "\n",
            "\n",
            "Fold 3 \n",
            "   (feature group: 0): [Initial size: 255]\n",
            "[Train size: 204    Test size: 51]\n",
            "[Applying StandardScaler to X[0]: StandardScaler()]\n",
            " X[0]: (N, features): (204, 2290)\n",
            "[Training classification model: lr]\n",
            "model: LogisticRegression(C=0.01, random_state=42) \n",
            "  predict: applying standard scaler to X[0]: StandardScaler()\n",
            "  predict: combined X shape: (51, 2290)\n",
            "  predict: classifier intercept: [-0.38953479]\n",
            " *confusion matrix: \n",
            "[[23  6]\n",
            " [ 8 14]]\n",
            " *precision and recall: \n",
            "              precision    recall  f1-score   support\n",
            "\n",
            "           0       0.74      0.79      0.77        29\n",
            "           1       0.70      0.64      0.67        22\n",
            "\n",
            "    accuracy                           0.73        51\n",
            "   macro avg       0.72      0.71      0.72        51\n",
            "weighted avg       0.72      0.73      0.72        51\n",
            "\n",
            " *FOLD ACC: 0.7255 (mfclass_acc: 0.5686); mfclass: 0; auc: 0.8245\n",
            "\n",
            "\n",
            "Fold 4 \n",
            "   (feature group: 0): [Initial size: 255]\n",
            "[Train size: 204    Test size: 51]\n",
            "[Applying StandardScaler to X[0]: StandardScaler()]\n",
            " X[0]: (N, features): (204, 2290)\n",
            "[Training classification model: lr]\n",
            "model: LogisticRegression(C=0.01, random_state=42) \n",
            "  predict: applying standard scaler to X[0]: StandardScaler()\n",
            "  predict: combined X shape: (51, 2290)\n",
            "  predict: classifier intercept: [-0.35727353]\n",
            " *confusion matrix: \n",
            "[[24  6]\n",
            " [11 10]]\n",
            " *precision and recall: \n",
            "              precision    recall  f1-score   support\n",
            "\n",
            "           0       0.69      0.80      0.74        30\n",
            "           1       0.62      0.48      0.54        21\n",
            "\n",
            "    accuracy                           0.67        51\n",
            "   macro avg       0.66      0.64      0.64        51\n",
            "weighted avg       0.66      0.67      0.66        51\n",
            "\n",
            " *FOLD ACC: 0.6667 (mfclass_acc: 0.5882); mfclass: 0; auc: 0.6730\n",
            "\n",
            "* Overall Fold Acc: 0.7216 (+- 0.0170) vs. MFC Accuracy: 0.5608 (based on test rather than train)\n",
            "*       Overall F1: 0.7077 (+- 0.0191)\n",
            "       + precision: 0.7237 (+- 0.0190)\n",
            "       +    recall: 0.7070 (+- 0.0188)\n",
            "\n",
            "[TEST COMPLETE]\n",
            "\n",
            "{'is_student': {(): {1: {'acc': 0.7215686274509804,\n",
            "                         'auc': 0.7448801198801199,\n",
            "                         'auc_cntl_comb2': 0.0,\n",
            "                         'auc_cntl_comb2_p': 1.0,\n",
            "                         'auc_cntl_comb2_t': 0.0,\n",
            "                         'auc_p': 0.0,\n",
            "                         'auc_p_v_cntrls': 1.0,\n",
            "                         'f1': 0.7084963531855286,\n",
            "                         'f1_weighted': 0.7160008069305103,\n",
            "                         'folds_acc': 0.7215686274509804,\n",
            "                         'folds_auc': 0.7577682350965709,\n",
            "                         'folds_f1': 0.7077258991133442,\n",
            "                         'folds_mfclass_acc': 0.5607843137254902,\n",
            "                         'folds_precision': 0.7237498254433737,\n",
            "                         'folds_recall': 0.7070252241511612,\n",
            "                         'folds_rho': 0.4303887011448538,\n",
            "                         'folds_rho-p': 0.008453872188303043,\n",
            "                         'folds_se_acc': 0.01700351638327749,\n",
            "                         'folds_se_auc': 0.03094277448888591,\n",
            "                         'folds_se_f1': 0.01906700306580623,\n",
            "                         'folds_se_mfclass_acc': 0.013124078847593345,\n",
            "                         'folds_se_precision': 0.01904202376812535,\n",
            "                         'folds_se_recall': 0.018750112642087858,\n",
            "                         'folds_se_rho': 0.03768870238077484,\n",
            "                         'folds_se_rho-p': 0.006395604664118233,\n",
            "                         'matt_ccoef': 0.42951489521772107,\n",
            "                         'mfclass': '0',\n",
            "                         'mfclass_acc': 0.5607843137254902,\n",
            "                         'num_classes': '2',\n",
            "                         'num_features': 2290,\n",
            "                         'precision': 0.7236022742656018,\n",
            "                         'recall': 0.7062624875124875,\n",
            "                         'recall_micro': 0.7215686274509804,\n",
            "                         'recall_sensitivity': 0.5803571428571429,\n",
            "                         'recall_specificity': 0.8321678321678322,\n",
            "                         'test_size': 51,\n",
            "                         'train_size': 204,\n",
            "                         '{modelFS_desc}': 'None',\n",
            "                         '{model_desc}': 'LogisticRegression(C=0.01, '\n",
            "                                         'random_state=42)'}}}}\n",
            "\n",
            "[is_student]\n",
            "   NO CONTROLS\n",
            "     + LANG: acc: 0.722, f1: 0.708, auc: 0.745 (p_vs_controls = 1.0000)\n",
            "   (mfc_acc: 0.561)\n",
            "-------\n",
            "Settings:\n",
            "\n",
            "Database - colab_csv\n",
            "Corpus - msgs404u.csv\n",
            "Group ID - user_id\n",
            "Feature table(s) - feat$1to2gram$msgs404u$user_id$0_1\n",
            "Outcome table - users404.csv\n",
            "Outcome(s) - is_student\n",
            "-------\n",
            "Interface Runtime: 11.38 seconds\n",
            "DLATK exits with success! A good day indeed  ¯\\_(ツ)_/¯.\n"
          ]
        }
      ],
      "source": [
        "!dlatkInterface.py \\\n",
        "  -d colab_csv -t msgs404u.csv -g user_id --group_freq_thresh 100 \\\n",
        "  --outcome_table users404.csv --outcomes is_student  \\\n",
        "  --feat_table 'feat$1to2gram$msgs404u$user_id$0_1' \\\n",
        "  --nfold_test_classifiers --model lr"
      ]
    },
    {
      "cell_type": "markdown",
      "metadata": {
        "id": "zWMd-qW-Toti"
      },
      "source": [
        "👆 The above command produce the key validation metrics like `acc` (accuracy) which gives the fraction of users correctly classified as student (`72.2%` in this case), [f1 score](https://en.wikipedia.org/wiki/F-score), and [auc](https://developers.google.com/machine-learning/crash-course/classification/roc-and-auc) -\n",
        "\n",
        "```\n",
        "[is_student]\n",
        "   NO CONTROLS\n",
        "     + LANG: acc: 0.722, f1: 0.708, auc: 0.745 (p_vs_controls = 1.0000)\n",
        "   (mfc_acc: 0.561)\n",
        "```\n",
        "\n",
        "<br/>"
      ]
    },
    {
      "cell_type": "code",
      "source": [
        "import subprocess\n",
        "import ipywidgets as widgets\n",
        "from IPython.display import display, clear_output\n",
        "import csv\n",
        "\n",
        "#@markdown Test: configure parameters: fixed case\n",
        "\n",
        "\n",
        "global generated_feature_table_name, outcomes, controls  # Ensure these are declared global if set elsewhere\n",
        "\n",
        "def configure_parameters():\n",
        "    global generated_feature_table_name, outcomes, controls\n",
        "\n",
        "    if 'outcome_table_name' in globals() and os.path.exists(outcome_table_name):\n",
        "        with open(outcome_table_name, newline='') as csvfile:\n",
        "            reader = csv.reader(csvfile)\n",
        "            column_headers = next(reader, None)\n",
        "\n",
        "        if column_headers:\n",
        "            outcomes_title = widgets.Label('Outcomes:')\n",
        "            controls_title = widgets.Label('Controls:')\n",
        "            outcomes_widgets = {}\n",
        "            controls_widgets = {}\n",
        "            outcomes_cat_widgets = {}\n",
        "            controls_cat_widgets = {}\n",
        "\n",
        "            # Create checkboxes for each column header\n",
        "            for option in column_headers:\n",
        "                if \"_id\" not in option:\n",
        "                    outcomes_widgets[option] = widgets.Checkbox(description=option, value=False)\n",
        "                    controls_widgets[option] = widgets.Checkbox(description=option, value=False)\n",
        "                    outcomes_cat_widgets[option] = widgets.Checkbox(\n",
        "                        description='Is this variable Categorical?',\n",
        "                        value=False,\n",
        "                        layout={'width': 'max-content'},\n",
        "                        style={'description_width': 'initial'}\n",
        "                    )\n",
        "                    controls_cat_widgets[option] = widgets.Checkbox(\n",
        "                        description='Is this variable Categorical?',\n",
        "                        value=False,\n",
        "                        layout={'width': 'max-content'},\n",
        "                        style={'description_width': 'initial'}\n",
        "                    )\n",
        "\n",
        "            def handle_checkbox_change(change):\n",
        "                option = change.owner.description\n",
        "                if change.owner in outcomes_widgets.values():\n",
        "                    controls_widgets[option].disabled = change.new\n",
        "                    outcomes_cat_widgets[option].layout.display = 'flex' if change.new else 'none'\n",
        "                elif change.owner in controls_widgets.values():\n",
        "                    outcomes_widgets[option].disabled = change.new\n",
        "                    controls_cat_widgets[option].layout.display = 'flex' if change.new else 'none'\n",
        "\n",
        "            for checkbox in outcomes_widgets.values():\n",
        "                checkbox.observe(handle_checkbox_change, names='value')\n",
        "            for checkbox in controls_widgets.values():\n",
        "                checkbox.observe(handle_checkbox_change, names='value')\n",
        "\n",
        "            submit_button = widgets.Button(description=\"Submit\")\n",
        "            make_wordclouds_checkbox = widgets.Checkbox(value=False, description='Enable Wordclouds')\n",
        "            make_wordclouds_title = widgets.Label('Make Wordclouds:')\n",
        "\n",
        "            def on_submit(b):\n",
        "                clear_output(wait=True)\n",
        "                outcomes = [k for k, v in outcomes_widgets.items() if v.value]\n",
        "                controls = [k for k, v in controls_widgets.items() if v.value]\n",
        "                cat_to_bin_outcomes = [k for k, v in outcomes_cat_widgets.items() if v.value]\n",
        "                cat_to_bin_controls = [k for k, v in controls_cat_widgets.items() if v.value]\n",
        "\n",
        "                # Construct the command dynamically based on selections\n",
        "                cat_to_bin_parts = [','.join(cat_to_bin_outcomes), ','.join(cat_to_bin_controls)]\n",
        "                cat_to_bin_cmd = f\"--cat_to_bin {' '.join(cat_to_bin_parts)}\" if cat_to_bin_parts else \"\"\n",
        "\n",
        "                command = (\n",
        "                    f\"dlatkInterface.py -d {database_name} -t {file_name} -g {id_column_name} \"\n",
        "                    f\"--group_freq_thresh 100 --feat_table '{generated_feature_table_name}' \"\n",
        "                    f\"--outcome_table {outcome_table_name} --outcomes {','.join(outcomes)} \"\n",
        "                    f\"--controls {','.join(controls)} {cat_to_bin_cmd} --rmatrix\"\n",
        "                )\n",
        "                if make_wordclouds_checkbox.value:\n",
        "                    command += \" --make_wordclouds\"\n",
        "\n",
        "                print(\"Command to execute:\", command)\n",
        "                process = subprocess.run(command, shell=True, text=True, capture_output=True)\n",
        "                print(process.stdout)\n",
        "                if process.stderr:\n",
        "                    print(\"Error:\", process.stderr)\n",
        "\n",
        "            submit_button.on_click(on_submit)\n",
        "\n",
        "            # Display the widgets\n",
        "            display(outcomes_title, controls_title, make_wordclouds_title, make_wordclouds_checkbox, submit_button)\n",
        "            for option, checkbox in outcomes_widgets.items():\n",
        "                display(widgets.HBox([checkbox, outcomes_cat_widgets[option]]))\n",
        "            for option, checkbox in controls_widgets.items():\n",
        "                display(widgets.HBox([checkbox, controls_cat_widgets[option]]))\n",
        "\n",
        "        else:\n",
        "            print(\"Failed to read column names from the outcome table.\")\n",
        "    else:\n",
        "        print(\"Outcome table name not set or file does not exist. Please ensure a file is uploaded in Part 1.\")\n",
        "\n",
        "# Assuming outcome_table_name is correctly assigned somewhere in your script\n",
        "configure_parameters()\n"
      ],
      "metadata": {
        "colab": {
          "base_uri": "https://localhost:8080/",
          "height": 35
        },
        "id": "mNajERoyTIR8",
        "outputId": "eb775b8d-d9da-44d9-f714-53a763285c25"
      },
      "execution_count": 2,
      "outputs": [
        {
          "output_type": "display_data",
          "data": {
            "text/plain": [
              "<IPython.core.display.Javascript object>"
            ],
            "application/javascript": [
              "google.colab.output.setIframeHeight(0, true, {maxHeight: 250})"
            ]
          },
          "metadata": {}
        },
        {
          "output_type": "display_data",
          "data": {
            "text/plain": [
              "<IPython.core.display.HTML object>"
            ],
            "text/html": [
              "<style> body {background-color: rgb(255, 250, 232);}</style>"
            ]
          },
          "metadata": {}
        },
        {
          "output_type": "stream",
          "name": "stdout",
          "text": [
            "Outcome table name not set or file does not exist. Please ensure a file is uploaded in Part 1.\n"
          ]
        }
      ]
    },
    {
      "cell_type": "code",
      "source": [
        "from IPython.utils import io\n",
        "import subprocess\n",
        "import ipywidgets as widgets\n",
        "from IPython.display import display, clear_output\n",
        "import csv\n",
        "import re\n",
        "from google.colab import files\n",
        "import os\n",
        "import glob\n",
        "import math\n",
        "import matplotlib.pyplot as plt\n",
        "import matplotlib.image as mpimg\n",
        "from dlatk.tools.colab_methods import print_wordclouds\n",
        "\n",
        "# Setup DLATK\n",
        "def setup_dlatk():\n",
        "    subprocess.run(\"pip install dlatk[wordcloud,langid]\", shell=True)\n",
        "    result = subprocess.run(\"dlatkInterface.py --colabify\", shell=True, capture_output=True, text=True)\n",
        "    try:\n",
        "        from dlatk.tools.colab_methods import colab_shorten_and_bg\n",
        "        colab_shorten_and_bg()\n",
        "    except ImportError as e:\n",
        "        print(\"Some optional setup steps failed:\", e)\n",
        "    return result.stdout + '\\n' + result.stderr\n",
        "\n",
        "# Suppressing output\n",
        "with io.capture_output() as captured:\n",
        "    setup_output = setup_dlatk()\n",
        "\n",
        "if 'DLATK exits with success! A good day indeed' in setup_output:\n",
        "    print(\"DLATK setup completed successfully. Enjoy your analysis!\")\n",
        "else:\n",
        "    print(\"DLATK setup may have encountered issues. Please check the logs for more details.\")\n",
        "\n",
        "# Define global variables\n",
        "database_name = \"colab_csv\"\n",
        "generated_feature_table_name = \"\"\n",
        "text_column_name = \"\"\n",
        "id_column_name = \"\"\n",
        "file_name_without_extension = \"\"\n",
        "outcome_table_name = \"users404.csv\"\n",
        "outcomes = \"\"\n",
        "controls = \"\"\n",
        "file_name = \"\"\n",
        "\n",
        "# Upload and configure text data (Code A)\n",
        "def upload_text_data():\n",
        "    global text_column_name, id_column_name, file_name_without_extension, generated_feature_table_name, file_name\n",
        "\n",
        "    text_filename = widgets.Dropdown(options=[\"Upload from desktop\", \"msgs404u.csv\"], description='Select File:')\n",
        "    text_column_dropdown = widgets.Dropdown(description='Text Column:')\n",
        "    id_column_dropdown = widgets.Dropdown(description='ID Column:')\n",
        "    feature_options = widgets.Dropdown(options=['Select option', '1to2grams-filtered', '1to2grams-unfiltered', 'topics'], description='Features:')\n",
        "    confirm_button = widgets.Button(description=\"Process Data\")\n",
        "\n",
        "    display(text_filename, text_column_dropdown, id_column_dropdown, feature_options, confirm_button)\n",
        "\n",
        "    def update_dropdowns(file_path):\n",
        "        if os.path.exists(file_path):\n",
        "            with open(file_path, mode='r', encoding='utf-8') as file:\n",
        "                reader = csv.reader(file)\n",
        "                headers = next(reader, None)\n",
        "            text_column_dropdown.options = [col for col in headers if not col.endswith(\"_id\")]\n",
        "            id_column_dropdown.options = [col for col in headers if col.endswith(\"_id\")]\n",
        "            print(f'File ready for use: {file_path}')\n",
        "        else:\n",
        "            print(\"File not found. Please ensure the file exists and try again.\")\n",
        "\n",
        "    def on_file_change(change):\n",
        "        global file_name_without_extension, file_name\n",
        "        if change['new'] == \"Upload from desktop\":\n",
        "            uploaded_files = files.upload()\n",
        "            if uploaded_files:\n",
        "                file_name = next(iter(uploaded_files))\n",
        "                file_name = re.sub(r\" \\(\\d+\\)\", \"\", file_name)\n",
        "                if not file_name.endswith('.csv'):\n",
        "                    file_name += '.csv'\n",
        "                file_path = os.path.join(\"/content\", file_name)\n",
        "                update_dropdowns(file_path)\n",
        "                file_name_without_extension = os.path.splitext(file_name)[0]\n",
        "        else:\n",
        "            file_name = re.sub(r\" \\(\\d+\\)\", \"\", change['new'])\n",
        "            if not file_name.endswith('.csv'):\n",
        "                file_name += '.csv'\n",
        "            file_path = os.path.join(\"/content\", file_name)\n",
        "            update_dropdowns(file_path)\n",
        "            file_name_without_extension = os.path.splitext(file_name)[0]\n",
        "\n",
        "    def on_confirm(b):\n",
        "        global text_column_name, id_column_name, generated_feature_table_name\n",
        "        text_column_name = text_column_dropdown.value\n",
        "        id_column_name = id_column_dropdown.value\n",
        "        if feature_options.value == '1to2grams-unfiltered':\n",
        "            generate_unfiltered_feature_table()\n",
        "        elif feature_options.value == '1to2grams-filtered':\n",
        "            combined_feature_table_name = \"1to2gram\"\n",
        "            command = f\"dlatkInterface.py -d {database_name} -t {file_name} -g {id_column_name} \" \\\n",
        "                      f\"--message_field {text_column_name} --messageid_field {text_column_name}_id \" \\\n",
        "                      f\"--add_ngrams -n 1 2 --combine_feat_tables {combined_feature_table_name} \" \\\n",
        "                      f\"--feat_occ_filter --set_p_occ 0.10 --feat_colloc_filter\"\n",
        "            print(f\"Executing: {command}\")\n",
        "            result = subprocess.run(command, shell=True, text=True, capture_output=True)\n",
        "            generated_feature_table_name = f\"feat${combined_feature_table_name}${file_name_without_extension}${id_column_name}$0_1$pmi3_0\"\n",
        "            print(f\"Generated feature table: {generated_feature_table_name}\")\n",
        "            if result.returncode == 0:\n",
        "              upload_correlate_data()\n",
        "        elif feature_options.value == 'topics':\n",
        "            generated_feature_table_name = f\"feat$cat_fb2000_cp_w${file_name_without_extension}${id_column_name}$1gra\"\n",
        "            command = f\"dlatkInterface.py -d {database_name} -t {file_name} -g {id_column_name} \" \\\n",
        "                      f\"--message_field {text_column_name} --messageid_field {text_column_name}_id \" \\\n",
        "                      f\"--group_freq_thresh 100 --add_lex_table -l fb2000_cp --weighted_lexicon\"\n",
        "            print(f\"Executing: {command}\")\n",
        "            result = subprocess.run(command, shell=True, text=True, capture_output=True)\n",
        "            print(f\"Generated feature table: {generated_feature_table_name}\")\n",
        "            if result.returncode == 0:\n",
        "              upload_correlate_data()\n",
        "\n",
        "\n",
        "\n",
        "    def generate_unfiltered_feature_table():\n",
        "        global generated_feature_table_name\n",
        "\n",
        "        combined_feature_table_name = \"1to2gram\"\n",
        "        command = f\"dlatkInterface.py -d {database_name} -t {file_name} -g {id_column_name} \" \\\n",
        "                  f\"--message_field {text_column_name} --messageid_field {text_column_name}_id \" \\\n",
        "                  f\"--add_ngrams -n 1 2 --combine_feat_tables {combined_feature_table_name}\"\n",
        "        print(f\"Generating unfiltered 1to2grams feature table: {command}\")\n",
        "        result = subprocess.run(command, shell=True, text=True, capture_output=True)\n",
        "        generated_feature_table_name = f\"feat${combined_feature_table_name}${file_name_without_extension}${id_column_name}\"\n",
        "        print(f\"Generated feature table: {generated_feature_table_name}\")\n",
        "        if result.returncode == 0:\n",
        "          upload_correlate_data()\n",
        "\n",
        "    text_filename.observe(on_file_change, names='value')\n",
        "    confirm_button.on_click(on_confirm)\n",
        "\n",
        "\n",
        "upload_text_data()\n",
        "\n",
        "# Upload correlate data (Code B)\n",
        "def upload_correlate_data():\n",
        "    global outcome_table_name, generated_feature_table_name\n",
        "\n",
        "    print(f\"Generated feature table1: {generated_feature_table_name}\")\n",
        "\n",
        "    dataset_dropdown = widgets.Dropdown(options=[\"Upload from desktop\", \"users404.csv\"], description='Select Dataset:')\n",
        "    confirm_button = widgets.Button(description=\"Confirm Dataset\")\n",
        "\n",
        "    def dataset_selected(b):\n",
        "        chosen_dataset = dataset_dropdown.value\n",
        "        if chosen_dataset == \"Upload from desktop\":\n",
        "            upload = widgets.FileUpload(accept='.csv', multiple=False)\n",
        "            display(upload)\n",
        "\n",
        "            def file_uploaded(change):\n",
        "                for filename, file in upload.value.items():\n",
        "                    with open(filename, 'wb') as f:\n",
        "                        f.write(file['content'])\n",
        "                    outcome_table_name = filename\n",
        "                if outcome_table_name:\n",
        "                    print(f\"File {outcome_table_name} uploaded and set.\")\n",
        "                    configure_parameters()  # Call configure once the file is set\n",
        "\n",
        "            upload.observe(file_uploaded, names='value')\n",
        "\n",
        "        else:\n",
        "            outcome_table_name = chosen_dataset\n",
        "            if os.path.exists(outcome_table_name):\n",
        "                print(f\"Dataset {outcome_table_name} selected.\")\n",
        "                configure_parameters()  # Call configure once the file is selected\n",
        "\n",
        "    confirm_button.on_click(dataset_selected)\n",
        "    display(dataset_dropdown, confirm_button)\n",
        "\n",
        "# Configure parameters (Code C)\n",
        "def configure_parameters():\n",
        "    global generated_feature_table_name, outcomes, controls, outcome_table_name\n",
        "\n",
        "    print(f\"Generated feature table2: {generated_feature_table_name}\")\n",
        "\n",
        "    if os.path.exists(outcome_table_name):\n",
        "        with open(outcome_table_name, newline='') as csvfile:\n",
        "            reader = csv.reader(csvfile)\n",
        "            column_headers = next(reader, None)\n",
        "\n",
        "        if column_headers:\n",
        "            outcomes_title = widgets.Label('Outcomes:')\n",
        "            controls_title = widgets.Label('Controls:')\n",
        "            outcomes_widgets = {}\n",
        "            controls_widgets = {}\n",
        "            outcomes_cat_widgets = {}\n",
        "            controls_cat_widgets = {}\n",
        "\n",
        "            # Create checkboxes for each column header\n",
        "            for option in column_headers:\n",
        "                if \"_id\" not in option:\n",
        "                    outcomes_widgets[option] = widgets.Checkbox(description=option, value=False)\n",
        "                    controls_widgets[option] = widgets.Checkbox(description=option, value=False)\n",
        "                    outcomes_cat_widgets[option] = widgets.Checkbox(\n",
        "                        description='Is this variable Categorical?',\n",
        "                        value=False,\n",
        "                        layout=widgets.Layout(display='none')\n",
        "                    )\n",
        "                    controls_cat_widgets[option] = widgets.Checkbox(\n",
        "                        description='Is this variable Categorical?',\n",
        "                        value=False,\n",
        "                        layout=widgets.Layout(display='none')\n",
        "                    )\n",
        "\n",
        "            def handle_checkbox_change(change):\n",
        "                option = change.owner.description\n",
        "                if change.owner in outcomes_widgets.values():\n",
        "                    controls_widgets[option].disabled = change.new\n",
        "                    outcomes_cat_widgets[option].layout.display = 'flex' if change.new else 'none'\n",
        "                elif change.owner in controls_widgets.values():\n",
        "                    outcomes_widgets[option].disabled = change.new\n",
        "                    controls_cat_widgets[option].layout.display = 'flex' if change.new else 'none'\n",
        "\n",
        "            for checkbox in outcomes_widgets.values():\n",
        "                checkbox.observe(handle_checkbox_change, names='value')\n",
        "            for checkbox in controls_widgets.values():\n",
        "                checkbox.observe(handle_checkbox_change, names='value')\n",
        "\n",
        "            submit_button = widgets.Button(description=\"Submit\")\n",
        "            make_wordclouds_checkbox = widgets.Checkbox(value=False, description='Enable Wordclouds')\n",
        "            make_wordclouds_title = widgets.Label('Make Wordclouds:')\n",
        "\n",
        "            def on_submit(b):\n",
        "                global generated_feature_table_name, outcomes, controls\n",
        "                # Removed clear_output to keep the widget display\n",
        "                outcomes = [k for k, v in outcomes_widgets.items() if v.value]\n",
        "                controls = [k for k, v in controls_widgets.items() if v.value]\n",
        "                cat_to_bin_outcomes = [k for k, v in outcomes_cat_widgets.items() if v.value]\n",
        "                cat_to_bin_controls = [k for k, v in controls_cat_widgets.items() if v.value]\n",
        "\n",
        "                # Construct the command dynamically based on selections\n",
        "                cat_to_bin_parts = [','.join(cat_to_bin_outcomes), ','.join(cat_to_bin_controls)]\n",
        "                cat_to_bin_parts = [part for part in cat_to_bin_parts if part]  # Remove empty strings\n",
        "                cat_to_bin_cmd = f\"--cat_to_bin {' '.join(cat_to_bin_parts)}\" if cat_to_bin_parts else \"\"\n",
        "\n",
        "                command = (\n",
        "                    f\"dlatkInterface.py -d {database_name} -t {file_name} -g {id_column_name} \"\n",
        "                    f\"--group_freq_thresh 100 --feat_table '{generated_feature_table_name}' \"\n",
        "                    f\"--outcome_table {outcome_table_name} --outcomes {','.join(outcomes)} \"\n",
        "                    f\"--controls {','.join(controls)} {cat_to_bin_cmd} --rmatrix\"\n",
        "                )\n",
        "                if make_wordclouds_checkbox.value:\n",
        "                    command += \" --make_wordclouds\"\n",
        "\n",
        "                print(\"Command to execute:\", command)\n",
        "                result = subprocess.run(command, shell=True, text=True, capture_output=True)\n",
        "                if result.returncode == 0:\n",
        "                  display_wordclouds()\n",
        "\n",
        "            submit_button.on_click(on_submit)\n",
        "\n",
        "            # Re-display the widgets since we're not clearing them anymore\n",
        "            display(outcomes_title)\n",
        "            for option, checkbox in outcomes_widgets.items():\n",
        "                display(widgets.HBox([checkbox, outcomes_cat_widgets[option]]))\n",
        "            display(controls_title)\n",
        "            for option, checkbox in controls_widgets.items():\n",
        "                display(widgets.HBox([checkbox, controls_cat_widgets[option]]))\n",
        "            display(make_wordclouds_title, make_wordclouds_checkbox, submit_button)\n",
        "\n",
        "        else:\n",
        "            print(\"Failed to read column names from the outcome table.\")\n",
        "    else:\n",
        "        print(\"Outcome table name not set or file does not exist. Please ensure a file is uploaded in Part 1.\")\n",
        "\n",
        "def display_wordclouds():\n",
        "    global outcomes, controls, generated_feature_table_name\n",
        "    feature_table_name = generated_feature_table_name.replace('$', '.')\n",
        "    wordcloud_file_name = f\"{feature_table_name}.{','.join(outcomes)}.{','.join(controls)}__0.freq100._tagcloud_wordclouds\"\n",
        "    print(\"Wordcloud File Name:\", wordcloud_file_name)\n",
        "    print_wordclouds(wordcloud_file_name)\n"
      ],
      "metadata": {
        "colab": {
          "base_uri": "https://localhost:8080/",
          "height": 250,
          "referenced_widgets": [
            "d7e9805d0a69412e835e6c89fda8aca8",
            "efac6a4aa9e24e2996dde80ea03cd957",
            "ed84b9e904e441b4867f4bcf980f311d",
            "2a5537f34ff3495a9b8d95cb4ed579ba",
            "293ef567571e44d988d1aa0cb0be7d86",
            "16115b9d0d4c48abb51316c73c395b2b",
            "1fc2a8f33b0c49a5a298981736771868",
            "75a5b41f45904c2b94cf9ca3ee9ad8bd",
            "1372dd9fd41e4c8fb4bf339d969bf9d9",
            "b9653a28ad1d44269b554953dfba40c0",
            "5d08f329ba424d4e82235c3374bfa2c6",
            "9b08a820026741a8a051c29a8ec3980a",
            "cfb9b571f7de4d67b4784251d76f07ae",
            "78b3299d7a5e48b590a9dc581ac22168",
            "3bd1d46d8e804b8997702d2ef4c4a222",
            "9b034b7cae95489d9eea8d87e7f0fd53",
            "89dfebd28be44b8cab3fa76a32889a32",
            "e8c6e08559fd463680ff24ba8cfc6323",
            "cefb298d8c2148fc934219001c4f350a",
            "e601b155413b4f7e94012d0dd5cd663e",
            "9a57f3f7ba6b41039fc7e4867246ca4a",
            "7a0106150c2641d6866421ed356abe5f",
            "ae8bcba456754fc6a8a85fedb51cd9c5",
            "7b24597714924164a0f22387479a3fe3",
            "189f26a24f2e45a7b10451c4bbf03a43",
            "018042b8b3c24a9bae6b320e8a40f9ee",
            "2a1645961a234706805a225f81cb4ef1",
            "f70596659cde4126bc4069c45d88027d",
            "1060ca508c5c40529da8d6e3c463c055",
            "3a03d55f7acc4312bb7600ee85b457c4",
            "c06b033d55a548109c6e03267d7e1b05",
            "42c4a1edcf284d0dbcf430f8b631d7e8",
            "5cd37e65dd3c43c5b91ded101d5801b5",
            "ad53ee3224b44ec7bfdf743106f1e78f",
            "39224f22650a4429a3103ebe9176e4f7",
            "95bf1bfdb7364ea7a208b04675776dac",
            "a2deb24b3d064cb79f8a942c2db39b43",
            "e40b02728e4e46d3ad5370e56106546d",
            "d29bce06bdbc453aa637481a00eee574",
            "ec0432cc8faf49739b601eec759a112a",
            "b8e1503c524d47cbb5270f0934125a5d",
            "f1a90d55c57f4f0392a2eb79c1684ce0",
            "273ae2db50a7478ea64df7f11d670434",
            "1272b30f4eed44dbaedfdd186e0d5831",
            "0ffd0537decf447a926befc109c8fef1",
            "95265dc0097d47548755ee4eeecf3a4f",
            "9d937f5654814dd2a13602b48d505ee2",
            "3fe9909eced146d9979a8d2f7954b986",
            "3e2b10af38354e04b0b649fc8c5af624",
            "7ccea8622770443d8d75ff38b06b6cb2",
            "4b45a070245849539da48918529e001c",
            "002e8f195c0c4fe584798d6f1b6397ae",
            "87a772613e84435f9090a352ba40d201",
            "ed8838e776cb475ea3f4574688649b15",
            "b48d5f42a693465d8b0c15d1d9c8f3ee",
            "5696b9400986484aad627d1669db4d93",
            "1bebf14655e04d9b9b104bde27b74302",
            "69b44eae58bd40f69ebd05b5f5c25816",
            "aff8f70b790d48349d68bb4ccb399549",
            "a4d48814ccbe4bd5acbb78227d5b21ed",
            "db8b9a30605d4a44a04785f8dfebe714",
            "9cd107ca3fa84478849edbdd121eea3a",
            "668bdae9100f4408bc4371bc02c2c2ea",
            "a3117658bc3b4e46b7722907cdf44591",
            "e37eeda005684ead8b0bc7370e37bccb",
            "3e72cd0e6c7c4a2882ea92c23e6bb703",
            "3753ffdf4cf14718959d72ad5ef5c2be",
            "bd67003895b64bb1a6296f26f5028660",
            "7e7737f129d840e699d352c7d1fad4c0",
            "a3746f3298cc447c92980bd69193168a",
            "e783fc317fdc4057a65f350de06e2153",
            "071bf99d874947b1ba8a5eb9409c2c9f",
            "0f960976cb6147f4bd1e449bee3421c2",
            "7c89816f5c474d2690403f636f7b3fd6",
            "e6fe875564724a42a53f7cd30c2dcefd",
            "1b540d461f314d46a9ac864fc3e3da83",
            "4c914ad34cb04ac5a08e834ef21bbbfc",
            "b75b5fdc05e04a8788023cf3065beb24",
            "67ad6fd8eae5476e8814862ccf44e996",
            "3c2be2ccd22040da9f81c3e42608f79e",
            "fdcada8b42fa46df8a242c4926c47fdd",
            "552eb60816be497e9524135f7bbde4b2",
            "455ad2017fea471c90c46b014d2d53b0",
            "19e40934356a4a979017988650375df3",
            "52ac50cceee04535b4026c30a20564bd",
            "e8cf17df0ad149a29fcdca2d5fc6d2e1",
            "ec62b1beb8f34ce389f4103eefe510d1",
            "0e4c654ce17748cdbbb0e9d97ba5533a",
            "cb562fa7d8c6412aaf28cb66e49af82d",
            "4f6d307e132546c69a273207fb370d95",
            "097abc116d354cb6b810ad00feb7130d",
            "d1ad8373dae549c8b12a0afca945e227",
            "0b5ec7c79dd64990b82ef0f03a10d04a",
            "f7704fcd64184f6e98f4fde95eec9c2f",
            "44ad0e3d7c584262aa5bdf6f4b1fe3b8",
            "734750656f694b90b2853c4dd4586a83",
            "b2194ea570df4c19bdd926f85b63d2ee",
            "2c7871fb7e0b45af884486c2236d84d3",
            "968112590c4345e1a3242c3a9e4e39ee",
            "229f97a5dc464e72aa80f86f10d17219"
          ]
        },
        "id": "nQtE0WUE-j1b",
        "outputId": "6056a93e-861a-41a1-bfb0-e56b377d19c9"
      },
      "execution_count": 31,
      "outputs": [
        {
          "output_type": "display_data",
          "data": {
            "text/plain": [
              "<IPython.core.display.Javascript object>"
            ],
            "application/javascript": [
              "google.colab.output.setIframeHeight(0, true, {maxHeight: 250})"
            ]
          },
          "metadata": {}
        },
        {
          "output_type": "display_data",
          "data": {
            "text/plain": [
              "<IPython.core.display.HTML object>"
            ],
            "text/html": [
              "<style> body {background-color: rgb(255, 250, 232);}</style>"
            ]
          },
          "metadata": {}
        },
        {
          "output_type": "display_data",
          "data": {
            "text/plain": [
              "<IPython.core.display.Javascript object>"
            ],
            "application/javascript": [
              "google.colab.output.setIframeHeight(0, true, {maxHeight: 250})"
            ]
          },
          "metadata": {}
        },
        {
          "output_type": "display_data",
          "data": {
            "text/plain": [
              "<IPython.core.display.HTML object>"
            ],
            "text/html": [
              "<style> body {background-color: rgb(255, 250, 232);}</style>"
            ]
          },
          "metadata": {}
        },
        {
          "output_type": "display_data",
          "data": {
            "text/plain": [
              "<IPython.core.display.Javascript object>"
            ],
            "application/javascript": [
              "google.colab.output.setIframeHeight(0, true, {maxHeight: 250})"
            ]
          },
          "metadata": {}
        },
        {
          "output_type": "display_data",
          "data": {
            "text/plain": [
              "<IPython.core.display.HTML object>"
            ],
            "text/html": [
              "<style> body {background-color: rgb(255, 250, 232);}</style>"
            ]
          },
          "metadata": {}
        },
        {
          "output_type": "display_data",
          "data": {
            "text/plain": [
              "<IPython.core.display.Javascript object>"
            ],
            "application/javascript": [
              "google.colab.output.setIframeHeight(0, true, {maxHeight: 250})"
            ]
          },
          "metadata": {}
        },
        {
          "output_type": "display_data",
          "data": {
            "text/plain": [
              "<IPython.core.display.HTML object>"
            ],
            "text/html": [
              "<style> body {background-color: rgb(255, 250, 232);}</style>"
            ]
          },
          "metadata": {}
        },
        {
          "output_type": "display_data",
          "data": {
            "text/plain": [
              "<IPython.core.display.Javascript object>"
            ],
            "application/javascript": [
              "google.colab.output.setIframeHeight(0, true, {maxHeight: 250})"
            ]
          },
          "metadata": {}
        },
        {
          "output_type": "display_data",
          "data": {
            "text/plain": [
              "<IPython.core.display.HTML object>"
            ],
            "text/html": [
              "<style> body {background-color: rgb(255, 250, 232);}</style>"
            ]
          },
          "metadata": {}
        },
        {
          "output_type": "display_data",
          "data": {
            "text/plain": [
              "<IPython.core.display.Javascript object>"
            ],
            "application/javascript": [
              "google.colab.output.setIframeHeight(0, true, {maxHeight: 250})"
            ]
          },
          "metadata": {}
        },
        {
          "output_type": "display_data",
          "data": {
            "text/plain": [
              "<IPython.core.display.HTML object>"
            ],
            "text/html": [
              "<style> body {background-color: rgb(255, 250, 232);}</style>"
            ]
          },
          "metadata": {}
        },
        {
          "output_type": "display_data",
          "data": {
            "text/plain": [
              "<IPython.core.display.Javascript object>"
            ],
            "application/javascript": [
              "google.colab.output.setIframeHeight(0, true, {maxHeight: 250})"
            ]
          },
          "metadata": {}
        },
        {
          "output_type": "display_data",
          "data": {
            "text/plain": [
              "<IPython.core.display.HTML object>"
            ],
            "text/html": [
              "<style> body {background-color: rgb(255, 250, 232);}</style>"
            ]
          },
          "metadata": {}
        },
        {
          "output_type": "display_data",
          "data": {
            "text/plain": [
              "<IPython.core.display.Javascript object>"
            ],
            "application/javascript": [
              "google.colab.output.setIframeHeight(0, true, {maxHeight: 250})"
            ]
          },
          "metadata": {}
        },
        {
          "output_type": "display_data",
          "data": {
            "text/plain": [
              "<IPython.core.display.HTML object>"
            ],
            "text/html": [
              "<style> body {background-color: rgb(255, 250, 232);}</style>"
            ]
          },
          "metadata": {}
        },
        {
          "output_type": "display_data",
          "data": {
            "text/plain": [
              "<IPython.core.display.Javascript object>"
            ],
            "application/javascript": [
              "google.colab.output.setIframeHeight(0, true, {maxHeight: 250})"
            ]
          },
          "metadata": {}
        },
        {
          "output_type": "display_data",
          "data": {
            "text/plain": [
              "<IPython.core.display.HTML object>"
            ],
            "text/html": [
              "<style> body {background-color: rgb(255, 250, 232);}</style>"
            ]
          },
          "metadata": {}
        },
        {
          "output_type": "display_data",
          "data": {
            "text/plain": [
              "<IPython.core.display.Javascript object>"
            ],
            "application/javascript": [
              "google.colab.output.setIframeHeight(0, true, {maxHeight: 250})"
            ]
          },
          "metadata": {}
        },
        {
          "output_type": "display_data",
          "data": {
            "text/plain": [
              "<IPython.core.display.HTML object>"
            ],
            "text/html": [
              "<style> body {background-color: rgb(255, 250, 232);}</style>"
            ]
          },
          "metadata": {}
        },
        {
          "output_type": "display_data",
          "data": {
            "text/plain": [
              "<IPython.core.display.Javascript object>"
            ],
            "application/javascript": [
              "google.colab.output.setIframeHeight(0, true, {maxHeight: 250})"
            ]
          },
          "metadata": {}
        },
        {
          "output_type": "display_data",
          "data": {
            "text/plain": [
              "<IPython.core.display.HTML object>"
            ],
            "text/html": [
              "<style> body {background-color: rgb(255, 250, 232);}</style>"
            ]
          },
          "metadata": {}
        },
        {
          "output_type": "display_data",
          "data": {
            "text/plain": [
              "<IPython.core.display.Javascript object>"
            ],
            "application/javascript": [
              "google.colab.output.setIframeHeight(0, true, {maxHeight: 250})"
            ]
          },
          "metadata": {}
        },
        {
          "output_type": "display_data",
          "data": {
            "text/plain": [
              "<IPython.core.display.HTML object>"
            ],
            "text/html": [
              "<style> body {background-color: rgb(255, 250, 232);}</style>"
            ]
          },
          "metadata": {}
        },
        {
          "output_type": "display_data",
          "data": {
            "text/plain": [
              "<IPython.core.display.Javascript object>"
            ],
            "application/javascript": [
              "google.colab.output.setIframeHeight(0, true, {maxHeight: 250})"
            ]
          },
          "metadata": {}
        },
        {
          "output_type": "display_data",
          "data": {
            "text/plain": [
              "<IPython.core.display.HTML object>"
            ],
            "text/html": [
              "<style> body {background-color: rgb(255, 250, 232);}</style>"
            ]
          },
          "metadata": {}
        },
        {
          "output_type": "display_data",
          "data": {
            "text/plain": [
              "<IPython.core.display.Javascript object>"
            ],
            "application/javascript": [
              "google.colab.output.setIframeHeight(0, true, {maxHeight: 250})"
            ]
          },
          "metadata": {}
        },
        {
          "output_type": "display_data",
          "data": {
            "text/plain": [
              "<IPython.core.display.HTML object>"
            ],
            "text/html": [
              "<style> body {background-color: rgb(255, 250, 232);}</style>"
            ]
          },
          "metadata": {}
        },
        {
          "output_type": "display_data",
          "data": {
            "text/plain": [
              "<IPython.core.display.Javascript object>"
            ],
            "application/javascript": [
              "google.colab.output.setIframeHeight(0, true, {maxHeight: 250})"
            ]
          },
          "metadata": {}
        },
        {
          "output_type": "display_data",
          "data": {
            "text/plain": [
              "<IPython.core.display.HTML object>"
            ],
            "text/html": [
              "<style> body {background-color: rgb(255, 250, 232);}</style>"
            ]
          },
          "metadata": {}
        },
        {
          "output_type": "display_data",
          "data": {
            "text/plain": [
              "<IPython.core.display.Javascript object>"
            ],
            "application/javascript": [
              "google.colab.output.setIframeHeight(0, true, {maxHeight: 250})"
            ]
          },
          "metadata": {}
        },
        {
          "output_type": "display_data",
          "data": {
            "text/plain": [
              "<IPython.core.display.HTML object>"
            ],
            "text/html": [
              "<style> body {background-color: rgb(255, 250, 232);}</style>"
            ]
          },
          "metadata": {}
        },
        {
          "output_type": "display_data",
          "data": {
            "text/plain": [
              "<IPython.core.display.Javascript object>"
            ],
            "application/javascript": [
              "google.colab.output.setIframeHeight(0, true, {maxHeight: 250})"
            ]
          },
          "metadata": {}
        },
        {
          "output_type": "display_data",
          "data": {
            "text/plain": [
              "<IPython.core.display.HTML object>"
            ],
            "text/html": [
              "<style> body {background-color: rgb(255, 250, 232);}</style>"
            ]
          },
          "metadata": {}
        },
        {
          "output_type": "display_data",
          "data": {
            "text/plain": [
              "<IPython.core.display.Javascript object>"
            ],
            "application/javascript": [
              "google.colab.output.setIframeHeight(0, true, {maxHeight: 250})"
            ]
          },
          "metadata": {}
        },
        {
          "output_type": "display_data",
          "data": {
            "text/plain": [
              "<IPython.core.display.HTML object>"
            ],
            "text/html": [
              "<style> body {background-color: rgb(255, 250, 232);}</style>"
            ]
          },
          "metadata": {}
        },
        {
          "output_type": "display_data",
          "data": {
            "text/plain": [
              "<IPython.core.display.Javascript object>"
            ],
            "application/javascript": [
              "google.colab.output.setIframeHeight(0, true, {maxHeight: 250})"
            ]
          },
          "metadata": {}
        },
        {
          "output_type": "display_data",
          "data": {
            "text/plain": [
              "<IPython.core.display.HTML object>"
            ],
            "text/html": [
              "<style> body {background-color: rgb(255, 250, 232);}</style>"
            ]
          },
          "metadata": {}
        },
        {
          "output_type": "display_data",
          "data": {
            "text/plain": [
              "<IPython.core.display.Javascript object>"
            ],
            "application/javascript": [
              "google.colab.output.setIframeHeight(0, true, {maxHeight: 250})"
            ]
          },
          "metadata": {}
        },
        {
          "output_type": "display_data",
          "data": {
            "text/plain": [
              "<IPython.core.display.HTML object>"
            ],
            "text/html": [
              "<style> body {background-color: rgb(255, 250, 232);}</style>"
            ]
          },
          "metadata": {}
        },
        {
          "output_type": "display_data",
          "data": {
            "text/plain": [
              "<IPython.core.display.Javascript object>"
            ],
            "application/javascript": [
              "google.colab.output.setIframeHeight(0, true, {maxHeight: 250})"
            ]
          },
          "metadata": {}
        },
        {
          "output_type": "display_data",
          "data": {
            "text/plain": [
              "<IPython.core.display.HTML object>"
            ],
            "text/html": [
              "<style> body {background-color: rgb(255, 250, 232);}</style>"
            ]
          },
          "metadata": {}
        },
        {
          "output_type": "display_data",
          "data": {
            "text/plain": [
              "<IPython.core.display.Javascript object>"
            ],
            "application/javascript": [
              "google.colab.output.setIframeHeight(0, true, {maxHeight: 250})"
            ]
          },
          "metadata": {}
        },
        {
          "output_type": "display_data",
          "data": {
            "text/plain": [
              "<IPython.core.display.HTML object>"
            ],
            "text/html": [
              "<style> body {background-color: rgb(255, 250, 232);}</style>"
            ]
          },
          "metadata": {}
        },
        {
          "output_type": "display_data",
          "data": {
            "text/plain": [
              "<IPython.core.display.Javascript object>"
            ],
            "application/javascript": [
              "google.colab.output.setIframeHeight(0, true, {maxHeight: 250})"
            ]
          },
          "metadata": {}
        },
        {
          "output_type": "display_data",
          "data": {
            "text/plain": [
              "<IPython.core.display.HTML object>"
            ],
            "text/html": [
              "<style> body {background-color: rgb(255, 250, 232);}</style>"
            ]
          },
          "metadata": {}
        },
        {
          "output_type": "display_data",
          "data": {
            "text/plain": [
              "<IPython.core.display.Javascript object>"
            ],
            "application/javascript": [
              "google.colab.output.setIframeHeight(0, true, {maxHeight: 250})"
            ]
          },
          "metadata": {}
        },
        {
          "output_type": "display_data",
          "data": {
            "text/plain": [
              "<IPython.core.display.HTML object>"
            ],
            "text/html": [
              "<style> body {background-color: rgb(255, 250, 232);}</style>"
            ]
          },
          "metadata": {}
        },
        {
          "output_type": "display_data",
          "data": {
            "text/plain": [
              "<IPython.core.display.Javascript object>"
            ],
            "application/javascript": [
              "google.colab.output.setIframeHeight(0, true, {maxHeight: 250})"
            ]
          },
          "metadata": {}
        },
        {
          "output_type": "display_data",
          "data": {
            "text/plain": [
              "<IPython.core.display.HTML object>"
            ],
            "text/html": [
              "<style> body {background-color: rgb(255, 250, 232);}</style>"
            ]
          },
          "metadata": {}
        },
        {
          "output_type": "stream",
          "name": "stdout",
          "text": [
            "DLATK setup completed successfully. Enjoy your analysis!\n"
          ]
        },
        {
          "output_type": "display_data",
          "data": {
            "text/plain": [
              "Dropdown(description='Select File:', options=('Upload from desktop', 'msgs404u.csv'), value='Upload from deskt…"
            ],
            "application/vnd.jupyter.widget-view+json": {
              "version_major": 2,
              "version_minor": 0,
              "model_id": "d7e9805d0a69412e835e6c89fda8aca8"
            }
          },
          "metadata": {}
        },
        {
          "output_type": "display_data",
          "data": {
            "text/plain": [
              "Dropdown(description='Text Column:', options=(), value=None)"
            ],
            "application/vnd.jupyter.widget-view+json": {
              "version_major": 2,
              "version_minor": 0,
              "model_id": "2a5537f34ff3495a9b8d95cb4ed579ba"
            }
          },
          "metadata": {}
        },
        {
          "output_type": "display_data",
          "data": {
            "text/plain": [
              "Dropdown(description='ID Column:', options=(), value=None)"
            ],
            "application/vnd.jupyter.widget-view+json": {
              "version_major": 2,
              "version_minor": 0,
              "model_id": "1fc2a8f33b0c49a5a298981736771868"
            }
          },
          "metadata": {}
        },
        {
          "output_type": "display_data",
          "data": {
            "text/plain": [
              "Dropdown(description='Features:', options=('Select option', '1to2grams-filtered', '1to2grams-unfiltered', 'top…"
            ],
            "application/vnd.jupyter.widget-view+json": {
              "version_major": 2,
              "version_minor": 0,
              "model_id": "b9653a28ad1d44269b554953dfba40c0"
            }
          },
          "metadata": {}
        },
        {
          "output_type": "display_data",
          "data": {
            "text/plain": [
              "Button(description='Process Data', style=ButtonStyle())"
            ],
            "application/vnd.jupyter.widget-view+json": {
              "version_major": 2,
              "version_minor": 0,
              "model_id": "cfb9b571f7de4d67b4784251d76f07ae"
            }
          },
          "metadata": {}
        },
        {
          "output_type": "stream",
          "name": "stdout",
          "text": [
            "File ready for use: /content/msgs404u.csv\n",
            "Executing: dlatkInterface.py -d colab_csv -t msgs404u.csv -g user_id --message_field message --messageid_field message_id --add_ngrams -n 1 2 --combine_feat_tables 1to2gram --feat_occ_filter --set_p_occ 0.10 --feat_colloc_filter\n",
            "Generated feature table: feat$1to2gram$msgs404u$user_id$0_1$pmi3_0\n",
            "Generated feature table1: feat$1to2gram$msgs404u$user_id$0_1$pmi3_0\n"
          ]
        },
        {
          "output_type": "display_data",
          "data": {
            "text/plain": [
              "Dropdown(description='Select Dataset:', options=('Upload from desktop', 'users404.csv'), value='Upload from de…"
            ],
            "application/vnd.jupyter.widget-view+json": {
              "version_major": 2,
              "version_minor": 0,
              "model_id": "9b034b7cae95489d9eea8d87e7f0fd53"
            }
          },
          "metadata": {}
        },
        {
          "output_type": "display_data",
          "data": {
            "text/plain": [
              "Button(description='Confirm Dataset', style=ButtonStyle())"
            ],
            "application/vnd.jupyter.widget-view+json": {
              "version_major": 2,
              "version_minor": 0,
              "model_id": "cefb298d8c2148fc934219001c4f350a"
            }
          },
          "metadata": {}
        },
        {
          "output_type": "stream",
          "name": "stdout",
          "text": [
            "Dataset users404.csv selected.\n",
            "Generated feature table2: feat$1to2gram$msgs404u$user_id$0_1$pmi3_0\n"
          ]
        },
        {
          "output_type": "display_data",
          "data": {
            "text/plain": [
              "Label(value='Outcomes:')"
            ],
            "application/vnd.jupyter.widget-view+json": {
              "version_major": 2,
              "version_minor": 0,
              "model_id": "7a0106150c2641d6866421ed356abe5f"
            }
          },
          "metadata": {}
        },
        {
          "output_type": "display_data",
          "data": {
            "text/plain": [
              "HBox(children=(Checkbox(value=False, description='gender'), Checkbox(value=False, description='Is this variabl…"
            ],
            "application/vnd.jupyter.widget-view+json": {
              "version_major": 2,
              "version_minor": 0,
              "model_id": "189f26a24f2e45a7b10451c4bbf03a43"
            }
          },
          "metadata": {}
        },
        {
          "output_type": "display_data",
          "data": {
            "text/plain": [
              "HBox(children=(Checkbox(value=False, description='age'), Checkbox(value=False, description='Is this variable C…"
            ],
            "application/vnd.jupyter.widget-view+json": {
              "version_major": 2,
              "version_minor": 0,
              "model_id": "5cd37e65dd3c43c5b91ded101d5801b5"
            }
          },
          "metadata": {}
        },
        {
          "output_type": "display_data",
          "data": {
            "text/plain": [
              "HBox(children=(Checkbox(value=False, description='occu'), Checkbox(value=False, description='Is this variable …"
            ],
            "application/vnd.jupyter.widget-view+json": {
              "version_major": 2,
              "version_minor": 0,
              "model_id": "b8e1503c524d47cbb5270f0934125a5d"
            }
          },
          "metadata": {}
        },
        {
          "output_type": "display_data",
          "data": {
            "text/plain": [
              "HBox(children=(Checkbox(value=False, description='is_student'), Checkbox(value=False, description='Is this var…"
            ],
            "application/vnd.jupyter.widget-view+json": {
              "version_major": 2,
              "version_minor": 0,
              "model_id": "3e2b10af38354e04b0b649fc8c5af624"
            }
          },
          "metadata": {}
        },
        {
          "output_type": "display_data",
          "data": {
            "text/plain": [
              "Label(value='Controls:')"
            ],
            "application/vnd.jupyter.widget-view+json": {
              "version_major": 2,
              "version_minor": 0,
              "model_id": "1bebf14655e04d9b9b104bde27b74302"
            }
          },
          "metadata": {}
        },
        {
          "output_type": "display_data",
          "data": {
            "text/plain": [
              "HBox(children=(Checkbox(value=False, description='gender'), Checkbox(value=False, description='Is this variabl…"
            ],
            "application/vnd.jupyter.widget-view+json": {
              "version_major": 2,
              "version_minor": 0,
              "model_id": "a4d48814ccbe4bd5acbb78227d5b21ed"
            }
          },
          "metadata": {}
        },
        {
          "output_type": "display_data",
          "data": {
            "text/plain": [
              "HBox(children=(Checkbox(value=False, description='age'), Checkbox(value=False, description='Is this variable C…"
            ],
            "application/vnd.jupyter.widget-view+json": {
              "version_major": 2,
              "version_minor": 0,
              "model_id": "bd67003895b64bb1a6296f26f5028660"
            }
          },
          "metadata": {}
        },
        {
          "output_type": "display_data",
          "data": {
            "text/plain": [
              "HBox(children=(Checkbox(value=False, description='occu'), Checkbox(value=False, description='Is this variable …"
            ],
            "application/vnd.jupyter.widget-view+json": {
              "version_major": 2,
              "version_minor": 0,
              "model_id": "1b540d461f314d46a9ac864fc3e3da83"
            }
          },
          "metadata": {}
        },
        {
          "output_type": "display_data",
          "data": {
            "text/plain": [
              "HBox(children=(Checkbox(value=False, description='is_student'), Checkbox(value=False, description='Is this var…"
            ],
            "application/vnd.jupyter.widget-view+json": {
              "version_major": 2,
              "version_minor": 0,
              "model_id": "19e40934356a4a979017988650375df3"
            }
          },
          "metadata": {}
        },
        {
          "output_type": "display_data",
          "data": {
            "text/plain": [
              "Label(value='Make Wordclouds:')"
            ],
            "application/vnd.jupyter.widget-view+json": {
              "version_major": 2,
              "version_minor": 0,
              "model_id": "d1ad8373dae549c8b12a0afca945e227"
            }
          },
          "metadata": {}
        },
        {
          "output_type": "display_data",
          "data": {
            "text/plain": [
              "Checkbox(value=False, description='Enable Wordclouds')"
            ],
            "application/vnd.jupyter.widget-view+json": {
              "version_major": 2,
              "version_minor": 0,
              "model_id": "44ad0e3d7c584262aa5bdf6f4b1fe3b8"
            }
          },
          "metadata": {}
        },
        {
          "output_type": "display_data",
          "data": {
            "text/plain": [
              "Button(description='Submit', style=ButtonStyle())"
            ],
            "application/vnd.jupyter.widget-view+json": {
              "version_major": 2,
              "version_minor": 0,
              "model_id": "2c7871fb7e0b45af884486c2236d84d3"
            }
          },
          "metadata": {}
        },
        {
          "output_type": "stream",
          "name": "stdout",
          "text": [
            "Command to execute: dlatkInterface.py -d colab_csv -t msgs404u.csv -g user_id --group_freq_thresh 100 --feat_table 'feat$1to2gram$msgs404u$user_id$0_1$pmi3_0' --outcome_table users404.csv --outcomes age --controls gender --cat_to_bin gender --rmatrix --make_wordclouds\n",
            "Wordcloud File Name: feat.1to2gram.msgs404u.user_id.0_1.pmi3_0.age.gender__0.freq100._tagcloud_wordclouds\n"
          ]
        },
        {
          "output_type": "display_data",
          "data": {
            "text/plain": [
              "<Figure size 700x300 with 2 Axes>"
            ],
            "image/png": "[encoded data removed]"
          },
          "metadata": {}
        }
      ]
    },
    {
      "cell_type": "code",
      "source": [
        "#@markdown Test code: Check which tables are formed so far\n",
        "\n",
        "!dlatkInterface.py \\\n",
        "  -d colab_csv -t msgs404u.csv -g user_id \\\n",
        "  --show_feat_tables"
      ],
      "metadata": {
        "id": "gUsqeWs2DYEm",
        "outputId": "43b8e4a3-5dac-4b2b-88f8-6bab7c7abbb1",
        "colab": {
          "base_uri": "https://localhost:8080/",
          "height": 250
        }
      },
      "execution_count": 21,
      "outputs": [
        {
          "output_type": "display_data",
          "data": {
            "text/plain": [
              "<IPython.core.display.Javascript object>"
            ],
            "application/javascript": [
              "google.colab.output.setIframeHeight(0, true, {maxHeight: 250})"
            ]
          },
          "metadata": {}
        },
        {
          "output_type": "display_data",
          "data": {
            "text/plain": [
              "<IPython.core.display.HTML object>"
            ],
            "text/html": [
              "<style> body {background-color: rgb(255, 250, 232);}</style>"
            ]
          },
          "metadata": {}
        },
        {
          "output_type": "display_data",
          "data": {
            "text/plain": [
              "<IPython.core.display.Javascript object>"
            ],
            "application/javascript": [
              "google.colab.output.setIframeHeight(0, true, {maxHeight: 250})"
            ]
          },
          "metadata": {}
        },
        {
          "output_type": "display_data",
          "data": {
            "text/plain": [
              "<IPython.core.display.HTML object>"
            ],
            "text/html": [
              "<style> body {background-color: rgb(255, 250, 232);}</style>"
            ]
          },
          "metadata": {}
        },
        {
          "output_type": "display_data",
          "data": {
            "text/plain": [
              "<IPython.core.display.Javascript object>"
            ],
            "application/javascript": [
              "google.colab.output.setIframeHeight(0, true, {maxHeight: 250})"
            ]
          },
          "metadata": {}
        },
        {
          "output_type": "display_data",
          "data": {
            "text/plain": [
              "<IPython.core.display.HTML object>"
            ],
            "text/html": [
              "<style> body {background-color: rgb(255, 250, 232);}</style>"
            ]
          },
          "metadata": {}
        },
        {
          "output_type": "display_data",
          "data": {
            "text/plain": [
              "<IPython.core.display.Javascript object>"
            ],
            "application/javascript": [
              "google.colab.output.setIframeHeight(0, true, {maxHeight: 250})"
            ]
          },
          "metadata": {}
        },
        {
          "output_type": "display_data",
          "data": {
            "text/plain": [
              "<IPython.core.display.HTML object>"
            ],
            "text/html": [
              "<style> body {background-color: rgb(255, 250, 232);}</style>"
            ]
          },
          "metadata": {}
        },
        {
          "output_type": "display_data",
          "data": {
            "text/plain": [
              "<IPython.core.display.Javascript object>"
            ],
            "application/javascript": [
              "google.colab.output.setIframeHeight(0, true, {maxHeight: 250})"
            ]
          },
          "metadata": {}
        },
        {
          "output_type": "display_data",
          "data": {
            "text/plain": [
              "<IPython.core.display.HTML object>"
            ],
            "text/html": [
              "<style> body {background-color: rgb(255, 250, 232);}</style>"
            ]
          },
          "metadata": {}
        },
        {
          "output_type": "display_data",
          "data": {
            "text/plain": [
              "<IPython.core.display.Javascript object>"
            ],
            "application/javascript": [
              "google.colab.output.setIframeHeight(0, true, {maxHeight: 250})"
            ]
          },
          "metadata": {}
        },
        {
          "output_type": "display_data",
          "data": {
            "text/plain": [
              "<IPython.core.display.HTML object>"
            ],
            "text/html": [
              "<style> body {background-color: rgb(255, 250, 232);}</style>"
            ]
          },
          "metadata": {}
        },
        {
          "output_type": "display_data",
          "data": {
            "text/plain": [
              "<IPython.core.display.Javascript object>"
            ],
            "application/javascript": [
              "google.colab.output.setIframeHeight(0, true, {maxHeight: 250})"
            ]
          },
          "metadata": {}
        },
        {
          "output_type": "display_data",
          "data": {
            "text/plain": [
              "<IPython.core.display.HTML object>"
            ],
            "text/html": [
              "<style> body {background-color: rgb(255, 250, 232);}</style>"
            ]
          },
          "metadata": {}
        },
        {
          "output_type": "display_data",
          "data": {
            "text/plain": [
              "<IPython.core.display.Javascript object>"
            ],
            "application/javascript": [
              "google.colab.output.setIframeHeight(0, true, {maxHeight: 250})"
            ]
          },
          "metadata": {}
        },
        {
          "output_type": "display_data",
          "data": {
            "text/plain": [
              "<IPython.core.display.HTML object>"
            ],
            "text/html": [
              "<style> body {background-color: rgb(255, 250, 232);}</style>"
            ]
          },
          "metadata": {}
        },
        {
          "output_type": "display_data",
          "data": {
            "text/plain": [
              "<IPython.core.display.Javascript object>"
            ],
            "application/javascript": [
              "google.colab.output.setIframeHeight(0, true, {maxHeight: 250})"
            ]
          },
          "metadata": {}
        },
        {
          "output_type": "display_data",
          "data": {
            "text/plain": [
              "<IPython.core.display.HTML object>"
            ],
            "text/html": [
              "<style> body {background-color: rgb(255, 250, 232);}</style>"
            ]
          },
          "metadata": {}
        },
        {
          "output_type": "display_data",
          "data": {
            "text/plain": [
              "<IPython.core.display.Javascript object>"
            ],
            "application/javascript": [
              "google.colab.output.setIframeHeight(0, true, {maxHeight: 250})"
            ]
          },
          "metadata": {}
        },
        {
          "output_type": "display_data",
          "data": {
            "text/plain": [
              "<IPython.core.display.HTML object>"
            ],
            "text/html": [
              "<style> body {background-color: rgb(255, 250, 232);}</style>"
            ]
          },
          "metadata": {}
        },
        {
          "output_type": "display_data",
          "data": {
            "text/plain": [
              "<IPython.core.display.Javascript object>"
            ],
            "application/javascript": [
              "google.colab.output.setIframeHeight(0, true, {maxHeight: 250})"
            ]
          },
          "metadata": {}
        },
        {
          "output_type": "display_data",
          "data": {
            "text/plain": [
              "<IPython.core.display.HTML object>"
            ],
            "text/html": [
              "<style> body {background-color: rgb(255, 250, 232);}</style>"
            ]
          },
          "metadata": {}
        },
        {
          "output_type": "display_data",
          "data": {
            "text/plain": [
              "<IPython.core.display.Javascript object>"
            ],
            "application/javascript": [
              "google.colab.output.setIframeHeight(0, true, {maxHeight: 250})"
            ]
          },
          "metadata": {}
        },
        {
          "output_type": "display_data",
          "data": {
            "text/plain": [
              "<IPython.core.display.HTML object>"
            ],
            "text/html": [
              "<style> body {background-color: rgb(255, 250, 232);}</style>"
            ]
          },
          "metadata": {}
        },
        {
          "output_type": "display_data",
          "data": {
            "text/plain": [
              "<IPython.core.display.Javascript object>"
            ],
            "application/javascript": [
              "google.colab.output.setIframeHeight(0, true, {maxHeight: 250})"
            ]
          },
          "metadata": {}
        },
        {
          "output_type": "display_data",
          "data": {
            "text/plain": [
              "<IPython.core.display.HTML object>"
            ],
            "text/html": [
              "<style> body {background-color: rgb(255, 250, 232);}</style>"
            ]
          },
          "metadata": {}
        },
        {
          "output_type": "display_data",
          "data": {
            "text/plain": [
              "<IPython.core.display.Javascript object>"
            ],
            "application/javascript": [
              "google.colab.output.setIframeHeight(0, true, {maxHeight: 250})"
            ]
          },
          "metadata": {}
        },
        {
          "output_type": "display_data",
          "data": {
            "text/plain": [
              "<IPython.core.display.HTML object>"
            ],
            "text/html": [
              "<style> body {background-color: rgb(255, 250, 232);}</style>"
            ]
          },
          "metadata": {}
        },
        {
          "output_type": "display_data",
          "data": {
            "text/plain": [
              "<IPython.core.display.Javascript object>"
            ],
            "application/javascript": [
              "google.colab.output.setIframeHeight(0, true, {maxHeight: 250})"
            ]
          },
          "metadata": {}
        },
        {
          "output_type": "display_data",
          "data": {
            "text/plain": [
              "<IPython.core.display.HTML object>"
            ],
            "text/html": [
              "<style> body {background-color: rgb(255, 250, 232);}</style>"
            ]
          },
          "metadata": {}
        },
        {
          "output_type": "display_data",
          "data": {
            "text/plain": [
              "<IPython.core.display.Javascript object>"
            ],
            "application/javascript": [
              "google.colab.output.setIframeHeight(0, true, {maxHeight: 250})"
            ]
          },
          "metadata": {}
        },
        {
          "output_type": "display_data",
          "data": {
            "text/plain": [
              "<IPython.core.display.HTML object>"
            ],
            "text/html": [
              "<style> body {background-color: rgb(255, 250, 232);}</style>"
            ]
          },
          "metadata": {}
        },
        {
          "output_type": "display_data",
          "data": {
            "text/plain": [
              "<IPython.core.display.Javascript object>"
            ],
            "application/javascript": [
              "google.colab.output.setIframeHeight(0, true, {maxHeight: 250})"
            ]
          },
          "metadata": {}
        },
        {
          "output_type": "display_data",
          "data": {
            "text/plain": [
              "<IPython.core.display.HTML object>"
            ],
            "text/html": [
              "<style> body {background-color: rgb(255, 250, 232);}</style>"
            ]
          },
          "metadata": {}
        },
        {
          "output_type": "display_data",
          "data": {
            "text/plain": [
              "<IPython.core.display.Javascript object>"
            ],
            "application/javascript": [
              "google.colab.output.setIframeHeight(0, true, {maxHeight: 250})"
            ]
          },
          "metadata": {}
        },
        {
          "output_type": "display_data",
          "data": {
            "text/plain": [
              "<IPython.core.display.HTML object>"
            ],
            "text/html": [
              "<style> body {background-color: rgb(255, 250, 232);}</style>"
            ]
          },
          "metadata": {}
        },
        {
          "output_type": "stream",
          "name": "stdout",
          "text": [
            "\n",
            "\n",
            "TopicExtractor: gensim Mallet wrapper unavailable, using Mallet directly.\n",
            "\n",
            "-----\n",
            "DLATK Interface Initiated: 2024-05-08 07:31:35\n",
            "-----\n",
            "Connecting to SQLite database: /content/sqlite_data/colab_csv.db\n",
            "\n",
            "Found 5 available tables\n",
            "----\n",
            "feat$1gram$msgs404u$user_id\n",
            "feat$meta_1gram$msgs404u$user_id\n",
            "feat$2gram$msgs404u$user_id\n",
            "feat$meta_2gram$msgs404u$user_id\n",
            "feat$1to2gram$msgs404u$user_id\n",
            "-------\n",
            "Settings:\n",
            "\n",
            "Database - colab_csv\n",
            "Corpus - msgs404u.csv\n",
            "Group ID - user_id\n",
            "-------\n",
            "Interface Runtime: 0.01 seconds\n",
            "DLATK exits with success! A good day indeed  ¯\\_(ツ)_/¯.\n"
          ]
        }
      ]
    },
    {
      "cell_type": "code",
      "source": [
        "from IPython.utils import io\n",
        "import subprocess\n",
        "import ipywidgets as widgets\n",
        "from IPython.display import display, clear_output\n",
        "import csv\n",
        "import re\n",
        "from google.colab import files\n",
        "import os\n",
        "import glob\n",
        "import math\n",
        "import matplotlib.pyplot as plt\n",
        "import matplotlib.image as mpimg\n",
        "\n",
        "# Setup DLATK\n",
        "def setup_dlatk():\n",
        "    subprocess.run(\"pip install dlatk[wordcloud,langid]\", shell=True)\n",
        "    result = subprocess.run(\"dlatkInterface.py --colabify\", shell=True, capture_output=True, text=True)\n",
        "    try:\n",
        "        from dlatk.tools.colab_methods import colab_shorten_and_bg\n",
        "        colab_shorten_and_bg()\n",
        "    except ImportError as e:\n",
        "        print(\"Some optional setup steps failed:\", e)\n",
        "    return result.stdout + '\\n' + result.stderr\n",
        "\n",
        "# Suppressing output\n",
        "with io.capture_output() as captured:\n",
        "    setup_output = setup_dlatk()\n",
        "\n",
        "if 'DLATK exits with success! A good day indeed' in setup_output:\n",
        "    print(\"DLATK setup completed successfully. Enjoy your analysis!\")\n",
        "else:\n",
        "    print(\"DLATK setup may have encountered issues. Please check the logs for more details.\")\n",
        "\n",
        "# Define global variables\n",
        "database_name = \"colab_csv\"\n",
        "generated_feature_table_name = \"\"\n",
        "text_column_name = \"\"\n",
        "id_column_name = \"\"\n",
        "file_name_without_extension = \"\"\n",
        "outcome_table_name = \"\"\n",
        "\n",
        "# Upload and configure text data (Code A)\n",
        "def upload_text_data():\n",
        "    global text_column_name, id_column_name, file_name_without_extension, generated_feature_table_name\n",
        "\n",
        "    text_filename = widgets.Dropdown(options=[\"Upload from desktop\", \"msgs404u.csv\"], description='Select File:')\n",
        "    display(text_filename)\n",
        "\n",
        "    def process_file(change):\n",
        "        clear_output(wait=True)\n",
        "        file_path = None\n",
        "        if change['new'] == \"Upload from desktop\":\n",
        "            print(\"Please upload a file from the desktop.\")\n",
        "            uploaded_files = files.upload()\n",
        "            if uploaded_files:\n",
        "                file_name = next(iter(uploaded_files))\n",
        "                file_name = re.sub(r\" \\(\\d+\\)\", \"\", file_name)\n",
        "                if not file_name.endswith('.csv'):\n",
        "                    file_name += '.csv'\n",
        "                file_path = os.path.join(\"/content\", file_name)\n",
        "                print(f'Uploaded file name: {file_name}')\n",
        "            else:\n",
        "                print(\"No file uploaded. Please upload a file to proceed.\")\n",
        "        else:\n",
        "            file_name = re.sub(r\" \\(\\d+\\)\", \"\", change['new'])\n",
        "            if not file_name.endswith('.csv'):\n",
        "                file_name += '.csv'\n",
        "            file_path = os.path.join(\"/content\", file_name)\n",
        "            print(f'Text file selected: {file_name}')\n",
        "\n",
        "        if file_path and os.path.exists(file_path):\n",
        "            print(f'File ready for use: {file_path}')\n",
        "            with open(file_path, mode='r', encoding='utf-8') as file:\n",
        "                reader = csv.reader(file)\n",
        "                available_columns = next(reader, None)\n",
        "\n",
        "            text_column_dropdown = widgets.Dropdown(options=[col for col in available_columns if not col.endswith(\"_id\")], description='Text Column:')\n",
        "            id_column_dropdown = widgets.Dropdown(options=[col for col in available_columns if col.endswith(\"_id\")], description='ID Column:')\n",
        "            feature_options = widgets.Dropdown(options=['Select option', '1to2grams-filtered', '1to2grams-unfiltered', 'topics'], description='Features:')\n",
        "\n",
        "            def confirm_columns(b):\n",
        "                global text_column_name, id_column_name\n",
        "                text_column_name = text_column_dropdown.value\n",
        "                id_column_name = id_column_dropdown.value\n",
        "                print(f\"Text column set to: {text_column_name}, ID column set to: {id_column_name}\")\n",
        "                display(feature_options)\n",
        "\n",
        "            confirm_button = widgets.Button(description=\"Confirm Columns\")\n",
        "            confirm_button.on_click(confirm_columns)\n",
        "            display(text_column_dropdown, id_column_dropdown, confirm_button)\n",
        "\n",
        "            # Feature extraction functions\n",
        "            def generate_unfiltered_feature_table():\n",
        "                combined_feature_table_name = \"1to2gram\"\n",
        "                command = f\"dlatkInterface.py -d {database_name} -t {file_name} -g {id_column_name} \" \\\n",
        "                          f\"--message_field {text_column_name} --messageid_field {text_column_name}_id \" \\\n",
        "                          f\"--add_ngrams -n 1 2 --combine_feat_tables {combined_feature_table_name}\"\n",
        "                print(f\"Generating unfiltered 1to2grams feature table: {command}\")\n",
        "                subprocess.run(command, shell=True)\n",
        "                generated_feature_table_name = f\"feat${combined_feature_table_name}${file_name_without_extension}${id_column_name}\"\n",
        "                print(f\"Generated feature table: {generated_feature_table_name}\")\n",
        "\n",
        "            def extract_features(b):\n",
        "                if feature_options.value == '1to2grams-unfiltered':\n",
        "                    generate_unfiltered_feature_table()\n",
        "                elif feature_options.value == '1to2grams-filtered':\n",
        "                    combined_feature_table_name = \"1to2gram\"\n",
        "                    command = f\"dlatkInterface.py -d {database_name} -t {file_name} -g {id_column_name} \" \\\n",
        "                              f\"--message_field {text_column_name} --messageid_field {text_column_name}_id \" \\\n",
        "                              f\"--add_ngrams -n 1 2 --combine_feat_tables {combined_feature_table_name} \" \\\n",
        "                              f\"--feat_occ_filter --set_p_occ 0.10 --feat_colloc_filter\"\n",
        "                    print(f\"Executing: {command}\")\n",
        "                    subprocess.run(command, shell=True)\n",
        "                    generated_feature_table_name = f\"feat${combined_feature_table_name}${file_name_without_extension}${id_column_name}$0_1$pmi3_0\"\n",
        "                    print(f\"Generated feature table: {generated_feature_table_name}\")\n",
        "\n",
        "                elif feature_options.value == 'topics':\n",
        "                    lex_table_name = f\"feat$cat_fb2000_cp_w${file_name_without_extension}${id_column_name}$1gra\"\n",
        "                    command = f\"dlatkInterface.py -d {database_name} -t {file_name} -g {id_column_name} \" \\\n",
        "                              f\"--message_field {text_column_name} --messageid_field {text_column_name}_id \" \\\n",
        "                              f\"--group_freq_thresh 100 --add_lex_table -l fb2000_cp --weighted_lexicon\"\n",
        "                    print(f\"Executing: {command}\")\n",
        "                    subprocess.run(command, shell=True)\n",
        "                    print(f\"Generated LDA feature table: {lex_table_name}\")\n",
        "\n",
        "            feature_options.observe(extract_features, names='value')\n",
        "        else:\n",
        "            print(\"File not found. Please ensure the file exists and try again.\")\n",
        "\n",
        "    text_filename.observe(process_file, names='value')\n",
        "\n",
        "upload_text_data()\n",
        "\n",
        "# Upload correlate data (Code B)\n",
        "def upload_correlate_data():\n",
        "    global outcome_table_name\n",
        "\n",
        "    default_dataset = \"users404.csv\"\n",
        "    file_path = os.path.join(\"/content\", default_dataset)\n",
        "    print(f'Default dataset selected: {default_dataset}')\n",
        "\n",
        "    if os.path.exists(file_path):\n",
        "        print(f'Dataset ready for use: {file_path}')\n",
        "        outcome_table_name = default_dataset\n",
        "    else:\n",
        "        print(\"Dataset not found. Please ensure the dataset exists and try again.\")\n",
        "\n",
        "upload_correlate_data()\n",
        "\n",
        "# Configure parameters (Code C)\n",
        "def configure_parameters():\n",
        "    # Assuming Code C content here\n",
        "    print(f\"Configuring with outcome table: {outcome_table_name}\")\n",
        "\n",
        "configure_parameters()\n",
        "\n",
        "# Generate and display word clouds (Code D)\n",
        "def display_wordclouds():\n",
        "    # Assuming Code D content here\n",
        "    print(\"Displaying word clouds...\")\n",
        "\n",
        "display_wordclouds()\n"
      ],
      "metadata": {
        "colab": {
          "base_uri": "https://localhost:8080/",
          "height": 197,
          "referenced_widgets": [
            "bdf8e06c873441e2b831daa0fe9a94e5",
            "ec6bd291f7b9449d84269f13e3c5c8bd",
            "5cc09c5377284239a2d7ea1c16232094",
            "8e51f09d0e7849219b671f536867e6a8",
            "5d2c10c90be14cfdbc18024dc215562f",
            "e4c4c37a48604193915263f4b7c93f9c",
            "1b3be87b9314456f962052d6caec217f",
            "2b2dd63686e74844ab5343c16b595bc0",
            "b22b4b8bbe914e38a3e84d2e2366bc3a",
            "ff7338ece29f49c39838d8eb3b3c9b50",
            "15760193142f439aaf8dfc2bcc6843b3",
            "674d1916823b40e4a42eaa57415ff8b5",
            "9bf43bcc8f1148e5aa972b5f46a54883",
            "8a812c19d77341daa998be5303b4f258",
            "b0a4aac650854053a174eae59abd8d1f"
          ]
        },
        "id": "boKVwhRLJFnY",
        "outputId": "6b1ea098-11bc-489c-aac5-4a8f68b18f4c"
      },
      "execution_count": 2,
      "outputs": [
        {
          "output_type": "stream",
          "name": "stdout",
          "text": [
            "Text file selected: msgs404u.csv\n",
            "File ready for use: /content/msgs404u.csv\n"
          ]
        },
        {
          "output_type": "display_data",
          "data": {
            "text/plain": [
              "Dropdown(description='Text Column:', options=('created_date', 'message'), value='created_date')"
            ],
            "application/vnd.jupyter.widget-view+json": {
              "version_major": 2,
              "version_minor": 0,
              "model_id": "8e51f09d0e7849219b671f536867e6a8"
            }
          },
          "metadata": {}
        },
        {
          "output_type": "display_data",
          "data": {
            "text/plain": [
              "Dropdown(description='ID Column:', options=('message_id', 'user_id'), value='message_id')"
            ],
            "application/vnd.jupyter.widget-view+json": {
              "version_major": 2,
              "version_minor": 0,
              "model_id": "1b3be87b9314456f962052d6caec217f"
            }
          },
          "metadata": {}
        },
        {
          "output_type": "display_data",
          "data": {
            "text/plain": [
              "Button(description='Confirm Columns', style=ButtonStyle())"
            ],
            "application/vnd.jupyter.widget-view+json": {
              "version_major": 2,
              "version_minor": 0,
              "model_id": "ff7338ece29f49c39838d8eb3b3c9b50"
            }
          },
          "metadata": {}
        },
        {
          "output_type": "stream",
          "name": "stdout",
          "text": [
            "Text column set to: message, ID column set to: user_id\n"
          ]
        },
        {
          "output_type": "display_data",
          "data": {
            "text/plain": [
              "Dropdown(description='Features:', options=('Select option', '1to2grams-filtered', '1to2grams-unfiltered', 'top…"
            ],
            "application/vnd.jupyter.widget-view+json": {
              "version_major": 2,
              "version_minor": 0,
              "model_id": "9bf43bcc8f1148e5aa972b5f46a54883"
            }
          },
          "metadata": {}
        }
      ]
    },
    {
      "cell_type": "code",
      "source": [
        "from IPython.utils import io\n",
        "import subprocess\n",
        "import ipywidgets as widgets\n",
        "from IPython.display import display, clear_output\n",
        "import csv\n",
        "import re\n",
        "from google.colab import files\n",
        "import os\n",
        "import glob\n",
        "import math\n",
        "import matplotlib.pyplot as plt\n",
        "import matplotlib.image as mpimg\n",
        "\n",
        "# Setup DLATK\n",
        "def setup_dlatk():\n",
        "    subprocess.run(\"pip install dlatk[wordcloud,langid]\", shell=True)\n",
        "    result = subprocess.run(\"dlatkInterface.py --colabify\", shell=True, capture_output=True, text=True)\n",
        "    try:\n",
        "        from dlatk.tools.colab_methods import colab_shorten_and_bg\n",
        "        colab_shorten_and_bg()\n",
        "    except ImportError as e:\n",
        "        print(\"Some optional setup steps failed:\", e)\n",
        "    return result.stdout + '\\n' + result.stderr\n",
        "\n",
        "# Suppressing output\n",
        "with io.capture_output() as captured:\n",
        "    setup_output = setup_dlatk()\n",
        "\n",
        "if 'DLATK exits with success! A good day indeed' in setup_output:\n",
        "    print(\"DLATK setup completed successfully. Enjoy your analysis!\")\n",
        "else:\n",
        "    print(\"DLATK setup may have encountered issues. Please check the logs for more details.\")\n",
        "\n",
        "# Define global variables\n",
        "database_name = \"colab_csv\"\n",
        "generated_feature_table_name = \"\"\n",
        "text_column_name = \"\"\n",
        "id_column_name = \"\"\n",
        "file_name_without_extension = \"\"\n",
        "outcome_table_name = \"\"\n",
        "\n",
        "# Upload and configure text data (Code A)\n",
        "def upload_text_data():\n",
        "    global text_column_name, id_column_name, file_name_without_extension, generated_feature_table_name\n",
        "\n",
        "    #@markdown ### Select text Dataset or Upload from Desktop\n",
        "    #@markdown Choose a text dataset from the dropdown, or select \"Upload from desktop\" to upload your own file.\n",
        "    #@markdown After making your selection, click the __play button__ at the top left to proceed.\n",
        "\n",
        "    text_filename = widgets.Dropdown(options=[\"Upload from desktop\", \"msgs404u.csv\"], description='Select File:')\n",
        "    display(text_filename)\n",
        "\n",
        "    def process_file(change):\n",
        "        clear_output(wait=True)\n",
        "        file_path = None\n",
        "        if change['new'] == \"Upload from desktop\":\n",
        "            print(\"Please upload a file from the desktop.\")\n",
        "            uploaded_files = files.upload()\n",
        "            if uploaded_files:\n",
        "                file_name = next(iter(uploaded_files))\n",
        "                file_name = re.sub(r\" \\(\\d+\\)\", \"\", file_name)\n",
        "                if not file_name.endswith('.csv'):\n",
        "                    file_name += '.csv'\n",
        "                file_path = os.path.join(\"/content\", file_name)\n",
        "                print(f'Uploaded file name: {file_name}')\n",
        "            else:\n",
        "                print(\"No file uploaded. Please upload a file to proceed.\")\n",
        "        else:\n",
        "            file_name = re.sub(r\" \\(\\d+\\)\", \"\", change['new'])\n",
        "            if not file_name.endswith('.csv'):\n",
        "                file_name += '.csv'\n",
        "            file_path = os.path.join(\"/content\", file_name)\n",
        "            print(f'Text file selected: {file_name}')\n",
        "\n",
        "        if file_path and os.path.exists(file_path):\n",
        "            print(f'File ready for use: {file_path}')\n",
        "            with open(file_path, mode='r', encoding='utf-8') as file:\n",
        "                reader = csv.reader(file)\n",
        "                available_columns = next(reader, None)\n",
        "\n",
        "            text_column_dropdown = widgets.Dropdown(options=[col for col in available_columns if not col.endswith(\"_id\")], description='Text Column:')\n",
        "            id_column_dropdown = widgets.Dropdown(options=[col for col in available_columns if col.endswith(\"_id\")], description='ID Column:')\n",
        "\n",
        "            def confirm_columns(b):\n",
        "                global text_column_name, id_column_name\n",
        "                text_column_name = text_column_dropdown.value\n",
        "                id_column_name = id_column_dropdown.value\n",
        "                print(f\"Text column set to: {text_column_name}, ID column set to: {id_column_name}\")\n",
        "\n",
        "            confirm_button = widgets.Button(description=\"Confirm Columns\")\n",
        "            confirm_button.on_click(confirm_columns)\n",
        "            display(text_column_dropdown, id_column_dropdown, confirm_button)\n",
        "        else:\n",
        "            print(\"File not found. Please ensure the file exists and try again.\")\n",
        "\n",
        "    text_filename.observe(process_file, names='value')\n",
        "\n",
        "upload_text_data()\n",
        "\n",
        "# Upload correlate data (Code B)\n",
        "def upload_correlate_data():\n",
        "    global outcome_table_name\n",
        "\n",
        "    default_dataset = \"users404.csv\"\n",
        "    file_path = os.path.join(\"/content\", default_dataset)\n",
        "    print(f'Default dataset selected: {default_dataset}')\n",
        "\n",
        "    if os.path.exists(file_path):\n",
        "        print(f'Dataset ready for use: {file_path}')\n",
        "        outcome_table_name = default_dataset\n",
        "    else:\n",
        "        print(\"Dataset not found. Please ensure the dataset exists and try again.\")\n",
        "\n",
        "upload_correlate_data()\n",
        "\n",
        "# Configure parameters (Code C)\n",
        "def configure_parameters():\n",
        "    # Assuming Code C content here\n",
        "    print(f\"Configuring with outcome table: {outcome_table_name}\")\n",
        "\n",
        "configure_parameters()\n",
        "\n",
        "# Generate and display word clouds (Code D)\n",
        "def display_wordclouds():\n",
        "    # Assuming Code D content here\n",
        "    print(\"Displaying word clouds...\")\n",
        "\n",
        "display_wordclouds()\n"
      ],
      "metadata": {
        "colab": {
          "base_uri": "https://localhost:8080/",
          "height": 138,
          "referenced_widgets": [
            "4a0287e1d1774fe5a0a9954f15c95e88",
            "0802e02425b749fdb7691e93e8e9ed9f",
            "cb7f87c30e9f4d0c9cefb55b97dcfc9d"
          ]
        },
        "id": "Si5sJNE0_MTb",
        "outputId": "5011c953-2562-45df-9468-1621bed272c0"
      },
      "execution_count": 3,
      "outputs": [
        {
          "output_type": "display_data",
          "data": {
            "text/plain": [
              "<IPython.core.display.Javascript object>"
            ],
            "application/javascript": [
              "google.colab.output.setIframeHeight(0, true, {maxHeight: 250})"
            ]
          },
          "metadata": {}
        },
        {
          "output_type": "display_data",
          "data": {
            "text/plain": [
              "<IPython.core.display.HTML object>"
            ],
            "text/html": [
              "<style> body {background-color: rgb(255, 250, 232);}</style>"
            ]
          },
          "metadata": {}
        },
        {
          "output_type": "display_data",
          "data": {
            "text/plain": [
              "<IPython.core.display.Javascript object>"
            ],
            "application/javascript": [
              "google.colab.output.setIframeHeight(0, true, {maxHeight: 250})"
            ]
          },
          "metadata": {}
        },
        {
          "output_type": "display_data",
          "data": {
            "text/plain": [
              "<IPython.core.display.HTML object>"
            ],
            "text/html": [
              "<style> body {background-color: rgb(255, 250, 232);}</style>"
            ]
          },
          "metadata": {}
        },
        {
          "output_type": "stream",
          "name": "stdout",
          "text": [
            "DLATK setup completed successfully. Enjoy your analysis!\n"
          ]
        },
        {
          "output_type": "display_data",
          "data": {
            "text/plain": [
              "Dropdown(description='Select File:', options=('Upload from desktop', 'msgs404u.csv'), value='Upload from deskt…"
            ],
            "application/vnd.jupyter.widget-view+json": {
              "version_major": 2,
              "version_minor": 0,
              "model_id": "4a0287e1d1774fe5a0a9954f15c95e88"
            }
          },
          "metadata": {}
        },
        {
          "output_type": "stream",
          "name": "stdout",
          "text": [
            "Default dataset selected: users404.csv\n",
            "Dataset ready for use: /content/users404.csv\n",
            "Configuring with outcome table: users404.csv\n",
            "Displaying word clouds...\n"
          ]
        }
      ]
    },
    {
      "cell_type": "code",
      "source": [
        "from IPython.utils import io\n",
        "import subprocess\n",
        "\n",
        "global text_column_name, id_column_name\n",
        "global file_name_without_extension\n",
        "global generated_feature_table_name\n",
        "global feature_table_mapping\n",
        "global outcomes, controls\n",
        "\n",
        "#@markdown Click the __Play button__ to the left to start the setup. Proceed to the next stage once you see:\n",
        "#@markdown \"DLATK setup completed successfully. Enjoy your analysis!\"\n",
        "\n",
        "def setup_dlatk():\n",
        "    # Install DLATK with additional features\n",
        "    subprocess.run(\"pip install dlatk[wordcloud,langid]\", shell=True)\n",
        "\n",
        "    # Initialize DLATK for Colab environment\n",
        "    result = subprocess.run(\"dlatkInterface.py --colabify\", shell=True, capture_output=True, text=True)\n",
        "\n",
        "    # Optional: Adjust Colab output for a better experience\n",
        "    try:\n",
        "        from dlatk.tools.colab_methods import colab_shorten_and_bg\n",
        "        colab_shorten_and_bg()  # This shortens output blocks and changes the output background color.\n",
        "    except ImportError as e:\n",
        "        print(\"Some optional setup steps failed:\", e)\n",
        "\n",
        "    return result.stdout + '\\n' + result.stderr\n",
        "\n",
        "# Suppressing the output of the main installation and setup commands\n",
        "with io.capture_output() as captured:\n",
        "    setup_output = setup_dlatk()\n",
        "\n",
        "# Check the captured output for a specific success message\n",
        "if 'DLATK exits with success! A good day indeed' in setup_output:\n",
        "    print(\"DLATK setup completed successfully. Enjoy your analysis!\")\n",
        "    # If DLATK setup is successful, proceed to run codeB\n",
        "    def run_codeB():\n",
        "        import subprocess\n",
        "        import ipywidgets as widgets\n",
        "        from IPython.display import display, clear_output\n",
        "        import csv\n",
        "        import re\n",
        "        from google.colab import files\n",
        "        import os\n",
        "\n",
        "        #@title Upload text data\n",
        "        #@markdown ### Select text Dataset or Upload from Desktop\n",
        "        #@markdown Choose a text dataset from the dropdown, or select \"Upload from desktop\" to upload your own file.\n",
        "        #@markdown After making your selection, click the __play button__ at the top left to proceed.\n",
        "\n",
        "        text_filename = \"msgs404u.csv\" #@param [\"Upload from desktop\", \"msgs404u.csv\"]\n",
        "        file_path = None\n",
        "\n",
        "        def sanitize_file_name(file_name):\n",
        "            base_file_name = re.sub(r\" \\(\\d+\\)\", \"\", file_name)\n",
        "            if not base_file_name.endswith('.csv'):\n",
        "                base_file_name += '.csv'\n",
        "            return base_file_name\n",
        "\n",
        "        def add_message_id_if_missing(file_path):\n",
        "            headers_changed = False\n",
        "            with open(file_path, mode='r', encoding='utf-8') as file:\n",
        "                reader = csv.reader(file)\n",
        "                headers = next(reader, None)\n",
        "\n",
        "                if headers and 'message_id' not in headers:\n",
        "                    headers_changed = True\n",
        "                    new_rows = [['message_id'] + headers]\n",
        "                    new_rows += [[str(i+1)] + row for i, row in enumerate(reader)]\n",
        "\n",
        "            if headers_changed:\n",
        "                with open(file_path, mode='w', encoding='utf-8', newline='') as file:\n",
        "                    writer = csv.writer(file)\n",
        "                    writer.writerows(new_rows)\n",
        "                print(\"Added 'message_id' column and saved changes.\")\n",
        "            else:\n",
        "                print(\"'message_id' column already exists.\")\n",
        "\n",
        "        if text_filename != \"Upload from desktop\":\n",
        "            file_name = sanitize_file_name(text_filename)\n",
        "            file_path = os.path.join(\"/content\", file_name)\n",
        "            print(f'Text file selected: {file_name}')\n",
        "        else:\n",
        "            print(\"Please upload a file from the desktop.\")\n",
        "            uploaded_files = files.upload()\n",
        "            if uploaded_files:\n",
        "                file_name = next(iter(uploaded_files))\n",
        "                file_name = sanitize_file_name(file_name)\n",
        "                file_path = os.path.join(\"/content\", file_name)\n",
        "                add_message_id_if_missing(file_path)\n",
        "                print(f'Uploaded file name: {file_name}')\n",
        "            else:\n",
        "                print(\"No file uploaded. Please upload a file to proceed.\")\n",
        "\n",
        "        if os.path.exists(file_path):\n",
        "            print(f'File ready for use: {file_path}')\n",
        "        else:\n",
        "            print(\"File not found. Please ensure the file exists and try again.\")\n",
        "\n",
        "        #@title Select Text and ID Columns\n",
        "        #@markdown Select the text and ID columns for analysis:\n",
        "        def get_available_columns(file_path):\n",
        "            with open(file_path, mode='r', encoding='utf-8') as file:\n",
        "                reader = csv.reader(file)\n",
        "                return next(reader, None)\n",
        "\n",
        "        available_columns = get_available_columns(file_path) if file_path else []\n",
        "        text_column_dropdown = widgets.Dropdown(options=[col for col in available_columns if not col.endswith(\"_id\")], description='Text Column:')\n",
        "        id_column_dropdown = widgets.Dropdown(options=[col for col in available_columns if col.endswith(\"_id\")], description='ID Column:')\n",
        "        confirm_button = widgets.Button(description=\"Confirm Columns\")\n",
        "\n",
        "        def confirm_columns(b):\n",
        "            text_column_name = text_column_dropdown.value\n",
        "            id_column_name = id_column_dropdown.value\n",
        "            print(f\"Text column set to: {text_column_name}, ID column set to: {id_column_name}\")\n",
        "\n",
        "        confirm_button.on_click(confirm_columns)\n",
        "        display(text_column_dropdown, id_column_dropdown, confirm_button)\n",
        "\n",
        "        #@title Feature Extraction Setup\n",
        "        #@markdown Setup feature extraction parameters and execute:\n",
        "\n",
        "        database_name = \"colab_csv\"\n",
        "        file_name_without_extension = file_name.rsplit('.', 1)[0] if file_name else \"default_filename\"\n",
        "        feature_options = widgets.Dropdown(options=['Select option', '1to2grams-filtered', '1to2grams-unfiltered', 'topics'], description='Features:')\n",
        "        run_feature_button = widgets.Button(description=\"Extract Features\")\n",
        "\n",
        "        def generate_unfiltered_feature_table():\n",
        "            combined_feature_table_name = \"1to2gram\"\n",
        "            command = f\"dlatkInterface.py -d {database_name} -t {file_name} -g {id_column_name} \" \\\n",
        "                      f\"--message_field {text_column_name} --messageid_field {text_column_name}_id \" \\\n",
        "                      f\"--add_ngrams -n 1 2 --combine_feat_tables {combined_feature_table_name}\"\n",
        "            print(f\"Generating unfiltered 1to2grams feature table: {command}\")\n",
        "            subprocess.run(command, shell=True)\n",
        "            generated_feature_table_name = f\"feat${combined_feature_table_name}${file_name_without_extension}${id_column_name}\"\n",
        "            print(f\"Generated feature table: {generated_feature_table_name}\")\n",
        "\n",
        "        def extract_features(b):\n",
        "            group_freq_thresh = 100  # Default value, used if not topic modeling\n",
        "\n",
        "            if feature_options.value == '1to2grams-unfiltered':\n",
        "                generate_unfiltered_feature_table()\n",
        "\n",
        "            elif feature_options.value == '1to2grams-filtered':\n",
        "                combined_feature_table_name = \"1to2gram\"\n",
        "                command = f\"dlatkInterface.py -d {database_name} -t {file_name} -g {id_column_name} \" \\\n",
        "                          f\"--message_field {text_column_name} --messageid_field {text_column_name}_id \" \\\n",
        "                          f\"--add_ngrams -n 1 2 --combine_feat_tables {combined_feature_table_name} \" \\\n",
        "                          f\"--feat_occ_filter --set_p_occ 0.10 --feat_colloc_filter\"\n",
        "                print(f\"Executing: {command}\")\n",
        "                subprocess.run(command, shell=True)\n",
        "                generated_feature_table_name = f\"feat${combined_feature_table_name}${file_naup_freq_thresh {group_freq_thresh} --add_lex_table -l fb2000_cp --weighted_lexicon\"\n",
        "                print(f\"Executing: {command}\")\n",
        "                subprocess.run(command, shell=True)\n",
        "                print(f\"Generated LDA feature table: {lex_table_name}\")\n",
        "\n",
        "        run_feature_button.on_click(extract_features)\n",
        "        display(feature_options, run_feature_button)\n",
        "\n",
        "    run_codeB()  # Execute codeB only after DLATK is successfully set up.\n",
        "else:\n",
        "    print(\"DLATK setup may have encountered issues. Please check the logs for more details.\")\n",
        "\n",
        "import re\n",
        "from google.colab import files\n",
        "import os\n",
        "\n",
        "# codeB\n",
        "def upload_dataset():\n",
        "\n",
        "  #@title Upload correlate data\n",
        "\n",
        "  #@markdown Select a predefined dataset from the dropdown menu, or choose \"Upload from desktop\" to upload your own dataset.\n",
        "\n",
        "  # This is a dropdown for choosing between default datasets or uploading your own\n",
        "  default_dataset = \"users404.csv\" #@param [\"Upload from desktop\", \"users404.csv\"]\n",
        "\n",
        "  #@markdown If you opt for desktop upload, click the \"Choose Files\" button that appears upon executing this cell.\n",
        "\n",
        "  # Function to check if the file exists (for local files)\n",
        "  def file_exists(file_path):\n",
        "      return os.path.exists(file_path)\n",
        "\n",
        "  # Sanitizes file names to ensure they end with '.csv'\n",
        "  def sanitize_file_name(file_name):\n",
        "      base_file_name = re.sub(r\" \\(\\d+\\)\", \"\", file_name)\n",
        "      if not base_file_name.endswith('.csv'):\n",
        "          base_file_name += '.csv'\n",
        "      return base_file_name\n",
        "\n",
        "  file_path = None  # Initialize file_path variable\n",
        "\n",
        "  if default_dataset != \"Upload from desktop\":\n",
        "      # If a default dataset is selected, set the file_path accordingly\n",
        "      outcome_table_name = sanitize_file_name(default_dataset)\n",
        "      file_path = os.path.join(\"/content\", outcome_table_name)\n",
        "      print(f'Default dataset selected: {outcome_table_name}')\n",
        "  else:\n",
        "      print(\"Please upload a dataset from the desktop.\")\n",
        "      uploaded_files = files.upload()\n",
        "      if uploaded_files:\n",
        "          # Assuming only one file is uploaded, use its name\n",
        "          filename = next(iter(uploaded_files))\n",
        "          outcome_table_name = sanitize_file_name(filename)  # Sanitize the uploaded file's name\n",
        "          file_path = os.path.join(\"/content\", outcome_table_name)\n",
        "          print(f'Uploaded dataset name: {outcome_table_name}')\n",
        "      else:\n",
        "          print(\"No dataset uploaded. Please upload a dataset to proceed.\")\n",
        "\n",
        "  # Verify the file's existence and readiness for use\n",
        "  if file_path and file_exists(file_path):\n",
        "      print(f'Dataset ready for use: {file_path}')\n",
        "  else:\n",
        "      print(\"Dataset not found. Please ensure the dataset exists and try again.\")\n",
        "\n",
        "upload_dataset()\n",
        "\n",
        "# codeC\n",
        "import ipywidgets as widgets\n",
        "from IPython.display import display, clear_output\n",
        "import csv\n",
        "\n",
        "# Code for configuring parameters and executing a command based on user selections\n",
        "def configure_and_execute():\n",
        "\n",
        "  #@title Configure Parameters\n",
        "\n",
        "  #@markdown Before executing the command, please adjust the parameters below according to your dataset and analysis needs.\n",
        "  feature_table_mapping = {\n",
        "      \"1to2grams-filtered-table\": f\"feat$1to2gram${file_name_without_extension}${id_column_name}$0_1$pmi3_0\",\n",
        "      \"1to2grams-unfiltered-table\": f\"feat$1to2gram${file_name_without_extension}${id_column_name}\",\n",
        "      \"topics-table\": f\"feat$cat_fb2000_cp_w${file_name_without_extension}${id_column_name}$1gra\"  # Adding topics-related feature table option\n",
        "  }\n",
        "\n",
        "  if 'outcome_table_name' in globals():\n",
        "      # Open and read the CSV file to extract column names\n",
        "      with open(outcome_table_name, newline='') as csvfile:\n",
        "          reader = csv.reader(csvfile)\n",
        "          column_headers = next(reader, None)\n",
        "\n",
        "      if column_headers:\n",
        "          # Exclude columns containing '_id' from being displayed as checkboxes\n",
        "          filtered_column_headers = [option for option in column_headers if \"_id\" not in option]\n",
        "\n",
        "          feature_table_dropdown = widgets.Dropdown(options=feature_table_mapping, description='Feature Table:')\n",
        "\n",
        "          outcomes_title = widgets.Label('Outcomes:')\n",
        "          controls_title = widgets.Label('Controls:')\n",
        "          outcomes_widgets = {}\n",
        "          controls_widgets = {}\n",
        "          outcomes_cat_widgets = {}\n",
        "          controls_cat_widgets = {}\n",
        "\n",
        "          # Create checkboxes for each column header\n",
        "          for option in filtered_column_headers:\n",
        "              outcomes_widgets[option] = widgets.Checkbox(description=option, value=False)\n",
        "              controls_widgets[option] = widgets.Checkbox(description=option, value=False)\n",
        "              # Replace RadioButtons with a single Checkbox for categorical selection\n",
        "              outcomes_cat_widgets[option] = widgets.Checkbox(\n",
        "                  description='Is this variable Categorical?',\n",
        "                  value=False,\n",
        "                  layout={'width': 'max-content'},\n",
        "                  style={'description_width': 'initial'}\n",
        "              )\n",
        "              controls_cat_widgets[option] = widgets.Checkbox(\n",
        "                  description='Is this variable Categorical?',\n",
        "                  value=False,\n",
        "                  layout={'width': 'max-content'},\n",
        "                  style={'description_width': 'initial'}\n",
        "              )\n",
        "              outcomes_cat_widgets[option].layout.display = 'none'\n",
        "              controls_cat_widgets[option].layout.display = 'none'\n",
        "\n",
        "          def handle_checkbox_change(change):\n",
        "              option = change.owner.description\n",
        "              if change.owner in outcomes_widgets.values():\n",
        "                  controls_widgets[option].disabled = change.new\n",
        "                  outcomes_cat_widgets[option].layout.display = 'flex' if change.new else 'none'\n",
        "              elif change.owner in controls_widgets.values():\n",
        "                  outcomes_widgets[option].disabled = change.new\n",
        "                  controls_cat_widgets[option].layout.display = 'flex' if change.new else 'none'\n",
        "\n",
        "          for checkbox in outcomes_widgets.values():\n",
        "              checkbox.observe(handle_checkbox_change, names='value')\n",
        "          for checkbox in controls_widgets.values():\n",
        "              checkbox.observe(handle_checkbox_change, names='value')\n",
        "\n",
        "          def on_submit(change):\n",
        "              clear_output(wait=True)\n",
        "              outcomes = [k for k, v in outcomes_widgets.items() if v.value]\n",
        "              controls = [k for k, v in controls_widgets.items() if v.value]\n",
        "              cat_to_bin_outcomes = [k for k, v in outcomes_cat_widgets.items() if v.value]\n",
        "              cat_to_bin_controls = [k for k, v in controls_cat_widgets.items() if v.value]\n",
        "\n",
        "              feature_table_name = feature_table_dropdown.value\n",
        "              make_wordclouds = make_wordclouds_checkbox.value\n",
        "\n",
        "              # Construct the command dynamically based on selections\n",
        "              cat_to_bin_parts = [','.join(cat_to_bin_outcomes), ','.join(cat_to_bin_controls)]\n",
        "              cat_to_bin_parts = [part for part in cat_to_bin_parts if part]  # Remove empty strings\n",
        "              cat_to_bin_cmd = f\"--cat_to_bin {' '.join(cat_to_bin_parts)}\" if cat_to_bin_parts else \"\"\n",
        "\n",
        "              command = (\n",
        "                  f\"dlatkInterface.py -d {database_name} -t {file_name} -g {id_column_name} \"\n",
        "                  f\"--group_freq_thresh 100 --feat_table '{feature_table_name}' \"\n",
        "                  f\"--outcome_table {outcome_table_name} --outcomes {','.join(outcomes)} \"\n",
        "                  f\"--controls {','.join(controls)} {cat_to_bin_cmd} --rmatrix\"\n",
        "              )\n",
        "              if make_wordclouds:\n",
        "                  if feature_table_name == feature_table_mapping['topics-table']:\n",
        "                      command += \" --make_topic_wordclouds\"\n",
        "                  else:\n",
        "                      command += \" --make_wordclouds\"\n",
        "              print(\"Command to execute:\", command)\n",
        "              process = subprocess.run(command, shell=True, text=True, capture_output=True)\n",
        "              print(process.stdout)\n",
        "              if process.stderr:\n",
        "                  print(\"Error:\", process.stderr)\n",
        "\n",
        "          submit_button = widgets.Button(description=\"Submit\")\n",
        "          submit_button.on_click(on_submit)\n",
        "\n",
        "          make_wordclouds_title = widgets.Label('Make Wordclouds:')\n",
        "          make_wordclouds_checkbox = widgets.Checkbox(value=False, description='Enable Wordclouds')\n",
        "\n",
        "          # Display the widgets\n",
        "          display(feature_table_dropdown)\n",
        "          display(outcomes_title)\n",
        "          for option, checkbox in outcomes_widgets.items():\n",
        "              display(widgets.HBox([checkbox, outcomes_cat_widgets[option]]))\n",
        "          display(controls_title)\n",
        "          for option, checkbox in controls_widgets.items():\n",
        "              display(widgets.HBox([checkbox, controls_cat_widgets[option]]))\n",
        "          display(make_wordclouds_title, make_wordclouds_checkbox, submit_button)\n",
        "\n",
        "      else:\n",
        "          print(\"Failed to read column names from the outcome table.\")\n",
        "  else:\n",
        "      print(\"Outcome table name not set. Please ensure a file is uploaded in Part 1.\")\n",
        "\n",
        "  pass\n",
        "\n",
        "configure_and_execute()\n",
        "\n",
        "# Import statements for codeD\n",
        "import glob\n",
        "import math\n",
        "import matplotlib.pyplot as plt\n",
        "import matplotlib.image as mpimg\n",
        "from dlatk.tools.colab_methods import print_wordclouds\n",
        "\n",
        "# Code to display word clouds\n",
        "def display_wordclouds():\n",
        "  # Remaining code for displaying word clouds goes here...\n",
        "\n",
        "  feature_table_name = feature_table_dropdown.value.replace('$', '.')\n",
        "\n",
        "  def display_wordclouds(feature_table_name, outcomes, controls):\n",
        "      # This function decides which type of word clouds to display based on the feature table selected.\n",
        "      if feature_table_name == feature_table_mapping['topics-table']:\n",
        "          print_topic_wordclouds(\"/content/_alltopics/\", 8)\n",
        "      else:\n",
        "          wordcloud_file_name = f\"{feature_table_name.replace('$', '.')}.{','.join(outcomes)}.{','.join(controls)}__0.freq100._tagcloud_wordclouds\"\n",
        "          print(\"Wordcloud File Name:\", wordcloud_file_name)\n",
        "          print_wordclouds(wordcloud_file_name)\n",
        "\n",
        "  def print_topic_wordclouds(wordcloud_folder, num_topics=8, images_per_row=4):\n",
        "      # This function handles the displaying of topic word clouds specifically.\n",
        "      images = glob.glob(os.path.join(wordcloud_folder, '*.png'))\n",
        "      to_display = images[:min(num_topics, len(images))]\n",
        "\n",
        "      if len(to_display) == 0:\n",
        "          print(\"No topic wordcloud images found in the specified folder.\")\n",
        "          return\n",
        "\n",
        "      fig, axes = plt.subplots(math.ceil(num_topics / images_per_row), images_per_row, figsize=(18, 8))\n",
        "      for index, image in enumerate(to_display):\n",
        "          ax = axes[int(index / images_per_row), index % images_per_row]\n",
        "          ax.set_axis_off()\n",
        "          ax.set_title(image.split('/')[-1])\n",
        "          ax.imshow(mpimg.imread(image))\n",
        "      plt.show()\n",
        "\n",
        "  # Example usage:\n",
        "  # Assuming 'outcomes' and 'controls' are updated in the global scope by previous code execution\n",
        "  display_wordclouds(feature_table_name, outcomes, controls)\n",
        "  pass\n",
        "\n",
        "display_wordclouds()\n",
        "\n",
        "\n",
        "\n"
      ],
      "metadata": {
        "colab": {
          "base_uri": "https://localhost:8080/",
          "height": 144
        },
        "cellView": "form",
        "id": "2QyrZ6YIT8-x",
        "outputId": "656b1ef0-e440-4379-e856-2931fb97c70a"
      },
      "execution_count": 24,
      "outputs": [
        {
          "output_type": "display_data",
          "data": {
            "text/plain": [
              "<IPython.core.display.Javascript object>"
            ],
            "application/javascript": [
              "google.colab.output.setIframeHeight(0, true, {maxHeight: 250})"
            ]
          },
          "metadata": {}
        },
        {
          "output_type": "display_data",
          "data": {
            "text/plain": [
              "<IPython.core.display.HTML object>"
            ],
            "text/html": [
              "<style> body {background-color: rgb(255, 250, 232);}</style>"
            ]
          },
          "metadata": {}
        },
        {
          "output_type": "error",
          "ename": "SyntaxError",
          "evalue": "f-string: expecting '}' (<ipython-input-24-2a470a657064>, line 152)",
          "traceback": [
            "\u001b[0;36m  File \u001b[0;32m\"<ipython-input-24-2a470a657064>\"\u001b[0;36m, line \u001b[0;32m152\u001b[0m\n\u001b[0;31m    generated_feature_table_name = f\"feat${combined_feature_table_name}${file_naup_freq_thresh {group_freq_thresh} --add_lex_table -l fb2000_cp --weighted_lexicon\"\u001b[0m\n\u001b[0m                                                                                                                                                                   ^\u001b[0m\n\u001b[0;31mSyntaxError\u001b[0m\u001b[0;31m:\u001b[0m f-string: expecting '}'\n"
          ]
        }
      ]
    },
    {
      "cell_type": "code",
      "source": [
        "from IPython.utils import io\n",
        "import subprocess\n",
        "\n",
        "#@markdown Click the __Play button__ to the left to start the setup. Proceed to the next stage once you see:\n",
        "#@markdown \"DLATK setup completed successfully. Enjoy your analysis!\"\n",
        "\n",
        "def setup_dlatk():\n",
        "    # Install DLATK with additional features\n",
        "    subprocess.run(\"pip install dlatk[wordcloud,langid]\", shell=True)\n",
        "\n",
        "    # Initialize DLATK for Colab environment\n",
        "    result = subprocess.run(\"dlatkInterface.py --colabify\", shell=True, capture_output=True, text=True)\n",
        "\n",
        "    # Optional: Adjust Colab output for a better experience\n",
        "    try:\n",
        "        from dlatk.tools.colab_methods import colab_shorten_and_bg\n",
        "        colab_shorten_and_bg()  # This shortens output blocks and changes the output background color.\n",
        "    except ImportError as e:\n",
        "        print(\"Some optional setup steps failed:\", e)\n",
        "\n",
        "    return result.stdout + '\\n' + result.stderr\n",
        "\n",
        "# Suppressing the output of the main installation and setup commands\n",
        "with io.capture_output() as captured:\n",
        "    setup_output = setup_dlatk()\n",
        "\n",
        "# Check the captured output for a specific success message\n",
        "if 'DLATK exits with success! A good day indeed' in setup_output:\n",
        "    print(\"DLATK setup completed successfully. Enjoy your analysis!\")\n",
        "    # If DLATK setup is successful, proceed to run codeB\n",
        "    def run_codeB():\n",
        "        import subprocess\n",
        "        import ipywidgets as widgets\n",
        "        from IPython.display import display, clear_output\n",
        "        import csv\n",
        "        import re\n",
        "        from google.colab import files\n",
        "        import os\n",
        "\n",
        "        #@title Upload text data\n",
        "        #@markdown ### Select text Dataset or Upload from Desktop\n",
        "        #@markdown Choose a text dataset from the dropdown, or select \"Upload from desktop\" to upload your own file.\n",
        "        #@markdown After making your selection, click the __play button__ at the top left to proceed.\n",
        "\n",
        "        text_filename = \"msgs404u.csv\" #@param [\"Upload from desktop\", \"msgs404u.csv\"]\n",
        "        file_path = None\n",
        "\n",
        "        def sanitize_file_name(file_name):\n",
        "            base_file_name = re.sub(r\" \\(\\d+\\)\", \"\", file_name)\n",
        "            if not base_file_name.endswith('.csv'):\n",
        "                base_file_name += '.csv'\n",
        "            return base_file_name\n",
        "\n",
        "        def add_message_id_if_missing(file_path):\n",
        "            headers_changed = False\n",
        "            with open(file_path, mode='r', encoding='utf-8') as file:\n",
        "                reader = csv.reader(file)\n",
        "                headers = next(reader, None)\n",
        "\n",
        "                if headers and 'message_id' not in headers:\n",
        "                    headers_changed = True\n",
        "                    new_rows = [['message_id'] + headers]\n",
        "                    new_rows += [[str(i+1)] + row for i, row in enumerate(reader)]\n",
        "\n",
        "            if headers_changed:\n",
        "                with open(file_path, mode='w', encoding='utf-8', newline='') as file:\n",
        "                    writer = csv.writer(file)\n",
        "                    writer.writerows(new_rows)\n",
        "                print(\"Added 'message_id' column and saved changes.\")\n",
        "            else:\n",
        "                print(\"'message_id' column already exists.\")\n",
        "\n",
        "        if text_filename != \"Upload from desktop\":\n",
        "            file_name = sanitize_file_name(text_filename)\n",
        "            file_path = os.path.join(\"/content\", file_name)\n",
        "            print(f'Text file selected: {file_name}')\n",
        "        else:\n",
        "            print(\"Please upload a file from the desktop.\")\n",
        "            uploaded_files = files.upload()\n",
        "            if uploaded_files:\n",
        "                file_name = next(iter(uploaded_files))\n",
        "                file_name = sanitize_file_name(file_name)\n",
        "                file_path = os.path.join(\"/content\", file_name)\n",
        "                add_message_id_if_missing(file_path)\n",
        "                print(f'Uploaded file name: {file_name}')\n",
        "            else:\n",
        "                print(\"No file uploaded. Please upload a file to proceed.\")\n",
        "\n",
        "        if os.path.exists(file_path):\n",
        "            print(f'File ready for use: {file_path}')\n",
        "        else:\n",
        "            print(\"File not found. Please ensure the file exists and try again.\")\n",
        "\n",
        "        #@title Select Text and ID Columns\n",
        "        #@markdown Select the text and ID columns for analysis:\n",
        "        def get_available_columns(file_path):\n",
        "            with open(file_path, mode='r', encoding='utf-8') as file:\n",
        "                reader = csv.reader(file)\n",
        "                return next(reader, None)\n",
        "\n",
        "        available_columns = get_available_columns(file_path) if file_path else []\n",
        "        text_column_dropdown = widgets.Dropdown(options=[col for col in available_columns if not col.endswith(\"_id\")], description='Text Column:')\n",
        "        id_column_dropdown = widgets.Dropdown(options=[col for col in available_columns if col.endswith(\"_id\")], description='ID Column:')\n",
        "        confirm_button = widgets.Button(description=\"Confirm Columns\")\n",
        "\n",
        "        def confirm_columns(b):\n",
        "            global text_column_name, id_column_name\n",
        "            text_column_name = text_column_dropdown.value\n",
        "            id_column_name = id_column_dropdown.value\n",
        "            print(f\"Text column set to: {text_column_name}, ID column set to: {id_column_name}\")\n",
        "\n",
        "        confirm_button.on_click(confirm_columns)\n",
        "        display(text_column_dropdown, id_column_dropdown, confirm_button)\n",
        "\n",
        "        #@title Feature Extraction Setup\n",
        "        #@markdown Setup feature extraction parameters and execute:\n",
        "\n",
        "        database_name = \"colab_csv\"\n",
        "        global file_name_without_extension\n",
        "        file_name_without_extension = file_name.rsplit('.', 1)[0] if file_name else \"default_filename\"\n",
        "        feature_options = widgets.Dropdown(options=['Select option', '1to2grams-filtered', '1to2grams-unfiltered', 'topics'], description='Features:')\n",
        "        run_feature_button = widgets.Button(description=\"Extract Features\")\n",
        "\n",
        "        def generate_unfiltered_feature_table():\n",
        "            global generated_feature_table_name\n",
        "            combined_feature_table_name = \"1to2gram\"\n",
        "            command = f\"dlatkInterface.py -d {database_name} -t {file_name} -g {id_column_name} \" \\\n",
        "                      f\"--message_field {text_column_name} --messageid_field {text_column_name}_id \" \\\n",
        "                      f\"--add_ngrams -n 1 2 --combine_feat_tables {combined_feature_table_name}\"\n",
        "            print(f\"Generating unfiltered 1to2grams feature table: {command}\")\n",
        "            subprocess.run(command, shell=True)\n",
        "            generated_feature_table_name = f\"feat${combined_feature_table_name}${file_name_without_extension}${id_column_name}\"\n",
        "            print(f\"Generated feature table: {generated_feature_table_name}\")\n",
        "\n",
        "        def extract_features(b):\n",
        "            global generated_feature_table_name\n",
        "            group_freq_thresh = 100  # Default value, used if not topic modeling\n",
        "\n",
        "            if feature_options.value == '1to2grams-unfiltered':\n",
        "                generate_unfiltered_feature_table()\n",
        "\n",
        "            elif feature_options.value == '1to2grams-filtered':\n",
        "                combined_feature_table_name = \"1to2gram\"\n",
        "                command = f\"dlatkInterface.py -d {database_name} -t {file_name} -g {id_column_name} \" \\\n",
        "                          f\"--message_field {text_column_name} --messageid_field {text_column_name}_id \" \\\n",
        "                          f\"--add_ngrams -n 1 2 --combine_feat_tables {combined_feature_table_name} \" \\\n",
        "                          f\"--feat_occ_filter --set_p_occ 0.10 --feat_colloc_filter\"\n",
        "                print(f\"Executing: {command}\")\n",
        "                subprocess.run(command, shell=True)\n",
        "                generated_feature_table_name = f\"feat${combined_feature_table_name}${file_name_without_extension}${id_column_name}$0_1$pmi3_0\"\n",
        "                print(f\"Generated feature table: {generated_feature_table_name}\")\n",
        "\n",
        "            elif feature_options.value == 'topics':\n",
        "                lex_table_name = f\"feat$cat_fb2000_cp_w${file_name_without_extension}${id_column_name}$1gra\"\n",
        "                command = f\"dlatkInterface.py -d {database_name} -t {file_name} -g {id_column_name} \" \\\n",
        "                          f\"--message_field {text_column_name} --messageid_field {text_column_name}_id \" \\\n",
        "                          f\"--group_freq_thresh {group_freq_thresh} --add_lex_table -l fb2000_cp --weighted_lexicon\"\n",
        "                print(f\"Executing: {command}\")\n",
        "                subprocess.run(command, shell=True)\n",
        "                print(f\"Generated LDA feature table: {lex_table_name}\")\n",
        "\n",
        "        run_feature_button.on_click(extract_features)\n",
        "        display(feature_options, run_feature_button)\n",
        "\n",
        "    run_codeB()  # Execute codeB only after DLATK is successfully set up.\n",
        "else:\n",
        "    print(\"DLATK setup may have encountered issues. Please check the logs for more details.\")\n",
        "\n",
        "\n",
        "\n"
      ],
      "metadata": {
        "colab": {
          "base_uri": "https://localhost:8080/",
          "height": 229,
          "referenced_widgets": [
            "32c7a5cb52484de596aee90a4f1cbb83",
            "02ad3ad358fc4ec0b67abcf75532fd04",
            "d272fbb43ff04d71ae1aad75e354919f",
            "0fe65a5d49884d42976ac045e3744e3d",
            "c776b0a5849b493b96ac1935fd9489f0",
            "3d9bfbbd34f448e791c5476bea8f6e03",
            "ec8d2cda3f114895af4bb0ec1c4fdeef",
            "909f2b24e17b4c7bbb2356e4c28b4d2e",
            "1364c04385b248c68ea2621b5d969064",
            "43e33969a1ba4b8e94310de7a89c5dfd",
            "6843fcd1738c4a4499b185d338267aee",
            "97de88d708214ba595bca41978a1536b",
            "1ef3c741e14940599ebf75128461cb2c",
            "493acc96eab743e197ca05af9d14387e",
            "c39124a402b84a8ba4079c1b279b3f63"
          ]
        },
        "id": "QKPkAx0i7iDG",
        "outputId": "71cfbab9-1e1f-43d8-97c1-c69ef04d166d"
      },
      "execution_count": 25,
      "outputs": [
        {
          "output_type": "display_data",
          "data": {
            "text/plain": [
              "<IPython.core.display.Javascript object>"
            ],
            "application/javascript": [
              "google.colab.output.setIframeHeight(0, true, {maxHeight: 250})"
            ]
          },
          "metadata": {}
        },
        {
          "output_type": "display_data",
          "data": {
            "text/plain": [
              "<IPython.core.display.HTML object>"
            ],
            "text/html": [
              "<style> body {background-color: rgb(255, 250, 232);}</style>"
            ]
          },
          "metadata": {}
        },
        {
          "output_type": "stream",
          "name": "stdout",
          "text": [
            "DLATK setup completed successfully. Enjoy your analysis!\n",
            "Text file selected: msgs404u.csv\n",
            "File ready for use: /content/msgs404u.csv\n"
          ]
        },
        {
          "output_type": "display_data",
          "data": {
            "text/plain": [
              "Dropdown(description='Text Column:', options=('created_date', 'message'), value='created_date')"
            ],
            "application/vnd.jupyter.widget-view+json": {
              "version_major": 2,
              "version_minor": 0,
              "model_id": "32c7a5cb52484de596aee90a4f1cbb83"
            }
          },
          "metadata": {}
        },
        {
          "output_type": "display_data",
          "data": {
            "text/plain": [
              "Dropdown(description='ID Column:', options=('message_id', 'user_id'), value='message_id')"
            ],
            "application/vnd.jupyter.widget-view+json": {
              "version_major": 2,
              "version_minor": 0,
              "model_id": "0fe65a5d49884d42976ac045e3744e3d"
            }
          },
          "metadata": {}
        },
        {
          "output_type": "display_data",
          "data": {
            "text/plain": [
              "Button(description='Confirm Columns', style=ButtonStyle())"
            ],
            "application/vnd.jupyter.widget-view+json": {
              "version_major": 2,
              "version_minor": 0,
              "model_id": "ec8d2cda3f114895af4bb0ec1c4fdeef"
            }
          },
          "metadata": {}
        },
        {
          "output_type": "display_data",
          "data": {
            "text/plain": [
              "Dropdown(description='Features:', options=('Select option', '1to2grams-filtered', '1to2grams-unfiltered', 'top…"
            ],
            "application/vnd.jupyter.widget-view+json": {
              "version_major": 2,
              "version_minor": 0,
              "model_id": "43e33969a1ba4b8e94310de7a89c5dfd"
            }
          },
          "metadata": {}
        },
        {
          "output_type": "display_data",
          "data": {
            "text/plain": [
              "Button(description='Extract Features', style=ButtonStyle())"
            ],
            "application/vnd.jupyter.widget-view+json": {
              "version_major": 2,
              "version_minor": 0,
              "model_id": "1ef3c741e14940599ebf75128461cb2c"
            }
          },
          "metadata": {}
        }
      ]
    },
    {
      "cell_type": "markdown",
      "metadata": {
        "id": "WHBvEKsTRLm9"
      },
      "source": [
        "## Prediction - Example 2: Training and Deploying a model."
      ]
    },
    {
      "cell_type": "markdown",
      "metadata": {
        "id": "oNpyhU6XiA1N"
      },
      "source": [
        "### Train and Deploy - Step 1: Train and save a model\n"
      ]
    },
    {
      "cell_type": "markdown",
      "metadata": {
        "id": "bEyzbB5XaodD"
      },
      "source": [
        "Another approach is to train a predictive model, store it and use it to predict the outcomes in a different dataset.\n",
        "\n",
        "<br/>\n",
        "\n",
        "In addition to the flags that point to the right tables, flags necessary for this command are -\n",
        "\n",
        "* **`--train_regression`** - trains a regression model.\n",
        "* **`--model MODEL_NAME`** - which machine learning model to use.\n",
        "* **`--save_model --picklefile FILENAME`** - saves the model into a pickle file `FILENAME`\n",
        "\n",
        "<br/>\n",
        "\n",
        "👇 In the below example, you will build and save a model (using [ridge regression](what_is_ridge) with a penalty of 1000) that predicts `age` from 1gram and 2gram features (`feat$1to2gram$msgs404u$user_id$0_1`), and save it into a file named `age.1to2grams.ridge1000.gft100.pickle`."
      ]
    },
    {
      "cell_type": "code",
      "execution_count": null,
      "metadata": {
        "colab": {
          "base_uri": "https://localhost:8080/",
          "height": 250
        },
        "id": "-8LGlOOBp8W0",
        "outputId": "3bfc2266-944e-4fb1-d275-6c9ba8f19fe6"
      },
      "outputs": [
        {
          "data": {
            "application/javascript": [
              "google.colab.output.setIframeHeight(0, true, {maxHeight: 250})"
            ],
            "text/plain": [
              "<IPython.core.display.Javascript object>"
            ]
          },
          "metadata": {},
          "output_type": "display_data"
        },
        {
          "data": {
            "text/html": [
              "<style> body {background-color: rgb(255, 250, 232);}</style>"
            ],
            "text/plain": [
              "<IPython.core.display.HTML object>"
            ]
          },
          "metadata": {},
          "output_type": "display_data"
        },
        {
          "name": "stdout",
          "output_type": "stream",
          "text": [
            "\n",
            "\n",
            "TopicExtractor: gensim Mallet wrapper unavailable, using Mallet directly.\n",
            "\n",
            "-----\n",
            "DLATK Interface Initiated: 2024-01-17 03:15:47\n",
            "-----\n",
            "Connecting to SQLite database: /content/sqlite_data/colab_csv.db\n",
            "Connecting to SQLite database: /content/sqlite_data/colab_csv.db\n",
            "WARNING: The table users404 does not have: a PRIMARY key on user_id. Consider adding.\n",
            "Loading Outcomes and Getting Groups for: {'age'}\n",
            "Connecting to SQLite database: /content/sqlite_data/colab_csv.db\n",
            "[number of groups: 404]\n",
            "\n",
            "= age =\n",
            "-------\n",
            "  (feature group: 0)\n",
            "   [Train size: 404 ]\n",
            " X[0]: (N, features): (404, 2308)\n",
            "  [Applying StandardScaler to X[0]: StandardScaler()]\n",
            "[COMBINED FEATS (from multiX)] Combined size: (404, 2308)\n",
            "[COMBINED FEATS: Training regression model: ridge1000]\n",
            "model: Ridge(alpha=1000) \n",
            "\n",
            "[TRAINING COMPLETE]\n",
            "\n",
            "[Saving age.1to2grams.ridge1000.gft100.pickle]\n",
            "-------\n",
            "\n",
            "Settings:\n",
            "\n",
            "Database - colab_csv\n",
            "Corpus - msgs404u.csv\n",
            "Group ID - user_id\n",
            "Feature table(s) - feat$1to2gram$msgs404u$user_id$0_1\n",
            "Outcome table - users404.csv\n",
            "Outcome(s) - age\n",
            "-------\n",
            "Interface Runtime: 1.16 seconds\n",
            "DLATK exits with success! A good day indeed  ¯\\_(ツ)_/¯.\n"
          ]
        }
      ],
      "source": [
        "!dlatkInterface.py \\\n",
        "  -d colab_csv -t msgs404u.csv -g user_id --group_freq_thresh 100 \\\n",
        "  --outcome_table users404.csv --outcomes age  \\\n",
        "  -f 'feat$1to2gram$msgs404u$user_id$0_1' \\\n",
        "  --train_regression --model ridge1000 \\\n",
        "  --save_model --picklefile age.1to2grams.ridge1000.gft100.pickle"
      ]
    },
    {
      "cell_type": "markdown",
      "metadata": {
        "id": "1ry-iqmWROil"
      },
      "source": [
        "### Train and Deploy - Step 2: Predict from new data\n",
        "\n"
      ]
    },
    {
      "cell_type": "markdown",
      "metadata": {
        "id": "f4HkTFvrZOh7"
      },
      "source": [
        "Once you have trained a model to predict an outcome, you can use it to predict from unseen data (or *test* data).\n",
        "\n",
        "👉 If you wish to use a default *test* dataset, skip the next command.\n",
        "\n",
        "👇 To load your dataset to test the model, you can use the `upload_dataset` function from the [Setup data](#data) section above."
      ]
    },
    {
      "cell_type": "code",
      "execution_count": null,
      "metadata": {
        "colab": {
          "base_uri": "https://localhost:8080/",
          "height": 250
        },
        "id": "VFGe4TR9RSg-",
        "outputId": "0714d3e2-f8e6-4084-8319-43d1a0d481c7"
      },
      "outputs": [
        {
          "data": {
            "application/javascript": [
              "google.colab.output.setIframeHeight(0, true, {maxHeight: 250})"
            ],
            "text/plain": [
              "<IPython.core.display.Javascript object>"
            ]
          },
          "metadata": {},
          "output_type": "display_data"
        },
        {
          "data": {
            "text/html": [
              "<style> body {background-color: rgb(255, 250, 232);}</style>"
            ],
            "text/plain": [
              "<IPython.core.display.HTML object>"
            ]
          },
          "metadata": {},
          "output_type": "display_data"
        },
        {
          "data": {
            "text/html": [
              "\n",
              "     <input type=\"file\" id=\"files-3c09ee46-7737-4994-8b80-40dc6185138c\" name=\"files[]\" multiple disabled\n",
              "        style=\"border:none\" />\n",
              "     <output id=\"result-3c09ee46-7737-4994-8b80-40dc6185138c\">\n",
              "      Upload widget is only available when the cell has been executed in the\n",
              "      current browser session. Please rerun this cell to enable.\n",
              "      </output>\n",
              "      <script>// Copyright 2017 Google LLC\n",
              "//\n",
              "// Licensed under the Apache License, Version 2.0 (the \"License\");\n",
              "// you may not use this file except in compliance with the License.\n",
              "// You may obtain a copy of the License at\n",
              "//\n",
              "//      http://www.apache.org/licenses/LICENSE-2.0\n",
              "//\n",
              "// Unless required by applicable law or agreed to in writing, software\n",
              "// distributed under the License is distributed on an \"AS IS\" BASIS,\n",
              "// WITHOUT WARRANTIES OR CONDITIONS OF ANY KIND, either express or implied.\n",
              "// See the License for the specific language governing permissions and\n",
              "// limitations under the License.\n",
              "\n",
              "/**\n",
              " * @fileoverview Helpers for google.colab Python module.\n",
              " */\n",
              "(function(scope) {\n",
              "function span(text, styleAttributes = {}) {\n",
              "  const element = document.createElement('span');\n",
              "  element.textContent = text;\n",
              "  for (const key of Object.keys(styleAttributes)) {\n",
              "    element.style[key] = styleAttributes[key];\n",
              "  }\n",
              "  return element;\n",
              "}\n",
              "\n",
              "// Max number of bytes which will be uploaded at a time.\n",
              "const MAX_PAYLOAD_SIZE = 100 * 1024;\n",
              "\n",
              "function _uploadFiles(inputId, outputId) {\n",
              "  const steps = uploadFilesStep(inputId, outputId);\n",
              "  const outputElement = document.getElementById(outputId);\n",
              "  // Cache steps on the outputElement to make it available for the next call\n",
              "  // to uploadFilesContinue from Python.\n",
              "  outputElement.steps = steps;\n",
              "\n",
              "  return _uploadFilesContinue(outputId);\n",
              "}\n",
              "\n",
              "// This is roughly an async generator (not supported in the browser yet),\n",
              "// where there are multiple asynchronous steps and the Python side is going\n",
              "// to poll for completion of each step.\n",
              "// This uses a Promise to block the python side on completion of each step,\n",
              "// then passes the result of the previous step as the input to the next step.\n",
              "function _uploadFilesContinue(outputId) {\n",
              "  const outputElement = document.getElementById(outputId);\n",
              "  const steps = outputElement.steps;\n",
              "\n",
              "  const next = steps.next(outputElement.lastPromiseValue);\n",
              "  return Promise.resolve(next.value.promise).then((value) => {\n",
              "    // Cache the last promise value to make it available to the next\n",
              "    // step of the generator.\n",
              "    outputElement.lastPromiseValue = value;\n",
              "    return next.value.response;\n",
              "  });\n",
              "}\n",
              "\n",
              "/**\n",
              " * Generator function which is called between each async step of the upload\n",
              " * process.\n",
              " * @param {string} inputId Element ID of the input file picker element.\n",
              " * @param {string} outputId Element ID of the output display.\n",
              " * @return {!Iterable<!Object>} Iterable of next steps.\n",
              " */\n",
              "function* uploadFilesStep(inputId, outputId) {\n",
              "  const inputElement = document.getElementById(inputId);\n",
              "  inputElement.disabled = false;\n",
              "\n",
              "  const outputElement = document.getElementById(outputId);\n",
              "  outputElement.innerHTML = '';\n",
              "\n",
              "  const pickedPromise = new Promise((resolve) => {\n",
              "    inputElement.addEventListener('change', (e) => {\n",
              "      resolve(e.target.files);\n",
              "    });\n",
              "  });\n",
              "\n",
              "  const cancel = document.createElement('button');\n",
              "  inputElement.parentElement.appendChild(cancel);\n",
              "  cancel.textContent = 'Cancel upload';\n",
              "  const cancelPromise = new Promise((resolve) => {\n",
              "    cancel.onclick = () => {\n",
              "      resolve(null);\n",
              "    };\n",
              "  });\n",
              "\n",
              "  // Wait for the user to pick the files.\n",
              "  const files = yield {\n",
              "    promise: Promise.race([pickedPromise, cancelPromise]),\n",
              "    response: {\n",
              "      action: 'starting',\n",
              "    }\n",
              "  };\n",
              "\n",
              "  cancel.remove();\n",
              "\n",
              "  // Disable the input element since further picks are not allowed.\n",
              "  inputElement.disabled = true;\n",
              "\n",
              "  if (!files) {\n",
              "    return {\n",
              "      response: {\n",
              "        action: 'complete',\n",
              "      }\n",
              "    };\n",
              "  }\n",
              "\n",
              "  for (const file of files) {\n",
              "    const li = document.createElement('li');\n",
              "    li.append(span(file.name, {fontWeight: 'bold'}));\n",
              "    li.append(span(\n",
              "        `(${file.type || 'n/a'}) - ${file.size} bytes, ` +\n",
              "        `last modified: ${\n",
              "            file.lastModifiedDate ? file.lastModifiedDate.toLocaleDateString() :\n",
              "                                    'n/a'} - `));\n",
              "    const percent = span('0% done');\n",
              "    li.appendChild(percent);\n",
              "\n",
              "    outputElement.appendChild(li);\n",
              "\n",
              "    const fileDataPromise = new Promise((resolve) => {\n",
              "      const reader = new FileReader();\n",
              "      reader.onload = (e) => {\n",
              "        resolve(e.target.result);\n",
              "      };\n",
              "      reader.readAsArrayBuffer(file);\n",
              "    });\n",
              "    // Wait for the data to be ready.\n",
              "    let fileData = yield {\n",
              "      promise: fileDataPromise,\n",
              "      response: {\n",
              "        action: 'continue',\n",
              "      }\n",
              "    };\n",
              "\n",
              "    // Use a chunked sending to avoid message size limits. See b/62115660.\n",
              "    let position = 0;\n",
              "    do {\n",
              "      const length = Math.min(fileData.byteLength - position, MAX_PAYLOAD_SIZE);\n",
              "      const chunk = new Uint8Array(fileData, position, length);\n",
              "      position += length;\n",
              "\n",
              "      const base64 = btoa(String.fromCharCode.apply(null, chunk));\n",
              "      yield {\n",
              "        response: {\n",
              "          action: 'append',\n",
              "          file: file.name,\n",
              "          data: base64,\n",
              "        },\n",
              "      };\n",
              "\n",
              "      let percentDone = fileData.byteLength === 0 ?\n",
              "          100 :\n",
              "          Math.round((position / fileData.byteLength) * 100);\n",
              "      percent.textContent = `${percentDone}% done`;\n",
              "\n",
              "    } while (position < fileData.byteLength);\n",
              "  }\n",
              "\n",
              "  // All done.\n",
              "  yield {\n",
              "    response: {\n",
              "      action: 'complete',\n",
              "    }\n",
              "  };\n",
              "}\n",
              "\n",
              "scope.google = scope.google || {};\n",
              "scope.google.colab = scope.google.colab || {};\n",
              "scope.google.colab._files = {\n",
              "  _uploadFiles,\n",
              "  _uploadFilesContinue,\n",
              "};\n",
              "})(self);\n",
              "</script> "
            ],
            "text/plain": [
              "<IPython.core.display.HTML object>"
            ]
          },
          "metadata": {},
          "output_type": "display_data"
        },
        {
          "ename": "IndexError",
          "evalue": "list index out of range",
          "output_type": "error",
          "traceback": [
            "\u001b[0;31m---------------------------------------------------------------------------\u001b[0m",
            "\u001b[0;31mIndexError\u001b[0m                                Traceback (most recent call last)",
            "\u001b[0;32m<ipython-input-16-a80c7e8d9230>\u001b[0m in \u001b[0;36m<cell line: 2>\u001b[0;34m()\u001b[0m\n\u001b[1;32m      1\u001b[0m \u001b[0;32mfrom\u001b[0m \u001b[0mdlatk\u001b[0m\u001b[0;34m.\u001b[0m\u001b[0mtools\u001b[0m\u001b[0;34m.\u001b[0m\u001b[0mcolab_methods\u001b[0m \u001b[0;32mimport\u001b[0m \u001b[0mupload_dataset\u001b[0m\u001b[0;34m\u001b[0m\u001b[0;34m\u001b[0m\u001b[0m\n\u001b[0;32m----> 2\u001b[0;31m \u001b[0mupload_dataset\u001b[0m\u001b[0;34m(\u001b[0m\u001b[0;34m)\u001b[0m\u001b[0;34m\u001b[0m\u001b[0;34m\u001b[0m\u001b[0m\n\u001b[0m",
            "\u001b[0;32m/usr/local/lib/python3.10/dist-packages/dlatk/tools/colab_methods.py\u001b[0m in \u001b[0;36mupload_dataset\u001b[0;34m(filename, foldername)\u001b[0m\n\u001b[1;32m     27\u001b[0m     \u001b[0;31m#Upload the dataset to Google Colab - /content/\u001b[0m\u001b[0;34m\u001b[0m\u001b[0;34m\u001b[0m\u001b[0m\n\u001b[1;32m     28\u001b[0m     \u001b[0mfile\u001b[0m \u001b[0;34m=\u001b[0m \u001b[0mfiles\u001b[0m\u001b[0;34m.\u001b[0m\u001b[0mupload\u001b[0m\u001b[0;34m(\u001b[0m\u001b[0;34m)\u001b[0m\u001b[0;34m\u001b[0m\u001b[0;34m\u001b[0m\u001b[0m\n\u001b[0;32m---> 29\u001b[0;31m     \u001b[0mfilename\u001b[0m \u001b[0;34m=\u001b[0m \u001b[0mlist\u001b[0m\u001b[0;34m(\u001b[0m\u001b[0mfile\u001b[0m\u001b[0;34m.\u001b[0m\u001b[0mkeys\u001b[0m\u001b[0;34m(\u001b[0m\u001b[0;34m)\u001b[0m\u001b[0;34m)\u001b[0m\u001b[0;34m[\u001b[0m\u001b[0;36m0\u001b[0m\u001b[0;34m]\u001b[0m\u001b[0;34m\u001b[0m\u001b[0;34m\u001b[0m\u001b[0m\n\u001b[0m\u001b[1;32m     30\u001b[0m     \u001b[0mprint\u001b[0m\u001b[0;34m(\u001b[0m\u001b[0;34m\"Uploading \"\u001b[0m\u001b[0;34m,\u001b[0m \u001b[0mfilename\u001b[0m\u001b[0;34m)\u001b[0m\u001b[0;34m\u001b[0m\u001b[0;34m\u001b[0m\u001b[0m\n\u001b[1;32m     31\u001b[0m \u001b[0;34m\u001b[0m\u001b[0m\n",
            "\u001b[0;31mIndexError\u001b[0m: list index out of range"
          ]
        }
      ],
      "source": [
        "from dlatk.tools.colab_methods import upload_dataset\n",
        "upload_dataset()"
      ]
    },
    {
      "cell_type": "markdown",
      "metadata": {
        "id": "FWjIdHgYZw9l"
      },
      "source": [
        "👇 You need to extract the same set of features as the ones used to train the predictive model. So, extract 1gram and 2gram features, used by atleast 10% of the groups, and consider only the groups with atleast 100 tokens."
      ]
    },
    {
      "cell_type": "code",
      "execution_count": null,
      "metadata": {
        "colab": {
          "base_uri": "https://localhost:8080/",
          "height": 250
        },
        "id": "hPHAMH9sMqKu",
        "outputId": "12c4ae07-bcff-4484-fb8a-db1fb23f97bd"
      },
      "outputs": [
        {
          "data": {
            "application/javascript": [
              "google.colab.output.setIframeHeight(0, true, {maxHeight: 250})"
            ],
            "text/plain": [
              "<IPython.core.display.Javascript object>"
            ]
          },
          "metadata": {},
          "output_type": "display_data"
        },
        {
          "data": {
            "text/html": [
              "<style> body {background-color: rgb(255, 250, 232);}</style>"
            ],
            "text/plain": [
              "<IPython.core.display.HTML object>"
            ]
          },
          "metadata": {},
          "output_type": "display_data"
        },
        {
          "name": "stdout",
          "output_type": "stream",
          "text": [
            "\n",
            "\n",
            "TopicExtractor: gensim Mallet wrapper unavailable, using Mallet directly.\n",
            "\n",
            "-----\n",
            "DLATK Interface Initiated: 2024-01-17 03:15:55\n",
            "-----\n",
            "Connecting to SQLite database: /content/sqlite_data/colab_csv.db\n",
            "SQL Query: CREATE TABLE msgs100u (message_id INT, user_id INT, created_date VARCHAR(10), message LONGTEXT);\n",
            "Importing data, reading msgs100u.csv file\n",
            "Reading remaining 741 rows into the table...\n",
            "query: PRAGMA table_info(msgs100u)\n",
            "SQL Query: DROP TABLE IF EXISTS feat$1gram$msgs100u$user_id\n",
            "SQL Query: CREATE TABLE feat$1gram$msgs100u$user_id ( id INTEGER PRIMARY KEY, group_id INTEGER, feat VARCHAR(36), value INTEGER, group_norm DOUBLE)\n",
            "\n",
            "\n",
            "Creating index correl_field on table:feat$1gram$msgs100u$user_id, column:group_id \n",
            "\n",
            "\n",
            "SQL Query: CREATE INDEX correl_field$1gram$msgs100u$user_id ON feat$1gram$msgs100u$user_id (group_id)\n",
            "\n",
            "\n",
            "Creating index feature on table:feat$1gram$msgs100u$user_id, column:feat \n",
            "\n",
            "\n",
            "SQL Query: CREATE INDEX feature$1gram$msgs100u$user_id ON feat$1gram$msgs100u$user_id (feat)\n",
            "query: PRAGMA table_info(msgs100u)\n",
            "SQL Query: DROP TABLE IF EXISTS feat$meta_1gram$msgs100u$user_id\n",
            "SQL Query: CREATE TABLE feat$meta_1gram$msgs100u$user_id ( id INTEGER PRIMARY KEY, group_id INTEGER, feat VARCHAR(16), value INTEGER, group_norm DOUBLE)\n",
            "\n",
            "\n",
            "Creating index correl_field on table:feat$meta_1gram$msgs100u$user_id, column:group_id \n",
            "\n",
            "\n",
            "\n",
            "\n",
            "Creating index feature on table:feat$meta_1gram$msgs100u$user_id, column:feat \n",
            "\n",
            "\n",
            "finding messages for 100 'user_id's\n",
            "WARNING: The table msgs100u does not have: a PRIMARY key on message_id. Consider adding.\n",
            "         Please check that all messages have a unique message_id, this can significantly impact all downstream analysis\n",
            "WARNING: The table msgs100u does not have: an index on user_id. Consider adding.\n",
            " [5%] Inserted 4080 total ngram rows covering 5 user_ids\n",
            " [10%] Inserted 9541 total ngram rows covering 10 user_ids\n",
            " [15%] Inserted 12001 total ngram rows covering 15 user_ids\n",
            " [20%] Inserted 13754 total ngram rows covering 20 user_ids\n",
            " [25%] Inserted 16767 total ngram rows covering 25 user_ids\n",
            " [30%] Inserted 18785 total ngram rows covering 30 user_ids\n",
            " [35%] Inserted 20910 total ngram rows covering 35 user_ids\n",
            " [40%] Inserted 24759 total ngram rows covering 40 user_ids\n",
            " [45%] Inserted 27164 total ngram rows covering 45 user_ids\n",
            " [50%] Inserted 30060 total ngram rows covering 50 user_ids\n",
            " [55%] Inserted 35290 total ngram rows covering 55 user_ids\n",
            " [60%] Inserted 38545 total ngram rows covering 60 user_ids\n",
            " [65%] Inserted 41141 total ngram rows covering 65 user_ids\n",
            " [70%] Inserted 45646 total ngram rows covering 70 user_ids\n",
            " [75%] Inserted 48750 total ngram rows covering 75 user_ids\n",
            " [80%] Inserted 53011 total ngram rows covering 80 user_ids\n",
            " [85%] Inserted 57497 total ngram rows covering 85 user_ids\n",
            " [90%] Inserted 60195 total ngram rows covering 90 user_ids\n",
            " [95%] Inserted 62513 total ngram rows covering 95 user_ids\n",
            " [100%] Inserted 64501 total ngram rows covering 100 user_ids\n",
            "Done Reading / Inserting.\n",
            "Adding Keys (if goes to keycache, then decrease MAX_TO_DISABLE_KEYS or run myisamchk -n).\n",
            "Done\n",
            "\n",
            "query: PRAGMA table_info(msgs100u)\n",
            "SQL Query: DROP TABLE IF EXISTS feat$2gram$msgs100u$user_id\n",
            "SQL Query: CREATE TABLE feat$2gram$msgs100u$user_id ( id INTEGER PRIMARY KEY, group_id INTEGER, feat VARCHAR(70), value INTEGER, group_norm DOUBLE)\n",
            "\n",
            "\n",
            "Creating index correl_field on table:feat$2gram$msgs100u$user_id, column:group_id \n",
            "\n",
            "\n",
            "SQL Query: CREATE INDEX correl_field$2gram$msgs100u$user_id ON feat$2gram$msgs100u$user_id (group_id)\n",
            "\n",
            "\n",
            "Creating index feature on table:feat$2gram$msgs100u$user_id, column:feat \n",
            "\n",
            "\n",
            "SQL Query: CREATE INDEX feature$2gram$msgs100u$user_id ON feat$2gram$msgs100u$user_id (feat)\n",
            "query: PRAGMA table_info(msgs100u)\n",
            "SQL Query: DROP TABLE IF EXISTS feat$meta_2gram$msgs100u$user_id\n",
            "SQL Query: CREATE TABLE feat$meta_2gram$msgs100u$user_id ( id INTEGER PRIMARY KEY, group_id INTEGER, feat VARCHAR(16), value INTEGER, group_norm DOUBLE)\n",
            "\n",
            "\n",
            "Creating index correl_field on table:feat$meta_2gram$msgs100u$user_id, column:group_id \n",
            "\n",
            "\n",
            "\n",
            "\n",
            "Creating index feature on table:feat$meta_2gram$msgs100u$user_id, column:feat \n",
            "\n",
            "\n",
            "finding messages for 100 'user_id's\n",
            " [5%] Inserted 10738 total ngram rows covering 5 user_ids\n",
            " [10%] Inserted 26507 total ngram rows covering 10 user_ids\n",
            " [15%] Inserted 32549 total ngram rows covering 15 user_ids\n",
            " [20%] Inserted 36411 total ngram rows covering 20 user_ids\n",
            " [25%] Inserted 44868 total ngram rows covering 25 user_ids\n",
            " [30%] Inserted 49988 total ngram rows covering 30 user_ids\n",
            " [35%] Inserted 54670 total ngram rows covering 35 user_ids\n",
            " [40%] Inserted 65850 total ngram rows covering 40 user_ids\n",
            " [45%] Inserted 71566 total ngram rows covering 45 user_ids\n",
            " [50%] Inserted 78652 total ngram rows covering 50 user_ids\n",
            " [55%] Inserted 93025 total ngram rows covering 55 user_ids\n",
            " [60%] Inserted 101839 total ngram rows covering 60 user_ids\n",
            " [65%] Inserted 107579 total ngram rows covering 65 user_ids\n",
            " [70%] Inserted 120820 total ngram rows covering 70 user_ids\n",
            " [75%] Inserted 128580 total ngram rows covering 75 user_ids\n",
            " [80%] Inserted 141321 total ngram rows covering 80 user_ids\n",
            " [85%] Inserted 153942 total ngram rows covering 85 user_ids\n",
            " [90%] Inserted 160653 total ngram rows covering 90 user_ids\n",
            " [95%] Inserted 166030 total ngram rows covering 95 user_ids\n",
            " [100%] Inserted 170583 total ngram rows covering 100 user_ids\n",
            "Done Reading / Inserting.\n",
            "Adding Keys (if goes to keycache, then decrease MAX_TO_DISABLE_KEYS or run myisamchk -n).\n",
            "Done\n",
            "\n",
            "Connecting to SQLite database: /content/sqlite_data/colab_csv.db\n",
            "SQL Query: DROP TABLE IF EXISTS feat$1to2gram$msgs100u$user_id\n",
            "SQL Query: CREATE TABLE feat$1to2gram$msgs100u$user_id ( id INTEGER PRIMARY KEY, group_id INTEGER, feat VARCHAR(70), value INTEGER, group_norm DOUBLE)\n",
            "\n",
            "\n",
            "Creating index correl_field on table:feat$1to2gram$msgs100u$user_id, column:group_id \n",
            "\n",
            "\n",
            "SQL Query: CREATE INDEX correl_field$1to2gram$msgs100u$user_id ON feat$1to2gram$msgs100u$user_id (group_id)\n",
            "\n",
            "\n",
            "Creating index feature on table:feat$1to2gram$msgs100u$user_id, column:feat \n",
            "\n",
            "\n",
            "SQL Query: CREATE INDEX feature$1to2gram$msgs100u$user_id ON feat$1to2gram$msgs100u$user_id (feat)\n",
            "Connecting to SQLite database: /content/sqlite_data/colab_csv.db\n",
            "Connecting to SQLite database: /content/sqlite_data/colab_csv.db\n",
            " feat$1to2gram$msgs100u$user_id [threshold: 10]\n",
            "Connecting to SQLite database: /content/sqlite_data/colab_csv.db\n",
            "SQL Query: DROP TABLE IF EXISTS feat$1to2gram$msgs100u$user_id$0_1\n",
            " feat$1to2gram$msgs100u$user_id <new table feat$1to2gram$msgs100u$user_id$0_1 will have 3053 distinct features.>\n",
            "SQL Query: CREATE TABLE feat$1to2gram$msgs100u$user_id$0_1 ( id INTEGER PRIMARY KEY, group_id INTEGER, feat VARCHAR(70), value INTEGER, group_norm DOUBLE)\n",
            "Done inserting.\n",
            "Enabling keys.\n",
            "done.\n",
            "-------\n",
            "\n",
            "Settings:\n",
            "\n",
            "Database - colab_csv\n",
            "Corpus - msgs100u.csv\n",
            "Group ID - user_id\n",
            "Feature table(s) - feat$1to2gram$msgs100u$user_id$0_1\n",
            "-------\n",
            "Interface Runtime: 14.06 seconds\n",
            "DLATK exits with success! A good day indeed  ¯\\_(ツ)_/¯.\n"
          ]
        }
      ],
      "source": [
        "!dlatkInterface.py \\\n",
        "  -d colab_csv -t msgs100u.csv -g user_id --group_freq_thresh 100 \\\n",
        "  --add_ngrams -n 1 2 \\\n",
        "  --combine_feat_tables 1to2gram \\\n",
        "  --feat_occ_filter --set_p_occ 0.10"
      ]
    },
    {
      "cell_type": "markdown",
      "metadata": {
        "id": "Ihi0766mfTx_"
      },
      "source": [
        "👆 You should see the name of the new feature table - `feat$1to2gram$msgs100u$user_id$0_1$pmi3_0` (you can use `--view_tables` to check the table).\n",
        "<hr /><br />\n",
        "\n"
      ]
    },
    {
      "cell_type": "markdown",
      "metadata": {
        "id": "fFiIGzTXf2Jf"
      },
      "source": [
        "Once you have all the features required by the prediction model, you can predict the outcome using the flags:\n",
        "\n",
        "* **`--predict_regression_to_outcome_table TABLE_NAME`** - predicts the outcomes into a table named `TABLE_NAME`.\n",
        "* **`--load --picklefile FILENAME`** - load the model from the file `FILENAME`."
      ]
    },
    {
      "cell_type": "code",
      "execution_count": null,
      "metadata": {
        "colab": {
          "base_uri": "https://localhost:8080/",
          "height": 250
        },
        "id": "3z0FH0p3L1L-",
        "outputId": "5bb408f7-e97b-458e-f51e-b11ae722172f"
      },
      "outputs": [
        {
          "data": {
            "application/javascript": [
              "google.colab.output.setIframeHeight(0, true, {maxHeight: 250})"
            ],
            "text/plain": [
              "<IPython.core.display.Javascript object>"
            ]
          },
          "metadata": {},
          "output_type": "display_data"
        },
        {
          "data": {
            "text/html": [
              "<style> body {background-color: rgb(255, 250, 232);}</style>"
            ],
            "text/plain": [
              "<IPython.core.display.HTML object>"
            ]
          },
          "metadata": {},
          "output_type": "display_data"
        },
        {
          "name": "stdout",
          "output_type": "stream",
          "text": [
            "\n",
            "\n",
            "TopicExtractor: gensim Mallet wrapper unavailable, using Mallet directly.\n",
            "\n",
            "-----\n",
            "DLATK Interface Initiated: 2024-01-17 03:16:15\n",
            "-----\n",
            "Connecting to SQLite database: /content/sqlite_data/colab_csv.db\n",
            "Outcome table missing\n",
            "Connecting to SQLite database: /content/sqlite_data/colab_csv.db\n",
            "[Loading age.1to2grams.ridge1000.gft100.pickle] True\n",
            "Outcomes in loaded model: ['age']\n",
            "WARNING! Predict to outcome table sometimes excludes groups if not in a feature table.\n",
            "\n",
            "\n",
            "**CHUNK 0\n",
            "\n",
            " [Aligning current X with training X: feature group: 0]\n",
            "  Features Aligned: 2308\n",
            "\n",
            "= age =\n",
            "-------\n",
            "  (feature group: 0)\n",
            "[PREDICT] applying *existing* standard scaler to X[0]: StandardScaler()\n",
            "[PREDICT] combined X shape: (100, 2308)\n",
            "[PREDICT] regressor: Ridge(alpha=1000)\n",
            "settings:  [('alpha', 1000), ('fit_intercept', True), ('copy_X', True), ('max_iter', None), ('tol', 0.001), ('positive', False), ('random_state', None), ('n_features_in_', 2308), ('_normalize', False), ('n_iter_', None), ('intercept_', 23.24009900990099)]\n",
            "[Done.]\n",
            "[Prediction Complete]\n",
            " Total Predicted: 100\n",
            "New table created: p_ridg$lbp_age\n",
            "Connecting to SQLite database: /content/sqlite_data/colab_csv.db\n",
            "\n",
            "Example predictions\n",
            "-------\n",
            "Group ID: 4088894\n",
            "\n",
            "Top 3 messages for the group:\n",
            "-------\n",
            "[\"I have been a member of the Dragonswood site for quite a while now & am pleased to say that recently, I was asked to write a regular column for their magazine (which, incidentally, is now available in some shops over in the USA & even NZ, as well as quite a few here in the UK). My first column is in the latest issue (out for Lammas & Mabon) & *puffs out chest with pride* is one of the featured articles mentioned on the front cover. I'm pleased as punch over that, I have to say, as this is my first professional writing venture (I've only ever written items for Triptych which I produce myself before now). Anyway, I thought I'd pop the article up here too & provide a link to the Dragonswood website, where you can order the magazine direct from them:  urlLink http://www.dragonswood.org.uk/index.php    THE ARTICLE:  Simple Witchery By Mabon   What is Simple Witchery?  As long as I can remember, Iâ\\x80\\x99ve always liked to keep things as simple as possible â\\x80\\x93 I never saw the point in taking a complicated route if a simpler one presented itself to me. This isnâ\\x80\\x99t laziness, just common sense, from my point of view. Itâ\\x80\\x99s something that has bothered me for a long time, this need people often seem to feel to complicate things which neednâ\\x80\\x99t be so hard, and so I set out to boil things down to their barest components, take out all things unnecessary & just get things done.  This is, essentially, what Simple Witchery is all about; leaving out all the extraneous information & implements, taking advantage of what we have ready to hand, & simply enjoying the flow of things. I hope that with this column, I can share some of this with all of you, & perhaps even get you thinking of ways to simplify things in your own, unique way!   Why Simple Witchery?  When you lift out all the superfluous items, you are left with the most important element of the Craft. Which element is that? Earth? Air? Fire or Water? Perhaps Spirit? No, none of these. The most important element is always YOU; the person living it & experiencing all it has to offer. When you learn to rely on yourself & your own abilities, you learn that nothing is impossible, you can do anything you set your mind to. Thatâ\\x80\\x99s what itâ\\x80\\x99s all about; setting your mind to something & getting it done.  For example, I donâ\\x80\\x99t use a wand in any or my work. Yes, I own one â\\x80\\x93 a very ornate & beautiful one which was given to me by a very close friend â\\x80\\x93 but I see it as purely a decoration for my home & it sits on a cherry wood stand atop my bookcase, where I can see it whenever I look up. It has never & will never be used by me or anyone else. Why? Because it doesnâ\\x80\\x99t need to be. I have no need of a wand when I have myself. Besides, what if at some point I had to cast in an emergency & found myself without my wand, what would I do? Panic? Well, thatâ\\x80\\x99s not really very sensible, is it? Iâ\\x80\\x99d do whatever needed to be done without my wand & it would work every bit as well as it would while using a wand!  Basically, all you need to get yourself started is focus of will & energy. Once you get the hang of that, thereâ\\x80\\x99ll be no holding you back & no end to the things you can accomplish. Over the coming issues, Iâ\\x80\\x99ll be exploring more of Simple Witchery &, hopefully, taking you along for the ride. I really hope youâ\\x80\\x99ll find it fun!   Tâ\\x80\\x99is the Seasonâ\\x80¦  These are some very simple rituals for the coming Sabbats â\\x80\\x93 ones I use myself. I hope youâ\\x80\\x99ll enjoy them.   Lammas (1st August)  Lammas is the first of the harvest festivals & celebrates the beginning of us reaping what we have sown earlier in the year. It is traditionally a time for feasting, having fun, & preparing ourselves for a little more hard work before the harvest is done!   On the Altar:  Large beeswax candle Lengths of green & red cord Wine, bread & honey   The Ritual:  Cleanse and cast the circle.Light the beeswax candle. Knot the piece of red cord and pass it over the candle, circling the base. Think of all that is passing and the sacrifices you have made. Give them up freely as you pass the red cord over the flame. Knot the green cord and pass it over the candle to lie on top of the red cord. This represents the achievements which will be built on your sacrifices â\\x80\\x93 your harvest. Consecrate the wine and drink in honour of the Sun's power and your own achievements. Consecrate the bread and honey, and take them to the four corners saying:  'This is my offering;   This is my sacrifice.'  (Move round the circle deosil (clockwise) starting at North) Spread the honey on the bread. Eat and drink, communing with the season, saving some to put into the Earth as an offering later. Close the circle.   Mabon (22nd September)  Mabon is the Autumnal Equinox; a time of balance between darkness & light. But after this, the days will begin to grow shorter & the nights will draw in earlier. As the second of the harvest festivals, we celebrate it with the many orchard fruits which are now in season.   On the Altar:  An ear of corn Dried leaves A deep purple candle Wine & bread   The Ritual:  Cleanse and cast the circle.Light the purple candle and think about the meaning of the season. Name the dried leaves for anything to be swept out of your life. Drop them deliberately to the floor to be swept up later (keep them to scatter into running water). Pick up the corn and say:  'The God has descended into the land.   Now he makes His journey into the Underworld.   Days grow dim, nights grow long, but we do not weep,   For behold, he has left his seed as a promise of his return!'  Take the corn and bread deosil (clockwise) round the circle, stopping at each corner and saying:  'This is the seed and this is my harvest.'  Direct healing thoughts towards any part of the world where there is famine. Eat the bread and drink to the Lord and Lady. Close the circle.   Seasonal Project:   Goddess Eye  A Goddess eye is said to watch over & protect the home, & makes a wonderful gift for a like-minded friend. Making something yourself means it is very personal & the effort put into it gives it that little bit extra power. Hang it in the window to catch the light.  Materials required:  2 sticks on roughly equal length Yarn or embroidery threads of various colours Scissors (to cut the threads of course!)  Method:  Make a slipknot on the end of the thread you will use for the centre of the cross & slide the loop over the 2 sticks. Once the thread is centred, pull the knot tight & spread the stick arms out into the form of a cross. Wrap the thread diagonally over the centre twice for each side (NW-SE, then NE-SW) Start wrapping the thread around the sticks (moving deosil around the eye). Start at one point, move the thread over the stick, come round the back crossing over the front & move onto the next arm, keeping the thread tight. When you want to change to another colour, hide the knot at the back of the stick so the ends can't be seen. When you're finished, double-loop the thread over the last arm. You can decorate the ends of the arms with leather, beads or feathers â\\x80\\x93 however you like. To hang the eye up, add a loop in the same colour as the thread nearest the outer edge, by pushing the ends through the eye (about an inch or so down the arm) from the front, then pushing the ends back through to the front again higher up, then tying a knot to form a loop. This should hold the eye upright when it's hung up.   Kitchen Witch   Herb Scented Flat Bread  This flatbread doesn't contain yeast, so it's quick and simple to make. You can substitute your favourite herbs for the ones suggested. A delicious recipe to use for ritual or any time. Makes 3.  Ingredients:  1 cup plus 3 tablespoons all-purpose flour 1/2 teaspoon baking powder 1/2 teaspoon salt 1 teaspoon finely chopped fresh sage 1 teaspoon finely chopped fresh chives 1 teaspoon finely chopped fresh flat-leaf parsley 2 1/2 tablespoons vegetable shortening 3 tablespoons milk 1/2 teaspoon coarse salt, for sprinkling 1 tablespoon extra-virgin olive oil, for brushing  1. In the bowl of a food processor, combine the flour, baking powder, salt, sage, chives, and parsley; process for 5 seconds to combine. Add vegetable shortening and process until well combined, about 15 seconds. Add milk and 2 tablespoons water, and process until the dough comes together, about 7 seconds.  2. Transfer dough to a lightly-flowered surface and knead for about 1 minute, forming it into a ball. Cover with plastic wrap and let stand for 30 minutes.  3. Heat the over to 200Â° with a baking sheet set on the rack. Heat a medium cast-iron skillet over medium-high heat until very hot. Meanwhile, cut the dough into 3 equal pieces and form each piece into a ball. On a lightly floured surface, roll one of the pieces of dough out into a very thin circle (it should be less than 1/16 inch thick and about 6 1/2 inches in diameter). Using a fork, prick the dough 7 or 8 times. Lightly brush one side of the dough with olive oil and sprinkle it lightly with salt.  4. Transfer round of dough, with the oiled side down, to the hot skillet and reduce heat to medium; cook until surface is covered with golden to dark-brown speckles, about 1 to 2 minutes on each side. If the flatbread begins to burn, lower the heat and continue to cook.  5. Remove bread from skillet and transfer to the baking sheet in the oven. Repeat the rolling and cooking process with the remaining 2 pieces of dough.  6. Cut the bread into wedges with a pizza wheel or sharp knife, and serve warm.\", 'Well, this weekend is going to me quadrupally special for me: Not only is it a full moon tomorrow night, but it is also a blue moon (the second full moon in a calendar month). Then on Sunday it is Lammas (one of the eight Sabbats in the Wheel of the Year) AND my first wedding anniversary!  Yes, one year ago, Dale & I both stood up in front of a bunch of our friends & family to say words along the lines of \"I do\". Where has the time gone? It\\'s quite literally flown by so fast that I can scarcely believe it. It certainly doesn\\'t feel like a year already. It was odd enough last month when I realised that my best friend, Sarah, had been married a whole year (there was a whole spate of weddings last summer, you see!) & now it\\'s MY turn. I can honestly say it\\'s been fantastic so far, but people keep asking how it feels to be married & all I can say is that it doesn\\'t really feel any different to us than we did before! We were already living together & both knew we wanted to spend the rest of our lives together - it was just a case of formalising it & making it legal. Perhaps I feel a little more secure now, but other than that, it\\'s exactly the same. Just as well I was happy enough before, isn\\'t it?  So, Dale & I are returning to the hotel where the deed was done, for dinner & an overnight stay, with breakfast in bed, to celebrate.  Anyway, other than our anniversary, I have the other important celebration to think about - Lammas! A little information is possibly called for here, I suppose. Lammas is the first of the three harvest festivals (the fifth of the year as a whole) & is generally held on or around 1st August. It celebrates the harvesting of the first crops as well as the first fruition of projects begun at the start of the year - we reap as we sow. It is also known as Lughnassadh (pronounced Loo-nah-sah) - the feast of the God, Lugh, who is sacrificed as he is cut down with the corn & reborn as the bread, providing food for all.  Some traditional associations are:  Traditional Foods:  Apples, Grains, Breads and Berries.  Herbs and Flowers:  All Grains, Grapes, Heather, Blackberries, Sloe, Crab Apples, Pears.  Incense:  Aloes, Rose, Sandalwood. Sacred GemstoneCarnelian.  Special Activities:  As summer passes, many Pagans celebrate this time to remember its warmth and bounty in a celebrated feast shared with family or Coven members. Save and plant the seeds from the fruits consumed during the feast or ritual. If they sprout, grow the plant or tree with love and as a symbol of your connection with the Lord and Lady. Walk through the fields and orchards or spend time along springs, creeks, rivers, ponds and lakes reflecting on the bounty and love of the Lord and Lady.  I\\'ve never been much of a one to go in for long rituals, so the one I use (when I use one at all) goes along these lines:   On the Altar:  Large beeswax candle Lengths of green & red cord Wine, bread & honey   The Ritual:  Cleanse and cast the circle. Light the beeswax candle. Knot the piece of red cord and pass it over the candle, circling the base. Think of all that is passing and the sacrifices you have made. Give them up freely as you pass the red cord over the flame. Knot the green cord and pass it over the candle to lie on top of the red cord. This represents the achievements which will be built on your sacrifices â\\x80\\x93 your harvest.  Consecrate the wine and drink in honour of the Sun\\'s power and your own achievements. Consecrate the bread and honey, and take them to the four corners saying: \\'This is my offering; This is my sacrifice.\\' (start at the North then move round the circle deosil) Spread the honey on the bread. Eat and drink, communing with the season, saving some to put into the Earth as an offering later. Close the circle.  I don\\'t think I\\'ll be performing a ritual this year, so I\\'ll probably just spend some time outside, somewhere green, & meditate a while instead - the Lord & Lady seem to be happy enough with that arrangement, so it should be more than enough.  I wish you all a special Blue Moon celebration & a fruitful harvest this Lammas! Blessings, Mab.', \"Well, I've never run a blog before, but I guess a wee introduction would probably be the best place to start, so here goes:  I'm a 27 year old married female who happens to be a practicing solitary Witch & have been for around 13 years now. I've forged my own Path along the way; a Path I call Simple Witchery. So, what does that mean, exactly? Well, I boil everything down to its barest components & take out all the extraneous bumf & hooha, so that what is left is the barest of essentials. I don't go in for big, fancy rituals & ceremonies - most of my magick takes place in the kitchen or the bathroom & is very firmly based in the mundane - it's a part of my everyday life, not something I do on the weekends or a couple of evenings a month. I am very much interested in spellcraft - the science of magick - & also the artsy-craftsy side of it (ie making things to use as part of a spell, such as poppets, amulets, talismans, or just the little things like a bag to put all the components in!). I'm also very interested in the use of herbs in healing.  Outside of my Craft interests, I am an avid reader - everything from horror to fantasy, comedy to biography - I just devour them all! I also spend a fair bit of time writing, not just calligraphy (which I love), but I edit a small local Pagan newsletter (Triptych) & also write a regular column for Dragonswood magazine. Music plays a huge part in my life - my husband plays guitar & sings, while I just sing - we spend a lot of time listening to rock & metal music (our favourite band is Dream Theater). Movies are another shared interest - just about any genre you care to name is represented in our DVD collection.  And that's a brief introduction to ME. No doubt as I write more, more will be revealed...\"]\n",
            "\n",
            "\n",
            "Prediction: 27.350689449787602\n",
            "-------\n",
            "\n",
            "Group ID: 3673762\n",
            "\n",
            "Top 3 messages for the group:\n",
            "-------\n",
            "[\"I brought them both home with me this evening. (Technically last night, since it is now well past midnight.)  Pippi was waiting for me in the children's section of my local Big Chain bookstore. I had sat at the kiddie table to flip through Ed Emberley's drawing books. Pippi caught my eye from a discarded stack of books across the table, when I paused to sip my Starbucks coffee. I loved her when I was a kid, and my hand automatically reached out for her cheery face on the book's cover.  I had forgotten she is the strongest girl in the world, has her own house, and is an orphan. Just like ME! I'm tempted to dye my (graying) hair red, but I'll compromise by wearing pig tails now and then.  Pippi had me reminiscing past joys, so I sprung for a compilation CD of Kitaro's music from the 70s and 80s. I've lusted for that album since a boyfriend played the cassette version in his truck for me, at his farm in Grand Forks, North Dakota, in 1988. We discussed romance to Kitaro's pulsing accompaniment. The music stayed with me, the boyfriend didn't, thank goodness.  Better go beddie-bye before I spill too much information here.  Love ya, Pippi.\", 'With the death of my brother last month, I have no immediate family. I had been trying to call him, to wish him Happy Easter and Birthday in April, then to see how he was in May. I kept leaving messages.  Not until that day in May that a nurse called to tell me he had died a few hours earlier, did I know he had moved twice this year. I try not to be angry...\"If only someone had called me back to let me know he had moved, I could have talked to him one last time....\" I immediately got on a plane and flew to where he was. I buried him near my parents. Thatâ\\x80\\x99s about all I have the emotional stamina to say about it tonight.  With his death all my immediate family are gone.  So for a while I holed up. I read, wrote, and wallowed. It makes no sense to me that I should be w/o family at such a young age. I\\'ve done everything right as a loyal and compassionte being, and it\\'s no joke that most people who meet me like me. I like people too, hence my profile, \"loner who likes people.\" (More on that in a future post.)  And as I\\'ve learned well, each time there is death near me, a friend or two or three, will drop from the radar. I\\'ve had enough practice not to take this personally. Meanwhile, others have stepped forward in unexpected support and generosity. The last two afternoons I was treated to coffee and chat by new acquaintances. I doubt these will become serious friendships, but I am glad to learn once again that when some fall away, either in death or because they don\\'t want to be around a person who is hurting, there are many angels willing to step in.  I almost gave up again. I decided to become a hermit, far beyond my usual loner self. Yet that pebble of courage that always grinds into my heel when I take a step kept prodding me. For a week, at least, I\\'m trying to play in the friendship game again.  A funny part of my coffee dates with these two women was that I listened to them talk about their love lives. Hearing their joys and sorrows, and offering ideas as asked, made me feel alive and hopeful; for love, even lost love, is the breath of life. We talked little of my situation. For me, that was a relief; a mental vacation. I told them so.  My life is changing. I have always been a loner. I want to be different than I\\'ve been in that regard, but I think the programming is hard wired. I prefer it.  This book perks me up when I start telling people off in my mind for what my emotional center registers as abandonment:  Anyway: The Paradoxical Commandments:  Finding Personal Meaning in a Crazy World   by Kent M. Keith  People will leave in various ways. I\\'m a true friend anyway. Others stay, and love me no matter how life turns. I am grateful.', \"Privately owned SpaceShipOne completed a manned flight 62.5 miles above earth, then landed in the Mojave Desert.  I hope that one day, I'll be able to fly into space. In the same way I take a plane to Europe, I'll take a flight far above Earth.  People have laughed at me when I've said this. Maybe after today, they'll realize my hope ain't all pie in the sky.  As of this writing, Google News is posting over 1000 articles from around the world on the success of SpaceShipOne:  urlLink  SpaceShipOne News   It's only a matter of time until we can buy tickets for a private rocket ride.\"]\n",
            "\n",
            "\n",
            "Prediction: 24.283943028810803\n",
            "-------\n",
            "\n",
            "-------\n",
            "\n",
            "Settings:\n",
            "\n",
            "Database - colab_csv\n",
            "Corpus - msgs100u.csv\n",
            "Group ID - user_id\n",
            "Feature table(s) - feat$1to2gram$msgs100u$user_id$0_1\n",
            "-------\n",
            "Interface Runtime: 0.42 seconds\n",
            "DLATK exits with success! A good day indeed  ¯\\_(ツ)_/¯.\n"
          ]
        }
      ],
      "source": [
        "!dlatkInterface.py \\\n",
        "  -d colab_csv -t msgs100u.csv -g user_id --group_freq_thresh 100 \\\n",
        "  -f 'feat$1to2gram$msgs100u$user_id$0_1' \\\n",
        "  --predict_regression_to_outcome_table lbp_age \\\n",
        "  --load --picklefile age.1to2grams.ridge1000.gft100.pickle"
      ]
    },
    {
      "cell_type": "markdown",
      "metadata": {
        "id": "i43f_1bAFIDu"
      },
      "source": [
        "## Authors and References"
      ]
    },
    {
      "cell_type": "code",
      "execution_count": null,
      "metadata": {
        "id": "ocIzx5BeQiES"
      },
      "outputs": [],
      "source": []
    }
  ],
  "metadata": {
    "colab": {
      "provenance": [],
      "include_colab_link": true
    },
    "kernelspec": {
      "display_name": "Python 3",
      "name": "python3"
    },
    "language_info": {
      "name": "python"
    },
    "widgets": {
      "application/vnd.jupyter.widget-state+json": {
        "ce051e076daf4ff587a2bbc09ae50e6d": {
          "model_module": "@jupyter-widgets/controls",
          "model_name": "DropdownModel",
          "model_module_version": "1.5.0",
          "state": {
            "_dom_classes": [],
            "_model_module": "@jupyter-widgets/controls",
            "_model_module_version": "1.5.0",
            "_model_name": "DropdownModel",
            "_options_labels": [
              "1to2grams-filtered-table",
              "1to2grams-unfiltered-table",
              "topics-table"
            ],
            "_view_count": null,
            "_view_module": "@jupyter-widgets/controls",
            "_view_module_version": "1.5.0",
            "_view_name": "DropdownView",
            "description": "Feature Table:",
            "description_tooltip": null,
            "disabled": false,
            "index": 0,
            "layout": "IPY_MODEL_9f8c6aa3877a48458b53e725e90394f8",
            "style": "IPY_MODEL_c382dcfb82dd42c3b980ee38d74807ad"
          }
        },
        "9f8c6aa3877a48458b53e725e90394f8": {
          "model_module": "@jupyter-widgets/base",
          "model_name": "LayoutModel",
          "model_module_version": "1.2.0",
          "state": {
            "_model_module": "@jupyter-widgets/base",
            "_model_module_version": "1.2.0",
            "_model_name": "LayoutModel",
            "_view_count": null,
            "_view_module": "@jupyter-widgets/base",
            "_view_module_version": "1.2.0",
            "_view_name": "LayoutView",
            "align_content": null,
            "align_items": null,
            "align_self": null,
            "border": null,
            "bottom": null,
            "display": null,
            "flex": null,
            "flex_flow": null,
            "grid_area": null,
            "grid_auto_columns": null,
            "grid_auto_flow": null,
            "grid_auto_rows": null,
            "grid_column": null,
            "grid_gap": null,
            "grid_row": null,
            "grid_template_areas": null,
            "grid_template_columns": null,
            "grid_template_rows": null,
            "height": null,
            "justify_content": null,
            "justify_items": null,
            "left": null,
            "margin": null,
            "max_height": null,
            "max_width": null,
            "min_height": null,
            "min_width": null,
            "object_fit": null,
            "object_position": null,
            "order": null,
            "overflow": null,
            "overflow_x": null,
            "overflow_y": null,
            "padding": null,
            "right": null,
            "top": null,
            "visibility": null,
            "width": null
          }
        },
        "c382dcfb82dd42c3b980ee38d74807ad": {
          "model_module": "@jupyter-widgets/controls",
          "model_name": "DescriptionStyleModel",
          "model_module_version": "1.5.0",
          "state": {
            "_model_module": "@jupyter-widgets/controls",
            "_model_module_version": "1.5.0",
            "_model_name": "DescriptionStyleModel",
            "_view_count": null,
            "_view_module": "@jupyter-widgets/base",
            "_view_module_version": "1.2.0",
            "_view_name": "StyleView",
            "description_width": ""
          }
        },
        "13e010bcf7dc4a6a9bd73e8c1c0309ff": {
          "model_module": "@jupyter-widgets/controls",
          "model_name": "DropdownModel",
          "model_module_version": "1.5.0",
          "state": {
            "_dom_classes": [],
            "_model_module": "@jupyter-widgets/controls",
            "_model_module_version": "1.5.0",
            "_model_name": "DropdownModel",
            "_options_labels": [
              "lasso",
              "lassocv",
              "elasticnet",
              "elasticnetcv",
              "lassolars",
              "lassolarscv",
              "lars",
              "ridge",
              "ridge.01",
              "ridge.001",
              "ridge250",
              "ridge10000",
              "ridge100000",
              "ridge100k",
              "ridge1000",
              "ridge100",
              "ridge10",
              "ridge1",
              "ridge1m",
              "ridge10m",
              "ridge100m",
              "ridgecv",
              "ridgefirstpasscv",
              "ridgehighcv",
              "ridgeveryhighcv",
              "ridgelowcv",
              "rpcridgecv",
              "linear",
              "svr",
              "sgdregressor",
              "extratrees",
              "par"
            ],
            "_view_count": null,
            "_view_module": "@jupyter-widgets/controls",
            "_view_module_version": "1.5.0",
            "_view_name": "DropdownView",
            "description": "Model:",
            "description_tooltip": null,
            "disabled": false,
            "index": 23,
            "layout": "IPY_MODEL_ff3f790851c54d549862ed424fb0fe1b",
            "style": "IPY_MODEL_9c30b093a2814ffb91e3e16864f76818"
          }
        },
        "ff3f790851c54d549862ed424fb0fe1b": {
          "model_module": "@jupyter-widgets/base",
          "model_name": "LayoutModel",
          "model_module_version": "1.2.0",
          "state": {
            "_model_module": "@jupyter-widgets/base",
            "_model_module_version": "1.2.0",
            "_model_name": "LayoutModel",
            "_view_count": null,
            "_view_module": "@jupyter-widgets/base",
            "_view_module_version": "1.2.0",
            "_view_name": "LayoutView",
            "align_content": null,
            "align_items": null,
            "align_self": null,
            "border": null,
            "bottom": null,
            "display": null,
            "flex": null,
            "flex_flow": null,
            "grid_area": null,
            "grid_auto_columns": null,
            "grid_auto_flow": null,
            "grid_auto_rows": null,
            "grid_column": null,
            "grid_gap": null,
            "grid_row": null,
            "grid_template_areas": null,
            "grid_template_columns": null,
            "grid_template_rows": null,
            "height": null,
            "justify_content": null,
            "justify_items": null,
            "left": null,
            "margin": null,
            "max_height": null,
            "max_width": null,
            "min_height": null,
            "min_width": null,
            "object_fit": null,
            "object_position": null,
            "order": null,
            "overflow": null,
            "overflow_x": null,
            "overflow_y": null,
            "padding": null,
            "right": null,
            "top": null,
            "visibility": null,
            "width": null
          }
        },
        "9c30b093a2814ffb91e3e16864f76818": {
          "model_module": "@jupyter-widgets/controls",
          "model_name": "DescriptionStyleModel",
          "model_module_version": "1.5.0",
          "state": {
            "_model_module": "@jupyter-widgets/controls",
            "_model_module_version": "1.5.0",
            "_model_name": "DescriptionStyleModel",
            "_view_count": null,
            "_view_module": "@jupyter-widgets/base",
            "_view_module_version": "1.2.0",
            "_view_name": "StyleView",
            "description_width": ""
          }
        },
        "cd96f7c58b2a4ad6bc3fee0757c3c917": {
          "model_module": "@jupyter-widgets/controls",
          "model_name": "LabelModel",
          "model_module_version": "1.5.0",
          "state": {
            "_dom_classes": [],
            "_model_module": "@jupyter-widgets/controls",
            "_model_module_version": "1.5.0",
            "_model_name": "LabelModel",
            "_view_count": null,
            "_view_module": "@jupyter-widgets/controls",
            "_view_module_version": "1.5.0",
            "_view_name": "LabelView",
            "description": "",
            "description_tooltip": null,
            "layout": "IPY_MODEL_c17b3393cc244446a316db5462dccd27",
            "placeholder": "​",
            "style": "IPY_MODEL_1969637b4b354561b6ac203e84f3b556",
            "value": "Outcomes:"
          }
        },
        "c17b3393cc244446a316db5462dccd27": {
          "model_module": "@jupyter-widgets/base",
          "model_name": "LayoutModel",
          "model_module_version": "1.2.0",
          "state": {
            "_model_module": "@jupyter-widgets/base",
            "_model_module_version": "1.2.0",
            "_model_name": "LayoutModel",
            "_view_count": null,
            "_view_module": "@jupyter-widgets/base",
            "_view_module_version": "1.2.0",
            "_view_name": "LayoutView",
            "align_content": null,
            "align_items": null,
            "align_self": null,
            "border": null,
            "bottom": null,
            "display": null,
            "flex": null,
            "flex_flow": null,
            "grid_area": null,
            "grid_auto_columns": null,
            "grid_auto_flow": null,
            "grid_auto_rows": null,
            "grid_column": null,
            "grid_gap": null,
            "grid_row": null,
            "grid_template_areas": null,
            "grid_template_columns": null,
            "grid_template_rows": null,
            "height": null,
            "justify_content": null,
            "justify_items": null,
            "left": null,
            "margin": null,
            "max_height": null,
            "max_width": null,
            "min_height": null,
            "min_width": null,
            "object_fit": null,
            "object_position": null,
            "order": null,
            "overflow": null,
            "overflow_x": null,
            "overflow_y": null,
            "padding": null,
            "right": null,
            "top": null,
            "visibility": null,
            "width": null
          }
        },
        "1969637b4b354561b6ac203e84f3b556": {
          "model_module": "@jupyter-widgets/controls",
          "model_name": "DescriptionStyleModel",
          "model_module_version": "1.5.0",
          "state": {
            "_model_module": "@jupyter-widgets/controls",
            "_model_module_version": "1.5.0",
            "_model_name": "DescriptionStyleModel",
            "_view_count": null,
            "_view_module": "@jupyter-widgets/base",
            "_view_module_version": "1.2.0",
            "_view_name": "StyleView",
            "description_width": ""
          }
        },
        "c945ad5beead487ea1b1e2cb939ee68f": {
          "model_module": "@jupyter-widgets/controls",
          "model_name": "CheckboxModel",
          "model_module_version": "1.5.0",
          "state": {
            "_dom_classes": [],
            "_model_module": "@jupyter-widgets/controls",
            "_model_module_version": "1.5.0",
            "_model_name": "CheckboxModel",
            "_view_count": null,
            "_view_module": "@jupyter-widgets/controls",
            "_view_module_version": "1.5.0",
            "_view_name": "CheckboxView",
            "description": "gender",
            "description_tooltip": null,
            "disabled": false,
            "indent": true,
            "layout": "IPY_MODEL_3e37940e71304f119bd9599a85c048e3",
            "style": "IPY_MODEL_afb5bce4d3434cb499efbb956d3fbc3d",
            "value": false
          }
        },
        "3e37940e71304f119bd9599a85c048e3": {
          "model_module": "@jupyter-widgets/base",
          "model_name": "LayoutModel",
          "model_module_version": "1.2.0",
          "state": {
            "_model_module": "@jupyter-widgets/base",
            "_model_module_version": "1.2.0",
            "_model_name": "LayoutModel",
            "_view_count": null,
            "_view_module": "@jupyter-widgets/base",
            "_view_module_version": "1.2.0",
            "_view_name": "LayoutView",
            "align_content": null,
            "align_items": null,
            "align_self": null,
            "border": null,
            "bottom": null,
            "display": null,
            "flex": null,
            "flex_flow": null,
            "grid_area": null,
            "grid_auto_columns": null,
            "grid_auto_flow": null,
            "grid_auto_rows": null,
            "grid_column": null,
            "grid_gap": null,
            "grid_row": null,
            "grid_template_areas": null,
            "grid_template_columns": null,
            "grid_template_rows": null,
            "height": null,
            "justify_content": null,
            "justify_items": null,
            "left": null,
            "margin": null,
            "max_height": null,
            "max_width": null,
            "min_height": null,
            "min_width": null,
            "object_fit": null,
            "object_position": null,
            "order": null,
            "overflow": null,
            "overflow_x": null,
            "overflow_y": null,
            "padding": null,
            "right": null,
            "top": null,
            "visibility": null,
            "width": null
          }
        },
        "afb5bce4d3434cb499efbb956d3fbc3d": {
          "model_module": "@jupyter-widgets/controls",
          "model_name": "DescriptionStyleModel",
          "model_module_version": "1.5.0",
          "state": {
            "_model_module": "@jupyter-widgets/controls",
            "_model_module_version": "1.5.0",
            "_model_name": "DescriptionStyleModel",
            "_view_count": null,
            "_view_module": "@jupyter-widgets/base",
            "_view_module_version": "1.2.0",
            "_view_name": "StyleView",
            "description_width": ""
          }
        },
        "2bd5ddd6e8624aa9ae720e1783d92447": {
          "model_module": "@jupyter-widgets/controls",
          "model_name": "CheckboxModel",
          "model_module_version": "1.5.0",
          "state": {
            "_dom_classes": [],
            "_model_module": "@jupyter-widgets/controls",
            "_model_module_version": "1.5.0",
            "_model_name": "CheckboxModel",
            "_view_count": null,
            "_view_module": "@jupyter-widgets/controls",
            "_view_module_version": "1.5.0",
            "_view_name": "CheckboxView",
            "description": "age",
            "description_tooltip": null,
            "disabled": false,
            "indent": true,
            "layout": "IPY_MODEL_1c814b0debfc431394bce71ec39a7979",
            "style": "IPY_MODEL_35e0c67d82bc4ee9a8efcea428fb86a3",
            "value": false
          }
        },
        "1c814b0debfc431394bce71ec39a7979": {
          "model_module": "@jupyter-widgets/base",
          "model_name": "LayoutModel",
          "model_module_version": "1.2.0",
          "state": {
            "_model_module": "@jupyter-widgets/base",
            "_model_module_version": "1.2.0",
            "_model_name": "LayoutModel",
            "_view_count": null,
            "_view_module": "@jupyter-widgets/base",
            "_view_module_version": "1.2.0",
            "_view_name": "LayoutView",
            "align_content": null,
            "align_items": null,
            "align_self": null,
            "border": null,
            "bottom": null,
            "display": null,
            "flex": null,
            "flex_flow": null,
            "grid_area": null,
            "grid_auto_columns": null,
            "grid_auto_flow": null,
            "grid_auto_rows": null,
            "grid_column": null,
            "grid_gap": null,
            "grid_row": null,
            "grid_template_areas": null,
            "grid_template_columns": null,
            "grid_template_rows": null,
            "height": null,
            "justify_content": null,
            "justify_items": null,
            "left": null,
            "margin": null,
            "max_height": null,
            "max_width": null,
            "min_height": null,
            "min_width": null,
            "object_fit": null,
            "object_position": null,
            "order": null,
            "overflow": null,
            "overflow_x": null,
            "overflow_y": null,
            "padding": null,
            "right": null,
            "top": null,
            "visibility": null,
            "width": null
          }
        },
        "35e0c67d82bc4ee9a8efcea428fb86a3": {
          "model_module": "@jupyter-widgets/controls",
          "model_name": "DescriptionStyleModel",
          "model_module_version": "1.5.0",
          "state": {
            "_model_module": "@jupyter-widgets/controls",
            "_model_module_version": "1.5.0",
            "_model_name": "DescriptionStyleModel",
            "_view_count": null,
            "_view_module": "@jupyter-widgets/base",
            "_view_module_version": "1.2.0",
            "_view_name": "StyleView",
            "description_width": ""
          }
        },
        "ec8074ce592043299c5339c279e3b86c": {
          "model_module": "@jupyter-widgets/controls",
          "model_name": "CheckboxModel",
          "model_module_version": "1.5.0",
          "state": {
            "_dom_classes": [],
            "_model_module": "@jupyter-widgets/controls",
            "_model_module_version": "1.5.0",
            "_model_name": "CheckboxModel",
            "_view_count": null,
            "_view_module": "@jupyter-widgets/controls",
            "_view_module_version": "1.5.0",
            "_view_name": "CheckboxView",
            "description": "occu",
            "description_tooltip": null,
            "disabled": false,
            "indent": true,
            "layout": "IPY_MODEL_19ba2ea607a449588fcc5fc50b977566",
            "style": "IPY_MODEL_0d5b3cbac0954695a838c876c2a7a73c",
            "value": false
          }
        },
        "19ba2ea607a449588fcc5fc50b977566": {
          "model_module": "@jupyter-widgets/base",
          "model_name": "LayoutModel",
          "model_module_version": "1.2.0",
          "state": {
            "_model_module": "@jupyter-widgets/base",
            "_model_module_version": "1.2.0",
            "_model_name": "LayoutModel",
            "_view_count": null,
            "_view_module": "@jupyter-widgets/base",
            "_view_module_version": "1.2.0",
            "_view_name": "LayoutView",
            "align_content": null,
            "align_items": null,
            "align_self": null,
            "border": null,
            "bottom": null,
            "display": null,
            "flex": null,
            "flex_flow": null,
            "grid_area": null,
            "grid_auto_columns": null,
            "grid_auto_flow": null,
            "grid_auto_rows": null,
            "grid_column": null,
            "grid_gap": null,
            "grid_row": null,
            "grid_template_areas": null,
            "grid_template_columns": null,
            "grid_template_rows": null,
            "height": null,
            "justify_content": null,
            "justify_items": null,
            "left": null,
            "margin": null,
            "max_height": null,
            "max_width": null,
            "min_height": null,
            "min_width": null,
            "object_fit": null,
            "object_position": null,
            "order": null,
            "overflow": null,
            "overflow_x": null,
            "overflow_y": null,
            "padding": null,
            "right": null,
            "top": null,
            "visibility": null,
            "width": null
          }
        },
        "0d5b3cbac0954695a838c876c2a7a73c": {
          "model_module": "@jupyter-widgets/controls",
          "model_name": "DescriptionStyleModel",
          "model_module_version": "1.5.0",
          "state": {
            "_model_module": "@jupyter-widgets/controls",
            "_model_module_version": "1.5.0",
            "_model_name": "DescriptionStyleModel",
            "_view_count": null,
            "_view_module": "@jupyter-widgets/base",
            "_view_module_version": "1.2.0",
            "_view_name": "StyleView",
            "description_width": ""
          }
        },
        "e85bac993d2c491c8e1d04c632510fee": {
          "model_module": "@jupyter-widgets/controls",
          "model_name": "CheckboxModel",
          "model_module_version": "1.5.0",
          "state": {
            "_dom_classes": [],
            "_model_module": "@jupyter-widgets/controls",
            "_model_module_version": "1.5.0",
            "_model_name": "CheckboxModel",
            "_view_count": null,
            "_view_module": "@jupyter-widgets/controls",
            "_view_module_version": "1.5.0",
            "_view_name": "CheckboxView",
            "description": "is_student",
            "description_tooltip": null,
            "disabled": false,
            "indent": true,
            "layout": "IPY_MODEL_e9a5ee6366d24d7c9677435856577892",
            "style": "IPY_MODEL_3f2168f19c8045bbaad90d5087bfe357",
            "value": false
          }
        },
        "e9a5ee6366d24d7c9677435856577892": {
          "model_module": "@jupyter-widgets/base",
          "model_name": "LayoutModel",
          "model_module_version": "1.2.0",
          "state": {
            "_model_module": "@jupyter-widgets/base",
            "_model_module_version": "1.2.0",
            "_model_name": "LayoutModel",
            "_view_count": null,
            "_view_module": "@jupyter-widgets/base",
            "_view_module_version": "1.2.0",
            "_view_name": "LayoutView",
            "align_content": null,
            "align_items": null,
            "align_self": null,
            "border": null,
            "bottom": null,
            "display": null,
            "flex": null,
            "flex_flow": null,
            "grid_area": null,
            "grid_auto_columns": null,
            "grid_auto_flow": null,
            "grid_auto_rows": null,
            "grid_column": null,
            "grid_gap": null,
            "grid_row": null,
            "grid_template_areas": null,
            "grid_template_columns": null,
            "grid_template_rows": null,
            "height": null,
            "justify_content": null,
            "justify_items": null,
            "left": null,
            "margin": null,
            "max_height": null,
            "max_width": null,
            "min_height": null,
            "min_width": null,
            "object_fit": null,
            "object_position": null,
            "order": null,
            "overflow": null,
            "overflow_x": null,
            "overflow_y": null,
            "padding": null,
            "right": null,
            "top": null,
            "visibility": null,
            "width": null
          }
        },
        "3f2168f19c8045bbaad90d5087bfe357": {
          "model_module": "@jupyter-widgets/controls",
          "model_name": "DescriptionStyleModel",
          "model_module_version": "1.5.0",
          "state": {
            "_model_module": "@jupyter-widgets/controls",
            "_model_module_version": "1.5.0",
            "_model_name": "DescriptionStyleModel",
            "_view_count": null,
            "_view_module": "@jupyter-widgets/base",
            "_view_module_version": "1.2.0",
            "_view_name": "StyleView",
            "description_width": ""
          }
        },
        "b85658a339b5483883b2e1945bd9ea24": {
          "model_module": "@jupyter-widgets/controls",
          "model_name": "ButtonModel",
          "model_module_version": "1.5.0",
          "state": {
            "_dom_classes": [],
            "_model_module": "@jupyter-widgets/controls",
            "_model_module_version": "1.5.0",
            "_model_name": "ButtonModel",
            "_view_count": null,
            "_view_module": "@jupyter-widgets/controls",
            "_view_module_version": "1.5.0",
            "_view_name": "ButtonView",
            "button_style": "",
            "description": "Submit",
            "disabled": false,
            "icon": "",
            "layout": "IPY_MODEL_d574b362acf140a5911b665c9212dca4",
            "style": "IPY_MODEL_9b1a118b430b4da68bea46c90db7595b",
            "tooltip": ""
          }
        },
        "d574b362acf140a5911b665c9212dca4": {
          "model_module": "@jupyter-widgets/base",
          "model_name": "LayoutModel",
          "model_module_version": "1.2.0",
          "state": {
            "_model_module": "@jupyter-widgets/base",
            "_model_module_version": "1.2.0",
            "_model_name": "LayoutModel",
            "_view_count": null,
            "_view_module": "@jupyter-widgets/base",
            "_view_module_version": "1.2.0",
            "_view_name": "LayoutView",
            "align_content": null,
            "align_items": null,
            "align_self": null,
            "border": null,
            "bottom": null,
            "display": null,
            "flex": null,
            "flex_flow": null,
            "grid_area": null,
            "grid_auto_columns": null,
            "grid_auto_flow": null,
            "grid_auto_rows": null,
            "grid_column": null,
            "grid_gap": null,
            "grid_row": null,
            "grid_template_areas": null,
            "grid_template_columns": null,
            "grid_template_rows": null,
            "height": null,
            "justify_content": null,
            "justify_items": null,
            "left": null,
            "margin": null,
            "max_height": null,
            "max_width": null,
            "min_height": null,
            "min_width": null,
            "object_fit": null,
            "object_position": null,
            "order": null,
            "overflow": null,
            "overflow_x": null,
            "overflow_y": null,
            "padding": null,
            "right": null,
            "top": null,
            "visibility": null,
            "width": null
          }
        },
        "9b1a118b430b4da68bea46c90db7595b": {
          "model_module": "@jupyter-widgets/controls",
          "model_name": "ButtonStyleModel",
          "model_module_version": "1.5.0",
          "state": {
            "_model_module": "@jupyter-widgets/controls",
            "_model_module_version": "1.5.0",
            "_model_name": "ButtonStyleModel",
            "_view_count": null,
            "_view_module": "@jupyter-widgets/base",
            "_view_module_version": "1.2.0",
            "_view_name": "StyleView",
            "button_color": null,
            "font_weight": ""
          }
        },
        "57ccf30dd3684bea8c9d10dff1b8e83c": {
          "model_module": "@jupyter-widgets/controls",
          "model_name": "DropdownModel",
          "model_module_version": "1.5.0",
          "state": {
            "_dom_classes": [],
            "_model_module": "@jupyter-widgets/controls",
            "_model_module_version": "1.5.0",
            "_model_name": "DropdownModel",
            "_options_labels": [
              "1to2grams-filtered-table",
              "1to2grams-unfiltered-table",
              "topics-table"
            ],
            "_view_count": null,
            "_view_module": "@jupyter-widgets/controls",
            "_view_module_version": "1.5.0",
            "_view_name": "DropdownView",
            "description": "Feature Table:",
            "description_tooltip": null,
            "disabled": false,
            "index": 0,
            "layout": "IPY_MODEL_ad847b69c75d4103ad81365e665c9b4f",
            "style": "IPY_MODEL_43cc87ca8ce743a1b234292ab217718b"
          }
        },
        "ad847b69c75d4103ad81365e665c9b4f": {
          "model_module": "@jupyter-widgets/base",
          "model_name": "LayoutModel",
          "model_module_version": "1.2.0",
          "state": {
            "_model_module": "@jupyter-widgets/base",
            "_model_module_version": "1.2.0",
            "_model_name": "LayoutModel",
            "_view_count": null,
            "_view_module": "@jupyter-widgets/base",
            "_view_module_version": "1.2.0",
            "_view_name": "LayoutView",
            "align_content": null,
            "align_items": null,
            "align_self": null,
            "border": null,
            "bottom": null,
            "display": null,
            "flex": null,
            "flex_flow": null,
            "grid_area": null,
            "grid_auto_columns": null,
            "grid_auto_flow": null,
            "grid_auto_rows": null,
            "grid_column": null,
            "grid_gap": null,
            "grid_row": null,
            "grid_template_areas": null,
            "grid_template_columns": null,
            "grid_template_rows": null,
            "height": null,
            "justify_content": null,
            "justify_items": null,
            "left": null,
            "margin": null,
            "max_height": null,
            "max_width": null,
            "min_height": null,
            "min_width": null,
            "object_fit": null,
            "object_position": null,
            "order": null,
            "overflow": null,
            "overflow_x": null,
            "overflow_y": null,
            "padding": null,
            "right": null,
            "top": null,
            "visibility": null,
            "width": null
          }
        },
        "43cc87ca8ce743a1b234292ab217718b": {
          "model_module": "@jupyter-widgets/controls",
          "model_name": "DescriptionStyleModel",
          "model_module_version": "1.5.0",
          "state": {
            "_model_module": "@jupyter-widgets/controls",
            "_model_module_version": "1.5.0",
            "_model_name": "DescriptionStyleModel",
            "_view_count": null,
            "_view_module": "@jupyter-widgets/base",
            "_view_module_version": "1.2.0",
            "_view_name": "StyleView",
            "description_width": ""
          }
        },
        "28d5c11943a8442ab8f0463789c15968": {
          "model_module": "@jupyter-widgets/controls",
          "model_name": "DropdownModel",
          "model_module_version": "1.5.0",
          "state": {
            "_dom_classes": [],
            "_model_module": "@jupyter-widgets/controls",
            "_model_module_version": "1.5.0",
            "_model_name": "DropdownModel",
            "_options_labels": [
              "lr",
              "lr1",
              "lr_balanced",
              "lrnone",
              "linear-svc",
              "svc",
              "etc",
              "rfc",
              "pac",
              "gbc",
              "mnb",
              "gnb",
              "bnb",
              "mlp"
            ],
            "_view_count": null,
            "_view_module": "@jupyter-widgets/controls",
            "_view_module_version": "1.5.0",
            "_view_name": "DropdownView",
            "description": "Model:",
            "description_tooltip": null,
            "disabled": false,
            "index": 0,
            "layout": "IPY_MODEL_68c10c12f93a4d9aba0de1afa37f8644",
            "style": "IPY_MODEL_60396f4c3d434941a6febb1cf93f3404"
          }
        },
        "68c10c12f93a4d9aba0de1afa37f8644": {
          "model_module": "@jupyter-widgets/base",
          "model_name": "LayoutModel",
          "model_module_version": "1.2.0",
          "state": {
            "_model_module": "@jupyter-widgets/base",
            "_model_module_version": "1.2.0",
            "_model_name": "LayoutModel",
            "_view_count": null,
            "_view_module": "@jupyter-widgets/base",
            "_view_module_version": "1.2.0",
            "_view_name": "LayoutView",
            "align_content": null,
            "align_items": null,
            "align_self": null,
            "border": null,
            "bottom": null,
            "display": null,
            "flex": null,
            "flex_flow": null,
            "grid_area": null,
            "grid_auto_columns": null,
            "grid_auto_flow": null,
            "grid_auto_rows": null,
            "grid_column": null,
            "grid_gap": null,
            "grid_row": null,
            "grid_template_areas": null,
            "grid_template_columns": null,
            "grid_template_rows": null,
            "height": null,
            "justify_content": null,
            "justify_items": null,
            "left": null,
            "margin": null,
            "max_height": null,
            "max_width": null,
            "min_height": null,
            "min_width": null,
            "object_fit": null,
            "object_position": null,
            "order": null,
            "overflow": null,
            "overflow_x": null,
            "overflow_y": null,
            "padding": null,
            "right": null,
            "top": null,
            "visibility": null,
            "width": null
          }
        },
        "60396f4c3d434941a6febb1cf93f3404": {
          "model_module": "@jupyter-widgets/controls",
          "model_name": "DescriptionStyleModel",
          "model_module_version": "1.5.0",
          "state": {
            "_model_module": "@jupyter-widgets/controls",
            "_model_module_version": "1.5.0",
            "_model_name": "DescriptionStyleModel",
            "_view_count": null,
            "_view_module": "@jupyter-widgets/base",
            "_view_module_version": "1.2.0",
            "_view_name": "StyleView",
            "description_width": ""
          }
        },
        "8acde0bb5a9a482292290ac1c7ab93e2": {
          "model_module": "@jupyter-widgets/controls",
          "model_name": "LabelModel",
          "model_module_version": "1.5.0",
          "state": {
            "_dom_classes": [],
            "_model_module": "@jupyter-widgets/controls",
            "_model_module_version": "1.5.0",
            "_model_name": "LabelModel",
            "_view_count": null,
            "_view_module": "@jupyter-widgets/controls",
            "_view_module_version": "1.5.0",
            "_view_name": "LabelView",
            "description": "",
            "description_tooltip": null,
            "layout": "IPY_MODEL_b3a6e257af35409a8105cb95565d5233",
            "placeholder": "​",
            "style": "IPY_MODEL_b6a0d9822a0b4d7c907cae8e7802aaac",
            "value": "Outcomes:"
          }
        },
        "b3a6e257af35409a8105cb95565d5233": {
          "model_module": "@jupyter-widgets/base",
          "model_name": "LayoutModel",
          "model_module_version": "1.2.0",
          "state": {
            "_model_module": "@jupyter-widgets/base",
            "_model_module_version": "1.2.0",
            "_model_name": "LayoutModel",
            "_view_count": null,
            "_view_module": "@jupyter-widgets/base",
            "_view_module_version": "1.2.0",
            "_view_name": "LayoutView",
            "align_content": null,
            "align_items": null,
            "align_self": null,
            "border": null,
            "bottom": null,
            "display": null,
            "flex": null,
            "flex_flow": null,
            "grid_area": null,
            "grid_auto_columns": null,
            "grid_auto_flow": null,
            "grid_auto_rows": null,
            "grid_column": null,
            "grid_gap": null,
            "grid_row": null,
            "grid_template_areas": null,
            "grid_template_columns": null,
            "grid_template_rows": null,
            "height": null,
            "justify_content": null,
            "justify_items": null,
            "left": null,
            "margin": null,
            "max_height": null,
            "max_width": null,
            "min_height": null,
            "min_width": null,
            "object_fit": null,
            "object_position": null,
            "order": null,
            "overflow": null,
            "overflow_x": null,
            "overflow_y": null,
            "padding": null,
            "right": null,
            "top": null,
            "visibility": null,
            "width": null
          }
        },
        "b6a0d9822a0b4d7c907cae8e7802aaac": {
          "model_module": "@jupyter-widgets/controls",
          "model_name": "DescriptionStyleModel",
          "model_module_version": "1.5.0",
          "state": {
            "_model_module": "@jupyter-widgets/controls",
            "_model_module_version": "1.5.0",
            "_model_name": "DescriptionStyleModel",
            "_view_count": null,
            "_view_module": "@jupyter-widgets/base",
            "_view_module_version": "1.2.0",
            "_view_name": "StyleView",
            "description_width": ""
          }
        },
        "a085f5f43b1040b1a557123f6bcdd9b5": {
          "model_module": "@jupyter-widgets/controls",
          "model_name": "CheckboxModel",
          "model_module_version": "1.5.0",
          "state": {
            "_dom_classes": [],
            "_model_module": "@jupyter-widgets/controls",
            "_model_module_version": "1.5.0",
            "_model_name": "CheckboxModel",
            "_view_count": null,
            "_view_module": "@jupyter-widgets/controls",
            "_view_module_version": "1.5.0",
            "_view_name": "CheckboxView",
            "description": "gender",
            "description_tooltip": null,
            "disabled": false,
            "indent": true,
            "layout": "IPY_MODEL_6e05aa9f4c7548c6aca4c0cb58e958d5",
            "style": "IPY_MODEL_a63290976e994252b752ef30a35782b9",
            "value": false
          }
        },
        "6e05aa9f4c7548c6aca4c0cb58e958d5": {
          "model_module": "@jupyter-widgets/base",
          "model_name": "LayoutModel",
          "model_module_version": "1.2.0",
          "state": {
            "_model_module": "@jupyter-widgets/base",
            "_model_module_version": "1.2.0",
            "_model_name": "LayoutModel",
            "_view_count": null,
            "_view_module": "@jupyter-widgets/base",
            "_view_module_version": "1.2.0",
            "_view_name": "LayoutView",
            "align_content": null,
            "align_items": null,
            "align_self": null,
            "border": null,
            "bottom": null,
            "display": null,
            "flex": null,
            "flex_flow": null,
            "grid_area": null,
            "grid_auto_columns": null,
            "grid_auto_flow": null,
            "grid_auto_rows": null,
            "grid_column": null,
            "grid_gap": null,
            "grid_row": null,
            "grid_template_areas": null,
            "grid_template_columns": null,
            "grid_template_rows": null,
            "height": null,
            "justify_content": null,
            "justify_items": null,
            "left": null,
            "margin": null,
            "max_height": null,
            "max_width": null,
            "min_height": null,
            "min_width": null,
            "object_fit": null,
            "object_position": null,
            "order": null,
            "overflow": null,
            "overflow_x": null,
            "overflow_y": null,
            "padding": null,
            "right": null,
            "top": null,
            "visibility": null,
            "width": null
          }
        },
        "a63290976e994252b752ef30a35782b9": {
          "model_module": "@jupyter-widgets/controls",
          "model_name": "DescriptionStyleModel",
          "model_module_version": "1.5.0",
          "state": {
            "_model_module": "@jupyter-widgets/controls",
            "_model_module_version": "1.5.0",
            "_model_name": "DescriptionStyleModel",
            "_view_count": null,
            "_view_module": "@jupyter-widgets/base",
            "_view_module_version": "1.2.0",
            "_view_name": "StyleView",
            "description_width": ""
          }
        },
        "a43117da214a4d81b6e62f5ee1349650": {
          "model_module": "@jupyter-widgets/controls",
          "model_name": "CheckboxModel",
          "model_module_version": "1.5.0",
          "state": {
            "_dom_classes": [],
            "_model_module": "@jupyter-widgets/controls",
            "_model_module_version": "1.5.0",
            "_model_name": "CheckboxModel",
            "_view_count": null,
            "_view_module": "@jupyter-widgets/controls",
            "_view_module_version": "1.5.0",
            "_view_name": "CheckboxView",
            "description": "age",
            "description_tooltip": null,
            "disabled": false,
            "indent": true,
            "layout": "IPY_MODEL_cc91ed14fa3941a5bd1e10039bf45479",
            "style": "IPY_MODEL_ef115963f5814cc2827c4cc74df29207",
            "value": false
          }
        },
        "cc91ed14fa3941a5bd1e10039bf45479": {
          "model_module": "@jupyter-widgets/base",
          "model_name": "LayoutModel",
          "model_module_version": "1.2.0",
          "state": {
            "_model_module": "@jupyter-widgets/base",
            "_model_module_version": "1.2.0",
            "_model_name": "LayoutModel",
            "_view_count": null,
            "_view_module": "@jupyter-widgets/base",
            "_view_module_version": "1.2.0",
            "_view_name": "LayoutView",
            "align_content": null,
            "align_items": null,
            "align_self": null,
            "border": null,
            "bottom": null,
            "display": null,
            "flex": null,
            "flex_flow": null,
            "grid_area": null,
            "grid_auto_columns": null,
            "grid_auto_flow": null,
            "grid_auto_rows": null,
            "grid_column": null,
            "grid_gap": null,
            "grid_row": null,
            "grid_template_areas": null,
            "grid_template_columns": null,
            "grid_template_rows": null,
            "height": null,
            "justify_content": null,
            "justify_items": null,
            "left": null,
            "margin": null,
            "max_height": null,
            "max_width": null,
            "min_height": null,
            "min_width": null,
            "object_fit": null,
            "object_position": null,
            "order": null,
            "overflow": null,
            "overflow_x": null,
            "overflow_y": null,
            "padding": null,
            "right": null,
            "top": null,
            "visibility": null,
            "width": null
          }
        },
        "ef115963f5814cc2827c4cc74df29207": {
          "model_module": "@jupyter-widgets/controls",
          "model_name": "DescriptionStyleModel",
          "model_module_version": "1.5.0",
          "state": {
            "_model_module": "@jupyter-widgets/controls",
            "_model_module_version": "1.5.0",
            "_model_name": "DescriptionStyleModel",
            "_view_count": null,
            "_view_module": "@jupyter-widgets/base",
            "_view_module_version": "1.2.0",
            "_view_name": "StyleView",
            "description_width": ""
          }
        },
        "54282d1d7c1c4bb496150efc4532751a": {
          "model_module": "@jupyter-widgets/controls",
          "model_name": "CheckboxModel",
          "model_module_version": "1.5.0",
          "state": {
            "_dom_classes": [],
            "_model_module": "@jupyter-widgets/controls",
            "_model_module_version": "1.5.0",
            "_model_name": "CheckboxModel",
            "_view_count": null,
            "_view_module": "@jupyter-widgets/controls",
            "_view_module_version": "1.5.0",
            "_view_name": "CheckboxView",
            "description": "occu",
            "description_tooltip": null,
            "disabled": false,
            "indent": true,
            "layout": "IPY_MODEL_148adf35ab49447bbe568191abb5be79",
            "style": "IPY_MODEL_29e67f34ab9442f690933fc20f552865",
            "value": false
          }
        },
        "148adf35ab49447bbe568191abb5be79": {
          "model_module": "@jupyter-widgets/base",
          "model_name": "LayoutModel",
          "model_module_version": "1.2.0",
          "state": {
            "_model_module": "@jupyter-widgets/base",
            "_model_module_version": "1.2.0",
            "_model_name": "LayoutModel",
            "_view_count": null,
            "_view_module": "@jupyter-widgets/base",
            "_view_module_version": "1.2.0",
            "_view_name": "LayoutView",
            "align_content": null,
            "align_items": null,
            "align_self": null,
            "border": null,
            "bottom": null,
            "display": null,
            "flex": null,
            "flex_flow": null,
            "grid_area": null,
            "grid_auto_columns": null,
            "grid_auto_flow": null,
            "grid_auto_rows": null,
            "grid_column": null,
            "grid_gap": null,
            "grid_row": null,
            "grid_template_areas": null,
            "grid_template_columns": null,
            "grid_template_rows": null,
            "height": null,
            "justify_content": null,
            "justify_items": null,
            "left": null,
            "margin": null,
            "max_height": null,
            "max_width": null,
            "min_height": null,
            "min_width": null,
            "object_fit": null,
            "object_position": null,
            "order": null,
            "overflow": null,
            "overflow_x": null,
            "overflow_y": null,
            "padding": null,
            "right": null,
            "top": null,
            "visibility": null,
            "width": null
          }
        },
        "29e67f34ab9442f690933fc20f552865": {
          "model_module": "@jupyter-widgets/controls",
          "model_name": "DescriptionStyleModel",
          "model_module_version": "1.5.0",
          "state": {
            "_model_module": "@jupyter-widgets/controls",
            "_model_module_version": "1.5.0",
            "_model_name": "DescriptionStyleModel",
            "_view_count": null,
            "_view_module": "@jupyter-widgets/base",
            "_view_module_version": "1.2.0",
            "_view_name": "StyleView",
            "description_width": ""
          }
        },
        "02a2049137174731af1ccf462c6884bc": {
          "model_module": "@jupyter-widgets/controls",
          "model_name": "CheckboxModel",
          "model_module_version": "1.5.0",
          "state": {
            "_dom_classes": [],
            "_model_module": "@jupyter-widgets/controls",
            "_model_module_version": "1.5.0",
            "_model_name": "CheckboxModel",
            "_view_count": null,
            "_view_module": "@jupyter-widgets/controls",
            "_view_module_version": "1.5.0",
            "_view_name": "CheckboxView",
            "description": "is_student",
            "description_tooltip": null,
            "disabled": false,
            "indent": true,
            "layout": "IPY_MODEL_b4b996674c7c4f4bbb970c1509e73d2f",
            "style": "IPY_MODEL_b04c56dc9a3a443b8f39f96bd5d957c7",
            "value": false
          }
        },
        "b4b996674c7c4f4bbb970c1509e73d2f": {
          "model_module": "@jupyter-widgets/base",
          "model_name": "LayoutModel",
          "model_module_version": "1.2.0",
          "state": {
            "_model_module": "@jupyter-widgets/base",
            "_model_module_version": "1.2.0",
            "_model_name": "LayoutModel",
            "_view_count": null,
            "_view_module": "@jupyter-widgets/base",
            "_view_module_version": "1.2.0",
            "_view_name": "LayoutView",
            "align_content": null,
            "align_items": null,
            "align_self": null,
            "border": null,
            "bottom": null,
            "display": null,
            "flex": null,
            "flex_flow": null,
            "grid_area": null,
            "grid_auto_columns": null,
            "grid_auto_flow": null,
            "grid_auto_rows": null,
            "grid_column": null,
            "grid_gap": null,
            "grid_row": null,
            "grid_template_areas": null,
            "grid_template_columns": null,
            "grid_template_rows": null,
            "height": null,
            "justify_content": null,
            "justify_items": null,
            "left": null,
            "margin": null,
            "max_height": null,
            "max_width": null,
            "min_height": null,
            "min_width": null,
            "object_fit": null,
            "object_position": null,
            "order": null,
            "overflow": null,
            "overflow_x": null,
            "overflow_y": null,
            "padding": null,
            "right": null,
            "top": null,
            "visibility": null,
            "width": null
          }
        },
        "b04c56dc9a3a443b8f39f96bd5d957c7": {
          "model_module": "@jupyter-widgets/controls",
          "model_name": "DescriptionStyleModel",
          "model_module_version": "1.5.0",
          "state": {
            "_model_module": "@jupyter-widgets/controls",
            "_model_module_version": "1.5.0",
            "_model_name": "DescriptionStyleModel",
            "_view_count": null,
            "_view_module": "@jupyter-widgets/base",
            "_view_module_version": "1.2.0",
            "_view_name": "StyleView",
            "description_width": ""
          }
        },
        "b8e02e55a3454e7d9d89f64c5222d85d": {
          "model_module": "@jupyter-widgets/controls",
          "model_name": "ButtonModel",
          "model_module_version": "1.5.0",
          "state": {
            "_dom_classes": [],
            "_model_module": "@jupyter-widgets/controls",
            "_model_module_version": "1.5.0",
            "_model_name": "ButtonModel",
            "_view_count": null,
            "_view_module": "@jupyter-widgets/controls",
            "_view_module_version": "1.5.0",
            "_view_name": "ButtonView",
            "button_style": "",
            "description": "Submit",
            "disabled": false,
            "icon": "",
            "layout": "IPY_MODEL_a709cefb7779418e97544a07bb045e98",
            "style": "IPY_MODEL_dafc0fe78ddb4b458fea9f5cf0512509",
            "tooltip": ""
          }
        },
        "a709cefb7779418e97544a07bb045e98": {
          "model_module": "@jupyter-widgets/base",
          "model_name": "LayoutModel",
          "model_module_version": "1.2.0",
          "state": {
            "_model_module": "@jupyter-widgets/base",
            "_model_module_version": "1.2.0",
            "_model_name": "LayoutModel",
            "_view_count": null,
            "_view_module": "@jupyter-widgets/base",
            "_view_module_version": "1.2.0",
            "_view_name": "LayoutView",
            "align_content": null,
            "align_items": null,
            "align_self": null,
            "border": null,
            "bottom": null,
            "display": null,
            "flex": null,
            "flex_flow": null,
            "grid_area": null,
            "grid_auto_columns": null,
            "grid_auto_flow": null,
            "grid_auto_rows": null,
            "grid_column": null,
            "grid_gap": null,
            "grid_row": null,
            "grid_template_areas": null,
            "grid_template_columns": null,
            "grid_template_rows": null,
            "height": null,
            "justify_content": null,
            "justify_items": null,
            "left": null,
            "margin": null,
            "max_height": null,
            "max_width": null,
            "min_height": null,
            "min_width": null,
            "object_fit": null,
            "object_position": null,
            "order": null,
            "overflow": null,
            "overflow_x": null,
            "overflow_y": null,
            "padding": null,
            "right": null,
            "top": null,
            "visibility": null,
            "width": null
          }
        },
        "dafc0fe78ddb4b458fea9f5cf0512509": {
          "model_module": "@jupyter-widgets/controls",
          "model_name": "ButtonStyleModel",
          "model_module_version": "1.5.0",
          "state": {
            "_model_module": "@jupyter-widgets/controls",
            "_model_module_version": "1.5.0",
            "_model_name": "ButtonStyleModel",
            "_view_count": null,
            "_view_module": "@jupyter-widgets/base",
            "_view_module_version": "1.2.0",
            "_view_name": "StyleView",
            "button_color": null,
            "font_weight": ""
          }
        },
        "85a32bb0e4154c33909cd2de61a2eb2f": {
          "model_module": "@jupyter-widgets/controls",
          "model_name": "DropdownModel",
          "model_module_version": "1.5.0",
          "state": {
            "_dom_classes": [],
            "_model_module": "@jupyter-widgets/controls",
            "_model_module_version": "1.5.0",
            "_model_name": "DropdownModel",
            "_options_labels": [
              "1to2grams-filtered-table",
              "1to2grams-unfiltered-table",
              "topics-table"
            ],
            "_view_count": null,
            "_view_module": "@jupyter-widgets/controls",
            "_view_module_version": "1.5.0",
            "_view_name": "DropdownView",
            "description": "Feature Table:",
            "description_tooltip": null,
            "disabled": false,
            "index": 0,
            "layout": "IPY_MODEL_39afcd61e43e4397b3e5ae7a823cfe89",
            "style": "IPY_MODEL_1cf840d635914bf4bfd2488b830e20ba"
          }
        },
        "39afcd61e43e4397b3e5ae7a823cfe89": {
          "model_module": "@jupyter-widgets/base",
          "model_name": "LayoutModel",
          "model_module_version": "1.2.0",
          "state": {
            "_model_module": "@jupyter-widgets/base",
            "_model_module_version": "1.2.0",
            "_model_name": "LayoutModel",
            "_view_count": null,
            "_view_module": "@jupyter-widgets/base",
            "_view_module_version": "1.2.0",
            "_view_name": "LayoutView",
            "align_content": null,
            "align_items": null,
            "align_self": null,
            "border": null,
            "bottom": null,
            "display": null,
            "flex": null,
            "flex_flow": null,
            "grid_area": null,
            "grid_auto_columns": null,
            "grid_auto_flow": null,
            "grid_auto_rows": null,
            "grid_column": null,
            "grid_gap": null,
            "grid_row": null,
            "grid_template_areas": null,
            "grid_template_columns": null,
            "grid_template_rows": null,
            "height": null,
            "justify_content": null,
            "justify_items": null,
            "left": null,
            "margin": null,
            "max_height": null,
            "max_width": null,
            "min_height": null,
            "min_width": null,
            "object_fit": null,
            "object_position": null,
            "order": null,
            "overflow": null,
            "overflow_x": null,
            "overflow_y": null,
            "padding": null,
            "right": null,
            "top": null,
            "visibility": null,
            "width": null
          }
        },
        "1cf840d635914bf4bfd2488b830e20ba": {
          "model_module": "@jupyter-widgets/controls",
          "model_name": "DescriptionStyleModel",
          "model_module_version": "1.5.0",
          "state": {
            "_model_module": "@jupyter-widgets/controls",
            "_model_module_version": "1.5.0",
            "_model_name": "DescriptionStyleModel",
            "_view_count": null,
            "_view_module": "@jupyter-widgets/base",
            "_view_module_version": "1.2.0",
            "_view_name": "StyleView",
            "description_width": ""
          }
        },
        "1e878f4ecac8450f8e3f704713ab9508": {
          "model_module": "@jupyter-widgets/controls",
          "model_name": "DropdownModel",
          "model_module_version": "1.5.0",
          "state": {
            "_dom_classes": [],
            "_model_module": "@jupyter-widgets/controls",
            "_model_module_version": "1.5.0",
            "_model_name": "DropdownModel",
            "_options_labels": [
              "lr",
              "lr1",
              "lr_balanced",
              "lrnone",
              "linear-svc",
              "svc",
              "etc",
              "rfc",
              "pac",
              "gbc",
              "mnb",
              "gnb",
              "bnb",
              "mlp"
            ],
            "_view_count": null,
            "_view_module": "@jupyter-widgets/controls",
            "_view_module_version": "1.5.0",
            "_view_name": "DropdownView",
            "description": "Model:",
            "description_tooltip": null,
            "disabled": false,
            "index": 0,
            "layout": "IPY_MODEL_0e7894a8da2e46adb709f0e160fefe41",
            "style": "IPY_MODEL_be6d73d5f7f84192b997a94122a0459c"
          }
        },
        "0e7894a8da2e46adb709f0e160fefe41": {
          "model_module": "@jupyter-widgets/base",
          "model_name": "LayoutModel",
          "model_module_version": "1.2.0",
          "state": {
            "_model_module": "@jupyter-widgets/base",
            "_model_module_version": "1.2.0",
            "_model_name": "LayoutModel",
            "_view_count": null,
            "_view_module": "@jupyter-widgets/base",
            "_view_module_version": "1.2.0",
            "_view_name": "LayoutView",
            "align_content": null,
            "align_items": null,
            "align_self": null,
            "border": null,
            "bottom": null,
            "display": null,
            "flex": null,
            "flex_flow": null,
            "grid_area": null,
            "grid_auto_columns": null,
            "grid_auto_flow": null,
            "grid_auto_rows": null,
            "grid_column": null,
            "grid_gap": null,
            "grid_row": null,
            "grid_template_areas": null,
            "grid_template_columns": null,
            "grid_template_rows": null,
            "height": null,
            "justify_content": null,
            "justify_items": null,
            "left": null,
            "margin": null,
            "max_height": null,
            "max_width": null,
            "min_height": null,
            "min_width": null,
            "object_fit": null,
            "object_position": null,
            "order": null,
            "overflow": null,
            "overflow_x": null,
            "overflow_y": null,
            "padding": null,
            "right": null,
            "top": null,
            "visibility": null,
            "width": null
          }
        },
        "be6d73d5f7f84192b997a94122a0459c": {
          "model_module": "@jupyter-widgets/controls",
          "model_name": "DescriptionStyleModel",
          "model_module_version": "1.5.0",
          "state": {
            "_model_module": "@jupyter-widgets/controls",
            "_model_module_version": "1.5.0",
            "_model_name": "DescriptionStyleModel",
            "_view_count": null,
            "_view_module": "@jupyter-widgets/base",
            "_view_module_version": "1.2.0",
            "_view_name": "StyleView",
            "description_width": ""
          }
        },
        "37105189ff7d4f078230ffc1646f69db": {
          "model_module": "@jupyter-widgets/controls",
          "model_name": "LabelModel",
          "model_module_version": "1.5.0",
          "state": {
            "_dom_classes": [],
            "_model_module": "@jupyter-widgets/controls",
            "_model_module_version": "1.5.0",
            "_model_name": "LabelModel",
            "_view_count": null,
            "_view_module": "@jupyter-widgets/controls",
            "_view_module_version": "1.5.0",
            "_view_name": "LabelView",
            "description": "",
            "description_tooltip": null,
            "layout": "IPY_MODEL_1ee11733e9254d619dc91308dd71e24a",
            "placeholder": "​",
            "style": "IPY_MODEL_c78922831c034d75ac57226e904f5952",
            "value": "Outcomes:"
          }
        },
        "1ee11733e9254d619dc91308dd71e24a": {
          "model_module": "@jupyter-widgets/base",
          "model_name": "LayoutModel",
          "model_module_version": "1.2.0",
          "state": {
            "_model_module": "@jupyter-widgets/base",
            "_model_module_version": "1.2.0",
            "_model_name": "LayoutModel",
            "_view_count": null,
            "_view_module": "@jupyter-widgets/base",
            "_view_module_version": "1.2.0",
            "_view_name": "LayoutView",
            "align_content": null,
            "align_items": null,
            "align_self": null,
            "border": null,
            "bottom": null,
            "display": null,
            "flex": null,
            "flex_flow": null,
            "grid_area": null,
            "grid_auto_columns": null,
            "grid_auto_flow": null,
            "grid_auto_rows": null,
            "grid_column": null,
            "grid_gap": null,
            "grid_row": null,
            "grid_template_areas": null,
            "grid_template_columns": null,
            "grid_template_rows": null,
            "height": null,
            "justify_content": null,
            "justify_items": null,
            "left": null,
            "margin": null,
            "max_height": null,
            "max_width": null,
            "min_height": null,
            "min_width": null,
            "object_fit": null,
            "object_position": null,
            "order": null,
            "overflow": null,
            "overflow_x": null,
            "overflow_y": null,
            "padding": null,
            "right": null,
            "top": null,
            "visibility": null,
            "width": null
          }
        },
        "c78922831c034d75ac57226e904f5952": {
          "model_module": "@jupyter-widgets/controls",
          "model_name": "DescriptionStyleModel",
          "model_module_version": "1.5.0",
          "state": {
            "_model_module": "@jupyter-widgets/controls",
            "_model_module_version": "1.5.0",
            "_model_name": "DescriptionStyleModel",
            "_view_count": null,
            "_view_module": "@jupyter-widgets/base",
            "_view_module_version": "1.2.0",
            "_view_name": "StyleView",
            "description_width": ""
          }
        },
        "4a2d2f6a9bb1495387b19441b934ab07": {
          "model_module": "@jupyter-widgets/controls",
          "model_name": "HBoxModel",
          "model_module_version": "1.5.0",
          "state": {
            "_dom_classes": [],
            "_model_module": "@jupyter-widgets/controls",
            "_model_module_version": "1.5.0",
            "_model_name": "HBoxModel",
            "_view_count": null,
            "_view_module": "@jupyter-widgets/controls",
            "_view_module_version": "1.5.0",
            "_view_name": "HBoxView",
            "box_style": "",
            "children": [
              "IPY_MODEL_7df88905045f480cb9a93fb6ce7a2dd2",
              "IPY_MODEL_a3fef69dfff8420981ce3dd28fde85d4"
            ],
            "layout": "IPY_MODEL_f0787208484f4e929c62be9700789aba"
          }
        },
        "7df88905045f480cb9a93fb6ce7a2dd2": {
          "model_module": "@jupyter-widgets/controls",
          "model_name": "CheckboxModel",
          "model_module_version": "1.5.0",
          "state": {
            "_dom_classes": [],
            "_model_module": "@jupyter-widgets/controls",
            "_model_module_version": "1.5.0",
            "_model_name": "CheckboxModel",
            "_view_count": null,
            "_view_module": "@jupyter-widgets/controls",
            "_view_module_version": "1.5.0",
            "_view_name": "CheckboxView",
            "description": "gender",
            "description_tooltip": null,
            "disabled": false,
            "indent": true,
            "layout": "IPY_MODEL_9f2b459e9c9a4954959a0d32b786cf0a",
            "style": "IPY_MODEL_7aadaaa00d0843a5bee5a38d33c1e156",
            "value": false
          }
        },
        "a3fef69dfff8420981ce3dd28fde85d4": {
          "model_module": "@jupyter-widgets/controls",
          "model_name": "RadioButtonsModel",
          "model_module_version": "1.5.0",
          "state": {
            "_dom_classes": [],
            "_model_module": "@jupyter-widgets/controls",
            "_model_module_version": "1.5.0",
            "_model_name": "RadioButtonsModel",
            "_options_labels": [
              "No",
              "Yes"
            ],
            "_view_count": null,
            "_view_module": "@jupyter-widgets/controls",
            "_view_module_version": "1.5.0",
            "_view_name": "RadioButtonsView",
            "description": "Is this variable Categorical?",
            "description_tooltip": null,
            "disabled": false,
            "index": 0,
            "layout": "IPY_MODEL_e22a0ab49d5749a283bbfd71817ed9af",
            "style": "IPY_MODEL_3fba40db79c8471fb521c13f471460bf"
          }
        },
        "f0787208484f4e929c62be9700789aba": {
          "model_module": "@jupyter-widgets/base",
          "model_name": "LayoutModel",
          "model_module_version": "1.2.0",
          "state": {
            "_model_module": "@jupyter-widgets/base",
            "_model_module_version": "1.2.0",
            "_model_name": "LayoutModel",
            "_view_count": null,
            "_view_module": "@jupyter-widgets/base",
            "_view_module_version": "1.2.0",
            "_view_name": "LayoutView",
            "align_content": null,
            "align_items": null,
            "align_self": null,
            "border": null,
            "bottom": null,
            "display": null,
            "flex": null,
            "flex_flow": null,
            "grid_area": null,
            "grid_auto_columns": null,
            "grid_auto_flow": null,
            "grid_auto_rows": null,
            "grid_column": null,
            "grid_gap": null,
            "grid_row": null,
            "grid_template_areas": null,
            "grid_template_columns": null,
            "grid_template_rows": null,
            "height": null,
            "justify_content": null,
            "justify_items": null,
            "left": null,
            "margin": null,
            "max_height": null,
            "max_width": null,
            "min_height": null,
            "min_width": null,
            "object_fit": null,
            "object_position": null,
            "order": null,
            "overflow": null,
            "overflow_x": null,
            "overflow_y": null,
            "padding": null,
            "right": null,
            "top": null,
            "visibility": null,
            "width": null
          }
        },
        "9f2b459e9c9a4954959a0d32b786cf0a": {
          "model_module": "@jupyter-widgets/base",
          "model_name": "LayoutModel",
          "model_module_version": "1.2.0",
          "state": {
            "_model_module": "@jupyter-widgets/base",
            "_model_module_version": "1.2.0",
            "_model_name": "LayoutModel",
            "_view_count": null,
            "_view_module": "@jupyter-widgets/base",
            "_view_module_version": "1.2.0",
            "_view_name": "LayoutView",
            "align_content": null,
            "align_items": null,
            "align_self": null,
            "border": null,
            "bottom": null,
            "display": null,
            "flex": null,
            "flex_flow": null,
            "grid_area": null,
            "grid_auto_columns": null,
            "grid_auto_flow": null,
            "grid_auto_rows": null,
            "grid_column": null,
            "grid_gap": null,
            "grid_row": null,
            "grid_template_areas": null,
            "grid_template_columns": null,
            "grid_template_rows": null,
            "height": null,
            "justify_content": null,
            "justify_items": null,
            "left": null,
            "margin": null,
            "max_height": null,
            "max_width": null,
            "min_height": null,
            "min_width": null,
            "object_fit": null,
            "object_position": null,
            "order": null,
            "overflow": null,
            "overflow_x": null,
            "overflow_y": null,
            "padding": null,
            "right": null,
            "top": null,
            "visibility": null,
            "width": null
          }
        },
        "7aadaaa00d0843a5bee5a38d33c1e156": {
          "model_module": "@jupyter-widgets/controls",
          "model_name": "DescriptionStyleModel",
          "model_module_version": "1.5.0",
          "state": {
            "_model_module": "@jupyter-widgets/controls",
            "_model_module_version": "1.5.0",
            "_model_name": "DescriptionStyleModel",
            "_view_count": null,
            "_view_module": "@jupyter-widgets/base",
            "_view_module_version": "1.2.0",
            "_view_name": "StyleView",
            "description_width": ""
          }
        },
        "e22a0ab49d5749a283bbfd71817ed9af": {
          "model_module": "@jupyter-widgets/base",
          "model_name": "LayoutModel",
          "model_module_version": "1.2.0",
          "state": {
            "_model_module": "@jupyter-widgets/base",
            "_model_module_version": "1.2.0",
            "_model_name": "LayoutModel",
            "_view_count": null,
            "_view_module": "@jupyter-widgets/base",
            "_view_module_version": "1.2.0",
            "_view_name": "LayoutView",
            "align_content": null,
            "align_items": null,
            "align_self": null,
            "border": null,
            "bottom": null,
            "display": "none",
            "flex": null,
            "flex_flow": null,
            "grid_area": null,
            "grid_auto_columns": null,
            "grid_auto_flow": null,
            "grid_auto_rows": null,
            "grid_column": null,
            "grid_gap": null,
            "grid_row": null,
            "grid_template_areas": null,
            "grid_template_columns": null,
            "grid_template_rows": null,
            "height": null,
            "justify_content": null,
            "justify_items": null,
            "left": null,
            "margin": null,
            "max_height": null,
            "max_width": null,
            "min_height": null,
            "min_width": null,
            "object_fit": null,
            "object_position": null,
            "order": null,
            "overflow": null,
            "overflow_x": null,
            "overflow_y": null,
            "padding": null,
            "right": null,
            "top": null,
            "visibility": null,
            "width": "max-content"
          }
        },
        "3fba40db79c8471fb521c13f471460bf": {
          "model_module": "@jupyter-widgets/controls",
          "model_name": "DescriptionStyleModel",
          "model_module_version": "1.5.0",
          "state": {
            "_model_module": "@jupyter-widgets/controls",
            "_model_module_version": "1.5.0",
            "_model_name": "DescriptionStyleModel",
            "_view_count": null,
            "_view_module": "@jupyter-widgets/base",
            "_view_module_version": "1.2.0",
            "_view_name": "StyleView",
            "description_width": "initial"
          }
        },
        "d902b25d699f4d0bb1f7d61e97b66619": {
          "model_module": "@jupyter-widgets/controls",
          "model_name": "HBoxModel",
          "model_module_version": "1.5.0",
          "state": {
            "_dom_classes": [],
            "_model_module": "@jupyter-widgets/controls",
            "_model_module_version": "1.5.0",
            "_model_name": "HBoxModel",
            "_view_count": null,
            "_view_module": "@jupyter-widgets/controls",
            "_view_module_version": "1.5.0",
            "_view_name": "HBoxView",
            "box_style": "",
            "children": [
              "IPY_MODEL_fc54c0c83b3442c9aa9b829f3351018c",
              "IPY_MODEL_b09cbf47406341dc97aee84eebd2c3e0"
            ],
            "layout": "IPY_MODEL_dc8405b24a5b44348fa5cf3eb360c763"
          }
        },
        "fc54c0c83b3442c9aa9b829f3351018c": {
          "model_module": "@jupyter-widgets/controls",
          "model_name": "CheckboxModel",
          "model_module_version": "1.5.0",
          "state": {
            "_dom_classes": [],
            "_model_module": "@jupyter-widgets/controls",
            "_model_module_version": "1.5.0",
            "_model_name": "CheckboxModel",
            "_view_count": null,
            "_view_module": "@jupyter-widgets/controls",
            "_view_module_version": "1.5.0",
            "_view_name": "CheckboxView",
            "description": "age",
            "description_tooltip": null,
            "disabled": false,
            "indent": true,
            "layout": "IPY_MODEL_604634cc03c9492ead65115addb3a368",
            "style": "IPY_MODEL_b0e572c000e84de7b82f67d6198da570",
            "value": true
          }
        },
        "b09cbf47406341dc97aee84eebd2c3e0": {
          "model_module": "@jupyter-widgets/controls",
          "model_name": "RadioButtonsModel",
          "model_module_version": "1.5.0",
          "state": {
            "_dom_classes": [],
            "_model_module": "@jupyter-widgets/controls",
            "_model_module_version": "1.5.0",
            "_model_name": "RadioButtonsModel",
            "_options_labels": [
              "No",
              "Yes"
            ],
            "_view_count": null,
            "_view_module": "@jupyter-widgets/controls",
            "_view_module_version": "1.5.0",
            "_view_name": "RadioButtonsView",
            "description": "Is this variable Categorical?",
            "description_tooltip": null,
            "disabled": false,
            "index": 0,
            "layout": "IPY_MODEL_9536169e00524e6e844a8a683d990986",
            "style": "IPY_MODEL_f118187cedef455c90bab9dbe83c10f8"
          }
        },
        "dc8405b24a5b44348fa5cf3eb360c763": {
          "model_module": "@jupyter-widgets/base",
          "model_name": "LayoutModel",
          "model_module_version": "1.2.0",
          "state": {
            "_model_module": "@jupyter-widgets/base",
            "_model_module_version": "1.2.0",
            "_model_name": "LayoutModel",
            "_view_count": null,
            "_view_module": "@jupyter-widgets/base",
            "_view_module_version": "1.2.0",
            "_view_name": "LayoutView",
            "align_content": null,
            "align_items": null,
            "align_self": null,
            "border": null,
            "bottom": null,
            "display": null,
            "flex": null,
            "flex_flow": null,
            "grid_area": null,
            "grid_auto_columns": null,
            "grid_auto_flow": null,
            "grid_auto_rows": null,
            "grid_column": null,
            "grid_gap": null,
            "grid_row": null,
            "grid_template_areas": null,
            "grid_template_columns": null,
            "grid_template_rows": null,
            "height": null,
            "justify_content": null,
            "justify_items": null,
            "left": null,
            "margin": null,
            "max_height": null,
            "max_width": null,
            "min_height": null,
            "min_width": null,
            "object_fit": null,
            "object_position": null,
            "order": null,
            "overflow": null,
            "overflow_x": null,
            "overflow_y": null,
            "padding": null,
            "right": null,
            "top": null,
            "visibility": null,
            "width": null
          }
        },
        "604634cc03c9492ead65115addb3a368": {
          "model_module": "@jupyter-widgets/base",
          "model_name": "LayoutModel",
          "model_module_version": "1.2.0",
          "state": {
            "_model_module": "@jupyter-widgets/base",
            "_model_module_version": "1.2.0",
            "_model_name": "LayoutModel",
            "_view_count": null,
            "_view_module": "@jupyter-widgets/base",
            "_view_module_version": "1.2.0",
            "_view_name": "LayoutView",
            "align_content": null,
            "align_items": null,
            "align_self": null,
            "border": null,
            "bottom": null,
            "display": null,
            "flex": null,
            "flex_flow": null,
            "grid_area": null,
            "grid_auto_columns": null,
            "grid_auto_flow": null,
            "grid_auto_rows": null,
            "grid_column": null,
            "grid_gap": null,
            "grid_row": null,
            "grid_template_areas": null,
            "grid_template_columns": null,
            "grid_template_rows": null,
            "height": null,
            "justify_content": null,
            "justify_items": null,
            "left": null,
            "margin": null,
            "max_height": null,
            "max_width": null,
            "min_height": null,
            "min_width": null,
            "object_fit": null,
            "object_position": null,
            "order": null,
            "overflow": null,
            "overflow_x": null,
            "overflow_y": null,
            "padding": null,
            "right": null,
            "top": null,
            "visibility": null,
            "width": null
          }
        },
        "b0e572c000e84de7b82f67d6198da570": {
          "model_module": "@jupyter-widgets/controls",
          "model_name": "DescriptionStyleModel",
          "model_module_version": "1.5.0",
          "state": {
            "_model_module": "@jupyter-widgets/controls",
            "_model_module_version": "1.5.0",
            "_model_name": "DescriptionStyleModel",
            "_view_count": null,
            "_view_module": "@jupyter-widgets/base",
            "_view_module_version": "1.2.0",
            "_view_name": "StyleView",
            "description_width": ""
          }
        },
        "9536169e00524e6e844a8a683d990986": {
          "model_module": "@jupyter-widgets/base",
          "model_name": "LayoutModel",
          "model_module_version": "1.2.0",
          "state": {
            "_model_module": "@jupyter-widgets/base",
            "_model_module_version": "1.2.0",
            "_model_name": "LayoutModel",
            "_view_count": null,
            "_view_module": "@jupyter-widgets/base",
            "_view_module_version": "1.2.0",
            "_view_name": "LayoutView",
            "align_content": null,
            "align_items": null,
            "align_self": null,
            "border": null,
            "bottom": null,
            "display": "flex",
            "flex": null,
            "flex_flow": null,
            "grid_area": null,
            "grid_auto_columns": null,
            "grid_auto_flow": null,
            "grid_auto_rows": null,
            "grid_column": null,
            "grid_gap": null,
            "grid_row": null,
            "grid_template_areas": null,
            "grid_template_columns": null,
            "grid_template_rows": null,
            "height": null,
            "justify_content": null,
            "justify_items": null,
            "left": null,
            "margin": null,
            "max_height": null,
            "max_width": null,
            "min_height": null,
            "min_width": null,
            "object_fit": null,
            "object_position": null,
            "order": null,
            "overflow": null,
            "overflow_x": null,
            "overflow_y": null,
            "padding": null,
            "right": null,
            "top": null,
            "visibility": null,
            "width": "max-content"
          }
        },
        "f118187cedef455c90bab9dbe83c10f8": {
          "model_module": "@jupyter-widgets/controls",
          "model_name": "DescriptionStyleModel",
          "model_module_version": "1.5.0",
          "state": {
            "_model_module": "@jupyter-widgets/controls",
            "_model_module_version": "1.5.0",
            "_model_name": "DescriptionStyleModel",
            "_view_count": null,
            "_view_module": "@jupyter-widgets/base",
            "_view_module_version": "1.2.0",
            "_view_name": "StyleView",
            "description_width": "initial"
          }
        },
        "b67874c8fcc1462a82fad640ae92f3f6": {
          "model_module": "@jupyter-widgets/controls",
          "model_name": "HBoxModel",
          "model_module_version": "1.5.0",
          "state": {
            "_dom_classes": [],
            "_model_module": "@jupyter-widgets/controls",
            "_model_module_version": "1.5.0",
            "_model_name": "HBoxModel",
            "_view_count": null,
            "_view_module": "@jupyter-widgets/controls",
            "_view_module_version": "1.5.0",
            "_view_name": "HBoxView",
            "box_style": "",
            "children": [
              "IPY_MODEL_cc21c5db46cf4d758617f313e86c8fad",
              "IPY_MODEL_b723b5b4aef345bba4130317f2b4ebfd"
            ],
            "layout": "IPY_MODEL_07a875b1ba5041d795ae931066dc3603"
          }
        },
        "cc21c5db46cf4d758617f313e86c8fad": {
          "model_module": "@jupyter-widgets/controls",
          "model_name": "CheckboxModel",
          "model_module_version": "1.5.0",
          "state": {
            "_dom_classes": [],
            "_model_module": "@jupyter-widgets/controls",
            "_model_module_version": "1.5.0",
            "_model_name": "CheckboxModel",
            "_view_count": null,
            "_view_module": "@jupyter-widgets/controls",
            "_view_module_version": "1.5.0",
            "_view_name": "CheckboxView",
            "description": "occu",
            "description_tooltip": null,
            "disabled": false,
            "indent": true,
            "layout": "IPY_MODEL_acad24e5d4374cd7bf6487c2b493ef5d",
            "style": "IPY_MODEL_cb1cc9dc0aca442b9a78b773af2c5c39",
            "value": false
          }
        },
        "b723b5b4aef345bba4130317f2b4ebfd": {
          "model_module": "@jupyter-widgets/controls",
          "model_name": "RadioButtonsModel",
          "model_module_version": "1.5.0",
          "state": {
            "_dom_classes": [],
            "_model_module": "@jupyter-widgets/controls",
            "_model_module_version": "1.5.0",
            "_model_name": "RadioButtonsModel",
            "_options_labels": [
              "No",
              "Yes"
            ],
            "_view_count": null,
            "_view_module": "@jupyter-widgets/controls",
            "_view_module_version": "1.5.0",
            "_view_name": "RadioButtonsView",
            "description": "Is this variable Categorical?",
            "description_tooltip": null,
            "disabled": false,
            "index": 0,
            "layout": "IPY_MODEL_6794e3cfc64347ea82e48eeb5d0d5a03",
            "style": "IPY_MODEL_8adaa4aea50249af9d6bd1a35a8587cd"
          }
        },
        "07a875b1ba5041d795ae931066dc3603": {
          "model_module": "@jupyter-widgets/base",
          "model_name": "LayoutModel",
          "model_module_version": "1.2.0",
          "state": {
            "_model_module": "@jupyter-widgets/base",
            "_model_module_version": "1.2.0",
            "_model_name": "LayoutModel",
            "_view_count": null,
            "_view_module": "@jupyter-widgets/base",
            "_view_module_version": "1.2.0",
            "_view_name": "LayoutView",
            "align_content": null,
            "align_items": null,
            "align_self": null,
            "border": null,
            "bottom": null,
            "display": null,
            "flex": null,
            "flex_flow": null,
            "grid_area": null,
            "grid_auto_columns": null,
            "grid_auto_flow": null,
            "grid_auto_rows": null,
            "grid_column": null,
            "grid_gap": null,
            "grid_row": null,
            "grid_template_areas": null,
            "grid_template_columns": null,
            "grid_template_rows": null,
            "height": null,
            "justify_content": null,
            "justify_items": null,
            "left": null,
            "margin": null,
            "max_height": null,
            "max_width": null,
            "min_height": null,
            "min_width": null,
            "object_fit": null,
            "object_position": null,
            "order": null,
            "overflow": null,
            "overflow_x": null,
            "overflow_y": null,
            "padding": null,
            "right": null,
            "top": null,
            "visibility": null,
            "width": null
          }
        },
        "acad24e5d4374cd7bf6487c2b493ef5d": {
          "model_module": "@jupyter-widgets/base",
          "model_name": "LayoutModel",
          "model_module_version": "1.2.0",
          "state": {
            "_model_module": "@jupyter-widgets/base",
            "_model_module_version": "1.2.0",
            "_model_name": "LayoutModel",
            "_view_count": null,
            "_view_module": "@jupyter-widgets/base",
            "_view_module_version": "1.2.0",
            "_view_name": "LayoutView",
            "align_content": null,
            "align_items": null,
            "align_self": null,
            "border": null,
            "bottom": null,
            "display": null,
            "flex": null,
            "flex_flow": null,
            "grid_area": null,
            "grid_auto_columns": null,
            "grid_auto_flow": null,
            "grid_auto_rows": null,
            "grid_column": null,
            "grid_gap": null,
            "grid_row": null,
            "grid_template_areas": null,
            "grid_template_columns": null,
            "grid_template_rows": null,
            "height": null,
            "justify_content": null,
            "justify_items": null,
            "left": null,
            "margin": null,
            "max_height": null,
            "max_width": null,
            "min_height": null,
            "min_width": null,
            "object_fit": null,
            "object_position": null,
            "order": null,
            "overflow": null,
            "overflow_x": null,
            "overflow_y": null,
            "padding": null,
            "right": null,
            "top": null,
            "visibility": null,
            "width": null
          }
        },
        "cb1cc9dc0aca442b9a78b773af2c5c39": {
          "model_module": "@jupyter-widgets/controls",
          "model_name": "DescriptionStyleModel",
          "model_module_version": "1.5.0",
          "state": {
            "_model_module": "@jupyter-widgets/controls",
            "_model_module_version": "1.5.0",
            "_model_name": "DescriptionStyleModel",
            "_view_count": null,
            "_view_module": "@jupyter-widgets/base",
            "_view_module_version": "1.2.0",
            "_view_name": "StyleView",
            "description_width": ""
          }
        },
        "6794e3cfc64347ea82e48eeb5d0d5a03": {
          "model_module": "@jupyter-widgets/base",
          "model_name": "LayoutModel",
          "model_module_version": "1.2.0",
          "state": {
            "_model_module": "@jupyter-widgets/base",
            "_model_module_version": "1.2.0",
            "_model_name": "LayoutModel",
            "_view_count": null,
            "_view_module": "@jupyter-widgets/base",
            "_view_module_version": "1.2.0",
            "_view_name": "LayoutView",
            "align_content": null,
            "align_items": null,
            "align_self": null,
            "border": null,
            "bottom": null,
            "display": "none",
            "flex": null,
            "flex_flow": null,
            "grid_area": null,
            "grid_auto_columns": null,
            "grid_auto_flow": null,
            "grid_auto_rows": null,
            "grid_column": null,
            "grid_gap": null,
            "grid_row": null,
            "grid_template_areas": null,
            "grid_template_columns": null,
            "grid_template_rows": null,
            "height": null,
            "justify_content": null,
            "justify_items": null,
            "left": null,
            "margin": null,
            "max_height": null,
            "max_width": null,
            "min_height": null,
            "min_width": null,
            "object_fit": null,
            "object_position": null,
            "order": null,
            "overflow": null,
            "overflow_x": null,
            "overflow_y": null,
            "padding": null,
            "right": null,
            "top": null,
            "visibility": null,
            "width": "max-content"
          }
        },
        "8adaa4aea50249af9d6bd1a35a8587cd": {
          "model_module": "@jupyter-widgets/controls",
          "model_name": "DescriptionStyleModel",
          "model_module_version": "1.5.0",
          "state": {
            "_model_module": "@jupyter-widgets/controls",
            "_model_module_version": "1.5.0",
            "_model_name": "DescriptionStyleModel",
            "_view_count": null,
            "_view_module": "@jupyter-widgets/base",
            "_view_module_version": "1.2.0",
            "_view_name": "StyleView",
            "description_width": "initial"
          }
        },
        "4be2cf60fd5143ac8ee1024a4335e1db": {
          "model_module": "@jupyter-widgets/controls",
          "model_name": "HBoxModel",
          "model_module_version": "1.5.0",
          "state": {
            "_dom_classes": [],
            "_model_module": "@jupyter-widgets/controls",
            "_model_module_version": "1.5.0",
            "_model_name": "HBoxModel",
            "_view_count": null,
            "_view_module": "@jupyter-widgets/controls",
            "_view_module_version": "1.5.0",
            "_view_name": "HBoxView",
            "box_style": "",
            "children": [
              "IPY_MODEL_dbfdadf4a17940f682f5fcee315ae1b0",
              "IPY_MODEL_5da0e32c08b745dbabb592870b904b2f"
            ],
            "layout": "IPY_MODEL_fe17a73e7f3c43e2b0aa98353c5a7d77"
          }
        },
        "dbfdadf4a17940f682f5fcee315ae1b0": {
          "model_module": "@jupyter-widgets/controls",
          "model_name": "CheckboxModel",
          "model_module_version": "1.5.0",
          "state": {
            "_dom_classes": [],
            "_model_module": "@jupyter-widgets/controls",
            "_model_module_version": "1.5.0",
            "_model_name": "CheckboxModel",
            "_view_count": null,
            "_view_module": "@jupyter-widgets/controls",
            "_view_module_version": "1.5.0",
            "_view_name": "CheckboxView",
            "description": "is_student",
            "description_tooltip": null,
            "disabled": false,
            "indent": true,
            "layout": "IPY_MODEL_aee8fd8bcdc24c418e01864eb44ea862",
            "style": "IPY_MODEL_541a5069b0b74c39803510847ade42c3",
            "value": false
          }
        },
        "5da0e32c08b745dbabb592870b904b2f": {
          "model_module": "@jupyter-widgets/controls",
          "model_name": "RadioButtonsModel",
          "model_module_version": "1.5.0",
          "state": {
            "_dom_classes": [],
            "_model_module": "@jupyter-widgets/controls",
            "_model_module_version": "1.5.0",
            "_model_name": "RadioButtonsModel",
            "_options_labels": [
              "No",
              "Yes"
            ],
            "_view_count": null,
            "_view_module": "@jupyter-widgets/controls",
            "_view_module_version": "1.5.0",
            "_view_name": "RadioButtonsView",
            "description": "Is this variable Categorical?",
            "description_tooltip": null,
            "disabled": false,
            "index": 0,
            "layout": "IPY_MODEL_78a19ea6638f47d886671125b73d563c",
            "style": "IPY_MODEL_55b7797c6e424c1ca09c4fac532a0ecf"
          }
        },
        "fe17a73e7f3c43e2b0aa98353c5a7d77": {
          "model_module": "@jupyter-widgets/base",
          "model_name": "LayoutModel",
          "model_module_version": "1.2.0",
          "state": {
            "_model_module": "@jupyter-widgets/base",
            "_model_module_version": "1.2.0",
            "_model_name": "LayoutModel",
            "_view_count": null,
            "_view_module": "@jupyter-widgets/base",
            "_view_module_version": "1.2.0",
            "_view_name": "LayoutView",
            "align_content": null,
            "align_items": null,
            "align_self": null,
            "border": null,
            "bottom": null,
            "display": null,
            "flex": null,
            "flex_flow": null,
            "grid_area": null,
            "grid_auto_columns": null,
            "grid_auto_flow": null,
            "grid_auto_rows": null,
            "grid_column": null,
            "grid_gap": null,
            "grid_row": null,
            "grid_template_areas": null,
            "grid_template_columns": null,
            "grid_template_rows": null,
            "height": null,
            "justify_content": null,
            "justify_items": null,
            "left": null,
            "margin": null,
            "max_height": null,
            "max_width": null,
            "min_height": null,
            "min_width": null,
            "object_fit": null,
            "object_position": null,
            "order": null,
            "overflow": null,
            "overflow_x": null,
            "overflow_y": null,
            "padding": null,
            "right": null,
            "top": null,
            "visibility": null,
            "width": null
          }
        },
        "aee8fd8bcdc24c418e01864eb44ea862": {
          "model_module": "@jupyter-widgets/base",
          "model_name": "LayoutModel",
          "model_module_version": "1.2.0",
          "state": {
            "_model_module": "@jupyter-widgets/base",
            "_model_module_version": "1.2.0",
            "_model_name": "LayoutModel",
            "_view_count": null,
            "_view_module": "@jupyter-widgets/base",
            "_view_module_version": "1.2.0",
            "_view_name": "LayoutView",
            "align_content": null,
            "align_items": null,
            "align_self": null,
            "border": null,
            "bottom": null,
            "display": null,
            "flex": null,
            "flex_flow": null,
            "grid_area": null,
            "grid_auto_columns": null,
            "grid_auto_flow": null,
            "grid_auto_rows": null,
            "grid_column": null,
            "grid_gap": null,
            "grid_row": null,
            "grid_template_areas": null,
            "grid_template_columns": null,
            "grid_template_rows": null,
            "height": null,
            "justify_content": null,
            "justify_items": null,
            "left": null,
            "margin": null,
            "max_height": null,
            "max_width": null,
            "min_height": null,
            "min_width": null,
            "object_fit": null,
            "object_position": null,
            "order": null,
            "overflow": null,
            "overflow_x": null,
            "overflow_y": null,
            "padding": null,
            "right": null,
            "top": null,
            "visibility": null,
            "width": null
          }
        },
        "541a5069b0b74c39803510847ade42c3": {
          "model_module": "@jupyter-widgets/controls",
          "model_name": "DescriptionStyleModel",
          "model_module_version": "1.5.0",
          "state": {
            "_model_module": "@jupyter-widgets/controls",
            "_model_module_version": "1.5.0",
            "_model_name": "DescriptionStyleModel",
            "_view_count": null,
            "_view_module": "@jupyter-widgets/base",
            "_view_module_version": "1.2.0",
            "_view_name": "StyleView",
            "description_width": ""
          }
        },
        "78a19ea6638f47d886671125b73d563c": {
          "model_module": "@jupyter-widgets/base",
          "model_name": "LayoutModel",
          "model_module_version": "1.2.0",
          "state": {
            "_model_module": "@jupyter-widgets/base",
            "_model_module_version": "1.2.0",
            "_model_name": "LayoutModel",
            "_view_count": null,
            "_view_module": "@jupyter-widgets/base",
            "_view_module_version": "1.2.0",
            "_view_name": "LayoutView",
            "align_content": null,
            "align_items": null,
            "align_self": null,
            "border": null,
            "bottom": null,
            "display": "none",
            "flex": null,
            "flex_flow": null,
            "grid_area": null,
            "grid_auto_columns": null,
            "grid_auto_flow": null,
            "grid_auto_rows": null,
            "grid_column": null,
            "grid_gap": null,
            "grid_row": null,
            "grid_template_areas": null,
            "grid_template_columns": null,
            "grid_template_rows": null,
            "height": null,
            "justify_content": null,
            "justify_items": null,
            "left": null,
            "margin": null,
            "max_height": null,
            "max_width": null,
            "min_height": null,
            "min_width": null,
            "object_fit": null,
            "object_position": null,
            "order": null,
            "overflow": null,
            "overflow_x": null,
            "overflow_y": null,
            "padding": null,
            "right": null,
            "top": null,
            "visibility": null,
            "width": "max-content"
          }
        },
        "55b7797c6e424c1ca09c4fac532a0ecf": {
          "model_module": "@jupyter-widgets/controls",
          "model_name": "DescriptionStyleModel",
          "model_module_version": "1.5.0",
          "state": {
            "_model_module": "@jupyter-widgets/controls",
            "_model_module_version": "1.5.0",
            "_model_name": "DescriptionStyleModel",
            "_view_count": null,
            "_view_module": "@jupyter-widgets/base",
            "_view_module_version": "1.2.0",
            "_view_name": "StyleView",
            "description_width": "initial"
          }
        },
        "1abc45e353fd42b0a3814f737e37fc1f": {
          "model_module": "@jupyter-widgets/controls",
          "model_name": "LabelModel",
          "model_module_version": "1.5.0",
          "state": {
            "_dom_classes": [],
            "_model_module": "@jupyter-widgets/controls",
            "_model_module_version": "1.5.0",
            "_model_name": "LabelModel",
            "_view_count": null,
            "_view_module": "@jupyter-widgets/controls",
            "_view_module_version": "1.5.0",
            "_view_name": "LabelView",
            "description": "",
            "description_tooltip": null,
            "layout": "IPY_MODEL_eb7189d3d49146f984d4436b61102477",
            "placeholder": "​",
            "style": "IPY_MODEL_ce0a102614e244aa8316565bb293467f",
            "value": "Controls:"
          }
        },
        "eb7189d3d49146f984d4436b61102477": {
          "model_module": "@jupyter-widgets/base",
          "model_name": "LayoutModel",
          "model_module_version": "1.2.0",
          "state": {
            "_model_module": "@jupyter-widgets/base",
            "_model_module_version": "1.2.0",
            "_model_name": "LayoutModel",
            "_view_count": null,
            "_view_module": "@jupyter-widgets/base",
            "_view_module_version": "1.2.0",
            "_view_name": "LayoutView",
            "align_content": null,
            "align_items": null,
            "align_self": null,
            "border": null,
            "bottom": null,
            "display": null,
            "flex": null,
            "flex_flow": null,
            "grid_area": null,
            "grid_auto_columns": null,
            "grid_auto_flow": null,
            "grid_auto_rows": null,
            "grid_column": null,
            "grid_gap": null,
            "grid_row": null,
            "grid_template_areas": null,
            "grid_template_columns": null,
            "grid_template_rows": null,
            "height": null,
            "justify_content": null,
            "justify_items": null,
            "left": null,
            "margin": null,
            "max_height": null,
            "max_width": null,
            "min_height": null,
            "min_width": null,
            "object_fit": null,
            "object_position": null,
            "order": null,
            "overflow": null,
            "overflow_x": null,
            "overflow_y": null,
            "padding": null,
            "right": null,
            "top": null,
            "visibility": null,
            "width": null
          }
        },
        "ce0a102614e244aa8316565bb293467f": {
          "model_module": "@jupyter-widgets/controls",
          "model_name": "DescriptionStyleModel",
          "model_module_version": "1.5.0",
          "state": {
            "_model_module": "@jupyter-widgets/controls",
            "_model_module_version": "1.5.0",
            "_model_name": "DescriptionStyleModel",
            "_view_count": null,
            "_view_module": "@jupyter-widgets/base",
            "_view_module_version": "1.2.0",
            "_view_name": "StyleView",
            "description_width": ""
          }
        },
        "22303aaa400f46ec978d865bddd2898e": {
          "model_module": "@jupyter-widgets/controls",
          "model_name": "HBoxModel",
          "model_module_version": "1.5.0",
          "state": {
            "_dom_classes": [],
            "_model_module": "@jupyter-widgets/controls",
            "_model_module_version": "1.5.0",
            "_model_name": "HBoxModel",
            "_view_count": null,
            "_view_module": "@jupyter-widgets/controls",
            "_view_module_version": "1.5.0",
            "_view_name": "HBoxView",
            "box_style": "",
            "children": [
              "IPY_MODEL_bfd45e1b398a4b54a740863253693013",
              "IPY_MODEL_3790145041d14395a305df48182261bd"
            ],
            "layout": "IPY_MODEL_24f8a62eb3e6424eb110951b9de13816"
          }
        },
        "bfd45e1b398a4b54a740863253693013": {
          "model_module": "@jupyter-widgets/controls",
          "model_name": "CheckboxModel",
          "model_module_version": "1.5.0",
          "state": {
            "_dom_classes": [],
            "_model_module": "@jupyter-widgets/controls",
            "_model_module_version": "1.5.0",
            "_model_name": "CheckboxModel",
            "_view_count": null,
            "_view_module": "@jupyter-widgets/controls",
            "_view_module_version": "1.5.0",
            "_view_name": "CheckboxView",
            "description": "gender",
            "description_tooltip": null,
            "disabled": false,
            "indent": true,
            "layout": "IPY_MODEL_073e8b47e4fc456784473db9bd1311ef",
            "style": "IPY_MODEL_e4a10c24d6254047b4dc9b3e4a6931ab",
            "value": false
          }
        },
        "3790145041d14395a305df48182261bd": {
          "model_module": "@jupyter-widgets/controls",
          "model_name": "RadioButtonsModel",
          "model_module_version": "1.5.0",
          "state": {
            "_dom_classes": [],
            "_model_module": "@jupyter-widgets/controls",
            "_model_module_version": "1.5.0",
            "_model_name": "RadioButtonsModel",
            "_options_labels": [
              "No",
              "Yes"
            ],
            "_view_count": null,
            "_view_module": "@jupyter-widgets/controls",
            "_view_module_version": "1.5.0",
            "_view_name": "RadioButtonsView",
            "description": "Is this variable Categorical?",
            "description_tooltip": null,
            "disabled": false,
            "index": 0,
            "layout": "IPY_MODEL_6558c4604bad4a89a691776049c7b788",
            "style": "IPY_MODEL_5761c1830ca746e8b92587a8eb2b4840"
          }
        },
        "24f8a62eb3e6424eb110951b9de13816": {
          "model_module": "@jupyter-widgets/base",
          "model_name": "LayoutModel",
          "model_module_version": "1.2.0",
          "state": {
            "_model_module": "@jupyter-widgets/base",
            "_model_module_version": "1.2.0",
            "_model_name": "LayoutModel",
            "_view_count": null,
            "_view_module": "@jupyter-widgets/base",
            "_view_module_version": "1.2.0",
            "_view_name": "LayoutView",
            "align_content": null,
            "align_items": null,
            "align_self": null,
            "border": null,
            "bottom": null,
            "display": null,
            "flex": null,
            "flex_flow": null,
            "grid_area": null,
            "grid_auto_columns": null,
            "grid_auto_flow": null,
            "grid_auto_rows": null,
            "grid_column": null,
            "grid_gap": null,
            "grid_row": null,
            "grid_template_areas": null,
            "grid_template_columns": null,
            "grid_template_rows": null,
            "height": null,
            "justify_content": null,
            "justify_items": null,
            "left": null,
            "margin": null,
            "max_height": null,
            "max_width": null,
            "min_height": null,
            "min_width": null,
            "object_fit": null,
            "object_position": null,
            "order": null,
            "overflow": null,
            "overflow_x": null,
            "overflow_y": null,
            "padding": null,
            "right": null,
            "top": null,
            "visibility": null,
            "width": null
          }
        },
        "073e8b47e4fc456784473db9bd1311ef": {
          "model_module": "@jupyter-widgets/base",
          "model_name": "LayoutModel",
          "model_module_version": "1.2.0",
          "state": {
            "_model_module": "@jupyter-widgets/base",
            "_model_module_version": "1.2.0",
            "_model_name": "LayoutModel",
            "_view_count": null,
            "_view_module": "@jupyter-widgets/base",
            "_view_module_version": "1.2.0",
            "_view_name": "LayoutView",
            "align_content": null,
            "align_items": null,
            "align_self": null,
            "border": null,
            "bottom": null,
            "display": null,
            "flex": null,
            "flex_flow": null,
            "grid_area": null,
            "grid_auto_columns": null,
            "grid_auto_flow": null,
            "grid_auto_rows": null,
            "grid_column": null,
            "grid_gap": null,
            "grid_row": null,
            "grid_template_areas": null,
            "grid_template_columns": null,
            "grid_template_rows": null,
            "height": null,
            "justify_content": null,
            "justify_items": null,
            "left": null,
            "margin": null,
            "max_height": null,
            "max_width": null,
            "min_height": null,
            "min_width": null,
            "object_fit": null,
            "object_position": null,
            "order": null,
            "overflow": null,
            "overflow_x": null,
            "overflow_y": null,
            "padding": null,
            "right": null,
            "top": null,
            "visibility": null,
            "width": null
          }
        },
        "e4a10c24d6254047b4dc9b3e4a6931ab": {
          "model_module": "@jupyter-widgets/controls",
          "model_name": "DescriptionStyleModel",
          "model_module_version": "1.5.0",
          "state": {
            "_model_module": "@jupyter-widgets/controls",
            "_model_module_version": "1.5.0",
            "_model_name": "DescriptionStyleModel",
            "_view_count": null,
            "_view_module": "@jupyter-widgets/base",
            "_view_module_version": "1.2.0",
            "_view_name": "StyleView",
            "description_width": ""
          }
        },
        "6558c4604bad4a89a691776049c7b788": {
          "model_module": "@jupyter-widgets/base",
          "model_name": "LayoutModel",
          "model_module_version": "1.2.0",
          "state": {
            "_model_module": "@jupyter-widgets/base",
            "_model_module_version": "1.2.0",
            "_model_name": "LayoutModel",
            "_view_count": null,
            "_view_module": "@jupyter-widgets/base",
            "_view_module_version": "1.2.0",
            "_view_name": "LayoutView",
            "align_content": null,
            "align_items": null,
            "align_self": null,
            "border": null,
            "bottom": null,
            "display": "none",
            "flex": null,
            "flex_flow": null,
            "grid_area": null,
            "grid_auto_columns": null,
            "grid_auto_flow": null,
            "grid_auto_rows": null,
            "grid_column": null,
            "grid_gap": null,
            "grid_row": null,
            "grid_template_areas": null,
            "grid_template_columns": null,
            "grid_template_rows": null,
            "height": null,
            "justify_content": null,
            "justify_items": null,
            "left": null,
            "margin": null,
            "max_height": null,
            "max_width": null,
            "min_height": null,
            "min_width": null,
            "object_fit": null,
            "object_position": null,
            "order": null,
            "overflow": null,
            "overflow_x": null,
            "overflow_y": null,
            "padding": null,
            "right": null,
            "top": null,
            "visibility": null,
            "width": "max-content"
          }
        },
        "5761c1830ca746e8b92587a8eb2b4840": {
          "model_module": "@jupyter-widgets/controls",
          "model_name": "DescriptionStyleModel",
          "model_module_version": "1.5.0",
          "state": {
            "_model_module": "@jupyter-widgets/controls",
            "_model_module_version": "1.5.0",
            "_model_name": "DescriptionStyleModel",
            "_view_count": null,
            "_view_module": "@jupyter-widgets/base",
            "_view_module_version": "1.2.0",
            "_view_name": "StyleView",
            "description_width": "initial"
          }
        },
        "e8ca9f65978c46429721300c1a1d202e": {
          "model_module": "@jupyter-widgets/controls",
          "model_name": "HBoxModel",
          "model_module_version": "1.5.0",
          "state": {
            "_dom_classes": [],
            "_model_module": "@jupyter-widgets/controls",
            "_model_module_version": "1.5.0",
            "_model_name": "HBoxModel",
            "_view_count": null,
            "_view_module": "@jupyter-widgets/controls",
            "_view_module_version": "1.5.0",
            "_view_name": "HBoxView",
            "box_style": "",
            "children": [
              "IPY_MODEL_6cb18303e8284361aac3a53840fefe16",
              "IPY_MODEL_41083ff6d7e2437e9b84c934a7a0def0"
            ],
            "layout": "IPY_MODEL_a904a81d823e4f50a1c852587e8ea338"
          }
        },
        "6cb18303e8284361aac3a53840fefe16": {
          "model_module": "@jupyter-widgets/controls",
          "model_name": "CheckboxModel",
          "model_module_version": "1.5.0",
          "state": {
            "_dom_classes": [],
            "_model_module": "@jupyter-widgets/controls",
            "_model_module_version": "1.5.0",
            "_model_name": "CheckboxModel",
            "_view_count": null,
            "_view_module": "@jupyter-widgets/controls",
            "_view_module_version": "1.5.0",
            "_view_name": "CheckboxView",
            "description": "age",
            "description_tooltip": null,
            "disabled": true,
            "indent": true,
            "layout": "IPY_MODEL_7e2375308d404d0dbe0a2e4ccdf5c91c",
            "style": "IPY_MODEL_439de51f1652404d8063ee16dc908f27",
            "value": false
          }
        },
        "41083ff6d7e2437e9b84c934a7a0def0": {
          "model_module": "@jupyter-widgets/controls",
          "model_name": "RadioButtonsModel",
          "model_module_version": "1.5.0",
          "state": {
            "_dom_classes": [],
            "_model_module": "@jupyter-widgets/controls",
            "_model_module_version": "1.5.0",
            "_model_name": "RadioButtonsModel",
            "_options_labels": [
              "No",
              "Yes"
            ],
            "_view_count": null,
            "_view_module": "@jupyter-widgets/controls",
            "_view_module_version": "1.5.0",
            "_view_name": "RadioButtonsView",
            "description": "Is this variable Categorical?",
            "description_tooltip": null,
            "disabled": false,
            "index": 0,
            "layout": "IPY_MODEL_8f25249ca2234fc6b494c4dd0e9ba919",
            "style": "IPY_MODEL_0875658925fe4689ba88062877a944cb"
          }
        },
        "a904a81d823e4f50a1c852587e8ea338": {
          "model_module": "@jupyter-widgets/base",
          "model_name": "LayoutModel",
          "model_module_version": "1.2.0",
          "state": {
            "_model_module": "@jupyter-widgets/base",
            "_model_module_version": "1.2.0",
            "_model_name": "LayoutModel",
            "_view_count": null,
            "_view_module": "@jupyter-widgets/base",
            "_view_module_version": "1.2.0",
            "_view_name": "LayoutView",
            "align_content": null,
            "align_items": null,
            "align_self": null,
            "border": null,
            "bottom": null,
            "display": null,
            "flex": null,
            "flex_flow": null,
            "grid_area": null,
            "grid_auto_columns": null,
            "grid_auto_flow": null,
            "grid_auto_rows": null,
            "grid_column": null,
            "grid_gap": null,
            "grid_row": null,
            "grid_template_areas": null,
            "grid_template_columns": null,
            "grid_template_rows": null,
            "height": null,
            "justify_content": null,
            "justify_items": null,
            "left": null,
            "margin": null,
            "max_height": null,
            "max_width": null,
            "min_height": null,
            "min_width": null,
            "object_fit": null,
            "object_position": null,
            "order": null,
            "overflow": null,
            "overflow_x": null,
            "overflow_y": null,
            "padding": null,
            "right": null,
            "top": null,
            "visibility": null,
            "width": null
          }
        },
        "7e2375308d404d0dbe0a2e4ccdf5c91c": {
          "model_module": "@jupyter-widgets/base",
          "model_name": "LayoutModel",
          "model_module_version": "1.2.0",
          "state": {
            "_model_module": "@jupyter-widgets/base",
            "_model_module_version": "1.2.0",
            "_model_name": "LayoutModel",
            "_view_count": null,
            "_view_module": "@jupyter-widgets/base",
            "_view_module_version": "1.2.0",
            "_view_name": "LayoutView",
            "align_content": null,
            "align_items": null,
            "align_self": null,
            "border": null,
            "bottom": null,
            "display": null,
            "flex": null,
            "flex_flow": null,
            "grid_area": null,
            "grid_auto_columns": null,
            "grid_auto_flow": null,
            "grid_auto_rows": null,
            "grid_column": null,
            "grid_gap": null,
            "grid_row": null,
            "grid_template_areas": null,
            "grid_template_columns": null,
            "grid_template_rows": null,
            "height": null,
            "justify_content": null,
            "justify_items": null,
            "left": null,
            "margin": null,
            "max_height": null,
            "max_width": null,
            "min_height": null,
            "min_width": null,
            "object_fit": null,
            "object_position": null,
            "order": null,
            "overflow": null,
            "overflow_x": null,
            "overflow_y": null,
            "padding": null,
            "right": null,
            "top": null,
            "visibility": null,
            "width": null
          }
        },
        "439de51f1652404d8063ee16dc908f27": {
          "model_module": "@jupyter-widgets/controls",
          "model_name": "DescriptionStyleModel",
          "model_module_version": "1.5.0",
          "state": {
            "_model_module": "@jupyter-widgets/controls",
            "_model_module_version": "1.5.0",
            "_model_name": "DescriptionStyleModel",
            "_view_count": null,
            "_view_module": "@jupyter-widgets/base",
            "_view_module_version": "1.2.0",
            "_view_name": "StyleView",
            "description_width": ""
          }
        },
        "8f25249ca2234fc6b494c4dd0e9ba919": {
          "model_module": "@jupyter-widgets/base",
          "model_name": "LayoutModel",
          "model_module_version": "1.2.0",
          "state": {
            "_model_module": "@jupyter-widgets/base",
            "_model_module_version": "1.2.0",
            "_model_name": "LayoutModel",
            "_view_count": null,
            "_view_module": "@jupyter-widgets/base",
            "_view_module_version": "1.2.0",
            "_view_name": "LayoutView",
            "align_content": null,
            "align_items": null,
            "align_self": null,
            "border": null,
            "bottom": null,
            "display": "none",
            "flex": null,
            "flex_flow": null,
            "grid_area": null,
            "grid_auto_columns": null,
            "grid_auto_flow": null,
            "grid_auto_rows": null,
            "grid_column": null,
            "grid_gap": null,
            "grid_row": null,
            "grid_template_areas": null,
            "grid_template_columns": null,
            "grid_template_rows": null,
            "height": null,
            "justify_content": null,
            "justify_items": null,
            "left": null,
            "margin": null,
            "max_height": null,
            "max_width": null,
            "min_height": null,
            "min_width": null,
            "object_fit": null,
            "object_position": null,
            "order": null,
            "overflow": null,
            "overflow_x": null,
            "overflow_y": null,
            "padding": null,
            "right": null,
            "top": null,
            "visibility": null,
            "width": "max-content"
          }
        },
        "0875658925fe4689ba88062877a944cb": {
          "model_module": "@jupyter-widgets/controls",
          "model_name": "DescriptionStyleModel",
          "model_module_version": "1.5.0",
          "state": {
            "_model_module": "@jupyter-widgets/controls",
            "_model_module_version": "1.5.0",
            "_model_name": "DescriptionStyleModel",
            "_view_count": null,
            "_view_module": "@jupyter-widgets/base",
            "_view_module_version": "1.2.0",
            "_view_name": "StyleView",
            "description_width": "initial"
          }
        },
        "bd7a80ea59b145ecb2e205b3e6530886": {
          "model_module": "@jupyter-widgets/controls",
          "model_name": "HBoxModel",
          "model_module_version": "1.5.0",
          "state": {
            "_dom_classes": [],
            "_model_module": "@jupyter-widgets/controls",
            "_model_module_version": "1.5.0",
            "_model_name": "HBoxModel",
            "_view_count": null,
            "_view_module": "@jupyter-widgets/controls",
            "_view_module_version": "1.5.0",
            "_view_name": "HBoxView",
            "box_style": "",
            "children": [
              "IPY_MODEL_b38cb6edd2b54cf296bb301b812d4c05",
              "IPY_MODEL_726c0119eeb04a21b1fffbf6b94b7dc6"
            ],
            "layout": "IPY_MODEL_db42de05462d4d8c853fafbd0ba331a4"
          }
        },
        "b38cb6edd2b54cf296bb301b812d4c05": {
          "model_module": "@jupyter-widgets/controls",
          "model_name": "CheckboxModel",
          "model_module_version": "1.5.0",
          "state": {
            "_dom_classes": [],
            "_model_module": "@jupyter-widgets/controls",
            "_model_module_version": "1.5.0",
            "_model_name": "CheckboxModel",
            "_view_count": null,
            "_view_module": "@jupyter-widgets/controls",
            "_view_module_version": "1.5.0",
            "_view_name": "CheckboxView",
            "description": "occu",
            "description_tooltip": null,
            "disabled": false,
            "indent": true,
            "layout": "IPY_MODEL_0788d7ce32184136b7de6b50c153a2a4",
            "style": "IPY_MODEL_a04855d9b2894359b92b76934d9e87da",
            "value": false
          }
        },
        "726c0119eeb04a21b1fffbf6b94b7dc6": {
          "model_module": "@jupyter-widgets/controls",
          "model_name": "RadioButtonsModel",
          "model_module_version": "1.5.0",
          "state": {
            "_dom_classes": [],
            "_model_module": "@jupyter-widgets/controls",
            "_model_module_version": "1.5.0",
            "_model_name": "RadioButtonsModel",
            "_options_labels": [
              "No",
              "Yes"
            ],
            "_view_count": null,
            "_view_module": "@jupyter-widgets/controls",
            "_view_module_version": "1.5.0",
            "_view_name": "RadioButtonsView",
            "description": "Is this variable Categorical?",
            "description_tooltip": null,
            "disabled": false,
            "index": 0,
            "layout": "IPY_MODEL_0ca8eda56ce44da79182f13f0bfa5bc1",
            "style": "IPY_MODEL_5efbc2d0aa8844cbaf62355e08201365"
          }
        },
        "db42de05462d4d8c853fafbd0ba331a4": {
          "model_module": "@jupyter-widgets/base",
          "model_name": "LayoutModel",
          "model_module_version": "1.2.0",
          "state": {
            "_model_module": "@jupyter-widgets/base",
            "_model_module_version": "1.2.0",
            "_model_name": "LayoutModel",
            "_view_count": null,
            "_view_module": "@jupyter-widgets/base",
            "_view_module_version": "1.2.0",
            "_view_name": "LayoutView",
            "align_content": null,
            "align_items": null,
            "align_self": null,
            "border": null,
            "bottom": null,
            "display": null,
            "flex": null,
            "flex_flow": null,
            "grid_area": null,
            "grid_auto_columns": null,
            "grid_auto_flow": null,
            "grid_auto_rows": null,
            "grid_column": null,
            "grid_gap": null,
            "grid_row": null,
            "grid_template_areas": null,
            "grid_template_columns": null,
            "grid_template_rows": null,
            "height": null,
            "justify_content": null,
            "justify_items": null,
            "left": null,
            "margin": null,
            "max_height": null,
            "max_width": null,
            "min_height": null,
            "min_width": null,
            "object_fit": null,
            "object_position": null,
            "order": null,
            "overflow": null,
            "overflow_x": null,
            "overflow_y": null,
            "padding": null,
            "right": null,
            "top": null,
            "visibility": null,
            "width": null
          }
        },
        "0788d7ce32184136b7de6b50c153a2a4": {
          "model_module": "@jupyter-widgets/base",
          "model_name": "LayoutModel",
          "model_module_version": "1.2.0",
          "state": {
            "_model_module": "@jupyter-widgets/base",
            "_model_module_version": "1.2.0",
            "_model_name": "LayoutModel",
            "_view_count": null,
            "_view_module": "@jupyter-widgets/base",
            "_view_module_version": "1.2.0",
            "_view_name": "LayoutView",
            "align_content": null,
            "align_items": null,
            "align_self": null,
            "border": null,
            "bottom": null,
            "display": null,
            "flex": null,
            "flex_flow": null,
            "grid_area": null,
            "grid_auto_columns": null,
            "grid_auto_flow": null,
            "grid_auto_rows": null,
            "grid_column": null,
            "grid_gap": null,
            "grid_row": null,
            "grid_template_areas": null,
            "grid_template_columns": null,
            "grid_template_rows": null,
            "height": null,
            "justify_content": null,
            "justify_items": null,
            "left": null,
            "margin": null,
            "max_height": null,
            "max_width": null,
            "min_height": null,
            "min_width": null,
            "object_fit": null,
            "object_position": null,
            "order": null,
            "overflow": null,
            "overflow_x": null,
            "overflow_y": null,
            "padding": null,
            "right": null,
            "top": null,
            "visibility": null,
            "width": null
          }
        },
        "a04855d9b2894359b92b76934d9e87da": {
          "model_module": "@jupyter-widgets/controls",
          "model_name": "DescriptionStyleModel",
          "model_module_version": "1.5.0",
          "state": {
            "_model_module": "@jupyter-widgets/controls",
            "_model_module_version": "1.5.0",
            "_model_name": "DescriptionStyleModel",
            "_view_count": null,
            "_view_module": "@jupyter-widgets/base",
            "_view_module_version": "1.2.0",
            "_view_name": "StyleView",
            "description_width": ""
          }
        },
        "0ca8eda56ce44da79182f13f0bfa5bc1": {
          "model_module": "@jupyter-widgets/base",
          "model_name": "LayoutModel",
          "model_module_version": "1.2.0",
          "state": {
            "_model_module": "@jupyter-widgets/base",
            "_model_module_version": "1.2.0",
            "_model_name": "LayoutModel",
            "_view_count": null,
            "_view_module": "@jupyter-widgets/base",
            "_view_module_version": "1.2.0",
            "_view_name": "LayoutView",
            "align_content": null,
            "align_items": null,
            "align_self": null,
            "border": null,
            "bottom": null,
            "display": "none",
            "flex": null,
            "flex_flow": null,
            "grid_area": null,
            "grid_auto_columns": null,
            "grid_auto_flow": null,
            "grid_auto_rows": null,
            "grid_column": null,
            "grid_gap": null,
            "grid_row": null,
            "grid_template_areas": null,
            "grid_template_columns": null,
            "grid_template_rows": null,
            "height": null,
            "justify_content": null,
            "justify_items": null,
            "left": null,
            "margin": null,
            "max_height": null,
            "max_width": null,
            "min_height": null,
            "min_width": null,
            "object_fit": null,
            "object_position": null,
            "order": null,
            "overflow": null,
            "overflow_x": null,
            "overflow_y": null,
            "padding": null,
            "right": null,
            "top": null,
            "visibility": null,
            "width": "max-content"
          }
        },
        "5efbc2d0aa8844cbaf62355e08201365": {
          "model_module": "@jupyter-widgets/controls",
          "model_name": "DescriptionStyleModel",
          "model_module_version": "1.5.0",
          "state": {
            "_model_module": "@jupyter-widgets/controls",
            "_model_module_version": "1.5.0",
            "_model_name": "DescriptionStyleModel",
            "_view_count": null,
            "_view_module": "@jupyter-widgets/base",
            "_view_module_version": "1.2.0",
            "_view_name": "StyleView",
            "description_width": "initial"
          }
        },
        "9f2c61ca53fc40a0994467303ac4d9e7": {
          "model_module": "@jupyter-widgets/controls",
          "model_name": "HBoxModel",
          "model_module_version": "1.5.0",
          "state": {
            "_dom_classes": [],
            "_model_module": "@jupyter-widgets/controls",
            "_model_module_version": "1.5.0",
            "_model_name": "HBoxModel",
            "_view_count": null,
            "_view_module": "@jupyter-widgets/controls",
            "_view_module_version": "1.5.0",
            "_view_name": "HBoxView",
            "box_style": "",
            "children": [
              "IPY_MODEL_8406c853a4c04a8fbb8a5e34816b92b5",
              "IPY_MODEL_0b93e9f878454c77b65bfa2d330d5a9d"
            ],
            "layout": "IPY_MODEL_896f0fbbb12f4bbe9f5e895b658f2e9f"
          }
        },
        "8406c853a4c04a8fbb8a5e34816b92b5": {
          "model_module": "@jupyter-widgets/controls",
          "model_name": "CheckboxModel",
          "model_module_version": "1.5.0",
          "state": {
            "_dom_classes": [],
            "_model_module": "@jupyter-widgets/controls",
            "_model_module_version": "1.5.0",
            "_model_name": "CheckboxModel",
            "_view_count": null,
            "_view_module": "@jupyter-widgets/controls",
            "_view_module_version": "1.5.0",
            "_view_name": "CheckboxView",
            "description": "is_student",
            "description_tooltip": null,
            "disabled": false,
            "indent": true,
            "layout": "IPY_MODEL_97312d1206c24337ae5bdf51ee3c6951",
            "style": "IPY_MODEL_62207822d27a4a438d35f4dba29511c5",
            "value": false
          }
        },
        "0b93e9f878454c77b65bfa2d330d5a9d": {
          "model_module": "@jupyter-widgets/controls",
          "model_name": "RadioButtonsModel",
          "model_module_version": "1.5.0",
          "state": {
            "_dom_classes": [],
            "_model_module": "@jupyter-widgets/controls",
            "_model_module_version": "1.5.0",
            "_model_name": "RadioButtonsModel",
            "_options_labels": [
              "No",
              "Yes"
            ],
            "_view_count": null,
            "_view_module": "@jupyter-widgets/controls",
            "_view_module_version": "1.5.0",
            "_view_name": "RadioButtonsView",
            "description": "Is this variable Categorical?",
            "description_tooltip": null,
            "disabled": false,
            "index": 0,
            "layout": "IPY_MODEL_3a06ff629f424b9faa93bef76c3daa1f",
            "style": "IPY_MODEL_0386cf83c125433da65739194e602ef1"
          }
        },
        "896f0fbbb12f4bbe9f5e895b658f2e9f": {
          "model_module": "@jupyter-widgets/base",
          "model_name": "LayoutModel",
          "model_module_version": "1.2.0",
          "state": {
            "_model_module": "@jupyter-widgets/base",
            "_model_module_version": "1.2.0",
            "_model_name": "LayoutModel",
            "_view_count": null,
            "_view_module": "@jupyter-widgets/base",
            "_view_module_version": "1.2.0",
            "_view_name": "LayoutView",
            "align_content": null,
            "align_items": null,
            "align_self": null,
            "border": null,
            "bottom": null,
            "display": null,
            "flex": null,
            "flex_flow": null,
            "grid_area": null,
            "grid_auto_columns": null,
            "grid_auto_flow": null,
            "grid_auto_rows": null,
            "grid_column": null,
            "grid_gap": null,
            "grid_row": null,
            "grid_template_areas": null,
            "grid_template_columns": null,
            "grid_template_rows": null,
            "height": null,
            "justify_content": null,
            "justify_items": null,
            "left": null,
            "margin": null,
            "max_height": null,
            "max_width": null,
            "min_height": null,
            "min_width": null,
            "object_fit": null,
            "object_position": null,
            "order": null,
            "overflow": null,
            "overflow_x": null,
            "overflow_y": null,
            "padding": null,
            "right": null,
            "top": null,
            "visibility": null,
            "width": null
          }
        },
        "97312d1206c24337ae5bdf51ee3c6951": {
          "model_module": "@jupyter-widgets/base",
          "model_name": "LayoutModel",
          "model_module_version": "1.2.0",
          "state": {
            "_model_module": "@jupyter-widgets/base",
            "_model_module_version": "1.2.0",
            "_model_name": "LayoutModel",
            "_view_count": null,
            "_view_module": "@jupyter-widgets/base",
            "_view_module_version": "1.2.0",
            "_view_name": "LayoutView",
            "align_content": null,
            "align_items": null,
            "align_self": null,
            "border": null,
            "bottom": null,
            "display": null,
            "flex": null,
            "flex_flow": null,
            "grid_area": null,
            "grid_auto_columns": null,
            "grid_auto_flow": null,
            "grid_auto_rows": null,
            "grid_column": null,
            "grid_gap": null,
            "grid_row": null,
            "grid_template_areas": null,
            "grid_template_columns": null,
            "grid_template_rows": null,
            "height": null,
            "justify_content": null,
            "justify_items": null,
            "left": null,
            "margin": null,
            "max_height": null,
            "max_width": null,
            "min_height": null,
            "min_width": null,
            "object_fit": null,
            "object_position": null,
            "order": null,
            "overflow": null,
            "overflow_x": null,
            "overflow_y": null,
            "padding": null,
            "right": null,
            "top": null,
            "visibility": null,
            "width": null
          }
        },
        "62207822d27a4a438d35f4dba29511c5": {
          "model_module": "@jupyter-widgets/controls",
          "model_name": "DescriptionStyleModel",
          "model_module_version": "1.5.0",
          "state": {
            "_model_module": "@jupyter-widgets/controls",
            "_model_module_version": "1.5.0",
            "_model_name": "DescriptionStyleModel",
            "_view_count": null,
            "_view_module": "@jupyter-widgets/base",
            "_view_module_version": "1.2.0",
            "_view_name": "StyleView",
            "description_width": ""
          }
        },
        "3a06ff629f424b9faa93bef76c3daa1f": {
          "model_module": "@jupyter-widgets/base",
          "model_name": "LayoutModel",
          "model_module_version": "1.2.0",
          "state": {
            "_model_module": "@jupyter-widgets/base",
            "_model_module_version": "1.2.0",
            "_model_name": "LayoutModel",
            "_view_count": null,
            "_view_module": "@jupyter-widgets/base",
            "_view_module_version": "1.2.0",
            "_view_name": "LayoutView",
            "align_content": null,
            "align_items": null,
            "align_self": null,
            "border": null,
            "bottom": null,
            "display": "none",
            "flex": null,
            "flex_flow": null,
            "grid_area": null,
            "grid_auto_columns": null,
            "grid_auto_flow": null,
            "grid_auto_rows": null,
            "grid_column": null,
            "grid_gap": null,
            "grid_row": null,
            "grid_template_areas": null,
            "grid_template_columns": null,
            "grid_template_rows": null,
            "height": null,
            "justify_content": null,
            "justify_items": null,
            "left": null,
            "margin": null,
            "max_height": null,
            "max_width": null,
            "min_height": null,
            "min_width": null,
            "object_fit": null,
            "object_position": null,
            "order": null,
            "overflow": null,
            "overflow_x": null,
            "overflow_y": null,
            "padding": null,
            "right": null,
            "top": null,
            "visibility": null,
            "width": "max-content"
          }
        },
        "0386cf83c125433da65739194e602ef1": {
          "model_module": "@jupyter-widgets/controls",
          "model_name": "DescriptionStyleModel",
          "model_module_version": "1.5.0",
          "state": {
            "_model_module": "@jupyter-widgets/controls",
            "_model_module_version": "1.5.0",
            "_model_name": "DescriptionStyleModel",
            "_view_count": null,
            "_view_module": "@jupyter-widgets/base",
            "_view_module_version": "1.2.0",
            "_view_name": "StyleView",
            "description_width": "initial"
          }
        },
        "be4cafdc9c6248cf8fab9112c610a5ce": {
          "model_module": "@jupyter-widgets/controls",
          "model_name": "ButtonModel",
          "model_module_version": "1.5.0",
          "state": {
            "_dom_classes": [],
            "_model_module": "@jupyter-widgets/controls",
            "_model_module_version": "1.5.0",
            "_model_name": "ButtonModel",
            "_view_count": null,
            "_view_module": "@jupyter-widgets/controls",
            "_view_module_version": "1.5.0",
            "_view_name": "ButtonView",
            "button_style": "",
            "description": "Submit",
            "disabled": false,
            "icon": "",
            "layout": "IPY_MODEL_99713b0870cd4f78862c32c125ab32af",
            "style": "IPY_MODEL_e3f0dbf8a6334775b353a9d8b4d02767",
            "tooltip": ""
          }
        },
        "99713b0870cd4f78862c32c125ab32af": {
          "model_module": "@jupyter-widgets/base",
          "model_name": "LayoutModel",
          "model_module_version": "1.2.0",
          "state": {
            "_model_module": "@jupyter-widgets/base",
            "_model_module_version": "1.2.0",
            "_model_name": "LayoutModel",
            "_view_count": null,
            "_view_module": "@jupyter-widgets/base",
            "_view_module_version": "1.2.0",
            "_view_name": "LayoutView",
            "align_content": null,
            "align_items": null,
            "align_self": null,
            "border": null,
            "bottom": null,
            "display": null,
            "flex": null,
            "flex_flow": null,
            "grid_area": null,
            "grid_auto_columns": null,
            "grid_auto_flow": null,
            "grid_auto_rows": null,
            "grid_column": null,
            "grid_gap": null,
            "grid_row": null,
            "grid_template_areas": null,
            "grid_template_columns": null,
            "grid_template_rows": null,
            "height": null,
            "justify_content": null,
            "justify_items": null,
            "left": null,
            "margin": null,
            "max_height": null,
            "max_width": null,
            "min_height": null,
            "min_width": null,
            "object_fit": null,
            "object_position": null,
            "order": null,
            "overflow": null,
            "overflow_x": null,
            "overflow_y": null,
            "padding": null,
            "right": null,
            "top": null,
            "visibility": null,
            "width": null
          }
        },
        "e3f0dbf8a6334775b353a9d8b4d02767": {
          "model_module": "@jupyter-widgets/controls",
          "model_name": "ButtonStyleModel",
          "model_module_version": "1.5.0",
          "state": {
            "_model_module": "@jupyter-widgets/controls",
            "_model_module_version": "1.5.0",
            "_model_name": "ButtonStyleModel",
            "_view_count": null,
            "_view_module": "@jupyter-widgets/base",
            "_view_module_version": "1.2.0",
            "_view_name": "StyleView",
            "button_color": null,
            "font_weight": ""
          }
        },
        "41893cfef5d5484d84d874e9d2553a79": {
          "model_module": "@jupyter-widgets/controls",
          "model_name": "DropdownModel",
          "model_module_version": "1.5.0",
          "state": {
            "_dom_classes": [],
            "_model_module": "@jupyter-widgets/controls",
            "_model_module_version": "1.5.0",
            "_model_name": "DropdownModel",
            "_options_labels": [
              "created_date",
              "message"
            ],
            "_view_count": null,
            "_view_module": "@jupyter-widgets/controls",
            "_view_module_version": "1.5.0",
            "_view_name": "DropdownView",
            "description": "Text Column:",
            "description_tooltip": null,
            "disabled": false,
            "index": 1,
            "layout": "IPY_MODEL_98f3c1b636f84af0b69dabb0d408c3b7",
            "style": "IPY_MODEL_2f3542fefa694f50acd070d0734ec93a"
          }
        },
        "98f3c1b636f84af0b69dabb0d408c3b7": {
          "model_module": "@jupyter-widgets/base",
          "model_name": "LayoutModel",
          "model_module_version": "1.2.0",
          "state": {
            "_model_module": "@jupyter-widgets/base",
            "_model_module_version": "1.2.0",
            "_model_name": "LayoutModel",
            "_view_count": null,
            "_view_module": "@jupyter-widgets/base",
            "_view_module_version": "1.2.0",
            "_view_name": "LayoutView",
            "align_content": null,
            "align_items": null,
            "align_self": null,
            "border": null,
            "bottom": null,
            "display": null,
            "flex": null,
            "flex_flow": null,
            "grid_area": null,
            "grid_auto_columns": null,
            "grid_auto_flow": null,
            "grid_auto_rows": null,
            "grid_column": null,
            "grid_gap": null,
            "grid_row": null,
            "grid_template_areas": null,
            "grid_template_columns": null,
            "grid_template_rows": null,
            "height": null,
            "justify_content": null,
            "justify_items": null,
            "left": null,
            "margin": null,
            "max_height": null,
            "max_width": null,
            "min_height": null,
            "min_width": null,
            "object_fit": null,
            "object_position": null,
            "order": null,
            "overflow": null,
            "overflow_x": null,
            "overflow_y": null,
            "padding": null,
            "right": null,
            "top": null,
            "visibility": null,
            "width": null
          }
        },
        "2f3542fefa694f50acd070d0734ec93a": {
          "model_module": "@jupyter-widgets/controls",
          "model_name": "DescriptionStyleModel",
          "model_module_version": "1.5.0",
          "state": {
            "_model_module": "@jupyter-widgets/controls",
            "_model_module_version": "1.5.0",
            "_model_name": "DescriptionStyleModel",
            "_view_count": null,
            "_view_module": "@jupyter-widgets/base",
            "_view_module_version": "1.2.0",
            "_view_name": "StyleView",
            "description_width": ""
          }
        },
        "8dd8739e16df455b877f7715bb42336e": {
          "model_module": "@jupyter-widgets/controls",
          "model_name": "ButtonModel",
          "model_module_version": "1.5.0",
          "state": {
            "_dom_classes": [],
            "_model_module": "@jupyter-widgets/controls",
            "_model_module_version": "1.5.0",
            "_model_name": "ButtonModel",
            "_view_count": null,
            "_view_module": "@jupyter-widgets/controls",
            "_view_module_version": "1.5.0",
            "_view_name": "ButtonView",
            "button_style": "",
            "description": "Confirm Text Column",
            "disabled": false,
            "icon": "",
            "layout": "IPY_MODEL_8f4a8bc02d26473496f1a30e247dc089",
            "style": "IPY_MODEL_2620491828394fe08e117c8396674cb7",
            "tooltip": ""
          }
        },
        "8f4a8bc02d26473496f1a30e247dc089": {
          "model_module": "@jupyter-widgets/base",
          "model_name": "LayoutModel",
          "model_module_version": "1.2.0",
          "state": {
            "_model_module": "@jupyter-widgets/base",
            "_model_module_version": "1.2.0",
            "_model_name": "LayoutModel",
            "_view_count": null,
            "_view_module": "@jupyter-widgets/base",
            "_view_module_version": "1.2.0",
            "_view_name": "LayoutView",
            "align_content": null,
            "align_items": null,
            "align_self": null,
            "border": null,
            "bottom": null,
            "display": null,
            "flex": null,
            "flex_flow": null,
            "grid_area": null,
            "grid_auto_columns": null,
            "grid_auto_flow": null,
            "grid_auto_rows": null,
            "grid_column": null,
            "grid_gap": null,
            "grid_row": null,
            "grid_template_areas": null,
            "grid_template_columns": null,
            "grid_template_rows": null,
            "height": null,
            "justify_content": null,
            "justify_items": null,
            "left": null,
            "margin": null,
            "max_height": null,
            "max_width": null,
            "min_height": null,
            "min_width": null,
            "object_fit": null,
            "object_position": null,
            "order": null,
            "overflow": null,
            "overflow_x": null,
            "overflow_y": null,
            "padding": null,
            "right": null,
            "top": null,
            "visibility": null,
            "width": null
          }
        },
        "2620491828394fe08e117c8396674cb7": {
          "model_module": "@jupyter-widgets/controls",
          "model_name": "ButtonStyleModel",
          "model_module_version": "1.5.0",
          "state": {
            "_model_module": "@jupyter-widgets/controls",
            "_model_module_version": "1.5.0",
            "_model_name": "ButtonStyleModel",
            "_view_count": null,
            "_view_module": "@jupyter-widgets/base",
            "_view_module_version": "1.2.0",
            "_view_name": "StyleView",
            "button_color": null,
            "font_weight": ""
          }
        },
        "dd5e28b241984931b74d81a13d10fdb8": {
          "model_module": "@jupyter-widgets/output",
          "model_name": "OutputModel",
          "model_module_version": "1.0.0",
          "state": {
            "_dom_classes": [],
            "_model_module": "@jupyter-widgets/output",
            "_model_module_version": "1.0.0",
            "_model_name": "OutputModel",
            "_view_count": null,
            "_view_module": "@jupyter-widgets/output",
            "_view_module_version": "1.0.0",
            "_view_name": "OutputView",
            "layout": "IPY_MODEL_f47e0d7aadb34f4dab4b6c00db35abb1",
            "msg_id": "",
            "outputs": [
              {
                "output_type": "stream",
                "name": "stdout",
                "text": [
                  "Text Column confirmed: message\n"
                ]
              }
            ]
          }
        },
        "f47e0d7aadb34f4dab4b6c00db35abb1": {
          "model_module": "@jupyter-widgets/base",
          "model_name": "LayoutModel",
          "model_module_version": "1.2.0",
          "state": {
            "_model_module": "@jupyter-widgets/base",
            "_model_module_version": "1.2.0",
            "_model_name": "LayoutModel",
            "_view_count": null,
            "_view_module": "@jupyter-widgets/base",
            "_view_module_version": "1.2.0",
            "_view_name": "LayoutView",
            "align_content": null,
            "align_items": null,
            "align_self": null,
            "border": null,
            "bottom": null,
            "display": null,
            "flex": null,
            "flex_flow": null,
            "grid_area": null,
            "grid_auto_columns": null,
            "grid_auto_flow": null,
            "grid_auto_rows": null,
            "grid_column": null,
            "grid_gap": null,
            "grid_row": null,
            "grid_template_areas": null,
            "grid_template_columns": null,
            "grid_template_rows": null,
            "height": null,
            "justify_content": null,
            "justify_items": null,
            "left": null,
            "margin": null,
            "max_height": null,
            "max_width": null,
            "min_height": null,
            "min_width": null,
            "object_fit": null,
            "object_position": null,
            "order": null,
            "overflow": null,
            "overflow_x": null,
            "overflow_y": null,
            "padding": null,
            "right": null,
            "top": null,
            "visibility": null,
            "width": null
          }
        },
        "45aab5b2f890418f92e2455901a54bf7": {
          "model_module": "@jupyter-widgets/controls",
          "model_name": "DropdownModel",
          "model_module_version": "1.5.0",
          "state": {
            "_dom_classes": [],
            "_model_module": "@jupyter-widgets/controls",
            "_model_module_version": "1.5.0",
            "_model_name": "DropdownModel",
            "_options_labels": [
              "message_id",
              "user_id"
            ],
            "_view_count": null,
            "_view_module": "@jupyter-widgets/controls",
            "_view_module_version": "1.5.0",
            "_view_name": "DropdownView",
            "description": "ID Column:",
            "description_tooltip": null,
            "disabled": false,
            "index": 0,
            "layout": "IPY_MODEL_a0345fb3649f44c0b29038518c7fe247",
            "style": "IPY_MODEL_f7e3742e591140efabe053a37c00d9b9"
          }
        },
        "a0345fb3649f44c0b29038518c7fe247": {
          "model_module": "@jupyter-widgets/base",
          "model_name": "LayoutModel",
          "model_module_version": "1.2.0",
          "state": {
            "_model_module": "@jupyter-widgets/base",
            "_model_module_version": "1.2.0",
            "_model_name": "LayoutModel",
            "_view_count": null,
            "_view_module": "@jupyter-widgets/base",
            "_view_module_version": "1.2.0",
            "_view_name": "LayoutView",
            "align_content": null,
            "align_items": null,
            "align_self": null,
            "border": null,
            "bottom": null,
            "display": null,
            "flex": null,
            "flex_flow": null,
            "grid_area": null,
            "grid_auto_columns": null,
            "grid_auto_flow": null,
            "grid_auto_rows": null,
            "grid_column": null,
            "grid_gap": null,
            "grid_row": null,
            "grid_template_areas": null,
            "grid_template_columns": null,
            "grid_template_rows": null,
            "height": null,
            "justify_content": null,
            "justify_items": null,
            "left": null,
            "margin": null,
            "max_height": null,
            "max_width": null,
            "min_height": null,
            "min_width": null,
            "object_fit": null,
            "object_position": null,
            "order": null,
            "overflow": null,
            "overflow_x": null,
            "overflow_y": null,
            "padding": null,
            "right": null,
            "top": null,
            "visibility": null,
            "width": null
          }
        },
        "f7e3742e591140efabe053a37c00d9b9": {
          "model_module": "@jupyter-widgets/controls",
          "model_name": "DescriptionStyleModel",
          "model_module_version": "1.5.0",
          "state": {
            "_model_module": "@jupyter-widgets/controls",
            "_model_module_version": "1.5.0",
            "_model_name": "DescriptionStyleModel",
            "_view_count": null,
            "_view_module": "@jupyter-widgets/base",
            "_view_module_version": "1.2.0",
            "_view_name": "StyleView",
            "description_width": ""
          }
        },
        "467c00271dc7411a9699af4e9d4b51e3": {
          "model_module": "@jupyter-widgets/controls",
          "model_name": "ButtonModel",
          "model_module_version": "1.5.0",
          "state": {
            "_dom_classes": [],
            "_model_module": "@jupyter-widgets/controls",
            "_model_module_version": "1.5.0",
            "_model_name": "ButtonModel",
            "_view_count": null,
            "_view_module": "@jupyter-widgets/controls",
            "_view_module_version": "1.5.0",
            "_view_name": "ButtonView",
            "button_style": "",
            "description": "Confirm ID Column",
            "disabled": false,
            "icon": "",
            "layout": "IPY_MODEL_ccc8b393c5d64398bfac3e454bf0b54b",
            "style": "IPY_MODEL_0ea1a7ad2bf34a1aa0498ded26ff946d",
            "tooltip": ""
          }
        },
        "ccc8b393c5d64398bfac3e454bf0b54b": {
          "model_module": "@jupyter-widgets/base",
          "model_name": "LayoutModel",
          "model_module_version": "1.2.0",
          "state": {
            "_model_module": "@jupyter-widgets/base",
            "_model_module_version": "1.2.0",
            "_model_name": "LayoutModel",
            "_view_count": null,
            "_view_module": "@jupyter-widgets/base",
            "_view_module_version": "1.2.0",
            "_view_name": "LayoutView",
            "align_content": null,
            "align_items": null,
            "align_self": null,
            "border": null,
            "bottom": null,
            "display": null,
            "flex": null,
            "flex_flow": null,
            "grid_area": null,
            "grid_auto_columns": null,
            "grid_auto_flow": null,
            "grid_auto_rows": null,
            "grid_column": null,
            "grid_gap": null,
            "grid_row": null,
            "grid_template_areas": null,
            "grid_template_columns": null,
            "grid_template_rows": null,
            "height": null,
            "justify_content": null,
            "justify_items": null,
            "left": null,
            "margin": null,
            "max_height": null,
            "max_width": null,
            "min_height": null,
            "min_width": null,
            "object_fit": null,
            "object_position": null,
            "order": null,
            "overflow": null,
            "overflow_x": null,
            "overflow_y": null,
            "padding": null,
            "right": null,
            "top": null,
            "visibility": null,
            "width": null
          }
        },
        "0ea1a7ad2bf34a1aa0498ded26ff946d": {
          "model_module": "@jupyter-widgets/controls",
          "model_name": "ButtonStyleModel",
          "model_module_version": "1.5.0",
          "state": {
            "_model_module": "@jupyter-widgets/controls",
            "_model_module_version": "1.5.0",
            "_model_name": "ButtonStyleModel",
            "_view_count": null,
            "_view_module": "@jupyter-widgets/base",
            "_view_module_version": "1.2.0",
            "_view_name": "StyleView",
            "button_color": null,
            "font_weight": ""
          }
        },
        "3d916fa664864227bd7dae3120f74143": {
          "model_module": "@jupyter-widgets/output",
          "model_name": "OutputModel",
          "model_module_version": "1.0.0",
          "state": {
            "_dom_classes": [],
            "_model_module": "@jupyter-widgets/output",
            "_model_module_version": "1.0.0",
            "_model_name": "OutputModel",
            "_view_count": null,
            "_view_module": "@jupyter-widgets/output",
            "_view_module_version": "1.0.0",
            "_view_name": "OutputView",
            "layout": "IPY_MODEL_98f9ed25cdd44095a0e8d8dcdf6e477f",
            "msg_id": "",
            "outputs": [
              {
                "output_type": "stream",
                "name": "stdout",
                "text": [
                  "ID Column confirmed: message_id\n"
                ]
              }
            ]
          }
        },
        "98f9ed25cdd44095a0e8d8dcdf6e477f": {
          "model_module": "@jupyter-widgets/base",
          "model_name": "LayoutModel",
          "model_module_version": "1.2.0",
          "state": {
            "_model_module": "@jupyter-widgets/base",
            "_model_module_version": "1.2.0",
            "_model_name": "LayoutModel",
            "_view_count": null,
            "_view_module": "@jupyter-widgets/base",
            "_view_module_version": "1.2.0",
            "_view_name": "LayoutView",
            "align_content": null,
            "align_items": null,
            "align_self": null,
            "border": null,
            "bottom": null,
            "display": null,
            "flex": null,
            "flex_flow": null,
            "grid_area": null,
            "grid_auto_columns": null,
            "grid_auto_flow": null,
            "grid_auto_rows": null,
            "grid_column": null,
            "grid_gap": null,
            "grid_row": null,
            "grid_template_areas": null,
            "grid_template_columns": null,
            "grid_template_rows": null,
            "height": null,
            "justify_content": null,
            "justify_items": null,
            "left": null,
            "margin": null,
            "max_height": null,
            "max_width": null,
            "min_height": null,
            "min_width": null,
            "object_fit": null,
            "object_position": null,
            "order": null,
            "overflow": null,
            "overflow_x": null,
            "overflow_y": null,
            "padding": null,
            "right": null,
            "top": null,
            "visibility": null,
            "width": null
          }
        },
        "bb77cbb49f3c4f68bbe4432b6e90a0a2": {
          "model_module": "@jupyter-widgets/controls",
          "model_name": "DropdownModel",
          "model_module_version": "1.5.0",
          "state": {
            "_dom_classes": [],
            "_model_module": "@jupyter-widgets/controls",
            "_model_module_version": "1.5.0",
            "_model_name": "DropdownModel",
            "_options_labels": [
              "Select option",
              "1to2grams-filtered",
              "1to2grams-unfiltered",
              "topics"
            ],
            "_view_count": null,
            "_view_module": "@jupyter-widgets/controls",
            "_view_module_version": "1.5.0",
            "_view_name": "DropdownView",
            "description": "Options:",
            "description_tooltip": null,
            "disabled": false,
            "index": 3,
            "layout": "IPY_MODEL_4498ae1b85784c249851b9e56097f370",
            "style": "IPY_MODEL_6a313b75c2794636adf1062eacf17bf3"
          }
        },
        "4498ae1b85784c249851b9e56097f370": {
          "model_module": "@jupyter-widgets/base",
          "model_name": "LayoutModel",
          "model_module_version": "1.2.0",
          "state": {
            "_model_module": "@jupyter-widgets/base",
            "_model_module_version": "1.2.0",
            "_model_name": "LayoutModel",
            "_view_count": null,
            "_view_module": "@jupyter-widgets/base",
            "_view_module_version": "1.2.0",
            "_view_name": "LayoutView",
            "align_content": null,
            "align_items": null,
            "align_self": null,
            "border": null,
            "bottom": null,
            "display": null,
            "flex": null,
            "flex_flow": null,
            "grid_area": null,
            "grid_auto_columns": null,
            "grid_auto_flow": null,
            "grid_auto_rows": null,
            "grid_column": null,
            "grid_gap": null,
            "grid_row": null,
            "grid_template_areas": null,
            "grid_template_columns": null,
            "grid_template_rows": null,
            "height": null,
            "justify_content": null,
            "justify_items": null,
            "left": null,
            "margin": null,
            "max_height": null,
            "max_width": null,
            "min_height": null,
            "min_width": null,
            "object_fit": null,
            "object_position": null,
            "order": null,
            "overflow": null,
            "overflow_x": null,
            "overflow_y": null,
            "padding": null,
            "right": null,
            "top": null,
            "visibility": null,
            "width": null
          }
        },
        "6a313b75c2794636adf1062eacf17bf3": {
          "model_module": "@jupyter-widgets/controls",
          "model_name": "DescriptionStyleModel",
          "model_module_version": "1.5.0",
          "state": {
            "_model_module": "@jupyter-widgets/controls",
            "_model_module_version": "1.5.0",
            "_model_name": "DescriptionStyleModel",
            "_view_count": null,
            "_view_module": "@jupyter-widgets/base",
            "_view_module_version": "1.2.0",
            "_view_name": "StyleView",
            "description_width": ""
          }
        },
        "bcf706bb8c8e42b2b1c2bed676238c77": {
          "model_module": "@jupyter-widgets/controls",
          "model_name": "IntTextModel",
          "model_module_version": "1.5.0",
          "state": {
            "_dom_classes": [],
            "_model_module": "@jupyter-widgets/controls",
            "_model_module_version": "1.5.0",
            "_model_name": "IntTextModel",
            "_view_count": null,
            "_view_module": "@jupyter-widgets/controls",
            "_view_module_version": "1.5.0",
            "_view_name": "IntTextView",
            "continuous_update": false,
            "description": "Group Freq Thresh:",
            "description_tooltip": null,
            "disabled": false,
            "layout": "IPY_MODEL_2111180f505247829452e7b45cc33a65",
            "step": 1,
            "style": "IPY_MODEL_66dfd640081f4dd5b87a89177747b9d5",
            "value": 100
          }
        },
        "2111180f505247829452e7b45cc33a65": {
          "model_module": "@jupyter-widgets/base",
          "model_name": "LayoutModel",
          "model_module_version": "1.2.0",
          "state": {
            "_model_module": "@jupyter-widgets/base",
            "_model_module_version": "1.2.0",
            "_model_name": "LayoutModel",
            "_view_count": null,
            "_view_module": "@jupyter-widgets/base",
            "_view_module_version": "1.2.0",
            "_view_name": "LayoutView",
            "align_content": null,
            "align_items": null,
            "align_self": null,
            "border": null,
            "bottom": null,
            "display": null,
            "flex": null,
            "flex_flow": null,
            "grid_area": null,
            "grid_auto_columns": null,
            "grid_auto_flow": null,
            "grid_auto_rows": null,
            "grid_column": null,
            "grid_gap": null,
            "grid_row": null,
            "grid_template_areas": null,
            "grid_template_columns": null,
            "grid_template_rows": null,
            "height": null,
            "justify_content": null,
            "justify_items": null,
            "left": null,
            "margin": null,
            "max_height": null,
            "max_width": null,
            "min_height": null,
            "min_width": null,
            "object_fit": null,
            "object_position": null,
            "order": null,
            "overflow": null,
            "overflow_x": null,
            "overflow_y": null,
            "padding": null,
            "right": null,
            "top": null,
            "visibility": "visible",
            "width": null
          }
        },
        "66dfd640081f4dd5b87a89177747b9d5": {
          "model_module": "@jupyter-widgets/controls",
          "model_name": "DescriptionStyleModel",
          "model_module_version": "1.5.0",
          "state": {
            "_model_module": "@jupyter-widgets/controls",
            "_model_module_version": "1.5.0",
            "_model_name": "DescriptionStyleModel",
            "_view_count": null,
            "_view_module": "@jupyter-widgets/base",
            "_view_module_version": "1.2.0",
            "_view_name": "StyleView",
            "description_width": "initial"
          }
        },
        "318924394e2c41c98c68774d2c2dd5d4": {
          "model_module": "@jupyter-widgets/controls",
          "model_name": "ButtonModel",
          "model_module_version": "1.5.0",
          "state": {
            "_dom_classes": [],
            "_model_module": "@jupyter-widgets/controls",
            "_model_module_version": "1.5.0",
            "_model_name": "ButtonModel",
            "_view_count": null,
            "_view_module": "@jupyter-widgets/controls",
            "_view_module_version": "1.5.0",
            "_view_name": "ButtonView",
            "button_style": "",
            "description": "Run Command",
            "disabled": false,
            "icon": "",
            "layout": "IPY_MODEL_5ced54772edd40ccba4238a8afd933cc",
            "style": "IPY_MODEL_e5288504a60747c68f7a54af81a67fe7",
            "tooltip": ""
          }
        },
        "5ced54772edd40ccba4238a8afd933cc": {
          "model_module": "@jupyter-widgets/base",
          "model_name": "LayoutModel",
          "model_module_version": "1.2.0",
          "state": {
            "_model_module": "@jupyter-widgets/base",
            "_model_module_version": "1.2.0",
            "_model_name": "LayoutModel",
            "_view_count": null,
            "_view_module": "@jupyter-widgets/base",
            "_view_module_version": "1.2.0",
            "_view_name": "LayoutView",
            "align_content": null,
            "align_items": null,
            "align_self": null,
            "border": null,
            "bottom": null,
            "display": null,
            "flex": null,
            "flex_flow": null,
            "grid_area": null,
            "grid_auto_columns": null,
            "grid_auto_flow": null,
            "grid_auto_rows": null,
            "grid_column": null,
            "grid_gap": null,
            "grid_row": null,
            "grid_template_areas": null,
            "grid_template_columns": null,
            "grid_template_rows": null,
            "height": null,
            "justify_content": null,
            "justify_items": null,
            "left": null,
            "margin": null,
            "max_height": null,
            "max_width": null,
            "min_height": null,
            "min_width": null,
            "object_fit": null,
            "object_position": null,
            "order": null,
            "overflow": null,
            "overflow_x": null,
            "overflow_y": null,
            "padding": null,
            "right": null,
            "top": null,
            "visibility": null,
            "width": null
          }
        },
        "e5288504a60747c68f7a54af81a67fe7": {
          "model_module": "@jupyter-widgets/controls",
          "model_name": "ButtonStyleModel",
          "model_module_version": "1.5.0",
          "state": {
            "_model_module": "@jupyter-widgets/controls",
            "_model_module_version": "1.5.0",
            "_model_name": "ButtonStyleModel",
            "_view_count": null,
            "_view_module": "@jupyter-widgets/base",
            "_view_module_version": "1.2.0",
            "_view_name": "StyleView",
            "button_color": null,
            "font_weight": ""
          }
        },
        "3dd0cfdff3b94ba49bb9625598187962": {
          "model_module": "@jupyter-widgets/output",
          "model_name": "OutputModel",
          "model_module_version": "1.0.0",
          "state": {
            "_dom_classes": [],
            "_model_module": "@jupyter-widgets/output",
            "_model_module_version": "1.0.0",
            "_model_name": "OutputModel",
            "_view_count": null,
            "_view_module": "@jupyter-widgets/output",
            "_view_module_version": "1.0.0",
            "_view_name": "OutputView",
            "layout": "IPY_MODEL_14966de1c1164bd585abecd31fd1677b",
            "msg_id": "",
            "outputs": [
              {
                "output_type": "stream",
                "name": "stdout",
                "text": [
                  "Executing: dlatkInterface.py -d colab_csv -t msgs404u.csv -g message_id --message_field message --messageid_field message_id --group_freq_thresh 100 --add_lex_table -l fb2000_cp --weighted_lexicon\n"
                ]
              },
              {
                "output_type": "stream",
                "name": "stdout",
                "text": [
                  "Generated LDA feature table: feat$cat_fb2000_cp_w$msgs404u$message_id$1gra\n"
                ]
              }
            ]
          }
        },
        "14966de1c1164bd585abecd31fd1677b": {
          "model_module": "@jupyter-widgets/base",
          "model_name": "LayoutModel",
          "model_module_version": "1.2.0",
          "state": {
            "_model_module": "@jupyter-widgets/base",
            "_model_module_version": "1.2.0",
            "_model_name": "LayoutModel",
            "_view_count": null,
            "_view_module": "@jupyter-widgets/base",
            "_view_module_version": "1.2.0",
            "_view_name": "LayoutView",
            "align_content": null,
            "align_items": null,
            "align_self": null,
            "border": null,
            "bottom": null,
            "display": null,
            "flex": null,
            "flex_flow": null,
            "grid_area": null,
            "grid_auto_columns": null,
            "grid_auto_flow": null,
            "grid_auto_rows": null,
            "grid_column": null,
            "grid_gap": null,
            "grid_row": null,
            "grid_template_areas": null,
            "grid_template_columns": null,
            "grid_template_rows": null,
            "height": null,
            "justify_content": null,
            "justify_items": null,
            "left": null,
            "margin": null,
            "max_height": null,
            "max_width": null,
            "min_height": null,
            "min_width": null,
            "object_fit": null,
            "object_position": null,
            "order": null,
            "overflow": null,
            "overflow_x": null,
            "overflow_y": null,
            "padding": null,
            "right": null,
            "top": null,
            "visibility": null,
            "width": null
          }
        },
        "dbbebfac56264615b840d2b83c1f9393": {
          "model_module": "@jupyter-widgets/controls",
          "model_name": "DropdownModel",
          "model_module_version": "1.5.0",
          "state": {
            "_dom_classes": [],
            "_model_module": "@jupyter-widgets/controls",
            "_model_module_version": "1.5.0",
            "_model_name": "DropdownModel",
            "_options_labels": [
              "1to2grams-filtered-table",
              "1to2grams-unfiltered-table",
              "topics-table"
            ],
            "_view_count": null,
            "_view_module": "@jupyter-widgets/controls",
            "_view_module_version": "1.5.0",
            "_view_name": "DropdownView",
            "description": "Select Table:",
            "description_tooltip": null,
            "disabled": false,
            "index": 2,
            "layout": "IPY_MODEL_01ebdad53ffc4103a3835710b3f01784",
            "style": "IPY_MODEL_ead9971a7fa848bd80be365831dc8013"
          }
        },
        "01ebdad53ffc4103a3835710b3f01784": {
          "model_module": "@jupyter-widgets/base",
          "model_name": "LayoutModel",
          "model_module_version": "1.2.0",
          "state": {
            "_model_module": "@jupyter-widgets/base",
            "_model_module_version": "1.2.0",
            "_model_name": "LayoutModel",
            "_view_count": null,
            "_view_module": "@jupyter-widgets/base",
            "_view_module_version": "1.2.0",
            "_view_name": "LayoutView",
            "align_content": null,
            "align_items": null,
            "align_self": null,
            "border": null,
            "bottom": null,
            "display": null,
            "flex": null,
            "flex_flow": null,
            "grid_area": null,
            "grid_auto_columns": null,
            "grid_auto_flow": null,
            "grid_auto_rows": null,
            "grid_column": null,
            "grid_gap": null,
            "grid_row": null,
            "grid_template_areas": null,
            "grid_template_columns": null,
            "grid_template_rows": null,
            "height": null,
            "justify_content": null,
            "justify_items": null,
            "left": null,
            "margin": null,
            "max_height": null,
            "max_width": null,
            "min_height": null,
            "min_width": null,
            "object_fit": null,
            "object_position": null,
            "order": null,
            "overflow": null,
            "overflow_x": null,
            "overflow_y": null,
            "padding": null,
            "right": null,
            "top": null,
            "visibility": null,
            "width": null
          }
        },
        "ead9971a7fa848bd80be365831dc8013": {
          "model_module": "@jupyter-widgets/controls",
          "model_name": "DescriptionStyleModel",
          "model_module_version": "1.5.0",
          "state": {
            "_model_module": "@jupyter-widgets/controls",
            "_model_module_version": "1.5.0",
            "_model_name": "DescriptionStyleModel",
            "_view_count": null,
            "_view_module": "@jupyter-widgets/base",
            "_view_module_version": "1.2.0",
            "_view_name": "StyleView",
            "description_width": "initial"
          }
        },
        "f5789f3654a7440aa0cfa89270b2dc99": {
          "model_module": "@jupyter-widgets/controls",
          "model_name": "ButtonModel",
          "model_module_version": "1.5.0",
          "state": {
            "_dom_classes": [],
            "_model_module": "@jupyter-widgets/controls",
            "_model_module_version": "1.5.0",
            "_model_name": "ButtonModel",
            "_view_count": null,
            "_view_module": "@jupyter-widgets/controls",
            "_view_module_version": "1.5.0",
            "_view_name": "ButtonView",
            "button_style": "",
            "description": "Run Command",
            "disabled": false,
            "icon": "",
            "layout": "IPY_MODEL_80ded11bed1945eb8af3a7bf6cc3fcab",
            "style": "IPY_MODEL_dd85d47b1e5a4fedb7ef6327537a310b",
            "tooltip": ""
          }
        },
        "80ded11bed1945eb8af3a7bf6cc3fcab": {
          "model_module": "@jupyter-widgets/base",
          "model_name": "LayoutModel",
          "model_module_version": "1.2.0",
          "state": {
            "_model_module": "@jupyter-widgets/base",
            "_model_module_version": "1.2.0",
            "_model_name": "LayoutModel",
            "_view_count": null,
            "_view_module": "@jupyter-widgets/base",
            "_view_module_version": "1.2.0",
            "_view_name": "LayoutView",
            "align_content": null,
            "align_items": null,
            "align_self": null,
            "border": null,
            "bottom": null,
            "display": null,
            "flex": null,
            "flex_flow": null,
            "grid_area": null,
            "grid_auto_columns": null,
            "grid_auto_flow": null,
            "grid_auto_rows": null,
            "grid_column": null,
            "grid_gap": null,
            "grid_row": null,
            "grid_template_areas": null,
            "grid_template_columns": null,
            "grid_template_rows": null,
            "height": null,
            "justify_content": null,
            "justify_items": null,
            "left": null,
            "margin": null,
            "max_height": null,
            "max_width": null,
            "min_height": null,
            "min_width": null,
            "object_fit": null,
            "object_position": null,
            "order": null,
            "overflow": null,
            "overflow_x": null,
            "overflow_y": null,
            "padding": null,
            "right": null,
            "top": null,
            "visibility": null,
            "width": null
          }
        },
        "dd85d47b1e5a4fedb7ef6327537a310b": {
          "model_module": "@jupyter-widgets/controls",
          "model_name": "ButtonStyleModel",
          "model_module_version": "1.5.0",
          "state": {
            "_model_module": "@jupyter-widgets/controls",
            "_model_module_version": "1.5.0",
            "_model_name": "ButtonStyleModel",
            "_view_count": null,
            "_view_module": "@jupyter-widgets/base",
            "_view_module_version": "1.2.0",
            "_view_name": "StyleView",
            "button_color": null,
            "font_weight": ""
          }
        },
        "ac3297a2c7ce4df1adc1fe42cc74d234": {
          "model_module": "@jupyter-widgets/output",
          "model_name": "OutputModel",
          "model_module_version": "1.0.0",
          "state": {
            "_dom_classes": [],
            "_model_module": "@jupyter-widgets/output",
            "_model_module_version": "1.0.0",
            "_model_name": "OutputModel",
            "_view_count": null,
            "_view_module": "@jupyter-widgets/output",
            "_view_module_version": "1.0.0",
            "_view_name": "OutputView",
            "layout": "IPY_MODEL_61f6498493824a29ac6d200a1d1f6f23",
            "msg_id": "",
            "outputs": [
              {
                "output_type": "stream",
                "name": "stdout",
                "text": [
                  "Command Output:\n",
                  " \n",
                  "\n",
                  "Connecting to SQLite database: /content/sqlite_data/colab_csv.db\n",
                  "     message_id        user_id   created_date        message\n",
                  "          17236         174357     2004-06-28     You Are Ri\n",
                  "          17237         174357     2004-06-24     Im so tire\n",
                  "          17238         174357     2004-07-28     So I start\n",
                  "          25669         446275     2004-05-28     I just don\n",
                  "          25670         446275     2004-05-25     [this is a\n",
                  "          25671         446275     2004-05-24     Another th\n",
                  "          25672         446275     2004-05-16     I come bac\n",
                  "          25673         446275     2004-05-16     As any goo\n",
                  "          25674         446275     2004-05-15     A previous\n",
                  "          25675         446275     2004-05-15     If those h\n",
                  "             id       group_id           feat          value     group_norm\n",
                  "              1              1            295              1 1.680054178386\n",
                  "              2              1            275              1 5.040162535162\n",
                  "              3              1           1755              1 8.400270891930\n",
                  "              4              1           1289              1 7.341836759558\n",
                  "              5              1           1221              1 1.680054178386\n",
                  "              6              1            395              1 0.006706608274\n",
                  "              7              1            247              1 0.000117603792\n",
                  "              8              1           1504              1 0.003930654755\n",
                  "              9              1           1974              1 1.680054178386\n",
                  "             10              1            361              1 1.680054178386\n",
                  "\n",
                  "Command Error:\n",
                  " TopicExtractor: gensim Mallet wrapper unavailable, using Mallet directly.\n",
                  "\n",
                  "-----\n",
                  "DLATK Interface Initiated: 2024-05-06 17:41:45\n",
                  "-----\n",
                  "\n",
                  "Printing: msgs404u\n",
                  "----\n",
                  "\n",
                  "\n",
                  "Printing: feat$cat_fb2000_cp_w$msgs404u$message_id$1gra\n",
                  "----\n",
                  "\n",
                  "-------\n",
                  "Settings:\n",
                  "\n",
                  "Database - colab_csv\n",
                  "Corpus - msgs404u.csv\n",
                  "Group ID - message_id\n",
                  "Feature table(s) - feat$cat_fb2000_cp_w$msgs404u$message_id$1gra\n",
                  "-------\n",
                  "Interface Runtime: 0.01 seconds\n",
                  "DLATK exits with success! A good day indeed  ¯\\_(ツ)_/¯.\n",
                  "\n"
                ]
              }
            ]
          }
        },
        "61f6498493824a29ac6d200a1d1f6f23": {
          "model_module": "@jupyter-widgets/base",
          "model_name": "LayoutModel",
          "model_module_version": "1.2.0",
          "state": {
            "_model_module": "@jupyter-widgets/base",
            "_model_module_version": "1.2.0",
            "_model_name": "LayoutModel",
            "_view_count": null,
            "_view_module": "@jupyter-widgets/base",
            "_view_module_version": "1.2.0",
            "_view_name": "LayoutView",
            "align_content": null,
            "align_items": null,
            "align_self": null,
            "border": null,
            "bottom": null,
            "display": null,
            "flex": null,
            "flex_flow": null,
            "grid_area": null,
            "grid_auto_columns": null,
            "grid_auto_flow": null,
            "grid_auto_rows": null,
            "grid_column": null,
            "grid_gap": null,
            "grid_row": null,
            "grid_template_areas": null,
            "grid_template_columns": null,
            "grid_template_rows": null,
            "height": null,
            "justify_content": null,
            "justify_items": null,
            "left": null,
            "margin": null,
            "max_height": null,
            "max_width": null,
            "min_height": null,
            "min_width": null,
            "object_fit": null,
            "object_position": null,
            "order": null,
            "overflow": null,
            "overflow_x": null,
            "overflow_y": null,
            "padding": null,
            "right": null,
            "top": null,
            "visibility": null,
            "width": null
          }
        },
        "da2c34852694430387a85a56661fb34f": {
          "model_module": "@jupyter-widgets/controls",
          "model_name": "DropdownModel",
          "model_module_version": "1.5.0",
          "state": {
            "_dom_classes": [],
            "_model_module": "@jupyter-widgets/controls",
            "_model_module_version": "1.5.0",
            "_model_name": "DropdownModel",
            "_options_labels": [
              "1to2grams-filtered-table",
              "1to2grams-unfiltered-table",
              "topics-table"
            ],
            "_view_count": null,
            "_view_module": "@jupyter-widgets/controls",
            "_view_module_version": "1.5.0",
            "_view_name": "DropdownView",
            "description": "Feature Table:",
            "description_tooltip": null,
            "disabled": false,
            "index": 2,
            "layout": "IPY_MODEL_f093cca96637457db98ae5b7ca817cfa",
            "style": "IPY_MODEL_cb3a1d5b1d684d58b22631da97aba3e2"
          }
        },
        "f093cca96637457db98ae5b7ca817cfa": {
          "model_module": "@jupyter-widgets/base",
          "model_name": "LayoutModel",
          "model_module_version": "1.2.0",
          "state": {
            "_model_module": "@jupyter-widgets/base",
            "_model_module_version": "1.2.0",
            "_model_name": "LayoutModel",
            "_view_count": null,
            "_view_module": "@jupyter-widgets/base",
            "_view_module_version": "1.2.0",
            "_view_name": "LayoutView",
            "align_content": null,
            "align_items": null,
            "align_self": null,
            "border": null,
            "bottom": null,
            "display": null,
            "flex": null,
            "flex_flow": null,
            "grid_area": null,
            "grid_auto_columns": null,
            "grid_auto_flow": null,
            "grid_auto_rows": null,
            "grid_column": null,
            "grid_gap": null,
            "grid_row": null,
            "grid_template_areas": null,
            "grid_template_columns": null,
            "grid_template_rows": null,
            "height": null,
            "justify_content": null,
            "justify_items": null,
            "left": null,
            "margin": null,
            "max_height": null,
            "max_width": null,
            "min_height": null,
            "min_width": null,
            "object_fit": null,
            "object_position": null,
            "order": null,
            "overflow": null,
            "overflow_x": null,
            "overflow_y": null,
            "padding": null,
            "right": null,
            "top": null,
            "visibility": null,
            "width": null
          }
        },
        "cb3a1d5b1d684d58b22631da97aba3e2": {
          "model_module": "@jupyter-widgets/controls",
          "model_name": "DescriptionStyleModel",
          "model_module_version": "1.5.0",
          "state": {
            "_model_module": "@jupyter-widgets/controls",
            "_model_module_version": "1.5.0",
            "_model_name": "DescriptionStyleModel",
            "_view_count": null,
            "_view_module": "@jupyter-widgets/base",
            "_view_module_version": "1.2.0",
            "_view_name": "StyleView",
            "description_width": ""
          }
        },
        "d7c7c4f43549476cbc79fd306b186815": {
          "model_module": "@jupyter-widgets/controls",
          "model_name": "LabelModel",
          "model_module_version": "1.5.0",
          "state": {
            "_dom_classes": [],
            "_model_module": "@jupyter-widgets/controls",
            "_model_module_version": "1.5.0",
            "_model_name": "LabelModel",
            "_view_count": null,
            "_view_module": "@jupyter-widgets/controls",
            "_view_module_version": "1.5.0",
            "_view_name": "LabelView",
            "description": "",
            "description_tooltip": null,
            "layout": "IPY_MODEL_bba12786a61044ad92cc75c631ef5c34",
            "placeholder": "​",
            "style": "IPY_MODEL_89f25d9cb936477a938cfdae66b2849b",
            "value": "Outcomes:"
          }
        },
        "bba12786a61044ad92cc75c631ef5c34": {
          "model_module": "@jupyter-widgets/base",
          "model_name": "LayoutModel",
          "model_module_version": "1.2.0",
          "state": {
            "_model_module": "@jupyter-widgets/base",
            "_model_module_version": "1.2.0",
            "_model_name": "LayoutModel",
            "_view_count": null,
            "_view_module": "@jupyter-widgets/base",
            "_view_module_version": "1.2.0",
            "_view_name": "LayoutView",
            "align_content": null,
            "align_items": null,
            "align_self": null,
            "border": null,
            "bottom": null,
            "display": null,
            "flex": null,
            "flex_flow": null,
            "grid_area": null,
            "grid_auto_columns": null,
            "grid_auto_flow": null,
            "grid_auto_rows": null,
            "grid_column": null,
            "grid_gap": null,
            "grid_row": null,
            "grid_template_areas": null,
            "grid_template_columns": null,
            "grid_template_rows": null,
            "height": null,
            "justify_content": null,
            "justify_items": null,
            "left": null,
            "margin": null,
            "max_height": null,
            "max_width": null,
            "min_height": null,
            "min_width": null,
            "object_fit": null,
            "object_position": null,
            "order": null,
            "overflow": null,
            "overflow_x": null,
            "overflow_y": null,
            "padding": null,
            "right": null,
            "top": null,
            "visibility": null,
            "width": null
          }
        },
        "89f25d9cb936477a938cfdae66b2849b": {
          "model_module": "@jupyter-widgets/controls",
          "model_name": "DescriptionStyleModel",
          "model_module_version": "1.5.0",
          "state": {
            "_model_module": "@jupyter-widgets/controls",
            "_model_module_version": "1.5.0",
            "_model_name": "DescriptionStyleModel",
            "_view_count": null,
            "_view_module": "@jupyter-widgets/base",
            "_view_module_version": "1.2.0",
            "_view_name": "StyleView",
            "description_width": ""
          }
        },
        "99f495fdeb504bc989eff41d7269c912": {
          "model_module": "@jupyter-widgets/controls",
          "model_name": "HBoxModel",
          "model_module_version": "1.5.0",
          "state": {
            "_dom_classes": [],
            "_model_module": "@jupyter-widgets/controls",
            "_model_module_version": "1.5.0",
            "_model_name": "HBoxModel",
            "_view_count": null,
            "_view_module": "@jupyter-widgets/controls",
            "_view_module_version": "1.5.0",
            "_view_name": "HBoxView",
            "box_style": "",
            "children": [
              "IPY_MODEL_c9f25233d55f4d4bb50c3ef077cebe28",
              "IPY_MODEL_25790814ba1d464fb823530f3c469047"
            ],
            "layout": "IPY_MODEL_8f36af4674324992a80435319ac5bb71"
          }
        },
        "c9f25233d55f4d4bb50c3ef077cebe28": {
          "model_module": "@jupyter-widgets/controls",
          "model_name": "CheckboxModel",
          "model_module_version": "1.5.0",
          "state": {
            "_dom_classes": [],
            "_model_module": "@jupyter-widgets/controls",
            "_model_module_version": "1.5.0",
            "_model_name": "CheckboxModel",
            "_view_count": null,
            "_view_module": "@jupyter-widgets/controls",
            "_view_module_version": "1.5.0",
            "_view_name": "CheckboxView",
            "description": "gender",
            "description_tooltip": null,
            "disabled": true,
            "indent": true,
            "layout": "IPY_MODEL_ed4d7390e76448d095755d6700738a7a",
            "style": "IPY_MODEL_2909ce62018a41a6983984dfaa587f21",
            "value": false
          }
        },
        "25790814ba1d464fb823530f3c469047": {
          "model_module": "@jupyter-widgets/controls",
          "model_name": "CheckboxModel",
          "model_module_version": "1.5.0",
          "state": {
            "_dom_classes": [],
            "_model_module": "@jupyter-widgets/controls",
            "_model_module_version": "1.5.0",
            "_model_name": "CheckboxModel",
            "_view_count": null,
            "_view_module": "@jupyter-widgets/controls",
            "_view_module_version": "1.5.0",
            "_view_name": "CheckboxView",
            "description": "Is this variable Categorical?",
            "description_tooltip": null,
            "disabled": false,
            "indent": true,
            "layout": "IPY_MODEL_b47a4b478b674783a4e72f7d10d91260",
            "style": "IPY_MODEL_42484249cc16452f8a9eec8005b18593",
            "value": false
          }
        },
        "8f36af4674324992a80435319ac5bb71": {
          "model_module": "@jupyter-widgets/base",
          "model_name": "LayoutModel",
          "model_module_version": "1.2.0",
          "state": {
            "_model_module": "@jupyter-widgets/base",
            "_model_module_version": "1.2.0",
            "_model_name": "LayoutModel",
            "_view_count": null,
            "_view_module": "@jupyter-widgets/base",
            "_view_module_version": "1.2.0",
            "_view_name": "LayoutView",
            "align_content": null,
            "align_items": null,
            "align_self": null,
            "border": null,
            "bottom": null,
            "display": null,
            "flex": null,
            "flex_flow": null,
            "grid_area": null,
            "grid_auto_columns": null,
            "grid_auto_flow": null,
            "grid_auto_rows": null,
            "grid_column": null,
            "grid_gap": null,
            "grid_row": null,
            "grid_template_areas": null,
            "grid_template_columns": null,
            "grid_template_rows": null,
            "height": null,
            "justify_content": null,
            "justify_items": null,
            "left": null,
            "margin": null,
            "max_height": null,
            "max_width": null,
            "min_height": null,
            "min_width": null,
            "object_fit": null,
            "object_position": null,
            "order": null,
            "overflow": null,
            "overflow_x": null,
            "overflow_y": null,
            "padding": null,
            "right": null,
            "top": null,
            "visibility": null,
            "width": null
          }
        },
        "ed4d7390e76448d095755d6700738a7a": {
          "model_module": "@jupyter-widgets/base",
          "model_name": "LayoutModel",
          "model_module_version": "1.2.0",
          "state": {
            "_model_module": "@jupyter-widgets/base",
            "_model_module_version": "1.2.0",
            "_model_name": "LayoutModel",
            "_view_count": null,
            "_view_module": "@jupyter-widgets/base",
            "_view_module_version": "1.2.0",
            "_view_name": "LayoutView",
            "align_content": null,
            "align_items": null,
            "align_self": null,
            "border": null,
            "bottom": null,
            "display": null,
            "flex": null,
            "flex_flow": null,
            "grid_area": null,
            "grid_auto_columns": null,
            "grid_auto_flow": null,
            "grid_auto_rows": null,
            "grid_column": null,
            "grid_gap": null,
            "grid_row": null,
            "grid_template_areas": null,
            "grid_template_columns": null,
            "grid_template_rows": null,
            "height": null,
            "justify_content": null,
            "justify_items": null,
            "left": null,
            "margin": null,
            "max_height": null,
            "max_width": null,
            "min_height": null,
            "min_width": null,
            "object_fit": null,
            "object_position": null,
            "order": null,
            "overflow": null,
            "overflow_x": null,
            "overflow_y": null,
            "padding": null,
            "right": null,
            "top": null,
            "visibility": null,
            "width": null
          }
        },
        "2909ce62018a41a6983984dfaa587f21": {
          "model_module": "@jupyter-widgets/controls",
          "model_name": "DescriptionStyleModel",
          "model_module_version": "1.5.0",
          "state": {
            "_model_module": "@jupyter-widgets/controls",
            "_model_module_version": "1.5.0",
            "_model_name": "DescriptionStyleModel",
            "_view_count": null,
            "_view_module": "@jupyter-widgets/base",
            "_view_module_version": "1.2.0",
            "_view_name": "StyleView",
            "description_width": ""
          }
        },
        "b47a4b478b674783a4e72f7d10d91260": {
          "model_module": "@jupyter-widgets/base",
          "model_name": "LayoutModel",
          "model_module_version": "1.2.0",
          "state": {
            "_model_module": "@jupyter-widgets/base",
            "_model_module_version": "1.2.0",
            "_model_name": "LayoutModel",
            "_view_count": null,
            "_view_module": "@jupyter-widgets/base",
            "_view_module_version": "1.2.0",
            "_view_name": "LayoutView",
            "align_content": null,
            "align_items": null,
            "align_self": null,
            "border": null,
            "bottom": null,
            "display": "none",
            "flex": null,
            "flex_flow": null,
            "grid_area": null,
            "grid_auto_columns": null,
            "grid_auto_flow": null,
            "grid_auto_rows": null,
            "grid_column": null,
            "grid_gap": null,
            "grid_row": null,
            "grid_template_areas": null,
            "grid_template_columns": null,
            "grid_template_rows": null,
            "height": null,
            "justify_content": null,
            "justify_items": null,
            "left": null,
            "margin": null,
            "max_height": null,
            "max_width": null,
            "min_height": null,
            "min_width": null,
            "object_fit": null,
            "object_position": null,
            "order": null,
            "overflow": null,
            "overflow_x": null,
            "overflow_y": null,
            "padding": null,
            "right": null,
            "top": null,
            "visibility": null,
            "width": "max-content"
          }
        },
        "42484249cc16452f8a9eec8005b18593": {
          "model_module": "@jupyter-widgets/controls",
          "model_name": "DescriptionStyleModel",
          "model_module_version": "1.5.0",
          "state": {
            "_model_module": "@jupyter-widgets/controls",
            "_model_module_version": "1.5.0",
            "_model_name": "DescriptionStyleModel",
            "_view_count": null,
            "_view_module": "@jupyter-widgets/base",
            "_view_module_version": "1.2.0",
            "_view_name": "StyleView",
            "description_width": "initial"
          }
        },
        "7667cdb4dde845d287934440cc790c8f": {
          "model_module": "@jupyter-widgets/controls",
          "model_name": "HBoxModel",
          "model_module_version": "1.5.0",
          "state": {
            "_dom_classes": [],
            "_model_module": "@jupyter-widgets/controls",
            "_model_module_version": "1.5.0",
            "_model_name": "HBoxModel",
            "_view_count": null,
            "_view_module": "@jupyter-widgets/controls",
            "_view_module_version": "1.5.0",
            "_view_name": "HBoxView",
            "box_style": "",
            "children": [
              "IPY_MODEL_92ef218c05ac4b6ba14a100766423f5c",
              "IPY_MODEL_8794d583863842fba84e1b46a8b8d519"
            ],
            "layout": "IPY_MODEL_561fba3306f94878b504318b82cfec1d"
          }
        },
        "92ef218c05ac4b6ba14a100766423f5c": {
          "model_module": "@jupyter-widgets/controls",
          "model_name": "CheckboxModel",
          "model_module_version": "1.5.0",
          "state": {
            "_dom_classes": [],
            "_model_module": "@jupyter-widgets/controls",
            "_model_module_version": "1.5.0",
            "_model_name": "CheckboxModel",
            "_view_count": null,
            "_view_module": "@jupyter-widgets/controls",
            "_view_module_version": "1.5.0",
            "_view_name": "CheckboxView",
            "description": "age",
            "description_tooltip": null,
            "disabled": false,
            "indent": true,
            "layout": "IPY_MODEL_49fc922be77b4d78a182e30425d816a2",
            "style": "IPY_MODEL_d2ff13abb1b749f9a1d7ec47ed639c30",
            "value": true
          }
        },
        "8794d583863842fba84e1b46a8b8d519": {
          "model_module": "@jupyter-widgets/controls",
          "model_name": "CheckboxModel",
          "model_module_version": "1.5.0",
          "state": {
            "_dom_classes": [],
            "_model_module": "@jupyter-widgets/controls",
            "_model_module_version": "1.5.0",
            "_model_name": "CheckboxModel",
            "_view_count": null,
            "_view_module": "@jupyter-widgets/controls",
            "_view_module_version": "1.5.0",
            "_view_name": "CheckboxView",
            "description": "Is this variable Categorical?",
            "description_tooltip": null,
            "disabled": false,
            "indent": true,
            "layout": "IPY_MODEL_3cd014cef655423ea8ddbffaa90a5062",
            "style": "IPY_MODEL_82409aff176e4e31958372ecea33de14",
            "value": false
          }
        },
        "561fba3306f94878b504318b82cfec1d": {
          "model_module": "@jupyter-widgets/base",
          "model_name": "LayoutModel",
          "model_module_version": "1.2.0",
          "state": {
            "_model_module": "@jupyter-widgets/base",
            "_model_module_version": "1.2.0",
            "_model_name": "LayoutModel",
            "_view_count": null,
            "_view_module": "@jupyter-widgets/base",
            "_view_module_version": "1.2.0",
            "_view_name": "LayoutView",
            "align_content": null,
            "align_items": null,
            "align_self": null,
            "border": null,
            "bottom": null,
            "display": null,
            "flex": null,
            "flex_flow": null,
            "grid_area": null,
            "grid_auto_columns": null,
            "grid_auto_flow": null,
            "grid_auto_rows": null,
            "grid_column": null,
            "grid_gap": null,
            "grid_row": null,
            "grid_template_areas": null,
            "grid_template_columns": null,
            "grid_template_rows": null,
            "height": null,
            "justify_content": null,
            "justify_items": null,
            "left": null,
            "margin": null,
            "max_height": null,
            "max_width": null,
            "min_height": null,
            "min_width": null,
            "object_fit": null,
            "object_position": null,
            "order": null,
            "overflow": null,
            "overflow_x": null,
            "overflow_y": null,
            "padding": null,
            "right": null,
            "top": null,
            "visibility": null,
            "width": null
          }
        },
        "49fc922be77b4d78a182e30425d816a2": {
          "model_module": "@jupyter-widgets/base",
          "model_name": "LayoutModel",
          "model_module_version": "1.2.0",
          "state": {
            "_model_module": "@jupyter-widgets/base",
            "_model_module_version": "1.2.0",
            "_model_name": "LayoutModel",
            "_view_count": null,
            "_view_module": "@jupyter-widgets/base",
            "_view_module_version": "1.2.0",
            "_view_name": "LayoutView",
            "align_content": null,
            "align_items": null,
            "align_self": null,
            "border": null,
            "bottom": null,
            "display": null,
            "flex": null,
            "flex_flow": null,
            "grid_area": null,
            "grid_auto_columns": null,
            "grid_auto_flow": null,
            "grid_auto_rows": null,
            "grid_column": null,
            "grid_gap": null,
            "grid_row": null,
            "grid_template_areas": null,
            "grid_template_columns": null,
            "grid_template_rows": null,
            "height": null,
            "justify_content": null,
            "justify_items": null,
            "left": null,
            "margin": null,
            "max_height": null,
            "max_width": null,
            "min_height": null,
            "min_width": null,
            "object_fit": null,
            "object_position": null,
            "order": null,
            "overflow": null,
            "overflow_x": null,
            "overflow_y": null,
            "padding": null,
            "right": null,
            "top": null,
            "visibility": null,
            "width": null
          }
        },
        "d2ff13abb1b749f9a1d7ec47ed639c30": {
          "model_module": "@jupyter-widgets/controls",
          "model_name": "DescriptionStyleModel",
          "model_module_version": "1.5.0",
          "state": {
            "_model_module": "@jupyter-widgets/controls",
            "_model_module_version": "1.5.0",
            "_model_name": "DescriptionStyleModel",
            "_view_count": null,
            "_view_module": "@jupyter-widgets/base",
            "_view_module_version": "1.2.0",
            "_view_name": "StyleView",
            "description_width": ""
          }
        },
        "3cd014cef655423ea8ddbffaa90a5062": {
          "model_module": "@jupyter-widgets/base",
          "model_name": "LayoutModel",
          "model_module_version": "1.2.0",
          "state": {
            "_model_module": "@jupyter-widgets/base",
            "_model_module_version": "1.2.0",
            "_model_name": "LayoutModel",
            "_view_count": null,
            "_view_module": "@jupyter-widgets/base",
            "_view_module_version": "1.2.0",
            "_view_name": "LayoutView",
            "align_content": null,
            "align_items": null,
            "align_self": null,
            "border": null,
            "bottom": null,
            "display": "flex",
            "flex": null,
            "flex_flow": null,
            "grid_area": null,
            "grid_auto_columns": null,
            "grid_auto_flow": null,
            "grid_auto_rows": null,
            "grid_column": null,
            "grid_gap": null,
            "grid_row": null,
            "grid_template_areas": null,
            "grid_template_columns": null,
            "grid_template_rows": null,
            "height": null,
            "justify_content": null,
            "justify_items": null,
            "left": null,
            "margin": null,
            "max_height": null,
            "max_width": null,
            "min_height": null,
            "min_width": null,
            "object_fit": null,
            "object_position": null,
            "order": null,
            "overflow": null,
            "overflow_x": null,
            "overflow_y": null,
            "padding": null,
            "right": null,
            "top": null,
            "visibility": null,
            "width": "max-content"
          }
        },
        "82409aff176e4e31958372ecea33de14": {
          "model_module": "@jupyter-widgets/controls",
          "model_name": "DescriptionStyleModel",
          "model_module_version": "1.5.0",
          "state": {
            "_model_module": "@jupyter-widgets/controls",
            "_model_module_version": "1.5.0",
            "_model_name": "DescriptionStyleModel",
            "_view_count": null,
            "_view_module": "@jupyter-widgets/base",
            "_view_module_version": "1.2.0",
            "_view_name": "StyleView",
            "description_width": "initial"
          }
        },
        "e526627984c34945902a60906574073f": {
          "model_module": "@jupyter-widgets/controls",
          "model_name": "HBoxModel",
          "model_module_version": "1.5.0",
          "state": {
            "_dom_classes": [],
            "_model_module": "@jupyter-widgets/controls",
            "_model_module_version": "1.5.0",
            "_model_name": "HBoxModel",
            "_view_count": null,
            "_view_module": "@jupyter-widgets/controls",
            "_view_module_version": "1.5.0",
            "_view_name": "HBoxView",
            "box_style": "",
            "children": [
              "IPY_MODEL_2c41c258a09f43698414756a28be4c50",
              "IPY_MODEL_b6036ee8d6eb491d9929f3312725afd1"
            ],
            "layout": "IPY_MODEL_83f75b5ad7044f2a9d7fa4712efb5875"
          }
        },
        "2c41c258a09f43698414756a28be4c50": {
          "model_module": "@jupyter-widgets/controls",
          "model_name": "CheckboxModel",
          "model_module_version": "1.5.0",
          "state": {
            "_dom_classes": [],
            "_model_module": "@jupyter-widgets/controls",
            "_model_module_version": "1.5.0",
            "_model_name": "CheckboxModel",
            "_view_count": null,
            "_view_module": "@jupyter-widgets/controls",
            "_view_module_version": "1.5.0",
            "_view_name": "CheckboxView",
            "description": "occu",
            "description_tooltip": null,
            "disabled": false,
            "indent": true,
            "layout": "IPY_MODEL_42e3c5a387d84c5782c76b1f0ee25d9b",
            "style": "IPY_MODEL_601f9b9769f24592a7b3e7a30f12a6c7",
            "value": false
          }
        },
        "b6036ee8d6eb491d9929f3312725afd1": {
          "model_module": "@jupyter-widgets/controls",
          "model_name": "CheckboxModel",
          "model_module_version": "1.5.0",
          "state": {
            "_dom_classes": [],
            "_model_module": "@jupyter-widgets/controls",
            "_model_module_version": "1.5.0",
            "_model_name": "CheckboxModel",
            "_view_count": null,
            "_view_module": "@jupyter-widgets/controls",
            "_view_module_version": "1.5.0",
            "_view_name": "CheckboxView",
            "description": "Is this variable Categorical?",
            "description_tooltip": null,
            "disabled": false,
            "indent": true,
            "layout": "IPY_MODEL_3311f1d3efc74aca8ec1b4a09ea4609e",
            "style": "IPY_MODEL_2c642717a50a4cd192ad9b95a55d2100",
            "value": false
          }
        },
        "83f75b5ad7044f2a9d7fa4712efb5875": {
          "model_module": "@jupyter-widgets/base",
          "model_name": "LayoutModel",
          "model_module_version": "1.2.0",
          "state": {
            "_model_module": "@jupyter-widgets/base",
            "_model_module_version": "1.2.0",
            "_model_name": "LayoutModel",
            "_view_count": null,
            "_view_module": "@jupyter-widgets/base",
            "_view_module_version": "1.2.0",
            "_view_name": "LayoutView",
            "align_content": null,
            "align_items": null,
            "align_self": null,
            "border": null,
            "bottom": null,
            "display": null,
            "flex": null,
            "flex_flow": null,
            "grid_area": null,
            "grid_auto_columns": null,
            "grid_auto_flow": null,
            "grid_auto_rows": null,
            "grid_column": null,
            "grid_gap": null,
            "grid_row": null,
            "grid_template_areas": null,
            "grid_template_columns": null,
            "grid_template_rows": null,
            "height": null,
            "justify_content": null,
            "justify_items": null,
            "left": null,
            "margin": null,
            "max_height": null,
            "max_width": null,
            "min_height": null,
            "min_width": null,
            "object_fit": null,
            "object_position": null,
            "order": null,
            "overflow": null,
            "overflow_x": null,
            "overflow_y": null,
            "padding": null,
            "right": null,
            "top": null,
            "visibility": null,
            "width": null
          }
        },
        "42e3c5a387d84c5782c76b1f0ee25d9b": {
          "model_module": "@jupyter-widgets/base",
          "model_name": "LayoutModel",
          "model_module_version": "1.2.0",
          "state": {
            "_model_module": "@jupyter-widgets/base",
            "_model_module_version": "1.2.0",
            "_model_name": "LayoutModel",
            "_view_count": null,
            "_view_module": "@jupyter-widgets/base",
            "_view_module_version": "1.2.0",
            "_view_name": "LayoutView",
            "align_content": null,
            "align_items": null,
            "align_self": null,
            "border": null,
            "bottom": null,
            "display": null,
            "flex": null,
            "flex_flow": null,
            "grid_area": null,
            "grid_auto_columns": null,
            "grid_auto_flow": null,
            "grid_auto_rows": null,
            "grid_column": null,
            "grid_gap": null,
            "grid_row": null,
            "grid_template_areas": null,
            "grid_template_columns": null,
            "grid_template_rows": null,
            "height": null,
            "justify_content": null,
            "justify_items": null,
            "left": null,
            "margin": null,
            "max_height": null,
            "max_width": null,
            "min_height": null,
            "min_width": null,
            "object_fit": null,
            "object_position": null,
            "order": null,
            "overflow": null,
            "overflow_x": null,
            "overflow_y": null,
            "padding": null,
            "right": null,
            "top": null,
            "visibility": null,
            "width": null
          }
        },
        "601f9b9769f24592a7b3e7a30f12a6c7": {
          "model_module": "@jupyter-widgets/controls",
          "model_name": "DescriptionStyleModel",
          "model_module_version": "1.5.0",
          "state": {
            "_model_module": "@jupyter-widgets/controls",
            "_model_module_version": "1.5.0",
            "_model_name": "DescriptionStyleModel",
            "_view_count": null,
            "_view_module": "@jupyter-widgets/base",
            "_view_module_version": "1.2.0",
            "_view_name": "StyleView",
            "description_width": ""
          }
        },
        "3311f1d3efc74aca8ec1b4a09ea4609e": {
          "model_module": "@jupyter-widgets/base",
          "model_name": "LayoutModel",
          "model_module_version": "1.2.0",
          "state": {
            "_model_module": "@jupyter-widgets/base",
            "_model_module_version": "1.2.0",
            "_model_name": "LayoutModel",
            "_view_count": null,
            "_view_module": "@jupyter-widgets/base",
            "_view_module_version": "1.2.0",
            "_view_name": "LayoutView",
            "align_content": null,
            "align_items": null,
            "align_self": null,
            "border": null,
            "bottom": null,
            "display": "none",
            "flex": null,
            "flex_flow": null,
            "grid_area": null,
            "grid_auto_columns": null,
            "grid_auto_flow": null,
            "grid_auto_rows": null,
            "grid_column": null,
            "grid_gap": null,
            "grid_row": null,
            "grid_template_areas": null,
            "grid_template_columns": null,
            "grid_template_rows": null,
            "height": null,
            "justify_content": null,
            "justify_items": null,
            "left": null,
            "margin": null,
            "max_height": null,
            "max_width": null,
            "min_height": null,
            "min_width": null,
            "object_fit": null,
            "object_position": null,
            "order": null,
            "overflow": null,
            "overflow_x": null,
            "overflow_y": null,
            "padding": null,
            "right": null,
            "top": null,
            "visibility": null,
            "width": "max-content"
          }
        },
        "2c642717a50a4cd192ad9b95a55d2100": {
          "model_module": "@jupyter-widgets/controls",
          "model_name": "DescriptionStyleModel",
          "model_module_version": "1.5.0",
          "state": {
            "_model_module": "@jupyter-widgets/controls",
            "_model_module_version": "1.5.0",
            "_model_name": "DescriptionStyleModel",
            "_view_count": null,
            "_view_module": "@jupyter-widgets/base",
            "_view_module_version": "1.2.0",
            "_view_name": "StyleView",
            "description_width": "initial"
          }
        },
        "7cc2ba4ba8fe4d59bb70822c8c8c4952": {
          "model_module": "@jupyter-widgets/controls",
          "model_name": "HBoxModel",
          "model_module_version": "1.5.0",
          "state": {
            "_dom_classes": [],
            "_model_module": "@jupyter-widgets/controls",
            "_model_module_version": "1.5.0",
            "_model_name": "HBoxModel",
            "_view_count": null,
            "_view_module": "@jupyter-widgets/controls",
            "_view_module_version": "1.5.0",
            "_view_name": "HBoxView",
            "box_style": "",
            "children": [
              "IPY_MODEL_acb3063528024f5db3deb780db637f6e",
              "IPY_MODEL_8cbc85a6c8e2485c99cf172714e966b9"
            ],
            "layout": "IPY_MODEL_be10bedf3498487f9cd6acbe9fdfeb64"
          }
        },
        "acb3063528024f5db3deb780db637f6e": {
          "model_module": "@jupyter-widgets/controls",
          "model_name": "CheckboxModel",
          "model_module_version": "1.5.0",
          "state": {
            "_dom_classes": [],
            "_model_module": "@jupyter-widgets/controls",
            "_model_module_version": "1.5.0",
            "_model_name": "CheckboxModel",
            "_view_count": null,
            "_view_module": "@jupyter-widgets/controls",
            "_view_module_version": "1.5.0",
            "_view_name": "CheckboxView",
            "description": "is_student",
            "description_tooltip": null,
            "disabled": false,
            "indent": true,
            "layout": "IPY_MODEL_fa989ba90cff49ce9d326668ed0a5188",
            "style": "IPY_MODEL_604e84112684466baa288e048838686b",
            "value": false
          }
        },
        "8cbc85a6c8e2485c99cf172714e966b9": {
          "model_module": "@jupyter-widgets/controls",
          "model_name": "CheckboxModel",
          "model_module_version": "1.5.0",
          "state": {
            "_dom_classes": [],
            "_model_module": "@jupyter-widgets/controls",
            "_model_module_version": "1.5.0",
            "_model_name": "CheckboxModel",
            "_view_count": null,
            "_view_module": "@jupyter-widgets/controls",
            "_view_module_version": "1.5.0",
            "_view_name": "CheckboxView",
            "description": "Is this variable Categorical?",
            "description_tooltip": null,
            "disabled": false,
            "indent": true,
            "layout": "IPY_MODEL_59cc3915fdc7414984bbf2e5ed547235",
            "style": "IPY_MODEL_97a8e5b3c26f4e6ea18dc98c286ff0bc",
            "value": false
          }
        },
        "be10bedf3498487f9cd6acbe9fdfeb64": {
          "model_module": "@jupyter-widgets/base",
          "model_name": "LayoutModel",
          "model_module_version": "1.2.0",
          "state": {
            "_model_module": "@jupyter-widgets/base",
            "_model_module_version": "1.2.0",
            "_model_name": "LayoutModel",
            "_view_count": null,
            "_view_module": "@jupyter-widgets/base",
            "_view_module_version": "1.2.0",
            "_view_name": "LayoutView",
            "align_content": null,
            "align_items": null,
            "align_self": null,
            "border": null,
            "bottom": null,
            "display": null,
            "flex": null,
            "flex_flow": null,
            "grid_area": null,
            "grid_auto_columns": null,
            "grid_auto_flow": null,
            "grid_auto_rows": null,
            "grid_column": null,
            "grid_gap": null,
            "grid_row": null,
            "grid_template_areas": null,
            "grid_template_columns": null,
            "grid_template_rows": null,
            "height": null,
            "justify_content": null,
            "justify_items": null,
            "left": null,
            "margin": null,
            "max_height": null,
            "max_width": null,
            "min_height": null,
            "min_width": null,
            "object_fit": null,
            "object_position": null,
            "order": null,
            "overflow": null,
            "overflow_x": null,
            "overflow_y": null,
            "padding": null,
            "right": null,
            "top": null,
            "visibility": null,
            "width": null
          }
        },
        "fa989ba90cff49ce9d326668ed0a5188": {
          "model_module": "@jupyter-widgets/base",
          "model_name": "LayoutModel",
          "model_module_version": "1.2.0",
          "state": {
            "_model_module": "@jupyter-widgets/base",
            "_model_module_version": "1.2.0",
            "_model_name": "LayoutModel",
            "_view_count": null,
            "_view_module": "@jupyter-widgets/base",
            "_view_module_version": "1.2.0",
            "_view_name": "LayoutView",
            "align_content": null,
            "align_items": null,
            "align_self": null,
            "border": null,
            "bottom": null,
            "display": null,
            "flex": null,
            "flex_flow": null,
            "grid_area": null,
            "grid_auto_columns": null,
            "grid_auto_flow": null,
            "grid_auto_rows": null,
            "grid_column": null,
            "grid_gap": null,
            "grid_row": null,
            "grid_template_areas": null,
            "grid_template_columns": null,
            "grid_template_rows": null,
            "height": null,
            "justify_content": null,
            "justify_items": null,
            "left": null,
            "margin": null,
            "max_height": null,
            "max_width": null,
            "min_height": null,
            "min_width": null,
            "object_fit": null,
            "object_position": null,
            "order": null,
            "overflow": null,
            "overflow_x": null,
            "overflow_y": null,
            "padding": null,
            "right": null,
            "top": null,
            "visibility": null,
            "width": null
          }
        },
        "604e84112684466baa288e048838686b": {
          "model_module": "@jupyter-widgets/controls",
          "model_name": "DescriptionStyleModel",
          "model_module_version": "1.5.0",
          "state": {
            "_model_module": "@jupyter-widgets/controls",
            "_model_module_version": "1.5.0",
            "_model_name": "DescriptionStyleModel",
            "_view_count": null,
            "_view_module": "@jupyter-widgets/base",
            "_view_module_version": "1.2.0",
            "_view_name": "StyleView",
            "description_width": ""
          }
        },
        "59cc3915fdc7414984bbf2e5ed547235": {
          "model_module": "@jupyter-widgets/base",
          "model_name": "LayoutModel",
          "model_module_version": "1.2.0",
          "state": {
            "_model_module": "@jupyter-widgets/base",
            "_model_module_version": "1.2.0",
            "_model_name": "LayoutModel",
            "_view_count": null,
            "_view_module": "@jupyter-widgets/base",
            "_view_module_version": "1.2.0",
            "_view_name": "LayoutView",
            "align_content": null,
            "align_items": null,
            "align_self": null,
            "border": null,
            "bottom": null,
            "display": "none",
            "flex": null,
            "flex_flow": null,
            "grid_area": null,
            "grid_auto_columns": null,
            "grid_auto_flow": null,
            "grid_auto_rows": null,
            "grid_column": null,
            "grid_gap": null,
            "grid_row": null,
            "grid_template_areas": null,
            "grid_template_columns": null,
            "grid_template_rows": null,
            "height": null,
            "justify_content": null,
            "justify_items": null,
            "left": null,
            "margin": null,
            "max_height": null,
            "max_width": null,
            "min_height": null,
            "min_width": null,
            "object_fit": null,
            "object_position": null,
            "order": null,
            "overflow": null,
            "overflow_x": null,
            "overflow_y": null,
            "padding": null,
            "right": null,
            "top": null,
            "visibility": null,
            "width": "max-content"
          }
        },
        "97a8e5b3c26f4e6ea18dc98c286ff0bc": {
          "model_module": "@jupyter-widgets/controls",
          "model_name": "DescriptionStyleModel",
          "model_module_version": "1.5.0",
          "state": {
            "_model_module": "@jupyter-widgets/controls",
            "_model_module_version": "1.5.0",
            "_model_name": "DescriptionStyleModel",
            "_view_count": null,
            "_view_module": "@jupyter-widgets/base",
            "_view_module_version": "1.2.0",
            "_view_name": "StyleView",
            "description_width": "initial"
          }
        },
        "03b2d7eaac6b46fdb3715589d8389014": {
          "model_module": "@jupyter-widgets/controls",
          "model_name": "LabelModel",
          "model_module_version": "1.5.0",
          "state": {
            "_dom_classes": [],
            "_model_module": "@jupyter-widgets/controls",
            "_model_module_version": "1.5.0",
            "_model_name": "LabelModel",
            "_view_count": null,
            "_view_module": "@jupyter-widgets/controls",
            "_view_module_version": "1.5.0",
            "_view_name": "LabelView",
            "description": "",
            "description_tooltip": null,
            "layout": "IPY_MODEL_3e7759b108b84a598e9dede0602ed40e",
            "placeholder": "​",
            "style": "IPY_MODEL_e85d91ba4ef443b2878468363cb29aae",
            "value": "Controls:"
          }
        },
        "3e7759b108b84a598e9dede0602ed40e": {
          "model_module": "@jupyter-widgets/base",
          "model_name": "LayoutModel",
          "model_module_version": "1.2.0",
          "state": {
            "_model_module": "@jupyter-widgets/base",
            "_model_module_version": "1.2.0",
            "_model_name": "LayoutModel",
            "_view_count": null,
            "_view_module": "@jupyter-widgets/base",
            "_view_module_version": "1.2.0",
            "_view_name": "LayoutView",
            "align_content": null,
            "align_items": null,
            "align_self": null,
            "border": null,
            "bottom": null,
            "display": null,
            "flex": null,
            "flex_flow": null,
            "grid_area": null,
            "grid_auto_columns": null,
            "grid_auto_flow": null,
            "grid_auto_rows": null,
            "grid_column": null,
            "grid_gap": null,
            "grid_row": null,
            "grid_template_areas": null,
            "grid_template_columns": null,
            "grid_template_rows": null,
            "height": null,
            "justify_content": null,
            "justify_items": null,
            "left": null,
            "margin": null,
            "max_height": null,
            "max_width": null,
            "min_height": null,
            "min_width": null,
            "object_fit": null,
            "object_position": null,
            "order": null,
            "overflow": null,
            "overflow_x": null,
            "overflow_y": null,
            "padding": null,
            "right": null,
            "top": null,
            "visibility": null,
            "width": null
          }
        },
        "e85d91ba4ef443b2878468363cb29aae": {
          "model_module": "@jupyter-widgets/controls",
          "model_name": "DescriptionStyleModel",
          "model_module_version": "1.5.0",
          "state": {
            "_model_module": "@jupyter-widgets/controls",
            "_model_module_version": "1.5.0",
            "_model_name": "DescriptionStyleModel",
            "_view_count": null,
            "_view_module": "@jupyter-widgets/base",
            "_view_module_version": "1.2.0",
            "_view_name": "StyleView",
            "description_width": ""
          }
        },
        "d8be569243324360ab97f00318c27789": {
          "model_module": "@jupyter-widgets/controls",
          "model_name": "HBoxModel",
          "model_module_version": "1.5.0",
          "state": {
            "_dom_classes": [],
            "_model_module": "@jupyter-widgets/controls",
            "_model_module_version": "1.5.0",
            "_model_name": "HBoxModel",
            "_view_count": null,
            "_view_module": "@jupyter-widgets/controls",
            "_view_module_version": "1.5.0",
            "_view_name": "HBoxView",
            "box_style": "",
            "children": [
              "IPY_MODEL_6f3c55b64cef437496270fa8b99badfc",
              "IPY_MODEL_9cf176cbe8f044d3807422fd9b43b1ee"
            ],
            "layout": "IPY_MODEL_bc14787196db42e0a41d2d9b0ac84fb2"
          }
        },
        "6f3c55b64cef437496270fa8b99badfc": {
          "model_module": "@jupyter-widgets/controls",
          "model_name": "CheckboxModel",
          "model_module_version": "1.5.0",
          "state": {
            "_dom_classes": [],
            "_model_module": "@jupyter-widgets/controls",
            "_model_module_version": "1.5.0",
            "_model_name": "CheckboxModel",
            "_view_count": null,
            "_view_module": "@jupyter-widgets/controls",
            "_view_module_version": "1.5.0",
            "_view_name": "CheckboxView",
            "description": "gender",
            "description_tooltip": null,
            "disabled": false,
            "indent": true,
            "layout": "IPY_MODEL_a2fbf6e6cefa4541bf2bcff29aca3ec0",
            "style": "IPY_MODEL_31b41223f24948748819182075d1e948",
            "value": true
          }
        },
        "9cf176cbe8f044d3807422fd9b43b1ee": {
          "model_module": "@jupyter-widgets/controls",
          "model_name": "CheckboxModel",
          "model_module_version": "1.5.0",
          "state": {
            "_dom_classes": [],
            "_model_module": "@jupyter-widgets/controls",
            "_model_module_version": "1.5.0",
            "_model_name": "CheckboxModel",
            "_view_count": null,
            "_view_module": "@jupyter-widgets/controls",
            "_view_module_version": "1.5.0",
            "_view_name": "CheckboxView",
            "description": "Is this variable Categorical?",
            "description_tooltip": null,
            "disabled": false,
            "indent": true,
            "layout": "IPY_MODEL_08c8a37184dc4964a1854643d38bbcaf",
            "style": "IPY_MODEL_8abe357723f14d76850873efd10dc148",
            "value": true
          }
        },
        "bc14787196db42e0a41d2d9b0ac84fb2": {
          "model_module": "@jupyter-widgets/base",
          "model_name": "LayoutModel",
          "model_module_version": "1.2.0",
          "state": {
            "_model_module": "@jupyter-widgets/base",
            "_model_module_version": "1.2.0",
            "_model_name": "LayoutModel",
            "_view_count": null,
            "_view_module": "@jupyter-widgets/base",
            "_view_module_version": "1.2.0",
            "_view_name": "LayoutView",
            "align_content": null,
            "align_items": null,
            "align_self": null,
            "border": null,
            "bottom": null,
            "display": null,
            "flex": null,
            "flex_flow": null,
            "grid_area": null,
            "grid_auto_columns": null,
            "grid_auto_flow": null,
            "grid_auto_rows": null,
            "grid_column": null,
            "grid_gap": null,
            "grid_row": null,
            "grid_template_areas": null,
            "grid_template_columns": null,
            "grid_template_rows": null,
            "height": null,
            "justify_content": null,
            "justify_items": null,
            "left": null,
            "margin": null,
            "max_height": null,
            "max_width": null,
            "min_height": null,
            "min_width": null,
            "object_fit": null,
            "object_position": null,
            "order": null,
            "overflow": null,
            "overflow_x": null,
            "overflow_y": null,
            "padding": null,
            "right": null,
            "top": null,
            "visibility": null,
            "width": null
          }
        },
        "a2fbf6e6cefa4541bf2bcff29aca3ec0": {
          "model_module": "@jupyter-widgets/base",
          "model_name": "LayoutModel",
          "model_module_version": "1.2.0",
          "state": {
            "_model_module": "@jupyter-widgets/base",
            "_model_module_version": "1.2.0",
            "_model_name": "LayoutModel",
            "_view_count": null,
            "_view_module": "@jupyter-widgets/base",
            "_view_module_version": "1.2.0",
            "_view_name": "LayoutView",
            "align_content": null,
            "align_items": null,
            "align_self": null,
            "border": null,
            "bottom": null,
            "display": null,
            "flex": null,
            "flex_flow": null,
            "grid_area": null,
            "grid_auto_columns": null,
            "grid_auto_flow": null,
            "grid_auto_rows": null,
            "grid_column": null,
            "grid_gap": null,
            "grid_row": null,
            "grid_template_areas": null,
            "grid_template_columns": null,
            "grid_template_rows": null,
            "height": null,
            "justify_content": null,
            "justify_items": null,
            "left": null,
            "margin": null,
            "max_height": null,
            "max_width": null,
            "min_height": null,
            "min_width": null,
            "object_fit": null,
            "object_position": null,
            "order": null,
            "overflow": null,
            "overflow_x": null,
            "overflow_y": null,
            "padding": null,
            "right": null,
            "top": null,
            "visibility": null,
            "width": null
          }
        },
        "31b41223f24948748819182075d1e948": {
          "model_module": "@jupyter-widgets/controls",
          "model_name": "DescriptionStyleModel",
          "model_module_version": "1.5.0",
          "state": {
            "_model_module": "@jupyter-widgets/controls",
            "_model_module_version": "1.5.0",
            "_model_name": "DescriptionStyleModel",
            "_view_count": null,
            "_view_module": "@jupyter-widgets/base",
            "_view_module_version": "1.2.0",
            "_view_name": "StyleView",
            "description_width": ""
          }
        },
        "08c8a37184dc4964a1854643d38bbcaf": {
          "model_module": "@jupyter-widgets/base",
          "model_name": "LayoutModel",
          "model_module_version": "1.2.0",
          "state": {
            "_model_module": "@jupyter-widgets/base",
            "_model_module_version": "1.2.0",
            "_model_name": "LayoutModel",
            "_view_count": null,
            "_view_module": "@jupyter-widgets/base",
            "_view_module_version": "1.2.0",
            "_view_name": "LayoutView",
            "align_content": null,
            "align_items": null,
            "align_self": null,
            "border": null,
            "bottom": null,
            "display": "flex",
            "flex": null,
            "flex_flow": null,
            "grid_area": null,
            "grid_auto_columns": null,
            "grid_auto_flow": null,
            "grid_auto_rows": null,
            "grid_column": null,
            "grid_gap": null,
            "grid_row": null,
            "grid_template_areas": null,
            "grid_template_columns": null,
            "grid_template_rows": null,
            "height": null,
            "justify_content": null,
            "justify_items": null,
            "left": null,
            "margin": null,
            "max_height": null,
            "max_width": null,
            "min_height": null,
            "min_width": null,
            "object_fit": null,
            "object_position": null,
            "order": null,
            "overflow": null,
            "overflow_x": null,
            "overflow_y": null,
            "padding": null,
            "right": null,
            "top": null,
            "visibility": null,
            "width": "max-content"
          }
        },
        "8abe357723f14d76850873efd10dc148": {
          "model_module": "@jupyter-widgets/controls",
          "model_name": "DescriptionStyleModel",
          "model_module_version": "1.5.0",
          "state": {
            "_model_module": "@jupyter-widgets/controls",
            "_model_module_version": "1.5.0",
            "_model_name": "DescriptionStyleModel",
            "_view_count": null,
            "_view_module": "@jupyter-widgets/base",
            "_view_module_version": "1.2.0",
            "_view_name": "StyleView",
            "description_width": "initial"
          }
        },
        "4c5f47bc71c34166b5789a8e3380306a": {
          "model_module": "@jupyter-widgets/controls",
          "model_name": "HBoxModel",
          "model_module_version": "1.5.0",
          "state": {
            "_dom_classes": [],
            "_model_module": "@jupyter-widgets/controls",
            "_model_module_version": "1.5.0",
            "_model_name": "HBoxModel",
            "_view_count": null,
            "_view_module": "@jupyter-widgets/controls",
            "_view_module_version": "1.5.0",
            "_view_name": "HBoxView",
            "box_style": "",
            "children": [
              "IPY_MODEL_ec654c44b9e5492f86b30d6374121e3e",
              "IPY_MODEL_ba6582f675734bd99d52eafc5f85b7ed"
            ],
            "layout": "IPY_MODEL_d515f612d7874f028f133f86c76fa598"
          }
        },
        "ec654c44b9e5492f86b30d6374121e3e": {
          "model_module": "@jupyter-widgets/controls",
          "model_name": "CheckboxModel",
          "model_module_version": "1.5.0",
          "state": {
            "_dom_classes": [],
            "_model_module": "@jupyter-widgets/controls",
            "_model_module_version": "1.5.0",
            "_model_name": "CheckboxModel",
            "_view_count": null,
            "_view_module": "@jupyter-widgets/controls",
            "_view_module_version": "1.5.0",
            "_view_name": "CheckboxView",
            "description": "age",
            "description_tooltip": null,
            "disabled": true,
            "indent": true,
            "layout": "IPY_MODEL_fb8ddc3580634a969d3872521eb8ca1c",
            "style": "IPY_MODEL_ebe8cd6c1b2e4656adc8b1dc0318ccff",
            "value": false
          }
        },
        "ba6582f675734bd99d52eafc5f85b7ed": {
          "model_module": "@jupyter-widgets/controls",
          "model_name": "CheckboxModel",
          "model_module_version": "1.5.0",
          "state": {
            "_dom_classes": [],
            "_model_module": "@jupyter-widgets/controls",
            "_model_module_version": "1.5.0",
            "_model_name": "CheckboxModel",
            "_view_count": null,
            "_view_module": "@jupyter-widgets/controls",
            "_view_module_version": "1.5.0",
            "_view_name": "CheckboxView",
            "description": "Is this variable Categorical?",
            "description_tooltip": null,
            "disabled": false,
            "indent": true,
            "layout": "IPY_MODEL_217ede9236254edfbf8f50de5f87bb23",
            "style": "IPY_MODEL_60ece130588e46118e61e10ae06d1905",
            "value": false
          }
        },
        "d515f612d7874f028f133f86c76fa598": {
          "model_module": "@jupyter-widgets/base",
          "model_name": "LayoutModel",
          "model_module_version": "1.2.0",
          "state": {
            "_model_module": "@jupyter-widgets/base",
            "_model_module_version": "1.2.0",
            "_model_name": "LayoutModel",
            "_view_count": null,
            "_view_module": "@jupyter-widgets/base",
            "_view_module_version": "1.2.0",
            "_view_name": "LayoutView",
            "align_content": null,
            "align_items": null,
            "align_self": null,
            "border": null,
            "bottom": null,
            "display": null,
            "flex": null,
            "flex_flow": null,
            "grid_area": null,
            "grid_auto_columns": null,
            "grid_auto_flow": null,
            "grid_auto_rows": null,
            "grid_column": null,
            "grid_gap": null,
            "grid_row": null,
            "grid_template_areas": null,
            "grid_template_columns": null,
            "grid_template_rows": null,
            "height": null,
            "justify_content": null,
            "justify_items": null,
            "left": null,
            "margin": null,
            "max_height": null,
            "max_width": null,
            "min_height": null,
            "min_width": null,
            "object_fit": null,
            "object_position": null,
            "order": null,
            "overflow": null,
            "overflow_x": null,
            "overflow_y": null,
            "padding": null,
            "right": null,
            "top": null,
            "visibility": null,
            "width": null
          }
        },
        "fb8ddc3580634a969d3872521eb8ca1c": {
          "model_module": "@jupyter-widgets/base",
          "model_name": "LayoutModel",
          "model_module_version": "1.2.0",
          "state": {
            "_model_module": "@jupyter-widgets/base",
            "_model_module_version": "1.2.0",
            "_model_name": "LayoutModel",
            "_view_count": null,
            "_view_module": "@jupyter-widgets/base",
            "_view_module_version": "1.2.0",
            "_view_name": "LayoutView",
            "align_content": null,
            "align_items": null,
            "align_self": null,
            "border": null,
            "bottom": null,
            "display": null,
            "flex": null,
            "flex_flow": null,
            "grid_area": null,
            "grid_auto_columns": null,
            "grid_auto_flow": null,
            "grid_auto_rows": null,
            "grid_column": null,
            "grid_gap": null,
            "grid_row": null,
            "grid_template_areas": null,
            "grid_template_columns": null,
            "grid_template_rows": null,
            "height": null,
            "justify_content": null,
            "justify_items": null,
            "left": null,
            "margin": null,
            "max_height": null,
            "max_width": null,
            "min_height": null,
            "min_width": null,
            "object_fit": null,
            "object_position": null,
            "order": null,
            "overflow": null,
            "overflow_x": null,
            "overflow_y": null,
            "padding": null,
            "right": null,
            "top": null,
            "visibility": null,
            "width": null
          }
        },
        "ebe8cd6c1b2e4656adc8b1dc0318ccff": {
          "model_module": "@jupyter-widgets/controls",
          "model_name": "DescriptionStyleModel",
          "model_module_version": "1.5.0",
          "state": {
            "_model_module": "@jupyter-widgets/controls",
            "_model_module_version": "1.5.0",
            "_model_name": "DescriptionStyleModel",
            "_view_count": null,
            "_view_module": "@jupyter-widgets/base",
            "_view_module_version": "1.2.0",
            "_view_name": "StyleView",
            "description_width": ""
          }
        },
        "217ede9236254edfbf8f50de5f87bb23": {
          "model_module": "@jupyter-widgets/base",
          "model_name": "LayoutModel",
          "model_module_version": "1.2.0",
          "state": {
            "_model_module": "@jupyter-widgets/base",
            "_model_module_version": "1.2.0",
            "_model_name": "LayoutModel",
            "_view_count": null,
            "_view_module": "@jupyter-widgets/base",
            "_view_module_version": "1.2.0",
            "_view_name": "LayoutView",
            "align_content": null,
            "align_items": null,
            "align_self": null,
            "border": null,
            "bottom": null,
            "display": "none",
            "flex": null,
            "flex_flow": null,
            "grid_area": null,
            "grid_auto_columns": null,
            "grid_auto_flow": null,
            "grid_auto_rows": null,
            "grid_column": null,
            "grid_gap": null,
            "grid_row": null,
            "grid_template_areas": null,
            "grid_template_columns": null,
            "grid_template_rows": null,
            "height": null,
            "justify_content": null,
            "justify_items": null,
            "left": null,
            "margin": null,
            "max_height": null,
            "max_width": null,
            "min_height": null,
            "min_width": null,
            "object_fit": null,
            "object_position": null,
            "order": null,
            "overflow": null,
            "overflow_x": null,
            "overflow_y": null,
            "padding": null,
            "right": null,
            "top": null,
            "visibility": null,
            "width": "max-content"
          }
        },
        "60ece130588e46118e61e10ae06d1905": {
          "model_module": "@jupyter-widgets/controls",
          "model_name": "DescriptionStyleModel",
          "model_module_version": "1.5.0",
          "state": {
            "_model_module": "@jupyter-widgets/controls",
            "_model_module_version": "1.5.0",
            "_model_name": "DescriptionStyleModel",
            "_view_count": null,
            "_view_module": "@jupyter-widgets/base",
            "_view_module_version": "1.2.0",
            "_view_name": "StyleView",
            "description_width": "initial"
          }
        },
        "a71fc6c2639b4756854df6fdd529f4ea": {
          "model_module": "@jupyter-widgets/controls",
          "model_name": "HBoxModel",
          "model_module_version": "1.5.0",
          "state": {
            "_dom_classes": [],
            "_model_module": "@jupyter-widgets/controls",
            "_model_module_version": "1.5.0",
            "_model_name": "HBoxModel",
            "_view_count": null,
            "_view_module": "@jupyter-widgets/controls",
            "_view_module_version": "1.5.0",
            "_view_name": "HBoxView",
            "box_style": "",
            "children": [
              "IPY_MODEL_f8f9a56e7dbb427bbaaba225832b6e2c",
              "IPY_MODEL_3ae6098ac9f64f49909951495a6371d2"
            ],
            "layout": "IPY_MODEL_5bca5e7eb2e1480aafe1350e140966b7"
          }
        },
        "f8f9a56e7dbb427bbaaba225832b6e2c": {
          "model_module": "@jupyter-widgets/controls",
          "model_name": "CheckboxModel",
          "model_module_version": "1.5.0",
          "state": {
            "_dom_classes": [],
            "_model_module": "@jupyter-widgets/controls",
            "_model_module_version": "1.5.0",
            "_model_name": "CheckboxModel",
            "_view_count": null,
            "_view_module": "@jupyter-widgets/controls",
            "_view_module_version": "1.5.0",
            "_view_name": "CheckboxView",
            "description": "occu",
            "description_tooltip": null,
            "disabled": false,
            "indent": true,
            "layout": "IPY_MODEL_38035bec31014f00aa4b7e94722ad378",
            "style": "IPY_MODEL_46c76af6666d4330847a0e1ce2bf81f8",
            "value": false
          }
        },
        "3ae6098ac9f64f49909951495a6371d2": {
          "model_module": "@jupyter-widgets/controls",
          "model_name": "CheckboxModel",
          "model_module_version": "1.5.0",
          "state": {
            "_dom_classes": [],
            "_model_module": "@jupyter-widgets/controls",
            "_model_module_version": "1.5.0",
            "_model_name": "CheckboxModel",
            "_view_count": null,
            "_view_module": "@jupyter-widgets/controls",
            "_view_module_version": "1.5.0",
            "_view_name": "CheckboxView",
            "description": "Is this variable Categorical?",
            "description_tooltip": null,
            "disabled": false,
            "indent": true,
            "layout": "IPY_MODEL_4bb7f58fed514c90952686e3f9cd3e15",
            "style": "IPY_MODEL_76ea1a5053a14227a849991566ab2da5",
            "value": false
          }
        },
        "5bca5e7eb2e1480aafe1350e140966b7": {
          "model_module": "@jupyter-widgets/base",
          "model_name": "LayoutModel",
          "model_module_version": "1.2.0",
          "state": {
            "_model_module": "@jupyter-widgets/base",
            "_model_module_version": "1.2.0",
            "_model_name": "LayoutModel",
            "_view_count": null,
            "_view_module": "@jupyter-widgets/base",
            "_view_module_version": "1.2.0",
            "_view_name": "LayoutView",
            "align_content": null,
            "align_items": null,
            "align_self": null,
            "border": null,
            "bottom": null,
            "display": null,
            "flex": null,
            "flex_flow": null,
            "grid_area": null,
            "grid_auto_columns": null,
            "grid_auto_flow": null,
            "grid_auto_rows": null,
            "grid_column": null,
            "grid_gap": null,
            "grid_row": null,
            "grid_template_areas": null,
            "grid_template_columns": null,
            "grid_template_rows": null,
            "height": null,
            "justify_content": null,
            "justify_items": null,
            "left": null,
            "margin": null,
            "max_height": null,
            "max_width": null,
            "min_height": null,
            "min_width": null,
            "object_fit": null,
            "object_position": null,
            "order": null,
            "overflow": null,
            "overflow_x": null,
            "overflow_y": null,
            "padding": null,
            "right": null,
            "top": null,
            "visibility": null,
            "width": null
          }
        },
        "38035bec31014f00aa4b7e94722ad378": {
          "model_module": "@jupyter-widgets/base",
          "model_name": "LayoutModel",
          "model_module_version": "1.2.0",
          "state": {
            "_model_module": "@jupyter-widgets/base",
            "_model_module_version": "1.2.0",
            "_model_name": "LayoutModel",
            "_view_count": null,
            "_view_module": "@jupyter-widgets/base",
            "_view_module_version": "1.2.0",
            "_view_name": "LayoutView",
            "align_content": null,
            "align_items": null,
            "align_self": null,
            "border": null,
            "bottom": null,
            "display": null,
            "flex": null,
            "flex_flow": null,
            "grid_area": null,
            "grid_auto_columns": null,
            "grid_auto_flow": null,
            "grid_auto_rows": null,
            "grid_column": null,
            "grid_gap": null,
            "grid_row": null,
            "grid_template_areas": null,
            "grid_template_columns": null,
            "grid_template_rows": null,
            "height": null,
            "justify_content": null,
            "justify_items": null,
            "left": null,
            "margin": null,
            "max_height": null,
            "max_width": null,
            "min_height": null,
            "min_width": null,
            "object_fit": null,
            "object_position": null,
            "order": null,
            "overflow": null,
            "overflow_x": null,
            "overflow_y": null,
            "padding": null,
            "right": null,
            "top": null,
            "visibility": null,
            "width": null
          }
        },
        "46c76af6666d4330847a0e1ce2bf81f8": {
          "model_module": "@jupyter-widgets/controls",
          "model_name": "DescriptionStyleModel",
          "model_module_version": "1.5.0",
          "state": {
            "_model_module": "@jupyter-widgets/controls",
            "_model_module_version": "1.5.0",
            "_model_name": "DescriptionStyleModel",
            "_view_count": null,
            "_view_module": "@jupyter-widgets/base",
            "_view_module_version": "1.2.0",
            "_view_name": "StyleView",
            "description_width": ""
          }
        },
        "4bb7f58fed514c90952686e3f9cd3e15": {
          "model_module": "@jupyter-widgets/base",
          "model_name": "LayoutModel",
          "model_module_version": "1.2.0",
          "state": {
            "_model_module": "@jupyter-widgets/base",
            "_model_module_version": "1.2.0",
            "_model_name": "LayoutModel",
            "_view_count": null,
            "_view_module": "@jupyter-widgets/base",
            "_view_module_version": "1.2.0",
            "_view_name": "LayoutView",
            "align_content": null,
            "align_items": null,
            "align_self": null,
            "border": null,
            "bottom": null,
            "display": "none",
            "flex": null,
            "flex_flow": null,
            "grid_area": null,
            "grid_auto_columns": null,
            "grid_auto_flow": null,
            "grid_auto_rows": null,
            "grid_column": null,
            "grid_gap": null,
            "grid_row": null,
            "grid_template_areas": null,
            "grid_template_columns": null,
            "grid_template_rows": null,
            "height": null,
            "justify_content": null,
            "justify_items": null,
            "left": null,
            "margin": null,
            "max_height": null,
            "max_width": null,
            "min_height": null,
            "min_width": null,
            "object_fit": null,
            "object_position": null,
            "order": null,
            "overflow": null,
            "overflow_x": null,
            "overflow_y": null,
            "padding": null,
            "right": null,
            "top": null,
            "visibility": null,
            "width": "max-content"
          }
        },
        "76ea1a5053a14227a849991566ab2da5": {
          "model_module": "@jupyter-widgets/controls",
          "model_name": "DescriptionStyleModel",
          "model_module_version": "1.5.0",
          "state": {
            "_model_module": "@jupyter-widgets/controls",
            "_model_module_version": "1.5.0",
            "_model_name": "DescriptionStyleModel",
            "_view_count": null,
            "_view_module": "@jupyter-widgets/base",
            "_view_module_version": "1.2.0",
            "_view_name": "StyleView",
            "description_width": "initial"
          }
        },
        "b3ea5c58049c4d46a14a212dab05482e": {
          "model_module": "@jupyter-widgets/controls",
          "model_name": "HBoxModel",
          "model_module_version": "1.5.0",
          "state": {
            "_dom_classes": [],
            "_model_module": "@jupyter-widgets/controls",
            "_model_module_version": "1.5.0",
            "_model_name": "HBoxModel",
            "_view_count": null,
            "_view_module": "@jupyter-widgets/controls",
            "_view_module_version": "1.5.0",
            "_view_name": "HBoxView",
            "box_style": "",
            "children": [
              "IPY_MODEL_4fe40b3fdd774e37b9e0d2bc89d5d90a",
              "IPY_MODEL_63ac372c05fb4f86bc0c6c6ec40f95a5"
            ],
            "layout": "IPY_MODEL_12bbad4d6d604d18addb6c2e10e16b79"
          }
        },
        "4fe40b3fdd774e37b9e0d2bc89d5d90a": {
          "model_module": "@jupyter-widgets/controls",
          "model_name": "CheckboxModel",
          "model_module_version": "1.5.0",
          "state": {
            "_dom_classes": [],
            "_model_module": "@jupyter-widgets/controls",
            "_model_module_version": "1.5.0",
            "_model_name": "CheckboxModel",
            "_view_count": null,
            "_view_module": "@jupyter-widgets/controls",
            "_view_module_version": "1.5.0",
            "_view_name": "CheckboxView",
            "description": "is_student",
            "description_tooltip": null,
            "disabled": false,
            "indent": true,
            "layout": "IPY_MODEL_3337f4aee1844b96b952b65b0095b299",
            "style": "IPY_MODEL_b897560e8bf34c06b509941609d800e9",
            "value": false
          }
        },
        "63ac372c05fb4f86bc0c6c6ec40f95a5": {
          "model_module": "@jupyter-widgets/controls",
          "model_name": "CheckboxModel",
          "model_module_version": "1.5.0",
          "state": {
            "_dom_classes": [],
            "_model_module": "@jupyter-widgets/controls",
            "_model_module_version": "1.5.0",
            "_model_name": "CheckboxModel",
            "_view_count": null,
            "_view_module": "@jupyter-widgets/controls",
            "_view_module_version": "1.5.0",
            "_view_name": "CheckboxView",
            "description": "Is this variable Categorical?",
            "description_tooltip": null,
            "disabled": false,
            "indent": true,
            "layout": "IPY_MODEL_9a18c341a9944f13934782f151fd37b9",
            "style": "IPY_MODEL_c2ef577011404b22b1bd643981ac29c0",
            "value": false
          }
        },
        "12bbad4d6d604d18addb6c2e10e16b79": {
          "model_module": "@jupyter-widgets/base",
          "model_name": "LayoutModel",
          "model_module_version": "1.2.0",
          "state": {
            "_model_module": "@jupyter-widgets/base",
            "_model_module_version": "1.2.0",
            "_model_name": "LayoutModel",
            "_view_count": null,
            "_view_module": "@jupyter-widgets/base",
            "_view_module_version": "1.2.0",
            "_view_name": "LayoutView",
            "align_content": null,
            "align_items": null,
            "align_self": null,
            "border": null,
            "bottom": null,
            "display": null,
            "flex": null,
            "flex_flow": null,
            "grid_area": null,
            "grid_auto_columns": null,
            "grid_auto_flow": null,
            "grid_auto_rows": null,
            "grid_column": null,
            "grid_gap": null,
            "grid_row": null,
            "grid_template_areas": null,
            "grid_template_columns": null,
            "grid_template_rows": null,
            "height": null,
            "justify_content": null,
            "justify_items": null,
            "left": null,
            "margin": null,
            "max_height": null,
            "max_width": null,
            "min_height": null,
            "min_width": null,
            "object_fit": null,
            "object_position": null,
            "order": null,
            "overflow": null,
            "overflow_x": null,
            "overflow_y": null,
            "padding": null,
            "right": null,
            "top": null,
            "visibility": null,
            "width": null
          }
        },
        "3337f4aee1844b96b952b65b0095b299": {
          "model_module": "@jupyter-widgets/base",
          "model_name": "LayoutModel",
          "model_module_version": "1.2.0",
          "state": {
            "_model_module": "@jupyter-widgets/base",
            "_model_module_version": "1.2.0",
            "_model_name": "LayoutModel",
            "_view_count": null,
            "_view_module": "@jupyter-widgets/base",
            "_view_module_version": "1.2.0",
            "_view_name": "LayoutView",
            "align_content": null,
            "align_items": null,
            "align_self": null,
            "border": null,
            "bottom": null,
            "display": null,
            "flex": null,
            "flex_flow": null,
            "grid_area": null,
            "grid_auto_columns": null,
            "grid_auto_flow": null,
            "grid_auto_rows": null,
            "grid_column": null,
            "grid_gap": null,
            "grid_row": null,
            "grid_template_areas": null,
            "grid_template_columns": null,
            "grid_template_rows": null,
            "height": null,
            "justify_content": null,
            "justify_items": null,
            "left": null,
            "margin": null,
            "max_height": null,
            "max_width": null,
            "min_height": null,
            "min_width": null,
            "object_fit": null,
            "object_position": null,
            "order": null,
            "overflow": null,
            "overflow_x": null,
            "overflow_y": null,
            "padding": null,
            "right": null,
            "top": null,
            "visibility": null,
            "width": null
          }
        },
        "b897560e8bf34c06b509941609d800e9": {
          "model_module": "@jupyter-widgets/controls",
          "model_name": "DescriptionStyleModel",
          "model_module_version": "1.5.0",
          "state": {
            "_model_module": "@jupyter-widgets/controls",
            "_model_module_version": "1.5.0",
            "_model_name": "DescriptionStyleModel",
            "_view_count": null,
            "_view_module": "@jupyter-widgets/base",
            "_view_module_version": "1.2.0",
            "_view_name": "StyleView",
            "description_width": ""
          }
        },
        "9a18c341a9944f13934782f151fd37b9": {
          "model_module": "@jupyter-widgets/base",
          "model_name": "LayoutModel",
          "model_module_version": "1.2.0",
          "state": {
            "_model_module": "@jupyter-widgets/base",
            "_model_module_version": "1.2.0",
            "_model_name": "LayoutModel",
            "_view_count": null,
            "_view_module": "@jupyter-widgets/base",
            "_view_module_version": "1.2.0",
            "_view_name": "LayoutView",
            "align_content": null,
            "align_items": null,
            "align_self": null,
            "border": null,
            "bottom": null,
            "display": "none",
            "flex": null,
            "flex_flow": null,
            "grid_area": null,
            "grid_auto_columns": null,
            "grid_auto_flow": null,
            "grid_auto_rows": null,
            "grid_column": null,
            "grid_gap": null,
            "grid_row": null,
            "grid_template_areas": null,
            "grid_template_columns": null,
            "grid_template_rows": null,
            "height": null,
            "justify_content": null,
            "justify_items": null,
            "left": null,
            "margin": null,
            "max_height": null,
            "max_width": null,
            "min_height": null,
            "min_width": null,
            "object_fit": null,
            "object_position": null,
            "order": null,
            "overflow": null,
            "overflow_x": null,
            "overflow_y": null,
            "padding": null,
            "right": null,
            "top": null,
            "visibility": null,
            "width": "max-content"
          }
        },
        "c2ef577011404b22b1bd643981ac29c0": {
          "model_module": "@jupyter-widgets/controls",
          "model_name": "DescriptionStyleModel",
          "model_module_version": "1.5.0",
          "state": {
            "_model_module": "@jupyter-widgets/controls",
            "_model_module_version": "1.5.0",
            "_model_name": "DescriptionStyleModel",
            "_view_count": null,
            "_view_module": "@jupyter-widgets/base",
            "_view_module_version": "1.2.0",
            "_view_name": "StyleView",
            "description_width": "initial"
          }
        },
        "78970a97e8a44781b1a8ffa04bbe7c9f": {
          "model_module": "@jupyter-widgets/controls",
          "model_name": "LabelModel",
          "model_module_version": "1.5.0",
          "state": {
            "_dom_classes": [],
            "_model_module": "@jupyter-widgets/controls",
            "_model_module_version": "1.5.0",
            "_model_name": "LabelModel",
            "_view_count": null,
            "_view_module": "@jupyter-widgets/controls",
            "_view_module_version": "1.5.0",
            "_view_name": "LabelView",
            "description": "",
            "description_tooltip": null,
            "layout": "IPY_MODEL_ddb9d22782ea4fdfb71c55ac3dcea4c6",
            "placeholder": "​",
            "style": "IPY_MODEL_54888f7352a6457c93c663d31e86c484",
            "value": "Make Wordclouds:"
          }
        },
        "ddb9d22782ea4fdfb71c55ac3dcea4c6": {
          "model_module": "@jupyter-widgets/base",
          "model_name": "LayoutModel",
          "model_module_version": "1.2.0",
          "state": {
            "_model_module": "@jupyter-widgets/base",
            "_model_module_version": "1.2.0",
            "_model_name": "LayoutModel",
            "_view_count": null,
            "_view_module": "@jupyter-widgets/base",
            "_view_module_version": "1.2.0",
            "_view_name": "LayoutView",
            "align_content": null,
            "align_items": null,
            "align_self": null,
            "border": null,
            "bottom": null,
            "display": null,
            "flex": null,
            "flex_flow": null,
            "grid_area": null,
            "grid_auto_columns": null,
            "grid_auto_flow": null,
            "grid_auto_rows": null,
            "grid_column": null,
            "grid_gap": null,
            "grid_row": null,
            "grid_template_areas": null,
            "grid_template_columns": null,
            "grid_template_rows": null,
            "height": null,
            "justify_content": null,
            "justify_items": null,
            "left": null,
            "margin": null,
            "max_height": null,
            "max_width": null,
            "min_height": null,
            "min_width": null,
            "object_fit": null,
            "object_position": null,
            "order": null,
            "overflow": null,
            "overflow_x": null,
            "overflow_y": null,
            "padding": null,
            "right": null,
            "top": null,
            "visibility": null,
            "width": null
          }
        },
        "54888f7352a6457c93c663d31e86c484": {
          "model_module": "@jupyter-widgets/controls",
          "model_name": "DescriptionStyleModel",
          "model_module_version": "1.5.0",
          "state": {
            "_model_module": "@jupyter-widgets/controls",
            "_model_module_version": "1.5.0",
            "_model_name": "DescriptionStyleModel",
            "_view_count": null,
            "_view_module": "@jupyter-widgets/base",
            "_view_module_version": "1.2.0",
            "_view_name": "StyleView",
            "description_width": ""
          }
        },
        "ddcb35ece6a74035ba2253c092a3ed4d": {
          "model_module": "@jupyter-widgets/controls",
          "model_name": "CheckboxModel",
          "model_module_version": "1.5.0",
          "state": {
            "_dom_classes": [],
            "_model_module": "@jupyter-widgets/controls",
            "_model_module_version": "1.5.0",
            "_model_name": "CheckboxModel",
            "_view_count": null,
            "_view_module": "@jupyter-widgets/controls",
            "_view_module_version": "1.5.0",
            "_view_name": "CheckboxView",
            "description": "Enable Wordclouds",
            "description_tooltip": null,
            "disabled": false,
            "indent": true,
            "layout": "IPY_MODEL_9a893186e6dc48e79cdd59173249e0b5",
            "style": "IPY_MODEL_8e7f94fb3d424349ba81b36118b3e053",
            "value": true
          }
        },
        "9a893186e6dc48e79cdd59173249e0b5": {
          "model_module": "@jupyter-widgets/base",
          "model_name": "LayoutModel",
          "model_module_version": "1.2.0",
          "state": {
            "_model_module": "@jupyter-widgets/base",
            "_model_module_version": "1.2.0",
            "_model_name": "LayoutModel",
            "_view_count": null,
            "_view_module": "@jupyter-widgets/base",
            "_view_module_version": "1.2.0",
            "_view_name": "LayoutView",
            "align_content": null,
            "align_items": null,
            "align_self": null,
            "border": null,
            "bottom": null,
            "display": null,
            "flex": null,
            "flex_flow": null,
            "grid_area": null,
            "grid_auto_columns": null,
            "grid_auto_flow": null,
            "grid_auto_rows": null,
            "grid_column": null,
            "grid_gap": null,
            "grid_row": null,
            "grid_template_areas": null,
            "grid_template_columns": null,
            "grid_template_rows": null,
            "height": null,
            "justify_content": null,
            "justify_items": null,
            "left": null,
            "margin": null,
            "max_height": null,
            "max_width": null,
            "min_height": null,
            "min_width": null,
            "object_fit": null,
            "object_position": null,
            "order": null,
            "overflow": null,
            "overflow_x": null,
            "overflow_y": null,
            "padding": null,
            "right": null,
            "top": null,
            "visibility": null,
            "width": null
          }
        },
        "8e7f94fb3d424349ba81b36118b3e053": {
          "model_module": "@jupyter-widgets/controls",
          "model_name": "DescriptionStyleModel",
          "model_module_version": "1.5.0",
          "state": {
            "_model_module": "@jupyter-widgets/controls",
            "_model_module_version": "1.5.0",
            "_model_name": "DescriptionStyleModel",
            "_view_count": null,
            "_view_module": "@jupyter-widgets/base",
            "_view_module_version": "1.2.0",
            "_view_name": "StyleView",
            "description_width": ""
          }
        },
        "05079f0d63924020a18a1e09d79155e9": {
          "model_module": "@jupyter-widgets/controls",
          "model_name": "ButtonModel",
          "model_module_version": "1.5.0",
          "state": {
            "_dom_classes": [],
            "_model_module": "@jupyter-widgets/controls",
            "_model_module_version": "1.5.0",
            "_model_name": "ButtonModel",
            "_view_count": null,
            "_view_module": "@jupyter-widgets/controls",
            "_view_module_version": "1.5.0",
            "_view_name": "ButtonView",
            "button_style": "",
            "description": "Submit",
            "disabled": false,
            "icon": "",
            "layout": "IPY_MODEL_f6a129ecc0234e61859b83fe9f30ba0a",
            "style": "IPY_MODEL_b95180a4b61a44688acf32e99ef30073",
            "tooltip": ""
          }
        },
        "f6a129ecc0234e61859b83fe9f30ba0a": {
          "model_module": "@jupyter-widgets/base",
          "model_name": "LayoutModel",
          "model_module_version": "1.2.0",
          "state": {
            "_model_module": "@jupyter-widgets/base",
            "_model_module_version": "1.2.0",
            "_model_name": "LayoutModel",
            "_view_count": null,
            "_view_module": "@jupyter-widgets/base",
            "_view_module_version": "1.2.0",
            "_view_name": "LayoutView",
            "align_content": null,
            "align_items": null,
            "align_self": null,
            "border": null,
            "bottom": null,
            "display": null,
            "flex": null,
            "flex_flow": null,
            "grid_area": null,
            "grid_auto_columns": null,
            "grid_auto_flow": null,
            "grid_auto_rows": null,
            "grid_column": null,
            "grid_gap": null,
            "grid_row": null,
            "grid_template_areas": null,
            "grid_template_columns": null,
            "grid_template_rows": null,
            "height": null,
            "justify_content": null,
            "justify_items": null,
            "left": null,
            "margin": null,
            "max_height": null,
            "max_width": null,
            "min_height": null,
            "min_width": null,
            "object_fit": null,
            "object_position": null,
            "order": null,
            "overflow": null,
            "overflow_x": null,
            "overflow_y": null,
            "padding": null,
            "right": null,
            "top": null,
            "visibility": null,
            "width": null
          }
        },
        "b95180a4b61a44688acf32e99ef30073": {
          "model_module": "@jupyter-widgets/controls",
          "model_name": "ButtonStyleModel",
          "model_module_version": "1.5.0",
          "state": {
            "_model_module": "@jupyter-widgets/controls",
            "_model_module_version": "1.5.0",
            "_model_name": "ButtonStyleModel",
            "_view_count": null,
            "_view_module": "@jupyter-widgets/base",
            "_view_module_version": "1.2.0",
            "_view_name": "StyleView",
            "button_color": null,
            "font_weight": ""
          }
        },
        "d7e9805d0a69412e835e6c89fda8aca8": {
          "model_module": "@jupyter-widgets/controls",
          "model_name": "DropdownModel",
          "model_module_version": "1.5.0",
          "state": {
            "_dom_classes": [],
            "_model_module": "@jupyter-widgets/controls",
            "_model_module_version": "1.5.0",
            "_model_name": "DropdownModel",
            "_options_labels": [
              "Upload from desktop",
              "msgs404u.csv"
            ],
            "_view_count": null,
            "_view_module": "@jupyter-widgets/controls",
            "_view_module_version": "1.5.0",
            "_view_name": "DropdownView",
            "description": "Select File:",
            "description_tooltip": null,
            "disabled": false,
            "index": 1,
            "layout": "IPY_MODEL_efac6a4aa9e24e2996dde80ea03cd957",
            "style": "IPY_MODEL_ed84b9e904e441b4867f4bcf980f311d"
          }
        },
        "efac6a4aa9e24e2996dde80ea03cd957": {
          "model_module": "@jupyter-widgets/base",
          "model_name": "LayoutModel",
          "model_module_version": "1.2.0",
          "state": {
            "_model_module": "@jupyter-widgets/base",
            "_model_module_version": "1.2.0",
            "_model_name": "LayoutModel",
            "_view_count": null,
            "_view_module": "@jupyter-widgets/base",
            "_view_module_version": "1.2.0",
            "_view_name": "LayoutView",
            "align_content": null,
            "align_items": null,
            "align_self": null,
            "border": null,
            "bottom": null,
            "display": null,
            "flex": null,
            "flex_flow": null,
            "grid_area": null,
            "grid_auto_columns": null,
            "grid_auto_flow": null,
            "grid_auto_rows": null,
            "grid_column": null,
            "grid_gap": null,
            "grid_row": null,
            "grid_template_areas": null,
            "grid_template_columns": null,
            "grid_template_rows": null,
            "height": null,
            "justify_content": null,
            "justify_items": null,
            "left": null,
            "margin": null,
            "max_height": null,
            "max_width": null,
            "min_height": null,
            "min_width": null,
            "object_fit": null,
            "object_position": null,
            "order": null,
            "overflow": null,
            "overflow_x": null,
            "overflow_y": null,
            "padding": null,
            "right": null,
            "top": null,
            "visibility": null,
            "width": null
          }
        },
        "ed84b9e904e441b4867f4bcf980f311d": {
          "model_module": "@jupyter-widgets/controls",
          "model_name": "DescriptionStyleModel",
          "model_module_version": "1.5.0",
          "state": {
            "_model_module": "@jupyter-widgets/controls",
            "_model_module_version": "1.5.0",
            "_model_name": "DescriptionStyleModel",
            "_view_count": null,
            "_view_module": "@jupyter-widgets/base",
            "_view_module_version": "1.2.0",
            "_view_name": "StyleView",
            "description_width": ""
          }
        },
        "2a5537f34ff3495a9b8d95cb4ed579ba": {
          "model_module": "@jupyter-widgets/controls",
          "model_name": "DropdownModel",
          "model_module_version": "1.5.0",
          "state": {
            "_dom_classes": [],
            "_model_module": "@jupyter-widgets/controls",
            "_model_module_version": "1.5.0",
            "_model_name": "DropdownModel",
            "_options_labels": [
              "created_date",
              "message"
            ],
            "_view_count": null,
            "_view_module": "@jupyter-widgets/controls",
            "_view_module_version": "1.5.0",
            "_view_name": "DropdownView",
            "description": "Text Column:",
            "description_tooltip": null,
            "disabled": false,
            "index": 1,
            "layout": "IPY_MODEL_293ef567571e44d988d1aa0cb0be7d86",
            "style": "IPY_MODEL_16115b9d0d4c48abb51316c73c395b2b"
          }
        },
        "293ef567571e44d988d1aa0cb0be7d86": {
          "model_module": "@jupyter-widgets/base",
          "model_name": "LayoutModel",
          "model_module_version": "1.2.0",
          "state": {
            "_model_module": "@jupyter-widgets/base",
            "_model_module_version": "1.2.0",
            "_model_name": "LayoutModel",
            "_view_count": null,
            "_view_module": "@jupyter-widgets/base",
            "_view_module_version": "1.2.0",
            "_view_name": "LayoutView",
            "align_content": null,
            "align_items": null,
            "align_self": null,
            "border": null,
            "bottom": null,
            "display": null,
            "flex": null,
            "flex_flow": null,
            "grid_area": null,
            "grid_auto_columns": null,
            "grid_auto_flow": null,
            "grid_auto_rows": null,
            "grid_column": null,
            "grid_gap": null,
            "grid_row": null,
            "grid_template_areas": null,
            "grid_template_columns": null,
            "grid_template_rows": null,
            "height": null,
            "justify_content": null,
            "justify_items": null,
            "left": null,
            "margin": null,
            "max_height": null,
            "max_width": null,
            "min_height": null,
            "min_width": null,
            "object_fit": null,
            "object_position": null,
            "order": null,
            "overflow": null,
            "overflow_x": null,
            "overflow_y": null,
            "padding": null,
            "right": null,
            "top": null,
            "visibility": null,
            "width": null
          }
        },
        "16115b9d0d4c48abb51316c73c395b2b": {
          "model_module": "@jupyter-widgets/controls",
          "model_name": "DescriptionStyleModel",
          "model_module_version": "1.5.0",
          "state": {
            "_model_module": "@jupyter-widgets/controls",
            "_model_module_version": "1.5.0",
            "_model_name": "DescriptionStyleModel",
            "_view_count": null,
            "_view_module": "@jupyter-widgets/base",
            "_view_module_version": "1.2.0",
            "_view_name": "StyleView",
            "description_width": ""
          }
        },
        "1fc2a8f33b0c49a5a298981736771868": {
          "model_module": "@jupyter-widgets/controls",
          "model_name": "DropdownModel",
          "model_module_version": "1.5.0",
          "state": {
            "_dom_classes": [],
            "_model_module": "@jupyter-widgets/controls",
            "_model_module_version": "1.5.0",
            "_model_name": "DropdownModel",
            "_options_labels": [
              "message_id",
              "user_id"
            ],
            "_view_count": null,
            "_view_module": "@jupyter-widgets/controls",
            "_view_module_version": "1.5.0",
            "_view_name": "DropdownView",
            "description": "ID Column:",
            "description_tooltip": null,
            "disabled": false,
            "index": 1,
            "layout": "IPY_MODEL_75a5b41f45904c2b94cf9ca3ee9ad8bd",
            "style": "IPY_MODEL_1372dd9fd41e4c8fb4bf339d969bf9d9"
          }
        },
        "75a5b41f45904c2b94cf9ca3ee9ad8bd": {
          "model_module": "@jupyter-widgets/base",
          "model_name": "LayoutModel",
          "model_module_version": "1.2.0",
          "state": {
            "_model_module": "@jupyter-widgets/base",
            "_model_module_version": "1.2.0",
            "_model_name": "LayoutModel",
            "_view_count": null,
            "_view_module": "@jupyter-widgets/base",
            "_view_module_version": "1.2.0",
            "_view_name": "LayoutView",
            "align_content": null,
            "align_items": null,
            "align_self": null,
            "border": null,
            "bottom": null,
            "display": null,
            "flex": null,
            "flex_flow": null,
            "grid_area": null,
            "grid_auto_columns": null,
            "grid_auto_flow": null,
            "grid_auto_rows": null,
            "grid_column": null,
            "grid_gap": null,
            "grid_row": null,
            "grid_template_areas": null,
            "grid_template_columns": null,
            "grid_template_rows": null,
            "height": null,
            "justify_content": null,
            "justify_items": null,
            "left": null,
            "margin": null,
            "max_height": null,
            "max_width": null,
            "min_height": null,
            "min_width": null,
            "object_fit": null,
            "object_position": null,
            "order": null,
            "overflow": null,
            "overflow_x": null,
            "overflow_y": null,
            "padding": null,
            "right": null,
            "top": null,
            "visibility": null,
            "width": null
          }
        },
        "1372dd9fd41e4c8fb4bf339d969bf9d9": {
          "model_module": "@jupyter-widgets/controls",
          "model_name": "DescriptionStyleModel",
          "model_module_version": "1.5.0",
          "state": {
            "_model_module": "@jupyter-widgets/controls",
            "_model_module_version": "1.5.0",
            "_model_name": "DescriptionStyleModel",
            "_view_count": null,
            "_view_module": "@jupyter-widgets/base",
            "_view_module_version": "1.2.0",
            "_view_name": "StyleView",
            "description_width": ""
          }
        },
        "b9653a28ad1d44269b554953dfba40c0": {
          "model_module": "@jupyter-widgets/controls",
          "model_name": "DropdownModel",
          "model_module_version": "1.5.0",
          "state": {
            "_dom_classes": [],
            "_model_module": "@jupyter-widgets/controls",
            "_model_module_version": "1.5.0",
            "_model_name": "DropdownModel",
            "_options_labels": [
              "Select option",
              "1to2grams-filtered",
              "1to2grams-unfiltered",
              "topics"
            ],
            "_view_count": null,
            "_view_module": "@jupyter-widgets/controls",
            "_view_module_version": "1.5.0",
            "_view_name": "DropdownView",
            "description": "Features:",
            "description_tooltip": null,
            "disabled": false,
            "index": 1,
            "layout": "IPY_MODEL_5d08f329ba424d4e82235c3374bfa2c6",
            "style": "IPY_MODEL_9b08a820026741a8a051c29a8ec3980a"
          }
        },
        "5d08f329ba424d4e82235c3374bfa2c6": {
          "model_module": "@jupyter-widgets/base",
          "model_name": "LayoutModel",
          "model_module_version": "1.2.0",
          "state": {
            "_model_module": "@jupyter-widgets/base",
            "_model_module_version": "1.2.0",
            "_model_name": "LayoutModel",
            "_view_count": null,
            "_view_module": "@jupyter-widgets/base",
            "_view_module_version": "1.2.0",
            "_view_name": "LayoutView",
            "align_content": null,
            "align_items": null,
            "align_self": null,
            "border": null,
            "bottom": null,
            "display": null,
            "flex": null,
            "flex_flow": null,
            "grid_area": null,
            "grid_auto_columns": null,
            "grid_auto_flow": null,
            "grid_auto_rows": null,
            "grid_column": null,
            "grid_gap": null,
            "grid_row": null,
            "grid_template_areas": null,
            "grid_template_columns": null,
            "grid_template_rows": null,
            "height": null,
            "justify_content": null,
            "justify_items": null,
            "left": null,
            "margin": null,
            "max_height": null,
            "max_width": null,
            "min_height": null,
            "min_width": null,
            "object_fit": null,
            "object_position": null,
            "order": null,
            "overflow": null,
            "overflow_x": null,
            "overflow_y": null,
            "padding": null,
            "right": null,
            "top": null,
            "visibility": null,
            "width": null
          }
        },
        "9b08a820026741a8a051c29a8ec3980a": {
          "model_module": "@jupyter-widgets/controls",
          "model_name": "DescriptionStyleModel",
          "model_module_version": "1.5.0",
          "state": {
            "_model_module": "@jupyter-widgets/controls",
            "_model_module_version": "1.5.0",
            "_model_name": "DescriptionStyleModel",
            "_view_count": null,
            "_view_module": "@jupyter-widgets/base",
            "_view_module_version": "1.2.0",
            "_view_name": "StyleView",
            "description_width": ""
          }
        },
        "cfb9b571f7de4d67b4784251d76f07ae": {
          "model_module": "@jupyter-widgets/controls",
          "model_name": "ButtonModel",
          "model_module_version": "1.5.0",
          "state": {
            "_dom_classes": [],
            "_model_module": "@jupyter-widgets/controls",
            "_model_module_version": "1.5.0",
            "_model_name": "ButtonModel",
            "_view_count": null,
            "_view_module": "@jupyter-widgets/controls",
            "_view_module_version": "1.5.0",
            "_view_name": "ButtonView",
            "button_style": "",
            "description": "Process Data",
            "disabled": false,
            "icon": "",
            "layout": "IPY_MODEL_78b3299d7a5e48b590a9dc581ac22168",
            "style": "IPY_MODEL_3bd1d46d8e804b8997702d2ef4c4a222",
            "tooltip": ""
          }
        },
        "78b3299d7a5e48b590a9dc581ac22168": {
          "model_module": "@jupyter-widgets/base",
          "model_name": "LayoutModel",
          "model_module_version": "1.2.0",
          "state": {
            "_model_module": "@jupyter-widgets/base",
            "_model_module_version": "1.2.0",
            "_model_name": "LayoutModel",
            "_view_count": null,
            "_view_module": "@jupyter-widgets/base",
            "_view_module_version": "1.2.0",
            "_view_name": "LayoutView",
            "align_content": null,
            "align_items": null,
            "align_self": null,
            "border": null,
            "bottom": null,
            "display": null,
            "flex": null,
            "flex_flow": null,
            "grid_area": null,
            "grid_auto_columns": null,
            "grid_auto_flow": null,
            "grid_auto_rows": null,
            "grid_column": null,
            "grid_gap": null,
            "grid_row": null,
            "grid_template_areas": null,
            "grid_template_columns": null,
            "grid_template_rows": null,
            "height": null,
            "justify_content": null,
            "justify_items": null,
            "left": null,
            "margin": null,
            "max_height": null,
            "max_width": null,
            "min_height": null,
            "min_width": null,
            "object_fit": null,
            "object_position": null,
            "order": null,
            "overflow": null,
            "overflow_x": null,
            "overflow_y": null,
            "padding": null,
            "right": null,
            "top": null,
            "visibility": null,
            "width": null
          }
        },
        "3bd1d46d8e804b8997702d2ef4c4a222": {
          "model_module": "@jupyter-widgets/controls",
          "model_name": "ButtonStyleModel",
          "model_module_version": "1.5.0",
          "state": {
            "_model_module": "@jupyter-widgets/controls",
            "_model_module_version": "1.5.0",
            "_model_name": "ButtonStyleModel",
            "_view_count": null,
            "_view_module": "@jupyter-widgets/base",
            "_view_module_version": "1.2.0",
            "_view_name": "StyleView",
            "button_color": null,
            "font_weight": ""
          }
        },
        "9b034b7cae95489d9eea8d87e7f0fd53": {
          "model_module": "@jupyter-widgets/controls",
          "model_name": "DropdownModel",
          "model_module_version": "1.5.0",
          "state": {
            "_dom_classes": [],
            "_model_module": "@jupyter-widgets/controls",
            "_model_module_version": "1.5.0",
            "_model_name": "DropdownModel",
            "_options_labels": [
              "Upload from desktop",
              "users404.csv"
            ],
            "_view_count": null,
            "_view_module": "@jupyter-widgets/controls",
            "_view_module_version": "1.5.0",
            "_view_name": "DropdownView",
            "description": "Select Dataset:",
            "description_tooltip": null,
            "disabled": false,
            "index": 1,
            "layout": "IPY_MODEL_89dfebd28be44b8cab3fa76a32889a32",
            "style": "IPY_MODEL_e8c6e08559fd463680ff24ba8cfc6323"
          }
        },
        "89dfebd28be44b8cab3fa76a32889a32": {
          "model_module": "@jupyter-widgets/base",
          "model_name": "LayoutModel",
          "model_module_version": "1.2.0",
          "state": {
            "_model_module": "@jupyter-widgets/base",
            "_model_module_version": "1.2.0",
            "_model_name": "LayoutModel",
            "_view_count": null,
            "_view_module": "@jupyter-widgets/base",
            "_view_module_version": "1.2.0",
            "_view_name": "LayoutView",
            "align_content": null,
            "align_items": null,
            "align_self": null,
            "border": null,
            "bottom": null,
            "display": null,
            "flex": null,
            "flex_flow": null,
            "grid_area": null,
            "grid_auto_columns": null,
            "grid_auto_flow": null,
            "grid_auto_rows": null,
            "grid_column": null,
            "grid_gap": null,
            "grid_row": null,
            "grid_template_areas": null,
            "grid_template_columns": null,
            "grid_template_rows": null,
            "height": null,
            "justify_content": null,
            "justify_items": null,
            "left": null,
            "margin": null,
            "max_height": null,
            "max_width": null,
            "min_height": null,
            "min_width": null,
            "object_fit": null,
            "object_position": null,
            "order": null,
            "overflow": null,
            "overflow_x": null,
            "overflow_y": null,
            "padding": null,
            "right": null,
            "top": null,
            "visibility": null,
            "width": null
          }
        },
        "e8c6e08559fd463680ff24ba8cfc6323": {
          "model_module": "@jupyter-widgets/controls",
          "model_name": "DescriptionStyleModel",
          "model_module_version": "1.5.0",
          "state": {
            "_model_module": "@jupyter-widgets/controls",
            "_model_module_version": "1.5.0",
            "_model_name": "DescriptionStyleModel",
            "_view_count": null,
            "_view_module": "@jupyter-widgets/base",
            "_view_module_version": "1.2.0",
            "_view_name": "StyleView",
            "description_width": ""
          }
        },
        "cefb298d8c2148fc934219001c4f350a": {
          "model_module": "@jupyter-widgets/controls",
          "model_name": "ButtonModel",
          "model_module_version": "1.5.0",
          "state": {
            "_dom_classes": [],
            "_model_module": "@jupyter-widgets/controls",
            "_model_module_version": "1.5.0",
            "_model_name": "ButtonModel",
            "_view_count": null,
            "_view_module": "@jupyter-widgets/controls",
            "_view_module_version": "1.5.0",
            "_view_name": "ButtonView",
            "button_style": "",
            "description": "Confirm Dataset",
            "disabled": false,
            "icon": "",
            "layout": "IPY_MODEL_e601b155413b4f7e94012d0dd5cd663e",
            "style": "IPY_MODEL_9a57f3f7ba6b41039fc7e4867246ca4a",
            "tooltip": ""
          }
        },
        "e601b155413b4f7e94012d0dd5cd663e": {
          "model_module": "@jupyter-widgets/base",
          "model_name": "LayoutModel",
          "model_module_version": "1.2.0",
          "state": {
            "_model_module": "@jupyter-widgets/base",
            "_model_module_version": "1.2.0",
            "_model_name": "LayoutModel",
            "_view_count": null,
            "_view_module": "@jupyter-widgets/base",
            "_view_module_version": "1.2.0",
            "_view_name": "LayoutView",
            "align_content": null,
            "align_items": null,
            "align_self": null,
            "border": null,
            "bottom": null,
            "display": null,
            "flex": null,
            "flex_flow": null,
            "grid_area": null,
            "grid_auto_columns": null,
            "grid_auto_flow": null,
            "grid_auto_rows": null,
            "grid_column": null,
            "grid_gap": null,
            "grid_row": null,
            "grid_template_areas": null,
            "grid_template_columns": null,
            "grid_template_rows": null,
            "height": null,
            "justify_content": null,
            "justify_items": null,
            "left": null,
            "margin": null,
            "max_height": null,
            "max_width": null,
            "min_height": null,
            "min_width": null,
            "object_fit": null,
            "object_position": null,
            "order": null,
            "overflow": null,
            "overflow_x": null,
            "overflow_y": null,
            "padding": null,
            "right": null,
            "top": null,
            "visibility": null,
            "width": null
          }
        },
        "9a57f3f7ba6b41039fc7e4867246ca4a": {
          "model_module": "@jupyter-widgets/controls",
          "model_name": "ButtonStyleModel",
          "model_module_version": "1.5.0",
          "state": {
            "_model_module": "@jupyter-widgets/controls",
            "_model_module_version": "1.5.0",
            "_model_name": "ButtonStyleModel",
            "_view_count": null,
            "_view_module": "@jupyter-widgets/base",
            "_view_module_version": "1.2.0",
            "_view_name": "StyleView",
            "button_color": null,
            "font_weight": ""
          }
        },
        "7a0106150c2641d6866421ed356abe5f": {
          "model_module": "@jupyter-widgets/controls",
          "model_name": "LabelModel",
          "model_module_version": "1.5.0",
          "state": {
            "_dom_classes": [],
            "_model_module": "@jupyter-widgets/controls",
            "_model_module_version": "1.5.0",
            "_model_name": "LabelModel",
            "_view_count": null,
            "_view_module": "@jupyter-widgets/controls",
            "_view_module_version": "1.5.0",
            "_view_name": "LabelView",
            "description": "",
            "description_tooltip": null,
            "layout": "IPY_MODEL_ae8bcba456754fc6a8a85fedb51cd9c5",
            "placeholder": "​",
            "style": "IPY_MODEL_7b24597714924164a0f22387479a3fe3",
            "value": "Outcomes:"
          }
        },
        "ae8bcba456754fc6a8a85fedb51cd9c5": {
          "model_module": "@jupyter-widgets/base",
          "model_name": "LayoutModel",
          "model_module_version": "1.2.0",
          "state": {
            "_model_module": "@jupyter-widgets/base",
            "_model_module_version": "1.2.0",
            "_model_name": "LayoutModel",
            "_view_count": null,
            "_view_module": "@jupyter-widgets/base",
            "_view_module_version": "1.2.0",
            "_view_name": "LayoutView",
            "align_content": null,
            "align_items": null,
            "align_self": null,
            "border": null,
            "bottom": null,
            "display": null,
            "flex": null,
            "flex_flow": null,
            "grid_area": null,
            "grid_auto_columns": null,
            "grid_auto_flow": null,
            "grid_auto_rows": null,
            "grid_column": null,
            "grid_gap": null,
            "grid_row": null,
            "grid_template_areas": null,
            "grid_template_columns": null,
            "grid_template_rows": null,
            "height": null,
            "justify_content": null,
            "justify_items": null,
            "left": null,
            "margin": null,
            "max_height": null,
            "max_width": null,
            "min_height": null,
            "min_width": null,
            "object_fit": null,
            "object_position": null,
            "order": null,
            "overflow": null,
            "overflow_x": null,
            "overflow_y": null,
            "padding": null,
            "right": null,
            "top": null,
            "visibility": null,
            "width": null
          }
        },
        "7b24597714924164a0f22387479a3fe3": {
          "model_module": "@jupyter-widgets/controls",
          "model_name": "DescriptionStyleModel",
          "model_module_version": "1.5.0",
          "state": {
            "_model_module": "@jupyter-widgets/controls",
            "_model_module_version": "1.5.0",
            "_model_name": "DescriptionStyleModel",
            "_view_count": null,
            "_view_module": "@jupyter-widgets/base",
            "_view_module_version": "1.2.0",
            "_view_name": "StyleView",
            "description_width": ""
          }
        },
        "189f26a24f2e45a7b10451c4bbf03a43": {
          "model_module": "@jupyter-widgets/controls",
          "model_name": "HBoxModel",
          "model_module_version": "1.5.0",
          "state": {
            "_dom_classes": [],
            "_model_module": "@jupyter-widgets/controls",
            "_model_module_version": "1.5.0",
            "_model_name": "HBoxModel",
            "_view_count": null,
            "_view_module": "@jupyter-widgets/controls",
            "_view_module_version": "1.5.0",
            "_view_name": "HBoxView",
            "box_style": "",
            "children": [
              "IPY_MODEL_018042b8b3c24a9bae6b320e8a40f9ee",
              "IPY_MODEL_2a1645961a234706805a225f81cb4ef1"
            ],
            "layout": "IPY_MODEL_f70596659cde4126bc4069c45d88027d"
          }
        },
        "018042b8b3c24a9bae6b320e8a40f9ee": {
          "model_module": "@jupyter-widgets/controls",
          "model_name": "CheckboxModel",
          "model_module_version": "1.5.0",
          "state": {
            "_dom_classes": [],
            "_model_module": "@jupyter-widgets/controls",
            "_model_module_version": "1.5.0",
            "_model_name": "CheckboxModel",
            "_view_count": null,
            "_view_module": "@jupyter-widgets/controls",
            "_view_module_version": "1.5.0",
            "_view_name": "CheckboxView",
            "description": "gender",
            "description_tooltip": null,
            "disabled": true,
            "indent": true,
            "layout": "IPY_MODEL_1060ca508c5c40529da8d6e3c463c055",
            "style": "IPY_MODEL_3a03d55f7acc4312bb7600ee85b457c4",
            "value": false
          }
        },
        "2a1645961a234706805a225f81cb4ef1": {
          "model_module": "@jupyter-widgets/controls",
          "model_name": "CheckboxModel",
          "model_module_version": "1.5.0",
          "state": {
            "_dom_classes": [],
            "_model_module": "@jupyter-widgets/controls",
            "_model_module_version": "1.5.0",
            "_model_name": "CheckboxModel",
            "_view_count": null,
            "_view_module": "@jupyter-widgets/controls",
            "_view_module_version": "1.5.0",
            "_view_name": "CheckboxView",
            "description": "Is this variable Categorical?",
            "description_tooltip": null,
            "disabled": false,
            "indent": true,
            "layout": "IPY_MODEL_c06b033d55a548109c6e03267d7e1b05",
            "style": "IPY_MODEL_42c4a1edcf284d0dbcf430f8b631d7e8",
            "value": false
          }
        },
        "f70596659cde4126bc4069c45d88027d": {
          "model_module": "@jupyter-widgets/base",
          "model_name": "LayoutModel",
          "model_module_version": "1.2.0",
          "state": {
            "_model_module": "@jupyter-widgets/base",
            "_model_module_version": "1.2.0",
            "_model_name": "LayoutModel",
            "_view_count": null,
            "_view_module": "@jupyter-widgets/base",
            "_view_module_version": "1.2.0",
            "_view_name": "LayoutView",
            "align_content": null,
            "align_items": null,
            "align_self": null,
            "border": null,
            "bottom": null,
            "display": null,
            "flex": null,
            "flex_flow": null,
            "grid_area": null,
            "grid_auto_columns": null,
            "grid_auto_flow": null,
            "grid_auto_rows": null,
            "grid_column": null,
            "grid_gap": null,
            "grid_row": null,
            "grid_template_areas": null,
            "grid_template_columns": null,
            "grid_template_rows": null,
            "height": null,
            "justify_content": null,
            "justify_items": null,
            "left": null,
            "margin": null,
            "max_height": null,
            "max_width": null,
            "min_height": null,
            "min_width": null,
            "object_fit": null,
            "object_position": null,
            "order": null,
            "overflow": null,
            "overflow_x": null,
            "overflow_y": null,
            "padding": null,
            "right": null,
            "top": null,
            "visibility": null,
            "width": null
          }
        },
        "1060ca508c5c40529da8d6e3c463c055": {
          "model_module": "@jupyter-widgets/base",
          "model_name": "LayoutModel",
          "model_module_version": "1.2.0",
          "state": {
            "_model_module": "@jupyter-widgets/base",
            "_model_module_version": "1.2.0",
            "_model_name": "LayoutModel",
            "_view_count": null,
            "_view_module": "@jupyter-widgets/base",
            "_view_module_version": "1.2.0",
            "_view_name": "LayoutView",
            "align_content": null,
            "align_items": null,
            "align_self": null,
            "border": null,
            "bottom": null,
            "display": null,
            "flex": null,
            "flex_flow": null,
            "grid_area": null,
            "grid_auto_columns": null,
            "grid_auto_flow": null,
            "grid_auto_rows": null,
            "grid_column": null,
            "grid_gap": null,
            "grid_row": null,
            "grid_template_areas": null,
            "grid_template_columns": null,
            "grid_template_rows": null,
            "height": null,
            "justify_content": null,
            "justify_items": null,
            "left": null,
            "margin": null,
            "max_height": null,
            "max_width": null,
            "min_height": null,
            "min_width": null,
            "object_fit": null,
            "object_position": null,
            "order": null,
            "overflow": null,
            "overflow_x": null,
            "overflow_y": null,
            "padding": null,
            "right": null,
            "top": null,
            "visibility": null,
            "width": null
          }
        },
        "3a03d55f7acc4312bb7600ee85b457c4": {
          "model_module": "@jupyter-widgets/controls",
          "model_name": "DescriptionStyleModel",
          "model_module_version": "1.5.0",
          "state": {
            "_model_module": "@jupyter-widgets/controls",
            "_model_module_version": "1.5.0",
            "_model_name": "DescriptionStyleModel",
            "_view_count": null,
            "_view_module": "@jupyter-widgets/base",
            "_view_module_version": "1.2.0",
            "_view_name": "StyleView",
            "description_width": ""
          }
        },
        "c06b033d55a548109c6e03267d7e1b05": {
          "model_module": "@jupyter-widgets/base",
          "model_name": "LayoutModel",
          "model_module_version": "1.2.0",
          "state": {
            "_model_module": "@jupyter-widgets/base",
            "_model_module_version": "1.2.0",
            "_model_name": "LayoutModel",
            "_view_count": null,
            "_view_module": "@jupyter-widgets/base",
            "_view_module_version": "1.2.0",
            "_view_name": "LayoutView",
            "align_content": null,
            "align_items": null,
            "align_self": null,
            "border": null,
            "bottom": null,
            "display": "none",
            "flex": null,
            "flex_flow": null,
            "grid_area": null,
            "grid_auto_columns": null,
            "grid_auto_flow": null,
            "grid_auto_rows": null,
            "grid_column": null,
            "grid_gap": null,
            "grid_row": null,
            "grid_template_areas": null,
            "grid_template_columns": null,
            "grid_template_rows": null,
            "height": null,
            "justify_content": null,
            "justify_items": null,
            "left": null,
            "margin": null,
            "max_height": null,
            "max_width": null,
            "min_height": null,
            "min_width": null,
            "object_fit": null,
            "object_position": null,
            "order": null,
            "overflow": null,
            "overflow_x": null,
            "overflow_y": null,
            "padding": null,
            "right": null,
            "top": null,
            "visibility": null,
            "width": null
          }
        },
        "42c4a1edcf284d0dbcf430f8b631d7e8": {
          "model_module": "@jupyter-widgets/controls",
          "model_name": "DescriptionStyleModel",
          "model_module_version": "1.5.0",
          "state": {
            "_model_module": "@jupyter-widgets/controls",
            "_model_module_version": "1.5.0",
            "_model_name": "DescriptionStyleModel",
            "_view_count": null,
            "_view_module": "@jupyter-widgets/base",
            "_view_module_version": "1.2.0",
            "_view_name": "StyleView",
            "description_width": ""
          }
        },
        "5cd37e65dd3c43c5b91ded101d5801b5": {
          "model_module": "@jupyter-widgets/controls",
          "model_name": "HBoxModel",
          "model_module_version": "1.5.0",
          "state": {
            "_dom_classes": [],
            "_model_module": "@jupyter-widgets/controls",
            "_model_module_version": "1.5.0",
            "_model_name": "HBoxModel",
            "_view_count": null,
            "_view_module": "@jupyter-widgets/controls",
            "_view_module_version": "1.5.0",
            "_view_name": "HBoxView",
            "box_style": "",
            "children": [
              "IPY_MODEL_ad53ee3224b44ec7bfdf743106f1e78f",
              "IPY_MODEL_39224f22650a4429a3103ebe9176e4f7"
            ],
            "layout": "IPY_MODEL_95bf1bfdb7364ea7a208b04675776dac"
          }
        },
        "ad53ee3224b44ec7bfdf743106f1e78f": {
          "model_module": "@jupyter-widgets/controls",
          "model_name": "CheckboxModel",
          "model_module_version": "1.5.0",
          "state": {
            "_dom_classes": [],
            "_model_module": "@jupyter-widgets/controls",
            "_model_module_version": "1.5.0",
            "_model_name": "CheckboxModel",
            "_view_count": null,
            "_view_module": "@jupyter-widgets/controls",
            "_view_module_version": "1.5.0",
            "_view_name": "CheckboxView",
            "description": "age",
            "description_tooltip": null,
            "disabled": false,
            "indent": true,
            "layout": "IPY_MODEL_a2deb24b3d064cb79f8a942c2db39b43",
            "style": "IPY_MODEL_e40b02728e4e46d3ad5370e56106546d",
            "value": true
          }
        },
        "39224f22650a4429a3103ebe9176e4f7": {
          "model_module": "@jupyter-widgets/controls",
          "model_name": "CheckboxModel",
          "model_module_version": "1.5.0",
          "state": {
            "_dom_classes": [],
            "_model_module": "@jupyter-widgets/controls",
            "_model_module_version": "1.5.0",
            "_model_name": "CheckboxModel",
            "_view_count": null,
            "_view_module": "@jupyter-widgets/controls",
            "_view_module_version": "1.5.0",
            "_view_name": "CheckboxView",
            "description": "Is this variable Categorical?",
            "description_tooltip": null,
            "disabled": false,
            "indent": true,
            "layout": "IPY_MODEL_d29bce06bdbc453aa637481a00eee574",
            "style": "IPY_MODEL_ec0432cc8faf49739b601eec759a112a",
            "value": false
          }
        },
        "95bf1bfdb7364ea7a208b04675776dac": {
          "model_module": "@jupyter-widgets/base",
          "model_name": "LayoutModel",
          "model_module_version": "1.2.0",
          "state": {
            "_model_module": "@jupyter-widgets/base",
            "_model_module_version": "1.2.0",
            "_model_name": "LayoutModel",
            "_view_count": null,
            "_view_module": "@jupyter-widgets/base",
            "_view_module_version": "1.2.0",
            "_view_name": "LayoutView",
            "align_content": null,
            "align_items": null,
            "align_self": null,
            "border": null,
            "bottom": null,
            "display": null,
            "flex": null,
            "flex_flow": null,
            "grid_area": null,
            "grid_auto_columns": null,
            "grid_auto_flow": null,
            "grid_auto_rows": null,
            "grid_column": null,
            "grid_gap": null,
            "grid_row": null,
            "grid_template_areas": null,
            "grid_template_columns": null,
            "grid_template_rows": null,
            "height": null,
            "justify_content": null,
            "justify_items": null,
            "left": null,
            "margin": null,
            "max_height": null,
            "max_width": null,
            "min_height": null,
            "min_width": null,
            "object_fit": null,
            "object_position": null,
            "order": null,
            "overflow": null,
            "overflow_x": null,
            "overflow_y": null,
            "padding": null,
            "right": null,
            "top": null,
            "visibility": null,
            "width": null
          }
        },
        "a2deb24b3d064cb79f8a942c2db39b43": {
          "model_module": "@jupyter-widgets/base",
          "model_name": "LayoutModel",
          "model_module_version": "1.2.0",
          "state": {
            "_model_module": "@jupyter-widgets/base",
            "_model_module_version": "1.2.0",
            "_model_name": "LayoutModel",
            "_view_count": null,
            "_view_module": "@jupyter-widgets/base",
            "_view_module_version": "1.2.0",
            "_view_name": "LayoutView",
            "align_content": null,
            "align_items": null,
            "align_self": null,
            "border": null,
            "bottom": null,
            "display": null,
            "flex": null,
            "flex_flow": null,
            "grid_area": null,
            "grid_auto_columns": null,
            "grid_auto_flow": null,
            "grid_auto_rows": null,
            "grid_column": null,
            "grid_gap": null,
            "grid_row": null,
            "grid_template_areas": null,
            "grid_template_columns": null,
            "grid_template_rows": null,
            "height": null,
            "justify_content": null,
            "justify_items": null,
            "left": null,
            "margin": null,
            "max_height": null,
            "max_width": null,
            "min_height": null,
            "min_width": null,
            "object_fit": null,
            "object_position": null,
            "order": null,
            "overflow": null,
            "overflow_x": null,
            "overflow_y": null,
            "padding": null,
            "right": null,
            "top": null,
            "visibility": null,
            "width": null
          }
        },
        "e40b02728e4e46d3ad5370e56106546d": {
          "model_module": "@jupyter-widgets/controls",
          "model_name": "DescriptionStyleModel",
          "model_module_version": "1.5.0",
          "state": {
            "_model_module": "@jupyter-widgets/controls",
            "_model_module_version": "1.5.0",
            "_model_name": "DescriptionStyleModel",
            "_view_count": null,
            "_view_module": "@jupyter-widgets/base",
            "_view_module_version": "1.2.0",
            "_view_name": "StyleView",
            "description_width": ""
          }
        },
        "d29bce06bdbc453aa637481a00eee574": {
          "model_module": "@jupyter-widgets/base",
          "model_name": "LayoutModel",
          "model_module_version": "1.2.0",
          "state": {
            "_model_module": "@jupyter-widgets/base",
            "_model_module_version": "1.2.0",
            "_model_name": "LayoutModel",
            "_view_count": null,
            "_view_module": "@jupyter-widgets/base",
            "_view_module_version": "1.2.0",
            "_view_name": "LayoutView",
            "align_content": null,
            "align_items": null,
            "align_self": null,
            "border": null,
            "bottom": null,
            "display": "flex",
            "flex": null,
            "flex_flow": null,
            "grid_area": null,
            "grid_auto_columns": null,
            "grid_auto_flow": null,
            "grid_auto_rows": null,
            "grid_column": null,
            "grid_gap": null,
            "grid_row": null,
            "grid_template_areas": null,
            "grid_template_columns": null,
            "grid_template_rows": null,
            "height": null,
            "justify_content": null,
            "justify_items": null,
            "left": null,
            "margin": null,
            "max_height": null,
            "max_width": null,
            "min_height": null,
            "min_width": null,
            "object_fit": null,
            "object_position": null,
            "order": null,
            "overflow": null,
            "overflow_x": null,
            "overflow_y": null,
            "padding": null,
            "right": null,
            "top": null,
            "visibility": null,
            "width": null
          }
        },
        "ec0432cc8faf49739b601eec759a112a": {
          "model_module": "@jupyter-widgets/controls",
          "model_name": "DescriptionStyleModel",
          "model_module_version": "1.5.0",
          "state": {
            "_model_module": "@jupyter-widgets/controls",
            "_model_module_version": "1.5.0",
            "_model_name": "DescriptionStyleModel",
            "_view_count": null,
            "_view_module": "@jupyter-widgets/base",
            "_view_module_version": "1.2.0",
            "_view_name": "StyleView",
            "description_width": ""
          }
        },
        "b8e1503c524d47cbb5270f0934125a5d": {
          "model_module": "@jupyter-widgets/controls",
          "model_name": "HBoxModel",
          "model_module_version": "1.5.0",
          "state": {
            "_dom_classes": [],
            "_model_module": "@jupyter-widgets/controls",
            "_model_module_version": "1.5.0",
            "_model_name": "HBoxModel",
            "_view_count": null,
            "_view_module": "@jupyter-widgets/controls",
            "_view_module_version": "1.5.0",
            "_view_name": "HBoxView",
            "box_style": "",
            "children": [
              "IPY_MODEL_f1a90d55c57f4f0392a2eb79c1684ce0",
              "IPY_MODEL_273ae2db50a7478ea64df7f11d670434"
            ],
            "layout": "IPY_MODEL_1272b30f4eed44dbaedfdd186e0d5831"
          }
        },
        "f1a90d55c57f4f0392a2eb79c1684ce0": {
          "model_module": "@jupyter-widgets/controls",
          "model_name": "CheckboxModel",
          "model_module_version": "1.5.0",
          "state": {
            "_dom_classes": [],
            "_model_module": "@jupyter-widgets/controls",
            "_model_module_version": "1.5.0",
            "_model_name": "CheckboxModel",
            "_view_count": null,
            "_view_module": "@jupyter-widgets/controls",
            "_view_module_version": "1.5.0",
            "_view_name": "CheckboxView",
            "description": "occu",
            "description_tooltip": null,
            "disabled": false,
            "indent": true,
            "layout": "IPY_MODEL_0ffd0537decf447a926befc109c8fef1",
            "style": "IPY_MODEL_95265dc0097d47548755ee4eeecf3a4f",
            "value": false
          }
        },
        "273ae2db50a7478ea64df7f11d670434": {
          "model_module": "@jupyter-widgets/controls",
          "model_name": "CheckboxModel",
          "model_module_version": "1.5.0",
          "state": {
            "_dom_classes": [],
            "_model_module": "@jupyter-widgets/controls",
            "_model_module_version": "1.5.0",
            "_model_name": "CheckboxModel",
            "_view_count": null,
            "_view_module": "@jupyter-widgets/controls",
            "_view_module_version": "1.5.0",
            "_view_name": "CheckboxView",
            "description": "Is this variable Categorical?",
            "description_tooltip": null,
            "disabled": false,
            "indent": true,
            "layout": "IPY_MODEL_9d937f5654814dd2a13602b48d505ee2",
            "style": "IPY_MODEL_3fe9909eced146d9979a8d2f7954b986",
            "value": false
          }
        },
        "1272b30f4eed44dbaedfdd186e0d5831": {
          "model_module": "@jupyter-widgets/base",
          "model_name": "LayoutModel",
          "model_module_version": "1.2.0",
          "state": {
            "_model_module": "@jupyter-widgets/base",
            "_model_module_version": "1.2.0",
            "_model_name": "LayoutModel",
            "_view_count": null,
            "_view_module": "@jupyter-widgets/base",
            "_view_module_version": "1.2.0",
            "_view_name": "LayoutView",
            "align_content": null,
            "align_items": null,
            "align_self": null,
            "border": null,
            "bottom": null,
            "display": null,
            "flex": null,
            "flex_flow": null,
            "grid_area": null,
            "grid_auto_columns": null,
            "grid_auto_flow": null,
            "grid_auto_rows": null,
            "grid_column": null,
            "grid_gap": null,
            "grid_row": null,
            "grid_template_areas": null,
            "grid_template_columns": null,
            "grid_template_rows": null,
            "height": null,
            "justify_content": null,
            "justify_items": null,
            "left": null,
            "margin": null,
            "max_height": null,
            "max_width": null,
            "min_height": null,
            "min_width": null,
            "object_fit": null,
            "object_position": null,
            "order": null,
            "overflow": null,
            "overflow_x": null,
            "overflow_y": null,
            "padding": null,
            "right": null,
            "top": null,
            "visibility": null,
            "width": null
          }
        },
        "0ffd0537decf447a926befc109c8fef1": {
          "model_module": "@jupyter-widgets/base",
          "model_name": "LayoutModel",
          "model_module_version": "1.2.0",
          "state": {
            "_model_module": "@jupyter-widgets/base",
            "_model_module_version": "1.2.0",
            "_model_name": "LayoutModel",
            "_view_count": null,
            "_view_module": "@jupyter-widgets/base",
            "_view_module_version": "1.2.0",
            "_view_name": "LayoutView",
            "align_content": null,
            "align_items": null,
            "align_self": null,
            "border": null,
            "bottom": null,
            "display": null,
            "flex": null,
            "flex_flow": null,
            "grid_area": null,
            "grid_auto_columns": null,
            "grid_auto_flow": null,
            "grid_auto_rows": null,
            "grid_column": null,
            "grid_gap": null,
            "grid_row": null,
            "grid_template_areas": null,
            "grid_template_columns": null,
            "grid_template_rows": null,
            "height": null,
            "justify_content": null,
            "justify_items": null,
            "left": null,
            "margin": null,
            "max_height": null,
            "max_width": null,
            "min_height": null,
            "min_width": null,
            "object_fit": null,
            "object_position": null,
            "order": null,
            "overflow": null,
            "overflow_x": null,
            "overflow_y": null,
            "padding": null,
            "right": null,
            "top": null,
            "visibility": null,
            "width": null
          }
        },
        "95265dc0097d47548755ee4eeecf3a4f": {
          "model_module": "@jupyter-widgets/controls",
          "model_name": "DescriptionStyleModel",
          "model_module_version": "1.5.0",
          "state": {
            "_model_module": "@jupyter-widgets/controls",
            "_model_module_version": "1.5.0",
            "_model_name": "DescriptionStyleModel",
            "_view_count": null,
            "_view_module": "@jupyter-widgets/base",
            "_view_module_version": "1.2.0",
            "_view_name": "StyleView",
            "description_width": ""
          }
        },
        "9d937f5654814dd2a13602b48d505ee2": {
          "model_module": "@jupyter-widgets/base",
          "model_name": "LayoutModel",
          "model_module_version": "1.2.0",
          "state": {
            "_model_module": "@jupyter-widgets/base",
            "_model_module_version": "1.2.0",
            "_model_name": "LayoutModel",
            "_view_count": null,
            "_view_module": "@jupyter-widgets/base",
            "_view_module_version": "1.2.0",
            "_view_name": "LayoutView",
            "align_content": null,
            "align_items": null,
            "align_self": null,
            "border": null,
            "bottom": null,
            "display": "none",
            "flex": null,
            "flex_flow": null,
            "grid_area": null,
            "grid_auto_columns": null,
            "grid_auto_flow": null,
            "grid_auto_rows": null,
            "grid_column": null,
            "grid_gap": null,
            "grid_row": null,
            "grid_template_areas": null,
            "grid_template_columns": null,
            "grid_template_rows": null,
            "height": null,
            "justify_content": null,
            "justify_items": null,
            "left": null,
            "margin": null,
            "max_height": null,
            "max_width": null,
            "min_height": null,
            "min_width": null,
            "object_fit": null,
            "object_position": null,
            "order": null,
            "overflow": null,
            "overflow_x": null,
            "overflow_y": null,
            "padding": null,
            "right": null,
            "top": null,
            "visibility": null,
            "width": null
          }
        },
        "3fe9909eced146d9979a8d2f7954b986": {
          "model_module": "@jupyter-widgets/controls",
          "model_name": "DescriptionStyleModel",
          "model_module_version": "1.5.0",
          "state": {
            "_model_module": "@jupyter-widgets/controls",
            "_model_module_version": "1.5.0",
            "_model_name": "DescriptionStyleModel",
            "_view_count": null,
            "_view_module": "@jupyter-widgets/base",
            "_view_module_version": "1.2.0",
            "_view_name": "StyleView",
            "description_width": ""
          }
        },
        "3e2b10af38354e04b0b649fc8c5af624": {
          "model_module": "@jupyter-widgets/controls",
          "model_name": "HBoxModel",
          "model_module_version": "1.5.0",
          "state": {
            "_dom_classes": [],
            "_model_module": "@jupyter-widgets/controls",
            "_model_module_version": "1.5.0",
            "_model_name": "HBoxModel",
            "_view_count": null,
            "_view_module": "@jupyter-widgets/controls",
            "_view_module_version": "1.5.0",
            "_view_name": "HBoxView",
            "box_style": "",
            "children": [
              "IPY_MODEL_7ccea8622770443d8d75ff38b06b6cb2",
              "IPY_MODEL_4b45a070245849539da48918529e001c"
            ],
            "layout": "IPY_MODEL_002e8f195c0c4fe584798d6f1b6397ae"
          }
        },
        "7ccea8622770443d8d75ff38b06b6cb2": {
          "model_module": "@jupyter-widgets/controls",
          "model_name": "CheckboxModel",
          "model_module_version": "1.5.0",
          "state": {
            "_dom_classes": [],
            "_model_module": "@jupyter-widgets/controls",
            "_model_module_version": "1.5.0",
            "_model_name": "CheckboxModel",
            "_view_count": null,
            "_view_module": "@jupyter-widgets/controls",
            "_view_module_version": "1.5.0",
            "_view_name": "CheckboxView",
            "description": "is_student",
            "description_tooltip": null,
            "disabled": false,
            "indent": true,
            "layout": "IPY_MODEL_87a772613e84435f9090a352ba40d201",
            "style": "IPY_MODEL_ed8838e776cb475ea3f4574688649b15",
            "value": false
          }
        },
        "4b45a070245849539da48918529e001c": {
          "model_module": "@jupyter-widgets/controls",
          "model_name": "CheckboxModel",
          "model_module_version": "1.5.0",
          "state": {
            "_dom_classes": [],
            "_model_module": "@jupyter-widgets/controls",
            "_model_module_version": "1.5.0",
            "_model_name": "CheckboxModel",
            "_view_count": null,
            "_view_module": "@jupyter-widgets/controls",
            "_view_module_version": "1.5.0",
            "_view_name": "CheckboxView",
            "description": "Is this variable Categorical?",
            "description_tooltip": null,
            "disabled": false,
            "indent": true,
            "layout": "IPY_MODEL_b48d5f42a693465d8b0c15d1d9c8f3ee",
            "style": "IPY_MODEL_5696b9400986484aad627d1669db4d93",
            "value": false
          }
        },
        "002e8f195c0c4fe584798d6f1b6397ae": {
          "model_module": "@jupyter-widgets/base",
          "model_name": "LayoutModel",
          "model_module_version": "1.2.0",
          "state": {
            "_model_module": "@jupyter-widgets/base",
            "_model_module_version": "1.2.0",
            "_model_name": "LayoutModel",
            "_view_count": null,
            "_view_module": "@jupyter-widgets/base",
            "_view_module_version": "1.2.0",
            "_view_name": "LayoutView",
            "align_content": null,
            "align_items": null,
            "align_self": null,
            "border": null,
            "bottom": null,
            "display": null,
            "flex": null,
            "flex_flow": null,
            "grid_area": null,
            "grid_auto_columns": null,
            "grid_auto_flow": null,
            "grid_auto_rows": null,
            "grid_column": null,
            "grid_gap": null,
            "grid_row": null,
            "grid_template_areas": null,
            "grid_template_columns": null,
            "grid_template_rows": null,
            "height": null,
            "justify_content": null,
            "justify_items": null,
            "left": null,
            "margin": null,
            "max_height": null,
            "max_width": null,
            "min_height": null,
            "min_width": null,
            "object_fit": null,
            "object_position": null,
            "order": null,
            "overflow": null,
            "overflow_x": null,
            "overflow_y": null,
            "padding": null,
            "right": null,
            "top": null,
            "visibility": null,
            "width": null
          }
        },
        "87a772613e84435f9090a352ba40d201": {
          "model_module": "@jupyter-widgets/base",
          "model_name": "LayoutModel",
          "model_module_version": "1.2.0",
          "state": {
            "_model_module": "@jupyter-widgets/base",
            "_model_module_version": "1.2.0",
            "_model_name": "LayoutModel",
            "_view_count": null,
            "_view_module": "@jupyter-widgets/base",
            "_view_module_version": "1.2.0",
            "_view_name": "LayoutView",
            "align_content": null,
            "align_items": null,
            "align_self": null,
            "border": null,
            "bottom": null,
            "display": null,
            "flex": null,
            "flex_flow": null,
            "grid_area": null,
            "grid_auto_columns": null,
            "grid_auto_flow": null,
            "grid_auto_rows": null,
            "grid_column": null,
            "grid_gap": null,
            "grid_row": null,
            "grid_template_areas": null,
            "grid_template_columns": null,
            "grid_template_rows": null,
            "height": null,
            "justify_content": null,
            "justify_items": null,
            "left": null,
            "margin": null,
            "max_height": null,
            "max_width": null,
            "min_height": null,
            "min_width": null,
            "object_fit": null,
            "object_position": null,
            "order": null,
            "overflow": null,
            "overflow_x": null,
            "overflow_y": null,
            "padding": null,
            "right": null,
            "top": null,
            "visibility": null,
            "width": null
          }
        },
        "ed8838e776cb475ea3f4574688649b15": {
          "model_module": "@jupyter-widgets/controls",
          "model_name": "DescriptionStyleModel",
          "model_module_version": "1.5.0",
          "state": {
            "_model_module": "@jupyter-widgets/controls",
            "_model_module_version": "1.5.0",
            "_model_name": "DescriptionStyleModel",
            "_view_count": null,
            "_view_module": "@jupyter-widgets/base",
            "_view_module_version": "1.2.0",
            "_view_name": "StyleView",
            "description_width": ""
          }
        },
        "b48d5f42a693465d8b0c15d1d9c8f3ee": {
          "model_module": "@jupyter-widgets/base",
          "model_name": "LayoutModel",
          "model_module_version": "1.2.0",
          "state": {
            "_model_module": "@jupyter-widgets/base",
            "_model_module_version": "1.2.0",
            "_model_name": "LayoutModel",
            "_view_count": null,
            "_view_module": "@jupyter-widgets/base",
            "_view_module_version": "1.2.0",
            "_view_name": "LayoutView",
            "align_content": null,
            "align_items": null,
            "align_self": null,
            "border": null,
            "bottom": null,
            "display": "none",
            "flex": null,
            "flex_flow": null,
            "grid_area": null,
            "grid_auto_columns": null,
            "grid_auto_flow": null,
            "grid_auto_rows": null,
            "grid_column": null,
            "grid_gap": null,
            "grid_row": null,
            "grid_template_areas": null,
            "grid_template_columns": null,
            "grid_template_rows": null,
            "height": null,
            "justify_content": null,
            "justify_items": null,
            "left": null,
            "margin": null,
            "max_height": null,
            "max_width": null,
            "min_height": null,
            "min_width": null,
            "object_fit": null,
            "object_position": null,
            "order": null,
            "overflow": null,
            "overflow_x": null,
            "overflow_y": null,
            "padding": null,
            "right": null,
            "top": null,
            "visibility": null,
            "width": null
          }
        },
        "5696b9400986484aad627d1669db4d93": {
          "model_module": "@jupyter-widgets/controls",
          "model_name": "DescriptionStyleModel",
          "model_module_version": "1.5.0",
          "state": {
            "_model_module": "@jupyter-widgets/controls",
            "_model_module_version": "1.5.0",
            "_model_name": "DescriptionStyleModel",
            "_view_count": null,
            "_view_module": "@jupyter-widgets/base",
            "_view_module_version": "1.2.0",
            "_view_name": "StyleView",
            "description_width": ""
          }
        },
        "1bebf14655e04d9b9b104bde27b74302": {
          "model_module": "@jupyter-widgets/controls",
          "model_name": "LabelModel",
          "model_module_version": "1.5.0",
          "state": {
            "_dom_classes": [],
            "_model_module": "@jupyter-widgets/controls",
            "_model_module_version": "1.5.0",
            "_model_name": "LabelModel",
            "_view_count": null,
            "_view_module": "@jupyter-widgets/controls",
            "_view_module_version": "1.5.0",
            "_view_name": "LabelView",
            "description": "",
            "description_tooltip": null,
            "layout": "IPY_MODEL_69b44eae58bd40f69ebd05b5f5c25816",
            "placeholder": "​",
            "style": "IPY_MODEL_aff8f70b790d48349d68bb4ccb399549",
            "value": "Controls:"
          }
        },
        "69b44eae58bd40f69ebd05b5f5c25816": {
          "model_module": "@jupyter-widgets/base",
          "model_name": "LayoutModel",
          "model_module_version": "1.2.0",
          "state": {
            "_model_module": "@jupyter-widgets/base",
            "_model_module_version": "1.2.0",
            "_model_name": "LayoutModel",
            "_view_count": null,
            "_view_module": "@jupyter-widgets/base",
            "_view_module_version": "1.2.0",
            "_view_name": "LayoutView",
            "align_content": null,
            "align_items": null,
            "align_self": null,
            "border": null,
            "bottom": null,
            "display": null,
            "flex": null,
            "flex_flow": null,
            "grid_area": null,
            "grid_auto_columns": null,
            "grid_auto_flow": null,
            "grid_auto_rows": null,
            "grid_column": null,
            "grid_gap": null,
            "grid_row": null,
            "grid_template_areas": null,
            "grid_template_columns": null,
            "grid_template_rows": null,
            "height": null,
            "justify_content": null,
            "justify_items": null,
            "left": null,
            "margin": null,
            "max_height": null,
            "max_width": null,
            "min_height": null,
            "min_width": null,
            "object_fit": null,
            "object_position": null,
            "order": null,
            "overflow": null,
            "overflow_x": null,
            "overflow_y": null,
            "padding": null,
            "right": null,
            "top": null,
            "visibility": null,
            "width": null
          }
        },
        "aff8f70b790d48349d68bb4ccb399549": {
          "model_module": "@jupyter-widgets/controls",
          "model_name": "DescriptionStyleModel",
          "model_module_version": "1.5.0",
          "state": {
            "_model_module": "@jupyter-widgets/controls",
            "_model_module_version": "1.5.0",
            "_model_name": "DescriptionStyleModel",
            "_view_count": null,
            "_view_module": "@jupyter-widgets/base",
            "_view_module_version": "1.2.0",
            "_view_name": "StyleView",
            "description_width": ""
          }
        },
        "a4d48814ccbe4bd5acbb78227d5b21ed": {
          "model_module": "@jupyter-widgets/controls",
          "model_name": "HBoxModel",
          "model_module_version": "1.5.0",
          "state": {
            "_dom_classes": [],
            "_model_module": "@jupyter-widgets/controls",
            "_model_module_version": "1.5.0",
            "_model_name": "HBoxModel",
            "_view_count": null,
            "_view_module": "@jupyter-widgets/controls",
            "_view_module_version": "1.5.0",
            "_view_name": "HBoxView",
            "box_style": "",
            "children": [
              "IPY_MODEL_db8b9a30605d4a44a04785f8dfebe714",
              "IPY_MODEL_9cd107ca3fa84478849edbdd121eea3a"
            ],
            "layout": "IPY_MODEL_668bdae9100f4408bc4371bc02c2c2ea"
          }
        },
        "db8b9a30605d4a44a04785f8dfebe714": {
          "model_module": "@jupyter-widgets/controls",
          "model_name": "CheckboxModel",
          "model_module_version": "1.5.0",
          "state": {
            "_dom_classes": [],
            "_model_module": "@jupyter-widgets/controls",
            "_model_module_version": "1.5.0",
            "_model_name": "CheckboxModel",
            "_view_count": null,
            "_view_module": "@jupyter-widgets/controls",
            "_view_module_version": "1.5.0",
            "_view_name": "CheckboxView",
            "description": "gender",
            "description_tooltip": null,
            "disabled": false,
            "indent": true,
            "layout": "IPY_MODEL_a3117658bc3b4e46b7722907cdf44591",
            "style": "IPY_MODEL_e37eeda005684ead8b0bc7370e37bccb",
            "value": true
          }
        },
        "9cd107ca3fa84478849edbdd121eea3a": {
          "model_module": "@jupyter-widgets/controls",
          "model_name": "CheckboxModel",
          "model_module_version": "1.5.0",
          "state": {
            "_dom_classes": [],
            "_model_module": "@jupyter-widgets/controls",
            "_model_module_version": "1.5.0",
            "_model_name": "CheckboxModel",
            "_view_count": null,
            "_view_module": "@jupyter-widgets/controls",
            "_view_module_version": "1.5.0",
            "_view_name": "CheckboxView",
            "description": "Is this variable Categorical?",
            "description_tooltip": null,
            "disabled": false,
            "indent": true,
            "layout": "IPY_MODEL_3e72cd0e6c7c4a2882ea92c23e6bb703",
            "style": "IPY_MODEL_3753ffdf4cf14718959d72ad5ef5c2be",
            "value": true
          }
        },
        "668bdae9100f4408bc4371bc02c2c2ea": {
          "model_module": "@jupyter-widgets/base",
          "model_name": "LayoutModel",
          "model_module_version": "1.2.0",
          "state": {
            "_model_module": "@jupyter-widgets/base",
            "_model_module_version": "1.2.0",
            "_model_name": "LayoutModel",
            "_view_count": null,
            "_view_module": "@jupyter-widgets/base",
            "_view_module_version": "1.2.0",
            "_view_name": "LayoutView",
            "align_content": null,
            "align_items": null,
            "align_self": null,
            "border": null,
            "bottom": null,
            "display": null,
            "flex": null,
            "flex_flow": null,
            "grid_area": null,
            "grid_auto_columns": null,
            "grid_auto_flow": null,
            "grid_auto_rows": null,
            "grid_column": null,
            "grid_gap": null,
            "grid_row": null,
            "grid_template_areas": null,
            "grid_template_columns": null,
            "grid_template_rows": null,
            "height": null,
            "justify_content": null,
            "justify_items": null,
            "left": null,
            "margin": null,
            "max_height": null,
            "max_width": null,
            "min_height": null,
            "min_width": null,
            "object_fit": null,
            "object_position": null,
            "order": null,
            "overflow": null,
            "overflow_x": null,
            "overflow_y": null,
            "padding": null,
            "right": null,
            "top": null,
            "visibility": null,
            "width": null
          }
        },
        "a3117658bc3b4e46b7722907cdf44591": {
          "model_module": "@jupyter-widgets/base",
          "model_name": "LayoutModel",
          "model_module_version": "1.2.0",
          "state": {
            "_model_module": "@jupyter-widgets/base",
            "_model_module_version": "1.2.0",
            "_model_name": "LayoutModel",
            "_view_count": null,
            "_view_module": "@jupyter-widgets/base",
            "_view_module_version": "1.2.0",
            "_view_name": "LayoutView",
            "align_content": null,
            "align_items": null,
            "align_self": null,
            "border": null,
            "bottom": null,
            "display": null,
            "flex": null,
            "flex_flow": null,
            "grid_area": null,
            "grid_auto_columns": null,
            "grid_auto_flow": null,
            "grid_auto_rows": null,
            "grid_column": null,
            "grid_gap": null,
            "grid_row": null,
            "grid_template_areas": null,
            "grid_template_columns": null,
            "grid_template_rows": null,
            "height": null,
            "justify_content": null,
            "justify_items": null,
            "left": null,
            "margin": null,
            "max_height": null,
            "max_width": null,
            "min_height": null,
            "min_width": null,
            "object_fit": null,
            "object_position": null,
            "order": null,
            "overflow": null,
            "overflow_x": null,
            "overflow_y": null,
            "padding": null,
            "right": null,
            "top": null,
            "visibility": null,
            "width": null
          }
        },
        "e37eeda005684ead8b0bc7370e37bccb": {
          "model_module": "@jupyter-widgets/controls",
          "model_name": "DescriptionStyleModel",
          "model_module_version": "1.5.0",
          "state": {
            "_model_module": "@jupyter-widgets/controls",
            "_model_module_version": "1.5.0",
            "_model_name": "DescriptionStyleModel",
            "_view_count": null,
            "_view_module": "@jupyter-widgets/base",
            "_view_module_version": "1.2.0",
            "_view_name": "StyleView",
            "description_width": ""
          }
        },
        "3e72cd0e6c7c4a2882ea92c23e6bb703": {
          "model_module": "@jupyter-widgets/base",
          "model_name": "LayoutModel",
          "model_module_version": "1.2.0",
          "state": {
            "_model_module": "@jupyter-widgets/base",
            "_model_module_version": "1.2.0",
            "_model_name": "LayoutModel",
            "_view_count": null,
            "_view_module": "@jupyter-widgets/base",
            "_view_module_version": "1.2.0",
            "_view_name": "LayoutView",
            "align_content": null,
            "align_items": null,
            "align_self": null,
            "border": null,
            "bottom": null,
            "display": "flex",
            "flex": null,
            "flex_flow": null,
            "grid_area": null,
            "grid_auto_columns": null,
            "grid_auto_flow": null,
            "grid_auto_rows": null,
            "grid_column": null,
            "grid_gap": null,
            "grid_row": null,
            "grid_template_areas": null,
            "grid_template_columns": null,
            "grid_template_rows": null,
            "height": null,
            "justify_content": null,
            "justify_items": null,
            "left": null,
            "margin": null,
            "max_height": null,
            "max_width": null,
            "min_height": null,
            "min_width": null,
            "object_fit": null,
            "object_position": null,
            "order": null,
            "overflow": null,
            "overflow_x": null,
            "overflow_y": null,
            "padding": null,
            "right": null,
            "top": null,
            "visibility": null,
            "width": null
          }
        },
        "3753ffdf4cf14718959d72ad5ef5c2be": {
          "model_module": "@jupyter-widgets/controls",
          "model_name": "DescriptionStyleModel",
          "model_module_version": "1.5.0",
          "state": {
            "_model_module": "@jupyter-widgets/controls",
            "_model_module_version": "1.5.0",
            "_model_name": "DescriptionStyleModel",
            "_view_count": null,
            "_view_module": "@jupyter-widgets/base",
            "_view_module_version": "1.2.0",
            "_view_name": "StyleView",
            "description_width": ""
          }
        },
        "bd67003895b64bb1a6296f26f5028660": {
          "model_module": "@jupyter-widgets/controls",
          "model_name": "HBoxModel",
          "model_module_version": "1.5.0",
          "state": {
            "_dom_classes": [],
            "_model_module": "@jupyter-widgets/controls",
            "_model_module_version": "1.5.0",
            "_model_name": "HBoxModel",
            "_view_count": null,
            "_view_module": "@jupyter-widgets/controls",
            "_view_module_version": "1.5.0",
            "_view_name": "HBoxView",
            "box_style": "",
            "children": [
              "IPY_MODEL_7e7737f129d840e699d352c7d1fad4c0",
              "IPY_MODEL_a3746f3298cc447c92980bd69193168a"
            ],
            "layout": "IPY_MODEL_e783fc317fdc4057a65f350de06e2153"
          }
        },
        "7e7737f129d840e699d352c7d1fad4c0": {
          "model_module": "@jupyter-widgets/controls",
          "model_name": "CheckboxModel",
          "model_module_version": "1.5.0",
          "state": {
            "_dom_classes": [],
            "_model_module": "@jupyter-widgets/controls",
            "_model_module_version": "1.5.0",
            "_model_name": "CheckboxModel",
            "_view_count": null,
            "_view_module": "@jupyter-widgets/controls",
            "_view_module_version": "1.5.0",
            "_view_name": "CheckboxView",
            "description": "age",
            "description_tooltip": null,
            "disabled": true,
            "indent": true,
            "layout": "IPY_MODEL_071bf99d874947b1ba8a5eb9409c2c9f",
            "style": "IPY_MODEL_0f960976cb6147f4bd1e449bee3421c2",
            "value": false
          }
        },
        "a3746f3298cc447c92980bd69193168a": {
          "model_module": "@jupyter-widgets/controls",
          "model_name": "CheckboxModel",
          "model_module_version": "1.5.0",
          "state": {
            "_dom_classes": [],
            "_model_module": "@jupyter-widgets/controls",
            "_model_module_version": "1.5.0",
            "_model_name": "CheckboxModel",
            "_view_count": null,
            "_view_module": "@jupyter-widgets/controls",
            "_view_module_version": "1.5.0",
            "_view_name": "CheckboxView",
            "description": "Is this variable Categorical?",
            "description_tooltip": null,
            "disabled": false,
            "indent": true,
            "layout": "IPY_MODEL_7c89816f5c474d2690403f636f7b3fd6",
            "style": "IPY_MODEL_e6fe875564724a42a53f7cd30c2dcefd",
            "value": false
          }
        },
        "e783fc317fdc4057a65f350de06e2153": {
          "model_module": "@jupyter-widgets/base",
          "model_name": "LayoutModel",
          "model_module_version": "1.2.0",
          "state": {
            "_model_module": "@jupyter-widgets/base",
            "_model_module_version": "1.2.0",
            "_model_name": "LayoutModel",
            "_view_count": null,
            "_view_module": "@jupyter-widgets/base",
            "_view_module_version": "1.2.0",
            "_view_name": "LayoutView",
            "align_content": null,
            "align_items": null,
            "align_self": null,
            "border": null,
            "bottom": null,
            "display": null,
            "flex": null,
            "flex_flow": null,
            "grid_area": null,
            "grid_auto_columns": null,
            "grid_auto_flow": null,
            "grid_auto_rows": null,
            "grid_column": null,
            "grid_gap": null,
            "grid_row": null,
            "grid_template_areas": null,
            "grid_template_columns": null,
            "grid_template_rows": null,
            "height": null,
            "justify_content": null,
            "justify_items": null,
            "left": null,
            "margin": null,
            "max_height": null,
            "max_width": null,
            "min_height": null,
            "min_width": null,
            "object_fit": null,
            "object_position": null,
            "order": null,
            "overflow": null,
            "overflow_x": null,
            "overflow_y": null,
            "padding": null,
            "right": null,
            "top": null,
            "visibility": null,
            "width": null
          }
        },
        "071bf99d874947b1ba8a5eb9409c2c9f": {
          "model_module": "@jupyter-widgets/base",
          "model_name": "LayoutModel",
          "model_module_version": "1.2.0",
          "state": {
            "_model_module": "@jupyter-widgets/base",
            "_model_module_version": "1.2.0",
            "_model_name": "LayoutModel",
            "_view_count": null,
            "_view_module": "@jupyter-widgets/base",
            "_view_module_version": "1.2.0",
            "_view_name": "LayoutView",
            "align_content": null,
            "align_items": null,
            "align_self": null,
            "border": null,
            "bottom": null,
            "display": null,
            "flex": null,
            "flex_flow": null,
            "grid_area": null,
            "grid_auto_columns": null,
            "grid_auto_flow": null,
            "grid_auto_rows": null,
            "grid_column": null,
            "grid_gap": null,
            "grid_row": null,
            "grid_template_areas": null,
            "grid_template_columns": null,
            "grid_template_rows": null,
            "height": null,
            "justify_content": null,
            "justify_items": null,
            "left": null,
            "margin": null,
            "max_height": null,
            "max_width": null,
            "min_height": null,
            "min_width": null,
            "object_fit": null,
            "object_position": null,
            "order": null,
            "overflow": null,
            "overflow_x": null,
            "overflow_y": null,
            "padding": null,
            "right": null,
            "top": null,
            "visibility": null,
            "width": null
          }
        },
        "0f960976cb6147f4bd1e449bee3421c2": {
          "model_module": "@jupyter-widgets/controls",
          "model_name": "DescriptionStyleModel",
          "model_module_version": "1.5.0",
          "state": {
            "_model_module": "@jupyter-widgets/controls",
            "_model_module_version": "1.5.0",
            "_model_name": "DescriptionStyleModel",
            "_view_count": null,
            "_view_module": "@jupyter-widgets/base",
            "_view_module_version": "1.2.0",
            "_view_name": "StyleView",
            "description_width": ""
          }
        },
        "7c89816f5c474d2690403f636f7b3fd6": {
          "model_module": "@jupyter-widgets/base",
          "model_name": "LayoutModel",
          "model_module_version": "1.2.0",
          "state": {
            "_model_module": "@jupyter-widgets/base",
            "_model_module_version": "1.2.0",
            "_model_name": "LayoutModel",
            "_view_count": null,
            "_view_module": "@jupyter-widgets/base",
            "_view_module_version": "1.2.0",
            "_view_name": "LayoutView",
            "align_content": null,
            "align_items": null,
            "align_self": null,
            "border": null,
            "bottom": null,
            "display": "none",
            "flex": null,
            "flex_flow": null,
            "grid_area": null,
            "grid_auto_columns": null,
            "grid_auto_flow": null,
            "grid_auto_rows": null,
            "grid_column": null,
            "grid_gap": null,
            "grid_row": null,
            "grid_template_areas": null,
            "grid_template_columns": null,
            "grid_template_rows": null,
            "height": null,
            "justify_content": null,
            "justify_items": null,
            "left": null,
            "margin": null,
            "max_height": null,
            "max_width": null,
            "min_height": null,
            "min_width": null,
            "object_fit": null,
            "object_position": null,
            "order": null,
            "overflow": null,
            "overflow_x": null,
            "overflow_y": null,
            "padding": null,
            "right": null,
            "top": null,
            "visibility": null,
            "width": null
          }
        },
        "e6fe875564724a42a53f7cd30c2dcefd": {
          "model_module": "@jupyter-widgets/controls",
          "model_name": "DescriptionStyleModel",
          "model_module_version": "1.5.0",
          "state": {
            "_model_module": "@jupyter-widgets/controls",
            "_model_module_version": "1.5.0",
            "_model_name": "DescriptionStyleModel",
            "_view_count": null,
            "_view_module": "@jupyter-widgets/base",
            "_view_module_version": "1.2.0",
            "_view_name": "StyleView",
            "description_width": ""
          }
        },
        "1b540d461f314d46a9ac864fc3e3da83": {
          "model_module": "@jupyter-widgets/controls",
          "model_name": "HBoxModel",
          "model_module_version": "1.5.0",
          "state": {
            "_dom_classes": [],
            "_model_module": "@jupyter-widgets/controls",
            "_model_module_version": "1.5.0",
            "_model_name": "HBoxModel",
            "_view_count": null,
            "_view_module": "@jupyter-widgets/controls",
            "_view_module_version": "1.5.0",
            "_view_name": "HBoxView",
            "box_style": "",
            "children": [
              "IPY_MODEL_4c914ad34cb04ac5a08e834ef21bbbfc",
              "IPY_MODEL_b75b5fdc05e04a8788023cf3065beb24"
            ],
            "layout": "IPY_MODEL_67ad6fd8eae5476e8814862ccf44e996"
          }
        },
        "4c914ad34cb04ac5a08e834ef21bbbfc": {
          "model_module": "@jupyter-widgets/controls",
          "model_name": "CheckboxModel",
          "model_module_version": "1.5.0",
          "state": {
            "_dom_classes": [],
            "_model_module": "@jupyter-widgets/controls",
            "_model_module_version": "1.5.0",
            "_model_name": "CheckboxModel",
            "_view_count": null,
            "_view_module": "@jupyter-widgets/controls",
            "_view_module_version": "1.5.0",
            "_view_name": "CheckboxView",
            "description": "occu",
            "description_tooltip": null,
            "disabled": false,
            "indent": true,
            "layout": "IPY_MODEL_3c2be2ccd22040da9f81c3e42608f79e",
            "style": "IPY_MODEL_fdcada8b42fa46df8a242c4926c47fdd",
            "value": false
          }
        },
        "b75b5fdc05e04a8788023cf3065beb24": {
          "model_module": "@jupyter-widgets/controls",
          "model_name": "CheckboxModel",
          "model_module_version": "1.5.0",
          "state": {
            "_dom_classes": [],
            "_model_module": "@jupyter-widgets/controls",
            "_model_module_version": "1.5.0",
            "_model_name": "CheckboxModel",
            "_view_count": null,
            "_view_module": "@jupyter-widgets/controls",
            "_view_module_version": "1.5.0",
            "_view_name": "CheckboxView",
            "description": "Is this variable Categorical?",
            "description_tooltip": null,
            "disabled": false,
            "indent": true,
            "layout": "IPY_MODEL_552eb60816be497e9524135f7bbde4b2",
            "style": "IPY_MODEL_455ad2017fea471c90c46b014d2d53b0",
            "value": false
          }
        },
        "67ad6fd8eae5476e8814862ccf44e996": {
          "model_module": "@jupyter-widgets/base",
          "model_name": "LayoutModel",
          "model_module_version": "1.2.0",
          "state": {
            "_model_module": "@jupyter-widgets/base",
            "_model_module_version": "1.2.0",
            "_model_name": "LayoutModel",
            "_view_count": null,
            "_view_module": "@jupyter-widgets/base",
            "_view_module_version": "1.2.0",
            "_view_name": "LayoutView",
            "align_content": null,
            "align_items": null,
            "align_self": null,
            "border": null,
            "bottom": null,
            "display": null,
            "flex": null,
            "flex_flow": null,
            "grid_area": null,
            "grid_auto_columns": null,
            "grid_auto_flow": null,
            "grid_auto_rows": null,
            "grid_column": null,
            "grid_gap": null,
            "grid_row": null,
            "grid_template_areas": null,
            "grid_template_columns": null,
            "grid_template_rows": null,
            "height": null,
            "justify_content": null,
            "justify_items": null,
            "left": null,
            "margin": null,
            "max_height": null,
            "max_width": null,
            "min_height": null,
            "min_width": null,
            "object_fit": null,
            "object_position": null,
            "order": null,
            "overflow": null,
            "overflow_x": null,
            "overflow_y": null,
            "padding": null,
            "right": null,
            "top": null,
            "visibility": null,
            "width": null
          }
        },
        "3c2be2ccd22040da9f81c3e42608f79e": {
          "model_module": "@jupyter-widgets/base",
          "model_name": "LayoutModel",
          "model_module_version": "1.2.0",
          "state": {
            "_model_module": "@jupyter-widgets/base",
            "_model_module_version": "1.2.0",
            "_model_name": "LayoutModel",
            "_view_count": null,
            "_view_module": "@jupyter-widgets/base",
            "_view_module_version": "1.2.0",
            "_view_name": "LayoutView",
            "align_content": null,
            "align_items": null,
            "align_self": null,
            "border": null,
            "bottom": null,
            "display": null,
            "flex": null,
            "flex_flow": null,
            "grid_area": null,
            "grid_auto_columns": null,
            "grid_auto_flow": null,
            "grid_auto_rows": null,
            "grid_column": null,
            "grid_gap": null,
            "grid_row": null,
            "grid_template_areas": null,
            "grid_template_columns": null,
            "grid_template_rows": null,
            "height": null,
            "justify_content": null,
            "justify_items": null,
            "left": null,
            "margin": null,
            "max_height": null,
            "max_width": null,
            "min_height": null,
            "min_width": null,
            "object_fit": null,
            "object_position": null,
            "order": null,
            "overflow": null,
            "overflow_x": null,
            "overflow_y": null,
            "padding": null,
            "right": null,
            "top": null,
            "visibility": null,
            "width": null
          }
        },
        "fdcada8b42fa46df8a242c4926c47fdd": {
          "model_module": "@jupyter-widgets/controls",
          "model_name": "DescriptionStyleModel",
          "model_module_version": "1.5.0",
          "state": {
            "_model_module": "@jupyter-widgets/controls",
            "_model_module_version": "1.5.0",
            "_model_name": "DescriptionStyleModel",
            "_view_count": null,
            "_view_module": "@jupyter-widgets/base",
            "_view_module_version": "1.2.0",
            "_view_name": "StyleView",
            "description_width": ""
          }
        },
        "552eb60816be497e9524135f7bbde4b2": {
          "model_module": "@jupyter-widgets/base",
          "model_name": "LayoutModel",
          "model_module_version": "1.2.0",
          "state": {
            "_model_module": "@jupyter-widgets/base",
            "_model_module_version": "1.2.0",
            "_model_name": "LayoutModel",
            "_view_count": null,
            "_view_module": "@jupyter-widgets/base",
            "_view_module_version": "1.2.0",
            "_view_name": "LayoutView",
            "align_content": null,
            "align_items": null,
            "align_self": null,
            "border": null,
            "bottom": null,
            "display": "none",
            "flex": null,
            "flex_flow": null,
            "grid_area": null,
            "grid_auto_columns": null,
            "grid_auto_flow": null,
            "grid_auto_rows": null,
            "grid_column": null,
            "grid_gap": null,
            "grid_row": null,
            "grid_template_areas": null,
            "grid_template_columns": null,
            "grid_template_rows": null,
            "height": null,
            "justify_content": null,
            "justify_items": null,
            "left": null,
            "margin": null,
            "max_height": null,
            "max_width": null,
            "min_height": null,
            "min_width": null,
            "object_fit": null,
            "object_position": null,
            "order": null,
            "overflow": null,
            "overflow_x": null,
            "overflow_y": null,
            "padding": null,
            "right": null,
            "top": null,
            "visibility": null,
            "width": null
          }
        },
        "455ad2017fea471c90c46b014d2d53b0": {
          "model_module": "@jupyter-widgets/controls",
          "model_name": "DescriptionStyleModel",
          "model_module_version": "1.5.0",
          "state": {
            "_model_module": "@jupyter-widgets/controls",
            "_model_module_version": "1.5.0",
            "_model_name": "DescriptionStyleModel",
            "_view_count": null,
            "_view_module": "@jupyter-widgets/base",
            "_view_module_version": "1.2.0",
            "_view_name": "StyleView",
            "description_width": ""
          }
        },
        "19e40934356a4a979017988650375df3": {
          "model_module": "@jupyter-widgets/controls",
          "model_name": "HBoxModel",
          "model_module_version": "1.5.0",
          "state": {
            "_dom_classes": [],
            "_model_module": "@jupyter-widgets/controls",
            "_model_module_version": "1.5.0",
            "_model_name": "HBoxModel",
            "_view_count": null,
            "_view_module": "@jupyter-widgets/controls",
            "_view_module_version": "1.5.0",
            "_view_name": "HBoxView",
            "box_style": "",
            "children": [
              "IPY_MODEL_52ac50cceee04535b4026c30a20564bd",
              "IPY_MODEL_e8cf17df0ad149a29fcdca2d5fc6d2e1"
            ],
            "layout": "IPY_MODEL_ec62b1beb8f34ce389f4103eefe510d1"
          }
        },
        "52ac50cceee04535b4026c30a20564bd": {
          "model_module": "@jupyter-widgets/controls",
          "model_name": "CheckboxModel",
          "model_module_version": "1.5.0",
          "state": {
            "_dom_classes": [],
            "_model_module": "@jupyter-widgets/controls",
            "_model_module_version": "1.5.0",
            "_model_name": "CheckboxModel",
            "_view_count": null,
            "_view_module": "@jupyter-widgets/controls",
            "_view_module_version": "1.5.0",
            "_view_name": "CheckboxView",
            "description": "is_student",
            "description_tooltip": null,
            "disabled": false,
            "indent": true,
            "layout": "IPY_MODEL_0e4c654ce17748cdbbb0e9d97ba5533a",
            "style": "IPY_MODEL_cb562fa7d8c6412aaf28cb66e49af82d",
            "value": false
          }
        },
        "e8cf17df0ad149a29fcdca2d5fc6d2e1": {
          "model_module": "@jupyter-widgets/controls",
          "model_name": "CheckboxModel",
          "model_module_version": "1.5.0",
          "state": {
            "_dom_classes": [],
            "_model_module": "@jupyter-widgets/controls",
            "_model_module_version": "1.5.0",
            "_model_name": "CheckboxModel",
            "_view_count": null,
            "_view_module": "@jupyter-widgets/controls",
            "_view_module_version": "1.5.0",
            "_view_name": "CheckboxView",
            "description": "Is this variable Categorical?",
            "description_tooltip": null,
            "disabled": false,
            "indent": true,
            "layout": "IPY_MODEL_4f6d307e132546c69a273207fb370d95",
            "style": "IPY_MODEL_097abc116d354cb6b810ad00feb7130d",
            "value": false
          }
        },
        "ec62b1beb8f34ce389f4103eefe510d1": {
          "model_module": "@jupyter-widgets/base",
          "model_name": "LayoutModel",
          "model_module_version": "1.2.0",
          "state": {
            "_model_module": "@jupyter-widgets/base",
            "_model_module_version": "1.2.0",
            "_model_name": "LayoutModel",
            "_view_count": null,
            "_view_module": "@jupyter-widgets/base",
            "_view_module_version": "1.2.0",
            "_view_name": "LayoutView",
            "align_content": null,
            "align_items": null,
            "align_self": null,
            "border": null,
            "bottom": null,
            "display": null,
            "flex": null,
            "flex_flow": null,
            "grid_area": null,
            "grid_auto_columns": null,
            "grid_auto_flow": null,
            "grid_auto_rows": null,
            "grid_column": null,
            "grid_gap": null,
            "grid_row": null,
            "grid_template_areas": null,
            "grid_template_columns": null,
            "grid_template_rows": null,
            "height": null,
            "justify_content": null,
            "justify_items": null,
            "left": null,
            "margin": null,
            "max_height": null,
            "max_width": null,
            "min_height": null,
            "min_width": null,
            "object_fit": null,
            "object_position": null,
            "order": null,
            "overflow": null,
            "overflow_x": null,
            "overflow_y": null,
            "padding": null,
            "right": null,
            "top": null,
            "visibility": null,
            "width": null
          }
        },
        "0e4c654ce17748cdbbb0e9d97ba5533a": {
          "model_module": "@jupyter-widgets/base",
          "model_name": "LayoutModel",
          "model_module_version": "1.2.0",
          "state": {
            "_model_module": "@jupyter-widgets/base",
            "_model_module_version": "1.2.0",
            "_model_name": "LayoutModel",
            "_view_count": null,
            "_view_module": "@jupyter-widgets/base",
            "_view_module_version": "1.2.0",
            "_view_name": "LayoutView",
            "align_content": null,
            "align_items": null,
            "align_self": null,
            "border": null,
            "bottom": null,
            "display": null,
            "flex": null,
            "flex_flow": null,
            "grid_area": null,
            "grid_auto_columns": null,
            "grid_auto_flow": null,
            "grid_auto_rows": null,
            "grid_column": null,
            "grid_gap": null,
            "grid_row": null,
            "grid_template_areas": null,
            "grid_template_columns": null,
            "grid_template_rows": null,
            "height": null,
            "justify_content": null,
            "justify_items": null,
            "left": null,
            "margin": null,
            "max_height": null,
            "max_width": null,
            "min_height": null,
            "min_width": null,
            "object_fit": null,
            "object_position": null,
            "order": null,
            "overflow": null,
            "overflow_x": null,
            "overflow_y": null,
            "padding": null,
            "right": null,
            "top": null,
            "visibility": null,
            "width": null
          }
        },
        "cb562fa7d8c6412aaf28cb66e49af82d": {
          "model_module": "@jupyter-widgets/controls",
          "model_name": "DescriptionStyleModel",
          "model_module_version": "1.5.0",
          "state": {
            "_model_module": "@jupyter-widgets/controls",
            "_model_module_version": "1.5.0",
            "_model_name": "DescriptionStyleModel",
            "_view_count": null,
            "_view_module": "@jupyter-widgets/base",
            "_view_module_version": "1.2.0",
            "_view_name": "StyleView",
            "description_width": ""
          }
        },
        "4f6d307e132546c69a273207fb370d95": {
          "model_module": "@jupyter-widgets/base",
          "model_name": "LayoutModel",
          "model_module_version": "1.2.0",
          "state": {
            "_model_module": "@jupyter-widgets/base",
            "_model_module_version": "1.2.0",
            "_model_name": "LayoutModel",
            "_view_count": null,
            "_view_module": "@jupyter-widgets/base",
            "_view_module_version": "1.2.0",
            "_view_name": "LayoutView",
            "align_content": null,
            "align_items": null,
            "align_self": null,
            "border": null,
            "bottom": null,
            "display": "none",
            "flex": null,
            "flex_flow": null,
            "grid_area": null,
            "grid_auto_columns": null,
            "grid_auto_flow": null,
            "grid_auto_rows": null,
            "grid_column": null,
            "grid_gap": null,
            "grid_row": null,
            "grid_template_areas": null,
            "grid_template_columns": null,
            "grid_template_rows": null,
            "height": null,
            "justify_content": null,
            "justify_items": null,
            "left": null,
            "margin": null,
            "max_height": null,
            "max_width": null,
            "min_height": null,
            "min_width": null,
            "object_fit": null,
            "object_position": null,
            "order": null,
            "overflow": null,
            "overflow_x": null,
            "overflow_y": null,
            "padding": null,
            "right": null,
            "top": null,
            "visibility": null,
            "width": null
          }
        },
        "097abc116d354cb6b810ad00feb7130d": {
          "model_module": "@jupyter-widgets/controls",
          "model_name": "DescriptionStyleModel",
          "model_module_version": "1.5.0",
          "state": {
            "_model_module": "@jupyter-widgets/controls",
            "_model_module_version": "1.5.0",
            "_model_name": "DescriptionStyleModel",
            "_view_count": null,
            "_view_module": "@jupyter-widgets/base",
            "_view_module_version": "1.2.0",
            "_view_name": "StyleView",
            "description_width": ""
          }
        },
        "d1ad8373dae549c8b12a0afca945e227": {
          "model_module": "@jupyter-widgets/controls",
          "model_name": "LabelModel",
          "model_module_version": "1.5.0",
          "state": {
            "_dom_classes": [],
            "_model_module": "@jupyter-widgets/controls",
            "_model_module_version": "1.5.0",
            "_model_name": "LabelModel",
            "_view_count": null,
            "_view_module": "@jupyter-widgets/controls",
            "_view_module_version": "1.5.0",
            "_view_name": "LabelView",
            "description": "",
            "description_tooltip": null,
            "layout": "IPY_MODEL_0b5ec7c79dd64990b82ef0f03a10d04a",
            "placeholder": "​",
            "style": "IPY_MODEL_f7704fcd64184f6e98f4fde95eec9c2f",
            "value": "Make Wordclouds:"
          }
        },
        "0b5ec7c79dd64990b82ef0f03a10d04a": {
          "model_module": "@jupyter-widgets/base",
          "model_name": "LayoutModel",
          "model_module_version": "1.2.0",
          "state": {
            "_model_module": "@jupyter-widgets/base",
            "_model_module_version": "1.2.0",
            "_model_name": "LayoutModel",
            "_view_count": null,
            "_view_module": "@jupyter-widgets/base",
            "_view_module_version": "1.2.0",
            "_view_name": "LayoutView",
            "align_content": null,
            "align_items": null,
            "align_self": null,
            "border": null,
            "bottom": null,
            "display": null,
            "flex": null,
            "flex_flow": null,
            "grid_area": null,
            "grid_auto_columns": null,
            "grid_auto_flow": null,
            "grid_auto_rows": null,
            "grid_column": null,
            "grid_gap": null,
            "grid_row": null,
            "grid_template_areas": null,
            "grid_template_columns": null,
            "grid_template_rows": null,
            "height": null,
            "justify_content": null,
            "justify_items": null,
            "left": null,
            "margin": null,
            "max_height": null,
            "max_width": null,
            "min_height": null,
            "min_width": null,
            "object_fit": null,
            "object_position": null,
            "order": null,
            "overflow": null,
            "overflow_x": null,
            "overflow_y": null,
            "padding": null,
            "right": null,
            "top": null,
            "visibility": null,
            "width": null
          }
        },
        "f7704fcd64184f6e98f4fde95eec9c2f": {
          "model_module": "@jupyter-widgets/controls",
          "model_name": "DescriptionStyleModel",
          "model_module_version": "1.5.0",
          "state": {
            "_model_module": "@jupyter-widgets/controls",
            "_model_module_version": "1.5.0",
            "_model_name": "DescriptionStyleModel",
            "_view_count": null,
            "_view_module": "@jupyter-widgets/base",
            "_view_module_version": "1.2.0",
            "_view_name": "StyleView",
            "description_width": ""
          }
        },
        "44ad0e3d7c584262aa5bdf6f4b1fe3b8": {
          "model_module": "@jupyter-widgets/controls",
          "model_name": "CheckboxModel",
          "model_module_version": "1.5.0",
          "state": {
            "_dom_classes": [],
            "_model_module": "@jupyter-widgets/controls",
            "_model_module_version": "1.5.0",
            "_model_name": "CheckboxModel",
            "_view_count": null,
            "_view_module": "@jupyter-widgets/controls",
            "_view_module_version": "1.5.0",
            "_view_name": "CheckboxView",
            "description": "Enable Wordclouds",
            "description_tooltip": null,
            "disabled": false,
            "indent": true,
            "layout": "IPY_MODEL_734750656f694b90b2853c4dd4586a83",
            "style": "IPY_MODEL_b2194ea570df4c19bdd926f85b63d2ee",
            "value": true
          }
        },
        "734750656f694b90b2853c4dd4586a83": {
          "model_module": "@jupyter-widgets/base",
          "model_name": "LayoutModel",
          "model_module_version": "1.2.0",
          "state": {
            "_model_module": "@jupyter-widgets/base",
            "_model_module_version": "1.2.0",
            "_model_name": "LayoutModel",
            "_view_count": null,
            "_view_module": "@jupyter-widgets/base",
            "_view_module_version": "1.2.0",
            "_view_name": "LayoutView",
            "align_content": null,
            "align_items": null,
            "align_self": null,
            "border": null,
            "bottom": null,
            "display": null,
            "flex": null,
            "flex_flow": null,
            "grid_area": null,
            "grid_auto_columns": null,
            "grid_auto_flow": null,
            "grid_auto_rows": null,
            "grid_column": null,
            "grid_gap": null,
            "grid_row": null,
            "grid_template_areas": null,
            "grid_template_columns": null,
            "grid_template_rows": null,
            "height": null,
            "justify_content": null,
            "justify_items": null,
            "left": null,
            "margin": null,
            "max_height": null,
            "max_width": null,
            "min_height": null,
            "min_width": null,
            "object_fit": null,
            "object_position": null,
            "order": null,
            "overflow": null,
            "overflow_x": null,
            "overflow_y": null,
            "padding": null,
            "right": null,
            "top": null,
            "visibility": null,
            "width": null
          }
        },
        "b2194ea570df4c19bdd926f85b63d2ee": {
          "model_module": "@jupyter-widgets/controls",
          "model_name": "DescriptionStyleModel",
          "model_module_version": "1.5.0",
          "state": {
            "_model_module": "@jupyter-widgets/controls",
            "_model_module_version": "1.5.0",
            "_model_name": "DescriptionStyleModel",
            "_view_count": null,
            "_view_module": "@jupyter-widgets/base",
            "_view_module_version": "1.2.0",
            "_view_name": "StyleView",
            "description_width": ""
          }
        },
        "2c7871fb7e0b45af884486c2236d84d3": {
          "model_module": "@jupyter-widgets/controls",
          "model_name": "ButtonModel",
          "model_module_version": "1.5.0",
          "state": {
            "_dom_classes": [],
            "_model_module": "@jupyter-widgets/controls",
            "_model_module_version": "1.5.0",
            "_model_name": "ButtonModel",
            "_view_count": null,
            "_view_module": "@jupyter-widgets/controls",
            "_view_module_version": "1.5.0",
            "_view_name": "ButtonView",
            "button_style": "",
            "description": "Submit",
            "disabled": false,
            "icon": "",
            "layout": "IPY_MODEL_968112590c4345e1a3242c3a9e4e39ee",
            "style": "IPY_MODEL_229f97a5dc464e72aa80f86f10d17219",
            "tooltip": ""
          }
        },
        "968112590c4345e1a3242c3a9e4e39ee": {
          "model_module": "@jupyter-widgets/base",
          "model_name": "LayoutModel",
          "model_module_version": "1.2.0",
          "state": {
            "_model_module": "@jupyter-widgets/base",
            "_model_module_version": "1.2.0",
            "_model_name": "LayoutModel",
            "_view_count": null,
            "_view_module": "@jupyter-widgets/base",
            "_view_module_version": "1.2.0",
            "_view_name": "LayoutView",
            "align_content": null,
            "align_items": null,
            "align_self": null,
            "border": null,
            "bottom": null,
            "display": null,
            "flex": null,
            "flex_flow": null,
            "grid_area": null,
            "grid_auto_columns": null,
            "grid_auto_flow": null,
            "grid_auto_rows": null,
            "grid_column": null,
            "grid_gap": null,
            "grid_row": null,
            "grid_template_areas": null,
            "grid_template_columns": null,
            "grid_template_rows": null,
            "height": null,
            "justify_content": null,
            "justify_items": null,
            "left": null,
            "margin": null,
            "max_height": null,
            "max_width": null,
            "min_height": null,
            "min_width": null,
            "object_fit": null,
            "object_position": null,
            "order": null,
            "overflow": null,
            "overflow_x": null,
            "overflow_y": null,
            "padding": null,
            "right": null,
            "top": null,
            "visibility": null,
            "width": null
          }
        },
        "229f97a5dc464e72aa80f86f10d17219": {
          "model_module": "@jupyter-widgets/controls",
          "model_name": "ButtonStyleModel",
          "model_module_version": "1.5.0",
          "state": {
            "_model_module": "@jupyter-widgets/controls",
            "_model_module_version": "1.5.0",
            "_model_name": "ButtonStyleModel",
            "_view_count": null,
            "_view_module": "@jupyter-widgets/base",
            "_view_module_version": "1.2.0",
            "_view_name": "StyleView",
            "button_color": null,
            "font_weight": ""
          }
        },
        "bdf8e06c873441e2b831daa0fe9a94e5": {
          "model_module": "@jupyter-widgets/controls",
          "model_name": "DropdownModel",
          "model_module_version": "1.5.0",
          "state": {
            "_dom_classes": [],
            "_model_module": "@jupyter-widgets/controls",
            "_model_module_version": "1.5.0",
            "_model_name": "DropdownModel",
            "_options_labels": [
              "Upload from desktop",
              "msgs404u.csv"
            ],
            "_view_count": null,
            "_view_module": "@jupyter-widgets/controls",
            "_view_module_version": "1.5.0",
            "_view_name": "DropdownView",
            "description": "Select File:",
            "description_tooltip": null,
            "disabled": false,
            "index": 1,
            "layout": "IPY_MODEL_ec6bd291f7b9449d84269f13e3c5c8bd",
            "style": "IPY_MODEL_5cc09c5377284239a2d7ea1c16232094"
          }
        },
        "ec6bd291f7b9449d84269f13e3c5c8bd": {
          "model_module": "@jupyter-widgets/base",
          "model_name": "LayoutModel",
          "model_module_version": "1.2.0",
          "state": {
            "_model_module": "@jupyter-widgets/base",
            "_model_module_version": "1.2.0",
            "_model_name": "LayoutModel",
            "_view_count": null,
            "_view_module": "@jupyter-widgets/base",
            "_view_module_version": "1.2.0",
            "_view_name": "LayoutView",
            "align_content": null,
            "align_items": null,
            "align_self": null,
            "border": null,
            "bottom": null,
            "display": null,
            "flex": null,
            "flex_flow": null,
            "grid_area": null,
            "grid_auto_columns": null,
            "grid_auto_flow": null,
            "grid_auto_rows": null,
            "grid_column": null,
            "grid_gap": null,
            "grid_row": null,
            "grid_template_areas": null,
            "grid_template_columns": null,
            "grid_template_rows": null,
            "height": null,
            "justify_content": null,
            "justify_items": null,
            "left": null,
            "margin": null,
            "max_height": null,
            "max_width": null,
            "min_height": null,
            "min_width": null,
            "object_fit": null,
            "object_position": null,
            "order": null,
            "overflow": null,
            "overflow_x": null,
            "overflow_y": null,
            "padding": null,
            "right": null,
            "top": null,
            "visibility": null,
            "width": null
          }
        },
        "5cc09c5377284239a2d7ea1c16232094": {
          "model_module": "@jupyter-widgets/controls",
          "model_name": "DescriptionStyleModel",
          "model_module_version": "1.5.0",
          "state": {
            "_model_module": "@jupyter-widgets/controls",
            "_model_module_version": "1.5.0",
            "_model_name": "DescriptionStyleModel",
            "_view_count": null,
            "_view_module": "@jupyter-widgets/base",
            "_view_module_version": "1.2.0",
            "_view_name": "StyleView",
            "description_width": ""
          }
        },
        "8e51f09d0e7849219b671f536867e6a8": {
          "model_module": "@jupyter-widgets/controls",
          "model_name": "DropdownModel",
          "model_module_version": "1.5.0",
          "state": {
            "_dom_classes": [],
            "_model_module": "@jupyter-widgets/controls",
            "_model_module_version": "1.5.0",
            "_model_name": "DropdownModel",
            "_options_labels": [
              "created_date",
              "message"
            ],
            "_view_count": null,
            "_view_module": "@jupyter-widgets/controls",
            "_view_module_version": "1.5.0",
            "_view_name": "DropdownView",
            "description": "Text Column:",
            "description_tooltip": null,
            "disabled": false,
            "index": 1,
            "layout": "IPY_MODEL_5d2c10c90be14cfdbc18024dc215562f",
            "style": "IPY_MODEL_e4c4c37a48604193915263f4b7c93f9c"
          }
        },
        "5d2c10c90be14cfdbc18024dc215562f": {
          "model_module": "@jupyter-widgets/base",
          "model_name": "LayoutModel",
          "model_module_version": "1.2.0",
          "state": {
            "_model_module": "@jupyter-widgets/base",
            "_model_module_version": "1.2.0",
            "_model_name": "LayoutModel",
            "_view_count": null,
            "_view_module": "@jupyter-widgets/base",
            "_view_module_version": "1.2.0",
            "_view_name": "LayoutView",
            "align_content": null,
            "align_items": null,
            "align_self": null,
            "border": null,
            "bottom": null,
            "display": null,
            "flex": null,
            "flex_flow": null,
            "grid_area": null,
            "grid_auto_columns": null,
            "grid_auto_flow": null,
            "grid_auto_rows": null,
            "grid_column": null,
            "grid_gap": null,
            "grid_row": null,
            "grid_template_areas": null,
            "grid_template_columns": null,
            "grid_template_rows": null,
            "height": null,
            "justify_content": null,
            "justify_items": null,
            "left": null,
            "margin": null,
            "max_height": null,
            "max_width": null,
            "min_height": null,
            "min_width": null,
            "object_fit": null,
            "object_position": null,
            "order": null,
            "overflow": null,
            "overflow_x": null,
            "overflow_y": null,
            "padding": null,
            "right": null,
            "top": null,
            "visibility": null,
            "width": null
          }
        },
        "e4c4c37a48604193915263f4b7c93f9c": {
          "model_module": "@jupyter-widgets/controls",
          "model_name": "DescriptionStyleModel",
          "model_module_version": "1.5.0",
          "state": {
            "_model_module": "@jupyter-widgets/controls",
            "_model_module_version": "1.5.0",
            "_model_name": "DescriptionStyleModel",
            "_view_count": null,
            "_view_module": "@jupyter-widgets/base",
            "_view_module_version": "1.2.0",
            "_view_name": "StyleView",
            "description_width": ""
          }
        },
        "1b3be87b9314456f962052d6caec217f": {
          "model_module": "@jupyter-widgets/controls",
          "model_name": "DropdownModel",
          "model_module_version": "1.5.0",
          "state": {
            "_dom_classes": [],
            "_model_module": "@jupyter-widgets/controls",
            "_model_module_version": "1.5.0",
            "_model_name": "DropdownModel",
            "_options_labels": [
              "message_id",
              "user_id"
            ],
            "_view_count": null,
            "_view_module": "@jupyter-widgets/controls",
            "_view_module_version": "1.5.0",
            "_view_name": "DropdownView",
            "description": "ID Column:",
            "description_tooltip": null,
            "disabled": false,
            "index": 1,
            "layout": "IPY_MODEL_2b2dd63686e74844ab5343c16b595bc0",
            "style": "IPY_MODEL_b22b4b8bbe914e38a3e84d2e2366bc3a"
          }
        },
        "2b2dd63686e74844ab5343c16b595bc0": {
          "model_module": "@jupyter-widgets/base",
          "model_name": "LayoutModel",
          "model_module_version": "1.2.0",
          "state": {
            "_model_module": "@jupyter-widgets/base",
            "_model_module_version": "1.2.0",
            "_model_name": "LayoutModel",
            "_view_count": null,
            "_view_module": "@jupyter-widgets/base",
            "_view_module_version": "1.2.0",
            "_view_name": "LayoutView",
            "align_content": null,
            "align_items": null,
            "align_self": null,
            "border": null,
            "bottom": null,
            "display": null,
            "flex": null,
            "flex_flow": null,
            "grid_area": null,
            "grid_auto_columns": null,
            "grid_auto_flow": null,
            "grid_auto_rows": null,
            "grid_column": null,
            "grid_gap": null,
            "grid_row": null,
            "grid_template_areas": null,
            "grid_template_columns": null,
            "grid_template_rows": null,
            "height": null,
            "justify_content": null,
            "justify_items": null,
            "left": null,
            "margin": null,
            "max_height": null,
            "max_width": null,
            "min_height": null,
            "min_width": null,
            "object_fit": null,
            "object_position": null,
            "order": null,
            "overflow": null,
            "overflow_x": null,
            "overflow_y": null,
            "padding": null,
            "right": null,
            "top": null,
            "visibility": null,
            "width": null
          }
        },
        "b22b4b8bbe914e38a3e84d2e2366bc3a": {
          "model_module": "@jupyter-widgets/controls",
          "model_name": "DescriptionStyleModel",
          "model_module_version": "1.5.0",
          "state": {
            "_model_module": "@jupyter-widgets/controls",
            "_model_module_version": "1.5.0",
            "_model_name": "DescriptionStyleModel",
            "_view_count": null,
            "_view_module": "@jupyter-widgets/base",
            "_view_module_version": "1.2.0",
            "_view_name": "StyleView",
            "description_width": ""
          }
        },
        "ff7338ece29f49c39838d8eb3b3c9b50": {
          "model_module": "@jupyter-widgets/controls",
          "model_name": "ButtonModel",
          "model_module_version": "1.5.0",
          "state": {
            "_dom_classes": [],
            "_model_module": "@jupyter-widgets/controls",
            "_model_module_version": "1.5.0",
            "_model_name": "ButtonModel",
            "_view_count": null,
            "_view_module": "@jupyter-widgets/controls",
            "_view_module_version": "1.5.0",
            "_view_name": "ButtonView",
            "button_style": "",
            "description": "Confirm Columns",
            "disabled": false,
            "icon": "",
            "layout": "IPY_MODEL_15760193142f439aaf8dfc2bcc6843b3",
            "style": "IPY_MODEL_674d1916823b40e4a42eaa57415ff8b5",
            "tooltip": ""
          }
        },
        "15760193142f439aaf8dfc2bcc6843b3": {
          "model_module": "@jupyter-widgets/base",
          "model_name": "LayoutModel",
          "model_module_version": "1.2.0",
          "state": {
            "_model_module": "@jupyter-widgets/base",
            "_model_module_version": "1.2.0",
            "_model_name": "LayoutModel",
            "_view_count": null,
            "_view_module": "@jupyter-widgets/base",
            "_view_module_version": "1.2.0",
            "_view_name": "LayoutView",
            "align_content": null,
            "align_items": null,
            "align_self": null,
            "border": null,
            "bottom": null,
            "display": null,
            "flex": null,
            "flex_flow": null,
            "grid_area": null,
            "grid_auto_columns": null,
            "grid_auto_flow": null,
            "grid_auto_rows": null,
            "grid_column": null,
            "grid_gap": null,
            "grid_row": null,
            "grid_template_areas": null,
            "grid_template_columns": null,
            "grid_template_rows": null,
            "height": null,
            "justify_content": null,
            "justify_items": null,
            "left": null,
            "margin": null,
            "max_height": null,
            "max_width": null,
            "min_height": null,
            "min_width": null,
            "object_fit": null,
            "object_position": null,
            "order": null,
            "overflow": null,
            "overflow_x": null,
            "overflow_y": null,
            "padding": null,
            "right": null,
            "top": null,
            "visibility": null,
            "width": null
          }
        },
        "674d1916823b40e4a42eaa57415ff8b5": {
          "model_module": "@jupyter-widgets/controls",
          "model_name": "ButtonStyleModel",
          "model_module_version": "1.5.0",
          "state": {
            "_model_module": "@jupyter-widgets/controls",
            "_model_module_version": "1.5.0",
            "_model_name": "ButtonStyleModel",
            "_view_count": null,
            "_view_module": "@jupyter-widgets/base",
            "_view_module_version": "1.2.0",
            "_view_name": "StyleView",
            "button_color": null,
            "font_weight": ""
          }
        },
        "9bf43bcc8f1148e5aa972b5f46a54883": {
          "model_module": "@jupyter-widgets/controls",
          "model_name": "DropdownModel",
          "model_module_version": "1.5.0",
          "state": {
            "_dom_classes": [],
            "_model_module": "@jupyter-widgets/controls",
            "_model_module_version": "1.5.0",
            "_model_name": "DropdownModel",
            "_options_labels": [
              "Select option",
              "1to2grams-filtered",
              "1to2grams-unfiltered",
              "topics"
            ],
            "_view_count": null,
            "_view_module": "@jupyter-widgets/controls",
            "_view_module_version": "1.5.0",
            "_view_name": "DropdownView",
            "description": "Features:",
            "description_tooltip": null,
            "disabled": false,
            "index": 0,
            "layout": "IPY_MODEL_8a812c19d77341daa998be5303b4f258",
            "style": "IPY_MODEL_b0a4aac650854053a174eae59abd8d1f"
          }
        },
        "8a812c19d77341daa998be5303b4f258": {
          "model_module": "@jupyter-widgets/base",
          "model_name": "LayoutModel",
          "model_module_version": "1.2.0",
          "state": {
            "_model_module": "@jupyter-widgets/base",
            "_model_module_version": "1.2.0",
            "_model_name": "LayoutModel",
            "_view_count": null,
            "_view_module": "@jupyter-widgets/base",
            "_view_module_version": "1.2.0",
            "_view_name": "LayoutView",
            "align_content": null,
            "align_items": null,
            "align_self": null,
            "border": null,
            "bottom": null,
            "display": null,
            "flex": null,
            "flex_flow": null,
            "grid_area": null,
            "grid_auto_columns": null,
            "grid_auto_flow": null,
            "grid_auto_rows": null,
            "grid_column": null,
            "grid_gap": null,
            "grid_row": null,
            "grid_template_areas": null,
            "grid_template_columns": null,
            "grid_template_rows": null,
            "height": null,
            "justify_content": null,
            "justify_items": null,
            "left": null,
            "margin": null,
            "max_height": null,
            "max_width": null,
            "min_height": null,
            "min_width": null,
            "object_fit": null,
            "object_position": null,
            "order": null,
            "overflow": null,
            "overflow_x": null,
            "overflow_y": null,
            "padding": null,
            "right": null,
            "top": null,
            "visibility": null,
            "width": null
          }
        },
        "b0a4aac650854053a174eae59abd8d1f": {
          "model_module": "@jupyter-widgets/controls",
          "model_name": "DescriptionStyleModel",
          "model_module_version": "1.5.0",
          "state": {
            "_model_module": "@jupyter-widgets/controls",
            "_model_module_version": "1.5.0",
            "_model_name": "DescriptionStyleModel",
            "_view_count": null,
            "_view_module": "@jupyter-widgets/base",
            "_view_module_version": "1.2.0",
            "_view_name": "StyleView",
            "description_width": ""
          }
        },
        "4a0287e1d1774fe5a0a9954f15c95e88": {
          "model_module": "@jupyter-widgets/controls",
          "model_name": "DropdownModel",
          "model_module_version": "1.5.0",
          "state": {
            "_dom_classes": [],
            "_model_module": "@jupyter-widgets/controls",
            "_model_module_version": "1.5.0",
            "_model_name": "DropdownModel",
            "_options_labels": [
              "Upload from desktop",
              "msgs404u.csv"
            ],
            "_view_count": null,
            "_view_module": "@jupyter-widgets/controls",
            "_view_module_version": "1.5.0",
            "_view_name": "DropdownView",
            "description": "Select File:",
            "description_tooltip": null,
            "disabled": false,
            "index": 0,
            "layout": "IPY_MODEL_0802e02425b749fdb7691e93e8e9ed9f",
            "style": "IPY_MODEL_cb7f87c30e9f4d0c9cefb55b97dcfc9d"
          }
        },
        "0802e02425b749fdb7691e93e8e9ed9f": {
          "model_module": "@jupyter-widgets/base",
          "model_name": "LayoutModel",
          "model_module_version": "1.2.0",
          "state": {
            "_model_module": "@jupyter-widgets/base",
            "_model_module_version": "1.2.0",
            "_model_name": "LayoutModel",
            "_view_count": null,
            "_view_module": "@jupyter-widgets/base",
            "_view_module_version": "1.2.0",
            "_view_name": "LayoutView",
            "align_content": null,
            "align_items": null,
            "align_self": null,
            "border": null,
            "bottom": null,
            "display": null,
            "flex": null,
            "flex_flow": null,
            "grid_area": null,
            "grid_auto_columns": null,
            "grid_auto_flow": null,
            "grid_auto_rows": null,
            "grid_column": null,
            "grid_gap": null,
            "grid_row": null,
            "grid_template_areas": null,
            "grid_template_columns": null,
            "grid_template_rows": null,
            "height": null,
            "justify_content": null,
            "justify_items": null,
            "left": null,
            "margin": null,
            "max_height": null,
            "max_width": null,
            "min_height": null,
            "min_width": null,
            "object_fit": null,
            "object_position": null,
            "order": null,
            "overflow": null,
            "overflow_x": null,
            "overflow_y": null,
            "padding": null,
            "right": null,
            "top": null,
            "visibility": null,
            "width": null
          }
        },
        "cb7f87c30e9f4d0c9cefb55b97dcfc9d": {
          "model_module": "@jupyter-widgets/controls",
          "model_name": "DescriptionStyleModel",
          "model_module_version": "1.5.0",
          "state": {
            "_model_module": "@jupyter-widgets/controls",
            "_model_module_version": "1.5.0",
            "_model_name": "DescriptionStyleModel",
            "_view_count": null,
            "_view_module": "@jupyter-widgets/base",
            "_view_module_version": "1.2.0",
            "_view_name": "StyleView",
            "description_width": ""
          }
        },
        "32c7a5cb52484de596aee90a4f1cbb83": {
          "model_module": "@jupyter-widgets/controls",
          "model_name": "DropdownModel",
          "model_module_version": "1.5.0",
          "state": {
            "_dom_classes": [],
            "_model_module": "@jupyter-widgets/controls",
            "_model_module_version": "1.5.0",
            "_model_name": "DropdownModel",
            "_options_labels": [
              "created_date",
              "message"
            ],
            "_view_count": null,
            "_view_module": "@jupyter-widgets/controls",
            "_view_module_version": "1.5.0",
            "_view_name": "DropdownView",
            "description": "Text Column:",
            "description_tooltip": null,
            "disabled": false,
            "index": 0,
            "layout": "IPY_MODEL_02ad3ad358fc4ec0b67abcf75532fd04",
            "style": "IPY_MODEL_d272fbb43ff04d71ae1aad75e354919f"
          }
        },
        "02ad3ad358fc4ec0b67abcf75532fd04": {
          "model_module": "@jupyter-widgets/base",
          "model_name": "LayoutModel",
          "model_module_version": "1.2.0",
          "state": {
            "_model_module": "@jupyter-widgets/base",
            "_model_module_version": "1.2.0",
            "_model_name": "LayoutModel",
            "_view_count": null,
            "_view_module": "@jupyter-widgets/base",
            "_view_module_version": "1.2.0",
            "_view_name": "LayoutView",
            "align_content": null,
            "align_items": null,
            "align_self": null,
            "border": null,
            "bottom": null,
            "display": null,
            "flex": null,
            "flex_flow": null,
            "grid_area": null,
            "grid_auto_columns": null,
            "grid_auto_flow": null,
            "grid_auto_rows": null,
            "grid_column": null,
            "grid_gap": null,
            "grid_row": null,
            "grid_template_areas": null,
            "grid_template_columns": null,
            "grid_template_rows": null,
            "height": null,
            "justify_content": null,
            "justify_items": null,
            "left": null,
            "margin": null,
            "max_height": null,
            "max_width": null,
            "min_height": null,
            "min_width": null,
            "object_fit": null,
            "object_position": null,
            "order": null,
            "overflow": null,
            "overflow_x": null,
            "overflow_y": null,
            "padding": null,
            "right": null,
            "top": null,
            "visibility": null,
            "width": null
          }
        },
        "d272fbb43ff04d71ae1aad75e354919f": {
          "model_module": "@jupyter-widgets/controls",
          "model_name": "DescriptionStyleModel",
          "model_module_version": "1.5.0",
          "state": {
            "_model_module": "@jupyter-widgets/controls",
            "_model_module_version": "1.5.0",
            "_model_name": "DescriptionStyleModel",
            "_view_count": null,
            "_view_module": "@jupyter-widgets/base",
            "_view_module_version": "1.2.0",
            "_view_name": "StyleView",
            "description_width": ""
          }
        },
        "0fe65a5d49884d42976ac045e3744e3d": {
          "model_module": "@jupyter-widgets/controls",
          "model_name": "DropdownModel",
          "model_module_version": "1.5.0",
          "state": {
            "_dom_classes": [],
            "_model_module": "@jupyter-widgets/controls",
            "_model_module_version": "1.5.0",
            "_model_name": "DropdownModel",
            "_options_labels": [
              "message_id",
              "user_id"
            ],
            "_view_count": null,
            "_view_module": "@jupyter-widgets/controls",
            "_view_module_version": "1.5.0",
            "_view_name": "DropdownView",
            "description": "ID Column:",
            "description_tooltip": null,
            "disabled": false,
            "index": 0,
            "layout": "IPY_MODEL_c776b0a5849b493b96ac1935fd9489f0",
            "style": "IPY_MODEL_3d9bfbbd34f448e791c5476bea8f6e03"
          }
        },
        "c776b0a5849b493b96ac1935fd9489f0": {
          "model_module": "@jupyter-widgets/base",
          "model_name": "LayoutModel",
          "model_module_version": "1.2.0",
          "state": {
            "_model_module": "@jupyter-widgets/base",
            "_model_module_version": "1.2.0",
            "_model_name": "LayoutModel",
            "_view_count": null,
            "_view_module": "@jupyter-widgets/base",
            "_view_module_version": "1.2.0",
            "_view_name": "LayoutView",
            "align_content": null,
            "align_items": null,
            "align_self": null,
            "border": null,
            "bottom": null,
            "display": null,
            "flex": null,
            "flex_flow": null,
            "grid_area": null,
            "grid_auto_columns": null,
            "grid_auto_flow": null,
            "grid_auto_rows": null,
            "grid_column": null,
            "grid_gap": null,
            "grid_row": null,
            "grid_template_areas": null,
            "grid_template_columns": null,
            "grid_template_rows": null,
            "height": null,
            "justify_content": null,
            "justify_items": null,
            "left": null,
            "margin": null,
            "max_height": null,
            "max_width": null,
            "min_height": null,
            "min_width": null,
            "object_fit": null,
            "object_position": null,
            "order": null,
            "overflow": null,
            "overflow_x": null,
            "overflow_y": null,
            "padding": null,
            "right": null,
            "top": null,
            "visibility": null,
            "width": null
          }
        },
        "3d9bfbbd34f448e791c5476bea8f6e03": {
          "model_module": "@jupyter-widgets/controls",
          "model_name": "DescriptionStyleModel",
          "model_module_version": "1.5.0",
          "state": {
            "_model_module": "@jupyter-widgets/controls",
            "_model_module_version": "1.5.0",
            "_model_name": "DescriptionStyleModel",
            "_view_count": null,
            "_view_module": "@jupyter-widgets/base",
            "_view_module_version": "1.2.0",
            "_view_name": "StyleView",
            "description_width": ""
          }
        },
        "ec8d2cda3f114895af4bb0ec1c4fdeef": {
          "model_module": "@jupyter-widgets/controls",
          "model_name": "ButtonModel",
          "model_module_version": "1.5.0",
          "state": {
            "_dom_classes": [],
            "_model_module": "@jupyter-widgets/controls",
            "_model_module_version": "1.5.0",
            "_model_name": "ButtonModel",
            "_view_count": null,
            "_view_module": "@jupyter-widgets/controls",
            "_view_module_version": "1.5.0",
            "_view_name": "ButtonView",
            "button_style": "",
            "description": "Confirm Columns",
            "disabled": false,
            "icon": "",
            "layout": "IPY_MODEL_909f2b24e17b4c7bbb2356e4c28b4d2e",
            "style": "IPY_MODEL_1364c04385b248c68ea2621b5d969064",
            "tooltip": ""
          }
        },
        "909f2b24e17b4c7bbb2356e4c28b4d2e": {
          "model_module": "@jupyter-widgets/base",
          "model_name": "LayoutModel",
          "model_module_version": "1.2.0",
          "state": {
            "_model_module": "@jupyter-widgets/base",
            "_model_module_version": "1.2.0",
            "_model_name": "LayoutModel",
            "_view_count": null,
            "_view_module": "@jupyter-widgets/base",
            "_view_module_version": "1.2.0",
            "_view_name": "LayoutView",
            "align_content": null,
            "align_items": null,
            "align_self": null,
            "border": null,
            "bottom": null,
            "display": null,
            "flex": null,
            "flex_flow": null,
            "grid_area": null,
            "grid_auto_columns": null,
            "grid_auto_flow": null,
            "grid_auto_rows": null,
            "grid_column": null,
            "grid_gap": null,
            "grid_row": null,
            "grid_template_areas": null,
            "grid_template_columns": null,
            "grid_template_rows": null,
            "height": null,
            "justify_content": null,
            "justify_items": null,
            "left": null,
            "margin": null,
            "max_height": null,
            "max_width": null,
            "min_height": null,
            "min_width": null,
            "object_fit": null,
            "object_position": null,
            "order": null,
            "overflow": null,
            "overflow_x": null,
            "overflow_y": null,
            "padding": null,
            "right": null,
            "top": null,
            "visibility": null,
            "width": null
          }
        },
        "1364c04385b248c68ea2621b5d969064": {
          "model_module": "@jupyter-widgets/controls",
          "model_name": "ButtonStyleModel",
          "model_module_version": "1.5.0",
          "state": {
            "_model_module": "@jupyter-widgets/controls",
            "_model_module_version": "1.5.0",
            "_model_name": "ButtonStyleModel",
            "_view_count": null,
            "_view_module": "@jupyter-widgets/base",
            "_view_module_version": "1.2.0",
            "_view_name": "StyleView",
            "button_color": null,
            "font_weight": ""
          }
        },
        "43e33969a1ba4b8e94310de7a89c5dfd": {
          "model_module": "@jupyter-widgets/controls",
          "model_name": "DropdownModel",
          "model_module_version": "1.5.0",
          "state": {
            "_dom_classes": [],
            "_model_module": "@jupyter-widgets/controls",
            "_model_module_version": "1.5.0",
            "_model_name": "DropdownModel",
            "_options_labels": [
              "Select option",
              "1to2grams-filtered",
              "1to2grams-unfiltered",
              "topics"
            ],
            "_view_count": null,
            "_view_module": "@jupyter-widgets/controls",
            "_view_module_version": "1.5.0",
            "_view_name": "DropdownView",
            "description": "Features:",
            "description_tooltip": null,
            "disabled": false,
            "index": 0,
            "layout": "IPY_MODEL_6843fcd1738c4a4499b185d338267aee",
            "style": "IPY_MODEL_97de88d708214ba595bca41978a1536b"
          }
        },
        "6843fcd1738c4a4499b185d338267aee": {
          "model_module": "@jupyter-widgets/base",
          "model_name": "LayoutModel",
          "model_module_version": "1.2.0",
          "state": {
            "_model_module": "@jupyter-widgets/base",
            "_model_module_version": "1.2.0",
            "_model_name": "LayoutModel",
            "_view_count": null,
            "_view_module": "@jupyter-widgets/base",
            "_view_module_version": "1.2.0",
            "_view_name": "LayoutView",
            "align_content": null,
            "align_items": null,
            "align_self": null,
            "border": null,
            "bottom": null,
            "display": null,
            "flex": null,
            "flex_flow": null,
            "grid_area": null,
            "grid_auto_columns": null,
            "grid_auto_flow": null,
            "grid_auto_rows": null,
            "grid_column": null,
            "grid_gap": null,
            "grid_row": null,
            "grid_template_areas": null,
            "grid_template_columns": null,
            "grid_template_rows": null,
            "height": null,
            "justify_content": null,
            "justify_items": null,
            "left": null,
            "margin": null,
            "max_height": null,
            "max_width": null,
            "min_height": null,
            "min_width": null,
            "object_fit": null,
            "object_position": null,
            "order": null,
            "overflow": null,
            "overflow_x": null,
            "overflow_y": null,
            "padding": null,
            "right": null,
            "top": null,
            "visibility": null,
            "width": null
          }
        },
        "97de88d708214ba595bca41978a1536b": {
          "model_module": "@jupyter-widgets/controls",
          "model_name": "DescriptionStyleModel",
          "model_module_version": "1.5.0",
          "state": {
            "_model_module": "@jupyter-widgets/controls",
            "_model_module_version": "1.5.0",
            "_model_name": "DescriptionStyleModel",
            "_view_count": null,
            "_view_module": "@jupyter-widgets/base",
            "_view_module_version": "1.2.0",
            "_view_name": "StyleView",
            "description_width": ""
          }
        },
        "1ef3c741e14940599ebf75128461cb2c": {
          "model_module": "@jupyter-widgets/controls",
          "model_name": "ButtonModel",
          "model_module_version": "1.5.0",
          "state": {
            "_dom_classes": [],
            "_model_module": "@jupyter-widgets/controls",
            "_model_module_version": "1.5.0",
            "_model_name": "ButtonModel",
            "_view_count": null,
            "_view_module": "@jupyter-widgets/controls",
            "_view_module_version": "1.5.0",
            "_view_name": "ButtonView",
            "button_style": "",
            "description": "Extract Features",
            "disabled": false,
            "icon": "",
            "layout": "IPY_MODEL_493acc96eab743e197ca05af9d14387e",
            "style": "IPY_MODEL_c39124a402b84a8ba4079c1b279b3f63",
            "tooltip": ""
          }
        },
        "493acc96eab743e197ca05af9d14387e": {
          "model_module": "@jupyter-widgets/base",
          "model_name": "LayoutModel",
          "model_module_version": "1.2.0",
          "state": {
            "_model_module": "@jupyter-widgets/base",
            "_model_module_version": "1.2.0",
            "_model_name": "LayoutModel",
            "_view_count": null,
            "_view_module": "@jupyter-widgets/base",
            "_view_module_version": "1.2.0",
            "_view_name": "LayoutView",
            "align_content": null,
            "align_items": null,
            "align_self": null,
            "border": null,
            "bottom": null,
            "display": null,
            "flex": null,
            "flex_flow": null,
            "grid_area": null,
            "grid_auto_columns": null,
            "grid_auto_flow": null,
            "grid_auto_rows": null,
            "grid_column": null,
            "grid_gap": null,
            "grid_row": null,
            "grid_template_areas": null,
            "grid_template_columns": null,
            "grid_template_rows": null,
            "height": null,
            "justify_content": null,
            "justify_items": null,
            "left": null,
            "margin": null,
            "max_height": null,
            "max_width": null,
            "min_height": null,
            "min_width": null,
            "object_fit": null,
            "object_position": null,
            "order": null,
            "overflow": null,
            "overflow_x": null,
            "overflow_y": null,
            "padding": null,
            "right": null,
            "top": null,
            "visibility": null,
            "width": null
          }
        },
        "c39124a402b84a8ba4079c1b279b3f63": {
          "model_module": "@jupyter-widgets/controls",
          "model_name": "ButtonStyleModel",
          "model_module_version": "1.5.0",
          "state": {
            "_model_module": "@jupyter-widgets/controls",
            "_model_module_version": "1.5.0",
            "_model_name": "ButtonStyleModel",
            "_view_count": null,
            "_view_module": "@jupyter-widgets/base",
            "_view_module_version": "1.2.0",
            "_view_name": "StyleView",
            "button_color": null,
            "font_weight": ""
          }
        }
      }
    }
  },
  "nbformat": 4,
  "nbformat_minor": 0
}